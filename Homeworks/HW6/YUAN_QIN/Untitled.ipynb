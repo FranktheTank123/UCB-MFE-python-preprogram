{
 "cells": [
  {
   "cell_type": "code",
   "execution_count": 1,
   "id": "c35e1172-e35f-4e58-b91c-3b90e93574d4",
   "metadata": {},
   "outputs": [],
   "source": [
    "def evolve(data):\n",
    "    row_s = len(data)\n",
    "    col_s = len(data[0])\n",
    "    states = [[0 for i in range(col_s)] for j in range(row_s)]\n",
    "\n",
    "    for row in range(row_s):\n",
    "        for col in range(col_s):\n",
    "            alive = 0\n",
    "            for n_row in range(max(row - 1, 0), min(row + 2, row_s)):\n",
    "                for n_col in range(max(col - 1, 0), min(col + 2, col_s)):\n",
    "                    alive+= data[n_row][n_col]\n",
    "            if data[row][col] and alive - 1 in [2, 3]:\n",
    "                states[row][col] = 1\n",
    "            elif data[row][col]==0 and alive == 3:\n",
    "                states[row][col] = 1\n",
    "            else:\n",
    "                states[row][col] = 0\n",
    "    return states\n",
    "\n",
    "test_case_1 = [\n",
    "    [0, 0, 0, 0],\n",
    "    [0, 1, 1, 0],\n",
    "    [0, 1, 1, 0],\n",
    "    [0, 0, 0, 0],\n",
    "]\n",
    "\n",
    "test_case_2 = [\n",
    "    [0, 0, 0, 0, 0],\n",
    "    [0, 0, 1, 0, 0],\n",
    "    [0, 0, 1, 0, 0], \n",
    "    [0, 0, 1, 0, 0],\n",
    "    [0, 0, 0, 0, 0],\n",
    "]         \n",
    "         \n",
    "test_case_2_next = [\n",
    "    [0, 0, 0, 0, 0],\n",
    "    [0, 0, 0, 0, 0],\n",
    "    [0, 1, 1, 1, 0],\n",
    "    [0, 0, 0, 0, 0],\n",
    "    [0, 0, 0, 0, 0],\n",
    "]   \n",
    "    \n",
    "assert evolve(test_case_1) == test_case_1\n",
    "assert evolve(test_case_2) == test_case_2_next\n"
   ]
  },
  {
   "cell_type": "code",
   "execution_count": null,
   "id": "215509f4-149e-4116-8190-68243969101b",
   "metadata": {},
   "outputs": [],
   "source": []
  }
 ],
 "metadata": {
  "kernelspec": {
   "display_name": "Python 3",
   "language": "python",
   "name": "python3"
  },
  "language_info": {
   "codemirror_mode": {
    "name": "ipython",
    "version": 3
   },
   "file_extension": ".py",
   "mimetype": "text/x-python",
   "name": "python",
   "nbconvert_exporter": "python",
   "pygments_lexer": "ipython3",
   "version": "3.8.8"
  }
 },
 "nbformat": 4,
 "nbformat_minor": 5
}
