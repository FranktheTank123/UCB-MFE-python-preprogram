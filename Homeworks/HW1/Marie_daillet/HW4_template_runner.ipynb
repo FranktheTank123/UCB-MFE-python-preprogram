{
 "cells": [
  {
   "cell_type": "markdown",
   "metadata": {},
   "source": [
    "## Homework 4 : market analysis runner template"
   ]
  },
  {
   "cell_type": "code",
   "execution_count": 23,
   "metadata": {},
   "outputs": [],
   "source": [
    "import papermill as pm\n",
    "import scrapbook as sb\n",
    "import pandas as pd\n",
    "from datetime import datetime, timedelta\n",
    "import os"
   ]
  },
  {
   "cell_type": "code",
   "execution_count": 24,
   "metadata": {},
   "outputs": [],
   "source": [
    "def last_dow(d: datetime, dow: int) -> datetime:\n",
    "    '''\n",
    "    Gets the date of the last day of week, using datetime convention of Monday is 0 and Sunday is 6\n",
    "    '''\n",
    "    dow_d = d.weekday()\n",
    "    days_delta = (7 - dow) + dow_d if dow_d < dow else dow_d - dow\n",
    "    return d - timedelta(days=days_delta)"
   ]
  },
  {
   "cell_type": "code",
   "execution_count": 25,
   "metadata": {},
   "outputs": [
    {
     "data": {
      "text/html": [
       "<div>\n",
       "<style scoped>\n",
       "    .dataframe tbody tr th:only-of-type {\n",
       "        vertical-align: middle;\n",
       "    }\n",
       "\n",
       "    .dataframe tbody tr th {\n",
       "        vertical-align: top;\n",
       "    }\n",
       "\n",
       "    .dataframe thead th {\n",
       "        text-align: right;\n",
       "    }\n",
       "</style>\n",
       "<table border=\"1\" class=\"dataframe\">\n",
       "  <thead>\n",
       "    <tr style=\"text-align: right;\">\n",
       "      <th></th>\n",
       "      <th>token</th>\n",
       "    </tr>\n",
       "  </thead>\n",
       "  <tbody>\n",
       "    <tr>\n",
       "      <th>0</th>\n",
       "      <td>BTC</td>\n",
       "    </tr>\n",
       "    <tr>\n",
       "      <th>1057</th>\n",
       "      <td>ETH</td>\n",
       "    </tr>\n",
       "    <tr>\n",
       "      <th>2114</th>\n",
       "      <td>USDT</td>\n",
       "    </tr>\n",
       "    <tr>\n",
       "      <th>3171</th>\n",
       "      <td>SOL</td>\n",
       "    </tr>\n",
       "    <tr>\n",
       "      <th>4228</th>\n",
       "      <td>ADA</td>\n",
       "    </tr>\n",
       "    <tr>\n",
       "      <th>5285</th>\n",
       "      <td>DOT</td>\n",
       "    </tr>\n",
       "    <tr>\n",
       "      <th>6342</th>\n",
       "      <td>AVAX</td>\n",
       "    </tr>\n",
       "    <tr>\n",
       "      <th>7399</th>\n",
       "      <td>ATOM</td>\n",
       "    </tr>\n",
       "    <tr>\n",
       "      <th>8456</th>\n",
       "      <td>CRV</td>\n",
       "    </tr>\n",
       "    <tr>\n",
       "      <th>9513</th>\n",
       "      <td>AAVE</td>\n",
       "    </tr>\n",
       "    <tr>\n",
       "      <th>10570</th>\n",
       "      <td>COMP</td>\n",
       "    </tr>\n",
       "  </tbody>\n",
       "</table>\n",
       "</div>"
      ],
      "text/plain": [
       "      token\n",
       "0       BTC\n",
       "1057    ETH\n",
       "2114   USDT\n",
       "3171    SOL\n",
       "4228    ADA\n",
       "5285    DOT\n",
       "6342   AVAX\n",
       "7399   ATOM\n",
       "8456    CRV\n",
       "9513   AAVE\n",
       "10570  COMP"
      ]
     },
     "execution_count": 25,
     "metadata": {},
     "output_type": "execute_result"
    }
   ],
   "source": [
    "connection_string = 'sqlite:///data/data.db'\n",
    "\n",
    "get_token_names = pd.read_sql(f'''\n",
    "SELECT token \n",
    "FROM ohlc ''', connection_string)\n",
    "\n",
    "token_list = get_token_names.drop_duplicates()\n",
    "token_list"
   ]
  },
  {
   "cell_type": "code",
   "execution_count": 26,
   "metadata": {},
   "outputs": [],
   "source": [
    "run_dates = [(last_dow(datetime(2021, 12, 14), 4) + timedelta(days=7 * x)) for x in range(2)]\n",
    "tokens = ['BTC', 'ETH', 'USDT', 'SOL', 'ADA', 'DOT', 'AVAX', 'ATOM', 'CRV', 'AAVE', 'COMP']\n",
    "connection_string = 'sqlite:///data/data.db'"
   ]
  },
  {
   "cell_type": "code",
   "execution_count": 27,
   "metadata": {},
   "outputs": [],
   "source": [
    "base_output_folder = os.path.expanduser('outputs')\n",
    "\n",
    "if not os.path.exists(base_output_folder):\n",
    "        os.makedirs(base_output_folder)"
   ]
  },
  {
   "cell_type": "code",
   "execution_count": 28,
   "metadata": {
    "collapsed": true,
    "jupyter": {
     "outputs_hidden": true
    }
   },
   "outputs": [
    {
     "name": "stdout",
     "output_type": "stream",
     "text": [
      "running for BTC for date 2021-12-10 00:00:00 to 2021-12-17 00:00:00\r"
     ]
    },
    {
     "data": {
      "application/vnd.jupyter.widget-view+json": {
       "model_id": "5f359d13641445ef8a90fd62ecb59188",
       "version_major": 2,
       "version_minor": 0
      },
      "text/plain": [
       "HBox(children=(HTML(value='Executing'), FloatProgress(value=0.0, max=14.0), HTML(value='')))"
      ]
     },
     "metadata": {},
     "output_type": "display_data"
    },
    {
     "name": "stdout",
     "output_type": "stream",
     "text": [
      "\n",
      "running for ETH for date 2021-12-10 00:00:00 to 2021-12-17 00:00:00\r"
     ]
    },
    {
     "data": {
      "application/vnd.jupyter.widget-view+json": {
       "model_id": "63c7961287e54fde9d7b6b47bf8d8980",
       "version_major": 2,
       "version_minor": 0
      },
      "text/plain": [
       "HBox(children=(HTML(value='Executing'), FloatProgress(value=0.0, max=14.0), HTML(value='')))"
      ]
     },
     "metadata": {},
     "output_type": "display_data"
    },
    {
     "name": "stdout",
     "output_type": "stream",
     "text": [
      "\n",
      "running for USDT for date 2021-12-10 00:00:00 to 2021-12-17 00:00:00\r"
     ]
    },
    {
     "data": {
      "application/vnd.jupyter.widget-view+json": {
       "model_id": "e57c25dc453d47c9b134f1cf05952a41",
       "version_major": 2,
       "version_minor": 0
      },
      "text/plain": [
       "HBox(children=(HTML(value='Executing'), FloatProgress(value=0.0, max=14.0), HTML(value='')))"
      ]
     },
     "metadata": {},
     "output_type": "display_data"
    },
    {
     "name": "stdout",
     "output_type": "stream",
     "text": [
      "\n",
      "running for SOL for date 2021-12-10 00:00:00 to 2021-12-17 00:00:00\r"
     ]
    },
    {
     "data": {
      "application/vnd.jupyter.widget-view+json": {
       "model_id": "3784cb14da304499927133822ca9bc3a",
       "version_major": 2,
       "version_minor": 0
      },
      "text/plain": [
       "HBox(children=(HTML(value='Executing'), FloatProgress(value=0.0, max=14.0), HTML(value='')))"
      ]
     },
     "metadata": {},
     "output_type": "display_data"
    },
    {
     "name": "stdout",
     "output_type": "stream",
     "text": [
      "\n",
      "running for ADA for date 2021-12-10 00:00:00 to 2021-12-17 00:00:00\r"
     ]
    },
    {
     "data": {
      "application/vnd.jupyter.widget-view+json": {
       "model_id": "8d17129a9a1a433aad8c77f29c027543",
       "version_major": 2,
       "version_minor": 0
      },
      "text/plain": [
       "HBox(children=(HTML(value='Executing'), FloatProgress(value=0.0, max=14.0), HTML(value='')))"
      ]
     },
     "metadata": {},
     "output_type": "display_data"
    },
    {
     "name": "stdout",
     "output_type": "stream",
     "text": [
      "\n",
      "running for DOT for date 2021-12-10 00:00:00 to 2021-12-17 00:00:00\r"
     ]
    },
    {
     "data": {
      "application/vnd.jupyter.widget-view+json": {
       "model_id": "4273cbe3653941e9ae2f52c801f21609",
       "version_major": 2,
       "version_minor": 0
      },
      "text/plain": [
       "HBox(children=(HTML(value='Executing'), FloatProgress(value=0.0, max=14.0), HTML(value='')))"
      ]
     },
     "metadata": {},
     "output_type": "display_data"
    },
    {
     "name": "stdout",
     "output_type": "stream",
     "text": [
      "\n",
      "running for AVAX for date 2021-12-10 00:00:00 to 2021-12-17 00:00:00\r"
     ]
    },
    {
     "data": {
      "application/vnd.jupyter.widget-view+json": {
       "model_id": "652ef6527d554e23b720b6866ca50085",
       "version_major": 2,
       "version_minor": 0
      },
      "text/plain": [
       "HBox(children=(HTML(value='Executing'), FloatProgress(value=0.0, max=14.0), HTML(value='')))"
      ]
     },
     "metadata": {},
     "output_type": "display_data"
    },
    {
     "name": "stdout",
     "output_type": "stream",
     "text": [
      "\n",
      "running for ATOM for date 2021-12-10 00:00:00 to 2021-12-17 00:00:00\r"
     ]
    },
    {
     "data": {
      "application/vnd.jupyter.widget-view+json": {
       "model_id": "ed4f8d9176e747beb8bc6586edd4c246",
       "version_major": 2,
       "version_minor": 0
      },
      "text/plain": [
       "HBox(children=(HTML(value='Executing'), FloatProgress(value=0.0, max=14.0), HTML(value='')))"
      ]
     },
     "metadata": {},
     "output_type": "display_data"
    },
    {
     "name": "stdout",
     "output_type": "stream",
     "text": [
      "\n",
      "running for CRV for date 2021-12-10 00:00:00 to 2021-12-17 00:00:00\r"
     ]
    },
    {
     "data": {
      "application/vnd.jupyter.widget-view+json": {
       "model_id": "7ba09a8070844f4e838a051f25562789",
       "version_major": 2,
       "version_minor": 0
      },
      "text/plain": [
       "HBox(children=(HTML(value='Executing'), FloatProgress(value=0.0, max=14.0), HTML(value='')))"
      ]
     },
     "metadata": {},
     "output_type": "display_data"
    },
    {
     "name": "stdout",
     "output_type": "stream",
     "text": [
      "\n",
      "running for AAVE for date 2021-12-10 00:00:00 to 2021-12-17 00:00:00\r"
     ]
    },
    {
     "data": {
      "application/vnd.jupyter.widget-view+json": {
       "model_id": "41b9716d5ee74c4f994eed89298d70d7",
       "version_major": 2,
       "version_minor": 0
      },
      "text/plain": [
       "HBox(children=(HTML(value='Executing'), FloatProgress(value=0.0, max=14.0), HTML(value='')))"
      ]
     },
     "metadata": {},
     "output_type": "display_data"
    },
    {
     "name": "stdout",
     "output_type": "stream",
     "text": [
      "\n",
      "running for COMP for date 2021-12-10 00:00:00 to 2021-12-17 00:00:00\r"
     ]
    },
    {
     "data": {
      "application/vnd.jupyter.widget-view+json": {
       "model_id": "8211742b98ca4102a45c96639b4e372c",
       "version_major": 2,
       "version_minor": 0
      },
      "text/plain": [
       "HBox(children=(HTML(value='Executing'), FloatProgress(value=0.0, max=14.0), HTML(value='')))"
      ]
     },
     "metadata": {},
     "output_type": "display_data"
    },
    {
     "name": "stdout",
     "output_type": "stream",
     "text": [
      "\n",
      "running for BTC for date 2021-12-17 00:00:00 to 2021-12-24 00:00:00\r"
     ]
    },
    {
     "data": {
      "application/vnd.jupyter.widget-view+json": {
       "model_id": "cd14577291874a419ac0e0852bbe1bdf",
       "version_major": 2,
       "version_minor": 0
      },
      "text/plain": [
       "HBox(children=(HTML(value='Executing'), FloatProgress(value=0.0, max=14.0), HTML(value='')))"
      ]
     },
     "metadata": {},
     "output_type": "display_data"
    },
    {
     "name": "stdout",
     "output_type": "stream",
     "text": [
      "\n"
     ]
    },
    {
     "ename": "PapermillExecutionError",
     "evalue": "\n---------------------------------------------------------------------------\nException encountered at \"In [8]\":\n---------------------------------------------------------------------------\nAttributeError                            Traceback (most recent call last)\nAttributeError: 'float' object has no attribute 'log'\n\nThe above exception was the direct cause of the following exception:\n\nTypeError                                 Traceback (most recent call last)\n<ipython-input-8-7086ff26dc59> in <module>\n      1 prices['hourly_return'] = hourly_return(prices)\n----> 2 prices['hourly_vol'] = vol_ohlc(prices, lookback=10)\n      3 prices['maximum_drawdown'] = maximum_drawdown(prices)\n\n<ipython-input-3-7c55c645c807> in vol_ohlc(df, lookback)\n      7     k = 0.34 / (1.34 + (lookback+1)/(lookback-1))\n      8     cc = np.log(c/c.shift(1))\n----> 9     ho = np.log(h/o)\n     10     lo = np.log(l/o)\n     11     co = np.log(c/o)\n\n~/opt/anaconda3/lib/python3.8/site-packages/pandas/core/generic.py in __array_ufunc__(self, ufunc, method, *inputs, **kwargs)\n   2030         self, ufunc: np.ufunc, method: str, *inputs: Any, **kwargs: Any\n   2031     ):\n-> 2032         return arraylike.array_ufunc(self, ufunc, method, *inputs, **kwargs)\n   2033 \n   2034     # ideally we would define this to avoid the getattr checks, but\n\n~/opt/anaconda3/lib/python3.8/site-packages/pandas/core/arraylike.py in array_ufunc(self, ufunc, method, *inputs, **kwargs)\n    362         # ufunc(series, ...)\n    363         inputs = tuple(extract_array(x, extract_numpy=True) for x in inputs)\n--> 364         result = getattr(ufunc, method)(*inputs, **kwargs)\n    365     else:\n    366         # ufunc(dataframe)\n\nTypeError: loop of ufunc does not support argument 0 of type float which has no callable log method\n",
     "output_type": "error",
     "traceback": [
      "\u001b[0;31m---------------------------------------------------------------------------\u001b[0m",
      "\u001b[0;31mPapermillExecutionError\u001b[0m                   Traceback (most recent call last)",
      "\u001b[0;32m<ipython-input-28-968ddffeb8ed>\u001b[0m in \u001b[0;36m<module>\u001b[0;34m\u001b[0m\n\u001b[1;32m      2\u001b[0m     \u001b[0;32mfor\u001b[0m \u001b[0mtoken\u001b[0m \u001b[0;32min\u001b[0m \u001b[0mtokens\u001b[0m\u001b[0;34m:\u001b[0m\u001b[0;34m\u001b[0m\u001b[0;34m\u001b[0m\u001b[0m\n\u001b[1;32m      3\u001b[0m         \u001b[0mprint\u001b[0m\u001b[0;34m(\u001b[0m\u001b[0;34mf'running for {token} for date {run_date} to {run_date + timedelta(days=7)}'\u001b[0m\u001b[0;34m,\u001b[0m \u001b[0mend\u001b[0m\u001b[0;34m=\u001b[0m\u001b[0;34m'\\r'\u001b[0m\u001b[0;34m)\u001b[0m\u001b[0;34m\u001b[0m\u001b[0;34m\u001b[0m\u001b[0m\n\u001b[0;32m----> 4\u001b[0;31m         res = pm.execute_notebook(\n\u001b[0m\u001b[1;32m      5\u001b[0m             \u001b[0;34m'HW4_template_notebook.ipynb'\u001b[0m\u001b[0;34m,\u001b[0m\u001b[0;34m\u001b[0m\u001b[0;34m\u001b[0m\u001b[0m\n\u001b[1;32m      6\u001b[0m             \u001b[0;34mf'{base_output_folder}/market_analysis_{token}_{run_date}.ipynb'\u001b[0m\u001b[0;34m,\u001b[0m\u001b[0;34m\u001b[0m\u001b[0;34m\u001b[0m\u001b[0m\n",
      "\u001b[0;32m~/opt/anaconda3/lib/python3.8/site-packages/papermill/execute.py\u001b[0m in \u001b[0;36mexecute_notebook\u001b[0;34m(input_path, output_path, parameters, engine_name, request_save_on_cell_execute, prepare_only, kernel_name, language, progress_bar, log_output, stdout_file, stderr_file, start_timeout, report_mode, cwd, **engine_kwargs)\u001b[0m\n\u001b[1;32m    120\u001b[0m \u001b[0;34m\u001b[0m\u001b[0m\n\u001b[1;32m    121\u001b[0m             \u001b[0;31m# Check for errors first (it saves on error before raising)\u001b[0m\u001b[0;34m\u001b[0m\u001b[0;34m\u001b[0m\u001b[0;34m\u001b[0m\u001b[0m\n\u001b[0;32m--> 122\u001b[0;31m             \u001b[0mraise_for_execution_errors\u001b[0m\u001b[0;34m(\u001b[0m\u001b[0mnb\u001b[0m\u001b[0;34m,\u001b[0m \u001b[0moutput_path\u001b[0m\u001b[0;34m)\u001b[0m\u001b[0;34m\u001b[0m\u001b[0;34m\u001b[0m\u001b[0m\n\u001b[0m\u001b[1;32m    123\u001b[0m \u001b[0;34m\u001b[0m\u001b[0m\n\u001b[1;32m    124\u001b[0m         \u001b[0;31m# Write final output in case the engine didn't write it on cell completion.\u001b[0m\u001b[0;34m\u001b[0m\u001b[0;34m\u001b[0m\u001b[0;34m\u001b[0m\u001b[0m\n",
      "\u001b[0;32m~/opt/anaconda3/lib/python3.8/site-packages/papermill/execute.py\u001b[0m in \u001b[0;36mraise_for_execution_errors\u001b[0;34m(nb, output_path)\u001b[0m\n\u001b[1;32m    232\u001b[0m \u001b[0;34m\u001b[0m\u001b[0m\n\u001b[1;32m    233\u001b[0m         \u001b[0mwrite_ipynb\u001b[0m\u001b[0;34m(\u001b[0m\u001b[0mnb\u001b[0m\u001b[0;34m,\u001b[0m \u001b[0moutput_path\u001b[0m\u001b[0;34m)\u001b[0m\u001b[0;34m\u001b[0m\u001b[0;34m\u001b[0m\u001b[0m\n\u001b[0;32m--> 234\u001b[0;31m         \u001b[0;32mraise\u001b[0m \u001b[0merror\u001b[0m\u001b[0;34m\u001b[0m\u001b[0;34m\u001b[0m\u001b[0m\n\u001b[0m",
      "\u001b[0;31mPapermillExecutionError\u001b[0m: \n---------------------------------------------------------------------------\nException encountered at \"In [8]\":\n---------------------------------------------------------------------------\nAttributeError                            Traceback (most recent call last)\nAttributeError: 'float' object has no attribute 'log'\n\nThe above exception was the direct cause of the following exception:\n\nTypeError                                 Traceback (most recent call last)\n<ipython-input-8-7086ff26dc59> in <module>\n      1 prices['hourly_return'] = hourly_return(prices)\n----> 2 prices['hourly_vol'] = vol_ohlc(prices, lookback=10)\n      3 prices['maximum_drawdown'] = maximum_drawdown(prices)\n\n<ipython-input-3-7c55c645c807> in vol_ohlc(df, lookback)\n      7     k = 0.34 / (1.34 + (lookback+1)/(lookback-1))\n      8     cc = np.log(c/c.shift(1))\n----> 9     ho = np.log(h/o)\n     10     lo = np.log(l/o)\n     11     co = np.log(c/o)\n\n~/opt/anaconda3/lib/python3.8/site-packages/pandas/core/generic.py in __array_ufunc__(self, ufunc, method, *inputs, **kwargs)\n   2030         self, ufunc: np.ufunc, method: str, *inputs: Any, **kwargs: Any\n   2031     ):\n-> 2032         return arraylike.array_ufunc(self, ufunc, method, *inputs, **kwargs)\n   2033 \n   2034     # ideally we would define this to avoid the getattr checks, but\n\n~/opt/anaconda3/lib/python3.8/site-packages/pandas/core/arraylike.py in array_ufunc(self, ufunc, method, *inputs, **kwargs)\n    362         # ufunc(series, ...)\n    363         inputs = tuple(extract_array(x, extract_numpy=True) for x in inputs)\n--> 364         result = getattr(ufunc, method)(*inputs, **kwargs)\n    365     else:\n    366         # ufunc(dataframe)\n\nTypeError: loop of ufunc does not support argument 0 of type float which has no callable log method\n"
     ]
    }
   ],
   "source": [
    "for run_date in run_dates:\n",
    "    for token in tokens:\n",
    "        print(f'running for {token} for date {run_date} to {run_date + timedelta(days=7)}', end='\\r')\n",
    "        res = pm.execute_notebook(\n",
    "            'HW4_template_notebook.ipynb',\n",
    "            f'{base_output_folder}/market_analysis_{token}_{run_date}.ipynb',\n",
    "            parameters = {\n",
    "                'from_date': f'{run_date}',\n",
    "                'to_date': f'{run_date + timedelta(days=7)}',\n",
    "                'token': token,\n",
    "                'connection_string': connection_string,\n",
    "            }\n",
    "        )"
   ]
  },
  {
   "cell_type": "code",
   "execution_count": 13,
   "metadata": {},
   "outputs": [],
   "source": [
    "nb = sb.read_notebook('outputs/market_analysis_BTC_2021-12-10 00:00:00.ipynb')"
   ]
  },
  {
   "cell_type": "code",
   "execution_count": 14,
   "metadata": {},
   "outputs": [
    {
     "data": {
      "text/html": [
       "<div>\n",
       "<style scoped>\n",
       "    .dataframe tbody tr th:only-of-type {\n",
       "        vertical-align: middle;\n",
       "    }\n",
       "\n",
       "    .dataframe tbody tr th {\n",
       "        vertical-align: top;\n",
       "    }\n",
       "\n",
       "    .dataframe thead th {\n",
       "        text-align: right;\n",
       "    }\n",
       "</style>\n",
       "<table border=\"1\" class=\"dataframe\">\n",
       "  <thead>\n",
       "    <tr style=\"text-align: right;\">\n",
       "      <th></th>\n",
       "      <th>open</th>\n",
       "      <th>high</th>\n",
       "      <th>low</th>\n",
       "      <th>close</th>\n",
       "      <th>volume</th>\n",
       "      <th>volumeUSD</th>\n",
       "      <th>token</th>\n",
       "      <th>chain</th>\n",
       "      <th>hourly_return</th>\n",
       "      <th>hourly_vol</th>\n",
       "      <th>maximum_drawdown</th>\n",
       "    </tr>\n",
       "    <tr>\n",
       "      <th>ts</th>\n",
       "      <th></th>\n",
       "      <th></th>\n",
       "      <th></th>\n",
       "      <th></th>\n",
       "      <th></th>\n",
       "      <th></th>\n",
       "      <th></th>\n",
       "      <th></th>\n",
       "      <th></th>\n",
       "      <th></th>\n",
       "      <th></th>\n",
       "    </tr>\n",
       "  </thead>\n",
       "  <tbody>\n",
       "    <tr>\n",
       "      <th>2021-12-10 00:00:00</th>\n",
       "      <td>47969.65</td>\n",
       "      <td>48278.55</td>\n",
       "      <td>47539.94</td>\n",
       "      <td>47568.43</td>\n",
       "      <td>531.091905</td>\n",
       "      <td>2.546484e+07</td>\n",
       "      <td>BTC</td>\n",
       "      <td>BTC</td>\n",
       "      <td>0.00</td>\n",
       "      <td>NaN</td>\n",
       "      <td>NaN</td>\n",
       "    </tr>\n",
       "    <tr>\n",
       "      <th>2021-12-10 01:00:00</th>\n",
       "      <td>47568.43</td>\n",
       "      <td>48802.92</td>\n",
       "      <td>47455.00</td>\n",
       "      <td>48047.25</td>\n",
       "      <td>989.964794</td>\n",
       "      <td>4.762350e+07</td>\n",
       "      <td>BTC</td>\n",
       "      <td>BTC</td>\n",
       "      <td>478.82</td>\n",
       "      <td>NaN</td>\n",
       "      <td>0.000000</td>\n",
       "    </tr>\n",
       "    <tr>\n",
       "      <th>2021-12-10 02:00:00</th>\n",
       "      <td>48051.10</td>\n",
       "      <td>48579.41</td>\n",
       "      <td>47797.88</td>\n",
       "      <td>48436.79</td>\n",
       "      <td>469.045884</td>\n",
       "      <td>2.262532e+07</td>\n",
       "      <td>BTC</td>\n",
       "      <td>BTC</td>\n",
       "      <td>389.54</td>\n",
       "      <td>NaN</td>\n",
       "      <td>-0.009966</td>\n",
       "    </tr>\n",
       "    <tr>\n",
       "      <th>2021-12-10 03:00:00</th>\n",
       "      <td>48436.78</td>\n",
       "      <td>48805.21</td>\n",
       "      <td>48308.26</td>\n",
       "      <td>48552.18</td>\n",
       "      <td>366.377324</td>\n",
       "      <td>1.778763e+07</td>\n",
       "      <td>BTC</td>\n",
       "      <td>BTC</td>\n",
       "      <td>115.39</td>\n",
       "      <td>NaN</td>\n",
       "      <td>-0.017928</td>\n",
       "    </tr>\n",
       "    <tr>\n",
       "      <th>2021-12-10 04:00:00</th>\n",
       "      <td>48555.79</td>\n",
       "      <td>48605.05</td>\n",
       "      <td>48243.19</td>\n",
       "      <td>48393.18</td>\n",
       "      <td>290.714830</td>\n",
       "      <td>1.407612e+07</td>\n",
       "      <td>BTC</td>\n",
       "      <td>BTC</td>\n",
       "      <td>-159.00</td>\n",
       "      <td>NaN</td>\n",
       "      <td>-0.020262</td>\n",
       "    </tr>\n",
       "    <tr>\n",
       "      <th>...</th>\n",
       "      <td>...</td>\n",
       "      <td>...</td>\n",
       "      <td>...</td>\n",
       "      <td>...</td>\n",
       "      <td>...</td>\n",
       "      <td>...</td>\n",
       "      <td>...</td>\n",
       "      <td>...</td>\n",
       "      <td>...</td>\n",
       "      <td>...</td>\n",
       "      <td>...</td>\n",
       "    </tr>\n",
       "    <tr>\n",
       "      <th>2021-12-14 20:00:00</th>\n",
       "      <td>46658.23</td>\n",
       "      <td>47086.98</td>\n",
       "      <td>46649.03</td>\n",
       "      <td>46877.70</td>\n",
       "      <td>783.748050</td>\n",
       "      <td>3.677161e+07</td>\n",
       "      <td>BTC</td>\n",
       "      <td>BTC</td>\n",
       "      <td>224.42</td>\n",
       "      <td>0.136358</td>\n",
       "      <td>-0.076361</td>\n",
       "    </tr>\n",
       "    <tr>\n",
       "      <th>2021-12-14 21:00:00</th>\n",
       "      <td>46875.95</td>\n",
       "      <td>47890.62</td>\n",
       "      <td>46856.37</td>\n",
       "      <td>47805.73</td>\n",
       "      <td>1634.610294</td>\n",
       "      <td>7.759534e+07</td>\n",
       "      <td>BTC</td>\n",
       "      <td>BTC</td>\n",
       "      <td>928.03</td>\n",
       "      <td>0.142237</td>\n",
       "      <td>-0.076361</td>\n",
       "    </tr>\n",
       "    <tr>\n",
       "      <th>2021-12-14 22:00:00</th>\n",
       "      <td>47805.73</td>\n",
       "      <td>48686.91</td>\n",
       "      <td>47773.01</td>\n",
       "      <td>48303.57</td>\n",
       "      <td>1804.082095</td>\n",
       "      <td>8.714276e+07</td>\n",
       "      <td>BTC</td>\n",
       "      <td>BTC</td>\n",
       "      <td>497.84</td>\n",
       "      <td>0.151148</td>\n",
       "      <td>-0.076361</td>\n",
       "    </tr>\n",
       "    <tr>\n",
       "      <th>2021-12-14 23:00:00</th>\n",
       "      <td>48303.56</td>\n",
       "      <td>48482.90</td>\n",
       "      <td>48008.28</td>\n",
       "      <td>48288.99</td>\n",
       "      <td>675.097958</td>\n",
       "      <td>3.259071e+07</td>\n",
       "      <td>BTC</td>\n",
       "      <td>BTC</td>\n",
       "      <td>-14.58</td>\n",
       "      <td>0.149424</td>\n",
       "      <td>-0.076361</td>\n",
       "    </tr>\n",
       "    <tr>\n",
       "      <th>2021-12-15 00:00:00</th>\n",
       "      <td>48288.99</td>\n",
       "      <td>48398.68</td>\n",
       "      <td>48164.49</td>\n",
       "      <td>48219.09</td>\n",
       "      <td>106.582858</td>\n",
       "      <td>5.145144e+06</td>\n",
       "      <td>BTC</td>\n",
       "      <td>BTC</td>\n",
       "      <td>-69.90</td>\n",
       "      <td>0.143079</td>\n",
       "      <td>-0.076361</td>\n",
       "    </tr>\n",
       "  </tbody>\n",
       "</table>\n",
       "<p>121 rows × 11 columns</p>\n",
       "</div>"
      ],
      "text/plain": [
       "                         open      high       low     close       volume  \\\n",
       "ts                                                                         \n",
       "2021-12-10 00:00:00  47969.65  48278.55  47539.94  47568.43   531.091905   \n",
       "2021-12-10 01:00:00  47568.43  48802.92  47455.00  48047.25   989.964794   \n",
       "2021-12-10 02:00:00  48051.10  48579.41  47797.88  48436.79   469.045884   \n",
       "2021-12-10 03:00:00  48436.78  48805.21  48308.26  48552.18   366.377324   \n",
       "2021-12-10 04:00:00  48555.79  48605.05  48243.19  48393.18   290.714830   \n",
       "...                       ...       ...       ...       ...          ...   \n",
       "2021-12-14 20:00:00  46658.23  47086.98  46649.03  46877.70   783.748050   \n",
       "2021-12-14 21:00:00  46875.95  47890.62  46856.37  47805.73  1634.610294   \n",
       "2021-12-14 22:00:00  47805.73  48686.91  47773.01  48303.57  1804.082095   \n",
       "2021-12-14 23:00:00  48303.56  48482.90  48008.28  48288.99   675.097958   \n",
       "2021-12-15 00:00:00  48288.99  48398.68  48164.49  48219.09   106.582858   \n",
       "\n",
       "                        volumeUSD token chain  hourly_return  hourly_vol  \\\n",
       "ts                                                                         \n",
       "2021-12-10 00:00:00  2.546484e+07   BTC   BTC           0.00         NaN   \n",
       "2021-12-10 01:00:00  4.762350e+07   BTC   BTC         478.82         NaN   \n",
       "2021-12-10 02:00:00  2.262532e+07   BTC   BTC         389.54         NaN   \n",
       "2021-12-10 03:00:00  1.778763e+07   BTC   BTC         115.39         NaN   \n",
       "2021-12-10 04:00:00  1.407612e+07   BTC   BTC        -159.00         NaN   \n",
       "...                           ...   ...   ...            ...         ...   \n",
       "2021-12-14 20:00:00  3.677161e+07   BTC   BTC         224.42    0.136358   \n",
       "2021-12-14 21:00:00  7.759534e+07   BTC   BTC         928.03    0.142237   \n",
       "2021-12-14 22:00:00  8.714276e+07   BTC   BTC         497.84    0.151148   \n",
       "2021-12-14 23:00:00  3.259071e+07   BTC   BTC         -14.58    0.149424   \n",
       "2021-12-15 00:00:00  5.145144e+06   BTC   BTC         -69.90    0.143079   \n",
       "\n",
       "                     maximum_drawdown  \n",
       "ts                                     \n",
       "2021-12-10 00:00:00               NaN  \n",
       "2021-12-10 01:00:00          0.000000  \n",
       "2021-12-10 02:00:00         -0.009966  \n",
       "2021-12-10 03:00:00         -0.017928  \n",
       "2021-12-10 04:00:00         -0.020262  \n",
       "...                               ...  \n",
       "2021-12-14 20:00:00         -0.076361  \n",
       "2021-12-14 21:00:00         -0.076361  \n",
       "2021-12-14 22:00:00         -0.076361  \n",
       "2021-12-14 23:00:00         -0.076361  \n",
       "2021-12-15 00:00:00         -0.076361  \n",
       "\n",
       "[121 rows x 11 columns]"
      ]
     },
     "execution_count": 14,
     "metadata": {},
     "output_type": "execute_result"
    }
   ],
   "source": [
    "nb.scraps['prices'].data"
   ]
  },
  {
   "cell_type": "code",
   "execution_count": 29,
   "metadata": {},
   "outputs": [],
   "source": [
    "nbs = sb.read_notebooks('outputs')"
   ]
  },
  {
   "cell_type": "code",
   "execution_count": 49,
   "metadata": {},
   "outputs": [
    {
     "ename": "SyntaxError",
     "evalue": "invalid syntax (<ipython-input-49-89f50ea72c92>, line 9)",
     "output_type": "error",
     "traceback": [
      "\u001b[0;36m  File \u001b[0;32m\"<ipython-input-49-89f50ea72c92>\"\u001b[0;36m, line \u001b[0;32m9\u001b[0m\n\u001b[0;31m    'range' : scrap['prices'].data.open.max() - scrap['prices'].data.open.min()})\u001b[0m\n\u001b[0m    ^\u001b[0m\n\u001b[0;31mSyntaxError\u001b[0m\u001b[0;31m:\u001b[0m invalid syntax\n"
     ]
    }
   ],
   "source": [
    "pd.DataFrame([\n",
    "    pd.Series({\n",
    "        'token': scrap['token'].data,\n",
    "        'from_date': scrap['from_date'].data,\n",
    "        'to_date': scrap['to_date'].data,\n",
    "        'avg_volatility': scrap['prices'].data.hourly_vol.mean(),\n",
    "        'avg_return' : scrap['prices'].data.hourly_return.mean(),\n",
    "        'maximum_drawdown' : scrap['prices'].data.maximum_drawdown.max()\n",
    "        'range' : scrap['prices'].data.open.max() - scrap['prices'].data.open.min()}) \n",
    "    for book, scrap in nbs.notebook_scraps.items()\n",
    "])"
   ]
  },
  {
   "cell_type": "code",
   "execution_count": null,
   "metadata": {},
   "outputs": [],
   "source": []
  }
 ],
 "metadata": {
  "kernelspec": {
   "display_name": "Python 3",
   "language": "python",
   "name": "python3"
  },
  "language_info": {
   "codemirror_mode": {
    "name": "ipython",
    "version": 3
   },
   "file_extension": ".py",
   "mimetype": "text/x-python",
   "name": "python",
   "nbconvert_exporter": "python",
   "pygments_lexer": "ipython3",
   "version": "3.8.5"
  }
 },
 "nbformat": 4,
 "nbformat_minor": 4
}
