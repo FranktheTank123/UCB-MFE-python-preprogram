{
 "cells": [
  {
   "cell_type": "markdown",
   "metadata": {},
   "source": [
    "## Homework 4: Market analysis template"
   ]
  },
  {
   "cell_type": "code",
   "execution_count": null,
   "metadata": {},
   "outputs": [],
   "source": [
    "import pandas as pd\n",
    "import numpy as np\n",
    "import sqlite3\n",
    "import gspread\n",
    "import scrapbook as sb\n",
    "\n",
    "import matplotlib.pyplot as plt\n",
    "from matplotlib import cm\n",
    "from matplotlib.dates import date2num, DateFormatter\n",
    "from pandas.plotting import scatter_matrix\n",
    "\n",
    "plt.style.use('ggplot')\n",
    "plt.tight_layout()\n",
    "plt.rcParams['figure.figsize'] = [20, 20]\n",
    "\n",
    "%matplotlib inline"
   ]
  },
  {
   "cell_type": "code",
   "execution_count": null,
   "metadata": {},
   "outputs": [],
   "source": [
    "def hourly_return(df):\n",
    "    c = df.close\n",
    "    returns = np.diff(df['close'])\n",
    "    hourly_return = [0]\n",
    "    for i in range (len(returns)):\n",
    "        hourly_return.append(returns[i])\n",
    "    \n",
    "    return hourly_return"
   ]
  },
  {
   "cell_type": "code",
   "execution_count": null,
   "metadata": {},
   "outputs": [],
   "source": [
    "def vol_ohlc(df, lookback=10):\n",
    "    o = df.open\n",
    "    h = df.high\n",
    "    l = df.low\n",
    "    c = df.close\n",
    "    \n",
    "    k = 0.34 / (1.34 + (lookback+1)/(lookback-1))\n",
    "    cc = np.log(c/c.shift(1))\n",
    "    ho = np.log(h/o)\n",
    "    lo = np.log(l/o)\n",
    "    co = np.log(c/o)\n",
    "    oc = np.log(o/c.shift(1))\n",
    "    oc_sq = oc**2\n",
    "    cc_sq = cc**2\n",
    "    rs = ho*(ho-co)+lo*(lo-co)\n",
    "    close_vol = cc_sq.rolling(lookback).sum() * (1.0 / (lookback - 1.0))\n",
    "    open_vol = oc_sq.rolling(lookback).sum() * (1.0 / (lookback - 1.0))\n",
    "    window_rs = rs.rolling(lookback).sum() * (1.0 / (lookback - 1.0))\n",
    "    result = (open_vol + k * close_vol + (1-k) * window_rs).apply(np.sqrt) * np.sqrt(252)\n",
    "    result[:lookback-1] = np.nan\n",
    "    \n",
    "    return result"
   ]
  },
  {
   "cell_type": "code",
   "execution_count": null,
   "metadata": {},
   "outputs": [],
   "source": [
    "def maximum_drawdown(df):\n",
    "    _open_ = df.open\n",
    "    high = df.high\n",
    "    low = df.low\n",
    "    close = df.close\n",
    "    \n",
    "    max_DD = []\n",
    "    for i in range (len(close)):\n",
    "        roll_max = close[0:i].max()\n",
    "        drawdown = close[0:i]/roll_max - 1\n",
    "        max_DD.append(drawdown.min())\n",
    "        \n",
    "    return max_DD\n"
   ]
  },
  {
   "cell_type": "code",
   "execution_count": null,
   "metadata": {
    "tags": [
     "parameters"
    ]
   },
   "outputs": [],
   "source": [
    "token = 'BTC'\n",
    "from_date = '2021-11-05'\n",
    "to_date = '2021-11-11'\n",
    "connection_string = 'sqlite:///data/data.db'\n",
    "events_db = 'crypto_events_database'"
   ]
  },
  {
   "cell_type": "code",
   "execution_count": null,
   "metadata": {},
   "outputs": [],
   "source": [
    "prices = pd.read_sql(f'''\n",
    "SELECT \n",
    "    * \n",
    "FROM ohlc \n",
    "WHERE \n",
    "    token = '{token}'\n",
    "    AND ts >= '{from_date}'\n",
    "    AND ts < '{to_date}'\n",
    "''', connection_string)\n",
    "prices['ts'] = pd.to_datetime(prices['ts'])\n",
    "\n",
    "prices.set_index('ts', inplace=True)"
   ]
  },
  {
   "cell_type": "code",
   "execution_count": null,
   "metadata": {},
   "outputs": [],
   "source": [
    "prices['hourly_return'] = hourly_return(prices)\n",
    "prices['hourly_vol'] = vol_ohlc(prices, lookback=10)\n",
    "prices['maximum_drawdown'] = maximum_drawdown(prices)"
   ]
  },
  {
   "cell_type": "code",
   "execution_count": null,
   "metadata": {},
   "outputs": [],
   "source": [
    "def series_plot(data, events=None, ax=None):\n",
    "    data.plot(ax=ax)\n",
    "    \n",
    "    start_of_days = data.between_time('00:00:00', '00:00:00').index.to_list()\n",
    "    end_of_days = start_of_days[1:] + [data.index[-1]]\n",
    "    colors = iter(cm.rainbow(np.linspace(0, 1, len(start_of_days))))\n",
    "    \n",
    "    for x, y in zip(start_of_days, end_of_days):\n",
    "        color = next(colors)\n",
    "        ax.axvspan(x, y, color=color, alpha=0.1)\n",
    "\n",
    "    if events is not None:\n",
    "        ymin, ymax = ax.get_ylim()\n",
    "        text_pos = 1\n",
    "        \n",
    "        for idx, row in events.loc[data.index[0]:data.index[-1]].iterrows():\n",
    "            if row.impact == 1:\n",
    "                text_pos = (text_pos + 1) % 2\n",
    "                x = idx\n",
    "                ax.axvline(x, color='0.2', linestyle=':')\n",
    "                ax.text(x, ymin, row.event, rotation=90, color='0.2')    \n",
    "            elif row.impact == 2:\n",
    "                text_pos = (text_pos + 1) % 2\n",
    "                x = idx\n",
    "                ax.axvline(x, color='0.6', linestyle=':')\n",
    "                ax.text(x, ymin, row.event, rotation=90, color='0.6')"
   ]
  },
  {
   "cell_type": "code",
   "execution_count": null,
   "metadata": {},
   "outputs": [],
   "source": [
    "%%capture\n",
    "\n",
    "fig, ax = plt.subplots(nrows=2, ncols=2, figsize=(20, 20))"
   ]
  },
  {
   "cell_type": "code",
   "execution_count": null,
   "metadata": {},
   "outputs": [],
   "source": [
    "series_plot(prices[['hourly_return']], ax=ax[0, 0])\n",
    "series_plot(prices[['hourly_vol']], ax=ax[0, 1])\n",
    "series_plot(prices[['maximum_drawdown']], ax=ax[1, 0])\n",
    "series_plot(prices[['close']], ax=ax[1, 1])\n",
    "\n",
    "fig.suptitle(f'Market action for {token} between {from_date} and {to_date}')\n",
    "fig"
   ]
  },
  {
   "cell_type": "code",
   "execution_count": null,
   "metadata": {},
   "outputs": [],
   "source": [
    "sb.glue('token', token)\n",
    "sb.glue('from_date', from_date)\n",
    "sb.glue('to_date', to_date)\n",
    "sb.glue('prices', prices, encoder='pandas')\n",
    "sb.glue('summary_plot', fig, encoder='display', display=True)"
   ]
  },
  {
   "cell_type": "code",
   "execution_count": null,
   "metadata": {},
   "outputs": [],
   "source": []
  }
 ],
 "metadata": {
  "kernelspec": {
   "display_name": "Python 3",
   "language": "python",
   "name": "python3"
  },
  "language_info": {
   "codemirror_mode": {
    "name": "ipython",
    "version": 3
   },
   "file_extension": ".py",
   "mimetype": "text/x-python",
   "name": "python",
   "nbconvert_exporter": "python",
   "pygments_lexer": "ipython3",
   "version": "3.8.5"
  }
 },
 "nbformat": 4,
 "nbformat_minor": 4
}
