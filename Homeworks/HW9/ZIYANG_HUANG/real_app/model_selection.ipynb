{
 "cells": [
  {
   "cell_type": "code",
   "execution_count": 1,
   "id": "e9992337-3254-4c17-b70b-38ea7667e28c",
   "metadata": {},
   "outputs": [],
   "source": [
    "import numpy as np\n",
    "import pandas as pd"
   ]
  },
  {
   "cell_type": "code",
   "execution_count": 70,
   "id": "43ed1455-abae-4f7e-9241-4ff273d384ca",
   "metadata": {},
   "outputs": [
    {
     "data": {
      "text/html": [
       "<div>\n",
       "<style scoped>\n",
       "    .dataframe tbody tr th:only-of-type {\n",
       "        vertical-align: middle;\n",
       "    }\n",
       "\n",
       "    .dataframe tbody tr th {\n",
       "        vertical-align: top;\n",
       "    }\n",
       "\n",
       "    .dataframe thead th {\n",
       "        text-align: right;\n",
       "    }\n",
       "</style>\n",
       "<table border=\"1\" class=\"dataframe\">\n",
       "  <thead>\n",
       "    <tr style=\"text-align: right;\">\n",
       "      <th></th>\n",
       "      <th></th>\n",
       "      <th>target</th>\n",
       "      <th>f_0</th>\n",
       "      <th>f_1</th>\n",
       "      <th>f_2</th>\n",
       "      <th>f_3</th>\n",
       "      <th>f_4</th>\n",
       "      <th>f_5</th>\n",
       "      <th>f_6</th>\n",
       "      <th>f_7</th>\n",
       "      <th>f_8</th>\n",
       "      <th>...</th>\n",
       "      <th>f_290</th>\n",
       "      <th>f_291</th>\n",
       "      <th>f_292</th>\n",
       "      <th>f_293</th>\n",
       "      <th>f_294</th>\n",
       "      <th>f_295</th>\n",
       "      <th>f_296</th>\n",
       "      <th>f_297</th>\n",
       "      <th>f_298</th>\n",
       "      <th>f_299</th>\n",
       "    </tr>\n",
       "    <tr>\n",
       "      <th>time_id</th>\n",
       "      <th>investment_id</th>\n",
       "      <th></th>\n",
       "      <th></th>\n",
       "      <th></th>\n",
       "      <th></th>\n",
       "      <th></th>\n",
       "      <th></th>\n",
       "      <th></th>\n",
       "      <th></th>\n",
       "      <th></th>\n",
       "      <th></th>\n",
       "      <th></th>\n",
       "      <th></th>\n",
       "      <th></th>\n",
       "      <th></th>\n",
       "      <th></th>\n",
       "      <th></th>\n",
       "      <th></th>\n",
       "      <th></th>\n",
       "      <th></th>\n",
       "      <th></th>\n",
       "      <th></th>\n",
       "    </tr>\n",
       "  </thead>\n",
       "  <tbody>\n",
       "    <tr>\n",
       "      <th rowspan=\"2\" valign=\"top\">0</th>\n",
       "      <th>1</th>\n",
       "      <td>-0.3008</td>\n",
       "      <td>0.9326</td>\n",
       "      <td>0.1137</td>\n",
       "      <td>-0.40200</td>\n",
       "      <td>0.37840</td>\n",
       "      <td>-0.2040</td>\n",
       "      <td>-0.4136</td>\n",
       "      <td>0.9660</td>\n",
       "      <td>1.2300</td>\n",
       "      <td>0.1148</td>\n",
       "      <td>...</td>\n",
       "      <td>0.36600</td>\n",
       "      <td>-1.096</td>\n",
       "      <td>0.200100</td>\n",
       "      <td>0.8193</td>\n",
       "      <td>0.9414</td>\n",
       "      <td>-0.0868</td>\n",
       "      <td>-1.0870</td>\n",
       "      <td>-1.0450</td>\n",
       "      <td>-0.2876</td>\n",
       "      <td>0.3215</td>\n",
       "    </tr>\n",
       "    <tr>\n",
       "      <th>1000</th>\n",
       "      <td>0.4110</td>\n",
       "      <td>0.8810</td>\n",
       "      <td>-1.8955</td>\n",
       "      <td>1.08200</td>\n",
       "      <td>-0.58540</td>\n",
       "      <td>-0.6035</td>\n",
       "      <td>1.4890</td>\n",
       "      <td>-0.8486</td>\n",
       "      <td>0.7500</td>\n",
       "      <td>0.1148</td>\n",
       "      <td>...</td>\n",
       "      <td>0.82200</td>\n",
       "      <td>-1.096</td>\n",
       "      <td>0.003477</td>\n",
       "      <td>-1.2210</td>\n",
       "      <td>0.9414</td>\n",
       "      <td>-0.6265</td>\n",
       "      <td>0.1049</td>\n",
       "      <td>-0.6530</td>\n",
       "      <td>-0.0637</td>\n",
       "      <td>-0.5933</td>\n",
       "    </tr>\n",
       "    <tr>\n",
       "      <th rowspan=\"2\" valign=\"top\">1</th>\n",
       "      <th>1</th>\n",
       "      <td>-0.9170</td>\n",
       "      <td>0.3735</td>\n",
       "      <td>0.2964</td>\n",
       "      <td>0.01910</td>\n",
       "      <td>-0.03183</td>\n",
       "      <td>-0.2220</td>\n",
       "      <td>-0.2000</td>\n",
       "      <td>1.3250</td>\n",
       "      <td>1.2680</td>\n",
       "      <td>0.1652</td>\n",
       "      <td>...</td>\n",
       "      <td>0.23510</td>\n",
       "      <td>-1.082</td>\n",
       "      <td>0.645500</td>\n",
       "      <td>0.5810</td>\n",
       "      <td>0.8390</td>\n",
       "      <td>-0.3623</td>\n",
       "      <td>1.2295</td>\n",
       "      <td>-1.3010</td>\n",
       "      <td>-0.3916</td>\n",
       "      <td>0.3303</td>\n",
       "    </tr>\n",
       "    <tr>\n",
       "      <th>1000</th>\n",
       "      <td>-0.2072</td>\n",
       "      <td>0.6800</td>\n",
       "      <td>-2.0500</td>\n",
       "      <td>1.15900</td>\n",
       "      <td>-0.61230</td>\n",
       "      <td>-0.5947</td>\n",
       "      <td>1.2320</td>\n",
       "      <td>-0.8820</td>\n",
       "      <td>0.7705</td>\n",
       "      <td>0.1652</td>\n",
       "      <td>...</td>\n",
       "      <td>1.23700</td>\n",
       "      <td>-1.082</td>\n",
       "      <td>-0.389000</td>\n",
       "      <td>-1.7210</td>\n",
       "      <td>-1.1890</td>\n",
       "      <td>-0.6300</td>\n",
       "      <td>1.2295</td>\n",
       "      <td>-0.6914</td>\n",
       "      <td>-0.7040</td>\n",
       "      <td>-0.6130</td>\n",
       "    </tr>\n",
       "    <tr>\n",
       "      <th>2</th>\n",
       "      <th>1</th>\n",
       "      <td>-0.4802</td>\n",
       "      <td>-0.8345</td>\n",
       "      <td>0.3052</td>\n",
       "      <td>0.05762</td>\n",
       "      <td>-0.19320</td>\n",
       "      <td>-0.1744</td>\n",
       "      <td>0.2206</td>\n",
       "      <td>1.1370</td>\n",
       "      <td>1.2840</td>\n",
       "      <td>0.1381</td>\n",
       "      <td>...</td>\n",
       "      <td>0.06915</td>\n",
       "      <td>-1.283</td>\n",
       "      <td>0.416500</td>\n",
       "      <td>0.7340</td>\n",
       "      <td>0.7085</td>\n",
       "      <td>-0.3184</td>\n",
       "      <td>1.3080</td>\n",
       "      <td>-0.8640</td>\n",
       "      <td>-0.4788</td>\n",
       "      <td>0.2913</td>\n",
       "    </tr>\n",
       "  </tbody>\n",
       "</table>\n",
       "<p>5 rows × 301 columns</p>\n",
       "</div>"
      ],
      "text/plain": [
       "                       target     f_0     f_1      f_2      f_3     f_4  \\\n",
       "time_id investment_id                                                     \n",
       "0       1             -0.3008  0.9326  0.1137 -0.40200  0.37840 -0.2040   \n",
       "        1000           0.4110  0.8810 -1.8955  1.08200 -0.58540 -0.6035   \n",
       "1       1             -0.9170  0.3735  0.2964  0.01910 -0.03183 -0.2220   \n",
       "        1000          -0.2072  0.6800 -2.0500  1.15900 -0.61230 -0.5947   \n",
       "2       1             -0.4802 -0.8345  0.3052  0.05762 -0.19320 -0.1744   \n",
       "\n",
       "                          f_5     f_6     f_7     f_8  ...    f_290  f_291  \\\n",
       "time_id investment_id                                  ...                   \n",
       "0       1             -0.4136  0.9660  1.2300  0.1148  ...  0.36600 -1.096   \n",
       "        1000           1.4890 -0.8486  0.7500  0.1148  ...  0.82200 -1.096   \n",
       "1       1             -0.2000  1.3250  1.2680  0.1652  ...  0.23510 -1.082   \n",
       "        1000           1.2320 -0.8820  0.7705  0.1652  ...  1.23700 -1.082   \n",
       "2       1              0.2206  1.1370  1.2840  0.1381  ...  0.06915 -1.283   \n",
       "\n",
       "                          f_292   f_293   f_294   f_295   f_296   f_297  \\\n",
       "time_id investment_id                                                     \n",
       "0       1              0.200100  0.8193  0.9414 -0.0868 -1.0870 -1.0450   \n",
       "        1000           0.003477 -1.2210  0.9414 -0.6265  0.1049 -0.6530   \n",
       "1       1              0.645500  0.5810  0.8390 -0.3623  1.2295 -1.3010   \n",
       "        1000          -0.389000 -1.7210 -1.1890 -0.6300  1.2295 -0.6914   \n",
       "2       1              0.416500  0.7340  0.7085 -0.3184  1.3080 -0.8640   \n",
       "\n",
       "                        f_298   f_299  \n",
       "time_id investment_id                  \n",
       "0       1             -0.2876  0.3215  \n",
       "        1000          -0.0637 -0.5933  \n",
       "1       1             -0.3916  0.3303  \n",
       "        1000          -0.7040 -0.6130  \n",
       "2       1             -0.4788  0.2913  \n",
       "\n",
       "[5 rows x 301 columns]"
      ]
     },
     "execution_count": 70,
     "metadata": {},
     "output_type": "execute_result"
    }
   ],
   "source": [
    "df = pd.read_csv(\"../data/data.csv\",index_col=[0,1])\n",
    "df.head()"
   ]
  },
  {
   "cell_type": "code",
   "execution_count": 3,
   "id": "952c7d51-5ad5-4a64-8b7b-49e086afa36e",
   "metadata": {},
   "outputs": [
    {
     "data": {
      "text/html": [
       "<div>\n",
       "<style scoped>\n",
       "    .dataframe tbody tr th:only-of-type {\n",
       "        vertical-align: middle;\n",
       "    }\n",
       "\n",
       "    .dataframe tbody tr th {\n",
       "        vertical-align: top;\n",
       "    }\n",
       "\n",
       "    .dataframe thead th {\n",
       "        text-align: right;\n",
       "    }\n",
       "</style>\n",
       "<table border=\"1\" class=\"dataframe\">\n",
       "  <thead>\n",
       "    <tr style=\"text-align: right;\">\n",
       "      <th></th>\n",
       "      <th>f_0</th>\n",
       "      <th>f_1</th>\n",
       "      <th>f_2</th>\n",
       "      <th>f_3</th>\n",
       "      <th>f_4</th>\n",
       "      <th>f_5</th>\n",
       "      <th>f_6</th>\n",
       "      <th>f_7</th>\n",
       "      <th>f_8</th>\n",
       "      <th>f_9</th>\n",
       "      <th>...</th>\n",
       "      <th>f_290</th>\n",
       "      <th>f_291</th>\n",
       "      <th>f_292</th>\n",
       "      <th>f_293</th>\n",
       "      <th>f_294</th>\n",
       "      <th>f_295</th>\n",
       "      <th>f_296</th>\n",
       "      <th>f_297</th>\n",
       "      <th>f_298</th>\n",
       "      <th>f_299</th>\n",
       "    </tr>\n",
       "  </thead>\n",
       "  <tbody>\n",
       "    <tr>\n",
       "      <th>count</th>\n",
       "      <td>2187.000000</td>\n",
       "      <td>2187.000000</td>\n",
       "      <td>2187.000000</td>\n",
       "      <td>2187.000000</td>\n",
       "      <td>2187.000000</td>\n",
       "      <td>2187.000000</td>\n",
       "      <td>2187.000000</td>\n",
       "      <td>2187.000000</td>\n",
       "      <td>2187.000000</td>\n",
       "      <td>2187.000000</td>\n",
       "      <td>...</td>\n",
       "      <td>2187.000000</td>\n",
       "      <td>2187.000000</td>\n",
       "      <td>2187.000000</td>\n",
       "      <td>2187.000000</td>\n",
       "      <td>2187.000000</td>\n",
       "      <td>2187.000000</td>\n",
       "      <td>2187.000000</td>\n",
       "      <td>2187.000000</td>\n",
       "      <td>2187.000000</td>\n",
       "      <td>2187.000000</td>\n",
       "    </tr>\n",
       "    <tr>\n",
       "      <th>mean</th>\n",
       "      <td>0.058028</td>\n",
       "      <td>-0.038853</td>\n",
       "      <td>0.400197</td>\n",
       "      <td>-0.103490</td>\n",
       "      <td>-0.364166</td>\n",
       "      <td>-0.062011</td>\n",
       "      <td>0.091695</td>\n",
       "      <td>0.696801</td>\n",
       "      <td>0.168092</td>\n",
       "      <td>-0.047641</td>\n",
       "      <td>...</td>\n",
       "      <td>0.002576</td>\n",
       "      <td>-0.311279</td>\n",
       "      <td>-0.164765</td>\n",
       "      <td>-0.017768</td>\n",
       "      <td>-0.010097</td>\n",
       "      <td>-0.466579</td>\n",
       "      <td>-0.073708</td>\n",
       "      <td>0.000079</td>\n",
       "      <td>0.136802</td>\n",
       "      <td>-0.468965</td>\n",
       "    </tr>\n",
       "    <tr>\n",
       "      <th>std</th>\n",
       "      <td>1.029295</td>\n",
       "      <td>1.129211</td>\n",
       "      <td>0.924235</td>\n",
       "      <td>0.802427</td>\n",
       "      <td>0.204858</td>\n",
       "      <td>1.101074</td>\n",
       "      <td>1.077779</td>\n",
       "      <td>0.664769</td>\n",
       "      <td>0.518049</td>\n",
       "      <td>1.100279</td>\n",
       "      <td>...</td>\n",
       "      <td>1.086431</td>\n",
       "      <td>1.007720</td>\n",
       "      <td>0.941089</td>\n",
       "      <td>1.083606</td>\n",
       "      <td>1.110029</td>\n",
       "      <td>0.551259</td>\n",
       "      <td>1.090483</td>\n",
       "      <td>1.063144</td>\n",
       "      <td>1.240029</td>\n",
       "      <td>0.285567</td>\n",
       "    </tr>\n",
       "    <tr>\n",
       "      <th>min</th>\n",
       "      <td>-7.984000</td>\n",
       "      <td>-3.506000</td>\n",
       "      <td>-3.064000</td>\n",
       "      <td>-1.594000</td>\n",
       "      <td>-0.739300</td>\n",
       "      <td>-3.826000</td>\n",
       "      <td>-3.807000</td>\n",
       "      <td>-1.519000</td>\n",
       "      <td>-15.620000</td>\n",
       "      <td>-3.867000</td>\n",
       "      <td>...</td>\n",
       "      <td>-6.250000</td>\n",
       "      <td>-5.300000</td>\n",
       "      <td>-2.842000</td>\n",
       "      <td>-10.900000</td>\n",
       "      <td>-5.060000</td>\n",
       "      <td>-2.270000</td>\n",
       "      <td>-4.242000</td>\n",
       "      <td>-2.818000</td>\n",
       "      <td>-3.398000</td>\n",
       "      <td>-1.014000</td>\n",
       "    </tr>\n",
       "    <tr>\n",
       "      <th>25%</th>\n",
       "      <td>-0.342200</td>\n",
       "      <td>-0.812500</td>\n",
       "      <td>-0.187650</td>\n",
       "      <td>-0.530150</td>\n",
       "      <td>-0.541750</td>\n",
       "      <td>-0.781500</td>\n",
       "      <td>-0.708450</td>\n",
       "      <td>0.292850</td>\n",
       "      <td>0.121400</td>\n",
       "      <td>-0.864350</td>\n",
       "      <td>...</td>\n",
       "      <td>-0.549150</td>\n",
       "      <td>-0.974000</td>\n",
       "      <td>-0.756650</td>\n",
       "      <td>-0.142700</td>\n",
       "      <td>-0.925500</td>\n",
       "      <td>-0.683000</td>\n",
       "      <td>-1.005500</td>\n",
       "      <td>-0.717000</td>\n",
       "      <td>-0.903800</td>\n",
       "      <td>-0.654000</td>\n",
       "    </tr>\n",
       "    <tr>\n",
       "      <th>50%</th>\n",
       "      <td>0.290300</td>\n",
       "      <td>-0.131500</td>\n",
       "      <td>0.431600</td>\n",
       "      <td>-0.291500</td>\n",
       "      <td>-0.395500</td>\n",
       "      <td>-0.086800</td>\n",
       "      <td>0.134400</td>\n",
       "      <td>0.635300</td>\n",
       "      <td>0.172900</td>\n",
       "      <td>-0.062740</td>\n",
       "      <td>...</td>\n",
       "      <td>0.088440</td>\n",
       "      <td>-0.578600</td>\n",
       "      <td>-0.322500</td>\n",
       "      <td>0.208400</td>\n",
       "      <td>0.223000</td>\n",
       "      <td>-0.552700</td>\n",
       "      <td>-0.061460</td>\n",
       "      <td>-0.160300</td>\n",
       "      <td>0.283000</td>\n",
       "      <td>-0.531000</td>\n",
       "    </tr>\n",
       "    <tr>\n",
       "      <th>75%</th>\n",
       "      <td>0.691900</td>\n",
       "      <td>0.636200</td>\n",
       "      <td>1.046500</td>\n",
       "      <td>0.049470</td>\n",
       "      <td>-0.213000</td>\n",
       "      <td>0.652300</td>\n",
       "      <td>0.904150</td>\n",
       "      <td>1.057500</td>\n",
       "      <td>0.251350</td>\n",
       "      <td>0.804850</td>\n",
       "      <td>...</td>\n",
       "      <td>0.675650</td>\n",
       "      <td>0.562000</td>\n",
       "      <td>0.217600</td>\n",
       "      <td>0.491000</td>\n",
       "      <td>0.853500</td>\n",
       "      <td>-0.356500</td>\n",
       "      <td>0.905750</td>\n",
       "      <td>0.579600</td>\n",
       "      <td>1.175000</td>\n",
       "      <td>-0.369300</td>\n",
       "    </tr>\n",
       "    <tr>\n",
       "      <th>max</th>\n",
       "      <td>3.010000</td>\n",
       "      <td>5.258000</td>\n",
       "      <td>3.889000</td>\n",
       "      <td>5.770000</td>\n",
       "      <td>0.381300</td>\n",
       "      <td>4.535000</td>\n",
       "      <td>3.457000</td>\n",
       "      <td>2.682000</td>\n",
       "      <td>2.560000</td>\n",
       "      <td>3.396000</td>\n",
       "      <td>...</td>\n",
       "      <td>4.777000</td>\n",
       "      <td>2.885000</td>\n",
       "      <td>5.574000</td>\n",
       "      <td>2.996000</td>\n",
       "      <td>3.680000</td>\n",
       "      <td>9.875000</td>\n",
       "      <td>3.150000</td>\n",
       "      <td>5.086000</td>\n",
       "      <td>3.957000</td>\n",
       "      <td>1.520500</td>\n",
       "    </tr>\n",
       "  </tbody>\n",
       "</table>\n",
       "<p>8 rows × 300 columns</p>\n",
       "</div>"
      ],
      "text/plain": [
       "               f_0          f_1          f_2          f_3          f_4  \\\n",
       "count  2187.000000  2187.000000  2187.000000  2187.000000  2187.000000   \n",
       "mean      0.058028    -0.038853     0.400197    -0.103490    -0.364166   \n",
       "std       1.029295     1.129211     0.924235     0.802427     0.204858   \n",
       "min      -7.984000    -3.506000    -3.064000    -1.594000    -0.739300   \n",
       "25%      -0.342200    -0.812500    -0.187650    -0.530150    -0.541750   \n",
       "50%       0.290300    -0.131500     0.431600    -0.291500    -0.395500   \n",
       "75%       0.691900     0.636200     1.046500     0.049470    -0.213000   \n",
       "max       3.010000     5.258000     3.889000     5.770000     0.381300   \n",
       "\n",
       "               f_5          f_6          f_7          f_8          f_9  ...  \\\n",
       "count  2187.000000  2187.000000  2187.000000  2187.000000  2187.000000  ...   \n",
       "mean     -0.062011     0.091695     0.696801     0.168092    -0.047641  ...   \n",
       "std       1.101074     1.077779     0.664769     0.518049     1.100279  ...   \n",
       "min      -3.826000    -3.807000    -1.519000   -15.620000    -3.867000  ...   \n",
       "25%      -0.781500    -0.708450     0.292850     0.121400    -0.864350  ...   \n",
       "50%      -0.086800     0.134400     0.635300     0.172900    -0.062740  ...   \n",
       "75%       0.652300     0.904150     1.057500     0.251350     0.804850  ...   \n",
       "max       4.535000     3.457000     2.682000     2.560000     3.396000  ...   \n",
       "\n",
       "             f_290        f_291        f_292        f_293        f_294  \\\n",
       "count  2187.000000  2187.000000  2187.000000  2187.000000  2187.000000   \n",
       "mean      0.002576    -0.311279    -0.164765    -0.017768    -0.010097   \n",
       "std       1.086431     1.007720     0.941089     1.083606     1.110029   \n",
       "min      -6.250000    -5.300000    -2.842000   -10.900000    -5.060000   \n",
       "25%      -0.549150    -0.974000    -0.756650    -0.142700    -0.925500   \n",
       "50%       0.088440    -0.578600    -0.322500     0.208400     0.223000   \n",
       "75%       0.675650     0.562000     0.217600     0.491000     0.853500   \n",
       "max       4.777000     2.885000     5.574000     2.996000     3.680000   \n",
       "\n",
       "             f_295        f_296        f_297        f_298        f_299  \n",
       "count  2187.000000  2187.000000  2187.000000  2187.000000  2187.000000  \n",
       "mean     -0.466579    -0.073708     0.000079     0.136802    -0.468965  \n",
       "std       0.551259     1.090483     1.063144     1.240029     0.285567  \n",
       "min      -2.270000    -4.242000    -2.818000    -3.398000    -1.014000  \n",
       "25%      -0.683000    -1.005500    -0.717000    -0.903800    -0.654000  \n",
       "50%      -0.552700    -0.061460    -0.160300     0.283000    -0.531000  \n",
       "75%      -0.356500     0.905750     0.579600     1.175000    -0.369300  \n",
       "max       9.875000     3.150000     5.086000     3.957000     1.520500  \n",
       "\n",
       "[8 rows x 300 columns]"
      ]
     },
     "execution_count": 3,
     "metadata": {},
     "output_type": "execute_result"
    }
   ],
   "source": [
    "y = df.pop(\"target\")\n",
    "features = [f'f_{i}' for i in range(300)]\n",
    "X = df[features]\n",
    "X.describe()"
   ]
  },
  {
   "cell_type": "code",
   "execution_count": 4,
   "id": "4028fa93-c3ea-4d5d-b123-538f3dcedd54",
   "metadata": {},
   "outputs": [],
   "source": [
    "from sklearn.pipeline import Pipeline\n",
    "from sklearn.preprocessing import StandardScaler\n",
    "from sklearn.decomposition import PCA\n",
    "\n",
    "from sklearn.model_selection import TimeSeriesSplit, cross_validate, GridSearchCV\n",
    "from sklearn.metrics import make_scorer, mean_squared_error\n",
    "from scipy.spatial.distance import correlation\n",
    "\n",
    "from sklearn.tree import DecisionTreeRegressor\n",
    "from sklearn.ensemble import RandomForestRegressor\n",
    "from sklearn.ensemble import AdaBoostRegressor\n",
    "from sklearn.linear_model import Ridge,Lasso\n",
    "from lightgbm import LGBMRegressor"
   ]
  },
  {
   "cell_type": "code",
   "execution_count": 5,
   "id": "74ec0012-1546-442b-a5df-cce477c65df8",
   "metadata": {},
   "outputs": [],
   "source": [
    "def evaluate_model(model, X, y, test_size=0.2):\n",
    "    cv = TimeSeriesSplit(n_splits=10)\n",
    "    scorer = make_scorer(mean_squared_error, greater_is_better=False, squared=True)\n",
    "    return np.mean(cross_validate(model, X, y, cv=cv, scoring=scorer, n_jobs=1)['test_score'])"
   ]
  },
  {
   "cell_type": "code",
   "execution_count": 6,
   "id": "0e6d4c1d-be69-4bd7-8e3a-f0d5f89372bf",
   "metadata": {},
   "outputs": [
    {
     "data": {
      "text/plain": [
       "-2.2373693509325756"
      ]
     },
     "execution_count": 6,
     "metadata": {},
     "output_type": "execute_result"
    }
   ],
   "source": [
    "pipeline = Pipeline([\n",
    "    (\"scaler\", StandardScaler()),\n",
    "    ('model', DecisionTreeRegressor())\n",
    "])\n",
    "evaluate_model(pipeline, X, y)"
   ]
  },
  {
   "cell_type": "code",
   "execution_count": 7,
   "id": "83d2d680-3ee2-4b5f-8c53-64632cdb31dc",
   "metadata": {},
   "outputs": [
    {
     "data": {
      "text/plain": [
       "-0.7417856831295528"
      ]
     },
     "execution_count": 7,
     "metadata": {},
     "output_type": "execute_result"
    }
   ],
   "source": [
    "pipeline = Pipeline([\n",
    "    (\"scaler\", StandardScaler()),\n",
    "    ('model', RandomForestRegressor(n_estimators=1000,max_depth=1))\n",
    "])\n",
    "evaluate_model(pipeline, X, y)"
   ]
  },
  {
   "cell_type": "code",
   "execution_count": 37,
   "id": "461d17a3-0822-4112-bcb5-90b4ed924cd0",
   "metadata": {},
   "outputs": [
    {
     "data": {
      "text/plain": [
       "-0.8441515172066387"
      ]
     },
     "execution_count": 37,
     "metadata": {},
     "output_type": "execute_result"
    }
   ],
   "source": [
    "pipeline = Pipeline([\n",
    "    (\"scaler\", StandardScaler()),\n",
    "    ('model', AdaBoostRegressor(n_estimators=1000))\n",
    "])\n",
    "evaluate_model(pipeline, X, y)"
   ]
  },
  {
   "cell_type": "code",
   "execution_count": 9,
   "id": "76feb605-feaa-40f0-8d59-1a006b57bcb9",
   "metadata": {},
   "outputs": [
    {
     "data": {
      "text/plain": [
       "-0.7516273821935283"
      ]
     },
     "execution_count": 9,
     "metadata": {},
     "output_type": "execute_result"
    }
   ],
   "source": [
    "pipeline = Pipeline([\n",
    "    (\"scaler\", StandardScaler()),\n",
    "    (\"pca\", PCA(10)),\n",
    "    ('model', Ridge(alpha=.1))\n",
    "])\n",
    "evaluate_model(pipeline, X, y)"
   ]
  },
  {
   "cell_type": "code",
   "execution_count": 10,
   "id": "a45a3578-deba-45af-9078-83336bb44a30",
   "metadata": {},
   "outputs": [
    {
     "data": {
      "text/plain": [
       "-0.7369792201156937"
      ]
     },
     "execution_count": 10,
     "metadata": {},
     "output_type": "execute_result"
    }
   ],
   "source": [
    "pipeline = Pipeline([\n",
    "    ('model', Lasso(alpha=.1))\n",
    "])\n",
    "\n",
    "evaluate_model(pipeline, X, y)"
   ]
  },
  {
   "cell_type": "code",
   "execution_count": 11,
   "id": "4c4bc93b-4e4c-42fa-a6b0-3deec6d01d39",
   "metadata": {},
   "outputs": [
    {
     "data": {
      "text/plain": [
       "-0.7368009722193494"
      ]
     },
     "execution_count": 11,
     "metadata": {},
     "output_type": "execute_result"
    }
   ],
   "source": [
    "pipeline = Pipeline([\n",
    "    (\"scaler\", StandardScaler()),\n",
    "    ('model', Lasso(alpha=.1))\n",
    "])\n",
    "\n",
    "evaluate_model(pipeline, X, y)"
   ]
  },
  {
   "cell_type": "code",
   "execution_count": 60,
   "id": "a490edc1-46b1-4e34-985d-88a2b26715c8",
   "metadata": {},
   "outputs": [
    {
     "data": {
      "text/plain": [
       "-0.7479753849049104"
      ]
     },
     "execution_count": 60,
     "metadata": {},
     "output_type": "execute_result"
    }
   ],
   "source": [
    "pipeline = Pipeline([\n",
    "    ('model', LGBMRegressor(\n",
    "        learning_rate = 0.01,\n",
    "        n_estimators = 100,\n",
    "        n_jobs= -1))\n",
    "])\n",
    "evaluate_model(pipeline, X, y)"
   ]
  },
  {
   "cell_type": "code",
   "execution_count": 61,
   "id": "9dafb830-adba-44a9-99e5-8d85541ed2c2",
   "metadata": {},
   "outputs": [
    {
     "data": {
      "text/plain": [
       "{'boosting_type': 'gbdt',\n",
       " 'class_weight': None,\n",
       " 'colsample_bytree': 1.0,\n",
       " 'importance_type': 'split',\n",
       " 'learning_rate': 0.1,\n",
       " 'max_depth': -1,\n",
       " 'min_child_samples': 20,\n",
       " 'min_child_weight': 0.001,\n",
       " 'min_split_gain': 0.0,\n",
       " 'n_estimators': 100,\n",
       " 'n_jobs': -1,\n",
       " 'num_leaves': 31,\n",
       " 'objective': None,\n",
       " 'random_state': None,\n",
       " 'reg_alpha': 0.0,\n",
       " 'reg_lambda': 0.0,\n",
       " 'silent': 'warn',\n",
       " 'subsample': 1.0,\n",
       " 'subsample_for_bin': 200000,\n",
       " 'subsample_freq': 0}"
      ]
     },
     "execution_count": 61,
     "metadata": {},
     "output_type": "execute_result"
    }
   ],
   "source": [
    "LGBMRegressor().get_params()"
   ]
  },
  {
   "cell_type": "code",
   "execution_count": 63,
   "id": "1fd363e5-ffe3-4372-a730-0dcc4eb3c094",
   "metadata": {},
   "outputs": [
    {
     "data": {
      "text/plain": [
       "GridSearchCV(cv=TimeSeriesSplit(gap=0, max_train_size=None, n_splits=10, test_size=None),\n",
       "             estimator=Pipeline(steps=[('model', LGBMRegressor())]), n_jobs=-1,\n",
       "             param_grid={'model__learning_rate': [0.1, 0.5, 1],\n",
       "                         'model__n_estimators': [50, 100, 500],\n",
       "                         'model__num_leaves': [16, 32, 64]},\n",
       "             scoring=make_scorer(mean_squared_error, greater_is_better=False, squared=True))"
      ]
     },
     "execution_count": 63,
     "metadata": {},
     "output_type": "execute_result"
    }
   ],
   "source": [
    "pipeline = Pipeline([\n",
    "    ('model', LGBMRegressor())\n",
    "])\n",
    "cv = TimeSeriesSplit(n_splits=10)\n",
    "scorer = make_scorer(mean_squared_error, greater_is_better=False, squared=True)\n",
    "search = GridSearchCV(pipeline, {\n",
    "    'model__num_leaves': [16, 32, 64],\n",
    "    'model__learning_rate':[0.1, 0.5, 1],\n",
    "    'model__n_estimators':[50,100,500]\n",
    "}, scoring=scorer, refit=True, cv=cv, n_jobs=-1)\n",
    "search.fit(X, y)"
   ]
  },
  {
   "cell_type": "code",
   "execution_count": 64,
   "id": "c7eeb734-b518-465e-af7c-a24d3635577b",
   "metadata": {},
   "outputs": [
    {
     "data": {
      "text/plain": [
       "{'model__learning_rate': 0.1,\n",
       " 'model__n_estimators': 50,\n",
       " 'model__num_leaves': 16}"
      ]
     },
     "execution_count": 64,
     "metadata": {},
     "output_type": "execute_result"
    }
   ],
   "source": [
    "search.best_params_"
   ]
  },
  {
   "cell_type": "code",
   "execution_count": 65,
   "id": "af8dbc7c-3760-4a63-bed2-57a0612043e0",
   "metadata": {},
   "outputs": [
    {
     "data": {
      "text/plain": [
       "-0.8211981666014904"
      ]
     },
     "execution_count": 65,
     "metadata": {},
     "output_type": "execute_result"
    }
   ],
   "source": [
    "best_model = search.best_estimator_\n",
    "evaluate_model(best_model,X,y)"
   ]
  },
  {
   "cell_type": "code",
   "execution_count": null,
   "id": "f6475267-005b-4197-bf58-794915415202",
   "metadata": {},
   "outputs": [],
   "source": []
  }
 ],
 "metadata": {
  "kernelspec": {
   "display_name": "Python 3 (ipykernel)",
   "language": "python",
   "name": "python3"
  },
  "language_info": {
   "codemirror_mode": {
    "name": "ipython",
    "version": 3
   },
   "file_extension": ".py",
   "mimetype": "text/x-python",
   "name": "python",
   "nbconvert_exporter": "python",
   "pygments_lexer": "ipython3",
   "version": "3.8.12"
  }
 },
 "nbformat": 4,
 "nbformat_minor": 5
}
