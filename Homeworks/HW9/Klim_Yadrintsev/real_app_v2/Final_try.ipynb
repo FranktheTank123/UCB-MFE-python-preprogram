{
 "cells": [
  {
   "cell_type": "code",
   "execution_count": 1,
   "id": "27283f2d-fb26-4174-81cd-962af98ccf12",
   "metadata": {},
   "outputs": [],
   "source": [
    "#importing libraries\n",
    "import sklearn\n",
    "import pandas as pd\n",
    "import seaborn as sns\n",
    "import keras as K\n",
    "import keras.layers as Dense\n",
    "import keras.models as Sequential\n",
    "import keras.optimizers as Adam\n",
    "import numpy as np\n",
    "\n",
    "from sklearn.preprocessing import MinMaxScaler\n",
    "from sklearn.impute import SimpleImputer\n",
    "from sklearn.compose import ColumnTransformer\n",
    "from sklearn.pipeline import Pipeline\n",
    "from sklearn.preprocessing import OneHotEncoder\n",
    "from sklearn.ensemble import RandomForestRegressor\n",
    "from sklearn.linear_model import LinearRegression"
   ]
  },
  {
   "cell_type": "code",
   "execution_count": 2,
   "id": "0a52719b-4839-4fe0-a80f-c22bccee5283",
   "metadata": {},
   "outputs": [],
   "source": [
    "data_location = 'sqlite:///../data_v2/avocado.db'\n",
    "data = pd.read_sql('SELECT * FROM avocado', data_location)"
   ]
  },
  {
   "cell_type": "code",
   "execution_count": 3,
   "id": "19510be7-b083-42c6-82c2-39c8ca8a15bc",
   "metadata": {},
   "outputs": [
    {
     "data": {
      "text/plain": "            Date AveragePrice Total Volume     4046       4225   4770  \\\n0  0  2015-12-27         1.33     64236.62  1036.74   54454.85  48.16   \n1  1  2015-12-20         1.35     54876.98   674.28   44638.81  58.33   \n2  2  2015-12-13         0.93    118220.22    794.7  109149.67  130.5   \n3  3  2015-12-06         1.08     78992.15   1132.0   71976.41  72.58   \n4  4  2015-11-29         1.28      51039.6   941.48   43838.39  75.78   \n5  5  2015-11-22         1.26     55979.78  1184.27   48067.99  43.61   \n6  6  2015-11-15         0.99     83453.76  1368.92   73672.72  93.26   \n7  7  2015-11-08         0.98    109428.33   703.75  101815.36   80.0   \n8  8  2015-11-01         1.02     99811.42  1022.15   87315.57  85.34   \n9  9  2015-10-25         1.07     74338.76    842.4   64757.44  113.0   \n\n  Total Bags Small Bags Large Bags XLarge Bags          type  year  region  \n0    8696.87    8603.62      93.25         0.0  conventional  2015  Albany  \n1    9505.56    9408.07      97.49         0.0  conventional  2015  Albany  \n2    8145.35    8042.21     103.14         0.0  conventional  2015  Albany  \n3    5811.16     5677.4     133.76         0.0  conventional  2015  Albany  \n4    6183.95    5986.26     197.69         0.0  conventional  2015  Albany  \n5    6683.91    6556.47     127.44         0.0  conventional  2015  Albany  \n6    8318.86    8196.81     122.05         0.0  conventional  2015  Albany  \n7    6829.22    6266.85     562.37         0.0  conventional  2015  Albany  \n8   11388.36   11104.53     283.83         0.0  conventional  2015  Albany  \n9    8625.92    8061.47     564.45         0.0  conventional  2015  Albany  ",
      "text/html": "<div>\n<style scoped>\n    .dataframe tbody tr th:only-of-type {\n        vertical-align: middle;\n    }\n\n    .dataframe tbody tr th {\n        vertical-align: top;\n    }\n\n    .dataframe thead th {\n        text-align: right;\n    }\n</style>\n<table border=\"1\" class=\"dataframe\">\n  <thead>\n    <tr style=\"text-align: right;\">\n      <th></th>\n      <th></th>\n      <th>Date</th>\n      <th>AveragePrice</th>\n      <th>Total Volume</th>\n      <th>4046</th>\n      <th>4225</th>\n      <th>4770</th>\n      <th>Total Bags</th>\n      <th>Small Bags</th>\n      <th>Large Bags</th>\n      <th>XLarge Bags</th>\n      <th>type</th>\n      <th>year</th>\n      <th>region</th>\n    </tr>\n  </thead>\n  <tbody>\n    <tr>\n      <th>0</th>\n      <td>0</td>\n      <td>2015-12-27</td>\n      <td>1.33</td>\n      <td>64236.62</td>\n      <td>1036.74</td>\n      <td>54454.85</td>\n      <td>48.16</td>\n      <td>8696.87</td>\n      <td>8603.62</td>\n      <td>93.25</td>\n      <td>0.0</td>\n      <td>conventional</td>\n      <td>2015</td>\n      <td>Albany</td>\n    </tr>\n    <tr>\n      <th>1</th>\n      <td>1</td>\n      <td>2015-12-20</td>\n      <td>1.35</td>\n      <td>54876.98</td>\n      <td>674.28</td>\n      <td>44638.81</td>\n      <td>58.33</td>\n      <td>9505.56</td>\n      <td>9408.07</td>\n      <td>97.49</td>\n      <td>0.0</td>\n      <td>conventional</td>\n      <td>2015</td>\n      <td>Albany</td>\n    </tr>\n    <tr>\n      <th>2</th>\n      <td>2</td>\n      <td>2015-12-13</td>\n      <td>0.93</td>\n      <td>118220.22</td>\n      <td>794.7</td>\n      <td>109149.67</td>\n      <td>130.5</td>\n      <td>8145.35</td>\n      <td>8042.21</td>\n      <td>103.14</td>\n      <td>0.0</td>\n      <td>conventional</td>\n      <td>2015</td>\n      <td>Albany</td>\n    </tr>\n    <tr>\n      <th>3</th>\n      <td>3</td>\n      <td>2015-12-06</td>\n      <td>1.08</td>\n      <td>78992.15</td>\n      <td>1132.0</td>\n      <td>71976.41</td>\n      <td>72.58</td>\n      <td>5811.16</td>\n      <td>5677.4</td>\n      <td>133.76</td>\n      <td>0.0</td>\n      <td>conventional</td>\n      <td>2015</td>\n      <td>Albany</td>\n    </tr>\n    <tr>\n      <th>4</th>\n      <td>4</td>\n      <td>2015-11-29</td>\n      <td>1.28</td>\n      <td>51039.6</td>\n      <td>941.48</td>\n      <td>43838.39</td>\n      <td>75.78</td>\n      <td>6183.95</td>\n      <td>5986.26</td>\n      <td>197.69</td>\n      <td>0.0</td>\n      <td>conventional</td>\n      <td>2015</td>\n      <td>Albany</td>\n    </tr>\n    <tr>\n      <th>5</th>\n      <td>5</td>\n      <td>2015-11-22</td>\n      <td>1.26</td>\n      <td>55979.78</td>\n      <td>1184.27</td>\n      <td>48067.99</td>\n      <td>43.61</td>\n      <td>6683.91</td>\n      <td>6556.47</td>\n      <td>127.44</td>\n      <td>0.0</td>\n      <td>conventional</td>\n      <td>2015</td>\n      <td>Albany</td>\n    </tr>\n    <tr>\n      <th>6</th>\n      <td>6</td>\n      <td>2015-11-15</td>\n      <td>0.99</td>\n      <td>83453.76</td>\n      <td>1368.92</td>\n      <td>73672.72</td>\n      <td>93.26</td>\n      <td>8318.86</td>\n      <td>8196.81</td>\n      <td>122.05</td>\n      <td>0.0</td>\n      <td>conventional</td>\n      <td>2015</td>\n      <td>Albany</td>\n    </tr>\n    <tr>\n      <th>7</th>\n      <td>7</td>\n      <td>2015-11-08</td>\n      <td>0.98</td>\n      <td>109428.33</td>\n      <td>703.75</td>\n      <td>101815.36</td>\n      <td>80.0</td>\n      <td>6829.22</td>\n      <td>6266.85</td>\n      <td>562.37</td>\n      <td>0.0</td>\n      <td>conventional</td>\n      <td>2015</td>\n      <td>Albany</td>\n    </tr>\n    <tr>\n      <th>8</th>\n      <td>8</td>\n      <td>2015-11-01</td>\n      <td>1.02</td>\n      <td>99811.42</td>\n      <td>1022.15</td>\n      <td>87315.57</td>\n      <td>85.34</td>\n      <td>11388.36</td>\n      <td>11104.53</td>\n      <td>283.83</td>\n      <td>0.0</td>\n      <td>conventional</td>\n      <td>2015</td>\n      <td>Albany</td>\n    </tr>\n    <tr>\n      <th>9</th>\n      <td>9</td>\n      <td>2015-10-25</td>\n      <td>1.07</td>\n      <td>74338.76</td>\n      <td>842.4</td>\n      <td>64757.44</td>\n      <td>113.0</td>\n      <td>8625.92</td>\n      <td>8061.47</td>\n      <td>564.45</td>\n      <td>0.0</td>\n      <td>conventional</td>\n      <td>2015</td>\n      <td>Albany</td>\n    </tr>\n  </tbody>\n</table>\n</div>"
     },
     "execution_count": 3,
     "metadata": {},
     "output_type": "execute_result"
    }
   ],
   "source": [
    "data.head(10)"
   ]
  },
  {
   "cell_type": "code",
   "execution_count": 4,
   "id": "6774f3e1-2ba5-4412-8a69-ab3db4f2c80d",
   "metadata": {},
   "outputs": [],
   "source": [
    "data = data.iloc[: , 1:]"
   ]
  },
  {
   "cell_type": "code",
   "execution_count": 5,
   "id": "1100b57b-8dd7-41c5-a76f-0e700563763e",
   "metadata": {},
   "outputs": [],
   "source": [
    "#seperating the prices to be predicted\n",
    "y = data.AveragePrice\n",
    "data.drop(['AveragePrice'], axis=1, inplace=True)"
   ]
  },
  {
   "cell_type": "code",
   "execution_count": 5,
   "outputs": [],
   "source": [],
   "metadata": {
    "collapsed": false,
    "pycharm": {
     "name": "#%%\n"
    }
   }
  },
  {
   "cell_type": "code",
   "execution_count": 6,
   "id": "74841686-0110-4811-8549-7991c79c062c",
   "metadata": {},
   "outputs": [],
   "source": [
    "data = data.astype({'Date': 'object', 'Total Volume' : 'float64', '4046' : 'float64', '4225' : 'float64', '4770' : 'float64', 'Total Bags' : 'float64', 'Small Bags' : 'float64', 'Large Bags' : 'float64', 'XLarge Bags' : 'float64', 'type' : 'object', 'year' : 'int', 'region':'object' })"
   ]
  },
  {
   "cell_type": "code",
   "execution_count": 7,
   "id": "920ffe21-e3e1-4e0e-9b79-3d676f09f1a4",
   "metadata": {},
   "outputs": [],
   "source": [
    "#train-test split\n",
    "#splitting the data into training and test datasets\n",
    "from sklearn.model_selection import train_test_split\n",
    "\n",
    "trainflights, testflights, ytrain, ytest = train_test_split(data, y, train_size=0.7,test_size=0.3, random_state=0)"
   ]
  },
  {
   "cell_type": "code",
   "execution_count": 8,
   "id": "1fb9d62d-91a6-44b9-8d95-98403829b923",
   "metadata": {},
   "outputs": [],
   "source": [
    "s = (trainflights.dtypes == 'object')\n",
    "object_cols = list(s[s].index)\n",
    "\n",
    "n = (trainflights.dtypes == ('float64','int64'))\n",
    "numerical_cols = list(n[n].index)"
   ]
  },
  {
   "cell_type": "code",
   "execution_count": 20,
   "outputs": [
    {
     "ename": "SyntaxError",
     "evalue": "invalid syntax (Temp/ipykernel_16976/2248697198.py, line 1)",
     "output_type": "error",
     "traceback": [
      "\u001B[1;36m  File \u001B[1;32m\"C:\\Users\\user\\AppData\\Local\\Temp/ipykernel_16976/2248697198.py\"\u001B[1;36m, line \u001B[1;32m1\u001B[0m\n\u001B[1;33m    datac.loc['2015-12-06'].where['region' = 'Albany']\u001B[0m\n\u001B[1;37m                                           ^\u001B[0m\n\u001B[1;31mSyntaxError\u001B[0m\u001B[1;31m:\u001B[0m invalid syntax\n"
     ]
    }
   ],
   "source": [
    "#checking the columns containing categorical columns:\n",
    "print(object_cols)"
   ],
   "metadata": {
    "collapsed": false,
    "pycharm": {
     "name": "#%%\n"
    }
   }
  },
  {
   "cell_type": "code",
   "execution_count": 9,
   "outputs": [
    {
     "name": "stdout",
     "output_type": "stream",
     "text": [
      "['Date', 'type', 'region']\n"
     ]
    }
   ],
   "source": [
    "#using One Hot Encoder to make the categorical columns usable\n",
    "\n",
    "oneHot = OneHotEncoder(handle_unknown = 'ignore', sparse=False)\n",
    "oneHottrain = pd.DataFrame(oneHot.fit_transform(trainflights[object_cols]))\n",
    "oneHottest = pd.DataFrame(oneHot.transform(testflights[object_cols]))\n",
    "\n",
    "#reattaching index since OneHotEncoder removes them:\n",
    "oneHottrain.index = trainflights.index\n",
    "oneHottest.index = testflights.index\n",
    "\n",
    "#dropping the old categorical columns:\n",
    "cattraincol = trainflights.drop(object_cols, axis=1)\n",
    "cattestcol = testflights.drop(object_cols, axis=1)\n",
    "\n",
    "#concatenating the new columns:\n",
    "trainflights = pd.concat([cattraincol, oneHottrain], axis=1)\n",
    "testflights = pd.concat([cattestcol, oneHottest], axis=1)"
   ],
   "metadata": {
    "collapsed": false,
    "pycharm": {
     "name": "#%%\n"
    }
   }
  },
  {
   "cell_type": "code",
   "execution_count": 10,
   "outputs": [],
   "source": [
    "#scaling the values\n",
    "\n",
    "trainf = trainflights.values\n",
    "testf = testflights.values\n",
    "\n",
    "minmax = MinMaxScaler()\n",
    "\n",
    "trainflights = minmax.fit_transform(trainf)\n",
    "testflights = minmax.transform(testf)\n",
    "\n",
    "#defining a way to find Mean Absolute Percentage Error:\n",
    "def PercentError(preds, ytest):\n",
    "  error = abs(preds - ytest)\n",
    "\n",
    "  errorp = np.mean(100 - 100*(error/ytest))\n",
    "\n",
    "  print('the accuracy is:', errorp)"
   ],
   "metadata": {
    "collapsed": false,
    "pycharm": {
     "name": "#%%\n"
    }
   }
  },
  {
   "cell_type": "code",
   "execution_count": 11,
   "outputs": [],
   "source": [
    "#implementing the algo:\n",
    "model = RandomForestRegressor(n_estimators=100, random_state=0, verbose=1)\n",
    "\n",
    "#fitting the data to random forest regressor:\n",
    "model.fit(trainflights, ytrain)"
   ],
   "metadata": {
    "collapsed": false,
    "pycharm": {
     "name": "#%%\n"
    }
   }
  },
  {
   "cell_type": "code",
   "execution_count": 13,
   "outputs": [
    {
     "name": "stderr",
     "output_type": "stream",
     "text": [
      "[Parallel(n_jobs=1)]: Using backend SequentialBackend with 1 concurrent workers.\n",
      "[Parallel(n_jobs=1)]: Done 100 out of 100 | elapsed:    0.0s finished\n"
     ]
    }
   ],
   "source": [
    "#predicting the test dataset:\n",
    "preds = model.predict(testflights)\n"
   ],
   "metadata": {
    "collapsed": false,
    "pycharm": {
     "name": "#%%\n"
    }
   }
  },
  {
   "cell_type": "code",
   "execution_count": 14,
   "outputs": [],
   "source": [
    "ytest = ytest.astype('float')"
   ],
   "metadata": {
    "collapsed": false,
    "pycharm": {
     "name": "#%%\n"
    }
   }
  },
  {
   "cell_type": "code",
   "execution_count": 15,
   "outputs": [
    {
     "name": "stdout",
     "output_type": "stream",
     "text": [
      "the accuracy is: 92.17315239580746\n"
     ]
    }
   ],
   "source": [
    "PercentError(preds, ytest)"
   ],
   "metadata": {
    "collapsed": false,
    "pycharm": {
     "name": "#%%\n"
    }
   }
  },
  {
   "cell_type": "code",
   "execution_count": 16,
   "outputs": [
    {
     "data": {
      "text/plain": "         Date  Total Volume     4046       4225    4770  Total Bags  \\\n0  2015-12-27      64236.62  1036.74   54454.85   48.16     8696.87   \n1  2015-12-20      54876.98   674.28   44638.81   58.33     9505.56   \n2  2015-12-13     118220.22   794.70  109149.67  130.50     8145.35   \n3  2015-12-06      78992.15  1132.00   71976.41   72.58     5811.16   \n4  2015-11-29      51039.60   941.48   43838.39   75.78     6183.95   \n\n   Small Bags  Large Bags  XLarge Bags          type  year  region  \n0     8603.62       93.25          0.0  conventional  2015  Albany  \n1     9408.07       97.49          0.0  conventional  2015  Albany  \n2     8042.21      103.14          0.0  conventional  2015  Albany  \n3     5677.40      133.76          0.0  conventional  2015  Albany  \n4     5986.26      197.69          0.0  conventional  2015  Albany  ",
      "text/html": "<div>\n<style scoped>\n    .dataframe tbody tr th:only-of-type {\n        vertical-align: middle;\n    }\n\n    .dataframe tbody tr th {\n        vertical-align: top;\n    }\n\n    .dataframe thead th {\n        text-align: right;\n    }\n</style>\n<table border=\"1\" class=\"dataframe\">\n  <thead>\n    <tr style=\"text-align: right;\">\n      <th></th>\n      <th>Date</th>\n      <th>Total Volume</th>\n      <th>4046</th>\n      <th>4225</th>\n      <th>4770</th>\n      <th>Total Bags</th>\n      <th>Small Bags</th>\n      <th>Large Bags</th>\n      <th>XLarge Bags</th>\n      <th>type</th>\n      <th>year</th>\n      <th>region</th>\n    </tr>\n  </thead>\n  <tbody>\n    <tr>\n      <th>0</th>\n      <td>2015-12-27</td>\n      <td>64236.62</td>\n      <td>1036.74</td>\n      <td>54454.85</td>\n      <td>48.16</td>\n      <td>8696.87</td>\n      <td>8603.62</td>\n      <td>93.25</td>\n      <td>0.0</td>\n      <td>conventional</td>\n      <td>2015</td>\n      <td>Albany</td>\n    </tr>\n    <tr>\n      <th>1</th>\n      <td>2015-12-20</td>\n      <td>54876.98</td>\n      <td>674.28</td>\n      <td>44638.81</td>\n      <td>58.33</td>\n      <td>9505.56</td>\n      <td>9408.07</td>\n      <td>97.49</td>\n      <td>0.0</td>\n      <td>conventional</td>\n      <td>2015</td>\n      <td>Albany</td>\n    </tr>\n    <tr>\n      <th>2</th>\n      <td>2015-12-13</td>\n      <td>118220.22</td>\n      <td>794.70</td>\n      <td>109149.67</td>\n      <td>130.50</td>\n      <td>8145.35</td>\n      <td>8042.21</td>\n      <td>103.14</td>\n      <td>0.0</td>\n      <td>conventional</td>\n      <td>2015</td>\n      <td>Albany</td>\n    </tr>\n    <tr>\n      <th>3</th>\n      <td>2015-12-06</td>\n      <td>78992.15</td>\n      <td>1132.00</td>\n      <td>71976.41</td>\n      <td>72.58</td>\n      <td>5811.16</td>\n      <td>5677.40</td>\n      <td>133.76</td>\n      <td>0.0</td>\n      <td>conventional</td>\n      <td>2015</td>\n      <td>Albany</td>\n    </tr>\n    <tr>\n      <th>4</th>\n      <td>2015-11-29</td>\n      <td>51039.60</td>\n      <td>941.48</td>\n      <td>43838.39</td>\n      <td>75.78</td>\n      <td>6183.95</td>\n      <td>5986.26</td>\n      <td>197.69</td>\n      <td>0.0</td>\n      <td>conventional</td>\n      <td>2015</td>\n      <td>Albany</td>\n    </tr>\n  </tbody>\n</table>\n</div>"
     },
     "execution_count": 16,
     "metadata": {},
     "output_type": "execute_result"
    }
   ],
   "source": [
    "data.head()"
   ],
   "metadata": {
    "collapsed": false,
    "pycharm": {
     "name": "#%%\n"
    }
   }
  },
  {
   "cell_type": "code",
   "execution_count": 22,
   "outputs": [],
   "source": [
    "datac = data\n",
    "datac = datac.set_index('Date')"
   ],
   "metadata": {
    "collapsed": false,
    "pycharm": {
     "name": "#%%\n"
    }
   }
  },
  {
   "cell_type": "code",
   "execution_count": 45,
   "outputs": [
    {
     "data": {
      "text/plain": "             Date  Total Volume       4046       4225      4770  Total Bags  \\\n3      2015-12-06      78992.15    1132.00   71976.41     72.58     5811.16   \n55     2015-12-06     357636.82  283024.01   23740.85    181.92    50690.04   \n107    2015-12-06     649141.25   51129.29  453586.50  25760.49   118664.97   \n159    2015-12-06      95295.34   35590.98   12526.50   4086.26    43091.60   \n211    2015-12-06     488679.31    5126.32  407520.22    142.99    75889.78   \n...           ...           ...        ...        ...       ...         ...   \n11625  2015-12-06       2339.64     733.63    1478.08      0.00      127.93   \n11677  2015-12-06       1803.00       0.00      54.03      0.00     1748.97   \n11729  2015-12-06       1739.62     919.89      16.40      0.00      803.33   \n11781  2015-12-06     514112.96   90203.21  212582.74   4066.09   207260.92   \n11833  2015-12-06     139927.17   22320.01   49596.02     61.25    67949.89   \n\n       Small Bags  Large Bags  XLarge Bags          type  year  \\\n3         5677.40      133.76         0.00  conventional  2015   \n55       37032.67    13654.66         2.71  conventional  2015   \n107     117112.77     1552.20         0.00  conventional  2015   \n159      42734.53        0.00       357.07  conventional  2015   \n211      75666.22      223.56         0.00  conventional  2015   \n...           ...         ...          ...           ...   ...   \n11625       24.55      103.38         0.00       organic  2015   \n11677     1738.06       10.91         0.00       organic  2015   \n11729      803.33        0.00         0.00       organic  2015   \n11781   108684.49    98576.43         0.00       organic  2015   \n11833     3623.32    64326.57         0.00       organic  2015   \n\n                    region  \n3                   Albany  \n55                 Atlanta  \n107    BaltimoreWashington  \n159                  Boise  \n211                 Boston  \n...                    ...  \n11625              StLouis  \n11677             Syracuse  \n11729                Tampa  \n11781              TotalUS  \n11833                 West  \n\n[107 rows x 12 columns]",
      "text/html": "<div>\n<style scoped>\n    .dataframe tbody tr th:only-of-type {\n        vertical-align: middle;\n    }\n\n    .dataframe tbody tr th {\n        vertical-align: top;\n    }\n\n    .dataframe thead th {\n        text-align: right;\n    }\n</style>\n<table border=\"1\" class=\"dataframe\">\n  <thead>\n    <tr style=\"text-align: right;\">\n      <th></th>\n      <th>Date</th>\n      <th>Total Volume</th>\n      <th>4046</th>\n      <th>4225</th>\n      <th>4770</th>\n      <th>Total Bags</th>\n      <th>Small Bags</th>\n      <th>Large Bags</th>\n      <th>XLarge Bags</th>\n      <th>type</th>\n      <th>year</th>\n      <th>region</th>\n    </tr>\n  </thead>\n  <tbody>\n    <tr>\n      <th>3</th>\n      <td>2015-12-06</td>\n      <td>78992.15</td>\n      <td>1132.00</td>\n      <td>71976.41</td>\n      <td>72.58</td>\n      <td>5811.16</td>\n      <td>5677.40</td>\n      <td>133.76</td>\n      <td>0.00</td>\n      <td>conventional</td>\n      <td>2015</td>\n      <td>Albany</td>\n    </tr>\n    <tr>\n      <th>55</th>\n      <td>2015-12-06</td>\n      <td>357636.82</td>\n      <td>283024.01</td>\n      <td>23740.85</td>\n      <td>181.92</td>\n      <td>50690.04</td>\n      <td>37032.67</td>\n      <td>13654.66</td>\n      <td>2.71</td>\n      <td>conventional</td>\n      <td>2015</td>\n      <td>Atlanta</td>\n    </tr>\n    <tr>\n      <th>107</th>\n      <td>2015-12-06</td>\n      <td>649141.25</td>\n      <td>51129.29</td>\n      <td>453586.50</td>\n      <td>25760.49</td>\n      <td>118664.97</td>\n      <td>117112.77</td>\n      <td>1552.20</td>\n      <td>0.00</td>\n      <td>conventional</td>\n      <td>2015</td>\n      <td>BaltimoreWashington</td>\n    </tr>\n    <tr>\n      <th>159</th>\n      <td>2015-12-06</td>\n      <td>95295.34</td>\n      <td>35590.98</td>\n      <td>12526.50</td>\n      <td>4086.26</td>\n      <td>43091.60</td>\n      <td>42734.53</td>\n      <td>0.00</td>\n      <td>357.07</td>\n      <td>conventional</td>\n      <td>2015</td>\n      <td>Boise</td>\n    </tr>\n    <tr>\n      <th>211</th>\n      <td>2015-12-06</td>\n      <td>488679.31</td>\n      <td>5126.32</td>\n      <td>407520.22</td>\n      <td>142.99</td>\n      <td>75889.78</td>\n      <td>75666.22</td>\n      <td>223.56</td>\n      <td>0.00</td>\n      <td>conventional</td>\n      <td>2015</td>\n      <td>Boston</td>\n    </tr>\n    <tr>\n      <th>...</th>\n      <td>...</td>\n      <td>...</td>\n      <td>...</td>\n      <td>...</td>\n      <td>...</td>\n      <td>...</td>\n      <td>...</td>\n      <td>...</td>\n      <td>...</td>\n      <td>...</td>\n      <td>...</td>\n      <td>...</td>\n    </tr>\n    <tr>\n      <th>11625</th>\n      <td>2015-12-06</td>\n      <td>2339.64</td>\n      <td>733.63</td>\n      <td>1478.08</td>\n      <td>0.00</td>\n      <td>127.93</td>\n      <td>24.55</td>\n      <td>103.38</td>\n      <td>0.00</td>\n      <td>organic</td>\n      <td>2015</td>\n      <td>StLouis</td>\n    </tr>\n    <tr>\n      <th>11677</th>\n      <td>2015-12-06</td>\n      <td>1803.00</td>\n      <td>0.00</td>\n      <td>54.03</td>\n      <td>0.00</td>\n      <td>1748.97</td>\n      <td>1738.06</td>\n      <td>10.91</td>\n      <td>0.00</td>\n      <td>organic</td>\n      <td>2015</td>\n      <td>Syracuse</td>\n    </tr>\n    <tr>\n      <th>11729</th>\n      <td>2015-12-06</td>\n      <td>1739.62</td>\n      <td>919.89</td>\n      <td>16.40</td>\n      <td>0.00</td>\n      <td>803.33</td>\n      <td>803.33</td>\n      <td>0.00</td>\n      <td>0.00</td>\n      <td>organic</td>\n      <td>2015</td>\n      <td>Tampa</td>\n    </tr>\n    <tr>\n      <th>11781</th>\n      <td>2015-12-06</td>\n      <td>514112.96</td>\n      <td>90203.21</td>\n      <td>212582.74</td>\n      <td>4066.09</td>\n      <td>207260.92</td>\n      <td>108684.49</td>\n      <td>98576.43</td>\n      <td>0.00</td>\n      <td>organic</td>\n      <td>2015</td>\n      <td>TotalUS</td>\n    </tr>\n    <tr>\n      <th>11833</th>\n      <td>2015-12-06</td>\n      <td>139927.17</td>\n      <td>22320.01</td>\n      <td>49596.02</td>\n      <td>61.25</td>\n      <td>67949.89</td>\n      <td>3623.32</td>\n      <td>64326.57</td>\n      <td>0.00</td>\n      <td>organic</td>\n      <td>2015</td>\n      <td>West</td>\n    </tr>\n  </tbody>\n</table>\n<p>107 rows × 12 columns</p>\n</div>"
     },
     "execution_count": 45,
     "metadata": {},
     "output_type": "execute_result"
    }
   ],
   "source": [
    "data[data.Date == '2015-12-06']"
   ],
   "metadata": {
    "collapsed": false,
    "pycharm": {
     "name": "#%%\n"
    }
   }
  },
  {
   "cell_type": "code",
   "execution_count": 29,
   "outputs": [
    {
     "data": {
      "text/plain": "            Total Volume       4046       4225      4770  Total Bags  \\\nDate                                                                   \n2015-12-06      78992.15    1132.00   71976.41     72.58     5811.16   \n2015-12-06     357636.82  283024.01   23740.85    181.92    50690.04   \n2015-12-06     649141.25   51129.29  453586.50  25760.49   118664.97   \n2015-12-06      95295.34   35590.98   12526.50   4086.26    43091.60   \n2015-12-06     488679.31    5126.32  407520.22    142.99    75889.78   \n...                  ...        ...        ...       ...         ...   \n2015-12-06       2339.64     733.63    1478.08      0.00      127.93   \n2015-12-06       1803.00       0.00      54.03      0.00     1748.97   \n2015-12-06       1739.62     919.89      16.40      0.00      803.33   \n2015-12-06     514112.96   90203.21  212582.74   4066.09   207260.92   \n2015-12-06     139927.17   22320.01   49596.02     61.25    67949.89   \n\n            Small Bags  Large Bags  XLarge Bags          type  year  \\\nDate                                                                  \n2015-12-06     5677.40      133.76         0.00  conventional  2015   \n2015-12-06    37032.67    13654.66         2.71  conventional  2015   \n2015-12-06   117112.77     1552.20         0.00  conventional  2015   \n2015-12-06    42734.53        0.00       357.07  conventional  2015   \n2015-12-06    75666.22      223.56         0.00  conventional  2015   \n...                ...         ...          ...           ...   ...   \n2015-12-06       24.55      103.38         0.00       organic  2015   \n2015-12-06     1738.06       10.91         0.00       organic  2015   \n2015-12-06      803.33        0.00         0.00       organic  2015   \n2015-12-06   108684.49    98576.43         0.00       organic  2015   \n2015-12-06     3623.32    64326.57         0.00       organic  2015   \n\n                         region  \nDate                             \n2015-12-06               Albany  \n2015-12-06              Atlanta  \n2015-12-06  BaltimoreWashington  \n2015-12-06                Boise  \n2015-12-06               Boston  \n...                         ...  \n2015-12-06              StLouis  \n2015-12-06             Syracuse  \n2015-12-06                Tampa  \n2015-12-06              TotalUS  \n2015-12-06                 West  \n\n[107 rows x 11 columns]",
      "text/html": "<div>\n<style scoped>\n    .dataframe tbody tr th:only-of-type {\n        vertical-align: middle;\n    }\n\n    .dataframe tbody tr th {\n        vertical-align: top;\n    }\n\n    .dataframe thead th {\n        text-align: right;\n    }\n</style>\n<table border=\"1\" class=\"dataframe\">\n  <thead>\n    <tr style=\"text-align: right;\">\n      <th></th>\n      <th>Total Volume</th>\n      <th>4046</th>\n      <th>4225</th>\n      <th>4770</th>\n      <th>Total Bags</th>\n      <th>Small Bags</th>\n      <th>Large Bags</th>\n      <th>XLarge Bags</th>\n      <th>type</th>\n      <th>year</th>\n      <th>region</th>\n    </tr>\n    <tr>\n      <th>Date</th>\n      <th></th>\n      <th></th>\n      <th></th>\n      <th></th>\n      <th></th>\n      <th></th>\n      <th></th>\n      <th></th>\n      <th></th>\n      <th></th>\n      <th></th>\n    </tr>\n  </thead>\n  <tbody>\n    <tr>\n      <th>2015-12-06</th>\n      <td>78992.15</td>\n      <td>1132.00</td>\n      <td>71976.41</td>\n      <td>72.58</td>\n      <td>5811.16</td>\n      <td>5677.40</td>\n      <td>133.76</td>\n      <td>0.00</td>\n      <td>conventional</td>\n      <td>2015</td>\n      <td>Albany</td>\n    </tr>\n    <tr>\n      <th>2015-12-06</th>\n      <td>357636.82</td>\n      <td>283024.01</td>\n      <td>23740.85</td>\n      <td>181.92</td>\n      <td>50690.04</td>\n      <td>37032.67</td>\n      <td>13654.66</td>\n      <td>2.71</td>\n      <td>conventional</td>\n      <td>2015</td>\n      <td>Atlanta</td>\n    </tr>\n    <tr>\n      <th>2015-12-06</th>\n      <td>649141.25</td>\n      <td>51129.29</td>\n      <td>453586.50</td>\n      <td>25760.49</td>\n      <td>118664.97</td>\n      <td>117112.77</td>\n      <td>1552.20</td>\n      <td>0.00</td>\n      <td>conventional</td>\n      <td>2015</td>\n      <td>BaltimoreWashington</td>\n    </tr>\n    <tr>\n      <th>2015-12-06</th>\n      <td>95295.34</td>\n      <td>35590.98</td>\n      <td>12526.50</td>\n      <td>4086.26</td>\n      <td>43091.60</td>\n      <td>42734.53</td>\n      <td>0.00</td>\n      <td>357.07</td>\n      <td>conventional</td>\n      <td>2015</td>\n      <td>Boise</td>\n    </tr>\n    <tr>\n      <th>2015-12-06</th>\n      <td>488679.31</td>\n      <td>5126.32</td>\n      <td>407520.22</td>\n      <td>142.99</td>\n      <td>75889.78</td>\n      <td>75666.22</td>\n      <td>223.56</td>\n      <td>0.00</td>\n      <td>conventional</td>\n      <td>2015</td>\n      <td>Boston</td>\n    </tr>\n    <tr>\n      <th>...</th>\n      <td>...</td>\n      <td>...</td>\n      <td>...</td>\n      <td>...</td>\n      <td>...</td>\n      <td>...</td>\n      <td>...</td>\n      <td>...</td>\n      <td>...</td>\n      <td>...</td>\n      <td>...</td>\n    </tr>\n    <tr>\n      <th>2015-12-06</th>\n      <td>2339.64</td>\n      <td>733.63</td>\n      <td>1478.08</td>\n      <td>0.00</td>\n      <td>127.93</td>\n      <td>24.55</td>\n      <td>103.38</td>\n      <td>0.00</td>\n      <td>organic</td>\n      <td>2015</td>\n      <td>StLouis</td>\n    </tr>\n    <tr>\n      <th>2015-12-06</th>\n      <td>1803.00</td>\n      <td>0.00</td>\n      <td>54.03</td>\n      <td>0.00</td>\n      <td>1748.97</td>\n      <td>1738.06</td>\n      <td>10.91</td>\n      <td>0.00</td>\n      <td>organic</td>\n      <td>2015</td>\n      <td>Syracuse</td>\n    </tr>\n    <tr>\n      <th>2015-12-06</th>\n      <td>1739.62</td>\n      <td>919.89</td>\n      <td>16.40</td>\n      <td>0.00</td>\n      <td>803.33</td>\n      <td>803.33</td>\n      <td>0.00</td>\n      <td>0.00</td>\n      <td>organic</td>\n      <td>2015</td>\n      <td>Tampa</td>\n    </tr>\n    <tr>\n      <th>2015-12-06</th>\n      <td>514112.96</td>\n      <td>90203.21</td>\n      <td>212582.74</td>\n      <td>4066.09</td>\n      <td>207260.92</td>\n      <td>108684.49</td>\n      <td>98576.43</td>\n      <td>0.00</td>\n      <td>organic</td>\n      <td>2015</td>\n      <td>TotalUS</td>\n    </tr>\n    <tr>\n      <th>2015-12-06</th>\n      <td>139927.17</td>\n      <td>22320.01</td>\n      <td>49596.02</td>\n      <td>61.25</td>\n      <td>67949.89</td>\n      <td>3623.32</td>\n      <td>64326.57</td>\n      <td>0.00</td>\n      <td>organic</td>\n      <td>2015</td>\n      <td>West</td>\n    </tr>\n  </tbody>\n</table>\n<p>107 rows × 11 columns</p>\n</div>"
     },
     "execution_count": 29,
     "metadata": {},
     "output_type": "execute_result"
    }
   ],
   "source": [
    "datac.loc['2015-12-06']"
   ],
   "metadata": {
    "collapsed": false,
    "pycharm": {
     "name": "#%%\n"
    }
   }
  },
  {
   "cell_type": "code",
   "execution_count": 46,
   "outputs": [
    {
     "data": {
      "text/plain": "         Date  Total Volume    4046      4225   4770  Total Bags  Small Bags  \\\n3  2015-12-06      78992.15  1132.0  71976.41  72.58     5811.16      5677.4   \n\n   Large Bags  XLarge Bags          type    year  region  \n3      133.76          0.0  conventional  2015.0  Albany  ",
      "text/html": "<div>\n<style scoped>\n    .dataframe tbody tr th:only-of-type {\n        vertical-align: middle;\n    }\n\n    .dataframe tbody tr th {\n        vertical-align: top;\n    }\n\n    .dataframe thead th {\n        text-align: right;\n    }\n</style>\n<table border=\"1\" class=\"dataframe\">\n  <thead>\n    <tr style=\"text-align: right;\">\n      <th></th>\n      <th>Date</th>\n      <th>Total Volume</th>\n      <th>4046</th>\n      <th>4225</th>\n      <th>4770</th>\n      <th>Total Bags</th>\n      <th>Small Bags</th>\n      <th>Large Bags</th>\n      <th>XLarge Bags</th>\n      <th>type</th>\n      <th>year</th>\n      <th>region</th>\n    </tr>\n  </thead>\n  <tbody>\n    <tr>\n      <th>3</th>\n      <td>2015-12-06</td>\n      <td>78992.15</td>\n      <td>1132.0</td>\n      <td>71976.41</td>\n      <td>72.58</td>\n      <td>5811.16</td>\n      <td>5677.4</td>\n      <td>133.76</td>\n      <td>0.0</td>\n      <td>conventional</td>\n      <td>2015.0</td>\n      <td>Albany</td>\n    </tr>\n  </tbody>\n</table>\n</div>"
     },
     "execution_count": 46,
     "metadata": {},
     "output_type": "execute_result"
    }
   ],
   "source": [
    "datacl = data[data.Date == '2015-12-06']\n",
    "datacll = datacl[datacl.region == 'Albany'].where(datacl.type == 'conventional').dropna()\n",
    "# datacl.where(datac['region'] == 'Albany')"
   ],
   "metadata": {
    "collapsed": false,
    "pycharm": {
     "name": "#%%\n"
    }
   }
  },
  {
   "cell_type": "code",
   "execution_count": 17,
   "outputs": [
    {
     "name": "stdout",
     "output_type": "stream",
     "text": [
      "{'Date': {0: '2015-12-27', 1: '2015-12-20', 2: '2015-12-13', 3: '2015-12-06', 4: '2015-11-29'}, 'Total Volume': {0: 64236.62, 1: 54876.98, 2: 118220.22, 3: 78992.15, 4: 51039.6}, '4046': {0: 1036.74, 1: 674.28, 2: 794.7, 3: 1132.0, 4: 941.48}, '4225': {0: 54454.85, 1: 44638.81, 2: 109149.67, 3: 71976.41, 4: 43838.39}, '4770': {0: 48.16, 1: 58.33, 2: 130.5, 3: 72.58, 4: 75.78}, 'Total Bags': {0: 8696.87, 1: 9505.56, 2: 8145.35, 3: 5811.16, 4: 6183.95}, 'Small Bags': {0: 8603.62, 1: 9408.07, 2: 8042.21, 3: 5677.4, 4: 5986.26}, 'Large Bags': {0: 93.25, 1: 97.49, 2: 103.14, 3: 133.76, 4: 197.69}, 'XLarge Bags': {0: 0.0, 1: 0.0, 2: 0.0, 3: 0.0, 4: 0.0}, 'type': {0: 'conventional', 1: 'conventional', 2: 'conventional', 3: 'conventional', 4: 'conventional'}, 'year': {0: 2015, 1: 2015, 2: 2015, 3: 2015, 4: 2015}, 'region': {0: 'Albany', 1: 'Albany', 2: 'Albany', 3: 'Albany', 4: 'Albany'}}\n"
     ]
    }
   ],
   "source": [
    "print(data.head(5).to_dict())"
   ],
   "metadata": {
    "collapsed": false,
    "pycharm": {
     "name": "#%%\n"
    }
   }
  },
  {
   "cell_type": "code",
   "execution_count": 18,
   "outputs": [
    {
     "data": {
      "text/plain": "datetime.datetime(2015, 12, 6, 0, 0)"
     },
     "execution_count": 18,
     "metadata": {},
     "output_type": "execute_result"
    }
   ],
   "source": [
    "from datetime import datetime\n",
    "\n",
    "datetime.strptime('2015-12-06', '%Y-%m-%d')"
   ],
   "metadata": {
    "collapsed": false,
    "pycharm": {
     "name": "#%%\n"
    }
   }
  },
  {
   "cell_type": "code",
   "execution_count": null,
   "outputs": [],
   "source": [
    "data.loc[78992.15]"
   ],
   "metadata": {
    "collapsed": false,
    "pycharm": {
     "name": "#%%\n"
    }
   }
  },
  {
   "cell_type": "code",
   "execution_count": null,
   "outputs": [],
   "source": [
    "#using linear regression:\n",
    "LinearModel = LinearRegression()\n",
    "LinearModel.fit(trainflights, ytrain)"
   ],
   "metadata": {
    "collapsed": false,
    "pycharm": {
     "name": "#%%\n"
    }
   }
  },
  {
   "cell_type": "code",
   "execution_count": null,
   "id": "95200552-88d2-44c9-a51e-0b2596bd323a",
   "metadata": {},
   "outputs": [],
   "source": [
    "#predicting on the test dataset:\n",
    "LinearPredictions = LinearModel.predict(testflights)\n",
    "PercentError(LinearPredictions, ytest)"
   ]
  },
  {
   "cell_type": "markdown",
   "id": "8f2e8716-66b7-43eb-999a-3a31f58c2939",
   "metadata": {},
   "source": [
    "I got to this point but I think that train_test_split is not allowed to be used on time series data. I am pretty sure that this is not time series data but it is very similar region wise I guess. Let's just assume that data is not time correlated in any way."
   ]
  },
  {
   "cell_type": "markdown",
   "id": "b2cdfd9d-9b78-45a7-8dc6-1cf2876e8d2b",
   "metadata": {},
   "source": [
    "On the other hand how can it not be correlated? As we know what the price will be in August and in December, predicting the price in the October is much easier that way, that is why maybe just going for the train test split scews the correctness of the predictions by a long shot. What if I use TimeSeriesSplit instead?TimeSeriesSplit"
   ]
  },
  {
   "cell_type": "code",
   "execution_count": null,
   "id": "bc3b5812-e912-4ff2-8799-10698f53893b",
   "metadata": {
    "tags": []
   },
   "outputs": [],
   "source": [
    "import pickle\n",
    "\n",
    "# pickle.dump(model, open('../data_v2/model.pkl', 'wb'))"
   ]
  },
  {
   "cell_type": "code",
   "execution_count": null,
   "id": "5e5b4b5b-c96f-44f1-b5e8-0f6e4e867a74",
   "metadata": {},
   "outputs": [],
   "source": []
  }
 ],
 "metadata": {
  "kernelspec": {
   "display_name": "Python 3 (ipykernel)",
   "language": "python",
   "name": "python3"
  },
  "language_info": {
   "codemirror_mode": {
    "name": "ipython",
    "version": 3
   },
   "file_extension": ".py",
   "mimetype": "text/x-python",
   "name": "python",
   "nbconvert_exporter": "python",
   "pygments_lexer": "ipython3",
   "version": "3.7.11"
  }
 },
 "nbformat": 4,
 "nbformat_minor": 5
}