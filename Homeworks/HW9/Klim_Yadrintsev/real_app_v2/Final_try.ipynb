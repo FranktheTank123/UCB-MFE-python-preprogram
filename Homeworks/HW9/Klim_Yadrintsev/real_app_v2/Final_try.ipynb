{
 "cells": [
  {
   "cell_type": "code",
   "execution_count": null,
   "id": "2758de54-ff45-4414-8c90-87f0929f6ffc",
   "metadata": {
    "tags": []
   },
   "outputs": [],
   "source": [
    "! pip install tensorflow"
   ]
  },
  {
   "cell_type": "code",
   "execution_count": null,
   "id": "27283f2d-fb26-4174-81cd-962af98ccf12",
   "metadata": {},
   "outputs": [],
   "source": [
    "#importing libraries\n",
    "import sklearn\n",
    "import pandas as pd\n",
    "import seaborn as sns\n",
    "import keras as K\n",
    "import keras.layers as Dense\n",
    "import keras.models as Sequential\n",
    "import keras.optimizers as Adam\n",
    "import numpy as np\n",
    "\n",
    "from sklearn.preprocessing import MinMaxScaler\n",
    "from sklearn.impute import SimpleImputer\n",
    "from sklearn.compose import ColumnTransformer\n",
    "from sklearn.pipeline import Pipeline\n",
    "from sklearn.preprocessing import OneHotEncoder\n",
    "from sklearn.ensemble import RandomForestRegressor\n",
    "from sklearn.linear_model import LinearRegression"
   ]
  },
  {
   "cell_type": "code",
   "execution_count": null,
   "id": "0a52719b-4839-4fe0-a80f-c22bccee5283",
   "metadata": {},
   "outputs": [],
   "source": [
    "data_location = 'sqlite:///../data_v2/avocado.db'\n",
    "data = pd.read_sql('SELECT * FROM avocado', data_location)"
   ]
  },
  {
   "cell_type": "code",
   "execution_count": null,
   "id": "19510be7-b083-42c6-82c2-39c8ca8a15bc",
   "metadata": {},
   "outputs": [],
   "source": [
    "data.head(10)"
   ]
  },
  {
   "cell_type": "code",
   "execution_count": null,
   "id": "6774f3e1-2ba5-4412-8a69-ab3db4f2c80d",
   "metadata": {},
   "outputs": [],
   "source": [
    "data = data.iloc[: , 1:]"
   ]
  },
  {
   "cell_type": "code",
   "execution_count": null,
   "id": "1100b57b-8dd7-41c5-a76f-0e700563763e",
   "metadata": {},
   "outputs": [],
   "source": [
    "#seperating the prices to be predicted\n",
    "y = data.AveragePrice\n",
    "data.drop(['AveragePrice'], axis=1, inplace=True)"
   ]
  },
  {
   "cell_type": "code",
   "execution_count": null,
   "id": "36174f1b-a934-438a-95e1-ab3bf7bd2cf1",
   "metadata": {},
   "outputs": [],
   "source": []
  },
  {
   "cell_type": "code",
   "execution_count": null,
   "id": "74841686-0110-4811-8549-7991c79c062c",
   "metadata": {},
   "outputs": [],
   "source": [
    "data = data.astype({'Date': 'object', 'Total Volume' : 'float64', '4046' : 'float64', '4225' : 'float64', '4770' : 'float64', 'Total Bags' : 'float64', 'Small Bags' : 'float64', 'Large Bags' : 'float64', 'XLarge Bags' : 'float64', 'type' : 'object', 'year' : 'int', 'region':'object' })"
   ]
  },
  {
   "cell_type": "code",
   "execution_count": null,
   "id": "920ffe21-e3e1-4e0e-9b79-3d676f09f1a4",
   "metadata": {},
   "outputs": [],
   "source": [
    "#train-test split\n",
    "#splitting the data into training and test datasets\n",
    "from sklearn.model_selection import train_test_split\n",
    "\n",
    "trainflights, testflights, ytrain, ytest = train_test_split(data, y, train_size=0.7,test_size=0.3, random_state=0)"
   ]
  },
  {
   "cell_type": "code",
   "execution_count": null,
   "id": "1fb9d62d-91a6-44b9-8d95-98403829b923",
   "metadata": {},
   "outputs": [],
   "source": [
    "s = (trainflights.dtypes == 'object')\n",
    "object_cols = list(s[s].index)\n",
    "\n",
    "n = (trainflights.dtypes == ('float64','int64'))\n",
    "numerical_cols = list(n[n].index)"
   ]
  },
  {
   "cell_type": "code",
   "execution_count": null,
   "id": "7d1df36b-371d-48f2-b87d-97ae1adfbbc4",
   "metadata": {},
   "outputs": [],
   "source": [
    "#checking the columns containing categorical columns:\n",
    "print(object_cols)"
   ]
  },
  {
   "cell_type": "code",
   "execution_count": null,
   "id": "feec4ea6-8743-4d25-b91e-4e2a912de0c7",
   "metadata": {},
   "outputs": [],
   "source": [
    "#using One Hot Encoder to make the categorical columns usable\n",
    "\n",
    "oneHot = OneHotEncoder(handle_unknown = 'ignore', sparse=False)\n",
    "oneHottrain = pd.DataFrame(oneHot.fit_transform(trainflights[object_cols]))\n",
    "oneHottest = pd.DataFrame(oneHot.transform(testflights[object_cols]))\n",
    "\n",
    "#reattaching index since OneHotEncoder removes them:\n",
    "oneHottrain.index = trainflights.index\n",
    "oneHottest.index = testflights.index \n",
    "\n",
    "#dropping the old categorical columns:\n",
    "cattraincol = trainflights.drop(object_cols, axis=1)\n",
    "cattestcol = testflights.drop(object_cols, axis=1)\n",
    "\n",
    "#concatenating the new columns:\n",
    "trainflights = pd.concat([cattraincol, oneHottrain], axis=1)\n",
    "testflights = pd.concat([cattestcol, oneHottest], axis=1)"
   ]
  },
  {
   "cell_type": "code",
   "execution_count": null,
   "id": "7137f20e-e768-419d-93c4-3a670c6e7563",
   "metadata": {},
   "outputs": [],
   "source": [
    "#scaling the values\n",
    "\n",
    "trainf = trainflights.values\n",
    "testf = testflights.values\n",
    "\n",
    "minmax = MinMaxScaler()\n",
    "\n",
    "trainflights = minmax.fit_transform(trainf)\n",
    "testflights = minmax.transform(testf)\n",
    "\n",
    "#defining a way to find Mean Absolute Percentage Error:\n",
    "def PercentError(preds, ytest):\n",
    "  error = abs(preds - ytest)\n",
    "\n",
    "  errorp = np.mean(100 - 100*(error/ytest))\n",
    "\n",
    "  print('the accuracy is:', errorp)"
   ]
  },
  {
   "cell_type": "code",
   "execution_count": null,
   "id": "a1f1e284-391b-4a9b-8fdc-4c8a82dce7fa",
   "metadata": {},
   "outputs": [],
   "source": [
    "#implementing the algo:\n",
    "model = RandomForestRegressor(n_estimators=100, random_state=0, verbose=1)\n",
    "\n",
    "#fitting the data to random forest regressor:\n",
    "model.fit(trainflights, ytrain)"
   ]
  },
  {
   "cell_type": "code",
   "execution_count": null,
   "id": "783ea4ec-c734-43bf-ba69-a0d2f719de5c",
   "metadata": {},
   "outputs": [],
   "source": [
    "#predicting the test dataset:\n",
    "preds = model.predict(testflights)\n"
   ]
  },
  {
   "cell_type": "code",
   "execution_count": null,
   "id": "f79c1312-7019-4195-b0ed-65579d1445e8",
   "metadata": {},
   "outputs": [],
   "source": [
    "ytest = ytest.astype('float')"
   ]
  },
  {
   "cell_type": "code",
   "execution_count": null,
   "id": "cbe0ca49-20ef-4c5f-ac9d-b0bca32517b5",
   "metadata": {},
   "outputs": [],
   "source": [
    "PercentError(preds, ytest)"
   ]
  },
  {
   "cell_type": "code",
   "execution_count": null,
   "id": "64f54d64-13e7-4267-8e7e-c533a5af2cdd",
   "metadata": {},
   "outputs": [],
   "source": [
    "#using linear regression:\n",
    "LinearModel = LinearRegression()\n",
    "LinearModel.fit(trainflights, ytrain)"
   ]
  },
  {
   "cell_type": "code",
   "execution_count": null,
   "id": "95200552-88d2-44c9-a51e-0b2596bd323a",
   "metadata": {},
   "outputs": [],
   "source": [
    "#predicting on the test dataset:\n",
    "LinearPredictions = LinearModel.predict(testflights)\n",
    "PercentError(LinearPredictions, ytest)"
   ]
  },
  {
   "cell_type": "markdown",
   "id": "8f2e8716-66b7-43eb-999a-3a31f58c2939",
   "metadata": {},
   "source": [
    "I got to this point but I think that train_test_split is not allowed to be used on time series data. I am pretty sure that this is not time series data but it is very similar region wise I guess. Let's just assume that data is not time correlated in any way."
   ]
  },
  {
   "cell_type": "markdown",
   "id": "b2cdfd9d-9b78-45a7-8dc6-1cf2876e8d2b",
   "metadata": {},
   "source": [
    "On the other hand how can it not be correlated? As we know what the price will be in August and in December, predicting the price in the October is much easier that way, that is why maybe just going for the train test split scews the correctness of the predictions by a long shot. What if I use TimeSeriesSplit instead?TimeSeriesSplit"
   ]
  },
  {
   "cell_type": "code",
   "execution_count": null,
   "id": "bc3b5812-e912-4ff2-8799-10698f53893b",
   "metadata": {},
   "outputs": [],
   "source": []
  }
 ],
 "metadata": {
  "kernelspec": {
   "display_name": "Python 3 (ipykernel)",
   "language": "python",
   "name": "python3"
  },
  "language_info": {
   "codemirror_mode": {
    "name": "ipython",
    "version": 3
   },
   "file_extension": ".py",
   "mimetype": "text/x-python",
   "name": "python",
   "nbconvert_exporter": "python",
   "pygments_lexer": "ipython3",
   "version": "3.9.7"
  }
 },
 "nbformat": 4,
 "nbformat_minor": 5
}
