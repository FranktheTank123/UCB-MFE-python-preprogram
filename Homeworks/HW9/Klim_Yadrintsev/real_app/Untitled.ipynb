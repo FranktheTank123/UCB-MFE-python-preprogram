{
 "cells": [
  {
   "cell_type": "markdown",
   "id": "ffcb7d68-3733-468b-aef3-882cfa422cc1",
   "metadata": {},
   "source": [
    "# Working with a new loan default dataset\n",
    "\n",
    "https://www.kaggle.com/csafrit2/higher-education-students-performance-evaluation\n",
    "\n",
    "Abstract\n",
    "The data was collected from the Faculty of Engineering and Faculty of Educational Sciences students in 2019. The purpose is to predict students' end-of-term performances using ML techniques.\n",
    "\n",
    "Attribute Information:\n",
    "Student ID\n",
    "1- Student Age (1: 18-21, 2: 22-25, 3: above 26)\n",
    "2- Sex (1: female, 2: male)\n",
    "3- Graduated high-school type: (1: private, 2: state, 3: other)\n",
    "4- Scholarship type: (1: None, 2: 25%, 3: 50%, 4: 75%, 5: Full)\n",
    "5- Additional work: (1: Yes, 2: No)\n",
    "6- Regular artistic or sports activity: (1: Yes, 2: No)\n",
    "7- Do you have a partner: (1: Yes, 2: No)\n",
    "8- Total salary if available (1: USD 135-200, 2: USD 201-270, 3: USD 271-340, 4: USD 341-410, 5: above 410)\n",
    "9- Transportation to the university: (1: Bus, 2: Private car/taxi, 3: bicycle, 4: Other)\n",
    "10- Accommodation type in Cyprus: (1: rental, 2: dormitory, 3: with family, 4: Other)\n",
    "11- Mother's education: (1: primary school, 2: secondary school, 3: high school, 4: university, 5: MSc., 6: Ph.D.)\n",
    "12- Father's education: (1: primary school, 2: secondary school, 3: high school, 4: university, 5: MSc., 6: Ph.D.)\n",
    "13- Number of sisters/brothers (if available): (1: 1, 2:, 2, 3: 3, 4: 4, 5: 5 or above)\n",
    "14- Parental status: (1: married, 2: divorced, 3: died - one of them or both) ***Listed as \"Kids\"…woops\n",
    "15- Mother's occupation: (1: retired, 2: housewife, 3: government officer, 4: private sector employee, 5: self-employment, 6: other)\n",
    "16- Father's occupation: (1: retired, 2: government officer, 3: private sector employee, 4: self-employment, 5: other)\n",
    "17- Weekly study hours: (1: None, 2: <5 hours, 3: 6-10 hours, 4: 11-20 hours, 5: more than 20 hours)\n",
    "18- Reading frequency (non-scientific books/journals): (1: None, 2: Sometimes, 3: Often)\n",
    "19- Reading frequency (scientific books/journals): (1: None, 2: Sometimes, 3: Often)\n",
    "20- Attendance to the seminars/conferences related to the department: (1: Yes, 2: No)\n",
    "21- Impact of your projects/activities on your success: (1: positive, 2: negative, 3: neutral)\n",
    "22- Attendance to classes (1: always, 2: sometimes, 3: never)\n",
    "23- Preparation to midterm exams 1: (1: alone, 2: with friends, 3: not applicable)\n",
    "24- Preparation to midterm exams 2: (1: closest date to the exam, 2: regularly during the semester, 3: never)\n",
    "25- Taking notes in classes: (1: never, 2: sometimes, 3: always)\n",
    "26- Listening in classes: (1: never, 2: sometimes, 3: always)\n",
    "27- Discussion improves my interest and success in the course: (1: never, 2: sometimes, 3: always)\n",
    "28- Flip-classroom: (1: not useful, 2: useful, 3: not applicable)\n",
    "29- Cumulative grade point average in the last semester (/4.00): (1: <2.00, 2: 2.00-2.49, 3: 2.50-2.99, 4: 3.00-3.49, 5: above 3.49)\n",
    "30- Expected Cumulative grade point average in the graduation (/4.00): (1: <2.00, 2: 2.00-2.49, 3: 2.50-2.99, 4: 3.00-3.49, 5: above 3.49)\n",
    "31- Course ID\n",
    "32- OUTPUT Grade (0: Fail, 1: DD, 2: DC, 3: CC, 4: CB, 5: BB, 6: BA, 7: AA)"
   ]
  },
  {
   "cell_type": "code",
   "execution_count": 1,
   "id": "c5820b24-16c9-4fcb-a8bb-23a05eeeb1c9",
   "metadata": {},
   "outputs": [
    {
     "name": "stdout",
     "output_type": "stream",
     "text": [
      "../data/._student_prediction.csv\n",
      "../data/student_prediction.csv\n"
     ]
    }
   ],
   "source": [
    "import numpy as np # linear algebra\n",
    "import pandas as pd # data processing, CSV file I/O (e.g. pd.read_csv)\n",
    "\n",
    "\n",
    "import os\n",
    "for dirname, _, filenames in os.walk('../data/'):\n",
    "    for filename in filenames:\n",
    "        print(os.path.join(dirname, filename))"
   ]
  },
  {
   "cell_type": "code",
   "execution_count": 2,
   "id": "085cfd2b-a6c7-4240-bcd5-5b779c862c25",
   "metadata": {},
   "outputs": [
    {
     "data": {
      "text/html": [
       "<div>\n",
       "<style scoped>\n",
       "    .dataframe tbody tr th:only-of-type {\n",
       "        vertical-align: middle;\n",
       "    }\n",
       "\n",
       "    .dataframe tbody tr th {\n",
       "        vertical-align: top;\n",
       "    }\n",
       "\n",
       "    .dataframe thead th {\n",
       "        text-align: right;\n",
       "    }\n",
       "</style>\n",
       "<table border=\"1\" class=\"dataframe\">\n",
       "  <thead>\n",
       "    <tr style=\"text-align: right;\">\n",
       "      <th></th>\n",
       "      <th>STUDENTID</th>\n",
       "      <th>AGE</th>\n",
       "      <th>GENDER</th>\n",
       "      <th>HS_TYPE</th>\n",
       "      <th>SCHOLARSHIP</th>\n",
       "      <th>WORK</th>\n",
       "      <th>ACTIVITY</th>\n",
       "      <th>PARTNER</th>\n",
       "      <th>SALARY</th>\n",
       "      <th>TRANSPORT</th>\n",
       "      <th>...</th>\n",
       "      <th>PREP_STUDY</th>\n",
       "      <th>PREP_EXAM</th>\n",
       "      <th>NOTES</th>\n",
       "      <th>LISTENS</th>\n",
       "      <th>LIKES_DISCUSS</th>\n",
       "      <th>CLASSROOM</th>\n",
       "      <th>CUML_GPA</th>\n",
       "      <th>EXP_GPA</th>\n",
       "      <th>COURSE ID</th>\n",
       "      <th>GRADE</th>\n",
       "    </tr>\n",
       "  </thead>\n",
       "  <tbody>\n",
       "    <tr>\n",
       "      <th>0</th>\n",
       "      <td>STUDENT1</td>\n",
       "      <td>2</td>\n",
       "      <td>2</td>\n",
       "      <td>3</td>\n",
       "      <td>3</td>\n",
       "      <td>1</td>\n",
       "      <td>2</td>\n",
       "      <td>2</td>\n",
       "      <td>1</td>\n",
       "      <td>1</td>\n",
       "      <td>...</td>\n",
       "      <td>1</td>\n",
       "      <td>1</td>\n",
       "      <td>3</td>\n",
       "      <td>2</td>\n",
       "      <td>1</td>\n",
       "      <td>2</td>\n",
       "      <td>1</td>\n",
       "      <td>1</td>\n",
       "      <td>1</td>\n",
       "      <td>1</td>\n",
       "    </tr>\n",
       "    <tr>\n",
       "      <th>1</th>\n",
       "      <td>STUDENT2</td>\n",
       "      <td>2</td>\n",
       "      <td>2</td>\n",
       "      <td>3</td>\n",
       "      <td>3</td>\n",
       "      <td>1</td>\n",
       "      <td>2</td>\n",
       "      <td>2</td>\n",
       "      <td>1</td>\n",
       "      <td>1</td>\n",
       "      <td>...</td>\n",
       "      <td>1</td>\n",
       "      <td>1</td>\n",
       "      <td>3</td>\n",
       "      <td>2</td>\n",
       "      <td>3</td>\n",
       "      <td>2</td>\n",
       "      <td>2</td>\n",
       "      <td>3</td>\n",
       "      <td>1</td>\n",
       "      <td>1</td>\n",
       "    </tr>\n",
       "    <tr>\n",
       "      <th>2</th>\n",
       "      <td>STUDENT3</td>\n",
       "      <td>2</td>\n",
       "      <td>2</td>\n",
       "      <td>2</td>\n",
       "      <td>3</td>\n",
       "      <td>2</td>\n",
       "      <td>2</td>\n",
       "      <td>2</td>\n",
       "      <td>2</td>\n",
       "      <td>4</td>\n",
       "      <td>...</td>\n",
       "      <td>1</td>\n",
       "      <td>1</td>\n",
       "      <td>2</td>\n",
       "      <td>2</td>\n",
       "      <td>1</td>\n",
       "      <td>1</td>\n",
       "      <td>2</td>\n",
       "      <td>2</td>\n",
       "      <td>1</td>\n",
       "      <td>1</td>\n",
       "    </tr>\n",
       "    <tr>\n",
       "      <th>3</th>\n",
       "      <td>STUDENT4</td>\n",
       "      <td>1</td>\n",
       "      <td>1</td>\n",
       "      <td>1</td>\n",
       "      <td>3</td>\n",
       "      <td>1</td>\n",
       "      <td>2</td>\n",
       "      <td>1</td>\n",
       "      <td>2</td>\n",
       "      <td>1</td>\n",
       "      <td>...</td>\n",
       "      <td>1</td>\n",
       "      <td>2</td>\n",
       "      <td>3</td>\n",
       "      <td>2</td>\n",
       "      <td>2</td>\n",
       "      <td>1</td>\n",
       "      <td>3</td>\n",
       "      <td>2</td>\n",
       "      <td>1</td>\n",
       "      <td>1</td>\n",
       "    </tr>\n",
       "    <tr>\n",
       "      <th>4</th>\n",
       "      <td>STUDENT5</td>\n",
       "      <td>2</td>\n",
       "      <td>2</td>\n",
       "      <td>1</td>\n",
       "      <td>3</td>\n",
       "      <td>2</td>\n",
       "      <td>2</td>\n",
       "      <td>1</td>\n",
       "      <td>3</td>\n",
       "      <td>1</td>\n",
       "      <td>...</td>\n",
       "      <td>2</td>\n",
       "      <td>1</td>\n",
       "      <td>2</td>\n",
       "      <td>2</td>\n",
       "      <td>2</td>\n",
       "      <td>1</td>\n",
       "      <td>2</td>\n",
       "      <td>2</td>\n",
       "      <td>1</td>\n",
       "      <td>1</td>\n",
       "    </tr>\n",
       "  </tbody>\n",
       "</table>\n",
       "<p>5 rows × 33 columns</p>\n",
       "</div>"
      ],
      "text/plain": [
       "  STUDENTID  AGE  GENDER  HS_TYPE  SCHOLARSHIP  WORK  ACTIVITY  PARTNER  \\\n",
       "0  STUDENT1    2       2        3            3     1         2        2   \n",
       "1  STUDENT2    2       2        3            3     1         2        2   \n",
       "2  STUDENT3    2       2        2            3     2         2        2   \n",
       "3  STUDENT4    1       1        1            3     1         2        1   \n",
       "4  STUDENT5    2       2        1            3     2         2        1   \n",
       "\n",
       "   SALARY  TRANSPORT  ...  PREP_STUDY  PREP_EXAM  NOTES  LISTENS  \\\n",
       "0       1          1  ...           1          1      3        2   \n",
       "1       1          1  ...           1          1      3        2   \n",
       "2       2          4  ...           1          1      2        2   \n",
       "3       2          1  ...           1          2      3        2   \n",
       "4       3          1  ...           2          1      2        2   \n",
       "\n",
       "   LIKES_DISCUSS  CLASSROOM  CUML_GPA  EXP_GPA  COURSE ID  GRADE  \n",
       "0              1          2         1        1          1      1  \n",
       "1              3          2         2        3          1      1  \n",
       "2              1          1         2        2          1      1  \n",
       "3              2          1         3        2          1      1  \n",
       "4              2          1         2        2          1      1  \n",
       "\n",
       "[5 rows x 33 columns]"
      ]
     },
     "execution_count": 2,
     "metadata": {},
     "output_type": "execute_result"
    }
   ],
   "source": [
    "df = pd.read_csv(\"../data/student_prediction.csv\")\n",
    "df.head()"
   ]
  },
  {
   "cell_type": "code",
   "execution_count": 15,
   "id": "7808205f-894f-471f-b2cc-3d9698c8cffe",
   "metadata": {},
   "outputs": [],
   "source": [
    "import matplotlib.pyplot as plt\n",
    "import seaborn as sns\n",
    "\n",
    "from sklearn.cluster import KMeans\n",
    "\n",
    "from sklearn.naive_bayes import GaussianNB\n",
    "from sklearn.tree import DecisionTreeClassifier as dtc\n",
    "from sklearn.ensemble import RandomForestClassifier\n",
    "from sklearn.neighbors import KNeighborsClassifier\n",
    "from sklearn.svm import SVC\n",
    "\n",
    "from sklearn.metrics import confusion_matrix\n",
    "from sklearn.metrics import classification_report\n",
    "from sklearn.model_selection import cross_val_predict\n",
    "from sklearn.model_selection import train_test_split\n",
    "from sklearn.feature_selection import mutual_info_classif\n",
    "\n",
    "import pickle"
   ]
  },
  {
   "cell_type": "code",
   "execution_count": 4,
   "id": "8d181938-99d9-4938-915e-554ab68283a3",
   "metadata": {},
   "outputs": [],
   "source": [
    "df = df.drop('STUDENTID', axis=1)"
   ]
  },
  {
   "cell_type": "code",
   "execution_count": 5,
   "id": "0b0a9331-2b0e-45f9-b3f3-0b70da75e132",
   "metadata": {},
   "outputs": [],
   "source": [
    "X = df.drop('GRADE', axis=1)\n",
    "y = df['GRADE']\n",
    "\n",
    "# list discrete features that have integer dtypes for using MI (Mutual Information)\n",
    "discrete_features = X.dtypes == int"
   ]
  },
  {
   "cell_type": "code",
   "execution_count": 6,
   "id": "43d41fe9-1951-4c12-9ece-5d15ee096991",
   "metadata": {},
   "outputs": [
    {
     "data": {
      "text/plain": [
       "COURSE ID        0.623271\n",
       "CUML_GPA         0.250852\n",
       "MOTHER_EDU       0.184561\n",
       "STUDY_HRS        0.152261\n",
       "SCHOLARSHIP      0.142022\n",
       "FATHER_JOB       0.134495\n",
       "EXP_GPA          0.127521\n",
       "GENDER           0.120415\n",
       "SALARY           0.117921\n",
       "#_SIBLINGS       0.104088\n",
       "MOTHER_JOB       0.102861\n",
       "AGE              0.100847\n",
       "FATHER_EDU       0.097289\n",
       "TRANSPORT        0.093659\n",
       "IMPACT           0.081894\n",
       "LIVING           0.077654\n",
       "READ_FREQ        0.075782\n",
       "READ_FREQ_SCI    0.066456\n",
       "NOTES            0.065915\n",
       "PREP_STUDY       0.059436\n",
       "LIKES_DISCUSS    0.052028\n",
       "HS_TYPE          0.050828\n",
       "KIDS             0.047981\n",
       "LISTENS          0.047148\n",
       "ATTEND           0.039263\n",
       "PARTNER          0.037048\n",
       "WORK             0.032927\n",
       "ACTIVITY         0.032521\n",
       "CLASSROOM        0.029650\n",
       "PREP_EXAM        0.029195\n",
       "ATTEND_DEPT      0.028835\n",
       "Name: MI Scores, dtype: float64"
      ]
     },
     "execution_count": 6,
     "metadata": {},
     "output_type": "execute_result"
    }
   ],
   "source": [
    "def make_mi_scores(X, y, discrete_features):\n",
    "    mi_scores = mutual_info_classif(X, y, discrete_features=discrete_features)\n",
    "    mi_scores = pd.Series(mi_scores, name=\"MI Scores\", index=X.columns)\n",
    "    mi_scores = mi_scores.sort_values(ascending=False)\n",
    "    return mi_scores\n",
    "\n",
    "mi_scores = make_mi_scores(X, y, discrete_features)\n",
    "mi_scores  # show a few features with their MI scores"
   ]
  },
  {
   "cell_type": "code",
   "execution_count": 7,
   "id": "9ef5507a-5d4b-43cf-8341-a15b76117528",
   "metadata": {},
   "outputs": [],
   "source": [
    "def drop_uninformative(df, mi_scores):\n",
    "    return df.loc[:, mi_scores > 0]\n",
    "\n",
    "X = drop_uninformative(X, mi_scores)"
   ]
  },
  {
   "cell_type": "code",
   "execution_count": 8,
   "id": "c8b639e4-e2b1-4ae4-8f42-9b95eac79622",
   "metadata": {},
   "outputs": [],
   "source": [
    "kmeans = KMeans(n_clusters=8, random_state=0)\n",
    "X[\"Cluster\"] = kmeans.fit_predict(X)"
   ]
  },
  {
   "cell_type": "code",
   "execution_count": 9,
   "id": "d624689b-d4ae-4055-9240-16bc3ce53923",
   "metadata": {},
   "outputs": [
    {
     "name": "stdout",
     "output_type": "stream",
     "text": [
      "Classification Report: \n",
      "               precision    recall  f1-score   support\n",
      "\n",
      "           0       0.14      0.12      0.13         8\n",
      "           1       0.33      0.43      0.37        35\n",
      "           2       0.37      0.42      0.39        24\n",
      "           3       0.19      0.19      0.19        21\n",
      "           4       0.00      0.00      0.00        10\n",
      "           5       0.00      0.00      0.00        17\n",
      "           6       0.17      0.08      0.11        13\n",
      "           7       0.38      0.35      0.36        17\n",
      "\n",
      "    accuracy                           0.26       145\n",
      "   macro avg       0.20      0.20      0.19       145\n",
      "weighted avg       0.23      0.26      0.24       145\n",
      "\n"
     ]
    }
   ],
   "source": [
    "decision_tree = dtc(random_state=0)\n",
    "decision_tree.fit(X,y)\n",
    "\n",
    "predict = cross_val_predict(estimator = decision_tree, X = X, y = y, cv = 5)\n",
    "print(\"Classification Report: \\n\",classification_report(y, predict))"
   ]
  },
  {
   "cell_type": "code",
   "execution_count": 10,
   "id": "062a10b1-b603-4c81-a01e-f179b296cd82",
   "metadata": {},
   "outputs": [
    {
     "name": "stdout",
     "output_type": "stream",
     "text": [
      "Classification Report: \n",
      "               precision    recall  f1-score   support\n",
      "\n",
      "           0       0.17      0.12      0.14         8\n",
      "           1       0.34      0.66      0.45        35\n",
      "           2       0.37      0.29      0.33        24\n",
      "           3       0.29      0.19      0.23        21\n",
      "           4       0.00      0.00      0.00        10\n",
      "           5       0.11      0.06      0.08        17\n",
      "           6       0.20      0.08      0.11        13\n",
      "           7       0.42      0.59      0.49        17\n",
      "\n",
      "    accuracy                           0.32       145\n",
      "   macro avg       0.24      0.25      0.23       145\n",
      "weighted avg       0.27      0.32      0.28       145\n",
      "\n"
     ]
    }
   ],
   "source": [
    "random_forest = RandomForestClassifier(random_state = 0)\n",
    "random_forest.fit(X, y)\n",
    "predict = cross_val_predict(estimator = random_forest, X = X, y = y, cv = 5)\n",
    "print(\"Classification Report: \\n\",classification_report(y, predict))"
   ]
  },
  {
   "cell_type": "code",
   "execution_count": 11,
   "id": "fc62d259-e493-4498-8812-fa8cf1f7c851",
   "metadata": {},
   "outputs": [
    {
     "name": "stdout",
     "output_type": "stream",
     "text": [
      "Classification Report: \n",
      "               precision    recall  f1-score   support\n",
      "\n",
      "           0       0.12      0.12      0.12         8\n",
      "           1       0.28      0.54      0.37        35\n",
      "           2       0.27      0.17      0.21        24\n",
      "           3       0.00      0.00      0.00        21\n",
      "           4       0.00      0.00      0.00        10\n",
      "           5       0.20      0.18      0.19        17\n",
      "           6       0.18      0.15      0.17        13\n",
      "           7       0.33      0.35      0.34        17\n",
      "\n",
      "    accuracy                           0.24       145\n",
      "   macro avg       0.17      0.19      0.17       145\n",
      "weighted avg       0.20      0.24      0.21       145\n",
      "\n"
     ]
    }
   ],
   "source": [
    "knn = KNeighborsClassifier()\n",
    "knn.fit(X,y)\n",
    "predict = cross_val_predict(estimator = knn, X = X, y = y, cv = 5)\n",
    "print(\"Classification Report: \\n\",classification_report(y, predict))"
   ]
  },
  {
   "cell_type": "code",
   "execution_count": 12,
   "id": "adeccc56-df51-4a76-9b82-f44e46acc9e3",
   "metadata": {},
   "outputs": [
    {
     "name": "stdout",
     "output_type": "stream",
     "text": [
      "Classification Report: \n",
      "               precision    recall  f1-score   support\n",
      "\n",
      "           0       0.17      0.50      0.26         8\n",
      "           1       0.36      0.11      0.17        35\n",
      "           2       0.20      0.04      0.07        24\n",
      "           3       0.14      0.05      0.07        21\n",
      "           4       0.06      0.20      0.09        10\n",
      "           5       0.12      0.06      0.08        17\n",
      "           6       0.05      0.08      0.06        13\n",
      "           7       0.25      0.53      0.34        17\n",
      "\n",
      "    accuracy                           0.16       145\n",
      "   macro avg       0.17      0.20      0.14       145\n",
      "weighted avg       0.20      0.16      0.14       145\n",
      "\n"
     ]
    }
   ],
   "source": [
    "gnb = GaussianNB()\n",
    "gnb.fit(X,y)\n",
    "predict = cross_val_predict(estimator = gnb, X = X, y = y, cv = 5)\n",
    "print(\"Classification Report: \\n\",classification_report(y, predict))"
   ]
  },
  {
   "cell_type": "code",
   "execution_count": 13,
   "id": "85a71c7f-48aa-407d-bf2e-8b62d484859b",
   "metadata": {},
   "outputs": [
    {
     "name": "stdout",
     "output_type": "stream",
     "text": [
      "Classification Report: \n",
      "               precision    recall  f1-score   support\n",
      "\n",
      "           0       0.50      0.12      0.20         8\n",
      "           1       0.25      0.63      0.36        35\n",
      "           2       0.33      0.12      0.18        24\n",
      "           3       0.00      0.00      0.00        21\n",
      "           4       0.00      0.00      0.00        10\n",
      "           5       0.30      0.18      0.22        17\n",
      "           6       0.00      0.00      0.00        13\n",
      "           7       0.21      0.41      0.27        17\n",
      "\n",
      "    accuracy                           0.25       145\n",
      "   macro avg       0.20      0.18      0.15       145\n",
      "weighted avg       0.20      0.25      0.19       145\n",
      "\n"
     ]
    },
    {
     "name": "stderr",
     "output_type": "stream",
     "text": [
      "/Users/klimyadrintsev/anaconda3/lib/python3.7/site-packages/sklearn/metrics/_classification.py:1308: UndefinedMetricWarning: Precision and F-score are ill-defined and being set to 0.0 in labels with no predicted samples. Use `zero_division` parameter to control this behavior.\n",
      "  _warn_prf(average, modifier, msg_start, len(result))\n",
      "/Users/klimyadrintsev/anaconda3/lib/python3.7/site-packages/sklearn/metrics/_classification.py:1308: UndefinedMetricWarning: Precision and F-score are ill-defined and being set to 0.0 in labels with no predicted samples. Use `zero_division` parameter to control this behavior.\n",
      "  _warn_prf(average, modifier, msg_start, len(result))\n",
      "/Users/klimyadrintsev/anaconda3/lib/python3.7/site-packages/sklearn/metrics/_classification.py:1308: UndefinedMetricWarning: Precision and F-score are ill-defined and being set to 0.0 in labels with no predicted samples. Use `zero_division` parameter to control this behavior.\n",
      "  _warn_prf(average, modifier, msg_start, len(result))\n"
     ]
    }
   ],
   "source": [
    "scv = SVC()\n",
    "scv.fit(X,y)\n",
    "predict = cross_val_predict(estimator = scv, X = X, y = y, cv = 5)\n",
    "print(\"Classification Report: \\n\",classification_report(y, predict))"
   ]
  },
  {
   "cell_type": "code",
   "execution_count": 16,
   "id": "c0899e9d-a4dd-4254-9244-95f62cdb5d99",
   "metadata": {},
   "outputs": [],
   "source": [
    "pickle.dump(random_forest, open('best_model_students.pkl', 'wb'))"
   ]
  },
  {
   "cell_type": "code",
   "execution_count": null,
   "id": "d34d8b21-3136-4c9e-bb99-601de6ca46a9",
   "metadata": {},
   "outputs": [],
   "source": []
  }
 ],
 "metadata": {
  "kernelspec": {
   "display_name": "Python 3 (ipykernel)",
   "language": "python",
   "name": "python3"
  },
  "language_info": {
   "codemirror_mode": {
    "name": "ipython",
    "version": 3
   },
   "file_extension": ".py",
   "mimetype": "text/x-python",
   "name": "python",
   "nbconvert_exporter": "python",
   "pygments_lexer": "ipython3",
   "version": "3.7.11"
  }
 },
 "nbformat": 4,
 "nbformat_minor": 5
}
