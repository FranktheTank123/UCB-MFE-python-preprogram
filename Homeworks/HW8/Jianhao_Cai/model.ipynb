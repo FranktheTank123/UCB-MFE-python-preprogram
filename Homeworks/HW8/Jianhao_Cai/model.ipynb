{
 "cells": [
  {
   "cell_type": "markdown",
   "id": "a9bd665d-b862-4c9d-8483-3d784a00d15a",
   "metadata": {},
   "source": [
    "Now we have seen how to build a model, let's use these concepts to build a predictive model on our data.\n",
    "\n",
    "Specifically, we are going to try to predict the return of SOL in the next hour with a simple model that uses hourly volatility and close returns"
   ]
  },
  {
   "cell_type": "code",
   "execution_count": 119,
   "id": "5002dc48-e1b7-4530-af33-d6abf2f192d8",
   "metadata": {},
   "outputs": [],
   "source": [
    "data_location = 'sqlite:///data/data.db'"
   ]
  },
  {
   "cell_type": "code",
   "execution_count": 120,
   "id": "b021ed37-e234-4bd9-a3b4-86f204c2356e",
   "metadata": {},
   "outputs": [],
   "source": [
    "import pandas as pd\n",
    "import numpy as np\n",
    "import matplotlib.pyplot as plt\n",
    "from functools import reduce\n",
    "\n",
    "import pickle"
   ]
  },
  {
   "cell_type": "code",
   "execution_count": 121,
   "id": "253037c0-8199-406c-ad9d-2ae51f47e000",
   "metadata": {},
   "outputs": [],
   "source": [
    "def vol_ohlc(df, lookback=10):\n",
    "    o = df.open\n",
    "    h = df.high\n",
    "    l = df.low\n",
    "    c = df.close\n",
    "    \n",
    "    k = 0.34 / (1.34 + (lookback+1)/(lookback-1))\n",
    "    cc = np.log(c/c.shift(1))\n",
    "    ho = np.log(h/o)\n",
    "    lo = np.log(l/o)\n",
    "    co = np.log(c/o)\n",
    "    oc = np.log(o/c.shift(1))\n",
    "    oc_sq = oc**2\n",
    "    cc_sq = cc**2\n",
    "    rs = ho*(ho-co)+lo*(lo-co)\n",
    "    close_vol = cc_sq.rolling(lookback).sum() * (1.0 / (lookback - 1.0))\n",
    "    open_vol = oc_sq.rolling(lookback).sum() * (1.0 / (lookback - 1.0))\n",
    "    window_rs = rs.rolling(lookback).sum() * (1.0 / (lookback - 1.0))\n",
    "    result = (open_vol + k * close_vol + (1-k) * window_rs).apply(np.sqrt) * np.sqrt(252)\n",
    "    result[:lookback-1] = np.nan\n",
    "    \n",
    "    return result"
   ]
  },
  {
   "cell_type": "code",
   "execution_count": 122,
   "id": "5592bf8c-594f-4972-9fa3-06faf1bf72eb",
   "metadata": {},
   "outputs": [],
   "source": [
    "def plot_learning_curve(\n",
    "    estimator,\n",
    "    title,\n",
    "    X,\n",
    "    y,\n",
    "    axes=None,\n",
    "    ylim=None,\n",
    "    cv=None,\n",
    "    n_jobs=None,\n",
    "    train_sizes=np.linspace(0.1, 1.0, 5),\n",
    "    scoring=None\n",
    "):\n",
    "    if axes is None:\n",
    "        _, axes = plt.subplots(1, 3, figsize=(20, 5))\n",
    "\n",
    "    axes[0].set_title(title)\n",
    "    if ylim is not None:\n",
    "        axes[0].set_ylim(*ylim)\n",
    "    axes[0].set_xlabel(\"Training examples\")\n",
    "    axes[0].set_ylabel(\"Score\")\n",
    "\n",
    "    train_sizes, train_scores, test_scores, fit_times, _ = learning_curve(\n",
    "        estimator,\n",
    "        X,\n",
    "        y,\n",
    "        cv=cv,\n",
    "        n_jobs=n_jobs,\n",
    "        train_sizes=train_sizes,\n",
    "        return_times=True,\n",
    "        scoring=scoring,\n",
    "    )\n",
    "    train_scores_mean = np.mean(train_scores, axis=1)\n",
    "    train_scores_std = np.std(train_scores, axis=1)\n",
    "    test_scores_mean = np.mean(test_scores, axis=1)\n",
    "    test_scores_std = np.std(test_scores, axis=1)\n",
    "    fit_times_mean = np.mean(fit_times, axis=1)\n",
    "    fit_times_std = np.std(fit_times, axis=1)\n",
    "\n",
    "    # Plot learning curve\n",
    "    axes[0].grid()\n",
    "    axes[0].fill_between(\n",
    "        train_sizes,\n",
    "        train_scores_mean - train_scores_std,\n",
    "        train_scores_mean + train_scores_std,\n",
    "        alpha=0.1,\n",
    "        color=\"r\",\n",
    "    )\n",
    "    axes[0].fill_between(\n",
    "        train_sizes,\n",
    "        test_scores_mean - test_scores_std,\n",
    "        test_scores_mean + test_scores_std,\n",
    "        alpha=0.1,\n",
    "        color=\"g\",\n",
    "    )\n",
    "    axes[0].plot(\n",
    "        train_sizes, train_scores_mean, \"o-\", color=\"r\", label=\"Training score\"\n",
    "    )\n",
    "    axes[0].plot(\n",
    "        train_sizes, test_scores_mean, \"o-\", color=\"g\", label=\"Cross-validation score\"\n",
    "    )\n",
    "    axes[0].legend(loc=\"best\")\n",
    "\n",
    "    # Plot n_samples vs fit_times\n",
    "    axes[1].grid()\n",
    "    axes[1].plot(train_sizes, fit_times_mean, \"o-\")\n",
    "    axes[1].fill_between(\n",
    "        train_sizes,\n",
    "        fit_times_mean - fit_times_std,\n",
    "        fit_times_mean + fit_times_std,\n",
    "        alpha=0.1,\n",
    "    )\n",
    "    axes[1].set_xlabel(\"Training examples\")\n",
    "    axes[1].set_ylabel(\"fit_times\")\n",
    "    axes[1].set_title(\"Scalability of the model\")\n",
    "\n",
    "    # Plot fit_time vs score\n",
    "    fit_time_argsort = fit_times_mean.argsort()\n",
    "    fit_time_sorted = fit_times_mean[fit_time_argsort]\n",
    "    test_scores_mean_sorted = test_scores_mean[fit_time_argsort]\n",
    "    test_scores_std_sorted = test_scores_std[fit_time_argsort]\n",
    "    axes[2].grid()\n",
    "    axes[2].plot(fit_time_sorted, test_scores_mean_sorted, \"o-\")\n",
    "    axes[2].fill_between(\n",
    "        fit_time_sorted,\n",
    "        test_scores_mean_sorted - test_scores_std_sorted,\n",
    "        test_scores_mean_sorted + test_scores_std_sorted,\n",
    "        alpha=0.1,\n",
    "    )\n",
    "    axes[2].set_xlabel(\"fit_times\")\n",
    "    axes[2].set_ylabel(\"Score\")\n",
    "    axes[2].set_title(\"Performance of the model\")\n",
    "\n",
    "    return plt"
   ]
  },
  {
   "cell_type": "code",
   "execution_count": 123,
   "id": "9a199938-bb88-4b87-9fe3-5b1b4c1b814a",
   "metadata": {},
   "outputs": [
    {
     "data": {
      "text/plain": [
       "(11627, 9)"
      ]
     },
     "execution_count": 123,
     "metadata": {},
     "output_type": "execute_result"
    }
   ],
   "source": [
    "ohlc = pd.read_sql('SELECT * FROM ohlc', data_location)\n",
    "ohlc.shape"
   ]
  },
  {
   "cell_type": "code",
   "execution_count": 124,
   "id": "df34d30a-50e7-46b2-86e7-285166d14efb",
   "metadata": {},
   "outputs": [
    {
     "data": {
      "text/html": [
       "<div>\n",
       "<style scoped>\n",
       "    .dataframe tbody tr th:only-of-type {\n",
       "        vertical-align: middle;\n",
       "    }\n",
       "\n",
       "    .dataframe tbody tr th {\n",
       "        vertical-align: top;\n",
       "    }\n",
       "\n",
       "    .dataframe thead th {\n",
       "        text-align: right;\n",
       "    }\n",
       "</style>\n",
       "<table border=\"1\" class=\"dataframe\">\n",
       "  <thead>\n",
       "    <tr style=\"text-align: right;\">\n",
       "      <th></th>\n",
       "      <th>ts</th>\n",
       "      <th>open</th>\n",
       "      <th>high</th>\n",
       "      <th>low</th>\n",
       "      <th>close</th>\n",
       "      <th>volume</th>\n",
       "      <th>volumeUSD</th>\n",
       "      <th>token</th>\n",
       "      <th>chain</th>\n",
       "    </tr>\n",
       "  </thead>\n",
       "  <tbody>\n",
       "    <tr>\n",
       "      <th>0</th>\n",
       "      <td>2021-11-01 00:00:00</td>\n",
       "      <td>61421.37</td>\n",
       "      <td>61669.14</td>\n",
       "      <td>61239.60</td>\n",
       "      <td>61343.68</td>\n",
       "      <td>256.433869</td>\n",
       "      <td>1.575751e+07</td>\n",
       "      <td>BTC</td>\n",
       "      <td>BTC</td>\n",
       "    </tr>\n",
       "    <tr>\n",
       "      <th>1</th>\n",
       "      <td>2021-11-01 01:00:00</td>\n",
       "      <td>61346.17</td>\n",
       "      <td>61709.82</td>\n",
       "      <td>61171.22</td>\n",
       "      <td>61610.93</td>\n",
       "      <td>332.481185</td>\n",
       "      <td>2.044558e+07</td>\n",
       "      <td>BTC</td>\n",
       "      <td>BTC</td>\n",
       "    </tr>\n",
       "    <tr>\n",
       "      <th>2</th>\n",
       "      <td>2021-11-01 02:00:00</td>\n",
       "      <td>61610.94</td>\n",
       "      <td>61779.87</td>\n",
       "      <td>61299.89</td>\n",
       "      <td>61333.17</td>\n",
       "      <td>314.250720</td>\n",
       "      <td>1.935390e+07</td>\n",
       "      <td>BTC</td>\n",
       "      <td>BTC</td>\n",
       "    </tr>\n",
       "    <tr>\n",
       "      <th>3</th>\n",
       "      <td>2021-11-01 03:00:00</td>\n",
       "      <td>61333.17</td>\n",
       "      <td>61457.28</td>\n",
       "      <td>60050.00</td>\n",
       "      <td>60589.06</td>\n",
       "      <td>1059.931358</td>\n",
       "      <td>6.414625e+07</td>\n",
       "      <td>BTC</td>\n",
       "      <td>BTC</td>\n",
       "    </tr>\n",
       "    <tr>\n",
       "      <th>4</th>\n",
       "      <td>2021-11-01 04:00:00</td>\n",
       "      <td>60590.23</td>\n",
       "      <td>60655.00</td>\n",
       "      <td>59752.92</td>\n",
       "      <td>59971.89</td>\n",
       "      <td>621.419878</td>\n",
       "      <td>3.744744e+07</td>\n",
       "      <td>BTC</td>\n",
       "      <td>BTC</td>\n",
       "    </tr>\n",
       "  </tbody>\n",
       "</table>\n",
       "</div>"
      ],
      "text/plain": [
       "                    ts      open      high       low     close       volume  \\\n",
       "0  2021-11-01 00:00:00  61421.37  61669.14  61239.60  61343.68   256.433869   \n",
       "1  2021-11-01 01:00:00  61346.17  61709.82  61171.22  61610.93   332.481185   \n",
       "2  2021-11-01 02:00:00  61610.94  61779.87  61299.89  61333.17   314.250720   \n",
       "3  2021-11-01 03:00:00  61333.17  61457.28  60050.00  60589.06  1059.931358   \n",
       "4  2021-11-01 04:00:00  60590.23  60655.00  59752.92  59971.89   621.419878   \n",
       "\n",
       "      volumeUSD token chain  \n",
       "0  1.575751e+07   BTC   BTC  \n",
       "1  2.044558e+07   BTC   BTC  \n",
       "2  1.935390e+07   BTC   BTC  \n",
       "3  6.414625e+07   BTC   BTC  \n",
       "4  3.744744e+07   BTC   BTC  "
      ]
     },
     "execution_count": 124,
     "metadata": {},
     "output_type": "execute_result"
    }
   ],
   "source": [
    "ohlc.head()"
   ]
  },
  {
   "cell_type": "code",
   "execution_count": 125,
   "id": "ed4e4cb6-3dfc-4287-9d27-172383ca5b3b",
   "metadata": {},
   "outputs": [
    {
     "data": {
      "text/html": [
       "<div>\n",
       "<style scoped>\n",
       "    .dataframe tbody tr th:only-of-type {\n",
       "        vertical-align: middle;\n",
       "    }\n",
       "\n",
       "    .dataframe tbody tr th {\n",
       "        vertical-align: top;\n",
       "    }\n",
       "\n",
       "    .dataframe thead th {\n",
       "        text-align: right;\n",
       "    }\n",
       "</style>\n",
       "<table border=\"1\" class=\"dataframe\">\n",
       "  <thead>\n",
       "    <tr style=\"text-align: right;\">\n",
       "      <th></th>\n",
       "      <th>open</th>\n",
       "      <th>high</th>\n",
       "      <th>low</th>\n",
       "      <th>close</th>\n",
       "      <th>volume</th>\n",
       "      <th>volumeUSD</th>\n",
       "    </tr>\n",
       "  </thead>\n",
       "  <tbody>\n",
       "    <tr>\n",
       "      <th>count</th>\n",
       "      <td>11627.000000</td>\n",
       "      <td>11627.000000</td>\n",
       "      <td>11627.000000</td>\n",
       "      <td>11627.000000</td>\n",
       "      <td>1.162700e+04</td>\n",
       "      <td>1.162700e+04</td>\n",
       "    </tr>\n",
       "    <tr>\n",
       "      <th>mean</th>\n",
       "      <td>5708.198992</td>\n",
       "      <td>5737.512791</td>\n",
       "      <td>5676.641523</td>\n",
       "      <td>5706.967946</td>\n",
       "      <td>7.782893e+05</td>\n",
       "      <td>9.847622e+06</td>\n",
       "    </tr>\n",
       "    <tr>\n",
       "      <th>std</th>\n",
       "      <td>16518.161143</td>\n",
       "      <td>16599.532113</td>\n",
       "      <td>16430.972527</td>\n",
       "      <td>16514.731530</td>\n",
       "      <td>2.057505e+06</td>\n",
       "      <td>1.769057e+07</td>\n",
       "    </tr>\n",
       "    <tr>\n",
       "      <th>min</th>\n",
       "      <td>0.999900</td>\n",
       "      <td>1.000000</td>\n",
       "      <td>0.995100</td>\n",
       "      <td>0.999900</td>\n",
       "      <td>6.713000e+00</td>\n",
       "      <td>1.960784e+03</td>\n",
       "    </tr>\n",
       "    <tr>\n",
       "      <th>25%</th>\n",
       "      <td>4.555900</td>\n",
       "      <td>4.611000</td>\n",
       "      <td>4.496050</td>\n",
       "      <td>4.554350</td>\n",
       "      <td>2.565695e+03</td>\n",
       "      <td>9.664755e+05</td>\n",
       "    </tr>\n",
       "    <tr>\n",
       "      <th>50%</th>\n",
       "      <td>92.590000</td>\n",
       "      <td>93.710000</td>\n",
       "      <td>91.000000</td>\n",
       "      <td>92.600000</td>\n",
       "      <td>4.624230e+04</td>\n",
       "      <td>3.420994e+06</td>\n",
       "    </tr>\n",
       "    <tr>\n",
       "      <th>75%</th>\n",
       "      <td>307.924500</td>\n",
       "      <td>309.700000</td>\n",
       "      <td>305.501000</td>\n",
       "      <td>307.796500</td>\n",
       "      <td>1.768436e+05</td>\n",
       "      <td>1.068309e+07</td>\n",
       "    </tr>\n",
       "    <tr>\n",
       "      <th>max</th>\n",
       "      <td>68638.470000</td>\n",
       "      <td>69000.000000</td>\n",
       "      <td>68456.500000</td>\n",
       "      <td>68639.630000</td>\n",
       "      <td>3.978895e+07</td>\n",
       "      <td>3.988035e+08</td>\n",
       "    </tr>\n",
       "  </tbody>\n",
       "</table>\n",
       "</div>"
      ],
      "text/plain": [
       "               open          high           low         close        volume  \\\n",
       "count  11627.000000  11627.000000  11627.000000  11627.000000  1.162700e+04   \n",
       "mean    5708.198992   5737.512791   5676.641523   5706.967946  7.782893e+05   \n",
       "std    16518.161143  16599.532113  16430.972527  16514.731530  2.057505e+06   \n",
       "min        0.999900      1.000000      0.995100      0.999900  6.713000e+00   \n",
       "25%        4.555900      4.611000      4.496050      4.554350  2.565695e+03   \n",
       "50%       92.590000     93.710000     91.000000     92.600000  4.624230e+04   \n",
       "75%      307.924500    309.700000    305.501000    307.796500  1.768436e+05   \n",
       "max    68638.470000  69000.000000  68456.500000  68639.630000  3.978895e+07   \n",
       "\n",
       "          volumeUSD  \n",
       "count  1.162700e+04  \n",
       "mean   9.847622e+06  \n",
       "std    1.769057e+07  \n",
       "min    1.960784e+03  \n",
       "25%    9.664755e+05  \n",
       "50%    3.420994e+06  \n",
       "75%    1.068309e+07  \n",
       "max    3.988035e+08  "
      ]
     },
     "execution_count": 125,
     "metadata": {},
     "output_type": "execute_result"
    }
   ],
   "source": [
    "ohlc.describe()"
   ]
  },
  {
   "cell_type": "markdown",
   "id": "708a0640-0719-4092-a180-7b148b3f32a5",
   "metadata": {},
   "source": [
    "## Data formatting"
   ]
  },
  {
   "cell_type": "markdown",
   "id": "096ec305-4dc9-40b1-bb3e-bd7c96dda6b5",
   "metadata": {},
   "source": [
    "First, let's format the data.  right now the data set is long, i.e. each row is unique on ts/token, however we want to make each row unique on ts only.  We are converting a long table into a fat table of features"
   ]
  },
  {
   "cell_type": "code",
   "execution_count": 126,
   "id": "f98cd869-8fbe-408b-9089-7e640cdd1625",
   "metadata": {},
   "outputs": [],
   "source": [
    "tokens = ohlc.token.unique()"
   ]
  },
  {
   "cell_type": "code",
   "execution_count": 127,
   "id": "b12d16a4-9d55-4117-9dcb-f50547e73cc8",
   "metadata": {},
   "outputs": [],
   "source": [
    "def df_merge(left, right):\n",
    "    return pd.merge(left, right, on='ts', how='inner')\n",
    "\n",
    "X = reduce(df_merge, [\n",
    "    (lambda df: \n",
    "    (\n",
    "        df\n",
    "        .assign(\n",
    "            vol=vol_ohlc(df).fillna(0),\n",
    "            ret=df.close.pct_change()\n",
    "        )[['ts', 'vol', 'ret']]\n",
    "        .rename(columns={\n",
    "            col: f'{col}_{token}' for col in ['ts', 'vol', 'ret'] if col != 'ts'\n",
    "        })\n",
    "    ))(ohlc[ohlc.token == token])\n",
    "    for token in tokens\n",
    "]).set_index('ts')"
   ]
  },
  {
   "cell_type": "code",
   "execution_count": 128,
   "id": "c7543f97-8793-4c8a-b99a-5078801423af",
   "metadata": {},
   "outputs": [
    {
     "data": {
      "text/plain": [
       "(1057, 22)"
      ]
     },
     "execution_count": 128,
     "metadata": {},
     "output_type": "execute_result"
    }
   ],
   "source": [
    "X.shape"
   ]
  },
  {
   "cell_type": "code",
   "execution_count": 129,
   "id": "07657695-1cbb-483d-ae45-2ac95d09c658",
   "metadata": {},
   "outputs": [
    {
     "data": {
      "text/html": [
       "<div>\n",
       "<style scoped>\n",
       "    .dataframe tbody tr th:only-of-type {\n",
       "        vertical-align: middle;\n",
       "    }\n",
       "\n",
       "    .dataframe tbody tr th {\n",
       "        vertical-align: top;\n",
       "    }\n",
       "\n",
       "    .dataframe thead th {\n",
       "        text-align: right;\n",
       "    }\n",
       "</style>\n",
       "<table border=\"1\" class=\"dataframe\">\n",
       "  <thead>\n",
       "    <tr style=\"text-align: right;\">\n",
       "      <th></th>\n",
       "      <th>vol_BTC</th>\n",
       "      <th>ret_BTC</th>\n",
       "      <th>vol_ETH</th>\n",
       "      <th>ret_ETH</th>\n",
       "      <th>vol_USDT</th>\n",
       "      <th>ret_USDT</th>\n",
       "      <th>vol_SOL</th>\n",
       "      <th>ret_SOL</th>\n",
       "      <th>vol_ADA</th>\n",
       "      <th>ret_ADA</th>\n",
       "      <th>...</th>\n",
       "      <th>vol_AVAX</th>\n",
       "      <th>ret_AVAX</th>\n",
       "      <th>vol_ATOM</th>\n",
       "      <th>ret_ATOM</th>\n",
       "      <th>vol_CRV</th>\n",
       "      <th>ret_CRV</th>\n",
       "      <th>vol_AAVE</th>\n",
       "      <th>ret_AAVE</th>\n",
       "      <th>vol_COMP</th>\n",
       "      <th>ret_COMP</th>\n",
       "    </tr>\n",
       "    <tr>\n",
       "      <th>ts</th>\n",
       "      <th></th>\n",
       "      <th></th>\n",
       "      <th></th>\n",
       "      <th></th>\n",
       "      <th></th>\n",
       "      <th></th>\n",
       "      <th></th>\n",
       "      <th></th>\n",
       "      <th></th>\n",
       "      <th></th>\n",
       "      <th></th>\n",
       "      <th></th>\n",
       "      <th></th>\n",
       "      <th></th>\n",
       "      <th></th>\n",
       "      <th></th>\n",
       "      <th></th>\n",
       "      <th></th>\n",
       "      <th></th>\n",
       "      <th></th>\n",
       "      <th></th>\n",
       "    </tr>\n",
       "  </thead>\n",
       "  <tbody>\n",
       "    <tr>\n",
       "      <th>2021-12-14 20:00:00</th>\n",
       "      <td>0.136358</td>\n",
       "      <td>0.004810</td>\n",
       "      <td>0.158369</td>\n",
       "      <td>0.005961</td>\n",
       "      <td>0.002463</td>\n",
       "      <td>0.0001</td>\n",
       "      <td>0.216740</td>\n",
       "      <td>0.002798</td>\n",
       "      <td>0.225286</td>\n",
       "      <td>0.014437</td>\n",
       "      <td>...</td>\n",
       "      <td>0.239258</td>\n",
       "      <td>0.008227</td>\n",
       "      <td>0.254118</td>\n",
       "      <td>-0.000471</td>\n",
       "      <td>0.255464</td>\n",
       "      <td>0.003049</td>\n",
       "      <td>0.207758</td>\n",
       "      <td>0.009387</td>\n",
       "      <td>0.284268</td>\n",
       "      <td>0.006813</td>\n",
       "    </tr>\n",
       "    <tr>\n",
       "      <th>2021-12-14 21:00:00</th>\n",
       "      <td>0.142237</td>\n",
       "      <td>0.019797</td>\n",
       "      <td>0.170096</td>\n",
       "      <td>0.016737</td>\n",
       "      <td>0.002652</td>\n",
       "      <td>0.0000</td>\n",
       "      <td>0.218492</td>\n",
       "      <td>0.025892</td>\n",
       "      <td>0.224116</td>\n",
       "      <td>0.012141</td>\n",
       "      <td>...</td>\n",
       "      <td>0.241603</td>\n",
       "      <td>0.019207</td>\n",
       "      <td>0.254350</td>\n",
       "      <td>0.019303</td>\n",
       "      <td>0.263456</td>\n",
       "      <td>0.021277</td>\n",
       "      <td>0.222014</td>\n",
       "      <td>0.022490</td>\n",
       "      <td>0.281497</td>\n",
       "      <td>0.017473</td>\n",
       "    </tr>\n",
       "    <tr>\n",
       "      <th>2021-12-14 22:00:00</th>\n",
       "      <td>0.151148</td>\n",
       "      <td>0.010414</td>\n",
       "      <td>0.172081</td>\n",
       "      <td>0.004623</td>\n",
       "      <td>0.002684</td>\n",
       "      <td>0.0000</td>\n",
       "      <td>0.246122</td>\n",
       "      <td>0.015624</td>\n",
       "      <td>0.232362</td>\n",
       "      <td>0.009295</td>\n",
       "      <td>...</td>\n",
       "      <td>0.268875</td>\n",
       "      <td>0.026851</td>\n",
       "      <td>0.253472</td>\n",
       "      <td>0.012933</td>\n",
       "      <td>0.270895</td>\n",
       "      <td>0.023810</td>\n",
       "      <td>0.220598</td>\n",
       "      <td>0.006242</td>\n",
       "      <td>0.275083</td>\n",
       "      <td>0.009868</td>\n",
       "    </tr>\n",
       "    <tr>\n",
       "      <th>2021-12-14 23:00:00</th>\n",
       "      <td>0.149424</td>\n",
       "      <td>-0.000302</td>\n",
       "      <td>0.170257</td>\n",
       "      <td>-0.003195</td>\n",
       "      <td>0.002823</td>\n",
       "      <td>0.0001</td>\n",
       "      <td>0.238235</td>\n",
       "      <td>-0.010027</td>\n",
       "      <td>0.231115</td>\n",
       "      <td>-0.000157</td>\n",
       "      <td>...</td>\n",
       "      <td>0.301778</td>\n",
       "      <td>0.032506</td>\n",
       "      <td>0.245708</td>\n",
       "      <td>-0.009576</td>\n",
       "      <td>0.268758</td>\n",
       "      <td>-0.011628</td>\n",
       "      <td>0.219474</td>\n",
       "      <td>-0.003013</td>\n",
       "      <td>0.271229</td>\n",
       "      <td>-0.000864</td>\n",
       "    </tr>\n",
       "    <tr>\n",
       "      <th>2021-12-15 00:00:00</th>\n",
       "      <td>0.143079</td>\n",
       "      <td>-0.001448</td>\n",
       "      <td>0.159883</td>\n",
       "      <td>-0.000641</td>\n",
       "      <td>0.002816</td>\n",
       "      <td>0.0000</td>\n",
       "      <td>0.228867</td>\n",
       "      <td>0.002517</td>\n",
       "      <td>0.220068</td>\n",
       "      <td>-0.007715</td>\n",
       "      <td>...</td>\n",
       "      <td>0.296444</td>\n",
       "      <td>0.005576</td>\n",
       "      <td>0.234522</td>\n",
       "      <td>-0.003223</td>\n",
       "      <td>0.242546</td>\n",
       "      <td>-0.002941</td>\n",
       "      <td>0.213360</td>\n",
       "      <td>0.001659</td>\n",
       "      <td>0.246067</td>\n",
       "      <td>-0.001027</td>\n",
       "    </tr>\n",
       "  </tbody>\n",
       "</table>\n",
       "<p>5 rows × 22 columns</p>\n",
       "</div>"
      ],
      "text/plain": [
       "                      vol_BTC   ret_BTC   vol_ETH   ret_ETH  vol_USDT  \\\n",
       "ts                                                                      \n",
       "2021-12-14 20:00:00  0.136358  0.004810  0.158369  0.005961  0.002463   \n",
       "2021-12-14 21:00:00  0.142237  0.019797  0.170096  0.016737  0.002652   \n",
       "2021-12-14 22:00:00  0.151148  0.010414  0.172081  0.004623  0.002684   \n",
       "2021-12-14 23:00:00  0.149424 -0.000302  0.170257 -0.003195  0.002823   \n",
       "2021-12-15 00:00:00  0.143079 -0.001448  0.159883 -0.000641  0.002816   \n",
       "\n",
       "                     ret_USDT   vol_SOL   ret_SOL   vol_ADA   ret_ADA  ...  \\\n",
       "ts                                                                     ...   \n",
       "2021-12-14 20:00:00    0.0001  0.216740  0.002798  0.225286  0.014437  ...   \n",
       "2021-12-14 21:00:00    0.0000  0.218492  0.025892  0.224116  0.012141  ...   \n",
       "2021-12-14 22:00:00    0.0000  0.246122  0.015624  0.232362  0.009295  ...   \n",
       "2021-12-14 23:00:00    0.0001  0.238235 -0.010027  0.231115 -0.000157  ...   \n",
       "2021-12-15 00:00:00    0.0000  0.228867  0.002517  0.220068 -0.007715  ...   \n",
       "\n",
       "                     vol_AVAX  ret_AVAX  vol_ATOM  ret_ATOM   vol_CRV  \\\n",
       "ts                                                                      \n",
       "2021-12-14 20:00:00  0.239258  0.008227  0.254118 -0.000471  0.255464   \n",
       "2021-12-14 21:00:00  0.241603  0.019207  0.254350  0.019303  0.263456   \n",
       "2021-12-14 22:00:00  0.268875  0.026851  0.253472  0.012933  0.270895   \n",
       "2021-12-14 23:00:00  0.301778  0.032506  0.245708 -0.009576  0.268758   \n",
       "2021-12-15 00:00:00  0.296444  0.005576  0.234522 -0.003223  0.242546   \n",
       "\n",
       "                      ret_CRV  vol_AAVE  ret_AAVE  vol_COMP  ret_COMP  \n",
       "ts                                                                     \n",
       "2021-12-14 20:00:00  0.003049  0.207758  0.009387  0.284268  0.006813  \n",
       "2021-12-14 21:00:00  0.021277  0.222014  0.022490  0.281497  0.017473  \n",
       "2021-12-14 22:00:00  0.023810  0.220598  0.006242  0.275083  0.009868  \n",
       "2021-12-14 23:00:00 -0.011628  0.219474 -0.003013  0.271229 -0.000864  \n",
       "2021-12-15 00:00:00 -0.002941  0.213360  0.001659  0.246067 -0.001027  \n",
       "\n",
       "[5 rows x 22 columns]"
      ]
     },
     "execution_count": 129,
     "metadata": {},
     "output_type": "execute_result"
    }
   ],
   "source": [
    "X.tail()"
   ]
  },
  {
   "cell_type": "markdown",
   "id": "d9280b0f-3c34-4ee9-9f86-88394d75271e",
   "metadata": {},
   "source": [
    "let's separate out our X and y variables now.  We want to make sure that we are shifting the y variable by 1 step, since we want to predict 1 step into the future"
   ]
  },
  {
   "cell_type": "code",
   "execution_count": 130,
   "id": "e04ac4e6-2419-4aaf-b2ba-16df8ad626a6",
   "metadata": {},
   "outputs": [],
   "source": [
    "y = X.ret_SOL.shift(-1)[:-1]\n",
    "X = X[:-1]"
   ]
  },
  {
   "cell_type": "code",
   "execution_count": 131,
   "id": "7094ccd3-a3e4-4f37-922a-59c62ce31337",
   "metadata": {},
   "outputs": [
    {
     "data": {
      "text/plain": [
       "(1056, 22)"
      ]
     },
     "execution_count": 131,
     "metadata": {},
     "output_type": "execute_result"
    }
   ],
   "source": [
    "X.shape"
   ]
  },
  {
   "cell_type": "code",
   "execution_count": 132,
   "id": "527c6318-fefb-4e95-bc0f-af5c7ca7717e",
   "metadata": {},
   "outputs": [
    {
     "data": {
      "text/plain": [
       "(1056,)"
      ]
     },
     "execution_count": 132,
     "metadata": {},
     "output_type": "execute_result"
    }
   ],
   "source": [
    "y.shape"
   ]
  },
  {
   "cell_type": "markdown",
   "id": "b7879777-3457-4c93-bae0-04d955c35461",
   "metadata": {},
   "source": [
    "Let's analyze our data a little bit"
   ]
  },
  {
   "cell_type": "code",
   "execution_count": 133,
   "id": "8b8931c9-3a91-4e62-9bd7-d7a7da5be1ea",
   "metadata": {},
   "outputs": [
    {
     "data": {
      "text/plain": [
       "count    1056.000000\n",
       "mean       -0.000156\n",
       "std         0.012010\n",
       "min        -0.053429\n",
       "25%        -0.007444\n",
       "50%        -0.000503\n",
       "75%         0.006740\n",
       "max         0.048298\n",
       "Name: ret_SOL, dtype: float64"
      ]
     },
     "execution_count": 133,
     "metadata": {},
     "output_type": "execute_result"
    }
   ],
   "source": [
    "y.describe()"
   ]
  },
  {
   "cell_type": "code",
   "execution_count": 134,
   "id": "ce2ad7de-32c0-4e9f-92d6-5f2708aae848",
   "metadata": {},
   "outputs": [],
   "source": [
    "from pandas.plotting import scatter_matrix, autocorrelation_plot"
   ]
  },
  {
   "cell_type": "code",
   "execution_count": 135,
   "id": "b7ef0d8c-134c-4e3f-9b5d-0b9f8513c13a",
   "metadata": {},
   "outputs": [
    {
     "data": {
      "text/plain": [
       "<AxesSubplot:xlabel='Lag', ylabel='Autocorrelation'>"
      ]
     },
     "execution_count": 135,
     "metadata": {},
     "output_type": "execute_result"
    },
    {
     "data": {
      "image/png": "[encoded data removed]",
      "text/plain": [
       "<Figure size 432x288 with 1 Axes>"
      ]
     },
     "metadata": {
      "needs_background": "light"
     },
     "output_type": "display_data"
    }
   ],
   "source": [
    "autocorrelation_plot(y[1:])"
   ]
  },
  {
   "cell_type": "markdown",
   "id": "86bdc214-4eb9-4586-b074-d06d32eae146",
   "metadata": {},
   "source": [
    "we can see that the hourly returns for aave doesn't have any strong autocorrelation"
   ]
  },
  {
   "cell_type": "code",
   "execution_count": 136,
   "id": "7c16dba9-b389-4151-8c9a-fe3fc21f3acc",
   "metadata": {},
   "outputs": [
    {
     "data": {
      "text/html": [
       "<div>\n",
       "<style scoped>\n",
       "    .dataframe tbody tr th:only-of-type {\n",
       "        vertical-align: middle;\n",
       "    }\n",
       "\n",
       "    .dataframe tbody tr th {\n",
       "        vertical-align: top;\n",
       "    }\n",
       "\n",
       "    .dataframe thead th {\n",
       "        text-align: right;\n",
       "    }\n",
       "</style>\n",
       "<table border=\"1\" class=\"dataframe\">\n",
       "  <thead>\n",
       "    <tr style=\"text-align: right;\">\n",
       "      <th></th>\n",
       "      <th>vol_BTC</th>\n",
       "      <th>ret_BTC</th>\n",
       "      <th>vol_ETH</th>\n",
       "      <th>ret_ETH</th>\n",
       "      <th>vol_USDT</th>\n",
       "      <th>ret_USDT</th>\n",
       "      <th>vol_SOL</th>\n",
       "      <th>ret_SOL</th>\n",
       "      <th>vol_ADA</th>\n",
       "      <th>ret_ADA</th>\n",
       "      <th>...</th>\n",
       "      <th>vol_AVAX</th>\n",
       "      <th>ret_AVAX</th>\n",
       "      <th>vol_ATOM</th>\n",
       "      <th>ret_ATOM</th>\n",
       "      <th>vol_CRV</th>\n",
       "      <th>ret_CRV</th>\n",
       "      <th>vol_AAVE</th>\n",
       "      <th>ret_AAVE</th>\n",
       "      <th>vol_COMP</th>\n",
       "      <th>ret_COMP</th>\n",
       "    </tr>\n",
       "    <tr>\n",
       "      <th>ts</th>\n",
       "      <th></th>\n",
       "      <th></th>\n",
       "      <th></th>\n",
       "      <th></th>\n",
       "      <th></th>\n",
       "      <th></th>\n",
       "      <th></th>\n",
       "      <th></th>\n",
       "      <th></th>\n",
       "      <th></th>\n",
       "      <th></th>\n",
       "      <th></th>\n",
       "      <th></th>\n",
       "      <th></th>\n",
       "      <th></th>\n",
       "      <th></th>\n",
       "      <th></th>\n",
       "      <th></th>\n",
       "      <th></th>\n",
       "      <th></th>\n",
       "      <th></th>\n",
       "    </tr>\n",
       "  </thead>\n",
       "  <tbody>\n",
       "    <tr>\n",
       "      <th>2021-11-01 00:00:00</th>\n",
       "      <td>0.0</td>\n",
       "      <td>NaN</td>\n",
       "      <td>0.0</td>\n",
       "      <td>NaN</td>\n",
       "      <td>0.0</td>\n",
       "      <td>NaN</td>\n",
       "      <td>0.0</td>\n",
       "      <td>NaN</td>\n",
       "      <td>0.0</td>\n",
       "      <td>NaN</td>\n",
       "      <td>...</td>\n",
       "      <td>0.0</td>\n",
       "      <td>NaN</td>\n",
       "      <td>0.0</td>\n",
       "      <td>NaN</td>\n",
       "      <td>0.0</td>\n",
       "      <td>NaN</td>\n",
       "      <td>0.0</td>\n",
       "      <td>NaN</td>\n",
       "      <td>0.0</td>\n",
       "      <td>NaN</td>\n",
       "    </tr>\n",
       "    <tr>\n",
       "      <th>2021-11-01 01:00:00</th>\n",
       "      <td>0.0</td>\n",
       "      <td>0.004357</td>\n",
       "      <td>0.0</td>\n",
       "      <td>0.006874</td>\n",
       "      <td>0.0</td>\n",
       "      <td>0.0000</td>\n",
       "      <td>0.0</td>\n",
       "      <td>0.027359</td>\n",
       "      <td>0.0</td>\n",
       "      <td>0.003203</td>\n",
       "      <td>...</td>\n",
       "      <td>0.0</td>\n",
       "      <td>-0.006346</td>\n",
       "      <td>0.0</td>\n",
       "      <td>0.008193</td>\n",
       "      <td>0.0</td>\n",
       "      <td>0.000725</td>\n",
       "      <td>0.0</td>\n",
       "      <td>0.008043</td>\n",
       "      <td>0.0</td>\n",
       "      <td>-0.002281</td>\n",
       "    </tr>\n",
       "    <tr>\n",
       "      <th>2021-11-01 02:00:00</th>\n",
       "      <td>0.0</td>\n",
       "      <td>-0.004508</td>\n",
       "      <td>0.0</td>\n",
       "      <td>-0.005322</td>\n",
       "      <td>0.0</td>\n",
       "      <td>-0.0002</td>\n",
       "      <td>0.0</td>\n",
       "      <td>-0.009879</td>\n",
       "      <td>0.0</td>\n",
       "      <td>-0.008667</td>\n",
       "      <td>...</td>\n",
       "      <td>0.0</td>\n",
       "      <td>-0.006231</td>\n",
       "      <td>0.0</td>\n",
       "      <td>-0.025419</td>\n",
       "      <td>0.0</td>\n",
       "      <td>-0.031791</td>\n",
       "      <td>0.0</td>\n",
       "      <td>-0.009171</td>\n",
       "      <td>0.0</td>\n",
       "      <td>-0.006020</td>\n",
       "    </tr>\n",
       "    <tr>\n",
       "      <th>2021-11-01 03:00:00</th>\n",
       "      <td>0.0</td>\n",
       "      <td>-0.012132</td>\n",
       "      <td>0.0</td>\n",
       "      <td>-0.013126</td>\n",
       "      <td>0.0</td>\n",
       "      <td>0.0001</td>\n",
       "      <td>0.0</td>\n",
       "      <td>-0.021692</td>\n",
       "      <td>0.0</td>\n",
       "      <td>-0.007618</td>\n",
       "      <td>...</td>\n",
       "      <td>0.0</td>\n",
       "      <td>-0.005329</td>\n",
       "      <td>0.0</td>\n",
       "      <td>-0.013943</td>\n",
       "      <td>0.0</td>\n",
       "      <td>-0.010431</td>\n",
       "      <td>0.0</td>\n",
       "      <td>-0.013301</td>\n",
       "      <td>0.0</td>\n",
       "      <td>-0.022273</td>\n",
       "    </tr>\n",
       "    <tr>\n",
       "      <th>2021-11-01 04:00:00</th>\n",
       "      <td>0.0</td>\n",
       "      <td>-0.010186</td>\n",
       "      <td>0.0</td>\n",
       "      <td>-0.010679</td>\n",
       "      <td>0.0</td>\n",
       "      <td>0.0000</td>\n",
       "      <td>0.0</td>\n",
       "      <td>-0.003039</td>\n",
       "      <td>0.0</td>\n",
       "      <td>-0.006903</td>\n",
       "      <td>...</td>\n",
       "      <td>0.0</td>\n",
       "      <td>-0.008667</td>\n",
       "      <td>0.0</td>\n",
       "      <td>-0.020046</td>\n",
       "      <td>0.0</td>\n",
       "      <td>0.004514</td>\n",
       "      <td>0.0</td>\n",
       "      <td>-0.016452</td>\n",
       "      <td>0.0</td>\n",
       "      <td>-0.024002</td>\n",
       "    </tr>\n",
       "  </tbody>\n",
       "</table>\n",
       "<p>5 rows × 22 columns</p>\n",
       "</div>"
      ],
      "text/plain": [
       "                     vol_BTC   ret_BTC  vol_ETH   ret_ETH  vol_USDT  ret_USDT  \\\n",
       "ts                                                                              \n",
       "2021-11-01 00:00:00      0.0       NaN      0.0       NaN       0.0       NaN   \n",
       "2021-11-01 01:00:00      0.0  0.004357      0.0  0.006874       0.0    0.0000   \n",
       "2021-11-01 02:00:00      0.0 -0.004508      0.0 -0.005322       0.0   -0.0002   \n",
       "2021-11-01 03:00:00      0.0 -0.012132      0.0 -0.013126       0.0    0.0001   \n",
       "2021-11-01 04:00:00      0.0 -0.010186      0.0 -0.010679       0.0    0.0000   \n",
       "\n",
       "                     vol_SOL   ret_SOL  vol_ADA   ret_ADA  ...  vol_AVAX  \\\n",
       "ts                                                         ...             \n",
       "2021-11-01 00:00:00      0.0       NaN      0.0       NaN  ...       0.0   \n",
       "2021-11-01 01:00:00      0.0  0.027359      0.0  0.003203  ...       0.0   \n",
       "2021-11-01 02:00:00      0.0 -0.009879      0.0 -0.008667  ...       0.0   \n",
       "2021-11-01 03:00:00      0.0 -0.021692      0.0 -0.007618  ...       0.0   \n",
       "2021-11-01 04:00:00      0.0 -0.003039      0.0 -0.006903  ...       0.0   \n",
       "\n",
       "                     ret_AVAX  vol_ATOM  ret_ATOM  vol_CRV   ret_CRV  \\\n",
       "ts                                                                     \n",
       "2021-11-01 00:00:00       NaN       0.0       NaN      0.0       NaN   \n",
       "2021-11-01 01:00:00 -0.006346       0.0  0.008193      0.0  0.000725   \n",
       "2021-11-01 02:00:00 -0.006231       0.0 -0.025419      0.0 -0.031791   \n",
       "2021-11-01 03:00:00 -0.005329       0.0 -0.013943      0.0 -0.010431   \n",
       "2021-11-01 04:00:00 -0.008667       0.0 -0.020046      0.0  0.004514   \n",
       "\n",
       "                     vol_AAVE  ret_AAVE  vol_COMP  ret_COMP  \n",
       "ts                                                           \n",
       "2021-11-01 00:00:00       0.0       NaN       0.0       NaN  \n",
       "2021-11-01 01:00:00       0.0  0.008043       0.0 -0.002281  \n",
       "2021-11-01 02:00:00       0.0 -0.009171       0.0 -0.006020  \n",
       "2021-11-01 03:00:00       0.0 -0.013301       0.0 -0.022273  \n",
       "2021-11-01 04:00:00       0.0 -0.016452       0.0 -0.024002  \n",
       "\n",
       "[5 rows x 22 columns]"
      ]
     },
     "execution_count": 136,
     "metadata": {},
     "output_type": "execute_result"
    }
   ],
   "source": [
    "X.head()"
   ]
  },
  {
   "cell_type": "code",
   "execution_count": 137,
   "id": "dd11cdcd-fa6d-4971-9e0d-ef3f305d1e69",
   "metadata": {},
   "outputs": [
    {
     "data": {
      "text/plain": [
       "vol_BTC     0\n",
       "ret_BTC     1\n",
       "vol_ETH     0\n",
       "ret_ETH     1\n",
       "vol_USDT    0\n",
       "ret_USDT    1\n",
       "vol_SOL     0\n",
       "ret_SOL     1\n",
       "vol_ADA     0\n",
       "ret_ADA     1\n",
       "vol_DOT     0\n",
       "ret_DOT     1\n",
       "vol_AVAX    0\n",
       "ret_AVAX    1\n",
       "vol_ATOM    0\n",
       "ret_ATOM    1\n",
       "vol_CRV     0\n",
       "ret_CRV     1\n",
       "vol_AAVE    0\n",
       "ret_AAVE    1\n",
       "vol_COMP    0\n",
       "ret_COMP    1\n",
       "dtype: int64"
      ]
     },
     "execution_count": 137,
     "metadata": {},
     "output_type": "execute_result"
    }
   ],
   "source": [
    "pd.isnull(X).sum()"
   ]
  },
  {
   "cell_type": "markdown",
   "id": "c151987b-b2ea-418d-8aa5-3f06d4d7f9a0",
   "metadata": {},
   "source": [
    "we see that we have some nulls, so our transformers should deal with this.  The reason we have these is because the first value in our series doesn't have a return, so we should impute these to be zero"
   ]
  },
  {
   "cell_type": "code",
   "execution_count": 138,
   "id": "e62dd52e-7f13-4d18-a54a-c12fcc4c75f5",
   "metadata": {
    "tags": []
   },
   "outputs": [
    {
     "data": {
      "text/plain": [
       "{'vol_BTC': 0.02869355057357333,\n",
       " 'ret_BTC': -0.013848623804147291,\n",
       " 'vol_ETH': 0.02357151289469286,\n",
       " 'ret_ETH': 0.03064921265933827,\n",
       " 'vol_USDT': 0.006850180191310896,\n",
       " 'ret_USDT': -0.0444008549905275,\n",
       " 'vol_SOL': 0.034852597266384726,\n",
       " 'ret_SOL': -0.029855064193406507,\n",
       " 'vol_ADA': 0.03888023343700741,\n",
       " 'ret_ADA': 0.00024928333961421093,\n",
       " 'vol_DOT': 0.059040768451671846,\n",
       " 'ret_DOT': 0.008193946995455037,\n",
       " 'vol_AVAX': 0.04140851156078149,\n",
       " 'ret_AVAX': 0.01691945028976707,\n",
       " 'vol_ATOM': -0.002234607785685165,\n",
       " 'ret_ATOM': 0.05546161881659776,\n",
       " 'vol_CRV': 0.019828890149893363,\n",
       " 'ret_CRV': -0.005844145396121412,\n",
       " 'vol_AAVE': 0.0360507780728068,\n",
       " 'ret_AAVE': 0.019895686732066233,\n",
       " 'vol_COMP': 0.059842585308615054,\n",
       " 'ret_COMP': 0.02011314149015309}"
      ]
     },
     "execution_count": 138,
     "metadata": {},
     "output_type": "execute_result"
    }
   ],
   "source": [
    "{col: y.corr(X[col]) for col in X.columns if X[col].dtype != 'object'}"
   ]
  },
  {
   "cell_type": "markdown",
   "id": "b20cdac5-8d90-46e1-a04e-ce6b29b9a3df",
   "metadata": {},
   "source": [
    "finally, we can take a quick look at the correlation between y and our X variables.  We see here that the correlations are pretty weak on a column by column basis"
   ]
  },
  {
   "cell_type": "markdown",
   "id": "c9fcf813-635f-4847-85ab-392781aa0c0c",
   "metadata": {},
   "source": [
    "It might be helpful to add some statistical properties to take into consideration the recent trend on ret. Similar techniques are used when calculating the vol."
   ]
  },
  {
   "cell_type": "code",
   "execution_count": 139,
   "id": "aeef96c5-3fc1-472d-b772-029bbdceb1ef",
   "metadata": {
    "tags": []
   },
   "outputs": [],
   "source": [
    "for col in X.columns:\n",
    "    if \"ret\" in col:\n",
    "        X[col + \"_rolling\"] = X[col].rolling(window=5, min_periods=1).mean()"
   ]
  },
  {
   "cell_type": "markdown",
   "id": "4baa600e-7b36-448e-811a-c0aa50b1ed11",
   "metadata": {},
   "source": [
    "Next, let's set up a set of transformers so that we can augment our data before it hits the model"
   ]
  },
  {
   "cell_type": "code",
   "execution_count": 140,
   "id": "465b69ab-5c44-4053-9a1b-b656c2cb57b4",
   "metadata": {},
   "outputs": [],
   "source": [
    "from sklearn.preprocessing import StandardScaler\n",
    "from sklearn.preprocessing import QuantileTransformer\n",
    "from sklearn.decomposition import PCA\n",
    "from sklearn.impute import SimpleImputer\n",
    "\n",
    "from sklearn.base import BaseEstimator, TransformerMixin\n",
    "from sklearn.pipeline import Pipeline\n",
    "from sklearn.compose import ColumnTransformer\n",
    "\n",
    "from sklearn.tree import DecisionTreeRegressor\n",
    "from sklearn.ensemble import RandomForestRegressor\n",
    "from sklearn.linear_model import Ridge\n",
    "\n",
    "from sklearn.model_selection import cross_validate\n",
    "from sklearn.model_selection import TimeSeriesSplit\n",
    "from sklearn.metrics import mean_squared_error, make_scorer\n",
    "\n",
    "from sklearn.model_selection import learning_curve"
   ]
  },
  {
   "cell_type": "code",
   "execution_count": 141,
   "id": "c0eae381-861f-4520-ad8d-4a761cfec9c0",
   "metadata": {},
   "outputs": [],
   "source": [
    "class FeatureSelector(BaseEstimator, TransformerMixin):\n",
    "    def __init__(self, columns):\n",
    "        self.columns = columns\n",
    "        \n",
    "    def fit(self, X, y=None):\n",
    "        return self\n",
    "    \n",
    "    def transform(self, X):\n",
    "        return X[self.columns]\n"
   ]
  },
  {
   "cell_type": "code",
   "execution_count": 142,
   "id": "30bd7300-9a0a-4464-a27a-f025ecf480b3",
   "metadata": {},
   "outputs": [],
   "source": [
    "def evaluate_model(model, X, y, test_size=0.2):\n",
    "    cv = TimeSeriesSplit(n_splits=int(y.shape[0] * test_size), test_size=1)\n",
    "    scorer = make_scorer(mean_squared_error, greater_is_better=False, squared=False)\n",
    "    \n",
    "    return np.mean(cross_validate(model, X, y, cv=cv, scoring=scorer, n_jobs=-1)['test_score'])\n",
    "    \n",
    "#     scores = []\n",
    "#     for train_idx, test_idx in cv.split(X):\n",
    "#         X_train, X_test, y_train, y_test = X.iloc[train_idx], X.iloc[test_idx], y.iloc[train_idx], y.iloc[test_idx]\n",
    "#         model.fit(X_train, y_train)\n",
    "#         score = mean_squared_error(y_test, model.predict(X_test), squared=False)\n",
    "#         scores.append(score)\n",
    "        \n",
    "#     return np.mean(scores)"
   ]
  },
  {
   "cell_type": "code",
   "execution_count": 148,
   "id": "657ec625-6e6e-42a9-85f1-050119db45ba",
   "metadata": {},
   "outputs": [
    {
     "data": {
      "text/plain": [
       "GridSearchCV(cv=TimeSeriesSplit(gap=0, max_train_size=None, n_splits=211, test_size=1),\n",
       "             estimator=Pipeline(steps=[('impute',\n",
       "                                        SimpleImputer(fill_value=0.0,\n",
       "                                                      strategy='constant')),\n",
       "                                       ('scale', StandardScaler()),\n",
       "                                       ('pca', PCA()), ('model', Ridge())]),\n",
       "             n_jobs=-1,\n",
       "             param_grid={'model__alpha': array([0.        , 0.05263158, 0.10526316, 0.15789474, 0.21052632,\n",
       "       0.26315789, 0.31578947, 0.36842105, 0.42105263, 0.47368421,\n",
       "       0.52631579, 0.57894737, 0.63157895, 0.68421053, 0.73684211,\n",
       "       0.78947368, 0.84210526, 0.89473684, 0.94736842, 1.        ]),\n",
       "                         'pca__n_components': [1, 5, 10, 20, 25, 30, 33]},\n",
       "             scoring=make_scorer(mean_squared_error, greater_is_better=False, squared=False))"
      ]
     },
     "execution_count": 148,
     "metadata": {},
     "output_type": "execute_result"
    }
   ],
   "source": [
    "from sklearn.model_selection import GridSearchCV\n",
    "\n",
    "pipeline = Pipeline([\n",
    "    ('impute', SimpleImputer(missing_values=np.nan, strategy='constant', fill_value=0.)),\n",
    "    ('scale', StandardScaler()),\n",
    "    ('pca', PCA()),\n",
    "    ('model', Ridge())\n",
    "])\n",
    "\n",
    "test_size = 0.2\n",
    "cv = TimeSeriesSplit(n_splits=int(y.shape[0] * test_size), test_size=1)\n",
    "scorer = make_scorer(mean_squared_error, greater_is_better=False, squared=False)\n",
    "\n",
    "search = GridSearchCV(pipeline, {\n",
    "    'pca__n_components': [1, 5, 10, 20, 25, 30, 33],\n",
    "    'model__alpha': np.linspace(0.0, 1.0, 20)\n",
    "}, scoring=scorer, refit=True, cv=cv, n_jobs=-1)\n",
    "search.fit(X, y)"
   ]
  },
  {
   "cell_type": "code",
   "execution_count": 149,
   "id": "f20ced98-94dc-4f60-b202-232643d71bf6",
   "metadata": {},
   "outputs": [
    {
     "data": {
      "text/plain": [
       "{'model__alpha': 1.0, 'pca__n_components': 25}"
      ]
     },
     "execution_count": 149,
     "metadata": {},
     "output_type": "execute_result"
    }
   ],
   "source": [
    "search.best_params_"
   ]
  },
  {
   "cell_type": "code",
   "execution_count": 150,
   "id": "c1b159b7-eeb1-407e-8a3e-4d6b9079d124",
   "metadata": {},
   "outputs": [],
   "source": [
    "best_model = search.best_estimator_"
   ]
  },
  {
   "cell_type": "code",
   "execution_count": 152,
   "id": "d811f063-0064-47c5-88ca-c932021cc2ba",
   "metadata": {},
   "outputs": [
    {
     "data": {
      "text/plain": [
       "-0.008517811033295856"
      ]
     },
     "execution_count": 152,
     "metadata": {},
     "output_type": "execute_result"
    }
   ],
   "source": [
    "evaluate_model(best_model, X, y)"
   ]
  },
  {
   "cell_type": "markdown",
   "id": "b29fecdd-88e0-4cba-be6e-a4f98957bf4c",
   "metadata": {},
   "source": [
    "The model is slightly better than that in class, of which the evaluation score is -0.008575141851714435."
   ]
  },
  {
   "cell_type": "markdown",
   "id": "4e0de43f-5164-4fe7-a039-5f4bfa83fdcb",
   "metadata": {},
   "source": [
    "Let's check the learning curve of our best model"
   ]
  },
  {
   "cell_type": "code",
   "execution_count": 153,
   "id": "17696e23-e9fa-4e95-825c-379c1b660ffa",
   "metadata": {},
   "outputs": [
    {
     "data": {
      "text/plain": [
       "<module 'matplotlib.pyplot' from 'D:\\\\Anaconda3\\\\lib\\\\site-packages\\\\matplotlib\\\\pyplot.py'>"
      ]
     },
     "execution_count": 153,
     "metadata": {},
     "output_type": "execute_result"
    },
    {
     "data": {
      "image/png": "[encoded data removed]",
      "text/plain": [
       "<Figure size 720x1080 with 3 Axes>"
      ]
     },
     "metadata": {
      "needs_background": "light"
     },
     "output_type": "display_data"
    }
   ],
   "source": [
    "fig, axes = plt.subplots(3, 1, figsize=(10, 15))\n",
    "\n",
    "title = \"Learning curves for ridge regression\"\n",
    "\n",
    "plot_learning_curve(\n",
    "    best_model, title, X, y, axes=axes, cv=cv, n_jobs=4, scoring=scorer\n",
    ")\n"
   ]
  },
  {
   "cell_type": "markdown",
   "id": "3117e29a-aff8-407a-a597-51c58ddce2da",
   "metadata": {},
   "source": [
    "Now that we have completed the model, we will need to save it down so that we can load it up in our model.  To do this, we will use pickle"
   ]
  },
  {
   "cell_type": "code",
   "execution_count": 154,
   "id": "7b242a00-2afd-4270-8925-e77264bf108f",
   "metadata": {},
   "outputs": [],
   "source": [
    "pickle.dump(best_model, open('best_model.pkl', 'wb'))"
   ]
  },
  {
   "cell_type": "markdown",
   "id": "af9bc542-6e49-48af-a970-c4827344a59f",
   "metadata": {},
   "source": [
    "We can verify that this is the same model that we saved:"
   ]
  },
  {
   "cell_type": "code",
   "execution_count": 155,
   "id": "f7906deb-e521-481b-a87e-06512af8673a",
   "metadata": {},
   "outputs": [],
   "source": [
    "loaded_model = pickle.load(open('best_model.pkl', 'rb'))"
   ]
  },
  {
   "cell_type": "code",
   "execution_count": 156,
   "id": "956abe06-47e6-4a24-b776-bf6b06d07cc3",
   "metadata": {},
   "outputs": [
    {
     "data": {
      "text/plain": [
       "False"
      ]
     },
     "execution_count": 156,
     "metadata": {},
     "output_type": "execute_result"
    }
   ],
   "source": [
    "loaded_model == best_model"
   ]
  },
  {
   "cell_type": "code",
   "execution_count": 157,
   "id": "ace17a9b-e8e9-442b-817b-59913b1aab46",
   "metadata": {},
   "outputs": [
    {
     "data": {
      "text/plain": [
       "array([0.00102747])"
      ]
     },
     "execution_count": 157,
     "metadata": {},
     "output_type": "execute_result"
    }
   ],
   "source": [
    "loaded_model.predict(X.iloc[[-1]])"
   ]
  },
  {
   "cell_type": "code",
   "execution_count": 158,
   "id": "632017e0-fcab-485d-995f-04bb865e0df1",
   "metadata": {},
   "outputs": [
    {
     "data": {
      "text/plain": [
       "array([0.00102747])"
      ]
     },
     "execution_count": 158,
     "metadata": {},
     "output_type": "execute_result"
    }
   ],
   "source": [
    "best_model.predict(X.iloc[[-1]])"
   ]
  },
  {
   "cell_type": "code",
   "execution_count": 159,
   "id": "f8a4f5c6-5831-4ee4-8c11-b82393580760",
   "metadata": {},
   "outputs": [
    {
     "data": {
      "text/plain": [
       "Pipeline(steps=[('impute', SimpleImputer(fill_value=0.0, strategy='constant')),\n",
       "                ('scale', StandardScaler()), ('pca', PCA(n_components=25)),\n",
       "                ('model', Ridge())])"
      ]
     },
     "execution_count": 159,
     "metadata": {},
     "output_type": "execute_result"
    }
   ],
   "source": [
    "best_model"
   ]
  },
  {
   "cell_type": "code",
   "execution_count": 160,
   "id": "7b207541-6a62-43fb-a4d4-e1ddb75f07b7",
   "metadata": {},
   "outputs": [
    {
     "data": {
      "text/plain": [
       "Pipeline(steps=[('impute', SimpleImputer(fill_value=0.0, strategy='constant')),\n",
       "                ('scale', StandardScaler()), ('pca', PCA(n_components=25)),\n",
       "                ('model', Ridge())])"
      ]
     },
     "execution_count": 160,
     "metadata": {},
     "output_type": "execute_result"
    }
   ],
   "source": [
    "loaded_model"
   ]
  },
  {
   "cell_type": "code",
   "execution_count": 161,
   "id": "9d320049-49d5-495e-81b4-d1d962e6f044",
   "metadata": {},
   "outputs": [
    {
     "data": {
      "text/plain": [
       "-0.008517811033295856"
      ]
     },
     "execution_count": 161,
     "metadata": {},
     "output_type": "execute_result"
    }
   ],
   "source": [
    "evaluate_model(best_model, X, y)"
   ]
  },
  {
   "cell_type": "code",
   "execution_count": 162,
   "id": "abf198da-e6dc-4c44-8bde-fb136bbf6830",
   "metadata": {},
   "outputs": [
    {
     "data": {
      "text/plain": [
       "-0.008517811033295858"
      ]
     },
     "execution_count": 162,
     "metadata": {},
     "output_type": "execute_result"
    }
   ],
   "source": [
    "evaluate_model(loaded_model, X, y)"
   ]
  },
  {
   "cell_type": "markdown",
   "id": "8d95a97e-b232-4b7d-b621-3e4047e7b819",
   "metadata": {},
   "source": [
    "we can now take this model and build a server around it, so that other systems can also now make predictions on the hourly returns of SOL!"
   ]
  }
 ],
 "metadata": {
  "kernelspec": {
   "display_name": "Python 3 (ipykernel)",
   "language": "python",
   "name": "python3"
  },
  "language_info": {
   "codemirror_mode": {
    "name": "ipython",
    "version": 3
   },
   "file_extension": ".py",
   "mimetype": "text/x-python",
   "name": "python",
   "nbconvert_exporter": "python",
   "pygments_lexer": "ipython3",
   "version": "3.9.7"
  }
 },
 "nbformat": 4,
 "nbformat_minor": 5
}
