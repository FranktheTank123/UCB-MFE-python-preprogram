{
 "cells": [
  {
   "cell_type": "markdown",
   "id": "585b1e36-022c-4c02-b830-13f538206411",
   "metadata": {},
   "source": [
    "## Hw 8"
   ]
  },
  {
   "cell_type": "code",
   "execution_count": 1,
   "id": "8a989d61-a2e3-4dba-9280-32a5d67ccc21",
   "metadata": {},
   "outputs": [],
   "source": [
    "data_location = 'sqlite:///data.db'"
   ]
  },
  {
   "cell_type": "code",
   "execution_count": 2,
   "id": "cb844800-142c-4f99-8e8e-0899126251ca",
   "metadata": {},
   "outputs": [],
   "source": [
    "import pandas as pd\n",
    "import numpy as np\n",
    "import matplotlib.pyplot as plt\n",
    "from functools import reduce\n",
    "\n",
    "import pickle"
   ]
  },
  {
   "cell_type": "code",
   "execution_count": 3,
   "id": "3131dbb1-9cf0-43be-ad7b-2413a90d9a07",
   "metadata": {},
   "outputs": [],
   "source": [
    "def vol_ohlc(df, lookback=10):\n",
    "    o = df.open\n",
    "    h = df.high\n",
    "    l = df.low\n",
    "    c = df.close\n",
    "    \n",
    "    k = 0.34 / (1.34 + (lookback+1)/(lookback-1))\n",
    "    cc = np.log(c/c.shift(1))\n",
    "    ho = np.log(h/o)\n",
    "    lo = np.log(l/o)\n",
    "    co = np.log(c/o)\n",
    "    oc = np.log(o/c.shift(1))\n",
    "    oc_sq = oc**2\n",
    "    cc_sq = cc**2\n",
    "    rs = ho*(ho-co)+lo*(lo-co)\n",
    "    close_vol = cc_sq.rolling(lookback).sum() * (1.0 / (lookback - 1.0))\n",
    "    open_vol = oc_sq.rolling(lookback).sum() * (1.0 / (lookback - 1.0))\n",
    "    window_rs = rs.rolling(lookback).sum() * (1.0 / (lookback - 1.0))\n",
    "    result = (open_vol + k * close_vol + (1-k) * window_rs).apply(np.sqrt) * np.sqrt(252)\n",
    "    result[:lookback-1] = np.nan\n",
    "    \n",
    "    return result"
   ]
  },
  {
   "cell_type": "code",
   "execution_count": 4,
   "id": "ceca5fbb-a5be-44eb-97b8-a62dd65509df",
   "metadata": {},
   "outputs": [],
   "source": [
    "def plot_learning_curve(\n",
    "    estimator,\n",
    "    title,\n",
    "    X,\n",
    "    y,\n",
    "    axes=None,\n",
    "    ylim=None,\n",
    "    cv=None,\n",
    "    n_jobs=None,\n",
    "    train_sizes=np.linspace(0.1, 1.0, 5),\n",
    "    scoring=None\n",
    "):\n",
    "    if axes is None:\n",
    "        _, axes = plt.subplots(1, 3, figsize=(20, 5))\n",
    "\n",
    "    axes[0].set_title(title)\n",
    "    if ylim is not None:\n",
    "        axes[0].set_ylim(*ylim)\n",
    "    axes[0].set_xlabel(\"Training examples\")\n",
    "    axes[0].set_ylabel(\"Score\")\n",
    "\n",
    "    train_sizes, train_scores, test_scores, fit_times, _ = learning_curve(\n",
    "        estimator,\n",
    "        X,\n",
    "        y,\n",
    "        cv=cv,\n",
    "        n_jobs=n_jobs,\n",
    "        train_sizes=train_sizes,\n",
    "        return_times=True,\n",
    "        scoring=scoring,\n",
    "    )\n",
    "    train_scores_mean = np.mean(train_scores, axis=1)\n",
    "    train_scores_std = np.std(train_scores, axis=1)\n",
    "    test_scores_mean = np.mean(test_scores, axis=1)\n",
    "    test_scores_std = np.std(test_scores, axis=1)\n",
    "    fit_times_mean = np.mean(fit_times, axis=1)\n",
    "    fit_times_std = np.std(fit_times, axis=1)\n",
    "\n",
    "    # Plot learning curve\n",
    "    axes[0].grid()\n",
    "    axes[0].fill_between(\n",
    "        train_sizes,\n",
    "        train_scores_mean - train_scores_std,\n",
    "        train_scores_mean + train_scores_std,\n",
    "        alpha=0.1,\n",
    "        color=\"r\",\n",
    "    )\n",
    "    axes[0].fill_between(\n",
    "        train_sizes,\n",
    "        test_scores_mean - test_scores_std,\n",
    "        test_scores_mean + test_scores_std,\n",
    "        alpha=0.1,\n",
    "        color=\"g\",\n",
    "    )\n",
    "    axes[0].plot(\n",
    "        train_sizes, train_scores_mean, \"o-\", color=\"r\", label=\"Training score\"\n",
    "    )\n",
    "    axes[0].plot(\n",
    "        train_sizes, test_scores_mean, \"o-\", color=\"g\", label=\"Cross-validation score\"\n",
    "    )\n",
    "    axes[0].legend(loc=\"best\")\n",
    "\n",
    "    # Plot n_samples vs fit_times\n",
    "    axes[1].grid()\n",
    "    axes[1].plot(train_sizes, fit_times_mean, \"o-\")\n",
    "    axes[1].fill_between(\n",
    "        train_sizes,\n",
    "        fit_times_mean - fit_times_std,\n",
    "        fit_times_mean + fit_times_std,\n",
    "        alpha=0.1,\n",
    "    )\n",
    "    axes[1].set_xlabel(\"Training examples\")\n",
    "    axes[1].set_ylabel(\"fit_times\")\n",
    "    axes[1].set_title(\"Scalability of the model\")\n",
    "\n",
    "    # Plot fit_time vs score\n",
    "    fit_time_argsort = fit_times_mean.argsort()\n",
    "    fit_time_sorted = fit_times_mean[fit_time_argsort]\n",
    "    test_scores_mean_sorted = test_scores_mean[fit_time_argsort]\n",
    "    test_scores_std_sorted = test_scores_std[fit_time_argsort]\n",
    "    axes[2].grid()\n",
    "    axes[2].plot(fit_time_sorted, test_scores_mean_sorted, \"o-\")\n",
    "    axes[2].fill_between(\n",
    "        fit_time_sorted,\n",
    "        test_scores_mean_sorted - test_scores_std_sorted,\n",
    "        test_scores_mean_sorted + test_scores_std_sorted,\n",
    "        alpha=0.1,\n",
    "    )\n",
    "    axes[2].set_xlabel(\"fit_times\")\n",
    "    axes[2].set_ylabel(\"Score\")\n",
    "    axes[2].set_title(\"Performance of the model\")\n",
    "\n",
    "    return plt"
   ]
  },
  {
   "cell_type": "code",
   "execution_count": 5,
   "id": "ae868702-6c2e-4131-ba2e-5705fb2ef5a4",
   "metadata": {},
   "outputs": [
    {
     "data": {
      "text/plain": [
       "(11627, 9)"
      ]
     },
     "execution_count": 5,
     "metadata": {},
     "output_type": "execute_result"
    }
   ],
   "source": [
    "ohlc = pd.read_sql('SELECT * FROM ohlc', data_location)\n",
    "ohlc.shape"
   ]
  },
  {
   "cell_type": "code",
   "execution_count": 6,
   "id": "b33f652b-583b-4c9f-8d72-cae3995d84e7",
   "metadata": {
    "tags": []
   },
   "outputs": [
    {
     "data": {
      "text/html": [
       "<div>\n",
       "<style scoped>\n",
       "    .dataframe tbody tr th:only-of-type {\n",
       "        vertical-align: middle;\n",
       "    }\n",
       "\n",
       "    .dataframe tbody tr th {\n",
       "        vertical-align: top;\n",
       "    }\n",
       "\n",
       "    .dataframe thead th {\n",
       "        text-align: right;\n",
       "    }\n",
       "</style>\n",
       "<table border=\"1\" class=\"dataframe\">\n",
       "  <thead>\n",
       "    <tr style=\"text-align: right;\">\n",
       "      <th></th>\n",
       "      <th>ts</th>\n",
       "      <th>open</th>\n",
       "      <th>high</th>\n",
       "      <th>low</th>\n",
       "      <th>close</th>\n",
       "      <th>volume</th>\n",
       "      <th>volumeUSD</th>\n",
       "      <th>token</th>\n",
       "      <th>chain</th>\n",
       "    </tr>\n",
       "  </thead>\n",
       "  <tbody>\n",
       "    <tr>\n",
       "      <th>0</th>\n",
       "      <td>2021-11-01 00:00:00</td>\n",
       "      <td>61421.37</td>\n",
       "      <td>61669.14</td>\n",
       "      <td>61239.60</td>\n",
       "      <td>61343.68</td>\n",
       "      <td>256.433869</td>\n",
       "      <td>1.575751e+07</td>\n",
       "      <td>BTC</td>\n",
       "      <td>BTC</td>\n",
       "    </tr>\n",
       "    <tr>\n",
       "      <th>1</th>\n",
       "      <td>2021-11-01 01:00:00</td>\n",
       "      <td>61346.17</td>\n",
       "      <td>61709.82</td>\n",
       "      <td>61171.22</td>\n",
       "      <td>61610.93</td>\n",
       "      <td>332.481185</td>\n",
       "      <td>2.044558e+07</td>\n",
       "      <td>BTC</td>\n",
       "      <td>BTC</td>\n",
       "    </tr>\n",
       "    <tr>\n",
       "      <th>2</th>\n",
       "      <td>2021-11-01 02:00:00</td>\n",
       "      <td>61610.94</td>\n",
       "      <td>61779.87</td>\n",
       "      <td>61299.89</td>\n",
       "      <td>61333.17</td>\n",
       "      <td>314.250720</td>\n",
       "      <td>1.935390e+07</td>\n",
       "      <td>BTC</td>\n",
       "      <td>BTC</td>\n",
       "    </tr>\n",
       "    <tr>\n",
       "      <th>3</th>\n",
       "      <td>2021-11-01 03:00:00</td>\n",
       "      <td>61333.17</td>\n",
       "      <td>61457.28</td>\n",
       "      <td>60050.00</td>\n",
       "      <td>60589.06</td>\n",
       "      <td>1059.931358</td>\n",
       "      <td>6.414625e+07</td>\n",
       "      <td>BTC</td>\n",
       "      <td>BTC</td>\n",
       "    </tr>\n",
       "    <tr>\n",
       "      <th>4</th>\n",
       "      <td>2021-11-01 04:00:00</td>\n",
       "      <td>60590.23</td>\n",
       "      <td>60655.00</td>\n",
       "      <td>59752.92</td>\n",
       "      <td>59971.89</td>\n",
       "      <td>621.419878</td>\n",
       "      <td>3.744744e+07</td>\n",
       "      <td>BTC</td>\n",
       "      <td>BTC</td>\n",
       "    </tr>\n",
       "  </tbody>\n",
       "</table>\n",
       "</div>"
      ],
      "text/plain": [
       "                    ts      open      high       low     close       volume  \\\n",
       "0  2021-11-01 00:00:00  61421.37  61669.14  61239.60  61343.68   256.433869   \n",
       "1  2021-11-01 01:00:00  61346.17  61709.82  61171.22  61610.93   332.481185   \n",
       "2  2021-11-01 02:00:00  61610.94  61779.87  61299.89  61333.17   314.250720   \n",
       "3  2021-11-01 03:00:00  61333.17  61457.28  60050.00  60589.06  1059.931358   \n",
       "4  2021-11-01 04:00:00  60590.23  60655.00  59752.92  59971.89   621.419878   \n",
       "\n",
       "      volumeUSD token chain  \n",
       "0  1.575751e+07   BTC   BTC  \n",
       "1  2.044558e+07   BTC   BTC  \n",
       "2  1.935390e+07   BTC   BTC  \n",
       "3  6.414625e+07   BTC   BTC  \n",
       "4  3.744744e+07   BTC   BTC  "
      ]
     },
     "execution_count": 6,
     "metadata": {},
     "output_type": "execute_result"
    }
   ],
   "source": [
    "ohlc.head()"
   ]
  },
  {
   "cell_type": "code",
   "execution_count": 7,
   "id": "768ba5e8-5516-4443-818b-7e624aa94eb2",
   "metadata": {
    "tags": []
   },
   "outputs": [
    {
     "data": {
      "text/html": [
       "<div>\n",
       "<style scoped>\n",
       "    .dataframe tbody tr th:only-of-type {\n",
       "        vertical-align: middle;\n",
       "    }\n",
       "\n",
       "    .dataframe tbody tr th {\n",
       "        vertical-align: top;\n",
       "    }\n",
       "\n",
       "    .dataframe thead th {\n",
       "        text-align: right;\n",
       "    }\n",
       "</style>\n",
       "<table border=\"1\" class=\"dataframe\">\n",
       "  <thead>\n",
       "    <tr style=\"text-align: right;\">\n",
       "      <th></th>\n",
       "      <th>open</th>\n",
       "      <th>high</th>\n",
       "      <th>low</th>\n",
       "      <th>close</th>\n",
       "      <th>volume</th>\n",
       "      <th>volumeUSD</th>\n",
       "    </tr>\n",
       "  </thead>\n",
       "  <tbody>\n",
       "    <tr>\n",
       "      <th>count</th>\n",
       "      <td>11627.000000</td>\n",
       "      <td>11627.000000</td>\n",
       "      <td>11627.000000</td>\n",
       "      <td>11627.000000</td>\n",
       "      <td>1.162700e+04</td>\n",
       "      <td>1.162700e+04</td>\n",
       "    </tr>\n",
       "    <tr>\n",
       "      <th>mean</th>\n",
       "      <td>5708.198992</td>\n",
       "      <td>5737.512791</td>\n",
       "      <td>5676.641523</td>\n",
       "      <td>5706.967946</td>\n",
       "      <td>7.782893e+05</td>\n",
       "      <td>9.847622e+06</td>\n",
       "    </tr>\n",
       "    <tr>\n",
       "      <th>std</th>\n",
       "      <td>16518.161143</td>\n",
       "      <td>16599.532113</td>\n",
       "      <td>16430.972527</td>\n",
       "      <td>16514.731530</td>\n",
       "      <td>2.057505e+06</td>\n",
       "      <td>1.769057e+07</td>\n",
       "    </tr>\n",
       "    <tr>\n",
       "      <th>min</th>\n",
       "      <td>0.999900</td>\n",
       "      <td>1.000000</td>\n",
       "      <td>0.995100</td>\n",
       "      <td>0.999900</td>\n",
       "      <td>6.713000e+00</td>\n",
       "      <td>1.960784e+03</td>\n",
       "    </tr>\n",
       "    <tr>\n",
       "      <th>25%</th>\n",
       "      <td>4.555900</td>\n",
       "      <td>4.611000</td>\n",
       "      <td>4.496050</td>\n",
       "      <td>4.554350</td>\n",
       "      <td>2.565695e+03</td>\n",
       "      <td>9.664755e+05</td>\n",
       "    </tr>\n",
       "    <tr>\n",
       "      <th>50%</th>\n",
       "      <td>92.590000</td>\n",
       "      <td>93.710000</td>\n",
       "      <td>91.000000</td>\n",
       "      <td>92.600000</td>\n",
       "      <td>4.624230e+04</td>\n",
       "      <td>3.420994e+06</td>\n",
       "    </tr>\n",
       "    <tr>\n",
       "      <th>75%</th>\n",
       "      <td>307.924500</td>\n",
       "      <td>309.700000</td>\n",
       "      <td>305.501000</td>\n",
       "      <td>307.796500</td>\n",
       "      <td>1.768436e+05</td>\n",
       "      <td>1.068309e+07</td>\n",
       "    </tr>\n",
       "    <tr>\n",
       "      <th>max</th>\n",
       "      <td>68638.470000</td>\n",
       "      <td>69000.000000</td>\n",
       "      <td>68456.500000</td>\n",
       "      <td>68639.630000</td>\n",
       "      <td>3.978895e+07</td>\n",
       "      <td>3.988035e+08</td>\n",
       "    </tr>\n",
       "  </tbody>\n",
       "</table>\n",
       "</div>"
      ],
      "text/plain": [
       "               open          high           low         close        volume  \\\n",
       "count  11627.000000  11627.000000  11627.000000  11627.000000  1.162700e+04   \n",
       "mean    5708.198992   5737.512791   5676.641523   5706.967946  7.782893e+05   \n",
       "std    16518.161143  16599.532113  16430.972527  16514.731530  2.057505e+06   \n",
       "min        0.999900      1.000000      0.995100      0.999900  6.713000e+00   \n",
       "25%        4.555900      4.611000      4.496050      4.554350  2.565695e+03   \n",
       "50%       92.590000     93.710000     91.000000     92.600000  4.624230e+04   \n",
       "75%      307.924500    309.700000    305.501000    307.796500  1.768436e+05   \n",
       "max    68638.470000  69000.000000  68456.500000  68639.630000  3.978895e+07   \n",
       "\n",
       "          volumeUSD  \n",
       "count  1.162700e+04  \n",
       "mean   9.847622e+06  \n",
       "std    1.769057e+07  \n",
       "min    1.960784e+03  \n",
       "25%    9.664755e+05  \n",
       "50%    3.420994e+06  \n",
       "75%    1.068309e+07  \n",
       "max    3.988035e+08  "
      ]
     },
     "execution_count": 7,
     "metadata": {},
     "output_type": "execute_result"
    }
   ],
   "source": [
    "ohlc.describe()"
   ]
  },
  {
   "cell_type": "code",
   "execution_count": 8,
   "id": "068fa00a-b51c-4fec-87a1-9d4690a61f36",
   "metadata": {},
   "outputs": [],
   "source": [
    "tokens = ohlc.token.unique()"
   ]
  },
  {
   "cell_type": "code",
   "execution_count": 9,
   "id": "4a3e7965-f884-4f8a-9682-94ab9c42f09f",
   "metadata": {},
   "outputs": [],
   "source": [
    "def df_merge(left, right):\n",
    "    return pd.merge(left, right, on='ts', how='inner')\n",
    "\n",
    "X = reduce(df_merge, [\n",
    "    (lambda df: \n",
    "    (\n",
    "        df\n",
    "        .assign(\n",
    "            vol=vol_ohlc(df).fillna(0),\n",
    "            ret=(df.high-df.low)/df.close,\n",
    "        )[['ts', 'vol', 'ret']]\n",
    "        .rename(columns={\n",
    "            col: f'{col}_{token}' for col in ['ts', 'vol', 'ret'] if col != 'ts'\n",
    "        })\n",
    "    ))(ohlc[ohlc.token == token])\n",
    "    for token in tokens\n",
    "]).set_index('ts')"
   ]
  },
  {
   "cell_type": "code",
   "execution_count": 10,
   "id": "dd4b6e85-89e7-428b-a939-c499a14cf515",
   "metadata": {},
   "outputs": [
    {
     "data": {
      "text/plain": [
       "(1057, 22)"
      ]
     },
     "execution_count": 10,
     "metadata": {},
     "output_type": "execute_result"
    }
   ],
   "source": [
    "X.shape"
   ]
  },
  {
   "cell_type": "code",
   "execution_count": 11,
   "id": "def79d91-76e4-4130-aba3-a6dac1717aac",
   "metadata": {
    "tags": []
   },
   "outputs": [
    {
     "data": {
      "text/plain": [
       "ts\n",
       "2021-11-01 00:00:00    0.012454\n",
       "2021-11-01 01:00:00    0.036736\n",
       "2021-11-01 02:00:00    0.021876\n",
       "2021-11-01 03:00:00    0.037563\n",
       "2021-11-01 04:00:00    0.017073\n",
       "                         ...   \n",
       "2021-12-14 20:00:00    0.010513\n",
       "2021-12-14 21:00:00    0.025745\n",
       "2021-12-14 22:00:00    0.037369\n",
       "2021-12-14 23:00:00    0.017364\n",
       "2021-12-15 00:00:00    0.009413\n",
       "Name: ret_SOL, Length: 1057, dtype: float64"
      ]
     },
     "execution_count": 11,
     "metadata": {},
     "output_type": "execute_result"
    }
   ],
   "source": [
    "X.ret_SOL"
   ]
  },
  {
   "cell_type": "code",
   "execution_count": 12,
   "id": "ff3570cc-8817-4e22-83c1-6bff30ba4caf",
   "metadata": {},
   "outputs": [],
   "source": [
    "y = X.ret_SOL.shift(-1)[:-1]\n",
    "X = X[:-1]"
   ]
  },
  {
   "cell_type": "code",
   "execution_count": 13,
   "id": "38aa6739-8aec-4e64-96ad-72ce1585fbc0",
   "metadata": {},
   "outputs": [
    {
     "data": {
      "text/plain": [
       "(1056, 22)"
      ]
     },
     "execution_count": 13,
     "metadata": {},
     "output_type": "execute_result"
    }
   ],
   "source": [
    "X.shape"
   ]
  },
  {
   "cell_type": "code",
   "execution_count": 14,
   "id": "143dd142-a0bf-4829-9c6f-a354c363fdf5",
   "metadata": {},
   "outputs": [
    {
     "data": {
      "text/plain": [
       "(1056,)"
      ]
     },
     "execution_count": 14,
     "metadata": {},
     "output_type": "execute_result"
    }
   ],
   "source": [
    "y.shape"
   ]
  },
  {
   "cell_type": "code",
   "execution_count": 15,
   "id": "7e6686fc-8869-4c4d-aa08-0cd75170fc2b",
   "metadata": {},
   "outputs": [
    {
     "data": {
      "text/plain": [
       "count    1056.000000\n",
       "mean        0.018882\n",
       "std         0.010656\n",
       "min         0.000554\n",
       "25%         0.011923\n",
       "50%         0.016331\n",
       "75%         0.023099\n",
       "max         0.112903\n",
       "Name: ret_SOL, dtype: float64"
      ]
     },
     "execution_count": 15,
     "metadata": {},
     "output_type": "execute_result"
    }
   ],
   "source": [
    "y.describe()"
   ]
  },
  {
   "cell_type": "code",
   "execution_count": 16,
   "id": "c89830fa-6575-451e-8d34-152faa99356e",
   "metadata": {},
   "outputs": [],
   "source": [
    "from pandas.plotting import scatter_matrix, autocorrelation_plot"
   ]
  },
  {
   "cell_type": "code",
   "execution_count": 17,
   "id": "14a8673c-696c-4fa5-a87c-3779f0e74055",
   "metadata": {},
   "outputs": [
    {
     "data": {
      "text/plain": [
       "<AxesSubplot:xlabel='Lag', ylabel='Autocorrelation'>"
      ]
     },
     "execution_count": 17,
     "metadata": {},
     "output_type": "execute_result"
    },
    {
     "data": {
      "image/png": "[encoded data removed]",
      "text/plain": [
       "<Figure size 432x288 with 1 Axes>"
      ]
     },
     "metadata": {
      "needs_background": "light"
     },
     "output_type": "display_data"
    }
   ],
   "source": [
    "autocorrelation_plot(y[1:])"
   ]
  },
  {
   "cell_type": "code",
   "execution_count": 18,
   "id": "a6c75a4d-2839-43d6-a169-63621fcb46b2",
   "metadata": {},
   "outputs": [],
   "source": [
    "# pd.isnull(X).sum()"
   ]
  },
  {
   "cell_type": "code",
   "execution_count": 19,
   "id": "d90d1146-67a8-41a0-b251-4bde57ad49df",
   "metadata": {
    "tags": []
   },
   "outputs": [
    {
     "data": {
      "text/plain": [
       "{'vol_BTC': 0.35605293171416263,\n",
       " 'ret_BTC': 0.44440981002420576,\n",
       " 'vol_ETH': 0.3864662030697153,\n",
       " 'ret_ETH': 0.43204510736288265,\n",
       " 'vol_USDT': 0.27567058563922153,\n",
       " 'ret_USDT': 0.22483955447759624,\n",
       " 'vol_SOL': 0.4309335389822961,\n",
       " 'ret_SOL': 0.4955456320006688,\n",
       " 'vol_ADA': 0.32297943973604104,\n",
       " 'ret_ADA': 0.38508484725605413,\n",
       " 'vol_DOT': 0.3389252201594492,\n",
       " 'ret_DOT': 0.43024930318896604,\n",
       " 'vol_AVAX': 0.32302416926779315,\n",
       " 'ret_AVAX': 0.3801215693346519,\n",
       " 'vol_ATOM': 0.4071023809393734,\n",
       " 'ret_ATOM': 0.46411601973546646,\n",
       " 'vol_CRV': 0.2843962073174558,\n",
       " 'ret_CRV': 0.34137988146944964,\n",
       " 'vol_AAVE': 0.3476563512854494,\n",
       " 'ret_AAVE': 0.4357339606035124,\n",
       " 'vol_COMP': 0.31973598496809047,\n",
       " 'ret_COMP': 0.40825465754307644}"
      ]
     },
     "execution_count": 19,
     "metadata": {},
     "output_type": "execute_result"
    }
   ],
   "source": [
    "{col: y.corr(X[col]) for col in X.columns if X[col].dtype != 'object'}"
   ]
  },
  {
   "cell_type": "markdown",
   "id": "01e1495c-ed01-487f-a0b4-165acaeba03f",
   "metadata": {},
   "source": [
    "set up transformers"
   ]
  },
  {
   "cell_type": "code",
   "execution_count": 20,
   "id": "3109e572-9d5c-4df3-a366-6e25c7753a02",
   "metadata": {},
   "outputs": [],
   "source": [
    "from sklearn.preprocessing import StandardScaler\n",
    "from sklearn.preprocessing import QuantileTransformer\n",
    "from sklearn.decomposition import PCA\n",
    "from sklearn.impute import SimpleImputer\n",
    "\n",
    "from sklearn.base import BaseEstimator, TransformerMixin\n",
    "from sklearn.pipeline import Pipeline\n",
    "from sklearn.compose import ColumnTransformer\n",
    "\n",
    "from sklearn.tree import DecisionTreeRegressor\n",
    "from sklearn.ensemble import RandomForestRegressor\n",
    "from sklearn.linear_model import Ridge\n",
    "\n",
    "from sklearn.model_selection import cross_validate\n",
    "from sklearn.model_selection import TimeSeriesSplit\n",
    "from sklearn.metrics import mean_squared_error, make_scorer\n",
    "\n",
    "from sklearn.model_selection import learning_curve"
   ]
  },
  {
   "cell_type": "code",
   "execution_count": 21,
   "id": "571f194f-545b-4065-8aa6-82381e69efd6",
   "metadata": {},
   "outputs": [],
   "source": [
    "class FeatureSelector(BaseEstimator, TransformerMixin):\n",
    "    def __init__(self, columns):\n",
    "        self.columns = columns\n",
    "        \n",
    "    def fit(self, X, y=None):\n",
    "        return self\n",
    "    \n",
    "    def transform(self, X):\n",
    "        return X[self.columns]\n"
   ]
  },
  {
   "cell_type": "code",
   "execution_count": 22,
   "id": "f2c8aded-a699-4277-898d-8754d83d6b17",
   "metadata": {},
   "outputs": [],
   "source": [
    "def evaluate_model(model, X, y, test_size=0.2):\n",
    "    cv = TimeSeriesSplit(n_splits=int(y.shape[0] * test_size), test_size=1)\n",
    "    scorer = make_scorer(mean_squared_error, greater_is_better=False, squared=False)\n",
    "    \n",
    "    return np.mean(cross_validate(model, X, y, cv=cv, scoring=scorer, n_jobs=-1)['test_score'])\n",
    "    \n",
    "#     scores = []\n",
    "#     for train_idx, test_idx in cv.split(X):\n",
    "#         X_train, X_test, y_train, y_test = X.iloc[train_idx], X.iloc[test_idx], y.iloc[train_idx], y.iloc[test_idx]\n",
    "#         model.fit(X_train, y_train)\n",
    "#         score = mean_squared_error(y_test, model.predict(X_test), squared=False)\n",
    "#         scores.append(score)\n",
    "        \n",
    "#     return np.mean(scores)"
   ]
  },
  {
   "cell_type": "code",
   "execution_count": 23,
   "id": "1e4b1739-ab79-458c-84db-bc89252ebbe3",
   "metadata": {},
   "outputs": [
    {
     "data": {
      "text/plain": [
       "-0.008898035767911679"
      ]
     },
     "execution_count": 23,
     "metadata": {},
     "output_type": "execute_result"
    }
   ],
   "source": [
    "pipeline = Pipeline([\n",
    "    ('feature_selector', FeatureSelector(['ret_SOL'])),\n",
    "    ('impute', SimpleImputer(missing_values=np.nan, strategy='constant', fill_value=0.)),\n",
    "    ('scale', StandardScaler()),\n",
    "    ('model', DecisionTreeRegressor(random_state=0))\n",
    "])\n",
    "\n",
    "evaluate_model(pipeline, X, y)"
   ]
  },
  {
   "cell_type": "code",
   "execution_count": 24,
   "id": "56a41314-31cd-42a8-89fd-0f55efbb3d36",
   "metadata": {},
   "outputs": [
    {
     "data": {
      "text/plain": [
       "-0.008967782929814053"
      ]
     },
     "execution_count": 24,
     "metadata": {},
     "output_type": "execute_result"
    }
   ],
   "source": [
    "pipeline = Pipeline([\n",
    "    ('impute', SimpleImputer(missing_values=np.nan, strategy='constant', fill_value=0.)),\n",
    "    ('scale', StandardScaler()),\n",
    "    ('model', DecisionTreeRegressor(random_state=0))\n",
    "])\n",
    "\n",
    "evaluate_model(pipeline, X, y)"
   ]
  },
  {
   "cell_type": "code",
   "execution_count": 25,
   "id": "b778ea79-648c-4268-9624-690b24cf4716",
   "metadata": {},
   "outputs": [
    {
     "data": {
      "text/plain": [
       "-0.008907005440812398"
      ]
     },
     "execution_count": 25,
     "metadata": {},
     "output_type": "execute_result"
    }
   ],
   "source": [
    "pipeline = Pipeline([\n",
    "    ('impute', SimpleImputer(missing_values=np.nan, strategy='constant', fill_value=0.)),\n",
    "    ('model', DecisionTreeRegressor(random_state=0))\n",
    "])\n",
    "\n",
    "evaluate_model(pipeline, X, y)"
   ]
  },
  {
   "cell_type": "code",
   "execution_count": 26,
   "id": "9d0e1ce4-38f2-44ab-ab37-a918c817a0b7",
   "metadata": {},
   "outputs": [
    {
     "data": {
      "text/plain": [
       "-0.007485247659556412"
      ]
     },
     "execution_count": 26,
     "metadata": {},
     "output_type": "execute_result"
    }
   ],
   "source": [
    "pipeline = Pipeline([\n",
    "    ('feature_selector', FeatureSelector(['ret_SOL'])),\n",
    "    ('impute', SimpleImputer(missing_values=np.nan, strategy='constant', fill_value=0.)),\n",
    "    ('scale', StandardScaler()),\n",
    "    ('model', RandomForestRegressor(n_estimators=100, random_state=0))\n",
    "])\n",
    "\n",
    "evaluate_model(pipeline, X, y)"
   ]
  },
  {
   "cell_type": "code",
   "execution_count": 27,
   "id": "d9a2f65a-8045-4ee0-9091-d8c891c5a127",
   "metadata": {},
   "outputs": [
    {
     "data": {
      "text/plain": [
       "-0.006360959344550861"
      ]
     },
     "execution_count": 27,
     "metadata": {},
     "output_type": "execute_result"
    }
   ],
   "source": [
    "pipeline = Pipeline([\n",
    "    ('impute', SimpleImputer(missing_values=np.nan, strategy='constant', fill_value=0.)),\n",
    "    ('scale', StandardScaler()),\n",
    "    # ('pca', PCA(n_components=5)),\n",
    "    ('model', RandomForestRegressor(n_estimators=100, random_state=0))\n",
    "])\n",
    "\n",
    "evaluate_model(pipeline, X, y)"
   ]
  },
  {
   "cell_type": "code",
   "execution_count": 28,
   "id": "d30bd4ce-b960-4a2c-84ca-450009a43239",
   "metadata": {},
   "outputs": [
    {
     "data": {
      "text/plain": [
       "-0.006769406066059102"
      ]
     },
     "execution_count": 28,
     "metadata": {},
     "output_type": "execute_result"
    }
   ],
   "source": [
    "pipeline = Pipeline([\n",
    "    ('impute', SimpleImputer(missing_values=np.nan, strategy='constant', fill_value=0.)),\n",
    "    ('scale', StandardScaler()),\n",
    "    ('pca', PCA(n_components=5)),\n",
    "    ('model', RandomForestRegressor(n_estimators=100, random_state=0))\n",
    "])\n",
    "\n",
    "evaluate_model(pipeline, X, y)"
   ]
  },
  {
   "cell_type": "code",
   "execution_count": 29,
   "id": "127dbdc1-6d33-4a81-8a1a-c71065fca351",
   "metadata": {},
   "outputs": [
    {
     "data": {
      "text/plain": [
       "-0.006297452543099183"
      ]
     },
     "execution_count": 29,
     "metadata": {},
     "output_type": "execute_result"
    }
   ],
   "source": [
    "pipeline = Pipeline([\n",
    "    ('impute', SimpleImputer(missing_values=np.nan, strategy='constant', fill_value=0.)),\n",
    "    ('scale', StandardScaler()),\n",
    "    ('pca', PCA(n_components=5)),\n",
    "    ('model', Ridge(alpha=1.0))\n",
    "])\n",
    "\n",
    "evaluate_model(pipeline, X, y)"
   ]
  },
  {
   "cell_type": "code",
   "execution_count": 30,
   "id": "c5fdfaba-a75d-4728-ab53-cf20f8d28441",
   "metadata": {},
   "outputs": [
    {
     "data": {
      "text/plain": [
       "-0.006447960517857248"
      ]
     },
     "execution_count": 30,
     "metadata": {},
     "output_type": "execute_result"
    }
   ],
   "source": [
    "pipeline = Pipeline([\n",
    "    ('impute', SimpleImputer(missing_values=np.nan, strategy='constant', fill_value=0.)),\n",
    "    ('scale', StandardScaler()),\n",
    "    ('pca', PCA(n_components=1)),\n",
    "    ('model', Ridge(alpha=1.))\n",
    "])\n",
    "\n",
    "evaluate_model(pipeline, X, y)"
   ]
  },
  {
   "cell_type": "code",
   "execution_count": 31,
   "id": "1bb7caca-d1fc-421d-a7b0-0b19d8dee787",
   "metadata": {},
   "outputs": [
    {
     "data": {
      "text/plain": [
       "-0.0061191093800707155"
      ]
     },
     "execution_count": 31,
     "metadata": {},
     "output_type": "execute_result"
    }
   ],
   "source": [
    "pipeline = Pipeline([\n",
    "    ('impute', SimpleImputer(missing_values=np.nan, strategy='constant', fill_value=0.)),\n",
    "    ('scale', StandardScaler()),\n",
    "    # ('pca', PCA(n_components=1)),\n",
    "    ('model', Ridge(alpha=1.))\n",
    "])\n",
    "\n",
    "evaluate_model(pipeline, X, y)"
   ]
  },
  {
   "cell_type": "code",
   "execution_count": 32,
   "id": "9365ce8c-0231-4855-9c15-fa1956d521f1",
   "metadata": {},
   "outputs": [
    {
     "data": {
      "text/plain": [
       "GridSearchCV(cv=TimeSeriesSplit(gap=0, max_train_size=None, n_splits=211, test_size=1),\n",
       "             estimator=Pipeline(steps=[('impute',\n",
       "                                        SimpleImputer(fill_value=0.0,\n",
       "                                                      strategy='constant')),\n",
       "                                       ('scale', StandardScaler()),\n",
       "                                       ('pca', PCA()), ('model', Ridge())]),\n",
       "             n_jobs=-1,\n",
       "             param_grid={'model__alpha': [0.1, 0.5, 1.0],\n",
       "                         'pca__n_components': [1, 5, 10, 20, 22]},\n",
       "             scoring=make_scorer(mean_squared_error, greater_is_better=False, squared=False))"
      ]
     },
     "execution_count": 32,
     "metadata": {},
     "output_type": "execute_result"
    }
   ],
   "source": [
    "from sklearn.model_selection import GridSearchCV\n",
    "\n",
    "pipeline = Pipeline([\n",
    "    ('impute', SimpleImputer(missing_values=np.nan, strategy='constant', fill_value=0.)),\n",
    "    ('scale', StandardScaler()),\n",
    "    ('pca', PCA()),\n",
    "    ('model', Ridge())\n",
    "])\n",
    "\n",
    "test_size = 0.2\n",
    "cv = TimeSeriesSplit(n_splits=int(y.shape[0] * test_size), test_size=1)\n",
    "scorer = make_scorer(mean_squared_error, greater_is_better=False, squared=False)\n",
    "\n",
    "search = GridSearchCV(pipeline, {\n",
    "    'pca__n_components': [1, 5, 10, 20, 22],\n",
    "    'model__alpha': [0.1, 0.5,  1.]\n",
    "}, scoring=scorer, refit=True, cv=cv, n_jobs=-1)\n",
    "search.fit(X, y)"
   ]
  },
  {
   "cell_type": "code",
   "execution_count": 33,
   "id": "27743771-1eed-4948-816f-011da0eef9da",
   "metadata": {},
   "outputs": [
    {
     "data": {
      "text/plain": [
       "{'model__alpha': 0.1, 'pca__n_components': 10}"
      ]
     },
     "execution_count": 33,
     "metadata": {},
     "output_type": "execute_result"
    }
   ],
   "source": [
    "search.best_params_"
   ]
  },
  {
   "cell_type": "code",
   "execution_count": 34,
   "id": "e9893989-6cc2-4f38-9f17-2179bcfad117",
   "metadata": {},
   "outputs": [],
   "source": [
    "best_model = search.best_estimator_"
   ]
  },
  {
   "cell_type": "code",
   "execution_count": 35,
   "id": "47009130-5f3f-4b33-804e-8d33645ffc2d",
   "metadata": {},
   "outputs": [
    {
     "data": {
      "text/plain": [
       "-0.005993048771320224"
      ]
     },
     "execution_count": 35,
     "metadata": {},
     "output_type": "execute_result"
    }
   ],
   "source": [
    "evaluate_model(best_model, X, y)"
   ]
  },
  {
   "cell_type": "code",
   "execution_count": 36,
   "id": "586c7fb1-9268-45ec-9a19-a48c2e8fbcc0",
   "metadata": {},
   "outputs": [
    {
     "data": {
      "text/plain": [
       "<module 'matplotlib.pyplot' from '/Users/alexmccall/opt/anaconda3/envs/lecture8/lib/python3.8/site-packages/matplotlib/pyplot.py'>"
      ]
     },
     "execution_count": 36,
     "metadata": {},
     "output_type": "execute_result"
    },
    {
     "data": {
      "image/png": "[encoded data removed]",
      "text/plain": [
       "<Figure size 720x1080 with 3 Axes>"
      ]
     },
     "metadata": {
      "needs_background": "light"
     },
     "output_type": "display_data"
    }
   ],
   "source": [
    "fig, axes = plt.subplots(3, 1, figsize=(10, 15))\n",
    "\n",
    "title = \"Learning curves for ridge regression\"\n",
    "\n",
    "plot_learning_curve(\n",
    "    best_model, title, X, y, axes=axes, cv=cv, n_jobs=4, scoring=scorer\n",
    ")\n"
   ]
  },
  {
   "cell_type": "code",
   "execution_count": 37,
   "id": "addf4f72-80e5-45ed-b3da-a66e123eafe0",
   "metadata": {},
   "outputs": [],
   "source": [
    "pickle.dump(best_model, open('best_model.pkl', 'wb'))"
   ]
  },
  {
   "cell_type": "code",
   "execution_count": null,
   "id": "d4b5c31f-49be-4b56-96c4-7c551f72a15f",
   "metadata": {},
   "outputs": [],
   "source": []
  }
 ],
 "metadata": {
  "kernelspec": {
   "display_name": "Python 3 (ipykernel)",
   "language": "python",
   "name": "python3"
  },
  "language_info": {
   "codemirror_mode": {
    "name": "ipython",
    "version": 3
   },
   "file_extension": ".py",
   "mimetype": "text/x-python",
   "name": "python",
   "nbconvert_exporter": "python",
   "pygments_lexer": "ipython3",
   "version": "3.8.12"
  }
 },
 "nbformat": 4,
 "nbformat_minor": 5
}
