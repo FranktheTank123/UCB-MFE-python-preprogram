{
 "cells": [
  {
   "cell_type": "code",
   "execution_count": 1,
   "id": "740b5de6-ed90-4240-aa32-29db1594cadc",
   "metadata": {},
   "outputs": [],
   "source": [
    "import numpy as np\n",
    "import pandas as pd\n",
    "import matplotlib.pyplot as plt\n",
    "from functools import reduce\n",
    "\n",
    "import pickle"
   ]
  },
  {
   "cell_type": "code",
   "execution_count": 2,
   "id": "5bb288af-4f1a-4e28-a69b-574e80218edf",
   "metadata": {},
   "outputs": [],
   "source": [
    "def vol_ohlc(df, lookback=10):\n",
    "    o = df.open\n",
    "    h = df.high\n",
    "    l = df.low\n",
    "    c = df.close\n",
    "    \n",
    "    k = 0.34 / (1.34 + (lookback+1)/(lookback-1))\n",
    "    cc = np.log(c/c.shift(1))\n",
    "    ho = np.log(h/o)\n",
    "    lo = np.log(l/o)\n",
    "    co = np.log(c/o)\n",
    "    oc = np.log(o/c.shift(1))\n",
    "    oc_sq = oc**2\n",
    "    cc_sq = cc**2\n",
    "    rs = ho*(ho-co)+lo*(lo-co)\n",
    "    close_vol = cc_sq.rolling(lookback).sum() * (1.0 / (lookback - 1.0))\n",
    "    open_vol = oc_sq.rolling(lookback).sum() * (1.0 / (lookback - 1.0))\n",
    "    window_rs = rs.rolling(lookback).sum() * (1.0 / (lookback - 1.0))\n",
    "    result = (open_vol + k * close_vol + (1-k) * window_rs).apply(np.sqrt) * np.sqrt(252)\n",
    "    result[:lookback-1] = np.nan\n",
    "    \n",
    "    return result"
   ]
  },
  {
   "cell_type": "code",
   "execution_count": 3,
   "id": "e52f63d6-5dac-490e-87c7-69b7226b22ff",
   "metadata": {},
   "outputs": [],
   "source": [
    "from sklearn.model_selection import learning_curve\n",
    "\n",
    "def plot_learning_curve(\n",
    "    estimator,\n",
    "    title,\n",
    "    X,\n",
    "    y,\n",
    "    axes=None,\n",
    "    ylim=None,\n",
    "    cv=None,\n",
    "    n_jobs=None,\n",
    "    train_sizes=np.linspace(0.1, 1.0, 5),\n",
    "    scoring=None\n",
    "):\n",
    "    if axes is None:\n",
    "        _, axes = plt.subplots(1, 3, figsize=(20, 5))\n",
    "\n",
    "    axes[0].set_title(title)\n",
    "    if ylim is not None:\n",
    "        axes[0].set_ylim(*ylim)\n",
    "    axes[0].set_xlabel(\"Training examples\")\n",
    "    axes[0].set_ylabel(\"Score\")\n",
    "\n",
    "    train_sizes, train_scores, test_scores, fit_times, _ = learning_curve(\n",
    "        estimator,\n",
    "        X,\n",
    "        y,\n",
    "        cv=cv,\n",
    "        n_jobs=n_jobs,\n",
    "        train_sizes=train_sizes,\n",
    "        return_times=True,\n",
    "        scoring=scoring,\n",
    "    )\n",
    "    train_scores_mean = np.mean(train_scores, axis=1)\n",
    "    train_scores_std = np.std(train_scores, axis=1)\n",
    "    test_scores_mean = np.mean(test_scores, axis=1)\n",
    "    test_scores_std = np.std(test_scores, axis=1)\n",
    "    fit_times_mean = np.mean(fit_times, axis=1)\n",
    "    fit_times_std = np.std(fit_times, axis=1)\n",
    "\n",
    "    # Plot learning curve\n",
    "    axes[0].grid()\n",
    "    axes[0].fill_between(\n",
    "        train_sizes,\n",
    "        train_scores_mean - train_scores_std,\n",
    "        train_scores_mean + train_scores_std,\n",
    "        alpha=0.1,\n",
    "        color=\"r\",\n",
    "    )\n",
    "    axes[0].fill_between(\n",
    "        train_sizes,\n",
    "        test_scores_mean - test_scores_std,\n",
    "        test_scores_mean + test_scores_std,\n",
    "        alpha=0.1,\n",
    "        color=\"g\",\n",
    "    )\n",
    "    axes[0].plot(\n",
    "        train_sizes, train_scores_mean, \"o-\", color=\"r\", label=\"Training score\"\n",
    "    )\n",
    "    axes[0].plot(\n",
    "        train_sizes, test_scores_mean, \"o-\", color=\"g\", label=\"Cross-validation score\"\n",
    "    )\n",
    "    axes[0].legend(loc=\"best\")\n",
    "\n",
    "    # Plot n_samples vs fit_times\n",
    "    axes[1].grid()\n",
    "    axes[1].plot(train_sizes, fit_times_mean, \"o-\")\n",
    "    axes[1].fill_between(\n",
    "        train_sizes,\n",
    "        fit_times_mean - fit_times_std,\n",
    "        fit_times_mean + fit_times_std,\n",
    "        alpha=0.1,\n",
    "    )\n",
    "    axes[1].set_xlabel(\"Training examples\")\n",
    "    axes[1].set_ylabel(\"fit_times\")\n",
    "    axes[1].set_title(\"Scalability of the model\")\n",
    "\n",
    "    # Plot fit_time vs score\n",
    "    fit_time_argsort = fit_times_mean.argsort()\n",
    "    fit_time_sorted = fit_times_mean[fit_time_argsort]\n",
    "    test_scores_mean_sorted = test_scores_mean[fit_time_argsort]\n",
    "    test_scores_std_sorted = test_scores_std[fit_time_argsort]\n",
    "    axes[2].grid()\n",
    "    axes[2].plot(fit_time_sorted, test_scores_mean_sorted, \"o-\")\n",
    "    axes[2].fill_between(\n",
    "        fit_time_sorted,\n",
    "        test_scores_mean_sorted - test_scores_std_sorted,\n",
    "        test_scores_mean_sorted + test_scores_std_sorted,\n",
    "        alpha=0.1,\n",
    "    )\n",
    "    axes[2].set_xlabel(\"fit_times\")\n",
    "    axes[2].set_ylabel(\"Score\")\n",
    "    axes[2].set_title(\"Performance of the model\")\n",
    "\n",
    "    return plt"
   ]
  },
  {
   "cell_type": "code",
   "execution_count": 4,
   "id": "d1e0745d-e72c-43f9-8736-6490491e3afb",
   "metadata": {},
   "outputs": [],
   "source": [
    "db = \"sqlite:///../../../data/data.db\"\n",
    "data = pd.read_sql('SELECT * FROM ohlc',db)"
   ]
  },
  {
   "cell_type": "code",
   "execution_count": 5,
   "id": "4ae86fe9-4fe8-487a-9365-965c5d519c44",
   "metadata": {},
   "outputs": [],
   "source": [
    "tokens = data.token.unique()"
   ]
  },
  {
   "cell_type": "code",
   "execution_count": 6,
   "id": "6ee3d090-de8c-4cb4-8245-65367ea47025",
   "metadata": {},
   "outputs": [],
   "source": [
    "df = data[data.token=='BTC']"
   ]
  },
  {
   "cell_type": "code",
   "execution_count": 7,
   "id": "b347f2d3-6929-4ee3-a0d9-80da379a1496",
   "metadata": {},
   "outputs": [
    {
     "data": {
      "text/html": [
       "<div>\n",
       "<style scoped>\n",
       "    .dataframe tbody tr th:only-of-type {\n",
       "        vertical-align: middle;\n",
       "    }\n",
       "\n",
       "    .dataframe tbody tr th {\n",
       "        vertical-align: top;\n",
       "    }\n",
       "\n",
       "    .dataframe thead th {\n",
       "        text-align: right;\n",
       "    }\n",
       "</style>\n",
       "<table border=\"1\" class=\"dataframe\">\n",
       "  <thead>\n",
       "    <tr style=\"text-align: right;\">\n",
       "      <th></th>\n",
       "      <th>ts</th>\n",
       "      <th>open</th>\n",
       "      <th>high</th>\n",
       "      <th>low</th>\n",
       "      <th>close</th>\n",
       "      <th>volume</th>\n",
       "      <th>volumeUSD</th>\n",
       "      <th>token</th>\n",
       "      <th>chain</th>\n",
       "    </tr>\n",
       "  </thead>\n",
       "  <tbody>\n",
       "    <tr>\n",
       "      <th>0</th>\n",
       "      <td>2021-11-01 00:00:00</td>\n",
       "      <td>61421.37</td>\n",
       "      <td>61669.14</td>\n",
       "      <td>61239.60</td>\n",
       "      <td>61343.68</td>\n",
       "      <td>256.433869</td>\n",
       "      <td>1.575751e+07</td>\n",
       "      <td>BTC</td>\n",
       "      <td>BTC</td>\n",
       "    </tr>\n",
       "    <tr>\n",
       "      <th>1</th>\n",
       "      <td>2021-11-01 01:00:00</td>\n",
       "      <td>61346.17</td>\n",
       "      <td>61709.82</td>\n",
       "      <td>61171.22</td>\n",
       "      <td>61610.93</td>\n",
       "      <td>332.481185</td>\n",
       "      <td>2.044558e+07</td>\n",
       "      <td>BTC</td>\n",
       "      <td>BTC</td>\n",
       "    </tr>\n",
       "    <tr>\n",
       "      <th>2</th>\n",
       "      <td>2021-11-01 02:00:00</td>\n",
       "      <td>61610.94</td>\n",
       "      <td>61779.87</td>\n",
       "      <td>61299.89</td>\n",
       "      <td>61333.17</td>\n",
       "      <td>314.250720</td>\n",
       "      <td>1.935390e+07</td>\n",
       "      <td>BTC</td>\n",
       "      <td>BTC</td>\n",
       "    </tr>\n",
       "    <tr>\n",
       "      <th>3</th>\n",
       "      <td>2021-11-01 03:00:00</td>\n",
       "      <td>61333.17</td>\n",
       "      <td>61457.28</td>\n",
       "      <td>60050.00</td>\n",
       "      <td>60589.06</td>\n",
       "      <td>1059.931358</td>\n",
       "      <td>6.414625e+07</td>\n",
       "      <td>BTC</td>\n",
       "      <td>BTC</td>\n",
       "    </tr>\n",
       "    <tr>\n",
       "      <th>4</th>\n",
       "      <td>2021-11-01 04:00:00</td>\n",
       "      <td>60590.23</td>\n",
       "      <td>60655.00</td>\n",
       "      <td>59752.92</td>\n",
       "      <td>59971.89</td>\n",
       "      <td>621.419878</td>\n",
       "      <td>3.744744e+07</td>\n",
       "      <td>BTC</td>\n",
       "      <td>BTC</td>\n",
       "    </tr>\n",
       "  </tbody>\n",
       "</table>\n",
       "</div>"
      ],
      "text/plain": [
       "                    ts      open      high       low     close       volume  \\\n",
       "0  2021-11-01 00:00:00  61421.37  61669.14  61239.60  61343.68   256.433869   \n",
       "1  2021-11-01 01:00:00  61346.17  61709.82  61171.22  61610.93   332.481185   \n",
       "2  2021-11-01 02:00:00  61610.94  61779.87  61299.89  61333.17   314.250720   \n",
       "3  2021-11-01 03:00:00  61333.17  61457.28  60050.00  60589.06  1059.931358   \n",
       "4  2021-11-01 04:00:00  60590.23  60655.00  59752.92  59971.89   621.419878   \n",
       "\n",
       "      volumeUSD token chain  \n",
       "0  1.575751e+07   BTC   BTC  \n",
       "1  2.044558e+07   BTC   BTC  \n",
       "2  1.935390e+07   BTC   BTC  \n",
       "3  6.414625e+07   BTC   BTC  \n",
       "4  3.744744e+07   BTC   BTC  "
      ]
     },
     "execution_count": 7,
     "metadata": {},
     "output_type": "execute_result"
    }
   ],
   "source": [
    "df.head()"
   ]
  },
  {
   "cell_type": "code",
   "execution_count": 8,
   "id": "b7d3ecb4-619f-4fac-88c4-c0e421260f1d",
   "metadata": {},
   "outputs": [],
   "source": [
    "def df_merge(x,y):\n",
    "    return pd.merge(x,y,on='ts',how='inner')\n",
    "\n",
    "dfs = [\n",
    "    (lambda x:\n",
    "         x.assign(\n",
    "             vol=vol_ohlc(x).fillna(0),\n",
    "             ret_1 = x.close.pct_change(),\n",
    "             ret_2 = x.close.pct_change(2),\n",
    "             ret_3 = x.close.pct_change(3),\n",
    "         )[['ts','vol','ret_1','ret_2','ret_3']]\n",
    "         .rename(columns={\n",
    "             col:f'{col}_{token}' for col in ['vol','ret_1','ret_2','ret_3']} )\n",
    "    )(data[data.token == token])\n",
    "    for token in tokens\n",
    "]\n",
    "X = reduce(df_merge,dfs).set_index('ts')"
   ]
  },
  {
   "cell_type": "markdown",
   "id": "fddfb516-5ee2-4040-b13f-a0b44af20cfa",
   "metadata": {},
   "source": [
    "# Use more history return data!"
   ]
  },
  {
   "cell_type": "code",
   "execution_count": 9,
   "id": "ada4ec9f-c860-4a09-b15f-72b179fca9b2",
   "metadata": {},
   "outputs": [
    {
     "data": {
      "text/html": [
       "<div>\n",
       "<style scoped>\n",
       "    .dataframe tbody tr th:only-of-type {\n",
       "        vertical-align: middle;\n",
       "    }\n",
       "\n",
       "    .dataframe tbody tr th {\n",
       "        vertical-align: top;\n",
       "    }\n",
       "\n",
       "    .dataframe thead th {\n",
       "        text-align: right;\n",
       "    }\n",
       "</style>\n",
       "<table border=\"1\" class=\"dataframe\">\n",
       "  <thead>\n",
       "    <tr style=\"text-align: right;\">\n",
       "      <th></th>\n",
       "      <th>vol_BTC</th>\n",
       "      <th>ret_1_BTC</th>\n",
       "      <th>ret_2_BTC</th>\n",
       "      <th>ret_3_BTC</th>\n",
       "      <th>vol_ETH</th>\n",
       "      <th>ret_1_ETH</th>\n",
       "      <th>ret_2_ETH</th>\n",
       "      <th>ret_3_ETH</th>\n",
       "      <th>vol_USDT</th>\n",
       "      <th>ret_1_USDT</th>\n",
       "      <th>...</th>\n",
       "      <th>ret_2_CRV</th>\n",
       "      <th>ret_3_CRV</th>\n",
       "      <th>vol_AAVE</th>\n",
       "      <th>ret_1_AAVE</th>\n",
       "      <th>ret_2_AAVE</th>\n",
       "      <th>ret_3_AAVE</th>\n",
       "      <th>vol_COMP</th>\n",
       "      <th>ret_1_COMP</th>\n",
       "      <th>ret_2_COMP</th>\n",
       "      <th>ret_3_COMP</th>\n",
       "    </tr>\n",
       "    <tr>\n",
       "      <th>ts</th>\n",
       "      <th></th>\n",
       "      <th></th>\n",
       "      <th></th>\n",
       "      <th></th>\n",
       "      <th></th>\n",
       "      <th></th>\n",
       "      <th></th>\n",
       "      <th></th>\n",
       "      <th></th>\n",
       "      <th></th>\n",
       "      <th></th>\n",
       "      <th></th>\n",
       "      <th></th>\n",
       "      <th></th>\n",
       "      <th></th>\n",
       "      <th></th>\n",
       "      <th></th>\n",
       "      <th></th>\n",
       "      <th></th>\n",
       "      <th></th>\n",
       "      <th></th>\n",
       "    </tr>\n",
       "  </thead>\n",
       "  <tbody>\n",
       "    <tr>\n",
       "      <th>2021-12-14 20:00:00</th>\n",
       "      <td>0.136358</td>\n",
       "      <td>0.004810</td>\n",
       "      <td>0.005215</td>\n",
       "      <td>0.003295</td>\n",
       "      <td>0.158369</td>\n",
       "      <td>0.005961</td>\n",
       "      <td>0.003021</td>\n",
       "      <td>0.001857</td>\n",
       "      <td>0.002463</td>\n",
       "      <td>0.0001</td>\n",
       "      <td>...</td>\n",
       "      <td>-0.003030</td>\n",
       "      <td>-0.012012</td>\n",
       "      <td>0.207758</td>\n",
       "      <td>0.009387</td>\n",
       "      <td>0.003477</td>\n",
       "      <td>0.002254</td>\n",
       "      <td>0.284268</td>\n",
       "      <td>0.006813</td>\n",
       "      <td>-0.004693</td>\n",
       "      <td>-0.023614</td>\n",
       "    </tr>\n",
       "    <tr>\n",
       "      <th>2021-12-14 21:00:00</th>\n",
       "      <td>0.142237</td>\n",
       "      <td>0.019797</td>\n",
       "      <td>0.024702</td>\n",
       "      <td>0.025115</td>\n",
       "      <td>0.170096</td>\n",
       "      <td>0.016737</td>\n",
       "      <td>0.022797</td>\n",
       "      <td>0.019808</td>\n",
       "      <td>0.002652</td>\n",
       "      <td>0.0000</td>\n",
       "      <td>...</td>\n",
       "      <td>0.024390</td>\n",
       "      <td>0.018182</td>\n",
       "      <td>0.222014</td>\n",
       "      <td>0.022490</td>\n",
       "      <td>0.032088</td>\n",
       "      <td>0.026045</td>\n",
       "      <td>0.281497</td>\n",
       "      <td>0.017473</td>\n",
       "      <td>0.024405</td>\n",
       "      <td>0.012698</td>\n",
       "    </tr>\n",
       "    <tr>\n",
       "      <th>2021-12-14 22:00:00</th>\n",
       "      <td>0.151148</td>\n",
       "      <td>0.010414</td>\n",
       "      <td>0.030417</td>\n",
       "      <td>0.035374</td>\n",
       "      <td>0.172081</td>\n",
       "      <td>0.004623</td>\n",
       "      <td>0.021437</td>\n",
       "      <td>0.027526</td>\n",
       "      <td>0.002684</td>\n",
       "      <td>0.0000</td>\n",
       "      <td>...</td>\n",
       "      <td>0.045593</td>\n",
       "      <td>0.048780</td>\n",
       "      <td>0.220598</td>\n",
       "      <td>0.006242</td>\n",
       "      <td>0.028872</td>\n",
       "      <td>0.038530</td>\n",
       "      <td>0.275083</td>\n",
       "      <td>0.009868</td>\n",
       "      <td>0.027513</td>\n",
       "      <td>0.034514</td>\n",
       "    </tr>\n",
       "    <tr>\n",
       "      <th>2021-12-14 23:00:00</th>\n",
       "      <td>0.149424</td>\n",
       "      <td>-0.000302</td>\n",
       "      <td>0.010109</td>\n",
       "      <td>0.030106</td>\n",
       "      <td>0.170257</td>\n",
       "      <td>-0.003195</td>\n",
       "      <td>0.001413</td>\n",
       "      <td>0.018174</td>\n",
       "      <td>0.002823</td>\n",
       "      <td>0.0001</td>\n",
       "      <td>...</td>\n",
       "      <td>0.011905</td>\n",
       "      <td>0.033435</td>\n",
       "      <td>0.219474</td>\n",
       "      <td>-0.003013</td>\n",
       "      <td>0.003210</td>\n",
       "      <td>0.025772</td>\n",
       "      <td>0.271229</td>\n",
       "      <td>-0.000864</td>\n",
       "      <td>0.008995</td>\n",
       "      <td>0.026625</td>\n",
       "    </tr>\n",
       "    <tr>\n",
       "      <th>2021-12-15 00:00:00</th>\n",
       "      <td>0.143079</td>\n",
       "      <td>-0.001448</td>\n",
       "      <td>-0.001749</td>\n",
       "      <td>0.008647</td>\n",
       "      <td>0.159883</td>\n",
       "      <td>-0.000641</td>\n",
       "      <td>-0.003834</td>\n",
       "      <td>0.000772</td>\n",
       "      <td>0.002816</td>\n",
       "      <td>0.0000</td>\n",
       "      <td>...</td>\n",
       "      <td>-0.014535</td>\n",
       "      <td>0.008929</td>\n",
       "      <td>0.213360</td>\n",
       "      <td>0.001659</td>\n",
       "      <td>-0.001359</td>\n",
       "      <td>0.004875</td>\n",
       "      <td>0.246067</td>\n",
       "      <td>-0.001027</td>\n",
       "      <td>-0.001889</td>\n",
       "      <td>0.007959</td>\n",
       "    </tr>\n",
       "  </tbody>\n",
       "</table>\n",
       "<p>5 rows × 44 columns</p>\n",
       "</div>"
      ],
      "text/plain": [
       "                      vol_BTC  ret_1_BTC  ret_2_BTC  ret_3_BTC   vol_ETH  \\\n",
       "ts                                                                         \n",
       "2021-12-14 20:00:00  0.136358   0.004810   0.005215   0.003295  0.158369   \n",
       "2021-12-14 21:00:00  0.142237   0.019797   0.024702   0.025115  0.170096   \n",
       "2021-12-14 22:00:00  0.151148   0.010414   0.030417   0.035374  0.172081   \n",
       "2021-12-14 23:00:00  0.149424  -0.000302   0.010109   0.030106  0.170257   \n",
       "2021-12-15 00:00:00  0.143079  -0.001448  -0.001749   0.008647  0.159883   \n",
       "\n",
       "                     ret_1_ETH  ret_2_ETH  ret_3_ETH  vol_USDT  ret_1_USDT  \\\n",
       "ts                                                                           \n",
       "2021-12-14 20:00:00   0.005961   0.003021   0.001857  0.002463      0.0001   \n",
       "2021-12-14 21:00:00   0.016737   0.022797   0.019808  0.002652      0.0000   \n",
       "2021-12-14 22:00:00   0.004623   0.021437   0.027526  0.002684      0.0000   \n",
       "2021-12-14 23:00:00  -0.003195   0.001413   0.018174  0.002823      0.0001   \n",
       "2021-12-15 00:00:00  -0.000641  -0.003834   0.000772  0.002816      0.0000   \n",
       "\n",
       "                     ...  ret_2_CRV  ret_3_CRV  vol_AAVE  ret_1_AAVE  \\\n",
       "ts                   ...                                               \n",
       "2021-12-14 20:00:00  ...  -0.003030  -0.012012  0.207758    0.009387   \n",
       "2021-12-14 21:00:00  ...   0.024390   0.018182  0.222014    0.022490   \n",
       "2021-12-14 22:00:00  ...   0.045593   0.048780  0.220598    0.006242   \n",
       "2021-12-14 23:00:00  ...   0.011905   0.033435  0.219474   -0.003013   \n",
       "2021-12-15 00:00:00  ...  -0.014535   0.008929  0.213360    0.001659   \n",
       "\n",
       "                     ret_2_AAVE  ret_3_AAVE  vol_COMP  ret_1_COMP  ret_2_COMP  \\\n",
       "ts                                                                              \n",
       "2021-12-14 20:00:00    0.003477    0.002254  0.284268    0.006813   -0.004693   \n",
       "2021-12-14 21:00:00    0.032088    0.026045  0.281497    0.017473    0.024405   \n",
       "2021-12-14 22:00:00    0.028872    0.038530  0.275083    0.009868    0.027513   \n",
       "2021-12-14 23:00:00    0.003210    0.025772  0.271229   -0.000864    0.008995   \n",
       "2021-12-15 00:00:00   -0.001359    0.004875  0.246067   -0.001027   -0.001889   \n",
       "\n",
       "                     ret_3_COMP  \n",
       "ts                               \n",
       "2021-12-14 20:00:00   -0.023614  \n",
       "2021-12-14 21:00:00    0.012698  \n",
       "2021-12-14 22:00:00    0.034514  \n",
       "2021-12-14 23:00:00    0.026625  \n",
       "2021-12-15 00:00:00    0.007959  \n",
       "\n",
       "[5 rows x 44 columns]"
      ]
     },
     "execution_count": 9,
     "metadata": {},
     "output_type": "execute_result"
    }
   ],
   "source": [
    "X.tail()"
   ]
  },
  {
   "cell_type": "code",
   "execution_count": 10,
   "id": "48033447-13eb-4f67-a25e-edd5c51bb146",
   "metadata": {},
   "outputs": [],
   "source": [
    "y = X.ret_1_SOL.shift(-1)[:-1]\n",
    "X = X[:-1]"
   ]
  },
  {
   "cell_type": "code",
   "execution_count": 11,
   "id": "1d52695f-4e8f-4c1d-94b8-14df544e0dc7",
   "metadata": {},
   "outputs": [],
   "source": [
    "from sklearn.ensemble import RandomForestRegressor\n",
    "from sklearn.ensemble import AdaBoostRegressor\n",
    "from sklearn.linear_model import Ridge, Lasso\n",
    "from sklearn.svm import SVR\n",
    "\n",
    "from sklearn.preprocessing import StandardScaler\n",
    "from sklearn.impute import SimpleImputer\n",
    "from sklearn.decomposition import PCA\n",
    "\n",
    "from sklearn.model_selection import TimeSeriesSplit\n",
    "from sklearn.model_selection import cross_validate\n",
    "from sklearn.model_selection import GridSearchCV\n",
    "from sklearn.metrics import mean_squared_error, make_scorer\n",
    "\n",
    "from sklearn.pipeline import Pipeline\n",
    "from sklearn.base import BaseEstimator, TransformerMixin"
   ]
  },
  {
   "cell_type": "code",
   "execution_count": 12,
   "id": "15e474ac-f556-40fc-8390-f911ca0ee7bf",
   "metadata": {},
   "outputs": [],
   "source": [
    "class FeatureSelector(BaseEstimator, TransformerMixin):\n",
    "    def __init__(self, columns):\n",
    "        self.columns = columns\n",
    "        \n",
    "    def fit(self, X, y=None):\n",
    "        return self\n",
    "    \n",
    "    def transform(self, X):\n",
    "        return X[self.columns]"
   ]
  },
  {
   "cell_type": "code",
   "execution_count": 13,
   "id": "dd4fbb9f-df63-4212-b57d-b49fbdeec576",
   "metadata": {},
   "outputs": [],
   "source": [
    "def evaluate_model(model, X, y, test_size=0.2):\n",
    "    cv = TimeSeriesSplit(n_splits=int(y.shape[0]*test_size), test_size=1)\n",
    "    scorer = make_scorer(mean_squared_error, greater_is_better=False, squared=False)\n",
    "    \n",
    "    return np.mean(cross_validate(model, X, y, cv=cv, scoring=scorer, n_jobs=-1)['test_score'])"
   ]
  },
  {
   "cell_type": "code",
   "execution_count": 14,
   "id": "9e167421-6e5a-4066-abb1-14d820c3b623",
   "metadata": {},
   "outputs": [
    {
     "data": {
      "text/plain": [
       "-0.008564073770823731"
      ]
     },
     "execution_count": 14,
     "metadata": {},
     "output_type": "execute_result"
    }
   ],
   "source": [
    "pipeline = Pipeline([\n",
    "    ('imputer', SimpleImputer(missing_values=np.nan,strategy='constant',fill_value=0.)),\n",
    "    ('model', RandomForestRegressor(n_estimators=1000,max_depth=1))\n",
    "])\n",
    "\n",
    "evaluate_model(pipeline, X, y)"
   ]
  },
  {
   "cell_type": "code",
   "execution_count": 80,
   "id": "0a5020e9-6b93-48d6-9568-e046296c793a",
   "metadata": {},
   "outputs": [
    {
     "data": {
      "text/plain": [
       "-0.008588713760508418"
      ]
     },
     "execution_count": 80,
     "metadata": {},
     "output_type": "execute_result"
    }
   ],
   "source": [
    "pipeline = Pipeline([\n",
    "    ('feature_selec', FeatureSelector(['ret_1_SOL', 'ret_2_SOL', 'ret_3_SOL', 'vol_SOL'])),\n",
    "    ('imputer', SimpleImputer(missing_values=np.nan,strategy='constant',fill_value=0.)),\n",
    "    ('model', RandomForestRegressor(n_estimators=1000,max_depth=1))\n",
    "])\n",
    "\n",
    "evaluate_model(pipeline, X, y)"
   ]
  },
  {
   "cell_type": "code",
   "execution_count": 61,
   "id": "4ce28b76-012c-48cf-a766-23f5b3d7a239",
   "metadata": {},
   "outputs": [
    {
     "data": {
      "text/plain": [
       "-0.009651347749041262"
      ]
     },
     "execution_count": 61,
     "metadata": {},
     "output_type": "execute_result"
    }
   ],
   "source": [
    "pipeline = Pipeline([\n",
    "    ('imputer', SimpleImputer(missing_values=np.nan,strategy='constant',fill_value=0.)),\n",
    "    ('model', AdaBoostRegressor(n_estimators=1000))\n",
    "])\n",
    "\n",
    "evaluate_model(pipeline, X, y)"
   ]
  },
  {
   "cell_type": "code",
   "execution_count": 64,
   "id": "d91efac7-4363-47f2-a473-1ca6e4a7285b",
   "metadata": {},
   "outputs": [
    {
     "data": {
      "text/plain": [
       "-0.008555061327190706"
      ]
     },
     "execution_count": 64,
     "metadata": {},
     "output_type": "execute_result"
    }
   ],
   "source": [
    "pipeline = Pipeline([\n",
    "    ('imputer', SimpleImputer(missing_values=np.nan,strategy='constant',fill_value=0.)),\n",
    "    ('model', Ridge(alpha=.1))\n",
    "])\n",
    "\n",
    "evaluate_model(pipeline, X, y)"
   ]
  },
  {
   "cell_type": "code",
   "execution_count": 70,
   "id": "d546d93e-9106-489c-aed1-52a3f52a0c7d",
   "metadata": {},
   "outputs": [
    {
     "data": {
      "text/plain": [
       "-0.008655007861243836"
      ]
     },
     "execution_count": 70,
     "metadata": {},
     "output_type": "execute_result"
    }
   ],
   "source": [
    "pipeline = Pipeline([\n",
    "    ('imputer', SimpleImputer(missing_values=np.nan,strategy='constant',fill_value=0.)),\n",
    "    ('pca', PCA(10)),\n",
    "    ('model', Ridge(alpha=.1))\n",
    "])\n",
    "\n",
    "evaluate_model(pipeline, X, y)"
   ]
  },
  {
   "cell_type": "code",
   "execution_count": 72,
   "id": "75fe46db-1f74-4930-a510-29c48e5e8f26",
   "metadata": {},
   "outputs": [
    {
     "data": {
      "text/plain": [
       "-0.008570816681474391"
      ]
     },
     "execution_count": 72,
     "metadata": {},
     "output_type": "execute_result"
    }
   ],
   "source": [
    "pipeline = Pipeline([\n",
    "    ('imputer', SimpleImputer(missing_values=np.nan,strategy='constant',fill_value=0.)),\n",
    "    ('model', Lasso(alpha=.1))\n",
    "])\n",
    "\n",
    "evaluate_model(pipeline, X, y)"
   ]
  },
  {
   "cell_type": "code",
   "execution_count": 79,
   "id": "b6e813b7-d995-4308-842f-2188f87dc469",
   "metadata": {},
   "outputs": [
    {
     "data": {
      "text/plain": [
       "-0.008598563138126458"
      ]
     },
     "execution_count": 79,
     "metadata": {},
     "output_type": "execute_result"
    }
   ],
   "source": [
    "pipeline = Pipeline([\n",
    "    ('feature_selec', FeatureSelector(['ret_1_SOL', 'ret_2_SOL', 'ret_3_SOL', 'vol_SOL'])),\n",
    "    ('imputer', SimpleImputer(missing_values=np.nan,strategy='constant',fill_value=0.)),\n",
    "    ('model', Ridge(alpha=.1))\n",
    "])\n",
    "\n",
    "evaluate_model(pipeline, X, y)"
   ]
  },
  {
   "cell_type": "code",
   "execution_count": 102,
   "id": "f36b07f2-7679-42f3-9533-789446a8a5c9",
   "metadata": {},
   "outputs": [
    {
     "data": {
      "text/plain": [
       "-0.008546201345938906"
      ]
     },
     "execution_count": 102,
     "metadata": {},
     "output_type": "execute_result"
    }
   ],
   "source": [
    "pipeline = Pipeline([\n",
    "    ('imputer', SimpleImputer(missing_values=np.nan,strategy='constant',fill_value=0.)),\n",
    "    ('scale', StandardScaler()),\n",
    "    ('model', SVR())\n",
    "])\n",
    "\n",
    "evaluate_model(pipeline, X, y)"
   ]
  },
  {
   "cell_type": "markdown",
   "id": "efa2396b-4baf-4f4b-b7a6-49c804fc0946",
   "metadata": {},
   "source": [
    "# SVR doesn need for fine-tune\n",
    "# we fine-tune the hyperparameters of Ridge Model"
   ]
  },
  {
   "cell_type": "code",
   "execution_count": 118,
   "id": "1a28e22c-1d28-4e21-be0a-94604609f242",
   "metadata": {},
   "outputs": [
    {
     "data": {
      "text/plain": [
       "GridSearchCV(estimator=Pipeline(steps=[('imputer',\n",
       "                                        SimpleImputer(fill_value=0.0,\n",
       "                                                      strategy='constant')),\n",
       "                                       ('sacle', StandardScaler()),\n",
       "                                       ('model', Ridge())]),\n",
       "             param_grid={'model__alpha': [0.01, 0.1, 1, 10, 100]})"
      ]
     },
     "execution_count": 118,
     "metadata": {},
     "output_type": "execute_result"
    }
   ],
   "source": [
    "pipeline = Pipeline([\n",
    "    ('imputer', SimpleImputer(missing_values=np.nan,strategy='constant',fill_value=0.)),\n",
    "    ('sacle', StandardScaler()),\n",
    "    ('model', Ridge())\n",
    "])\n",
    "\n",
    "test_size = 0.2\n",
    "cv = TimeSeriesSplit(n_splits=int(y.shape[0]*test_size), test_size=1)\n",
    "scorer = make_scorer(mean_squared_error, greater_is_better=False, squared=False)\n",
    "\n",
    "search = GridSearchCV(\n",
    "    pipeline,\n",
    "    {\n",
    "    'model__alpha':[0.01, 0.1, 1, 10, 100]\n",
    "    }\n",
    ")\n",
    "search.fit(X,y)"
   ]
  },
  {
   "cell_type": "code",
   "execution_count": 119,
   "id": "ce29328e-8582-4cd3-9a44-2f95af5bdd99",
   "metadata": {},
   "outputs": [
    {
     "data": {
      "text/plain": [
       "{'model__alpha': 100}"
      ]
     },
     "execution_count": 119,
     "metadata": {},
     "output_type": "execute_result"
    }
   ],
   "source": [
    "search.best_params_"
   ]
  },
  {
   "cell_type": "code",
   "execution_count": 120,
   "id": "472d249e-f0f7-436a-800f-9f2f55fbaf18",
   "metadata": {},
   "outputs": [
    {
     "data": {
      "text/plain": [
       "-0.008498910531781468"
      ]
     },
     "execution_count": 120,
     "metadata": {},
     "output_type": "execute_result"
    }
   ],
   "source": [
    "best_model = search.best_estimator_\n",
    "evaluate_model(best_model, X, y)"
   ]
  },
  {
   "cell_type": "code",
   "execution_count": 123,
   "id": "8ee3fc96-1e14-48d2-b7f5-a593daf03cb6",
   "metadata": {},
   "outputs": [
    {
     "data": {
      "text/plain": [
       "<module 'matplotlib.pyplot' from '/opt/homebrew/Caskroom/miniforge/base/envs/mfe-preprogram/lib/python3.8/site-packages/matplotlib/pyplot.py'>"
      ]
     },
     "execution_count": 123,
     "metadata": {},
     "output_type": "execute_result"
    },
    {
     "data": {
      "image/png": "[encoded data removed]",
      "text/plain": [
       "<Figure size 720x1080 with 3 Axes>"
      ]
     },
     "metadata": {
      "needs_background": "light"
     },
     "output_type": "display_data"
    }
   ],
   "source": [
    "fig, axes = plt.subplots(3, 1, figsize=(10, 15))\n",
    "\n",
    "title = \"Learning curves for ridge regression\"\n",
    "\n",
    "plot_learning_curve(\n",
    "    best_model, title, X, y, axes=axes, cv=cv, n_jobs=4, scoring=scorer\n",
    ")\n"
   ]
  },
  {
   "cell_type": "code",
   "execution_count": 125,
   "id": "91c43449-74eb-4cc1-b371-f71e7aeddfe2",
   "metadata": {},
   "outputs": [],
   "source": [
    "pickle.dump(best_model,open('best_model.pkl','wb'))"
   ]
  },
  {
   "cell_type": "code",
   "execution_count": 126,
   "id": "796c80e6-e628-4d95-852f-190d73e08931",
   "metadata": {},
   "outputs": [],
   "source": [
    "loaded_model = pickle.load(open('best_model.pkl', 'rb'))"
   ]
  },
  {
   "cell_type": "code",
   "execution_count": 127,
   "id": "01960576-099f-4d42-ab76-e2531e82c507",
   "metadata": {},
   "outputs": [
    {
     "data": {
      "text/plain": [
       "array([-0.00315665])"
      ]
     },
     "execution_count": 127,
     "metadata": {},
     "output_type": "execute_result"
    }
   ],
   "source": [
    "loaded_model.predict(X.iloc[[-1]])"
   ]
  },
  {
   "cell_type": "code",
   "execution_count": 128,
   "id": "aa35bfb1-6681-44e2-921b-b68389d2ad1f",
   "metadata": {},
   "outputs": [
    {
     "data": {
      "text/plain": [
       "array([-0.00315665])"
      ]
     },
     "execution_count": 128,
     "metadata": {},
     "output_type": "execute_result"
    }
   ],
   "source": [
    "best_model.predict(X.iloc[[-1]])"
   ]
  },
  {
   "cell_type": "code",
   "execution_count": null,
   "id": "a3c3248d-6eb2-4b9c-9e7e-4e845c350f0c",
   "metadata": {},
   "outputs": [],
   "source": []
  }
 ],
 "metadata": {
  "kernelspec": {
   "display_name": "Python 3 (ipykernel)",
   "language": "python",
   "name": "python3"
  },
  "language_info": {
   "codemirror_mode": {
    "name": "ipython",
    "version": 3
   },
   "file_extension": ".py",
   "mimetype": "text/x-python",
   "name": "python",
   "nbconvert_exporter": "python",
   "pygments_lexer": "ipython3",
   "version": "3.8.12"
  }
 },
 "nbformat": 4,
 "nbformat_minor": 5
}
