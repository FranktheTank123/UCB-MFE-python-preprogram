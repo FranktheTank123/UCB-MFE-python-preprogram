{
 "cells": [
  {
   "cell_type": "code",
   "execution_count": 24,
   "id": "f5f2001f-5fe1-48f9-8b8d-3c6b544e0ef4",
   "metadata": {},
   "outputs": [],
   "source": [
    "data_location = 'sqlite:///../../../data/data.db'"
   ]
  },
  {
   "cell_type": "code",
   "execution_count": 175,
   "id": "d1995203-522f-4c79-96eb-c99043ec1dfe",
   "metadata": {},
   "outputs": [],
   "source": [
    "import pandas as pd\n",
    "import numpy as np\n",
    "import matplotlib.pyplot as plt\n",
    "from functools import reduce\n",
    "import pickle"
   ]
  },
  {
   "cell_type": "code",
   "execution_count": 154,
   "id": "3f6b91b3-66f7-4a6c-81c1-92ce1d9de58c",
   "metadata": {},
   "outputs": [],
   "source": [
    "def vol_ohlc(df, lookback=10):\n",
    "    o = df.open\n",
    "    h = df.high\n",
    "    l = df.low\n",
    "    c = df.close\n",
    "    \n",
    "    k = 0.34 / (1.34 + (lookback+1)/(lookback-1))\n",
    "    cc = np.log(c/c.shift(1))\n",
    "    ho = np.log(h/o)\n",
    "    lo = np.log(l/o)\n",
    "    co = np.log(c/o)\n",
    "    oc = np.log(o/c.shift(1))\n",
    "    oc_sq = oc**2\n",
    "    cc_sq = cc**2\n",
    "    rs = ho*(ho-co)+lo*(lo-co)\n",
    "    close_vol = cc_sq.rolling(lookback).sum() * (1.0 / (lookback - 1.0))\n",
    "    open_vol = oc_sq.rolling(lookback).sum() * (1.0 / (lookback - 1.0))\n",
    "    window_rs = rs.rolling(lookback).sum() * (1.0 / (lookback - 1.0))\n",
    "    result = (open_vol + k * close_vol + (1-k) * window_rs).apply(np.sqrt) * np.sqrt(252)\n",
    "    result[:lookback-1] = np.nan\n",
    "    \n",
    "    return result"
   ]
  },
  {
   "cell_type": "code",
   "execution_count": 155,
   "id": "ea143f61-3ba4-474f-9cb5-d09ee829786a",
   "metadata": {},
   "outputs": [],
   "source": [
    "def plot_learning_curve(\n",
    "    estimator,\n",
    "    title,\n",
    "    X,\n",
    "    y,\n",
    "    axes=None,\n",
    "    ylim=None,\n",
    "    cv=None,\n",
    "    n_jobs=None,\n",
    "    train_sizes=np.linspace(0.1, 1.0, 5),\n",
    "    scoring=None\n",
    "):\n",
    "    if axes is None:\n",
    "        _, axes = plt.subplots(1, 3, figsize=(20, 5))\n",
    "\n",
    "    axes[0].set_title(title)\n",
    "    if ylim is not None:\n",
    "        axes[0].set_ylim(*ylim)\n",
    "    axes[0].set_xlabel(\"Training examples\")\n",
    "    axes[0].set_ylabel(\"Score\")\n",
    "\n",
    "    train_sizes, train_scores, test_scores, fit_times, _ = learning_curve(\n",
    "        estimator,\n",
    "        X,\n",
    "        y,\n",
    "        cv=cv,\n",
    "        n_jobs=n_jobs,\n",
    "        train_sizes=train_sizes,\n",
    "        return_times=True,\n",
    "        scoring=scoring,\n",
    "    )\n",
    "    train_scores_mean = np.mean(train_scores, axis=1)\n",
    "    train_scores_std = np.std(train_scores, axis=1)\n",
    "    test_scores_mean = np.mean(test_scores, axis=1)\n",
    "    test_scores_std = np.std(test_scores, axis=1)\n",
    "    fit_times_mean = np.mean(fit_times, axis=1)\n",
    "    fit_times_std = np.std(fit_times, axis=1)\n",
    "\n",
    "    # Plot learning curve\n",
    "    axes[0].grid()\n",
    "    axes[0].fill_between(\n",
    "        train_sizes,\n",
    "        train_scores_mean - train_scores_std,\n",
    "        train_scores_mean + train_scores_std,\n",
    "        alpha=0.1,\n",
    "        color=\"r\",\n",
    "    )\n",
    "    axes[0].fill_between(\n",
    "        train_sizes,\n",
    "        test_scores_mean - test_scores_std,\n",
    "        test_scores_mean + test_scores_std,\n",
    "        alpha=0.1,\n",
    "        color=\"g\",\n",
    "    )\n",
    "    axes[0].plot(\n",
    "        train_sizes, train_scores_mean, \"o-\", color=\"r\", label=\"Training score\"\n",
    "    )\n",
    "    axes[0].plot(\n",
    "        train_sizes, test_scores_mean, \"o-\", color=\"g\", label=\"Cross-validation score\"\n",
    "    )\n",
    "    axes[0].legend(loc=\"best\")\n",
    "\n",
    "    # Plot n_samples vs fit_times\n",
    "    axes[1].grid()\n",
    "    axes[1].plot(train_sizes, fit_times_mean, \"o-\")\n",
    "    axes[1].fill_between(\n",
    "        train_sizes,\n",
    "        fit_times_mean - fit_times_std,\n",
    "        fit_times_mean + fit_times_std,\n",
    "        alpha=0.1,\n",
    "    )\n",
    "    axes[1].set_xlabel(\"Training examples\")\n",
    "    axes[1].set_ylabel(\"fit_times\")\n",
    "    axes[1].set_title(\"Scalability of the model\")\n",
    "\n",
    "    # Plot fit_time vs score\n",
    "    fit_time_argsort = fit_times_mean.argsort()\n",
    "    fit_time_sorted = fit_times_mean[fit_time_argsort]\n",
    "    test_scores_mean_sorted = test_scores_mean[fit_time_argsort]\n",
    "    test_scores_std_sorted = test_scores_std[fit_time_argsort]\n",
    "    axes[2].grid()\n",
    "    axes[2].plot(fit_time_sorted, test_scores_mean_sorted, \"o-\")\n",
    "    axes[2].fill_between(\n",
    "        fit_time_sorted,\n",
    "        test_scores_mean_sorted - test_scores_std_sorted,\n",
    "        test_scores_mean_sorted + test_scores_std_sorted,\n",
    "        alpha=0.1,\n",
    "    )\n",
    "    axes[2].set_xlabel(\"fit_times\")\n",
    "    axes[2].set_ylabel(\"Score\")\n",
    "    axes[2].set_title(\"Performance of the model\")\n",
    "\n",
    "    return plt"
   ]
  },
  {
   "cell_type": "code",
   "execution_count": 156,
   "id": "e831bc1d-4a57-46c9-970f-da05fa998bed",
   "metadata": {},
   "outputs": [],
   "source": [
    "ohlc = pd.read_sql('SELECT * FROM ohlc', data_location)\n",
    "tokens = ohlc.token.unique()"
   ]
  },
  {
   "cell_type": "code",
   "execution_count": 157,
   "id": "3c0273f0-91e4-4d07-ad16-e29d1c897759",
   "metadata": {},
   "outputs": [
    {
     "data": {
      "text/html": [
       "<div>\n",
       "<style scoped>\n",
       "    .dataframe tbody tr th:only-of-type {\n",
       "        vertical-align: middle;\n",
       "    }\n",
       "\n",
       "    .dataframe tbody tr th {\n",
       "        vertical-align: top;\n",
       "    }\n",
       "\n",
       "    .dataframe thead th {\n",
       "        text-align: right;\n",
       "    }\n",
       "</style>\n",
       "<table border=\"1\" class=\"dataframe\">\n",
       "  <thead>\n",
       "    <tr style=\"text-align: right;\">\n",
       "      <th></th>\n",
       "      <th>ts</th>\n",
       "      <th>open</th>\n",
       "      <th>high</th>\n",
       "      <th>low</th>\n",
       "      <th>close</th>\n",
       "      <th>volume</th>\n",
       "      <th>volumeUSD</th>\n",
       "      <th>token</th>\n",
       "      <th>chain</th>\n",
       "    </tr>\n",
       "  </thead>\n",
       "  <tbody>\n",
       "    <tr>\n",
       "      <th>0</th>\n",
       "      <td>2021-11-01 00:00:00</td>\n",
       "      <td>61421.37</td>\n",
       "      <td>61669.14</td>\n",
       "      <td>61239.60</td>\n",
       "      <td>61343.68</td>\n",
       "      <td>256.433869</td>\n",
       "      <td>1.575751e+07</td>\n",
       "      <td>BTC</td>\n",
       "      <td>BTC</td>\n",
       "    </tr>\n",
       "    <tr>\n",
       "      <th>1</th>\n",
       "      <td>2021-11-01 01:00:00</td>\n",
       "      <td>61346.17</td>\n",
       "      <td>61709.82</td>\n",
       "      <td>61171.22</td>\n",
       "      <td>61610.93</td>\n",
       "      <td>332.481185</td>\n",
       "      <td>2.044558e+07</td>\n",
       "      <td>BTC</td>\n",
       "      <td>BTC</td>\n",
       "    </tr>\n",
       "    <tr>\n",
       "      <th>2</th>\n",
       "      <td>2021-11-01 02:00:00</td>\n",
       "      <td>61610.94</td>\n",
       "      <td>61779.87</td>\n",
       "      <td>61299.89</td>\n",
       "      <td>61333.17</td>\n",
       "      <td>314.250720</td>\n",
       "      <td>1.935390e+07</td>\n",
       "      <td>BTC</td>\n",
       "      <td>BTC</td>\n",
       "    </tr>\n",
       "    <tr>\n",
       "      <th>3</th>\n",
       "      <td>2021-11-01 03:00:00</td>\n",
       "      <td>61333.17</td>\n",
       "      <td>61457.28</td>\n",
       "      <td>60050.00</td>\n",
       "      <td>60589.06</td>\n",
       "      <td>1059.931358</td>\n",
       "      <td>6.414625e+07</td>\n",
       "      <td>BTC</td>\n",
       "      <td>BTC</td>\n",
       "    </tr>\n",
       "    <tr>\n",
       "      <th>4</th>\n",
       "      <td>2021-11-01 04:00:00</td>\n",
       "      <td>60590.23</td>\n",
       "      <td>60655.00</td>\n",
       "      <td>59752.92</td>\n",
       "      <td>59971.89</td>\n",
       "      <td>621.419878</td>\n",
       "      <td>3.744744e+07</td>\n",
       "      <td>BTC</td>\n",
       "      <td>BTC</td>\n",
       "    </tr>\n",
       "    <tr>\n",
       "      <th>...</th>\n",
       "      <td>...</td>\n",
       "      <td>...</td>\n",
       "      <td>...</td>\n",
       "      <td>...</td>\n",
       "      <td>...</td>\n",
       "      <td>...</td>\n",
       "      <td>...</td>\n",
       "      <td>...</td>\n",
       "      <td>...</td>\n",
       "    </tr>\n",
       "    <tr>\n",
       "      <th>11622</th>\n",
       "      <td>2021-12-14 20:00:00</td>\n",
       "      <td>178.99</td>\n",
       "      <td>181.27</td>\n",
       "      <td>178.72</td>\n",
       "      <td>180.28</td>\n",
       "      <td>628.699000</td>\n",
       "      <td>1.130815e+05</td>\n",
       "      <td>COMP</td>\n",
       "      <td>ETH</td>\n",
       "    </tr>\n",
       "    <tr>\n",
       "      <th>11623</th>\n",
       "      <td>2021-12-14 21:00:00</td>\n",
       "      <td>180.15</td>\n",
       "      <td>183.76</td>\n",
       "      <td>179.96</td>\n",
       "      <td>183.43</td>\n",
       "      <td>2453.455000</td>\n",
       "      <td>4.447119e+05</td>\n",
       "      <td>COMP</td>\n",
       "      <td>ETH</td>\n",
       "    </tr>\n",
       "    <tr>\n",
       "      <th>11624</th>\n",
       "      <td>2021-12-14 22:00:00</td>\n",
       "      <td>183.31</td>\n",
       "      <td>186.74</td>\n",
       "      <td>182.60</td>\n",
       "      <td>185.24</td>\n",
       "      <td>2086.017000</td>\n",
       "      <td>3.865710e+05</td>\n",
       "      <td>COMP</td>\n",
       "      <td>ETH</td>\n",
       "    </tr>\n",
       "    <tr>\n",
       "      <th>11625</th>\n",
       "      <td>2021-12-14 23:00:00</td>\n",
       "      <td>185.22</td>\n",
       "      <td>186.09</td>\n",
       "      <td>183.88</td>\n",
       "      <td>185.08</td>\n",
       "      <td>416.028000</td>\n",
       "      <td>7.698720e+04</td>\n",
       "      <td>COMP</td>\n",
       "      <td>ETH</td>\n",
       "    </tr>\n",
       "    <tr>\n",
       "      <th>11626</th>\n",
       "      <td>2021-12-15 00:00:00</td>\n",
       "      <td>185.07</td>\n",
       "      <td>185.78</td>\n",
       "      <td>184.50</td>\n",
       "      <td>184.89</td>\n",
       "      <td>335.307000</td>\n",
       "      <td>6.214264e+04</td>\n",
       "      <td>COMP</td>\n",
       "      <td>ETH</td>\n",
       "    </tr>\n",
       "  </tbody>\n",
       "</table>\n",
       "<p>11627 rows × 9 columns</p>\n",
       "</div>"
      ],
      "text/plain": [
       "                        ts      open      high       low     close  \\\n",
       "0      2021-11-01 00:00:00  61421.37  61669.14  61239.60  61343.68   \n",
       "1      2021-11-01 01:00:00  61346.17  61709.82  61171.22  61610.93   \n",
       "2      2021-11-01 02:00:00  61610.94  61779.87  61299.89  61333.17   \n",
       "3      2021-11-01 03:00:00  61333.17  61457.28  60050.00  60589.06   \n",
       "4      2021-11-01 04:00:00  60590.23  60655.00  59752.92  59971.89   \n",
       "...                    ...       ...       ...       ...       ...   \n",
       "11622  2021-12-14 20:00:00    178.99    181.27    178.72    180.28   \n",
       "11623  2021-12-14 21:00:00    180.15    183.76    179.96    183.43   \n",
       "11624  2021-12-14 22:00:00    183.31    186.74    182.60    185.24   \n",
       "11625  2021-12-14 23:00:00    185.22    186.09    183.88    185.08   \n",
       "11626  2021-12-15 00:00:00    185.07    185.78    184.50    184.89   \n",
       "\n",
       "            volume     volumeUSD token chain  \n",
       "0       256.433869  1.575751e+07   BTC   BTC  \n",
       "1       332.481185  2.044558e+07   BTC   BTC  \n",
       "2       314.250720  1.935390e+07   BTC   BTC  \n",
       "3      1059.931358  6.414625e+07   BTC   BTC  \n",
       "4       621.419878  3.744744e+07   BTC   BTC  \n",
       "...            ...           ...   ...   ...  \n",
       "11622   628.699000  1.130815e+05  COMP   ETH  \n",
       "11623  2453.455000  4.447119e+05  COMP   ETH  \n",
       "11624  2086.017000  3.865710e+05  COMP   ETH  \n",
       "11625   416.028000  7.698720e+04  COMP   ETH  \n",
       "11626   335.307000  6.214264e+04  COMP   ETH  \n",
       "\n",
       "[11627 rows x 9 columns]"
      ]
     },
     "execution_count": 157,
     "metadata": {},
     "output_type": "execute_result"
    }
   ],
   "source": [
    "ohlc"
   ]
  },
  {
   "cell_type": "code",
   "execution_count": 158,
   "id": "01aeb287-60e1-43f3-b2bb-0d98ab336286",
   "metadata": {},
   "outputs": [],
   "source": [
    "#factor building \n",
    "#add two features named volume_change and low_high_ratio\n",
    "def df_merge(left, right):\n",
    "    return pd.merge(left, right, on='ts', how='inner')\n",
    "\n",
    "X = reduce(df_merge, [\n",
    "    (lambda df: \n",
    "    (\n",
    "        df\n",
    "        .assign(\n",
    "            vol=vol_ohlc(df).fillna(0),\n",
    "            ret=df.close.pct_change(),\n",
    "            volume_change=df.volume.pct_change(),\n",
    "            \n",
    "        )[['ts', 'vol', 'ret','volume_change']]\n",
    "        .rename(columns={\n",
    "            col: f'{col}_{token}' for col in ['ts', 'vol', 'ret','volume_change'] if col != 'ts'\n",
    "        })\n",
    "    ))(ohlc[ohlc.token == token])\n",
    "    for token in tokens\n",
    "]).set_index('ts')"
   ]
  },
  {
   "cell_type": "code",
   "execution_count": 159,
   "id": "edb13f61-95aa-406d-bfc7-6b33a21adb52",
   "metadata": {},
   "outputs": [],
   "source": [
    "y = X.ret_SOL.shift(-1)[:-1]\n",
    "X = X[:-1]"
   ]
  },
  {
   "cell_type": "code",
   "execution_count": 161,
   "id": "697dafcc-b859-4830-878b-8563a7c8cfae",
   "metadata": {
    "tags": []
   },
   "outputs": [
    {
     "data": {
      "text/plain": [
       "{'vol_BTC': 0.028693550573573316,\n",
       " 'ret_BTC': -0.013848623804147297,\n",
       " 'volume_change_BTC': -0.04368861855266216,\n",
       " 'vol_ETH': 0.02357151289469286,\n",
       " 'ret_ETH': 0.03064921265933825,\n",
       " 'volume_change_ETH': -0.04680361080564165,\n",
       " 'vol_USDT': 0.006850180191310921,\n",
       " 'ret_USDT': -0.044400854990527476,\n",
       " 'volume_change_USDT': -0.04268405683297966,\n",
       " 'vol_SOL': 0.03485259726638474,\n",
       " 'ret_SOL': -0.02985506419340651,\n",
       " 'volume_change_SOL': -0.05630510667145637,\n",
       " 'vol_ADA': 0.03888023343700741,\n",
       " 'ret_ADA': 0.0002492833396142092,\n",
       " 'volume_change_ADA': -0.045860180897845416,\n",
       " 'vol_DOT': 0.059040768451671846,\n",
       " 'ret_DOT': 0.008193946995455023,\n",
       " 'volume_change_DOT': -0.06323246591949441,\n",
       " 'vol_AVAX': 0.04140851156078151,\n",
       " 'ret_AVAX': 0.01691945028976708,\n",
       " 'volume_change_AVAX': -0.058354186350306154,\n",
       " 'vol_ATOM': -0.0022346077856851623,\n",
       " 'ret_ATOM': 0.05546161881659775,\n",
       " 'volume_change_ATOM': -0.026368811382775692,\n",
       " 'vol_CRV': 0.019828890149893363,\n",
       " 'ret_CRV': -0.005844145396121401,\n",
       " 'volume_change_CRV': -0.042402686992956615,\n",
       " 'vol_AAVE': 0.03605077807280678,\n",
       " 'ret_AAVE': 0.01989568673206619,\n",
       " 'volume_change_AAVE': -0.03503678715332528,\n",
       " 'vol_COMP': 0.05984258530861503,\n",
       " 'ret_COMP': 0.020113141490153065,\n",
       " 'volume_change_COMP': -0.046997992339302214}"
      ]
     },
     "execution_count": 161,
     "metadata": {},
     "output_type": "execute_result"
    }
   ],
   "source": [
    "\n",
    "corrdic={col: y.corr(X[col]) for col in X.columns if X[col].dtype != 'object'}\n",
    "columns3 = [name for name,value in corrdic.items() if abs(value)>=0.03]\n",
    "columns2 = [name for name,value in corrdic.items() if abs(value)>=0.02]\n",
    "columns1 = [name for name,value in corrdic.items() if abs(value)>=0.00]\n",
    "corrdic"
   ]
  },
  {
   "cell_type": "code",
   "execution_count": 162,
   "id": "4798a59a-9a38-4d20-a833-975966c53ce7",
   "metadata": {},
   "outputs": [],
   "source": [
    "from sklearn.preprocessing import StandardScaler\n",
    "from sklearn.preprocessing import QuantileTransformer\n",
    "from sklearn.decomposition import PCA\n",
    "from sklearn.impute import SimpleImputer\n",
    "\n",
    "from sklearn.base import BaseEstimator, TransformerMixin\n",
    "from sklearn.pipeline import Pipeline\n",
    "from sklearn.compose import ColumnTransformer\n",
    "\n",
    "from sklearn.linear_model import Lasso\n",
    "from sklearn.linear_model import Ridge\n",
    "\n",
    "\n",
    "from sklearn.model_selection import cross_validate\n",
    "from sklearn.model_selection import TimeSeriesSplit\n",
    "from sklearn.metrics import mean_squared_error, make_scorer\n",
    "\n",
    "from sklearn.model_selection import learning_curve"
   ]
  },
  {
   "cell_type": "code",
   "execution_count": 163,
   "id": "7c4c97ac-c444-4fbd-988c-d75a69da93d0",
   "metadata": {},
   "outputs": [],
   "source": [
    "class FeatureSelector(BaseEstimator, TransformerMixin):\n",
    "    def __init__(self, columns):\n",
    "        self.columns = columns\n",
    "        \n",
    "    def fit(self, X, y=None):\n",
    "        return self\n",
    "    \n",
    "    def transform(self, X):\n",
    "        return X[self.columns]"
   ]
  },
  {
   "cell_type": "code",
   "execution_count": 164,
   "id": "cf3fc0ea-c78d-4dc1-b02f-7460624b84e9",
   "metadata": {},
   "outputs": [],
   "source": [
    "def evaluate_model(model, X, y, test_size=0.2):\n",
    "    cv = TimeSeriesSplit(n_splits=int(y.shape[0] * test_size), test_size=1)\n",
    "    scorer = make_scorer(mean_squared_error, greater_is_better=False, squared=False)\n",
    "    \n",
    "    return np.mean(cross_validate(model, X, y, cv=cv, scoring=scorer, n_jobs=-1)['test_score'])"
   ]
  },
  {
   "cell_type": "code",
   "execution_count": 172,
   "id": "a4bde55b-f1a7-465d-80d7-eb9499201ea2",
   "metadata": {},
   "outputs": [
    {
     "data": {
      "text/plain": [
       "-0.008582538869535233"
      ]
     },
     "execution_count": 172,
     "metadata": {},
     "output_type": "execute_result"
    }
   ],
   "source": [
    "pipeline = Pipeline([\n",
    "    ('featureselector',FeatureSelector(columns2)),\n",
    "    ('impute', SimpleImputer(missing_values=np.nan, strategy='constant', fill_value=0.)),\n",
    "    ('scale', StandardScaler()),\n",
    "    ('pca', PCA(n_components=2)),\n",
    "    ('model', Ridge(alpha=1))\n",
    "])\n",
    "\n",
    "evaluate_model(pipeline, X, y)"
   ]
  },
  {
   "cell_type": "code",
   "execution_count": 173,
   "id": "b480bb1c-1e3d-4c3d-b86e-d337f1b0d15e",
   "metadata": {},
   "outputs": [
    {
     "data": {
      "text/plain": [
       "-0.008570816681474391"
      ]
     },
     "execution_count": 173,
     "metadata": {},
     "output_type": "execute_result"
    }
   ],
   "source": [
    "pipeline = Pipeline([\n",
    "     ('featureselector',FeatureSelector(columns2)),\n",
    "    ('impute', SimpleImputer(missing_values=np.nan, strategy='constant', fill_value=0.)),\n",
    "    ('scale', StandardScaler()),\n",
    "    ('pca', PCA(n_components=3)),\n",
    "    ('model', Lasso(alpha=.1))\n",
    "])\n",
    "\n",
    "evaluate_model(pipeline, X, y)"
   ]
  },
  {
   "cell_type": "code",
   "execution_count": 168,
   "id": "72a649ac-031a-4d78-bf07-b0aa63f471f5",
   "metadata": {},
   "outputs": [
    {
     "data": {
      "text/plain": [
       "GridSearchCV(cv=TimeSeriesSplit(gap=0, max_train_size=None, n_splits=211, test_size=1),\n",
       "             estimator=Pipeline(steps=[('featureselector',\n",
       "                                        FeatureSelector(columns=['vol_BTC',\n",
       "                                                                 'ret_BTC',\n",
       "                                                                 'volume_change_BTC',\n",
       "                                                                 'vol_ETH',\n",
       "                                                                 'ret_ETH',\n",
       "                                                                 'volume_change_ETH',\n",
       "                                                                 'vol_USDT',\n",
       "                                                                 'ret_USDT',\n",
       "                                                                 'volume_change_USDT',\n",
       "                                                                 'vol_SOL',\n",
       "                                                                 'ret_SOL',\n",
       "                                                                 'volume_change_SOL',\n",
       "                                                                 'vol_ADA',\n",
       "                                                                 'ret_ADA',\n",
       "                                                                 'volume_chang...\n",
       "                                                        'volume_change_SOL',\n",
       "                                                        'vol_ADA',\n",
       "                                                        'volume_change_ADA',\n",
       "                                                        'vol_DOT',\n",
       "                                                        'volume_change_DOT',\n",
       "                                                        'vol_AVAX',\n",
       "                                                        'volume_change_AVAX',\n",
       "                                                        'ret_ATOM',\n",
       "                                                        'volume_change_ATOM',\n",
       "                                                        'volume_change_CRV',\n",
       "                                                        'vol_AAVE',\n",
       "                                                        'volume_change_AAVE',\n",
       "                                                        'vol_COMP', 'ret_COMP',\n",
       "                                                        'volume_change_COMP']],\n",
       "                          'model__alpha': [0.1, 0.5, 1.0]}],\n",
       "             scoring=make_scorer(mean_squared_error, greater_is_better=False, squared=False))"
      ]
     },
     "execution_count": 168,
     "metadata": {},
     "output_type": "execute_result"
    }
   ],
   "source": [
    "from sklearn.model_selection import GridSearchCV\n",
    "\n",
    "pipeline = Pipeline([\n",
    "     ('featureselector',FeatureSelector(columns1)),\n",
    "    ('impute', SimpleImputer(missing_values=np.nan, strategy='constant', fill_value=0.)),\n",
    "    ('scale', StandardScaler()),\n",
    "    ('pca', PCA()),\n",
    "    ('model', Ridge())\n",
    "])\n",
    "\n",
    "test_size = 0.2\n",
    "cv = TimeSeriesSplit(n_splits=int(y.shape[0] * test_size), test_size=1)\n",
    "scorer = make_scorer(mean_squared_error, greater_is_better=False, squared=False)\n",
    "\n",
    "search = GridSearchCV(pipeline, [\n",
    "    {'pca__n_components': [1, 5, 10, 20, 23],'model__alpha': [0.1, 0.5, 1.],'featureselector__columns':[columns1,columns2]},\n",
    "    {'featureselector__columns':[columns3,columns1,columns2],'model__alpha': [0.1, 0.5, 1.]}\n",
    "], scoring=scorer, refit=True, cv=cv, n_jobs=-1)\n",
    "search.fit(X, y)"
   ]
  },
  {
   "cell_type": "code",
   "execution_count": 169,
   "id": "effb6fa4-713a-451a-8097-3494a6f7762a",
   "metadata": {},
   "outputs": [
    {
     "data": {
      "text/plain": [
       "{'featureselector__columns': ['vol_BTC',\n",
       "  'ret_BTC',\n",
       "  'volume_change_BTC',\n",
       "  'vol_ETH',\n",
       "  'ret_ETH',\n",
       "  'volume_change_ETH',\n",
       "  'vol_USDT',\n",
       "  'ret_USDT',\n",
       "  'volume_change_USDT',\n",
       "  'vol_SOL',\n",
       "  'ret_SOL',\n",
       "  'volume_change_SOL',\n",
       "  'vol_ADA',\n",
       "  'ret_ADA',\n",
       "  'volume_change_ADA',\n",
       "  'vol_DOT',\n",
       "  'ret_DOT',\n",
       "  'volume_change_DOT',\n",
       "  'vol_AVAX',\n",
       "  'ret_AVAX',\n",
       "  'volume_change_AVAX',\n",
       "  'vol_ATOM',\n",
       "  'ret_ATOM',\n",
       "  'volume_change_ATOM',\n",
       "  'vol_CRV',\n",
       "  'ret_CRV',\n",
       "  'volume_change_CRV',\n",
       "  'vol_AAVE',\n",
       "  'ret_AAVE',\n",
       "  'volume_change_AAVE',\n",
       "  'vol_COMP',\n",
       "  'ret_COMP',\n",
       "  'volume_change_COMP'],\n",
       " 'model__alpha': 1.0}"
      ]
     },
     "execution_count": 169,
     "metadata": {},
     "output_type": "execute_result"
    }
   ],
   "source": [
    "search.best_params_"
   ]
  },
  {
   "cell_type": "code",
   "execution_count": 170,
   "id": "28443243-455d-4b84-af7c-49207df34b39",
   "metadata": {},
   "outputs": [],
   "source": [
    "best_model = search.best_estimator_"
   ]
  },
  {
   "cell_type": "code",
   "execution_count": 171,
   "id": "ba29cc1e-1118-4b1f-bd4b-185cf8a51ceb",
   "metadata": {},
   "outputs": [
    {
     "data": {
      "text/plain": [
       "-0.008509316035506503"
      ]
     },
     "execution_count": 171,
     "metadata": {},
     "output_type": "execute_result"
    }
   ],
   "source": [
    "evaluate_model(best_model, X, y)"
   ]
  },
  {
   "cell_type": "code",
   "execution_count": 174,
   "id": "80841c95-f390-4056-ac35-02de299e44ef",
   "metadata": {},
   "outputs": [
    {
     "data": {
      "text/plain": [
       "<module 'matplotlib.pyplot' from '/Users/caoxiaowen/opt/anaconda3/envs/mfe-preprogram/lib/python3.8/site-packages/matplotlib/pyplot.py'>"
      ]
     },
     "execution_count": 174,
     "metadata": {},
     "output_type": "execute_result"
    },
    {
     "data": {
      "image/png": "[encoded data removed]",
      "text/plain": [
       "<Figure size 720x1080 with 3 Axes>"
      ]
     },
     "metadata": {
      "needs_background": "light"
     },
     "output_type": "display_data"
    }
   ],
   "source": [
    "fig, axes = plt.subplots(3, 1, figsize=(10, 15))\n",
    "\n",
    "title = \"Learning curves for ridge regression\"\n",
    "\n",
    "plot_learning_curve(\n",
    "    best_model, title, X, y, axes=axes, cv=cv, n_jobs=4, scoring=scorer\n",
    ")"
   ]
  },
  {
   "cell_type": "code",
   "execution_count": 176,
   "id": "2f7b5c8f-d928-40b2-9787-4f14ef795b1e",
   "metadata": {},
   "outputs": [],
   "source": [
    "pickle.dump(best_model, open('best_model.pkl', 'wb'))"
   ]
  },
  {
   "cell_type": "code",
   "execution_count": null,
   "id": "b93e73de-44ba-46e0-b4b5-56dd4d1e4230",
   "metadata": {},
   "outputs": [],
   "source": []
  }
 ],
 "metadata": {
  "kernelspec": {
   "display_name": "Python 3 (ipykernel)",
   "language": "python",
   "name": "python3"
  },
  "language_info": {
   "codemirror_mode": {
    "name": "ipython",
    "version": 3
   },
   "file_extension": ".py",
   "mimetype": "text/x-python",
   "name": "python",
   "nbconvert_exporter": "python",
   "pygments_lexer": "ipython3",
   "version": "3.8.12"
  }
 },
 "nbformat": 4,
 "nbformat_minor": 5
}
