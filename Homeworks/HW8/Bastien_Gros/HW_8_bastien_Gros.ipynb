{
 "cells": [
  {
   "cell_type": "markdown",
   "id": "aab4ef5c-3897-40d9-aef9-e8ae08f19e7c",
   "metadata": {},
   "source": [
    "## Firstly, let's import data ans set up need functions "
   ]
  },
  {
   "cell_type": "code",
   "execution_count": 68,
   "id": "a5e3877e-01f9-4a24-96ad-a614b10d33d0",
   "metadata": {},
   "outputs": [],
   "source": [
    "data_location = 'sqlite:///../../../data/data.db'"
   ]
  },
  {
   "cell_type": "code",
   "execution_count": 69,
   "id": "276bf9eb-250b-40ac-a018-680343562d88",
   "metadata": {},
   "outputs": [],
   "source": [
    "import pandas as pd\n",
    "import numpy as np\n",
    "import matplotlib.pyplot as plt\n",
    "from functools import reduce\n",
    "\n",
    "import pickle"
   ]
  },
  {
   "cell_type": "code",
   "execution_count": 70,
   "id": "8f63a5c1-221b-4dde-894c-7c168fa359f2",
   "metadata": {},
   "outputs": [],
   "source": [
    "def vol_ohlc(df, lookback=10):\n",
    "    o = df.open\n",
    "    h = df.high\n",
    "    l = df.low\n",
    "    c = df.close\n",
    "    \n",
    "    k = 0.34 / (1.34 + (lookback+1)/(lookback-1))\n",
    "    cc = np.log(c/c.shift(1))\n",
    "    ho = np.log(h/o)\n",
    "    lo = np.log(l/o)\n",
    "    co = np.log(c/o)\n",
    "    oc = np.log(o/c.shift(1))\n",
    "    oc_sq = oc**2\n",
    "    cc_sq = cc**2\n",
    "    rs = ho*(ho-co)+lo*(lo-co)\n",
    "    close_vol = cc_sq.rolling(lookback).sum() * (1.0 / (lookback - 1.0))\n",
    "    open_vol = oc_sq.rolling(lookback).sum() * (1.0 / (lookback - 1.0))\n",
    "    window_rs = rs.rolling(lookback).sum() * (1.0 / (lookback - 1.0))\n",
    "    result = (open_vol + k * close_vol + (1-k) * window_rs).apply(np.sqrt) * np.sqrt(252)\n",
    "    result[:lookback-1] = np.nan\n",
    "    \n",
    "    return result"
   ]
  },
  {
   "cell_type": "code",
   "execution_count": 71,
   "id": "d7c42d8d-c065-43c8-9396-02e4a6f29a12",
   "metadata": {},
   "outputs": [],
   "source": [
    "def plot_learning_curve(\n",
    "    estimator,\n",
    "    title,\n",
    "    X,\n",
    "    y,\n",
    "    axes=None,\n",
    "    ylim=None,\n",
    "    cv=None,\n",
    "    n_jobs=None,\n",
    "    train_sizes=np.linspace(0.1, 1.0, 5),\n",
    "    scoring=None\n",
    "):\n",
    "    if axes is None:\n",
    "        _, axes = plt.subplots(1, 3, figsize=(20, 5))\n",
    "\n",
    "    axes[0].set_title(title)\n",
    "    if ylim is not None:\n",
    "        axes[0].set_ylim(*ylim)\n",
    "    axes[0].set_xlabel(\"Training examples\")\n",
    "    axes[0].set_ylabel(\"Score\")\n",
    "\n",
    "    train_sizes, train_scores, test_scores, fit_times, _ = learning_curve(\n",
    "        estimator,\n",
    "        X,\n",
    "        y,\n",
    "        cv=cv,\n",
    "        n_jobs=n_jobs,\n",
    "        train_sizes=train_sizes,\n",
    "        return_times=True,\n",
    "        scoring=scoring,\n",
    "    )\n",
    "    train_scores_mean = np.mean(train_scores, axis=1)\n",
    "    train_scores_std = np.std(train_scores, axis=1)\n",
    "    test_scores_mean = np.mean(test_scores, axis=1)\n",
    "    test_scores_std = np.std(test_scores, axis=1)\n",
    "    fit_times_mean = np.mean(fit_times, axis=1)\n",
    "    fit_times_std = np.std(fit_times, axis=1)\n",
    "\n",
    "    # Plot learning curve\n",
    "    axes[0].grid()\n",
    "    axes[0].fill_between(\n",
    "        train_sizes,\n",
    "        train_scores_mean - train_scores_std,\n",
    "        train_scores_mean + train_scores_std,\n",
    "        alpha=0.1,\n",
    "        color=\"r\",\n",
    "    )\n",
    "    axes[0].fill_between(\n",
    "        train_sizes,\n",
    "        test_scores_mean - test_scores_std,\n",
    "        test_scores_mean + test_scores_std,\n",
    "        alpha=0.1,\n",
    "        color=\"g\",\n",
    "    )\n",
    "    axes[0].plot(\n",
    "        train_sizes, train_scores_mean, \"o-\", color=\"r\", label=\"Training score\"\n",
    "    )\n",
    "    axes[0].plot(\n",
    "        train_sizes, test_scores_mean, \"o-\", color=\"g\", label=\"Cross-validation score\"\n",
    "    )\n",
    "    axes[0].legend(loc=\"best\")\n",
    "\n",
    "    # Plot n_samples vs fit_times\n",
    "    axes[1].grid()\n",
    "    axes[1].plot(train_sizes, fit_times_mean, \"o-\")\n",
    "    axes[1].fill_between(\n",
    "        train_sizes,\n",
    "        fit_times_mean - fit_times_std,\n",
    "        fit_times_mean + fit_times_std,\n",
    "        alpha=0.1,\n",
    "    )\n",
    "    axes[1].set_xlabel(\"Training examples\")\n",
    "    axes[1].set_ylabel(\"fit_times\")\n",
    "    axes[1].set_title(\"Scalability of the model\")\n",
    "\n",
    "    # Plot fit_time vs score\n",
    "    fit_time_argsort = fit_times_mean.argsort()\n",
    "    fit_time_sorted = fit_times_mean[fit_time_argsort]\n",
    "    test_scores_mean_sorted = test_scores_mean[fit_time_argsort]\n",
    "    test_scores_std_sorted = test_scores_std[fit_time_argsort]\n",
    "    axes[2].grid()\n",
    "    axes[2].plot(fit_time_sorted, test_scores_mean_sorted, \"o-\")\n",
    "    axes[2].fill_between(\n",
    "        fit_time_sorted,\n",
    "        test_scores_mean_sorted - test_scores_std_sorted,\n",
    "        test_scores_mean_sorted + test_scores_std_sorted,\n",
    "        alpha=0.1,\n",
    "    )\n",
    "    axes[2].set_xlabel(\"fit_times\")\n",
    "    axes[2].set_ylabel(\"Score\")\n",
    "    axes[2].set_title(\"Performance of the model\")\n",
    "\n",
    "    return plt"
   ]
  },
  {
   "cell_type": "code",
   "execution_count": 72,
   "id": "b0f6c4ff-3150-41c5-b78f-03cbf1ead6a0",
   "metadata": {},
   "outputs": [
    {
     "data": {
      "text/plain": [
       "(11627, 9)"
      ]
     },
     "execution_count": 72,
     "metadata": {},
     "output_type": "execute_result"
    }
   ],
   "source": [
    "ohlc = pd.read_sql('SELECT * FROM ohlc', data_location)\n",
    "ohlc.shape"
   ]
  },
  {
   "cell_type": "code",
   "execution_count": 73,
   "id": "35e1c61a-5171-49ce-b6ed-77beae754795",
   "metadata": {},
   "outputs": [
    {
     "data": {
      "text/html": [
       "<div>\n",
       "<style scoped>\n",
       "    .dataframe tbody tr th:only-of-type {\n",
       "        vertical-align: middle;\n",
       "    }\n",
       "\n",
       "    .dataframe tbody tr th {\n",
       "        vertical-align: top;\n",
       "    }\n",
       "\n",
       "    .dataframe thead th {\n",
       "        text-align: right;\n",
       "    }\n",
       "</style>\n",
       "<table border=\"1\" class=\"dataframe\">\n",
       "  <thead>\n",
       "    <tr style=\"text-align: right;\">\n",
       "      <th></th>\n",
       "      <th>ts</th>\n",
       "      <th>open</th>\n",
       "      <th>high</th>\n",
       "      <th>low</th>\n",
       "      <th>close</th>\n",
       "      <th>volume</th>\n",
       "      <th>volumeUSD</th>\n",
       "      <th>token</th>\n",
       "      <th>chain</th>\n",
       "    </tr>\n",
       "  </thead>\n",
       "  <tbody>\n",
       "    <tr>\n",
       "      <th>0</th>\n",
       "      <td>2021-11-01 00:00:00</td>\n",
       "      <td>61421.37</td>\n",
       "      <td>61669.14</td>\n",
       "      <td>61239.60</td>\n",
       "      <td>61343.68</td>\n",
       "      <td>256.433869</td>\n",
       "      <td>1.575751e+07</td>\n",
       "      <td>BTC</td>\n",
       "      <td>BTC</td>\n",
       "    </tr>\n",
       "    <tr>\n",
       "      <th>1</th>\n",
       "      <td>2021-11-01 01:00:00</td>\n",
       "      <td>61346.17</td>\n",
       "      <td>61709.82</td>\n",
       "      <td>61171.22</td>\n",
       "      <td>61610.93</td>\n",
       "      <td>332.481185</td>\n",
       "      <td>2.044558e+07</td>\n",
       "      <td>BTC</td>\n",
       "      <td>BTC</td>\n",
       "    </tr>\n",
       "    <tr>\n",
       "      <th>2</th>\n",
       "      <td>2021-11-01 02:00:00</td>\n",
       "      <td>61610.94</td>\n",
       "      <td>61779.87</td>\n",
       "      <td>61299.89</td>\n",
       "      <td>61333.17</td>\n",
       "      <td>314.250720</td>\n",
       "      <td>1.935390e+07</td>\n",
       "      <td>BTC</td>\n",
       "      <td>BTC</td>\n",
       "    </tr>\n",
       "    <tr>\n",
       "      <th>3</th>\n",
       "      <td>2021-11-01 03:00:00</td>\n",
       "      <td>61333.17</td>\n",
       "      <td>61457.28</td>\n",
       "      <td>60050.00</td>\n",
       "      <td>60589.06</td>\n",
       "      <td>1059.931358</td>\n",
       "      <td>6.414625e+07</td>\n",
       "      <td>BTC</td>\n",
       "      <td>BTC</td>\n",
       "    </tr>\n",
       "    <tr>\n",
       "      <th>4</th>\n",
       "      <td>2021-11-01 04:00:00</td>\n",
       "      <td>60590.23</td>\n",
       "      <td>60655.00</td>\n",
       "      <td>59752.92</td>\n",
       "      <td>59971.89</td>\n",
       "      <td>621.419878</td>\n",
       "      <td>3.744744e+07</td>\n",
       "      <td>BTC</td>\n",
       "      <td>BTC</td>\n",
       "    </tr>\n",
       "  </tbody>\n",
       "</table>\n",
       "</div>"
      ],
      "text/plain": [
       "                    ts      open      high       low     close       volume  \\\n",
       "0  2021-11-01 00:00:00  61421.37  61669.14  61239.60  61343.68   256.433869   \n",
       "1  2021-11-01 01:00:00  61346.17  61709.82  61171.22  61610.93   332.481185   \n",
       "2  2021-11-01 02:00:00  61610.94  61779.87  61299.89  61333.17   314.250720   \n",
       "3  2021-11-01 03:00:00  61333.17  61457.28  60050.00  60589.06  1059.931358   \n",
       "4  2021-11-01 04:00:00  60590.23  60655.00  59752.92  59971.89   621.419878   \n",
       "\n",
       "      volumeUSD token chain  \n",
       "0  1.575751e+07   BTC   BTC  \n",
       "1  2.044558e+07   BTC   BTC  \n",
       "2  1.935390e+07   BTC   BTC  \n",
       "3  6.414625e+07   BTC   BTC  \n",
       "4  3.744744e+07   BTC   BTC  "
      ]
     },
     "execution_count": 73,
     "metadata": {},
     "output_type": "execute_result"
    }
   ],
   "source": [
    "ohlc.head()"
   ]
  },
  {
   "cell_type": "code",
   "execution_count": 74,
   "id": "7ce32c6a-5dd3-479a-b603-510f7eb6105b",
   "metadata": {},
   "outputs": [
    {
     "data": {
      "text/html": [
       "<div>\n",
       "<style scoped>\n",
       "    .dataframe tbody tr th:only-of-type {\n",
       "        vertical-align: middle;\n",
       "    }\n",
       "\n",
       "    .dataframe tbody tr th {\n",
       "        vertical-align: top;\n",
       "    }\n",
       "\n",
       "    .dataframe thead th {\n",
       "        text-align: right;\n",
       "    }\n",
       "</style>\n",
       "<table border=\"1\" class=\"dataframe\">\n",
       "  <thead>\n",
       "    <tr style=\"text-align: right;\">\n",
       "      <th></th>\n",
       "      <th>open</th>\n",
       "      <th>high</th>\n",
       "      <th>low</th>\n",
       "      <th>close</th>\n",
       "      <th>volume</th>\n",
       "      <th>volumeUSD</th>\n",
       "    </tr>\n",
       "  </thead>\n",
       "  <tbody>\n",
       "    <tr>\n",
       "      <th>count</th>\n",
       "      <td>11627.000000</td>\n",
       "      <td>11627.000000</td>\n",
       "      <td>11627.000000</td>\n",
       "      <td>11627.000000</td>\n",
       "      <td>1.162700e+04</td>\n",
       "      <td>1.162700e+04</td>\n",
       "    </tr>\n",
       "    <tr>\n",
       "      <th>mean</th>\n",
       "      <td>5708.198992</td>\n",
       "      <td>5737.512791</td>\n",
       "      <td>5676.641523</td>\n",
       "      <td>5706.967946</td>\n",
       "      <td>7.782893e+05</td>\n",
       "      <td>9.847622e+06</td>\n",
       "    </tr>\n",
       "    <tr>\n",
       "      <th>std</th>\n",
       "      <td>16518.161143</td>\n",
       "      <td>16599.532113</td>\n",
       "      <td>16430.972527</td>\n",
       "      <td>16514.731530</td>\n",
       "      <td>2.057505e+06</td>\n",
       "      <td>1.769057e+07</td>\n",
       "    </tr>\n",
       "    <tr>\n",
       "      <th>min</th>\n",
       "      <td>0.999900</td>\n",
       "      <td>1.000000</td>\n",
       "      <td>0.995100</td>\n",
       "      <td>0.999900</td>\n",
       "      <td>6.713000e+00</td>\n",
       "      <td>1.960784e+03</td>\n",
       "    </tr>\n",
       "    <tr>\n",
       "      <th>25%</th>\n",
       "      <td>4.555900</td>\n",
       "      <td>4.611000</td>\n",
       "      <td>4.496050</td>\n",
       "      <td>4.554350</td>\n",
       "      <td>2.565695e+03</td>\n",
       "      <td>9.664755e+05</td>\n",
       "    </tr>\n",
       "    <tr>\n",
       "      <th>50%</th>\n",
       "      <td>92.590000</td>\n",
       "      <td>93.710000</td>\n",
       "      <td>91.000000</td>\n",
       "      <td>92.600000</td>\n",
       "      <td>4.624230e+04</td>\n",
       "      <td>3.420994e+06</td>\n",
       "    </tr>\n",
       "    <tr>\n",
       "      <th>75%</th>\n",
       "      <td>307.924500</td>\n",
       "      <td>309.700000</td>\n",
       "      <td>305.501000</td>\n",
       "      <td>307.796500</td>\n",
       "      <td>1.768436e+05</td>\n",
       "      <td>1.068309e+07</td>\n",
       "    </tr>\n",
       "    <tr>\n",
       "      <th>max</th>\n",
       "      <td>68638.470000</td>\n",
       "      <td>69000.000000</td>\n",
       "      <td>68456.500000</td>\n",
       "      <td>68639.630000</td>\n",
       "      <td>3.978895e+07</td>\n",
       "      <td>3.988035e+08</td>\n",
       "    </tr>\n",
       "  </tbody>\n",
       "</table>\n",
       "</div>"
      ],
      "text/plain": [
       "               open          high           low         close        volume  \\\n",
       "count  11627.000000  11627.000000  11627.000000  11627.000000  1.162700e+04   \n",
       "mean    5708.198992   5737.512791   5676.641523   5706.967946  7.782893e+05   \n",
       "std    16518.161143  16599.532113  16430.972527  16514.731530  2.057505e+06   \n",
       "min        0.999900      1.000000      0.995100      0.999900  6.713000e+00   \n",
       "25%        4.555900      4.611000      4.496050      4.554350  2.565695e+03   \n",
       "50%       92.590000     93.710000     91.000000     92.600000  4.624230e+04   \n",
       "75%      307.924500    309.700000    305.501000    307.796500  1.768436e+05   \n",
       "max    68638.470000  69000.000000  68456.500000  68639.630000  3.978895e+07   \n",
       "\n",
       "          volumeUSD  \n",
       "count  1.162700e+04  \n",
       "mean   9.847622e+06  \n",
       "std    1.769057e+07  \n",
       "min    1.960784e+03  \n",
       "25%    9.664755e+05  \n",
       "50%    3.420994e+06  \n",
       "75%    1.068309e+07  \n",
       "max    3.988035e+08  "
      ]
     },
     "execution_count": 74,
     "metadata": {},
     "output_type": "execute_result"
    }
   ],
   "source": [
    "ohlc.describe()"
   ]
  },
  {
   "cell_type": "markdown",
   "id": "225c9e69-5ebb-44d4-9da5-6b437f3776d9",
   "metadata": {},
   "source": [
    "## Data Formatting"
   ]
  },
  {
   "cell_type": "markdown",
   "id": "a6e1a379-5050-49f5-809a-002821e91642",
   "metadata": {},
   "source": [
    "We import the function used during previous HW and results seems improving with !"
   ]
  },
  {
   "cell_type": "code",
   "execution_count": 75,
   "id": "e22270f5-3e8f-43ed-bfd1-a2c768dff848",
   "metadata": {},
   "outputs": [],
   "source": [
    "def drawdown(df):\n",
    "    peak = df['high'].cummax()\n",
    "    gap_vs_peak = peak - df['low']\n",
    "    max_drawdown = gap_vs_peak.cummax()\n",
    "    return max_drawdown"
   ]
  },
  {
   "cell_type": "code",
   "execution_count": 76,
   "id": "b4b665f1-e43d-49fb-9862-adc01f89ebca",
   "metadata": {},
   "outputs": [
    {
     "data": {
      "text/plain": [
       "array(['BTC', 'ETH', 'USDT', 'SOL', 'ADA', 'DOT', 'AVAX', 'ATOM', 'CRV',\n",
       "       'AAVE', 'COMP'], dtype=object)"
      ]
     },
     "execution_count": 76,
     "metadata": {},
     "output_type": "execute_result"
    }
   ],
   "source": [
    "tokens = ohlc.token.unique()\n",
    "tokens"
   ]
  },
  {
   "cell_type": "code",
   "execution_count": 77,
   "id": "6f9cf2dd-0b74-4f50-a120-1204a61cec29",
   "metadata": {},
   "outputs": [],
   "source": [
    "def df_merge(left, right):\n",
    "    return pd.merge(left, right, on='ts', how='inner')\n",
    "\n",
    "X = reduce(df_merge, [\n",
    "    (lambda df: \n",
    "    (\n",
    "        df\n",
    "        .assign(\n",
    "            vol=vol_ohlc(df).fillna(0),\n",
    "            ret=df.close.pct_change(),\n",
    "            dd = drawdown(df)\n",
    "        )[['ts', 'vol', 'ret','dd']]\n",
    "        .rename(columns={\n",
    "            col: f'{col}_{token}' for col in ['ts', 'vol', 'ret','dd'] if col != 'ts'\n",
    "        })\n",
    "    ))(ohlc[ohlc.token == token])\n",
    "    for token in tokens\n",
    "]).set_index('ts')"
   ]
  },
  {
   "cell_type": "markdown",
   "id": "6a836f13-9adb-49f3-9d36-3a1edb293969",
   "metadata": {},
   "source": [
    "We create a memory of the last 6h in volatility and in returns : "
   ]
  },
  {
   "cell_type": "code",
   "execution_count": 78,
   "id": "bca739e4-5f62-4556-a73f-67035552303a",
   "metadata": {},
   "outputs": [],
   "source": [
    "for token in tokens :\n",
    "    X[f'return_6h_{token}']=(X[f'ret_{token}']).rolling(6).mean()\n",
    "    X[f'vol_6h_{token}']=(X[f'vol_{token}']).rolling(6).mean()"
   ]
  },
  {
   "cell_type": "code",
   "execution_count": 79,
   "id": "f0d3d57d-2940-4ffc-a29c-5f988d0d0097",
   "metadata": {},
   "outputs": [
    {
     "data": {
      "text/html": [
       "<div>\n",
       "<style scoped>\n",
       "    .dataframe tbody tr th:only-of-type {\n",
       "        vertical-align: middle;\n",
       "    }\n",
       "\n",
       "    .dataframe tbody tr th {\n",
       "        vertical-align: top;\n",
       "    }\n",
       "\n",
       "    .dataframe thead th {\n",
       "        text-align: right;\n",
       "    }\n",
       "</style>\n",
       "<table border=\"1\" class=\"dataframe\">\n",
       "  <thead>\n",
       "    <tr style=\"text-align: right;\">\n",
       "      <th></th>\n",
       "      <th>vol_BTC</th>\n",
       "      <th>ret_BTC</th>\n",
       "      <th>dd_BTC</th>\n",
       "      <th>vol_ETH</th>\n",
       "      <th>ret_ETH</th>\n",
       "      <th>dd_ETH</th>\n",
       "      <th>vol_USDT</th>\n",
       "      <th>ret_USDT</th>\n",
       "      <th>dd_USDT</th>\n",
       "      <th>vol_SOL</th>\n",
       "      <th>...</th>\n",
       "      <th>return_6h_AVAX</th>\n",
       "      <th>vol_6h_AVAX</th>\n",
       "      <th>return_6h_ATOM</th>\n",
       "      <th>vol_6h_ATOM</th>\n",
       "      <th>return_6h_CRV</th>\n",
       "      <th>vol_6h_CRV</th>\n",
       "      <th>return_6h_AAVE</th>\n",
       "      <th>vol_6h_AAVE</th>\n",
       "      <th>return_6h_COMP</th>\n",
       "      <th>vol_6h_COMP</th>\n",
       "    </tr>\n",
       "    <tr>\n",
       "      <th>ts</th>\n",
       "      <th></th>\n",
       "      <th></th>\n",
       "      <th></th>\n",
       "      <th></th>\n",
       "      <th></th>\n",
       "      <th></th>\n",
       "      <th></th>\n",
       "      <th></th>\n",
       "      <th></th>\n",
       "      <th></th>\n",
       "      <th></th>\n",
       "      <th></th>\n",
       "      <th></th>\n",
       "      <th></th>\n",
       "      <th></th>\n",
       "      <th></th>\n",
       "      <th></th>\n",
       "      <th></th>\n",
       "      <th></th>\n",
       "      <th></th>\n",
       "      <th></th>\n",
       "    </tr>\n",
       "  </thead>\n",
       "  <tbody>\n",
       "    <tr>\n",
       "      <th>2021-12-14 20:00:00</th>\n",
       "      <td>0.136358</td>\n",
       "      <td>0.004810</td>\n",
       "      <td>26667.0</td>\n",
       "      <td>0.158369</td>\n",
       "      <td>0.005961</td>\n",
       "      <td>1292.81</td>\n",
       "      <td>0.002463</td>\n",
       "      <td>0.0001</td>\n",
       "      <td>0.025</td>\n",
       "      <td>0.216740</td>\n",
       "      <td>...</td>\n",
       "      <td>-0.002307</td>\n",
       "      <td>0.226308</td>\n",
       "      <td>-0.002173</td>\n",
       "      <td>0.239803</td>\n",
       "      <td>-0.002988</td>\n",
       "      <td>0.255514</td>\n",
       "      <td>0.000192</td>\n",
       "      <td>0.191469</td>\n",
       "      <td>-0.004593</td>\n",
       "      <td>0.263387</td>\n",
       "    </tr>\n",
       "    <tr>\n",
       "      <th>2021-12-14 21:00:00</th>\n",
       "      <td>0.142237</td>\n",
       "      <td>0.019797</td>\n",
       "      <td>26667.0</td>\n",
       "      <td>0.170096</td>\n",
       "      <td>0.016737</td>\n",
       "      <td>1292.81</td>\n",
       "      <td>0.002652</td>\n",
       "      <td>0.0000</td>\n",
       "      <td>0.025</td>\n",
       "      <td>0.218492</td>\n",
       "      <td>...</td>\n",
       "      <td>-0.000385</td>\n",
       "      <td>0.230342</td>\n",
       "      <td>0.000502</td>\n",
       "      <td>0.244397</td>\n",
       "      <td>0.000061</td>\n",
       "      <td>0.255367</td>\n",
       "      <td>0.003321</td>\n",
       "      <td>0.200039</td>\n",
       "      <td>-0.003830</td>\n",
       "      <td>0.271155</td>\n",
       "    </tr>\n",
       "    <tr>\n",
       "      <th>2021-12-14 22:00:00</th>\n",
       "      <td>0.151148</td>\n",
       "      <td>0.010414</td>\n",
       "      <td>26667.0</td>\n",
       "      <td>0.172081</td>\n",
       "      <td>0.004623</td>\n",
       "      <td>1292.81</td>\n",
       "      <td>0.002684</td>\n",
       "      <td>0.0000</td>\n",
       "      <td>0.025</td>\n",
       "      <td>0.246122</td>\n",
       "      <td>...</td>\n",
       "      <td>0.005605</td>\n",
       "      <td>0.238851</td>\n",
       "      <td>0.003661</td>\n",
       "      <td>0.248707</td>\n",
       "      <td>0.006013</td>\n",
       "      <td>0.257241</td>\n",
       "      <td>0.005837</td>\n",
       "      <td>0.206283</td>\n",
       "      <td>0.000628</td>\n",
       "      <td>0.274657</td>\n",
       "    </tr>\n",
       "    <tr>\n",
       "      <th>2021-12-14 23:00:00</th>\n",
       "      <td>0.149424</td>\n",
       "      <td>-0.000302</td>\n",
       "      <td>26667.0</td>\n",
       "      <td>0.170257</td>\n",
       "      <td>-0.003195</td>\n",
       "      <td>1292.81</td>\n",
       "      <td>0.002823</td>\n",
       "      <td>0.0001</td>\n",
       "      <td>0.025</td>\n",
       "      <td>0.238235</td>\n",
       "      <td>...</td>\n",
       "      <td>0.010672</td>\n",
       "      <td>0.252972</td>\n",
       "      <td>0.001832</td>\n",
       "      <td>0.250306</td>\n",
       "      <td>0.003573</td>\n",
       "      <td>0.261020</td>\n",
       "      <td>0.004672</td>\n",
       "      <td>0.211553</td>\n",
       "      <td>0.000475</td>\n",
       "      <td>0.277878</td>\n",
       "    </tr>\n",
       "    <tr>\n",
       "      <th>2021-12-15 00:00:00</th>\n",
       "      <td>0.143079</td>\n",
       "      <td>-0.001448</td>\n",
       "      <td>26667.0</td>\n",
       "      <td>0.159883</td>\n",
       "      <td>-0.000641</td>\n",
       "      <td>1292.81</td>\n",
       "      <td>0.002816</td>\n",
       "      <td>0.0000</td>\n",
       "      <td>0.025</td>\n",
       "      <td>0.228867</td>\n",
       "      <td>...</td>\n",
       "      <td>0.013024</td>\n",
       "      <td>0.264060</td>\n",
       "      <td>0.001993</td>\n",
       "      <td>0.249361</td>\n",
       "      <td>0.004584</td>\n",
       "      <td>0.259686</td>\n",
       "      <td>0.005152</td>\n",
       "      <td>0.214920</td>\n",
       "      <td>0.003473</td>\n",
       "      <td>0.274062</td>\n",
       "    </tr>\n",
       "  </tbody>\n",
       "</table>\n",
       "<p>5 rows × 55 columns</p>\n",
       "</div>"
      ],
      "text/plain": [
       "                      vol_BTC   ret_BTC   dd_BTC   vol_ETH   ret_ETH   dd_ETH  \\\n",
       "ts                                                                              \n",
       "2021-12-14 20:00:00  0.136358  0.004810  26667.0  0.158369  0.005961  1292.81   \n",
       "2021-12-14 21:00:00  0.142237  0.019797  26667.0  0.170096  0.016737  1292.81   \n",
       "2021-12-14 22:00:00  0.151148  0.010414  26667.0  0.172081  0.004623  1292.81   \n",
       "2021-12-14 23:00:00  0.149424 -0.000302  26667.0  0.170257 -0.003195  1292.81   \n",
       "2021-12-15 00:00:00  0.143079 -0.001448  26667.0  0.159883 -0.000641  1292.81   \n",
       "\n",
       "                     vol_USDT  ret_USDT  dd_USDT   vol_SOL  ...  \\\n",
       "ts                                                          ...   \n",
       "2021-12-14 20:00:00  0.002463    0.0001    0.025  0.216740  ...   \n",
       "2021-12-14 21:00:00  0.002652    0.0000    0.025  0.218492  ...   \n",
       "2021-12-14 22:00:00  0.002684    0.0000    0.025  0.246122  ...   \n",
       "2021-12-14 23:00:00  0.002823    0.0001    0.025  0.238235  ...   \n",
       "2021-12-15 00:00:00  0.002816    0.0000    0.025  0.228867  ...   \n",
       "\n",
       "                     return_6h_AVAX  vol_6h_AVAX  return_6h_ATOM  vol_6h_ATOM  \\\n",
       "ts                                                                              \n",
       "2021-12-14 20:00:00       -0.002307     0.226308       -0.002173     0.239803   \n",
       "2021-12-14 21:00:00       -0.000385     0.230342        0.000502     0.244397   \n",
       "2021-12-14 22:00:00        0.005605     0.238851        0.003661     0.248707   \n",
       "2021-12-14 23:00:00        0.010672     0.252972        0.001832     0.250306   \n",
       "2021-12-15 00:00:00        0.013024     0.264060        0.001993     0.249361   \n",
       "\n",
       "                     return_6h_CRV  vol_6h_CRV  return_6h_AAVE  vol_6h_AAVE  \\\n",
       "ts                                                                            \n",
       "2021-12-14 20:00:00      -0.002988    0.255514        0.000192     0.191469   \n",
       "2021-12-14 21:00:00       0.000061    0.255367        0.003321     0.200039   \n",
       "2021-12-14 22:00:00       0.006013    0.257241        0.005837     0.206283   \n",
       "2021-12-14 23:00:00       0.003573    0.261020        0.004672     0.211553   \n",
       "2021-12-15 00:00:00       0.004584    0.259686        0.005152     0.214920   \n",
       "\n",
       "                     return_6h_COMP  vol_6h_COMP  \n",
       "ts                                                \n",
       "2021-12-14 20:00:00       -0.004593     0.263387  \n",
       "2021-12-14 21:00:00       -0.003830     0.271155  \n",
       "2021-12-14 22:00:00        0.000628     0.274657  \n",
       "2021-12-14 23:00:00        0.000475     0.277878  \n",
       "2021-12-15 00:00:00        0.003473     0.274062  \n",
       "\n",
       "[5 rows x 55 columns]"
      ]
     },
     "execution_count": 79,
     "metadata": {},
     "output_type": "execute_result"
    }
   ],
   "source": [
    "X.tail()"
   ]
  },
  {
   "cell_type": "markdown",
   "id": "aec87a0d-7c52-496d-a8ac-a03c9b8352dc",
   "metadata": {},
   "source": [
    "We separate X and y variables ans get rid of the first 6 observations to have our mean :"
   ]
  },
  {
   "cell_type": "code",
   "execution_count": 80,
   "id": "464f0712-d55b-403a-a809-bad06be71836",
   "metadata": {},
   "outputs": [],
   "source": [
    "y = X.ret_SOL.shift(-1)[6:-1]\n",
    "X = X[6:-1]"
   ]
  },
  {
   "cell_type": "code",
   "execution_count": 81,
   "id": "2e04ec60-7501-42bd-9a98-dc8fdca61bd0",
   "metadata": {},
   "outputs": [
    {
     "data": {
      "text/plain": [
       "(1050, 55)"
      ]
     },
     "execution_count": 81,
     "metadata": {},
     "output_type": "execute_result"
    }
   ],
   "source": [
    "X.shape"
   ]
  },
  {
   "cell_type": "code",
   "execution_count": 82,
   "id": "b2b1bc95-eab0-4d35-9324-35305efbe309",
   "metadata": {},
   "outputs": [],
   "source": [
    "from pandas.plotting import scatter_matrix, autocorrelation_plot"
   ]
  },
  {
   "cell_type": "code",
   "execution_count": 83,
   "id": "266a276f-001a-45bd-bb45-458e34710f02",
   "metadata": {},
   "outputs": [
    {
     "data": {
      "text/plain": [
       "<AxesSubplot:xlabel='Lag', ylabel='Autocorrelation'>"
      ]
     },
     "execution_count": 83,
     "metadata": {},
     "output_type": "execute_result"
    },
    {
     "data": {
      "image/png": "[encoded data removed]",
      "text/plain": [
       "<Figure size 432x288 with 1 Axes>"
      ]
     },
     "metadata": {
      "needs_background": "light"
     },
     "output_type": "display_data"
    }
   ],
   "source": [
    "autocorrelation_plot(y[1:])"
   ]
  },
  {
   "cell_type": "markdown",
   "id": "9b6759ed-ce87-4dfe-ba8c-64ff3f278bc9",
   "metadata": {},
   "source": [
    "As seen in class, we do not have a strong autocorrelation."
   ]
  },
  {
   "cell_type": "code",
   "execution_count": 84,
   "id": "1f773b57-6aa8-4c61-922f-f7f74cced222",
   "metadata": {},
   "outputs": [
    {
     "data": {
      "text/plain": [
       "{'vol_BTC': 0.029724615398938288,\n",
       " 'ret_BTC': -0.014424219219309933,\n",
       " 'dd_BTC': -0.033620984217379225,\n",
       " 'vol_ETH': 0.0249314726088943,\n",
       " 'ret_ETH': 0.030489869525307953,\n",
       " 'dd_ETH': -0.0368428414759475,\n",
       " 'vol_USDT': 0.0071256549165129406,\n",
       " 'ret_USDT': -0.04629384647184024,\n",
       " 'dd_USDT': -0.04213987353937439,\n",
       " 'vol_SOL': 0.036578281943385776,\n",
       " 'ret_SOL': -0.03014677286267807,\n",
       " 'dd_SOL': -0.026006038638417443,\n",
       " 'vol_ADA': 0.04028574990601973,\n",
       " 'ret_ADA': -0.0006875531162812079,\n",
       " 'dd_ADA': -0.032928670774224816,\n",
       " 'vol_DOT': 0.060850688157399135,\n",
       " 'ret_DOT': 0.008614198716246912,\n",
       " 'dd_DOT': -0.03418217937896658,\n",
       " 'vol_AVAX': 0.0435288136100949,\n",
       " 'ret_AVAX': 0.0161548595917745,\n",
       " 'dd_AVAX': -0.033487771112617123,\n",
       " 'vol_ATOM': -0.0015038469754492152,\n",
       " 'ret_ATOM': 0.05370589354217922,\n",
       " 'dd_ATOM': -0.03399733390690427,\n",
       " 'vol_CRV': 0.021139109616167825,\n",
       " 'ret_CRV': -0.009301375921279937,\n",
       " 'dd_CRV': -0.03679647666589197,\n",
       " 'vol_AAVE': 0.03732673752793822,\n",
       " 'ret_AAVE': 0.01944369225891374,\n",
       " 'dd_AAVE': -0.03270903515569913,\n",
       " 'vol_COMP': 0.0616664224752001,\n",
       " 'ret_COMP': 0.0198267296865447,\n",
       " 'dd_COMP': -0.0354095150863754,\n",
       " 'return_6h_BTC': -0.01321984830112783,\n",
       " 'vol_6h_BTC': 0.04148722437018072,\n",
       " 'return_6h_ETH': 0.0070773086010015255,\n",
       " 'vol_6h_ETH': 0.03494029385290517,\n",
       " 'return_6h_USDT': -0.035036801763382114,\n",
       " 'vol_6h_USDT': 0.005197901594699376,\n",
       " 'return_6h_SOL': -0.021624503388366544,\n",
       " 'vol_6h_SOL': 0.043307453835679584,\n",
       " 'return_6h_ADA': 0.005616413559295273,\n",
       " 'vol_6h_ADA': 0.044639308307024964,\n",
       " 'return_6h_DOT': -0.02019518876042671,\n",
       " 'vol_6h_DOT': 0.06664054423032428,\n",
       " 'return_6h_AVAX': -0.016461751918368996,\n",
       " 'vol_6h_AVAX': 0.03958461060347027,\n",
       " 'return_6h_ATOM': -0.02127959610399303,\n",
       " 'vol_6h_ATOM': -0.0014893596402481368,\n",
       " 'return_6h_CRV': -0.03634112547617415,\n",
       " 'vol_6h_CRV': 0.03017593695483544,\n",
       " 'return_6h_AAVE': -0.006052827861363146,\n",
       " 'vol_6h_AAVE': 0.04941476294418226,\n",
       " 'return_6h_COMP': -0.006705950711947142,\n",
       " 'vol_6h_COMP': 0.06794011528588921}"
      ]
     },
     "execution_count": 84,
     "metadata": {},
     "output_type": "execute_result"
    }
   ],
   "source": [
    "{col: y.corr(X[col]) for col in X.columns if X[col].dtype != 'object'}"
   ]
  },
  {
   "cell_type": "markdown",
   "id": "ce0e12c8-7245-41b0-bdd0-8ee5e41da01a",
   "metadata": {},
   "source": [
    "## Find the better model"
   ]
  },
  {
   "cell_type": "code",
   "execution_count": 85,
   "id": "fe335e97-27c5-4599-b77d-57c3e254067d",
   "metadata": {},
   "outputs": [],
   "source": [
    "from sklearn.preprocessing import StandardScaler, RobustScaler\n",
    "from sklearn.preprocessing import QuantileTransformer\n",
    "from sklearn.decomposition import PCA\n",
    "from sklearn.impute import SimpleImputer\n",
    "\n",
    "from sklearn.base import BaseEstimator, TransformerMixin\n",
    "from sklearn.pipeline import Pipeline\n",
    "from sklearn.compose import ColumnTransformer\n",
    "\n",
    "from sklearn.tree import DecisionTreeRegressor\n",
    "from sklearn.ensemble import RandomForestRegressor\n",
    "from sklearn.linear_model import Ridge, Lasso\n",
    "\n",
    "from sklearn.model_selection import cross_validate\n",
    "from sklearn.model_selection import TimeSeriesSplit\n",
    "from sklearn.metrics import mean_squared_error, make_scorer\n",
    "\n",
    "from sklearn.model_selection import learning_curve"
   ]
  },
  {
   "cell_type": "code",
   "execution_count": 86,
   "id": "f4a8bc95-8a17-4b12-946c-bcb48bdcf965",
   "metadata": {},
   "outputs": [],
   "source": [
    "class FeatureSelector(BaseEstimator, TransformerMixin):\n",
    "    def __init__(self, columns):\n",
    "        self.columns = columns\n",
    "        \n",
    "    def fit(self, X, y=None):\n",
    "        return self\n",
    "    \n",
    "    def transform(self, X):\n",
    "        return X[self.columns]\n"
   ]
  },
  {
   "cell_type": "code",
   "execution_count": 87,
   "id": "5b6da0b2-330f-4d7a-b109-2293517d2f12",
   "metadata": {},
   "outputs": [],
   "source": [
    "def evaluate_model(model, X, y, test_size=0.2):\n",
    "    cv = TimeSeriesSplit(n_splits=int(y.shape[0] * test_size)-3, test_size=1)\n",
    "    scorer = make_scorer(mean_squared_error, greater_is_better=False, squared=False)\n",
    "    \n",
    "    return np.mean(cross_validate(model, X, y, cv=cv, scoring=scorer, n_jobs=-1)['test_score'])"
   ]
  },
  {
   "cell_type": "code",
   "execution_count": 88,
   "id": "e63d9925-798a-4e5f-bfbe-6ae3bcac354e",
   "metadata": {},
   "outputs": [],
   "source": [
    "pipeline = Pipeline([\n",
    "    ('impute', SimpleImputer(missing_values=np.nan, strategy='constant', fill_value=0.)),\n",
    "    ('scale', StandardScaler()),\n",
    "    ('pca', PCA()),\n",
    "    ('model', Ridge())\n",
    "])"
   ]
  },
  {
   "cell_type": "code",
   "execution_count": 89,
   "id": "e0217498-2365-4547-afcc-1904799fcb58",
   "metadata": {},
   "outputs": [
    {
     "data": {
      "text/plain": [
       "GridSearchCV(cv=TimeSeriesSplit(gap=0, max_train_size=None, n_splits=210, test_size=1),\n",
       "             estimator=Pipeline(steps=[('impute',\n",
       "                                        SimpleImputer(fill_value=0.0,\n",
       "                                                      strategy='constant')),\n",
       "                                       ('scale', StandardScaler()),\n",
       "                                       ('pca', PCA()), ('model', Ridge())]),\n",
       "             n_jobs=-1,\n",
       "             param_grid={'model__alpha': [0.01, 0.033, 0.066, 0.1, 0.33, 0.66,\n",
       "                                          1.0],\n",
       "                         'pca__n_components': [1, 2, 3, 4, 5, 7, 10, 20, 30, 40,\n",
       "                                               50]},\n",
       "             scoring=make_scorer(mean_squared_error, greater_is_better=False, squared=False))"
      ]
     },
     "execution_count": 89,
     "metadata": {},
     "output_type": "execute_result"
    }
   ],
   "source": [
    "from sklearn.model_selection import GridSearchCV\n",
    "\n",
    "pipeline = Pipeline([\n",
    "    ('impute', SimpleImputer(missing_values=np.nan, strategy='constant', fill_value=0.)),\n",
    "    ('scale', StandardScaler()),\n",
    "    ('pca', PCA()),\n",
    "    ('model', Ridge())\n",
    "])\n",
    "\n",
    "test_size = 0.2\n",
    "cv = TimeSeriesSplit(n_splits=int(y.shape[0] * test_size), test_size=1)\n",
    "scorer = make_scorer(mean_squared_error, greater_is_better=False, squared=False)\n",
    "\n",
    "search = GridSearchCV(pipeline, {\n",
    "    'pca__n_components': [1, 2, 3,4,5, 7,10, 20, 30, 40, 50],\n",
    "    'model__alpha': [0.01,0.033,0.066,0.1, 0.33, 0.66, 1.]\n",
    "}, scoring=scorer, refit=True, cv=cv, n_jobs=-1)\n",
    "search.fit(X, y)"
   ]
  },
  {
   "cell_type": "code",
   "execution_count": 90,
   "id": "4de7695c-b2d9-4efd-a1dd-7f774585bf45",
   "metadata": {},
   "outputs": [
    {
     "data": {
      "text/plain": [
       "{'model__alpha': 0.01, 'pca__n_components': 3}"
      ]
     },
     "execution_count": 90,
     "metadata": {},
     "output_type": "execute_result"
    }
   ],
   "source": [
    "search.best_params_"
   ]
  },
  {
   "cell_type": "code",
   "execution_count": 91,
   "id": "e259502f-a6a5-4bed-9e60-d4f4738abefa",
   "metadata": {},
   "outputs": [],
   "source": [
    "best_model = search.best_estimator_"
   ]
  },
  {
   "cell_type": "code",
   "execution_count": 92,
   "id": "08cf58cf-c756-47a4-a5ce-71934c50df4e",
   "metadata": {},
   "outputs": [
    {
     "data": {
      "text/plain": [
       "-0.00843374324207387"
      ]
     },
     "execution_count": 92,
     "metadata": {},
     "output_type": "execute_result"
    }
   ],
   "source": [
    "evaluate_model(best_model, X, y)"
   ]
  },
  {
   "cell_type": "code",
   "execution_count": 93,
   "id": "99b06a64-382a-4be9-b074-53cacca8fed1",
   "metadata": {},
   "outputs": [
    {
     "data": {
      "text/plain": [
       "<module 'matplotlib.pyplot' from 'C:\\\\Users\\\\basti\\\\anaconda3\\\\lib\\\\site-packages\\\\matplotlib\\\\pyplot.py'>"
      ]
     },
     "execution_count": 93,
     "metadata": {},
     "output_type": "execute_result"
    },
    {
     "data": {
      "image/png": "[encoded data removed]",
      "text/plain": [
       "<Figure size 720x1080 with 3 Axes>"
      ]
     },
     "metadata": {
      "needs_background": "light"
     },
     "output_type": "display_data"
    }
   ],
   "source": [
    "fig, axes = plt.subplots(3, 1, figsize=(10, 15))\n",
    "\n",
    "title = \"Learning curves for ridge regression\"\n",
    "\n",
    "plot_learning_curve(\n",
    "    best_model, title, X, y, axes=axes, cv=cv, n_jobs=4, scoring=scorer\n",
    ")"
   ]
  },
  {
   "cell_type": "markdown",
   "id": "1cfa2d38-68b1-48d2-9393-972ae5754c5b",
   "metadata": {},
   "source": [
    "## Save the model"
   ]
  },
  {
   "cell_type": "code",
   "execution_count": 94,
   "id": "6c01f9e5-d2cb-473e-8318-7fe6e8d471b7",
   "metadata": {},
   "outputs": [],
   "source": [
    "pickle.dump(best_model, open('best_model.pkl', 'wb'))"
   ]
  },
  {
   "cell_type": "code",
   "execution_count": 95,
   "id": "6328b1b4-5ca0-4593-825b-d19186492685",
   "metadata": {},
   "outputs": [],
   "source": [
    "loaded_model = pickle.load(open('best_model.pkl', 'rb'))"
   ]
  },
  {
   "cell_type": "code",
   "execution_count": 96,
   "id": "868c4a12-5fea-4a7f-ba65-d756ee361f92",
   "metadata": {},
   "outputs": [
    {
     "data": {
      "text/plain": [
       "-0.008433743241924448"
      ]
     },
     "execution_count": 96,
     "metadata": {},
     "output_type": "execute_result"
    }
   ],
   "source": [
    "evaluate_model(loaded_model, X, y)"
   ]
  }
 ],
 "metadata": {
  "kernelspec": {
   "display_name": "Python 3 (ipykernel)",
   "language": "python",
   "name": "python3"
  },
  "language_info": {
   "codemirror_mode": {
    "name": "ipython",
    "version": 3
   },
   "file_extension": ".py",
   "mimetype": "text/x-python",
   "name": "python",
   "nbconvert_exporter": "python",
   "pygments_lexer": "ipython3",
   "version": "3.9.7"
  }
 },
 "nbformat": 4,
 "nbformat_minor": 5
}
