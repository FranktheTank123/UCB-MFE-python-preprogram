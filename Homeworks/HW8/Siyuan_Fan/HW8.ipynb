{
 "cells": [
  {
   "cell_type": "markdown",
   "id": "f4e66a73",
   "metadata": {},
   "source": [
    "# HW8"
   ]
  },
  {
   "cell_type": "markdown",
   "id": "ca5a7053",
   "metadata": {},
   "source": [
    "Copy class example."
   ]
  },
  {
   "cell_type": "code",
   "execution_count": 1,
   "id": "b1da8003",
   "metadata": {},
   "outputs": [],
   "source": [
    "data_location = 'sqlite:///../../data/data.db'"
   ]
  },
  {
   "cell_type": "code",
   "execution_count": 2,
   "id": "e3900b9b",
   "metadata": {},
   "outputs": [],
   "source": [
    "import pandas as pd\n",
    "import numpy as np\n",
    "import matplotlib.pyplot as plt\n",
    "from functools import reduce\n",
    "\n",
    "import pickle"
   ]
  },
  {
   "cell_type": "code",
   "execution_count": 3,
   "id": "5b08d9a4",
   "metadata": {},
   "outputs": [],
   "source": [
    "def vol_ohlc(df, lookback=10):\n",
    "    o = df.open\n",
    "    h = df.high\n",
    "    l = df.low\n",
    "    c = df.close\n",
    "    \n",
    "    k = 0.34 / (1.34 + (lookback+1)/(lookback-1))\n",
    "    cc = np.log(c/c.shift(1))\n",
    "    ho = np.log(h/o)\n",
    "    lo = np.log(l/o)\n",
    "    co = np.log(c/o)\n",
    "    oc = np.log(o/c.shift(1))\n",
    "    oc_sq = oc**2\n",
    "    cc_sq = cc**2\n",
    "    rs = ho*(ho-co)+lo*(lo-co)\n",
    "    close_vol = cc_sq.rolling(lookback).sum() * (1.0 / (lookback - 1.0))\n",
    "    open_vol = oc_sq.rolling(lookback).sum() * (1.0 / (lookback - 1.0))\n",
    "    window_rs = rs.rolling(lookback).sum() * (1.0 / (lookback - 1.0))\n",
    "    result = (open_vol + k * close_vol + (1-k) * window_rs).apply(np.sqrt) * np.sqrt(252)\n",
    "    result[:lookback-1] = np.nan\n",
    "    \n",
    "    return result"
   ]
  },
  {
   "cell_type": "code",
   "execution_count": 4,
   "id": "7ae0a487",
   "metadata": {},
   "outputs": [],
   "source": [
    "def plot_learning_curve(\n",
    "    estimator,\n",
    "    title,\n",
    "    X,\n",
    "    y,\n",
    "    axes=None,\n",
    "    ylim=None,\n",
    "    cv=None,\n",
    "    n_jobs=None,\n",
    "    train_sizes=np.linspace(0.1, 1.0, 5),\n",
    "    scoring=None\n",
    "):\n",
    "    if axes is None:\n",
    "        _, axes = plt.subplots(1, 3, figsize=(20, 5))\n",
    "\n",
    "    axes[0].set_title(title)\n",
    "    if ylim is not None:\n",
    "        axes[0].set_ylim(*ylim)\n",
    "    axes[0].set_xlabel(\"Training examples\")\n",
    "    axes[0].set_ylabel(\"Score\")\n",
    "\n",
    "    train_sizes, train_scores, test_scores, fit_times, _ = learning_curve(\n",
    "        estimator,\n",
    "        X,\n",
    "        y,\n",
    "        cv=cv,\n",
    "        n_jobs=n_jobs,\n",
    "        train_sizes=train_sizes,\n",
    "        return_times=True,\n",
    "        scoring=scoring,\n",
    "    )\n",
    "    train_scores_mean = np.mean(train_scores, axis=1)\n",
    "    train_scores_std = np.std(train_scores, axis=1)\n",
    "    test_scores_mean = np.mean(test_scores, axis=1)\n",
    "    test_scores_std = np.std(test_scores, axis=1)\n",
    "    fit_times_mean = np.mean(fit_times, axis=1)\n",
    "    fit_times_std = np.std(fit_times, axis=1)\n",
    "\n",
    "    # Plot learning curve\n",
    "    axes[0].grid()\n",
    "    axes[0].fill_between(\n",
    "        train_sizes,\n",
    "        train_scores_mean - train_scores_std,\n",
    "        train_scores_mean + train_scores_std,\n",
    "        alpha=0.1,\n",
    "        color=\"r\",\n",
    "    )\n",
    "    axes[0].fill_between(\n",
    "        train_sizes,\n",
    "        test_scores_mean - test_scores_std,\n",
    "        test_scores_mean + test_scores_std,\n",
    "        alpha=0.1,\n",
    "        color=\"g\",\n",
    "    )\n",
    "    axes[0].plot(\n",
    "        train_sizes, train_scores_mean, \"o-\", color=\"r\", label=\"Training score\"\n",
    "    )\n",
    "    axes[0].plot(\n",
    "        train_sizes, test_scores_mean, \"o-\", color=\"g\", label=\"Cross-validation score\"\n",
    "    )\n",
    "    axes[0].legend(loc=\"best\")\n",
    "\n",
    "    # Plot n_samples vs fit_times\n",
    "    axes[1].grid()\n",
    "    axes[1].plot(train_sizes, fit_times_mean, \"o-\")\n",
    "    axes[1].fill_between(\n",
    "        train_sizes,\n",
    "        fit_times_mean - fit_times_std,\n",
    "        fit_times_mean + fit_times_std,\n",
    "        alpha=0.1,\n",
    "    )\n",
    "    axes[1].set_xlabel(\"Training examples\")\n",
    "    axes[1].set_ylabel(\"fit_times\")\n",
    "    axes[1].set_title(\"Scalability of the model\")\n",
    "\n",
    "    # Plot fit_time vs score\n",
    "    fit_time_argsort = fit_times_mean.argsort()\n",
    "    fit_time_sorted = fit_times_mean[fit_time_argsort]\n",
    "    test_scores_mean_sorted = test_scores_mean[fit_time_argsort]\n",
    "    test_scores_std_sorted = test_scores_std[fit_time_argsort]\n",
    "    axes[2].grid()\n",
    "    axes[2].plot(fit_time_sorted, test_scores_mean_sorted, \"o-\")\n",
    "    axes[2].fill_between(\n",
    "        fit_time_sorted,\n",
    "        test_scores_mean_sorted - test_scores_std_sorted,\n",
    "        test_scores_mean_sorted + test_scores_std_sorted,\n",
    "        alpha=0.1,\n",
    "    )\n",
    "    axes[2].set_xlabel(\"fit_times\")\n",
    "    axes[2].set_ylabel(\"Score\")\n",
    "    axes[2].set_title(\"Performance of the model\")\n",
    "\n",
    "    return plt"
   ]
  },
  {
   "cell_type": "code",
   "execution_count": 5,
   "id": "24c4c049",
   "metadata": {},
   "outputs": [
    {
     "data": {
      "text/plain": [
       "(11627, 9)"
      ]
     },
     "execution_count": 5,
     "metadata": {},
     "output_type": "execute_result"
    }
   ],
   "source": [
    "ohlc = pd.read_sql('SELECT * FROM ohlc', data_location)\n",
    "ohlc.shape"
   ]
  },
  {
   "cell_type": "code",
   "execution_count": 6,
   "id": "bcc3e9f8",
   "metadata": {},
   "outputs": [
    {
     "data": {
      "text/html": [
       "<div>\n",
       "<style scoped>\n",
       "    .dataframe tbody tr th:only-of-type {\n",
       "        vertical-align: middle;\n",
       "    }\n",
       "\n",
       "    .dataframe tbody tr th {\n",
       "        vertical-align: top;\n",
       "    }\n",
       "\n",
       "    .dataframe thead th {\n",
       "        text-align: right;\n",
       "    }\n",
       "</style>\n",
       "<table border=\"1\" class=\"dataframe\">\n",
       "  <thead>\n",
       "    <tr style=\"text-align: right;\">\n",
       "      <th></th>\n",
       "      <th>ts</th>\n",
       "      <th>open</th>\n",
       "      <th>high</th>\n",
       "      <th>low</th>\n",
       "      <th>close</th>\n",
       "      <th>volume</th>\n",
       "      <th>volumeUSD</th>\n",
       "      <th>token</th>\n",
       "      <th>chain</th>\n",
       "    </tr>\n",
       "  </thead>\n",
       "  <tbody>\n",
       "    <tr>\n",
       "      <th>0</th>\n",
       "      <td>2021-11-01 00:00:00</td>\n",
       "      <td>61421.37</td>\n",
       "      <td>61669.14</td>\n",
       "      <td>61239.60</td>\n",
       "      <td>61343.68</td>\n",
       "      <td>256.433869</td>\n",
       "      <td>1.575751e+07</td>\n",
       "      <td>BTC</td>\n",
       "      <td>BTC</td>\n",
       "    </tr>\n",
       "    <tr>\n",
       "      <th>1</th>\n",
       "      <td>2021-11-01 01:00:00</td>\n",
       "      <td>61346.17</td>\n",
       "      <td>61709.82</td>\n",
       "      <td>61171.22</td>\n",
       "      <td>61610.93</td>\n",
       "      <td>332.481185</td>\n",
       "      <td>2.044558e+07</td>\n",
       "      <td>BTC</td>\n",
       "      <td>BTC</td>\n",
       "    </tr>\n",
       "    <tr>\n",
       "      <th>2</th>\n",
       "      <td>2021-11-01 02:00:00</td>\n",
       "      <td>61610.94</td>\n",
       "      <td>61779.87</td>\n",
       "      <td>61299.89</td>\n",
       "      <td>61333.17</td>\n",
       "      <td>314.250720</td>\n",
       "      <td>1.935390e+07</td>\n",
       "      <td>BTC</td>\n",
       "      <td>BTC</td>\n",
       "    </tr>\n",
       "    <tr>\n",
       "      <th>3</th>\n",
       "      <td>2021-11-01 03:00:00</td>\n",
       "      <td>61333.17</td>\n",
       "      <td>61457.28</td>\n",
       "      <td>60050.00</td>\n",
       "      <td>60589.06</td>\n",
       "      <td>1059.931358</td>\n",
       "      <td>6.414625e+07</td>\n",
       "      <td>BTC</td>\n",
       "      <td>BTC</td>\n",
       "    </tr>\n",
       "    <tr>\n",
       "      <th>4</th>\n",
       "      <td>2021-11-01 04:00:00</td>\n",
       "      <td>60590.23</td>\n",
       "      <td>60655.00</td>\n",
       "      <td>59752.92</td>\n",
       "      <td>59971.89</td>\n",
       "      <td>621.419878</td>\n",
       "      <td>3.744744e+07</td>\n",
       "      <td>BTC</td>\n",
       "      <td>BTC</td>\n",
       "    </tr>\n",
       "  </tbody>\n",
       "</table>\n",
       "</div>"
      ],
      "text/plain": [
       "                    ts      open      high       low     close       volume  \\\n",
       "0  2021-11-01 00:00:00  61421.37  61669.14  61239.60  61343.68   256.433869   \n",
       "1  2021-11-01 01:00:00  61346.17  61709.82  61171.22  61610.93   332.481185   \n",
       "2  2021-11-01 02:00:00  61610.94  61779.87  61299.89  61333.17   314.250720   \n",
       "3  2021-11-01 03:00:00  61333.17  61457.28  60050.00  60589.06  1059.931358   \n",
       "4  2021-11-01 04:00:00  60590.23  60655.00  59752.92  59971.89   621.419878   \n",
       "\n",
       "      volumeUSD token chain  \n",
       "0  1.575751e+07   BTC   BTC  \n",
       "1  2.044558e+07   BTC   BTC  \n",
       "2  1.935390e+07   BTC   BTC  \n",
       "3  6.414625e+07   BTC   BTC  \n",
       "4  3.744744e+07   BTC   BTC  "
      ]
     },
     "execution_count": 6,
     "metadata": {},
     "output_type": "execute_result"
    }
   ],
   "source": [
    "ohlc.head()"
   ]
  },
  {
   "cell_type": "code",
   "execution_count": 7,
   "id": "9901de56",
   "metadata": {},
   "outputs": [
    {
     "data": {
      "text/html": [
       "<div>\n",
       "<style scoped>\n",
       "    .dataframe tbody tr th:only-of-type {\n",
       "        vertical-align: middle;\n",
       "    }\n",
       "\n",
       "    .dataframe tbody tr th {\n",
       "        vertical-align: top;\n",
       "    }\n",
       "\n",
       "    .dataframe thead th {\n",
       "        text-align: right;\n",
       "    }\n",
       "</style>\n",
       "<table border=\"1\" class=\"dataframe\">\n",
       "  <thead>\n",
       "    <tr style=\"text-align: right;\">\n",
       "      <th></th>\n",
       "      <th>open</th>\n",
       "      <th>high</th>\n",
       "      <th>low</th>\n",
       "      <th>close</th>\n",
       "      <th>volume</th>\n",
       "      <th>volumeUSD</th>\n",
       "    </tr>\n",
       "  </thead>\n",
       "  <tbody>\n",
       "    <tr>\n",
       "      <th>count</th>\n",
       "      <td>11627.000000</td>\n",
       "      <td>11627.000000</td>\n",
       "      <td>11627.000000</td>\n",
       "      <td>11627.000000</td>\n",
       "      <td>1.162700e+04</td>\n",
       "      <td>1.162700e+04</td>\n",
       "    </tr>\n",
       "    <tr>\n",
       "      <th>mean</th>\n",
       "      <td>5708.198992</td>\n",
       "      <td>5737.512791</td>\n",
       "      <td>5676.641523</td>\n",
       "      <td>5706.967946</td>\n",
       "      <td>7.782893e+05</td>\n",
       "      <td>9.847622e+06</td>\n",
       "    </tr>\n",
       "    <tr>\n",
       "      <th>std</th>\n",
       "      <td>16518.161143</td>\n",
       "      <td>16599.532113</td>\n",
       "      <td>16430.972527</td>\n",
       "      <td>16514.731530</td>\n",
       "      <td>2.057505e+06</td>\n",
       "      <td>1.769057e+07</td>\n",
       "    </tr>\n",
       "    <tr>\n",
       "      <th>min</th>\n",
       "      <td>0.999900</td>\n",
       "      <td>1.000000</td>\n",
       "      <td>0.995100</td>\n",
       "      <td>0.999900</td>\n",
       "      <td>6.713000e+00</td>\n",
       "      <td>1.960784e+03</td>\n",
       "    </tr>\n",
       "    <tr>\n",
       "      <th>25%</th>\n",
       "      <td>4.555900</td>\n",
       "      <td>4.611000</td>\n",
       "      <td>4.496050</td>\n",
       "      <td>4.554350</td>\n",
       "      <td>2.565695e+03</td>\n",
       "      <td>9.664755e+05</td>\n",
       "    </tr>\n",
       "    <tr>\n",
       "      <th>50%</th>\n",
       "      <td>92.590000</td>\n",
       "      <td>93.710000</td>\n",
       "      <td>91.000000</td>\n",
       "      <td>92.600000</td>\n",
       "      <td>4.624230e+04</td>\n",
       "      <td>3.420994e+06</td>\n",
       "    </tr>\n",
       "    <tr>\n",
       "      <th>75%</th>\n",
       "      <td>307.924500</td>\n",
       "      <td>309.700000</td>\n",
       "      <td>305.501000</td>\n",
       "      <td>307.796500</td>\n",
       "      <td>1.768436e+05</td>\n",
       "      <td>1.068309e+07</td>\n",
       "    </tr>\n",
       "    <tr>\n",
       "      <th>max</th>\n",
       "      <td>68638.470000</td>\n",
       "      <td>69000.000000</td>\n",
       "      <td>68456.500000</td>\n",
       "      <td>68639.630000</td>\n",
       "      <td>3.978895e+07</td>\n",
       "      <td>3.988035e+08</td>\n",
       "    </tr>\n",
       "  </tbody>\n",
       "</table>\n",
       "</div>"
      ],
      "text/plain": [
       "               open          high           low         close        volume  \\\n",
       "count  11627.000000  11627.000000  11627.000000  11627.000000  1.162700e+04   \n",
       "mean    5708.198992   5737.512791   5676.641523   5706.967946  7.782893e+05   \n",
       "std    16518.161143  16599.532113  16430.972527  16514.731530  2.057505e+06   \n",
       "min        0.999900      1.000000      0.995100      0.999900  6.713000e+00   \n",
       "25%        4.555900      4.611000      4.496050      4.554350  2.565695e+03   \n",
       "50%       92.590000     93.710000     91.000000     92.600000  4.624230e+04   \n",
       "75%      307.924500    309.700000    305.501000    307.796500  1.768436e+05   \n",
       "max    68638.470000  69000.000000  68456.500000  68639.630000  3.978895e+07   \n",
       "\n",
       "          volumeUSD  \n",
       "count  1.162700e+04  \n",
       "mean   9.847622e+06  \n",
       "std    1.769057e+07  \n",
       "min    1.960784e+03  \n",
       "25%    9.664755e+05  \n",
       "50%    3.420994e+06  \n",
       "75%    1.068309e+07  \n",
       "max    3.988035e+08  "
      ]
     },
     "execution_count": 7,
     "metadata": {},
     "output_type": "execute_result"
    }
   ],
   "source": [
    "ohlc.describe()"
   ]
  },
  {
   "cell_type": "code",
   "execution_count": 8,
   "id": "6f034cac",
   "metadata": {},
   "outputs": [],
   "source": [
    "tokens = ohlc.token.unique()"
   ]
  },
  {
   "cell_type": "code",
   "execution_count": 9,
   "id": "28dcdbd5",
   "metadata": {},
   "outputs": [],
   "source": [
    "def df_merge(left, right):\n",
    "    return pd.merge(left, right, on='ts', how='inner')\n",
    "\n",
    "X = reduce(df_merge, [\n",
    "    (lambda df: \n",
    "    (\n",
    "        df\n",
    "        .assign(\n",
    "            vol=vol_ohlc(df).fillna(0),\n",
    "            ret=df.close.pct_change()\n",
    "        )[['ts', 'vol', 'ret']]\n",
    "        .rename(columns={\n",
    "            col: f'{col}_{token}' for col in ['ts', 'vol', 'ret'] if col != 'ts'\n",
    "        })\n",
    "    ))(ohlc[ohlc.token == token])\n",
    "    for token in tokens\n",
    "]).set_index('ts')"
   ]
  },
  {
   "cell_type": "code",
   "execution_count": 10,
   "id": "779e1fd8",
   "metadata": {},
   "outputs": [
    {
     "data": {
      "text/plain": [
       "(1057, 22)"
      ]
     },
     "execution_count": 10,
     "metadata": {},
     "output_type": "execute_result"
    }
   ],
   "source": [
    "X.shape"
   ]
  },
  {
   "cell_type": "code",
   "execution_count": 11,
   "id": "505a7014",
   "metadata": {},
   "outputs": [
    {
     "data": {
      "text/html": [
       "<div>\n",
       "<style scoped>\n",
       "    .dataframe tbody tr th:only-of-type {\n",
       "        vertical-align: middle;\n",
       "    }\n",
       "\n",
       "    .dataframe tbody tr th {\n",
       "        vertical-align: top;\n",
       "    }\n",
       "\n",
       "    .dataframe thead th {\n",
       "        text-align: right;\n",
       "    }\n",
       "</style>\n",
       "<table border=\"1\" class=\"dataframe\">\n",
       "  <thead>\n",
       "    <tr style=\"text-align: right;\">\n",
       "      <th></th>\n",
       "      <th>vol_BTC</th>\n",
       "      <th>ret_BTC</th>\n",
       "      <th>vol_ETH</th>\n",
       "      <th>ret_ETH</th>\n",
       "      <th>vol_USDT</th>\n",
       "      <th>ret_USDT</th>\n",
       "      <th>vol_SOL</th>\n",
       "      <th>ret_SOL</th>\n",
       "      <th>vol_ADA</th>\n",
       "      <th>ret_ADA</th>\n",
       "      <th>...</th>\n",
       "      <th>vol_AVAX</th>\n",
       "      <th>ret_AVAX</th>\n",
       "      <th>vol_ATOM</th>\n",
       "      <th>ret_ATOM</th>\n",
       "      <th>vol_CRV</th>\n",
       "      <th>ret_CRV</th>\n",
       "      <th>vol_AAVE</th>\n",
       "      <th>ret_AAVE</th>\n",
       "      <th>vol_COMP</th>\n",
       "      <th>ret_COMP</th>\n",
       "    </tr>\n",
       "    <tr>\n",
       "      <th>ts</th>\n",
       "      <th></th>\n",
       "      <th></th>\n",
       "      <th></th>\n",
       "      <th></th>\n",
       "      <th></th>\n",
       "      <th></th>\n",
       "      <th></th>\n",
       "      <th></th>\n",
       "      <th></th>\n",
       "      <th></th>\n",
       "      <th></th>\n",
       "      <th></th>\n",
       "      <th></th>\n",
       "      <th></th>\n",
       "      <th></th>\n",
       "      <th></th>\n",
       "      <th></th>\n",
       "      <th></th>\n",
       "      <th></th>\n",
       "      <th></th>\n",
       "      <th></th>\n",
       "    </tr>\n",
       "  </thead>\n",
       "  <tbody>\n",
       "    <tr>\n",
       "      <th>2021-12-14 20:00:00</th>\n",
       "      <td>0.136358</td>\n",
       "      <td>0.004810</td>\n",
       "      <td>0.158369</td>\n",
       "      <td>0.005961</td>\n",
       "      <td>0.002463</td>\n",
       "      <td>0.0001</td>\n",
       "      <td>0.216740</td>\n",
       "      <td>0.002798</td>\n",
       "      <td>0.225286</td>\n",
       "      <td>0.014437</td>\n",
       "      <td>...</td>\n",
       "      <td>0.239258</td>\n",
       "      <td>0.008227</td>\n",
       "      <td>0.254118</td>\n",
       "      <td>-0.000471</td>\n",
       "      <td>0.255464</td>\n",
       "      <td>0.003049</td>\n",
       "      <td>0.207758</td>\n",
       "      <td>0.009387</td>\n",
       "      <td>0.284268</td>\n",
       "      <td>0.006813</td>\n",
       "    </tr>\n",
       "    <tr>\n",
       "      <th>2021-12-14 21:00:00</th>\n",
       "      <td>0.142237</td>\n",
       "      <td>0.019797</td>\n",
       "      <td>0.170096</td>\n",
       "      <td>0.016737</td>\n",
       "      <td>0.002652</td>\n",
       "      <td>0.0000</td>\n",
       "      <td>0.218492</td>\n",
       "      <td>0.025892</td>\n",
       "      <td>0.224116</td>\n",
       "      <td>0.012141</td>\n",
       "      <td>...</td>\n",
       "      <td>0.241603</td>\n",
       "      <td>0.019207</td>\n",
       "      <td>0.254350</td>\n",
       "      <td>0.019303</td>\n",
       "      <td>0.263456</td>\n",
       "      <td>0.021277</td>\n",
       "      <td>0.222014</td>\n",
       "      <td>0.022490</td>\n",
       "      <td>0.281497</td>\n",
       "      <td>0.017473</td>\n",
       "    </tr>\n",
       "    <tr>\n",
       "      <th>2021-12-14 22:00:00</th>\n",
       "      <td>0.151148</td>\n",
       "      <td>0.010414</td>\n",
       "      <td>0.172081</td>\n",
       "      <td>0.004623</td>\n",
       "      <td>0.002684</td>\n",
       "      <td>0.0000</td>\n",
       "      <td>0.246122</td>\n",
       "      <td>0.015624</td>\n",
       "      <td>0.232362</td>\n",
       "      <td>0.009295</td>\n",
       "      <td>...</td>\n",
       "      <td>0.268875</td>\n",
       "      <td>0.026851</td>\n",
       "      <td>0.253472</td>\n",
       "      <td>0.012933</td>\n",
       "      <td>0.270895</td>\n",
       "      <td>0.023810</td>\n",
       "      <td>0.220598</td>\n",
       "      <td>0.006242</td>\n",
       "      <td>0.275083</td>\n",
       "      <td>0.009868</td>\n",
       "    </tr>\n",
       "    <tr>\n",
       "      <th>2021-12-14 23:00:00</th>\n",
       "      <td>0.149424</td>\n",
       "      <td>-0.000302</td>\n",
       "      <td>0.170257</td>\n",
       "      <td>-0.003195</td>\n",
       "      <td>0.002823</td>\n",
       "      <td>0.0001</td>\n",
       "      <td>0.238235</td>\n",
       "      <td>-0.010027</td>\n",
       "      <td>0.231115</td>\n",
       "      <td>-0.000157</td>\n",
       "      <td>...</td>\n",
       "      <td>0.301778</td>\n",
       "      <td>0.032506</td>\n",
       "      <td>0.245708</td>\n",
       "      <td>-0.009576</td>\n",
       "      <td>0.268758</td>\n",
       "      <td>-0.011628</td>\n",
       "      <td>0.219474</td>\n",
       "      <td>-0.003013</td>\n",
       "      <td>0.271229</td>\n",
       "      <td>-0.000864</td>\n",
       "    </tr>\n",
       "    <tr>\n",
       "      <th>2021-12-15 00:00:00</th>\n",
       "      <td>0.143079</td>\n",
       "      <td>-0.001448</td>\n",
       "      <td>0.159883</td>\n",
       "      <td>-0.000641</td>\n",
       "      <td>0.002816</td>\n",
       "      <td>0.0000</td>\n",
       "      <td>0.228867</td>\n",
       "      <td>0.002517</td>\n",
       "      <td>0.220068</td>\n",
       "      <td>-0.007715</td>\n",
       "      <td>...</td>\n",
       "      <td>0.296444</td>\n",
       "      <td>0.005576</td>\n",
       "      <td>0.234522</td>\n",
       "      <td>-0.003223</td>\n",
       "      <td>0.242546</td>\n",
       "      <td>-0.002941</td>\n",
       "      <td>0.213360</td>\n",
       "      <td>0.001659</td>\n",
       "      <td>0.246067</td>\n",
       "      <td>-0.001027</td>\n",
       "    </tr>\n",
       "  </tbody>\n",
       "</table>\n",
       "<p>5 rows × 22 columns</p>\n",
       "</div>"
      ],
      "text/plain": [
       "                      vol_BTC   ret_BTC   vol_ETH   ret_ETH  vol_USDT  \\\n",
       "ts                                                                      \n",
       "2021-12-14 20:00:00  0.136358  0.004810  0.158369  0.005961  0.002463   \n",
       "2021-12-14 21:00:00  0.142237  0.019797  0.170096  0.016737  0.002652   \n",
       "2021-12-14 22:00:00  0.151148  0.010414  0.172081  0.004623  0.002684   \n",
       "2021-12-14 23:00:00  0.149424 -0.000302  0.170257 -0.003195  0.002823   \n",
       "2021-12-15 00:00:00  0.143079 -0.001448  0.159883 -0.000641  0.002816   \n",
       "\n",
       "                     ret_USDT   vol_SOL   ret_SOL   vol_ADA   ret_ADA  ...  \\\n",
       "ts                                                                     ...   \n",
       "2021-12-14 20:00:00    0.0001  0.216740  0.002798  0.225286  0.014437  ...   \n",
       "2021-12-14 21:00:00    0.0000  0.218492  0.025892  0.224116  0.012141  ...   \n",
       "2021-12-14 22:00:00    0.0000  0.246122  0.015624  0.232362  0.009295  ...   \n",
       "2021-12-14 23:00:00    0.0001  0.238235 -0.010027  0.231115 -0.000157  ...   \n",
       "2021-12-15 00:00:00    0.0000  0.228867  0.002517  0.220068 -0.007715  ...   \n",
       "\n",
       "                     vol_AVAX  ret_AVAX  vol_ATOM  ret_ATOM   vol_CRV  \\\n",
       "ts                                                                      \n",
       "2021-12-14 20:00:00  0.239258  0.008227  0.254118 -0.000471  0.255464   \n",
       "2021-12-14 21:00:00  0.241603  0.019207  0.254350  0.019303  0.263456   \n",
       "2021-12-14 22:00:00  0.268875  0.026851  0.253472  0.012933  0.270895   \n",
       "2021-12-14 23:00:00  0.301778  0.032506  0.245708 -0.009576  0.268758   \n",
       "2021-12-15 00:00:00  0.296444  0.005576  0.234522 -0.003223  0.242546   \n",
       "\n",
       "                      ret_CRV  vol_AAVE  ret_AAVE  vol_COMP  ret_COMP  \n",
       "ts                                                                     \n",
       "2021-12-14 20:00:00  0.003049  0.207758  0.009387  0.284268  0.006813  \n",
       "2021-12-14 21:00:00  0.021277  0.222014  0.022490  0.281497  0.017473  \n",
       "2021-12-14 22:00:00  0.023810  0.220598  0.006242  0.275083  0.009868  \n",
       "2021-12-14 23:00:00 -0.011628  0.219474 -0.003013  0.271229 -0.000864  \n",
       "2021-12-15 00:00:00 -0.002941  0.213360  0.001659  0.246067 -0.001027  \n",
       "\n",
       "[5 rows x 22 columns]"
      ]
     },
     "execution_count": 11,
     "metadata": {},
     "output_type": "execute_result"
    }
   ],
   "source": [
    "X.tail()"
   ]
  },
  {
   "cell_type": "code",
   "execution_count": 12,
   "id": "7ee46266",
   "metadata": {},
   "outputs": [],
   "source": [
    "y = X.ret_SOL.shift(-1)[:-1]\n",
    "X = X[:-1]"
   ]
  },
  {
   "cell_type": "code",
   "execution_count": 13,
   "id": "917458a6",
   "metadata": {},
   "outputs": [
    {
     "data": {
      "text/plain": [
       "(1056, 22)"
      ]
     },
     "execution_count": 13,
     "metadata": {},
     "output_type": "execute_result"
    }
   ],
   "source": [
    "X.shape"
   ]
  },
  {
   "cell_type": "code",
   "execution_count": 14,
   "id": "43a4cff6",
   "metadata": {},
   "outputs": [
    {
     "data": {
      "text/plain": [
       "(1056,)"
      ]
     },
     "execution_count": 14,
     "metadata": {},
     "output_type": "execute_result"
    }
   ],
   "source": [
    "y.shape"
   ]
  },
  {
   "cell_type": "code",
   "execution_count": 15,
   "id": "a7f899f1",
   "metadata": {},
   "outputs": [
    {
     "data": {
      "text/plain": [
       "count    1056.000000\n",
       "mean       -0.000156\n",
       "std         0.012010\n",
       "min        -0.053429\n",
       "25%        -0.007444\n",
       "50%        -0.000503\n",
       "75%         0.006740\n",
       "max         0.048298\n",
       "Name: ret_SOL, dtype: float64"
      ]
     },
     "execution_count": 15,
     "metadata": {},
     "output_type": "execute_result"
    }
   ],
   "source": [
    "y.describe()"
   ]
  },
  {
   "cell_type": "code",
   "execution_count": 16,
   "id": "0a3c7e77",
   "metadata": {},
   "outputs": [],
   "source": [
    "from pandas.plotting import scatter_matrix, autocorrelation_plot"
   ]
  },
  {
   "cell_type": "code",
   "execution_count": 17,
   "id": "450b9cf6",
   "metadata": {},
   "outputs": [
    {
     "data": {
      "text/plain": [
       "<AxesSubplot:xlabel='Lag', ylabel='Autocorrelation'>"
      ]
     },
     "execution_count": 17,
     "metadata": {},
     "output_type": "execute_result"
    },
    {
     "data": {
      "image/png": "[encoded data removed]",
      "text/plain": [
       "<Figure size 432x288 with 1 Axes>"
      ]
     },
     "metadata": {
      "needs_background": "light"
     },
     "output_type": "display_data"
    }
   ],
   "source": [
    "autocorrelation_plot(y[1:])"
   ]
  },
  {
   "cell_type": "code",
   "execution_count": 18,
   "id": "853edf8a",
   "metadata": {},
   "outputs": [
    {
     "data": {
      "text/html": [
       "<div>\n",
       "<style scoped>\n",
       "    .dataframe tbody tr th:only-of-type {\n",
       "        vertical-align: middle;\n",
       "    }\n",
       "\n",
       "    .dataframe tbody tr th {\n",
       "        vertical-align: top;\n",
       "    }\n",
       "\n",
       "    .dataframe thead th {\n",
       "        text-align: right;\n",
       "    }\n",
       "</style>\n",
       "<table border=\"1\" class=\"dataframe\">\n",
       "  <thead>\n",
       "    <tr style=\"text-align: right;\">\n",
       "      <th></th>\n",
       "      <th>vol_BTC</th>\n",
       "      <th>ret_BTC</th>\n",
       "      <th>vol_ETH</th>\n",
       "      <th>ret_ETH</th>\n",
       "      <th>vol_USDT</th>\n",
       "      <th>ret_USDT</th>\n",
       "      <th>vol_SOL</th>\n",
       "      <th>ret_SOL</th>\n",
       "      <th>vol_ADA</th>\n",
       "      <th>ret_ADA</th>\n",
       "      <th>...</th>\n",
       "      <th>vol_AVAX</th>\n",
       "      <th>ret_AVAX</th>\n",
       "      <th>vol_ATOM</th>\n",
       "      <th>ret_ATOM</th>\n",
       "      <th>vol_CRV</th>\n",
       "      <th>ret_CRV</th>\n",
       "      <th>vol_AAVE</th>\n",
       "      <th>ret_AAVE</th>\n",
       "      <th>vol_COMP</th>\n",
       "      <th>ret_COMP</th>\n",
       "    </tr>\n",
       "    <tr>\n",
       "      <th>ts</th>\n",
       "      <th></th>\n",
       "      <th></th>\n",
       "      <th></th>\n",
       "      <th></th>\n",
       "      <th></th>\n",
       "      <th></th>\n",
       "      <th></th>\n",
       "      <th></th>\n",
       "      <th></th>\n",
       "      <th></th>\n",
       "      <th></th>\n",
       "      <th></th>\n",
       "      <th></th>\n",
       "      <th></th>\n",
       "      <th></th>\n",
       "      <th></th>\n",
       "      <th></th>\n",
       "      <th></th>\n",
       "      <th></th>\n",
       "      <th></th>\n",
       "      <th></th>\n",
       "    </tr>\n",
       "  </thead>\n",
       "  <tbody>\n",
       "    <tr>\n",
       "      <th>2021-11-01 00:00:00</th>\n",
       "      <td>0.0</td>\n",
       "      <td>NaN</td>\n",
       "      <td>0.0</td>\n",
       "      <td>NaN</td>\n",
       "      <td>0.0</td>\n",
       "      <td>NaN</td>\n",
       "      <td>0.0</td>\n",
       "      <td>NaN</td>\n",
       "      <td>0.0</td>\n",
       "      <td>NaN</td>\n",
       "      <td>...</td>\n",
       "      <td>0.0</td>\n",
       "      <td>NaN</td>\n",
       "      <td>0.0</td>\n",
       "      <td>NaN</td>\n",
       "      <td>0.0</td>\n",
       "      <td>NaN</td>\n",
       "      <td>0.0</td>\n",
       "      <td>NaN</td>\n",
       "      <td>0.0</td>\n",
       "      <td>NaN</td>\n",
       "    </tr>\n",
       "    <tr>\n",
       "      <th>2021-11-01 01:00:00</th>\n",
       "      <td>0.0</td>\n",
       "      <td>0.004357</td>\n",
       "      <td>0.0</td>\n",
       "      <td>0.006874</td>\n",
       "      <td>0.0</td>\n",
       "      <td>0.0000</td>\n",
       "      <td>0.0</td>\n",
       "      <td>0.027359</td>\n",
       "      <td>0.0</td>\n",
       "      <td>0.003203</td>\n",
       "      <td>...</td>\n",
       "      <td>0.0</td>\n",
       "      <td>-0.006346</td>\n",
       "      <td>0.0</td>\n",
       "      <td>0.008193</td>\n",
       "      <td>0.0</td>\n",
       "      <td>0.000725</td>\n",
       "      <td>0.0</td>\n",
       "      <td>0.008043</td>\n",
       "      <td>0.0</td>\n",
       "      <td>-0.002281</td>\n",
       "    </tr>\n",
       "    <tr>\n",
       "      <th>2021-11-01 02:00:00</th>\n",
       "      <td>0.0</td>\n",
       "      <td>-0.004508</td>\n",
       "      <td>0.0</td>\n",
       "      <td>-0.005322</td>\n",
       "      <td>0.0</td>\n",
       "      <td>-0.0002</td>\n",
       "      <td>0.0</td>\n",
       "      <td>-0.009879</td>\n",
       "      <td>0.0</td>\n",
       "      <td>-0.008667</td>\n",
       "      <td>...</td>\n",
       "      <td>0.0</td>\n",
       "      <td>-0.006231</td>\n",
       "      <td>0.0</td>\n",
       "      <td>-0.025419</td>\n",
       "      <td>0.0</td>\n",
       "      <td>-0.031791</td>\n",
       "      <td>0.0</td>\n",
       "      <td>-0.009171</td>\n",
       "      <td>0.0</td>\n",
       "      <td>-0.006020</td>\n",
       "    </tr>\n",
       "    <tr>\n",
       "      <th>2021-11-01 03:00:00</th>\n",
       "      <td>0.0</td>\n",
       "      <td>-0.012132</td>\n",
       "      <td>0.0</td>\n",
       "      <td>-0.013126</td>\n",
       "      <td>0.0</td>\n",
       "      <td>0.0001</td>\n",
       "      <td>0.0</td>\n",
       "      <td>-0.021692</td>\n",
       "      <td>0.0</td>\n",
       "      <td>-0.007618</td>\n",
       "      <td>...</td>\n",
       "      <td>0.0</td>\n",
       "      <td>-0.005329</td>\n",
       "      <td>0.0</td>\n",
       "      <td>-0.013943</td>\n",
       "      <td>0.0</td>\n",
       "      <td>-0.010431</td>\n",
       "      <td>0.0</td>\n",
       "      <td>-0.013301</td>\n",
       "      <td>0.0</td>\n",
       "      <td>-0.022273</td>\n",
       "    </tr>\n",
       "    <tr>\n",
       "      <th>2021-11-01 04:00:00</th>\n",
       "      <td>0.0</td>\n",
       "      <td>-0.010186</td>\n",
       "      <td>0.0</td>\n",
       "      <td>-0.010679</td>\n",
       "      <td>0.0</td>\n",
       "      <td>0.0000</td>\n",
       "      <td>0.0</td>\n",
       "      <td>-0.003039</td>\n",
       "      <td>0.0</td>\n",
       "      <td>-0.006903</td>\n",
       "      <td>...</td>\n",
       "      <td>0.0</td>\n",
       "      <td>-0.008667</td>\n",
       "      <td>0.0</td>\n",
       "      <td>-0.020046</td>\n",
       "      <td>0.0</td>\n",
       "      <td>0.004514</td>\n",
       "      <td>0.0</td>\n",
       "      <td>-0.016452</td>\n",
       "      <td>0.0</td>\n",
       "      <td>-0.024002</td>\n",
       "    </tr>\n",
       "  </tbody>\n",
       "</table>\n",
       "<p>5 rows × 22 columns</p>\n",
       "</div>"
      ],
      "text/plain": [
       "                     vol_BTC   ret_BTC  vol_ETH   ret_ETH  vol_USDT  ret_USDT  \\\n",
       "ts                                                                              \n",
       "2021-11-01 00:00:00      0.0       NaN      0.0       NaN       0.0       NaN   \n",
       "2021-11-01 01:00:00      0.0  0.004357      0.0  0.006874       0.0    0.0000   \n",
       "2021-11-01 02:00:00      0.0 -0.004508      0.0 -0.005322       0.0   -0.0002   \n",
       "2021-11-01 03:00:00      0.0 -0.012132      0.0 -0.013126       0.0    0.0001   \n",
       "2021-11-01 04:00:00      0.0 -0.010186      0.0 -0.010679       0.0    0.0000   \n",
       "\n",
       "                     vol_SOL   ret_SOL  vol_ADA   ret_ADA  ...  vol_AVAX  \\\n",
       "ts                                                         ...             \n",
       "2021-11-01 00:00:00      0.0       NaN      0.0       NaN  ...       0.0   \n",
       "2021-11-01 01:00:00      0.0  0.027359      0.0  0.003203  ...       0.0   \n",
       "2021-11-01 02:00:00      0.0 -0.009879      0.0 -0.008667  ...       0.0   \n",
       "2021-11-01 03:00:00      0.0 -0.021692      0.0 -0.007618  ...       0.0   \n",
       "2021-11-01 04:00:00      0.0 -0.003039      0.0 -0.006903  ...       0.0   \n",
       "\n",
       "                     ret_AVAX  vol_ATOM  ret_ATOM  vol_CRV   ret_CRV  \\\n",
       "ts                                                                     \n",
       "2021-11-01 00:00:00       NaN       0.0       NaN      0.0       NaN   \n",
       "2021-11-01 01:00:00 -0.006346       0.0  0.008193      0.0  0.000725   \n",
       "2021-11-01 02:00:00 -0.006231       0.0 -0.025419      0.0 -0.031791   \n",
       "2021-11-01 03:00:00 -0.005329       0.0 -0.013943      0.0 -0.010431   \n",
       "2021-11-01 04:00:00 -0.008667       0.0 -0.020046      0.0  0.004514   \n",
       "\n",
       "                     vol_AAVE  ret_AAVE  vol_COMP  ret_COMP  \n",
       "ts                                                           \n",
       "2021-11-01 00:00:00       0.0       NaN       0.0       NaN  \n",
       "2021-11-01 01:00:00       0.0  0.008043       0.0 -0.002281  \n",
       "2021-11-01 02:00:00       0.0 -0.009171       0.0 -0.006020  \n",
       "2021-11-01 03:00:00       0.0 -0.013301       0.0 -0.022273  \n",
       "2021-11-01 04:00:00       0.0 -0.016452       0.0 -0.024002  \n",
       "\n",
       "[5 rows x 22 columns]"
      ]
     },
     "execution_count": 18,
     "metadata": {},
     "output_type": "execute_result"
    }
   ],
   "source": [
    "X.head()"
   ]
  },
  {
   "cell_type": "code",
   "execution_count": 19,
   "id": "21d2ce8c",
   "metadata": {},
   "outputs": [
    {
     "data": {
      "text/plain": [
       "vol_BTC     0\n",
       "ret_BTC     1\n",
       "vol_ETH     0\n",
       "ret_ETH     1\n",
       "vol_USDT    0\n",
       "ret_USDT    1\n",
       "vol_SOL     0\n",
       "ret_SOL     1\n",
       "vol_ADA     0\n",
       "ret_ADA     1\n",
       "vol_DOT     0\n",
       "ret_DOT     1\n",
       "vol_AVAX    0\n",
       "ret_AVAX    1\n",
       "vol_ATOM    0\n",
       "ret_ATOM    1\n",
       "vol_CRV     0\n",
       "ret_CRV     1\n",
       "vol_AAVE    0\n",
       "ret_AAVE    1\n",
       "vol_COMP    0\n",
       "ret_COMP    1\n",
       "dtype: int64"
      ]
     },
     "execution_count": 19,
     "metadata": {},
     "output_type": "execute_result"
    }
   ],
   "source": [
    "pd.isnull(X).sum()"
   ]
  },
  {
   "cell_type": "code",
   "execution_count": 20,
   "id": "7aa4cb21",
   "metadata": {},
   "outputs": [
    {
     "data": {
      "text/plain": [
       "{'vol_BTC': 0.028693550573573322,\n",
       " 'ret_BTC': -0.01384862380414729,\n",
       " 'vol_ETH': 0.023571512894692854,\n",
       " 'ret_ETH': 0.030649212659338242,\n",
       " 'vol_USDT': 0.0068501801913109055,\n",
       " 'ret_USDT': -0.04440085499052747,\n",
       " 'vol_SOL': 0.03485259726638475,\n",
       " 'ret_SOL': -0.029855064193406503,\n",
       " 'vol_ADA': 0.03888023343700738,\n",
       " 'ret_ADA': 0.00024928333961420914,\n",
       " 'vol_DOT': 0.05904076845167186,\n",
       " 'ret_DOT': 0.008193946995455023,\n",
       " 'vol_AVAX': 0.041408511560781514,\n",
       " 'ret_AVAX': 0.01691945028976705,\n",
       " 'vol_ATOM': -0.0022346077856851467,\n",
       " 'ret_ATOM': 0.05546161881659773,\n",
       " 'vol_CRV': 0.019828890149893356,\n",
       " 'ret_CRV': -0.005844145396121428,\n",
       " 'vol_AAVE': 0.0360507780728068,\n",
       " 'ret_AAVE': 0.019895686732066185,\n",
       " 'vol_COMP': 0.059842585308615054,\n",
       " 'ret_COMP': 0.020113141490153072}"
      ]
     },
     "execution_count": 20,
     "metadata": {},
     "output_type": "execute_result"
    }
   ],
   "source": [
    "{col: y.corr(X[col]) for col in X.columns if X[col].dtype != 'object'}"
   ]
  },
  {
   "cell_type": "code",
   "execution_count": 21,
   "id": "9ffeb2e1",
   "metadata": {},
   "outputs": [],
   "source": [
    "from sklearn.preprocessing import StandardScaler\n",
    "from sklearn.preprocessing import QuantileTransformer\n",
    "from sklearn.decomposition import PCA\n",
    "from sklearn.impute import SimpleImputer\n",
    "\n",
    "from sklearn.base import BaseEstimator, TransformerMixin\n",
    "from sklearn.pipeline import Pipeline\n",
    "from sklearn.compose import ColumnTransformer\n",
    "\n",
    "from sklearn.tree import DecisionTreeRegressor\n",
    "from sklearn.ensemble import RandomForestRegressor\n",
    "from sklearn.linear_model import Ridge\n",
    "\n",
    "from sklearn.model_selection import cross_validate\n",
    "from sklearn.model_selection import TimeSeriesSplit\n",
    "from sklearn.metrics import mean_squared_error, make_scorer\n",
    "\n",
    "from sklearn.model_selection import learning_curve"
   ]
  },
  {
   "cell_type": "code",
   "execution_count": 22,
   "id": "77ed64ac",
   "metadata": {},
   "outputs": [],
   "source": [
    "class FeatureSelector(BaseEstimator, TransformerMixin):\n",
    "    def __init__(self, columns):\n",
    "        self.columns = columns\n",
    "        \n",
    "    def fit(self, X, y=None):\n",
    "        return self\n",
    "    \n",
    "    def transform(self, X):\n",
    "        return X[self.columns]"
   ]
  },
  {
   "cell_type": "code",
   "execution_count": 23,
   "id": "a02d39e6",
   "metadata": {},
   "outputs": [],
   "source": [
    "def evaluate_model(model, X, y, test_size=0.2):\n",
    "    cv = TimeSeriesSplit(n_splits=int(y.shape[0] * test_size), test_size=1)\n",
    "    scorer = make_scorer(mean_squared_error, greater_is_better=False, squared=False)\n",
    "    \n",
    "    return np.mean(cross_validate(model, X, y, cv=cv, scoring=scorer, n_jobs=-1)['test_score'])"
   ]
  },
  {
   "cell_type": "markdown",
   "id": "510bfd0e",
   "metadata": {},
   "source": [
    "The class example determines the best model as folloing with n_components = 20 and alpha=0.1."
   ]
  },
  {
   "cell_type": "code",
   "execution_count": 24,
   "id": "ac0bab62",
   "metadata": {},
   "outputs": [
    {
     "data": {
      "text/plain": [
       "-0.008575141851714433"
      ]
     },
     "execution_count": 24,
     "metadata": {},
     "output_type": "execute_result"
    }
   ],
   "source": [
    "pipeline = Pipeline([\n",
    "    ('impute', SimpleImputer(missing_values=np.nan, strategy='constant', fill_value=0.)),\n",
    "    ('scale', StandardScaler()),\n",
    "    ('pca', PCA(n_components=20)),\n",
    "    ('model', Ridge(alpha=0.1))\n",
    "])\n",
    "\n",
    "evaluate_model(pipeline, X, y)"
   ]
  },
  {
   "cell_type": "markdown",
   "id": "a6c8acd5",
   "metadata": {},
   "source": [
    "Based on the class model, I replace StandardScalar() with other preprocessing methods first but find no difference among them. So I keep using StandardScaler(). Then, according to the diagram under section Estimator Choice, I follow the instructions and try linear SVR model instead of RidgeRegression. From https://scikit-learn.org/stable/modules/generated/sklearn.svm.SVR.html, there are two free parameters: C and epsilon. Since I'm using linear SVR, I tune C parameter only."
   ]
  },
  {
   "cell_type": "code",
   "execution_count": 25,
   "id": "dac28363",
   "metadata": {},
   "outputs": [
    {
     "data": {
      "text/plain": [
       "GridSearchCV(cv=TimeSeriesSplit(gap=0, max_train_size=None, n_splits=211, test_size=1),\n",
       "             estimator=Pipeline(steps=[('impute',\n",
       "                                        SimpleImputer(fill_value=0.0,\n",
       "                                                      strategy='constant')),\n",
       "                                       ('scale',\n",
       "                                        QuantileTransformer(n_quantiles=10,\n",
       "                                                            random_state=0)),\n",
       "                                       ('pca', PCA()), ('model', SVR())]),\n",
       "             n_jobs=-1,\n",
       "             param_grid={'model__C': [0.01, 0.05, 0.1, 0.5, 1, 5, 10],\n",
       "                         'model__kernel': ['linear'],\n",
       "                         'pca__n_components': [1, 5, 10, 20, 22]},\n",
       "             scoring=make_scorer(mean_squared_error, greater_is_better=False, squared=False))"
      ]
     },
     "execution_count": 25,
     "metadata": {},
     "output_type": "execute_result"
    }
   ],
   "source": [
    "from sklearn.model_selection import GridSearchCV\n",
    "from sklearn.preprocessing import QuantileTransformer\n",
    "from sklearn.svm import SVR\n",
    "\n",
    "pipeline = Pipeline([\n",
    "    ('impute', SimpleImputer(missing_values=np.nan, strategy='constant', fill_value=0.)),\n",
    "    ('scale', QuantileTransformer(random_state=0, n_quantiles=10)),\n",
    "    ('pca', PCA()),\n",
    "    ('model', SVR())\n",
    "])\n",
    "\n",
    "test_size = 0.2\n",
    "cv = TimeSeriesSplit(n_splits=int(y.shape[0] * test_size), test_size=1)\n",
    "scorer = make_scorer(mean_squared_error, greater_is_better=False, squared=False)\n",
    "\n",
    "search = GridSearchCV(pipeline, {\n",
    "    'model__kernel': ['linear'],\n",
    "    'pca__n_components': [1, 5, 10, 20, 22],\n",
    "    'model__C': [.01, .05, .1, .5, 1, 5, 10]\n",
    "}, scoring=scorer, refit=True, cv=cv, n_jobs=-1)\n",
    "search.fit(X, y)"
   ]
  },
  {
   "cell_type": "code",
   "execution_count": 26,
   "id": "4fb3f847",
   "metadata": {
    "scrolled": true
   },
   "outputs": [
    {
     "data": {
      "text/plain": [
       "{'model__C': 0.01, 'model__kernel': 'linear', 'pca__n_components': 1}"
      ]
     },
     "execution_count": 26,
     "metadata": {},
     "output_type": "execute_result"
    }
   ],
   "source": [
    "search.best_params_"
   ]
  },
  {
   "cell_type": "code",
   "execution_count": 27,
   "id": "11350eba",
   "metadata": {},
   "outputs": [],
   "source": [
    "best_model = search.best_estimator_"
   ]
  },
  {
   "cell_type": "code",
   "execution_count": 28,
   "id": "7d28b40d",
   "metadata": {},
   "outputs": [
    {
     "data": {
      "text/plain": [
       "-0.008546201345938906"
      ]
     },
     "execution_count": 28,
     "metadata": {},
     "output_type": "execute_result"
    }
   ],
   "source": [
    "evaluate_model(best_model, X, y)"
   ]
  },
  {
   "cell_type": "markdown",
   "id": "0aab92f4",
   "metadata": {},
   "source": [
    "The average cross-validated RMSE is slighly better than the class model. Check the learning curve and save the model."
   ]
  },
  {
   "cell_type": "code",
   "execution_count": 29,
   "id": "f9038260",
   "metadata": {},
   "outputs": [
    {
     "data": {
      "text/plain": [
       "<module 'matplotlib.pyplot' from 'C:\\\\ProgramData\\\\Anaconda3\\\\lib\\\\site-packages\\\\matplotlib\\\\pyplot.py'>"
      ]
     },
     "execution_count": 29,
     "metadata": {},
     "output_type": "execute_result"
    },
    {
     "data": {
      "image/png": "[encoded data removed]",
      "text/plain": [
       "<Figure size 720x1080 with 3 Axes>"
      ]
     },
     "metadata": {
      "needs_background": "light"
     },
     "output_type": "display_data"
    }
   ],
   "source": [
    "fig, axes = plt.subplots(3, 1, figsize=(10, 15))\n",
    "\n",
    "title = \"Learning curves for ridge regression\"\n",
    "\n",
    "plot_learning_curve(\n",
    "    best_model, title, X, y, axes=axes, cv=cv, n_jobs=4, scoring=scorer\n",
    ")"
   ]
  },
  {
   "cell_type": "code",
   "execution_count": 30,
   "id": "c27078a4",
   "metadata": {},
   "outputs": [],
   "source": [
    "pickle.dump(best_model, open('best_model.pkl', 'wb'))"
   ]
  },
  {
   "cell_type": "code",
   "execution_count": 31,
   "id": "62773a73",
   "metadata": {},
   "outputs": [],
   "source": [
    "loaded_model = pickle.load(open('best_model.pkl', 'rb'))"
   ]
  },
  {
   "cell_type": "code",
   "execution_count": 32,
   "id": "8b2746fe",
   "metadata": {},
   "outputs": [
    {
     "data": {
      "text/plain": [
       "False"
      ]
     },
     "execution_count": 32,
     "metadata": {},
     "output_type": "execute_result"
    }
   ],
   "source": [
    "loaded_model == best_model"
   ]
  },
  {
   "cell_type": "code",
   "execution_count": 33,
   "id": "ecfd5c87",
   "metadata": {},
   "outputs": [
    {
     "data": {
      "text/plain": [
       "array([-0.00256548])"
      ]
     },
     "execution_count": 33,
     "metadata": {},
     "output_type": "execute_result"
    }
   ],
   "source": [
    "loaded_model.predict(X.iloc[[-1]])"
   ]
  },
  {
   "cell_type": "code",
   "execution_count": 34,
   "id": "d05d2248",
   "metadata": {},
   "outputs": [
    {
     "data": {
      "text/plain": [
       "array([-0.00256548])"
      ]
     },
     "execution_count": 34,
     "metadata": {},
     "output_type": "execute_result"
    }
   ],
   "source": [
    "best_model.predict(X.iloc[[-1]])"
   ]
  },
  {
   "cell_type": "code",
   "execution_count": 35,
   "id": "15c8786f",
   "metadata": {},
   "outputs": [
    {
     "data": {
      "text/plain": [
       "Pipeline(steps=[('impute', SimpleImputer(fill_value=0.0, strategy='constant')),\n",
       "                ('scale', QuantileTransformer(n_quantiles=10, random_state=0)),\n",
       "                ('pca', PCA(n_components=1)),\n",
       "                ('model', SVR(C=0.01, kernel='linear'))])"
      ]
     },
     "execution_count": 35,
     "metadata": {},
     "output_type": "execute_result"
    }
   ],
   "source": [
    "best_model"
   ]
  },
  {
   "cell_type": "code",
   "execution_count": 36,
   "id": "0ecf75a4",
   "metadata": {},
   "outputs": [
    {
     "data": {
      "text/plain": [
       "Pipeline(steps=[('impute', SimpleImputer(fill_value=0.0, strategy='constant')),\n",
       "                ('scale', QuantileTransformer(n_quantiles=10, random_state=0)),\n",
       "                ('pca', PCA(n_components=1)),\n",
       "                ('model', SVR(C=0.01, kernel='linear'))])"
      ]
     },
     "execution_count": 36,
     "metadata": {},
     "output_type": "execute_result"
    }
   ],
   "source": [
    "loaded_model"
   ]
  },
  {
   "cell_type": "code",
   "execution_count": 37,
   "id": "dbec805f",
   "metadata": {},
   "outputs": [
    {
     "data": {
      "text/plain": [
       "-0.008546201345938906"
      ]
     },
     "execution_count": 37,
     "metadata": {},
     "output_type": "execute_result"
    }
   ],
   "source": [
    "evaluate_model(best_model, X, y)"
   ]
  },
  {
   "cell_type": "code",
   "execution_count": 38,
   "id": "a0a8ec37",
   "metadata": {},
   "outputs": [
    {
     "data": {
      "text/plain": [
       "-0.008546201345938906"
      ]
     },
     "execution_count": 38,
     "metadata": {},
     "output_type": "execute_result"
    }
   ],
   "source": [
    "evaluate_model(loaded_model, X, y)"
   ]
  },
  {
   "cell_type": "code",
   "execution_count": null,
   "id": "d239971d",
   "metadata": {},
   "outputs": [],
   "source": []
  }
 ],
 "metadata": {
  "kernelspec": {
   "display_name": "Python 3 (ipykernel)",
   "language": "python",
   "name": "python3"
  },
  "language_info": {
   "codemirror_mode": {
    "name": "ipython",
    "version": 3
   },
   "file_extension": ".py",
   "mimetype": "text/x-python",
   "name": "python",
   "nbconvert_exporter": "python",
   "pygments_lexer": "ipython3",
   "version": "3.9.7"
  }
 },
 "nbformat": 4,
 "nbformat_minor": 5
}
