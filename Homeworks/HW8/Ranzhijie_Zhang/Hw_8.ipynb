{
 "cells": [
  {
   "cell_type": "code",
   "execution_count": 1,
   "id": "d48563de",
   "metadata": {},
   "outputs": [],
   "source": [
    "data_location = 'sqlite:///../../data/data.db'"
   ]
  },
  {
   "cell_type": "code",
   "execution_count": 2,
   "id": "e4e49bf9",
   "metadata": {},
   "outputs": [],
   "source": [
    "import pandas as pd\n",
    "import numpy as np\n",
    "import matplotlib.pyplot as plt\n",
    "from functools import reduce\n",
    "\n",
    "import pickle"
   ]
  },
  {
   "cell_type": "code",
   "execution_count": 3,
   "id": "02bc99aa",
   "metadata": {},
   "outputs": [],
   "source": [
    "def vol_ohlc(df, lookback=10):\n",
    "    o = df.open\n",
    "    h = df.high\n",
    "    l = df.low\n",
    "    c = df.close\n",
    "    \n",
    "    k = 0.34 / (1.34 + (lookback+1)/(lookback-1))\n",
    "    cc = np.log(c/c.shift(1))\n",
    "    ho = np.log(h/o)\n",
    "    lo = np.log(l/o)\n",
    "    co = np.log(c/o)\n",
    "    oc = np.log(o/c.shift(1))\n",
    "    oc_sq = oc**2\n",
    "    cc_sq = cc**2\n",
    "    rs = ho*(ho-co)+lo*(lo-co)\n",
    "    close_vol = cc_sq.rolling(lookback).sum() * (1.0 / (lookback - 1.0))\n",
    "    open_vol = oc_sq.rolling(lookback).sum() * (1.0 / (lookback - 1.0))\n",
    "    window_rs = rs.rolling(lookback).sum() * (1.0 / (lookback - 1.0))\n",
    "    result = (open_vol + k * close_vol + (1-k) * window_rs).apply(np.sqrt) * np.sqrt(252)\n",
    "    result[:lookback-1] = np.nan\n",
    "    \n",
    "    return result"
   ]
  },
  {
   "cell_type": "code",
   "execution_count": 4,
   "id": "d8d2097e",
   "metadata": {},
   "outputs": [],
   "source": [
    "def plot_learning_curve(\n",
    "    estimator,\n",
    "    title,\n",
    "    X,\n",
    "    y,\n",
    "    axes=None,\n",
    "    ylim=None,\n",
    "    cv=None,\n",
    "    n_jobs=None,\n",
    "    train_sizes=np.linspace(0.1, 1.0, 5),\n",
    "    scoring=None\n",
    "):\n",
    "    if axes is None:\n",
    "        _, axes = plt.subplots(1, 3, figsize=(20, 5))\n",
    "\n",
    "    axes[0].set_title(title)\n",
    "    if ylim is not None:\n",
    "        axes[0].set_ylim(*ylim)\n",
    "    axes[0].set_xlabel(\"Training examples\")\n",
    "    axes[0].set_ylabel(\"Score\")\n",
    "\n",
    "    train_sizes, train_scores, test_scores, fit_times, _ = learning_curve(\n",
    "        estimator,\n",
    "        X,\n",
    "        y,\n",
    "        cv=cv,\n",
    "        n_jobs=n_jobs,\n",
    "        train_sizes=train_sizes,\n",
    "        return_times=True,\n",
    "        scoring=scoring,\n",
    "    )\n",
    "    train_scores_mean = np.mean(train_scores, axis=1)\n",
    "    train_scores_std = np.std(train_scores, axis=1)\n",
    "    test_scores_mean = np.mean(test_scores, axis=1)\n",
    "    test_scores_std = np.std(test_scores, axis=1)\n",
    "    fit_times_mean = np.mean(fit_times, axis=1)\n",
    "    fit_times_std = np.std(fit_times, axis=1)\n",
    "\n",
    "    # Plot learning curve\n",
    "    axes[0].grid()\n",
    "    axes[0].fill_between(\n",
    "        train_sizes,\n",
    "        train_scores_mean - train_scores_std,\n",
    "        train_scores_mean + train_scores_std,\n",
    "        alpha=0.1,\n",
    "        color=\"r\",\n",
    "    )\n",
    "    axes[0].fill_between(\n",
    "        train_sizes,\n",
    "        test_scores_mean - test_scores_std,\n",
    "        test_scores_mean + test_scores_std,\n",
    "        alpha=0.1,\n",
    "        color=\"g\",\n",
    "    )\n",
    "    axes[0].plot(\n",
    "        train_sizes, train_scores_mean, \"o-\", color=\"r\", label=\"Training score\"\n",
    "    )\n",
    "    axes[0].plot(\n",
    "        train_sizes, test_scores_mean, \"o-\", color=\"g\", label=\"Cross-validation score\"\n",
    "    )\n",
    "    axes[0].legend(loc=\"best\")\n",
    "\n",
    "    # Plot n_samples vs fit_times\n",
    "    axes[1].grid()\n",
    "    axes[1].plot(train_sizes, fit_times_mean, \"o-\")\n",
    "    axes[1].fill_between(\n",
    "        train_sizes,\n",
    "        fit_times_mean - fit_times_std,\n",
    "        fit_times_mean + fit_times_std,\n",
    "        alpha=0.1,\n",
    "    )\n",
    "    axes[1].set_xlabel(\"Training examples\")\n",
    "    axes[1].set_ylabel(\"fit_times\")\n",
    "    axes[1].set_title(\"Scalability of the model\")\n",
    "\n",
    "    # Plot fit_time vs score\n",
    "    fit_time_argsort = fit_times_mean.argsort()\n",
    "    fit_time_sorted = fit_times_mean[fit_time_argsort]\n",
    "    test_scores_mean_sorted = test_scores_mean[fit_time_argsort]\n",
    "    test_scores_std_sorted = test_scores_std[fit_time_argsort]\n",
    "    axes[2].grid()\n",
    "    axes[2].plot(fit_time_sorted, test_scores_mean_sorted, \"o-\")\n",
    "    axes[2].fill_between(\n",
    "        fit_time_sorted,\n",
    "        test_scores_mean_sorted - test_scores_std_sorted,\n",
    "        test_scores_mean_sorted + test_scores_std_sorted,\n",
    "        alpha=0.1,\n",
    "    )\n",
    "    axes[2].set_xlabel(\"fit_times\")\n",
    "    axes[2].set_ylabel(\"Score\")\n",
    "    axes[2].set_title(\"Performance of the model\")\n",
    "\n",
    "    return plt"
   ]
  },
  {
   "cell_type": "code",
   "execution_count": 5,
   "id": "ce44b292",
   "metadata": {},
   "outputs": [
    {
     "data": {
      "text/plain": [
       "(11627, 9)"
      ]
     },
     "execution_count": 5,
     "metadata": {},
     "output_type": "execute_result"
    }
   ],
   "source": [
    "ohlc = pd.read_sql('SELECT * FROM ohlc', data_location)\n",
    "ohlc.shape"
   ]
  },
  {
   "cell_type": "code",
   "execution_count": 6,
   "id": "7ce44b1a",
   "metadata": {},
   "outputs": [],
   "source": [
    "tokens = ohlc.token.unique()"
   ]
  },
  {
   "cell_type": "code",
   "execution_count": 7,
   "id": "c38853d8",
   "metadata": {},
   "outputs": [],
   "source": [
    "def df_merge(left, right):\n",
    "    return pd.merge(left, right, on='ts', how='inner')\n",
    "\n",
    "X = reduce(df_merge, [\n",
    "    (lambda df: \n",
    "    (\n",
    "        df\n",
    "        .assign(\n",
    "            vol=vol_ohlc(df).fillna(0),\n",
    "            ret=df.close.pct_change()\n",
    "        )[['ts', 'vol', 'ret']]\n",
    "        .rename(columns={\n",
    "            col: f'{col}_{token}' for col in ['ts', 'vol', 'ret'] if col != 'ts'\n",
    "        })\n",
    "    ))(ohlc[ohlc.token == token])\n",
    "    for token in tokens\n",
    "]).set_index('ts')"
   ]
  },
  {
   "cell_type": "code",
   "execution_count": 8,
   "id": "67942c7b-9d93-4359-9d26-f19c13c7bf0e",
   "metadata": {},
   "outputs": [],
   "source": [
    "y = X.ret_SOL.shift(-1)[:-1] # predict SOL return by other features\n",
    "X = X[:-1]"
   ]
  },
  {
   "cell_type": "code",
   "execution_count": 9,
   "id": "7864e6d6-6a6f-47a6-9e87-c8bfad75f1e1",
   "metadata": {},
   "outputs": [
    {
     "data": {
      "text/plain": [
       "Index(['vol_BTC', 'ret_BTC', 'vol_ETH', 'ret_ETH', 'vol_USDT', 'ret_USDT',\n",
       "       'vol_SOL', 'ret_SOL', 'vol_ADA', 'ret_ADA', 'vol_DOT', 'ret_DOT',\n",
       "       'vol_AVAX', 'ret_AVAX', 'vol_ATOM', 'ret_ATOM', 'vol_CRV', 'ret_CRV',\n",
       "       'vol_AAVE', 'ret_AAVE', 'vol_COMP', 'ret_COMP'],\n",
       "      dtype='object')"
      ]
     },
     "execution_count": 9,
     "metadata": {},
     "output_type": "execute_result"
    }
   ],
   "source": [
    "X.columns"
   ]
  },
  {
   "cell_type": "code",
   "execution_count": 10,
   "id": "30c8f3de-2cb7-496d-83de-6d9b90181d0a",
   "metadata": {},
   "outputs": [],
   "source": [
    "corr = np.array(list({col: y.corr(X[col]) for col in X.columns if X[col].dtype != 'object'}.items()))"
   ]
  },
  {
   "cell_type": "code",
   "execution_count": 11,
   "id": "ac483834-63c6-4157-a2a7-1aaba5db01fd",
   "metadata": {},
   "outputs": [
    {
     "data": {
      "text/plain": [
       "0.02712205656361897"
      ]
     },
     "execution_count": 11,
     "metadata": {},
     "output_type": "execute_result"
    }
   ],
   "source": [
    "np.abs(corr[:,1].astype(float)).mean()"
   ]
  },
  {
   "cell_type": "code",
   "execution_count": 12,
   "id": "ba57d161-df82-4890-854e-91e3a2c973c9",
   "metadata": {},
   "outputs": [
    {
     "data": {
      "text/html": [
       "<div>\n",
       "<style scoped>\n",
       "    .dataframe tbody tr th:only-of-type {\n",
       "        vertical-align: middle;\n",
       "    }\n",
       "\n",
       "    .dataframe tbody tr th {\n",
       "        vertical-align: top;\n",
       "    }\n",
       "\n",
       "    .dataframe thead th {\n",
       "        text-align: right;\n",
       "    }\n",
       "</style>\n",
       "<table border=\"1\" class=\"dataframe\">\n",
       "  <thead>\n",
       "    <tr style=\"text-align: right;\">\n",
       "      <th></th>\n",
       "      <th>vol_BTC</th>\n",
       "      <th>ret_BTC</th>\n",
       "      <th>vol_ETH</th>\n",
       "      <th>ret_ETH</th>\n",
       "      <th>vol_USDT</th>\n",
       "      <th>ret_USDT</th>\n",
       "      <th>vol_SOL</th>\n",
       "      <th>ret_SOL</th>\n",
       "      <th>vol_ADA</th>\n",
       "      <th>ret_ADA</th>\n",
       "      <th>...</th>\n",
       "      <th>vol_AVAX</th>\n",
       "      <th>ret_AVAX</th>\n",
       "      <th>vol_ATOM</th>\n",
       "      <th>ret_ATOM</th>\n",
       "      <th>vol_CRV</th>\n",
       "      <th>ret_CRV</th>\n",
       "      <th>vol_AAVE</th>\n",
       "      <th>ret_AAVE</th>\n",
       "      <th>vol_COMP</th>\n",
       "      <th>ret_COMP</th>\n",
       "    </tr>\n",
       "    <tr>\n",
       "      <th>ts</th>\n",
       "      <th></th>\n",
       "      <th></th>\n",
       "      <th></th>\n",
       "      <th></th>\n",
       "      <th></th>\n",
       "      <th></th>\n",
       "      <th></th>\n",
       "      <th></th>\n",
       "      <th></th>\n",
       "      <th></th>\n",
       "      <th></th>\n",
       "      <th></th>\n",
       "      <th></th>\n",
       "      <th></th>\n",
       "      <th></th>\n",
       "      <th></th>\n",
       "      <th></th>\n",
       "      <th></th>\n",
       "      <th></th>\n",
       "      <th></th>\n",
       "      <th></th>\n",
       "    </tr>\n",
       "  </thead>\n",
       "  <tbody>\n",
       "    <tr>\n",
       "      <th>2021-11-01 00:00:00</th>\n",
       "      <td>0.000000</td>\n",
       "      <td>NaN</td>\n",
       "      <td>0.000000</td>\n",
       "      <td>NaN</td>\n",
       "      <td>0.000000</td>\n",
       "      <td>NaN</td>\n",
       "      <td>0.000000</td>\n",
       "      <td>NaN</td>\n",
       "      <td>0.000000</td>\n",
       "      <td>NaN</td>\n",
       "      <td>...</td>\n",
       "      <td>0.000000</td>\n",
       "      <td>NaN</td>\n",
       "      <td>0.000000</td>\n",
       "      <td>NaN</td>\n",
       "      <td>0.000000</td>\n",
       "      <td>NaN</td>\n",
       "      <td>0.000000</td>\n",
       "      <td>NaN</td>\n",
       "      <td>0.000000</td>\n",
       "      <td>NaN</td>\n",
       "    </tr>\n",
       "    <tr>\n",
       "      <th>2021-11-01 01:00:00</th>\n",
       "      <td>0.000000</td>\n",
       "      <td>0.004357</td>\n",
       "      <td>0.000000</td>\n",
       "      <td>0.006874</td>\n",
       "      <td>0.000000</td>\n",
       "      <td>0.0000</td>\n",
       "      <td>0.000000</td>\n",
       "      <td>0.027359</td>\n",
       "      <td>0.000000</td>\n",
       "      <td>0.003203</td>\n",
       "      <td>...</td>\n",
       "      <td>0.000000</td>\n",
       "      <td>-0.006346</td>\n",
       "      <td>0.000000</td>\n",
       "      <td>0.008193</td>\n",
       "      <td>0.000000</td>\n",
       "      <td>0.000725</td>\n",
       "      <td>0.000000</td>\n",
       "      <td>0.008043</td>\n",
       "      <td>0.000000</td>\n",
       "      <td>-0.002281</td>\n",
       "    </tr>\n",
       "    <tr>\n",
       "      <th>2021-11-01 02:00:00</th>\n",
       "      <td>0.000000</td>\n",
       "      <td>-0.004508</td>\n",
       "      <td>0.000000</td>\n",
       "      <td>-0.005322</td>\n",
       "      <td>0.000000</td>\n",
       "      <td>-0.0002</td>\n",
       "      <td>0.000000</td>\n",
       "      <td>-0.009879</td>\n",
       "      <td>0.000000</td>\n",
       "      <td>-0.008667</td>\n",
       "      <td>...</td>\n",
       "      <td>0.000000</td>\n",
       "      <td>-0.006231</td>\n",
       "      <td>0.000000</td>\n",
       "      <td>-0.025419</td>\n",
       "      <td>0.000000</td>\n",
       "      <td>-0.031791</td>\n",
       "      <td>0.000000</td>\n",
       "      <td>-0.009171</td>\n",
       "      <td>0.000000</td>\n",
       "      <td>-0.006020</td>\n",
       "    </tr>\n",
       "    <tr>\n",
       "      <th>2021-11-01 03:00:00</th>\n",
       "      <td>0.000000</td>\n",
       "      <td>-0.012132</td>\n",
       "      <td>0.000000</td>\n",
       "      <td>-0.013126</td>\n",
       "      <td>0.000000</td>\n",
       "      <td>0.0001</td>\n",
       "      <td>0.000000</td>\n",
       "      <td>-0.021692</td>\n",
       "      <td>0.000000</td>\n",
       "      <td>-0.007618</td>\n",
       "      <td>...</td>\n",
       "      <td>0.000000</td>\n",
       "      <td>-0.005329</td>\n",
       "      <td>0.000000</td>\n",
       "      <td>-0.013943</td>\n",
       "      <td>0.000000</td>\n",
       "      <td>-0.010431</td>\n",
       "      <td>0.000000</td>\n",
       "      <td>-0.013301</td>\n",
       "      <td>0.000000</td>\n",
       "      <td>-0.022273</td>\n",
       "    </tr>\n",
       "    <tr>\n",
       "      <th>2021-11-01 04:00:00</th>\n",
       "      <td>0.000000</td>\n",
       "      <td>-0.010186</td>\n",
       "      <td>0.000000</td>\n",
       "      <td>-0.010679</td>\n",
       "      <td>0.000000</td>\n",
       "      <td>0.0000</td>\n",
       "      <td>0.000000</td>\n",
       "      <td>-0.003039</td>\n",
       "      <td>0.000000</td>\n",
       "      <td>-0.006903</td>\n",
       "      <td>...</td>\n",
       "      <td>0.000000</td>\n",
       "      <td>-0.008667</td>\n",
       "      <td>0.000000</td>\n",
       "      <td>-0.020046</td>\n",
       "      <td>0.000000</td>\n",
       "      <td>0.004514</td>\n",
       "      <td>0.000000</td>\n",
       "      <td>-0.016452</td>\n",
       "      <td>0.000000</td>\n",
       "      <td>-0.024002</td>\n",
       "    </tr>\n",
       "    <tr>\n",
       "      <th>...</th>\n",
       "      <td>...</td>\n",
       "      <td>...</td>\n",
       "      <td>...</td>\n",
       "      <td>...</td>\n",
       "      <td>...</td>\n",
       "      <td>...</td>\n",
       "      <td>...</td>\n",
       "      <td>...</td>\n",
       "      <td>...</td>\n",
       "      <td>...</td>\n",
       "      <td>...</td>\n",
       "      <td>...</td>\n",
       "      <td>...</td>\n",
       "      <td>...</td>\n",
       "      <td>...</td>\n",
       "      <td>...</td>\n",
       "      <td>...</td>\n",
       "      <td>...</td>\n",
       "      <td>...</td>\n",
       "      <td>...</td>\n",
       "      <td>...</td>\n",
       "    </tr>\n",
       "    <tr>\n",
       "      <th>2021-12-14 19:00:00</th>\n",
       "      <td>0.136406</td>\n",
       "      <td>0.000402</td>\n",
       "      <td>0.159860</td>\n",
       "      <td>-0.002922</td>\n",
       "      <td>0.002354</td>\n",
       "      <td>0.0000</td>\n",
       "      <td>0.220576</td>\n",
       "      <td>-0.001624</td>\n",
       "      <td>0.223436</td>\n",
       "      <td>0.000326</td>\n",
       "      <td>...</td>\n",
       "      <td>0.236402</td>\n",
       "      <td>-0.014223</td>\n",
       "      <td>0.253997</td>\n",
       "      <td>-0.007009</td>\n",
       "      <td>0.256996</td>\n",
       "      <td>-0.006061</td>\n",
       "      <td>0.206319</td>\n",
       "      <td>-0.005855</td>\n",
       "      <td>0.286230</td>\n",
       "      <td>-0.011428</td>\n",
       "    </tr>\n",
       "    <tr>\n",
       "      <th>2021-12-14 20:00:00</th>\n",
       "      <td>0.136358</td>\n",
       "      <td>0.004810</td>\n",
       "      <td>0.158369</td>\n",
       "      <td>0.005961</td>\n",
       "      <td>0.002463</td>\n",
       "      <td>0.0001</td>\n",
       "      <td>0.216740</td>\n",
       "      <td>0.002798</td>\n",
       "      <td>0.225286</td>\n",
       "      <td>0.014437</td>\n",
       "      <td>...</td>\n",
       "      <td>0.239258</td>\n",
       "      <td>0.008227</td>\n",
       "      <td>0.254118</td>\n",
       "      <td>-0.000471</td>\n",
       "      <td>0.255464</td>\n",
       "      <td>0.003049</td>\n",
       "      <td>0.207758</td>\n",
       "      <td>0.009387</td>\n",
       "      <td>0.284268</td>\n",
       "      <td>0.006813</td>\n",
       "    </tr>\n",
       "    <tr>\n",
       "      <th>2021-12-14 21:00:00</th>\n",
       "      <td>0.142237</td>\n",
       "      <td>0.019797</td>\n",
       "      <td>0.170096</td>\n",
       "      <td>0.016737</td>\n",
       "      <td>0.002652</td>\n",
       "      <td>0.0000</td>\n",
       "      <td>0.218492</td>\n",
       "      <td>0.025892</td>\n",
       "      <td>0.224116</td>\n",
       "      <td>0.012141</td>\n",
       "      <td>...</td>\n",
       "      <td>0.241603</td>\n",
       "      <td>0.019207</td>\n",
       "      <td>0.254350</td>\n",
       "      <td>0.019303</td>\n",
       "      <td>0.263456</td>\n",
       "      <td>0.021277</td>\n",
       "      <td>0.222014</td>\n",
       "      <td>0.022490</td>\n",
       "      <td>0.281497</td>\n",
       "      <td>0.017473</td>\n",
       "    </tr>\n",
       "    <tr>\n",
       "      <th>2021-12-14 22:00:00</th>\n",
       "      <td>0.151148</td>\n",
       "      <td>0.010414</td>\n",
       "      <td>0.172081</td>\n",
       "      <td>0.004623</td>\n",
       "      <td>0.002684</td>\n",
       "      <td>0.0000</td>\n",
       "      <td>0.246122</td>\n",
       "      <td>0.015624</td>\n",
       "      <td>0.232362</td>\n",
       "      <td>0.009295</td>\n",
       "      <td>...</td>\n",
       "      <td>0.268875</td>\n",
       "      <td>0.026851</td>\n",
       "      <td>0.253472</td>\n",
       "      <td>0.012933</td>\n",
       "      <td>0.270895</td>\n",
       "      <td>0.023810</td>\n",
       "      <td>0.220598</td>\n",
       "      <td>0.006242</td>\n",
       "      <td>0.275083</td>\n",
       "      <td>0.009868</td>\n",
       "    </tr>\n",
       "    <tr>\n",
       "      <th>2021-12-14 23:00:00</th>\n",
       "      <td>0.149424</td>\n",
       "      <td>-0.000302</td>\n",
       "      <td>0.170257</td>\n",
       "      <td>-0.003195</td>\n",
       "      <td>0.002823</td>\n",
       "      <td>0.0001</td>\n",
       "      <td>0.238235</td>\n",
       "      <td>-0.010027</td>\n",
       "      <td>0.231115</td>\n",
       "      <td>-0.000157</td>\n",
       "      <td>...</td>\n",
       "      <td>0.301778</td>\n",
       "      <td>0.032506</td>\n",
       "      <td>0.245708</td>\n",
       "      <td>-0.009576</td>\n",
       "      <td>0.268758</td>\n",
       "      <td>-0.011628</td>\n",
       "      <td>0.219474</td>\n",
       "      <td>-0.003013</td>\n",
       "      <td>0.271229</td>\n",
       "      <td>-0.000864</td>\n",
       "    </tr>\n",
       "  </tbody>\n",
       "</table>\n",
       "<p>1056 rows × 22 columns</p>\n",
       "</div>"
      ],
      "text/plain": [
       "                      vol_BTC   ret_BTC   vol_ETH   ret_ETH  vol_USDT  \\\n",
       "ts                                                                      \n",
       "2021-11-01 00:00:00  0.000000       NaN  0.000000       NaN  0.000000   \n",
       "2021-11-01 01:00:00  0.000000  0.004357  0.000000  0.006874  0.000000   \n",
       "2021-11-01 02:00:00  0.000000 -0.004508  0.000000 -0.005322  0.000000   \n",
       "2021-11-01 03:00:00  0.000000 -0.012132  0.000000 -0.013126  0.000000   \n",
       "2021-11-01 04:00:00  0.000000 -0.010186  0.000000 -0.010679  0.000000   \n",
       "...                       ...       ...       ...       ...       ...   \n",
       "2021-12-14 19:00:00  0.136406  0.000402  0.159860 -0.002922  0.002354   \n",
       "2021-12-14 20:00:00  0.136358  0.004810  0.158369  0.005961  0.002463   \n",
       "2021-12-14 21:00:00  0.142237  0.019797  0.170096  0.016737  0.002652   \n",
       "2021-12-14 22:00:00  0.151148  0.010414  0.172081  0.004623  0.002684   \n",
       "2021-12-14 23:00:00  0.149424 -0.000302  0.170257 -0.003195  0.002823   \n",
       "\n",
       "                     ret_USDT   vol_SOL   ret_SOL   vol_ADA   ret_ADA  ...  \\\n",
       "ts                                                                     ...   \n",
       "2021-11-01 00:00:00       NaN  0.000000       NaN  0.000000       NaN  ...   \n",
       "2021-11-01 01:00:00    0.0000  0.000000  0.027359  0.000000  0.003203  ...   \n",
       "2021-11-01 02:00:00   -0.0002  0.000000 -0.009879  0.000000 -0.008667  ...   \n",
       "2021-11-01 03:00:00    0.0001  0.000000 -0.021692  0.000000 -0.007618  ...   \n",
       "2021-11-01 04:00:00    0.0000  0.000000 -0.003039  0.000000 -0.006903  ...   \n",
       "...                       ...       ...       ...       ...       ...  ...   \n",
       "2021-12-14 19:00:00    0.0000  0.220576 -0.001624  0.223436  0.000326  ...   \n",
       "2021-12-14 20:00:00    0.0001  0.216740  0.002798  0.225286  0.014437  ...   \n",
       "2021-12-14 21:00:00    0.0000  0.218492  0.025892  0.224116  0.012141  ...   \n",
       "2021-12-14 22:00:00    0.0000  0.246122  0.015624  0.232362  0.009295  ...   \n",
       "2021-12-14 23:00:00    0.0001  0.238235 -0.010027  0.231115 -0.000157  ...   \n",
       "\n",
       "                     vol_AVAX  ret_AVAX  vol_ATOM  ret_ATOM   vol_CRV  \\\n",
       "ts                                                                      \n",
       "2021-11-01 00:00:00  0.000000       NaN  0.000000       NaN  0.000000   \n",
       "2021-11-01 01:00:00  0.000000 -0.006346  0.000000  0.008193  0.000000   \n",
       "2021-11-01 02:00:00  0.000000 -0.006231  0.000000 -0.025419  0.000000   \n",
       "2021-11-01 03:00:00  0.000000 -0.005329  0.000000 -0.013943  0.000000   \n",
       "2021-11-01 04:00:00  0.000000 -0.008667  0.000000 -0.020046  0.000000   \n",
       "...                       ...       ...       ...       ...       ...   \n",
       "2021-12-14 19:00:00  0.236402 -0.014223  0.253997 -0.007009  0.256996   \n",
       "2021-12-14 20:00:00  0.239258  0.008227  0.254118 -0.000471  0.255464   \n",
       "2021-12-14 21:00:00  0.241603  0.019207  0.254350  0.019303  0.263456   \n",
       "2021-12-14 22:00:00  0.268875  0.026851  0.253472  0.012933  0.270895   \n",
       "2021-12-14 23:00:00  0.301778  0.032506  0.245708 -0.009576  0.268758   \n",
       "\n",
       "                      ret_CRV  vol_AAVE  ret_AAVE  vol_COMP  ret_COMP  \n",
       "ts                                                                     \n",
       "2021-11-01 00:00:00       NaN  0.000000       NaN  0.000000       NaN  \n",
       "2021-11-01 01:00:00  0.000725  0.000000  0.008043  0.000000 -0.002281  \n",
       "2021-11-01 02:00:00 -0.031791  0.000000 -0.009171  0.000000 -0.006020  \n",
       "2021-11-01 03:00:00 -0.010431  0.000000 -0.013301  0.000000 -0.022273  \n",
       "2021-11-01 04:00:00  0.004514  0.000000 -0.016452  0.000000 -0.024002  \n",
       "...                       ...       ...       ...       ...       ...  \n",
       "2021-12-14 19:00:00 -0.006061  0.206319 -0.005855  0.286230 -0.011428  \n",
       "2021-12-14 20:00:00  0.003049  0.207758  0.009387  0.284268  0.006813  \n",
       "2021-12-14 21:00:00  0.021277  0.222014  0.022490  0.281497  0.017473  \n",
       "2021-12-14 22:00:00  0.023810  0.220598  0.006242  0.275083  0.009868  \n",
       "2021-12-14 23:00:00 -0.011628  0.219474 -0.003013  0.271229 -0.000864  \n",
       "\n",
       "[1056 rows x 22 columns]"
      ]
     },
     "execution_count": 12,
     "metadata": {},
     "output_type": "execute_result"
    }
   ],
   "source": [
    "X"
   ]
  },
  {
   "cell_type": "code",
   "execution_count": 13,
   "id": "c8566573-7bf4-4297-88d6-740d95218c63",
   "metadata": {},
   "outputs": [
    {
     "data": {
      "text/plain": [
       "ts\n",
       "2021-11-01 00:00:00    0.027359\n",
       "2021-11-01 01:00:00   -0.009879\n",
       "2021-11-01 02:00:00   -0.021692\n",
       "2021-11-01 03:00:00   -0.003039\n",
       "2021-11-01 04:00:00    0.007863\n",
       "                         ...   \n",
       "2021-12-14 19:00:00    0.002798\n",
       "2021-12-14 20:00:00    0.025892\n",
       "2021-12-14 21:00:00    0.015624\n",
       "2021-12-14 22:00:00   -0.010027\n",
       "2021-12-14 23:00:00    0.002517\n",
       "Name: ret_SOL, Length: 1056, dtype: float64"
      ]
     },
     "execution_count": 13,
     "metadata": {},
     "output_type": "execute_result"
    }
   ],
   "source": [
    "y"
   ]
  },
  {
   "cell_type": "code",
   "execution_count": 14,
   "id": "807a8bae-0e63-4e19-83e3-1a1597e2b963",
   "metadata": {},
   "outputs": [],
   "source": [
    "from sklearn.preprocessing import StandardScaler\n",
    "from sklearn.preprocessing import QuantileTransformer\n",
    "from sklearn.decomposition import PCA\n",
    "from sklearn.impute import SimpleImputer\n",
    "\n",
    "from sklearn.base import BaseEstimator, TransformerMixin\n",
    "from sklearn.pipeline import Pipeline\n",
    "from sklearn.compose import ColumnTransformer\n",
    "\n",
    "from sklearn.tree import DecisionTreeRegressor\n",
    "from sklearn.ensemble import RandomForestRegressor\n",
    "from sklearn.linear_model import Ridge\n",
    "\n",
    "from sklearn.model_selection import cross_validate\n",
    "from sklearn.model_selection import TimeSeriesSplit\n",
    "from sklearn.metrics import mean_squared_error, make_scorer\n",
    "\n",
    "from sklearn.model_selection import learning_curve"
   ]
  },
  {
   "cell_type": "code",
   "execution_count": 15,
   "id": "4472d873-5e77-434a-b353-fa0c07fdb0b6",
   "metadata": {},
   "outputs": [],
   "source": [
    "class FeatureSelector(BaseEstimator, TransformerMixin):\n",
    "    def __init__(self, columns):\n",
    "        self.columns = columns\n",
    "        \n",
    "    def fit(self, X, y=None):\n",
    "        return self\n",
    "    \n",
    "    def transform(self, X):\n",
    "        return X[self.columns]"
   ]
  },
  {
   "cell_type": "code",
   "execution_count": 16,
   "id": "f59b0e4b-7a4b-4c7a-b7dc-830bc9cc2471",
   "metadata": {},
   "outputs": [],
   "source": [
    "def evaluate_model(model, X, y, test_size=0.2):\n",
    "    cv = TimeSeriesSplit(n_splits=int(y.shape[0] * test_size), test_size=1)   #Time_seires split is important\n",
    "    scorer = make_scorer(mean_squared_error, greater_is_better=False, squared=False)\n",
    "    \n",
    "    return np.mean(cross_validate(model, X, y, cv=cv, scoring=scorer, n_jobs=-1)['test_score'])"
   ]
  },
  {
   "cell_type": "markdown",
   "id": "3cbbb638-2604-46ac-8869-883429cf9378",
   "metadata": {},
   "source": [
    "# Now here is the benchmark "
   ]
  },
  {
   "cell_type": "code",
   "execution_count": 17,
   "id": "c130c461-3b8a-4d7c-b29b-fd9d1ba83ddc",
   "metadata": {},
   "outputs": [
    {
     "data": {
      "text/plain": [
       "GridSearchCV(cv=TimeSeriesSplit(gap=0, max_train_size=None, n_splits=211, test_size=1),\n",
       "             estimator=Pipeline(steps=[('impute',\n",
       "                                        SimpleImputer(fill_value=0.0,\n",
       "                                                      strategy='constant')),\n",
       "                                       ('scale', StandardScaler()),\n",
       "                                       ('pca', PCA()), ('model', Ridge())]),\n",
       "             n_jobs=-1,\n",
       "             param_grid={'model__alpha': [0.1, 0.5, 1.0],\n",
       "                         'pca__n_components': [1, 5, 10, 20, 22]},\n",
       "             scoring=make_scorer(mean_squared_error, greater_is_better=False, squared=False))"
      ]
     },
     "execution_count": 17,
     "metadata": {},
     "output_type": "execute_result"
    }
   ],
   "source": [
    "from sklearn.model_selection import GridSearchCV\n",
    "\n",
    "pipeline = Pipeline([\n",
    "    ('impute', SimpleImputer(missing_values=np.nan, strategy='constant', fill_value=0.)),\n",
    "    ('scale', StandardScaler()),\n",
    "    ('pca', PCA()),\n",
    "    ('model', Ridge())\n",
    "])\n",
    "\n",
    "test_size = 0.2\n",
    "cv = TimeSeriesSplit(n_splits=int(y.shape[0] * test_size), test_size=1)\n",
    "scorer = make_scorer(mean_squared_error, greater_is_better=False, squared=False)\n",
    "\n",
    "search = GridSearchCV(pipeline, {\n",
    "    'pca__n_components': [1, 5, 10, 20, 22],\n",
    "    'model__alpha': [0.1, 0.5,  1.]\n",
    "}, scoring=scorer, refit=True, cv=cv, n_jobs=-1)\n",
    "search.fit(X, y)"
   ]
  },
  {
   "cell_type": "code",
   "execution_count": 51,
   "id": "38149e5a-2186-448e-a57c-e75435c37a4e",
   "metadata": {},
   "outputs": [
    {
     "data": {
      "text/plain": [
       "-85.75141851714433"
      ]
     },
     "execution_count": 51,
     "metadata": {},
     "output_type": "execute_result"
    }
   ],
   "source": [
    "best_model = search.best_estimator_\n",
    "evaluate_model(best_model, X, y)*10000"
   ]
  },
  {
   "cell_type": "markdown",
   "id": "d47c77e9-365f-4dde-84eb-f5090759ad3e",
   "metadata": {},
   "source": [
    "# Now start our new approaches"
   ]
  },
  {
   "cell_type": "code",
   "execution_count": 25,
   "id": "33ad70f1-85b1-433a-8abe-ee3d5586ecca",
   "metadata": {},
   "outputs": [
    {
     "data": {
      "text/plain": [
       "Index(['vol_BTC', 'ret_BTC', 'vol_ETH', 'ret_ETH', 'vol_USDT', 'ret_USDT',\n",
       "       'vol_SOL', 'ret_SOL', 'vol_ADA', 'ret_ADA', 'vol_DOT', 'ret_DOT',\n",
       "       'vol_AVAX', 'ret_AVAX', 'vol_ATOM', 'ret_ATOM', 'vol_CRV', 'ret_CRV',\n",
       "       'vol_AAVE', 'ret_AAVE', 'vol_COMP', 'ret_COMP'],\n",
       "      dtype='object')"
      ]
     },
     "execution_count": 25,
     "metadata": {},
     "output_type": "execute_result"
    }
   ],
   "source": [
    "X.columns"
   ]
  },
  {
   "cell_type": "markdown",
   "id": "5062a1ff-3e34-4623-8527-14f9d2f7ba26",
   "metadata": {},
   "source": [
    "# Feature Engieering to create new high correlation feature"
   ]
  },
  {
   "cell_type": "code",
   "execution_count": 28,
   "id": "3ec74ff0-3757-4297-ad46-787860038dbe",
   "metadata": {},
   "outputs": [
    {
     "data": {
      "text/plain": [
       "0.05984258530861505"
      ]
     },
     "execution_count": 28,
     "metadata": {},
     "output_type": "execute_result"
    }
   ],
   "source": [
    "# previous correlation abs value\n",
    "np.abs(corr[:,1].astype(float)).max()"
   ]
  },
  {
   "cell_type": "code",
   "execution_count": 33,
   "id": "7b5f224a-aeeb-4736-989e-82f1d0bfb902",
   "metadata": {},
   "outputs": [
    {
     "data": {
      "text/plain": [
       "ts\n",
       "2021-11-01 00:00:00    0.000000\n",
       "2021-11-01 01:00:00    0.000000\n",
       "2021-11-01 02:00:00    0.000000\n",
       "2021-11-01 03:00:00    0.000000\n",
       "2021-11-01 04:00:00    0.000000\n",
       "                         ...   \n",
       "2021-12-14 19:00:00    0.220576\n",
       "2021-12-14 20:00:00    0.216740\n",
       "2021-12-14 21:00:00    0.218492\n",
       "2021-12-14 22:00:00    0.246122\n",
       "2021-12-14 23:00:00    0.238235\n",
       "Name: vol_SOL, Length: 1056, dtype: float64"
      ]
     },
     "execution_count": 33,
     "metadata": {},
     "output_type": "execute_result"
    }
   ],
   "source": [
    "X.vol_SOL"
   ]
  },
  {
   "cell_type": "code",
   "execution_count": 56,
   "id": "c4eb1a74-9043-4057-a631-de4bf925b6a5",
   "metadata": {},
   "outputs": [],
   "source": [
    "X_fe = X.copy()\n",
    "for i in X.columns:\n",
    "    tmp =  X[i]*X['ret_SOL']\n",
    "    if abs(y.corr(tmp))> 0.02:\n",
    "        X_fe['ret_SOL*'+i] =  X[i]*X['ret_SOL']\n",
    "    tmp = X[i]*X['vol_DOT']\n",
    "    if abs(y.corr(tmp))> 0.02:\n",
    "        X_fe['vol_DOT*'+i] =  X[i]*X['vol_DOT']"
   ]
  },
  {
   "cell_type": "code",
   "execution_count": 57,
   "id": "265e7f8f-b0b9-4581-addf-55d4ebdc6976",
   "metadata": {},
   "outputs": [],
   "source": [
    "corr_new = np.array(list({col: y.corr(X_fe[col]) for col in X_fe.columns if X_fe[col].dtype != 'object'}.items()))"
   ]
  },
  {
   "cell_type": "code",
   "execution_count": 58,
   "id": "a0f2887b-f9aa-4853-9571-59178331091b",
   "metadata": {},
   "outputs": [
    {
     "data": {
      "text/plain": [
       "array([['vol_BTC', '0.028693550573573322'],\n",
       "       ['ret_BTC', '-0.013848623804147265'],\n",
       "       ['vol_ETH', '0.023571512894692854'],\n",
       "       ['ret_ETH', '0.030649212659338235'],\n",
       "       ['vol_USDT', '0.006850180191310895'],\n",
       "       ['ret_USDT', '-0.0444008549905275'],\n",
       "       ['vol_SOL', '0.034852597266384726'],\n",
       "       ['ret_SOL', '-0.029855064193406496'],\n",
       "       ['vol_ADA', '0.03888023343700743'],\n",
       "       ['ret_ADA', '0.00024928333961422275'],\n",
       "       ['vol_DOT', '0.05904076845167184'],\n",
       "       ['ret_DOT', '0.008193946995455026'],\n",
       "       ['vol_AVAX', '0.04140851156078149'],\n",
       "       ['ret_AVAX', '0.01691945028976708'],\n",
       "       ['vol_ATOM', '-0.0022346077856851667'],\n",
       "       ['ret_ATOM', '0.055461618816597766'],\n",
       "       ['vol_CRV', '0.01982889014989337'],\n",
       "       ['ret_CRV', '-0.0058441453961214284'],\n",
       "       ['vol_AAVE', '0.036050778072806794'],\n",
       "       ['ret_AAVE', '0.019895686732066226'],\n",
       "       ['vol_COMP', '0.05984258530861505'],\n",
       "       ['ret_COMP', '0.020113141490153096'],\n",
       "       ['vol_DOT*vol_BTC', '0.046716269124968256'],\n",
       "       ['ret_SOL*ret_BTC', '0.022138168445911762'],\n",
       "       ['vol_DOT*ret_BTC', '0.020345921036137315'],\n",
       "       ['ret_SOL*vol_ETH', '-0.02091633930471191'],\n",
       "       ['vol_DOT*vol_ETH', '0.04925789097589705'],\n",
       "       ['vol_DOT*ret_ETH', '0.05655393007873785'],\n",
       "       ['vol_DOT*vol_USDT', '0.03157507428142052'],\n",
       "       ['ret_SOL*ret_USDT', '-0.05344788331989758'],\n",
       "       ['vol_DOT*ret_USDT', '-0.04828880341880488'],\n",
       "       ['ret_SOL*vol_SOL', '-0.03876411680908115'],\n",
       "       ['vol_DOT*vol_SOL', '0.05569779252455841'],\n",
       "       ['ret_SOL*ret_SOL', '-0.03474712095270351'],\n",
       "       ['vol_DOT*ret_SOL', '-0.026930423123028045'],\n",
       "       ['ret_SOL*vol_ADA', '-0.02989255914207739'],\n",
       "       ['vol_DOT*vol_ADA', '0.057719330378808456'],\n",
       "       ['ret_SOL*vol_DOT', '-0.026930423123028045'],\n",
       "       ['vol_DOT*vol_DOT', '0.06366670918791456'],\n",
       "       ['ret_SOL*vol_AVAX', '-0.0366123453469145'],\n",
       "       ['vol_DOT*vol_AVAX', '0.05906359509173262'],\n",
       "       ['vol_DOT*ret_AVAX', '0.04800769479125578'],\n",
       "       ['ret_SOL*vol_ATOM', '-0.029924065134461802'],\n",
       "       ['vol_DOT*vol_ATOM', '0.04427680239669479'],\n",
       "       ['vol_DOT*ret_ATOM', '0.03825078718421117'],\n",
       "       ['ret_SOL*vol_CRV', '-0.025636706023221285'],\n",
       "       ['vol_DOT*vol_CRV', '0.05059480492848243'],\n",
       "       ['ret_SOL*ret_CRV', '-0.026038764654749743'],\n",
       "       ['ret_SOL*vol_AAVE', '-0.020648682637557807'],\n",
       "       ['vol_DOT*vol_AAVE', '0.05139131083023757'],\n",
       "       ['vol_DOT*ret_AAVE', '0.05425349967254972'],\n",
       "       ['ret_SOL*vol_COMP', '-0.02320416345068267'],\n",
       "       ['vol_DOT*vol_COMP', '0.06563481468530487'],\n",
       "       ['ret_SOL*ret_COMP', '0.03274674851495718'],\n",
       "       ['vol_DOT*ret_COMP', '0.035886899460434094']], dtype='<U32')"
      ]
     },
     "execution_count": 58,
     "metadata": {},
     "output_type": "execute_result"
    }
   ],
   "source": [
    "corr_new"
   ]
  },
  {
   "cell_type": "code",
   "execution_count": 64,
   "id": "458cc1e6-d8c3-4b4f-8734-dbdae3bd000e",
   "metadata": {},
   "outputs": [
    {
     "data": {
      "text/plain": [
       "-85.68712621059191"
      ]
     },
     "execution_count": 64,
     "metadata": {},
     "output_type": "execute_result"
    }
   ],
   "source": [
    "pipeline = Pipeline([\n",
    "    ('impute', SimpleImputer(missing_values=np.nan, strategy='constant', fill_value=0.)),\n",
    "    ('scale', StandardScaler()),\n",
    "    ('pca', PCA()),\n",
    "    ('model', Ridge())\n",
    "])\n",
    "\n",
    "test_size = 0.2\n",
    "cv = TimeSeriesSplit(n_splits=int(y.shape[0] * test_size), test_size=1)\n",
    "scorer = make_scorer(mean_squared_error, greater_is_better=False, squared=False)\n",
    "\n",
    "search = GridSearchCV(pipeline, {\n",
    "    'pca__n_components': [1, 5, 10, 20, 22],\n",
    "    'model__alpha': [0.1, 0.5,  1.]\n",
    "}, scoring=scorer, refit=True, cv=cv, n_jobs=-1)\n",
    "search.fit(X_fe, y)\n",
    "\n",
    "best_model = search.best_estimator_\n",
    "evaluate_model(best_model, X_fe, y)*10000"
   ]
  },
  {
   "cell_type": "code",
   "execution_count": null,
   "id": "701b38c3-1866-4278-aff1-58c690a22121",
   "metadata": {},
   "outputs": [],
   "source": [
    "# Hence we had decreased the Error"
   ]
  }
 ],
 "metadata": {
  "kernelspec": {
   "display_name": "Python 3 (ipykernel)",
   "language": "python",
   "name": "python3"
  },
  "language_info": {
   "codemirror_mode": {
    "name": "ipython",
    "version": 3
   },
   "file_extension": ".py",
   "mimetype": "text/x-python",
   "name": "python",
   "nbconvert_exporter": "python",
   "pygments_lexer": "ipython3",
   "version": "3.8.12"
  }
 },
 "nbformat": 4,
 "nbformat_minor": 5
}
