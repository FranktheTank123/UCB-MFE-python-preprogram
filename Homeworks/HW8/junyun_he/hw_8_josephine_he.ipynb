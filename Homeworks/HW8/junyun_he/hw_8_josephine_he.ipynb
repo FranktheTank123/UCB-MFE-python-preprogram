{
 "cells": [
  {
   "cell_type": "markdown",
   "id": "ff32c334-83ac-4cd0-9953-3e91e77df690",
   "metadata": {
    "tags": []
   },
   "source": [
    "## HW8 - Josephine Junyun He\n",
    "Please do the following in a jupyter notebook:\n",
    "- Build a model with a lower average cross-validated RMSE than the best model that we saw in class (-0.008575141851714435) for prediction hourly returns for SOL\n",
    "    - use 20% of the data set for validation in you cross-validation\n",
    "    - make sure you're using a time-series dependent cross-validation method\n",
    "    - you may use any transformation and model you would like\n",
    "    - you will likely need to feature engineer to beat the class model\n",
    "\n",
    "Tips:\n",
    "- model training can sometimes be expensive, depending on the model - use the learning curve to help you understand how long it would take a model to train\n",
    "- you will likely get the most yield by feature engineering\n",
    "- hyperparameter tuning is a higher order optimization, it is useful to get the best result of your chosen model, however if your model is not performant it will rarely make it magically performant"
   ]
  },
  {
   "cell_type": "code",
   "execution_count": 1,
   "id": "154a6193-97ff-4cd8-aeb0-6fc0d1f74475",
   "metadata": {},
   "outputs": [],
   "source": [
    "data_location = 'sqlite:///../../data/data.db'"
   ]
  },
  {
   "cell_type": "code",
   "execution_count": 2,
   "id": "5ca7db54-6d56-49b7-a532-fb25f2e91ac5",
   "metadata": {},
   "outputs": [],
   "source": [
    "import pandas as pd\n",
    "import numpy as np\n",
    "import matplotlib.pyplot as plt\n",
    "from functools import reduce\n",
    "\n",
    "import pickle"
   ]
  },
  {
   "cell_type": "code",
   "execution_count": 3,
   "id": "998b697c-d90a-403e-8702-b673647c0d4e",
   "metadata": {
    "tags": []
   },
   "outputs": [],
   "source": [
    "def vol_ohlc(df, lookback=10):\n",
    "    o = df.open\n",
    "    h = df.high\n",
    "    l = df.low\n",
    "    c = df.close\n",
    "    \n",
    "    k = 0.34 / (1.34 + (lookback+1)/(lookback-1))\n",
    "    cc = np.log(c/c.shift(1))\n",
    "    ho = np.log(h/o)\n",
    "    lo = np.log(l/o)\n",
    "    co = np.log(c/o)\n",
    "    oc = np.log(o/c.shift(1))\n",
    "    oc_sq = oc**2\n",
    "    cc_sq = cc**2\n",
    "    rs = ho*(ho-co)+lo*(lo-co)\n",
    "    close_vol = cc_sq.rolling(lookback).sum() * (1.0 / (lookback - 1.0))\n",
    "    open_vol = oc_sq.rolling(lookback).sum() * (1.0 / (lookback - 1.0))\n",
    "    window_rs = rs.rolling(lookback).sum() * (1.0 / (lookback - 1.0))\n",
    "    result = (open_vol + k * close_vol + (1-k) * window_rs).apply(np.sqrt) * np.sqrt(252)\n",
    "    result[:lookback-1] = np.nan\n",
    "    \n",
    "    return result"
   ]
  },
  {
   "cell_type": "code",
   "execution_count": 52,
   "id": "0903a878-ac0b-46b8-a220-0f70d9c3e8b5",
   "metadata": {},
   "outputs": [],
   "source": [
    "def obv(df):\n",
    "    \"\"\"Calculate On Balance Volume(obv) -> DataFrame \"\"\"\n",
    "    obv = np.where(df['close'] > df['close'].shift(1), df['volume'], np.where(df['close'] < df['close'].shift(1), -df['volume'], 0)).cumsum()\n",
    "    print(\"shape of function\", obv.shape)\n",
    "    return obv"
   ]
  },
  {
   "cell_type": "code",
   "execution_count": 53,
   "id": "8885782b-4116-40a4-9cfe-2a2a59f218d3",
   "metadata": {
    "collapsed": true,
    "jupyter": {
     "outputs_hidden": true
    },
    "tags": []
   },
   "outputs": [
    {
     "name": "stdout",
     "output_type": "stream",
     "text": [
      "shape of function (11627,)\n"
     ]
    },
    {
     "data": {
      "text/html": [
       "<div>\n",
       "<style scoped>\n",
       "    .dataframe tbody tr th:only-of-type {\n",
       "        vertical-align: middle;\n",
       "    }\n",
       "\n",
       "    .dataframe tbody tr th {\n",
       "        vertical-align: top;\n",
       "    }\n",
       "\n",
       "    .dataframe thead th {\n",
       "        text-align: right;\n",
       "    }\n",
       "</style>\n",
       "<table border=\"1\" class=\"dataframe\">\n",
       "  <thead>\n",
       "    <tr style=\"text-align: right;\">\n",
       "      <th></th>\n",
       "      <th>ts</th>\n",
       "      <th>open</th>\n",
       "      <th>high</th>\n",
       "      <th>low</th>\n",
       "      <th>close</th>\n",
       "      <th>volume</th>\n",
       "      <th>volumeUSD</th>\n",
       "      <th>token</th>\n",
       "      <th>chain</th>\n",
       "      <th>obv</th>\n",
       "    </tr>\n",
       "  </thead>\n",
       "  <tbody>\n",
       "    <tr>\n",
       "      <th>0</th>\n",
       "      <td>2021-11-01 00:00:00</td>\n",
       "      <td>61421.37</td>\n",
       "      <td>61669.14</td>\n",
       "      <td>61239.60</td>\n",
       "      <td>61343.68</td>\n",
       "      <td>256.433869</td>\n",
       "      <td>1.575751e+07</td>\n",
       "      <td>BTC</td>\n",
       "      <td>BTC</td>\n",
       "      <td>0.000000e+00</td>\n",
       "    </tr>\n",
       "    <tr>\n",
       "      <th>1</th>\n",
       "      <td>2021-11-01 01:00:00</td>\n",
       "      <td>61346.17</td>\n",
       "      <td>61709.82</td>\n",
       "      <td>61171.22</td>\n",
       "      <td>61610.93</td>\n",
       "      <td>332.481185</td>\n",
       "      <td>2.044558e+07</td>\n",
       "      <td>BTC</td>\n",
       "      <td>BTC</td>\n",
       "      <td>3.324812e+02</td>\n",
       "    </tr>\n",
       "    <tr>\n",
       "      <th>2</th>\n",
       "      <td>2021-11-01 02:00:00</td>\n",
       "      <td>61610.94</td>\n",
       "      <td>61779.87</td>\n",
       "      <td>61299.89</td>\n",
       "      <td>61333.17</td>\n",
       "      <td>314.250720</td>\n",
       "      <td>1.935390e+07</td>\n",
       "      <td>BTC</td>\n",
       "      <td>BTC</td>\n",
       "      <td>1.823047e+01</td>\n",
       "    </tr>\n",
       "    <tr>\n",
       "      <th>3</th>\n",
       "      <td>2021-11-01 03:00:00</td>\n",
       "      <td>61333.17</td>\n",
       "      <td>61457.28</td>\n",
       "      <td>60050.00</td>\n",
       "      <td>60589.06</td>\n",
       "      <td>1059.931358</td>\n",
       "      <td>6.414625e+07</td>\n",
       "      <td>BTC</td>\n",
       "      <td>BTC</td>\n",
       "      <td>-1.041701e+03</td>\n",
       "    </tr>\n",
       "    <tr>\n",
       "      <th>4</th>\n",
       "      <td>2021-11-01 04:00:00</td>\n",
       "      <td>60590.23</td>\n",
       "      <td>60655.00</td>\n",
       "      <td>59752.92</td>\n",
       "      <td>59971.89</td>\n",
       "      <td>621.419878</td>\n",
       "      <td>3.744744e+07</td>\n",
       "      <td>BTC</td>\n",
       "      <td>BTC</td>\n",
       "      <td>-1.663121e+03</td>\n",
       "    </tr>\n",
       "    <tr>\n",
       "      <th>...</th>\n",
       "      <td>...</td>\n",
       "      <td>...</td>\n",
       "      <td>...</td>\n",
       "      <td>...</td>\n",
       "      <td>...</td>\n",
       "      <td>...</td>\n",
       "      <td>...</td>\n",
       "      <td>...</td>\n",
       "      <td>...</td>\n",
       "      <td>...</td>\n",
       "    </tr>\n",
       "    <tr>\n",
       "      <th>11622</th>\n",
       "      <td>2021-12-14 20:00:00</td>\n",
       "      <td>178.99</td>\n",
       "      <td>181.27</td>\n",
       "      <td>178.72</td>\n",
       "      <td>180.28</td>\n",
       "      <td>628.699000</td>\n",
       "      <td>1.130815e+05</td>\n",
       "      <td>COMP</td>\n",
       "      <td>ETH</td>\n",
       "      <td>-9.767708e+07</td>\n",
       "    </tr>\n",
       "    <tr>\n",
       "      <th>11623</th>\n",
       "      <td>2021-12-14 21:00:00</td>\n",
       "      <td>180.15</td>\n",
       "      <td>183.76</td>\n",
       "      <td>179.96</td>\n",
       "      <td>183.43</td>\n",
       "      <td>2453.455000</td>\n",
       "      <td>4.447119e+05</td>\n",
       "      <td>COMP</td>\n",
       "      <td>ETH</td>\n",
       "      <td>-9.767463e+07</td>\n",
       "    </tr>\n",
       "    <tr>\n",
       "      <th>11624</th>\n",
       "      <td>2021-12-14 22:00:00</td>\n",
       "      <td>183.31</td>\n",
       "      <td>186.74</td>\n",
       "      <td>182.60</td>\n",
       "      <td>185.24</td>\n",
       "      <td>2086.017000</td>\n",
       "      <td>3.865710e+05</td>\n",
       "      <td>COMP</td>\n",
       "      <td>ETH</td>\n",
       "      <td>-9.767254e+07</td>\n",
       "    </tr>\n",
       "    <tr>\n",
       "      <th>11625</th>\n",
       "      <td>2021-12-14 23:00:00</td>\n",
       "      <td>185.22</td>\n",
       "      <td>186.09</td>\n",
       "      <td>183.88</td>\n",
       "      <td>185.08</td>\n",
       "      <td>416.028000</td>\n",
       "      <td>7.698720e+04</td>\n",
       "      <td>COMP</td>\n",
       "      <td>ETH</td>\n",
       "      <td>-9.767296e+07</td>\n",
       "    </tr>\n",
       "    <tr>\n",
       "      <th>11626</th>\n",
       "      <td>2021-12-15 00:00:00</td>\n",
       "      <td>185.07</td>\n",
       "      <td>185.78</td>\n",
       "      <td>184.50</td>\n",
       "      <td>184.89</td>\n",
       "      <td>335.307000</td>\n",
       "      <td>6.214264e+04</td>\n",
       "      <td>COMP</td>\n",
       "      <td>ETH</td>\n",
       "      <td>-9.767329e+07</td>\n",
       "    </tr>\n",
       "  </tbody>\n",
       "</table>\n",
       "<p>11627 rows × 10 columns</p>\n",
       "</div>"
      ],
      "text/plain": [
       "                        ts      open      high       low     close  \\\n",
       "0      2021-11-01 00:00:00  61421.37  61669.14  61239.60  61343.68   \n",
       "1      2021-11-01 01:00:00  61346.17  61709.82  61171.22  61610.93   \n",
       "2      2021-11-01 02:00:00  61610.94  61779.87  61299.89  61333.17   \n",
       "3      2021-11-01 03:00:00  61333.17  61457.28  60050.00  60589.06   \n",
       "4      2021-11-01 04:00:00  60590.23  60655.00  59752.92  59971.89   \n",
       "...                    ...       ...       ...       ...       ...   \n",
       "11622  2021-12-14 20:00:00    178.99    181.27    178.72    180.28   \n",
       "11623  2021-12-14 21:00:00    180.15    183.76    179.96    183.43   \n",
       "11624  2021-12-14 22:00:00    183.31    186.74    182.60    185.24   \n",
       "11625  2021-12-14 23:00:00    185.22    186.09    183.88    185.08   \n",
       "11626  2021-12-15 00:00:00    185.07    185.78    184.50    184.89   \n",
       "\n",
       "            volume     volumeUSD token chain           obv  \n",
       "0       256.433869  1.575751e+07   BTC   BTC  0.000000e+00  \n",
       "1       332.481185  2.044558e+07   BTC   BTC  3.324812e+02  \n",
       "2       314.250720  1.935390e+07   BTC   BTC  1.823047e+01  \n",
       "3      1059.931358  6.414625e+07   BTC   BTC -1.041701e+03  \n",
       "4       621.419878  3.744744e+07   BTC   BTC -1.663121e+03  \n",
       "...            ...           ...   ...   ...           ...  \n",
       "11622   628.699000  1.130815e+05  COMP   ETH -9.767708e+07  \n",
       "11623  2453.455000  4.447119e+05  COMP   ETH -9.767463e+07  \n",
       "11624  2086.017000  3.865710e+05  COMP   ETH -9.767254e+07  \n",
       "11625   416.028000  7.698720e+04  COMP   ETH -9.767296e+07  \n",
       "11626   335.307000  6.214264e+04  COMP   ETH -9.767329e+07  \n",
       "\n",
       "[11627 rows x 10 columns]"
      ]
     },
     "execution_count": 53,
     "metadata": {},
     "output_type": "execute_result"
    }
   ],
   "source": [
    "df = ohlc.copy()\n",
    "df['obv'] = obv(df)\n",
    "df"
   ]
  },
  {
   "cell_type": "code",
   "execution_count": 5,
   "id": "c6c4b4f1-bd82-4bf6-8d7b-c7119b1c7eee",
   "metadata": {
    "tags": []
   },
   "outputs": [],
   "source": [
    "def plot_learning_curve(\n",
    "    estimator,\n",
    "    title,\n",
    "    X,\n",
    "    y,\n",
    "    axes=None,\n",
    "    ylim=None,\n",
    "    cv=None,\n",
    "    n_jobs=None,\n",
    "    train_sizes=np.linspace(0.1, 1.0, 5),\n",
    "    scoring=None\n",
    "):\n",
    "    if axes is None:\n",
    "        _, axes = plt.subplots(1, 3, figsize=(20, 5))\n",
    "\n",
    "    axes[0].set_title(title)\n",
    "    if ylim is not None:\n",
    "        axes[0].set_ylim(*ylim)\n",
    "    axes[0].set_xlabel(\"Training examples\")\n",
    "    axes[0].set_ylabel(\"Score\")\n",
    "\n",
    "    train_sizes, train_scores, test_scores, fit_times, _ = learning_curve(\n",
    "        estimator,\n",
    "        X,\n",
    "        y,\n",
    "        cv=cv,\n",
    "        n_jobs=n_jobs,\n",
    "        train_sizes=train_sizes,\n",
    "        return_times=True,\n",
    "        scoring=scoring,\n",
    "    )\n",
    "    train_scores_mean = np.mean(train_scores, axis=1)\n",
    "    train_scores_std = np.std(train_scores, axis=1)\n",
    "    test_scores_mean = np.mean(test_scores, axis=1)\n",
    "    test_scores_std = np.std(test_scores, axis=1)\n",
    "    fit_times_mean = np.mean(fit_times, axis=1)\n",
    "    fit_times_std = np.std(fit_times, axis=1)\n",
    "\n",
    "    # Plot learning curve\n",
    "    axes[0].grid()\n",
    "    axes[0].fill_between(\n",
    "        train_sizes,\n",
    "        train_scores_mean - train_scores_std,\n",
    "        train_scores_mean + train_scores_std,\n",
    "        alpha=0.1,\n",
    "        color=\"r\",\n",
    "    )\n",
    "    axes[0].fill_between(\n",
    "        train_sizes,\n",
    "        test_scores_mean - test_scores_std,\n",
    "        test_scores_mean + test_scores_std,\n",
    "        alpha=0.1,\n",
    "        color=\"g\",\n",
    "    )\n",
    "    axes[0].plot(\n",
    "        train_sizes, train_scores_mean, \"o-\", color=\"r\", label=\"Training score\"\n",
    "    )\n",
    "    axes[0].plot(\n",
    "        train_sizes, test_scores_mean, \"o-\", color=\"g\", label=\"Cross-validation score\"\n",
    "    )\n",
    "    axes[0].legend(loc=\"best\")\n",
    "\n",
    "    # Plot n_samples vs fit_times\n",
    "    axes[1].grid()\n",
    "    axes[1].plot(train_sizes, fit_times_mean, \"o-\")\n",
    "    axes[1].fill_between(\n",
    "        train_sizes,\n",
    "        fit_times_mean - fit_times_std,\n",
    "        fit_times_mean + fit_times_std,\n",
    "        alpha=0.1,\n",
    "    )\n",
    "    axes[1].set_xlabel(\"Training examples\")\n",
    "    axes[1].set_ylabel(\"fit_times\")\n",
    "    axes[1].set_title(\"Scalability of the model\")\n",
    "\n",
    "    # Plot fit_time vs score\n",
    "    fit_time_argsort = fit_times_mean.argsort()\n",
    "    fit_time_sorted = fit_times_mean[fit_time_argsort]\n",
    "    test_scores_mean_sorted = test_scores_mean[fit_time_argsort]\n",
    "    test_scores_std_sorted = test_scores_std[fit_time_argsort]\n",
    "    axes[2].grid()\n",
    "    axes[2].plot(fit_time_sorted, test_scores_mean_sorted, \"o-\")\n",
    "    axes[2].fill_between(\n",
    "        fit_time_sorted,\n",
    "        test_scores_mean_sorted - test_scores_std_sorted,\n",
    "        test_scores_mean_sorted + test_scores_std_sorted,\n",
    "        alpha=0.1,\n",
    "    )\n",
    "    axes[2].set_xlabel(\"fit_times\")\n",
    "    axes[2].set_ylabel(\"Score\")\n",
    "    axes[2].set_title(\"Performance of the model\")\n",
    "\n",
    "    return plt"
   ]
  },
  {
   "cell_type": "code",
   "execution_count": 6,
   "id": "31ce2b16-bcb6-46f6-96ae-1c0b440f3e22",
   "metadata": {
    "tags": []
   },
   "outputs": [
    {
     "data": {
      "text/plain": [
       "(11627, 9)"
      ]
     },
     "execution_count": 6,
     "metadata": {},
     "output_type": "execute_result"
    }
   ],
   "source": [
    "ohlc = pd.read_sql('SELECT * FROM ohlc', data_location)\n",
    "ohlc.shape"
   ]
  },
  {
   "cell_type": "code",
   "execution_count": 7,
   "id": "806625b5-dfa5-423e-aaf1-6043ab83c5ca",
   "metadata": {
    "tags": []
   },
   "outputs": [
    {
     "data": {
      "text/html": [
       "<div>\n",
       "<style scoped>\n",
       "    .dataframe tbody tr th:only-of-type {\n",
       "        vertical-align: middle;\n",
       "    }\n",
       "\n",
       "    .dataframe tbody tr th {\n",
       "        vertical-align: top;\n",
       "    }\n",
       "\n",
       "    .dataframe thead th {\n",
       "        text-align: right;\n",
       "    }\n",
       "</style>\n",
       "<table border=\"1\" class=\"dataframe\">\n",
       "  <thead>\n",
       "    <tr style=\"text-align: right;\">\n",
       "      <th></th>\n",
       "      <th>ts</th>\n",
       "      <th>open</th>\n",
       "      <th>high</th>\n",
       "      <th>low</th>\n",
       "      <th>close</th>\n",
       "      <th>volume</th>\n",
       "      <th>volumeUSD</th>\n",
       "      <th>token</th>\n",
       "      <th>chain</th>\n",
       "    </tr>\n",
       "  </thead>\n",
       "  <tbody>\n",
       "    <tr>\n",
       "      <th>0</th>\n",
       "      <td>2021-11-01 00:00:00</td>\n",
       "      <td>61421.37</td>\n",
       "      <td>61669.14</td>\n",
       "      <td>61239.60</td>\n",
       "      <td>61343.68</td>\n",
       "      <td>256.433869</td>\n",
       "      <td>1.575751e+07</td>\n",
       "      <td>BTC</td>\n",
       "      <td>BTC</td>\n",
       "    </tr>\n",
       "    <tr>\n",
       "      <th>1</th>\n",
       "      <td>2021-11-01 01:00:00</td>\n",
       "      <td>61346.17</td>\n",
       "      <td>61709.82</td>\n",
       "      <td>61171.22</td>\n",
       "      <td>61610.93</td>\n",
       "      <td>332.481185</td>\n",
       "      <td>2.044558e+07</td>\n",
       "      <td>BTC</td>\n",
       "      <td>BTC</td>\n",
       "    </tr>\n",
       "    <tr>\n",
       "      <th>2</th>\n",
       "      <td>2021-11-01 02:00:00</td>\n",
       "      <td>61610.94</td>\n",
       "      <td>61779.87</td>\n",
       "      <td>61299.89</td>\n",
       "      <td>61333.17</td>\n",
       "      <td>314.250720</td>\n",
       "      <td>1.935390e+07</td>\n",
       "      <td>BTC</td>\n",
       "      <td>BTC</td>\n",
       "    </tr>\n",
       "    <tr>\n",
       "      <th>3</th>\n",
       "      <td>2021-11-01 03:00:00</td>\n",
       "      <td>61333.17</td>\n",
       "      <td>61457.28</td>\n",
       "      <td>60050.00</td>\n",
       "      <td>60589.06</td>\n",
       "      <td>1059.931358</td>\n",
       "      <td>6.414625e+07</td>\n",
       "      <td>BTC</td>\n",
       "      <td>BTC</td>\n",
       "    </tr>\n",
       "    <tr>\n",
       "      <th>4</th>\n",
       "      <td>2021-11-01 04:00:00</td>\n",
       "      <td>60590.23</td>\n",
       "      <td>60655.00</td>\n",
       "      <td>59752.92</td>\n",
       "      <td>59971.89</td>\n",
       "      <td>621.419878</td>\n",
       "      <td>3.744744e+07</td>\n",
       "      <td>BTC</td>\n",
       "      <td>BTC</td>\n",
       "    </tr>\n",
       "  </tbody>\n",
       "</table>\n",
       "</div>"
      ],
      "text/plain": [
       "                    ts      open      high       low     close       volume  \\\n",
       "0  2021-11-01 00:00:00  61421.37  61669.14  61239.60  61343.68   256.433869   \n",
       "1  2021-11-01 01:00:00  61346.17  61709.82  61171.22  61610.93   332.481185   \n",
       "2  2021-11-01 02:00:00  61610.94  61779.87  61299.89  61333.17   314.250720   \n",
       "3  2021-11-01 03:00:00  61333.17  61457.28  60050.00  60589.06  1059.931358   \n",
       "4  2021-11-01 04:00:00  60590.23  60655.00  59752.92  59971.89   621.419878   \n",
       "\n",
       "      volumeUSD token chain  \n",
       "0  1.575751e+07   BTC   BTC  \n",
       "1  2.044558e+07   BTC   BTC  \n",
       "2  1.935390e+07   BTC   BTC  \n",
       "3  6.414625e+07   BTC   BTC  \n",
       "4  3.744744e+07   BTC   BTC  "
      ]
     },
     "execution_count": 7,
     "metadata": {},
     "output_type": "execute_result"
    }
   ],
   "source": [
    "ohlc.head()"
   ]
  },
  {
   "cell_type": "code",
   "execution_count": 8,
   "id": "52a923e3-b900-44e5-ab62-9a8c3503f4d2",
   "metadata": {
    "tags": []
   },
   "outputs": [],
   "source": [
    "ohlc['obv'] = np.where(ohlc['close'] > ohlc['close'].shift(1), ohlc['volume'], np.where(ohlc['close'] < ohlc['close'].shift(1), -ohlc['volume'], 0)).cumsum()\n",
    "# ohlc['obv'] = obv(ohlc), not sure why using the function doesn't work, give an error"
   ]
  },
  {
   "cell_type": "code",
   "execution_count": 9,
   "id": "2716474c-0790-4278-86fd-f070ef2ce2cb",
   "metadata": {},
   "outputs": [
    {
     "name": "stdout",
     "output_type": "stream",
     "text": [
      "<class 'pandas.core.frame.DataFrame'>\n",
      "RangeIndex: 11627 entries, 0 to 11626\n",
      "Data columns (total 10 columns):\n",
      " #   Column     Non-Null Count  Dtype  \n",
      "---  ------     --------------  -----  \n",
      " 0   ts         11627 non-null  object \n",
      " 1   open       11627 non-null  float64\n",
      " 2   high       11627 non-null  float64\n",
      " 3   low        11627 non-null  float64\n",
      " 4   close      11627 non-null  float64\n",
      " 5   volume     11627 non-null  float64\n",
      " 6   volumeUSD  11627 non-null  float64\n",
      " 7   token      11627 non-null  object \n",
      " 8   chain      11627 non-null  object \n",
      " 9   obv        11627 non-null  float64\n",
      "dtypes: float64(7), object(3)\n",
      "memory usage: 908.5+ KB\n"
     ]
    }
   ],
   "source": [
    "ohlc.info()"
   ]
  },
  {
   "cell_type": "code",
   "execution_count": 10,
   "id": "9bb8d141-b6ef-47e7-9529-17da56cf53df",
   "metadata": {
    "tags": []
   },
   "outputs": [
    {
     "data": {
      "text/html": [
       "<div>\n",
       "<style scoped>\n",
       "    .dataframe tbody tr th:only-of-type {\n",
       "        vertical-align: middle;\n",
       "    }\n",
       "\n",
       "    .dataframe tbody tr th {\n",
       "        vertical-align: top;\n",
       "    }\n",
       "\n",
       "    .dataframe thead th {\n",
       "        text-align: right;\n",
       "    }\n",
       "</style>\n",
       "<table border=\"1\" class=\"dataframe\">\n",
       "  <thead>\n",
       "    <tr style=\"text-align: right;\">\n",
       "      <th></th>\n",
       "      <th>ts</th>\n",
       "      <th>open</th>\n",
       "      <th>high</th>\n",
       "      <th>low</th>\n",
       "      <th>close</th>\n",
       "      <th>volume</th>\n",
       "      <th>volumeUSD</th>\n",
       "      <th>token</th>\n",
       "      <th>chain</th>\n",
       "      <th>obv</th>\n",
       "    </tr>\n",
       "  </thead>\n",
       "  <tbody>\n",
       "    <tr>\n",
       "      <th>0</th>\n",
       "      <td>2021-11-01 00:00:00</td>\n",
       "      <td>61421.37</td>\n",
       "      <td>61669.14</td>\n",
       "      <td>61239.60</td>\n",
       "      <td>61343.68</td>\n",
       "      <td>256.433869</td>\n",
       "      <td>1.575751e+07</td>\n",
       "      <td>BTC</td>\n",
       "      <td>BTC</td>\n",
       "      <td>0.000000</td>\n",
       "    </tr>\n",
       "    <tr>\n",
       "      <th>1</th>\n",
       "      <td>2021-11-01 01:00:00</td>\n",
       "      <td>61346.17</td>\n",
       "      <td>61709.82</td>\n",
       "      <td>61171.22</td>\n",
       "      <td>61610.93</td>\n",
       "      <td>332.481185</td>\n",
       "      <td>2.044558e+07</td>\n",
       "      <td>BTC</td>\n",
       "      <td>BTC</td>\n",
       "      <td>332.481185</td>\n",
       "    </tr>\n",
       "    <tr>\n",
       "      <th>2</th>\n",
       "      <td>2021-11-01 02:00:00</td>\n",
       "      <td>61610.94</td>\n",
       "      <td>61779.87</td>\n",
       "      <td>61299.89</td>\n",
       "      <td>61333.17</td>\n",
       "      <td>314.250720</td>\n",
       "      <td>1.935390e+07</td>\n",
       "      <td>BTC</td>\n",
       "      <td>BTC</td>\n",
       "      <td>18.230465</td>\n",
       "    </tr>\n",
       "    <tr>\n",
       "      <th>3</th>\n",
       "      <td>2021-11-01 03:00:00</td>\n",
       "      <td>61333.17</td>\n",
       "      <td>61457.28</td>\n",
       "      <td>60050.00</td>\n",
       "      <td>60589.06</td>\n",
       "      <td>1059.931358</td>\n",
       "      <td>6.414625e+07</td>\n",
       "      <td>BTC</td>\n",
       "      <td>BTC</td>\n",
       "      <td>-1041.700893</td>\n",
       "    </tr>\n",
       "    <tr>\n",
       "      <th>4</th>\n",
       "      <td>2021-11-01 04:00:00</td>\n",
       "      <td>60590.23</td>\n",
       "      <td>60655.00</td>\n",
       "      <td>59752.92</td>\n",
       "      <td>59971.89</td>\n",
       "      <td>621.419878</td>\n",
       "      <td>3.744744e+07</td>\n",
       "      <td>BTC</td>\n",
       "      <td>BTC</td>\n",
       "      <td>-1663.120771</td>\n",
       "    </tr>\n",
       "  </tbody>\n",
       "</table>\n",
       "</div>"
      ],
      "text/plain": [
       "                    ts      open      high       low     close       volume  \\\n",
       "0  2021-11-01 00:00:00  61421.37  61669.14  61239.60  61343.68   256.433869   \n",
       "1  2021-11-01 01:00:00  61346.17  61709.82  61171.22  61610.93   332.481185   \n",
       "2  2021-11-01 02:00:00  61610.94  61779.87  61299.89  61333.17   314.250720   \n",
       "3  2021-11-01 03:00:00  61333.17  61457.28  60050.00  60589.06  1059.931358   \n",
       "4  2021-11-01 04:00:00  60590.23  60655.00  59752.92  59971.89   621.419878   \n",
       "\n",
       "      volumeUSD token chain          obv  \n",
       "0  1.575751e+07   BTC   BTC     0.000000  \n",
       "1  2.044558e+07   BTC   BTC   332.481185  \n",
       "2  1.935390e+07   BTC   BTC    18.230465  \n",
       "3  6.414625e+07   BTC   BTC -1041.700893  \n",
       "4  3.744744e+07   BTC   BTC -1663.120771  "
      ]
     },
     "execution_count": 10,
     "metadata": {},
     "output_type": "execute_result"
    }
   ],
   "source": [
    "ohlc.head()"
   ]
  },
  {
   "cell_type": "code",
   "execution_count": 11,
   "id": "b87e7e1d-c6f2-4b1b-b642-b8a21bd2d617",
   "metadata": {
    "tags": []
   },
   "outputs": [],
   "source": [
    "tokens = ohlc.token.unique()"
   ]
  },
  {
   "cell_type": "code",
   "execution_count": 12,
   "id": "b633978c-439e-49cd-a77f-d6e900193393",
   "metadata": {},
   "outputs": [
    {
     "name": "stdout",
     "output_type": "stream",
     "text": [
      "Total number of tokens:  11\n"
     ]
    },
    {
     "data": {
      "text/plain": [
       "array(['BTC', 'ETH', 'USDT', 'SOL', 'ADA', 'DOT', 'AVAX', 'ATOM', 'CRV',\n",
       "       'AAVE', 'COMP'], dtype=object)"
      ]
     },
     "execution_count": 12,
     "metadata": {},
     "output_type": "execute_result"
    }
   ],
   "source": [
    "print(\"Total number of tokens: \",len(tokens))\n",
    "tokens"
   ]
  },
  {
   "cell_type": "code",
   "execution_count": 13,
   "id": "b8d2fde1-2eb3-469e-955b-517d73011e33",
   "metadata": {},
   "outputs": [
    {
     "data": {
      "text/plain": [
       "ts           0\n",
       "open         0\n",
       "high         0\n",
       "low          0\n",
       "close        0\n",
       "volume       0\n",
       "volumeUSD    0\n",
       "token        0\n",
       "chain        0\n",
       "obv          0\n",
       "dtype: int64"
      ]
     },
     "execution_count": 13,
     "metadata": {},
     "output_type": "execute_result"
    }
   ],
   "source": [
    "ohlc.isnull().sum()"
   ]
  },
  {
   "cell_type": "code",
   "execution_count": 14,
   "id": "c62032d8-f892-46d2-b832-618d5054b8c5",
   "metadata": {},
   "outputs": [],
   "source": [
    "def df_merge(left, right):\n",
    "    return pd.merge(left, right, on='ts', how='inner')\n",
    "\n",
    "X = reduce(df_merge, [\n",
    "    (lambda df: \n",
    "    (\n",
    "        df\n",
    "        .assign(\n",
    "            vol=vol_ohlc(df).fillna(0),\n",
    "            #daily=df.high/df.low - 1,\n",
    "            ret=df.close.pct_change(),\n",
    "        )[['ts', 'vol', 'obv', 'ret']]\n",
    "        .rename(columns={\n",
    "            col: f'{col}_{token}' for col in ['ts', 'vol', 'obv', 'ret'] if col != 'ts'\n",
    "        })\n",
    "    ))(ohlc[ohlc.token == token])\n",
    "    for token in tokens\n",
    "]).set_index('ts')"
   ]
  },
  {
   "cell_type": "code",
   "execution_count": 15,
   "id": "cf82adf4-e711-42d3-9194-4a9f24111f16",
   "metadata": {},
   "outputs": [
    {
     "data": {
      "text/html": [
       "<div>\n",
       "<style scoped>\n",
       "    .dataframe tbody tr th:only-of-type {\n",
       "        vertical-align: middle;\n",
       "    }\n",
       "\n",
       "    .dataframe tbody tr th {\n",
       "        vertical-align: top;\n",
       "    }\n",
       "\n",
       "    .dataframe thead th {\n",
       "        text-align: right;\n",
       "    }\n",
       "</style>\n",
       "<table border=\"1\" class=\"dataframe\">\n",
       "  <thead>\n",
       "    <tr style=\"text-align: right;\">\n",
       "      <th></th>\n",
       "      <th>vol_BTC</th>\n",
       "      <th>obv_BTC</th>\n",
       "      <th>ret_BTC</th>\n",
       "      <th>vol_ETH</th>\n",
       "      <th>obv_ETH</th>\n",
       "      <th>ret_ETH</th>\n",
       "      <th>vol_USDT</th>\n",
       "      <th>obv_USDT</th>\n",
       "      <th>ret_USDT</th>\n",
       "      <th>vol_SOL</th>\n",
       "      <th>...</th>\n",
       "      <th>ret_ATOM</th>\n",
       "      <th>vol_CRV</th>\n",
       "      <th>obv_CRV</th>\n",
       "      <th>ret_CRV</th>\n",
       "      <th>vol_AAVE</th>\n",
       "      <th>obv_AAVE</th>\n",
       "      <th>ret_AAVE</th>\n",
       "      <th>vol_COMP</th>\n",
       "      <th>obv_COMP</th>\n",
       "      <th>ret_COMP</th>\n",
       "    </tr>\n",
       "    <tr>\n",
       "      <th>ts</th>\n",
       "      <th></th>\n",
       "      <th></th>\n",
       "      <th></th>\n",
       "      <th></th>\n",
       "      <th></th>\n",
       "      <th></th>\n",
       "      <th></th>\n",
       "      <th></th>\n",
       "      <th></th>\n",
       "      <th></th>\n",
       "      <th></th>\n",
       "      <th></th>\n",
       "      <th></th>\n",
       "      <th></th>\n",
       "      <th></th>\n",
       "      <th></th>\n",
       "      <th></th>\n",
       "      <th></th>\n",
       "      <th></th>\n",
       "      <th></th>\n",
       "      <th></th>\n",
       "    </tr>\n",
       "  </thead>\n",
       "  <tbody>\n",
       "    <tr>\n",
       "      <th>2021-11-01 00:00:00</th>\n",
       "      <td>0.0</td>\n",
       "      <td>0.000000</td>\n",
       "      <td>NaN</td>\n",
       "      <td>0.0</td>\n",
       "      <td>-52533.162665</td>\n",
       "      <td>NaN</td>\n",
       "      <td>0.0</td>\n",
       "      <td>-2.067574e+06</td>\n",
       "      <td>NaN</td>\n",
       "      <td>0.0</td>\n",
       "      <td>...</td>\n",
       "      <td>NaN</td>\n",
       "      <td>0.0</td>\n",
       "      <td>-9.120466e+07</td>\n",
       "      <td>NaN</td>\n",
       "      <td>0.0</td>\n",
       "      <td>-9.752450e+07</td>\n",
       "      <td>NaN</td>\n",
       "      <td>0.0</td>\n",
       "      <td>-9.764136e+07</td>\n",
       "      <td>NaN</td>\n",
       "    </tr>\n",
       "    <tr>\n",
       "      <th>2021-11-01 01:00:00</th>\n",
       "      <td>0.0</td>\n",
       "      <td>332.481185</td>\n",
       "      <td>0.004357</td>\n",
       "      <td>0.0</td>\n",
       "      <td>-44343.393269</td>\n",
       "      <td>0.006874</td>\n",
       "      <td>0.0</td>\n",
       "      <td>-2.067574e+06</td>\n",
       "      <td>0.0000</td>\n",
       "      <td>0.0</td>\n",
       "      <td>...</td>\n",
       "      <td>0.008193</td>\n",
       "      <td>0.0</td>\n",
       "      <td>-9.095478e+07</td>\n",
       "      <td>0.000725</td>\n",
       "      <td>0.0</td>\n",
       "      <td>-9.752208e+07</td>\n",
       "      <td>0.008043</td>\n",
       "      <td>0.0</td>\n",
       "      <td>-9.764272e+07</td>\n",
       "      <td>-0.002281</td>\n",
       "    </tr>\n",
       "    <tr>\n",
       "      <th>2021-11-01 02:00:00</th>\n",
       "      <td>0.0</td>\n",
       "      <td>18.230465</td>\n",
       "      <td>-0.004508</td>\n",
       "      <td>0.0</td>\n",
       "      <td>-49209.872771</td>\n",
       "      <td>-0.005322</td>\n",
       "      <td>0.0</td>\n",
       "      <td>-4.448625e+06</td>\n",
       "      <td>-0.0002</td>\n",
       "      <td>0.0</td>\n",
       "      <td>...</td>\n",
       "      <td>-0.025419</td>\n",
       "      <td>0.0</td>\n",
       "      <td>-9.132790e+07</td>\n",
       "      <td>-0.031791</td>\n",
       "      <td>0.0</td>\n",
       "      <td>-9.752281e+07</td>\n",
       "      <td>-0.009171</td>\n",
       "      <td>0.0</td>\n",
       "      <td>-9.764550e+07</td>\n",
       "      <td>-0.006020</td>\n",
       "    </tr>\n",
       "    <tr>\n",
       "      <th>2021-11-01 03:00:00</th>\n",
       "      <td>0.0</td>\n",
       "      <td>-1041.700893</td>\n",
       "      <td>-0.012132</td>\n",
       "      <td>0.0</td>\n",
       "      <td>-62636.812900</td>\n",
       "      <td>-0.013126</td>\n",
       "      <td>0.0</td>\n",
       "      <td>-1.706685e+06</td>\n",
       "      <td>0.0001</td>\n",
       "      <td>0.0</td>\n",
       "      <td>...</td>\n",
       "      <td>-0.013943</td>\n",
       "      <td>0.0</td>\n",
       "      <td>-9.203443e+07</td>\n",
       "      <td>-0.010431</td>\n",
       "      <td>0.0</td>\n",
       "      <td>-9.752520e+07</td>\n",
       "      <td>-0.013301</td>\n",
       "      <td>0.0</td>\n",
       "      <td>-9.764911e+07</td>\n",
       "      <td>-0.022273</td>\n",
       "    </tr>\n",
       "    <tr>\n",
       "      <th>2021-11-01 04:00:00</th>\n",
       "      <td>0.0</td>\n",
       "      <td>-1663.120771</td>\n",
       "      <td>-0.010186</td>\n",
       "      <td>0.0</td>\n",
       "      <td>-71096.882919</td>\n",
       "      <td>-0.010679</td>\n",
       "      <td>0.0</td>\n",
       "      <td>-1.706685e+06</td>\n",
       "      <td>0.0000</td>\n",
       "      <td>0.0</td>\n",
       "      <td>...</td>\n",
       "      <td>-0.020046</td>\n",
       "      <td>0.0</td>\n",
       "      <td>-9.178427e+07</td>\n",
       "      <td>0.004514</td>\n",
       "      <td>0.0</td>\n",
       "      <td>-9.752685e+07</td>\n",
       "      <td>-0.016452</td>\n",
       "      <td>0.0</td>\n",
       "      <td>-9.765150e+07</td>\n",
       "      <td>-0.024002</td>\n",
       "    </tr>\n",
       "  </tbody>\n",
       "</table>\n",
       "<p>5 rows × 33 columns</p>\n",
       "</div>"
      ],
      "text/plain": [
       "                     vol_BTC      obv_BTC   ret_BTC  vol_ETH       obv_ETH  \\\n",
       "ts                                                                           \n",
       "2021-11-01 00:00:00      0.0     0.000000       NaN      0.0 -52533.162665   \n",
       "2021-11-01 01:00:00      0.0   332.481185  0.004357      0.0 -44343.393269   \n",
       "2021-11-01 02:00:00      0.0    18.230465 -0.004508      0.0 -49209.872771   \n",
       "2021-11-01 03:00:00      0.0 -1041.700893 -0.012132      0.0 -62636.812900   \n",
       "2021-11-01 04:00:00      0.0 -1663.120771 -0.010186      0.0 -71096.882919   \n",
       "\n",
       "                      ret_ETH  vol_USDT      obv_USDT  ret_USDT  vol_SOL  ...  \\\n",
       "ts                                                                        ...   \n",
       "2021-11-01 00:00:00       NaN       0.0 -2.067574e+06       NaN      0.0  ...   \n",
       "2021-11-01 01:00:00  0.006874       0.0 -2.067574e+06    0.0000      0.0  ...   \n",
       "2021-11-01 02:00:00 -0.005322       0.0 -4.448625e+06   -0.0002      0.0  ...   \n",
       "2021-11-01 03:00:00 -0.013126       0.0 -1.706685e+06    0.0001      0.0  ...   \n",
       "2021-11-01 04:00:00 -0.010679       0.0 -1.706685e+06    0.0000      0.0  ...   \n",
       "\n",
       "                     ret_ATOM  vol_CRV       obv_CRV   ret_CRV  vol_AAVE  \\\n",
       "ts                                                                         \n",
       "2021-11-01 00:00:00       NaN      0.0 -9.120466e+07       NaN       0.0   \n",
       "2021-11-01 01:00:00  0.008193      0.0 -9.095478e+07  0.000725       0.0   \n",
       "2021-11-01 02:00:00 -0.025419      0.0 -9.132790e+07 -0.031791       0.0   \n",
       "2021-11-01 03:00:00 -0.013943      0.0 -9.203443e+07 -0.010431       0.0   \n",
       "2021-11-01 04:00:00 -0.020046      0.0 -9.178427e+07  0.004514       0.0   \n",
       "\n",
       "                         obv_AAVE  ret_AAVE  vol_COMP      obv_COMP  ret_COMP  \n",
       "ts                                                                             \n",
       "2021-11-01 00:00:00 -9.752450e+07       NaN       0.0 -9.764136e+07       NaN  \n",
       "2021-11-01 01:00:00 -9.752208e+07  0.008043       0.0 -9.764272e+07 -0.002281  \n",
       "2021-11-01 02:00:00 -9.752281e+07 -0.009171       0.0 -9.764550e+07 -0.006020  \n",
       "2021-11-01 03:00:00 -9.752520e+07 -0.013301       0.0 -9.764911e+07 -0.022273  \n",
       "2021-11-01 04:00:00 -9.752685e+07 -0.016452       0.0 -9.765150e+07 -0.024002  \n",
       "\n",
       "[5 rows x 33 columns]"
      ]
     },
     "execution_count": 15,
     "metadata": {},
     "output_type": "execute_result"
    }
   ],
   "source": [
    "X.head()"
   ]
  },
  {
   "cell_type": "code",
   "execution_count": 16,
   "id": "e83c003d-b486-428e-a170-62a21a05e320",
   "metadata": {},
   "outputs": [
    {
     "data": {
      "text/plain": [
       "(1057, 33)"
      ]
     },
     "execution_count": 16,
     "metadata": {},
     "output_type": "execute_result"
    }
   ],
   "source": [
    "X.shape"
   ]
  },
  {
   "cell_type": "code",
   "execution_count": 17,
   "id": "cdaaf7bf-c883-419e-80d2-b301ce5dbcf3",
   "metadata": {},
   "outputs": [],
   "source": [
    "y = X.ret_SOL.shift(-1)[:-1]\n",
    "X = X[:-1]"
   ]
  },
  {
   "cell_type": "code",
   "execution_count": 18,
   "id": "ed360a91-21f7-4686-800e-41488342cabd",
   "metadata": {},
   "outputs": [
    {
     "data": {
      "text/plain": [
       "(1056,)"
      ]
     },
     "execution_count": 18,
     "metadata": {},
     "output_type": "execute_result"
    }
   ],
   "source": [
    "y.shape"
   ]
  },
  {
   "cell_type": "code",
   "execution_count": 19,
   "id": "b5bfed26-6654-4194-b58b-d9baf3a3f14d",
   "metadata": {},
   "outputs": [
    {
     "data": {
      "text/plain": [
       "count    1056.000000\n",
       "mean       -0.000156\n",
       "std         0.012010\n",
       "min        -0.053429\n",
       "25%        -0.007444\n",
       "50%        -0.000503\n",
       "75%         0.006740\n",
       "max         0.048298\n",
       "Name: ret_SOL, dtype: float64"
      ]
     },
     "execution_count": 19,
     "metadata": {},
     "output_type": "execute_result"
    }
   ],
   "source": [
    "y.describe()"
   ]
  },
  {
   "cell_type": "code",
   "execution_count": 20,
   "id": "7aadce14-a8a0-484d-86d8-aa74df05d475",
   "metadata": {},
   "outputs": [
    {
     "data": {
      "text/plain": [
       "(1056, 33)"
      ]
     },
     "execution_count": 20,
     "metadata": {},
     "output_type": "execute_result"
    }
   ],
   "source": [
    "X.shape"
   ]
  },
  {
   "cell_type": "code",
   "execution_count": 21,
   "id": "f5a02cc8-6f46-4c9f-a225-af20536fd38e",
   "metadata": {},
   "outputs": [],
   "source": [
    "from pandas.plotting import scatter_matrix, autocorrelation_plot"
   ]
  },
  {
   "cell_type": "code",
   "execution_count": 22,
   "id": "28d3d242-0a7a-4fb4-9805-a13e427c0ede",
   "metadata": {},
   "outputs": [
    {
     "data": {
      "image/png": "[encoded data removed]",
      "text/plain": [
       "<Figure size 432x288 with 1 Axes>"
      ]
     },
     "metadata": {
      "needs_background": "light"
     },
     "output_type": "display_data"
    }
   ],
   "source": [
    "autocorrelation_plot(y[1:]);"
   ]
  },
  {
   "cell_type": "code",
   "execution_count": 23,
   "id": "4549ce5a-6e43-4e46-85b2-b419f46d33a5",
   "metadata": {
    "tags": []
   },
   "outputs": [
    {
     "data": {
      "text/html": [
       "<div>\n",
       "<style scoped>\n",
       "    .dataframe tbody tr th:only-of-type {\n",
       "        vertical-align: middle;\n",
       "    }\n",
       "\n",
       "    .dataframe tbody tr th {\n",
       "        vertical-align: top;\n",
       "    }\n",
       "\n",
       "    .dataframe thead th {\n",
       "        text-align: right;\n",
       "    }\n",
       "</style>\n",
       "<table border=\"1\" class=\"dataframe\">\n",
       "  <thead>\n",
       "    <tr style=\"text-align: right;\">\n",
       "      <th></th>\n",
       "      <th>vol_BTC</th>\n",
       "      <th>obv_BTC</th>\n",
       "      <th>ret_BTC</th>\n",
       "      <th>vol_ETH</th>\n",
       "      <th>obv_ETH</th>\n",
       "      <th>ret_ETH</th>\n",
       "      <th>vol_USDT</th>\n",
       "      <th>obv_USDT</th>\n",
       "      <th>ret_USDT</th>\n",
       "      <th>vol_SOL</th>\n",
       "      <th>...</th>\n",
       "      <th>ret_ATOM</th>\n",
       "      <th>vol_CRV</th>\n",
       "      <th>obv_CRV</th>\n",
       "      <th>ret_CRV</th>\n",
       "      <th>vol_AAVE</th>\n",
       "      <th>obv_AAVE</th>\n",
       "      <th>ret_AAVE</th>\n",
       "      <th>vol_COMP</th>\n",
       "      <th>obv_COMP</th>\n",
       "      <th>ret_COMP</th>\n",
       "    </tr>\n",
       "    <tr>\n",
       "      <th>ts</th>\n",
       "      <th></th>\n",
       "      <th></th>\n",
       "      <th></th>\n",
       "      <th></th>\n",
       "      <th></th>\n",
       "      <th></th>\n",
       "      <th></th>\n",
       "      <th></th>\n",
       "      <th></th>\n",
       "      <th></th>\n",
       "      <th></th>\n",
       "      <th></th>\n",
       "      <th></th>\n",
       "      <th></th>\n",
       "      <th></th>\n",
       "      <th></th>\n",
       "      <th></th>\n",
       "      <th></th>\n",
       "      <th></th>\n",
       "      <th></th>\n",
       "      <th></th>\n",
       "    </tr>\n",
       "  </thead>\n",
       "  <tbody>\n",
       "    <tr>\n",
       "      <th>2021-11-01 00:00:00</th>\n",
       "      <td>0.0</td>\n",
       "      <td>0.000000</td>\n",
       "      <td>NaN</td>\n",
       "      <td>0.0</td>\n",
       "      <td>-52533.162665</td>\n",
       "      <td>NaN</td>\n",
       "      <td>0.0</td>\n",
       "      <td>-2.067574e+06</td>\n",
       "      <td>NaN</td>\n",
       "      <td>0.0</td>\n",
       "      <td>...</td>\n",
       "      <td>NaN</td>\n",
       "      <td>0.0</td>\n",
       "      <td>-9.120466e+07</td>\n",
       "      <td>NaN</td>\n",
       "      <td>0.0</td>\n",
       "      <td>-9.752450e+07</td>\n",
       "      <td>NaN</td>\n",
       "      <td>0.0</td>\n",
       "      <td>-9.764136e+07</td>\n",
       "      <td>NaN</td>\n",
       "    </tr>\n",
       "    <tr>\n",
       "      <th>2021-11-01 01:00:00</th>\n",
       "      <td>0.0</td>\n",
       "      <td>332.481185</td>\n",
       "      <td>0.004357</td>\n",
       "      <td>0.0</td>\n",
       "      <td>-44343.393269</td>\n",
       "      <td>0.006874</td>\n",
       "      <td>0.0</td>\n",
       "      <td>-2.067574e+06</td>\n",
       "      <td>0.0000</td>\n",
       "      <td>0.0</td>\n",
       "      <td>...</td>\n",
       "      <td>0.008193</td>\n",
       "      <td>0.0</td>\n",
       "      <td>-9.095478e+07</td>\n",
       "      <td>0.000725</td>\n",
       "      <td>0.0</td>\n",
       "      <td>-9.752208e+07</td>\n",
       "      <td>0.008043</td>\n",
       "      <td>0.0</td>\n",
       "      <td>-9.764272e+07</td>\n",
       "      <td>-0.002281</td>\n",
       "    </tr>\n",
       "    <tr>\n",
       "      <th>2021-11-01 02:00:00</th>\n",
       "      <td>0.0</td>\n",
       "      <td>18.230465</td>\n",
       "      <td>-0.004508</td>\n",
       "      <td>0.0</td>\n",
       "      <td>-49209.872771</td>\n",
       "      <td>-0.005322</td>\n",
       "      <td>0.0</td>\n",
       "      <td>-4.448625e+06</td>\n",
       "      <td>-0.0002</td>\n",
       "      <td>0.0</td>\n",
       "      <td>...</td>\n",
       "      <td>-0.025419</td>\n",
       "      <td>0.0</td>\n",
       "      <td>-9.132790e+07</td>\n",
       "      <td>-0.031791</td>\n",
       "      <td>0.0</td>\n",
       "      <td>-9.752281e+07</td>\n",
       "      <td>-0.009171</td>\n",
       "      <td>0.0</td>\n",
       "      <td>-9.764550e+07</td>\n",
       "      <td>-0.006020</td>\n",
       "    </tr>\n",
       "    <tr>\n",
       "      <th>2021-11-01 03:00:00</th>\n",
       "      <td>0.0</td>\n",
       "      <td>-1041.700893</td>\n",
       "      <td>-0.012132</td>\n",
       "      <td>0.0</td>\n",
       "      <td>-62636.812900</td>\n",
       "      <td>-0.013126</td>\n",
       "      <td>0.0</td>\n",
       "      <td>-1.706685e+06</td>\n",
       "      <td>0.0001</td>\n",
       "      <td>0.0</td>\n",
       "      <td>...</td>\n",
       "      <td>-0.013943</td>\n",
       "      <td>0.0</td>\n",
       "      <td>-9.203443e+07</td>\n",
       "      <td>-0.010431</td>\n",
       "      <td>0.0</td>\n",
       "      <td>-9.752520e+07</td>\n",
       "      <td>-0.013301</td>\n",
       "      <td>0.0</td>\n",
       "      <td>-9.764911e+07</td>\n",
       "      <td>-0.022273</td>\n",
       "    </tr>\n",
       "    <tr>\n",
       "      <th>2021-11-01 04:00:00</th>\n",
       "      <td>0.0</td>\n",
       "      <td>-1663.120771</td>\n",
       "      <td>-0.010186</td>\n",
       "      <td>0.0</td>\n",
       "      <td>-71096.882919</td>\n",
       "      <td>-0.010679</td>\n",
       "      <td>0.0</td>\n",
       "      <td>-1.706685e+06</td>\n",
       "      <td>0.0000</td>\n",
       "      <td>0.0</td>\n",
       "      <td>...</td>\n",
       "      <td>-0.020046</td>\n",
       "      <td>0.0</td>\n",
       "      <td>-9.178427e+07</td>\n",
       "      <td>0.004514</td>\n",
       "      <td>0.0</td>\n",
       "      <td>-9.752685e+07</td>\n",
       "      <td>-0.016452</td>\n",
       "      <td>0.0</td>\n",
       "      <td>-9.765150e+07</td>\n",
       "      <td>-0.024002</td>\n",
       "    </tr>\n",
       "  </tbody>\n",
       "</table>\n",
       "<p>5 rows × 33 columns</p>\n",
       "</div>"
      ],
      "text/plain": [
       "                     vol_BTC      obv_BTC   ret_BTC  vol_ETH       obv_ETH  \\\n",
       "ts                                                                           \n",
       "2021-11-01 00:00:00      0.0     0.000000       NaN      0.0 -52533.162665   \n",
       "2021-11-01 01:00:00      0.0   332.481185  0.004357      0.0 -44343.393269   \n",
       "2021-11-01 02:00:00      0.0    18.230465 -0.004508      0.0 -49209.872771   \n",
       "2021-11-01 03:00:00      0.0 -1041.700893 -0.012132      0.0 -62636.812900   \n",
       "2021-11-01 04:00:00      0.0 -1663.120771 -0.010186      0.0 -71096.882919   \n",
       "\n",
       "                      ret_ETH  vol_USDT      obv_USDT  ret_USDT  vol_SOL  ...  \\\n",
       "ts                                                                        ...   \n",
       "2021-11-01 00:00:00       NaN       0.0 -2.067574e+06       NaN      0.0  ...   \n",
       "2021-11-01 01:00:00  0.006874       0.0 -2.067574e+06    0.0000      0.0  ...   \n",
       "2021-11-01 02:00:00 -0.005322       0.0 -4.448625e+06   -0.0002      0.0  ...   \n",
       "2021-11-01 03:00:00 -0.013126       0.0 -1.706685e+06    0.0001      0.0  ...   \n",
       "2021-11-01 04:00:00 -0.010679       0.0 -1.706685e+06    0.0000      0.0  ...   \n",
       "\n",
       "                     ret_ATOM  vol_CRV       obv_CRV   ret_CRV  vol_AAVE  \\\n",
       "ts                                                                         \n",
       "2021-11-01 00:00:00       NaN      0.0 -9.120466e+07       NaN       0.0   \n",
       "2021-11-01 01:00:00  0.008193      0.0 -9.095478e+07  0.000725       0.0   \n",
       "2021-11-01 02:00:00 -0.025419      0.0 -9.132790e+07 -0.031791       0.0   \n",
       "2021-11-01 03:00:00 -0.013943      0.0 -9.203443e+07 -0.010431       0.0   \n",
       "2021-11-01 04:00:00 -0.020046      0.0 -9.178427e+07  0.004514       0.0   \n",
       "\n",
       "                         obv_AAVE  ret_AAVE  vol_COMP      obv_COMP  ret_COMP  \n",
       "ts                                                                             \n",
       "2021-11-01 00:00:00 -9.752450e+07       NaN       0.0 -9.764136e+07       NaN  \n",
       "2021-11-01 01:00:00 -9.752208e+07  0.008043       0.0 -9.764272e+07 -0.002281  \n",
       "2021-11-01 02:00:00 -9.752281e+07 -0.009171       0.0 -9.764550e+07 -0.006020  \n",
       "2021-11-01 03:00:00 -9.752520e+07 -0.013301       0.0 -9.764911e+07 -0.022273  \n",
       "2021-11-01 04:00:00 -9.752685e+07 -0.016452       0.0 -9.765150e+07 -0.024002  \n",
       "\n",
       "[5 rows x 33 columns]"
      ]
     },
     "execution_count": 23,
     "metadata": {},
     "output_type": "execute_result"
    }
   ],
   "source": [
    "X.head()"
   ]
  },
  {
   "cell_type": "code",
   "execution_count": 24,
   "id": "2d5747a1-b310-4427-98c0-a89a2f70077f",
   "metadata": {},
   "outputs": [],
   "source": [
    "X.fillna(0,inplace=True)"
   ]
  },
  {
   "cell_type": "code",
   "execution_count": 25,
   "id": "8986f9fc-334e-471c-88ca-18a5a58edc31",
   "metadata": {
    "tags": []
   },
   "outputs": [
    {
     "data": {
      "text/plain": [
       "vol_BTC     0\n",
       "obv_BTC     0\n",
       "ret_BTC     0\n",
       "vol_ETH     0\n",
       "obv_ETH     0\n",
       "ret_ETH     0\n",
       "vol_USDT    0\n",
       "obv_USDT    0\n",
       "ret_USDT    0\n",
       "vol_SOL     0\n",
       "obv_SOL     0\n",
       "ret_SOL     0\n",
       "vol_ADA     0\n",
       "obv_ADA     0\n",
       "ret_ADA     0\n",
       "vol_DOT     0\n",
       "obv_DOT     0\n",
       "ret_DOT     0\n",
       "vol_AVAX    0\n",
       "obv_AVAX    0\n",
       "ret_AVAX    0\n",
       "vol_ATOM    0\n",
       "obv_ATOM    0\n",
       "ret_ATOM    0\n",
       "vol_CRV     0\n",
       "obv_CRV     0\n",
       "ret_CRV     0\n",
       "vol_AAVE    0\n",
       "obv_AAVE    0\n",
       "ret_AAVE    0\n",
       "vol_COMP    0\n",
       "obv_COMP    0\n",
       "ret_COMP    0\n",
       "dtype: int64"
      ]
     },
     "execution_count": 25,
     "metadata": {},
     "output_type": "execute_result"
    }
   ],
   "source": [
    "pd.isnull(X).sum()"
   ]
  },
  {
   "cell_type": "code",
   "execution_count": 26,
   "id": "69edb709-eb0a-43f8-92aa-781d1ca003ec",
   "metadata": {},
   "outputs": [
    {
     "data": {
      "text/plain": [
       "{'vol_BTC': 0.028693550573573322,\n",
       " 'obv_BTC': 0.020195092827086553,\n",
       " 'ret_BTC': -0.013750904628805061,\n",
       " 'vol_ETH': 0.023571512894692854,\n",
       " 'obv_ETH': 0.028599022261704108,\n",
       " 'ret_ETH': 0.03059252304648374,\n",
       " 'vol_USDT': 0.0068501801913109055,\n",
       " 'obv_USDT': -0.025190403319913533,\n",
       " 'ret_USDT': -0.04428727142792736,\n",
       " 'vol_SOL': 0.03485259726638475,\n",
       " 'obv_SOL': 0.009086584257505971,\n",
       " 'ret_SOL': -0.029752016175605616,\n",
       " 'vol_ADA': 0.03888023343700738,\n",
       " 'obv_ADA': -0.012822762956863324,\n",
       " 'ret_ADA': 0.0003265691221125249,\n",
       " 'vol_DOT': 0.05904076845167186,\n",
       " 'obv_DOT': 0.019627900834142134,\n",
       " 'ret_DOT': 0.008242785834655122,\n",
       " 'vol_AVAX': 0.041408511560781514,\n",
       " 'obv_AVAX': -0.02851599071920401,\n",
       " 'ret_AVAX': 0.016823801668886255,\n",
       " 'vol_ATOM': -0.0022346077856851467,\n",
       " 'obv_ATOM': -0.011208731314217155,\n",
       " 'ret_ATOM': 0.055390678880821366,\n",
       " 'vol_CRV': 0.019828890149893356,\n",
       " 'obv_CRV': -0.0035167086706348093,\n",
       " 'ret_CRV': -0.0058199869516400195,\n",
       " 'vol_AAVE': 0.0360507780728068,\n",
       " 'obv_AAVE': 0.016470720628441883,\n",
       " 'ret_AAVE': 0.019963030930600287,\n",
       " 'vol_COMP': 0.059842585308615054,\n",
       " 'obv_COMP': 0.014469561421174663,\n",
       " 'ret_COMP': 0.020163812477656265}"
      ]
     },
     "execution_count": 26,
     "metadata": {},
     "output_type": "execute_result"
    }
   ],
   "source": [
    "{col: y.corr(X[col]) for col in X.columns if X[col].dtype != 'object'}"
   ]
  },
  {
   "cell_type": "markdown",
   "id": "15bb04fc-5b40-4968-b89a-37eec6ecaee8",
   "metadata": {},
   "source": [
    "### Model"
   ]
  },
  {
   "cell_type": "code",
   "execution_count": 27,
   "id": "7d0c3266-5ed5-4564-ab1a-3ecbda1c93cb",
   "metadata": {
    "tags": []
   },
   "outputs": [],
   "source": [
    "from sklearn.preprocessing import StandardScaler\n",
    "from sklearn.preprocessing import QuantileTransformer\n",
    "from sklearn.decomposition import PCA\n",
    "from sklearn.impute import SimpleImputer\n",
    "\n",
    "from sklearn.base import BaseEstimator, TransformerMixin\n",
    "from sklearn.pipeline import Pipeline\n",
    "from sklearn.compose import ColumnTransformer\n",
    "\n",
    "from sklearn.tree import DecisionTreeRegressor\n",
    "from sklearn.ensemble import RandomForestRegressor\n",
    "from sklearn.linear_model import Ridge\n",
    "\n",
    "from sklearn.model_selection import cross_validate\n",
    "from sklearn.model_selection import TimeSeriesSplit\n",
    "from sklearn.metrics import mean_squared_error, make_scorer\n",
    "\n",
    "from sklearn.model_selection import learning_curve"
   ]
  },
  {
   "cell_type": "code",
   "execution_count": 28,
   "id": "c2f4e3c2-a020-46d0-b628-5856e0d12f31",
   "metadata": {},
   "outputs": [],
   "source": [
    "class FeatureSelector(BaseEstimator, TransformerMixin):\n",
    "    def __init__(self, columns):\n",
    "        self.columns = columns\n",
    "        \n",
    "    def fit(self, X, y=None):\n",
    "        return self\n",
    "    \n",
    "    def transform(self, X):\n",
    "        return X[self.columns]"
   ]
  },
  {
   "cell_type": "code",
   "execution_count": 29,
   "id": "7a99e9ac-fc8a-4f88-8bfd-d6ffe37d1c7b",
   "metadata": {},
   "outputs": [],
   "source": [
    "def evaluate_model(model, X, y, test_size=0.2):\n",
    "    cv = TimeSeriesSplit(n_splits=int(y.shape[0] * test_size), test_size=1)\n",
    "    scorer = make_scorer(mean_squared_error, greater_is_better=False, squared=False)\n",
    "    \n",
    "    return np.mean(cross_validate(model, X, y, cv=cv, scoring=scorer, n_jobs=-1)['test_score'])"
   ]
  },
  {
   "cell_type": "code",
   "execution_count": 30,
   "id": "a3fd7b89-a43b-41ef-b85d-8f518f0a4b11",
   "metadata": {},
   "outputs": [
    {
     "data": {
      "text/plain": [
       "-0.011974798408384153"
      ]
     },
     "execution_count": 30,
     "metadata": {},
     "output_type": "execute_result"
    }
   ],
   "source": [
    "pipeline = Pipeline([\n",
    "    ('feature_selector', FeatureSelector(['vol_SOL'])),\n",
    "    ('impute', SimpleImputer(missing_values=np.nan, strategy='constant', fill_value=0.)),\n",
    "    ('scale', StandardScaler()),\n",
    "    ('model', DecisionTreeRegressor(random_state=0))\n",
    "])\n",
    "\n",
    "evaluate_model(pipeline, X, y)"
   ]
  },
  {
   "cell_type": "code",
   "execution_count": 31,
   "id": "5c6c11e6-a6f7-4c0b-89f1-1c5cb347ee29",
   "metadata": {},
   "outputs": [
    {
     "data": {
      "text/plain": [
       "-0.013838747660195615"
      ]
     },
     "execution_count": 31,
     "metadata": {},
     "output_type": "execute_result"
    }
   ],
   "source": [
    "pipeline = Pipeline([\n",
    "    ('feature_selector', FeatureSelector(['obv_SOL'])),\n",
    "    ('impute', SimpleImputer(missing_values=np.nan, strategy='constant', fill_value=0.)),\n",
    "    ('scale', StandardScaler()),\n",
    "    ('model', DecisionTreeRegressor(random_state=0))\n",
    "])\n",
    "\n",
    "evaluate_model(pipeline, X, y)"
   ]
  },
  {
   "cell_type": "code",
   "execution_count": 32,
   "id": "7d26b0c7-cc7f-412d-a9ff-9a20529c85cc",
   "metadata": {},
   "outputs": [
    {
     "data": {
      "text/plain": [
       "-0.01287102367543804"
      ]
     },
     "execution_count": 32,
     "metadata": {},
     "output_type": "execute_result"
    }
   ],
   "source": [
    "pipeline = Pipeline([\n",
    "    ('impute', SimpleImputer(missing_values=np.nan, strategy='constant', fill_value=0.)),\n",
    "    ('scale', StandardScaler()),\n",
    "    ('model', DecisionTreeRegressor(random_state=0))\n",
    "])\n",
    "\n",
    "evaluate_model(pipeline, X, y)"
   ]
  },
  {
   "cell_type": "code",
   "execution_count": 33,
   "id": "5821a606-fbbd-4dfe-b985-365b464ab10b",
   "metadata": {},
   "outputs": [
    {
     "data": {
      "text/plain": [
       "-0.013977971858555828"
      ]
     },
     "execution_count": 33,
     "metadata": {},
     "output_type": "execute_result"
    }
   ],
   "source": [
    "pipeline = Pipeline([\n",
    "    ('impute', SimpleImputer(missing_values=np.nan, strategy='constant', fill_value=0.)),\n",
    "    ('model', DecisionTreeRegressor(random_state=0))\n",
    "])\n",
    "\n",
    "evaluate_model(pipeline, X, y)"
   ]
  },
  {
   "cell_type": "code",
   "execution_count": 34,
   "id": "4ebd2b11-d720-4812-b1f1-070327cf60fa",
   "metadata": {},
   "outputs": [
    {
     "data": {
      "text/plain": [
       "-0.008811322963537687"
      ]
     },
     "execution_count": 34,
     "metadata": {},
     "output_type": "execute_result"
    }
   ],
   "source": [
    "pipeline = Pipeline([\n",
    "    ('impute', SimpleImputer(missing_values=np.nan, strategy='constant', fill_value=0.)),\n",
    "    ('scale', StandardScaler()),\n",
    "    # ('pca', PCA(n_components=5)),\n",
    "    ('model', RandomForestRegressor(n_estimators=100, random_state=0))\n",
    "])\n",
    "\n",
    "evaluate_model(pipeline, X, y)"
   ]
  },
  {
   "cell_type": "code",
   "execution_count": 35,
   "id": "9985c8f1-6305-4d28-a0dd-1841b247df96",
   "metadata": {},
   "outputs": [
    {
     "data": {
      "text/plain": [
       "-0.008645440776522502"
      ]
     },
     "execution_count": 35,
     "metadata": {},
     "output_type": "execute_result"
    }
   ],
   "source": [
    "pipeline = Pipeline([\n",
    "    ('impute', SimpleImputer(missing_values=np.nan, strategy='constant', fill_value=0.)),\n",
    "    ('scale', StandardScaler()),\n",
    "    ('pca', PCA(n_components= 20)),\n",
    "    ('model', RandomForestRegressor(n_estimators=100, random_state=0))\n",
    "])\n",
    "\n",
    "evaluate_model(pipeline, X, y)"
   ]
  },
  {
   "cell_type": "code",
   "execution_count": 36,
   "id": "0cce2833-8de0-44dd-a8e8-f08efa230214",
   "metadata": {},
   "outputs": [
    {
     "data": {
      "text/plain": [
       "-0.00865972248975801"
      ]
     },
     "execution_count": 36,
     "metadata": {},
     "output_type": "execute_result"
    }
   ],
   "source": [
    "pipeline = Pipeline([\n",
    "    ('impute', SimpleImputer(missing_values=np.nan, strategy='constant', fill_value=0.)),\n",
    "    ('scale', StandardScaler()),\n",
    "    ('pca', PCA(n_components=20)),\n",
    "    ('model', Ridge(alpha=1.0))\n",
    "])\n",
    "\n",
    "evaluate_model(pipeline, X, y)"
   ]
  },
  {
   "cell_type": "markdown",
   "id": "5a49840f-79ef-4529-8438-a92e5c16e569",
   "metadata": {
    "tags": []
   },
   "source": [
    "### Hyperparameter Tuning"
   ]
  },
  {
   "cell_type": "code",
   "execution_count": 40,
   "id": "d347a288-cf50-49ca-976a-c52ef36b78bf",
   "metadata": {},
   "outputs": [
    {
     "data": {
      "text/plain": [
       "GridSearchCV(cv=TimeSeriesSplit(gap=0, max_train_size=None, n_splits=211, test_size=1),\n",
       "             estimator=Pipeline(steps=[('impute',\n",
       "                                        SimpleImputer(fill_value=0.0,\n",
       "                                                      strategy='constant')),\n",
       "                                       ('scale', StandardScaler()),\n",
       "                                       ('pca', PCA()), ('model', Ridge())]),\n",
       "             n_jobs=-1,\n",
       "             param_grid={'model__alpha': [0.1, 0.5, 1.0, 10.0],\n",
       "                         'pca__n_components': [1, 5, 10, 15, 20, 25, 30, 33]},\n",
       "             scoring=make_scorer(mean_squared_error, greater_is_better=False, squared=False))"
      ]
     },
     "execution_count": 40,
     "metadata": {},
     "output_type": "execute_result"
    }
   ],
   "source": [
    "from sklearn.model_selection import GridSearchCV\n",
    "\n",
    "pipeline = Pipeline([\n",
    "    ('impute', SimpleImputer(missing_values=np.nan, strategy='constant', fill_value=0.)),\n",
    "    ('scale', StandardScaler()),\n",
    "    ('pca', PCA()),\n",
    "    ('model', Ridge())\n",
    "])\n",
    "\n",
    "test_size = 0.2\n",
    "cv = TimeSeriesSplit(n_splits=int(y.shape[0] * test_size), test_size=1)\n",
    "scorer = make_scorer(mean_squared_error, greater_is_better=False, squared=False)\n",
    "\n",
    "search = GridSearchCV(pipeline, {\n",
    "    'pca__n_components': [1, 5, 10, 15, 20, 25, 30, 33],\n",
    "    'model__alpha': [0.1, 0.5, 1.0, 10.0]\n",
    "}, scoring=scorer, refit=True, cv=cv, n_jobs=-1)\n",
    "search.fit(X, y)"
   ]
  },
  {
   "cell_type": "code",
   "execution_count": 41,
   "id": "461e12b6-86c6-4f09-88ee-93ebaa85f1ba",
   "metadata": {},
   "outputs": [
    {
     "data": {
      "text/plain": [
       "{'model__alpha': 1.0, 'pca__n_components': 25}"
      ]
     },
     "execution_count": 41,
     "metadata": {},
     "output_type": "execute_result"
    }
   ],
   "source": [
    "search.best_params_"
   ]
  },
  {
   "cell_type": "code",
   "execution_count": 42,
   "id": "dd9534d6-38d0-4e2f-ad76-68b117c8eef0",
   "metadata": {},
   "outputs": [],
   "source": [
    "best_model = search.best_estimator_"
   ]
  },
  {
   "cell_type": "code",
   "execution_count": 43,
   "id": "632c7129-6aac-4055-8a01-4ae71e917338",
   "metadata": {},
   "outputs": [
    {
     "data": {
      "text/plain": [
       "-0.008558134498989525"
      ]
     },
     "execution_count": 43,
     "metadata": {},
     "output_type": "execute_result"
    }
   ],
   "source": [
    "evaluate_model(best_model, X, y)"
   ]
  },
  {
   "cell_type": "code",
   "execution_count": 44,
   "id": "b1ded082-1d14-4057-8e64-7d5261847c4f",
   "metadata": {},
   "outputs": [
    {
     "data": {
      "text/plain": [
       "<module 'matplotlib.pyplot' from 'C:\\\\Users\\\\jhe\\\\Anaconda3\\\\lib\\\\site-packages\\\\matplotlib\\\\pyplot.py'>"
      ]
     },
     "execution_count": 44,
     "metadata": {},
     "output_type": "execute_result"
    },
    {
     "data": {
      "image/png": "[encoded data removed]",
      "text/plain": [
       "<Figure size 720x1080 with 3 Axes>"
      ]
     },
     "metadata": {
      "needs_background": "light"
     },
     "output_type": "display_data"
    }
   ],
   "source": [
    "fig, axes = plt.subplots(3, 1, figsize=(10, 15))\n",
    "\n",
    "title = \"Learning curves for ridge regression\"\n",
    "\n",
    "plot_learning_curve(\n",
    "    best_model, title, X, y, axes=axes, cv=cv, n_jobs=4, scoring=scorer\n",
    ")"
   ]
  },
  {
   "cell_type": "code",
   "execution_count": 45,
   "id": "cc825e4c-c984-4a06-83fe-abe2e52b6d09",
   "metadata": {},
   "outputs": [],
   "source": [
    "pickle.dump(best_model, open('best_model.pkl', 'wb'))"
   ]
  },
  {
   "cell_type": "code",
   "execution_count": 46,
   "id": "4c2d9219-af16-42ff-852c-32f6c3a3b8f5",
   "metadata": {},
   "outputs": [],
   "source": [
    "loaded_model = pickle.load(open('best_model.pkl', 'rb'))"
   ]
  },
  {
   "cell_type": "code",
   "execution_count": 47,
   "id": "8db0c2b6-e4ce-4153-8ff0-8efc8f1d8972",
   "metadata": {},
   "outputs": [
    {
     "data": {
      "text/plain": [
       "-0.008558134498989524"
      ]
     },
     "execution_count": 47,
     "metadata": {},
     "output_type": "execute_result"
    }
   ],
   "source": [
    "evaluate_model(best_model, X, y)"
   ]
  },
  {
   "cell_type": "code",
   "execution_count": 48,
   "id": "71bc7bb3-aeb1-4015-b97c-cdd3ede86fcd",
   "metadata": {},
   "outputs": [
    {
     "data": {
      "text/plain": [
       "-0.008558134498989529"
      ]
     },
     "execution_count": 48,
     "metadata": {},
     "output_type": "execute_result"
    }
   ],
   "source": [
    "evaluate_model(loaded_model, X, y)"
   ]
  },
  {
   "cell_type": "code",
   "execution_count": null,
   "id": "a7f8444b-e276-4eab-86c2-6379de4f94be",
   "metadata": {},
   "outputs": [],
   "source": []
  }
 ],
 "metadata": {
  "kernelspec": {
   "display_name": "Python 3 (ipykernel)",
   "language": "python",
   "name": "python3"
  },
  "language_info": {
   "codemirror_mode": {
    "name": "ipython",
    "version": 3
   },
   "file_extension": ".py",
   "mimetype": "text/x-python",
   "name": "python",
   "nbconvert_exporter": "python",
   "pygments_lexer": "ipython3",
   "version": "3.8.11"
  }
 },
 "nbformat": 4,
 "nbformat_minor": 5
}
