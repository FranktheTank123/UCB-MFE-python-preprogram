{
 "cells": [
  {
   "cell_type": "markdown",
   "id": "a9bd665d-b862-4c9d-8483-3d784a00d15a",
   "metadata": {},
   "source": [
    "# Python - HW8"
   ]
  },
  {
   "cell_type": "markdown",
   "id": "32b875b2-5618-4989-ac9a-95983694ad7e",
   "metadata": {},
   "source": [
    "## Zheng Nan Yang"
   ]
  },
  {
   "cell_type": "code",
   "execution_count": 26,
   "id": "5002dc48-e1b7-4530-af33-d6abf2f192d8",
   "metadata": {},
   "outputs": [],
   "source": [
    "data_location = 'sqlite:///../../data/data.db'"
   ]
  },
  {
   "cell_type": "code",
   "execution_count": 27,
   "id": "b021ed37-e234-4bd9-a3b4-86f204c2356e",
   "metadata": {},
   "outputs": [],
   "source": [
    "import pandas as pd\n",
    "import numpy as np\n",
    "import matplotlib.pyplot as plt\n",
    "from functools import reduce\n",
    "\n",
    "import pickle"
   ]
  },
  {
   "cell_type": "markdown",
   "id": "dff0997a-9ea7-4d65-99dd-307b13fb1664",
   "metadata": {},
   "source": [
    "### Ingest and clean data"
   ]
  },
  {
   "cell_type": "code",
   "execution_count": 28,
   "id": "253037c0-8199-406c-ad9d-2ae51f47e000",
   "metadata": {},
   "outputs": [],
   "source": [
    "def vol_ohlc(df, lookback=10):\n",
    "    o = df.open\n",
    "    h = df.high\n",
    "    l = df.low\n",
    "    c = df.close\n",
    "    \n",
    "    k = 0.34 / (1.34 + (lookback+1)/(lookback-1))\n",
    "    cc = np.log(c/c.shift(1))\n",
    "    ho = np.log(h/o)\n",
    "    lo = np.log(l/o)\n",
    "    co = np.log(c/o)\n",
    "    oc = np.log(o/c.shift(1))\n",
    "    oc_sq = oc**2\n",
    "    cc_sq = cc**2\n",
    "    rs = ho*(ho-co)+lo*(lo-co)\n",
    "    close_vol = cc_sq.rolling(lookback).sum() * (1.0 / (lookback - 1.0))\n",
    "    open_vol = oc_sq.rolling(lookback).sum() * (1.0 / (lookback - 1.0))\n",
    "    window_rs = rs.rolling(lookback).sum() * (1.0 / (lookback - 1.0))\n",
    "    result = (open_vol + k * close_vol + (1-k) * window_rs).apply(np.sqrt) * np.sqrt(252)\n",
    "    result[:lookback-1] = np.nan\n",
    "    \n",
    "    return result"
   ]
  },
  {
   "cell_type": "code",
   "execution_count": 29,
   "id": "9a199938-bb88-4b87-9fe3-5b1b4c1b814a",
   "metadata": {},
   "outputs": [
    {
     "data": {
      "text/plain": [
       "(11627, 9)"
      ]
     },
     "execution_count": 29,
     "metadata": {},
     "output_type": "execute_result"
    }
   ],
   "source": [
    "ohlc = pd.read_sql('SELECT * FROM ohlc', data_location)\n",
    "ohlc['ts'] = pd.to_datetime(ohlc['ts'])\n",
    "ohlc.shape"
   ]
  },
  {
   "cell_type": "code",
   "execution_count": 30,
   "id": "f98cd869-8fbe-408b-9089-7e640cdd1625",
   "metadata": {},
   "outputs": [],
   "source": [
    "tokens = ohlc.token.unique()"
   ]
  },
  {
   "cell_type": "markdown",
   "id": "69874ee0-1886-453b-a964-f9e25b8c9093",
   "metadata": {},
   "source": [
    "### Feature Engineering"
   ]
  },
  {
   "cell_type": "code",
   "execution_count": 31,
   "id": "7a456a74-3238-4082-8386-81ad1f28e11b",
   "metadata": {},
   "outputs": [],
   "source": [
    "#Adding new range feature\n",
    "ohlc['range'] = ohlc['high'] - ohlc['low']"
   ]
  },
  {
   "cell_type": "code",
   "execution_count": 32,
   "id": "1fb89707-7678-4adf-b322-05dcd0beb614",
   "metadata": {},
   "outputs": [
    {
     "data": {
      "text/html": [
       "<div>\n",
       "<style scoped>\n",
       "    .dataframe tbody tr th:only-of-type {\n",
       "        vertical-align: middle;\n",
       "    }\n",
       "\n",
       "    .dataframe tbody tr th {\n",
       "        vertical-align: top;\n",
       "    }\n",
       "\n",
       "    .dataframe thead th {\n",
       "        text-align: right;\n",
       "    }\n",
       "</style>\n",
       "<table border=\"1\" class=\"dataframe\">\n",
       "  <thead>\n",
       "    <tr style=\"text-align: right;\">\n",
       "      <th></th>\n",
       "      <th>ts</th>\n",
       "      <th>open</th>\n",
       "      <th>high</th>\n",
       "      <th>low</th>\n",
       "      <th>close</th>\n",
       "      <th>volume</th>\n",
       "      <th>volumeUSD</th>\n",
       "      <th>token</th>\n",
       "      <th>chain</th>\n",
       "      <th>range</th>\n",
       "    </tr>\n",
       "  </thead>\n",
       "  <tbody>\n",
       "    <tr>\n",
       "      <th>0</th>\n",
       "      <td>2021-11-01 00:00:00</td>\n",
       "      <td>61421.37</td>\n",
       "      <td>61669.14</td>\n",
       "      <td>61239.60</td>\n",
       "      <td>61343.68</td>\n",
       "      <td>256.433869</td>\n",
       "      <td>1.575751e+07</td>\n",
       "      <td>BTC</td>\n",
       "      <td>BTC</td>\n",
       "      <td>429.54</td>\n",
       "    </tr>\n",
       "    <tr>\n",
       "      <th>1</th>\n",
       "      <td>2021-11-01 01:00:00</td>\n",
       "      <td>61346.17</td>\n",
       "      <td>61709.82</td>\n",
       "      <td>61171.22</td>\n",
       "      <td>61610.93</td>\n",
       "      <td>332.481185</td>\n",
       "      <td>2.044558e+07</td>\n",
       "      <td>BTC</td>\n",
       "      <td>BTC</td>\n",
       "      <td>538.60</td>\n",
       "    </tr>\n",
       "    <tr>\n",
       "      <th>2</th>\n",
       "      <td>2021-11-01 02:00:00</td>\n",
       "      <td>61610.94</td>\n",
       "      <td>61779.87</td>\n",
       "      <td>61299.89</td>\n",
       "      <td>61333.17</td>\n",
       "      <td>314.250720</td>\n",
       "      <td>1.935390e+07</td>\n",
       "      <td>BTC</td>\n",
       "      <td>BTC</td>\n",
       "      <td>479.98</td>\n",
       "    </tr>\n",
       "    <tr>\n",
       "      <th>3</th>\n",
       "      <td>2021-11-01 03:00:00</td>\n",
       "      <td>61333.17</td>\n",
       "      <td>61457.28</td>\n",
       "      <td>60050.00</td>\n",
       "      <td>60589.06</td>\n",
       "      <td>1059.931358</td>\n",
       "      <td>6.414625e+07</td>\n",
       "      <td>BTC</td>\n",
       "      <td>BTC</td>\n",
       "      <td>1407.28</td>\n",
       "    </tr>\n",
       "    <tr>\n",
       "      <th>4</th>\n",
       "      <td>2021-11-01 04:00:00</td>\n",
       "      <td>60590.23</td>\n",
       "      <td>60655.00</td>\n",
       "      <td>59752.92</td>\n",
       "      <td>59971.89</td>\n",
       "      <td>621.419878</td>\n",
       "      <td>3.744744e+07</td>\n",
       "      <td>BTC</td>\n",
       "      <td>BTC</td>\n",
       "      <td>902.08</td>\n",
       "    </tr>\n",
       "  </tbody>\n",
       "</table>\n",
       "</div>"
      ],
      "text/plain": [
       "                   ts      open      high       low     close       volume  \\\n",
       "0 2021-11-01 00:00:00  61421.37  61669.14  61239.60  61343.68   256.433869   \n",
       "1 2021-11-01 01:00:00  61346.17  61709.82  61171.22  61610.93   332.481185   \n",
       "2 2021-11-01 02:00:00  61610.94  61779.87  61299.89  61333.17   314.250720   \n",
       "3 2021-11-01 03:00:00  61333.17  61457.28  60050.00  60589.06  1059.931358   \n",
       "4 2021-11-01 04:00:00  60590.23  60655.00  59752.92  59971.89   621.419878   \n",
       "\n",
       "      volumeUSD token chain    range  \n",
       "0  1.575751e+07   BTC   BTC   429.54  \n",
       "1  2.044558e+07   BTC   BTC   538.60  \n",
       "2  1.935390e+07   BTC   BTC   479.98  \n",
       "3  6.414625e+07   BTC   BTC  1407.28  \n",
       "4  3.744744e+07   BTC   BTC   902.08  "
      ]
     },
     "execution_count": 32,
     "metadata": {},
     "output_type": "execute_result"
    }
   ],
   "source": [
    "ohlc.head()"
   ]
  },
  {
   "cell_type": "code",
   "execution_count": 33,
   "id": "ebacbd60-407d-4f3e-bbaa-033e59c27e95",
   "metadata": {},
   "outputs": [],
   "source": [
    "def df_merge(left, right):\n",
    "    return pd.merge(left, right, on='ts', how='inner')"
   ]
  },
  {
   "cell_type": "code",
   "execution_count": 34,
   "id": "b12d16a4-9d55-4117-9dcb-f50547e73cc8",
   "metadata": {},
   "outputs": [],
   "source": [
    "data = reduce(df_merge, [\n",
    "    (lambda df: \n",
    "    (\n",
    "        df\n",
    "        .assign(\n",
    "            vol=vol_ohlc(df).fillna(0),\n",
    "            ret=df.close.pct_change(),\n",
    "            volume_change = df.volume.pct_change()  #Adding new volume percentage change feature\n",
    "        )[['ts', 'vol', 'ret', 'volume_change', 'range']]\n",
    "        .rename(columns={\n",
    "            col: f'{col}_{token}' for col in ['vol', 'ret', 'volume_change', 'range']\n",
    "        })\n",
    "    ))(ohlc[ohlc.token == token])\n",
    "    for token in tokens\n",
    "])"
   ]
  },
  {
   "cell_type": "code",
   "execution_count": 35,
   "id": "c7543f97-8793-4c8a-b99a-5078801423af",
   "metadata": {},
   "outputs": [
    {
     "data": {
      "text/plain": [
       "(1057, 45)"
      ]
     },
     "execution_count": 35,
     "metadata": {},
     "output_type": "execute_result"
    }
   ],
   "source": [
    "data.shape"
   ]
  },
  {
   "cell_type": "code",
   "execution_count": 36,
   "id": "19f9e53c-1aca-4c1f-bb1b-f4a7e276352e",
   "metadata": {},
   "outputs": [],
   "source": [
    "## Adding hour and day features\n",
    "data['hour'] = data['ts'].dt.hour \n",
    "data['day'] = data['ts'].dt.dayofweek \n",
    "data = data.set_index('ts')"
   ]
  },
  {
   "cell_type": "code",
   "execution_count": 37,
   "id": "e04ac4e6-2419-4aaf-b2ba-16df8ad626a6",
   "metadata": {},
   "outputs": [],
   "source": [
    "y = data.ret_SOL.shift(-1)[:-1]\n",
    "X = data[:-1]"
   ]
  },
  {
   "cell_type": "code",
   "execution_count": 38,
   "id": "13e0a2e6-f346-42a3-a95c-0e637ad21581",
   "metadata": {},
   "outputs": [
    {
     "data": {
      "text/html": [
       "<div>\n",
       "<style scoped>\n",
       "    .dataframe tbody tr th:only-of-type {\n",
       "        vertical-align: middle;\n",
       "    }\n",
       "\n",
       "    .dataframe tbody tr th {\n",
       "        vertical-align: top;\n",
       "    }\n",
       "\n",
       "    .dataframe thead th {\n",
       "        text-align: right;\n",
       "    }\n",
       "</style>\n",
       "<table border=\"1\" class=\"dataframe\">\n",
       "  <thead>\n",
       "    <tr style=\"text-align: right;\">\n",
       "      <th></th>\n",
       "      <th>vol_BTC</th>\n",
       "      <th>ret_BTC</th>\n",
       "      <th>volume_change_BTC</th>\n",
       "      <th>range_BTC</th>\n",
       "      <th>vol_ETH</th>\n",
       "      <th>ret_ETH</th>\n",
       "      <th>volume_change_ETH</th>\n",
       "      <th>range_ETH</th>\n",
       "      <th>vol_USDT</th>\n",
       "      <th>ret_USDT</th>\n",
       "      <th>...</th>\n",
       "      <th>vol_AAVE</th>\n",
       "      <th>ret_AAVE</th>\n",
       "      <th>volume_change_AAVE</th>\n",
       "      <th>range_AAVE</th>\n",
       "      <th>vol_COMP</th>\n",
       "      <th>ret_COMP</th>\n",
       "      <th>volume_change_COMP</th>\n",
       "      <th>range_COMP</th>\n",
       "      <th>hour</th>\n",
       "      <th>day</th>\n",
       "    </tr>\n",
       "    <tr>\n",
       "      <th>ts</th>\n",
       "      <th></th>\n",
       "      <th></th>\n",
       "      <th></th>\n",
       "      <th></th>\n",
       "      <th></th>\n",
       "      <th></th>\n",
       "      <th></th>\n",
       "      <th></th>\n",
       "      <th></th>\n",
       "      <th></th>\n",
       "      <th></th>\n",
       "      <th></th>\n",
       "      <th></th>\n",
       "      <th></th>\n",
       "      <th></th>\n",
       "      <th></th>\n",
       "      <th></th>\n",
       "      <th></th>\n",
       "      <th></th>\n",
       "      <th></th>\n",
       "      <th></th>\n",
       "    </tr>\n",
       "  </thead>\n",
       "  <tbody>\n",
       "    <tr>\n",
       "      <th>2021-11-01 00:00:00</th>\n",
       "      <td>0.0</td>\n",
       "      <td>NaN</td>\n",
       "      <td>NaN</td>\n",
       "      <td>429.54</td>\n",
       "      <td>0.0</td>\n",
       "      <td>NaN</td>\n",
       "      <td>NaN</td>\n",
       "      <td>31.62</td>\n",
       "      <td>0.0</td>\n",
       "      <td>NaN</td>\n",
       "      <td>...</td>\n",
       "      <td>0.0</td>\n",
       "      <td>NaN</td>\n",
       "      <td>NaN</td>\n",
       "      <td>2.253</td>\n",
       "      <td>0.0</td>\n",
       "      <td>NaN</td>\n",
       "      <td>NaN</td>\n",
       "      <td>7.56</td>\n",
       "      <td>0</td>\n",
       "      <td>0</td>\n",
       "    </tr>\n",
       "    <tr>\n",
       "      <th>2021-11-01 01:00:00</th>\n",
       "      <td>0.0</td>\n",
       "      <td>0.004357</td>\n",
       "      <td>0.296557</td>\n",
       "      <td>538.60</td>\n",
       "      <td>0.0</td>\n",
       "      <td>0.006874</td>\n",
       "      <td>0.858585</td>\n",
       "      <td>46.72</td>\n",
       "      <td>0.0</td>\n",
       "      <td>0.0000</td>\n",
       "      <td>...</td>\n",
       "      <td>0.0</td>\n",
       "      <td>0.008043</td>\n",
       "      <td>4.182691</td>\n",
       "      <td>5.416</td>\n",
       "      <td>0.0</td>\n",
       "      <td>-0.002281</td>\n",
       "      <td>-0.410075</td>\n",
       "      <td>4.24</td>\n",
       "      <td>1</td>\n",
       "      <td>0</td>\n",
       "    </tr>\n",
       "    <tr>\n",
       "      <th>2021-11-01 02:00:00</th>\n",
       "      <td>0.0</td>\n",
       "      <td>-0.004508</td>\n",
       "      <td>-0.054832</td>\n",
       "      <td>479.98</td>\n",
       "      <td>0.0</td>\n",
       "      <td>-0.005322</td>\n",
       "      <td>-0.405786</td>\n",
       "      <td>32.36</td>\n",
       "      <td>0.0</td>\n",
       "      <td>-0.0002</td>\n",
       "      <td>...</td>\n",
       "      <td>0.0</td>\n",
       "      <td>-0.009171</td>\n",
       "      <td>-0.695572</td>\n",
       "      <td>3.440</td>\n",
       "      <td>0.0</td>\n",
       "      <td>-0.006020</td>\n",
       "      <td>1.027650</td>\n",
       "      <td>7.47</td>\n",
       "      <td>2</td>\n",
       "      <td>0</td>\n",
       "    </tr>\n",
       "    <tr>\n",
       "      <th>2021-11-01 03:00:00</th>\n",
       "      <td>0.0</td>\n",
       "      <td>-0.012132</td>\n",
       "      <td>2.372884</td>\n",
       "      <td>1407.28</td>\n",
       "      <td>0.0</td>\n",
       "      <td>-0.013126</td>\n",
       "      <td>1.759066</td>\n",
       "      <td>114.63</td>\n",
       "      <td>0.0</td>\n",
       "      <td>0.0001</td>\n",
       "      <td>...</td>\n",
       "      <td>0.0</td>\n",
       "      <td>-0.013301</td>\n",
       "      <td>2.232113</td>\n",
       "      <td>8.732</td>\n",
       "      <td>0.0</td>\n",
       "      <td>-0.022273</td>\n",
       "      <td>0.304494</td>\n",
       "      <td>11.94</td>\n",
       "      <td>3</td>\n",
       "      <td>0</td>\n",
       "    </tr>\n",
       "    <tr>\n",
       "      <th>2021-11-01 04:00:00</th>\n",
       "      <td>0.0</td>\n",
       "      <td>-0.010186</td>\n",
       "      <td>-0.413717</td>\n",
       "      <td>902.08</td>\n",
       "      <td>0.0</td>\n",
       "      <td>-0.010679</td>\n",
       "      <td>-0.369918</td>\n",
       "      <td>66.86</td>\n",
       "      <td>0.0</td>\n",
       "      <td>0.0000</td>\n",
       "      <td>...</td>\n",
       "      <td>0.0</td>\n",
       "      <td>-0.016452</td>\n",
       "      <td>-0.305942</td>\n",
       "      <td>6.695</td>\n",
       "      <td>0.0</td>\n",
       "      <td>-0.024002</td>\n",
       "      <td>-0.338418</td>\n",
       "      <td>9.64</td>\n",
       "      <td>4</td>\n",
       "      <td>0</td>\n",
       "    </tr>\n",
       "  </tbody>\n",
       "</table>\n",
       "<p>5 rows × 46 columns</p>\n",
       "</div>"
      ],
      "text/plain": [
       "                     vol_BTC   ret_BTC  volume_change_BTC  range_BTC  vol_ETH  \\\n",
       "ts                                                                              \n",
       "2021-11-01 00:00:00      0.0       NaN                NaN     429.54      0.0   \n",
       "2021-11-01 01:00:00      0.0  0.004357           0.296557     538.60      0.0   \n",
       "2021-11-01 02:00:00      0.0 -0.004508          -0.054832     479.98      0.0   \n",
       "2021-11-01 03:00:00      0.0 -0.012132           2.372884    1407.28      0.0   \n",
       "2021-11-01 04:00:00      0.0 -0.010186          -0.413717     902.08      0.0   \n",
       "\n",
       "                      ret_ETH  volume_change_ETH  range_ETH  vol_USDT  \\\n",
       "ts                                                                      \n",
       "2021-11-01 00:00:00       NaN                NaN      31.62       0.0   \n",
       "2021-11-01 01:00:00  0.006874           0.858585      46.72       0.0   \n",
       "2021-11-01 02:00:00 -0.005322          -0.405786      32.36       0.0   \n",
       "2021-11-01 03:00:00 -0.013126           1.759066     114.63       0.0   \n",
       "2021-11-01 04:00:00 -0.010679          -0.369918      66.86       0.0   \n",
       "\n",
       "                     ret_USDT  ...  vol_AAVE  ret_AAVE  volume_change_AAVE  \\\n",
       "ts                             ...                                           \n",
       "2021-11-01 00:00:00       NaN  ...       0.0       NaN                 NaN   \n",
       "2021-11-01 01:00:00    0.0000  ...       0.0  0.008043            4.182691   \n",
       "2021-11-01 02:00:00   -0.0002  ...       0.0 -0.009171           -0.695572   \n",
       "2021-11-01 03:00:00    0.0001  ...       0.0 -0.013301            2.232113   \n",
       "2021-11-01 04:00:00    0.0000  ...       0.0 -0.016452           -0.305942   \n",
       "\n",
       "                     range_AAVE  vol_COMP  ret_COMP  volume_change_COMP  \\\n",
       "ts                                                                        \n",
       "2021-11-01 00:00:00       2.253       0.0       NaN                 NaN   \n",
       "2021-11-01 01:00:00       5.416       0.0 -0.002281           -0.410075   \n",
       "2021-11-01 02:00:00       3.440       0.0 -0.006020            1.027650   \n",
       "2021-11-01 03:00:00       8.732       0.0 -0.022273            0.304494   \n",
       "2021-11-01 04:00:00       6.695       0.0 -0.024002           -0.338418   \n",
       "\n",
       "                     range_COMP  hour  day  \n",
       "ts                                          \n",
       "2021-11-01 00:00:00        7.56     0    0  \n",
       "2021-11-01 01:00:00        4.24     1    0  \n",
       "2021-11-01 02:00:00        7.47     2    0  \n",
       "2021-11-01 03:00:00       11.94     3    0  \n",
       "2021-11-01 04:00:00        9.64     4    0  \n",
       "\n",
       "[5 rows x 46 columns]"
      ]
     },
     "execution_count": 38,
     "metadata": {},
     "output_type": "execute_result"
    }
   ],
   "source": [
    "X.head()"
   ]
  },
  {
   "cell_type": "code",
   "execution_count": 39,
   "id": "7094ccd3-a3e4-4f37-922a-59c62ce31337",
   "metadata": {},
   "outputs": [
    {
     "data": {
      "text/plain": [
       "(1056, 46)"
      ]
     },
     "execution_count": 39,
     "metadata": {},
     "output_type": "execute_result"
    }
   ],
   "source": [
    "X.shape"
   ]
  },
  {
   "cell_type": "code",
   "execution_count": 40,
   "id": "527c6318-fefb-4e95-bc0f-af5c7ca7717e",
   "metadata": {},
   "outputs": [
    {
     "data": {
      "text/plain": [
       "(1056,)"
      ]
     },
     "execution_count": 40,
     "metadata": {},
     "output_type": "execute_result"
    }
   ],
   "source": [
    "y.shape"
   ]
  },
  {
   "cell_type": "markdown",
   "id": "b7879777-3457-4c93-bae0-04d955c35461",
   "metadata": {},
   "source": [
    "Let's analyze our data a little bit"
   ]
  },
  {
   "cell_type": "code",
   "execution_count": 41,
   "id": "8b8931c9-3a91-4e62-9bd7-d7a7da5be1ea",
   "metadata": {},
   "outputs": [
    {
     "data": {
      "text/plain": [
       "count    1056.000000\n",
       "mean       -0.000156\n",
       "std         0.012010\n",
       "min        -0.053429\n",
       "25%        -0.007444\n",
       "50%        -0.000503\n",
       "75%         0.006740\n",
       "max         0.048298\n",
       "Name: ret_SOL, dtype: float64"
      ]
     },
     "execution_count": 41,
     "metadata": {},
     "output_type": "execute_result"
    }
   ],
   "source": [
    "y.describe()"
   ]
  },
  {
   "cell_type": "code",
   "execution_count": 42,
   "id": "ce2ad7de-32c0-4e9f-92d6-5f2708aae848",
   "metadata": {},
   "outputs": [],
   "source": [
    "from pandas.plotting import scatter_matrix, autocorrelation_plot"
   ]
  },
  {
   "cell_type": "code",
   "execution_count": 43,
   "id": "b7ef0d8c-134c-4e3f-9b5d-0b9f8513c13a",
   "metadata": {},
   "outputs": [
    {
     "data": {
      "image/png": "[encoded data removed]",
      "text/plain": [
       "<Figure size 432x288 with 1 Axes>"
      ]
     },
     "metadata": {
      "needs_background": "light"
     },
     "output_type": "display_data"
    }
   ],
   "source": [
    "autocorrelation_plot(y[1:])\n",
    "plt.show()"
   ]
  },
  {
   "cell_type": "code",
   "execution_count": 44,
   "id": "474942d4-be8b-4cd9-9a50-70a4380fed44",
   "metadata": {},
   "outputs": [
    {
     "data": {
      "image/png": "[encoded data removed]",
      "text/plain": [
       "<Figure size 720x720 with 1 Axes>"
      ]
     },
     "metadata": {
      "needs_background": "light"
     },
     "output_type": "display_data"
    }
   ],
   "source": [
    "corr = X.corrwith(y)\n",
    "corr.sort_values().plot.barh(color = 'blue',title = 'Strength of Correlation', figsize=(10,10))\n",
    "plt.show()"
   ]
  },
  {
   "cell_type": "code",
   "execution_count": 45,
   "id": "e62dd52e-7f13-4d18-a54a-c12fcc4c75f5",
   "metadata": {
    "tags": []
   },
   "outputs": [
    {
     "data": {
      "text/plain": [
       "{'vol_BTC': 0.028693550573573312,\n",
       " 'ret_BTC': -0.013848623804147264,\n",
       " 'volume_change_BTC': -0.043688618552662165,\n",
       " 'range_BTC': -0.03927370884172279,\n",
       " 'vol_ETH': 0.02357151289469288,\n",
       " 'ret_ETH': 0.030649212659338235,\n",
       " 'volume_change_ETH': -0.046803610805641646,\n",
       " 'range_ETH': -0.02390510328737247,\n",
       " 'vol_USDT': 0.00685018019131091,\n",
       " 'ret_USDT': -0.04440085499052747,\n",
       " 'volume_change_USDT': -0.0426840568329797,\n",
       " 'range_USDT': -0.054189797093842036,\n",
       " 'vol_SOL': 0.03485259726638474,\n",
       " 'ret_SOL': -0.029855064193406493,\n",
       " 'volume_change_SOL': -0.05630510667145637,\n",
       " 'range_SOL': -0.019074265837455945,\n",
       " 'vol_ADA': 0.038880233437007417,\n",
       " 'ret_ADA': 0.00024928333961421933,\n",
       " 'volume_change_ADA': -0.04586018089784545,\n",
       " 'range_ADA': -0.012416216544274163,\n",
       " 'vol_DOT': 0.05904076845167188,\n",
       " 'ret_DOT': 0.008193946995455033,\n",
       " 'volume_change_DOT': -0.06323246591949441,\n",
       " 'range_DOT': -0.013566329331696221,\n",
       " 'vol_AVAX': 0.04140851156078151,\n",
       " 'ret_AVAX': 0.016919450289767074,\n",
       " 'volume_change_AVAX': -0.05835418635030613,\n",
       " 'range_AVAX': 0.01915623083943756,\n",
       " 'vol_ATOM': -0.002234607785685169,\n",
       " 'ret_ATOM': 0.05546161881659775,\n",
       " 'volume_change_ATOM': -0.026368811382775668,\n",
       " 'range_ATOM': -0.04888166550865442,\n",
       " 'vol_CRV': 0.01982889014989336,\n",
       " 'ret_CRV': -0.005844145396121416,\n",
       " 'volume_change_CRV': -0.04240268699295658,\n",
       " 'range_CRV': -0.04076287680186058,\n",
       " 'vol_AAVE': 0.0360507780728068,\n",
       " 'ret_AAVE': 0.01989568673206621,\n",
       " 'volume_change_AAVE': -0.035036787153325276,\n",
       " 'range_AAVE': -0.011655430776754364,\n",
       " 'vol_COMP': 0.05984258530861502,\n",
       " 'ret_COMP': 0.02011314149015308,\n",
       " 'volume_change_COMP': -0.04699799233930222,\n",
       " 'range_COMP': -0.002508709865698617,\n",
       " 'hour': 0.06066909653889475,\n",
       " 'day': 0.0186179473323154}"
      ]
     },
     "execution_count": 45,
     "metadata": {},
     "output_type": "execute_result"
    }
   ],
   "source": [
    "{col: y.corr(X[col]) for col in X.columns if X[col].dtype != 'object'}"
   ]
  },
  {
   "cell_type": "markdown",
   "id": "777b8eae-7c31-494a-866d-2e8aed57f548",
   "metadata": {},
   "source": [
    "### Model Selection"
   ]
  },
  {
   "cell_type": "markdown",
   "id": "4baa600e-7b36-448e-811a-c0aa50b1ed11",
   "metadata": {},
   "source": [
    "Next, let's set up a set of transformers so that we can augment our data before it hits the model"
   ]
  },
  {
   "cell_type": "code",
   "execution_count": 46,
   "id": "465b69ab-5c44-4053-9a1b-b656c2cb57b4",
   "metadata": {},
   "outputs": [],
   "source": [
    "from sklearn.preprocessing import StandardScaler\n",
    "from sklearn.preprocessing import QuantileTransformer\n",
    "from sklearn.decomposition import PCA\n",
    "from sklearn.impute import SimpleImputer\n",
    "\n",
    "from sklearn.base import BaseEstimator, TransformerMixin\n",
    "from sklearn.pipeline import Pipeline\n",
    "from sklearn.compose import ColumnTransformer\n",
    "\n",
    "from sklearn.tree import DecisionTreeRegressor\n",
    "from sklearn.ensemble import RandomForestRegressor\n",
    "from sklearn.linear_model import Ridge\n",
    "\n",
    "from sklearn.model_selection import cross_validate\n",
    "from sklearn.model_selection import TimeSeriesSplit\n",
    "from sklearn.metrics import mean_squared_error, make_scorer\n",
    "\n",
    "from sklearn.model_selection import learning_curve"
   ]
  },
  {
   "cell_type": "code",
   "execution_count": 47,
   "id": "c0eae381-861f-4520-ad8d-4a761cfec9c0",
   "metadata": {},
   "outputs": [],
   "source": [
    "class FeatureSelector(BaseEstimator, TransformerMixin):\n",
    "    def __init__(self, columns):\n",
    "        self.columns = columns\n",
    "        \n",
    "    def fit(self, X, y=None):\n",
    "        return self\n",
    "    \n",
    "    def transform(self, X):\n",
    "        return X[self.columns]"
   ]
  },
  {
   "cell_type": "code",
   "execution_count": 48,
   "id": "502a5880-91f7-4bd6-a176-827ff6fb0c83",
   "metadata": {},
   "outputs": [],
   "source": [
    "from sklearn.preprocessing import LabelBinarizer\n",
    "from sklearn.compose import ColumnTransformer\n",
    "from sklearn.preprocessing import OneHotEncoder\n",
    "from sklearn.preprocessing import Normalizer"
   ]
  },
  {
   "cell_type": "code",
   "execution_count": 49,
   "id": "5a712c13-a54a-4d3b-89e9-dc0b51c303ea",
   "metadata": {},
   "outputs": [],
   "source": [
    "#Creating seperate transformers for pre-processing numeric and categoric features\n",
    "\n",
    "numeric_features = [x for x in X.columns if x not in ['hour', 'day']]\n",
    "numeric_transformer = Pipeline(steps=[\n",
    "    ('imputer', SimpleImputer(missing_values=np.nan, strategy='constant', fill_value=0.)),\n",
    "    ('scaler', StandardScaler())])\n",
    "\n",
    "categorical_features = ['hour', 'day']\n",
    "categorical_transformer = OneHotEncoder(sparse=False)\n",
    "\n",
    "preprocessor = ColumnTransformer(\n",
    "    transformers=[\n",
    "        ('num', numeric_transformer, numeric_features),\n",
    "        ('cat', categorical_transformer, categorical_features)])"
   ]
  },
  {
   "cell_type": "code",
   "execution_count": 50,
   "id": "30bd7300-9a0a-4464-a27a-f025ecf480b3",
   "metadata": {},
   "outputs": [],
   "source": [
    "def evaluate_model(model, X, y, test_size=0.2):\n",
    "    cv = TimeSeriesSplit(n_splits=int(y.shape[0] * test_size), test_size=1)\n",
    "    scorer = make_scorer(mean_squared_error, greater_is_better=False, squared=False)\n",
    "    \n",
    "    return np.mean(cross_validate(model, X, y, cv=cv, scoring=scorer, n_jobs=-1)['test_score'])"
   ]
  },
  {
   "cell_type": "markdown",
   "id": "9721d90d-7753-4770-a7b4-1586cf4da135",
   "metadata": {},
   "source": [
    "Preliminary testing to determine an appropriate class of model"
   ]
  },
  {
   "cell_type": "code",
   "execution_count": 51,
   "id": "9c022669-d5f3-4bb1-a196-28833debc984",
   "metadata": {},
   "outputs": [
    {
     "data": {
      "text/plain": [
       "-0.008570816681474391"
      ]
     },
     "execution_count": 51,
     "metadata": {},
     "output_type": "execute_result"
    }
   ],
   "source": [
    "from sklearn.linear_model import Lasso\n",
    "\n",
    "pipeline = Pipeline([\n",
    "    ('preprocessor', preprocessor),\n",
    "    ('model', Lasso(alpha = 1))\n",
    "])\n",
    "\n",
    "evaluate_model(pipeline, X, y)"
   ]
  },
  {
   "cell_type": "code",
   "execution_count": 52,
   "id": "24453820-1a29-42a2-a53d-597eda7e940f",
   "metadata": {},
   "outputs": [
    {
     "data": {
      "text/plain": [
       "-0.008570816681474391"
      ]
     },
     "execution_count": 52,
     "metadata": {},
     "output_type": "execute_result"
    }
   ],
   "source": [
    "from sklearn.linear_model import ElasticNet\n",
    "\n",
    "pipeline = Pipeline([\n",
    "    ('preprocessor', preprocessor),\n",
    "    ('model', ElasticNet(alpha = 0.5, random_state=0))\n",
    "])\n",
    "\n",
    "evaluate_model(pipeline, X, y)"
   ]
  },
  {
   "cell_type": "code",
   "execution_count": 53,
   "id": "321101b6-b5d3-4944-949f-9e58037e1907",
   "metadata": {},
   "outputs": [
    {
     "data": {
      "text/plain": [
       "-0.008546201345938906"
      ]
     },
     "execution_count": 53,
     "metadata": {},
     "output_type": "execute_result"
    }
   ],
   "source": [
    "from sklearn.svm import SVR\n",
    "\n",
    "pipeline = Pipeline([\n",
    "    ('preprocessor', preprocessor),\n",
    "    ('model', SVR(kernel = 'rbf'))\n",
    "])\n",
    "\n",
    "evaluate_model(pipeline, X, y)"
   ]
  },
  {
   "cell_type": "code",
   "execution_count": 54,
   "id": "f29a52a8-787e-465c-9d14-0977988b5ac3",
   "metadata": {},
   "outputs": [
    {
     "data": {
      "text/plain": [
       "-0.008546201345938906"
      ]
     },
     "execution_count": 54,
     "metadata": {},
     "output_type": "execute_result"
    }
   ],
   "source": [
    "pipeline = Pipeline([\n",
    "    ('preprocessor', preprocessor),\n",
    "    ('model', SVR(kernel = 'linear'))\n",
    "])\n",
    "\n",
    "evaluate_model(pipeline, X, y)"
   ]
  },
  {
   "cell_type": "code",
   "execution_count": 55,
   "id": "b9605cda-0c1d-4604-934d-4b1dbd5b72b8",
   "metadata": {},
   "outputs": [
    {
     "data": {
      "text/plain": [
       "-0.008546201345938906"
      ]
     },
     "execution_count": 55,
     "metadata": {},
     "output_type": "execute_result"
    }
   ],
   "source": [
    "pipeline = Pipeline([\n",
    "    ('preprocessor', preprocessor),\n",
    "    ('model', SVR(kernel = 'poly'))\n",
    "])\n",
    "\n",
    "evaluate_model(pipeline, X, y)"
   ]
  },
  {
   "cell_type": "code",
   "execution_count": 56,
   "id": "8eebb851-7c98-432b-804f-bdc9b836dff7",
   "metadata": {},
   "outputs": [
    {
     "data": {
      "text/plain": [
       "-0.008574969541037024"
      ]
     },
     "execution_count": 56,
     "metadata": {},
     "output_type": "execute_result"
    }
   ],
   "source": [
    "from sklearn.ensemble import GradientBoostingRegressor\n",
    "\n",
    "pipeline = Pipeline([\n",
    "    ('preprocessor', preprocessor),\n",
    "    ('model', GradientBoostingRegressor(n_estimators=10, max_depth = 1, learning_rate = 0.01, random_state=0))\n",
    "])\n",
    "\n",
    "evaluate_model(pipeline, X, y)"
   ]
  },
  {
   "cell_type": "markdown",
   "id": "4354687d-3111-408a-9967-bc7c3d0210ee",
   "metadata": {},
   "source": [
    "The Support Vector Machine regression model with Linear kernel looks to be the most promising so we will focus our hyperparameter tuning on that model"
   ]
  },
  {
   "cell_type": "markdown",
   "id": "7dd182b9-1f3a-49a7-8ec2-741e32065748",
   "metadata": {
    "tags": []
   },
   "source": [
    "### Hyperparameter Tuning"
   ]
  },
  {
   "cell_type": "code",
   "execution_count": 57,
   "id": "657ec625-6e6e-42a9-85f1-050119db45ba",
   "metadata": {},
   "outputs": [
    {
     "data": {
      "text/plain": [
       "GridSearchCV(cv=TimeSeriesSplit(gap=0, max_train_size=None, n_splits=211, test_size=1),\n",
       "             estimator=Pipeline(steps=[('preprocessor',\n",
       "                                        ColumnTransformer(transformers=[('num',\n",
       "                                                                         Pipeline(steps=[('imputer',\n",
       "                                                                                          SimpleImputer(fill_value=0.0,\n",
       "                                                                                                        strategy='constant')),\n",
       "                                                                                         ('scaler',\n",
       "                                                                                          StandardScaler())]),\n",
       "                                                                         ['vol_BTC',\n",
       "                                                                          'ret_BTC',\n",
       "                                                                          'volume_change_BTC',\n",
       "                                                                          'range_BTC',\n",
       "                                                                          'vol_ETH',\n",
       "                                                                          'ret_ETH',\n",
       "                                                                          'vol...\n",
       "                                                                          'volume_change_DOT',\n",
       "                                                                          'range_DOT',\n",
       "                                                                          'vol_AVAX',\n",
       "                                                                          'ret_AVAX',\n",
       "                                                                          'volume_change_AVAX',\n",
       "                                                                          'range_AVAX',\n",
       "                                                                          'vol_ATOM',\n",
       "                                                                          'ret_ATOM', ...]),\n",
       "                                                                        ('cat',\n",
       "                                                                         OneHotEncoder(sparse=False),\n",
       "                                                                         ['hour',\n",
       "                                                                          'day'])])),\n",
       "                                       ('model', SVR())]),\n",
       "             n_jobs=-1,\n",
       "             param_grid={'model__C': [1, 10, 100, 1000],\n",
       "                         'model__epsilon': [0.1, 0.01, 0.001]},\n",
       "             scoring=make_scorer(mean_squared_error, greater_is_better=False, squared=False))"
      ]
     },
     "execution_count": 57,
     "metadata": {},
     "output_type": "execute_result"
    }
   ],
   "source": [
    "from sklearn.model_selection import GridSearchCV\n",
    "\n",
    "pipeline = Pipeline([\n",
    "    ('preprocessor', preprocessor),\n",
    "    ('model', SVR(kernel = 'rbf'))\n",
    "])\n",
    "\n",
    "test_size = 0.2\n",
    "cv = TimeSeriesSplit(n_splits=int(y.shape[0] * test_size), test_size=1)\n",
    "scorer = make_scorer(mean_squared_error, greater_is_better=False, squared=False)\n",
    "\n",
    "#Setting up hyperparameter grid serach to look across values of C and epsilon in the SVM model\n",
    "search = GridSearchCV(pipeline, {\n",
    "    'model__C': [1, 10, 100, 1000],\n",
    "    'model__epsilon':[0.1, 0.01, 0.001]\n",
    "}, scoring=scorer, refit=True, cv=cv, n_jobs=-1)\n",
    "search.fit(X, y)"
   ]
  },
  {
   "cell_type": "code",
   "execution_count": 58,
   "id": "f20ced98-94dc-4f60-b202-232643d71bf6",
   "metadata": {},
   "outputs": [
    {
     "data": {
      "text/plain": [
       "{'model__C': 1, 'model__epsilon': 0.1}"
      ]
     },
     "execution_count": 58,
     "metadata": {},
     "output_type": "execute_result"
    }
   ],
   "source": [
    "search.best_params_"
   ]
  },
  {
   "cell_type": "code",
   "execution_count": 59,
   "id": "c1b159b7-eeb1-407e-8a3e-4d6b9079d124",
   "metadata": {},
   "outputs": [],
   "source": [
    "best_model = search.best_estimator_"
   ]
  },
  {
   "cell_type": "code",
   "execution_count": 60,
   "id": "d811f063-0064-47c5-88ca-c932021cc2ba",
   "metadata": {},
   "outputs": [
    {
     "data": {
      "text/plain": [
       "-0.008546201345938906"
      ]
     },
     "execution_count": 60,
     "metadata": {},
     "output_type": "execute_result"
    }
   ],
   "source": [
    "evaluate_model(best_model, X, y)"
   ]
  },
  {
   "cell_type": "markdown",
   "id": "8825f074-da46-4aa8-a3bb-4b0bd851e9a7",
   "metadata": {},
   "source": [
    "### Final Model "
   ]
  },
  {
   "cell_type": "code",
   "execution_count": 63,
   "id": "5592bf8c-594f-4972-9fa3-06faf1bf72eb",
   "metadata": {},
   "outputs": [],
   "source": [
    "def plot_learning_curve(\n",
    "    estimator,\n",
    "    title,\n",
    "    X,\n",
    "    y,\n",
    "    axes=None,\n",
    "    ylim=None,\n",
    "    cv=None,\n",
    "    n_jobs=None,\n",
    "    train_sizes=np.linspace(0.1, 1.0, 5),\n",
    "    scoring=None\n",
    "):\n",
    "    if axes is None:\n",
    "        _, axes = plt.subplots(1, 3, figsize=(20, 5))\n",
    "\n",
    "    axes[0].set_title(title)\n",
    "    if ylim is not None:\n",
    "        axes[0].set_ylim(*ylim)\n",
    "    axes[0].set_xlabel(\"Training examples\")\n",
    "    axes[0].set_ylabel(\"Score\")\n",
    "\n",
    "    train_sizes, train_scores, test_scores, fit_times, _ = learning_curve(\n",
    "        estimator,\n",
    "        X,\n",
    "        y,\n",
    "        cv=cv,\n",
    "        n_jobs=n_jobs,\n",
    "        train_sizes=train_sizes,\n",
    "        return_times=True,\n",
    "        scoring=scoring,\n",
    "    )\n",
    "    train_scores_mean = np.mean(train_scores, axis=1)\n",
    "    train_scores_std = np.std(train_scores, axis=1)\n",
    "    test_scores_mean = np.mean(test_scores, axis=1)\n",
    "    test_scores_std = np.std(test_scores, axis=1)\n",
    "    fit_times_mean = np.mean(fit_times, axis=1)\n",
    "    fit_times_std = np.std(fit_times, axis=1)\n",
    "\n",
    "    # Plot learning curve\n",
    "    axes[0].grid()\n",
    "    axes[0].fill_between(\n",
    "        train_sizes,\n",
    "        train_scores_mean - train_scores_std,\n",
    "        train_scores_mean + train_scores_std,\n",
    "        alpha=0.1,\n",
    "        color=\"r\",\n",
    "    )\n",
    "    axes[0].fill_between(\n",
    "        train_sizes,\n",
    "        test_scores_mean - test_scores_std,\n",
    "        test_scores_mean + test_scores_std,\n",
    "        alpha=0.1,\n",
    "        color=\"g\",\n",
    "    )\n",
    "    axes[0].plot(\n",
    "        train_sizes, train_scores_mean, \"o-\", color=\"r\", label=\"Training score\"\n",
    "    )\n",
    "    axes[0].plot(\n",
    "        train_sizes, test_scores_mean, \"o-\", color=\"g\", label=\"Cross-validation score\"\n",
    "    )\n",
    "    axes[0].legend(loc=\"best\")\n",
    "\n",
    "    # Plot n_samples vs fit_times\n",
    "    axes[1].grid()\n",
    "    axes[1].plot(train_sizes, fit_times_mean, \"o-\")\n",
    "    axes[1].fill_between(\n",
    "        train_sizes,\n",
    "        fit_times_mean - fit_times_std,\n",
    "        fit_times_mean + fit_times_std,\n",
    "        alpha=0.1,\n",
    "    )\n",
    "    axes[1].set_xlabel(\"Training examples\")\n",
    "    axes[1].set_ylabel(\"fit_times\")\n",
    "    axes[1].set_title(\"Scalability of the model\")\n",
    "\n",
    "    # Plot fit_time vs score\n",
    "    fit_time_argsort = fit_times_mean.argsort()\n",
    "    fit_time_sorted = fit_times_mean[fit_time_argsort]\n",
    "    test_scores_mean_sorted = test_scores_mean[fit_time_argsort]\n",
    "    test_scores_std_sorted = test_scores_std[fit_time_argsort]\n",
    "    axes[2].grid()\n",
    "    axes[2].plot(fit_time_sorted, test_scores_mean_sorted, \"o-\")\n",
    "    axes[2].fill_between(\n",
    "        fit_time_sorted,\n",
    "        test_scores_mean_sorted - test_scores_std_sorted,\n",
    "        test_scores_mean_sorted + test_scores_std_sorted,\n",
    "        alpha=0.1,\n",
    "    )\n",
    "    axes[2].set_xlabel(\"fit_times\")\n",
    "    axes[2].set_ylabel(\"Score\")\n",
    "    axes[2].set_title(\"Performance of the model\")\n",
    "\n",
    "    return plt"
   ]
  },
  {
   "cell_type": "markdown",
   "id": "4e0de43f-5164-4fe7-a039-5f4bfa83fdcb",
   "metadata": {},
   "source": [
    "Let's check the learning curve of our best model"
   ]
  },
  {
   "cell_type": "code",
   "execution_count": 65,
   "id": "17696e23-e9fa-4e95-825c-379c1b660ffa",
   "metadata": {},
   "outputs": [
    {
     "data": {
      "image/png": "[encoded data removed]",
      "text/plain": [
       "<Figure size 720x1080 with 3 Axes>"
      ]
     },
     "metadata": {
      "needs_background": "light"
     },
     "output_type": "display_data"
    }
   ],
   "source": [
    "fig, axes = plt.subplots(3, 1, figsize=(10, 15))\n",
    "\n",
    "title = \"Learning curves for SVM regression\"\n",
    "\n",
    "plot_learning_curve(\n",
    "    best_model, title, X, y, axes=axes, cv=cv, n_jobs=4, scoring=scorer\n",
    ")\n",
    "plt.show()"
   ]
  },
  {
   "cell_type": "code",
   "execution_count": null,
   "id": "8da953d0-e34a-4889-92f4-028f5b0918f5",
   "metadata": {},
   "outputs": [],
   "source": []
  }
 ],
 "metadata": {
  "kernelspec": {
   "display_name": "Python 3 (ipykernel)",
   "language": "python",
   "name": "python3"
  },
  "language_info": {
   "codemirror_mode": {
    "name": "ipython",
    "version": 3
   },
   "file_extension": ".py",
   "mimetype": "text/x-python",
   "name": "python",
   "nbconvert_exporter": "python",
   "pygments_lexer": "ipython3",
   "version": "3.8.12"
  }
 },
 "nbformat": 4,
 "nbformat_minor": 5
}
