{
 "cells": [
  {
   "cell_type": "code",
   "execution_count": 1,
   "id": "5002dc48-e1b7-4530-af33-d6abf2f192d8",
   "metadata": {},
   "outputs": [],
   "source": [
    "data_location = 'sqlite:///../../../data/data.db'"
   ]
  },
  {
   "cell_type": "code",
   "execution_count": 2,
   "id": "b021ed37-e234-4bd9-a3b4-86f204c2356e",
   "metadata": {},
   "outputs": [],
   "source": [
    "import pandas as pd\n",
    "import numpy as np\n",
    "import matplotlib.pyplot as plt\n",
    "from functools import reduce\n",
    "\n",
    "import pickle"
   ]
  },
  {
   "cell_type": "code",
   "execution_count": 3,
   "id": "253037c0-8199-406c-ad9d-2ae51f47e000",
   "metadata": {},
   "outputs": [],
   "source": [
    "def vol_ohlc(df, lookback=10):\n",
    "    o = df.open\n",
    "    h = df.high\n",
    "    l = df.low\n",
    "    c = df.close\n",
    "    \n",
    "    k = 0.34 / (1.34 + (lookback+1)/(lookback-1))\n",
    "    cc = np.log(c/c.shift(1))\n",
    "    ho = np.log(h/o)\n",
    "    lo = np.log(l/o)\n",
    "    co = np.log(c/o)\n",
    "    oc = np.log(o/c.shift(1))\n",
    "    oc_sq = oc**2\n",
    "    cc_sq = cc**2\n",
    "    rs = ho*(ho-co)+lo*(lo-co)\n",
    "    close_vol = cc_sq.rolling(lookback).sum() * (1.0 / (lookback - 1.0))\n",
    "    open_vol = oc_sq.rolling(lookback).sum() * (1.0 / (lookback - 1.0))\n",
    "    window_rs = rs.rolling(lookback).sum() * (1.0 / (lookback - 1.0))\n",
    "    result = (open_vol + k * close_vol + (1-k) * window_rs).apply(np.sqrt) * np.sqrt(252)\n",
    "    result[:lookback-1] = np.nan\n",
    "    \n",
    "    return result"
   ]
  },
  {
   "cell_type": "code",
   "execution_count": 4,
   "id": "5592bf8c-594f-4972-9fa3-06faf1bf72eb",
   "metadata": {},
   "outputs": [],
   "source": [
    "def plot_learning_curve(\n",
    "    estimator,\n",
    "    title,\n",
    "    X,\n",
    "    y,\n",
    "    axes=None,\n",
    "    ylim=None,\n",
    "    cv=None,\n",
    "    n_jobs=None,\n",
    "    train_sizes=np.linspace(0.1, 1.0, 5),\n",
    "    scoring=None\n",
    "):\n",
    "    if axes is None:\n",
    "        _, axes = plt.subplots(1, 3, figsize=(20, 5))\n",
    "\n",
    "    axes[0].set_title(title)\n",
    "    if ylim is not None:\n",
    "        axes[0].set_ylim(*ylim)\n",
    "    axes[0].set_xlabel(\"Training examples\")\n",
    "    axes[0].set_ylabel(\"Score\")\n",
    "\n",
    "    train_sizes, train_scores, test_scores, fit_times, _ = learning_curve(\n",
    "        estimator,\n",
    "        X,\n",
    "        y,\n",
    "        cv=cv,\n",
    "        n_jobs=n_jobs,\n",
    "        train_sizes=train_sizes,\n",
    "        return_times=True,\n",
    "        scoring=scoring,\n",
    "    )\n",
    "    train_scores_mean = np.mean(train_scores, axis=1)\n",
    "    train_scores_std = np.std(train_scores, axis=1)\n",
    "    test_scores_mean = np.mean(test_scores, axis=1)\n",
    "    test_scores_std = np.std(test_scores, axis=1)\n",
    "    fit_times_mean = np.mean(fit_times, axis=1)\n",
    "    fit_times_std = np.std(fit_times, axis=1)\n",
    "\n",
    "    # Plot learning curve\n",
    "    axes[0].grid()\n",
    "    axes[0].fill_between(\n",
    "        train_sizes,\n",
    "        train_scores_mean - train_scores_std,\n",
    "        train_scores_mean + train_scores_std,\n",
    "        alpha=0.1,\n",
    "        color=\"r\",\n",
    "    )\n",
    "    axes[0].fill_between(\n",
    "        train_sizes,\n",
    "        test_scores_mean - test_scores_std,\n",
    "        test_scores_mean + test_scores_std,\n",
    "        alpha=0.1,\n",
    "        color=\"g\",\n",
    "    )\n",
    "    axes[0].plot(\n",
    "        train_sizes, train_scores_mean, \"o-\", color=\"r\", label=\"Training score\"\n",
    "    )\n",
    "    axes[0].plot(\n",
    "        train_sizes, test_scores_mean, \"o-\", color=\"g\", label=\"Cross-validation score\"\n",
    "    )\n",
    "    axes[0].legend(loc=\"best\")\n",
    "\n",
    "    # Plot n_samples vs fit_times\n",
    "    axes[1].grid()\n",
    "    axes[1].plot(train_sizes, fit_times_mean, \"o-\")\n",
    "    axes[1].fill_between(\n",
    "        train_sizes,\n",
    "        fit_times_mean - fit_times_std,\n",
    "        fit_times_mean + fit_times_std,\n",
    "        alpha=0.1,\n",
    "    )\n",
    "    axes[1].set_xlabel(\"Training examples\")\n",
    "    axes[1].set_ylabel(\"fit_times\")\n",
    "    axes[1].set_title(\"Scalability of the model\")\n",
    "\n",
    "    # Plot fit_time vs score\n",
    "    fit_time_argsort = fit_times_mean.argsort()\n",
    "    fit_time_sorted = fit_times_mean[fit_time_argsort]\n",
    "    test_scores_mean_sorted = test_scores_mean[fit_time_argsort]\n",
    "    test_scores_std_sorted = test_scores_std[fit_time_argsort]\n",
    "    axes[2].grid()\n",
    "    axes[2].plot(fit_time_sorted, test_scores_mean_sorted, \"o-\")\n",
    "    axes[2].fill_between(\n",
    "        fit_time_sorted,\n",
    "        test_scores_mean_sorted - test_scores_std_sorted,\n",
    "        test_scores_mean_sorted + test_scores_std_sorted,\n",
    "        alpha=0.1,\n",
    "    )\n",
    "    axes[2].set_xlabel(\"fit_times\")\n",
    "    axes[2].set_ylabel(\"Score\")\n",
    "    axes[2].set_title(\"Performance of the model\")\n",
    "\n",
    "    return plt"
   ]
  },
  {
   "cell_type": "code",
   "execution_count": 5,
   "id": "9a199938-bb88-4b87-9fe3-5b1b4c1b814a",
   "metadata": {},
   "outputs": [
    {
     "data": {
      "text/plain": [
       "(11627, 9)"
      ]
     },
     "execution_count": 5,
     "metadata": {},
     "output_type": "execute_result"
    }
   ],
   "source": [
    "ohlc = pd.read_sql('SELECT * FROM ohlc', data_location)\n",
    "ohlc.shape"
   ]
  },
  {
   "cell_type": "code",
   "execution_count": 6,
   "id": "df34d30a-50e7-46b2-86e7-285166d14efb",
   "metadata": {},
   "outputs": [
    {
     "data": {
      "text/html": [
       "<div>\n",
       "<style scoped>\n",
       "    .dataframe tbody tr th:only-of-type {\n",
       "        vertical-align: middle;\n",
       "    }\n",
       "\n",
       "    .dataframe tbody tr th {\n",
       "        vertical-align: top;\n",
       "    }\n",
       "\n",
       "    .dataframe thead th {\n",
       "        text-align: right;\n",
       "    }\n",
       "</style>\n",
       "<table border=\"1\" class=\"dataframe\">\n",
       "  <thead>\n",
       "    <tr style=\"text-align: right;\">\n",
       "      <th></th>\n",
       "      <th>ts</th>\n",
       "      <th>open</th>\n",
       "      <th>high</th>\n",
       "      <th>low</th>\n",
       "      <th>close</th>\n",
       "      <th>volume</th>\n",
       "      <th>volumeUSD</th>\n",
       "      <th>token</th>\n",
       "      <th>chain</th>\n",
       "    </tr>\n",
       "  </thead>\n",
       "  <tbody>\n",
       "    <tr>\n",
       "      <th>0</th>\n",
       "      <td>2021-11-01 00:00:00</td>\n",
       "      <td>61421.37</td>\n",
       "      <td>61669.14</td>\n",
       "      <td>61239.60</td>\n",
       "      <td>61343.68</td>\n",
       "      <td>256.433869</td>\n",
       "      <td>1.575751e+07</td>\n",
       "      <td>BTC</td>\n",
       "      <td>BTC</td>\n",
       "    </tr>\n",
       "    <tr>\n",
       "      <th>1</th>\n",
       "      <td>2021-11-01 01:00:00</td>\n",
       "      <td>61346.17</td>\n",
       "      <td>61709.82</td>\n",
       "      <td>61171.22</td>\n",
       "      <td>61610.93</td>\n",
       "      <td>332.481185</td>\n",
       "      <td>2.044558e+07</td>\n",
       "      <td>BTC</td>\n",
       "      <td>BTC</td>\n",
       "    </tr>\n",
       "    <tr>\n",
       "      <th>2</th>\n",
       "      <td>2021-11-01 02:00:00</td>\n",
       "      <td>61610.94</td>\n",
       "      <td>61779.87</td>\n",
       "      <td>61299.89</td>\n",
       "      <td>61333.17</td>\n",
       "      <td>314.250720</td>\n",
       "      <td>1.935390e+07</td>\n",
       "      <td>BTC</td>\n",
       "      <td>BTC</td>\n",
       "    </tr>\n",
       "    <tr>\n",
       "      <th>3</th>\n",
       "      <td>2021-11-01 03:00:00</td>\n",
       "      <td>61333.17</td>\n",
       "      <td>61457.28</td>\n",
       "      <td>60050.00</td>\n",
       "      <td>60589.06</td>\n",
       "      <td>1059.931358</td>\n",
       "      <td>6.414625e+07</td>\n",
       "      <td>BTC</td>\n",
       "      <td>BTC</td>\n",
       "    </tr>\n",
       "    <tr>\n",
       "      <th>4</th>\n",
       "      <td>2021-11-01 04:00:00</td>\n",
       "      <td>60590.23</td>\n",
       "      <td>60655.00</td>\n",
       "      <td>59752.92</td>\n",
       "      <td>59971.89</td>\n",
       "      <td>621.419878</td>\n",
       "      <td>3.744744e+07</td>\n",
       "      <td>BTC</td>\n",
       "      <td>BTC</td>\n",
       "    </tr>\n",
       "  </tbody>\n",
       "</table>\n",
       "</div>"
      ],
      "text/plain": [
       "                    ts      open      high       low     close       volume  \\\n",
       "0  2021-11-01 00:00:00  61421.37  61669.14  61239.60  61343.68   256.433869   \n",
       "1  2021-11-01 01:00:00  61346.17  61709.82  61171.22  61610.93   332.481185   \n",
       "2  2021-11-01 02:00:00  61610.94  61779.87  61299.89  61333.17   314.250720   \n",
       "3  2021-11-01 03:00:00  61333.17  61457.28  60050.00  60589.06  1059.931358   \n",
       "4  2021-11-01 04:00:00  60590.23  60655.00  59752.92  59971.89   621.419878   \n",
       "\n",
       "      volumeUSD token chain  \n",
       "0  1.575751e+07   BTC   BTC  \n",
       "1  2.044558e+07   BTC   BTC  \n",
       "2  1.935390e+07   BTC   BTC  \n",
       "3  6.414625e+07   BTC   BTC  \n",
       "4  3.744744e+07   BTC   BTC  "
      ]
     },
     "execution_count": 6,
     "metadata": {},
     "output_type": "execute_result"
    }
   ],
   "source": [
    "ohlc.head()"
   ]
  },
  {
   "cell_type": "code",
   "execution_count": 7,
   "id": "f98cd869-8fbe-408b-9089-7e640cdd1625",
   "metadata": {},
   "outputs": [],
   "source": [
    "tokens = ohlc.token.unique()"
   ]
  },
  {
   "cell_type": "code",
   "execution_count": 8,
   "id": "b12d16a4-9d55-4117-9dcb-f50547e73cc8",
   "metadata": {},
   "outputs": [],
   "source": [
    "def df_merge(left, right):\n",
    "    return pd.merge(left, right, on='ts', how='inner')\n",
    "\n",
    "X = reduce(df_merge, [\n",
    "    (lambda df: \n",
    "    (\n",
    "        df\n",
    "        .assign(\n",
    "            ret=df.close.pct_change(), \n",
    "            osc=df.high / df.low - 1,\n",
    "            ret2=df.close.pct_change(2),\n",
    "            ret3=df.close.pct_change(3),\n",
    "            ret6=df.close.pct_change(6),\n",
    "        )[['ts', 'ret', 'osc', 'ret2', 'ret3', 'ret6', ]] \n",
    "        .rename(columns={\n",
    "            col: f'{col}_{token}' for col in ['ts', 'ret', 'osc', 'ret2', 'ret3', 'ret6', ] if col != 'ts' \n",
    "        })\n",
    "    ))(ohlc[ohlc.token == token])\n",
    "    for token in tokens\n",
    "]).set_index('ts')"
   ]
  },
  {
   "cell_type": "code",
   "execution_count": 9,
   "id": "e04ac4e6-2419-4aaf-b2ba-16df8ad626a6",
   "metadata": {},
   "outputs": [],
   "source": [
    "y = X.ret_SOL.shift(-1)[:-1]\n",
    "X = X[:-1]"
   ]
  },
  {
   "cell_type": "code",
   "execution_count": 10,
   "id": "4a3a8f2c-eb73-46d7-8a24-27043944e8e6",
   "metadata": {},
   "outputs": [
    {
     "data": {
      "text/html": [
       "<div>\n",
       "<style scoped>\n",
       "    .dataframe tbody tr th:only-of-type {\n",
       "        vertical-align: middle;\n",
       "    }\n",
       "\n",
       "    .dataframe tbody tr th {\n",
       "        vertical-align: top;\n",
       "    }\n",
       "\n",
       "    .dataframe thead th {\n",
       "        text-align: right;\n",
       "    }\n",
       "</style>\n",
       "<table border=\"1\" class=\"dataframe\">\n",
       "  <thead>\n",
       "    <tr style=\"text-align: right;\">\n",
       "      <th></th>\n",
       "      <th>ret_BTC</th>\n",
       "      <th>osc_BTC</th>\n",
       "      <th>ret2_BTC</th>\n",
       "      <th>ret3_BTC</th>\n",
       "      <th>ret6_BTC</th>\n",
       "      <th>ret_ETH</th>\n",
       "      <th>osc_ETH</th>\n",
       "      <th>ret2_ETH</th>\n",
       "      <th>ret3_ETH</th>\n",
       "      <th>ret6_ETH</th>\n",
       "      <th>...</th>\n",
       "      <th>ret_AAVE</th>\n",
       "      <th>osc_AAVE</th>\n",
       "      <th>ret2_AAVE</th>\n",
       "      <th>ret3_AAVE</th>\n",
       "      <th>ret6_AAVE</th>\n",
       "      <th>ret_COMP</th>\n",
       "      <th>osc_COMP</th>\n",
       "      <th>ret2_COMP</th>\n",
       "      <th>ret3_COMP</th>\n",
       "      <th>ret6_COMP</th>\n",
       "    </tr>\n",
       "    <tr>\n",
       "      <th>ts</th>\n",
       "      <th></th>\n",
       "      <th></th>\n",
       "      <th></th>\n",
       "      <th></th>\n",
       "      <th></th>\n",
       "      <th></th>\n",
       "      <th></th>\n",
       "      <th></th>\n",
       "      <th></th>\n",
       "      <th></th>\n",
       "      <th></th>\n",
       "      <th></th>\n",
       "      <th></th>\n",
       "      <th></th>\n",
       "      <th></th>\n",
       "      <th></th>\n",
       "      <th></th>\n",
       "      <th></th>\n",
       "      <th></th>\n",
       "      <th></th>\n",
       "      <th></th>\n",
       "    </tr>\n",
       "  </thead>\n",
       "  <tbody>\n",
       "    <tr>\n",
       "      <th>2021-12-14 19:00:00</th>\n",
       "      <td>0.000402</td>\n",
       "      <td>0.010925</td>\n",
       "      <td>-0.001508</td>\n",
       "      <td>-0.004279</td>\n",
       "      <td>-0.018363</td>\n",
       "      <td>-0.002922</td>\n",
       "      <td>0.015699</td>\n",
       "      <td>-0.004080</td>\n",
       "      <td>-0.009777</td>\n",
       "      <td>-0.019864</td>\n",
       "      <td>...</td>\n",
       "      <td>-0.005855</td>\n",
       "      <td>0.023505</td>\n",
       "      <td>-0.007067</td>\n",
       "      <td>-0.003119</td>\n",
       "      <td>-0.015820</td>\n",
       "      <td>-0.011428</td>\n",
       "      <td>0.032641</td>\n",
       "      <td>-0.030221</td>\n",
       "      <td>-0.030168</td>\n",
       "      <td>-0.050533</td>\n",
       "    </tr>\n",
       "    <tr>\n",
       "      <th>2021-12-14 20:00:00</th>\n",
       "      <td>0.004810</td>\n",
       "      <td>0.009388</td>\n",
       "      <td>0.005215</td>\n",
       "      <td>0.003295</td>\n",
       "      <td>-0.006410</td>\n",
       "      <td>0.005961</td>\n",
       "      <td>0.009721</td>\n",
       "      <td>0.003021</td>\n",
       "      <td>0.001857</td>\n",
       "      <td>-0.006333</td>\n",
       "      <td>...</td>\n",
       "      <td>0.009387</td>\n",
       "      <td>0.016474</td>\n",
       "      <td>0.003477</td>\n",
       "      <td>0.002254</td>\n",
       "      <td>0.001034</td>\n",
       "      <td>0.006813</td>\n",
       "      <td>0.014268</td>\n",
       "      <td>-0.004693</td>\n",
       "      <td>-0.023614</td>\n",
       "      <td>-0.027668</td>\n",
       "    </tr>\n",
       "    <tr>\n",
       "      <th>2021-12-14 21:00:00</th>\n",
       "      <td>0.019797</td>\n",
       "      <td>0.022073</td>\n",
       "      <td>0.024702</td>\n",
       "      <td>0.025115</td>\n",
       "      <td>0.010595</td>\n",
       "      <td>0.016737</td>\n",
       "      <td>0.024448</td>\n",
       "      <td>0.022797</td>\n",
       "      <td>0.019808</td>\n",
       "      <td>0.004090</td>\n",
       "      <td>...</td>\n",
       "      <td>0.022490</td>\n",
       "      <td>0.030071</td>\n",
       "      <td>0.032088</td>\n",
       "      <td>0.026045</td>\n",
       "      <td>0.019762</td>\n",
       "      <td>0.017473</td>\n",
       "      <td>0.021116</td>\n",
       "      <td>0.024405</td>\n",
       "      <td>0.012698</td>\n",
       "      <td>-0.023269</td>\n",
       "    </tr>\n",
       "    <tr>\n",
       "      <th>2021-12-14 22:00:00</th>\n",
       "      <td>0.010414</td>\n",
       "      <td>0.019130</td>\n",
       "      <td>0.030417</td>\n",
       "      <td>0.035374</td>\n",
       "      <td>0.030944</td>\n",
       "      <td>0.004623</td>\n",
       "      <td>0.013961</td>\n",
       "      <td>0.021437</td>\n",
       "      <td>0.027526</td>\n",
       "      <td>0.017480</td>\n",
       "      <td>...</td>\n",
       "      <td>0.006242</td>\n",
       "      <td>0.015557</td>\n",
       "      <td>0.028872</td>\n",
       "      <td>0.038530</td>\n",
       "      <td>0.035291</td>\n",
       "      <td>0.009868</td>\n",
       "      <td>0.022673</td>\n",
       "      <td>0.027513</td>\n",
       "      <td>0.034514</td>\n",
       "      <td>0.003304</td>\n",
       "    </tr>\n",
       "    <tr>\n",
       "      <th>2021-12-14 23:00:00</th>\n",
       "      <td>-0.000302</td>\n",
       "      <td>0.009886</td>\n",
       "      <td>0.010109</td>\n",
       "      <td>0.030106</td>\n",
       "      <td>0.033500</td>\n",
       "      <td>-0.003195</td>\n",
       "      <td>0.010797</td>\n",
       "      <td>0.001413</td>\n",
       "      <td>0.018174</td>\n",
       "      <td>0.020064</td>\n",
       "      <td>...</td>\n",
       "      <td>-0.003013</td>\n",
       "      <td>0.010808</td>\n",
       "      <td>0.003210</td>\n",
       "      <td>0.025772</td>\n",
       "      <td>0.028084</td>\n",
       "      <td>-0.000864</td>\n",
       "      <td>0.012019</td>\n",
       "      <td>0.008995</td>\n",
       "      <td>0.026625</td>\n",
       "      <td>0.002383</td>\n",
       "    </tr>\n",
       "  </tbody>\n",
       "</table>\n",
       "<p>5 rows × 55 columns</p>\n",
       "</div>"
      ],
      "text/plain": [
       "                      ret_BTC   osc_BTC  ret2_BTC  ret3_BTC  ret6_BTC  \\\n",
       "ts                                                                      \n",
       "2021-12-14 19:00:00  0.000402  0.010925 -0.001508 -0.004279 -0.018363   \n",
       "2021-12-14 20:00:00  0.004810  0.009388  0.005215  0.003295 -0.006410   \n",
       "2021-12-14 21:00:00  0.019797  0.022073  0.024702  0.025115  0.010595   \n",
       "2021-12-14 22:00:00  0.010414  0.019130  0.030417  0.035374  0.030944   \n",
       "2021-12-14 23:00:00 -0.000302  0.009886  0.010109  0.030106  0.033500   \n",
       "\n",
       "                      ret_ETH   osc_ETH  ret2_ETH  ret3_ETH  ret6_ETH  ...  \\\n",
       "ts                                                                     ...   \n",
       "2021-12-14 19:00:00 -0.002922  0.015699 -0.004080 -0.009777 -0.019864  ...   \n",
       "2021-12-14 20:00:00  0.005961  0.009721  0.003021  0.001857 -0.006333  ...   \n",
       "2021-12-14 21:00:00  0.016737  0.024448  0.022797  0.019808  0.004090  ...   \n",
       "2021-12-14 22:00:00  0.004623  0.013961  0.021437  0.027526  0.017480  ...   \n",
       "2021-12-14 23:00:00 -0.003195  0.010797  0.001413  0.018174  0.020064  ...   \n",
       "\n",
       "                     ret_AAVE  osc_AAVE  ret2_AAVE  ret3_AAVE  ret6_AAVE  \\\n",
       "ts                                                                         \n",
       "2021-12-14 19:00:00 -0.005855  0.023505  -0.007067  -0.003119  -0.015820   \n",
       "2021-12-14 20:00:00  0.009387  0.016474   0.003477   0.002254   0.001034   \n",
       "2021-12-14 21:00:00  0.022490  0.030071   0.032088   0.026045   0.019762   \n",
       "2021-12-14 22:00:00  0.006242  0.015557   0.028872   0.038530   0.035291   \n",
       "2021-12-14 23:00:00 -0.003013  0.010808   0.003210   0.025772   0.028084   \n",
       "\n",
       "                     ret_COMP  osc_COMP  ret2_COMP  ret3_COMP  ret6_COMP  \n",
       "ts                                                                        \n",
       "2021-12-14 19:00:00 -0.011428  0.032641  -0.030221  -0.030168  -0.050533  \n",
       "2021-12-14 20:00:00  0.006813  0.014268  -0.004693  -0.023614  -0.027668  \n",
       "2021-12-14 21:00:00  0.017473  0.021116   0.024405   0.012698  -0.023269  \n",
       "2021-12-14 22:00:00  0.009868  0.022673   0.027513   0.034514   0.003304  \n",
       "2021-12-14 23:00:00 -0.000864  0.012019   0.008995   0.026625   0.002383  \n",
       "\n",
       "[5 rows x 55 columns]"
      ]
     },
     "execution_count": 10,
     "metadata": {},
     "output_type": "execute_result"
    }
   ],
   "source": [
    "X.tail()"
   ]
  },
  {
   "cell_type": "markdown",
   "id": "b7879777-3457-4c93-bae0-04d955c35461",
   "metadata": {},
   "source": [
    "Let's analyze our data a little bit"
   ]
  },
  {
   "cell_type": "code",
   "execution_count": 11,
   "id": "ce2ad7de-32c0-4e9f-92d6-5f2708aae848",
   "metadata": {},
   "outputs": [],
   "source": [
    "from pandas.plotting import scatter_matrix, autocorrelation_plot"
   ]
  },
  {
   "cell_type": "code",
   "execution_count": 12,
   "id": "b7ef0d8c-134c-4e3f-9b5d-0b9f8513c13a",
   "metadata": {},
   "outputs": [
    {
     "data": {
      "text/plain": [
       "<AxesSubplot:xlabel='Lag', ylabel='Autocorrelation'>"
      ]
     },
     "execution_count": 12,
     "metadata": {},
     "output_type": "execute_result"
    },
    {
     "data": {
      "image/png": "[encoded data removed]",
      "text/plain": [
       "<Figure size 432x288 with 1 Axes>"
      ]
     },
     "metadata": {
      "needs_background": "light"
     },
     "output_type": "display_data"
    }
   ],
   "source": [
    "autocorrelation_plot(y[1:])"
   ]
  },
  {
   "cell_type": "markdown",
   "id": "86bdc214-4eb9-4586-b074-d06d32eae146",
   "metadata": {},
   "source": [
    "we can see that the hourly returns for aave doesn't have any strong autocorrelation"
   ]
  },
  {
   "cell_type": "markdown",
   "id": "ce124221-1193-4446-833b-b4e7fb4b35e2",
   "metadata": {},
   "source": [
    "# Model Part"
   ]
  },
  {
   "cell_type": "code",
   "execution_count": 13,
   "id": "465b69ab-5c44-4053-9a1b-b656c2cb57b4",
   "metadata": {},
   "outputs": [],
   "source": [
    "from sklearn.preprocessing import StandardScaler\n",
    "from sklearn.preprocessing import QuantileTransformer\n",
    "from sklearn.decomposition import PCA\n",
    "from sklearn.impute import SimpleImputer\n",
    "\n",
    "from sklearn.base import BaseEstimator, TransformerMixin\n",
    "from sklearn.pipeline import Pipeline\n",
    "from sklearn.compose import ColumnTransformer\n",
    "\n",
    "from sklearn.tree import DecisionTreeRegressor\n",
    "from sklearn.ensemble import RandomForestRegressor\n",
    "from sklearn.linear_model import Ridge\n",
    "\n",
    "from sklearn.model_selection import cross_validate\n",
    "from sklearn.model_selection import TimeSeriesSplit\n",
    "from sklearn.metrics import mean_squared_error, make_scorer\n",
    "\n",
    "from sklearn.model_selection import learning_curve"
   ]
  },
  {
   "cell_type": "code",
   "execution_count": 14,
   "id": "c0eae381-861f-4520-ad8d-4a761cfec9c0",
   "metadata": {},
   "outputs": [],
   "source": [
    "class FeatureSelector(BaseEstimator, TransformerMixin):\n",
    "    def __init__(self, columns):\n",
    "        self.columns = columns\n",
    "        \n",
    "    def fit(self, X, y=None):\n",
    "        return self\n",
    "    \n",
    "    def transform(self, X):\n",
    "        return X[self.columns]\n"
   ]
  },
  {
   "cell_type": "code",
   "execution_count": 15,
   "id": "30bd7300-9a0a-4464-a27a-f025ecf480b3",
   "metadata": {},
   "outputs": [],
   "source": [
    "def evaluate_model(model, X, y, test_size=0.2):\n",
    "    cv = TimeSeriesSplit(n_splits=int(y.shape[0] * test_size), test_size=1)\n",
    "    scorer = make_scorer(mean_squared_error, greater_is_better=False, squared=False)\n",
    "    \n",
    "    return np.mean(cross_validate(model, X, y, cv=cv, scoring=scorer, n_jobs=-1)['test_score'])\n",
    "    \n",
    "#     scores = []\n",
    "#     for train_idx, test_idx in cv.split(X):\n",
    "#         X_train, X_test, y_train, y_test = X.iloc[train_idx], X.iloc[test_idx], y.iloc[train_idx], y.iloc[test_idx]\n",
    "#         model.fit(X_train, y_train)\n",
    "#         score = mean_squared_error(y_test, model.predict(X_test), squared=False)\n",
    "#         scores.append(score)\n",
    "        \n",
    "#     return np.mean(scores)"
   ]
  },
  {
   "cell_type": "code",
   "execution_count": 16,
   "id": "6077ef44-c402-4d50-81b6-486ffd8e479a",
   "metadata": {},
   "outputs": [
    {
     "data": {
      "text/plain": [
       "-0.008606772660645839"
      ]
     },
     "execution_count": 16,
     "metadata": {},
     "output_type": "execute_result"
    }
   ],
   "source": [
    "pipeline = Pipeline([\n",
    "    ('feature_selector', FeatureSelector(['ret_SOL'])),\n",
    "    ('impute', SimpleImputer(missing_values=np.nan, strategy='constant', fill_value=0.)),\n",
    "    ('scale', StandardScaler()),\n",
    "    ('model', Ridge(alpha=1.0))\n",
    "])\n",
    "\n",
    "evaluate_model(pipeline, X, y)"
   ]
  },
  {
   "cell_type": "code",
   "execution_count": 17,
   "id": "f0253d4b-ef4b-443e-b342-356826cd3077",
   "metadata": {},
   "outputs": [
    {
     "data": {
      "text/plain": [
       "-0.008612273578201537"
      ]
     },
     "execution_count": 17,
     "metadata": {},
     "output_type": "execute_result"
    }
   ],
   "source": [
    "pipeline = Pipeline([\n",
    "    ('feature_selector', FeatureSelector(['ret_SOL', 'ret2_SOL', 'ret3_SOL', 'ret6_SOL', ])), \n",
    "    ('impute', SimpleImputer(missing_values=np.nan, strategy='constant', fill_value=0.)),\n",
    "    ('scale', StandardScaler()),\n",
    "    ('model', Ridge(alpha=1.0))\n",
    "])\n",
    "\n",
    "evaluate_model(pipeline, X, y)"
   ]
  },
  {
   "cell_type": "code",
   "execution_count": 18,
   "id": "9f38a1b0-d8d2-41ae-89be-e372b546ea34",
   "metadata": {},
   "outputs": [
    {
     "data": {
      "text/plain": [
       "-0.008571066960360429"
      ]
     },
     "execution_count": 18,
     "metadata": {},
     "output_type": "execute_result"
    }
   ],
   "source": [
    "pipeline = Pipeline([\n",
    "    ('feature_selector', FeatureSelector(['ret_SOL', 'ret2_SOL', 'ret3_SOL', 'ret6_SOL','osc_SOL'])), \n",
    "    ('impute', SimpleImputer(missing_values=np.nan, strategy='constant', fill_value=0.)),\n",
    "    ('model', Ridge(alpha=1.0))   \n",
    "])\n",
    "\n",
    "evaluate_model(pipeline, X, y)"
   ]
  },
  {
   "cell_type": "markdown",
   "id": "c4cb569e-7d0a-4777-ad83-0b99f9840306",
   "metadata": {},
   "source": [
    "In ridge models using only SOL features, it looks likes the best one.(without hyperparameter tuning) "
   ]
  },
  {
   "cell_type": "code",
   "execution_count": 19,
   "id": "0757431f-0c95-46ed-a293-899241bec403",
   "metadata": {},
   "outputs": [
    {
     "data": {
      "text/plain": [
       "-0.008682011499974064"
      ]
     },
     "execution_count": 19,
     "metadata": {},
     "output_type": "execute_result"
    }
   ],
   "source": [
    "pipeline = Pipeline([\n",
    "    ('impute', SimpleImputer(missing_values=np.nan, strategy='constant', fill_value=0.)),\n",
    "    ('scale', StandardScaler()),\n",
    "    ('model', Ridge(alpha=1.0))\n",
    "])\n",
    "\n",
    "evaluate_model(pipeline, X, y)"
   ]
  },
  {
   "cell_type": "code",
   "execution_count": 20,
   "id": "4fbc964b-7f0f-43b2-9bd6-5ba7ac01422b",
   "metadata": {},
   "outputs": [
    {
     "data": {
      "text/plain": [
       "-0.00852445756536349"
      ]
     },
     "execution_count": 20,
     "metadata": {},
     "output_type": "execute_result"
    }
   ],
   "source": [
    "pipeline = Pipeline([\n",
    "    ('impute', SimpleImputer(missing_values=np.nan, strategy='constant', fill_value=0.)),\n",
    "    ('scale', StandardScaler()),\n",
    "    ('pca', PCA(n_components=22)),\n",
    "    ('model', Ridge(alpha=1.0))\n",
    "])\n",
    "\n",
    "evaluate_model(pipeline, X, y)"
   ]
  },
  {
   "cell_type": "code",
   "execution_count": 21,
   "id": "6eacdd2b-0620-4e14-8c44-2afc680106a5",
   "metadata": {},
   "outputs": [
    {
     "data": {
      "text/plain": [
       "-0.008546772966408971"
      ]
     },
     "execution_count": 21,
     "metadata": {},
     "output_type": "execute_result"
    }
   ],
   "source": [
    "pipeline = Pipeline([\n",
    "    ('impute', SimpleImputer(missing_values=np.nan, strategy='constant', fill_value=0.)),\n",
    "    ('pca', PCA(n_components=22)),\n",
    "    ('model', Ridge(alpha=1.0))\n",
    "])\n",
    "\n",
    "evaluate_model(pipeline, X, y)"
   ]
  },
  {
   "cell_type": "markdown",
   "id": "0ba60a2b-9aa4-4594-a410-b1830f0204c0",
   "metadata": {},
   "source": [
    "In ridge models using all features, the last 2 looks likes the best one.(without hyperparameter tuning)"
   ]
  },
  {
   "cell_type": "code",
   "execution_count": 22,
   "id": "1028802b-ef72-4b4c-8e1a-c02dae3e8eb6",
   "metadata": {},
   "outputs": [
    {
     "data": {
      "text/plain": [
       "-0.008755470756047273"
      ]
     },
     "execution_count": 22,
     "metadata": {},
     "output_type": "execute_result"
    }
   ],
   "source": [
    "pipeline = Pipeline([\n",
    "    ('impute', SimpleImputer(missing_values=np.nan, strategy='constant', fill_value=0.)),\n",
    "    ('scale', StandardScaler()),\n",
    "    ('model', RandomForestRegressor(n_estimators=30, random_state=0))\n",
    "])\n",
    "\n",
    "evaluate_model(pipeline, X, y)"
   ]
  },
  {
   "cell_type": "code",
   "execution_count": 23,
   "id": "cbb5ce7c-d0f5-41ec-a364-5d4c8415c4c0",
   "metadata": {},
   "outputs": [
    {
     "data": {
      "text/plain": [
       "-0.008861119285173429"
      ]
     },
     "execution_count": 23,
     "metadata": {},
     "output_type": "execute_result"
    }
   ],
   "source": [
    "pipeline = Pipeline([\n",
    "    ('impute', SimpleImputer(missing_values=np.nan, strategy='constant', fill_value=0.)),\n",
    "    ('scale', StandardScaler()),\n",
    "    ('pca', PCA(n_components=22)),\n",
    "    ('model', RandomForestRegressor(n_estimators=30, random_state=0))\n",
    "])\n",
    "\n",
    "evaluate_model(pipeline, X, y)"
   ]
  },
  {
   "cell_type": "markdown",
   "id": "36aca704-c297-418a-baa2-2cd446776488",
   "metadata": {},
   "source": [
    "From above, ridge is better than Random Forest. Let's optimize the alpha parameter on the Ridge"
   ]
  },
  {
   "cell_type": "code",
   "execution_count": 24,
   "id": "657ec625-6e6e-42a9-85f1-050119db45ba",
   "metadata": {},
   "outputs": [
    {
     "data": {
      "text/plain": [
       "GridSearchCV(cv=TimeSeriesSplit(gap=0, max_train_size=None, n_splits=211, test_size=1),\n",
       "             estimator=Pipeline(steps=[('impute',\n",
       "                                        SimpleImputer(fill_value=0.0,\n",
       "                                                      strategy='constant')),\n",
       "                                       ('scale', StandardScaler()),\n",
       "                                       ('pca', PCA()), ('model', Ridge())]),\n",
       "             n_jobs=-1,\n",
       "             param_grid={'model__alpha': [0.1, 0.5, 1.0, 10.0, 100.0, 1000.0],\n",
       "                         'pca__n_components': [1, 5, 10, 20, 22, 30, 50]},\n",
       "             scoring=make_scorer(mean_squared_error, greater_is_better=False, squared=False))"
      ]
     },
     "execution_count": 24,
     "metadata": {},
     "output_type": "execute_result"
    }
   ],
   "source": [
    "from sklearn.model_selection import GridSearchCV\n",
    "\n",
    "pipeline = Pipeline([\n",
    "    ('impute', SimpleImputer(missing_values=np.nan, strategy='constant', fill_value=0.)),\n",
    "    ('scale', StandardScaler()),\n",
    "    ('pca', PCA()),\n",
    "    ('model', Ridge())\n",
    "])\n",
    "\n",
    "test_size = 0.2\n",
    "cv = TimeSeriesSplit(n_splits=int(y.shape[0] * test_size), test_size=1)\n",
    "scorer = make_scorer(mean_squared_error, greater_is_better=False, squared=False)\n",
    "\n",
    "search = GridSearchCV(pipeline, {\n",
    "    'pca__n_components': [1, 5, 10, 20, 22, 30, 50,  ],\n",
    "    'model__alpha': [0.1, 0.5,  1., 10., 100., 1000., ]\n",
    "}, scoring=scorer, refit=True, cv=cv, n_jobs=-1)\n",
    "search.fit(X, y)"
   ]
  },
  {
   "cell_type": "code",
   "execution_count": 25,
   "id": "f20ced98-94dc-4f60-b202-232643d71bf6",
   "metadata": {},
   "outputs": [
    {
     "data": {
      "text/plain": [
       "{'model__alpha': 100.0, 'pca__n_components': 30}"
      ]
     },
     "execution_count": 25,
     "metadata": {},
     "output_type": "execute_result"
    }
   ],
   "source": [
    "search.best_params_"
   ]
  },
  {
   "cell_type": "code",
   "execution_count": 26,
   "id": "c1b159b7-eeb1-407e-8a3e-4d6b9079d124",
   "metadata": {},
   "outputs": [],
   "source": [
    "best_model = search.best_estimator_"
   ]
  },
  {
   "cell_type": "code",
   "execution_count": 27,
   "id": "d811f063-0064-47c5-88ca-c932021cc2ba",
   "metadata": {},
   "outputs": [
    {
     "data": {
      "text/plain": [
       "-0.008460552213517884"
      ]
     },
     "execution_count": 27,
     "metadata": {},
     "output_type": "execute_result"
    }
   ],
   "source": [
    "evaluate_model(best_model, X, y)"
   ]
  },
  {
   "cell_type": "markdown",
   "id": "4e0de43f-5164-4fe7-a039-5f4bfa83fdcb",
   "metadata": {},
   "source": [
    "Let's check the learning curve of our best model"
   ]
  },
  {
   "cell_type": "code",
   "execution_count": 28,
   "id": "17696e23-e9fa-4e95-825c-379c1b660ffa",
   "metadata": {},
   "outputs": [
    {
     "data": {
      "text/plain": [
       "<module 'matplotlib.pyplot' from 'D:\\\\anaconda3\\\\lib\\\\site-packages\\\\matplotlib\\\\pyplot.py'>"
      ]
     },
     "execution_count": 28,
     "metadata": {},
     "output_type": "execute_result"
    },
    {
     "data": {
      "image/png": "[encoded data removed]",
      "text/plain": [
       "<Figure size 720x1080 with 3 Axes>"
      ]
     },
     "metadata": {
      "needs_background": "light"
     },
     "output_type": "display_data"
    }
   ],
   "source": [
    "fig, axes = plt.subplots(3, 1, figsize=(10, 15))\n",
    "\n",
    "title = \"Learning curves for ridge regression\"\n",
    "\n",
    "plot_learning_curve(\n",
    "    best_model, title, X, y, axes=axes, cv=cv, n_jobs=4, scoring=scorer\n",
    ")\n"
   ]
  },
  {
   "cell_type": "markdown",
   "id": "3117e29a-aff8-407a-a597-51c58ddce2da",
   "metadata": {},
   "source": [
    "Now that we have completed the model, we will need to save it down so that we can load it up in our model.  To do this, we will use pickle"
   ]
  },
  {
   "cell_type": "code",
   "execution_count": 29,
   "id": "7b242a00-2afd-4270-8925-e77264bf108f",
   "metadata": {},
   "outputs": [],
   "source": [
    "pickle.dump(best_model, open('best_model.pkl', 'wb'))"
   ]
  },
  {
   "cell_type": "markdown",
   "id": "af9bc542-6e49-48af-a970-c4827344a59f",
   "metadata": {},
   "source": [
    "We can verify that this is the same model that we saved:"
   ]
  },
  {
   "cell_type": "code",
   "execution_count": 30,
   "id": "f7906deb-e521-481b-a87e-06512af8673a",
   "metadata": {},
   "outputs": [],
   "source": [
    "loaded_model = pickle.load(open('best_model.pkl', 'rb'))"
   ]
  },
  {
   "cell_type": "code",
   "execution_count": 31,
   "id": "956abe06-47e6-4a24-b776-bf6b06d07cc3",
   "metadata": {},
   "outputs": [
    {
     "data": {
      "text/plain": [
       "False"
      ]
     },
     "execution_count": 31,
     "metadata": {},
     "output_type": "execute_result"
    }
   ],
   "source": [
    "loaded_model == best_model"
   ]
  },
  {
   "cell_type": "code",
   "execution_count": 32,
   "id": "ace17a9b-e8e9-442b-817b-59913b1aab46",
   "metadata": {},
   "outputs": [
    {
     "data": {
      "text/plain": [
       "array([-0.00292202])"
      ]
     },
     "execution_count": 32,
     "metadata": {},
     "output_type": "execute_result"
    }
   ],
   "source": [
    "loaded_model.predict(X.iloc[[-1]])"
   ]
  },
  {
   "cell_type": "code",
   "execution_count": 33,
   "id": "632017e0-fcab-485d-995f-04bb865e0df1",
   "metadata": {},
   "outputs": [
    {
     "data": {
      "text/plain": [
       "array([-0.00292202])"
      ]
     },
     "execution_count": 33,
     "metadata": {},
     "output_type": "execute_result"
    }
   ],
   "source": [
    "best_model.predict(X.iloc[[-1]])"
   ]
  },
  {
   "cell_type": "code",
   "execution_count": 34,
   "id": "f8a4f5c6-5831-4ee4-8c11-b82393580760",
   "metadata": {},
   "outputs": [
    {
     "data": {
      "text/plain": [
       "Pipeline(steps=[('impute', SimpleImputer(fill_value=0.0, strategy='constant')),\n",
       "                ('scale', StandardScaler()), ('pca', PCA(n_components=30)),\n",
       "                ('model', Ridge(alpha=100.0))])"
      ]
     },
     "execution_count": 34,
     "metadata": {},
     "output_type": "execute_result"
    }
   ],
   "source": [
    "best_model"
   ]
  },
  {
   "cell_type": "code",
   "execution_count": 35,
   "id": "7b207541-6a62-43fb-a4d4-e1ddb75f07b7",
   "metadata": {},
   "outputs": [
    {
     "data": {
      "text/plain": [
       "Pipeline(steps=[('impute', SimpleImputer(fill_value=0.0, strategy='constant')),\n",
       "                ('scale', StandardScaler()), ('pca', PCA(n_components=30)),\n",
       "                ('model', Ridge(alpha=100.0))])"
      ]
     },
     "execution_count": 35,
     "metadata": {},
     "output_type": "execute_result"
    }
   ],
   "source": [
    "loaded_model"
   ]
  },
  {
   "cell_type": "code",
   "execution_count": 36,
   "id": "9d320049-49d5-495e-81b4-d1d962e6f044",
   "metadata": {},
   "outputs": [
    {
     "data": {
      "text/plain": [
       "-0.008461701404604784"
      ]
     },
     "execution_count": 36,
     "metadata": {},
     "output_type": "execute_result"
    }
   ],
   "source": [
    "evaluate_model(best_model, X, y)"
   ]
  },
  {
   "cell_type": "code",
   "execution_count": 37,
   "id": "abf198da-e6dc-4c44-8bde-fb136bbf6830",
   "metadata": {},
   "outputs": [
    {
     "data": {
      "text/plain": [
       "-0.008460993353072311"
      ]
     },
     "execution_count": 37,
     "metadata": {},
     "output_type": "execute_result"
    }
   ],
   "source": [
    "evaluate_model(loaded_model, X, y)"
   ]
  },
  {
   "cell_type": "markdown",
   "id": "8d95a97e-b232-4b7d-b621-3e4047e7b819",
   "metadata": {},
   "source": [
    "we can now take this model and build a server around it, so that other systems can also now make predictions on the hourly returns of SOL!"
   ]
  }
 ],
 "metadata": {
  "kernelspec": {
   "display_name": "Python 3 (ipykernel)",
   "language": "python",
   "name": "python3"
  },
  "language_info": {
   "codemirror_mode": {
    "name": "ipython",
    "version": 3
   },
   "file_extension": ".py",
   "mimetype": "text/x-python",
   "name": "python",
   "nbconvert_exporter": "python",
   "pygments_lexer": "ipython3",
   "version": "3.8.8"
  }
 },
 "nbformat": 4,
 "nbformat_minor": 5
}
