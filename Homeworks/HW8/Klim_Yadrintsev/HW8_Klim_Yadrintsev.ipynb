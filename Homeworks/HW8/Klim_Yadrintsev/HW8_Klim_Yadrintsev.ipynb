{
 "cells": [
  {
   "cell_type": "markdown",
   "id": "2aeb494e-4762-4f33-8150-05f5d70980f6",
   "metadata": {},
   "source": [
    "# HW8 Klim Yadrintsev"
   ]
  },
  {
   "cell_type": "markdown",
   "id": "685a95d9-aeec-401a-a11a-8e3d6555362e",
   "metadata": {},
   "source": [
    "First off let's take what we have already from the lectures notebook."
   ]
  },
  {
   "cell_type": "code",
   "execution_count": 1,
   "id": "822fc965-0fc8-45e6-8216-6c045bec0346",
   "metadata": {
    "tags": []
   },
   "outputs": [],
   "source": [
    "# Have to make adjustment due to folder difference\n",
    "\n",
    "data_location = 'sqlite:///../../../data/data.db'"
   ]
  },
  {
   "cell_type": "code",
   "execution_count": 2,
   "id": "47cf5b7c-cf63-43d3-abb8-7ee4ab1025c0",
   "metadata": {
    "tags": []
   },
   "outputs": [],
   "source": [
    "import pandas as pd\n",
    "import numpy as np\n",
    "import matplotlib.pyplot as plt\n",
    "from functools import reduce\n",
    "\n",
    "import pickle"
   ]
  },
  {
   "cell_type": "code",
   "execution_count": 3,
   "id": "6d483c1b-c249-4767-8c4f-dc58b3635dfe",
   "metadata": {},
   "outputs": [],
   "source": [
    "def vol_ohlc(df, lookback=10):\n",
    "    o = df.open\n",
    "    h = df.high\n",
    "    l = df.low\n",
    "    c = df.close\n",
    "    \n",
    "    k = 0.34 / (1.34 + (lookback+1)/(lookback-1))\n",
    "    cc = np.log(c/c.shift(1))\n",
    "    ho = np.log(h/o)\n",
    "    lo = np.log(l/o)\n",
    "    co = np.log(c/o)\n",
    "    oc = np.log(o/c.shift(1))\n",
    "    oc_sq = oc**2\n",
    "    cc_sq = cc**2\n",
    "    rs = ho*(ho-co)+lo*(lo-co)\n",
    "    close_vol = cc_sq.rolling(lookback).sum() * (1.0 / (lookback - 1.0))\n",
    "    open_vol = oc_sq.rolling(lookback).sum() * (1.0 / (lookback - 1.0))\n",
    "    window_rs = rs.rolling(lookback).sum() * (1.0 / (lookback - 1.0))\n",
    "    result = (open_vol + k * close_vol + (1-k) * window_rs).apply(np.sqrt) * np.sqrt(252)\n",
    "    result[:lookback-1] = np.nan\n",
    "    \n",
    "    return result"
   ]
  },
  {
   "cell_type": "code",
   "execution_count": 4,
   "id": "72eff366-a412-49d8-ac45-e9527b440151",
   "metadata": {},
   "outputs": [],
   "source": [
    "def plot_learning_curve(\n",
    "    estimator,\n",
    "    title,\n",
    "    X,\n",
    "    y,\n",
    "    axes=None,\n",
    "    ylim=None,\n",
    "    cv=None,\n",
    "    n_jobs=None,\n",
    "    train_sizes=np.linspace(0.1, 1.0, 5),\n",
    "    scoring=None\n",
    "):\n",
    "    if axes is None:\n",
    "        _, axes = plt.subplots(1, 3, figsize=(20, 5))\n",
    "\n",
    "    axes[0].set_title(title)\n",
    "    if ylim is not None:\n",
    "        axes[0].set_ylim(*ylim)\n",
    "    axes[0].set_xlabel(\"Training examples\")\n",
    "    axes[0].set_ylabel(\"Score\")\n",
    "\n",
    "    train_sizes, train_scores, test_scores, fit_times, _ = learning_curve(\n",
    "        estimator,\n",
    "        X,\n",
    "        y,\n",
    "        cv=cv,\n",
    "        n_jobs=n_jobs,\n",
    "        train_sizes=train_sizes,\n",
    "        return_times=True,\n",
    "        scoring=scoring,\n",
    "    )\n",
    "    train_scores_mean = np.mean(train_scores, axis=1)\n",
    "    train_scores_std = np.std(train_scores, axis=1)\n",
    "    test_scores_mean = np.mean(test_scores, axis=1)\n",
    "    test_scores_std = np.std(test_scores, axis=1)\n",
    "    fit_times_mean = np.mean(fit_times, axis=1)\n",
    "    fit_times_std = np.std(fit_times, axis=1)\n",
    "\n",
    "    # Plot learning curve\n",
    "    axes[0].grid()\n",
    "    axes[0].fill_between(\n",
    "        train_sizes,\n",
    "        train_scores_mean - train_scores_std,\n",
    "        train_scores_mean + train_scores_std,\n",
    "        alpha=0.1,\n",
    "        color=\"r\",\n",
    "    )\n",
    "    axes[0].fill_between(\n",
    "        train_sizes,\n",
    "        test_scores_mean - test_scores_std,\n",
    "        test_scores_mean + test_scores_std,\n",
    "        alpha=0.1,\n",
    "        color=\"g\",\n",
    "    )\n",
    "    axes[0].plot(\n",
    "        train_sizes, train_scores_mean, \"o-\", color=\"r\", label=\"Training score\"\n",
    "    )\n",
    "    axes[0].plot(\n",
    "        train_sizes, test_scores_mean, \"o-\", color=\"g\", label=\"Cross-validation score\"\n",
    "    )\n",
    "    axes[0].legend(loc=\"best\")\n",
    "\n",
    "    # Plot n_samples vs fit_times\n",
    "    axes[1].grid()\n",
    "    axes[1].plot(train_sizes, fit_times_mean, \"o-\")\n",
    "    axes[1].fill_between(\n",
    "        train_sizes,\n",
    "        fit_times_mean - fit_times_std,\n",
    "        fit_times_mean + fit_times_std,\n",
    "        alpha=0.1,\n",
    "    )\n",
    "    axes[1].set_xlabel(\"Training examples\")\n",
    "    axes[1].set_ylabel(\"fit_times\")\n",
    "    axes[1].set_title(\"Scalability of the model\")\n",
    "\n",
    "    # Plot fit_time vs score\n",
    "    fit_time_argsort = fit_times_mean.argsort()\n",
    "    fit_time_sorted = fit_times_mean[fit_time_argsort]\n",
    "    test_scores_mean_sorted = test_scores_mean[fit_time_argsort]\n",
    "    test_scores_std_sorted = test_scores_std[fit_time_argsort]\n",
    "    axes[2].grid()\n",
    "    axes[2].plot(fit_time_sorted, test_scores_mean_sorted, \"o-\")\n",
    "    axes[2].fill_between(\n",
    "        fit_time_sorted,\n",
    "        test_scores_mean_sorted - test_scores_std_sorted,\n",
    "        test_scores_mean_sorted + test_scores_std_sorted,\n",
    "        alpha=0.1,\n",
    "    )\n",
    "    axes[2].set_xlabel(\"fit_times\")\n",
    "    axes[2].set_ylabel(\"Score\")\n",
    "    axes[2].set_title(\"Performance of the model\")\n",
    "\n",
    "    return plt"
   ]
  },
  {
   "cell_type": "code",
   "execution_count": 5,
   "id": "3ee146ce-3532-44dd-94a8-ab29f2821964",
   "metadata": {},
   "outputs": [
    {
     "data": {
      "text/plain": [
       "(11627, 9)"
      ]
     },
     "execution_count": 5,
     "metadata": {},
     "output_type": "execute_result"
    }
   ],
   "source": [
    "ohlc = pd.read_sql('SELECT * FROM ohlc', data_location)\n",
    "ohlc.shape"
   ]
  },
  {
   "cell_type": "code",
   "execution_count": 6,
   "id": "1517d3c2-059a-4c62-98e0-56c2bfac84e8",
   "metadata": {},
   "outputs": [
    {
     "data": {
      "text/html": [
       "<div>\n",
       "<style scoped>\n",
       "    .dataframe tbody tr th:only-of-type {\n",
       "        vertical-align: middle;\n",
       "    }\n",
       "\n",
       "    .dataframe tbody tr th {\n",
       "        vertical-align: top;\n",
       "    }\n",
       "\n",
       "    .dataframe thead th {\n",
       "        text-align: right;\n",
       "    }\n",
       "</style>\n",
       "<table border=\"1\" class=\"dataframe\">\n",
       "  <thead>\n",
       "    <tr style=\"text-align: right;\">\n",
       "      <th></th>\n",
       "      <th>ts</th>\n",
       "      <th>open</th>\n",
       "      <th>high</th>\n",
       "      <th>low</th>\n",
       "      <th>close</th>\n",
       "      <th>volume</th>\n",
       "      <th>volumeUSD</th>\n",
       "      <th>token</th>\n",
       "      <th>chain</th>\n",
       "    </tr>\n",
       "  </thead>\n",
       "  <tbody>\n",
       "    <tr>\n",
       "      <th>0</th>\n",
       "      <td>2021-11-01 00:00:00</td>\n",
       "      <td>61421.37</td>\n",
       "      <td>61669.14</td>\n",
       "      <td>61239.60</td>\n",
       "      <td>61343.68</td>\n",
       "      <td>256.433869</td>\n",
       "      <td>1.575751e+07</td>\n",
       "      <td>BTC</td>\n",
       "      <td>BTC</td>\n",
       "    </tr>\n",
       "    <tr>\n",
       "      <th>1</th>\n",
       "      <td>2021-11-01 01:00:00</td>\n",
       "      <td>61346.17</td>\n",
       "      <td>61709.82</td>\n",
       "      <td>61171.22</td>\n",
       "      <td>61610.93</td>\n",
       "      <td>332.481185</td>\n",
       "      <td>2.044558e+07</td>\n",
       "      <td>BTC</td>\n",
       "      <td>BTC</td>\n",
       "    </tr>\n",
       "    <tr>\n",
       "      <th>2</th>\n",
       "      <td>2021-11-01 02:00:00</td>\n",
       "      <td>61610.94</td>\n",
       "      <td>61779.87</td>\n",
       "      <td>61299.89</td>\n",
       "      <td>61333.17</td>\n",
       "      <td>314.250720</td>\n",
       "      <td>1.935390e+07</td>\n",
       "      <td>BTC</td>\n",
       "      <td>BTC</td>\n",
       "    </tr>\n",
       "    <tr>\n",
       "      <th>3</th>\n",
       "      <td>2021-11-01 03:00:00</td>\n",
       "      <td>61333.17</td>\n",
       "      <td>61457.28</td>\n",
       "      <td>60050.00</td>\n",
       "      <td>60589.06</td>\n",
       "      <td>1059.931358</td>\n",
       "      <td>6.414625e+07</td>\n",
       "      <td>BTC</td>\n",
       "      <td>BTC</td>\n",
       "    </tr>\n",
       "    <tr>\n",
       "      <th>4</th>\n",
       "      <td>2021-11-01 04:00:00</td>\n",
       "      <td>60590.23</td>\n",
       "      <td>60655.00</td>\n",
       "      <td>59752.92</td>\n",
       "      <td>59971.89</td>\n",
       "      <td>621.419878</td>\n",
       "      <td>3.744744e+07</td>\n",
       "      <td>BTC</td>\n",
       "      <td>BTC</td>\n",
       "    </tr>\n",
       "  </tbody>\n",
       "</table>\n",
       "</div>"
      ],
      "text/plain": [
       "                    ts      open      high       low     close       volume  \\\n",
       "0  2021-11-01 00:00:00  61421.37  61669.14  61239.60  61343.68   256.433869   \n",
       "1  2021-11-01 01:00:00  61346.17  61709.82  61171.22  61610.93   332.481185   \n",
       "2  2021-11-01 02:00:00  61610.94  61779.87  61299.89  61333.17   314.250720   \n",
       "3  2021-11-01 03:00:00  61333.17  61457.28  60050.00  60589.06  1059.931358   \n",
       "4  2021-11-01 04:00:00  60590.23  60655.00  59752.92  59971.89   621.419878   \n",
       "\n",
       "      volumeUSD token chain  \n",
       "0  1.575751e+07   BTC   BTC  \n",
       "1  2.044558e+07   BTC   BTC  \n",
       "2  1.935390e+07   BTC   BTC  \n",
       "3  6.414625e+07   BTC   BTC  \n",
       "4  3.744744e+07   BTC   BTC  "
      ]
     },
     "execution_count": 6,
     "metadata": {},
     "output_type": "execute_result"
    }
   ],
   "source": [
    "ohlc.head()"
   ]
  },
  {
   "cell_type": "code",
   "execution_count": 7,
   "id": "a60f1117-6cc7-4ed5-89d3-824d62fcc50c",
   "metadata": {},
   "outputs": [
    {
     "data": {
      "text/html": [
       "<div>\n",
       "<style scoped>\n",
       "    .dataframe tbody tr th:only-of-type {\n",
       "        vertical-align: middle;\n",
       "    }\n",
       "\n",
       "    .dataframe tbody tr th {\n",
       "        vertical-align: top;\n",
       "    }\n",
       "\n",
       "    .dataframe thead th {\n",
       "        text-align: right;\n",
       "    }\n",
       "</style>\n",
       "<table border=\"1\" class=\"dataframe\">\n",
       "  <thead>\n",
       "    <tr style=\"text-align: right;\">\n",
       "      <th></th>\n",
       "      <th>open</th>\n",
       "      <th>high</th>\n",
       "      <th>low</th>\n",
       "      <th>close</th>\n",
       "      <th>volume</th>\n",
       "      <th>volumeUSD</th>\n",
       "    </tr>\n",
       "  </thead>\n",
       "  <tbody>\n",
       "    <tr>\n",
       "      <th>count</th>\n",
       "      <td>11627.000000</td>\n",
       "      <td>11627.000000</td>\n",
       "      <td>11627.000000</td>\n",
       "      <td>11627.000000</td>\n",
       "      <td>1.162700e+04</td>\n",
       "      <td>1.162700e+04</td>\n",
       "    </tr>\n",
       "    <tr>\n",
       "      <th>mean</th>\n",
       "      <td>5708.198992</td>\n",
       "      <td>5737.512791</td>\n",
       "      <td>5676.641523</td>\n",
       "      <td>5706.967946</td>\n",
       "      <td>7.782893e+05</td>\n",
       "      <td>9.847622e+06</td>\n",
       "    </tr>\n",
       "    <tr>\n",
       "      <th>std</th>\n",
       "      <td>16518.161143</td>\n",
       "      <td>16599.532113</td>\n",
       "      <td>16430.972527</td>\n",
       "      <td>16514.731530</td>\n",
       "      <td>2.057505e+06</td>\n",
       "      <td>1.769057e+07</td>\n",
       "    </tr>\n",
       "    <tr>\n",
       "      <th>min</th>\n",
       "      <td>0.999900</td>\n",
       "      <td>1.000000</td>\n",
       "      <td>0.995100</td>\n",
       "      <td>0.999900</td>\n",
       "      <td>6.713000e+00</td>\n",
       "      <td>1.960784e+03</td>\n",
       "    </tr>\n",
       "    <tr>\n",
       "      <th>25%</th>\n",
       "      <td>4.555900</td>\n",
       "      <td>4.611000</td>\n",
       "      <td>4.496050</td>\n",
       "      <td>4.554350</td>\n",
       "      <td>2.565695e+03</td>\n",
       "      <td>9.664755e+05</td>\n",
       "    </tr>\n",
       "    <tr>\n",
       "      <th>50%</th>\n",
       "      <td>92.590000</td>\n",
       "      <td>93.710000</td>\n",
       "      <td>91.000000</td>\n",
       "      <td>92.600000</td>\n",
       "      <td>4.624230e+04</td>\n",
       "      <td>3.420994e+06</td>\n",
       "    </tr>\n",
       "    <tr>\n",
       "      <th>75%</th>\n",
       "      <td>307.924500</td>\n",
       "      <td>309.700000</td>\n",
       "      <td>305.501000</td>\n",
       "      <td>307.796500</td>\n",
       "      <td>1.768436e+05</td>\n",
       "      <td>1.068309e+07</td>\n",
       "    </tr>\n",
       "    <tr>\n",
       "      <th>max</th>\n",
       "      <td>68638.470000</td>\n",
       "      <td>69000.000000</td>\n",
       "      <td>68456.500000</td>\n",
       "      <td>68639.630000</td>\n",
       "      <td>3.978895e+07</td>\n",
       "      <td>3.988035e+08</td>\n",
       "    </tr>\n",
       "  </tbody>\n",
       "</table>\n",
       "</div>"
      ],
      "text/plain": [
       "               open          high           low         close        volume  \\\n",
       "count  11627.000000  11627.000000  11627.000000  11627.000000  1.162700e+04   \n",
       "mean    5708.198992   5737.512791   5676.641523   5706.967946  7.782893e+05   \n",
       "std    16518.161143  16599.532113  16430.972527  16514.731530  2.057505e+06   \n",
       "min        0.999900      1.000000      0.995100      0.999900  6.713000e+00   \n",
       "25%        4.555900      4.611000      4.496050      4.554350  2.565695e+03   \n",
       "50%       92.590000     93.710000     91.000000     92.600000  4.624230e+04   \n",
       "75%      307.924500    309.700000    305.501000    307.796500  1.768436e+05   \n",
       "max    68638.470000  69000.000000  68456.500000  68639.630000  3.978895e+07   \n",
       "\n",
       "          volumeUSD  \n",
       "count  1.162700e+04  \n",
       "mean   9.847622e+06  \n",
       "std    1.769057e+07  \n",
       "min    1.960784e+03  \n",
       "25%    9.664755e+05  \n",
       "50%    3.420994e+06  \n",
       "75%    1.068309e+07  \n",
       "max    3.988035e+08  "
      ]
     },
     "execution_count": 7,
     "metadata": {},
     "output_type": "execute_result"
    }
   ],
   "source": [
    "ohlc.describe()"
   ]
  },
  {
   "cell_type": "markdown",
   "id": "2c476090-4dee-4827-bdc6-4daae8b0eff5",
   "metadata": {},
   "source": [
    "## Data Formating\n",
    "\n",
    "I will also be using formating and converting the table into the fat table, but I wanna add more features to the actual data frame itself."
   ]
  },
  {
   "cell_type": "code",
   "execution_count": 8,
   "id": "2e9339cc-ad63-45ea-bf36-fe8677bfa063",
   "metadata": {
    "tags": []
   },
   "outputs": [],
   "source": [
    "tokens = ohlc.token.unique()"
   ]
  },
  {
   "cell_type": "code",
   "execution_count": 9,
   "id": "e54a1ecc-2238-465e-9a7d-355fe76ec18d",
   "metadata": {},
   "outputs": [],
   "source": [
    "def df_merge(left, right):\n",
    "    return pd.merge(left, right, on='ts', how='inner')\n",
    "\n",
    "X = reduce(df_merge, [\n",
    "    (lambda df: \n",
    "    (\n",
    "        df\n",
    "        .assign(\n",
    "            vol=vol_ohlc(df).fillna(0),\n",
    "            ret=df.close.pct_change(),\n",
    "            volume=df.volume\n",
    "        )[['ts', 'vol', 'ret', 'volume']]\n",
    "        .rename(columns={\n",
    "            col: f'{col}_{token}' for col in ['ts', 'vol', 'ret', 'volume'] if col != 'ts'\n",
    "        })\n",
    "    ))(ohlc[ohlc.token == token])\n",
    "    for token in tokens\n",
    "]).set_index('ts')"
   ]
  },
  {
   "cell_type": "code",
   "execution_count": 10,
   "id": "b57f1fc5-32af-4bf5-bf4d-ba1c6bbbfff3",
   "metadata": {},
   "outputs": [
    {
     "data": {
      "text/html": [
       "<div>\n",
       "<style scoped>\n",
       "    .dataframe tbody tr th:only-of-type {\n",
       "        vertical-align: middle;\n",
       "    }\n",
       "\n",
       "    .dataframe tbody tr th {\n",
       "        vertical-align: top;\n",
       "    }\n",
       "\n",
       "    .dataframe thead th {\n",
       "        text-align: right;\n",
       "    }\n",
       "</style>\n",
       "<table border=\"1\" class=\"dataframe\">\n",
       "  <thead>\n",
       "    <tr style=\"text-align: right;\">\n",
       "      <th></th>\n",
       "      <th>vol_BTC</th>\n",
       "      <th>ret_BTC</th>\n",
       "      <th>volume_BTC</th>\n",
       "      <th>vol_ETH</th>\n",
       "      <th>ret_ETH</th>\n",
       "      <th>volume_ETH</th>\n",
       "      <th>vol_USDT</th>\n",
       "      <th>ret_USDT</th>\n",
       "      <th>volume_USDT</th>\n",
       "      <th>vol_SOL</th>\n",
       "      <th>...</th>\n",
       "      <th>volume_ATOM</th>\n",
       "      <th>vol_CRV</th>\n",
       "      <th>ret_CRV</th>\n",
       "      <th>volume_CRV</th>\n",
       "      <th>vol_AAVE</th>\n",
       "      <th>ret_AAVE</th>\n",
       "      <th>volume_AAVE</th>\n",
       "      <th>vol_COMP</th>\n",
       "      <th>ret_COMP</th>\n",
       "      <th>volume_COMP</th>\n",
       "    </tr>\n",
       "    <tr>\n",
       "      <th>ts</th>\n",
       "      <th></th>\n",
       "      <th></th>\n",
       "      <th></th>\n",
       "      <th></th>\n",
       "      <th></th>\n",
       "      <th></th>\n",
       "      <th></th>\n",
       "      <th></th>\n",
       "      <th></th>\n",
       "      <th></th>\n",
       "      <th></th>\n",
       "      <th></th>\n",
       "      <th></th>\n",
       "      <th></th>\n",
       "      <th></th>\n",
       "      <th></th>\n",
       "      <th></th>\n",
       "      <th></th>\n",
       "      <th></th>\n",
       "      <th></th>\n",
       "      <th></th>\n",
       "    </tr>\n",
       "  </thead>\n",
       "  <tbody>\n",
       "    <tr>\n",
       "      <th>2021-11-01 00:00:00</th>\n",
       "      <td>0.0</td>\n",
       "      <td>NaN</td>\n",
       "      <td>256.433869</td>\n",
       "      <td>0.0</td>\n",
       "      <td>NaN</td>\n",
       "      <td>4406.453807</td>\n",
       "      <td>0.0</td>\n",
       "      <td>NaN</td>\n",
       "      <td>1443044.08</td>\n",
       "      <td>0.0</td>\n",
       "      <td>...</td>\n",
       "      <td>71933.3</td>\n",
       "      <td>0.0</td>\n",
       "      <td>NaN</td>\n",
       "      <td>107439.71</td>\n",
       "      <td>0.0</td>\n",
       "      <td>NaN</td>\n",
       "      <td>467.302</td>\n",
       "      <td>0.0</td>\n",
       "      <td>NaN</td>\n",
       "      <td>2316.913</td>\n",
       "    </tr>\n",
       "    <tr>\n",
       "      <th>2021-11-01 01:00:00</th>\n",
       "      <td>0.0</td>\n",
       "      <td>0.004357</td>\n",
       "      <td>332.481185</td>\n",
       "      <td>0.0</td>\n",
       "      <td>0.006874</td>\n",
       "      <td>8189.769397</td>\n",
       "      <td>0.0</td>\n",
       "      <td>0.0000</td>\n",
       "      <td>1966890.86</td>\n",
       "      <td>0.0</td>\n",
       "      <td>...</td>\n",
       "      <td>93434.7</td>\n",
       "      <td>0.0</td>\n",
       "      <td>0.000725</td>\n",
       "      <td>249880.26</td>\n",
       "      <td>0.0</td>\n",
       "      <td>0.008043</td>\n",
       "      <td>2421.882</td>\n",
       "      <td>0.0</td>\n",
       "      <td>-0.002281</td>\n",
       "      <td>1366.804</td>\n",
       "    </tr>\n",
       "    <tr>\n",
       "      <th>2021-11-01 02:00:00</th>\n",
       "      <td>0.0</td>\n",
       "      <td>-0.004508</td>\n",
       "      <td>314.250720</td>\n",
       "      <td>0.0</td>\n",
       "      <td>-0.005322</td>\n",
       "      <td>4866.479502</td>\n",
       "      <td>0.0</td>\n",
       "      <td>-0.0002</td>\n",
       "      <td>2381051.29</td>\n",
       "      <td>0.0</td>\n",
       "      <td>...</td>\n",
       "      <td>147681.1</td>\n",
       "      <td>0.0</td>\n",
       "      <td>-0.031791</td>\n",
       "      <td>373119.36</td>\n",
       "      <td>0.0</td>\n",
       "      <td>-0.009171</td>\n",
       "      <td>737.288</td>\n",
       "      <td>0.0</td>\n",
       "      <td>-0.006020</td>\n",
       "      <td>2771.400</td>\n",
       "    </tr>\n",
       "    <tr>\n",
       "      <th>2021-11-01 03:00:00</th>\n",
       "      <td>0.0</td>\n",
       "      <td>-0.012132</td>\n",
       "      <td>1059.931358</td>\n",
       "      <td>0.0</td>\n",
       "      <td>-0.013126</td>\n",
       "      <td>13426.940129</td>\n",
       "      <td>0.0</td>\n",
       "      <td>0.0001</td>\n",
       "      <td>2741940.57</td>\n",
       "      <td>0.0</td>\n",
       "      <td>...</td>\n",
       "      <td>193081.8</td>\n",
       "      <td>0.0</td>\n",
       "      <td>-0.010431</td>\n",
       "      <td>706529.59</td>\n",
       "      <td>0.0</td>\n",
       "      <td>-0.013301</td>\n",
       "      <td>2382.998</td>\n",
       "      <td>0.0</td>\n",
       "      <td>-0.022273</td>\n",
       "      <td>3615.275</td>\n",
       "    </tr>\n",
       "    <tr>\n",
       "      <th>2021-11-01 04:00:00</th>\n",
       "      <td>0.0</td>\n",
       "      <td>-0.010186</td>\n",
       "      <td>621.419878</td>\n",
       "      <td>0.0</td>\n",
       "      <td>-0.010679</td>\n",
       "      <td>8460.070019</td>\n",
       "      <td>0.0</td>\n",
       "      <td>0.0000</td>\n",
       "      <td>1699905.28</td>\n",
       "      <td>0.0</td>\n",
       "      <td>...</td>\n",
       "      <td>74836.2</td>\n",
       "      <td>0.0</td>\n",
       "      <td>0.004514</td>\n",
       "      <td>250157.22</td>\n",
       "      <td>0.0</td>\n",
       "      <td>-0.016452</td>\n",
       "      <td>1653.940</td>\n",
       "      <td>0.0</td>\n",
       "      <td>-0.024002</td>\n",
       "      <td>2391.802</td>\n",
       "    </tr>\n",
       "  </tbody>\n",
       "</table>\n",
       "<p>5 rows × 33 columns</p>\n",
       "</div>"
      ],
      "text/plain": [
       "                     vol_BTC   ret_BTC   volume_BTC  vol_ETH   ret_ETH  \\\n",
       "ts                                                                       \n",
       "2021-11-01 00:00:00      0.0       NaN   256.433869      0.0       NaN   \n",
       "2021-11-01 01:00:00      0.0  0.004357   332.481185      0.0  0.006874   \n",
       "2021-11-01 02:00:00      0.0 -0.004508   314.250720      0.0 -0.005322   \n",
       "2021-11-01 03:00:00      0.0 -0.012132  1059.931358      0.0 -0.013126   \n",
       "2021-11-01 04:00:00      0.0 -0.010186   621.419878      0.0 -0.010679   \n",
       "\n",
       "                       volume_ETH  vol_USDT  ret_USDT  volume_USDT  vol_SOL  \\\n",
       "ts                                                                            \n",
       "2021-11-01 00:00:00   4406.453807       0.0       NaN   1443044.08      0.0   \n",
       "2021-11-01 01:00:00   8189.769397       0.0    0.0000   1966890.86      0.0   \n",
       "2021-11-01 02:00:00   4866.479502       0.0   -0.0002   2381051.29      0.0   \n",
       "2021-11-01 03:00:00  13426.940129       0.0    0.0001   2741940.57      0.0   \n",
       "2021-11-01 04:00:00   8460.070019       0.0    0.0000   1699905.28      0.0   \n",
       "\n",
       "                     ...  volume_ATOM  vol_CRV   ret_CRV  volume_CRV  \\\n",
       "ts                   ...                                               \n",
       "2021-11-01 00:00:00  ...      71933.3      0.0       NaN   107439.71   \n",
       "2021-11-01 01:00:00  ...      93434.7      0.0  0.000725   249880.26   \n",
       "2021-11-01 02:00:00  ...     147681.1      0.0 -0.031791   373119.36   \n",
       "2021-11-01 03:00:00  ...     193081.8      0.0 -0.010431   706529.59   \n",
       "2021-11-01 04:00:00  ...      74836.2      0.0  0.004514   250157.22   \n",
       "\n",
       "                     vol_AAVE  ret_AAVE  volume_AAVE  vol_COMP  ret_COMP  \\\n",
       "ts                                                                         \n",
       "2021-11-01 00:00:00       0.0       NaN      467.302       0.0       NaN   \n",
       "2021-11-01 01:00:00       0.0  0.008043     2421.882       0.0 -0.002281   \n",
       "2021-11-01 02:00:00       0.0 -0.009171      737.288       0.0 -0.006020   \n",
       "2021-11-01 03:00:00       0.0 -0.013301     2382.998       0.0 -0.022273   \n",
       "2021-11-01 04:00:00       0.0 -0.016452     1653.940       0.0 -0.024002   \n",
       "\n",
       "                     volume_COMP  \n",
       "ts                                \n",
       "2021-11-01 00:00:00     2316.913  \n",
       "2021-11-01 01:00:00     1366.804  \n",
       "2021-11-01 02:00:00     2771.400  \n",
       "2021-11-01 03:00:00     3615.275  \n",
       "2021-11-01 04:00:00     2391.802  \n",
       "\n",
       "[5 rows x 33 columns]"
      ]
     },
     "execution_count": 10,
     "metadata": {},
     "output_type": "execute_result"
    }
   ],
   "source": [
    "X.head()"
   ]
  },
  {
   "cell_type": "code",
   "execution_count": 11,
   "id": "c67001db-0078-4f6f-a7ba-72544f90a340",
   "metadata": {},
   "outputs": [
    {
     "data": {
      "text/plain": [
       "(1057, 33)"
      ]
     },
     "execution_count": 11,
     "metadata": {},
     "output_type": "execute_result"
    }
   ],
   "source": [
    "X.shape"
   ]
  },
  {
   "cell_type": "code",
   "execution_count": 12,
   "id": "64697a0c-26dd-4011-875d-26521af47dc4",
   "metadata": {},
   "outputs": [
    {
     "data": {
      "text/html": [
       "<div>\n",
       "<style scoped>\n",
       "    .dataframe tbody tr th:only-of-type {\n",
       "        vertical-align: middle;\n",
       "    }\n",
       "\n",
       "    .dataframe tbody tr th {\n",
       "        vertical-align: top;\n",
       "    }\n",
       "\n",
       "    .dataframe thead th {\n",
       "        text-align: right;\n",
       "    }\n",
       "</style>\n",
       "<table border=\"1\" class=\"dataframe\">\n",
       "  <thead>\n",
       "    <tr style=\"text-align: right;\">\n",
       "      <th></th>\n",
       "      <th>vol_BTC</th>\n",
       "      <th>ret_BTC</th>\n",
       "      <th>volume_BTC</th>\n",
       "      <th>vol_ETH</th>\n",
       "      <th>ret_ETH</th>\n",
       "      <th>volume_ETH</th>\n",
       "      <th>vol_USDT</th>\n",
       "      <th>ret_USDT</th>\n",
       "      <th>volume_USDT</th>\n",
       "      <th>vol_SOL</th>\n",
       "      <th>...</th>\n",
       "      <th>volume_ATOM</th>\n",
       "      <th>vol_CRV</th>\n",
       "      <th>ret_CRV</th>\n",
       "      <th>volume_CRV</th>\n",
       "      <th>vol_AAVE</th>\n",
       "      <th>ret_AAVE</th>\n",
       "      <th>volume_AAVE</th>\n",
       "      <th>vol_COMP</th>\n",
       "      <th>ret_COMP</th>\n",
       "      <th>volume_COMP</th>\n",
       "    </tr>\n",
       "    <tr>\n",
       "      <th>ts</th>\n",
       "      <th></th>\n",
       "      <th></th>\n",
       "      <th></th>\n",
       "      <th></th>\n",
       "      <th></th>\n",
       "      <th></th>\n",
       "      <th></th>\n",
       "      <th></th>\n",
       "      <th></th>\n",
       "      <th></th>\n",
       "      <th></th>\n",
       "      <th></th>\n",
       "      <th></th>\n",
       "      <th></th>\n",
       "      <th></th>\n",
       "      <th></th>\n",
       "      <th></th>\n",
       "      <th></th>\n",
       "      <th></th>\n",
       "      <th></th>\n",
       "      <th></th>\n",
       "    </tr>\n",
       "  </thead>\n",
       "  <tbody>\n",
       "    <tr>\n",
       "      <th>2021-12-14 20:00:00</th>\n",
       "      <td>0.136358</td>\n",
       "      <td>0.004810</td>\n",
       "      <td>783.748050</td>\n",
       "      <td>0.158369</td>\n",
       "      <td>0.005961</td>\n",
       "      <td>6225.222234</td>\n",
       "      <td>0.002463</td>\n",
       "      <td>0.0001</td>\n",
       "      <td>1826007.47</td>\n",
       "      <td>0.216740</td>\n",
       "      <td>...</td>\n",
       "      <td>37818.6</td>\n",
       "      <td>0.255464</td>\n",
       "      <td>0.003049</td>\n",
       "      <td>139451.07</td>\n",
       "      <td>0.207758</td>\n",
       "      <td>0.009387</td>\n",
       "      <td>2587.093</td>\n",
       "      <td>0.284268</td>\n",
       "      <td>0.006813</td>\n",
       "      <td>628.699</td>\n",
       "    </tr>\n",
       "    <tr>\n",
       "      <th>2021-12-14 21:00:00</th>\n",
       "      <td>0.142237</td>\n",
       "      <td>0.019797</td>\n",
       "      <td>1634.610294</td>\n",
       "      <td>0.170096</td>\n",
       "      <td>0.016737</td>\n",
       "      <td>13584.425784</td>\n",
       "      <td>0.002652</td>\n",
       "      <td>0.0000</td>\n",
       "      <td>2628265.46</td>\n",
       "      <td>0.218492</td>\n",
       "      <td>...</td>\n",
       "      <td>96096.0</td>\n",
       "      <td>0.263456</td>\n",
       "      <td>0.021277</td>\n",
       "      <td>152181.31</td>\n",
       "      <td>0.222014</td>\n",
       "      <td>0.022490</td>\n",
       "      <td>5118.783</td>\n",
       "      <td>0.281497</td>\n",
       "      <td>0.017473</td>\n",
       "      <td>2453.455</td>\n",
       "    </tr>\n",
       "    <tr>\n",
       "      <th>2021-12-14 22:00:00</th>\n",
       "      <td>0.151148</td>\n",
       "      <td>0.010414</td>\n",
       "      <td>1804.082095</td>\n",
       "      <td>0.172081</td>\n",
       "      <td>0.004623</td>\n",
       "      <td>13031.590980</td>\n",
       "      <td>0.002684</td>\n",
       "      <td>0.0000</td>\n",
       "      <td>3681619.88</td>\n",
       "      <td>0.246122</td>\n",
       "      <td>...</td>\n",
       "      <td>90174.7</td>\n",
       "      <td>0.270895</td>\n",
       "      <td>0.023810</td>\n",
       "      <td>195984.24</td>\n",
       "      <td>0.220598</td>\n",
       "      <td>0.006242</td>\n",
       "      <td>2927.462</td>\n",
       "      <td>0.275083</td>\n",
       "      <td>0.009868</td>\n",
       "      <td>2086.017</td>\n",
       "    </tr>\n",
       "    <tr>\n",
       "      <th>2021-12-14 23:00:00</th>\n",
       "      <td>0.149424</td>\n",
       "      <td>-0.000302</td>\n",
       "      <td>675.097958</td>\n",
       "      <td>0.170257</td>\n",
       "      <td>-0.003195</td>\n",
       "      <td>7395.060289</td>\n",
       "      <td>0.002823</td>\n",
       "      <td>0.0001</td>\n",
       "      <td>4247904.90</td>\n",
       "      <td>0.238235</td>\n",
       "      <td>...</td>\n",
       "      <td>28112.9</td>\n",
       "      <td>0.268758</td>\n",
       "      <td>-0.011628</td>\n",
       "      <td>99262.52</td>\n",
       "      <td>0.219474</td>\n",
       "      <td>-0.003013</td>\n",
       "      <td>1650.210</td>\n",
       "      <td>0.271229</td>\n",
       "      <td>-0.000864</td>\n",
       "      <td>416.028</td>\n",
       "    </tr>\n",
       "    <tr>\n",
       "      <th>2021-12-15 00:00:00</th>\n",
       "      <td>0.143079</td>\n",
       "      <td>-0.001448</td>\n",
       "      <td>106.582858</td>\n",
       "      <td>0.159883</td>\n",
       "      <td>-0.000641</td>\n",
       "      <td>2453.609904</td>\n",
       "      <td>0.002816</td>\n",
       "      <td>0.0000</td>\n",
       "      <td>638666.74</td>\n",
       "      <td>0.228867</td>\n",
       "      <td>...</td>\n",
       "      <td>15688.5</td>\n",
       "      <td>0.242546</td>\n",
       "      <td>-0.002941</td>\n",
       "      <td>12516.48</td>\n",
       "      <td>0.213360</td>\n",
       "      <td>0.001659</td>\n",
       "      <td>3136.433</td>\n",
       "      <td>0.246067</td>\n",
       "      <td>-0.001027</td>\n",
       "      <td>335.307</td>\n",
       "    </tr>\n",
       "  </tbody>\n",
       "</table>\n",
       "<p>5 rows × 33 columns</p>\n",
       "</div>"
      ],
      "text/plain": [
       "                      vol_BTC   ret_BTC   volume_BTC   vol_ETH   ret_ETH  \\\n",
       "ts                                                                         \n",
       "2021-12-14 20:00:00  0.136358  0.004810   783.748050  0.158369  0.005961   \n",
       "2021-12-14 21:00:00  0.142237  0.019797  1634.610294  0.170096  0.016737   \n",
       "2021-12-14 22:00:00  0.151148  0.010414  1804.082095  0.172081  0.004623   \n",
       "2021-12-14 23:00:00  0.149424 -0.000302   675.097958  0.170257 -0.003195   \n",
       "2021-12-15 00:00:00  0.143079 -0.001448   106.582858  0.159883 -0.000641   \n",
       "\n",
       "                       volume_ETH  vol_USDT  ret_USDT  volume_USDT   vol_SOL  \\\n",
       "ts                                                                             \n",
       "2021-12-14 20:00:00   6225.222234  0.002463    0.0001   1826007.47  0.216740   \n",
       "2021-12-14 21:00:00  13584.425784  0.002652    0.0000   2628265.46  0.218492   \n",
       "2021-12-14 22:00:00  13031.590980  0.002684    0.0000   3681619.88  0.246122   \n",
       "2021-12-14 23:00:00   7395.060289  0.002823    0.0001   4247904.90  0.238235   \n",
       "2021-12-15 00:00:00   2453.609904  0.002816    0.0000    638666.74  0.228867   \n",
       "\n",
       "                     ...  volume_ATOM   vol_CRV   ret_CRV  volume_CRV  \\\n",
       "ts                   ...                                                \n",
       "2021-12-14 20:00:00  ...      37818.6  0.255464  0.003049   139451.07   \n",
       "2021-12-14 21:00:00  ...      96096.0  0.263456  0.021277   152181.31   \n",
       "2021-12-14 22:00:00  ...      90174.7  0.270895  0.023810   195984.24   \n",
       "2021-12-14 23:00:00  ...      28112.9  0.268758 -0.011628    99262.52   \n",
       "2021-12-15 00:00:00  ...      15688.5  0.242546 -0.002941    12516.48   \n",
       "\n",
       "                     vol_AAVE  ret_AAVE  volume_AAVE  vol_COMP  ret_COMP  \\\n",
       "ts                                                                         \n",
       "2021-12-14 20:00:00  0.207758  0.009387     2587.093  0.284268  0.006813   \n",
       "2021-12-14 21:00:00  0.222014  0.022490     5118.783  0.281497  0.017473   \n",
       "2021-12-14 22:00:00  0.220598  0.006242     2927.462  0.275083  0.009868   \n",
       "2021-12-14 23:00:00  0.219474 -0.003013     1650.210  0.271229 -0.000864   \n",
       "2021-12-15 00:00:00  0.213360  0.001659     3136.433  0.246067 -0.001027   \n",
       "\n",
       "                     volume_COMP  \n",
       "ts                                \n",
       "2021-12-14 20:00:00      628.699  \n",
       "2021-12-14 21:00:00     2453.455  \n",
       "2021-12-14 22:00:00     2086.017  \n",
       "2021-12-14 23:00:00      416.028  \n",
       "2021-12-15 00:00:00      335.307  \n",
       "\n",
       "[5 rows x 33 columns]"
      ]
     },
     "execution_count": 12,
     "metadata": {},
     "output_type": "execute_result"
    }
   ],
   "source": [
    "X.tail()"
   ]
  },
  {
   "cell_type": "code",
   "execution_count": 13,
   "id": "d8283e63-3141-44b6-a8ce-84b86cfb51e2",
   "metadata": {},
   "outputs": [],
   "source": [
    "y = X.ret_SOL.shift(-1)[:-1]\n",
    "X = X[:-1]"
   ]
  },
  {
   "cell_type": "code",
   "execution_count": 14,
   "id": "53bbbe48-72da-4dcc-9de1-32710d6a75ae",
   "metadata": {},
   "outputs": [
    {
     "data": {
      "text/plain": [
       "(1056, 33)"
      ]
     },
     "execution_count": 14,
     "metadata": {},
     "output_type": "execute_result"
    }
   ],
   "source": [
    "X.shape"
   ]
  },
  {
   "cell_type": "code",
   "execution_count": 15,
   "id": "eb55937e-caa8-491a-adbd-e491714966d2",
   "metadata": {},
   "outputs": [
    {
     "data": {
      "text/plain": [
       "(1056,)"
      ]
     },
     "execution_count": 15,
     "metadata": {},
     "output_type": "execute_result"
    }
   ],
   "source": [
    "y.shape"
   ]
  },
  {
   "cell_type": "code",
   "execution_count": 16,
   "id": "0086fdf3-9365-4af6-96cf-6416497f7a0b",
   "metadata": {},
   "outputs": [
    {
     "data": {
      "text/plain": [
       "count    1056.000000\n",
       "mean       -0.000156\n",
       "std         0.012010\n",
       "min        -0.053429\n",
       "25%        -0.007444\n",
       "50%        -0.000503\n",
       "75%         0.006740\n",
       "max         0.048298\n",
       "Name: ret_SOL, dtype: float64"
      ]
     },
     "execution_count": 16,
     "metadata": {},
     "output_type": "execute_result"
    }
   ],
   "source": [
    "y.describe()"
   ]
  },
  {
   "cell_type": "code",
   "execution_count": 17,
   "id": "ce0564d5-8946-4ffb-9801-39fa25b094f0",
   "metadata": {},
   "outputs": [],
   "source": [
    "from pandas.plotting import scatter_matrix, autocorrelation_plot"
   ]
  },
  {
   "cell_type": "code",
   "execution_count": 18,
   "id": "33ed6aeb-61a7-49c7-8d32-5966af217d50",
   "metadata": {},
   "outputs": [
    {
     "data": {
      "text/plain": [
       "<AxesSubplot:xlabel='Lag', ylabel='Autocorrelation'>"
      ]
     },
     "execution_count": 18,
     "metadata": {},
     "output_type": "execute_result"
    },
    {
     "data": {
      "image/png": "[encoded data removed]",
      "text/plain": [
       "<Figure size 432x288 with 1 Axes>"
      ]
     },
     "metadata": {
      "needs_background": "light"
     },
     "output_type": "display_data"
    }
   ],
   "source": [
    "autocorrelation_plot(y[1:])"
   ]
  },
  {
   "cell_type": "code",
   "execution_count": 19,
   "id": "74d56b2f-a941-4007-bcce-6c0505050a34",
   "metadata": {},
   "outputs": [
    {
     "data": {
      "text/html": [
       "<div>\n",
       "<style scoped>\n",
       "    .dataframe tbody tr th:only-of-type {\n",
       "        vertical-align: middle;\n",
       "    }\n",
       "\n",
       "    .dataframe tbody tr th {\n",
       "        vertical-align: top;\n",
       "    }\n",
       "\n",
       "    .dataframe thead th {\n",
       "        text-align: right;\n",
       "    }\n",
       "</style>\n",
       "<table border=\"1\" class=\"dataframe\">\n",
       "  <thead>\n",
       "    <tr style=\"text-align: right;\">\n",
       "      <th></th>\n",
       "      <th>vol_BTC</th>\n",
       "      <th>ret_BTC</th>\n",
       "      <th>volume_BTC</th>\n",
       "      <th>vol_ETH</th>\n",
       "      <th>ret_ETH</th>\n",
       "      <th>volume_ETH</th>\n",
       "      <th>vol_USDT</th>\n",
       "      <th>ret_USDT</th>\n",
       "      <th>volume_USDT</th>\n",
       "      <th>vol_SOL</th>\n",
       "      <th>...</th>\n",
       "      <th>volume_ATOM</th>\n",
       "      <th>vol_CRV</th>\n",
       "      <th>ret_CRV</th>\n",
       "      <th>volume_CRV</th>\n",
       "      <th>vol_AAVE</th>\n",
       "      <th>ret_AAVE</th>\n",
       "      <th>volume_AAVE</th>\n",
       "      <th>vol_COMP</th>\n",
       "      <th>ret_COMP</th>\n",
       "      <th>volume_COMP</th>\n",
       "    </tr>\n",
       "    <tr>\n",
       "      <th>ts</th>\n",
       "      <th></th>\n",
       "      <th></th>\n",
       "      <th></th>\n",
       "      <th></th>\n",
       "      <th></th>\n",
       "      <th></th>\n",
       "      <th></th>\n",
       "      <th></th>\n",
       "      <th></th>\n",
       "      <th></th>\n",
       "      <th></th>\n",
       "      <th></th>\n",
       "      <th></th>\n",
       "      <th></th>\n",
       "      <th></th>\n",
       "      <th></th>\n",
       "      <th></th>\n",
       "      <th></th>\n",
       "      <th></th>\n",
       "      <th></th>\n",
       "      <th></th>\n",
       "    </tr>\n",
       "  </thead>\n",
       "  <tbody>\n",
       "    <tr>\n",
       "      <th>2021-11-01 00:00:00</th>\n",
       "      <td>0.0</td>\n",
       "      <td>NaN</td>\n",
       "      <td>256.433869</td>\n",
       "      <td>0.0</td>\n",
       "      <td>NaN</td>\n",
       "      <td>4406.453807</td>\n",
       "      <td>0.0</td>\n",
       "      <td>NaN</td>\n",
       "      <td>1443044.08</td>\n",
       "      <td>0.0</td>\n",
       "      <td>...</td>\n",
       "      <td>71933.3</td>\n",
       "      <td>0.0</td>\n",
       "      <td>NaN</td>\n",
       "      <td>107439.71</td>\n",
       "      <td>0.0</td>\n",
       "      <td>NaN</td>\n",
       "      <td>467.302</td>\n",
       "      <td>0.0</td>\n",
       "      <td>NaN</td>\n",
       "      <td>2316.913</td>\n",
       "    </tr>\n",
       "    <tr>\n",
       "      <th>2021-11-01 01:00:00</th>\n",
       "      <td>0.0</td>\n",
       "      <td>0.004357</td>\n",
       "      <td>332.481185</td>\n",
       "      <td>0.0</td>\n",
       "      <td>0.006874</td>\n",
       "      <td>8189.769397</td>\n",
       "      <td>0.0</td>\n",
       "      <td>0.0000</td>\n",
       "      <td>1966890.86</td>\n",
       "      <td>0.0</td>\n",
       "      <td>...</td>\n",
       "      <td>93434.7</td>\n",
       "      <td>0.0</td>\n",
       "      <td>0.000725</td>\n",
       "      <td>249880.26</td>\n",
       "      <td>0.0</td>\n",
       "      <td>0.008043</td>\n",
       "      <td>2421.882</td>\n",
       "      <td>0.0</td>\n",
       "      <td>-0.002281</td>\n",
       "      <td>1366.804</td>\n",
       "    </tr>\n",
       "    <tr>\n",
       "      <th>2021-11-01 02:00:00</th>\n",
       "      <td>0.0</td>\n",
       "      <td>-0.004508</td>\n",
       "      <td>314.250720</td>\n",
       "      <td>0.0</td>\n",
       "      <td>-0.005322</td>\n",
       "      <td>4866.479502</td>\n",
       "      <td>0.0</td>\n",
       "      <td>-0.0002</td>\n",
       "      <td>2381051.29</td>\n",
       "      <td>0.0</td>\n",
       "      <td>...</td>\n",
       "      <td>147681.1</td>\n",
       "      <td>0.0</td>\n",
       "      <td>-0.031791</td>\n",
       "      <td>373119.36</td>\n",
       "      <td>0.0</td>\n",
       "      <td>-0.009171</td>\n",
       "      <td>737.288</td>\n",
       "      <td>0.0</td>\n",
       "      <td>-0.006020</td>\n",
       "      <td>2771.400</td>\n",
       "    </tr>\n",
       "    <tr>\n",
       "      <th>2021-11-01 03:00:00</th>\n",
       "      <td>0.0</td>\n",
       "      <td>-0.012132</td>\n",
       "      <td>1059.931358</td>\n",
       "      <td>0.0</td>\n",
       "      <td>-0.013126</td>\n",
       "      <td>13426.940129</td>\n",
       "      <td>0.0</td>\n",
       "      <td>0.0001</td>\n",
       "      <td>2741940.57</td>\n",
       "      <td>0.0</td>\n",
       "      <td>...</td>\n",
       "      <td>193081.8</td>\n",
       "      <td>0.0</td>\n",
       "      <td>-0.010431</td>\n",
       "      <td>706529.59</td>\n",
       "      <td>0.0</td>\n",
       "      <td>-0.013301</td>\n",
       "      <td>2382.998</td>\n",
       "      <td>0.0</td>\n",
       "      <td>-0.022273</td>\n",
       "      <td>3615.275</td>\n",
       "    </tr>\n",
       "    <tr>\n",
       "      <th>2021-11-01 04:00:00</th>\n",
       "      <td>0.0</td>\n",
       "      <td>-0.010186</td>\n",
       "      <td>621.419878</td>\n",
       "      <td>0.0</td>\n",
       "      <td>-0.010679</td>\n",
       "      <td>8460.070019</td>\n",
       "      <td>0.0</td>\n",
       "      <td>0.0000</td>\n",
       "      <td>1699905.28</td>\n",
       "      <td>0.0</td>\n",
       "      <td>...</td>\n",
       "      <td>74836.2</td>\n",
       "      <td>0.0</td>\n",
       "      <td>0.004514</td>\n",
       "      <td>250157.22</td>\n",
       "      <td>0.0</td>\n",
       "      <td>-0.016452</td>\n",
       "      <td>1653.940</td>\n",
       "      <td>0.0</td>\n",
       "      <td>-0.024002</td>\n",
       "      <td>2391.802</td>\n",
       "    </tr>\n",
       "  </tbody>\n",
       "</table>\n",
       "<p>5 rows × 33 columns</p>\n",
       "</div>"
      ],
      "text/plain": [
       "                     vol_BTC   ret_BTC   volume_BTC  vol_ETH   ret_ETH  \\\n",
       "ts                                                                       \n",
       "2021-11-01 00:00:00      0.0       NaN   256.433869      0.0       NaN   \n",
       "2021-11-01 01:00:00      0.0  0.004357   332.481185      0.0  0.006874   \n",
       "2021-11-01 02:00:00      0.0 -0.004508   314.250720      0.0 -0.005322   \n",
       "2021-11-01 03:00:00      0.0 -0.012132  1059.931358      0.0 -0.013126   \n",
       "2021-11-01 04:00:00      0.0 -0.010186   621.419878      0.0 -0.010679   \n",
       "\n",
       "                       volume_ETH  vol_USDT  ret_USDT  volume_USDT  vol_SOL  \\\n",
       "ts                                                                            \n",
       "2021-11-01 00:00:00   4406.453807       0.0       NaN   1443044.08      0.0   \n",
       "2021-11-01 01:00:00   8189.769397       0.0    0.0000   1966890.86      0.0   \n",
       "2021-11-01 02:00:00   4866.479502       0.0   -0.0002   2381051.29      0.0   \n",
       "2021-11-01 03:00:00  13426.940129       0.0    0.0001   2741940.57      0.0   \n",
       "2021-11-01 04:00:00   8460.070019       0.0    0.0000   1699905.28      0.0   \n",
       "\n",
       "                     ...  volume_ATOM  vol_CRV   ret_CRV  volume_CRV  \\\n",
       "ts                   ...                                               \n",
       "2021-11-01 00:00:00  ...      71933.3      0.0       NaN   107439.71   \n",
       "2021-11-01 01:00:00  ...      93434.7      0.0  0.000725   249880.26   \n",
       "2021-11-01 02:00:00  ...     147681.1      0.0 -0.031791   373119.36   \n",
       "2021-11-01 03:00:00  ...     193081.8      0.0 -0.010431   706529.59   \n",
       "2021-11-01 04:00:00  ...      74836.2      0.0  0.004514   250157.22   \n",
       "\n",
       "                     vol_AAVE  ret_AAVE  volume_AAVE  vol_COMP  ret_COMP  \\\n",
       "ts                                                                         \n",
       "2021-11-01 00:00:00       0.0       NaN      467.302       0.0       NaN   \n",
       "2021-11-01 01:00:00       0.0  0.008043     2421.882       0.0 -0.002281   \n",
       "2021-11-01 02:00:00       0.0 -0.009171      737.288       0.0 -0.006020   \n",
       "2021-11-01 03:00:00       0.0 -0.013301     2382.998       0.0 -0.022273   \n",
       "2021-11-01 04:00:00       0.0 -0.016452     1653.940       0.0 -0.024002   \n",
       "\n",
       "                     volume_COMP  \n",
       "ts                                \n",
       "2021-11-01 00:00:00     2316.913  \n",
       "2021-11-01 01:00:00     1366.804  \n",
       "2021-11-01 02:00:00     2771.400  \n",
       "2021-11-01 03:00:00     3615.275  \n",
       "2021-11-01 04:00:00     2391.802  \n",
       "\n",
       "[5 rows x 33 columns]"
      ]
     },
     "execution_count": 19,
     "metadata": {},
     "output_type": "execute_result"
    }
   ],
   "source": [
    "X.head()"
   ]
  },
  {
   "cell_type": "code",
   "execution_count": 20,
   "id": "85f06efb-6ec4-4c32-8c6b-0f5dfa905a71",
   "metadata": {},
   "outputs": [
    {
     "data": {
      "text/plain": [
       "vol_BTC        0\n",
       "ret_BTC        1\n",
       "volume_BTC     0\n",
       "vol_ETH        0\n",
       "ret_ETH        1\n",
       "volume_ETH     0\n",
       "vol_USDT       0\n",
       "ret_USDT       1\n",
       "volume_USDT    0\n",
       "vol_SOL        0\n",
       "ret_SOL        1\n",
       "volume_SOL     0\n",
       "vol_ADA        0\n",
       "ret_ADA        1\n",
       "volume_ADA     0\n",
       "vol_DOT        0\n",
       "ret_DOT        1\n",
       "volume_DOT     0\n",
       "vol_AVAX       0\n",
       "ret_AVAX       1\n",
       "volume_AVAX    0\n",
       "vol_ATOM       0\n",
       "ret_ATOM       1\n",
       "volume_ATOM    0\n",
       "vol_CRV        0\n",
       "ret_CRV        1\n",
       "volume_CRV     0\n",
       "vol_AAVE       0\n",
       "ret_AAVE       1\n",
       "volume_AAVE    0\n",
       "vol_COMP       0\n",
       "ret_COMP       1\n",
       "volume_COMP    0\n",
       "dtype: int64"
      ]
     },
     "execution_count": 20,
     "metadata": {},
     "output_type": "execute_result"
    }
   ],
   "source": [
    "pd.isnull(X).sum()"
   ]
  },
  {
   "cell_type": "code",
   "execution_count": 21,
   "id": "25e646aa-20dc-4a97-aaf5-8918a32f7f29",
   "metadata": {},
   "outputs": [
    {
     "data": {
      "text/plain": [
       "{'vol_BTC': 0.028693550573573316,\n",
       " 'ret_BTC': -0.013848623804147297,\n",
       " 'volume_BTC': -0.017489398659781635,\n",
       " 'vol_ETH': 0.02357151289469286,\n",
       " 'ret_ETH': 0.03064921265933825,\n",
       " 'volume_ETH': -0.0046311735593583215,\n",
       " 'vol_USDT': 0.006850180191310921,\n",
       " 'ret_USDT': -0.044400854990527476,\n",
       " 'volume_USDT': -0.005482072192189588,\n",
       " 'vol_SOL': 0.03485259726638474,\n",
       " 'ret_SOL': -0.02985506419340651,\n",
       " 'volume_SOL': -0.017234790442534512,\n",
       " 'vol_ADA': 0.03888023343700741,\n",
       " 'ret_ADA': 0.0002492833396142092,\n",
       " 'volume_ADA': 0.007727906348465451,\n",
       " 'vol_DOT': 0.059040768451671846,\n",
       " 'ret_DOT': 0.008193946995455023,\n",
       " 'volume_DOT': -0.0025886384978023036,\n",
       " 'vol_AVAX': 0.04140851156078151,\n",
       " 'ret_AVAX': 0.01691945028976708,\n",
       " 'volume_AVAX': 0.002919506967847113,\n",
       " 'vol_ATOM': -0.0022346077856851623,\n",
       " 'ret_ATOM': 0.05546161881659775,\n",
       " 'volume_ATOM': -0.039486826377425295,\n",
       " 'vol_CRV': 0.019828890149893363,\n",
       " 'ret_CRV': -0.005844145396121401,\n",
       " 'volume_CRV': -0.02356677130326409,\n",
       " 'vol_AAVE': 0.03605077807280678,\n",
       " 'ret_AAVE': 0.01989568673206619,\n",
       " 'volume_AAVE': -0.018487737817170242,\n",
       " 'vol_COMP': 0.05984258530861503,\n",
       " 'ret_COMP': 0.020113141490153065,\n",
       " 'volume_COMP': 0.00549876460215523}"
      ]
     },
     "execution_count": 21,
     "metadata": {},
     "output_type": "execute_result"
    }
   ],
   "source": [
    "{col: y.corr(X[col]) for col in X.columns if X[col].dtype != 'object'}"
   ]
  },
  {
   "cell_type": "code",
   "execution_count": 22,
   "id": "9b7f5c81-39c9-4559-b8d8-c1eb3f955ee5",
   "metadata": {},
   "outputs": [],
   "source": [
    "from sklearn.preprocessing import StandardScaler\n",
    "from sklearn.preprocessing import QuantileTransformer\n",
    "from sklearn.decomposition import PCA\n",
    "from sklearn.impute import SimpleImputer\n",
    "\n",
    "from sklearn.base import BaseEstimator, TransformerMixin\n",
    "from sklearn.pipeline import Pipeline\n",
    "from sklearn.compose import ColumnTransformer\n",
    "\n",
    "from sklearn.tree import DecisionTreeRegressor\n",
    "from sklearn.ensemble import RandomForestRegressor\n",
    "from sklearn.linear_model import Ridge\n",
    "from sklearn import linear_model\n",
    "\n",
    "from sklearn.model_selection import cross_validate\n",
    "from sklearn.model_selection import TimeSeriesSplit\n",
    "from sklearn.metrics import mean_squared_error, make_scorer\n",
    "\n",
    "from sklearn.model_selection import learning_curve"
   ]
  },
  {
   "cell_type": "code",
   "execution_count": 23,
   "id": "b09c7b8b-d390-422a-a4b0-73d33e4648ba",
   "metadata": {},
   "outputs": [],
   "source": [
    "class FeatureSelector(BaseEstimator, TransformerMixin):\n",
    "    def __init__(self, columns):\n",
    "        self.columns = columns\n",
    "        \n",
    "    def fit(self, X, y=None):\n",
    "        return self\n",
    "    \n",
    "    def transform(self, X):\n",
    "        return X[self.columns]\n"
   ]
  },
  {
   "cell_type": "code",
   "execution_count": 24,
   "id": "be621dd3-cd62-46c1-abbf-dd64edf2893b",
   "metadata": {},
   "outputs": [],
   "source": [
    "def evaluate_model(model, X, y, test_size=0.2):\n",
    "    cv = TimeSeriesSplit(n_splits=int(y.shape[0] * test_size), test_size=1)\n",
    "    scorer = make_scorer(mean_squared_error, greater_is_better=False, squared=False)\n",
    "    \n",
    "    return np.mean(cross_validate(model, X, y, cv=cv, scoring=scorer, n_jobs=-1)['test_score'])\n",
    "    \n",
    "#     scores = []\n",
    "#     for train_idx, test_idx in cv.split(X):\n",
    "#         X_train, X_test, y_train, y_test = X.iloc[train_idx], X.iloc[test_idx], y.iloc[train_idx], y.iloc[test_idx]\n",
    "#         model.fit(X_train, y_train)\n",
    "#         score = mean_squared_error(y_test, model.predict(X_test), squared=False)\n",
    "#         scores.append(score)\n",
    "        \n",
    "#     return np.mean(scores)"
   ]
  },
  {
   "cell_type": "markdown",
   "id": "cf47ceaa-07df-4516-8470-7e7010b7e7c4",
   "metadata": {},
   "source": [
    "## Goal is to beat the model that we have made in class\n",
    "\n",
    "The score for it was **(-0.008575141851714435)**"
   ]
  },
  {
   "cell_type": "code",
   "execution_count": 25,
   "id": "214c7a4b-5c00-4ae4-9819-144d679b2985",
   "metadata": {},
   "outputs": [],
   "source": [
    "best_score_to_beat = -0.008575141851714435"
   ]
  },
  {
   "cell_type": "code",
   "execution_count": 26,
   "id": "9cadfba4-6ab6-4449-8471-fbb756492e1b",
   "metadata": {},
   "outputs": [
    {
     "data": {
      "text/plain": [
       "-0.00857597753146377"
      ]
     },
     "execution_count": 26,
     "metadata": {},
     "output_type": "execute_result"
    }
   ],
   "source": [
    "pipeline = Pipeline([\n",
    "    ('impute', SimpleImputer(missing_values=np.nan, strategy='constant', fill_value=0.)),\n",
    "    ('pca', PCA(n_components=1)),\n",
    "    ('model', Ridge(alpha=1.))\n",
    "])\n",
    "\n",
    "evaluate_model(pipeline, X, y)"
   ]
  },
  {
   "cell_type": "code",
   "execution_count": 27,
   "id": "8649d645-b27d-468e-887e-60d2c0d3c798",
   "metadata": {},
   "outputs": [
    {
     "data": {
      "text/plain": [
       "GridSearchCV(cv=TimeSeriesSplit(gap=0, max_train_size=None, n_splits=211, test_size=1),\n",
       "             estimator=Pipeline(steps=[('impute',\n",
       "                                        SimpleImputer(fill_value=0.0,\n",
       "                                                      strategy='constant')),\n",
       "                                       ('scale', StandardScaler()),\n",
       "                                       ('pca', PCA()), ('model', Ridge())]),\n",
       "             n_jobs=-1,\n",
       "             param_grid={'model__alpha': [0.1, 0.5, 1.0],\n",
       "                         'pca__n_components': [1, 5, 10, 20, 22, 30]},\n",
       "             scoring=make_scorer(mean_squared_error, greater_is_better=False, squared=False))"
      ]
     },
     "execution_count": 27,
     "metadata": {},
     "output_type": "execute_result"
    }
   ],
   "source": [
    "from sklearn.model_selection import GridSearchCV\n",
    "\n",
    "pipeline = Pipeline([\n",
    "    ('impute', SimpleImputer(missing_values=np.nan, strategy='constant', fill_value=0.)),\n",
    "    ('scale', StandardScaler()),\n",
    "    ('pca', PCA()),\n",
    "    ('model', Ridge())\n",
    "])\n",
    "\n",
    "test_size = 0.2\n",
    "cv = TimeSeriesSplit(n_splits=int(y.shape[0] * test_size), test_size=1)\n",
    "scorer = make_scorer(mean_squared_error, greater_is_better=False, squared=False)\n",
    "\n",
    "search = GridSearchCV(pipeline, {\n",
    "    'pca__n_components': [1, 5, 10, 20, 22, 30],\n",
    "    'model__alpha': [0.1, 0.5,  1.]\n",
    "}, scoring=scorer, refit=True, cv=cv, n_jobs=-1)\n",
    "search.fit(X, y)"
   ]
  },
  {
   "cell_type": "code",
   "execution_count": 28,
   "id": "6339d22f-4b5e-4ad9-aedf-4578f9da7a33",
   "metadata": {},
   "outputs": [
    {
     "data": {
      "text/plain": [
       "{'model__alpha': 1.0, 'pca__n_components': 1}"
      ]
     },
     "execution_count": 28,
     "metadata": {},
     "output_type": "execute_result"
    }
   ],
   "source": [
    "search.best_params_"
   ]
  },
  {
   "cell_type": "code",
   "execution_count": 29,
   "id": "545f14e0-827f-40f7-bbac-ea238fb2b25d",
   "metadata": {},
   "outputs": [],
   "source": [
    "best_model = search.best_estimator_"
   ]
  },
  {
   "cell_type": "code",
   "execution_count": 30,
   "id": "8af20374-29c4-428a-a8dd-bf1edb20f514",
   "metadata": {},
   "outputs": [
    {
     "data": {
      "text/plain": [
       "-0.008584664226524935"
      ]
     },
     "execution_count": 30,
     "metadata": {},
     "output_type": "execute_result"
    }
   ],
   "source": [
    "evaluate_model(best_model, X, y)"
   ]
  },
  {
   "cell_type": "markdown",
   "id": "57af40a1-3a0c-4677-8912-13190eed18af",
   "metadata": {},
   "source": [
    "### Needs to be less than(-0.008575141851714435)"
   ]
  },
  {
   "cell_type": "code",
   "execution_count": 31,
   "id": "4c40b68c-856b-4608-ad49-0a80391b7b24",
   "metadata": {},
   "outputs": [
    {
     "data": {
      "text/plain": [
       "GridSearchCV(cv=TimeSeriesSplit(gap=0, max_train_size=None, n_splits=211, test_size=1),\n",
       "             estimator=Pipeline(steps=[('impute',\n",
       "                                        SimpleImputer(fill_value=0.0,\n",
       "                                                      strategy='constant')),\n",
       "                                       ('scale', StandardScaler()),\n",
       "                                       ('pca', PCA()), ('model', Lasso())]),\n",
       "             n_jobs=-1,\n",
       "             param_grid={'model__alpha': [0.1, 0.5, 1.0],\n",
       "                         'pca__n_components': [1, 5, 10, 20, 22, 30]},\n",
       "             scoring=make_scorer(mean_squared_error, greater_is_better=False, squared=False))"
      ]
     },
     "execution_count": 31,
     "metadata": {},
     "output_type": "execute_result"
    }
   ],
   "source": [
    "from sklearn.model_selection import GridSearchCV\n",
    "\n",
    "pipeline = Pipeline([\n",
    "    ('impute', SimpleImputer(missing_values=np.nan, strategy='constant', fill_value=0.)),\n",
    "    ('scale', StandardScaler()),\n",
    "    ('pca', PCA()),\n",
    "    ('model', linear_model.Lasso())\n",
    "])\n",
    "\n",
    "test_size = 0.2\n",
    "cv = TimeSeriesSplit(n_splits=int(y.shape[0] * test_size), test_size=1)\n",
    "scorer = make_scorer(mean_squared_error, greater_is_better=False, squared=False)\n",
    "\n",
    "search = GridSearchCV(pipeline, {\n",
    "    'pca__n_components': [1, 5, 10, 20, 22, 30],\n",
    "    'model__alpha': [0.1, 0.5,  1.]\n",
    "}, scoring=scorer, refit=True, cv=cv, n_jobs=-1)\n",
    "search.fit(X, y)"
   ]
  },
  {
   "cell_type": "code",
   "execution_count": 32,
   "id": "35ccdf36-335e-4f57-9771-53659f7eaa01",
   "metadata": {},
   "outputs": [
    {
     "data": {
      "text/plain": [
       "{'model__alpha': 0.1, 'pca__n_components': 1}"
      ]
     },
     "execution_count": 32,
     "metadata": {},
     "output_type": "execute_result"
    }
   ],
   "source": [
    "search.best_params_"
   ]
  },
  {
   "cell_type": "code",
   "execution_count": 33,
   "id": "149c4ee4-f645-4c8f-bd09-81201d5a5627",
   "metadata": {},
   "outputs": [],
   "source": [
    "best_model = search.best_estimator_"
   ]
  },
  {
   "cell_type": "code",
   "execution_count": 34,
   "id": "473a411f-dbe7-4884-a469-f0341392c06e",
   "metadata": {},
   "outputs": [
    {
     "data": {
      "text/plain": [
       "-0.008570816681474391"
      ]
     },
     "execution_count": 34,
     "metadata": {},
     "output_type": "execute_result"
    }
   ],
   "source": [
    "evaluate_model(best_model, X, y)"
   ]
  },
  {
   "cell_type": "code",
   "execution_count": 35,
   "id": "4b01d2dc-5051-448c-a3c0-e6a387af1fe5",
   "metadata": {},
   "outputs": [
    {
     "data": {
      "text/plain": [
       "True"
      ]
     },
     "execution_count": 35,
     "metadata": {},
     "output_type": "execute_result"
    }
   ],
   "source": [
    "evaluate_model(best_model, X, y) > best_score_to_beat "
   ]
  },
  {
   "cell_type": "markdown",
   "id": "65b41d28-5d43-478e-8634-f5f8488a7b84",
   "metadata": {},
   "source": [
    "# Okay so I have beaten the score of the class result but by not much really"
   ]
  },
  {
   "cell_type": "code",
   "execution_count": 36,
   "id": "c31cc093-c04d-48b6-b7da-8bb0ba82a6ad",
   "metadata": {},
   "outputs": [
    {
     "data": {
      "text/plain": [
       "0.05043846871383151"
      ]
     },
     "execution_count": 36,
     "metadata": {},
     "output_type": "execute_result"
    }
   ],
   "source": [
    "(1 - (evaluate_model(best_model, X, y)/best_score_to_beat)) *100"
   ]
  },
  {
   "cell_type": "markdown",
   "id": "8a6ecb7c-39bf-4f86-927b-6053e0eb229c",
   "metadata": {},
   "source": [
    "Only by 0.05% I think that I can do better"
   ]
  },
  {
   "cell_type": "markdown",
   "id": "4a9dee56-38b9-4a92-a903-7a047ac33b5b",
   "metadata": {},
   "source": [
    "### Additional tunning"
   ]
  },
  {
   "cell_type": "code",
   "execution_count": 86,
   "id": "f721984b-f5ca-4d2c-9077-a12e15bccbd2",
   "metadata": {
    "tags": []
   },
   "outputs": [
    {
     "data": {
      "text/plain": [
       "GridSearchCV(cv=TimeSeriesSplit(gap=0, max_train_size=None, n_splits=211, test_size=1),\n",
       "             estimator=Pipeline(steps=[('impute',\n",
       "                                        SimpleImputer(fill_value=0.0,\n",
       "                                                      strategy='constant')),\n",
       "                                       ('scale', StandardScaler()),\n",
       "                                       ('pca', PCA()),\n",
       "                                       ('model', SGDRegressor())]),\n",
       "             n_jobs=-1, param_grid={'pca__n_components': [1, 5, 10, 20]},\n",
       "             scoring=make_scorer(mean_squared_error, greater_is_better=False, squared=False))"
      ]
     },
     "execution_count": 86,
     "metadata": {},
     "output_type": "execute_result"
    }
   ],
   "source": [
    "from sklearn.model_selection import GridSearchCV\n",
    "\n",
    "pipeline = Pipeline([\n",
    "    ('impute', SimpleImputer(missing_values=np.nan, strategy='constant', fill_value=0.)),\n",
    "    ('scale', StandardScaler()),\n",
    "    ('pca', PCA()),\n",
    "    ('model', linear_model.HuberRegressor())\n",
    "])\n",
    "\n",
    "test_size = 0.2\n",
    "cv = TimeSeriesSplit(n_splits=int(y.shape[0] * test_size), test_size=1)\n",
    "scorer = make_scorer(mean_squared_error, greater_is_better=False, squared=False)\n",
    "\n",
    "search = GridSearchCV(pipeline, {\n",
    "    'pca__n_components': [1, 5, 10, 20],\n",
    "    # 'model__alpha': [0.1, 0.25, 0.5,  1.],\n",
    "    # 'model__power': [0, 1, 2,  3],\n",
    "    # 'model__l1_ratio': [0.1, 0.25, 0.5,  1.]\n",
    "}, scoring=scorer, refit=True, cv=cv, n_jobs=-1)\n",
    "search.fit(X, y)"
   ]
  },
  {
   "cell_type": "code",
   "execution_count": 87,
   "id": "3c76a757-8018-49a1-8188-c4bfbe92725d",
   "metadata": {},
   "outputs": [
    {
     "data": {
      "text/plain": [
       "{'pca__n_components': 10}"
      ]
     },
     "execution_count": 87,
     "metadata": {},
     "output_type": "execute_result"
    }
   ],
   "source": [
    "search.best_params_"
   ]
  },
  {
   "cell_type": "code",
   "execution_count": 88,
   "id": "fa36a88d-afe5-492c-87f4-1e8cc4950bc4",
   "metadata": {},
   "outputs": [],
   "source": [
    "best_model = search.best_estimator_"
   ]
  },
  {
   "cell_type": "code",
   "execution_count": 89,
   "id": "a0f161e1-3fdf-4e70-8343-b6a581dc42f1",
   "metadata": {
    "tags": []
   },
   "outputs": [
    {
     "data": {
      "text/plain": [
       "-0.008628845623136422"
      ]
     },
     "execution_count": 89,
     "metadata": {},
     "output_type": "execute_result"
    }
   ],
   "source": [
    "evaluate_model(best_model, X, y)"
   ]
  },
  {
   "cell_type": "code",
   "execution_count": 90,
   "id": "2062ee0d-1c78-46ca-82e9-39ba0445c0e0",
   "metadata": {
    "tags": []
   },
   "outputs": [
    {
     "data": {
      "text/plain": [
       "False"
      ]
     },
     "execution_count": 90,
     "metadata": {},
     "output_type": "execute_result"
    }
   ],
   "source": [
    "evaluate_model(best_model, X, y) > best_score_to_beat "
   ]
  },
  {
   "cell_type": "code",
   "execution_count": 91,
   "id": "310cfc86-3b82-467c-8d36-f0605bf71176",
   "metadata": {
    "tags": []
   },
   "outputs": [
    {
     "data": {
      "text/plain": [
       "-2.422421462667468"
      ]
     },
     "execution_count": 91,
     "metadata": {},
     "output_type": "execute_result"
    }
   ],
   "source": [
    "((1 - (evaluate_model(best_model, X, y)/best_score_to_beat)) *100)"
   ]
  },
  {
   "cell_type": "code",
   "execution_count": null,
   "id": "e3822075-5862-4feb-b578-560e2e124aca",
   "metadata": {},
   "outputs": [],
   "source": []
  }
 ],
 "metadata": {
  "kernelspec": {
   "display_name": "Python 3 (ipykernel)",
   "language": "python",
   "name": "python3"
  },
  "language_info": {
   "codemirror_mode": {
    "name": "ipython",
    "version": 3
   },
   "file_extension": ".py",
   "mimetype": "text/x-python",
   "name": "python",
   "nbconvert_exporter": "python",
   "pygments_lexer": "ipython3",
   "version": "3.8.12"
  }
 },
 "nbformat": 4,
 "nbformat_minor": 5
}
