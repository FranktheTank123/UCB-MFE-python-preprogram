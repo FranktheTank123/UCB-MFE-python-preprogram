{
  "nbformat": 4,
  "nbformat_minor": 0,
  "metadata": {
    "colab": {
      "name": "Untitled8.ipynb",
      "provenance": [],
      "collapsed_sections": []
    },
    "kernelspec": {
      "name": "python3",
      "display_name": "Python 3"
    },
    "language_info": {
      "name": "python"
    }
  },
  "cells": [
    {
      "cell_type": "code",
      "execution_count": null,
      "metadata": {
        "id": "l4swnZ6t7-xO"
      },
      "outputs": [],
      "source": [
        "data_location = 'sqlite:///data.db'"
      ]
    },
    {
      "cell_type": "code",
      "source": [
        "import pandas as pd\n",
        "import numpy as np\n",
        "import matplotlib.pyplot as plt\n",
        "from functools import reduce\n",
        "\n",
        "import pickle"
      ],
      "metadata": {
        "id": "01yUT20g9l4Q"
      },
      "execution_count": null,
      "outputs": []
    },
    {
      "cell_type": "code",
      "source": [
        "def vol_ohlc(df, lookback=10):\n",
        "    o = df.open\n",
        "    h = df.high\n",
        "    l = df.low\n",
        "    c = df.close\n",
        "    \n",
        "    k = 0.34 / (1.34 + (lookback+1)/(lookback-1))\n",
        "    cc = np.log(c/c.shift(1))\n",
        "    ho = np.log(h/o)\n",
        "    lo = np.log(l/o)\n",
        "    co = np.log(c/o)\n",
        "    oc = np.log(o/c.shift(1))\n",
        "    oc_sq = oc**2\n",
        "    cc_sq = cc**2\n",
        "    rs = ho*(ho-co)+lo*(lo-co)\n",
        "    close_vol = cc_sq.rolling(lookback).sum() * (1.0 / (lookback - 1.0))\n",
        "    open_vol = oc_sq.rolling(lookback).sum() * (1.0 / (lookback - 1.0))\n",
        "    window_rs = rs.rolling(lookback).sum() * (1.0 / (lookback - 1.0))\n",
        "    result = (open_vol + k * close_vol + (1-k) * window_rs).apply(np.sqrt) * np.sqrt(252)\n",
        "    result[:lookback-1] = np.nan\n",
        "    \n",
        "    return result"
      ],
      "metadata": {
        "id": "f7q0EH-d9md6"
      },
      "execution_count": null,
      "outputs": []
    },
    {
      "cell_type": "code",
      "source": [
        "def plot_learning_curve(\n",
        "    estimator,\n",
        "    title,\n",
        "    X,\n",
        "    y,\n",
        "    axes=None,\n",
        "    ylim=None,\n",
        "    cv=None,\n",
        "    n_jobs=None,\n",
        "    train_sizes=np.linspace(0.1, 1.0, 5),\n",
        "    scoring=None\n",
        "):\n",
        "    if axes is None:\n",
        "        _, axes = plt.subplots(1, 3, figsize=(20, 5))\n",
        "\n",
        "    axes[0].set_title(title)\n",
        "    if ylim is not None:\n",
        "        axes[0].set_ylim(*ylim)\n",
        "    axes[0].set_xlabel(\"Training examples\")\n",
        "    axes[0].set_ylabel(\"Score\")\n",
        "\n",
        "    train_sizes, train_scores, test_scores, fit_times, _ = learning_curve(\n",
        "        estimator,\n",
        "        X,\n",
        "        y,\n",
        "        cv=cv,\n",
        "        n_jobs=n_jobs,\n",
        "        train_sizes=train_sizes,\n",
        "        return_times=True,\n",
        "        scoring=scoring,\n",
        "    )\n",
        "    train_scores_mean = np.mean(train_scores, axis=1)\n",
        "    train_scores_std = np.std(train_scores, axis=1)\n",
        "    test_scores_mean = np.mean(test_scores, axis=1)\n",
        "    test_scores_std = np.std(test_scores, axis=1)\n",
        "    fit_times_mean = np.mean(fit_times, axis=1)\n",
        "    fit_times_std = np.std(fit_times, axis=1)\n",
        "\n",
        "    # Plot learning curve\n",
        "    axes[0].grid()\n",
        "    axes[0].fill_between(\n",
        "        train_sizes,\n",
        "        train_scores_mean - train_scores_std,\n",
        "        train_scores_mean + train_scores_std,\n",
        "        alpha=0.1,\n",
        "        color=\"r\",\n",
        "    )\n",
        "    axes[0].fill_between(\n",
        "        train_sizes,\n",
        "        test_scores_mean - test_scores_std,\n",
        "        test_scores_mean + test_scores_std,\n",
        "        alpha=0.1,\n",
        "        color=\"g\",\n",
        "    )\n",
        "    axes[0].plot(\n",
        "        train_sizes, train_scores_mean, \"o-\", color=\"r\", label=\"Training score\"\n",
        "    )\n",
        "    axes[0].plot(\n",
        "        train_sizes, test_scores_mean, \"o-\", color=\"g\", label=\"Cross-validation score\"\n",
        "    )\n",
        "    axes[0].legend(loc=\"best\")\n",
        "\n",
        "    # Plot n_samples vs fit_times\n",
        "    axes[1].grid()\n",
        "    axes[1].plot(train_sizes, fit_times_mean, \"o-\")\n",
        "    axes[1].fill_between(\n",
        "        train_sizes,\n",
        "        fit_times_mean - fit_times_std,\n",
        "        fit_times_mean + fit_times_std,\n",
        "        alpha=0.1,\n",
        "    )\n",
        "    axes[1].set_xlabel(\"Training examples\")\n",
        "    axes[1].set_ylabel(\"fit_times\")\n",
        "    axes[1].set_title(\"Scalability of the model\")\n",
        "\n",
        "    # Plot fit_time vs score\n",
        "    fit_time_argsort = fit_times_mean.argsort()\n",
        "    fit_time_sorted = fit_times_mean[fit_time_argsort]\n",
        "    test_scores_mean_sorted = test_scores_mean[fit_time_argsort]\n",
        "    test_scores_std_sorted = test_scores_std[fit_time_argsort]\n",
        "    axes[2].grid()\n",
        "    axes[2].plot(fit_time_sorted, test_scores_mean_sorted, \"o-\")\n",
        "    axes[2].fill_between(\n",
        "        fit_time_sorted,\n",
        "        test_scores_mean_sorted - test_scores_std_sorted,\n",
        "        test_scores_mean_sorted + test_scores_std_sorted,\n",
        "        alpha=0.1,\n",
        "    )\n",
        "    axes[2].set_xlabel(\"fit_times\")\n",
        "    axes[2].set_ylabel(\"Score\")\n",
        "    axes[2].set_title(\"Performance of the model\")\n",
        "\n",
        "    return plt"
      ],
      "metadata": {
        "id": "I5eAw1jj9mmf"
      },
      "execution_count": null,
      "outputs": []
    },
    {
      "cell_type": "code",
      "source": [
        "ohlc = pd.read_sql('SELECT * FROM ohlc', data_location)\n",
        "ohlc.shape"
      ],
      "metadata": {
        "colab": {
          "base_uri": "https://localhost:8080/"
        },
        "id": "-3UcelHJ9z58",
        "outputId": "894a8251-b24f-458a-fa70-07255e0778f9"
      },
      "execution_count": null,
      "outputs": [
        {
          "output_type": "execute_result",
          "data": {
            "text/plain": [
              "(11627, 9)"
            ]
          },
          "metadata": {},
          "execution_count": 5
        }
      ]
    },
    {
      "cell_type": "code",
      "source": [
        "ohlc.head()"
      ],
      "metadata": {
        "colab": {
          "base_uri": "https://localhost:8080/",
          "height": 206
        },
        "id": "hGACuoNw941q",
        "outputId": "ff42ab79-f602-438c-8ea0-99295f360c94"
      },
      "execution_count": null,
      "outputs": [
        {
          "output_type": "execute_result",
          "data": {
            "text/html": [
              "\n",
              "  <div id=\"df-e614f359-20f6-4726-b77f-d93044c86275\">\n",
              "    <div class=\"colab-df-container\">\n",
              "      <div>\n",
              "<style scoped>\n",
              "    .dataframe tbody tr th:only-of-type {\n",
              "        vertical-align: middle;\n",
              "    }\n",
              "\n",
              "    .dataframe tbody tr th {\n",
              "        vertical-align: top;\n",
              "    }\n",
              "\n",
              "    .dataframe thead th {\n",
              "        text-align: right;\n",
              "    }\n",
              "</style>\n",
              "<table border=\"1\" class=\"dataframe\">\n",
              "  <thead>\n",
              "    <tr style=\"text-align: right;\">\n",
              "      <th></th>\n",
              "      <th>ts</th>\n",
              "      <th>open</th>\n",
              "      <th>high</th>\n",
              "      <th>low</th>\n",
              "      <th>close</th>\n",
              "      <th>volume</th>\n",
              "      <th>volumeUSD</th>\n",
              "      <th>token</th>\n",
              "      <th>chain</th>\n",
              "    </tr>\n",
              "  </thead>\n",
              "  <tbody>\n",
              "    <tr>\n",
              "      <th>0</th>\n",
              "      <td>2021-11-01 00:00:00</td>\n",
              "      <td>61421.37</td>\n",
              "      <td>61669.14</td>\n",
              "      <td>61239.60</td>\n",
              "      <td>61343.68</td>\n",
              "      <td>256.433869</td>\n",
              "      <td>1.575751e+07</td>\n",
              "      <td>BTC</td>\n",
              "      <td>BTC</td>\n",
              "    </tr>\n",
              "    <tr>\n",
              "      <th>1</th>\n",
              "      <td>2021-11-01 01:00:00</td>\n",
              "      <td>61346.17</td>\n",
              "      <td>61709.82</td>\n",
              "      <td>61171.22</td>\n",
              "      <td>61610.93</td>\n",
              "      <td>332.481185</td>\n",
              "      <td>2.044558e+07</td>\n",
              "      <td>BTC</td>\n",
              "      <td>BTC</td>\n",
              "    </tr>\n",
              "    <tr>\n",
              "      <th>2</th>\n",
              "      <td>2021-11-01 02:00:00</td>\n",
              "      <td>61610.94</td>\n",
              "      <td>61779.87</td>\n",
              "      <td>61299.89</td>\n",
              "      <td>61333.17</td>\n",
              "      <td>314.250720</td>\n",
              "      <td>1.935390e+07</td>\n",
              "      <td>BTC</td>\n",
              "      <td>BTC</td>\n",
              "    </tr>\n",
              "    <tr>\n",
              "      <th>3</th>\n",
              "      <td>2021-11-01 03:00:00</td>\n",
              "      <td>61333.17</td>\n",
              "      <td>61457.28</td>\n",
              "      <td>60050.00</td>\n",
              "      <td>60589.06</td>\n",
              "      <td>1059.931358</td>\n",
              "      <td>6.414625e+07</td>\n",
              "      <td>BTC</td>\n",
              "      <td>BTC</td>\n",
              "    </tr>\n",
              "    <tr>\n",
              "      <th>4</th>\n",
              "      <td>2021-11-01 04:00:00</td>\n",
              "      <td>60590.23</td>\n",
              "      <td>60655.00</td>\n",
              "      <td>59752.92</td>\n",
              "      <td>59971.89</td>\n",
              "      <td>621.419878</td>\n",
              "      <td>3.744744e+07</td>\n",
              "      <td>BTC</td>\n",
              "      <td>BTC</td>\n",
              "    </tr>\n",
              "  </tbody>\n",
              "</table>\n",
              "</div>\n",
              "      <button class=\"colab-df-convert\" onclick=\"convertToInteractive('df-e614f359-20f6-4726-b77f-d93044c86275')\"\n",
              "              title=\"Convert this dataframe to an interactive table.\"\n",
              "              style=\"display:none;\">\n",
              "        \n",
              "  <svg xmlns=\"http://www.w3.org/2000/svg\" height=\"24px\"viewBox=\"0 0 24 24\"\n",
              "       width=\"24px\">\n",
              "    <path d=\"M0 0h24v24H0V0z\" fill=\"none\"/>\n",
              "    <path d=\"M18.56 5.44l.94 2.06.94-2.06 2.06-.94-2.06-.94-.94-2.06-.94 2.06-2.06.94zm-11 1L8.5 8.5l.94-2.06 2.06-.94-2.06-.94L8.5 2.5l-.94 2.06-2.06.94zm10 10l.94 2.06.94-2.06 2.06-.94-2.06-.94-.94-2.06-.94 2.06-2.06.94z\"/><path d=\"M17.41 7.96l-1.37-1.37c-.4-.4-.92-.59-1.43-.59-.52 0-1.04.2-1.43.59L10.3 9.45l-7.72 7.72c-.78.78-.78 2.05 0 2.83L4 21.41c.39.39.9.59 1.41.59.51 0 1.02-.2 1.41-.59l7.78-7.78 2.81-2.81c.8-.78.8-2.07 0-2.86zM5.41 20L4 18.59l7.72-7.72 1.47 1.35L5.41 20z\"/>\n",
              "  </svg>\n",
              "      </button>\n",
              "      \n",
              "  <style>\n",
              "    .colab-df-container {\n",
              "      display:flex;\n",
              "      flex-wrap:wrap;\n",
              "      gap: 12px;\n",
              "    }\n",
              "\n",
              "    .colab-df-convert {\n",
              "      background-color: #E8F0FE;\n",
              "      border: none;\n",
              "      border-radius: 50%;\n",
              "      cursor: pointer;\n",
              "      display: none;\n",
              "      fill: #1967D2;\n",
              "      height: 32px;\n",
              "      padding: 0 0 0 0;\n",
              "      width: 32px;\n",
              "    }\n",
              "\n",
              "    .colab-df-convert:hover {\n",
              "      background-color: #E2EBFA;\n",
              "      box-shadow: 0px 1px 2px rgba(60, 64, 67, 0.3), 0px 1px 3px 1px rgba(60, 64, 67, 0.15);\n",
              "      fill: #174EA6;\n",
              "    }\n",
              "\n",
              "    [theme=dark] .colab-df-convert {\n",
              "      background-color: #3B4455;\n",
              "      fill: #D2E3FC;\n",
              "    }\n",
              "\n",
              "    [theme=dark] .colab-df-convert:hover {\n",
              "      background-color: #434B5C;\n",
              "      box-shadow: 0px 1px 3px 1px rgba(0, 0, 0, 0.15);\n",
              "      filter: drop-shadow(0px 1px 2px rgba(0, 0, 0, 0.3));\n",
              "      fill: #FFFFFF;\n",
              "    }\n",
              "  </style>\n",
              "\n",
              "      <script>\n",
              "        const buttonEl =\n",
              "          document.querySelector('#df-e614f359-20f6-4726-b77f-d93044c86275 button.colab-df-convert');\n",
              "        buttonEl.style.display =\n",
              "          google.colab.kernel.accessAllowed ? 'block' : 'none';\n",
              "\n",
              "        async function convertToInteractive(key) {\n",
              "          const element = document.querySelector('#df-e614f359-20f6-4726-b77f-d93044c86275');\n",
              "          const dataTable =\n",
              "            await google.colab.kernel.invokeFunction('convertToInteractive',\n",
              "                                                     [key], {});\n",
              "          if (!dataTable) return;\n",
              "\n",
              "          const docLinkHtml = 'Like what you see? Visit the ' +\n",
              "            '<a target=\"_blank\" href=https://colab.research.google.com/notebooks/data_table.ipynb>data table notebook</a>'\n",
              "            + ' to learn more about interactive tables.';\n",
              "          element.innerHTML = '';\n",
              "          dataTable['output_type'] = 'display_data';\n",
              "          await google.colab.output.renderOutput(dataTable, element);\n",
              "          const docLink = document.createElement('div');\n",
              "          docLink.innerHTML = docLinkHtml;\n",
              "          element.appendChild(docLink);\n",
              "        }\n",
              "      </script>\n",
              "    </div>\n",
              "  </div>\n",
              "  "
            ],
            "text/plain": [
              "                    ts      open      high  ...     volumeUSD  token  chain\n",
              "0  2021-11-01 00:00:00  61421.37  61669.14  ...  1.575751e+07    BTC    BTC\n",
              "1  2021-11-01 01:00:00  61346.17  61709.82  ...  2.044558e+07    BTC    BTC\n",
              "2  2021-11-01 02:00:00  61610.94  61779.87  ...  1.935390e+07    BTC    BTC\n",
              "3  2021-11-01 03:00:00  61333.17  61457.28  ...  6.414625e+07    BTC    BTC\n",
              "4  2021-11-01 04:00:00  60590.23  60655.00  ...  3.744744e+07    BTC    BTC\n",
              "\n",
              "[5 rows x 9 columns]"
            ]
          },
          "metadata": {},
          "execution_count": 6
        }
      ]
    },
    {
      "cell_type": "code",
      "source": [
        "ohlc.describe()"
      ],
      "metadata": {
        "colab": {
          "base_uri": "https://localhost:8080/",
          "height": 300
        },
        "id": "A5vCjIls96GM",
        "outputId": "64d3ade0-28c6-48ee-a98b-37aad36cac62"
      },
      "execution_count": null,
      "outputs": [
        {
          "output_type": "execute_result",
          "data": {
            "text/html": [
              "\n",
              "  <div id=\"df-fc781edb-7021-4369-9af5-b500edcccc5a\">\n",
              "    <div class=\"colab-df-container\">\n",
              "      <div>\n",
              "<style scoped>\n",
              "    .dataframe tbody tr th:only-of-type {\n",
              "        vertical-align: middle;\n",
              "    }\n",
              "\n",
              "    .dataframe tbody tr th {\n",
              "        vertical-align: top;\n",
              "    }\n",
              "\n",
              "    .dataframe thead th {\n",
              "        text-align: right;\n",
              "    }\n",
              "</style>\n",
              "<table border=\"1\" class=\"dataframe\">\n",
              "  <thead>\n",
              "    <tr style=\"text-align: right;\">\n",
              "      <th></th>\n",
              "      <th>open</th>\n",
              "      <th>high</th>\n",
              "      <th>low</th>\n",
              "      <th>close</th>\n",
              "      <th>volume</th>\n",
              "      <th>volumeUSD</th>\n",
              "    </tr>\n",
              "  </thead>\n",
              "  <tbody>\n",
              "    <tr>\n",
              "      <th>count</th>\n",
              "      <td>11627.000000</td>\n",
              "      <td>11627.000000</td>\n",
              "      <td>11627.000000</td>\n",
              "      <td>11627.000000</td>\n",
              "      <td>1.162700e+04</td>\n",
              "      <td>1.162700e+04</td>\n",
              "    </tr>\n",
              "    <tr>\n",
              "      <th>mean</th>\n",
              "      <td>5708.198992</td>\n",
              "      <td>5737.512791</td>\n",
              "      <td>5676.641523</td>\n",
              "      <td>5706.967946</td>\n",
              "      <td>7.782893e+05</td>\n",
              "      <td>9.847622e+06</td>\n",
              "    </tr>\n",
              "    <tr>\n",
              "      <th>std</th>\n",
              "      <td>16518.161143</td>\n",
              "      <td>16599.532113</td>\n",
              "      <td>16430.972527</td>\n",
              "      <td>16514.731530</td>\n",
              "      <td>2.057505e+06</td>\n",
              "      <td>1.769057e+07</td>\n",
              "    </tr>\n",
              "    <tr>\n",
              "      <th>min</th>\n",
              "      <td>0.999900</td>\n",
              "      <td>1.000000</td>\n",
              "      <td>0.995100</td>\n",
              "      <td>0.999900</td>\n",
              "      <td>6.713000e+00</td>\n",
              "      <td>1.960784e+03</td>\n",
              "    </tr>\n",
              "    <tr>\n",
              "      <th>25%</th>\n",
              "      <td>4.555900</td>\n",
              "      <td>4.611000</td>\n",
              "      <td>4.496050</td>\n",
              "      <td>4.554350</td>\n",
              "      <td>2.565695e+03</td>\n",
              "      <td>9.664755e+05</td>\n",
              "    </tr>\n",
              "    <tr>\n",
              "      <th>50%</th>\n",
              "      <td>92.590000</td>\n",
              "      <td>93.710000</td>\n",
              "      <td>91.000000</td>\n",
              "      <td>92.600000</td>\n",
              "      <td>4.624230e+04</td>\n",
              "      <td>3.420994e+06</td>\n",
              "    </tr>\n",
              "    <tr>\n",
              "      <th>75%</th>\n",
              "      <td>307.924500</td>\n",
              "      <td>309.700000</td>\n",
              "      <td>305.501000</td>\n",
              "      <td>307.796500</td>\n",
              "      <td>1.768436e+05</td>\n",
              "      <td>1.068309e+07</td>\n",
              "    </tr>\n",
              "    <tr>\n",
              "      <th>max</th>\n",
              "      <td>68638.470000</td>\n",
              "      <td>69000.000000</td>\n",
              "      <td>68456.500000</td>\n",
              "      <td>68639.630000</td>\n",
              "      <td>3.978895e+07</td>\n",
              "      <td>3.988035e+08</td>\n",
              "    </tr>\n",
              "  </tbody>\n",
              "</table>\n",
              "</div>\n",
              "      <button class=\"colab-df-convert\" onclick=\"convertToInteractive('df-fc781edb-7021-4369-9af5-b500edcccc5a')\"\n",
              "              title=\"Convert this dataframe to an interactive table.\"\n",
              "              style=\"display:none;\">\n",
              "        \n",
              "  <svg xmlns=\"http://www.w3.org/2000/svg\" height=\"24px\"viewBox=\"0 0 24 24\"\n",
              "       width=\"24px\">\n",
              "    <path d=\"M0 0h24v24H0V0z\" fill=\"none\"/>\n",
              "    <path d=\"M18.56 5.44l.94 2.06.94-2.06 2.06-.94-2.06-.94-.94-2.06-.94 2.06-2.06.94zm-11 1L8.5 8.5l.94-2.06 2.06-.94-2.06-.94L8.5 2.5l-.94 2.06-2.06.94zm10 10l.94 2.06.94-2.06 2.06-.94-2.06-.94-.94-2.06-.94 2.06-2.06.94z\"/><path d=\"M17.41 7.96l-1.37-1.37c-.4-.4-.92-.59-1.43-.59-.52 0-1.04.2-1.43.59L10.3 9.45l-7.72 7.72c-.78.78-.78 2.05 0 2.83L4 21.41c.39.39.9.59 1.41.59.51 0 1.02-.2 1.41-.59l7.78-7.78 2.81-2.81c.8-.78.8-2.07 0-2.86zM5.41 20L4 18.59l7.72-7.72 1.47 1.35L5.41 20z\"/>\n",
              "  </svg>\n",
              "      </button>\n",
              "      \n",
              "  <style>\n",
              "    .colab-df-container {\n",
              "      display:flex;\n",
              "      flex-wrap:wrap;\n",
              "      gap: 12px;\n",
              "    }\n",
              "\n",
              "    .colab-df-convert {\n",
              "      background-color: #E8F0FE;\n",
              "      border: none;\n",
              "      border-radius: 50%;\n",
              "      cursor: pointer;\n",
              "      display: none;\n",
              "      fill: #1967D2;\n",
              "      height: 32px;\n",
              "      padding: 0 0 0 0;\n",
              "      width: 32px;\n",
              "    }\n",
              "\n",
              "    .colab-df-convert:hover {\n",
              "      background-color: #E2EBFA;\n",
              "      box-shadow: 0px 1px 2px rgba(60, 64, 67, 0.3), 0px 1px 3px 1px rgba(60, 64, 67, 0.15);\n",
              "      fill: #174EA6;\n",
              "    }\n",
              "\n",
              "    [theme=dark] .colab-df-convert {\n",
              "      background-color: #3B4455;\n",
              "      fill: #D2E3FC;\n",
              "    }\n",
              "\n",
              "    [theme=dark] .colab-df-convert:hover {\n",
              "      background-color: #434B5C;\n",
              "      box-shadow: 0px 1px 3px 1px rgba(0, 0, 0, 0.15);\n",
              "      filter: drop-shadow(0px 1px 2px rgba(0, 0, 0, 0.3));\n",
              "      fill: #FFFFFF;\n",
              "    }\n",
              "  </style>\n",
              "\n",
              "      <script>\n",
              "        const buttonEl =\n",
              "          document.querySelector('#df-fc781edb-7021-4369-9af5-b500edcccc5a button.colab-df-convert');\n",
              "        buttonEl.style.display =\n",
              "          google.colab.kernel.accessAllowed ? 'block' : 'none';\n",
              "\n",
              "        async function convertToInteractive(key) {\n",
              "          const element = document.querySelector('#df-fc781edb-7021-4369-9af5-b500edcccc5a');\n",
              "          const dataTable =\n",
              "            await google.colab.kernel.invokeFunction('convertToInteractive',\n",
              "                                                     [key], {});\n",
              "          if (!dataTable) return;\n",
              "\n",
              "          const docLinkHtml = 'Like what you see? Visit the ' +\n",
              "            '<a target=\"_blank\" href=https://colab.research.google.com/notebooks/data_table.ipynb>data table notebook</a>'\n",
              "            + ' to learn more about interactive tables.';\n",
              "          element.innerHTML = '';\n",
              "          dataTable['output_type'] = 'display_data';\n",
              "          await google.colab.output.renderOutput(dataTable, element);\n",
              "          const docLink = document.createElement('div');\n",
              "          docLink.innerHTML = docLinkHtml;\n",
              "          element.appendChild(docLink);\n",
              "        }\n",
              "      </script>\n",
              "    </div>\n",
              "  </div>\n",
              "  "
            ],
            "text/plain": [
              "               open          high  ...        volume     volumeUSD\n",
              "count  11627.000000  11627.000000  ...  1.162700e+04  1.162700e+04\n",
              "mean    5708.198992   5737.512791  ...  7.782893e+05  9.847622e+06\n",
              "std    16518.161143  16599.532113  ...  2.057505e+06  1.769057e+07\n",
              "min        0.999900      1.000000  ...  6.713000e+00  1.960784e+03\n",
              "25%        4.555900      4.611000  ...  2.565695e+03  9.664755e+05\n",
              "50%       92.590000     93.710000  ...  4.624230e+04  3.420994e+06\n",
              "75%      307.924500    309.700000  ...  1.768436e+05  1.068309e+07\n",
              "max    68638.470000  69000.000000  ...  3.978895e+07  3.988035e+08\n",
              "\n",
              "[8 rows x 6 columns]"
            ]
          },
          "metadata": {},
          "execution_count": 7
        }
      ]
    },
    {
      "cell_type": "code",
      "source": [
        "tokens = ohlc.token.unique()"
      ],
      "metadata": {
        "id": "ix20gS4S99u1"
      },
      "execution_count": null,
      "outputs": []
    },
    {
      "cell_type": "code",
      "source": [
        "def df_merge(left, right):\n",
        "    return pd.merge(left, right, on='ts', how='inner')\n",
        "\n",
        "X = reduce(df_merge, [\n",
        "    (lambda df: \n",
        "    (\n",
        "        df\n",
        "        .assign(\n",
        "            vol=vol_ohlc(df),\n",
        "            ret=df.close.pct_change()\n",
        "        )[['ts', 'vol', 'ret']]\n",
        "        .rename(columns={\n",
        "            col: f'{col}_{token}' for col in ['ts', 'vol', 'ret'] if col != 'ts'\n",
        "        })\n",
        "    ))(ohlc[ohlc.token == token])\n",
        "    for token in tokens\n",
        "]).set_index('ts')"
      ],
      "metadata": {
        "id": "Buvcmh9u9_qA"
      },
      "execution_count": 62,
      "outputs": []
    },
    {
      "cell_type": "code",
      "source": [
        "X.shape"
      ],
      "metadata": {
        "colab": {
          "base_uri": "https://localhost:8080/"
        },
        "id": "BZRPwZYz-C34",
        "outputId": "598d94ad-6a4d-4e3f-fb14-5e9d6f14ae21"
      },
      "execution_count": 63,
      "outputs": [
        {
          "output_type": "execute_result",
          "data": {
            "text/plain": [
              "(1057, 22)"
            ]
          },
          "metadata": {},
          "execution_count": 63
        }
      ]
    },
    {
      "cell_type": "code",
      "source": [
        "X = X.dropna(axis=0)\n",
        "X.tail()"
      ],
      "metadata": {
        "colab": {
          "base_uri": "https://localhost:8080/",
          "height": 475
        },
        "id": "5i9zdCy4-Enm",
        "outputId": "90e5c2eb-f28c-4139-f6a5-d4da5d87eb8c"
      },
      "execution_count": 64,
      "outputs": [
        {
          "output_type": "execute_result",
          "data": {
            "text/html": [
              "\n",
              "  <div id=\"df-6561bb37-e222-4504-b819-c4219255b84a\">\n",
              "    <div class=\"colab-df-container\">\n",
              "      <div>\n",
              "<style scoped>\n",
              "    .dataframe tbody tr th:only-of-type {\n",
              "        vertical-align: middle;\n",
              "    }\n",
              "\n",
              "    .dataframe tbody tr th {\n",
              "        vertical-align: top;\n",
              "    }\n",
              "\n",
              "    .dataframe thead th {\n",
              "        text-align: right;\n",
              "    }\n",
              "</style>\n",
              "<table border=\"1\" class=\"dataframe\">\n",
              "  <thead>\n",
              "    <tr style=\"text-align: right;\">\n",
              "      <th></th>\n",
              "      <th>vol_BTC</th>\n",
              "      <th>ret_BTC</th>\n",
              "      <th>vol_ETH</th>\n",
              "      <th>ret_ETH</th>\n",
              "      <th>vol_USDT</th>\n",
              "      <th>ret_USDT</th>\n",
              "      <th>vol_SOL</th>\n",
              "      <th>ret_SOL</th>\n",
              "      <th>vol_ADA</th>\n",
              "      <th>ret_ADA</th>\n",
              "      <th>vol_DOT</th>\n",
              "      <th>ret_DOT</th>\n",
              "      <th>vol_AVAX</th>\n",
              "      <th>ret_AVAX</th>\n",
              "      <th>vol_ATOM</th>\n",
              "      <th>ret_ATOM</th>\n",
              "      <th>vol_CRV</th>\n",
              "      <th>ret_CRV</th>\n",
              "      <th>vol_AAVE</th>\n",
              "      <th>ret_AAVE</th>\n",
              "      <th>vol_COMP</th>\n",
              "      <th>ret_COMP</th>\n",
              "    </tr>\n",
              "    <tr>\n",
              "      <th>ts</th>\n",
              "      <th></th>\n",
              "      <th></th>\n",
              "      <th></th>\n",
              "      <th></th>\n",
              "      <th></th>\n",
              "      <th></th>\n",
              "      <th></th>\n",
              "      <th></th>\n",
              "      <th></th>\n",
              "      <th></th>\n",
              "      <th></th>\n",
              "      <th></th>\n",
              "      <th></th>\n",
              "      <th></th>\n",
              "      <th></th>\n",
              "      <th></th>\n",
              "      <th></th>\n",
              "      <th></th>\n",
              "      <th></th>\n",
              "      <th></th>\n",
              "      <th></th>\n",
              "      <th></th>\n",
              "    </tr>\n",
              "  </thead>\n",
              "  <tbody>\n",
              "    <tr>\n",
              "      <th>2021-12-14 20:00:00</th>\n",
              "      <td>0.136358</td>\n",
              "      <td>0.004810</td>\n",
              "      <td>0.158369</td>\n",
              "      <td>0.005961</td>\n",
              "      <td>0.002463</td>\n",
              "      <td>0.0001</td>\n",
              "      <td>0.216740</td>\n",
              "      <td>0.002798</td>\n",
              "      <td>0.225286</td>\n",
              "      <td>0.014437</td>\n",
              "      <td>0.225643</td>\n",
              "      <td>0.008737</td>\n",
              "      <td>0.239258</td>\n",
              "      <td>0.008227</td>\n",
              "      <td>0.254118</td>\n",
              "      <td>-0.000471</td>\n",
              "      <td>0.255464</td>\n",
              "      <td>0.003049</td>\n",
              "      <td>0.207758</td>\n",
              "      <td>0.009387</td>\n",
              "      <td>0.284268</td>\n",
              "      <td>0.006813</td>\n",
              "    </tr>\n",
              "    <tr>\n",
              "      <th>2021-12-14 21:00:00</th>\n",
              "      <td>0.142237</td>\n",
              "      <td>0.019797</td>\n",
              "      <td>0.170096</td>\n",
              "      <td>0.016737</td>\n",
              "      <td>0.002652</td>\n",
              "      <td>0.0000</td>\n",
              "      <td>0.218492</td>\n",
              "      <td>0.025892</td>\n",
              "      <td>0.224116</td>\n",
              "      <td>0.012141</td>\n",
              "      <td>0.228601</td>\n",
              "      <td>0.020472</td>\n",
              "      <td>0.241603</td>\n",
              "      <td>0.019207</td>\n",
              "      <td>0.254350</td>\n",
              "      <td>0.019303</td>\n",
              "      <td>0.263456</td>\n",
              "      <td>0.021277</td>\n",
              "      <td>0.222014</td>\n",
              "      <td>0.022490</td>\n",
              "      <td>0.281497</td>\n",
              "      <td>0.017473</td>\n",
              "    </tr>\n",
              "    <tr>\n",
              "      <th>2021-12-14 22:00:00</th>\n",
              "      <td>0.151148</td>\n",
              "      <td>0.010414</td>\n",
              "      <td>0.172081</td>\n",
              "      <td>0.004623</td>\n",
              "      <td>0.002684</td>\n",
              "      <td>0.0000</td>\n",
              "      <td>0.246122</td>\n",
              "      <td>0.015624</td>\n",
              "      <td>0.232362</td>\n",
              "      <td>0.009295</td>\n",
              "      <td>0.242160</td>\n",
              "      <td>0.009645</td>\n",
              "      <td>0.268875</td>\n",
              "      <td>0.026851</td>\n",
              "      <td>0.253472</td>\n",
              "      <td>0.012933</td>\n",
              "      <td>0.270895</td>\n",
              "      <td>0.023810</td>\n",
              "      <td>0.220598</td>\n",
              "      <td>0.006242</td>\n",
              "      <td>0.275083</td>\n",
              "      <td>0.009868</td>\n",
              "    </tr>\n",
              "    <tr>\n",
              "      <th>2021-12-14 23:00:00</th>\n",
              "      <td>0.149424</td>\n",
              "      <td>-0.000302</td>\n",
              "      <td>0.170257</td>\n",
              "      <td>-0.003195</td>\n",
              "      <td>0.002823</td>\n",
              "      <td>0.0001</td>\n",
              "      <td>0.238235</td>\n",
              "      <td>-0.010027</td>\n",
              "      <td>0.231115</td>\n",
              "      <td>-0.000157</td>\n",
              "      <td>0.234116</td>\n",
              "      <td>-0.002675</td>\n",
              "      <td>0.301778</td>\n",
              "      <td>0.032506</td>\n",
              "      <td>0.245708</td>\n",
              "      <td>-0.009576</td>\n",
              "      <td>0.268758</td>\n",
              "      <td>-0.011628</td>\n",
              "      <td>0.219474</td>\n",
              "      <td>-0.003013</td>\n",
              "      <td>0.271229</td>\n",
              "      <td>-0.000864</td>\n",
              "    </tr>\n",
              "    <tr>\n",
              "      <th>2021-12-15 00:00:00</th>\n",
              "      <td>0.143079</td>\n",
              "      <td>-0.001448</td>\n",
              "      <td>0.159883</td>\n",
              "      <td>-0.000641</td>\n",
              "      <td>0.002816</td>\n",
              "      <td>0.0000</td>\n",
              "      <td>0.228867</td>\n",
              "      <td>0.002517</td>\n",
              "      <td>0.220068</td>\n",
              "      <td>-0.007715</td>\n",
              "      <td>0.220348</td>\n",
              "      <td>-0.002682</td>\n",
              "      <td>0.296444</td>\n",
              "      <td>0.005576</td>\n",
              "      <td>0.234522</td>\n",
              "      <td>-0.003223</td>\n",
              "      <td>0.242546</td>\n",
              "      <td>-0.002941</td>\n",
              "      <td>0.213360</td>\n",
              "      <td>0.001659</td>\n",
              "      <td>0.246067</td>\n",
              "      <td>-0.001027</td>\n",
              "    </tr>\n",
              "  </tbody>\n",
              "</table>\n",
              "</div>\n",
              "      <button class=\"colab-df-convert\" onclick=\"convertToInteractive('df-6561bb37-e222-4504-b819-c4219255b84a')\"\n",
              "              title=\"Convert this dataframe to an interactive table.\"\n",
              "              style=\"display:none;\">\n",
              "        \n",
              "  <svg xmlns=\"http://www.w3.org/2000/svg\" height=\"24px\"viewBox=\"0 0 24 24\"\n",
              "       width=\"24px\">\n",
              "    <path d=\"M0 0h24v24H0V0z\" fill=\"none\"/>\n",
              "    <path d=\"M18.56 5.44l.94 2.06.94-2.06 2.06-.94-2.06-.94-.94-2.06-.94 2.06-2.06.94zm-11 1L8.5 8.5l.94-2.06 2.06-.94-2.06-.94L8.5 2.5l-.94 2.06-2.06.94zm10 10l.94 2.06.94-2.06 2.06-.94-2.06-.94-.94-2.06-.94 2.06-2.06.94z\"/><path d=\"M17.41 7.96l-1.37-1.37c-.4-.4-.92-.59-1.43-.59-.52 0-1.04.2-1.43.59L10.3 9.45l-7.72 7.72c-.78.78-.78 2.05 0 2.83L4 21.41c.39.39.9.59 1.41.59.51 0 1.02-.2 1.41-.59l7.78-7.78 2.81-2.81c.8-.78.8-2.07 0-2.86zM5.41 20L4 18.59l7.72-7.72 1.47 1.35L5.41 20z\"/>\n",
              "  </svg>\n",
              "      </button>\n",
              "      \n",
              "  <style>\n",
              "    .colab-df-container {\n",
              "      display:flex;\n",
              "      flex-wrap:wrap;\n",
              "      gap: 12px;\n",
              "    }\n",
              "\n",
              "    .colab-df-convert {\n",
              "      background-color: #E8F0FE;\n",
              "      border: none;\n",
              "      border-radius: 50%;\n",
              "      cursor: pointer;\n",
              "      display: none;\n",
              "      fill: #1967D2;\n",
              "      height: 32px;\n",
              "      padding: 0 0 0 0;\n",
              "      width: 32px;\n",
              "    }\n",
              "\n",
              "    .colab-df-convert:hover {\n",
              "      background-color: #E2EBFA;\n",
              "      box-shadow: 0px 1px 2px rgba(60, 64, 67, 0.3), 0px 1px 3px 1px rgba(60, 64, 67, 0.15);\n",
              "      fill: #174EA6;\n",
              "    }\n",
              "\n",
              "    [theme=dark] .colab-df-convert {\n",
              "      background-color: #3B4455;\n",
              "      fill: #D2E3FC;\n",
              "    }\n",
              "\n",
              "    [theme=dark] .colab-df-convert:hover {\n",
              "      background-color: #434B5C;\n",
              "      box-shadow: 0px 1px 3px 1px rgba(0, 0, 0, 0.15);\n",
              "      filter: drop-shadow(0px 1px 2px rgba(0, 0, 0, 0.3));\n",
              "      fill: #FFFFFF;\n",
              "    }\n",
              "  </style>\n",
              "\n",
              "      <script>\n",
              "        const buttonEl =\n",
              "          document.querySelector('#df-6561bb37-e222-4504-b819-c4219255b84a button.colab-df-convert');\n",
              "        buttonEl.style.display =\n",
              "          google.colab.kernel.accessAllowed ? 'block' : 'none';\n",
              "\n",
              "        async function convertToInteractive(key) {\n",
              "          const element = document.querySelector('#df-6561bb37-e222-4504-b819-c4219255b84a');\n",
              "          const dataTable =\n",
              "            await google.colab.kernel.invokeFunction('convertToInteractive',\n",
              "                                                     [key], {});\n",
              "          if (!dataTable) return;\n",
              "\n",
              "          const docLinkHtml = 'Like what you see? Visit the ' +\n",
              "            '<a target=\"_blank\" href=https://colab.research.google.com/notebooks/data_table.ipynb>data table notebook</a>'\n",
              "            + ' to learn more about interactive tables.';\n",
              "          element.innerHTML = '';\n",
              "          dataTable['output_type'] = 'display_data';\n",
              "          await google.colab.output.renderOutput(dataTable, element);\n",
              "          const docLink = document.createElement('div');\n",
              "          docLink.innerHTML = docLinkHtml;\n",
              "          element.appendChild(docLink);\n",
              "        }\n",
              "      </script>\n",
              "    </div>\n",
              "  </div>\n",
              "  "
            ],
            "text/plain": [
              "                      vol_BTC   ret_BTC   vol_ETH  ...  ret_AAVE  vol_COMP  ret_COMP\n",
              "ts                                                 ...                              \n",
              "2021-12-14 20:00:00  0.136358  0.004810  0.158369  ...  0.009387  0.284268  0.006813\n",
              "2021-12-14 21:00:00  0.142237  0.019797  0.170096  ...  0.022490  0.281497  0.017473\n",
              "2021-12-14 22:00:00  0.151148  0.010414  0.172081  ...  0.006242  0.275083  0.009868\n",
              "2021-12-14 23:00:00  0.149424 -0.000302  0.170257  ... -0.003013  0.271229 -0.000864\n",
              "2021-12-15 00:00:00  0.143079 -0.001448  0.159883  ...  0.001659  0.246067 -0.001027\n",
              "\n",
              "[5 rows x 22 columns]"
            ]
          },
          "metadata": {},
          "execution_count": 64
        }
      ]
    },
    {
      "cell_type": "code",
      "source": [
        "y = X.ret_SOL.shift(-1)[:-1]\n",
        "X = X[:-1]"
      ],
      "metadata": {
        "id": "oxBeh8lf-IsS"
      },
      "execution_count": 65,
      "outputs": []
    },
    {
      "cell_type": "code",
      "source": [
        "X.shape"
      ],
      "metadata": {
        "colab": {
          "base_uri": "https://localhost:8080/"
        },
        "id": "t8L24r0O-KnS",
        "outputId": "c9ab27ce-df87-4464-ab4f-9ae983a9d896"
      },
      "execution_count": 66,
      "outputs": [
        {
          "output_type": "execute_result",
          "data": {
            "text/plain": [
              "(1046, 22)"
            ]
          },
          "metadata": {},
          "execution_count": 66
        }
      ]
    },
    {
      "cell_type": "code",
      "source": [
        "y.shape"
      ],
      "metadata": {
        "colab": {
          "base_uri": "https://localhost:8080/"
        },
        "id": "CoIE5f_J-MEd",
        "outputId": "3b769b22-0f3b-4f8b-b939-b9fc0dde138d"
      },
      "execution_count": 67,
      "outputs": [
        {
          "output_type": "execute_result",
          "data": {
            "text/plain": [
              "(1046,)"
            ]
          },
          "metadata": {},
          "execution_count": 67
        }
      ]
    },
    {
      "cell_type": "code",
      "source": [
        "y.describe()\n"
      ],
      "metadata": {
        "colab": {
          "base_uri": "https://localhost:8080/"
        },
        "id": "jktXvOqg-OLv",
        "outputId": "9e3479a4-28e6-4ae5-9101-2a9391b6c1d7"
      },
      "execution_count": 68,
      "outputs": [
        {
          "output_type": "execute_result",
          "data": {
            "text/plain": [
              "count    1046.000000\n",
              "mean       -0.000183\n",
              "std         0.011983\n",
              "min        -0.053429\n",
              "25%        -0.007441\n",
              "50%        -0.000519\n",
              "75%         0.006684\n",
              "max         0.048298\n",
              "Name: ret_SOL, dtype: float64"
            ]
          },
          "metadata": {},
          "execution_count": 68
        }
      ]
    },
    {
      "cell_type": "code",
      "source": [
        "from pandas.plotting import scatter_matrix, autocorrelation_plot"
      ],
      "metadata": {
        "id": "gbnyloJT-PQm"
      },
      "execution_count": 69,
      "outputs": []
    },
    {
      "cell_type": "code",
      "source": [
        "autocorrelation_plot(y[1:])\n"
      ],
      "metadata": {
        "colab": {
          "base_uri": "https://localhost:8080/",
          "height": 300
        },
        "id": "9PtQ-xVA-PWZ",
        "outputId": "5cb24f9e-5566-49b3-b140-1f317bba8e9a"
      },
      "execution_count": 70,
      "outputs": [
        {
          "output_type": "execute_result",
          "data": {
            "text/plain": [
              "<matplotlib.axes._subplots.AxesSubplot at 0x7f34d655d8d0>"
            ]
          },
          "metadata": {},
          "execution_count": 70
        },
        {
          "output_type": "display_data",
          "data": {
            "image/png": "[encoded data removed]",
            "text/plain": [
              "<Figure size 432x288 with 1 Axes>"
            ]
          },
          "metadata": {
            "needs_background": "light"
          }
        }
      ]
    },
    {
      "cell_type": "code",
      "source": [
        "from sklearn.preprocessing import StandardScaler\n",
        "from sklearn.preprocessing import QuantileTransformer\n",
        "from sklearn.decomposition import PCA\n",
        "from sklearn.impute import SimpleImputer\n",
        "\n",
        "from sklearn.base import BaseEstimator, TransformerMixin\n",
        "from sklearn.pipeline import Pipeline\n",
        "from sklearn.compose import ColumnTransformer\n",
        "\n",
        "from sklearn.tree import DecisionTreeRegressor\n",
        "from sklearn.ensemble import RandomForestRegressor\n",
        "from sklearn.linear_model import Ridge\n",
        "\n",
        "from sklearn.model_selection import cross_validate\n",
        "from sklearn.model_selection import TimeSeriesSplit\n",
        "from sklearn.metrics import mean_squared_error, make_scorer\n",
        "\n",
        "from sklearn.model_selection import learning_curve"
      ],
      "metadata": {
        "id": "BCWimPPYZZCt"
      },
      "execution_count": 71,
      "outputs": []
    },
    {
      "cell_type": "code",
      "source": [
        "class FeatureSelector(BaseEstimator, TransformerMixin):\n",
        "    def __init__(self, columns):\n",
        "        self.columns = columns\n",
        "        \n",
        "    def fit(self, X, y=None):\n",
        "        return self\n",
        "    \n",
        "    def transform(self, X):\n",
        "        return X[self.columns]\n"
      ],
      "metadata": {
        "id": "HkogxY9Needm"
      },
      "execution_count": 72,
      "outputs": []
    },
    {
      "cell_type": "code",
      "source": [
        "def evaluate_model(model, X, y, test_size=0.2):\n",
        "    cv = TimeSeriesSplit(n_splits=int(y.shape[0] * test_size), test_size=1)\n",
        "    scorer = make_scorer(mean_squared_error, greater_is_better=False, squared=False)\n",
        "    \n",
        "    return np.mean(cross_validate(model, X, y, cv=cv, scoring=scorer, n_jobs=-1)['test_score'])"
      ],
      "metadata": {
        "id": "LyoUq_lLee2G"
      },
      "execution_count": 73,
      "outputs": []
    },
    {
      "cell_type": "code",
      "source": [
        "pipeline = Pipeline([\n",
        "    ('feature_selector', FeatureSelector(['ret_SOL'])),\n",
        "    ('impute', SimpleImputer(missing_values=np.nan, strategy='constant', fill_value=0.)),\n",
        "    ('scale', StandardScaler()),\n",
        "    ('model', DecisionTreeRegressor(random_state=0))\n",
        "])\n",
        "\n",
        "evaluate_model(pipeline, X, y)"
      ],
      "metadata": {
        "colab": {
          "base_uri": "https://localhost:8080/"
        },
        "id": "-X7DkzJVt0ZX",
        "outputId": "c2e82432-27e2-46f5-c872-bf032a7c0951"
      },
      "execution_count": 74,
      "outputs": [
        {
          "output_type": "execute_result",
          "data": {
            "text/plain": [
              "-0.013684637128091547"
            ]
          },
          "metadata": {},
          "execution_count": 74
        }
      ]
    },
    {
      "cell_type": "code",
      "source": [
        "pipeline = Pipeline([\n",
        "    ('feature_selector', FeatureSelector(['ret_SOL'])),\n",
        "    ('impute', SimpleImputer(missing_values=np.nan, strategy='constant', fill_value=0.)),\n",
        "    ('scale', StandardScaler()),\n",
        "    ('model', RandomForestRegressor(n_estimators=100, random_state=0))\n",
        "])\n",
        "\n",
        "evaluate_model(pipeline, X, y)"
      ],
      "metadata": {
        "colab": {
          "base_uri": "https://localhost:8080/"
        },
        "id": "j9koCpkhtxxn",
        "outputId": "352f5f0c-cc48-4ed3-fda2-a7a0a4f21f49"
      },
      "execution_count": 75,
      "outputs": [
        {
          "output_type": "execute_result",
          "data": {
            "text/plain": [
              "-0.011355964602440365"
            ]
          },
          "metadata": {},
          "execution_count": 75
        }
      ]
    },
    {
      "cell_type": "code",
      "source": [
        "pipeline = Pipeline([\n",
        "    #('feature_selector', FeatureSelector(['ret_SOL'])),\n",
        "    #('impute', SimpleImputer(missing_values=np.nan, strategy='constant', fill_value=0.)),\n",
        "    ('scale', StandardScaler()),\n",
        "    ('model', DecisionTreeRegressor(random_state=0))\n",
        "])\n",
        "\n",
        "evaluate_model(pipeline, X, y)"
      ],
      "metadata": {
        "colab": {
          "base_uri": "https://localhost:8080/"
        },
        "id": "Xwd-cgohek9n",
        "outputId": "3b39f301-b020-4dd7-ea8d-418784f68755"
      },
      "execution_count": 76,
      "outputs": [
        {
          "output_type": "execute_result",
          "data": {
            "text/plain": [
              "-0.01364374928308983"
            ]
          },
          "metadata": {},
          "execution_count": 76
        }
      ]
    },
    {
      "cell_type": "code",
      "source": [
        "pipeline = Pipeline([\n",
        "    ('impute', SimpleImputer(missing_values=np.nan, strategy='constant', fill_value=0.)),\n",
        "    ('scale', StandardScaler()),\n",
        "    ('pca', PCA(n_components=1)),\n",
        "    ('model', Ridge(alpha=1.1))\n",
        "])\n",
        "\n",
        "evaluate_model(pipeline, X, y)"
      ],
      "metadata": {
        "colab": {
          "base_uri": "https://localhost:8080/"
        },
        "id": "Ohhx7GnsujfH",
        "outputId": "bb9dd814-f84d-4ab9-e0c4-42af9f580c59"
      },
      "execution_count": 77,
      "outputs": [
        {
          "output_type": "execute_result",
          "data": {
            "text/plain": [
              "-0.008483872897977288"
            ]
          },
          "metadata": {},
          "execution_count": 77
        }
      ]
    },
    {
      "cell_type": "code",
      "source": [
        "from sklearn.model_selection import GridSearchCV\n",
        "\n",
        "pipeline = Pipeline([\n",
        "    ('impute', SimpleImputer(missing_values=np.nan, strategy='constant', fill_value=0.)),\n",
        "    ('scale', StandardScaler()),\n",
        "    ('pca', PCA(n_components=5)),\n",
        "    ('model', Ridge())\n",
        "])\n",
        "\n",
        "\n",
        "test_size = 0.2\n",
        "cv = TimeSeriesSplit(n_splits=int(y.shape[0] * test_size), test_size=1)\n",
        "scorer = make_scorer(mean_squared_error, greater_is_better=False, squared=False)\n",
        "\n",
        "search = GridSearchCV(pipeline, {\n",
        "    'pca__n_components': [1, 5, 10, 20, 22],\n",
        "    'model__alpha': [0.1, 0.5,  1.]\n",
        "}, scoring=scorer, refit=True, cv=cv, n_jobs=-1)\n",
        "search.fit(X, y)"
      ],
      "metadata": {
        "colab": {
          "base_uri": "https://localhost:8080/"
        },
        "id": "lQHrldWAfEBA",
        "outputId": "17762feb-2e61-4ff0-a136-6bb74e5922be"
      },
      "execution_count": null,
      "outputs": [
        {
          "output_type": "execute_result",
          "data": {
            "text/plain": [
              "GridSearchCV(cv=TimeSeriesSplit(gap=0, max_train_size=None, n_splits=209, test_size=1),\n",
              "             estimator=Pipeline(steps=[('impute',\n",
              "                                        SimpleImputer(fill_value=0.0,\n",
              "                                                      strategy='constant')),\n",
              "                                       ('scale', StandardScaler()),\n",
              "                                       ('pca', PCA(n_components=5)),\n",
              "                                       ('model', Ridge())]),\n",
              "             n_jobs=-1,\n",
              "             param_grid={'model__alpha': [0.1, 0.5, 1.0],\n",
              "                         'pca__n_components': [1, 5, 10, 20, 22]},\n",
              "             scoring=make_scorer(mean_squared_error, greater_is_better=False, squared=False))"
            ]
          },
          "metadata": {},
          "execution_count": 52
        }
      ]
    },
    {
      "cell_type": "code",
      "source": [
        "search.best_params_"
      ],
      "metadata": {
        "colab": {
          "base_uri": "https://localhost:8080/"
        },
        "id": "6Q4sk-ucP10m",
        "outputId": "f65679fe-cf52-44ce-dc6d-3f9382430723"
      },
      "execution_count": null,
      "outputs": [
        {
          "output_type": "execute_result",
          "data": {
            "text/plain": [
              "{'model__alpha': 1.0, 'pca__n_components': 1}"
            ]
          },
          "metadata": {},
          "execution_count": 53
        }
      ]
    },
    {
      "cell_type": "code",
      "source": [
        "best_model = search.best_estimator_\n"
      ],
      "metadata": {
        "id": "owqEL9djP49m"
      },
      "execution_count": null,
      "outputs": []
    },
    {
      "cell_type": "code",
      "source": [
        "evaluate_model(best_model, X, y)"
      ],
      "metadata": {
        "colab": {
          "base_uri": "https://localhost:8080/"
        },
        "id": "pvuLr43MP7WH",
        "outputId": "b995e367-20a9-454c-deb0-9c8bfd0c5f77"
      },
      "execution_count": null,
      "outputs": [
        {
          "output_type": "execute_result",
          "data": {
            "text/plain": [
              "-0.00850864964744906"
            ]
          },
          "metadata": {},
          "execution_count": 55
        }
      ]
    },
    {
      "cell_type": "code",
      "source": [
        "fig, axes = plt.subplots(3, 1, figsize=(10, 15))\n",
        "\n",
        "title = \"Learning curves for ridge regression\"\n",
        "\n",
        "plot_learning_curve(\n",
        "    best_model, title, X, y, axes=axes, cv=cv, n_jobs=4, scoring=scorer\n",
        ")"
      ],
      "metadata": {
        "colab": {
          "base_uri": "https://localhost:8080/",
          "height": 911
        },
        "id": "WDp6AMFgQYU9",
        "outputId": "e055d794-e9f7-4b10-cda1-3a773eb5bb24"
      },
      "execution_count": null,
      "outputs": [
        {
          "output_type": "execute_result",
          "data": {
            "text/plain": [
              "<module 'matplotlib.pyplot' from '/usr/local/lib/python3.7/dist-packages/matplotlib/pyplot.py'>"
            ]
          },
          "metadata": {},
          "execution_count": 28
        },
        {
          "output_type": "display_data",
          "data": {
            "image/png": "[encoded data removed]",
            "text/plain": [
              "<Figure size 720x1080 with 3 Axes>"
            ]
          },
          "metadata": {
            "needs_background": "light"
          }
        }
      ]
    }
  ]
}