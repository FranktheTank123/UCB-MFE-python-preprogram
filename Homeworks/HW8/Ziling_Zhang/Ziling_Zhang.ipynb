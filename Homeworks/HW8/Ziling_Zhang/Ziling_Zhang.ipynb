{
 "cells": [
  {
   "cell_type": "code",
   "execution_count": 1,
   "id": "b359e06b-20fe-49f1-a871-4a80b075771b",
   "metadata": {},
   "outputs": [],
   "source": [
    "data_location = 'sqlite:///data.db'"
   ]
  },
  {
   "cell_type": "code",
   "execution_count": 2,
   "id": "447e0ca3-3ec5-46f6-85ad-3abbadceedac",
   "metadata": {},
   "outputs": [],
   "source": [
    "import pandas as pd\n",
    "import numpy as np\n",
    "import matplotlib.pyplot as plt\n",
    "from functools import reduce\n",
    "\n",
    "import pickle"
   ]
  },
  {
   "cell_type": "code",
   "execution_count": 3,
   "id": "fe4f7db8-ca65-42c9-af00-ea9ea3e7e71b",
   "metadata": {},
   "outputs": [],
   "source": [
    "def vol_ohlc(df, lookback=10):\n",
    "    o = df.open\n",
    "    h = df.high\n",
    "    l = df.low\n",
    "    c = df.close\n",
    "    \n",
    "    k = 0.34 / (1.34 + (lookback+1)/(lookback-1))\n",
    "    cc = np.log(c/c.shift(1))\n",
    "    ho = np.log(h/o)\n",
    "    lo = np.log(l/o)\n",
    "    co = np.log(c/o)\n",
    "    oc = np.log(o/c.shift(1))\n",
    "    oc_sq = oc**2\n",
    "    cc_sq = cc**2\n",
    "    rs = ho*(ho-co)+lo*(lo-co)\n",
    "    close_vol = cc_sq.rolling(lookback).sum() * (1.0 / (lookback - 1.0))\n",
    "    open_vol = oc_sq.rolling(lookback).sum() * (1.0 / (lookback - 1.0))\n",
    "    window_rs = rs.rolling(lookback).sum() * (1.0 / (lookback - 1.0))\n",
    "    result = (open_vol + k * close_vol + (1-k) * window_rs).apply(np.sqrt) * np.sqrt(252)\n",
    "    result[:lookback-1] = np.nan\n",
    "    \n",
    "    return result"
   ]
  },
  {
   "cell_type": "code",
   "execution_count": 4,
   "id": "0e69e225-f110-4d23-8319-9c0829de944f",
   "metadata": {},
   "outputs": [],
   "source": [
    "def plot_learning_curve(\n",
    "    estimator,\n",
    "    title,\n",
    "    X,\n",
    "    y,\n",
    "    axes=None,\n",
    "    ylim=None,\n",
    "    cv=None,\n",
    "    n_jobs=None,\n",
    "    train_sizes=np.linspace(0.1, 1.0, 5),\n",
    "    scoring=None\n",
    "):\n",
    "    if axes is None:\n",
    "        _, axes = plt.subplots(1, 3, figsize=(20, 5))\n",
    "\n",
    "    axes[0].set_title(title)\n",
    "    if ylim is not None:\n",
    "        axes[0].set_ylim(*ylim)\n",
    "    axes[0].set_xlabel(\"Training examples\")\n",
    "    axes[0].set_ylabel(\"Score\")\n",
    "\n",
    "    train_sizes, train_scores, test_scores, fit_times, _ = learning_curve(\n",
    "        estimator,\n",
    "        X,\n",
    "        y,\n",
    "        cv=cv,\n",
    "        n_jobs=n_jobs,\n",
    "        train_sizes=train_sizes,\n",
    "        return_times=True,\n",
    "        scoring=scoring,\n",
    "    )\n",
    "    train_scores_mean = np.mean(train_scores, axis=1)\n",
    "    train_scores_std = np.std(train_scores, axis=1)\n",
    "    test_scores_mean = np.mean(test_scores, axis=1)\n",
    "    test_scores_std = np.std(test_scores, axis=1)\n",
    "    fit_times_mean = np.mean(fit_times, axis=1)\n",
    "    fit_times_std = np.std(fit_times, axis=1)\n",
    "\n",
    "    # Plot learning curve\n",
    "    axes[0].grid()\n",
    "    axes[0].fill_between(\n",
    "        train_sizes,\n",
    "        train_scores_mean - train_scores_std,\n",
    "        train_scores_mean + train_scores_std,\n",
    "        alpha=0.1,\n",
    "        color=\"r\",\n",
    "    )\n",
    "    axes[0].fill_between(\n",
    "        train_sizes,\n",
    "        test_scores_mean - test_scores_std,\n",
    "        test_scores_mean + test_scores_std,\n",
    "        alpha=0.1,\n",
    "        color=\"g\",\n",
    "    )\n",
    "    axes[0].plot(\n",
    "        train_sizes, train_scores_mean, \"o-\", color=\"r\", label=\"Training score\"\n",
    "    )\n",
    "    axes[0].plot(\n",
    "        train_sizes, test_scores_mean, \"o-\", color=\"g\", label=\"Cross-validation score\"\n",
    "    )\n",
    "    axes[0].legend(loc=\"best\")\n",
    "\n",
    "    # Plot n_samples vs fit_times\n",
    "    axes[1].grid()\n",
    "    axes[1].plot(train_sizes, fit_times_mean, \"o-\")\n",
    "    axes[1].fill_between(\n",
    "        train_sizes,\n",
    "        fit_times_mean - fit_times_std,\n",
    "        fit_times_mean + fit_times_std,\n",
    "        alpha=0.1,\n",
    "    )\n",
    "    axes[1].set_xlabel(\"Training examples\")\n",
    "    axes[1].set_ylabel(\"fit_times\")\n",
    "    axes[1].set_title(\"Scalability of the model\")\n",
    "\n",
    "    # Plot fit_time vs score\n",
    "    fit_time_argsort = fit_times_mean.argsort()\n",
    "    fit_time_sorted = fit_times_mean[fit_time_argsort]\n",
    "    test_scores_mean_sorted = test_scores_mean[fit_time_argsort]\n",
    "    test_scores_std_sorted = test_scores_std[fit_time_argsort]\n",
    "    axes[2].grid()\n",
    "    axes[2].plot(fit_time_sorted, test_scores_mean_sorted, \"o-\")\n",
    "    axes[2].fill_between(\n",
    "        fit_time_sorted,\n",
    "        test_scores_mean_sorted - test_scores_std_sorted,\n",
    "        test_scores_mean_sorted + test_scores_std_sorted,\n",
    "        alpha=0.1,\n",
    "    )\n",
    "    axes[2].set_xlabel(\"fit_times\")\n",
    "    axes[2].set_ylabel(\"Score\")\n",
    "    axes[2].set_title(\"Performance of the model\")\n",
    "\n",
    "    return plt"
   ]
  },
  {
   "cell_type": "code",
   "execution_count": 5,
   "id": "dffc67c5-c578-4800-9bc6-1ec3f73c57f7",
   "metadata": {},
   "outputs": [
    {
     "data": {
      "text/plain": [
       "(11627, 9)"
      ]
     },
     "execution_count": 5,
     "metadata": {},
     "output_type": "execute_result"
    }
   ],
   "source": [
    "ohlc = pd.read_sql('SELECT * FROM ohlc', data_location)\n",
    "ohlc.shape"
   ]
  },
  {
   "cell_type": "code",
   "execution_count": 6,
   "id": "28476410-fd86-4019-9380-0d99d372eaaf",
   "metadata": {},
   "outputs": [],
   "source": [
    "tokens = ohlc.token.unique()"
   ]
  },
  {
   "cell_type": "code",
   "execution_count": 7,
   "id": "57d1e907-05f6-4fa7-8448-bf7f2707a682",
   "metadata": {},
   "outputs": [],
   "source": [
    "def df_merge(left, right):\n",
    "    return pd.merge(left, right, on='ts', how='inner')\n",
    "\n",
    "X = reduce(df_merge, [\n",
    "    (lambda df: \n",
    "    (\n",
    "        df\n",
    "        .assign(\n",
    "            vol=vol_ohlc(df).fillna(0),\n",
    "            ret=df.close.pct_change()\n",
    "        )[['ts', 'vol', 'ret']]\n",
    "        .rename(columns={\n",
    "            col: f'{col}_{token}' for col in ['ts', 'vol', 'ret'] if col != 'ts'\n",
    "        })\n",
    "    ))(ohlc[ohlc.token == token])\n",
    "    for token in tokens\n",
    "]).set_index('ts')"
   ]
  },
  {
   "cell_type": "code",
   "execution_count": 8,
   "id": "54af87fb-9fc1-455f-bdaa-69f0ab6c7e33",
   "metadata": {},
   "outputs": [],
   "source": [
    "X = X.dropna(axis=0)\n",
    "X['pos_neg'] = 0\n",
    "for i in range(len(X)):\n",
    "    if X['ret_SOL'].iloc[i] >= 0:\n",
    "        X['pos_neg'] = 1\n",
    "    else:\n",
    "        X['pos_neg'] = -1"
   ]
  },
  {
   "cell_type": "code",
   "execution_count": 9,
   "id": "ee2aed34-cfc4-472a-8f3b-8cc6725f1354",
   "metadata": {},
   "outputs": [],
   "source": [
    "y = X.ret_SOL.shift(-1)[:-1]\n",
    "X = X[:-1]"
   ]
  },
  {
   "cell_type": "code",
   "execution_count": 10,
   "id": "360cd213-b7de-40ac-a9f5-247255b6ab7d",
   "metadata": {},
   "outputs": [
    {
     "name": "stdout",
     "output_type": "stream",
     "text": [
      "(1055, 23)\n",
      "(1055,)\n"
     ]
    }
   ],
   "source": [
    "print(X.shape)\n",
    "print(y.shape)"
   ]
  },
  {
   "cell_type": "code",
   "execution_count": 11,
   "id": "194a93d3-8a82-4294-aadd-5881c2ac6178",
   "metadata": {},
   "outputs": [],
   "source": [
    "from pandas.plotting import scatter_matrix, autocorrelation_plot"
   ]
  },
  {
   "cell_type": "code",
   "execution_count": 12,
   "id": "d04fc05c-04b8-42f0-8e2b-e026872fb258",
   "metadata": {},
   "outputs": [
    {
     "data": {
      "text/plain": [
       "<AxesSubplot:xlabel='Lag', ylabel='Autocorrelation'>"
      ]
     },
     "execution_count": 12,
     "metadata": {},
     "output_type": "execute_result"
    },
    {
     "data": {
      "image/png": "[encoded data removed]",
      "text/plain": [
       "<Figure size 432x288 with 1 Axes>"
      ]
     },
     "metadata": {
      "needs_background": "light"
     },
     "output_type": "display_data"
    }
   ],
   "source": [
    "autocorrelation_plot(y[1:])"
   ]
  },
  {
   "cell_type": "code",
   "execution_count": 13,
   "id": "73aab9a8-12a5-4716-b2db-01e2d05ab969",
   "metadata": {},
   "outputs": [
    {
     "data": {
      "text/plain": [
       "{'vol_BTC': 0.032226765217648445,\n",
       " 'ret_BTC': -0.013848623804147265,\n",
       " 'vol_ETH': 0.02831278607222282,\n",
       " 'ret_ETH': 0.030649212659338235,\n",
       " 'vol_USDT': 0.008052452096205455,\n",
       " 'ret_USDT': -0.0444008549905275,\n",
       " 'vol_SOL': 0.04005280885760549,\n",
       " 'ret_SOL': -0.029855064193406496,\n",
       " 'vol_ADA': 0.04312933662506501,\n",
       " 'ret_ADA': 0.00024928333961422275,\n",
       " 'vol_DOT': 0.0635877648944807,\n",
       " 'ret_DOT': 0.008193946995455026,\n",
       " 'vol_AVAX': 0.047205057272240177,\n",
       " 'ret_AVAX': 0.01691945028976708,\n",
       " 'vol_ATOM': 0.0015190192889453285,\n",
       " 'ret_ATOM': 0.055461618816597766,\n",
       " 'vol_CRV': 0.024606382287312788,\n",
       " 'ret_CRV': -0.0058441453961214284,\n",
       " 'vol_AAVE': 0.04005304517467302,\n",
       " 'ret_AAVE': 0.019895686732066226,\n",
       " 'vol_COMP': 0.06439534601970953,\n",
       " 'ret_COMP': 0.020113141490153096,\n",
       " 'pos_neg': nan}"
      ]
     },
     "execution_count": 13,
     "metadata": {},
     "output_type": "execute_result"
    }
   ],
   "source": [
    "{col: y.corr(X[col]) for col in X.columns if X[col].dtype != 'object'}"
   ]
  },
  {
   "cell_type": "code",
   "execution_count": 14,
   "id": "3e0dc82f-32ea-4928-9c89-9bd1d026ee96",
   "metadata": {},
   "outputs": [],
   "source": [
    "from sklearn.preprocessing import StandardScaler\n",
    "from sklearn.preprocessing import QuantileTransformer\n",
    "from sklearn.preprocessing import Normalizer\n",
    "from sklearn.decomposition import PCA\n",
    "from sklearn.impute import SimpleImputer\n",
    "from sklearn.preprocessing import MaxAbsScaler\n",
    "\n",
    "from sklearn.base import BaseEstimator, TransformerMixin\n",
    "from sklearn.pipeline import Pipeline\n",
    "from sklearn.compose import ColumnTransformer\n",
    "\n",
    "from sklearn.tree import DecisionTreeRegressor\n",
    "from sklearn.ensemble import RandomForestRegressor\n",
    "from sklearn.linear_model import Ridge\n",
    "\n",
    "from sklearn.model_selection import cross_validate\n",
    "from sklearn.model_selection import TimeSeriesSplit\n",
    "from sklearn.metrics import mean_squared_error, make_scorer\n",
    "\n",
    "from sklearn.model_selection import learning_curve"
   ]
  },
  {
   "cell_type": "code",
   "execution_count": 15,
   "id": "e29d8683-8bca-42ad-8f88-3da40fbbcf26",
   "metadata": {},
   "outputs": [],
   "source": [
    "class FeatureSelector(BaseEstimator, TransformerMixin):\n",
    "    def __init__(self, columns):\n",
    "        self.columns = columns\n",
    "        \n",
    "    def fit(self, X, y=None):\n",
    "        return self\n",
    "    \n",
    "    def transform(self, X):\n",
    "        return X[self.columns]\n",
    "\n"
   ]
  },
  {
   "cell_type": "code",
   "execution_count": 16,
   "id": "289f0c50-e64f-489d-95e7-14a7f4b44831",
   "metadata": {},
   "outputs": [],
   "source": [
    "def evaluate_model(model, X, y, test_size=0.2):\n",
    "    cv = TimeSeriesSplit(n_splits=int(y.shape[0] * test_size), test_size=1)\n",
    "    scorer = make_scorer(mean_squared_error, greater_is_better=False, squared=False)\n",
    "    \n",
    "    return np.mean(cross_validate(model, X, y, cv=cv, scoring=scorer, n_jobs=-1)['test_score'])"
   ]
  },
  {
   "cell_type": "code",
   "execution_count": 17,
   "id": "2f6122fa-cc4a-4b77-9197-6f3b360d5bdf",
   "metadata": {},
   "outputs": [
    {
     "data": {
      "text/plain": [
       "-0.008637215837240511"
      ]
     },
     "execution_count": 17,
     "metadata": {},
     "output_type": "execute_result"
    }
   ],
   "source": [
    "pipeline = Pipeline([\n",
    "    ('impute', SimpleImputer(missing_values=np.nan, strategy='constant', fill_value=0.)),\n",
    "    ('scale', StandardScaler()),\n",
    "    ('normalizer', Normalizer(norm='l2')),\n",
    "    ('pca', PCA(21)),\n",
    "    ('model', Ridge(alpha=1.))\n",
    "])\n",
    "\n",
    "evaluate_model(pipeline, X, y)"
   ]
  },
  {
   "cell_type": "code",
   "execution_count": 18,
   "id": "863e9487-8a24-4372-9129-f4eb1157e734",
   "metadata": {},
   "outputs": [
    {
     "data": {
      "text/plain": [
       "GridSearchCV(cv=TimeSeriesSplit(gap=0, max_train_size=None, n_splits=211, test_size=1),\n",
       "             estimator=Pipeline(steps=[('impute',\n",
       "                                        SimpleImputer(fill_value=0.0,\n",
       "                                                      strategy='constant')),\n",
       "                                       ('scale', StandardScaler()),\n",
       "                                       ('normalizer', Normalizer()),\n",
       "                                       ('pca', PCA()), ('model', Ridge())]),\n",
       "             n_jobs=-1,\n",
       "             param_grid={'model__alpha': [0.1, 0.5, 1.0],\n",
       "                         'pca__n_components': [1, 5, 10, 15, 20, 21, 22, 23]},\n",
       "             scoring=make_scorer(mean_squared_error, greater_is_better=False, squared=False))"
      ]
     },
     "execution_count": 18,
     "metadata": {},
     "output_type": "execute_result"
    }
   ],
   "source": [
    "from sklearn.model_selection import GridSearchCV\n",
    "\n",
    "pipeline = Pipeline([\n",
    "    ('impute', SimpleImputer(missing_values=np.nan, strategy='constant', fill_value=0.)),\n",
    "    ('scale', StandardScaler()),\n",
    "    ('normalizer', Normalizer(norm='l2')),\n",
    "    ('pca', PCA()),\n",
    "    ('model', Ridge())\n",
    "])\n",
    "\n",
    "test_size = 0.2\n",
    "cv = TimeSeriesSplit(n_splits=int(y.shape[0] * test_size), test_size=1)\n",
    "scorer = make_scorer(mean_squared_error, greater_is_better=False, squared=False)\n",
    "\n",
    "search = GridSearchCV(pipeline, {\n",
    "    'pca__n_components': [1, 5, 10, 15, 20, 21, 22, 23],\n",
    "    'model__alpha': [0.1, 0.5,  1.]\n",
    "}, scoring=scorer, refit=True, cv=cv, n_jobs=-1)\n",
    "search.fit(X, y)"
   ]
  },
  {
   "cell_type": "code",
   "execution_count": 19,
   "id": "fbcbf988-67a0-4d42-9805-304b9d3843f2",
   "metadata": {},
   "outputs": [
    {
     "data": {
      "text/plain": [
       "{'model__alpha': 1.0, 'pca__n_components': 1}"
      ]
     },
     "execution_count": 19,
     "metadata": {},
     "output_type": "execute_result"
    }
   ],
   "source": [
    "search.best_params_"
   ]
  },
  {
   "cell_type": "code",
   "execution_count": 20,
   "id": "c69d83e1-3ee4-469c-897e-84eaac207e76",
   "metadata": {},
   "outputs": [],
   "source": [
    "best_model = search.best_estimator_"
   ]
  },
  {
   "cell_type": "code",
   "execution_count": 21,
   "id": "83d140fa-13d2-4dd5-8d7c-bbc08e34cabf",
   "metadata": {},
   "outputs": [
    {
     "data": {
      "text/plain": [
       "-0.008599635248463284"
      ]
     },
     "execution_count": 21,
     "metadata": {},
     "output_type": "execute_result"
    }
   ],
   "source": [
    "evaluate_model(best_model, X, y)"
   ]
  },
  {
   "cell_type": "code",
   "execution_count": 22,
   "id": "6c539a08-434f-45ff-a9df-be5191ad8e7c",
   "metadata": {},
   "outputs": [
    {
     "data": {
      "text/plain": [
       "<module 'matplotlib.pyplot' from '/Users/cathy/opt/anaconda3/lib/python3.8/site-packages/matplotlib/pyplot.py'>"
      ]
     },
     "execution_count": 22,
     "metadata": {},
     "output_type": "execute_result"
    },
    {
     "data": {
      "image/png": "[encoded data removed]",
      "text/plain": [
       "<Figure size 720x1080 with 3 Axes>"
      ]
     },
     "metadata": {
      "needs_background": "light"
     },
     "output_type": "display_data"
    }
   ],
   "source": [
    "fig, axes = plt.subplots(3, 1, figsize=(10, 15))\n",
    "\n",
    "title = \"Learning curves for ridge regression\"\n",
    "\n",
    "plot_learning_curve(\n",
    "    best_model, title, X, y, axes=axes, cv=cv, n_jobs=4, scoring=scorer\n",
    ")\n",
    "\n"
   ]
  },
  {
   "cell_type": "code",
   "execution_count": null,
   "id": "d1e25b27-f18d-4586-b651-810e417b04ce",
   "metadata": {},
   "outputs": [],
   "source": []
  }
 ],
 "metadata": {
  "kernelspec": {
   "display_name": "Python 3.8.10 64-bit (conda)",
   "language": "python",
   "name": "python3810jvsc74a57bd04b586406a02f4c4e0bf16bbd40fc1f3b713774736af6181f4e21b3e599e53be0"
  },
  "language_info": {
   "codemirror_mode": {
    "name": "ipython",
    "version": 3
   },
   "file_extension": ".py",
   "mimetype": "text/x-python",
   "name": "python",
   "nbconvert_exporter": "python",
   "pygments_lexer": "ipython3",
   "version": "3.8.10"
  }
 },
 "nbformat": 4,
 "nbformat_minor": 5
}
