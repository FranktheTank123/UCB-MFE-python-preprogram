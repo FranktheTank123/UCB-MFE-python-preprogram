{
 "cells": [
  {
   "cell_type": "code",
   "execution_count": 1,
   "id": "a1febd89-39a0-4d93-ac93-54a823df5842",
   "metadata": {},
   "outputs": [],
   "source": [
    "data_location = 'sqlite:///data.db'\n",
    "import pandas as pd\n",
    "import numpy as np\n",
    "import matplotlib.pyplot as plt\n",
    "from functools import reduce\n",
    "\n",
    "import pickle"
   ]
  },
  {
   "cell_type": "code",
   "execution_count": 2,
   "id": "15c28f3d-0198-4837-a080-2eaadb4b1e46",
   "metadata": {},
   "outputs": [],
   "source": [
    "def vol_ohlc(df, lookback=10):\n",
    "    o = df.open\n",
    "    h = df.high\n",
    "    l = df.low\n",
    "    c = df.close\n",
    "    \n",
    "    k = 0.34 / (1.34 + (lookback+1)/(lookback-1))\n",
    "    cc = np.log(c/c.shift(1))\n",
    "    ho = np.log(h/o)\n",
    "    lo = np.log(l/o)\n",
    "    co = np.log(c/o)\n",
    "    oc = np.log(o/c.shift(1))\n",
    "    oc_sq = oc**2\n",
    "    cc_sq = cc**2\n",
    "    rs = ho*(ho-co)+lo*(lo-co)\n",
    "    close_vol = cc_sq.rolling(lookback).sum() * (1.0 / (lookback - 1.0))\n",
    "    open_vol = oc_sq.rolling(lookback).sum() * (1.0 / (lookback - 1.0))\n",
    "    window_rs = rs.rolling(lookback).sum() * (1.0 / (lookback - 1.0))\n",
    "    result = (open_vol + k * close_vol + (1-k) * window_rs).apply(np.sqrt) * np.sqrt(252)\n",
    "    result[:lookback-1] = np.nan\n",
    "    \n",
    "    return result"
   ]
  },
  {
   "cell_type": "code",
   "execution_count": 3,
   "id": "353f86f1-b85e-44e0-a876-6e0992fa9235",
   "metadata": {},
   "outputs": [
    {
     "data": {
      "text/plain": [
       "(11627, 9)"
      ]
     },
     "execution_count": 3,
     "metadata": {},
     "output_type": "execute_result"
    }
   ],
   "source": [
    "ohlc = pd.read_sql('SELECT * FROM ohlc', data_location)\n",
    "ohlc.shape"
   ]
  },
  {
   "cell_type": "code",
   "execution_count": 4,
   "id": "770fcf50-695a-4731-84ac-2af242f2020c",
   "metadata": {},
   "outputs": [
    {
     "data": {
      "text/plain": [
       "(1057, 22)"
      ]
     },
     "execution_count": 4,
     "metadata": {},
     "output_type": "execute_result"
    }
   ],
   "source": [
    "tokens = ohlc.token.unique()\n",
    "def df_merge(left, right):\n",
    "    return pd.merge(left, right, on='ts', how='inner')\n",
    "\n",
    "X = reduce(df_merge, [\n",
    "    (lambda df: \n",
    "    (\n",
    "        df\n",
    "        .assign(\n",
    "            vol=vol_ohlc(df).fillna(0),\n",
    "            ret=df.close.pct_change()\n",
    "        )[['ts', 'vol', 'ret']]\n",
    "        .rename(columns={\n",
    "            col: f'{col}_{token}' for col in ['ts', 'vol', 'ret'] if col != 'ts'\n",
    "        })\n",
    "    ))(ohlc[ohlc.token == token])\n",
    "    for token in tokens\n",
    "]).set_index('ts')\n",
    "X.shape"
   ]
  },
  {
   "cell_type": "code",
   "execution_count": 5,
   "id": "2e4eae90-d77c-4647-9b83-39db0682ab69",
   "metadata": {},
   "outputs": [
    {
     "data": {
      "text/plain": [
       "((1056,), (1056, 22))"
      ]
     },
     "execution_count": 5,
     "metadata": {},
     "output_type": "execute_result"
    }
   ],
   "source": [
    "y = X.ret_SOL.shift(-1)[:-1]\n",
    "X = X[:-1]\n",
    "y.shape, X.shape"
   ]
  },
  {
   "cell_type": "code",
   "execution_count": 6,
   "id": "ec339c45-fb26-4bb7-8d67-f9db5e12278f",
   "metadata": {},
   "outputs": [],
   "source": [
    "from sklearn.preprocessing import StandardScaler\n",
    "from sklearn.preprocessing import QuantileTransformer\n",
    "from sklearn.decomposition import PCA\n",
    "from sklearn.impute import SimpleImputer\n",
    "\n",
    "from sklearn.base import BaseEstimator, TransformerMixin\n",
    "from sklearn.pipeline import Pipeline\n",
    "from sklearn.compose import ColumnTransformer\n",
    "\n",
    "from sklearn.tree import DecisionTreeRegressor\n",
    "from sklearn.ensemble import RandomForestRegressor\n",
    "from sklearn.linear_model import Ridge\n",
    "\n",
    "from sklearn.model_selection import cross_validate\n",
    "from sklearn.model_selection import TimeSeriesSplit\n",
    "from sklearn.metrics import mean_squared_error, make_scorer\n",
    "\n",
    "from sklearn.model_selection import learning_curve"
   ]
  },
  {
   "cell_type": "code",
   "execution_count": 7,
   "id": "cebdccb1-ef67-4be6-a7a1-b2c13d524713",
   "metadata": {},
   "outputs": [],
   "source": [
    "class FeatureSelector(BaseEstimator, TransformerMixin):\n",
    "    def __init__(self, columns):\n",
    "        self.columns = columns\n",
    "        \n",
    "    def fit(self, X, y=None):\n",
    "        return self\n",
    "    \n",
    "    def transform(self, X):\n",
    "        return X[self.columns]\n"
   ]
  },
  {
   "cell_type": "code",
   "execution_count": 9,
   "id": "523e2a27-1d35-4ad9-a4bb-2798a2b41063",
   "metadata": {},
   "outputs": [],
   "source": [
    "def evaluate_model(model, X, y, test_size=0.2):\n",
    "    cv = TimeSeriesSplit(n_splits=int(y.shape[0] * test_size), test_size=1)\n",
    "    scorer = make_scorer(mean_squared_error, greater_is_better=False, squared=False)\n",
    "    \n",
    "    return np.mean(cross_validate(model, X, y, cv=cv, scoring=scorer, n_jobs=-1)['test_score'])"
   ]
  },
  {
   "cell_type": "code",
   "execution_count": 13,
   "id": "3161be92-3862-454b-aa39-0c0c874b0e2d",
   "metadata": {},
   "outputs": [],
   "source": [
    "class LagTermTransformer(BaseEstimator, TransformerMixin):\n",
    "    def __init__(self, nLags=1):\n",
    "        self.nLags = nLags\n",
    "        \n",
    "    def fit(self, X, y=None):\n",
    "        return self\n",
    "    \n",
    "    def transform(self, X):\n",
    "        dfs = [X]\n",
    "        for lag in range(1, self.nLags+1):\n",
    "            df = X.shift(lag)\n",
    "            df = df.rename(columns={col:col+'_lag_'+str(lag) for col in df.columns})\n",
    "            dfs.append(df)\n",
    "        return pd.concat(dfs, axis=1)"
   ]
  },
  {
   "cell_type": "code",
   "execution_count": 23,
   "id": "7f432db8-9eca-4ea0-a55c-ad79ca90c8b4",
   "metadata": {},
   "outputs": [
    {
     "data": {
      "text/plain": [
       "-0.008519984538982806"
      ]
     },
     "execution_count": 23,
     "metadata": {},
     "output_type": "execute_result"
    }
   ],
   "source": [
    "pipeline = Pipeline([\n",
    "    ('transform', LagTermTransformer(nLags=2)),\n",
    "    ('impute', SimpleImputer(missing_values=np.nan, strategy='constant', fill_value=0.)),\n",
    "    ('pca', PCA(n_components=1)),\n",
    "    ('model', Ridge(alpha=0.1))\n",
    "])\n",
    "\n",
    "evaluate_model(pipeline, X, y)"
   ]
  }
 ],
 "metadata": {
  "kernelspec": {
   "display_name": "Python 3 (ipykernel)",
   "language": "python",
   "name": "python3"
  },
  "language_info": {
   "codemirror_mode": {
    "name": "ipython",
    "version": 3
   },
   "file_extension": ".py",
   "mimetype": "text/x-python",
   "name": "python",
   "nbconvert_exporter": "python",
   "pygments_lexer": "ipython3",
   "version": "3.8.12"
  }
 },
 "nbformat": 4,
 "nbformat_minor": 5
}
