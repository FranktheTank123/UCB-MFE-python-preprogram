{
 "cells": [
  {
   "cell_type": "code",
   "execution_count": 1,
   "id": "1add4fd0-907d-4405-b536-66be1905458f",
   "metadata": {},
   "outputs": [],
   "source": [
    "data_location = 'sqlite:///../../data/data.db'"
   ]
  },
  {
   "cell_type": "code",
   "execution_count": 2,
   "id": "082aa120-4388-44e2-b9b0-739c1ff4da72",
   "metadata": {},
   "outputs": [],
   "source": [
    "import pandas as pd\n",
    "import numpy as np\n",
    "import matplotlib.pyplot as plt\n",
    "from functools import reduce\n",
    "\n",
    "import pickle"
   ]
  },
  {
   "cell_type": "code",
   "execution_count": 3,
   "id": "f21674fb-751e-4fc2-9bfb-24eaad3c4e0d",
   "metadata": {},
   "outputs": [],
   "source": [
    "def vol_ohlc(df, lookback=10):\n",
    "    o = df.open\n",
    "    h = df.high\n",
    "    l = df.low\n",
    "    c = df.close\n",
    "    \n",
    "    k = 0.34 / (1.34 + (lookback+1)/(lookback-1))\n",
    "    cc = np.log(c/c.shift(1))\n",
    "    ho = np.log(h/o)\n",
    "    lo = np.log(l/o)\n",
    "    co = np.log(c/o)\n",
    "    oc = np.log(o/c.shift(1))\n",
    "    oc_sq = oc**2\n",
    "    cc_sq = cc**2\n",
    "    rs = ho*(ho-co)+lo*(lo-co)\n",
    "    close_vol = cc_sq.rolling(lookback).sum() * (1.0 / (lookback - 1.0))\n",
    "    open_vol = oc_sq.rolling(lookback).sum() * (1.0 / (lookback - 1.0))\n",
    "    window_rs = rs.rolling(lookback).sum() * (1.0 / (lookback - 1.0))\n",
    "    result = (open_vol + k * close_vol + (1-k) * window_rs).apply(np.sqrt) * np.sqrt(252)\n",
    "    result[:lookback-1] = np.nan\n",
    "    \n",
    "    return result"
   ]
  },
  {
   "cell_type": "code",
   "execution_count": 4,
   "id": "28aef2fb-1091-457b-bc72-cf2dacacdd9b",
   "metadata": {},
   "outputs": [],
   "source": [
    "def plot_learning_curve(\n",
    "    estimator,\n",
    "    title,\n",
    "    X,\n",
    "    y,\n",
    "    axes=None,\n",
    "    ylim=None,\n",
    "    cv=None,\n",
    "    n_jobs=None,\n",
    "    train_sizes=np.linspace(0.1, 1.0, 5),\n",
    "    scoring=None\n",
    "):\n",
    "    if axes is None:\n",
    "        _, axes = plt.subplots(1, 3, figsize=(20, 5))\n",
    "\n",
    "    axes[0].set_title(title)\n",
    "    if ylim is not None:\n",
    "        axes[0].set_ylim(*ylim)\n",
    "    axes[0].set_xlabel(\"Training examples\")\n",
    "    axes[0].set_ylabel(\"Score\")\n",
    "\n",
    "    train_sizes, train_scores, test_scores, fit_times, _ = learning_curve(\n",
    "        estimator,\n",
    "        X,\n",
    "        y,\n",
    "        cv=cv,\n",
    "        n_jobs=n_jobs,\n",
    "        train_sizes=train_sizes,\n",
    "        return_times=True,\n",
    "        scoring=scoring,\n",
    "    )\n",
    "    train_scores_mean = np.mean(train_scores, axis=1)\n",
    "    train_scores_std = np.std(train_scores, axis=1)\n",
    "    test_scores_mean = np.mean(test_scores, axis=1)\n",
    "    test_scores_std = np.std(test_scores, axis=1)\n",
    "    fit_times_mean = np.mean(fit_times, axis=1)\n",
    "    fit_times_std = np.std(fit_times, axis=1)\n",
    "\n",
    "    # Plot learning curve\n",
    "    axes[0].grid()\n",
    "    axes[0].fill_between(\n",
    "        train_sizes,\n",
    "        train_scores_mean - train_scores_std,\n",
    "        train_scores_mean + train_scores_std,\n",
    "        alpha=0.1,\n",
    "        color=\"r\",\n",
    "    )\n",
    "    axes[0].fill_between(\n",
    "        train_sizes,\n",
    "        test_scores_mean - test_scores_std,\n",
    "        test_scores_mean + test_scores_std,\n",
    "        alpha=0.1,\n",
    "        color=\"g\",\n",
    "    )\n",
    "    axes[0].plot(\n",
    "        train_sizes, train_scores_mean, \"o-\", color=\"r\", label=\"Training score\"\n",
    "    )\n",
    "    axes[0].plot(\n",
    "        train_sizes, test_scores_mean, \"o-\", color=\"g\", label=\"Cross-validation score\"\n",
    "    )\n",
    "    axes[0].legend(loc=\"best\")\n",
    "\n",
    "    # Plot n_samples vs fit_times\n",
    "    axes[1].grid()\n",
    "    axes[1].plot(train_sizes, fit_times_mean, \"o-\")\n",
    "    axes[1].fill_between(\n",
    "        train_sizes,\n",
    "        fit_times_mean - fit_times_std,\n",
    "        fit_times_mean + fit_times_std,\n",
    "        alpha=0.1,\n",
    "    )\n",
    "    axes[1].set_xlabel(\"Training examples\")\n",
    "    axes[1].set_ylabel(\"fit_times\")\n",
    "    axes[1].set_title(\"Scalability of the model\")\n",
    "\n",
    "    # Plot fit_time vs score\n",
    "    fit_time_argsort = fit_times_mean.argsort()\n",
    "    fit_time_sorted = fit_times_mean[fit_time_argsort]\n",
    "    test_scores_mean_sorted = test_scores_mean[fit_time_argsort]\n",
    "    test_scores_std_sorted = test_scores_std[fit_time_argsort]\n",
    "    axes[2].grid()\n",
    "    axes[2].plot(fit_time_sorted, test_scores_mean_sorted, \"o-\")\n",
    "    axes[2].fill_between(\n",
    "        fit_time_sorted,\n",
    "        test_scores_mean_sorted - test_scores_std_sorted,\n",
    "        test_scores_mean_sorted + test_scores_std_sorted,\n",
    "        alpha=0.1,\n",
    "    )\n",
    "    axes[2].set_xlabel(\"fit_times\")\n",
    "    axes[2].set_ylabel(\"Score\")\n",
    "    axes[2].set_title(\"Performance of the model\")\n",
    "\n",
    "    return plt"
   ]
  },
  {
   "cell_type": "code",
   "execution_count": 5,
   "id": "2f198ad4-d167-4fbd-9f5a-d4150070119f",
   "metadata": {},
   "outputs": [],
   "source": [
    "ohlc = pd.read_sql('SELECT * FROM ohlc', data_location)"
   ]
  },
  {
   "cell_type": "code",
   "execution_count": 6,
   "id": "62430760-cf64-4361-92b8-6cbac065a731",
   "metadata": {},
   "outputs": [
    {
     "data": {
      "text/plain": [
       "Index(['ts', 'open', 'high', 'low', 'close', 'volume', 'volumeUSD', 'token',\n",
       "       'chain'],\n",
       "      dtype='object')"
      ]
     },
     "execution_count": 6,
     "metadata": {},
     "output_type": "execute_result"
    }
   ],
   "source": [
    "ohlc.columns"
   ]
  },
  {
   "cell_type": "code",
   "execution_count": 7,
   "id": "81ae9eeb-33c2-48e9-839e-be3a543040e4",
   "metadata": {},
   "outputs": [
    {
     "data": {
      "text/html": [
       "<div>\n",
       "<style scoped>\n",
       "    .dataframe tbody tr th:only-of-type {\n",
       "        vertical-align: middle;\n",
       "    }\n",
       "\n",
       "    .dataframe tbody tr th {\n",
       "        vertical-align: top;\n",
       "    }\n",
       "\n",
       "    .dataframe thead th {\n",
       "        text-align: right;\n",
       "    }\n",
       "</style>\n",
       "<table border=\"1\" class=\"dataframe\">\n",
       "  <thead>\n",
       "    <tr style=\"text-align: right;\">\n",
       "      <th></th>\n",
       "      <th>ts</th>\n",
       "      <th>open</th>\n",
       "      <th>high</th>\n",
       "      <th>low</th>\n",
       "      <th>close</th>\n",
       "      <th>volume</th>\n",
       "      <th>volumeUSD</th>\n",
       "      <th>token</th>\n",
       "      <th>chain</th>\n",
       "    </tr>\n",
       "  </thead>\n",
       "  <tbody>\n",
       "    <tr>\n",
       "      <th>0</th>\n",
       "      <td>2021-11-01 00:00:00</td>\n",
       "      <td>61421.37</td>\n",
       "      <td>61669.14</td>\n",
       "      <td>61239.60</td>\n",
       "      <td>61343.68</td>\n",
       "      <td>256.433869</td>\n",
       "      <td>1.575751e+07</td>\n",
       "      <td>BTC</td>\n",
       "      <td>BTC</td>\n",
       "    </tr>\n",
       "    <tr>\n",
       "      <th>1</th>\n",
       "      <td>2021-11-01 01:00:00</td>\n",
       "      <td>61346.17</td>\n",
       "      <td>61709.82</td>\n",
       "      <td>61171.22</td>\n",
       "      <td>61610.93</td>\n",
       "      <td>332.481185</td>\n",
       "      <td>2.044558e+07</td>\n",
       "      <td>BTC</td>\n",
       "      <td>BTC</td>\n",
       "    </tr>\n",
       "    <tr>\n",
       "      <th>2</th>\n",
       "      <td>2021-11-01 02:00:00</td>\n",
       "      <td>61610.94</td>\n",
       "      <td>61779.87</td>\n",
       "      <td>61299.89</td>\n",
       "      <td>61333.17</td>\n",
       "      <td>314.250720</td>\n",
       "      <td>1.935390e+07</td>\n",
       "      <td>BTC</td>\n",
       "      <td>BTC</td>\n",
       "    </tr>\n",
       "    <tr>\n",
       "      <th>3</th>\n",
       "      <td>2021-11-01 03:00:00</td>\n",
       "      <td>61333.17</td>\n",
       "      <td>61457.28</td>\n",
       "      <td>60050.00</td>\n",
       "      <td>60589.06</td>\n",
       "      <td>1059.931358</td>\n",
       "      <td>6.414625e+07</td>\n",
       "      <td>BTC</td>\n",
       "      <td>BTC</td>\n",
       "    </tr>\n",
       "    <tr>\n",
       "      <th>4</th>\n",
       "      <td>2021-11-01 04:00:00</td>\n",
       "      <td>60590.23</td>\n",
       "      <td>60655.00</td>\n",
       "      <td>59752.92</td>\n",
       "      <td>59971.89</td>\n",
       "      <td>621.419878</td>\n",
       "      <td>3.744744e+07</td>\n",
       "      <td>BTC</td>\n",
       "      <td>BTC</td>\n",
       "    </tr>\n",
       "  </tbody>\n",
       "</table>\n",
       "</div>"
      ],
      "text/plain": [
       "                    ts      open      high       low     close       volume  \\\n",
       "0  2021-11-01 00:00:00  61421.37  61669.14  61239.60  61343.68   256.433869   \n",
       "1  2021-11-01 01:00:00  61346.17  61709.82  61171.22  61610.93   332.481185   \n",
       "2  2021-11-01 02:00:00  61610.94  61779.87  61299.89  61333.17   314.250720   \n",
       "3  2021-11-01 03:00:00  61333.17  61457.28  60050.00  60589.06  1059.931358   \n",
       "4  2021-11-01 04:00:00  60590.23  60655.00  59752.92  59971.89   621.419878   \n",
       "\n",
       "      volumeUSD token chain  \n",
       "0  1.575751e+07   BTC   BTC  \n",
       "1  2.044558e+07   BTC   BTC  \n",
       "2  1.935390e+07   BTC   BTC  \n",
       "3  6.414625e+07   BTC   BTC  \n",
       "4  3.744744e+07   BTC   BTC  "
      ]
     },
     "execution_count": 7,
     "metadata": {},
     "output_type": "execute_result"
    }
   ],
   "source": [
    "ohlc.head()"
   ]
  },
  {
   "cell_type": "markdown",
   "id": "732ac132-fde0-46ef-b761-83081bbd6e69",
   "metadata": {},
   "source": [
    "# Data Formating"
   ]
  },
  {
   "cell_type": "code",
   "execution_count": 40,
   "id": "c92db90c-e4bc-41f6-966c-8de9d12a4493",
   "metadata": {},
   "outputs": [],
   "source": [
    "tokens = ohlc.token.unique()"
   ]
  },
  {
   "cell_type": "code",
   "execution_count": 41,
   "id": "9ffa3d7f-0c77-4c5d-9b03-79b0b084b21b",
   "metadata": {},
   "outputs": [
    {
     "data": {
      "text/plain": [
       "array(['BTC', 'ETH', 'USDT', 'SOL', 'ADA', 'DOT', 'AVAX', 'ATOM', 'CRV',\n",
       "       'AAVE', 'COMP'], dtype=object)"
      ]
     },
     "execution_count": 41,
     "metadata": {},
     "output_type": "execute_result"
    }
   ],
   "source": [
    "tokens"
   ]
  },
  {
   "cell_type": "code",
   "execution_count": 44,
   "id": "66590d34-c019-4c74-84eb-9fbd1b5b5835",
   "metadata": {},
   "outputs": [],
   "source": [
    "def df_merge(left, right):\n",
    "    return pd.merge(left, right, on='ts', how='inner')\n",
    "\n",
    "X = reduce(df_merge, [\n",
    "    (lambda df: \n",
    "    (\n",
    "        df\n",
    "        .assign(\n",
    "            vol=vol_ohlc(df).fillna(0),\n",
    "            ret=df.close.pct_change(),\n",
    "            amp=(df.high-df.low)/df.open,\n",
    "            vpt=df.close.pct_change()*df.volume,\n",
    "            vr=df.volume.pct_change(),\n",
    "            usvr=df.volumeUSD.pct_change()\n",
    "        )[['ts', 'vol', 'ret','amp','vpt','vr','usvr']]\n",
    "        .rename(columns={\n",
    "            col: f'{col}_{token}' for col in ['ts', 'vol', 'ret','amp','vpt','vr','usvr'] if col != 'ts'\n",
    "        })\n",
    "    ))(ohlc[ohlc.token == token])\n",
    "    for token in tokens\n",
    "]).set_index('ts')"
   ]
  },
  {
   "cell_type": "code",
   "execution_count": 48,
   "id": "9e5a2e49-40c6-4936-b410-0fbf5639d1bf",
   "metadata": {},
   "outputs": [],
   "source": [
    "X['ret_SOL_lag_1']=X.ret_SOL.shift(1)\n",
    "X['ret_SOL_lag_2']=X.ret_SOL.shift(2)\n",
    "X['ret_SOL_lag_3']=X.ret_SOL.shift(3)\n",
    "X['ret_SOL_lag_4']=X.ret_SOL.shift(4)"
   ]
  },
  {
   "cell_type": "code",
   "execution_count": 52,
   "id": "f6b8408c-6529-41c6-9e73-68bd7b85ca55",
   "metadata": {},
   "outputs": [],
   "source": [
    "X.dropna(inplace=True)"
   ]
  },
  {
   "cell_type": "code",
   "execution_count": 53,
   "id": "da810174-7582-426e-acfe-8b253e727b96",
   "metadata": {},
   "outputs": [],
   "source": [
    "y = X.ret_SOL.shift(-1)[:-1]\n",
    "X = X[:-1]"
   ]
  },
  {
   "cell_type": "code",
   "execution_count": 56,
   "id": "b6acb041-63da-4941-8f91-46b32a893217",
   "metadata": {},
   "outputs": [],
   "source": [
    "from pandas.plotting import scatter_matrix, autocorrelation_plot"
   ]
  },
  {
   "cell_type": "code",
   "execution_count": 57,
   "id": "590cf2c2-45a9-4025-a464-3ad7262c7b8d",
   "metadata": {},
   "outputs": [
    {
     "data": {
      "text/plain": [
       "<AxesSubplot:xlabel='Lag', ylabel='Autocorrelation'>"
      ]
     },
     "execution_count": 57,
     "metadata": {},
     "output_type": "execute_result"
    },
    {
     "data": {
      "image/png": "[encoded data removed]",
      "text/plain": [
       "<Figure size 432x288 with 1 Axes>"
      ]
     },
     "metadata": {
      "needs_background": "light"
     },
     "output_type": "display_data"
    }
   ],
   "source": [
    "autocorrelation_plot(y[1:])"
   ]
  },
  {
   "cell_type": "code",
   "execution_count": 58,
   "id": "8fbf41ae-a06e-4a36-aaeb-fe44a730af92",
   "metadata": {},
   "outputs": [
    {
     "data": {
      "text/plain": [
       "{'vol_BTC': 0.029171329128708005,\n",
       " 'ret_BTC': -0.01394698151357313,\n",
       " 'amp_BTC': -0.04246362816364511,\n",
       " 'vpt_BTC': 0.04350247591877672,\n",
       " 'vr_BTC': -0.043355689071020116,\n",
       " 'usvr_BTC': -0.04340452732152797,\n",
       " 'vol_ETH': 0.024175059631284548,\n",
       " 'ret_ETH': 0.03081400884371059,\n",
       " 'amp_ETH': -0.02112887149908632,\n",
       " 'vpt_ETH': 0.06881948840803039,\n",
       " 'vr_ETH': -0.046837243966107896,\n",
       " 'usvr_ETH': -0.046718027602356056,\n",
       " 'vol_USDT': 0.006946711575854997,\n",
       " 'ret_USDT': -0.04612176628476244,\n",
       " 'amp_USDT': -0.054068120270571236,\n",
       " 'vpt_USDT': -0.05491086150073893,\n",
       " 'vr_USDT': -0.04267827141974763,\n",
       " 'usvr_USDT': -0.042691387735505966,\n",
       " 'vol_SOL': 0.035720336170470594,\n",
       " 'ret_SOL': -0.029920858884712864,\n",
       " 'amp_SOL': -0.013326022250282938,\n",
       " 'vpt_SOL': -0.051103342958442606,\n",
       " 'vr_SOL': -0.05576309171304317,\n",
       " 'usvr_SOL': -0.055935062764801174,\n",
       " 'vol_ADA': 0.039598129693649536,\n",
       " 'ret_ADA': -0.0006330517962230635,\n",
       " 'amp_ADA': -0.019095356313608338,\n",
       " 'vpt_ADA': -0.03708757687148207,\n",
       " 'vr_ADA': -0.04592075749804821,\n",
       " 'usvr_ADA': -0.045967350338999194,\n",
       " 'vol_DOT': 0.06008479930708425,\n",
       " 'ret_DOT': 0.008683089831785736,\n",
       " 'amp_DOT': -0.024920282543440114,\n",
       " 'vpt_DOT': 0.01617958685800715,\n",
       " 'vr_DOT': -0.06299937644126882,\n",
       " 'usvr_DOT': -0.06288694962542482,\n",
       " 'vol_AVAX': 0.04254235926526898,\n",
       " 'ret_AVAX': 0.016237610557008814,\n",
       " 'amp_AVAX': 0.01587594822210203,\n",
       " 'vpt_AVAX': -0.003943660607234741,\n",
       " 'vr_AVAX': -0.0584745840195063,\n",
       " 'usvr_AVAX': -0.058512523467007846,\n",
       " 'vol_ATOM': -0.0020685728527630575,\n",
       " 'ret_ATOM': 0.053781998780384116,\n",
       " 'amp_ATOM': -0.043184830437073045,\n",
       " 'vpt_ATOM': -0.008042226362535437,\n",
       " 'vr_ATOM': -0.02585481834464979,\n",
       " 'usvr_ATOM': -0.025851201821016728,\n",
       " 'vol_CRV': 0.02038208351144232,\n",
       " 'ret_CRV': -0.009089094706159578,\n",
       " 'amp_CRV': -0.0393396477728348,\n",
       " 'vpt_CRV': -0.03000503778335241,\n",
       " 'vr_CRV': -0.04199141815089031,\n",
       " 'usvr_CRV': -0.04227368050655756,\n",
       " 'vol_AAVE': 0.03668625948636694,\n",
       " 'ret_AAVE': 0.019898530370595014,\n",
       " 'amp_AAVE': -0.020295470180918877,\n",
       " 'vpt_AAVE': 0.03232451288065002,\n",
       " 'vr_AAVE': -0.03410960964494217,\n",
       " 'usvr_AAVE': -0.03432387519846649,\n",
       " 'vol_COMP': 0.06089849702985082,\n",
       " 'ret_COMP': 0.020165803431935782,\n",
       " 'amp_COMP': -0.018475657974775985,\n",
       " 'vpt_COMP': 0.0058755376335628915,\n",
       " 'vr_COMP': -0.04690172292318974,\n",
       " 'usvr_COMP': -0.0469216165757701,\n",
       " 'ret_SOL_lag_1': -0.007046591508885142,\n",
       " 'ret_SOL_lag_2': -0.004092633215538418,\n",
       " 'ret_SOL_lag_3': -0.0006863822571023157,\n",
       " 'ret_SOL_lag_4': -0.03656793320807344}"
      ]
     },
     "execution_count": 58,
     "metadata": {},
     "output_type": "execute_result"
    }
   ],
   "source": [
    "{col: y.corr(X[col]) for col in X.columns if X[col].dtype != 'object'}"
   ]
  },
  {
   "cell_type": "code",
   "execution_count": 60,
   "id": "952d4970-8dd6-4527-8c53-a2e71983d207",
   "metadata": {},
   "outputs": [
    {
     "data": {
      "text/plain": [
       "array([0], dtype=int64)"
      ]
     },
     "execution_count": 60,
     "metadata": {},
     "output_type": "execute_result"
    }
   ],
   "source": [
    "pd.isnull(X).sum().unique()"
   ]
  },
  {
   "cell_type": "markdown",
   "id": "fb76a397-b327-491f-b733-18d75e260941",
   "metadata": {},
   "source": [
    "# Modeling"
   ]
  },
  {
   "cell_type": "code",
   "execution_count": 73,
   "id": "83369c1f-1215-42fe-83e1-11bd12cb8409",
   "metadata": {},
   "outputs": [],
   "source": [
    "from sklearn.preprocessing import StandardScaler\n",
    "from sklearn.preprocessing import QuantileTransformer\n",
    "from sklearn.decomposition import PCA\n",
    "from sklearn.impute import SimpleImputer\n",
    "\n",
    "from sklearn.base import BaseEstimator, TransformerMixin\n",
    "from sklearn.pipeline import Pipeline\n",
    "from sklearn.compose import ColumnTransformer\n",
    "\n",
    "from sklearn.tree import DecisionTreeRegressor\n",
    "from sklearn.ensemble import RandomForestRegressor\n",
    "from sklearn.linear_model import Ridge\n",
    "import xgboost as xgb\n",
    "\n",
    "from sklearn.model_selection import cross_validate\n",
    "from sklearn.model_selection import TimeSeriesSplit\n",
    "from sklearn.metrics import mean_squared_error, make_scorer\n",
    "\n",
    "from sklearn.model_selection import learning_curve"
   ]
  },
  {
   "cell_type": "code",
   "execution_count": 62,
   "id": "b488107c-922f-4859-970e-2ac14c85d3a9",
   "metadata": {},
   "outputs": [],
   "source": [
    "class FeatureSelector(BaseEstimator, TransformerMixin):\n",
    "    def __init__(self, columns):\n",
    "        self.columns = columns\n",
    "        \n",
    "    def fit(self, X, y=None):\n",
    "        return self\n",
    "    \n",
    "    def transform(self, X):\n",
    "        return X[self.columns]\n"
   ]
  },
  {
   "cell_type": "code",
   "execution_count": 82,
   "id": "64b7356f-eab8-422d-8db7-9e5891a5ea54",
   "metadata": {},
   "outputs": [],
   "source": [
    "def evaluate_model(model, X, y, test_size=0.2):\n",
    "    cv = TimeSeriesSplit(n_splits=int(y.shape[0] * test_size), test_size=1)\n",
    "    scorer = make_scorer(mean_squared_error, greater_is_better=False, squared=False)\n",
    "    \n",
    "    return np.mean(cross_validate(model, X, y, cv=cv, scoring=scorer, n_jobs=-1)['test_score'])"
   ]
  },
  {
   "cell_type": "markdown",
   "id": "19c59fe6-9ef3-4b7c-b9bc-7e2c4befcbde",
   "metadata": {},
   "source": [
    "If we use the xgboost model:"
   ]
  },
  {
   "cell_type": "code",
   "execution_count": 109,
   "id": "856b2d65-ed19-4244-9577-93c86b143774",
   "metadata": {},
   "outputs": [
    {
     "data": {
      "text/plain": [
       "-0.008508312400340499"
      ]
     },
     "execution_count": 109,
     "metadata": {},
     "output_type": "execute_result"
    }
   ],
   "source": [
    "param={\"max_depth\":2,\n",
    "      \"learning_rate\":0.1,\n",
    "      \"n_estimators\":250,\n",
    "      \"objective\":\"reg:linear\",\n",
    "      \"booster\":\"gbtree\",\n",
    "      \"gamma\":0.05,\n",
    "      \"subsample\":0.7,\n",
    "      \"colsample_bytree\":0.75,\n",
    "      \"reg_alpha\":0.25,\n",
    "      \"random_state\":0}\n",
    "pipeline = Pipeline([\n",
    "    ('impute', SimpleImputer(missing_values=np.nan, strategy='constant', fill_value=0.)),\n",
    "    #('pca', PCA(n_components=55)),\n",
    "    ('model', xgb.XGBRegressor(**param))\n",
    "])\n",
    "\n",
    "evaluate_model(pipeline, X, y)"
   ]
  },
  {
   "cell_type": "markdown",
   "id": "9cbca7d9-9f8a-4d78-9068-5bc83abd2056",
   "metadata": {},
   "source": [
    "If we use the best model from the class"
   ]
  },
  {
   "cell_type": "code",
   "execution_count": 110,
   "id": "f6612803-bb36-4f0e-8dea-01cfc4f6c811",
   "metadata": {},
   "outputs": [
    {
     "data": {
      "text/plain": [
       "GridSearchCV(cv=TimeSeriesSplit(gap=0, max_train_size=None, n_splits=210, test_size=1),\n",
       "             estimator=Pipeline(steps=[('impute',\n",
       "                                        SimpleImputer(fill_value=0.0,\n",
       "                                                      strategy='constant')),\n",
       "                                       ('scale', StandardScaler()),\n",
       "                                       ('pca', PCA()), ('model', Ridge())]),\n",
       "             n_jobs=-1,\n",
       "             param_grid={'model__alpha': [0.1, 0.5, 1.0],\n",
       "                         'pca__n_components': [1, 5, 10, 20, 22, 25, 35, 45,\n",
       "                                               55]},\n",
       "             scoring=make_scorer(mean_squared_error, greater_is_better=False, squared=False))"
      ]
     },
     "execution_count": 110,
     "metadata": {},
     "output_type": "execute_result"
    }
   ],
   "source": [
    "from sklearn.model_selection import GridSearchCV\n",
    "\n",
    "pipeline = Pipeline([\n",
    "    ('impute', SimpleImputer(missing_values=np.nan, strategy='constant', fill_value=0.)),\n",
    "    ('scale', StandardScaler()),\n",
    "    ('pca', PCA()),\n",
    "    ('model', Ridge())\n",
    "])\n",
    "\n",
    "test_size = 0.2\n",
    "cv = TimeSeriesSplit(n_splits=int(y.shape[0] * test_size), test_size=1)\n",
    "scorer = make_scorer(mean_squared_error, greater_is_better=False, squared=False)\n",
    "\n",
    "search = GridSearchCV(pipeline, {\n",
    "    'pca__n_components': [1, 5, 10, 20, 22, 25,35,45,55],\n",
    "    'model__alpha': [0.1, 0.5,  1.]\n",
    "}, scoring=scorer, refit=True, cv=cv, n_jobs=-1)\n",
    "search.fit(X, y)"
   ]
  },
  {
   "cell_type": "code",
   "execution_count": 111,
   "id": "ce5fd307-54df-4990-9b67-b3d4f0794bef",
   "metadata": {},
   "outputs": [
    {
     "data": {
      "text/plain": [
       "{'model__alpha': 0.5, 'pca__n_components': 45}"
      ]
     },
     "execution_count": 111,
     "metadata": {},
     "output_type": "execute_result"
    }
   ],
   "source": [
    "search.best_params_"
   ]
  },
  {
   "cell_type": "code",
   "execution_count": 112,
   "id": "61dc1bcf-60c5-42a6-afff-78a0b533c947",
   "metadata": {},
   "outputs": [],
   "source": [
    "best_model = search.best_estimator_"
   ]
  },
  {
   "cell_type": "code",
   "execution_count": 113,
   "id": "c2ef67e8-867c-46f3-a9c8-e0693e283787",
   "metadata": {},
   "outputs": [
    {
     "data": {
      "text/plain": [
       "-0.008357071401216838"
      ]
     },
     "execution_count": 113,
     "metadata": {},
     "output_type": "execute_result"
    }
   ],
   "source": [
    "evaluate_model(best_model, X, y)"
   ]
  },
  {
   "cell_type": "code",
   "execution_count": 114,
   "id": "3023d7f9-9622-432b-84ac-70a146274551",
   "metadata": {},
   "outputs": [
    {
     "data": {
      "text/plain": [
       "<module 'matplotlib.pyplot' from 'D:\\\\anaconda\\\\envs\\\\HW2\\\\lib\\\\site-packages\\\\matplotlib\\\\pyplot.py'>"
      ]
     },
     "execution_count": 114,
     "metadata": {},
     "output_type": "execute_result"
    },
    {
     "data": {
      "image/png": "[encoded data removed]",
      "text/plain": [
       "<Figure size 720x1080 with 3 Axes>"
      ]
     },
     "metadata": {
      "needs_background": "light"
     },
     "output_type": "display_data"
    }
   ],
   "source": [
    "fig, axes = plt.subplots(3, 1, figsize=(10, 15))\n",
    "\n",
    "title = \"Learning curves for ridge regression\"\n",
    "\n",
    "plot_learning_curve(\n",
    "    best_model, title, X, y, axes=axes, cv=cv, n_jobs=-1, scoring=scorer\n",
    ")\n"
   ]
  },
  {
   "cell_type": "code",
   "execution_count": 115,
   "id": "1caac4ce-ba89-46c9-9ddf-545e7fac1a57",
   "metadata": {},
   "outputs": [],
   "source": [
    "pickle.dump(best_model, open('best_model.pkl', 'wb'))"
   ]
  },
  {
   "cell_type": "code",
   "execution_count": null,
   "id": "f6388391-753f-4e6c-b668-3ec09029ff7b",
   "metadata": {},
   "outputs": [],
   "source": []
  }
 ],
 "metadata": {
  "kernelspec": {
   "display_name": "Python 3 (ipykernel)",
   "language": "python",
   "name": "python3"
  },
  "language_info": {
   "codemirror_mode": {
    "name": "ipython",
    "version": 3
   },
   "file_extension": ".py",
   "mimetype": "text/x-python",
   "name": "python",
   "nbconvert_exporter": "python",
   "pygments_lexer": "ipython3",
   "version": "3.8.12"
  }
 },
 "nbformat": 4,
 "nbformat_minor": 5
}
