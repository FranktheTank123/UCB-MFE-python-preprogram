{
 "cells": [
  {
   "cell_type": "markdown",
   "metadata": {},
   "source": [
    "## 1. Import Data"
   ]
  },
  {
   "cell_type": "code",
   "execution_count": 1,
   "metadata": {},
   "outputs": [],
   "source": [
    "import requests\n",
    "import pandas as pd\n",
    "import numpy as np\n",
    "import matplotlib.pyplot as plt\n",
    "from functools import reduce\n",
    "\n",
    "%matplotlib inline\n",
    "\n",
    "\n",
    "df = pd.read_csv('hw3.csv')\n"
   ]
  },
  {
   "cell_type": "markdown",
   "metadata": {},
   "source": [
    "## 2. Understanding Data"
   ]
  },
  {
   "cell_type": "code",
   "execution_count": 2,
   "metadata": {},
   "outputs": [
    {
     "data": {
      "text/html": [
       "<div>\n",
       "<style scoped>\n",
       "    .dataframe tbody tr th:only-of-type {\n",
       "        vertical-align: middle;\n",
       "    }\n",
       "\n",
       "    .dataframe tbody tr th {\n",
       "        vertical-align: top;\n",
       "    }\n",
       "\n",
       "    .dataframe thead th {\n",
       "        text-align: right;\n",
       "    }\n",
       "</style>\n",
       "<table border=\"1\" class=\"dataframe\">\n",
       "  <thead>\n",
       "    <tr style=\"text-align: right;\">\n",
       "      <th></th>\n",
       "      <th>ts</th>\n",
       "      <th>open</th>\n",
       "      <th>high</th>\n",
       "      <th>low</th>\n",
       "      <th>close</th>\n",
       "      <th>volume</th>\n",
       "      <th>volumeUSD</th>\n",
       "      <th>token</th>\n",
       "      <th>chain</th>\n",
       "    </tr>\n",
       "  </thead>\n",
       "  <tbody>\n",
       "    <tr>\n",
       "      <th>0</th>\n",
       "      <td>2021-12-02 14:00:00</td>\n",
       "      <td>22.4150</td>\n",
       "      <td>22.4913</td>\n",
       "      <td>22.0816</td>\n",
       "      <td>22.3516</td>\n",
       "      <td>31502.151631</td>\n",
       "      <td>NaN</td>\n",
       "      <td>UNI</td>\n",
       "      <td>ETH</td>\n",
       "    </tr>\n",
       "    <tr>\n",
       "      <th>1</th>\n",
       "      <td>2021-12-02 23:00:00</td>\n",
       "      <td>4.8043</td>\n",
       "      <td>4.8043</td>\n",
       "      <td>4.7426</td>\n",
       "      <td>4.7806</td>\n",
       "      <td>73686.230000</td>\n",
       "      <td>NaN</td>\n",
       "      <td>CRV</td>\n",
       "      <td>ETH</td>\n",
       "    </tr>\n",
       "    <tr>\n",
       "      <th>2</th>\n",
       "      <td>2021-12-10 15:00:00</td>\n",
       "      <td>182.4900</td>\n",
       "      <td>NaN</td>\n",
       "      <td>175.2100</td>\n",
       "      <td>175.8600</td>\n",
       "      <td>73736.747000</td>\n",
       "      <td>NaN</td>\n",
       "      <td>SOL</td>\n",
       "      <td>SOL</td>\n",
       "    </tr>\n",
       "    <tr>\n",
       "      <th>3</th>\n",
       "      <td>2021-12-10 18:00:00</td>\n",
       "      <td>3978.4300</td>\n",
       "      <td>3989.7400</td>\n",
       "      <td>3932.0000</td>\n",
       "      <td>3972.3400</td>\n",
       "      <td>18508.040102</td>\n",
       "      <td>NaN</td>\n",
       "      <td>ETH</td>\n",
       "      <td>ETH</td>\n",
       "    </tr>\n",
       "    <tr>\n",
       "      <th>4</th>\n",
       "      <td>2021-12-08 21:00:00</td>\n",
       "      <td>193.3240</td>\n",
       "      <td>194.2420</td>\n",
       "      <td>192.5640</td>\n",
       "      <td>193.1540</td>\n",
       "      <td>69426.909000</td>\n",
       "      <td>NaN</td>\n",
       "      <td>SOL</td>\n",
       "      <td>SOL</td>\n",
       "    </tr>\n",
       "  </tbody>\n",
       "</table>\n",
       "</div>"
      ],
      "text/plain": [
       "                    ts       open       high        low      close  \\\n",
       "0  2021-12-02 14:00:00    22.4150    22.4913    22.0816    22.3516   \n",
       "1  2021-12-02 23:00:00     4.8043     4.8043     4.7426     4.7806   \n",
       "2  2021-12-10 15:00:00   182.4900        NaN   175.2100   175.8600   \n",
       "3  2021-12-10 18:00:00  3978.4300  3989.7400  3932.0000  3972.3400   \n",
       "4  2021-12-08 21:00:00   193.3240   194.2420   192.5640   193.1540   \n",
       "\n",
       "         volume  volumeUSD token chain  \n",
       "0  31502.151631        NaN   UNI   ETH  \n",
       "1  73686.230000        NaN   CRV   ETH  \n",
       "2  73736.747000        NaN   SOL   SOL  \n",
       "3  18508.040102        NaN   ETH   ETH  \n",
       "4  69426.909000        NaN   SOL   SOL  "
      ]
     },
     "execution_count": 2,
     "metadata": {},
     "output_type": "execute_result"
    }
   ],
   "source": [
    "# Understand the columns\n",
    "\n",
    "df.head()\n"
   ]
  },
  {
   "cell_type": "code",
   "execution_count": 3,
   "metadata": {},
   "outputs": [
    {
     "data": {
      "text/plain": [
       "ts              0\n",
       "open            0\n",
       "high          504\n",
       "low           289\n",
       "close         136\n",
       "volume          0\n",
       "volumeUSD    2667\n",
       "token           0\n",
       "chain           0\n",
       "dtype: int64"
      ]
     },
     "execution_count": 3,
     "metadata": {},
     "output_type": "execute_result"
    }
   ],
   "source": [
    "# check for NAN's presence in each field\n",
    "pd.isnull(df).sum()"
   ]
  },
  {
   "cell_type": "code",
   "execution_count": 4,
   "metadata": {},
   "outputs": [
    {
     "name": "stdout",
     "output_type": "stream",
     "text": [
      "Number of NaN in open is 0\n",
      "Number of NaN in high is 504\n",
      "Number of NaN in low is 289\n",
      "Number of NaN in close is 136\n",
      "Number of NaN in volume is 0\n",
      "Number of NaN in volumeUSD is 2667\n"
     ]
    }
   ],
   "source": [
    "field = [\"open\", \"high\", \"low\", \"close\", \"volume\", \"volumeUSD\"]\n",
    "\n",
    "#for i in df.columns.values.tolist():\n",
    "for i in field:\n",
    "    print(\"Number of NaN in \" + i + \" is \" + str(df[i].isna().sum()))"
   ]
  },
  {
   "cell_type": "code",
   "execution_count": 5,
   "metadata": {},
   "outputs": [
    {
     "name": "stdout",
     "output_type": "stream",
     "text": [
      "Number of Inf in open is 0\n",
      "Number of Inf in high is 0\n",
      "Number of Inf in low is 0\n",
      "Number of Inf in close is 0\n",
      "Number of Inf in volume is 0\n",
      "Number of Inf in volumeUSD is 0\n"
     ]
    }
   ],
   "source": [
    "# check for inf's presence in each field\n",
    "\n",
    "for i in field:\n",
    "    print(\"Number of Inf in \" + i + \" is \" + str(np.isinf(df[i]).sum()))"
   ]
  },
  {
   "cell_type": "markdown",
   "metadata": {},
   "source": [
    "From above, we know that the \"Volume\" colume is fully filled but there are empty cells in \"close\"\n",
    "\n",
    "To determine volumeUSD = volume * close, we need to estimate the empty cells in \"close\" "
   ]
  },
  {
   "cell_type": "code",
   "execution_count": 6,
   "metadata": {},
   "outputs": [
    {
     "data": {
      "text/plain": [
       "<matplotlib.axes._subplots.AxesSubplot at 0x190627f75c0>"
      ]
     },
     "execution_count": 6,
     "metadata": {},
     "output_type": "execute_result"
    },
    {
     "data": {
      "image/png": "[encoded data removed]",
      "text/plain": [
       "<Figure size 432x288 with 1 Axes>"
      ]
     },
     "metadata": {},
     "output_type": "display_data"
    },
    {
     "data": {
      "image/png": "[encoded data removed]",
      "text/plain": [
       "<Figure size 432x288 with 1 Axes>"
      ]
     },
     "metadata": {},
     "output_type": "display_data"
    },
    {
     "data": {
      "image/png": "[encoded data removed]",
      "text/plain": [
       "<Figure size 432x288 with 1 Axes>"
      ]
     },
     "metadata": {},
     "output_type": "display_data"
    },
    {
     "data": {
      "image/png": "[encoded data removed]",
      "text/plain": [
       "<Figure size 432x288 with 1 Axes>"
      ]
     },
     "metadata": {},
     "output_type": "display_data"
    }
   ],
   "source": [
    "#Plot the histogram to understand the entries of each field\n",
    "\n",
    "df[['open']].plot(kind='hist')\n",
    "df[['high']].plot(kind='hist')\n",
    "df[['low']].plot(kind='hist')\n",
    "df[['close']].plot(kind='hist')\n",
    "\n",
    "\n"
   ]
  },
  {
   "cell_type": "markdown",
   "metadata": {},
   "source": [
    "From here it does not seem to have out of place values (such as negative ones)"
   ]
  },
  {
   "cell_type": "code",
   "execution_count": 7,
   "metadata": {},
   "outputs": [
    {
     "data": {
      "text/plain": [
       "307"
      ]
     },
     "execution_count": 7,
     "metadata": {},
     "output_type": "execute_result"
    }
   ],
   "source": [
    "# Check for duplicate values\n",
    "np.count_nonzero(df.duplicated(subset=['ts', 'token']))\n"
   ]
  },
  {
   "cell_type": "markdown",
   "metadata": {},
   "source": [
    "With these we need to remove the duplicates before continuing"
   ]
  },
  {
   "cell_type": "code",
   "execution_count": 8,
   "metadata": {
    "scrolled": true
   },
   "outputs": [
    {
     "data": {
      "text/plain": [
       "array(['UNI', 'CRV', 'SOL', 'ETH', 'AAVE', 'USDT', 'COMP', 'BTC',\n",
       "       '<span name=\"tokenName\">UNI</span>',\n",
       "       '<span name=\"tokenName\">CRV</span>',\n",
       "       '<span name=\"tokenName\">SOL</span>',\n",
       "       '<span name=\"tokenName\">USDT</span>',\n",
       "       '<span name=\"tokenName\">COMP</span>',\n",
       "       '<span name=\"tokenName\">AAVE</span>',\n",
       "       '<span name=\"tokenName\">ETH</span>',\n",
       "       '<span name=\"tokenName\">BTC</span>'], dtype=object)"
      ]
     },
     "execution_count": 8,
     "metadata": {},
     "output_type": "execute_result"
    }
   ],
   "source": [
    "# Check for strange entries in the categorical variables\n",
    "df['token'].unique()"
   ]
  },
  {
   "cell_type": "code",
   "execution_count": 9,
   "metadata": {},
   "outputs": [
    {
     "data": {
      "text/plain": [
       "array(['ETH', 'SOL', 'USDT', 'BTC'], dtype=object)"
      ]
     },
     "execution_count": 9,
     "metadata": {},
     "output_type": "execute_result"
    }
   ],
   "source": [
    "df['chain'].unique()"
   ]
  },
  {
   "cell_type": "markdown",
   "metadata": {},
   "source": [
    "Here we can see that \"token\" has some long entries that could be converted to standard token names\n",
    "But for \"chain\" name, it is all unique."
   ]
  },
  {
   "cell_type": "markdown",
   "metadata": {},
   "source": [
    "## 3. Cleaning the data"
   ]
  },
  {
   "cell_type": "markdown",
   "metadata": {},
   "source": [
    "Firstly we need to clean the strange long names in \"token\""
   ]
  },
  {
   "cell_type": "code",
   "execution_count": 10,
   "metadata": {},
   "outputs": [
    {
     "name": "stderr",
     "output_type": "stream",
     "text": [
      "C:\\Program Files (x86)\\Microsoft Visual Studio\\Shared\\Python36_64\\Lib\\site-packages\\ipykernel_launcher.py:15: SettingWithCopyWarning: \n",
      "A value is trying to be set on a copy of a slice from a DataFrame\n",
      "\n",
      "See the caveats in the documentation: http://pandas.pydata.org/pandas-docs/stable/indexing.html#indexing-view-versus-copy\n",
      "  from ipykernel import kernelapp as app\n"
     ]
    },
    {
     "data": {
      "text/plain": [
       "array(['UNI', 'CRV', 'SOL', 'ETH', 'AAVE', 'USDT', 'COMP', 'BTC'],\n",
       "      dtype=object)"
      ]
     },
     "execution_count": 10,
     "metadata": {},
     "output_type": "execute_result"
    }
   ],
   "source": [
    "# firstly delimit and split out the 'token' column\n",
    "df_sup = df.token.str[23:]\n",
    "df_sup = df_sup.str.split('<', expand=True)\n",
    "#df_sup = df.token.str.extract('<span name=\"tokenName\">(.|\\n)*?</span>')\n",
    "\n",
    "\n",
    "#now df_sup contains the entries that we want to correct in df[\"token\"]\n",
    "\n",
    "df_cleaned=df\n",
    "\n",
    "for i in range(df.shape[0]):\n",
    "    if df_sup[0][i] == \"\":\n",
    "        pass\n",
    "    else: \n",
    "        df_cleaned[\"token\"][i]=df_sup[0][i]\n",
    "\n",
    "   \n",
    "#check that the \"token\" column now is ok\n",
    "df_cleaned['token'].unique()\n",
    "        \n",
    "        "
   ]
  },
  {
   "cell_type": "markdown",
   "metadata": {},
   "source": [
    "Looks okay now.\n",
    "\n",
    "Next step, we try to remove all the duplicates"
   ]
  },
  {
   "cell_type": "code",
   "execution_count": 11,
   "metadata": {},
   "outputs": [],
   "source": [
    "# clean the duplicated values\n",
    "\n",
    "df_cleaned = df_cleaned.drop_duplicates(subset=['ts', 'token'], keep='first')\n",
    "#df_cleaned"
   ]
  },
  {
   "cell_type": "markdown",
   "metadata": {},
   "source": [
    "Next, we try to estimate the close price using the same period's \"open\", \"high\", \"low\"\n",
    "Assuming that \"close\" is the average of these 3 columns"
   ]
  },
  {
   "cell_type": "code",
   "execution_count": 12,
   "metadata": {},
   "outputs": [],
   "source": [
    "# avg of open high low prices assigned to column close when it is NaN\n",
    "close_cleaned = pd.DataFrame(np.where(np.isnan(df_cleaned[\"close\"]), \n",
    "                                      (np.where(np.isnan(df_cleaned[\"open\"]),0,df_cleaned[\"open\"])\n",
    "                                      +np.where(np.isnan(df_cleaned[\"high\"]),0,df_cleaned[\"high\"])\n",
    "                                      +np.where(np.isnan(df_cleaned[\"low\"]),0,df_cleaned[\"low\"]))/\n",
    "                                      (np.where(np.isnan(df_cleaned[\"open\"]),0,1)\n",
    "                                      +np.where(np.isnan(df_cleaned[\"high\"]),0,1)\n",
    "                                      +np.where(np.isnan(df_cleaned[\"low\"]),0,1)), df_cleaned[\"close\"]),columns=['close_cleaned'])\n",
    "close_cleaned_index = pd.DataFrame(df_cleaned.index, columns=['close_cleaned_index'])\n",
    "close_cleaned = pd.concat([close_cleaned, close_cleaned_index], axis=1)\n",
    "close_cleaned = close_cleaned.set_index('close_cleaned_index')\n",
    "df_cleaned = pd.concat([df_cleaned, close_cleaned], axis=1)\n",
    "#df_cleaned\n"
   ]
  },
  {
   "cell_type": "markdown",
   "metadata": {},
   "source": [
    "Finally the summary of Volume USD by different chain"
   ]
  },
  {
   "cell_type": "code",
   "execution_count": 13,
   "metadata": {},
   "outputs": [
    {
     "data": {
      "text/html": [
       "<div>\n",
       "<style scoped>\n",
       "    .dataframe tbody tr th:only-of-type {\n",
       "        vertical-align: middle;\n",
       "    }\n",
       "\n",
       "    .dataframe tbody tr th {\n",
       "        vertical-align: top;\n",
       "    }\n",
       "\n",
       "    .dataframe thead th {\n",
       "        text-align: right;\n",
       "    }\n",
       "</style>\n",
       "<table border=\"1\" class=\"dataframe\">\n",
       "  <thead>\n",
       "    <tr style=\"text-align: right;\">\n",
       "      <th></th>\n",
       "      <th>volumeUSD</th>\n",
       "    </tr>\n",
       "    <tr>\n",
       "      <th>chain</th>\n",
       "      <th></th>\n",
       "    </tr>\n",
       "  </thead>\n",
       "  <tbody>\n",
       "    <tr>\n",
       "      <th>BTC</th>\n",
       "      <td>3.859544e+10</td>\n",
       "    </tr>\n",
       "    <tr>\n",
       "      <th>ETH</th>\n",
       "      <td>1.737819e+10</td>\n",
       "    </tr>\n",
       "    <tr>\n",
       "      <th>SOL</th>\n",
       "      <td>6.907850e+09</td>\n",
       "    </tr>\n",
       "    <tr>\n",
       "      <th>USDT</th>\n",
       "      <td>1.519147e+09</td>\n",
       "    </tr>\n",
       "  </tbody>\n",
       "</table>\n",
       "</div>"
      ],
      "text/plain": [
       "          volumeUSD\n",
       "chain              \n",
       "BTC    3.859544e+10\n",
       "ETH    1.737819e+10\n",
       "SOL    6.907850e+09\n",
       "USDT   1.519147e+09"
      ]
     },
     "execution_count": 13,
     "metadata": {},
     "output_type": "execute_result"
    }
   ],
   "source": [
    "df_cleaned[\"volumeUSD\"] = df_cleaned[\"volume\"]*df_cleaned[\"close_cleaned\"]\n",
    "\n",
    "df_USDvolume = df_cleaned.groupby('chain')['volumeUSD'].sum().to_frame()\n",
    "#df_cleaned\n",
    "df_USDvolume\n"
   ]
  }
 ],
 "metadata": {
  "kernelspec": {
   "display_name": "Python 3",
   "language": "python",
   "name": "python3"
  },
  "language_info": {
   "codemirror_mode": {
    "name": "ipython",
    "version": 3
   },
   "file_extension": ".py",
   "mimetype": "text/x-python",
   "name": "python",
   "nbconvert_exporter": "python",
   "pygments_lexer": "ipython3",
   "version": "3.6.5"
  }
 },
 "nbformat": 4,
 "nbformat_minor": 2
}
