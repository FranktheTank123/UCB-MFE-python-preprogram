{
 "cells": [
  {
   "cell_type": "code",
   "execution_count": 1,
   "id": "84110b1e-305d-431b-bd71-32a77a4f4f48",
   "metadata": {},
   "outputs": [
    {
     "data": {
      "text/html": [
       "<div>\n",
       "<style scoped>\n",
       "    .dataframe tbody tr th:only-of-type {\n",
       "        vertical-align: middle;\n",
       "    }\n",
       "\n",
       "    .dataframe tbody tr th {\n",
       "        vertical-align: top;\n",
       "    }\n",
       "\n",
       "    .dataframe thead th {\n",
       "        text-align: right;\n",
       "    }\n",
       "</style>\n",
       "<table border=\"1\" class=\"dataframe\">\n",
       "  <thead>\n",
       "    <tr style=\"text-align: right;\">\n",
       "      <th></th>\n",
       "      <th>ts</th>\n",
       "      <th>open</th>\n",
       "      <th>high</th>\n",
       "      <th>low</th>\n",
       "      <th>close</th>\n",
       "      <th>volume</th>\n",
       "      <th>volumeUSD</th>\n",
       "      <th>token</th>\n",
       "      <th>chain</th>\n",
       "    </tr>\n",
       "  </thead>\n",
       "  <tbody>\n",
       "    <tr>\n",
       "      <th>0</th>\n",
       "      <td>2021-12-02 14:00:00</td>\n",
       "      <td>22.4150</td>\n",
       "      <td>22.4913</td>\n",
       "      <td>22.0816</td>\n",
       "      <td>22.3516</td>\n",
       "      <td>3.150215e+04</td>\n",
       "      <td>NaN</td>\n",
       "      <td>UNI</td>\n",
       "      <td>ETH</td>\n",
       "    </tr>\n",
       "    <tr>\n",
       "      <th>1</th>\n",
       "      <td>2021-12-02 23:00:00</td>\n",
       "      <td>4.8043</td>\n",
       "      <td>4.8043</td>\n",
       "      <td>4.7426</td>\n",
       "      <td>4.7806</td>\n",
       "      <td>7.368623e+04</td>\n",
       "      <td>NaN</td>\n",
       "      <td>CRV</td>\n",
       "      <td>ETH</td>\n",
       "    </tr>\n",
       "    <tr>\n",
       "      <th>2</th>\n",
       "      <td>2021-12-10 15:00:00</td>\n",
       "      <td>182.4900</td>\n",
       "      <td>NaN</td>\n",
       "      <td>175.2100</td>\n",
       "      <td>175.8600</td>\n",
       "      <td>7.373675e+04</td>\n",
       "      <td>NaN</td>\n",
       "      <td>SOL</td>\n",
       "      <td>SOL</td>\n",
       "    </tr>\n",
       "    <tr>\n",
       "      <th>3</th>\n",
       "      <td>2021-12-10 18:00:00</td>\n",
       "      <td>3978.4300</td>\n",
       "      <td>3989.7400</td>\n",
       "      <td>3932.0000</td>\n",
       "      <td>3972.3400</td>\n",
       "      <td>1.850804e+04</td>\n",
       "      <td>NaN</td>\n",
       "      <td>ETH</td>\n",
       "      <td>ETH</td>\n",
       "    </tr>\n",
       "    <tr>\n",
       "      <th>4</th>\n",
       "      <td>2021-12-08 21:00:00</td>\n",
       "      <td>193.3240</td>\n",
       "      <td>194.2420</td>\n",
       "      <td>192.5640</td>\n",
       "      <td>193.1540</td>\n",
       "      <td>6.942691e+04</td>\n",
       "      <td>NaN</td>\n",
       "      <td>SOL</td>\n",
       "      <td>SOL</td>\n",
       "    </tr>\n",
       "    <tr>\n",
       "      <th>...</th>\n",
       "      <td>...</td>\n",
       "      <td>...</td>\n",
       "      <td>...</td>\n",
       "      <td>...</td>\n",
       "      <td>...</td>\n",
       "      <td>...</td>\n",
       "      <td>...</td>\n",
       "      <td>...</td>\n",
       "      <td>...</td>\n",
       "    </tr>\n",
       "    <tr>\n",
       "      <th>2662</th>\n",
       "      <td>2021-12-03 12:00:00</td>\n",
       "      <td>243.5040</td>\n",
       "      <td>244.4700</td>\n",
       "      <td>243.0960</td>\n",
       "      <td>243.7920</td>\n",
       "      <td>9.468390e+02</td>\n",
       "      <td>NaN</td>\n",
       "      <td>AAVE</td>\n",
       "      <td>ETH</td>\n",
       "    </tr>\n",
       "    <tr>\n",
       "      <th>2663</th>\n",
       "      <td>2021-12-03 07:00:00</td>\n",
       "      <td>231.1080</td>\n",
       "      <td>NaN</td>\n",
       "      <td>231.1080</td>\n",
       "      <td>234.5980</td>\n",
       "      <td>3.624890e+04</td>\n",
       "      <td>NaN</td>\n",
       "      <td>SOL</td>\n",
       "      <td>SOL</td>\n",
       "    </tr>\n",
       "    <tr>\n",
       "      <th>2664</th>\n",
       "      <td>2021-12-10 23:00:00</td>\n",
       "      <td>3.4600</td>\n",
       "      <td>3.4800</td>\n",
       "      <td>3.4100</td>\n",
       "      <td>3.4200</td>\n",
       "      <td>1.186261e+05</td>\n",
       "      <td>NaN</td>\n",
       "      <td>CRV</td>\n",
       "      <td>ETH</td>\n",
       "    </tr>\n",
       "    <tr>\n",
       "      <th>2665</th>\n",
       "      <td>2021-12-03 23:00:00</td>\n",
       "      <td>4215.0000</td>\n",
       "      <td>4249.7200</td>\n",
       "      <td>4183.2300</td>\n",
       "      <td>4198.8300</td>\n",
       "      <td>1.364579e+04</td>\n",
       "      <td>NaN</td>\n",
       "      <td>ETH</td>\n",
       "      <td>ETH</td>\n",
       "    </tr>\n",
       "    <tr>\n",
       "      <th>2666</th>\n",
       "      <td>2021-12-06 07:00:00</td>\n",
       "      <td>1.0012</td>\n",
       "      <td>1.0012</td>\n",
       "      <td>1.0011</td>\n",
       "      <td>1.0011</td>\n",
       "      <td>1.794178e+06</td>\n",
       "      <td>NaN</td>\n",
       "      <td>USDT</td>\n",
       "      <td>USDT</td>\n",
       "    </tr>\n",
       "  </tbody>\n",
       "</table>\n",
       "<p>2667 rows × 9 columns</p>\n",
       "</div>"
      ],
      "text/plain": [
       "                       ts       open       high        low      close  \\\n",
       "0     2021-12-02 14:00:00    22.4150    22.4913    22.0816    22.3516   \n",
       "1     2021-12-02 23:00:00     4.8043     4.8043     4.7426     4.7806   \n",
       "2     2021-12-10 15:00:00   182.4900        NaN   175.2100   175.8600   \n",
       "3     2021-12-10 18:00:00  3978.4300  3989.7400  3932.0000  3972.3400   \n",
       "4     2021-12-08 21:00:00   193.3240   194.2420   192.5640   193.1540   \n",
       "...                   ...        ...        ...        ...        ...   \n",
       "2662  2021-12-03 12:00:00   243.5040   244.4700   243.0960   243.7920   \n",
       "2663  2021-12-03 07:00:00   231.1080        NaN   231.1080   234.5980   \n",
       "2664  2021-12-10 23:00:00     3.4600     3.4800     3.4100     3.4200   \n",
       "2665  2021-12-03 23:00:00  4215.0000  4249.7200  4183.2300  4198.8300   \n",
       "2666  2021-12-06 07:00:00     1.0012     1.0012     1.0011     1.0011   \n",
       "\n",
       "            volume  volumeUSD token chain  \n",
       "0     3.150215e+04        NaN   UNI   ETH  \n",
       "1     7.368623e+04        NaN   CRV   ETH  \n",
       "2     7.373675e+04        NaN   SOL   SOL  \n",
       "3     1.850804e+04        NaN   ETH   ETH  \n",
       "4     6.942691e+04        NaN   SOL   SOL  \n",
       "...            ...        ...   ...   ...  \n",
       "2662  9.468390e+02        NaN  AAVE   ETH  \n",
       "2663  3.624890e+04        NaN   SOL   SOL  \n",
       "2664  1.186261e+05        NaN   CRV   ETH  \n",
       "2665  1.364579e+04        NaN   ETH   ETH  \n",
       "2666  1.794178e+06        NaN  USDT  USDT  \n",
       "\n",
       "[2667 rows x 9 columns]"
      ]
     },
     "execution_count": 1,
     "metadata": {},
     "output_type": "execute_result"
    }
   ],
   "source": [
    "import pandas as pd \n",
    "import numpy as np\n",
    "data=pd.read_csv('hw3.csv')\n",
    "data"
   ]
  },
  {
   "cell_type": "markdown",
   "id": "6089c382-dc77-4126-9d23-4fa53bdd3389",
   "metadata": {},
   "source": [
    "# \n",
    "There are duplicate columns, I get rid of them by delicating the columns with the same ts in each token\n",
    "\n",
    "There are wrong close price, which can be 100 times greater or 100times smaller, I correct those ones."
   ]
  },
  {
   "cell_type": "code",
   "execution_count": 3,
   "id": "1f65562b-22d3-44f5-b43a-5f50451ce651",
   "metadata": {},
   "outputs": [
    {
     "data": {
      "text/html": [
       "<div>\n",
       "<style scoped>\n",
       "    .dataframe tbody tr th:only-of-type {\n",
       "        vertical-align: middle;\n",
       "    }\n",
       "\n",
       "    .dataframe tbody tr th {\n",
       "        vertical-align: top;\n",
       "    }\n",
       "\n",
       "    .dataframe thead th {\n",
       "        text-align: right;\n",
       "    }\n",
       "</style>\n",
       "<table border=\"1\" class=\"dataframe\">\n",
       "  <thead>\n",
       "    <tr style=\"text-align: right;\">\n",
       "      <th></th>\n",
       "      <th>ts</th>\n",
       "      <th>open</th>\n",
       "      <th>high</th>\n",
       "      <th>low</th>\n",
       "      <th>close</th>\n",
       "      <th>volume</th>\n",
       "      <th>volumeUSD</th>\n",
       "      <th>token</th>\n",
       "      <th>chain</th>\n",
       "    </tr>\n",
       "  </thead>\n",
       "  <tbody>\n",
       "    <tr>\n",
       "      <th>0</th>\n",
       "      <td>2021-12-02 14:00:00</td>\n",
       "      <td>22.4150</td>\n",
       "      <td>22.4913</td>\n",
       "      <td>22.0816</td>\n",
       "      <td>22.3516</td>\n",
       "      <td>3.150215e+04</td>\n",
       "      <td>7.041235e+05</td>\n",
       "      <td>UNI</td>\n",
       "      <td>ETH</td>\n",
       "    </tr>\n",
       "    <tr>\n",
       "      <th>1</th>\n",
       "      <td>2021-12-02 23:00:00</td>\n",
       "      <td>4.8043</td>\n",
       "      <td>4.8043</td>\n",
       "      <td>4.7426</td>\n",
       "      <td>4.7806</td>\n",
       "      <td>7.368623e+04</td>\n",
       "      <td>3.522644e+05</td>\n",
       "      <td>CRV</td>\n",
       "      <td>ETH</td>\n",
       "    </tr>\n",
       "    <tr>\n",
       "      <th>2</th>\n",
       "      <td>2021-12-10 15:00:00</td>\n",
       "      <td>182.4900</td>\n",
       "      <td>NaN</td>\n",
       "      <td>175.2100</td>\n",
       "      <td>175.8600</td>\n",
       "      <td>7.373675e+04</td>\n",
       "      <td>1.296734e+07</td>\n",
       "      <td>SOL</td>\n",
       "      <td>SOL</td>\n",
       "    </tr>\n",
       "    <tr>\n",
       "      <th>3</th>\n",
       "      <td>2021-12-10 18:00:00</td>\n",
       "      <td>3978.4300</td>\n",
       "      <td>3989.7400</td>\n",
       "      <td>3932.0000</td>\n",
       "      <td>3972.3400</td>\n",
       "      <td>1.850804e+04</td>\n",
       "      <td>7.352023e+07</td>\n",
       "      <td>ETH</td>\n",
       "      <td>ETH</td>\n",
       "    </tr>\n",
       "    <tr>\n",
       "      <th>4</th>\n",
       "      <td>2021-12-08 21:00:00</td>\n",
       "      <td>193.3240</td>\n",
       "      <td>194.2420</td>\n",
       "      <td>192.5640</td>\n",
       "      <td>193.1540</td>\n",
       "      <td>6.942691e+04</td>\n",
       "      <td>1.341009e+07</td>\n",
       "      <td>SOL</td>\n",
       "      <td>SOL</td>\n",
       "    </tr>\n",
       "    <tr>\n",
       "      <th>...</th>\n",
       "      <td>...</td>\n",
       "      <td>...</td>\n",
       "      <td>...</td>\n",
       "      <td>...</td>\n",
       "      <td>...</td>\n",
       "      <td>...</td>\n",
       "      <td>...</td>\n",
       "      <td>...</td>\n",
       "      <td>...</td>\n",
       "    </tr>\n",
       "    <tr>\n",
       "      <th>2662</th>\n",
       "      <td>2021-12-03 12:00:00</td>\n",
       "      <td>243.5040</td>\n",
       "      <td>244.4700</td>\n",
       "      <td>243.0960</td>\n",
       "      <td>243.7920</td>\n",
       "      <td>9.468390e+02</td>\n",
       "      <td>2.308318e+05</td>\n",
       "      <td>AAVE</td>\n",
       "      <td>ETH</td>\n",
       "    </tr>\n",
       "    <tr>\n",
       "      <th>2663</th>\n",
       "      <td>2021-12-03 07:00:00</td>\n",
       "      <td>231.1080</td>\n",
       "      <td>NaN</td>\n",
       "      <td>231.1080</td>\n",
       "      <td>234.5980</td>\n",
       "      <td>3.624890e+04</td>\n",
       "      <td>8.503920e+06</td>\n",
       "      <td>SOL</td>\n",
       "      <td>SOL</td>\n",
       "    </tr>\n",
       "    <tr>\n",
       "      <th>2664</th>\n",
       "      <td>2021-12-10 23:00:00</td>\n",
       "      <td>3.4600</td>\n",
       "      <td>3.4800</td>\n",
       "      <td>3.4100</td>\n",
       "      <td>3.4200</td>\n",
       "      <td>1.186261e+05</td>\n",
       "      <td>4.057011e+05</td>\n",
       "      <td>CRV</td>\n",
       "      <td>ETH</td>\n",
       "    </tr>\n",
       "    <tr>\n",
       "      <th>2665</th>\n",
       "      <td>2021-12-03 23:00:00</td>\n",
       "      <td>4215.0000</td>\n",
       "      <td>4249.7200</td>\n",
       "      <td>4183.2300</td>\n",
       "      <td>4198.8300</td>\n",
       "      <td>1.364579e+04</td>\n",
       "      <td>5.729636e+07</td>\n",
       "      <td>ETH</td>\n",
       "      <td>ETH</td>\n",
       "    </tr>\n",
       "    <tr>\n",
       "      <th>2666</th>\n",
       "      <td>2021-12-06 07:00:00</td>\n",
       "      <td>1.0012</td>\n",
       "      <td>1.0012</td>\n",
       "      <td>1.0011</td>\n",
       "      <td>1.0011</td>\n",
       "      <td>1.794178e+06</td>\n",
       "      <td>1.796152e+06</td>\n",
       "      <td>USDT</td>\n",
       "      <td>USDT</td>\n",
       "    </tr>\n",
       "  </tbody>\n",
       "</table>\n",
       "<p>2667 rows × 9 columns</p>\n",
       "</div>"
      ],
      "text/plain": [
       "                       ts       open       high        low      close  \\\n",
       "0     2021-12-02 14:00:00    22.4150    22.4913    22.0816    22.3516   \n",
       "1     2021-12-02 23:00:00     4.8043     4.8043     4.7426     4.7806   \n",
       "2     2021-12-10 15:00:00   182.4900        NaN   175.2100   175.8600   \n",
       "3     2021-12-10 18:00:00  3978.4300  3989.7400  3932.0000  3972.3400   \n",
       "4     2021-12-08 21:00:00   193.3240   194.2420   192.5640   193.1540   \n",
       "...                   ...        ...        ...        ...        ...   \n",
       "2662  2021-12-03 12:00:00   243.5040   244.4700   243.0960   243.7920   \n",
       "2663  2021-12-03 07:00:00   231.1080        NaN   231.1080   234.5980   \n",
       "2664  2021-12-10 23:00:00     3.4600     3.4800     3.4100     3.4200   \n",
       "2665  2021-12-03 23:00:00  4215.0000  4249.7200  4183.2300  4198.8300   \n",
       "2666  2021-12-06 07:00:00     1.0012     1.0012     1.0011     1.0011   \n",
       "\n",
       "            volume     volumeUSD token chain  \n",
       "0     3.150215e+04  7.041235e+05   UNI   ETH  \n",
       "1     7.368623e+04  3.522644e+05   CRV   ETH  \n",
       "2     7.373675e+04  1.296734e+07   SOL   SOL  \n",
       "3     1.850804e+04  7.352023e+07   ETH   ETH  \n",
       "4     6.942691e+04  1.341009e+07   SOL   SOL  \n",
       "...            ...           ...   ...   ...  \n",
       "2662  9.468390e+02  2.308318e+05  AAVE   ETH  \n",
       "2663  3.624890e+04  8.503920e+06   SOL   SOL  \n",
       "2664  1.186261e+05  4.057011e+05   CRV   ETH  \n",
       "2665  1.364579e+04  5.729636e+07   ETH   ETH  \n",
       "2666  1.794178e+06  1.796152e+06  USDT  USDT  \n",
       "\n",
       "[2667 rows x 9 columns]"
      ]
     },
     "execution_count": 3,
     "metadata": {},
     "output_type": "execute_result"
    }
   ],
   "source": [
    "data['volumeUSD']=data['volume']*data['close']\n",
    "data"
   ]
  },
  {
   "cell_type": "markdown",
   "id": "0dd79a40-e072-4809-a747-f49947da37c0",
   "metadata": {},
   "source": [
    "first need to deal with wrong token"
   ]
  },
  {
   "cell_type": "code",
   "execution_count": 4,
   "id": "880e6fd1-1033-4725-8208-bd8839255c12",
   "metadata": {},
   "outputs": [
    {
     "data": {
      "text/plain": [
       "array(['UNI', 'CRV', 'SOL', 'ETH', 'AAVE', 'USDT', 'COMP', 'BTC',\n",
       "       '<span name=\"tokenName\">UNI</span>',\n",
       "       '<span name=\"tokenName\">CRV</span>',\n",
       "       '<span name=\"tokenName\">SOL</span>',\n",
       "       '<span name=\"tokenName\">USDT</span>',\n",
       "       '<span name=\"tokenName\">COMP</span>',\n",
       "       '<span name=\"tokenName\">AAVE</span>',\n",
       "       '<span name=\"tokenName\">ETH</span>',\n",
       "       '<span name=\"tokenName\">BTC</span>'], dtype=object)"
      ]
     },
     "execution_count": 4,
     "metadata": {},
     "output_type": "execute_result"
    }
   ],
   "source": [
    "data.token.unique()\n"
   ]
  },
  {
   "cell_type": "code",
   "execution_count": 5,
   "id": "6bf64f37-bf76-4a50-9696-dd29523ecb6b",
   "metadata": {},
   "outputs": [],
   "source": [
    "def get_token(x):\n",
    "    if len(x)>30:\n",
    "        return x[23:-7]\n",
    "    else:\n",
    "        return x"
   ]
  },
  {
   "cell_type": "code",
   "execution_count": 6,
   "id": "794c504b-8605-4c27-8191-b2787f311418",
   "metadata": {},
   "outputs": [],
   "source": [
    "data.token=data.token.apply(get_token)"
   ]
  },
  {
   "cell_type": "code",
   "execution_count": 7,
   "id": "6c0e685b-41df-4041-bc3f-806f17e27c2e",
   "metadata": {},
   "outputs": [
    {
     "data": {
      "text/plain": [
       "array(['UNI', 'CRV', 'SOL', 'ETH', 'AAVE', 'USDT', 'COMP', 'BTC'],\n",
       "      dtype=object)"
      ]
     },
     "execution_count": 7,
     "metadata": {},
     "output_type": "execute_result"
    }
   ],
   "source": [
    "data.token.unique()"
   ]
  },
  {
   "cell_type": "code",
   "execution_count": 28,
   "id": "93cde513-aca3-4371-93b8-1f1d5752803c",
   "metadata": {},
   "outputs": [
    {
     "data": {
      "text/plain": [
       "<AxesSubplot:>"
      ]
     },
     "execution_count": 28,
     "metadata": {},
     "output_type": "execute_result"
    },
    {
     "data": {
      "image/png": "[encoded data removed]",
      "text/plain": [
       "<Figure size 432x288 with 1 Axes>"
      ]
     },
     "metadata": {
      "needs_background": "light"
     },
     "output_type": "display_data"
    }
   ],
   "source": [
    "data.close.hist()"
   ]
  },
  {
   "cell_type": "code",
   "execution_count": 8,
   "id": "5915c5f3-ef50-46b4-81f3-4020299abd25",
   "metadata": {},
   "outputs": [
    {
     "name": "stderr",
     "output_type": "stream",
     "text": [
      "<ipython-input-8-611a8d0a4a65>:1: UserWarning: Boolean Series key will be reindexed to match DataFrame index.\n",
      "  data.sort_values(by=['token','ts'])[data.token=='USDT']\n"
     ]
    },
    {
     "data": {
      "text/html": [
       "<div>\n",
       "<style scoped>\n",
       "    .dataframe tbody tr th:only-of-type {\n",
       "        vertical-align: middle;\n",
       "    }\n",
       "\n",
       "    .dataframe tbody tr th {\n",
       "        vertical-align: top;\n",
       "    }\n",
       "\n",
       "    .dataframe thead th {\n",
       "        text-align: right;\n",
       "    }\n",
       "</style>\n",
       "<table border=\"1\" class=\"dataframe\">\n",
       "  <thead>\n",
       "    <tr style=\"text-align: right;\">\n",
       "      <th></th>\n",
       "      <th>ts</th>\n",
       "      <th>open</th>\n",
       "      <th>high</th>\n",
       "      <th>low</th>\n",
       "      <th>close</th>\n",
       "      <th>volume</th>\n",
       "      <th>volumeUSD</th>\n",
       "      <th>token</th>\n",
       "      <th>chain</th>\n",
       "    </tr>\n",
       "  </thead>\n",
       "  <tbody>\n",
       "    <tr>\n",
       "      <th>1382</th>\n",
       "      <td>2021-12-01 00:00:00</td>\n",
       "      <td>1.0008</td>\n",
       "      <td>1.0009</td>\n",
       "      <td>1.0008</td>\n",
       "      <td>1.0008</td>\n",
       "      <td>1588401.81</td>\n",
       "      <td>1.589673e+06</td>\n",
       "      <td>USDT</td>\n",
       "      <td>USDT</td>\n",
       "    </tr>\n",
       "    <tr>\n",
       "      <th>1681</th>\n",
       "      <td>2021-12-01 01:00:00</td>\n",
       "      <td>1.0008</td>\n",
       "      <td>1.0009</td>\n",
       "      <td>1.0008</td>\n",
       "      <td>1.0009</td>\n",
       "      <td>3429521.89</td>\n",
       "      <td>3.432608e+06</td>\n",
       "      <td>USDT</td>\n",
       "      <td>USDT</td>\n",
       "    </tr>\n",
       "    <tr>\n",
       "      <th>973</th>\n",
       "      <td>2021-12-01 02:00:00</td>\n",
       "      <td>1.0009</td>\n",
       "      <td>NaN</td>\n",
       "      <td>1.0008</td>\n",
       "      <td>1.0008</td>\n",
       "      <td>2136351.34</td>\n",
       "      <td>2.138060e+06</td>\n",
       "      <td>USDT</td>\n",
       "      <td>USDT</td>\n",
       "    </tr>\n",
       "    <tr>\n",
       "      <th>587</th>\n",
       "      <td>2021-12-01 03:00:00</td>\n",
       "      <td>1.0009</td>\n",
       "      <td>1.0010</td>\n",
       "      <td>1.0008</td>\n",
       "      <td>1.0008</td>\n",
       "      <td>2974174.19</td>\n",
       "      <td>2.976554e+06</td>\n",
       "      <td>USDT</td>\n",
       "      <td>USDT</td>\n",
       "    </tr>\n",
       "    <tr>\n",
       "      <th>1756</th>\n",
       "      <td>2021-12-01 04:00:00</td>\n",
       "      <td>1.0009</td>\n",
       "      <td>1.0010</td>\n",
       "      <td>1.0008</td>\n",
       "      <td>1.0008</td>\n",
       "      <td>4970508.62</td>\n",
       "      <td>4.974485e+06</td>\n",
       "      <td>USDT</td>\n",
       "      <td>USDT</td>\n",
       "    </tr>\n",
       "    <tr>\n",
       "      <th>...</th>\n",
       "      <td>...</td>\n",
       "      <td>...</td>\n",
       "      <td>...</td>\n",
       "      <td>...</td>\n",
       "      <td>...</td>\n",
       "      <td>...</td>\n",
       "      <td>...</td>\n",
       "      <td>...</td>\n",
       "      <td>...</td>\n",
       "    </tr>\n",
       "    <tr>\n",
       "      <th>614</th>\n",
       "      <td>2021-12-13 03:00:00</td>\n",
       "      <td>1.0004</td>\n",
       "      <td>1.0006</td>\n",
       "      <td>1.0004</td>\n",
       "      <td>1.0006</td>\n",
       "      <td>4337884.53</td>\n",
       "      <td>4.340487e+06</td>\n",
       "      <td>USDT</td>\n",
       "      <td>USDT</td>\n",
       "    </tr>\n",
       "    <tr>\n",
       "      <th>1992</th>\n",
       "      <td>2021-12-13 04:00:00</td>\n",
       "      <td>1.0006</td>\n",
       "      <td>1.0006</td>\n",
       "      <td>1.0004</td>\n",
       "      <td>1.0006</td>\n",
       "      <td>2928892.91</td>\n",
       "      <td>2.930650e+06</td>\n",
       "      <td>USDT</td>\n",
       "      <td>USDT</td>\n",
       "    </tr>\n",
       "    <tr>\n",
       "      <th>2128</th>\n",
       "      <td>2021-12-13 04:00:00</td>\n",
       "      <td>1.0006</td>\n",
       "      <td>1.0006</td>\n",
       "      <td>1.0004</td>\n",
       "      <td>1.0006</td>\n",
       "      <td>2928892.91</td>\n",
       "      <td>2.930650e+06</td>\n",
       "      <td>USDT</td>\n",
       "      <td>USDT</td>\n",
       "    </tr>\n",
       "    <tr>\n",
       "      <th>859</th>\n",
       "      <td>2021-12-13 05:00:00</td>\n",
       "      <td>1.0006</td>\n",
       "      <td>1.0006</td>\n",
       "      <td>1.0005</td>\n",
       "      <td>1.0006</td>\n",
       "      <td>2178755.17</td>\n",
       "      <td>2.180062e+06</td>\n",
       "      <td>USDT</td>\n",
       "      <td>USDT</td>\n",
       "    </tr>\n",
       "    <tr>\n",
       "      <th>2031</th>\n",
       "      <td>2021-12-13 06:00:00</td>\n",
       "      <td>1.0005</td>\n",
       "      <td>1.0006</td>\n",
       "      <td>1.0005</td>\n",
       "      <td>1.0006</td>\n",
       "      <td>248076.49</td>\n",
       "      <td>2.482253e+05</td>\n",
       "      <td>USDT</td>\n",
       "      <td>USDT</td>\n",
       "    </tr>\n",
       "  </tbody>\n",
       "</table>\n",
       "<p>333 rows × 9 columns</p>\n",
       "</div>"
      ],
      "text/plain": [
       "                       ts    open    high     low   close      volume  \\\n",
       "1382  2021-12-01 00:00:00  1.0008  1.0009  1.0008  1.0008  1588401.81   \n",
       "1681  2021-12-01 01:00:00  1.0008  1.0009  1.0008  1.0009  3429521.89   \n",
       "973   2021-12-01 02:00:00  1.0009     NaN  1.0008  1.0008  2136351.34   \n",
       "587   2021-12-01 03:00:00  1.0009  1.0010  1.0008  1.0008  2974174.19   \n",
       "1756  2021-12-01 04:00:00  1.0009  1.0010  1.0008  1.0008  4970508.62   \n",
       "...                   ...     ...     ...     ...     ...         ...   \n",
       "614   2021-12-13 03:00:00  1.0004  1.0006  1.0004  1.0006  4337884.53   \n",
       "1992  2021-12-13 04:00:00  1.0006  1.0006  1.0004  1.0006  2928892.91   \n",
       "2128  2021-12-13 04:00:00  1.0006  1.0006  1.0004  1.0006  2928892.91   \n",
       "859   2021-12-13 05:00:00  1.0006  1.0006  1.0005  1.0006  2178755.17   \n",
       "2031  2021-12-13 06:00:00  1.0005  1.0006  1.0005  1.0006   248076.49   \n",
       "\n",
       "         volumeUSD token chain  \n",
       "1382  1.589673e+06  USDT  USDT  \n",
       "1681  3.432608e+06  USDT  USDT  \n",
       "973   2.138060e+06  USDT  USDT  \n",
       "587   2.976554e+06  USDT  USDT  \n",
       "1756  4.974485e+06  USDT  USDT  \n",
       "...            ...   ...   ...  \n",
       "614   4.340487e+06  USDT  USDT  \n",
       "1992  2.930650e+06  USDT  USDT  \n",
       "2128  2.930650e+06  USDT  USDT  \n",
       "859   2.180062e+06  USDT  USDT  \n",
       "2031  2.482253e+05  USDT  USDT  \n",
       "\n",
       "[333 rows x 9 columns]"
      ]
     },
     "execution_count": 8,
     "metadata": {},
     "output_type": "execute_result"
    }
   ],
   "source": [
    "data.sort_values(by=['token','ts'])[data.token=='USDT']"
   ]
  },
  {
   "cell_type": "markdown",
   "id": "19a9691d-63d1-4542-9b4f-a03cf5183d07",
   "metadata": {},
   "source": [
    "There are duplicate columns and there are wrong numbers in the data, so I will get rid of each one"
   ]
  },
  {
   "cell_type": "code",
   "execution_count": null,
   "id": "da5ac9a0-d108-4df9-a7e6-4d811f022512",
   "metadata": {},
   "outputs": [],
   "source": []
  },
  {
   "cell_type": "code",
   "execution_count": 10,
   "id": "e03714e6-a295-4e9c-9eb7-a28cd0340852",
   "metadata": {},
   "outputs": [
    {
     "name": "stderr",
     "output_type": "stream",
     "text": [
      "<ipython-input-10-04775f9d15cd>:1: UserWarning: Boolean Series key will be reindexed to match DataFrame index.\n",
      "  USDT=data.sort_values(by=['token','ts'])[data.token=='USDT']\n"
     ]
    }
   ],
   "source": [
    "USDT=data.sort_values(by=['token','ts'])[data.token=='USDT']\n",
    "USDT.index=list(range(len(USDT)))"
   ]
  },
  {
   "cell_type": "code",
   "execution_count": 11,
   "id": "7848518f-17d5-4de7-b7a9-7b5c8a4cc80d",
   "metadata": {},
   "outputs": [
    {
     "data": {
      "text/plain": [
       "<AxesSubplot:>"
      ]
     },
     "execution_count": 11,
     "metadata": {},
     "output_type": "execute_result"
    },
    {
     "data": {
      "image/png": "[encoded data removed]",
      "text/plain": [
       "<Figure size 432x288 with 1 Axes>"
      ]
     },
     "metadata": {
      "needs_background": "light"
     },
     "output_type": "display_data"
    }
   ],
   "source": [
    "USDT.close.plot()"
   ]
  },
  {
   "cell_type": "markdown",
   "id": "3a3253c4-1745-409a-9426-fc4be0e395e6",
   "metadata": {},
   "source": [
    "There are wrong data in USDT close"
   ]
  },
  {
   "cell_type": "code",
   "execution_count": 13,
   "id": "dd125d3a-ad5a-4e5f-86d9-d02d059753a7",
   "metadata": {},
   "outputs": [
    {
     "data": {
      "text/plain": [
       "0       1.000800\n",
       "1       1.000900\n",
       "2       1.000800\n",
       "3       1.000800\n",
       "4       1.000800\n",
       "5       1.000900\n",
       "6       1.000900\n",
       "7       1.000800\n",
       "8       1.000900\n",
       "9       1.000900\n",
       "10      1.000900\n",
       "11      1.001000\n",
       "12      1.000900\n",
       "13      1.001000\n",
       "14      1.000900\n",
       "15      1.001000\n",
       "16    100.100000\n",
       "17      1.001000\n",
       "18      1.000900\n",
       "19      1.000800\n",
       "20      1.000700\n",
       "21      1.000500\n",
       "22      1.000800\n",
       "23      0.010005\n",
       "24      1.000500\n",
       "25      1.000700\n",
       "26      1.000800\n",
       "27      1.000800\n",
       "28      1.001000\n",
       "29      1.001000\n",
       "Name: close, dtype: float64"
      ]
     },
     "execution_count": 13,
     "metadata": {},
     "output_type": "execute_result"
    }
   ],
   "source": [
    "USDT.close.head(30)"
   ]
  },
  {
   "cell_type": "code",
   "execution_count": 14,
   "id": "5f8e2bd9-41ae-4a57-9edd-f09ae7e0e56d",
   "metadata": {},
   "outputs": [],
   "source": [
    "USDT.loc[16,'close']=1.001\n",
    "USDT.loc[23,'close']=1.0005"
   ]
  },
  {
   "cell_type": "code",
   "execution_count": 15,
   "id": "6827e583-3075-4d34-ba78-bb3064904c10",
   "metadata": {},
   "outputs": [
    {
     "data": {
      "text/plain": [
       "<AxesSubplot:>"
      ]
     },
     "execution_count": 15,
     "metadata": {},
     "output_type": "execute_result"
    },
    {
     "data": {
      "image/png": "[encoded data removed]",
      "text/plain": [
       "<Figure size 432x288 with 1 Axes>"
      ]
     },
     "metadata": {
      "needs_background": "light"
     },
     "output_type": "display_data"
    }
   ],
   "source": [
    "USDT.close.plot()"
   ]
  },
  {
   "cell_type": "code",
   "execution_count": 51,
   "id": "5b0b89e0-f2fa-400c-811a-d850ca069411",
   "metadata": {},
   "outputs": [
    {
     "data": {
      "text/plain": [
       "0     1.000800\n",
       "1     1.000900\n",
       "2     1.000800\n",
       "3     1.000800\n",
       "4     1.000800\n",
       "5     1.000900\n",
       "6     1.000900\n",
       "7     1.000800\n",
       "8     1.000900\n",
       "9     1.000900\n",
       "10    1.000900\n",
       "11    1.001000\n",
       "12    1.000900\n",
       "13    1.001000\n",
       "14    1.000900\n",
       "15    1.001000\n",
       "16    1.001000\n",
       "17    1.001000\n",
       "18    1.000900\n",
       "19    1.000800\n",
       "20    1.000700\n",
       "21    1.000500\n",
       "22    1.000800\n",
       "23    0.010005\n",
       "24    1.000500\n",
       "25    1.000700\n",
       "26    1.000800\n",
       "27    1.000800\n",
       "28    1.001000\n",
       "29    1.001000\n",
       "30         NaN\n",
       "31    1.000900\n",
       "32    1.000900\n",
       "33    1.000800\n",
       "34    1.000900\n",
       "35    1.000800\n",
       "36    1.000900\n",
       "37    1.000900\n",
       "38    1.000900\n",
       "39    1.000800\n",
       "Name: close, dtype: float64"
      ]
     },
     "execution_count": 51,
     "metadata": {},
     "output_type": "execute_result"
    }
   ],
   "source": [
    "USDT.close.head(40)"
   ]
  },
  {
   "cell_type": "code",
   "execution_count": 52,
   "id": "14fe81d7-a02b-4f07-b66d-7ccd2c6721d2",
   "metadata": {},
   "outputs": [],
   "source": [
    "USDT.loc[23,'close']=1.0005"
   ]
  },
  {
   "cell_type": "code",
   "execution_count": 53,
   "id": "0415f21d-7bae-4d3d-aeed-11b165df71e5",
   "metadata": {},
   "outputs": [
    {
     "data": {
      "text/plain": [
       "<AxesSubplot:>"
      ]
     },
     "execution_count": 53,
     "metadata": {},
     "output_type": "execute_result"
    },
    {
     "data": {
      "image/png": "[encoded data removed]",
      "text/plain": [
       "<Figure size 432x288 with 1 Axes>"
      ]
     },
     "metadata": {
      "needs_background": "light"
     },
     "output_type": "display_data"
    }
   ],
   "source": [
    "USDT.close.plot()"
   ]
  },
  {
   "cell_type": "code",
   "execution_count": null,
   "id": "3c9d7eb9-af58-4f94-9f40-13ebdaa4e56a",
   "metadata": {},
   "outputs": [],
   "source": []
  },
  {
   "cell_type": "code",
   "execution_count": 41,
   "id": "f8117cef-d56b-4774-80b5-d4b8d8c3e4ec",
   "metadata": {},
   "outputs": [
    {
     "data": {
      "text/plain": [
       "<AxesSubplot:>"
      ]
     },
     "execution_count": 41,
     "metadata": {},
     "output_type": "execute_result"
    },
    {
     "data": {
      "image/png": "[encoded data removed]",
      "text/plain": [
       "<Figure size 432x288 with 1 Axes>"
      ]
     },
     "metadata": {
      "needs_background": "light"
     },
     "output_type": "display_data"
    }
   ],
   "source": [
    "tmp.volume.plot()"
   ]
  },
  {
   "cell_type": "code",
   "execution_count": 34,
   "id": "15bb797a-fe64-4976-8024-a4bb274d1345",
   "metadata": {},
   "outputs": [
    {
     "name": "stderr",
     "output_type": "stream",
     "text": [
      "<ipython-input-34-b62647db7ad4>:1: UserWarning: Boolean Series key will be reindexed to match DataFrame index.\n",
      "  data.sort_values(by=['token','ts'])[data.token=='USDT'].ts.head(50)\n"
     ]
    },
    {
     "data": {
      "text/plain": [
       "1382    2021-12-01 00:00:00\n",
       "1681    2021-12-01 01:00:00\n",
       "973     2021-12-01 02:00:00\n",
       "587     2021-12-01 03:00:00\n",
       "1756    2021-12-01 04:00:00\n",
       "197     2021-12-01 05:00:00\n",
       "1724    2021-12-01 06:00:00\n",
       "906     2021-12-01 07:00:00\n",
       "2263    2021-12-01 08:00:00\n",
       "1762    2021-12-01 09:00:00\n",
       "2308    2021-12-01 10:00:00\n",
       "1356    2021-12-01 11:00:00\n",
       "1685    2021-12-01 12:00:00\n",
       "112     2021-12-01 13:00:00\n",
       "175     2021-12-01 14:00:00\n",
       "1543    2021-12-01 15:00:00\n",
       "1329    2021-12-01 16:00:00\n",
       "1485    2021-12-01 17:00:00\n",
       "2456    2021-12-01 18:00:00\n",
       "104     2021-12-01 19:00:00\n",
       "262     2021-12-01 20:00:00\n",
       "1192    2021-12-01 21:00:00\n",
       "2451    2021-12-01 22:00:00\n",
       "2401    2021-12-01 23:00:00\n",
       "2115    2021-12-02 00:00:00\n",
       "975     2021-12-02 01:00:00\n",
       "375     2021-12-02 02:00:00\n",
       "23      2021-12-02 03:00:00\n",
       "2068    2021-12-02 04:00:00\n",
       "2135    2021-12-02 05:00:00\n",
       "1600    2021-12-02 06:00:00\n",
       "1679    2021-12-02 07:00:00\n",
       "2385    2021-12-02 08:00:00\n",
       "782     2021-12-02 09:00:00\n",
       "1304    2021-12-02 10:00:00\n",
       "579     2021-12-02 11:00:00\n",
       "583     2021-12-02 12:00:00\n",
       "1376    2021-12-02 13:00:00\n",
       "857     2021-12-02 14:00:00\n",
       "1815    2021-12-02 15:00:00\n",
       "2150    2021-12-02 16:00:00\n",
       "914     2021-12-02 17:00:00\n",
       "994     2021-12-02 18:00:00\n",
       "1672    2021-12-02 19:00:00\n",
       "524     2021-12-02 20:00:00\n",
       "927     2021-12-02 21:00:00\n",
       "1114    2021-12-02 21:00:00\n",
       "461     2021-12-02 22:00:00\n",
       "1755    2021-12-02 23:00:00\n",
       "740     2021-12-03 00:00:00\n",
       "Name: ts, dtype: object"
      ]
     },
     "execution_count": 34,
     "metadata": {},
     "output_type": "execute_result"
    }
   ],
   "source": [
    "data.sort_values(by=['token','ts'])[data.token=='USDT'].ts.head(50)"
   ]
  },
  {
   "cell_type": "code",
   "execution_count": 16,
   "id": "6232315b-21ff-4b3a-82f0-19e4ecf0f607",
   "metadata": {},
   "outputs": [],
   "source": [
    "USDT['volumeUSD']=USDT['volume']*USDT['close']"
   ]
  },
  {
   "cell_type": "code",
   "execution_count": 17,
   "id": "b30ca1b4-740e-465c-a698-10f9ca1386f7",
   "metadata": {},
   "outputs": [
    {
     "data": {
      "text/plain": [
       "<AxesSubplot:>"
      ]
     },
     "execution_count": 17,
     "metadata": {},
     "output_type": "execute_result"
    },
    {
     "data": {
      "image/png": "[encoded data removed]",
      "text/plain": [
       "<Figure size 432x288 with 1 Axes>"
      ]
     },
     "metadata": {
      "needs_background": "light"
     },
     "output_type": "display_data"
    }
   ],
   "source": [
    "USDT['volumeUSD'].plot()"
   ]
  },
  {
   "cell_type": "markdown",
   "id": "4f24d3ce-81ca-4340-92d7-807d628c3764",
   "metadata": {},
   "source": [
    "Also there are reduplicate data in the data, like 1992 and 2128 for USDT"
   ]
  },
  {
   "cell_type": "code",
   "execution_count": 25,
   "id": "d1f748b1-ad85-46ab-9d57-1abf6fcc0258",
   "metadata": {},
   "outputs": [],
   "source": [
    "def get_unique(data):\n",
    "    Times=list(data.ts.unique())\n",
    "    dicter={}\n",
    "    for i in Times:\n",
    "        dicter[i]=data[data.ts==i].iloc[0,:]\n",
    "    new_data=pd.concat(dicter.values(),axis=1).T\n",
    "    new_data.index=list(range(len(new_data)))\n",
    "    return new_data"
   ]
  },
  {
   "cell_type": "code",
   "execution_count": 111,
   "id": "81351a48-90cd-40b3-afc0-75168a2d72d5",
   "metadata": {},
   "outputs": [],
   "source": [
    "newUSDT=get_unique(USDT)"
   ]
  },
  {
   "cell_type": "code",
   "execution_count": 112,
   "id": "c8032948-441d-423e-a58b-0d79400fc8f0",
   "metadata": {},
   "outputs": [
    {
     "data": {
      "text/plain": [
       "916167933.7701274"
      ]
     },
     "execution_count": 112,
     "metadata": {},
     "output_type": "execute_result"
    }
   ],
   "source": [
    "newUSDT.volumeUSD.sum()"
   ]
  },
  {
   "cell_type": "code",
   "execution_count": null,
   "id": "bce42431-e49c-495a-980b-3b997651e793",
   "metadata": {},
   "outputs": [],
   "source": [
    "'UNI', 'CRV', 'SOL', 'ETH', 'AAVE', 'USDT', 'COMP', 'BTC'"
   ]
  },
  {
   "cell_type": "code",
   "execution_count": 102,
   "id": "fbe58a86-9df4-47fd-8087-671952942c34",
   "metadata": {},
   "outputs": [
    {
     "name": "stderr",
     "output_type": "stream",
     "text": [
      "<ipython-input-102-f172c70e0888>:13: UserWarning: Boolean Series key will be reindexed to match DataFrame index.\n",
      "  BTC=data.sort_values(by=['token','ts'])[data.token=='BTC']\n"
     ]
    }
   ],
   "source": [
    "UNI=data.sort_values(by=['token','ts'])[data.token=='UNI']\n",
    "UNI.index=list(range(len(UNI)))\n",
    "CRV=data.sort_values(by=['token','ts'])[data.token=='CRV']\n",
    "CRV.index=list(range(len(CRV)))\n",
    "SOL=data.sort_values(by=['token','ts'])[data.token=='SOL']\n",
    "SOL.index=list(range(len(SOL)))\n",
    "ETH=data.sort_values(by=['token','ts'])[data.token=='ETH']\n",
    "ETH.index=list(range(len(ETH)))\n",
    "AAVE=data.sort_values(by=['token','ts'])[data.token=='AAVE']\n",
    "AAVE.index=list(range(len(AAVE)))\n",
    "COMP=data.sort_values(by=['token','ts'])[data.token=='COMP']\n",
    "COMP.index=list(range(len(COMP)))\n",
    "BTC=data.sort_values(by=['token','ts'])[data.token=='BTC']\n",
    "BTC.index=list(range(len(BTC)))"
   ]
  },
  {
   "cell_type": "code",
   "execution_count": 30,
   "id": "6be2e62f-bea0-4bde-9eca-b9a24699e46f",
   "metadata": {},
   "outputs": [
    {
     "data": {
      "text/plain": [
       "<AxesSubplot:>"
      ]
     },
     "execution_count": 30,
     "metadata": {},
     "output_type": "execute_result"
    },
    {
     "data": {
      "image/png": "[encoded data removed]",
      "text/plain": [
       "<Figure size 432x288 with 1 Axes>"
      ]
     },
     "metadata": {
      "needs_background": "light"
     },
     "output_type": "display_data"
    }
   ],
   "source": [
    "UNI.close.plot()"
   ]
  },
  {
   "cell_type": "code",
   "execution_count": 34,
   "id": "96ea3a9a-ff4a-4405-ab4a-aa4508f40a5c",
   "metadata": {},
   "outputs": [
    {
     "data": {
      "text/plain": [
       "70      21.8709\n",
       "71      21.8549\n",
       "72      21.8305\n",
       "73      21.7105\n",
       "74    2145.8800\n",
       "75      21.2905\n",
       "76      20.7881\n",
       "77      20.8179\n",
       "78      20.8179\n",
       "79      20.7035\n",
       "80          NaN\n",
       "Name: close, dtype: float64"
      ]
     },
     "execution_count": 34,
     "metadata": {},
     "output_type": "execute_result"
    }
   ],
   "source": [
    "UNI.loc[70:80,'close']"
   ]
  },
  {
   "cell_type": "code",
   "execution_count": 35,
   "id": "205744d2-9280-44cf-9732-b55c68ed7d54",
   "metadata": {},
   "outputs": [
    {
     "data": {
      "text/plain": [
       "130      16.2022\n",
       "131      16.2022\n",
       "132      16.3696\n",
       "133      16.3696\n",
       "134          NaN\n",
       "135      16.4646\n",
       "136      16.3172\n",
       "137      16.3020\n",
       "138      16.3872\n",
       "139      16.5087\n",
       "140    1654.0400\n",
       "141      16.0660\n",
       "142      16.2051\n",
       "143      16.2051\n",
       "144      16.2984\n",
       "145      16.3616\n",
       "146      16.2557\n",
       "147      16.2557\n",
       "148      16.0411\n",
       "149    1584.7400\n",
       "150      15.8718\n",
       "Name: close, dtype: float64"
      ]
     },
     "execution_count": 35,
     "metadata": {},
     "output_type": "execute_result"
    }
   ],
   "source": [
    "UNI.loc[130:150,'close']"
   ]
  },
  {
   "cell_type": "code",
   "execution_count": 36,
   "id": "c0cf5465-f209-4932-b330-ba1095e7ef7b",
   "metadata": {},
   "outputs": [
    {
     "data": {
      "text/plain": [
       "175      17.1471\n",
       "176      17.0691\n",
       "177      16.9817\n",
       "178    1706.6600\n",
       "179    1706.6600\n",
       "180      17.0539\n",
       "181      17.5764\n",
       "182      17.5571\n",
       "183      17.5142\n",
       "184      17.6010\n",
       "185      17.2614\n",
       "186      17.2645\n",
       "187      17.4657\n",
       "188      17.5716\n",
       "189      17.2497\n",
       "190      17.1985\n",
       "Name: close, dtype: float64"
      ]
     },
     "execution_count": 36,
     "metadata": {},
     "output_type": "execute_result"
    }
   ],
   "source": [
    "UNI.loc[175:190,'close']"
   ]
  },
  {
   "cell_type": "code",
   "execution_count": 37,
   "id": "8a4c69aa-c3f0-4a0f-8a2d-37e7ab0ed3e2",
   "metadata": {},
   "outputs": [],
   "source": [
    "UNI.loc[74,'close']=21.4588\n",
    "UNI.loc[140,'close']=16.5404\n",
    "UNI.loc[149,'close']=15.8474\n",
    "UNI.loc[178,'close']=17.0666\n",
    "UNI.loc[179,'close']=17.0666"
   ]
  },
  {
   "cell_type": "code",
   "execution_count": 31,
   "id": "eaf8b601-391c-471d-a72b-821ea0cb75f5",
   "metadata": {},
   "outputs": [
    {
     "data": {
      "text/plain": [
       "<AxesSubplot:>"
      ]
     },
     "execution_count": 31,
     "metadata": {},
     "output_type": "execute_result"
    },
    {
     "data": {
      "image/png": "[encoded data removed]",
      "text/plain": [
       "<Figure size 432x288 with 1 Axes>"
      ]
     },
     "metadata": {
      "needs_background": "light"
     },
     "output_type": "display_data"
    }
   ],
   "source": [
    "UNI.volume.plot()"
   ]
  },
  {
   "cell_type": "code",
   "execution_count": 38,
   "id": "dd809d6a-76c3-47e6-ba36-d432ae996466",
   "metadata": {},
   "outputs": [],
   "source": [
    "UNI['volumeUSD']=UNI['volume']*UNI['close']\n"
   ]
  },
  {
   "cell_type": "code",
   "execution_count": 39,
   "id": "3a519260-ec6b-4426-b55c-2dde1f7ba21a",
   "metadata": {},
   "outputs": [
    {
     "data": {
      "text/html": [
       "<div>\n",
       "<style scoped>\n",
       "    .dataframe tbody tr th:only-of-type {\n",
       "        vertical-align: middle;\n",
       "    }\n",
       "\n",
       "    .dataframe tbody tr th {\n",
       "        vertical-align: top;\n",
       "    }\n",
       "\n",
       "    .dataframe thead th {\n",
       "        text-align: right;\n",
       "    }\n",
       "</style>\n",
       "<table border=\"1\" class=\"dataframe\">\n",
       "  <thead>\n",
       "    <tr style=\"text-align: right;\">\n",
       "      <th></th>\n",
       "      <th>ts</th>\n",
       "      <th>open</th>\n",
       "      <th>high</th>\n",
       "      <th>low</th>\n",
       "      <th>close</th>\n",
       "      <th>volume</th>\n",
       "      <th>volumeUSD</th>\n",
       "      <th>token</th>\n",
       "      <th>chain</th>\n",
       "    </tr>\n",
       "  </thead>\n",
       "  <tbody>\n",
       "    <tr>\n",
       "      <th>0</th>\n",
       "      <td>2021-12-01 00:00:00</td>\n",
       "      <td>21.2004</td>\n",
       "      <td>21.3115</td>\n",
       "      <td>21.0337</td>\n",
       "      <td>21.2659</td>\n",
       "      <td>12406.133674</td>\n",
       "      <td>263827.598098</td>\n",
       "      <td>UNI</td>\n",
       "      <td>ETH</td>\n",
       "    </tr>\n",
       "    <tr>\n",
       "      <th>1</th>\n",
       "      <td>2021-12-01 01:00:00</td>\n",
       "      <td>21.266</td>\n",
       "      <td>22.1368</td>\n",
       "      <td>21.0305</td>\n",
       "      <td>22.043</td>\n",
       "      <td>92376.543756</td>\n",
       "      <td>2036256.154014</td>\n",
       "      <td>UNI</td>\n",
       "      <td>ETH</td>\n",
       "    </tr>\n",
       "    <tr>\n",
       "      <th>2</th>\n",
       "      <td>2021-12-01 02:00:00</td>\n",
       "      <td>22.0408</td>\n",
       "      <td>22.0408</td>\n",
       "      <td>21.7921</td>\n",
       "      <td>21.8667</td>\n",
       "      <td>34805.819485</td>\n",
       "      <td>761088.412933</td>\n",
       "      <td>UNI</td>\n",
       "      <td>ETH</td>\n",
       "    </tr>\n",
       "    <tr>\n",
       "      <th>3</th>\n",
       "      <td>2021-12-01 03:00:00</td>\n",
       "      <td>21.8613</td>\n",
       "      <td>22.0187</td>\n",
       "      <td>21.7042</td>\n",
       "      <td>22.0095</td>\n",
       "      <td>11377.553611</td>\n",
       "      <td>250414.266201</td>\n",
       "      <td>UNI</td>\n",
       "      <td>ETH</td>\n",
       "    </tr>\n",
       "    <tr>\n",
       "      <th>4</th>\n",
       "      <td>2021-12-01 04:00:00</td>\n",
       "      <td>22.0108</td>\n",
       "      <td>22.2508</td>\n",
       "      <td>21.977</td>\n",
       "      <td>22.2287</td>\n",
       "      <td>63097.410553</td>\n",
       "      <td>1402573.409959</td>\n",
       "      <td>UNI</td>\n",
       "      <td>ETH</td>\n",
       "    </tr>\n",
       "    <tr>\n",
       "      <th>...</th>\n",
       "      <td>...</td>\n",
       "      <td>...</td>\n",
       "      <td>...</td>\n",
       "      <td>...</td>\n",
       "      <td>...</td>\n",
       "      <td>...</td>\n",
       "      <td>...</td>\n",
       "      <td>...</td>\n",
       "      <td>...</td>\n",
       "    </tr>\n",
       "    <tr>\n",
       "      <th>290</th>\n",
       "      <td>2021-12-13 02:00:00</td>\n",
       "      <td>15.8</td>\n",
       "      <td>15.8</td>\n",
       "      <td>15.43</td>\n",
       "      <td>15.44</td>\n",
       "      <td>27993.397444</td>\n",
       "      <td>432218.056535</td>\n",
       "      <td>UNI</td>\n",
       "      <td>ETH</td>\n",
       "    </tr>\n",
       "    <tr>\n",
       "      <th>291</th>\n",
       "      <td>2021-12-13 03:00:00</td>\n",
       "      <td>15.44</td>\n",
       "      <td>15.57</td>\n",
       "      <td>15.37</td>\n",
       "      <td>15.41</td>\n",
       "      <td>17591.589442</td>\n",
       "      <td>271086.393301</td>\n",
       "      <td>UNI</td>\n",
       "      <td>ETH</td>\n",
       "    </tr>\n",
       "    <tr>\n",
       "      <th>292</th>\n",
       "      <td>2021-12-13 04:00:00</td>\n",
       "      <td>15.41</td>\n",
       "      <td>NaN</td>\n",
       "      <td>15.37</td>\n",
       "      <td>15.4</td>\n",
       "      <td>14290.828396</td>\n",
       "      <td>220078.757298</td>\n",
       "      <td>UNI</td>\n",
       "      <td>ETH</td>\n",
       "    </tr>\n",
       "    <tr>\n",
       "      <th>293</th>\n",
       "      <td>2021-12-13 05:00:00</td>\n",
       "      <td>15.39</td>\n",
       "      <td>15.45</td>\n",
       "      <td>15.34</td>\n",
       "      <td>15.45</td>\n",
       "      <td>14427.253853</td>\n",
       "      <td>222901.072029</td>\n",
       "      <td>UNI</td>\n",
       "      <td>ETH</td>\n",
       "    </tr>\n",
       "    <tr>\n",
       "      <th>294</th>\n",
       "      <td>2021-12-13 06:00:00</td>\n",
       "      <td>15.43</td>\n",
       "      <td>15.44</td>\n",
       "      <td>15.4</td>\n",
       "      <td>15.42</td>\n",
       "      <td>3836.192943</td>\n",
       "      <td>59154.095181</td>\n",
       "      <td>UNI</td>\n",
       "      <td>ETH</td>\n",
       "    </tr>\n",
       "  </tbody>\n",
       "</table>\n",
       "<p>295 rows × 9 columns</p>\n",
       "</div>"
      ],
      "text/plain": [
       "                      ts     open     high      low    close        volume  \\\n",
       "0    2021-12-01 00:00:00  21.2004  21.3115  21.0337  21.2659  12406.133674   \n",
       "1    2021-12-01 01:00:00   21.266  22.1368  21.0305   22.043  92376.543756   \n",
       "2    2021-12-01 02:00:00  22.0408  22.0408  21.7921  21.8667  34805.819485   \n",
       "3    2021-12-01 03:00:00  21.8613  22.0187  21.7042  22.0095  11377.553611   \n",
       "4    2021-12-01 04:00:00  22.0108  22.2508   21.977  22.2287  63097.410553   \n",
       "..                   ...      ...      ...      ...      ...           ...   \n",
       "290  2021-12-13 02:00:00     15.8     15.8    15.43    15.44  27993.397444   \n",
       "291  2021-12-13 03:00:00    15.44    15.57    15.37    15.41  17591.589442   \n",
       "292  2021-12-13 04:00:00    15.41      NaN    15.37     15.4  14290.828396   \n",
       "293  2021-12-13 05:00:00    15.39    15.45    15.34    15.45  14427.253853   \n",
       "294  2021-12-13 06:00:00    15.43    15.44     15.4    15.42   3836.192943   \n",
       "\n",
       "          volumeUSD token chain  \n",
       "0     263827.598098   UNI   ETH  \n",
       "1    2036256.154014   UNI   ETH  \n",
       "2     761088.412933   UNI   ETH  \n",
       "3     250414.266201   UNI   ETH  \n",
       "4    1402573.409959   UNI   ETH  \n",
       "..              ...   ...   ...  \n",
       "290   432218.056535   UNI   ETH  \n",
       "291   271086.393301   UNI   ETH  \n",
       "292   220078.757298   UNI   ETH  \n",
       "293   222901.072029   UNI   ETH  \n",
       "294    59154.095181   UNI   ETH  \n",
       "\n",
       "[295 rows x 9 columns]"
      ]
     },
     "execution_count": 39,
     "metadata": {},
     "output_type": "execute_result"
    }
   ],
   "source": [
    "def get_unique(data):\n",
    "    Times=list(data.ts.unique())\n",
    "    dicter={}\n",
    "    for i in Times:\n",
    "        dicter[i]=data[data.ts==i].iloc[0,:]\n",
    "    new_data=pd.concat(dicter.values(),axis=1).T\n",
    "    new_data.index=list(range(len(new_data)))\n",
    "    return new_data\n",
    "newUNI=get_unique(UNI)\n",
    "newUNI"
   ]
  },
  {
   "cell_type": "code",
   "execution_count": 40,
   "id": "183a461d-c068-463b-9156-43fdf600f6c7",
   "metadata": {},
   "outputs": [
    {
     "data": {
      "text/plain": [
       "<AxesSubplot:>"
      ]
     },
     "execution_count": 40,
     "metadata": {},
     "output_type": "execute_result"
    },
    {
     "data": {
      "image/png": "[encoded data removed]",
      "text/plain": [
       "<Figure size 432x288 with 1 Axes>"
      ]
     },
     "metadata": {
      "needs_background": "light"
     },
     "output_type": "display_data"
    }
   ],
   "source": [
    "newUNI.volumeUSD.plot()"
   ]
  },
  {
   "cell_type": "code",
   "execution_count": 41,
   "id": "a5184009-4023-4e02-9e56-b409d0618d89",
   "metadata": {},
   "outputs": [
    {
     "data": {
      "text/plain": [
       "272235895.2524253"
      ]
     },
     "execution_count": 41,
     "metadata": {},
     "output_type": "execute_result"
    }
   ],
   "source": [
    "newUNI.volumeUSD.sum()"
   ]
  },
  {
   "cell_type": "code",
   "execution_count": 42,
   "id": "344be31a-5e0f-4ed3-aa23-f743a5871943",
   "metadata": {},
   "outputs": [
    {
     "data": {
      "text/plain": [
       "<AxesSubplot:>"
      ]
     },
     "execution_count": 42,
     "metadata": {},
     "output_type": "execute_result"
    },
    {
     "data": {
      "image/png": "[encoded data removed]",
      "text/plain": [
       "<Figure size 432x288 with 1 Axes>"
      ]
     },
     "metadata": {
      "needs_background": "light"
     },
     "output_type": "display_data"
    }
   ],
   "source": [
    "CRV.close.plot()"
   ]
  },
  {
   "cell_type": "code",
   "execution_count": 46,
   "id": "9a243e55-5c3e-4f8b-a629-95ec2fd88c1f",
   "metadata": {},
   "outputs": [],
   "source": [
    "for i in range(len(CRV)):\n",
    "    if CRV.loc[i,'close']<0.5:\n",
    "        CRV.loc[i,'close']=CRV.loc[i,'close']*100\n",
    "    if CRV.loc[i,'close']>100:\n",
    "        CRV.loc[i,'close']=CRV.loc[i,'close']/100"
   ]
  },
  {
   "cell_type": "code",
   "execution_count": 47,
   "id": "bccc02f9-6473-40df-96ec-bc0675eb3f44",
   "metadata": {},
   "outputs": [
    {
     "data": {
      "text/plain": [
       "<AxesSubplot:>"
      ]
     },
     "execution_count": 47,
     "metadata": {},
     "output_type": "execute_result"
    },
    {
     "data": {
      "image/png": "[encoded data removed]",
      "text/plain": [
       "<Figure size 432x288 with 1 Axes>"
      ]
     },
     "metadata": {
      "needs_background": "light"
     },
     "output_type": "display_data"
    }
   ],
   "source": [
    "CRV.close.plot()"
   ]
  },
  {
   "cell_type": "code",
   "execution_count": 48,
   "id": "e485e60b-f61d-4566-bae7-e0eadc7f8b2f",
   "metadata": {},
   "outputs": [],
   "source": [
    "CRV['volumeUSD']=CRV['volume']*CRV['close']"
   ]
  },
  {
   "cell_type": "code",
   "execution_count": 49,
   "id": "c8d05c97-117f-4417-9d5a-f1e5feba5f51",
   "metadata": {},
   "outputs": [
    {
     "data": {
      "text/html": [
       "<div>\n",
       "<style scoped>\n",
       "    .dataframe tbody tr th:only-of-type {\n",
       "        vertical-align: middle;\n",
       "    }\n",
       "\n",
       "    .dataframe tbody tr th {\n",
       "        vertical-align: top;\n",
       "    }\n",
       "\n",
       "    .dataframe thead th {\n",
       "        text-align: right;\n",
       "    }\n",
       "</style>\n",
       "<table border=\"1\" class=\"dataframe\">\n",
       "  <thead>\n",
       "    <tr style=\"text-align: right;\">\n",
       "      <th></th>\n",
       "      <th>ts</th>\n",
       "      <th>open</th>\n",
       "      <th>high</th>\n",
       "      <th>low</th>\n",
       "      <th>close</th>\n",
       "      <th>volume</th>\n",
       "      <th>volumeUSD</th>\n",
       "      <th>token</th>\n",
       "      <th>chain</th>\n",
       "    </tr>\n",
       "  </thead>\n",
       "  <tbody>\n",
       "    <tr>\n",
       "      <th>0</th>\n",
       "      <td>2021-12-01 00:00:00</td>\n",
       "      <td>4.883</td>\n",
       "      <td>5.0723</td>\n",
       "      <td>4.8264</td>\n",
       "      <td>5.0295</td>\n",
       "      <td>339580.96</td>\n",
       "      <td>1707922.43832</td>\n",
       "      <td>CRV</td>\n",
       "      <td>ETH</td>\n",
       "    </tr>\n",
       "    <tr>\n",
       "      <th>1</th>\n",
       "      <td>2021-12-01 01:00:00</td>\n",
       "      <td>5.0311</td>\n",
       "      <td>5.2</td>\n",
       "      <td>5.0</td>\n",
       "      <td>5.1277</td>\n",
       "      <td>764729.41</td>\n",
       "      <td>3921302.995657</td>\n",
       "      <td>CRV</td>\n",
       "      <td>ETH</td>\n",
       "    </tr>\n",
       "    <tr>\n",
       "      <th>2</th>\n",
       "      <td>2021-12-01 02:00:00</td>\n",
       "      <td>5.1245</td>\n",
       "      <td>5.1463</td>\n",
       "      <td>5.0352</td>\n",
       "      <td>5.0824</td>\n",
       "      <td>236376.18</td>\n",
       "      <td>1201358.297232</td>\n",
       "      <td>CRV</td>\n",
       "      <td>ETH</td>\n",
       "    </tr>\n",
       "    <tr>\n",
       "      <th>3</th>\n",
       "      <td>2021-12-01 03:00:00</td>\n",
       "      <td>5.083</td>\n",
       "      <td>5.1744</td>\n",
       "      <td>5.0438</td>\n",
       "      <td>5.1669</td>\n",
       "      <td>202554.09</td>\n",
       "      <td>1046576.727621</td>\n",
       "      <td>CRV</td>\n",
       "      <td>ETH</td>\n",
       "    </tr>\n",
       "    <tr>\n",
       "      <th>4</th>\n",
       "      <td>2021-12-01 04:00:00</td>\n",
       "      <td>5.1634</td>\n",
       "      <td>5.1754</td>\n",
       "      <td>5.0575</td>\n",
       "      <td>5.1328</td>\n",
       "      <td>192312.1</td>\n",
       "      <td>987099.54688</td>\n",
       "      <td>CRV</td>\n",
       "      <td>ETH</td>\n",
       "    </tr>\n",
       "    <tr>\n",
       "      <th>...</th>\n",
       "      <td>...</td>\n",
       "      <td>...</td>\n",
       "      <td>...</td>\n",
       "      <td>...</td>\n",
       "      <td>...</td>\n",
       "      <td>...</td>\n",
       "      <td>...</td>\n",
       "      <td>...</td>\n",
       "      <td>...</td>\n",
       "    </tr>\n",
       "    <tr>\n",
       "      <th>290</th>\n",
       "      <td>2021-12-13 02:00:00</td>\n",
       "      <td>3.78</td>\n",
       "      <td>3.79</td>\n",
       "      <td>3.7</td>\n",
       "      <td>3.7</td>\n",
       "      <td>192114.96</td>\n",
       "      <td>710825.352</td>\n",
       "      <td>CRV</td>\n",
       "      <td>ETH</td>\n",
       "    </tr>\n",
       "    <tr>\n",
       "      <th>291</th>\n",
       "      <td>2021-12-13 03:00:00</td>\n",
       "      <td>3.69</td>\n",
       "      <td>NaN</td>\n",
       "      <td>3.69</td>\n",
       "      <td>3.78</td>\n",
       "      <td>124283.12</td>\n",
       "      <td>469790.1936</td>\n",
       "      <td>CRV</td>\n",
       "      <td>ETH</td>\n",
       "    </tr>\n",
       "    <tr>\n",
       "      <th>292</th>\n",
       "      <td>2021-12-13 04:00:00</td>\n",
       "      <td>3.78</td>\n",
       "      <td>3.908</td>\n",
       "      <td>3.76</td>\n",
       "      <td>3.908</td>\n",
       "      <td>427716.57</td>\n",
       "      <td>1671516.35556</td>\n",
       "      <td>CRV</td>\n",
       "      <td>ETH</td>\n",
       "    </tr>\n",
       "    <tr>\n",
       "      <th>293</th>\n",
       "      <td>2021-12-13 05:00:00</td>\n",
       "      <td>3.9</td>\n",
       "      <td>3.91</td>\n",
       "      <td>3.84</td>\n",
       "      <td>3.87</td>\n",
       "      <td>242850.89</td>\n",
       "      <td>939832.9443</td>\n",
       "      <td>CRV</td>\n",
       "      <td>ETH</td>\n",
       "    </tr>\n",
       "    <tr>\n",
       "      <th>294</th>\n",
       "      <td>2021-12-13 06:00:00</td>\n",
       "      <td>3.87</td>\n",
       "      <td>3.87</td>\n",
       "      <td>3.82</td>\n",
       "      <td>NaN</td>\n",
       "      <td>45270.08</td>\n",
       "      <td>NaN</td>\n",
       "      <td>CRV</td>\n",
       "      <td>ETH</td>\n",
       "    </tr>\n",
       "  </tbody>\n",
       "</table>\n",
       "<p>295 rows × 9 columns</p>\n",
       "</div>"
      ],
      "text/plain": [
       "                      ts    open    high     low   close     volume  \\\n",
       "0    2021-12-01 00:00:00   4.883  5.0723  4.8264  5.0295  339580.96   \n",
       "1    2021-12-01 01:00:00  5.0311     5.2     5.0  5.1277  764729.41   \n",
       "2    2021-12-01 02:00:00  5.1245  5.1463  5.0352  5.0824  236376.18   \n",
       "3    2021-12-01 03:00:00   5.083  5.1744  5.0438  5.1669  202554.09   \n",
       "4    2021-12-01 04:00:00  5.1634  5.1754  5.0575  5.1328   192312.1   \n",
       "..                   ...     ...     ...     ...     ...        ...   \n",
       "290  2021-12-13 02:00:00    3.78    3.79     3.7     3.7  192114.96   \n",
       "291  2021-12-13 03:00:00    3.69     NaN    3.69    3.78  124283.12   \n",
       "292  2021-12-13 04:00:00    3.78   3.908    3.76   3.908  427716.57   \n",
       "293  2021-12-13 05:00:00     3.9    3.91    3.84    3.87  242850.89   \n",
       "294  2021-12-13 06:00:00    3.87    3.87    3.82     NaN   45270.08   \n",
       "\n",
       "          volumeUSD token chain  \n",
       "0     1707922.43832   CRV   ETH  \n",
       "1    3921302.995657   CRV   ETH  \n",
       "2    1201358.297232   CRV   ETH  \n",
       "3    1046576.727621   CRV   ETH  \n",
       "4      987099.54688   CRV   ETH  \n",
       "..              ...   ...   ...  \n",
       "290      710825.352   CRV   ETH  \n",
       "291     469790.1936   CRV   ETH  \n",
       "292   1671516.35556   CRV   ETH  \n",
       "293     939832.9443   CRV   ETH  \n",
       "294             NaN   CRV   ETH  \n",
       "\n",
       "[295 rows x 9 columns]"
      ]
     },
     "execution_count": 49,
     "metadata": {},
     "output_type": "execute_result"
    }
   ],
   "source": [
    "def get_unique(data):\n",
    "    Times=list(data.ts.unique())\n",
    "    dicter={}\n",
    "    for i in Times:\n",
    "        dicter[i]=data[data.ts==i].iloc[0,:]\n",
    "    new_data=pd.concat(dicter.values(),axis=1).T\n",
    "    new_data.index=list(range(len(new_data)))\n",
    "    return new_data\n",
    "newCRV=get_unique(CRV)\n",
    "newCRV"
   ]
  },
  {
   "cell_type": "code",
   "execution_count": 50,
   "id": "58d24639-afb8-4cff-a1a8-6badc4ba0b16",
   "metadata": {},
   "outputs": [
    {
     "data": {
      "text/plain": [
       "<AxesSubplot:>"
      ]
     },
     "execution_count": 50,
     "metadata": {},
     "output_type": "execute_result"
    },
    {
     "data": {
      "image/png": "[encoded data removed]",
      "text/plain": [
       "<Figure size 432x288 with 1 Axes>"
      ]
     },
     "metadata": {
      "needs_background": "light"
     },
     "output_type": "display_data"
    }
   ],
   "source": [
    "newCRV.volumeUSD.plot()"
   ]
  },
  {
   "cell_type": "code",
   "execution_count": 51,
   "id": "c7d1c893-f301-4ac2-9252-bf398858988d",
   "metadata": {},
   "outputs": [
    {
     "data": {
      "text/plain": [
       "297653905.16469914"
      ]
     },
     "execution_count": 51,
     "metadata": {},
     "output_type": "execute_result"
    }
   ],
   "source": [
    "newCRV.volumeUSD.sum()"
   ]
  },
  {
   "cell_type": "code",
   "execution_count": 44,
   "id": "7a973293-5b28-46d4-bf08-dab3524f2ab4",
   "metadata": {},
   "outputs": [
    {
     "data": {
      "text/plain": [
       "0     0.050295\n",
       "1     5.127700\n",
       "2     5.082400\n",
       "3     5.166900\n",
       "4     5.166900\n",
       "5     5.132800\n",
       "6     5.250000\n",
       "7          NaN\n",
       "8     5.245800\n",
       "9     5.245800\n",
       "10    5.394800\n",
       "Name: close, dtype: float64"
      ]
     },
     "execution_count": 44,
     "metadata": {},
     "output_type": "execute_result"
    }
   ],
   "source": [
    "CRV.loc[:10,'close']"
   ]
  },
  {
   "cell_type": "code",
   "execution_count": 57,
   "id": "e103b1e4-1b05-4a19-b821-35341ca2e3a6",
   "metadata": {},
   "outputs": [
    {
     "data": {
      "text/plain": [
       "<AxesSubplot:>"
      ]
     },
     "execution_count": 57,
     "metadata": {},
     "output_type": "execute_result"
    },
    {
     "data": {
      "image/png": "[encoded data removed]",
      "text/plain": [
       "<Figure size 432x288 with 1 Axes>"
      ]
     },
     "metadata": {
      "needs_background": "light"
     },
     "output_type": "display_data"
    }
   ],
   "source": [
    "SOL.close.plot()"
   ]
  },
  {
   "cell_type": "code",
   "execution_count": 60,
   "id": "96ff2759-430f-48a6-9384-eea8d53c2e39",
   "metadata": {},
   "outputs": [
    {
     "data": {
      "text/plain": [
       "170      195.658\n",
       "171      196.503\n",
       "172      197.218\n",
       "173    20010.000\n",
       "174      199.718\n",
       "175      203.748\n",
       "176      202.117\n",
       "177      202.337\n",
       "178      203.480\n",
       "179      199.585\n",
       "180      198.401\n",
       "181      199.515\n",
       "182          NaN\n",
       "183      197.014\n",
       "184    19698.900\n",
       "185      195.238\n",
       "186      194.463\n",
       "187      192.666\n",
       "188      191.777\n",
       "189      189.617\n",
       "190      190.366\n",
       "191      192.148\n",
       "192      191.095\n",
       "193      191.095\n",
       "194      188.586\n",
       "195      186.757\n",
       "196      188.058\n",
       "197      187.972\n",
       "198      189.776\n",
       "199      189.742\n",
       "200      189.613\n",
       "Name: close, dtype: float64"
      ]
     },
     "execution_count": 60,
     "metadata": {},
     "output_type": "execute_result"
    }
   ],
   "source": [
    "SOL.loc[170:200,'close']"
   ]
  },
  {
   "cell_type": "code",
   "execution_count": 53,
   "id": "8a392fc0-fda4-463d-80ab-933e4b4f6c13",
   "metadata": {},
   "outputs": [
    {
     "data": {
      "text/plain": [
       "<AxesSubplot:>"
      ]
     },
     "execution_count": 53,
     "metadata": {},
     "output_type": "execute_result"
    },
    {
     "data": {
      "image/png": "[encoded data removed]",
      "text/plain": [
       "<Figure size 432x288 with 1 Axes>"
      ]
     },
     "metadata": {
      "needs_background": "light"
     },
     "output_type": "display_data"
    }
   ],
   "source": [
    "SOL.volume.plot()"
   ]
  },
  {
   "cell_type": "code",
   "execution_count": 61,
   "id": "7f5dd67d-de30-4a31-a6cc-f0600fce36d5",
   "metadata": {},
   "outputs": [],
   "source": [
    "for i in range(len(SOL)):\n",
    "    if SOL.loc[i,'close']<4:\n",
    "        SOL.loc[i,'close']=SOL.loc[i,'close']*100\n",
    "    if SOL.loc[i,'close']>2000:\n",
    "        SOL.loc[i,'close']=SOL.loc[i,'close']/100"
   ]
  },
  {
   "cell_type": "code",
   "execution_count": 62,
   "id": "2bfe27a6-2b87-4751-ab47-f79308fe8af5",
   "metadata": {},
   "outputs": [
    {
     "data": {
      "text/plain": [
       "<AxesSubplot:>"
      ]
     },
     "execution_count": 62,
     "metadata": {},
     "output_type": "execute_result"
    },
    {
     "data": {
      "image/png": "[encoded data removed]",
      "text/plain": [
       "<Figure size 432x288 with 1 Axes>"
      ]
     },
     "metadata": {
      "needs_background": "light"
     },
     "output_type": "display_data"
    }
   ],
   "source": [
    "SOL.close.plot()"
   ]
  },
  {
   "cell_type": "code",
   "execution_count": 63,
   "id": "ab0cbd17-8f91-4ef2-a03a-2c6583fd42c8",
   "metadata": {},
   "outputs": [
    {
     "data": {
      "text/html": [
       "<div>\n",
       "<style scoped>\n",
       "    .dataframe tbody tr th:only-of-type {\n",
       "        vertical-align: middle;\n",
       "    }\n",
       "\n",
       "    .dataframe tbody tr th {\n",
       "        vertical-align: top;\n",
       "    }\n",
       "\n",
       "    .dataframe thead th {\n",
       "        text-align: right;\n",
       "    }\n",
       "</style>\n",
       "<table border=\"1\" class=\"dataframe\">\n",
       "  <thead>\n",
       "    <tr style=\"text-align: right;\">\n",
       "      <th></th>\n",
       "      <th>ts</th>\n",
       "      <th>open</th>\n",
       "      <th>high</th>\n",
       "      <th>low</th>\n",
       "      <th>close</th>\n",
       "      <th>volume</th>\n",
       "      <th>volumeUSD</th>\n",
       "      <th>token</th>\n",
       "      <th>chain</th>\n",
       "    </tr>\n",
       "  </thead>\n",
       "  <tbody>\n",
       "    <tr>\n",
       "      <th>0</th>\n",
       "      <td>2021-12-01 00:00:00</td>\n",
       "      <td>210.312</td>\n",
       "      <td>NaN</td>\n",
       "      <td>208.432</td>\n",
       "      <td>208.676</td>\n",
       "      <td>70031.618</td>\n",
       "      <td>1.461392e+07</td>\n",
       "      <td>SOL</td>\n",
       "      <td>SOL</td>\n",
       "    </tr>\n",
       "    <tr>\n",
       "      <th>1</th>\n",
       "      <td>2021-12-01 01:00:00</td>\n",
       "      <td>208.716</td>\n",
       "      <td>211.773</td>\n",
       "      <td>207.821</td>\n",
       "      <td>211.507</td>\n",
       "      <td>92606.555</td>\n",
       "      <td>1.958693e+07</td>\n",
       "      <td>SOL</td>\n",
       "      <td>SOL</td>\n",
       "    </tr>\n",
       "    <tr>\n",
       "      <th>2</th>\n",
       "      <td>2021-12-01 02:00:00</td>\n",
       "      <td>211.506</td>\n",
       "      <td>212.235</td>\n",
       "      <td>210.003</td>\n",
       "      <td>210.868</td>\n",
       "      <td>49728.032</td>\n",
       "      <td>1.048605e+07</td>\n",
       "      <td>SOL</td>\n",
       "      <td>SOL</td>\n",
       "    </tr>\n",
       "    <tr>\n",
       "      <th>3</th>\n",
       "      <td>2021-12-01 02:00:00</td>\n",
       "      <td>211.506</td>\n",
       "      <td>212.235</td>\n",
       "      <td>210.003</td>\n",
       "      <td>210.868</td>\n",
       "      <td>49728.032</td>\n",
       "      <td>1.048605e+07</td>\n",
       "      <td>SOL</td>\n",
       "      <td>SOL</td>\n",
       "    </tr>\n",
       "    <tr>\n",
       "      <th>4</th>\n",
       "      <td>2021-12-01 03:00:00</td>\n",
       "      <td>210.889</td>\n",
       "      <td>215.063</td>\n",
       "      <td>210.805</td>\n",
       "      <td>214.150</td>\n",
       "      <td>70399.433</td>\n",
       "      <td>1.507604e+07</td>\n",
       "      <td>SOL</td>\n",
       "      <td>SOL</td>\n",
       "    </tr>\n",
       "    <tr>\n",
       "      <th>...</th>\n",
       "      <td>...</td>\n",
       "      <td>...</td>\n",
       "      <td>...</td>\n",
       "      <td>...</td>\n",
       "      <td>...</td>\n",
       "      <td>...</td>\n",
       "      <td>...</td>\n",
       "      <td>...</td>\n",
       "      <td>...</td>\n",
       "    </tr>\n",
       "    <tr>\n",
       "      <th>329</th>\n",
       "      <td>2021-12-13 02:00:00</td>\n",
       "      <td>170.710</td>\n",
       "      <td>171.090</td>\n",
       "      <td>NaN</td>\n",
       "      <td>168.030</td>\n",
       "      <td>87031.061</td>\n",
       "      <td>1.462383e+07</td>\n",
       "      <td>SOL</td>\n",
       "      <td>SOL</td>\n",
       "    </tr>\n",
       "    <tr>\n",
       "      <th>330</th>\n",
       "      <td>2021-12-13 03:00:00</td>\n",
       "      <td>168.060</td>\n",
       "      <td>169.380</td>\n",
       "      <td>167.180</td>\n",
       "      <td>167.770</td>\n",
       "      <td>48298.395</td>\n",
       "      <td>8.103022e+06</td>\n",
       "      <td>SOL</td>\n",
       "      <td>SOL</td>\n",
       "    </tr>\n",
       "    <tr>\n",
       "      <th>331</th>\n",
       "      <td>2021-12-13 04:00:00</td>\n",
       "      <td>167.780</td>\n",
       "      <td>168.220</td>\n",
       "      <td>NaN</td>\n",
       "      <td>167.460</td>\n",
       "      <td>46340.920</td>\n",
       "      <td>7.760250e+06</td>\n",
       "      <td>SOL</td>\n",
       "      <td>SOL</td>\n",
       "    </tr>\n",
       "    <tr>\n",
       "      <th>332</th>\n",
       "      <td>2021-12-13 05:00:00</td>\n",
       "      <td>167.450</td>\n",
       "      <td>168.090</td>\n",
       "      <td>166.250</td>\n",
       "      <td>167.490</td>\n",
       "      <td>50848.701</td>\n",
       "      <td>8.516649e+06</td>\n",
       "      <td>SOL</td>\n",
       "      <td>SOL</td>\n",
       "    </tr>\n",
       "    <tr>\n",
       "      <th>333</th>\n",
       "      <td>2021-12-13 06:00:00</td>\n",
       "      <td>167.480</td>\n",
       "      <td>167.800</td>\n",
       "      <td>166.930</td>\n",
       "      <td>167.640</td>\n",
       "      <td>11191.365</td>\n",
       "      <td>1.876120e+06</td>\n",
       "      <td>SOL</td>\n",
       "      <td>SOL</td>\n",
       "    </tr>\n",
       "  </tbody>\n",
       "</table>\n",
       "<p>334 rows × 9 columns</p>\n",
       "</div>"
      ],
      "text/plain": [
       "                      ts     open     high      low    close     volume  \\\n",
       "0    2021-12-01 00:00:00  210.312      NaN  208.432  208.676  70031.618   \n",
       "1    2021-12-01 01:00:00  208.716  211.773  207.821  211.507  92606.555   \n",
       "2    2021-12-01 02:00:00  211.506  212.235  210.003  210.868  49728.032   \n",
       "3    2021-12-01 02:00:00  211.506  212.235  210.003  210.868  49728.032   \n",
       "4    2021-12-01 03:00:00  210.889  215.063  210.805  214.150  70399.433   \n",
       "..                   ...      ...      ...      ...      ...        ...   \n",
       "329  2021-12-13 02:00:00  170.710  171.090      NaN  168.030  87031.061   \n",
       "330  2021-12-13 03:00:00  168.060  169.380  167.180  167.770  48298.395   \n",
       "331  2021-12-13 04:00:00  167.780  168.220      NaN  167.460  46340.920   \n",
       "332  2021-12-13 05:00:00  167.450  168.090  166.250  167.490  50848.701   \n",
       "333  2021-12-13 06:00:00  167.480  167.800  166.930  167.640  11191.365   \n",
       "\n",
       "        volumeUSD token chain  \n",
       "0    1.461392e+07   SOL   SOL  \n",
       "1    1.958693e+07   SOL   SOL  \n",
       "2    1.048605e+07   SOL   SOL  \n",
       "3    1.048605e+07   SOL   SOL  \n",
       "4    1.507604e+07   SOL   SOL  \n",
       "..            ...   ...   ...  \n",
       "329  1.462383e+07   SOL   SOL  \n",
       "330  8.103022e+06   SOL   SOL  \n",
       "331  7.760250e+06   SOL   SOL  \n",
       "332  8.516649e+06   SOL   SOL  \n",
       "333  1.876120e+06   SOL   SOL  \n",
       "\n",
       "[334 rows x 9 columns]"
      ]
     },
     "execution_count": 63,
     "metadata": {},
     "output_type": "execute_result"
    }
   ],
   "source": [
    "SOL['volumeUSD']=SOL['volume']*SOL['close']\n",
    "SOL"
   ]
  },
  {
   "cell_type": "code",
   "execution_count": 64,
   "id": "5f9f303e-156c-49a2-9efa-8946efdb402d",
   "metadata": {},
   "outputs": [
    {
     "data": {
      "text/plain": [
       "<AxesSubplot:>"
      ]
     },
     "execution_count": 64,
     "metadata": {},
     "output_type": "execute_result"
    },
    {
     "data": {
      "image/png": "[encoded data removed]",
      "text/plain": [
       "<Figure size 432x288 with 1 Axes>"
      ]
     },
     "metadata": {
      "needs_background": "light"
     },
     "output_type": "display_data"
    }
   ],
   "source": [
    "\n",
    "SOL.volumeUSD.plot()"
   ]
  },
  {
   "cell_type": "code",
   "execution_count": 66,
   "id": "35fadd30-d5bb-4516-ac2b-399462196b1f",
   "metadata": {},
   "outputs": [
    {
     "data": {
      "text/html": [
       "<div>\n",
       "<style scoped>\n",
       "    .dataframe tbody tr th:only-of-type {\n",
       "        vertical-align: middle;\n",
       "    }\n",
       "\n",
       "    .dataframe tbody tr th {\n",
       "        vertical-align: top;\n",
       "    }\n",
       "\n",
       "    .dataframe thead th {\n",
       "        text-align: right;\n",
       "    }\n",
       "</style>\n",
       "<table border=\"1\" class=\"dataframe\">\n",
       "  <thead>\n",
       "    <tr style=\"text-align: right;\">\n",
       "      <th></th>\n",
       "      <th>ts</th>\n",
       "      <th>open</th>\n",
       "      <th>high</th>\n",
       "      <th>low</th>\n",
       "      <th>close</th>\n",
       "      <th>volume</th>\n",
       "      <th>volumeUSD</th>\n",
       "      <th>token</th>\n",
       "      <th>chain</th>\n",
       "    </tr>\n",
       "  </thead>\n",
       "  <tbody>\n",
       "    <tr>\n",
       "      <th>0</th>\n",
       "      <td>2021-12-01 00:00:00</td>\n",
       "      <td>210.312</td>\n",
       "      <td>NaN</td>\n",
       "      <td>208.432</td>\n",
       "      <td>208.676</td>\n",
       "      <td>70031.618</td>\n",
       "      <td>14613917.917768</td>\n",
       "      <td>SOL</td>\n",
       "      <td>SOL</td>\n",
       "    </tr>\n",
       "    <tr>\n",
       "      <th>1</th>\n",
       "      <td>2021-12-01 01:00:00</td>\n",
       "      <td>208.716</td>\n",
       "      <td>211.773</td>\n",
       "      <td>207.821</td>\n",
       "      <td>211.507</td>\n",
       "      <td>92606.555</td>\n",
       "      <td>19586934.628385</td>\n",
       "      <td>SOL</td>\n",
       "      <td>SOL</td>\n",
       "    </tr>\n",
       "    <tr>\n",
       "      <th>2</th>\n",
       "      <td>2021-12-01 02:00:00</td>\n",
       "      <td>211.506</td>\n",
       "      <td>212.235</td>\n",
       "      <td>210.003</td>\n",
       "      <td>210.868</td>\n",
       "      <td>49728.032</td>\n",
       "      <td>10486050.651776</td>\n",
       "      <td>SOL</td>\n",
       "      <td>SOL</td>\n",
       "    </tr>\n",
       "    <tr>\n",
       "      <th>3</th>\n",
       "      <td>2021-12-01 03:00:00</td>\n",
       "      <td>210.889</td>\n",
       "      <td>215.063</td>\n",
       "      <td>210.805</td>\n",
       "      <td>214.15</td>\n",
       "      <td>70399.433</td>\n",
       "      <td>15076038.57695</td>\n",
       "      <td>SOL</td>\n",
       "      <td>SOL</td>\n",
       "    </tr>\n",
       "    <tr>\n",
       "      <th>4</th>\n",
       "      <td>2021-12-01 04:00:00</td>\n",
       "      <td>214.148</td>\n",
       "      <td>215.232</td>\n",
       "      <td>212.707</td>\n",
       "      <td>215.176</td>\n",
       "      <td>57243.379</td>\n",
       "      <td>12317401.319704</td>\n",
       "      <td>SOL</td>\n",
       "      <td>SOL</td>\n",
       "    </tr>\n",
       "    <tr>\n",
       "      <th>...</th>\n",
       "      <td>...</td>\n",
       "      <td>...</td>\n",
       "      <td>...</td>\n",
       "      <td>...</td>\n",
       "      <td>...</td>\n",
       "      <td>...</td>\n",
       "      <td>...</td>\n",
       "      <td>...</td>\n",
       "      <td>...</td>\n",
       "    </tr>\n",
       "    <tr>\n",
       "      <th>290</th>\n",
       "      <td>2021-12-13 02:00:00</td>\n",
       "      <td>170.71</td>\n",
       "      <td>171.09</td>\n",
       "      <td>NaN</td>\n",
       "      <td>168.03</td>\n",
       "      <td>87031.061</td>\n",
       "      <td>14623829.17983</td>\n",
       "      <td>SOL</td>\n",
       "      <td>SOL</td>\n",
       "    </tr>\n",
       "    <tr>\n",
       "      <th>291</th>\n",
       "      <td>2021-12-13 03:00:00</td>\n",
       "      <td>168.06</td>\n",
       "      <td>169.38</td>\n",
       "      <td>167.18</td>\n",
       "      <td>167.77</td>\n",
       "      <td>48298.395</td>\n",
       "      <td>8103021.72915</td>\n",
       "      <td>SOL</td>\n",
       "      <td>SOL</td>\n",
       "    </tr>\n",
       "    <tr>\n",
       "      <th>292</th>\n",
       "      <td>2021-12-13 04:00:00</td>\n",
       "      <td>167.78</td>\n",
       "      <td>168.22</td>\n",
       "      <td>NaN</td>\n",
       "      <td>167.46</td>\n",
       "      <td>46340.92</td>\n",
       "      <td>7760250.4632</td>\n",
       "      <td>SOL</td>\n",
       "      <td>SOL</td>\n",
       "    </tr>\n",
       "    <tr>\n",
       "      <th>293</th>\n",
       "      <td>2021-12-13 05:00:00</td>\n",
       "      <td>167.45</td>\n",
       "      <td>168.09</td>\n",
       "      <td>166.25</td>\n",
       "      <td>167.49</td>\n",
       "      <td>50848.701</td>\n",
       "      <td>8516648.93049</td>\n",
       "      <td>SOL</td>\n",
       "      <td>SOL</td>\n",
       "    </tr>\n",
       "    <tr>\n",
       "      <th>294</th>\n",
       "      <td>2021-12-13 06:00:00</td>\n",
       "      <td>167.48</td>\n",
       "      <td>167.8</td>\n",
       "      <td>166.93</td>\n",
       "      <td>167.64</td>\n",
       "      <td>11191.365</td>\n",
       "      <td>1876120.4286</td>\n",
       "      <td>SOL</td>\n",
       "      <td>SOL</td>\n",
       "    </tr>\n",
       "  </tbody>\n",
       "</table>\n",
       "<p>295 rows × 9 columns</p>\n",
       "</div>"
      ],
      "text/plain": [
       "                      ts     open     high      low    close     volume  \\\n",
       "0    2021-12-01 00:00:00  210.312      NaN  208.432  208.676  70031.618   \n",
       "1    2021-12-01 01:00:00  208.716  211.773  207.821  211.507  92606.555   \n",
       "2    2021-12-01 02:00:00  211.506  212.235  210.003  210.868  49728.032   \n",
       "3    2021-12-01 03:00:00  210.889  215.063  210.805   214.15  70399.433   \n",
       "4    2021-12-01 04:00:00  214.148  215.232  212.707  215.176  57243.379   \n",
       "..                   ...      ...      ...      ...      ...        ...   \n",
       "290  2021-12-13 02:00:00   170.71   171.09      NaN   168.03  87031.061   \n",
       "291  2021-12-13 03:00:00   168.06   169.38   167.18   167.77  48298.395   \n",
       "292  2021-12-13 04:00:00   167.78   168.22      NaN   167.46   46340.92   \n",
       "293  2021-12-13 05:00:00   167.45   168.09   166.25   167.49  50848.701   \n",
       "294  2021-12-13 06:00:00   167.48    167.8   166.93   167.64  11191.365   \n",
       "\n",
       "           volumeUSD token chain  \n",
       "0    14613917.917768   SOL   SOL  \n",
       "1    19586934.628385   SOL   SOL  \n",
       "2    10486050.651776   SOL   SOL  \n",
       "3     15076038.57695   SOL   SOL  \n",
       "4    12317401.319704   SOL   SOL  \n",
       "..               ...   ...   ...  \n",
       "290   14623829.17983   SOL   SOL  \n",
       "291    8103021.72915   SOL   SOL  \n",
       "292     7760250.4632   SOL   SOL  \n",
       "293    8516648.93049   SOL   SOL  \n",
       "294     1876120.4286   SOL   SOL  \n",
       "\n",
       "[295 rows x 9 columns]"
      ]
     },
     "execution_count": 66,
     "metadata": {},
     "output_type": "execute_result"
    }
   ],
   "source": [
    "newSOL=get_unique(SOL)\n",
    "newSOL"
   ]
  },
  {
   "cell_type": "code",
   "execution_count": 67,
   "id": "040b5131-d313-4858-9a72-eaa34732ff99",
   "metadata": {},
   "outputs": [
    {
     "data": {
      "text/plain": [
       "3836704486.447667"
      ]
     },
     "execution_count": 67,
     "metadata": {},
     "output_type": "execute_result"
    }
   ],
   "source": [
    "newSOL.volumeUSD.sum()"
   ]
  },
  {
   "cell_type": "code",
   "execution_count": 68,
   "id": "00f0ed20-dc5c-4a0a-8f08-9b87cf175ea8",
   "metadata": {},
   "outputs": [
    {
     "data": {
      "text/plain": [
       "<AxesSubplot:>"
      ]
     },
     "execution_count": 68,
     "metadata": {},
     "output_type": "execute_result"
    },
    {
     "data": {
      "image/png": "[encoded data removed]",
      "text/plain": [
       "<Figure size 432x288 with 1 Axes>"
      ]
     },
     "metadata": {
      "needs_background": "light"
     },
     "output_type": "display_data"
    }
   ],
   "source": [
    "ETH.close.plot()"
   ]
  },
  {
   "cell_type": "code",
   "execution_count": 70,
   "id": "f8522a8e-d8e1-4ed0-954b-ae588c7f51b5",
   "metadata": {},
   "outputs": [
    {
     "data": {
      "text/plain": [
       "220      4395.96\n",
       "221      4376.71\n",
       "222      4381.38\n",
       "223      4383.05\n",
       "224      4346.94\n",
       "225      4316.99\n",
       "226      4315.95\n",
       "227      4315.95\n",
       "228      4307.61\n",
       "229    431046.00\n",
       "230    431046.00\n",
       "231      4301.82\n",
       "232      4236.00\n",
       "233      4204.54\n",
       "234      4209.49\n",
       "235      4164.85\n",
       "236      4164.85\n",
       "237      4125.39\n",
       "238      4122.94\n",
       "239      4125.02\n",
       "240      4165.72\n",
       "Name: close, dtype: float64"
      ]
     },
     "execution_count": 70,
     "metadata": {},
     "output_type": "execute_result"
    }
   ],
   "source": [
    "ETH.loc[220:240,'close']"
   ]
  },
  {
   "cell_type": "code",
   "execution_count": 76,
   "id": "d684ed2a-2397-4e07-8e42-d2ff6e71594d",
   "metadata": {},
   "outputs": [],
   "source": [
    "for i in range(len(ETH)):\n",
    "    if ETH.loc[i,'close']<100:\n",
    "        ETH.loc[i,'close']=ETH.loc[i,'close']*100\n",
    "    if ETH.loc[i,'close']>20000:\n",
    "        ETH.loc[i,'close']=ETH.loc[i,'close']/100"
   ]
  },
  {
   "cell_type": "code",
   "execution_count": 77,
   "id": "578d07b9-bff6-4d25-b1c6-aed0244cf966",
   "metadata": {},
   "outputs": [
    {
     "data": {
      "text/plain": [
       "<AxesSubplot:>"
      ]
     },
     "execution_count": 77,
     "metadata": {},
     "output_type": "execute_result"
    },
    {
     "data": {
      "image/png": "[encoded data removed]",
      "text/plain": [
       "<Figure size 432x288 with 1 Axes>"
      ]
     },
     "metadata": {
      "needs_background": "light"
     },
     "output_type": "display_data"
    }
   ],
   "source": [
    "ETH.close.plot()"
   ]
  },
  {
   "cell_type": "code",
   "execution_count": 78,
   "id": "03a9a5ac-a93a-4e26-970f-440ab1f48095",
   "metadata": {},
   "outputs": [
    {
     "data": {
      "text/html": [
       "<div>\n",
       "<style scoped>\n",
       "    .dataframe tbody tr th:only-of-type {\n",
       "        vertical-align: middle;\n",
       "    }\n",
       "\n",
       "    .dataframe tbody tr th {\n",
       "        vertical-align: top;\n",
       "    }\n",
       "\n",
       "    .dataframe thead th {\n",
       "        text-align: right;\n",
       "    }\n",
       "</style>\n",
       "<table border=\"1\" class=\"dataframe\">\n",
       "  <thead>\n",
       "    <tr style=\"text-align: right;\">\n",
       "      <th></th>\n",
       "      <th>ts</th>\n",
       "      <th>open</th>\n",
       "      <th>high</th>\n",
       "      <th>low</th>\n",
       "      <th>close</th>\n",
       "      <th>volume</th>\n",
       "      <th>volumeUSD</th>\n",
       "      <th>token</th>\n",
       "      <th>chain</th>\n",
       "    </tr>\n",
       "  </thead>\n",
       "  <tbody>\n",
       "    <tr>\n",
       "      <th>0</th>\n",
       "      <td>2021-12-01 00:00:00</td>\n",
       "      <td>4656.62</td>\n",
       "      <td>4672.43</td>\n",
       "      <td>4624.16</td>\n",
       "      <td>4634.95</td>\n",
       "      <td>6013.006735</td>\n",
       "      <td>2.786999e+07</td>\n",
       "      <td>ETH</td>\n",
       "      <td>ETH</td>\n",
       "    </tr>\n",
       "    <tr>\n",
       "      <th>1</th>\n",
       "      <td>2021-12-01 01:00:00</td>\n",
       "      <td>4636.43</td>\n",
       "      <td>4736.90</td>\n",
       "      <td>4605.49</td>\n",
       "      <td>4729.10</td>\n",
       "      <td>13819.061610</td>\n",
       "      <td>6.535172e+07</td>\n",
       "      <td>ETH</td>\n",
       "      <td>ETH</td>\n",
       "    </tr>\n",
       "    <tr>\n",
       "      <th>2</th>\n",
       "      <td>2021-12-01 02:00:00</td>\n",
       "      <td>4729.10</td>\n",
       "      <td>4729.10</td>\n",
       "      <td>4684.49</td>\n",
       "      <td>4695.78</td>\n",
       "      <td>7491.465440</td>\n",
       "      <td>3.517827e+07</td>\n",
       "      <td>ETH</td>\n",
       "      <td>ETH</td>\n",
       "    </tr>\n",
       "    <tr>\n",
       "      <th>3</th>\n",
       "      <td>2021-12-01 03:00:00</td>\n",
       "      <td>4695.78</td>\n",
       "      <td>NaN</td>\n",
       "      <td>4672.30</td>\n",
       "      <td>4754.09</td>\n",
       "      <td>10530.834423</td>\n",
       "      <td>5.006453e+07</td>\n",
       "      <td>ETH</td>\n",
       "      <td>ETH</td>\n",
       "    </tr>\n",
       "    <tr>\n",
       "      <th>4</th>\n",
       "      <td>2021-12-01 04:00:00</td>\n",
       "      <td>4754.09</td>\n",
       "      <td>4774.74</td>\n",
       "      <td>4722.02</td>\n",
       "      <td>4764.59</td>\n",
       "      <td>12471.624735</td>\n",
       "      <td>5.942218e+07</td>\n",
       "      <td>ETH</td>\n",
       "      <td>ETH</td>\n",
       "    </tr>\n",
       "    <tr>\n",
       "      <th>...</th>\n",
       "      <td>...</td>\n",
       "      <td>...</td>\n",
       "      <td>...</td>\n",
       "      <td>...</td>\n",
       "      <td>...</td>\n",
       "      <td>...</td>\n",
       "      <td>...</td>\n",
       "      <td>...</td>\n",
       "      <td>...</td>\n",
       "    </tr>\n",
       "    <tr>\n",
       "      <th>321</th>\n",
       "      <td>2021-12-13 02:00:00</td>\n",
       "      <td>4070.58</td>\n",
       "      <td>4070.58</td>\n",
       "      <td>3961.85</td>\n",
       "      <td>3970.92</td>\n",
       "      <td>18723.615566</td>\n",
       "      <td>7.434998e+07</td>\n",
       "      <td>ETH</td>\n",
       "      <td>ETH</td>\n",
       "    </tr>\n",
       "    <tr>\n",
       "      <th>322</th>\n",
       "      <td>2021-12-13 03:00:00</td>\n",
       "      <td>3970.92</td>\n",
       "      <td>3999.90</td>\n",
       "      <td>3954.27</td>\n",
       "      <td>3984.29</td>\n",
       "      <td>8106.286351</td>\n",
       "      <td>3.229780e+07</td>\n",
       "      <td>ETH</td>\n",
       "      <td>ETH</td>\n",
       "    </tr>\n",
       "    <tr>\n",
       "      <th>323</th>\n",
       "      <td>2021-12-13 04:00:00</td>\n",
       "      <td>3984.29</td>\n",
       "      <td>4012.00</td>\n",
       "      <td>NaN</td>\n",
       "      <td>3998.87</td>\n",
       "      <td>4939.751497</td>\n",
       "      <td>1.975342e+07</td>\n",
       "      <td>ETH</td>\n",
       "      <td>ETH</td>\n",
       "    </tr>\n",
       "    <tr>\n",
       "      <th>324</th>\n",
       "      <td>2021-12-13 05:00:00</td>\n",
       "      <td>3999.08</td>\n",
       "      <td>4023.92</td>\n",
       "      <td>3991.22</td>\n",
       "      <td>4020.10</td>\n",
       "      <td>3765.285201</td>\n",
       "      <td>1.513682e+07</td>\n",
       "      <td>ETH</td>\n",
       "      <td>ETH</td>\n",
       "    </tr>\n",
       "    <tr>\n",
       "      <th>325</th>\n",
       "      <td>2021-12-13 06:00:00</td>\n",
       "      <td>4020.10</td>\n",
       "      <td>4021.99</td>\n",
       "      <td>NaN</td>\n",
       "      <td>4014.90</td>\n",
       "      <td>1344.134433</td>\n",
       "      <td>5.396565e+06</td>\n",
       "      <td>ETH</td>\n",
       "      <td>ETH</td>\n",
       "    </tr>\n",
       "  </tbody>\n",
       "</table>\n",
       "<p>326 rows × 9 columns</p>\n",
       "</div>"
      ],
      "text/plain": [
       "                      ts     open     high      low    close        volume  \\\n",
       "0    2021-12-01 00:00:00  4656.62  4672.43  4624.16  4634.95   6013.006735   \n",
       "1    2021-12-01 01:00:00  4636.43  4736.90  4605.49  4729.10  13819.061610   \n",
       "2    2021-12-01 02:00:00  4729.10  4729.10  4684.49  4695.78   7491.465440   \n",
       "3    2021-12-01 03:00:00  4695.78      NaN  4672.30  4754.09  10530.834423   \n",
       "4    2021-12-01 04:00:00  4754.09  4774.74  4722.02  4764.59  12471.624735   \n",
       "..                   ...      ...      ...      ...      ...           ...   \n",
       "321  2021-12-13 02:00:00  4070.58  4070.58  3961.85  3970.92  18723.615566   \n",
       "322  2021-12-13 03:00:00  3970.92  3999.90  3954.27  3984.29   8106.286351   \n",
       "323  2021-12-13 04:00:00  3984.29  4012.00      NaN  3998.87   4939.751497   \n",
       "324  2021-12-13 05:00:00  3999.08  4023.92  3991.22  4020.10   3765.285201   \n",
       "325  2021-12-13 06:00:00  4020.10  4021.99      NaN  4014.90   1344.134433   \n",
       "\n",
       "        volumeUSD token chain  \n",
       "0    2.786999e+07   ETH   ETH  \n",
       "1    6.535172e+07   ETH   ETH  \n",
       "2    3.517827e+07   ETH   ETH  \n",
       "3    5.006453e+07   ETH   ETH  \n",
       "4    5.942218e+07   ETH   ETH  \n",
       "..            ...   ...   ...  \n",
       "321  7.434998e+07   ETH   ETH  \n",
       "322  3.229780e+07   ETH   ETH  \n",
       "323  1.975342e+07   ETH   ETH  \n",
       "324  1.513682e+07   ETH   ETH  \n",
       "325  5.396565e+06   ETH   ETH  \n",
       "\n",
       "[326 rows x 9 columns]"
      ]
     },
     "execution_count": 78,
     "metadata": {},
     "output_type": "execute_result"
    }
   ],
   "source": [
    "ETH['volumeUSD']=ETH['volume']*ETH['close']\n",
    "ETH"
   ]
  },
  {
   "cell_type": "code",
   "execution_count": 79,
   "id": "bd5a0fb2-2120-44a9-beb8-190a2eced8f0",
   "metadata": {},
   "outputs": [
    {
     "data": {
      "text/html": [
       "<div>\n",
       "<style scoped>\n",
       "    .dataframe tbody tr th:only-of-type {\n",
       "        vertical-align: middle;\n",
       "    }\n",
       "\n",
       "    .dataframe tbody tr th {\n",
       "        vertical-align: top;\n",
       "    }\n",
       "\n",
       "    .dataframe thead th {\n",
       "        text-align: right;\n",
       "    }\n",
       "</style>\n",
       "<table border=\"1\" class=\"dataframe\">\n",
       "  <thead>\n",
       "    <tr style=\"text-align: right;\">\n",
       "      <th></th>\n",
       "      <th>ts</th>\n",
       "      <th>open</th>\n",
       "      <th>high</th>\n",
       "      <th>low</th>\n",
       "      <th>close</th>\n",
       "      <th>volume</th>\n",
       "      <th>volumeUSD</th>\n",
       "      <th>token</th>\n",
       "      <th>chain</th>\n",
       "    </tr>\n",
       "  </thead>\n",
       "  <tbody>\n",
       "    <tr>\n",
       "      <th>0</th>\n",
       "      <td>2021-12-01 00:00:00</td>\n",
       "      <td>4656.62</td>\n",
       "      <td>4672.43</td>\n",
       "      <td>4624.16</td>\n",
       "      <td>4634.95</td>\n",
       "      <td>6013.006735</td>\n",
       "      <td>27869985.565322</td>\n",
       "      <td>ETH</td>\n",
       "      <td>ETH</td>\n",
       "    </tr>\n",
       "    <tr>\n",
       "      <th>1</th>\n",
       "      <td>2021-12-01 01:00:00</td>\n",
       "      <td>4636.43</td>\n",
       "      <td>4736.9</td>\n",
       "      <td>4605.49</td>\n",
       "      <td>4729.1</td>\n",
       "      <td>13819.06161</td>\n",
       "      <td>65351724.258054</td>\n",
       "      <td>ETH</td>\n",
       "      <td>ETH</td>\n",
       "    </tr>\n",
       "    <tr>\n",
       "      <th>2</th>\n",
       "      <td>2021-12-01 02:00:00</td>\n",
       "      <td>4729.1</td>\n",
       "      <td>4729.1</td>\n",
       "      <td>4684.49</td>\n",
       "      <td>4695.78</td>\n",
       "      <td>7491.46544</td>\n",
       "      <td>35178273.583843</td>\n",
       "      <td>ETH</td>\n",
       "      <td>ETH</td>\n",
       "    </tr>\n",
       "    <tr>\n",
       "      <th>3</th>\n",
       "      <td>2021-12-01 03:00:00</td>\n",
       "      <td>4695.78</td>\n",
       "      <td>NaN</td>\n",
       "      <td>4672.3</td>\n",
       "      <td>4754.09</td>\n",
       "      <td>10530.834423</td>\n",
       "      <td>50064534.621755</td>\n",
       "      <td>ETH</td>\n",
       "      <td>ETH</td>\n",
       "    </tr>\n",
       "    <tr>\n",
       "      <th>4</th>\n",
       "      <td>2021-12-01 04:00:00</td>\n",
       "      <td>4754.09</td>\n",
       "      <td>4774.74</td>\n",
       "      <td>4722.02</td>\n",
       "      <td>4764.59</td>\n",
       "      <td>12471.624735</td>\n",
       "      <td>59422178.496562</td>\n",
       "      <td>ETH</td>\n",
       "      <td>ETH</td>\n",
       "    </tr>\n",
       "    <tr>\n",
       "      <th>...</th>\n",
       "      <td>...</td>\n",
       "      <td>...</td>\n",
       "      <td>...</td>\n",
       "      <td>...</td>\n",
       "      <td>...</td>\n",
       "      <td>...</td>\n",
       "      <td>...</td>\n",
       "      <td>...</td>\n",
       "      <td>...</td>\n",
       "    </tr>\n",
       "    <tr>\n",
       "      <th>290</th>\n",
       "      <td>2021-12-13 02:00:00</td>\n",
       "      <td>4070.58</td>\n",
       "      <td>4070.58</td>\n",
       "      <td>3961.85</td>\n",
       "      <td>3970.92</td>\n",
       "      <td>18723.615566</td>\n",
       "      <td>74349979.525167</td>\n",
       "      <td>ETH</td>\n",
       "      <td>ETH</td>\n",
       "    </tr>\n",
       "    <tr>\n",
       "      <th>291</th>\n",
       "      <td>2021-12-13 03:00:00</td>\n",
       "      <td>3970.92</td>\n",
       "      <td>3999.9</td>\n",
       "      <td>3954.27</td>\n",
       "      <td>3984.29</td>\n",
       "      <td>8106.286351</td>\n",
       "      <td>32297795.646701</td>\n",
       "      <td>ETH</td>\n",
       "      <td>ETH</td>\n",
       "    </tr>\n",
       "    <tr>\n",
       "      <th>292</th>\n",
       "      <td>2021-12-13 04:00:00</td>\n",
       "      <td>3984.29</td>\n",
       "      <td>4012.0</td>\n",
       "      <td>NaN</td>\n",
       "      <td>3998.87</td>\n",
       "      <td>4939.751497</td>\n",
       "      <td>19753424.067649</td>\n",
       "      <td>ETH</td>\n",
       "      <td>ETH</td>\n",
       "    </tr>\n",
       "    <tr>\n",
       "      <th>293</th>\n",
       "      <td>2021-12-13 05:00:00</td>\n",
       "      <td>3999.08</td>\n",
       "      <td>4023.92</td>\n",
       "      <td>3991.22</td>\n",
       "      <td>4020.1</td>\n",
       "      <td>3765.285201</td>\n",
       "      <td>15136823.03461</td>\n",
       "      <td>ETH</td>\n",
       "      <td>ETH</td>\n",
       "    </tr>\n",
       "    <tr>\n",
       "      <th>294</th>\n",
       "      <td>2021-12-13 06:00:00</td>\n",
       "      <td>4020.1</td>\n",
       "      <td>4021.99</td>\n",
       "      <td>NaN</td>\n",
       "      <td>4014.9</td>\n",
       "      <td>1344.134433</td>\n",
       "      <td>5396565.334891</td>\n",
       "      <td>ETH</td>\n",
       "      <td>ETH</td>\n",
       "    </tr>\n",
       "  </tbody>\n",
       "</table>\n",
       "<p>295 rows × 9 columns</p>\n",
       "</div>"
      ],
      "text/plain": [
       "                      ts     open     high      low    close        volume  \\\n",
       "0    2021-12-01 00:00:00  4656.62  4672.43  4624.16  4634.95   6013.006735   \n",
       "1    2021-12-01 01:00:00  4636.43   4736.9  4605.49   4729.1   13819.06161   \n",
       "2    2021-12-01 02:00:00   4729.1   4729.1  4684.49  4695.78    7491.46544   \n",
       "3    2021-12-01 03:00:00  4695.78      NaN   4672.3  4754.09  10530.834423   \n",
       "4    2021-12-01 04:00:00  4754.09  4774.74  4722.02  4764.59  12471.624735   \n",
       "..                   ...      ...      ...      ...      ...           ...   \n",
       "290  2021-12-13 02:00:00  4070.58  4070.58  3961.85  3970.92  18723.615566   \n",
       "291  2021-12-13 03:00:00  3970.92   3999.9  3954.27  3984.29   8106.286351   \n",
       "292  2021-12-13 04:00:00  3984.29   4012.0      NaN  3998.87   4939.751497   \n",
       "293  2021-12-13 05:00:00  3999.08  4023.92  3991.22   4020.1   3765.285201   \n",
       "294  2021-12-13 06:00:00   4020.1  4021.99      NaN   4014.9   1344.134433   \n",
       "\n",
       "           volumeUSD token chain  \n",
       "0    27869985.565322   ETH   ETH  \n",
       "1    65351724.258054   ETH   ETH  \n",
       "2    35178273.583843   ETH   ETH  \n",
       "3    50064534.621755   ETH   ETH  \n",
       "4    59422178.496562   ETH   ETH  \n",
       "..               ...   ...   ...  \n",
       "290  74349979.525167   ETH   ETH  \n",
       "291  32297795.646701   ETH   ETH  \n",
       "292  19753424.067649   ETH   ETH  \n",
       "293   15136823.03461   ETH   ETH  \n",
       "294   5396565.334891   ETH   ETH  \n",
       "\n",
       "[295 rows x 9 columns]"
      ]
     },
     "execution_count": 79,
     "metadata": {},
     "output_type": "execute_result"
    }
   ],
   "source": [
    "newETH=get_unique(ETH)\n",
    "newETH"
   ]
  },
  {
   "cell_type": "code",
   "execution_count": 80,
   "id": "1d5a47b1-d4da-4099-b858-e966b7544e84",
   "metadata": {},
   "outputs": [
    {
     "data": {
      "text/plain": [
       "11942929866.11639"
      ]
     },
     "execution_count": 80,
     "metadata": {},
     "output_type": "execute_result"
    }
   ],
   "source": [
    "newETH.volumeUSD.sum()"
   ]
  },
  {
   "cell_type": "code",
   "execution_count": 81,
   "id": "71524a28-675f-4e15-abdb-859ff38506b8",
   "metadata": {},
   "outputs": [
    {
     "data": {
      "text/plain": [
       "<AxesSubplot:>"
      ]
     },
     "execution_count": 81,
     "metadata": {},
     "output_type": "execute_result"
    },
    {
     "data": {
      "image/png": "[encoded data removed]",
      "text/plain": [
       "<Figure size 432x288 with 1 Axes>"
      ]
     },
     "metadata": {
      "needs_background": "light"
     },
     "output_type": "display_data"
    }
   ],
   "source": [
    "AAVE.close.plot()"
   ]
  },
  {
   "cell_type": "code",
   "execution_count": 82,
   "id": "e312bb1b-287d-4957-9cbe-6f5a8fc88fcc",
   "metadata": {},
   "outputs": [
    {
     "data": {
      "text/plain": [
       "0       257.0780\n",
       "1       264.8160\n",
       "2       263.1250\n",
       "3       266.2570\n",
       "4       265.5020\n",
       "5       265.0730\n",
       "6       262.6210\n",
       "7       265.4980\n",
       "8       267.0700\n",
       "9       264.4090\n",
       "10      267.3440\n",
       "11    26501.5000\n",
       "12           NaN\n",
       "13      263.5590\n",
       "14      265.8830\n",
       "15      268.7670\n",
       "16           NaN\n",
       "17        2.6323\n",
       "18      260.0660\n",
       "19      257.9050\n",
       "20      258.2870\n",
       "21      252.1900\n",
       "22      251.6560\n",
       "23      251.1450\n",
       "24           NaN\n",
       "25      249.0560\n",
       "26      249.5580\n",
       "27      247.8110\n",
       "28      244.5490\n",
       "29      245.7720\n",
       "30      246.8600\n",
       "Name: close, dtype: float64"
      ]
     },
     "execution_count": 82,
     "metadata": {},
     "output_type": "execute_result"
    }
   ],
   "source": [
    "AAVE.loc[:30,'close']"
   ]
  },
  {
   "cell_type": "code",
   "execution_count": 85,
   "id": "644120d5-b6be-4623-a6e6-7a68ad3783bc",
   "metadata": {},
   "outputs": [],
   "source": [
    "for i in range(len(AAVE)):\n",
    "    if AAVE.loc[i,'close']<100:\n",
    "        AAVE.loc[i,'close']=AAVE.loc[i,'close']*100\n",
    "    if AAVE.loc[i,'close']>2000:\n",
    "        AAVE.loc[i,'close']=AAVE.loc[i,'close']/100"
   ]
  },
  {
   "cell_type": "code",
   "execution_count": 86,
   "id": "9988711c-9db3-4cba-9770-565c8dd92951",
   "metadata": {},
   "outputs": [
    {
     "data": {
      "text/plain": [
       "<AxesSubplot:>"
      ]
     },
     "execution_count": 86,
     "metadata": {},
     "output_type": "execute_result"
    },
    {
     "data": {
      "image/png": "[encoded data removed]",
      "text/plain": [
       "<Figure size 432x288 with 1 Axes>"
      ]
     },
     "metadata": {
      "needs_background": "light"
     },
     "output_type": "display_data"
    }
   ],
   "source": [
    "AAVE.close.plot()"
   ]
  },
  {
   "cell_type": "code",
   "execution_count": 87,
   "id": "96e94bce-085a-444f-9f51-2ba25aafc369",
   "metadata": {},
   "outputs": [
    {
     "data": {
      "text/html": [
       "<div>\n",
       "<style scoped>\n",
       "    .dataframe tbody tr th:only-of-type {\n",
       "        vertical-align: middle;\n",
       "    }\n",
       "\n",
       "    .dataframe tbody tr th {\n",
       "        vertical-align: top;\n",
       "    }\n",
       "\n",
       "    .dataframe thead th {\n",
       "        text-align: right;\n",
       "    }\n",
       "</style>\n",
       "<table border=\"1\" class=\"dataframe\">\n",
       "  <thead>\n",
       "    <tr style=\"text-align: right;\">\n",
       "      <th></th>\n",
       "      <th>ts</th>\n",
       "      <th>open</th>\n",
       "      <th>high</th>\n",
       "      <th>low</th>\n",
       "      <th>close</th>\n",
       "      <th>volume</th>\n",
       "      <th>volumeUSD</th>\n",
       "      <th>token</th>\n",
       "      <th>chain</th>\n",
       "    </tr>\n",
       "  </thead>\n",
       "  <tbody>\n",
       "    <tr>\n",
       "      <th>0</th>\n",
       "      <td>2021-12-01 00:00:00</td>\n",
       "      <td>257.102</td>\n",
       "      <td>260.775</td>\n",
       "      <td>255.345</td>\n",
       "      <td>257.078</td>\n",
       "      <td>2730.299</td>\n",
       "      <td>7.018998e+05</td>\n",
       "      <td>AAVE</td>\n",
       "      <td>ETH</td>\n",
       "    </tr>\n",
       "    <tr>\n",
       "      <th>1</th>\n",
       "      <td>2021-12-01 01:00:00</td>\n",
       "      <td>257.149</td>\n",
       "      <td>266.249</td>\n",
       "      <td>255.270</td>\n",
       "      <td>264.816</td>\n",
       "      <td>5752.541</td>\n",
       "      <td>1.523365e+06</td>\n",
       "      <td>AAVE</td>\n",
       "      <td>ETH</td>\n",
       "    </tr>\n",
       "    <tr>\n",
       "      <th>2</th>\n",
       "      <td>2021-12-01 02:00:00</td>\n",
       "      <td>264.755</td>\n",
       "      <td>266.187</td>\n",
       "      <td>262.597</td>\n",
       "      <td>263.125</td>\n",
       "      <td>1559.330</td>\n",
       "      <td>4.102987e+05</td>\n",
       "      <td>AAVE</td>\n",
       "      <td>ETH</td>\n",
       "    </tr>\n",
       "    <tr>\n",
       "      <th>3</th>\n",
       "      <td>2021-12-01 03:00:00</td>\n",
       "      <td>263.184</td>\n",
       "      <td>NaN</td>\n",
       "      <td>NaN</td>\n",
       "      <td>266.257</td>\n",
       "      <td>1647.398</td>\n",
       "      <td>4.386312e+05</td>\n",
       "      <td>AAVE</td>\n",
       "      <td>ETH</td>\n",
       "    </tr>\n",
       "    <tr>\n",
       "      <th>4</th>\n",
       "      <td>2021-12-01 04:00:00</td>\n",
       "      <td>266.384</td>\n",
       "      <td>267.024</td>\n",
       "      <td>264.284</td>\n",
       "      <td>265.502</td>\n",
       "      <td>829.993</td>\n",
       "      <td>2.203648e+05</td>\n",
       "      <td>AAVE</td>\n",
       "      <td>ETH</td>\n",
       "    </tr>\n",
       "    <tr>\n",
       "      <th>...</th>\n",
       "      <td>...</td>\n",
       "      <td>...</td>\n",
       "      <td>...</td>\n",
       "      <td>...</td>\n",
       "      <td>...</td>\n",
       "      <td>...</td>\n",
       "      <td>...</td>\n",
       "      <td>...</td>\n",
       "      <td>...</td>\n",
       "    </tr>\n",
       "    <tr>\n",
       "      <th>323</th>\n",
       "      <td>2021-12-13 02:00:00</td>\n",
       "      <td>178.000</td>\n",
       "      <td>178.000</td>\n",
       "      <td>173.640</td>\n",
       "      <td>173.640</td>\n",
       "      <td>3987.529</td>\n",
       "      <td>6.923945e+05</td>\n",
       "      <td>AAVE</td>\n",
       "      <td>ETH</td>\n",
       "    </tr>\n",
       "    <tr>\n",
       "      <th>324</th>\n",
       "      <td>2021-12-13 03:00:00</td>\n",
       "      <td>173.700</td>\n",
       "      <td>NaN</td>\n",
       "      <td>173.510</td>\n",
       "      <td>173.720</td>\n",
       "      <td>713.174</td>\n",
       "      <td>1.238926e+05</td>\n",
       "      <td>AAVE</td>\n",
       "      <td>ETH</td>\n",
       "    </tr>\n",
       "    <tr>\n",
       "      <th>325</th>\n",
       "      <td>2021-12-13 04:00:00</td>\n",
       "      <td>173.630</td>\n",
       "      <td>174.150</td>\n",
       "      <td>173.260</td>\n",
       "      <td>173.490</td>\n",
       "      <td>599.995</td>\n",
       "      <td>1.040931e+05</td>\n",
       "      <td>AAVE</td>\n",
       "      <td>ETH</td>\n",
       "    </tr>\n",
       "    <tr>\n",
       "      <th>326</th>\n",
       "      <td>2021-12-13 05:00:00</td>\n",
       "      <td>173.490</td>\n",
       "      <td>174.190</td>\n",
       "      <td>173.240</td>\n",
       "      <td>173.810</td>\n",
       "      <td>604.478</td>\n",
       "      <td>1.050643e+05</td>\n",
       "      <td>AAVE</td>\n",
       "      <td>ETH</td>\n",
       "    </tr>\n",
       "    <tr>\n",
       "      <th>327</th>\n",
       "      <td>2021-12-13 06:00:00</td>\n",
       "      <td>173.830</td>\n",
       "      <td>174.130</td>\n",
       "      <td>NaN</td>\n",
       "      <td>173.990</td>\n",
       "      <td>415.171</td>\n",
       "      <td>7.223560e+04</td>\n",
       "      <td>AAVE</td>\n",
       "      <td>ETH</td>\n",
       "    </tr>\n",
       "  </tbody>\n",
       "</table>\n",
       "<p>328 rows × 9 columns</p>\n",
       "</div>"
      ],
      "text/plain": [
       "                      ts     open     high      low    close    volume  \\\n",
       "0    2021-12-01 00:00:00  257.102  260.775  255.345  257.078  2730.299   \n",
       "1    2021-12-01 01:00:00  257.149  266.249  255.270  264.816  5752.541   \n",
       "2    2021-12-01 02:00:00  264.755  266.187  262.597  263.125  1559.330   \n",
       "3    2021-12-01 03:00:00  263.184      NaN      NaN  266.257  1647.398   \n",
       "4    2021-12-01 04:00:00  266.384  267.024  264.284  265.502   829.993   \n",
       "..                   ...      ...      ...      ...      ...       ...   \n",
       "323  2021-12-13 02:00:00  178.000  178.000  173.640  173.640  3987.529   \n",
       "324  2021-12-13 03:00:00  173.700      NaN  173.510  173.720   713.174   \n",
       "325  2021-12-13 04:00:00  173.630  174.150  173.260  173.490   599.995   \n",
       "326  2021-12-13 05:00:00  173.490  174.190  173.240  173.810   604.478   \n",
       "327  2021-12-13 06:00:00  173.830  174.130      NaN  173.990   415.171   \n",
       "\n",
       "        volumeUSD token chain  \n",
       "0    7.018998e+05  AAVE   ETH  \n",
       "1    1.523365e+06  AAVE   ETH  \n",
       "2    4.102987e+05  AAVE   ETH  \n",
       "3    4.386312e+05  AAVE   ETH  \n",
       "4    2.203648e+05  AAVE   ETH  \n",
       "..            ...   ...   ...  \n",
       "323  6.923945e+05  AAVE   ETH  \n",
       "324  1.238926e+05  AAVE   ETH  \n",
       "325  1.040931e+05  AAVE   ETH  \n",
       "326  1.050643e+05  AAVE   ETH  \n",
       "327  7.223560e+04  AAVE   ETH  \n",
       "\n",
       "[328 rows x 9 columns]"
      ]
     },
     "execution_count": 87,
     "metadata": {},
     "output_type": "execute_result"
    }
   ],
   "source": [
    "AAVE['volumeUSD']=AAVE['volume']*AAVE['close']\n",
    "AAVE"
   ]
  },
  {
   "cell_type": "code",
   "execution_count": 88,
   "id": "6ae09cf9-e38d-4ddb-b11c-397e5d523573",
   "metadata": {},
   "outputs": [
    {
     "data": {
      "text/html": [
       "<div>\n",
       "<style scoped>\n",
       "    .dataframe tbody tr th:only-of-type {\n",
       "        vertical-align: middle;\n",
       "    }\n",
       "\n",
       "    .dataframe tbody tr th {\n",
       "        vertical-align: top;\n",
       "    }\n",
       "\n",
       "    .dataframe thead th {\n",
       "        text-align: right;\n",
       "    }\n",
       "</style>\n",
       "<table border=\"1\" class=\"dataframe\">\n",
       "  <thead>\n",
       "    <tr style=\"text-align: right;\">\n",
       "      <th></th>\n",
       "      <th>ts</th>\n",
       "      <th>open</th>\n",
       "      <th>high</th>\n",
       "      <th>low</th>\n",
       "      <th>close</th>\n",
       "      <th>volume</th>\n",
       "      <th>volumeUSD</th>\n",
       "      <th>token</th>\n",
       "      <th>chain</th>\n",
       "    </tr>\n",
       "  </thead>\n",
       "  <tbody>\n",
       "    <tr>\n",
       "      <th>0</th>\n",
       "      <td>2021-12-01 00:00:00</td>\n",
       "      <td>257.102</td>\n",
       "      <td>260.775</td>\n",
       "      <td>255.345</td>\n",
       "      <td>257.078</td>\n",
       "      <td>2730.299</td>\n",
       "      <td>701899.806322</td>\n",
       "      <td>AAVE</td>\n",
       "      <td>ETH</td>\n",
       "    </tr>\n",
       "    <tr>\n",
       "      <th>1</th>\n",
       "      <td>2021-12-01 01:00:00</td>\n",
       "      <td>257.149</td>\n",
       "      <td>266.249</td>\n",
       "      <td>255.27</td>\n",
       "      <td>264.816</td>\n",
       "      <td>5752.541</td>\n",
       "      <td>1523364.897456</td>\n",
       "      <td>AAVE</td>\n",
       "      <td>ETH</td>\n",
       "    </tr>\n",
       "    <tr>\n",
       "      <th>2</th>\n",
       "      <td>2021-12-01 02:00:00</td>\n",
       "      <td>264.755</td>\n",
       "      <td>266.187</td>\n",
       "      <td>262.597</td>\n",
       "      <td>263.125</td>\n",
       "      <td>1559.33</td>\n",
       "      <td>410298.70625</td>\n",
       "      <td>AAVE</td>\n",
       "      <td>ETH</td>\n",
       "    </tr>\n",
       "    <tr>\n",
       "      <th>3</th>\n",
       "      <td>2021-12-01 03:00:00</td>\n",
       "      <td>263.184</td>\n",
       "      <td>NaN</td>\n",
       "      <td>NaN</td>\n",
       "      <td>266.257</td>\n",
       "      <td>1647.398</td>\n",
       "      <td>438631.249286</td>\n",
       "      <td>AAVE</td>\n",
       "      <td>ETH</td>\n",
       "    </tr>\n",
       "    <tr>\n",
       "      <th>4</th>\n",
       "      <td>2021-12-01 04:00:00</td>\n",
       "      <td>266.384</td>\n",
       "      <td>267.024</td>\n",
       "      <td>264.284</td>\n",
       "      <td>265.502</td>\n",
       "      <td>829.993</td>\n",
       "      <td>220364.801486</td>\n",
       "      <td>AAVE</td>\n",
       "      <td>ETH</td>\n",
       "    </tr>\n",
       "    <tr>\n",
       "      <th>...</th>\n",
       "      <td>...</td>\n",
       "      <td>...</td>\n",
       "      <td>...</td>\n",
       "      <td>...</td>\n",
       "      <td>...</td>\n",
       "      <td>...</td>\n",
       "      <td>...</td>\n",
       "      <td>...</td>\n",
       "      <td>...</td>\n",
       "    </tr>\n",
       "    <tr>\n",
       "      <th>290</th>\n",
       "      <td>2021-12-13 02:00:00</td>\n",
       "      <td>178.0</td>\n",
       "      <td>178.0</td>\n",
       "      <td>173.64</td>\n",
       "      <td>173.64</td>\n",
       "      <td>3987.529</td>\n",
       "      <td>692394.53556</td>\n",
       "      <td>AAVE</td>\n",
       "      <td>ETH</td>\n",
       "    </tr>\n",
       "    <tr>\n",
       "      <th>291</th>\n",
       "      <td>2021-12-13 03:00:00</td>\n",
       "      <td>173.7</td>\n",
       "      <td>NaN</td>\n",
       "      <td>173.51</td>\n",
       "      <td>173.72</td>\n",
       "      <td>713.174</td>\n",
       "      <td>123892.58728</td>\n",
       "      <td>AAVE</td>\n",
       "      <td>ETH</td>\n",
       "    </tr>\n",
       "    <tr>\n",
       "      <th>292</th>\n",
       "      <td>2021-12-13 04:00:00</td>\n",
       "      <td>173.63</td>\n",
       "      <td>174.15</td>\n",
       "      <td>173.26</td>\n",
       "      <td>173.49</td>\n",
       "      <td>599.995</td>\n",
       "      <td>104093.13255</td>\n",
       "      <td>AAVE</td>\n",
       "      <td>ETH</td>\n",
       "    </tr>\n",
       "    <tr>\n",
       "      <th>293</th>\n",
       "      <td>2021-12-13 05:00:00</td>\n",
       "      <td>173.49</td>\n",
       "      <td>174.19</td>\n",
       "      <td>173.24</td>\n",
       "      <td>173.81</td>\n",
       "      <td>604.478</td>\n",
       "      <td>105064.32118</td>\n",
       "      <td>AAVE</td>\n",
       "      <td>ETH</td>\n",
       "    </tr>\n",
       "    <tr>\n",
       "      <th>294</th>\n",
       "      <td>2021-12-13 06:00:00</td>\n",
       "      <td>173.83</td>\n",
       "      <td>174.13</td>\n",
       "      <td>NaN</td>\n",
       "      <td>173.99</td>\n",
       "      <td>415.171</td>\n",
       "      <td>72235.60229</td>\n",
       "      <td>AAVE</td>\n",
       "      <td>ETH</td>\n",
       "    </tr>\n",
       "  </tbody>\n",
       "</table>\n",
       "<p>295 rows × 9 columns</p>\n",
       "</div>"
      ],
      "text/plain": [
       "                      ts     open     high      low    close    volume  \\\n",
       "0    2021-12-01 00:00:00  257.102  260.775  255.345  257.078  2730.299   \n",
       "1    2021-12-01 01:00:00  257.149  266.249   255.27  264.816  5752.541   \n",
       "2    2021-12-01 02:00:00  264.755  266.187  262.597  263.125   1559.33   \n",
       "3    2021-12-01 03:00:00  263.184      NaN      NaN  266.257  1647.398   \n",
       "4    2021-12-01 04:00:00  266.384  267.024  264.284  265.502   829.993   \n",
       "..                   ...      ...      ...      ...      ...       ...   \n",
       "290  2021-12-13 02:00:00    178.0    178.0   173.64   173.64  3987.529   \n",
       "291  2021-12-13 03:00:00    173.7      NaN   173.51   173.72   713.174   \n",
       "292  2021-12-13 04:00:00   173.63   174.15   173.26   173.49   599.995   \n",
       "293  2021-12-13 05:00:00   173.49   174.19   173.24   173.81   604.478   \n",
       "294  2021-12-13 06:00:00   173.83   174.13      NaN   173.99   415.171   \n",
       "\n",
       "          volumeUSD token chain  \n",
       "0     701899.806322  AAVE   ETH  \n",
       "1    1523364.897456  AAVE   ETH  \n",
       "2      410298.70625  AAVE   ETH  \n",
       "3     438631.249286  AAVE   ETH  \n",
       "4     220364.801486  AAVE   ETH  \n",
       "..              ...   ...   ...  \n",
       "290    692394.53556  AAVE   ETH  \n",
       "291    123892.58728  AAVE   ETH  \n",
       "292    104093.13255  AAVE   ETH  \n",
       "293    105064.32118  AAVE   ETH  \n",
       "294     72235.60229  AAVE   ETH  \n",
       "\n",
       "[295 rows x 9 columns]"
      ]
     },
     "execution_count": 88,
     "metadata": {},
     "output_type": "execute_result"
    }
   ],
   "source": [
    "newAAVE=get_unique(AAVE)\n",
    "newAAVE"
   ]
  },
  {
   "cell_type": "code",
   "execution_count": 89,
   "id": "42e66f39-0834-4edf-bd10-f09de0d6b2f2",
   "metadata": {},
   "outputs": [
    {
     "data": {
      "text/plain": [
       "134916806.25805405"
      ]
     },
     "execution_count": 89,
     "metadata": {},
     "output_type": "execute_result"
    }
   ],
   "source": [
    "newAAVE.volumeUSD.sum()"
   ]
  },
  {
   "cell_type": "code",
   "execution_count": 90,
   "id": "99846b0f-789a-4a3e-8a8e-41e27c3a5939",
   "metadata": {},
   "outputs": [
    {
     "data": {
      "text/plain": [
       "<AxesSubplot:>"
      ]
     },
     "execution_count": 90,
     "metadata": {},
     "output_type": "execute_result"
    },
    {
     "data": {
      "image/png": "[encoded data removed]",
      "text/plain": [
       "<Figure size 432x288 with 1 Axes>"
      ]
     },
     "metadata": {
      "needs_background": "light"
     },
     "output_type": "display_data"
    }
   ],
   "source": [
    "COMP.close.plot()"
   ]
  },
  {
   "cell_type": "code",
   "execution_count": 91,
   "id": "29d0b669-f806-4b7e-9426-b07bc3f47c14",
   "metadata": {},
   "outputs": [],
   "source": [
    "for i in range(len(COMP)):\n",
    "    if COMP.loc[i,'close']<100:\n",
    "        COMP.loc[i,'close']=COMP.loc[i,'close']*100\n",
    "    if COMP.loc[i,'close']>2000:\n",
    "        COMP.loc[i,'close']=COMP.loc[i,'close']/100"
   ]
  },
  {
   "cell_type": "code",
   "execution_count": 92,
   "id": "8b90611c-1c6f-4a7a-9416-71379a770259",
   "metadata": {},
   "outputs": [
    {
     "data": {
      "text/plain": [
       "<AxesSubplot:>"
      ]
     },
     "execution_count": 92,
     "metadata": {},
     "output_type": "execute_result"
    },
    {
     "data": {
      "image/png": "[encoded data removed]",
      "text/plain": [
       "<Figure size 432x288 with 1 Axes>"
      ]
     },
     "metadata": {
      "needs_background": "light"
     },
     "output_type": "display_data"
    }
   ],
   "source": [
    "COMP.close.plot()"
   ]
  },
  {
   "cell_type": "code",
   "execution_count": 93,
   "id": "ec585c50-ac96-4257-a183-c31c1211a00c",
   "metadata": {},
   "outputs": [
    {
     "data": {
      "text/html": [
       "<div>\n",
       "<style scoped>\n",
       "    .dataframe tbody tr th:only-of-type {\n",
       "        vertical-align: middle;\n",
       "    }\n",
       "\n",
       "    .dataframe tbody tr th {\n",
       "        vertical-align: top;\n",
       "    }\n",
       "\n",
       "    .dataframe thead th {\n",
       "        text-align: right;\n",
       "    }\n",
       "</style>\n",
       "<table border=\"1\" class=\"dataframe\">\n",
       "  <thead>\n",
       "    <tr style=\"text-align: right;\">\n",
       "      <th></th>\n",
       "      <th>ts</th>\n",
       "      <th>open</th>\n",
       "      <th>high</th>\n",
       "      <th>low</th>\n",
       "      <th>close</th>\n",
       "      <th>volume</th>\n",
       "      <th>volumeUSD</th>\n",
       "      <th>token</th>\n",
       "      <th>chain</th>\n",
       "    </tr>\n",
       "  </thead>\n",
       "  <tbody>\n",
       "    <tr>\n",
       "      <th>0</th>\n",
       "      <td>2021-12-01 00:00:00</td>\n",
       "      <td>280.59</td>\n",
       "      <td>281.40</td>\n",
       "      <td>278.30</td>\n",
       "      <td>278.70</td>\n",
       "      <td>207.849</td>\n",
       "      <td>57927.51630</td>\n",
       "      <td>COMP</td>\n",
       "      <td>ETH</td>\n",
       "    </tr>\n",
       "    <tr>\n",
       "      <th>1</th>\n",
       "      <td>2021-12-01 01:00:00</td>\n",
       "      <td>278.65</td>\n",
       "      <td>283.80</td>\n",
       "      <td>276.36</td>\n",
       "      <td>283.44</td>\n",
       "      <td>817.668</td>\n",
       "      <td>231759.81792</td>\n",
       "      <td>COMP</td>\n",
       "      <td>ETH</td>\n",
       "    </tr>\n",
       "    <tr>\n",
       "      <th>2</th>\n",
       "      <td>2021-12-01 02:00:00</td>\n",
       "      <td>283.20</td>\n",
       "      <td>NaN</td>\n",
       "      <td>280.61</td>\n",
       "      <td>281.29</td>\n",
       "      <td>254.330</td>\n",
       "      <td>71540.48570</td>\n",
       "      <td>COMP</td>\n",
       "      <td>ETH</td>\n",
       "    </tr>\n",
       "    <tr>\n",
       "      <th>3</th>\n",
       "      <td>2021-12-01 03:00:00</td>\n",
       "      <td>281.25</td>\n",
       "      <td>283.22</td>\n",
       "      <td>279.90</td>\n",
       "      <td>283.09</td>\n",
       "      <td>393.771</td>\n",
       "      <td>111472.63239</td>\n",
       "      <td>COMP</td>\n",
       "      <td>ETH</td>\n",
       "    </tr>\n",
       "    <tr>\n",
       "      <th>4</th>\n",
       "      <td>2021-12-01 04:00:00</td>\n",
       "      <td>283.10</td>\n",
       "      <td>284.16</td>\n",
       "      <td>282.60</td>\n",
       "      <td>283.73</td>\n",
       "      <td>489.120</td>\n",
       "      <td>138778.01760</td>\n",
       "      <td>COMP</td>\n",
       "      <td>ETH</td>\n",
       "    </tr>\n",
       "    <tr>\n",
       "      <th>...</th>\n",
       "      <td>...</td>\n",
       "      <td>...</td>\n",
       "      <td>...</td>\n",
       "      <td>...</td>\n",
       "      <td>...</td>\n",
       "      <td>...</td>\n",
       "      <td>...</td>\n",
       "      <td>...</td>\n",
       "      <td>...</td>\n",
       "    </tr>\n",
       "    <tr>\n",
       "      <th>327</th>\n",
       "      <td>2021-12-13 03:00:00</td>\n",
       "      <td>191.69</td>\n",
       "      <td>193.47</td>\n",
       "      <td>190.95</td>\n",
       "      <td>191.96</td>\n",
       "      <td>530.342</td>\n",
       "      <td>101804.45032</td>\n",
       "      <td>COMP</td>\n",
       "      <td>ETH</td>\n",
       "    </tr>\n",
       "    <tr>\n",
       "      <th>328</th>\n",
       "      <td>2021-12-13 04:00:00</td>\n",
       "      <td>191.85</td>\n",
       "      <td>192.87</td>\n",
       "      <td>191.19</td>\n",
       "      <td>NaN</td>\n",
       "      <td>1046.025</td>\n",
       "      <td>NaN</td>\n",
       "      <td>COMP</td>\n",
       "      <td>ETH</td>\n",
       "    </tr>\n",
       "    <tr>\n",
       "      <th>329</th>\n",
       "      <td>2021-12-13 05:00:00</td>\n",
       "      <td>191.95</td>\n",
       "      <td>193.58</td>\n",
       "      <td>191.35</td>\n",
       "      <td>193.11</td>\n",
       "      <td>659.082</td>\n",
       "      <td>127275.32502</td>\n",
       "      <td>COMP</td>\n",
       "      <td>ETH</td>\n",
       "    </tr>\n",
       "    <tr>\n",
       "      <th>330</th>\n",
       "      <td>2021-12-13 06:00:00</td>\n",
       "      <td>193.11</td>\n",
       "      <td>193.23</td>\n",
       "      <td>192.53</td>\n",
       "      <td>193.01</td>\n",
       "      <td>99.653</td>\n",
       "      <td>19234.02553</td>\n",
       "      <td>COMP</td>\n",
       "      <td>ETH</td>\n",
       "    </tr>\n",
       "    <tr>\n",
       "      <th>331</th>\n",
       "      <td>2021-12-13 06:00:00</td>\n",
       "      <td>193.11</td>\n",
       "      <td>193.23</td>\n",
       "      <td>192.53</td>\n",
       "      <td>193.01</td>\n",
       "      <td>99.653</td>\n",
       "      <td>19234.02553</td>\n",
       "      <td>COMP</td>\n",
       "      <td>ETH</td>\n",
       "    </tr>\n",
       "  </tbody>\n",
       "</table>\n",
       "<p>332 rows × 9 columns</p>\n",
       "</div>"
      ],
      "text/plain": [
       "                      ts    open    high     low   close    volume  \\\n",
       "0    2021-12-01 00:00:00  280.59  281.40  278.30  278.70   207.849   \n",
       "1    2021-12-01 01:00:00  278.65  283.80  276.36  283.44   817.668   \n",
       "2    2021-12-01 02:00:00  283.20     NaN  280.61  281.29   254.330   \n",
       "3    2021-12-01 03:00:00  281.25  283.22  279.90  283.09   393.771   \n",
       "4    2021-12-01 04:00:00  283.10  284.16  282.60  283.73   489.120   \n",
       "..                   ...     ...     ...     ...     ...       ...   \n",
       "327  2021-12-13 03:00:00  191.69  193.47  190.95  191.96   530.342   \n",
       "328  2021-12-13 04:00:00  191.85  192.87  191.19     NaN  1046.025   \n",
       "329  2021-12-13 05:00:00  191.95  193.58  191.35  193.11   659.082   \n",
       "330  2021-12-13 06:00:00  193.11  193.23  192.53  193.01    99.653   \n",
       "331  2021-12-13 06:00:00  193.11  193.23  192.53  193.01    99.653   \n",
       "\n",
       "        volumeUSD token chain  \n",
       "0     57927.51630  COMP   ETH  \n",
       "1    231759.81792  COMP   ETH  \n",
       "2     71540.48570  COMP   ETH  \n",
       "3    111472.63239  COMP   ETH  \n",
       "4    138778.01760  COMP   ETH  \n",
       "..            ...   ...   ...  \n",
       "327  101804.45032  COMP   ETH  \n",
       "328           NaN  COMP   ETH  \n",
       "329  127275.32502  COMP   ETH  \n",
       "330   19234.02553  COMP   ETH  \n",
       "331   19234.02553  COMP   ETH  \n",
       "\n",
       "[332 rows x 9 columns]"
      ]
     },
     "execution_count": 93,
     "metadata": {},
     "output_type": "execute_result"
    }
   ],
   "source": [
    "COMP['volumeUSD']=COMP['volume']*COMP['close']\n",
    "COMP"
   ]
  },
  {
   "cell_type": "code",
   "execution_count": 94,
   "id": "2f2ba572-622e-4d34-bfee-06d7f2686625",
   "metadata": {},
   "outputs": [
    {
     "data": {
      "text/plain": [
       "<AxesSubplot:>"
      ]
     },
     "execution_count": 94,
     "metadata": {},
     "output_type": "execute_result"
    },
    {
     "data": {
      "image/png": "[encoded data removed]",
      "text/plain": [
       "<Figure size 432x288 with 1 Axes>"
      ]
     },
     "metadata": {
      "needs_background": "light"
     },
     "output_type": "display_data"
    }
   ],
   "source": [
    "COMP.close.plot()"
   ]
  },
  {
   "cell_type": "code",
   "execution_count": 95,
   "id": "574deb72-3fd4-4f66-ada3-87c34d92fd13",
   "metadata": {},
   "outputs": [
    {
     "data": {
      "text/plain": [
       "<AxesSubplot:>"
      ]
     },
     "execution_count": 95,
     "metadata": {},
     "output_type": "execute_result"
    },
    {
     "data": {
      "image/png": "[encoded data removed]",
      "text/plain": [
       "<Figure size 432x288 with 1 Axes>"
      ]
     },
     "metadata": {
      "needs_background": "light"
     },
     "output_type": "display_data"
    }
   ],
   "source": [
    "COMP.volume.plot()"
   ]
  },
  {
   "cell_type": "code",
   "execution_count": 96,
   "id": "034bbbdd-4841-4976-a9e5-66b953c4f472",
   "metadata": {},
   "outputs": [
    {
     "data": {
      "text/html": [
       "<div>\n",
       "<style scoped>\n",
       "    .dataframe tbody tr th:only-of-type {\n",
       "        vertical-align: middle;\n",
       "    }\n",
       "\n",
       "    .dataframe tbody tr th {\n",
       "        vertical-align: top;\n",
       "    }\n",
       "\n",
       "    .dataframe thead th {\n",
       "        text-align: right;\n",
       "    }\n",
       "</style>\n",
       "<table border=\"1\" class=\"dataframe\">\n",
       "  <thead>\n",
       "    <tr style=\"text-align: right;\">\n",
       "      <th></th>\n",
       "      <th>ts</th>\n",
       "      <th>open</th>\n",
       "      <th>high</th>\n",
       "      <th>low</th>\n",
       "      <th>close</th>\n",
       "      <th>volume</th>\n",
       "      <th>volumeUSD</th>\n",
       "      <th>token</th>\n",
       "      <th>chain</th>\n",
       "    </tr>\n",
       "  </thead>\n",
       "  <tbody>\n",
       "    <tr>\n",
       "      <th>0</th>\n",
       "      <td>2021-12-01 00:00:00</td>\n",
       "      <td>280.59</td>\n",
       "      <td>281.4</td>\n",
       "      <td>278.3</td>\n",
       "      <td>278.7</td>\n",
       "      <td>207.849</td>\n",
       "      <td>57927.5163</td>\n",
       "      <td>COMP</td>\n",
       "      <td>ETH</td>\n",
       "    </tr>\n",
       "    <tr>\n",
       "      <th>1</th>\n",
       "      <td>2021-12-01 01:00:00</td>\n",
       "      <td>278.65</td>\n",
       "      <td>283.8</td>\n",
       "      <td>276.36</td>\n",
       "      <td>283.44</td>\n",
       "      <td>817.668</td>\n",
       "      <td>231759.81792</td>\n",
       "      <td>COMP</td>\n",
       "      <td>ETH</td>\n",
       "    </tr>\n",
       "    <tr>\n",
       "      <th>2</th>\n",
       "      <td>2021-12-01 02:00:00</td>\n",
       "      <td>283.2</td>\n",
       "      <td>NaN</td>\n",
       "      <td>280.61</td>\n",
       "      <td>281.29</td>\n",
       "      <td>254.33</td>\n",
       "      <td>71540.4857</td>\n",
       "      <td>COMP</td>\n",
       "      <td>ETH</td>\n",
       "    </tr>\n",
       "    <tr>\n",
       "      <th>3</th>\n",
       "      <td>2021-12-01 03:00:00</td>\n",
       "      <td>281.25</td>\n",
       "      <td>283.22</td>\n",
       "      <td>279.9</td>\n",
       "      <td>283.09</td>\n",
       "      <td>393.771</td>\n",
       "      <td>111472.63239</td>\n",
       "      <td>COMP</td>\n",
       "      <td>ETH</td>\n",
       "    </tr>\n",
       "    <tr>\n",
       "      <th>4</th>\n",
       "      <td>2021-12-01 04:00:00</td>\n",
       "      <td>283.1</td>\n",
       "      <td>284.16</td>\n",
       "      <td>282.6</td>\n",
       "      <td>283.73</td>\n",
       "      <td>489.12</td>\n",
       "      <td>138778.0176</td>\n",
       "      <td>COMP</td>\n",
       "      <td>ETH</td>\n",
       "    </tr>\n",
       "    <tr>\n",
       "      <th>...</th>\n",
       "      <td>...</td>\n",
       "      <td>...</td>\n",
       "      <td>...</td>\n",
       "      <td>...</td>\n",
       "      <td>...</td>\n",
       "      <td>...</td>\n",
       "      <td>...</td>\n",
       "      <td>...</td>\n",
       "      <td>...</td>\n",
       "    </tr>\n",
       "    <tr>\n",
       "      <th>290</th>\n",
       "      <td>2021-12-13 02:00:00</td>\n",
       "      <td>196.31</td>\n",
       "      <td>196.32</td>\n",
       "      <td>191.8</td>\n",
       "      <td>191.86</td>\n",
       "      <td>1901.019</td>\n",
       "      <td>364729.50534</td>\n",
       "      <td>COMP</td>\n",
       "      <td>ETH</td>\n",
       "    </tr>\n",
       "    <tr>\n",
       "      <th>291</th>\n",
       "      <td>2021-12-13 03:00:00</td>\n",
       "      <td>191.69</td>\n",
       "      <td>193.47</td>\n",
       "      <td>190.95</td>\n",
       "      <td>191.96</td>\n",
       "      <td>530.342</td>\n",
       "      <td>101804.45032</td>\n",
       "      <td>COMP</td>\n",
       "      <td>ETH</td>\n",
       "    </tr>\n",
       "    <tr>\n",
       "      <th>292</th>\n",
       "      <td>2021-12-13 04:00:00</td>\n",
       "      <td>191.85</td>\n",
       "      <td>192.87</td>\n",
       "      <td>191.19</td>\n",
       "      <td>NaN</td>\n",
       "      <td>1046.025</td>\n",
       "      <td>NaN</td>\n",
       "      <td>COMP</td>\n",
       "      <td>ETH</td>\n",
       "    </tr>\n",
       "    <tr>\n",
       "      <th>293</th>\n",
       "      <td>2021-12-13 05:00:00</td>\n",
       "      <td>191.95</td>\n",
       "      <td>193.58</td>\n",
       "      <td>191.35</td>\n",
       "      <td>193.11</td>\n",
       "      <td>659.082</td>\n",
       "      <td>127275.32502</td>\n",
       "      <td>COMP</td>\n",
       "      <td>ETH</td>\n",
       "    </tr>\n",
       "    <tr>\n",
       "      <th>294</th>\n",
       "      <td>2021-12-13 06:00:00</td>\n",
       "      <td>193.11</td>\n",
       "      <td>193.23</td>\n",
       "      <td>192.53</td>\n",
       "      <td>193.01</td>\n",
       "      <td>99.653</td>\n",
       "      <td>19234.02553</td>\n",
       "      <td>COMP</td>\n",
       "      <td>ETH</td>\n",
       "    </tr>\n",
       "  </tbody>\n",
       "</table>\n",
       "<p>295 rows × 9 columns</p>\n",
       "</div>"
      ],
      "text/plain": [
       "                      ts    open    high     low   close    volume  \\\n",
       "0    2021-12-01 00:00:00  280.59   281.4   278.3   278.7   207.849   \n",
       "1    2021-12-01 01:00:00  278.65   283.8  276.36  283.44   817.668   \n",
       "2    2021-12-01 02:00:00   283.2     NaN  280.61  281.29    254.33   \n",
       "3    2021-12-01 03:00:00  281.25  283.22   279.9  283.09   393.771   \n",
       "4    2021-12-01 04:00:00   283.1  284.16   282.6  283.73    489.12   \n",
       "..                   ...     ...     ...     ...     ...       ...   \n",
       "290  2021-12-13 02:00:00  196.31  196.32   191.8  191.86  1901.019   \n",
       "291  2021-12-13 03:00:00  191.69  193.47  190.95  191.96   530.342   \n",
       "292  2021-12-13 04:00:00  191.85  192.87  191.19     NaN  1046.025   \n",
       "293  2021-12-13 05:00:00  191.95  193.58  191.35  193.11   659.082   \n",
       "294  2021-12-13 06:00:00  193.11  193.23  192.53  193.01    99.653   \n",
       "\n",
       "        volumeUSD token chain  \n",
       "0      57927.5163  COMP   ETH  \n",
       "1    231759.81792  COMP   ETH  \n",
       "2      71540.4857  COMP   ETH  \n",
       "3    111472.63239  COMP   ETH  \n",
       "4     138778.0176  COMP   ETH  \n",
       "..            ...   ...   ...  \n",
       "290  364729.50534  COMP   ETH  \n",
       "291  101804.45032  COMP   ETH  \n",
       "292           NaN  COMP   ETH  \n",
       "293  127275.32502  COMP   ETH  \n",
       "294   19234.02553  COMP   ETH  \n",
       "\n",
       "[295 rows x 9 columns]"
      ]
     },
     "execution_count": 96,
     "metadata": {},
     "output_type": "execute_result"
    }
   ],
   "source": [
    "newCOMP=get_unique(COMP)\n",
    "newCOMP"
   ]
  },
  {
   "cell_type": "code",
   "execution_count": 97,
   "id": "7c0b6e05-4126-439a-a0e2-12763d61999b",
   "metadata": {},
   "outputs": [
    {
     "data": {
      "text/plain": [
       "69114097.13505"
      ]
     },
     "execution_count": 97,
     "metadata": {},
     "output_type": "execute_result"
    }
   ],
   "source": [
    "newCOMP.volumeUSD.sum()"
   ]
  },
  {
   "cell_type": "code",
   "execution_count": 103,
   "id": "abb9e41c-0508-4934-971e-ba7cc9255cd3",
   "metadata": {},
   "outputs": [
    {
     "data": {
      "text/plain": [
       "<AxesSubplot:>"
      ]
     },
     "execution_count": 103,
     "metadata": {},
     "output_type": "execute_result"
    },
    {
     "data": {
      "image/png": "[encoded data removed]",
      "text/plain": [
       "<Figure size 432x288 with 1 Axes>"
      ]
     },
     "metadata": {
      "needs_background": "light"
     },
     "output_type": "display_data"
    }
   ],
   "source": [
    "BTC.close.plot()"
   ]
  },
  {
   "cell_type": "code",
   "execution_count": 104,
   "id": "143fc6d1-bdc1-4756-9495-a0d8fe4a2041",
   "metadata": {},
   "outputs": [
    {
     "data": {
      "text/plain": [
       "50      56755.00\n",
       "51      56637.87\n",
       "52      56637.87\n",
       "53      57075.10\n",
       "54      56905.81\n",
       "55    5688883.00\n",
       "56           NaN\n",
       "57      56569.29\n",
       "58      56545.98\n",
       "59      56545.98\n",
       "60      56301.44\n",
       "Name: close, dtype: float64"
      ]
     },
     "execution_count": 104,
     "metadata": {},
     "output_type": "execute_result"
    }
   ],
   "source": [
    "BTC.loc[50:60,'close']"
   ]
  },
  {
   "cell_type": "code",
   "execution_count": 105,
   "id": "c5ea2d67-a848-4402-b7c5-46597fbaa7c5",
   "metadata": {},
   "outputs": [],
   "source": [
    "for i in range(len(BTC)):\n",
    "    if BTC.loc[i,'close']<7000:\n",
    "         BTC.loc[i,'close']=BTC.loc[i,'close']*100\n",
    "    if BTC.loc[i,'close']>100000:\n",
    "        BTC.loc[i,'close']=BTC.loc[i,'close']/100"
   ]
  },
  {
   "cell_type": "code",
   "execution_count": 106,
   "id": "42a65c68-4f42-4414-bd3c-47545c896eef",
   "metadata": {},
   "outputs": [
    {
     "data": {
      "text/plain": [
       "<AxesSubplot:>"
      ]
     },
     "execution_count": 106,
     "metadata": {},
     "output_type": "execute_result"
    },
    {
     "data": {
      "image/png": "[encoded data removed]",
      "text/plain": [
       "<Figure size 432x288 with 1 Axes>"
      ]
     },
     "metadata": {
      "needs_background": "light"
     },
     "output_type": "display_data"
    }
   ],
   "source": [
    "BTC.close.plot()"
   ]
  },
  {
   "cell_type": "code",
   "execution_count": 107,
   "id": "32a742e4-5597-4ef3-8a22-88a815be081d",
   "metadata": {},
   "outputs": [
    {
     "data": {
      "text/html": [
       "<div>\n",
       "<style scoped>\n",
       "    .dataframe tbody tr th:only-of-type {\n",
       "        vertical-align: middle;\n",
       "    }\n",
       "\n",
       "    .dataframe tbody tr th {\n",
       "        vertical-align: top;\n",
       "    }\n",
       "\n",
       "    .dataframe thead th {\n",
       "        text-align: right;\n",
       "    }\n",
       "</style>\n",
       "<table border=\"1\" class=\"dataframe\">\n",
       "  <thead>\n",
       "    <tr style=\"text-align: right;\">\n",
       "      <th></th>\n",
       "      <th>ts</th>\n",
       "      <th>open</th>\n",
       "      <th>high</th>\n",
       "      <th>low</th>\n",
       "      <th>close</th>\n",
       "      <th>volume</th>\n",
       "      <th>volumeUSD</th>\n",
       "      <th>token</th>\n",
       "      <th>chain</th>\n",
       "    </tr>\n",
       "  </thead>\n",
       "  <tbody>\n",
       "    <tr>\n",
       "      <th>0</th>\n",
       "      <td>2021-12-01 00:00:00</td>\n",
       "      <td>57321.41</td>\n",
       "      <td>57451.05</td>\n",
       "      <td>56814.34</td>\n",
       "      <td>56987.97</td>\n",
       "      <td>388.482022</td>\n",
       "      <td>2.213880e+07</td>\n",
       "      <td>BTC</td>\n",
       "      <td>BTC</td>\n",
       "    </tr>\n",
       "    <tr>\n",
       "      <th>1</th>\n",
       "      <td>2021-12-01 01:00:00</td>\n",
       "      <td>56998.35</td>\n",
       "      <td>57726.45</td>\n",
       "      <td>56705.06</td>\n",
       "      <td>57616.41</td>\n",
       "      <td>599.791578</td>\n",
       "      <td>3.455784e+07</td>\n",
       "      <td>BTC</td>\n",
       "      <td>BTC</td>\n",
       "    </tr>\n",
       "    <tr>\n",
       "      <th>2</th>\n",
       "      <td>2021-12-01 02:00:00</td>\n",
       "      <td>57618.55</td>\n",
       "      <td>57620.00</td>\n",
       "      <td>56972.97</td>\n",
       "      <td>57030.83</td>\n",
       "      <td>591.687200</td>\n",
       "      <td>3.374441e+07</td>\n",
       "      <td>BTC</td>\n",
       "      <td>BTC</td>\n",
       "    </tr>\n",
       "    <tr>\n",
       "      <th>3</th>\n",
       "      <td>2021-12-01 03:00:00</td>\n",
       "      <td>57029.79</td>\n",
       "      <td>57396.87</td>\n",
       "      <td>NaN</td>\n",
       "      <td>57307.59</td>\n",
       "      <td>702.560364</td>\n",
       "      <td>4.026204e+07</td>\n",
       "      <td>BTC</td>\n",
       "      <td>BTC</td>\n",
       "    </tr>\n",
       "    <tr>\n",
       "      <th>4</th>\n",
       "      <td>2021-12-01 04:00:00</td>\n",
       "      <td>57306.55</td>\n",
       "      <td>57456.82</td>\n",
       "      <td>57026.11</td>\n",
       "      <td>57404.01</td>\n",
       "      <td>859.591535</td>\n",
       "      <td>4.934400e+07</td>\n",
       "      <td>BTC</td>\n",
       "      <td>BTC</td>\n",
       "    </tr>\n",
       "    <tr>\n",
       "      <th>...</th>\n",
       "      <td>...</td>\n",
       "      <td>...</td>\n",
       "      <td>...</td>\n",
       "      <td>...</td>\n",
       "      <td>...</td>\n",
       "      <td>...</td>\n",
       "      <td>...</td>\n",
       "      <td>...</td>\n",
       "      <td>...</td>\n",
       "    </tr>\n",
       "    <tr>\n",
       "      <th>332</th>\n",
       "      <td>2021-12-13 03:00:00</td>\n",
       "      <td>48625.72</td>\n",
       "      <td>48912.18</td>\n",
       "      <td>48464.66</td>\n",
       "      <td>48803.24</td>\n",
       "      <td>525.377710</td>\n",
       "      <td>2.564013e+07</td>\n",
       "      <td>BTC</td>\n",
       "      <td>BTC</td>\n",
       "    </tr>\n",
       "    <tr>\n",
       "      <th>333</th>\n",
       "      <td>2021-12-13 03:00:00</td>\n",
       "      <td>48625.72</td>\n",
       "      <td>48912.18</td>\n",
       "      <td>48464.66</td>\n",
       "      <td>48803.24</td>\n",
       "      <td>525.377710</td>\n",
       "      <td>2.564013e+07</td>\n",
       "      <td>BTC</td>\n",
       "      <td>BTC</td>\n",
       "    </tr>\n",
       "    <tr>\n",
       "      <th>334</th>\n",
       "      <td>2021-12-13 04:00:00</td>\n",
       "      <td>48803.24</td>\n",
       "      <td>49114.07</td>\n",
       "      <td>48725.23</td>\n",
       "      <td>48909.61</td>\n",
       "      <td>304.717117</td>\n",
       "      <td>1.490360e+07</td>\n",
       "      <td>BTC</td>\n",
       "      <td>BTC</td>\n",
       "    </tr>\n",
       "    <tr>\n",
       "      <th>335</th>\n",
       "      <td>2021-12-13 05:00:00</td>\n",
       "      <td>48909.61</td>\n",
       "      <td>NaN</td>\n",
       "      <td>48791.14</td>\n",
       "      <td>49065.42</td>\n",
       "      <td>279.469275</td>\n",
       "      <td>1.371228e+07</td>\n",
       "      <td>BTC</td>\n",
       "      <td>BTC</td>\n",
       "    </tr>\n",
       "    <tr>\n",
       "      <th>336</th>\n",
       "      <td>2021-12-13 06:00:00</td>\n",
       "      <td>49065.45</td>\n",
       "      <td>49108.33</td>\n",
       "      <td>48970.10</td>\n",
       "      <td>49087.76</td>\n",
       "      <td>123.274547</td>\n",
       "      <td>6.051271e+06</td>\n",
       "      <td>BTC</td>\n",
       "      <td>BTC</td>\n",
       "    </tr>\n",
       "  </tbody>\n",
       "</table>\n",
       "<p>337 rows × 9 columns</p>\n",
       "</div>"
      ],
      "text/plain": [
       "                      ts      open      high       low     close      volume  \\\n",
       "0    2021-12-01 00:00:00  57321.41  57451.05  56814.34  56987.97  388.482022   \n",
       "1    2021-12-01 01:00:00  56998.35  57726.45  56705.06  57616.41  599.791578   \n",
       "2    2021-12-01 02:00:00  57618.55  57620.00  56972.97  57030.83  591.687200   \n",
       "3    2021-12-01 03:00:00  57029.79  57396.87       NaN  57307.59  702.560364   \n",
       "4    2021-12-01 04:00:00  57306.55  57456.82  57026.11  57404.01  859.591535   \n",
       "..                   ...       ...       ...       ...       ...         ...   \n",
       "332  2021-12-13 03:00:00  48625.72  48912.18  48464.66  48803.24  525.377710   \n",
       "333  2021-12-13 03:00:00  48625.72  48912.18  48464.66  48803.24  525.377710   \n",
       "334  2021-12-13 04:00:00  48803.24  49114.07  48725.23  48909.61  304.717117   \n",
       "335  2021-12-13 05:00:00  48909.61       NaN  48791.14  49065.42  279.469275   \n",
       "336  2021-12-13 06:00:00  49065.45  49108.33  48970.10  49087.76  123.274547   \n",
       "\n",
       "        volumeUSD token chain  \n",
       "0    2.213880e+07   BTC   BTC  \n",
       "1    3.455784e+07   BTC   BTC  \n",
       "2    3.374441e+07   BTC   BTC  \n",
       "3    4.026204e+07   BTC   BTC  \n",
       "4    4.934400e+07   BTC   BTC  \n",
       "..            ...   ...   ...  \n",
       "332  2.564013e+07   BTC   BTC  \n",
       "333  2.564013e+07   BTC   BTC  \n",
       "334  1.490360e+07   BTC   BTC  \n",
       "335  1.371228e+07   BTC   BTC  \n",
       "336  6.051271e+06   BTC   BTC  \n",
       "\n",
       "[337 rows x 9 columns]"
      ]
     },
     "execution_count": 107,
     "metadata": {},
     "output_type": "execute_result"
    }
   ],
   "source": [
    "BTC['volumeUSD']=BTC['volume']*BTC['close']\n",
    "BTC"
   ]
  },
  {
   "cell_type": "code",
   "execution_count": 108,
   "id": "183cfdd1-c2bc-4065-b8b6-6c49172c6213",
   "metadata": {},
   "outputs": [
    {
     "data": {
      "text/plain": [
       "<AxesSubplot:>"
      ]
     },
     "execution_count": 108,
     "metadata": {},
     "output_type": "execute_result"
    },
    {
     "data": {
      "image/png": "[encoded data removed]",
      "text/plain": [
       "<Figure size 432x288 with 1 Axes>"
      ]
     },
     "metadata": {
      "needs_background": "light"
     },
     "output_type": "display_data"
    }
   ],
   "source": [
    "BTC.volume.plot()"
   ]
  },
  {
   "cell_type": "code",
   "execution_count": 109,
   "id": "78ae292d-5cf1-4e76-8a18-dff04a0471e1",
   "metadata": {},
   "outputs": [
    {
     "data": {
      "text/html": [
       "<div>\n",
       "<style scoped>\n",
       "    .dataframe tbody tr th:only-of-type {\n",
       "        vertical-align: middle;\n",
       "    }\n",
       "\n",
       "    .dataframe tbody tr th {\n",
       "        vertical-align: top;\n",
       "    }\n",
       "\n",
       "    .dataframe thead th {\n",
       "        text-align: right;\n",
       "    }\n",
       "</style>\n",
       "<table border=\"1\" class=\"dataframe\">\n",
       "  <thead>\n",
       "    <tr style=\"text-align: right;\">\n",
       "      <th></th>\n",
       "      <th>ts</th>\n",
       "      <th>open</th>\n",
       "      <th>high</th>\n",
       "      <th>low</th>\n",
       "      <th>close</th>\n",
       "      <th>volume</th>\n",
       "      <th>volumeUSD</th>\n",
       "      <th>token</th>\n",
       "      <th>chain</th>\n",
       "    </tr>\n",
       "  </thead>\n",
       "  <tbody>\n",
       "    <tr>\n",
       "      <th>0</th>\n",
       "      <td>2021-12-01 00:00:00</td>\n",
       "      <td>57321.41</td>\n",
       "      <td>57451.05</td>\n",
       "      <td>56814.34</td>\n",
       "      <td>56987.97</td>\n",
       "      <td>388.482022</td>\n",
       "      <td>22138801.815845</td>\n",
       "      <td>BTC</td>\n",
       "      <td>BTC</td>\n",
       "    </tr>\n",
       "    <tr>\n",
       "      <th>1</th>\n",
       "      <td>2021-12-01 01:00:00</td>\n",
       "      <td>56998.35</td>\n",
       "      <td>57726.45</td>\n",
       "      <td>56705.06</td>\n",
       "      <td>57616.41</td>\n",
       "      <td>599.791578</td>\n",
       "      <td>34557837.447244</td>\n",
       "      <td>BTC</td>\n",
       "      <td>BTC</td>\n",
       "    </tr>\n",
       "    <tr>\n",
       "      <th>2</th>\n",
       "      <td>2021-12-01 02:00:00</td>\n",
       "      <td>57618.55</td>\n",
       "      <td>57620.0</td>\n",
       "      <td>56972.97</td>\n",
       "      <td>57030.83</td>\n",
       "      <td>591.6872</td>\n",
       "      <td>33744412.114095</td>\n",
       "      <td>BTC</td>\n",
       "      <td>BTC</td>\n",
       "    </tr>\n",
       "    <tr>\n",
       "      <th>3</th>\n",
       "      <td>2021-12-01 03:00:00</td>\n",
       "      <td>57029.79</td>\n",
       "      <td>57396.87</td>\n",
       "      <td>NaN</td>\n",
       "      <td>57307.59</td>\n",
       "      <td>702.560364</td>\n",
       "      <td>40262041.317297</td>\n",
       "      <td>BTC</td>\n",
       "      <td>BTC</td>\n",
       "    </tr>\n",
       "    <tr>\n",
       "      <th>4</th>\n",
       "      <td>2021-12-01 04:00:00</td>\n",
       "      <td>57306.55</td>\n",
       "      <td>57456.82</td>\n",
       "      <td>57026.11</td>\n",
       "      <td>57404.01</td>\n",
       "      <td>859.591535</td>\n",
       "      <td>49344001.064741</td>\n",
       "      <td>BTC</td>\n",
       "      <td>BTC</td>\n",
       "    </tr>\n",
       "    <tr>\n",
       "      <th>...</th>\n",
       "      <td>...</td>\n",
       "      <td>...</td>\n",
       "      <td>...</td>\n",
       "      <td>...</td>\n",
       "      <td>...</td>\n",
       "      <td>...</td>\n",
       "      <td>...</td>\n",
       "      <td>...</td>\n",
       "      <td>...</td>\n",
       "    </tr>\n",
       "    <tr>\n",
       "      <th>290</th>\n",
       "      <td>2021-12-13 02:00:00</td>\n",
       "      <td>49663.75</td>\n",
       "      <td>49664.16</td>\n",
       "      <td>48595.01</td>\n",
       "      <td>48624.41</td>\n",
       "      <td>929.600989</td>\n",
       "      <td>45201299.614358</td>\n",
       "      <td>BTC</td>\n",
       "      <td>BTC</td>\n",
       "    </tr>\n",
       "    <tr>\n",
       "      <th>291</th>\n",
       "      <td>2021-12-13 03:00:00</td>\n",
       "      <td>48625.72</td>\n",
       "      <td>48912.18</td>\n",
       "      <td>48464.66</td>\n",
       "      <td>48803.24</td>\n",
       "      <td>525.37771</td>\n",
       "      <td>25640134.453723</td>\n",
       "      <td>BTC</td>\n",
       "      <td>BTC</td>\n",
       "    </tr>\n",
       "    <tr>\n",
       "      <th>292</th>\n",
       "      <td>2021-12-13 04:00:00</td>\n",
       "      <td>48803.24</td>\n",
       "      <td>49114.07</td>\n",
       "      <td>48725.23</td>\n",
       "      <td>48909.61</td>\n",
       "      <td>304.717117</td>\n",
       "      <td>14903595.365022</td>\n",
       "      <td>BTC</td>\n",
       "      <td>BTC</td>\n",
       "    </tr>\n",
       "    <tr>\n",
       "      <th>293</th>\n",
       "      <td>2021-12-13 05:00:00</td>\n",
       "      <td>48909.61</td>\n",
       "      <td>NaN</td>\n",
       "      <td>48791.14</td>\n",
       "      <td>49065.42</td>\n",
       "      <td>279.469275</td>\n",
       "      <td>13712277.342704</td>\n",
       "      <td>BTC</td>\n",
       "      <td>BTC</td>\n",
       "    </tr>\n",
       "    <tr>\n",
       "      <th>294</th>\n",
       "      <td>2021-12-13 06:00:00</td>\n",
       "      <td>49065.45</td>\n",
       "      <td>49108.33</td>\n",
       "      <td>48970.1</td>\n",
       "      <td>49087.76</td>\n",
       "      <td>123.274547</td>\n",
       "      <td>6051271.38019</td>\n",
       "      <td>BTC</td>\n",
       "      <td>BTC</td>\n",
       "    </tr>\n",
       "  </tbody>\n",
       "</table>\n",
       "<p>295 rows × 9 columns</p>\n",
       "</div>"
      ],
      "text/plain": [
       "                      ts      open      high       low     close      volume  \\\n",
       "0    2021-12-01 00:00:00  57321.41  57451.05  56814.34  56987.97  388.482022   \n",
       "1    2021-12-01 01:00:00  56998.35  57726.45  56705.06  57616.41  599.791578   \n",
       "2    2021-12-01 02:00:00  57618.55   57620.0  56972.97  57030.83    591.6872   \n",
       "3    2021-12-01 03:00:00  57029.79  57396.87       NaN  57307.59  702.560364   \n",
       "4    2021-12-01 04:00:00  57306.55  57456.82  57026.11  57404.01  859.591535   \n",
       "..                   ...       ...       ...       ...       ...         ...   \n",
       "290  2021-12-13 02:00:00  49663.75  49664.16  48595.01  48624.41  929.600989   \n",
       "291  2021-12-13 03:00:00  48625.72  48912.18  48464.66  48803.24   525.37771   \n",
       "292  2021-12-13 04:00:00  48803.24  49114.07  48725.23  48909.61  304.717117   \n",
       "293  2021-12-13 05:00:00  48909.61       NaN  48791.14  49065.42  279.469275   \n",
       "294  2021-12-13 06:00:00  49065.45  49108.33   48970.1  49087.76  123.274547   \n",
       "\n",
       "           volumeUSD token chain  \n",
       "0    22138801.815845   BTC   BTC  \n",
       "1    34557837.447244   BTC   BTC  \n",
       "2    33744412.114095   BTC   BTC  \n",
       "3    40262041.317297   BTC   BTC  \n",
       "4    49344001.064741   BTC   BTC  \n",
       "..               ...   ...   ...  \n",
       "290  45201299.614358   BTC   BTC  \n",
       "291  25640134.453723   BTC   BTC  \n",
       "292  14903595.365022   BTC   BTC  \n",
       "293  13712277.342704   BTC   BTC  \n",
       "294    6051271.38019   BTC   BTC  \n",
       "\n",
       "[295 rows x 9 columns]"
      ]
     },
     "execution_count": 109,
     "metadata": {},
     "output_type": "execute_result"
    }
   ],
   "source": [
    "newBTC=get_unique(BTC)\n",
    "newBTC"
   ]
  },
  {
   "cell_type": "code",
   "execution_count": 110,
   "id": "47b70b29-70f8-48e1-bd7b-fac9c6ac6d8d",
   "metadata": {},
   "outputs": [
    {
     "data": {
      "text/plain": [
       "10510350308.387794"
      ]
     },
     "execution_count": 110,
     "metadata": {},
     "output_type": "execute_result"
    }
   ],
   "source": [
    "newBTC.volumeUSD.sum()"
   ]
  },
  {
   "cell_type": "code",
   "execution_count": 113,
   "id": "648eac88-8400-407c-8f85-046b40cbe617",
   "metadata": {},
   "outputs": [
    {
     "data": {
      "text/plain": [
       "28896241232.302338"
      ]
     },
     "execution_count": 113,
     "metadata": {},
     "output_type": "execute_result"
    }
   ],
   "source": [
    "lister=[newUNI, newCRV, newSOL, newETH, newAAVE, newUSDT, newCOMP, newBTC,newUSDT]\n",
    "count=0\n",
    "for i in lister:\n",
    "    count+=i.volumeUSD.sum()\n",
    "count"
   ]
  },
  {
   "cell_type": "code",
   "execution_count": null,
   "id": "626df1ff-d788-4492-add3-6cea8fb56856",
   "metadata": {},
   "outputs": [],
   "source": []
  }
 ],
 "metadata": {
  "kernelspec": {
   "display_name": "Python 3",
   "language": "python",
   "name": "python3"
  },
  "language_info": {
   "codemirror_mode": {
    "name": "ipython",
    "version": 3
   },
   "file_extension": ".py",
   "mimetype": "text/x-python",
   "name": "python",
   "nbconvert_exporter": "python",
   "pygments_lexer": "ipython3",
   "version": "3.8.8"
  }
 },
 "nbformat": 4,
 "nbformat_minor": 5
}
