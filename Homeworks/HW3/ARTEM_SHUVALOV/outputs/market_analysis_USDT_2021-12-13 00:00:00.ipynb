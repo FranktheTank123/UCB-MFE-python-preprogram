{
 "cells": [
  {
   "cell_type": "code",
   "execution_count": 1,
   "id": "47cc5961",
   "metadata": {
    "execution": {
     "iopub.execute_input": "2022-01-04T18:07:18.261842Z",
     "iopub.status.busy": "2022-01-04T18:07:18.260431Z",
     "iopub.status.idle": "2022-01-04T18:07:18.263597Z",
     "shell.execute_reply": "2022-01-04T18:07:18.264330Z"
    },
    "papermill": {
     "duration": 0.033733,
     "end_time": "2022-01-04T18:07:18.264742",
     "exception": false,
     "start_time": "2022-01-04T18:07:18.231009",
     "status": "completed"
    },
    "tags": [
     "injected-parameters"
    ]
   },
   "outputs": [],
   "source": [
    "# Parameters\n",
    "from_date = \"2021-12-02 00:00:00\"\n",
    "to_date = \"2021-12-15 00:00:00\"\n",
    "token = \"USDT\"\n",
    "connection_string = \"sqlite:///data/data.db\"\n",
    "events_db = \"crypto_events_database\"\n"
   ]
  },
  {
   "cell_type": "code",
   "execution_count": 2,
   "id": "4f43abb1",
   "metadata": {
    "execution": {
     "iopub.execute_input": "2022-01-04T18:07:18.297419Z",
     "iopub.status.busy": "2022-01-04T18:07:18.295791Z",
     "iopub.status.idle": "2022-01-04T18:07:21.255902Z",
     "shell.execute_reply": "2022-01-04T18:07:21.256740Z"
    },
    "papermill": {
     "duration": 2.978463,
     "end_time": "2022-01-04T18:07:21.257081",
     "exception": false,
     "start_time": "2022-01-04T18:07:18.278618",
     "status": "completed"
    },
    "tags": []
   },
   "outputs": [
    {
     "name": "stderr",
     "output_type": "stream",
     "text": [
      "/Users/artemsuvalov/opt/anaconda3/lib/python3.8/site-packages/papermill/iorw.py:50: FutureWarning: pyarrow.HadoopFileSystem is deprecated as of 2.0.0, please use pyarrow.fs.HadoopFileSystem instead.\n",
      "  from pyarrow import HadoopFileSystem\n"
     ]
    }
   ],
   "source": [
    "import papermill as pm\n",
    "import scrapbook as sb\n",
    "import pandas as pd\n",
    "import os\n",
    "\n",
    "import sqlite3\n",
    "import pandas as pd\n",
    "import numpy as np\n",
    "\n",
    "import matplotlib.pyplot as plt\n",
    "\n",
    "from datetime import datetime, timedelta\n",
    "\n",
    "import matplotlib.dates as mdates"
   ]
  },
  {
   "cell_type": "code",
   "execution_count": 3,
   "id": "72c6c14e",
   "metadata": {
    "execution": {
     "iopub.execute_input": "2022-01-04T18:07:21.288427Z",
     "iopub.status.busy": "2022-01-04T18:07:21.286666Z",
     "iopub.status.idle": "2022-01-04T18:07:21.289721Z",
     "shell.execute_reply": "2022-01-04T18:07:21.290359Z"
    },
    "papermill": {
     "duration": 0.024335,
     "end_time": "2022-01-04T18:07:21.290628",
     "exception": false,
     "start_time": "2022-01-04T18:07:21.266293",
     "status": "completed"
    },
    "tags": []
   },
   "outputs": [],
   "source": [
    "def get_data(token, from_date, to_date):\n",
    "    '''\n",
    "    This function is used for retrieving the data from SQL database\n",
    "    \n",
    "    Inputs:\n",
    "    token (str) - name of token\n",
    "    from_date (str) - start date of date range\n",
    "    to_date (str) - end date of date range\n",
    "    \n",
    "    Outputs:\n",
    "    df (DataFrame) - DataFrame with the data requested\n",
    "    \n",
    "    '''\n",
    "    conn = sqlite3.connect('../../../Lectures/Lecture 4/data/data.db')\n",
    "    cur = conn.cursor()\n",
    "    cur.execute(f'''SELECT * FROM ohlc WHERE \n",
    "    token = '{token}'\n",
    "    AND ts >= '{from_date}'\n",
    "    AND ts < '{to_date}'\n",
    "    ''')\n",
    "    \n",
    "    data = cur.fetchall()\n",
    "    \n",
    "    df = pd.DataFrame(data,\n",
    "                columns=['ts', 'open', 'high', 'low', \n",
    "                         'close', 'volume', 'volumeUSD', \n",
    "                         'token', 'chain'])\n",
    "    conn.close()\n",
    "    \n",
    "    df['ts'] = pd.to_datetime(df['ts'])\n",
    "    df.set_index('ts', inplace=True)\n",
    "    return df"
   ]
  },
  {
   "cell_type": "code",
   "execution_count": 4,
   "id": "f5a6fbee",
   "metadata": {
    "execution": {
     "iopub.execute_input": "2022-01-04T18:07:21.316188Z",
     "iopub.status.busy": "2022-01-04T18:07:21.315109Z",
     "iopub.status.idle": "2022-01-04T18:07:21.317649Z",
     "shell.execute_reply": "2022-01-04T18:07:21.318207Z"
    },
    "papermill": {
     "duration": 0.019956,
     "end_time": "2022-01-04T18:07:21.318475",
     "exception": false,
     "start_time": "2022-01-04T18:07:21.298519",
     "status": "completed"
    },
    "tags": []
   },
   "outputs": [],
   "source": [
    "def get_stats(df, token, start_date, end_date):\n",
    "    '''\n",
    "    This function is used to calculate the statistical infromation for data\n",
    "    \n",
    "    Inputs:\n",
    "    df (DataFrame) - inital data retrieved from SQL\n",
    "    token (str) - name of token\n",
    "    from_date (str) - start date of date range\n",
    "    to_date (str) - end date of date range\n",
    "    \n",
    "    Outputs:\n",
    "    df_token (DataFrame) - DataFrame with the required statistical information\n",
    "    '''\n",
    "    \n",
    "    df = df[(df.index >= start_date)&(df.index <= end_date)]\n",
    "    \n",
    "    df_token = df[df['token'] == token]\n",
    "    \n",
    "    df_token['return'] = (np.log(df_token['close'] / df_token['close'].shift(1))).fillna(0)\n",
    "    \n",
    "    n_periods = (datetime.strptime(to_date, '%Y-%m-%d %H:%M:%S') - \\\n",
    "                 datetime.strptime(from_date, '%Y-%m-%d %H:%M:%S')).days\n",
    "    \n",
    "    df_token['volatility'] = (df_token['return'].rolling(n_periods).std() * np.sqrt(252)).fillna(0)\n",
    "    \n",
    "    df_token['roll_max'] = 0\n",
    "    df_token['daily_dd'] = 0\n",
    "    df_token['max_dd'] = 0\n",
    "    \n",
    "    for i in range(1, len(df_token)):\n",
    "        window = i\n",
    "\n",
    "        df_token.loc[df.index[i], 'roll_max'] = df_token['close'][:window].rolling(window, \\\n",
    "                                                                    min_periods=1).max().values[-1]\n",
    "        df_token.loc[df.index[i], 'daily_dd'] = df_token['close'][i] / df_token['roll_max'][i] - 1\n",
    "\n",
    "        df_token.loc[df.index[i], 'max_dd'] = df_token['daily_dd'][:window].rolling(window, \\\n",
    "                                                                    min_periods=1).min().values[-1]\n",
    "    return df_token"
   ]
  },
  {
   "cell_type": "code",
   "execution_count": 5,
   "id": "8d42ff28",
   "metadata": {
    "execution": {
     "iopub.execute_input": "2022-01-04T18:07:21.343467Z",
     "iopub.status.busy": "2022-01-04T18:07:21.342430Z",
     "iopub.status.idle": "2022-01-04T18:07:21.344874Z",
     "shell.execute_reply": "2022-01-04T18:07:21.345427Z"
    },
    "papermill": {
     "duration": 0.01991,
     "end_time": "2022-01-04T18:07:21.345692",
     "exception": false,
     "start_time": "2022-01-04T18:07:21.325782",
     "status": "completed"
    },
    "tags": []
   },
   "outputs": [],
   "source": [
    "def plot_charts(df, token, start_date, end_date):\n",
    "    '''\n",
    "    This function is used to create plot with statistical information\n",
    "    \n",
    "    Inputs:\n",
    "    df (DataFrame) - inital data retrieved from SQL\n",
    "    token (str) - name of token\n",
    "    from_date (str) - start date of date range\n",
    "    to_date (str) - end date of date range\n",
    "    \n",
    "    Outputs:\n",
    "    fig (figure) - figure with required statistical information plotted\n",
    "    '''\n",
    "    \n",
    "    df_tmp = get_stats(df, token, start_date, end_date)\n",
    "    \n",
    "    fig, axs = plt.subplots(2, 2, figsize=(10, 7.5))\n",
    "    \n",
    "    axs[0, 0].plot(df_tmp.index, df_tmp['return'])\n",
    "    axs[0, 0].set_title(token + ': Return')\n",
    "    axs[0, 0].xaxis.set_major_locator(mdates.MonthLocator())\n",
    "\n",
    "    axs[0, 1].plot(df_tmp.index, df_tmp['volatility'])\n",
    "    axs[0, 1].set_title(token + ': Volatility')\n",
    "    axs[0, 1].xaxis.set_major_locator(mdates.MonthLocator())\n",
    "    \n",
    "    axs[1, 0].plot(df_tmp.index, df_tmp['max_dd'])\n",
    "    axs[1, 0].set_title(token + ': Maximum Drawdown')\n",
    "    axs[1, 0].xaxis.set_major_locator(mdates.MonthLocator())\n",
    "\n",
    "    axs[1, 1].plot(df_tmp.index, df_tmp['close'])\n",
    "    axs[1, 1].set_title(token + ': Close Prices')\n",
    "    axs[1, 1].xaxis.set_major_locator(mdates.MonthLocator())\n",
    "    \n",
    "    return fig"
   ]
  },
  {
   "cell_type": "code",
   "execution_count": 6,
   "id": "c27821ff",
   "metadata": {
    "execution": {
     "iopub.execute_input": "2022-01-04T18:07:21.367526Z",
     "iopub.status.busy": "2022-01-04T18:07:21.366681Z",
     "iopub.status.idle": "2022-01-04T18:07:21.379652Z",
     "shell.execute_reply": "2022-01-04T18:07:21.380653Z"
    },
    "papermill": {
     "duration": 0.026705,
     "end_time": "2022-01-04T18:07:21.381014",
     "exception": false,
     "start_time": "2022-01-04T18:07:21.354309",
     "status": "completed"
    },
    "tags": []
   },
   "outputs": [],
   "source": [
    "df = get_data(token, from_date, to_date)"
   ]
  },
  {
   "cell_type": "code",
   "execution_count": 7,
   "id": "16a905bb",
   "metadata": {
    "execution": {
     "iopub.execute_input": "2022-01-04T18:07:21.412718Z",
     "iopub.status.busy": "2022-01-04T18:07:21.411631Z",
     "iopub.status.idle": "2022-01-04T18:07:22.118114Z",
     "shell.execute_reply": "2022-01-04T18:07:22.118674Z"
    },
    "papermill": {
     "duration": 0.728332,
     "end_time": "2022-01-04T18:07:22.118940",
     "exception": false,
     "start_time": "2022-01-04T18:07:21.390608",
     "status": "completed"
    },
    "tags": []
   },
   "outputs": [
    {
     "data": {
      "text/html": [
       "<div>\n",
       "<style scoped>\n",
       "    .dataframe tbody tr th:only-of-type {\n",
       "        vertical-align: middle;\n",
       "    }\n",
       "\n",
       "    .dataframe tbody tr th {\n",
       "        vertical-align: top;\n",
       "    }\n",
       "\n",
       "    .dataframe thead th {\n",
       "        text-align: right;\n",
       "    }\n",
       "</style>\n",
       "<table border=\"1\" class=\"dataframe\">\n",
       "  <thead>\n",
       "    <tr style=\"text-align: right;\">\n",
       "      <th></th>\n",
       "      <th>open</th>\n",
       "      <th>high</th>\n",
       "      <th>low</th>\n",
       "      <th>close</th>\n",
       "      <th>volume</th>\n",
       "      <th>volumeUSD</th>\n",
       "      <th>token</th>\n",
       "      <th>chain</th>\n",
       "      <th>return</th>\n",
       "      <th>volatility</th>\n",
       "      <th>roll_max</th>\n",
       "      <th>daily_dd</th>\n",
       "      <th>max_dd</th>\n",
       "    </tr>\n",
       "    <tr>\n",
       "      <th>ts</th>\n",
       "      <th></th>\n",
       "      <th></th>\n",
       "      <th></th>\n",
       "      <th></th>\n",
       "      <th></th>\n",
       "      <th></th>\n",
       "      <th></th>\n",
       "      <th></th>\n",
       "      <th></th>\n",
       "      <th></th>\n",
       "      <th></th>\n",
       "      <th></th>\n",
       "      <th></th>\n",
       "    </tr>\n",
       "  </thead>\n",
       "  <tbody>\n",
       "    <tr>\n",
       "      <th>2021-12-02 00:00:00</th>\n",
       "      <td>1.0005</td>\n",
       "      <td>1.0007</td>\n",
       "      <td>1.0005</td>\n",
       "      <td>1.0005</td>\n",
       "      <td>3451298.89</td>\n",
       "      <td>3.453448e+06</td>\n",
       "      <td>USDT</td>\n",
       "      <td>USDT</td>\n",
       "      <td>0.0000</td>\n",
       "      <td>0.000000</td>\n",
       "      <td>0.0000</td>\n",
       "      <td>0.000000</td>\n",
       "      <td>0.000000</td>\n",
       "    </tr>\n",
       "    <tr>\n",
       "      <th>2021-12-02 01:00:00</th>\n",
       "      <td>1.0006</td>\n",
       "      <td>1.0007</td>\n",
       "      <td>1.0005</td>\n",
       "      <td>1.0007</td>\n",
       "      <td>2620479.80</td>\n",
       "      <td>2.622085e+06</td>\n",
       "      <td>USDT</td>\n",
       "      <td>USDT</td>\n",
       "      <td>0.0002</td>\n",
       "      <td>0.000000</td>\n",
       "      <td>1.0005</td>\n",
       "      <td>0.000200</td>\n",
       "      <td>0.000000</td>\n",
       "    </tr>\n",
       "    <tr>\n",
       "      <th>2021-12-02 02:00:00</th>\n",
       "      <td>1.0007</td>\n",
       "      <td>1.0009</td>\n",
       "      <td>1.0006</td>\n",
       "      <td>1.0008</td>\n",
       "      <td>3119542.84</td>\n",
       "      <td>3.122014e+06</td>\n",
       "      <td>USDT</td>\n",
       "      <td>USDT</td>\n",
       "      <td>0.0001</td>\n",
       "      <td>0.000000</td>\n",
       "      <td>1.0007</td>\n",
       "      <td>0.000100</td>\n",
       "      <td>0.000000</td>\n",
       "    </tr>\n",
       "    <tr>\n",
       "      <th>2021-12-02 03:00:00</th>\n",
       "      <td>1.0008</td>\n",
       "      <td>1.0009</td>\n",
       "      <td>1.0004</td>\n",
       "      <td>1.0008</td>\n",
       "      <td>3740339.77</td>\n",
       "      <td>3.743290e+06</td>\n",
       "      <td>USDT</td>\n",
       "      <td>USDT</td>\n",
       "      <td>0.0000</td>\n",
       "      <td>0.000000</td>\n",
       "      <td>1.0008</td>\n",
       "      <td>0.000000</td>\n",
       "      <td>0.000000</td>\n",
       "    </tr>\n",
       "    <tr>\n",
       "      <th>2021-12-02 04:00:00</th>\n",
       "      <td>1.0008</td>\n",
       "      <td>1.0010</td>\n",
       "      <td>1.0007</td>\n",
       "      <td>1.0010</td>\n",
       "      <td>4239482.23</td>\n",
       "      <td>4.243331e+06</td>\n",
       "      <td>USDT</td>\n",
       "      <td>USDT</td>\n",
       "      <td>0.0002</td>\n",
       "      <td>0.000000</td>\n",
       "      <td>1.0008</td>\n",
       "      <td>0.000200</td>\n",
       "      <td>0.000000</td>\n",
       "    </tr>\n",
       "    <tr>\n",
       "      <th>...</th>\n",
       "      <td>...</td>\n",
       "      <td>...</td>\n",
       "      <td>...</td>\n",
       "      <td>...</td>\n",
       "      <td>...</td>\n",
       "      <td>...</td>\n",
       "      <td>...</td>\n",
       "      <td>...</td>\n",
       "      <td>...</td>\n",
       "      <td>...</td>\n",
       "      <td>...</td>\n",
       "      <td>...</td>\n",
       "      <td>...</td>\n",
       "    </tr>\n",
       "    <tr>\n",
       "      <th>2021-12-14 19:00:00</th>\n",
       "      <td>1.0002</td>\n",
       "      <td>1.0004</td>\n",
       "      <td>1.0001</td>\n",
       "      <td>1.0003</td>\n",
       "      <td>2804362.67</td>\n",
       "      <td>2.805187e+06</td>\n",
       "      <td>USDT</td>\n",
       "      <td>USDT</td>\n",
       "      <td>0.0000</td>\n",
       "      <td>0.001695</td>\n",
       "      <td>1.0054</td>\n",
       "      <td>-0.005073</td>\n",
       "      <td>-0.005272</td>\n",
       "    </tr>\n",
       "    <tr>\n",
       "      <th>2021-12-14 20:00:00</th>\n",
       "      <td>1.0004</td>\n",
       "      <td>1.0005</td>\n",
       "      <td>1.0003</td>\n",
       "      <td>1.0004</td>\n",
       "      <td>1826007.47</td>\n",
       "      <td>1.826749e+06</td>\n",
       "      <td>USDT</td>\n",
       "      <td>USDT</td>\n",
       "      <td>0.0001</td>\n",
       "      <td>0.001770</td>\n",
       "      <td>1.0054</td>\n",
       "      <td>-0.004973</td>\n",
       "      <td>-0.005272</td>\n",
       "    </tr>\n",
       "    <tr>\n",
       "      <th>2021-12-14 21:00:00</th>\n",
       "      <td>1.0004</td>\n",
       "      <td>1.0005</td>\n",
       "      <td>1.0002</td>\n",
       "      <td>1.0004</td>\n",
       "      <td>2628265.46</td>\n",
       "      <td>2.629377e+06</td>\n",
       "      <td>USDT</td>\n",
       "      <td>USDT</td>\n",
       "      <td>0.0000</td>\n",
       "      <td>0.001093</td>\n",
       "      <td>1.0054</td>\n",
       "      <td>-0.004973</td>\n",
       "      <td>-0.005272</td>\n",
       "    </tr>\n",
       "    <tr>\n",
       "      <th>2021-12-14 22:00:00</th>\n",
       "      <td>1.0004</td>\n",
       "      <td>1.0005</td>\n",
       "      <td>1.0003</td>\n",
       "      <td>1.0004</td>\n",
       "      <td>3681619.88</td>\n",
       "      <td>3.683104e+06</td>\n",
       "      <td>USDT</td>\n",
       "      <td>USDT</td>\n",
       "      <td>0.0000</td>\n",
       "      <td>0.001016</td>\n",
       "      <td>1.0054</td>\n",
       "      <td>-0.004973</td>\n",
       "      <td>-0.005272</td>\n",
       "    </tr>\n",
       "    <tr>\n",
       "      <th>2021-12-14 23:00:00</th>\n",
       "      <td>1.0005</td>\n",
       "      <td>1.0005</td>\n",
       "      <td>1.0003</td>\n",
       "      <td>1.0005</td>\n",
       "      <td>4247904.90</td>\n",
       "      <td>4.249822e+06</td>\n",
       "      <td>USDT</td>\n",
       "      <td>USDT</td>\n",
       "      <td>0.0001</td>\n",
       "      <td>0.001093</td>\n",
       "      <td>1.0054</td>\n",
       "      <td>-0.004874</td>\n",
       "      <td>-0.005272</td>\n",
       "    </tr>\n",
       "  </tbody>\n",
       "</table>\n",
       "<p>312 rows × 13 columns</p>\n",
       "</div>"
      ],
      "text/plain": [
       "                       open    high     low   close      volume     volumeUSD  \\\n",
       "ts                                                                              \n",
       "2021-12-02 00:00:00  1.0005  1.0007  1.0005  1.0005  3451298.89  3.453448e+06   \n",
       "2021-12-02 01:00:00  1.0006  1.0007  1.0005  1.0007  2620479.80  2.622085e+06   \n",
       "2021-12-02 02:00:00  1.0007  1.0009  1.0006  1.0008  3119542.84  3.122014e+06   \n",
       "2021-12-02 03:00:00  1.0008  1.0009  1.0004  1.0008  3740339.77  3.743290e+06   \n",
       "2021-12-02 04:00:00  1.0008  1.0010  1.0007  1.0010  4239482.23  4.243331e+06   \n",
       "...                     ...     ...     ...     ...         ...           ...   \n",
       "2021-12-14 19:00:00  1.0002  1.0004  1.0001  1.0003  2804362.67  2.805187e+06   \n",
       "2021-12-14 20:00:00  1.0004  1.0005  1.0003  1.0004  1826007.47  1.826749e+06   \n",
       "2021-12-14 21:00:00  1.0004  1.0005  1.0002  1.0004  2628265.46  2.629377e+06   \n",
       "2021-12-14 22:00:00  1.0004  1.0005  1.0003  1.0004  3681619.88  3.683104e+06   \n",
       "2021-12-14 23:00:00  1.0005  1.0005  1.0003  1.0005  4247904.90  4.249822e+06   \n",
       "\n",
       "                    token chain  return  volatility  roll_max  daily_dd  \\\n",
       "ts                                                                        \n",
       "2021-12-02 00:00:00  USDT  USDT  0.0000    0.000000    0.0000  0.000000   \n",
       "2021-12-02 01:00:00  USDT  USDT  0.0002    0.000000    1.0005  0.000200   \n",
       "2021-12-02 02:00:00  USDT  USDT  0.0001    0.000000    1.0007  0.000100   \n",
       "2021-12-02 03:00:00  USDT  USDT  0.0000    0.000000    1.0008  0.000000   \n",
       "2021-12-02 04:00:00  USDT  USDT  0.0002    0.000000    1.0008  0.000200   \n",
       "...                   ...   ...     ...         ...       ...       ...   \n",
       "2021-12-14 19:00:00  USDT  USDT  0.0000    0.001695    1.0054 -0.005073   \n",
       "2021-12-14 20:00:00  USDT  USDT  0.0001    0.001770    1.0054 -0.004973   \n",
       "2021-12-14 21:00:00  USDT  USDT  0.0000    0.001093    1.0054 -0.004973   \n",
       "2021-12-14 22:00:00  USDT  USDT  0.0000    0.001016    1.0054 -0.004973   \n",
       "2021-12-14 23:00:00  USDT  USDT  0.0001    0.001093    1.0054 -0.004874   \n",
       "\n",
       "                       max_dd  \n",
       "ts                             \n",
       "2021-12-02 00:00:00  0.000000  \n",
       "2021-12-02 01:00:00  0.000000  \n",
       "2021-12-02 02:00:00  0.000000  \n",
       "2021-12-02 03:00:00  0.000000  \n",
       "2021-12-02 04:00:00  0.000000  \n",
       "...                       ...  \n",
       "2021-12-14 19:00:00 -0.005272  \n",
       "2021-12-14 20:00:00 -0.005272  \n",
       "2021-12-14 21:00:00 -0.005272  \n",
       "2021-12-14 22:00:00 -0.005272  \n",
       "2021-12-14 23:00:00 -0.005272  \n",
       "\n",
       "[312 rows x 13 columns]"
      ]
     },
     "execution_count": 7,
     "metadata": {},
     "output_type": "execute_result"
    }
   ],
   "source": [
    "get_stats(df, token, from_date, to_date)"
   ]
  },
  {
   "cell_type": "code",
   "execution_count": 8,
   "id": "94e307b6",
   "metadata": {
    "execution": {
     "iopub.execute_input": "2022-01-04T18:07:22.198744Z",
     "iopub.status.busy": "2022-01-04T18:07:22.168217Z",
     "iopub.status.idle": "2022-01-04T18:07:23.291379Z",
     "shell.execute_reply": "2022-01-04T18:07:23.292042Z"
    },
    "papermill": {
     "duration": 1.162458,
     "end_time": "2022-01-04T18:07:23.292306",
     "exception": false,
     "start_time": "2022-01-04T18:07:22.129848",
     "status": "completed"
    },
    "tags": []
   },
   "outputs": [
    {
     "data": {
      "image/png": "[encoded data removed]",
      "text/plain": [
       "<Figure size 720x540 with 4 Axes>"
      ]
     },
     "metadata": {
      "needs_background": "light"
     },
     "output_type": "display_data"
    }
   ],
   "source": [
    "fig = plot_charts(df, token, from_date, to_date)"
   ]
  },
  {
   "cell_type": "code",
   "execution_count": 9,
   "id": "d28664ec",
   "metadata": {
    "execution": {
     "iopub.execute_input": "2022-01-04T18:07:23.327426Z",
     "iopub.status.busy": "2022-01-04T18:07:23.326535Z",
     "iopub.status.idle": "2022-01-04T18:07:24.324931Z",
     "shell.execute_reply": "2022-01-04T18:07:24.325486Z"
    },
    "papermill": {
     "duration": 1.022092,
     "end_time": "2022-01-04T18:07:24.325751",
     "exception": false,
     "start_time": "2022-01-04T18:07:23.303659",
     "status": "completed"
    },
    "tags": []
   },
   "outputs": [
    {
     "data": {
      "application/scrapbook.scrap.text+json": {
       "data": "USDT",
       "encoder": "text",
       "name": "token",
       "version": 1
      }
     },
     "metadata": {
      "scrapbook": {
       "data": true,
       "display": false,
       "name": "token"
      }
     },
     "output_type": "display_data"
    },
    {
     "data": {
      "application/scrapbook.scrap.text+json": {
       "data": "2021-12-02 00:00:00",
       "encoder": "text",
       "name": "from_date",
       "version": 1
      }
     },
     "metadata": {
      "scrapbook": {
       "data": true,
       "display": false,
       "name": "from_date"
      }
     },
     "output_type": "display_data"
    },
    {
     "data": {
      "application/scrapbook.scrap.text+json": {
       "data": "2021-12-15 00:00:00",
       "encoder": "text",
       "name": "to_date",
       "version": 1
      }
     },
     "metadata": {
      "scrapbook": {
       "data": true,
       "display": false,
       "name": "to_date"
      }
     },
     "output_type": "display_data"
    },
    {
     "data": {
      "application/scrapbook.scrap.pandas+json": {
       "data": "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",
       "encoder": "pandas",
       "name": "df",
       "version": 1
      }
     },
     "metadata": {
      "scrapbook": {
       "data": true,
       "display": false,
       "name": "df"
      }
     },
     "output_type": "display_data"
    },
    {
     "data": {
      "image/png": "[encoded data removed]",
      "text/plain": [
       "<Figure size 720x540 with 4 Axes>"
      ]
     },
     "metadata": {
      "scrapbook": {
       "data": false,
       "display": true,
       "name": "summary_plot"
      }
     },
     "output_type": "display_data"
    }
   ],
   "source": [
    "sb.glue('token', token)\n",
    "sb.glue('from_date', from_date)\n",
    "sb.glue('to_date', to_date)\n",
    "sb.glue('df', get_stats(df, token, from_date, to_date), encoder='pandas')\n",
    "sb.glue('summary_plot', fig, encoder='display', display=True)"
   ]
  },
  {
   "cell_type": "code",
   "execution_count": null,
   "id": "0c39643a",
   "metadata": {
    "papermill": {
     "duration": 0.018717,
     "end_time": "2022-01-04T18:07:24.367789",
     "exception": false,
     "start_time": "2022-01-04T18:07:24.349072",
     "status": "completed"
    },
    "tags": []
   },
   "outputs": [],
   "source": []
  }
 ],
 "metadata": {
  "kernelspec": {
   "display_name": "Python 3",
   "language": "python",
   "name": "python3"
  },
  "language_info": {
   "codemirror_mode": {
    "name": "ipython",
    "version": 3
   },
   "file_extension": ".py",
   "mimetype": "text/x-python",
   "name": "python",
   "nbconvert_exporter": "python",
   "pygments_lexer": "ipython3",
   "version": "3.8.8"
  },
  "papermill": {
   "default_parameters": {},
   "duration": 9.088678,
   "end_time": "2022-01-04T18:07:25.690345",
   "environment_variables": {},
   "exception": null,
   "input_path": "hw_4_artem_shuvalov.ipynb",
   "output_path": "outputs/market_analysis_USDT_2021-12-13 00:00:00.ipynb",
   "parameters": {
    "connection_string": "sqlite:///data/data.db",
    "events_db": "crypto_events_database",
    "from_date": "2021-12-02 00:00:00",
    "to_date": "2021-12-15 00:00:00",
    "token": "USDT"
   },
   "start_time": "2022-01-04T18:07:16.601667",
   "version": "2.3.3"
  }
 },
 "nbformat": 4,
 "nbformat_minor": 5
}