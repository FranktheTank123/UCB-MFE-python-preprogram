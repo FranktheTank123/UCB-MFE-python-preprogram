{
 "cells": [
  {
   "cell_type": "code",
   "execution_count": 147,
   "id": "1a2fd63d",
   "metadata": {},
   "outputs": [],
   "source": [
    "import papermill as pm\n",
    "import scrapbook as sb\n",
    "import pandas as pd\n",
    "import os\n",
    "\n",
    "import sqlite3\n",
    "import pandas as pd\n",
    "import numpy as np\n",
    "\n",
    "import matplotlib.pyplot as plt\n",
    "\n",
    "from datetime import datetime, timedelta\n",
    "\n",
    "import matplotlib.dates as mdates"
   ]
  },
  {
   "cell_type": "code",
   "execution_count": 157,
   "id": "64172d96",
   "metadata": {},
   "outputs": [],
   "source": [
    "def get_data(token, from_date, to_date):\n",
    "    '''\n",
    "    This function is used for retrieving the data from SQL database\n",
    "    \n",
    "    Inputs:\n",
    "    token (str) - name of token\n",
    "    from_date (str) - start date of date range\n",
    "    to_date (str) - end date of date range\n",
    "    \n",
    "    Outputs:\n",
    "    df (DataFrame) - DataFrame with the data requested\n",
    "    \n",
    "    '''\n",
    "    conn = sqlite3.connect('../../../Lectures/Lecture 4/data/data.db')\n",
    "    cur = conn.cursor()\n",
    "    cur.execute(f'''SELECT * FROM ohlc WHERE \n",
    "    token = '{token}'\n",
    "    AND ts >= '{from_date}'\n",
    "    AND ts < '{to_date}'\n",
    "    ''')\n",
    "    \n",
    "    data = cur.fetchall()\n",
    "    \n",
    "    df = pd.DataFrame(data,\n",
    "                columns=['ts', 'open', 'high', 'low', \n",
    "                         'close', 'volume', 'volumeUSD', \n",
    "                         'token', 'chain'])\n",
    "    conn.close()\n",
    "    \n",
    "    df['ts'] = pd.to_datetime(df['ts'])\n",
    "    df.set_index('ts', inplace=True)\n",
    "    return df"
   ]
  },
  {
   "cell_type": "code",
   "execution_count": 150,
   "id": "90bda3ed",
   "metadata": {},
   "outputs": [],
   "source": [
    "df = get_data()"
   ]
  },
  {
   "cell_type": "code",
   "execution_count": 151,
   "id": "78f9eca1",
   "metadata": {},
   "outputs": [],
   "source": [
    "tokens = list(set(df['token']))\n",
    "run_dates = [(df.index[-1] - timedelta(days = x)) for x in range(14)]\n",
    "connection_string = 'sqlite:///data/data.db'\n",
    "events_db = 'crypto_events_database'"
   ]
  },
  {
   "cell_type": "code",
   "execution_count": 152,
   "id": "54e5190b",
   "metadata": {},
   "outputs": [],
   "source": [
    "base_output_folder = os.path.expanduser('outputs')\n",
    "\n",
    "if not os.path.exists(base_output_folder):\n",
    "        os.makedirs(base_output_folder)"
   ]
  },
  {
   "cell_type": "code",
   "execution_count": 153,
   "id": "805160d1",
   "metadata": {},
   "outputs": [
    {
     "name": "stderr",
     "output_type": "stream",
     "text": [
      "Input notebook does not contain a cell with tag 'parameters'\n"
     ]
    },
    {
     "name": "stdout",
     "output_type": "stream",
     "text": [
      "running for AVAX for date 2021-12-02 00:00:00 to 2021-12-15 00:00:00\r"
     ]
    },
    {
     "data": {
      "application/vnd.jupyter.widget-view+json": {
       "model_id": "1382e6c4684b4d17a9f8524cf4cb37ee",
       "version_major": 2,
       "version_minor": 0
      },
      "text/plain": [
       "Executing:   0%|          | 0/10 [00:00<?, ?cell/s]"
      ]
     },
     "metadata": {},
     "output_type": "display_data"
    },
    {
     "name": "stderr",
     "output_type": "stream",
     "text": [
      "Input notebook does not contain a cell with tag 'parameters'\n"
     ]
    },
    {
     "name": "stdout",
     "output_type": "stream",
     "text": [
      "running for ATOM for date 2021-12-02 00:00:00 to 2021-12-15 00:00:00\r"
     ]
    },
    {
     "data": {
      "application/vnd.jupyter.widget-view+json": {
       "model_id": "3c197c512f94408c975d93becfc7f030",
       "version_major": 2,
       "version_minor": 0
      },
      "text/plain": [
       "Executing:   0%|          | 0/10 [00:00<?, ?cell/s]"
      ]
     },
     "metadata": {},
     "output_type": "display_data"
    },
    {
     "name": "stderr",
     "output_type": "stream",
     "text": [
      "Input notebook does not contain a cell with tag 'parameters'\n"
     ]
    },
    {
     "name": "stdout",
     "output_type": "stream",
     "text": [
      "running for SOL for date 2021-12-02 00:00:00 to 2021-12-15 00:00:00\r"
     ]
    },
    {
     "data": {
      "application/vnd.jupyter.widget-view+json": {
       "model_id": "d231bb24a5e04de0b62daf95b6f1d208",
       "version_major": 2,
       "version_minor": 0
      },
      "text/plain": [
       "Executing:   0%|          | 0/10 [00:00<?, ?cell/s]"
      ]
     },
     "metadata": {},
     "output_type": "display_data"
    },
    {
     "name": "stderr",
     "output_type": "stream",
     "text": [
      "Input notebook does not contain a cell with tag 'parameters'\n"
     ]
    },
    {
     "name": "stdout",
     "output_type": "stream",
     "text": [
      "running for AAVE for date 2021-12-02 00:00:00 to 2021-12-15 00:00:00\r"
     ]
    },
    {
     "data": {
      "application/vnd.jupyter.widget-view+json": {
       "model_id": "68b3246cc1634f88838b132e24099e0a",
       "version_major": 2,
       "version_minor": 0
      },
      "text/plain": [
       "Executing:   0%|          | 0/10 [00:00<?, ?cell/s]"
      ]
     },
     "metadata": {},
     "output_type": "display_data"
    },
    {
     "name": "stderr",
     "output_type": "stream",
     "text": [
      "Input notebook does not contain a cell with tag 'parameters'\n"
     ]
    },
    {
     "name": "stdout",
     "output_type": "stream",
     "text": [
      "running for USDT for date 2021-12-02 00:00:00 to 2021-12-15 00:00:00\r"
     ]
    },
    {
     "data": {
      "application/vnd.jupyter.widget-view+json": {
       "model_id": "75034af61ea94137907c1cec35d44fd5",
       "version_major": 2,
       "version_minor": 0
      },
      "text/plain": [
       "Executing:   0%|          | 0/10 [00:00<?, ?cell/s]"
      ]
     },
     "metadata": {},
     "output_type": "display_data"
    },
    {
     "name": "stderr",
     "output_type": "stream",
     "text": [
      "Input notebook does not contain a cell with tag 'parameters'\n"
     ]
    },
    {
     "name": "stdout",
     "output_type": "stream",
     "text": [
      "running for ADA for date 2021-12-02 00:00:00 to 2021-12-15 00:00:00\r"
     ]
    },
    {
     "data": {
      "application/vnd.jupyter.widget-view+json": {
       "model_id": "22d62ac290e6455fa484a7ecb26996ca",
       "version_major": 2,
       "version_minor": 0
      },
      "text/plain": [
       "Executing:   0%|          | 0/10 [00:00<?, ?cell/s]"
      ]
     },
     "metadata": {},
     "output_type": "display_data"
    },
    {
     "name": "stderr",
     "output_type": "stream",
     "text": [
      "Input notebook does not contain a cell with tag 'parameters'\n"
     ]
    },
    {
     "name": "stdout",
     "output_type": "stream",
     "text": [
      "running for CRV for date 2021-12-02 00:00:00 to 2021-12-15 00:00:00\r"
     ]
    },
    {
     "data": {
      "application/vnd.jupyter.widget-view+json": {
       "model_id": "bdd70ce3be3646e09c71e85e1c3d0e77",
       "version_major": 2,
       "version_minor": 0
      },
      "text/plain": [
       "Executing:   0%|          | 0/10 [00:00<?, ?cell/s]"
      ]
     },
     "metadata": {},
     "output_type": "display_data"
    },
    {
     "name": "stderr",
     "output_type": "stream",
     "text": [
      "Input notebook does not contain a cell with tag 'parameters'\n"
     ]
    },
    {
     "name": "stdout",
     "output_type": "stream",
     "text": [
      "running for COMP for date 2021-12-02 00:00:00 to 2021-12-15 00:00:00\r"
     ]
    },
    {
     "data": {
      "application/vnd.jupyter.widget-view+json": {
       "model_id": "33f148e546924921afe3e55cf80512d6",
       "version_major": 2,
       "version_minor": 0
      },
      "text/plain": [
       "Executing:   0%|          | 0/10 [00:00<?, ?cell/s]"
      ]
     },
     "metadata": {},
     "output_type": "display_data"
    },
    {
     "name": "stderr",
     "output_type": "stream",
     "text": [
      "Input notebook does not contain a cell with tag 'parameters'\n"
     ]
    },
    {
     "name": "stdout",
     "output_type": "stream",
     "text": [
      "running for BTC for date 2021-12-02 00:00:00 to 2021-12-15 00:00:00\r"
     ]
    },
    {
     "data": {
      "application/vnd.jupyter.widget-view+json": {
       "model_id": "10dc57fee0124f39b8ba961c7b58544f",
       "version_major": 2,
       "version_minor": 0
      },
      "text/plain": [
       "Executing:   0%|          | 0/10 [00:00<?, ?cell/s]"
      ]
     },
     "metadata": {},
     "output_type": "display_data"
    },
    {
     "name": "stderr",
     "output_type": "stream",
     "text": [
      "Input notebook does not contain a cell with tag 'parameters'\n"
     ]
    },
    {
     "name": "stdout",
     "output_type": "stream",
     "text": [
      "running for DOT for date 2021-12-02 00:00:00 to 2021-12-15 00:00:00\r"
     ]
    },
    {
     "data": {
      "application/vnd.jupyter.widget-view+json": {
       "model_id": "723724aa109243d5841b8d3ccbacb92a",
       "version_major": 2,
       "version_minor": 0
      },
      "text/plain": [
       "Executing:   0%|          | 0/10 [00:00<?, ?cell/s]"
      ]
     },
     "metadata": {},
     "output_type": "display_data"
    },
    {
     "name": "stderr",
     "output_type": "stream",
     "text": [
      "Input notebook does not contain a cell with tag 'parameters'\n"
     ]
    },
    {
     "name": "stdout",
     "output_type": "stream",
     "text": [
      "running for ETH for date 2021-12-02 00:00:00 to 2021-12-15 00:00:00\r"
     ]
    },
    {
     "data": {
      "application/vnd.jupyter.widget-view+json": {
       "model_id": "fa6ca9bf5b0f4d0cb702d2cf2a770d40",
       "version_major": 2,
       "version_minor": 0
      },
      "text/plain": [
       "Executing:   0%|          | 0/10 [00:00<?, ?cell/s]"
      ]
     },
     "metadata": {},
     "output_type": "display_data"
    }
   ],
   "source": [
    "for token in tokens:\n",
    "    print(f'running for {token} for date {run_dates[-1]} to {run_dates[0]}', end='\\r')\n",
    "\n",
    "    res = pm.execute_notebook(\n",
    "        'hw_4_artem_shuvalov.ipynb',\n",
    "        f'{base_output_folder}/market_analysis_{token}_{run_date}.ipynb',\n",
    "        parameters = {\n",
    "            'from_date': f'{run_dates[-1]}',\n",
    "            'to_date': f'{run_dates[0]}',\n",
    "            'token': token,\n",
    "            'connection_string': connection_string,\n",
    "            'events_db': events_db})"
   ]
  },
  {
   "cell_type": "code",
   "execution_count": 158,
   "id": "9a3147b0",
   "metadata": {},
   "outputs": [],
   "source": [
    "# Read the created notebooks\n",
    "nbs = sb.read_notebooks('outputs')"
   ]
  },
  {
   "cell_type": "code",
   "execution_count": 159,
   "id": "d5974154",
   "metadata": {},
   "outputs": [
    {
     "data": {
      "text/html": [
       "<div>\n",
       "<style scoped>\n",
       "    .dataframe tbody tr th:only-of-type {\n",
       "        vertical-align: middle;\n",
       "    }\n",
       "\n",
       "    .dataframe tbody tr th {\n",
       "        vertical-align: top;\n",
       "    }\n",
       "\n",
       "    .dataframe thead th {\n",
       "        text-align: right;\n",
       "    }\n",
       "</style>\n",
       "<table border=\"1\" class=\"dataframe\">\n",
       "  <thead>\n",
       "    <tr style=\"text-align: right;\">\n",
       "      <th></th>\n",
       "      <th>token</th>\n",
       "      <th>from_date</th>\n",
       "      <th>to_date</th>\n",
       "      <th>avg_return_pct</th>\n",
       "      <th>avg_volatility</th>\n",
       "      <th>max_dd</th>\n",
       "      <th>last_minus_first_close_price</th>\n",
       "    </tr>\n",
       "  </thead>\n",
       "  <tbody>\n",
       "    <tr>\n",
       "      <th>0</th>\n",
       "      <td>AAVE</td>\n",
       "      <td>2021-12-02</td>\n",
       "      <td>2021-12-15</td>\n",
       "      <td>-1.270070e-01</td>\n",
       "      <td>0.167643</td>\n",
       "      <td>-0.362095</td>\n",
       "      <td>-82.0610</td>\n",
       "    </tr>\n",
       "    <tr>\n",
       "      <th>1</th>\n",
       "      <td>ADA</td>\n",
       "      <td>2021-12-02</td>\n",
       "      <td>2021-12-15</td>\n",
       "      <td>-6.336881e-02</td>\n",
       "      <td>0.179683</td>\n",
       "      <td>-0.313680</td>\n",
       "      <td>-0.2777</td>\n",
       "    </tr>\n",
       "    <tr>\n",
       "      <th>2</th>\n",
       "      <td>ATOM</td>\n",
       "      <td>2021-12-02</td>\n",
       "      <td>2021-12-15</td>\n",
       "      <td>-6.595935e-02</td>\n",
       "      <td>0.238980</td>\n",
       "      <td>-0.358851</td>\n",
       "      <td>-4.9630</td>\n",
       "    </tr>\n",
       "    <tr>\n",
       "      <th>3</th>\n",
       "      <td>AVAX</td>\n",
       "      <td>2021-12-02</td>\n",
       "      <td>2021-12-15</td>\n",
       "      <td>-1.058374e-01</td>\n",
       "      <td>0.246056</td>\n",
       "      <td>-0.357131</td>\n",
       "      <td>-33.6800</td>\n",
       "    </tr>\n",
       "    <tr>\n",
       "      <th>4</th>\n",
       "      <td>BTC</td>\n",
       "      <td>2021-12-02</td>\n",
       "      <td>2021-12-15</td>\n",
       "      <td>-5.442740e-02</td>\n",
       "      <td>0.113296</td>\n",
       "      <td>-0.186418</td>\n",
       "      <td>-8937.5100</td>\n",
       "    </tr>\n",
       "    <tr>\n",
       "      <th>5</th>\n",
       "      <td>COMP</td>\n",
       "      <td>2021-12-02</td>\n",
       "      <td>2021-12-15</td>\n",
       "      <td>-1.235197e-01</td>\n",
       "      <td>0.191621</td>\n",
       "      <td>-0.352782</td>\n",
       "      <td>-87.0200</td>\n",
       "    </tr>\n",
       "    <tr>\n",
       "      <th>6</th>\n",
       "      <td>CRV</td>\n",
       "      <td>2021-12-02</td>\n",
       "      <td>2021-12-15</td>\n",
       "      <td>-1.231736e-01</td>\n",
       "      <td>0.265236</td>\n",
       "      <td>-0.346191</td>\n",
       "      <td>-1.5932</td>\n",
       "    </tr>\n",
       "    <tr>\n",
       "      <th>7</th>\n",
       "      <td>DOT</td>\n",
       "      <td>2021-12-02</td>\n",
       "      <td>2021-12-15</td>\n",
       "      <td>-1.103513e-01</td>\n",
       "      <td>0.201529</td>\n",
       "      <td>-0.316263</td>\n",
       "      <td>-10.7270</td>\n",
       "    </tr>\n",
       "    <tr>\n",
       "      <th>8</th>\n",
       "      <td>ETH</td>\n",
       "      <td>2021-12-02</td>\n",
       "      <td>2021-12-15</td>\n",
       "      <td>-5.692800e-02</td>\n",
       "      <td>0.130935</td>\n",
       "      <td>-0.192979</td>\n",
       "      <td>-746.4600</td>\n",
       "    </tr>\n",
       "    <tr>\n",
       "      <th>9</th>\n",
       "      <td>SOL</td>\n",
       "      <td>2021-12-02</td>\n",
       "      <td>2021-12-15</td>\n",
       "      <td>-1.183258e-01</td>\n",
       "      <td>0.186069</td>\n",
       "      <td>-0.373707</td>\n",
       "      <td>-70.9780</td>\n",
       "    </tr>\n",
       "    <tr>\n",
       "      <th>10</th>\n",
       "      <td>USDT</td>\n",
       "      <td>2021-12-02</td>\n",
       "      <td>2021-12-15</td>\n",
       "      <td>1.584907e-16</td>\n",
       "      <td>0.002787</td>\n",
       "      <td>-0.005272</td>\n",
       "      <td>0.0000</td>\n",
       "    </tr>\n",
       "  </tbody>\n",
       "</table>\n",
       "</div>"
      ],
      "text/plain": [
       "   token  from_date    to_date  avg_return_pct  avg_volatility    max_dd  \\\n",
       "0   AAVE 2021-12-02 2021-12-15   -1.270070e-01        0.167643 -0.362095   \n",
       "1    ADA 2021-12-02 2021-12-15   -6.336881e-02        0.179683 -0.313680   \n",
       "2   ATOM 2021-12-02 2021-12-15   -6.595935e-02        0.238980 -0.358851   \n",
       "3   AVAX 2021-12-02 2021-12-15   -1.058374e-01        0.246056 -0.357131   \n",
       "4    BTC 2021-12-02 2021-12-15   -5.442740e-02        0.113296 -0.186418   \n",
       "5   COMP 2021-12-02 2021-12-15   -1.235197e-01        0.191621 -0.352782   \n",
       "6    CRV 2021-12-02 2021-12-15   -1.231736e-01        0.265236 -0.346191   \n",
       "7    DOT 2021-12-02 2021-12-15   -1.103513e-01        0.201529 -0.316263   \n",
       "8    ETH 2021-12-02 2021-12-15   -5.692800e-02        0.130935 -0.192979   \n",
       "9    SOL 2021-12-02 2021-12-15   -1.183258e-01        0.186069 -0.373707   \n",
       "10  USDT 2021-12-02 2021-12-15    1.584907e-16        0.002787 -0.005272   \n",
       "\n",
       "    last_minus_first_close_price  \n",
       "0                       -82.0610  \n",
       "1                        -0.2777  \n",
       "2                        -4.9630  \n",
       "3                       -33.6800  \n",
       "4                     -8937.5100  \n",
       "5                       -87.0200  \n",
       "6                        -1.5932  \n",
       "7                       -10.7270  \n",
       "8                      -746.4600  \n",
       "9                       -70.9780  \n",
       "10                        0.0000  "
      ]
     },
     "execution_count": 159,
     "metadata": {},
     "output_type": "execute_result"
    }
   ],
   "source": [
    "# Show the descriptive statistics for the data retrieved\n",
    "\n",
    "pd.DataFrame([\n",
    "    pd.Series({\n",
    "        'token': scrap['token'].data,\n",
    "        'from_date': datetime.strptime(scrap['from_date'].data, '%Y-%m-%d %H:%M:%S'),\n",
    "        'to_date': datetime.strptime(scrap['to_date'].data, '%Y-%m-%d %H:%M:%S'),\n",
    "        'avg_return_pct': scrap['df'].data['return'].mean() * 100,\n",
    "        'avg_volatility': scrap['df'].data.volatility.mean(),\n",
    "        'max_dd': scrap['df'].data.max_dd.min(),\n",
    "        'last_minus_first_close_price': scrap['df'].data.close[-1] - scrap['df'].data.close[0]}) \n",
    "    for book, scrap in nbs.notebook_scraps.items()\n",
    "])"
   ]
  },
  {
   "cell_type": "code",
   "execution_count": null,
   "id": "725d0096",
   "metadata": {},
   "outputs": [],
   "source": []
  }
 ],
 "metadata": {
  "kernelspec": {
   "display_name": "Python 3",
   "language": "python",
   "name": "python3"
  },
  "language_info": {
   "codemirror_mode": {
    "name": "ipython",
    "version": 3
   },
   "file_extension": ".py",
   "mimetype": "text/x-python",
   "name": "python",
   "nbconvert_exporter": "python",
   "pygments_lexer": "ipython3",
   "version": "3.8.8"
  }
 },
 "nbformat": 4,
 "nbformat_minor": 5
}
