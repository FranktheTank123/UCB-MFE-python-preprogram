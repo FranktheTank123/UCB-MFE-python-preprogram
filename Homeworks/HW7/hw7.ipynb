{
 "cells": [
  {
   "cell_type": "markdown",
   "id": "4d5f4c1c-bee6-48f6-bc23-f0d2dbaf36db",
   "metadata": {},
   "source": [
    "# HW7 (Jin Kim)"
   ]
  },
  {
   "cell_type": "markdown",
   "id": "a9bd665d-b862-4c9d-8483-3d784a00d15a",
   "metadata": {},
   "source": [
    "I bring much of the settings from the lecture notes.\n",
    "\n",
    "To state the conclusion upfront, I have accomplished a much smaller RMSE of **(0.008185592)** with the following features and methods:\n",
    "\n",
    "**1. Factors** (for each chain):\n",
    "-  Recent returns (1 hour) \n",
    "-  Rolling sum of returns (3 hours) \n",
    "-  Rolling volatility of returns (3 hours)\n",
    "-  Rolling (pseudo) Sharpe-ratio (3 hours)\n",
    "   (p.s. used PCA on ETH chain coins (AAVE, COMP, CRV, ETH) to reduce them to a single dimension)\n",
    "\n",
    "**2. Methods**:\n",
    "-  Increase the maximum number of coins (chains) allowed as factors from 2 through 6 (fyi, total: 8 chains)\n",
    "-  Hyperparameter Optimization on each of 5 notable models\n",
    "-  Use ensemble decision making algorithm\n",
    "\n",
    "Particularly, I focus on  **chains** rather than **coins** as source of factors. Therefore as noted for 5th listed factor, I reduce the 4 coins on the ETH chain to a single dimension (other coins are one-to-one correspondent to their respective chains). Moreover, since most models will not readily be able to multiply or divide between factors during the modelling process, I also add a pseudo Sharpe-ratio.\n",
    "\n",
    "After testing, the chains chosen were AVAX, ADA, ATOM, BTC, USDT and so their related factors were used. Therefore, the model had a total of 5*4=20 factors. Ridge regression with further PCA was considered as the model and hyperparameter optimization was conducted for the related parameters for Ridge's alpha and PCA's dimension.\n",
    "\n",
    "Though I chose to combine all above without individual analysis, ablation test for each feature or method to see which contributed the most to the improvement would also an interersting task."
   ]
  },
  {
   "cell_type": "code",
   "execution_count": 238,
   "id": "5002dc48-e1b7-4530-af33-d6abf2f192d8",
   "metadata": {},
   "outputs": [],
   "source": [
    "data_location = 'sqlite:///../../data/data.db'"
   ]
  },
  {
   "cell_type": "code",
   "execution_count": 239,
   "id": "b021ed37-e234-4bd9-a3b4-86f204c2356e",
   "metadata": {},
   "outputs": [],
   "source": [
    "import pandas as pd\n",
    "import numpy as np\n",
    "import matplotlib.pyplot as plt\n",
    "import itertools\n",
    "from functools import reduce\n",
    "from sklearn.decomposition import PCA\n",
    "\n",
    "import pickle"
   ]
  },
  {
   "cell_type": "code",
   "execution_count": 240,
   "id": "253037c0-8199-406c-ad9d-2ae51f47e000",
   "metadata": {
    "jupyter": {
     "source_hidden": true
    },
    "tags": []
   },
   "outputs": [],
   "source": [
    "def vol_ohlc(df, lookback=3):\n",
    "    o = df.open\n",
    "    h = df.high\n",
    "    l = df.low\n",
    "    c = df.close\n",
    "    \n",
    "    k = 0.34 / (1.34 + (lookback+1)/(lookback-1))\n",
    "    cc = np.log(c/c.shift(1))\n",
    "    ho = np.log(h/o)\n",
    "    lo = np.log(l/o)\n",
    "    co = np.log(c/o)\n",
    "    oc = np.log(o/c.shift(1))\n",
    "    oc_sq = oc**2\n",
    "    cc_sq = cc**2\n",
    "    rs = ho*(ho-co)+lo*(lo-co)\n",
    "    close_vol = cc_sq.rolling(lookback).sum() * (1.0 / (lookback - 1.0))\n",
    "    open_vol = oc_sq.rolling(lookback).sum() * (1.0 / (lookback - 1.0))\n",
    "    window_rs = rs.rolling(lookback).sum() * (1.0 / (lookback - 1.0))\n",
    "    result = (open_vol + k * close_vol + (1-k) * window_rs).apply(np.sqrt) * np.sqrt(252)\n",
    "    result[:lookback-1] = np.nan\n",
    "    \n",
    "    return result"
   ]
  },
  {
   "cell_type": "code",
   "execution_count": 241,
   "id": "5592bf8c-594f-4972-9fa3-06faf1bf72eb",
   "metadata": {
    "jupyter": {
     "source_hidden": true
    },
    "tags": []
   },
   "outputs": [],
   "source": [
    "def plot_learning_curve(\n",
    "    estimator,\n",
    "    title,\n",
    "    X,\n",
    "    y,\n",
    "    axes=None,\n",
    "    ylim=None,\n",
    "    cv=None,\n",
    "    n_jobs=None,\n",
    "    train_sizes=np.linspace(0.1, 1.0, 5),\n",
    "    scoring=None\n",
    "):\n",
    "    if axes is None:\n",
    "        _, axes = plt.subplots(1, 3, figsize=(20, 5))\n",
    "\n",
    "    axes[0].set_title(title)\n",
    "    if ylim is not None:\n",
    "        axes[0].set_ylim(*ylim)\n",
    "    axes[0].set_xlabel(\"Training examples\")\n",
    "    axes[0].set_ylabel(\"Score\")\n",
    "\n",
    "    train_sizes, train_scores, test_scores, fit_times, _ = learning_curve(\n",
    "        estimator,\n",
    "        X,\n",
    "        y,\n",
    "        cv=cv,\n",
    "        n_jobs=n_jobs,\n",
    "        train_sizes=train_sizes,\n",
    "        return_times=True,\n",
    "        scoring=scoring,\n",
    "    )\n",
    "    train_scores_mean = np.mean(train_scores, axis=1)\n",
    "    train_scores_std = np.std(train_scores, axis=1)\n",
    "    test_scores_mean = np.mean(test_scores, axis=1)\n",
    "    test_scores_std = np.std(test_scores, axis=1)\n",
    "    fit_times_mean = np.mean(fit_times, axis=1)\n",
    "    fit_times_std = np.std(fit_times, axis=1)\n",
    "\n",
    "    # Plot learning curve\n",
    "    axes[0].grid()\n",
    "    axes[0].fill_between(\n",
    "        train_sizes,\n",
    "        train_scores_mean - train_scores_std,\n",
    "        train_scores_mean + train_scores_std,\n",
    "        alpha=0.1,\n",
    "        color=\"r\",\n",
    "    )\n",
    "    axes[0].fill_between(\n",
    "        train_sizes,\n",
    "        test_scores_mean - test_scores_std,\n",
    "        test_scores_mean + test_scores_std,\n",
    "        alpha=0.1,\n",
    "        color=\"g\",\n",
    "    )\n",
    "    axes[0].plot(\n",
    "        train_sizes, train_scores_mean, \"o-\", color=\"r\", label=\"Training score\"\n",
    "    )\n",
    "    axes[0].plot(\n",
    "        train_sizes, test_scores_mean, \"o-\", color=\"g\", label=\"Cross-validation score\"\n",
    "    )\n",
    "    axes[0].legend(loc=\"best\")\n",
    "\n",
    "    # Plot n_samples vs fit_times\n",
    "    axes[1].grid()\n",
    "    axes[1].plot(train_sizes, fit_times_mean, \"o-\")\n",
    "    axes[1].fill_between(\n",
    "        train_sizes,\n",
    "        fit_times_mean - fit_times_std,\n",
    "        fit_times_mean + fit_times_std,\n",
    "        alpha=0.1,\n",
    "    )\n",
    "    axes[1].set_xlabel(\"Training examples\")\n",
    "    axes[1].set_ylabel(\"fit_times\")\n",
    "    axes[1].set_title(\"Scalability of the model\")\n",
    "\n",
    "    # Plot fit_time vs score\n",
    "    fit_time_argsort = fit_times_mean.argsort()\n",
    "    fit_time_sorted = fit_times_mean[fit_time_argsort]\n",
    "    test_scores_mean_sorted = test_scores_mean[fit_time_argsort]\n",
    "    test_scores_std_sorted = test_scores_std[fit_time_argsort]\n",
    "    axes[2].grid()\n",
    "    axes[2].plot(fit_time_sorted, test_scores_mean_sorted, \"o-\")\n",
    "    axes[2].fill_between(\n",
    "        fit_time_sorted,\n",
    "        test_scores_mean_sorted - test_scores_std_sorted,\n",
    "        test_scores_mean_sorted + test_scores_std_sorted,\n",
    "        alpha=0.1,\n",
    "    )\n",
    "    axes[2].set_xlabel(\"fit_times\")\n",
    "    axes[2].set_ylabel(\"Score\")\n",
    "    axes[2].set_title(\"Performance of the model\")\n",
    "\n",
    "    return plt"
   ]
  },
  {
   "cell_type": "code",
   "execution_count": 242,
   "id": "9a199938-bb88-4b87-9fe3-5b1b4c1b814a",
   "metadata": {
    "tags": []
   },
   "outputs": [
    {
     "data": {
      "text/plain": [
       "(11627, 9)"
      ]
     },
     "execution_count": 242,
     "metadata": {},
     "output_type": "execute_result"
    }
   ],
   "source": [
    "ohlc = pd.read_sql('SELECT * FROM ohlc', data_location)\n",
    "ohlc.shape"
   ]
  },
  {
   "cell_type": "markdown",
   "id": "ba38ec22-f579-4ab5-82fb-2afee935bf77",
   "metadata": {},
   "source": [
    "Note that there are multiple coins for ETH. They will later be dimension reduced to represent ETH in single dimension."
   ]
  },
  {
   "cell_type": "code",
   "execution_count": 243,
   "id": "9d2e0ccd-6127-476e-ac6a-4700a168abfd",
   "metadata": {},
   "outputs": [
    {
     "data": {
      "text/plain": [
       "chain  token\n",
       "ADA    ADA      1057\n",
       "ATOM   ATOM     1057\n",
       "AVAX   AVAX     1057\n",
       "BTC    BTC      1057\n",
       "DOT    DOT      1057\n",
       "ETH    AAVE     1057\n",
       "       COMP     1057\n",
       "       CRV      1057\n",
       "       ETH      1057\n",
       "SOL    SOL      1057\n",
       "USDT   USDT     1057\n",
       "dtype: int64"
      ]
     },
     "execution_count": 243,
     "metadata": {},
     "output_type": "execute_result"
    }
   ],
   "source": [
    "ohlc.groupby(['chain','token']).size()"
   ]
  },
  {
   "cell_type": "markdown",
   "id": "708a0640-0719-4092-a180-7b148b3f32a5",
   "metadata": {},
   "source": [
    "## Data formatting"
   ]
  },
  {
   "cell_type": "markdown",
   "id": "096ec305-4dc9-40b1-bb3e-bd7c96dda6b5",
   "metadata": {},
   "source": [
    "From here on, I try the following 2 among the 4 previously mentioned methods\n",
    "-  Engineered the features to consider auto-regressive terms \n",
    "-  Used PCA to reduce the data for coins on the ETH chain to a single dimension. (one for each of ret and vol)"
   ]
  },
  {
   "cell_type": "code",
   "execution_count": 244,
   "id": "f98cd869-8fbe-408b-9089-7e640cdd1625",
   "metadata": {},
   "outputs": [],
   "source": [
    "tokens = ohlc.token.unique()"
   ]
  },
  {
   "cell_type": "code",
   "execution_count": 282,
   "id": "b12d16a4-9d55-4117-9dcb-f50547e73cc8",
   "metadata": {},
   "outputs": [],
   "source": [
    "def df_merge(left, right):\n",
    "    return pd.merge(left, right, on='ts', how='inner')\n",
    "\n",
    "X = reduce(df_merge, [\n",
    "    (lambda df: \n",
    "    (\n",
    "        df\n",
    "        .assign(\n",
    "            vol=vol_ohlc(df).fillna(0),\n",
    "            ret=df.close.pct_change()\n",
    "        )[['ts', 'vol', 'ret']]\n",
    "        .rename(columns={\n",
    "            col: f'{col}_{token}' for col in ['ts', 'vol', 'ret'] if col != 'ts'\n",
    "        })\n",
    "    ))(ohlc[ohlc.token == token])\n",
    "    for token in tokens\n",
    "]).set_index('ts')"
   ]
  },
  {
   "cell_type": "code",
   "execution_count": 283,
   "id": "c7543f97-8793-4c8a-b99a-5078801423af",
   "metadata": {},
   "outputs": [
    {
     "data": {
      "text/plain": [
       "(1057, 22)"
      ]
     },
     "execution_count": 283,
     "metadata": {},
     "output_type": "execute_result"
    }
   ],
   "source": [
    "X.shape"
   ]
  },
  {
   "cell_type": "code",
   "execution_count": 284,
   "id": "3e83e001-9045-4b07-a996-a30890ba769d",
   "metadata": {},
   "outputs": [
    {
     "data": {
      "text/plain": [
       "array(['ETH', 'CRV', 'AAVE', 'COMP'], dtype=object)"
      ]
     },
     "execution_count": 284,
     "metadata": {},
     "output_type": "execute_result"
    }
   ],
   "source": [
    "ETH_tokens = ohlc[ohlc['chain'] == 'ETH'].token.unique()\n",
    "ETH_tokens"
   ]
  },
  {
   "cell_type": "code",
   "execution_count": 285,
   "id": "ba80920d-185e-49f6-88d7-73ce669f9c9f",
   "metadata": {},
   "outputs": [],
   "source": [
    "ret_ETHs = list(map(lambda x: f\"ret_{x}\", ETH_tokens))\n",
    "vol_ETHs = list(map(lambda x: f\"vol_{x}\", ETH_tokens))"
   ]
  },
  {
   "cell_type": "code",
   "execution_count": 286,
   "id": "b84f78f0-5069-4d82-a190-fce1b4face22",
   "metadata": {},
   "outputs": [],
   "source": [
    "X.fillna(0, inplace = True)"
   ]
  },
  {
   "cell_type": "code",
   "execution_count": 287,
   "id": "ab27eda0-c100-439b-94ce-dbcab30a23ed",
   "metadata": {},
   "outputs": [],
   "source": [
    "pca = PCA(n_components=1)"
   ]
  },
  {
   "cell_type": "markdown",
   "id": "f867eff5-2d2f-448f-a0aa-ccdc58233011",
   "metadata": {},
   "source": [
    "I name the new PCA'ed factor as ETHS to represent that it is from the ETH chain."
   ]
  },
  {
   "cell_type": "code",
   "execution_count": 288,
   "id": "f726cb3f-f0e1-4a73-a31d-e9f47f214964",
   "metadata": {},
   "outputs": [],
   "source": [
    "X['vol_ETHS'] = pca.fit_transform(X[vol_ETHs])\n",
    "X['ret_ETHS'] = pca.fit_transform(X[ret_ETHs])"
   ]
  },
  {
   "cell_type": "code",
   "execution_count": 289,
   "id": "b48df21b-f5ce-4474-995d-dcd9bd7773c2",
   "metadata": {},
   "outputs": [],
   "source": [
    "X.drop(ret_ETHs, axis=1, inplace=True)\n",
    "X.drop(vol_ETHs, axis=1, inplace=True)"
   ]
  },
  {
   "cell_type": "code",
   "execution_count": 290,
   "id": "a53f2877-b768-4bb0-9128-4ed8c499f1de",
   "metadata": {},
   "outputs": [
    {
     "data": {
      "text/plain": [
       "Index(['vol_BTC', 'ret_BTC', 'vol_USDT', 'ret_USDT', 'vol_SOL', 'ret_SOL',\n",
       "       'vol_ADA', 'ret_ADA', 'vol_DOT', 'ret_DOT', 'vol_AVAX', 'ret_AVAX',\n",
       "       'vol_ATOM', 'ret_ATOM', 'vol_ETHS', 'ret_ETHS'],\n",
       "      dtype='object')"
      ]
     },
     "execution_count": 290,
     "metadata": {},
     "output_type": "execute_result"
    }
   ],
   "source": [
    "X.columns"
   ]
  },
  {
   "cell_type": "code",
   "execution_count": 291,
   "id": "70dbd957-0f19-400e-a186-7243a45264f3",
   "metadata": {},
   "outputs": [
    {
     "data": {
      "text/plain": [
       "{'ADA', 'ATOM', 'AVAX', 'BTC', 'DOT', 'ETHS', 'SOL', 'USDT'}"
      ]
     },
     "execution_count": 291,
     "metadata": {},
     "output_type": "execute_result"
    }
   ],
   "source": [
    "factors = set(list(map(lambda x: x[4:], X.columns)))\n",
    "factors"
   ]
  },
  {
   "cell_type": "markdown",
   "id": "c747ecfe-a9d0-45df-bdbc-711c78c20359",
   "metadata": {},
   "source": [
    "Creating the required factors. Note that I append the number \"3\" at the back of \"ret\" to show that it is the cumulative return from the last 3 hours. "
   ]
  },
  {
   "cell_type": "code",
   "execution_count": 292,
   "id": "5712f8e6-b612-454c-8d2e-5694a10cba2b",
   "metadata": {},
   "outputs": [],
   "source": [
    "for factor in factors:\n",
    "    X[f'ret3_{factor}']= X[f'ret_{factor}'].rolling(3).sum()\n",
    "    X[f'ret3/vol_{factor}']= X[f'ret3_{factor}']/X[f'vol_{factor}'] # this refers to the pseudo Sharpe-ratio"
   ]
  },
  {
   "cell_type": "code",
   "execution_count": 293,
   "id": "3269cb82-ab9b-4fda-9176-23ae8ff520a7",
   "metadata": {},
   "outputs": [
    {
     "data": {
      "text/plain": [
       "Index(['vol_BTC', 'ret_BTC', 'vol_USDT', 'ret_USDT', 'vol_SOL', 'ret_SOL',\n",
       "       'vol_ADA', 'ret_ADA', 'vol_DOT', 'ret_DOT', 'vol_AVAX', 'ret_AVAX',\n",
       "       'vol_ATOM', 'ret_ATOM', 'vol_ETHS', 'ret_ETHS', 'ret3_ATOM',\n",
       "       'ret3/vol_ATOM', 'ret3_USDT', 'ret3/vol_USDT', 'ret3_BTC',\n",
       "       'ret3/vol_BTC', 'ret3_SOL', 'ret3/vol_SOL', 'ret3_AVAX',\n",
       "       'ret3/vol_AVAX', 'ret3_ADA', 'ret3/vol_ADA', 'ret3_DOT', 'ret3/vol_DOT',\n",
       "       'ret3_ETHS', 'ret3/vol_ETHS'],\n",
       "      dtype='object')"
      ]
     },
     "execution_count": 293,
     "metadata": {},
     "output_type": "execute_result"
    }
   ],
   "source": [
    "X.columns"
   ]
  },
  {
   "cell_type": "markdown",
   "id": "d9280b0f-3c34-4ee9-9f86-88394d75271e",
   "metadata": {},
   "source": [
    "This is ad-hoc but I noticed that using data from too early did not help much in robustness, so cut some data where necessary."
   ]
  },
  {
   "cell_type": "code",
   "execution_count": 294,
   "id": "e04ac4e6-2419-4aaf-b2ba-16df8ad626a6",
   "metadata": {},
   "outputs": [],
   "source": [
    "y = X.ret_SOL.shift(-1)[10:-1]\n",
    "X = X[10:-1]"
   ]
  },
  {
   "cell_type": "code",
   "execution_count": 295,
   "id": "a9e44203-b431-4059-ba4f-0b512529256a",
   "metadata": {},
   "outputs": [
    {
     "data": {
      "text/html": [
       "<div>\n",
       "<style scoped>\n",
       "    .dataframe tbody tr th:only-of-type {\n",
       "        vertical-align: middle;\n",
       "    }\n",
       "\n",
       "    .dataframe tbody tr th {\n",
       "        vertical-align: top;\n",
       "    }\n",
       "\n",
       "    .dataframe thead th {\n",
       "        text-align: right;\n",
       "    }\n",
       "</style>\n",
       "<table border=\"1\" class=\"dataframe\">\n",
       "  <thead>\n",
       "    <tr style=\"text-align: right;\">\n",
       "      <th></th>\n",
       "      <th>vol_BTC</th>\n",
       "      <th>ret_BTC</th>\n",
       "      <th>vol_USDT</th>\n",
       "      <th>ret_USDT</th>\n",
       "      <th>vol_SOL</th>\n",
       "      <th>ret_SOL</th>\n",
       "      <th>vol_ADA</th>\n",
       "      <th>ret_ADA</th>\n",
       "      <th>vol_DOT</th>\n",
       "      <th>ret_DOT</th>\n",
       "      <th>...</th>\n",
       "      <th>ret3_SOL</th>\n",
       "      <th>ret3/vol_SOL</th>\n",
       "      <th>ret3_AVAX</th>\n",
       "      <th>ret3/vol_AVAX</th>\n",
       "      <th>ret3_ADA</th>\n",
       "      <th>ret3/vol_ADA</th>\n",
       "      <th>ret3_DOT</th>\n",
       "      <th>ret3/vol_DOT</th>\n",
       "      <th>ret3_ETHS</th>\n",
       "      <th>ret3/vol_ETHS</th>\n",
       "    </tr>\n",
       "    <tr>\n",
       "      <th>ts</th>\n",
       "      <th></th>\n",
       "      <th></th>\n",
       "      <th></th>\n",
       "      <th></th>\n",
       "      <th></th>\n",
       "      <th></th>\n",
       "      <th></th>\n",
       "      <th></th>\n",
       "      <th></th>\n",
       "      <th></th>\n",
       "      <th></th>\n",
       "      <th></th>\n",
       "      <th></th>\n",
       "      <th></th>\n",
       "      <th></th>\n",
       "      <th></th>\n",
       "      <th></th>\n",
       "      <th></th>\n",
       "      <th></th>\n",
       "      <th></th>\n",
       "      <th></th>\n",
       "    </tr>\n",
       "  </thead>\n",
       "  <tbody>\n",
       "    <tr>\n",
       "      <th>2021-11-01 10:00:00</th>\n",
       "      <td>0.155573</td>\n",
       "      <td>0.000486</td>\n",
       "      <td>0.002483</td>\n",
       "      <td>0.0001</td>\n",
       "      <td>0.226839</td>\n",
       "      <td>0.003062</td>\n",
       "      <td>0.213095</td>\n",
       "      <td>0.006828</td>\n",
       "      <td>0.210319</td>\n",
       "      <td>0.017386</td>\n",
       "      <td>...</td>\n",
       "      <td>0.002033</td>\n",
       "      <td>0.008963</td>\n",
       "      <td>0.013486</td>\n",
       "      <td>0.094943</td>\n",
       "      <td>0.024173</td>\n",
       "      <td>0.113439</td>\n",
       "      <td>0.029665</td>\n",
       "      <td>0.141047</td>\n",
       "      <td>-0.029823</td>\n",
       "      <td>0.442093</td>\n",
       "    </tr>\n",
       "    <tr>\n",
       "      <th>2021-11-01 11:00:00</th>\n",
       "      <td>0.106659</td>\n",
       "      <td>0.004960</td>\n",
       "      <td>0.002509</td>\n",
       "      <td>0.0000</td>\n",
       "      <td>0.244578</td>\n",
       "      <td>-0.004466</td>\n",
       "      <td>0.205342</td>\n",
       "      <td>-0.002411</td>\n",
       "      <td>0.221997</td>\n",
       "      <td>0.015889</td>\n",
       "      <td>...</td>\n",
       "      <td>-0.013622</td>\n",
       "      <td>-0.055696</td>\n",
       "      <td>0.002733</td>\n",
       "      <td>0.020339</td>\n",
       "      <td>0.004164</td>\n",
       "      <td>0.020278</td>\n",
       "      <td>0.031964</td>\n",
       "      <td>0.143985</td>\n",
       "      <td>-0.008784</td>\n",
       "      <td>0.110494</td>\n",
       "    </tr>\n",
       "    <tr>\n",
       "      <th>2021-11-01 12:00:00</th>\n",
       "      <td>0.093877</td>\n",
       "      <td>-0.007029</td>\n",
       "      <td>0.002215</td>\n",
       "      <td>0.0000</td>\n",
       "      <td>0.205791</td>\n",
       "      <td>-0.010663</td>\n",
       "      <td>0.205213</td>\n",
       "      <td>-0.004885</td>\n",
       "      <td>0.218987</td>\n",
       "      <td>-0.000312</td>\n",
       "      <td>...</td>\n",
       "      <td>-0.012067</td>\n",
       "      <td>-0.058636</td>\n",
       "      <td>0.001036</td>\n",
       "      <td>0.007664</td>\n",
       "      <td>-0.000468</td>\n",
       "      <td>-0.002280</td>\n",
       "      <td>0.032963</td>\n",
       "      <td>0.150526</td>\n",
       "      <td>-0.008452</td>\n",
       "      <td>0.251798</td>\n",
       "    </tr>\n",
       "    <tr>\n",
       "      <th>2021-11-01 13:00:00</th>\n",
       "      <td>0.105910</td>\n",
       "      <td>0.000391</td>\n",
       "      <td>0.001876</td>\n",
       "      <td>0.0000</td>\n",
       "      <td>0.178879</td>\n",
       "      <td>-0.002636</td>\n",
       "      <td>0.121835</td>\n",
       "      <td>-0.002733</td>\n",
       "      <td>0.150777</td>\n",
       "      <td>0.012503</td>\n",
       "      <td>...</td>\n",
       "      <td>-0.017765</td>\n",
       "      <td>-0.099311</td>\n",
       "      <td>-0.011257</td>\n",
       "      <td>-0.079868</td>\n",
       "      <td>-0.010029</td>\n",
       "      <td>-0.082314</td>\n",
       "      <td>0.028080</td>\n",
       "      <td>0.186238</td>\n",
       "      <td>0.000546</td>\n",
       "      <td>0.013801</td>\n",
       "    </tr>\n",
       "    <tr>\n",
       "      <th>2021-11-01 14:00:00</th>\n",
       "      <td>0.108033</td>\n",
       "      <td>0.001962</td>\n",
       "      <td>0.001842</td>\n",
       "      <td>0.0000</td>\n",
       "      <td>0.178898</td>\n",
       "      <td>-0.001640</td>\n",
       "      <td>0.120990</td>\n",
       "      <td>0.003907</td>\n",
       "      <td>0.350514</td>\n",
       "      <td>0.056328</td>\n",
       "      <td>...</td>\n",
       "      <td>-0.014938</td>\n",
       "      <td>-0.083500</td>\n",
       "      <td>-0.007156</td>\n",
       "      <td>-0.050066</td>\n",
       "      <td>-0.003710</td>\n",
       "      <td>-0.030664</td>\n",
       "      <td>0.068520</td>\n",
       "      <td>0.195483</td>\n",
       "      <td>-0.008604</td>\n",
       "      <td>-0.141816</td>\n",
       "    </tr>\n",
       "  </tbody>\n",
       "</table>\n",
       "<p>5 rows × 32 columns</p>\n",
       "</div>"
      ],
      "text/plain": [
       "                      vol_BTC   ret_BTC  vol_USDT  ret_USDT   vol_SOL  \\\n",
       "ts                                                                      \n",
       "2021-11-01 10:00:00  0.155573  0.000486  0.002483    0.0001  0.226839   \n",
       "2021-11-01 11:00:00  0.106659  0.004960  0.002509    0.0000  0.244578   \n",
       "2021-11-01 12:00:00  0.093877 -0.007029  0.002215    0.0000  0.205791   \n",
       "2021-11-01 13:00:00  0.105910  0.000391  0.001876    0.0000  0.178879   \n",
       "2021-11-01 14:00:00  0.108033  0.001962  0.001842    0.0000  0.178898   \n",
       "\n",
       "                      ret_SOL   vol_ADA   ret_ADA   vol_DOT   ret_DOT  ...  \\\n",
       "ts                                                                     ...   \n",
       "2021-11-01 10:00:00  0.003062  0.213095  0.006828  0.210319  0.017386  ...   \n",
       "2021-11-01 11:00:00 -0.004466  0.205342 -0.002411  0.221997  0.015889  ...   \n",
       "2021-11-01 12:00:00 -0.010663  0.205213 -0.004885  0.218987 -0.000312  ...   \n",
       "2021-11-01 13:00:00 -0.002636  0.121835 -0.002733  0.150777  0.012503  ...   \n",
       "2021-11-01 14:00:00 -0.001640  0.120990  0.003907  0.350514  0.056328  ...   \n",
       "\n",
       "                     ret3_SOL  ret3/vol_SOL  ret3_AVAX  ret3/vol_AVAX  \\\n",
       "ts                                                                      \n",
       "2021-11-01 10:00:00  0.002033      0.008963   0.013486       0.094943   \n",
       "2021-11-01 11:00:00 -0.013622     -0.055696   0.002733       0.020339   \n",
       "2021-11-01 12:00:00 -0.012067     -0.058636   0.001036       0.007664   \n",
       "2021-11-01 13:00:00 -0.017765     -0.099311  -0.011257      -0.079868   \n",
       "2021-11-01 14:00:00 -0.014938     -0.083500  -0.007156      -0.050066   \n",
       "\n",
       "                     ret3_ADA  ret3/vol_ADA  ret3_DOT  ret3/vol_DOT  \\\n",
       "ts                                                                    \n",
       "2021-11-01 10:00:00  0.024173      0.113439  0.029665      0.141047   \n",
       "2021-11-01 11:00:00  0.004164      0.020278  0.031964      0.143985   \n",
       "2021-11-01 12:00:00 -0.000468     -0.002280  0.032963      0.150526   \n",
       "2021-11-01 13:00:00 -0.010029     -0.082314  0.028080      0.186238   \n",
       "2021-11-01 14:00:00 -0.003710     -0.030664  0.068520      0.195483   \n",
       "\n",
       "                     ret3_ETHS  ret3/vol_ETHS  \n",
       "ts                                             \n",
       "2021-11-01 10:00:00  -0.029823       0.442093  \n",
       "2021-11-01 11:00:00  -0.008784       0.110494  \n",
       "2021-11-01 12:00:00  -0.008452       0.251798  \n",
       "2021-11-01 13:00:00   0.000546       0.013801  \n",
       "2021-11-01 14:00:00  -0.008604      -0.141816  \n",
       "\n",
       "[5 rows x 32 columns]"
      ]
     },
     "execution_count": 295,
     "metadata": {},
     "output_type": "execute_result"
    }
   ],
   "source": [
    "X.head()"
   ]
  },
  {
   "cell_type": "markdown",
   "id": "4baa600e-7b36-448e-811a-c0aa50b1ed11",
   "metadata": {},
   "source": [
    "Now let's go straight into modelling with our factors."
   ]
  },
  {
   "cell_type": "code",
   "execution_count": 296,
   "id": "465b69ab-5c44-4053-9a1b-b656c2cb57b4",
   "metadata": {},
   "outputs": [],
   "source": [
    "from sklearn.preprocessing import StandardScaler\n",
    "from sklearn.preprocessing import QuantileTransformer\n",
    "from sklearn.decomposition import PCA\n",
    "from sklearn.impute import SimpleImputer\n",
    "\n",
    "from sklearn.base import BaseEstimator, TransformerMixin\n",
    "from sklearn.pipeline import Pipeline\n",
    "from sklearn.compose import ColumnTransformer\n",
    "\n",
    "from sklearn.tree import DecisionTreeRegressor\n",
    "from sklearn.ensemble import RandomForestRegressor\n",
    "from sklearn.linear_model import Ridge\n",
    "from sklearn.linear_model import Lasso\n",
    "\n",
    "from sklearn.model_selection import cross_validate\n",
    "from sklearn.model_selection import TimeSeriesSplit\n",
    "from sklearn.metrics import mean_squared_error, make_scorer\n",
    "\n",
    "from sklearn.model_selection import learning_curve"
   ]
  },
  {
   "cell_type": "code",
   "execution_count": 297,
   "id": "c0eae381-861f-4520-ad8d-4a761cfec9c0",
   "metadata": {},
   "outputs": [],
   "source": [
    "class FeatureSelector(BaseEstimator, TransformerMixin):\n",
    "    def __init__(self, columns):\n",
    "        self.columns = columns\n",
    "        \n",
    "    def fit(self, X, y=None):\n",
    "        return self\n",
    "    \n",
    "    def transform(self, X):\n",
    "        return X[self.columns]\n"
   ]
  },
  {
   "cell_type": "code",
   "execution_count": 298,
   "id": "30bd7300-9a0a-4464-a27a-f025ecf480b3",
   "metadata": {},
   "outputs": [],
   "source": [
    "def evaluate_model(model, X, y, test_size=0.2):\n",
    "    cv = TimeSeriesSplit(n_splits=int(y.shape[0] * test_size), test_size=1)\n",
    "    scorer = make_scorer(mean_squared_error, greater_is_better=False, squared=False)\n",
    "    \n",
    "    return np.mean(cross_validate(model, X, y, cv=cv, scoring=scorer, n_jobs=-1)['test_score'])"
   ]
  },
  {
   "cell_type": "markdown",
   "id": "f9763bdb-1074-48c1-890b-64c34e1a813c",
   "metadata": {},
   "source": [
    "Though I do not show every case, the Ridge model with some PCA seemed to be best so I focus on this combination and test it for differnet types of chain factors. For conciseness, I only print those that outperform the past seen case."
   ]
  },
  {
   "cell_type": "code",
   "execution_count": 299,
   "id": "0e0fd20c-5696-4593-8e96-2becbf4c88db",
   "metadata": {
    "tags": []
   },
   "outputs": [
    {
     "name": "stdout",
     "output_type": "stream",
     "text": [
      "ret, ret3, ret3/vol, vol for ATOM: -0.008434975488432904\n",
      "ret, ret3, ret3/vol, vol for AVAX: -0.008365209227834233\n"
     ]
    }
   ],
   "source": [
    "best = -1\n",
    "for fac1 in factors:\n",
    "    pipeline = Pipeline([\n",
    "    ('feature_selector', FeatureSelector([f'ret_{fac1}',f'ret3_{fac1}',f'ret3/vol_{fac1}',f'vol_{fac1}'])),\n",
    "    ('scale', StandardScaler()),\n",
    "    #('pca', PCA(n_components=6)),\n",
    "    ('model', Ridge(alpha=1))\n",
    "    ])\n",
    "    \n",
    "    if len(fac1) == 3: fac1 = fac1 + ' '\n",
    "    \n",
    "    rmse = evaluate_model(pipeline, X, y)\n",
    "    \n",
    "    if rmse > best:\n",
    "        best = rmse\n",
    "        print(f\"ret, ret3, ret3/vol, vol for {fac1}: {rmse}\")"
   ]
  },
  {
   "cell_type": "code",
   "execution_count": 300,
   "id": "a6a0256b-b44a-44f8-a272-4f7e51e98034",
   "metadata": {
    "jupyter": {
     "source_hidden": true
    },
    "tags": []
   },
   "outputs": [
    {
     "name": "stdout",
     "output_type": "stream",
     "text": [
      "ret, ret3, ret3/vol, vol for ATOM, USDT: -0.008443320815080146\n",
      "ret, ret3, ret3/vol, vol for ATOM, BTC : -0.0084314664627261\n",
      "ret, ret3, ret3/vol, vol for ATOM, AVAX: -0.008317407621101332\n",
      "ret, ret3, ret3/vol, vol for BTC , AVAX: -0.008316920497649021\n",
      "ret, ret3, ret3/vol, vol for SOL , AVAX: -0.008297880830998073\n",
      "ret, ret3, ret3/vol, vol for AVAX, ADA : -0.008257794136966333\n"
     ]
    }
   ],
   "source": [
    "best = -1\n",
    "for fac1,fac2 in list(itertools.combinations(factors,2)):\n",
    "    pipeline = Pipeline([\n",
    "    ('feature_selector', FeatureSelector([f'ret_{fac1}',f'ret3_{fac1}',f'ret3/vol_{fac1}',f'vol_{fac1}',\n",
    "                                          f'ret_{fac2}',f'ret3_{fac2}',f'ret3/vol_{fac2}',f'vol_{fac2}'])),\n",
    "    ('scale', StandardScaler()),\n",
    "    ('pca', PCA(n_components=6)),\n",
    "    ('model', Ridge(alpha=0.5))\n",
    "    ])\n",
    "    \n",
    "    if len(fac1) == 3: fac1 = fac1 + ' '\n",
    "    if len(fac2) == 3: fac2 = fac2 + ' '\n",
    "    \n",
    "    rmse = evaluate_model(pipeline, X, y)\n",
    "    \n",
    "    if rmse > best:\n",
    "        best = rmse\n",
    "        print(f\"ret, ret3, ret3/vol, vol for {fac1}, {fac2}: {rmse}\")"
   ]
  },
  {
   "cell_type": "code",
   "execution_count": 301,
   "id": "153e6273-ff81-4f1c-a9ac-a60ad86bdb41",
   "metadata": {
    "jupyter": {
     "source_hidden": true
    },
    "tags": []
   },
   "outputs": [
    {
     "name": "stdout",
     "output_type": "stream",
     "text": [
      "ret, ret3, ret3/vol, vol for ATOM, USDT, BTC : -0.00844871760206593\n",
      "ret, ret3, ret3/vol, vol for ATOM, USDT, AVAX: -0.008388956209346403\n",
      "ret, ret3, ret3/vol, vol for ATOM, BTC , AVAX: -0.008288013933559229\n",
      "ret, ret3, ret3/vol, vol for ATOM, SOL , AVAX: -0.008282936365120657\n",
      "ret, ret3, ret3/vol, vol for BTC , AVAX, ADA : -0.008250498556809881\n",
      "ret, ret3, ret3/vol, vol for AVAX, ADA , ETHS: -0.008243042405917224\n"
     ]
    }
   ],
   "source": [
    "best = -1\n",
    "for fac1,fac2,fac3 in list(itertools.combinations(factors,3)):\n",
    "    pipeline = Pipeline([\n",
    "    ('feature_selector', FeatureSelector([f'ret_{fac1}',f'ret3_{fac1}',f'ret3/vol_{fac1}',f'vol_{fac1}',\n",
    "                                          f'ret_{fac2}',f'ret3_{fac2}',f'ret3/vol_{fac2}',f'vol_{fac2}',\n",
    "                                          f'ret_{fac3}',f'ret3_{fac3}',f'ret3/vol_{fac3}',f'vol_{fac3}'])),\n",
    "    ('scale', StandardScaler()),\n",
    "    ('pca', PCA(n_components=8)),\n",
    "    ('model', Ridge(alpha=0.5))\n",
    "    ])\n",
    "    \n",
    "    if len(fac1) == 3: fac1 = fac1 + ' '\n",
    "    if len(fac2) == 3: fac2 = fac2 + ' '\n",
    "    if len(fac3) == 3: fac3 = fac3 + ' '\n",
    "    \n",
    "    rmse = evaluate_model(pipeline, X, y)\n",
    "    \n",
    "    if rmse > best:\n",
    "        best = rmse\n",
    "        print(f\"ret, ret3, ret3/vol, vol for {fac1}, {fac2}, {fac3}: {rmse}\")"
   ]
  },
  {
   "cell_type": "code",
   "execution_count": 302,
   "id": "560f3874-f155-4316-b6e2-f52be341c4c6",
   "metadata": {
    "jupyter": {
     "source_hidden": true
    },
    "tags": []
   },
   "outputs": [
    {
     "name": "stdout",
     "output_type": "stream",
     "text": [
      "ret, ret3, ret3/vol, vol for ATOM, USDT, BTC , SOL : -0.008476623154782075\n",
      "ret, ret3, ret3/vol, vol for ATOM, USDT, BTC , AVAX: -0.008430269244669292\n",
      "ret, ret3, ret3/vol, vol for ATOM, USDT, AVAX, ADA : -0.008420845837566665\n",
      "ret, ret3, ret3/vol, vol for ATOM, USDT, AVAX, DOT : -0.008411343886220448\n",
      "ret, ret3, ret3/vol, vol for ATOM, USDT, AVAX, ETHS: -0.008393525437807218\n",
      "ret, ret3, ret3/vol, vol for ATOM, BTC , AVAX, ADA : -0.008279683125108453\n",
      "ret, ret3, ret3/vol, vol for ATOM, SOL , AVAX, ADA : -0.008279036848419538\n",
      "ret, ret3, ret3/vol, vol for ATOM, AVAX, ADA , ETHS: -0.008269288842424805\n",
      "ret, ret3, ret3/vol, vol for BTC , AVAX, ADA , ETHS: -0.008222209990879106\n"
     ]
    }
   ],
   "source": [
    "best = -1\n",
    "for fac1,fac2,fac3,fac4 in list(itertools.combinations(factors,4)):\n",
    "    pipeline = Pipeline([\n",
    "    ('feature_selector', FeatureSelector([f'ret_{fac1}',f'ret3_{fac1}',f'ret3/vol_{fac1}',f'vol_{fac1}',\n",
    "                                          f'ret_{fac2}',f'ret3_{fac2}',f'ret3/vol_{fac2}',f'vol_{fac2}',\n",
    "                                          f'ret_{fac3}',f'ret3_{fac3}',f'ret3/vol_{fac3}',f'vol_{fac3}',\n",
    "                                          f'ret_{fac4}',f'ret3_{fac4}',f'ret3/vol_{fac4}',f'vol_{fac4}'])),\n",
    "    ('scale', StandardScaler()),\n",
    "    ('pca', PCA(n_components=9)),\n",
    "    ('model', Ridge(alpha=0.5))\n",
    "    ])\n",
    "    \n",
    "    if len(fac1) == 3: fac1 = fac1 + ' '\n",
    "    if len(fac2) == 3: fac2 = fac2 + ' '\n",
    "    if len(fac3) == 3: fac3 = fac3 + ' '\n",
    "    if len(fac4) == 3: fac4 = fac4 + ' '\n",
    "    \n",
    "    rmse = evaluate_model(pipeline, X, y)\n",
    "    \n",
    "    if rmse > best:\n",
    "        best = rmse\n",
    "        print(f\"ret, ret3, ret3/vol, vol for {fac1}, {fac2}, {fac3}, {fac4}: {rmse}\")"
   ]
  },
  {
   "cell_type": "code",
   "execution_count": 303,
   "id": "af976a68-e60e-40da-94dc-c1026196258f",
   "metadata": {
    "jupyter": {
     "source_hidden": true
    },
    "tags": []
   },
   "outputs": [
    {
     "name": "stdout",
     "output_type": "stream",
     "text": [
      "ret, ret3, ret3/vol, vol for ATOM, USDT, BTC , SOL , AVAX: -0.008239442470214587\n",
      "ret, ret3, ret3/vol, vol for ATOM, USDT, BTC , AVAX, ADA : -0.00818579660534539\n"
     ]
    }
   ],
   "source": [
    "best = -1\n",
    "for fac1,fac2,fac3,fac4,fac5 in list(itertools.combinations(factors,5)):\n",
    "    pipeline = Pipeline([\n",
    "    ('feature_selector', FeatureSelector([f'ret_{fac1}',f'ret3_{fac1}',f'ret3/vol_{fac1}',f'vol_{fac1}',\n",
    "                                          f'ret_{fac2}',f'ret3_{fac2}',f'ret3/vol_{fac2}',f'vol_{fac2}',\n",
    "                                          f'ret_{fac3}',f'ret3_{fac3}',f'ret3/vol_{fac3}',f'vol_{fac3}',\n",
    "                                          f'ret_{fac4}',f'ret3_{fac4}',f'ret3/vol_{fac4}',f'vol_{fac4}',\n",
    "                                          f'ret_{fac5}',f'ret3_{fac5}',f'ret3/vol_{fac5}',f'vol_{fac5}'])),\n",
    "    ('scale', StandardScaler()),\n",
    "    ('pca', PCA(n_components=12)),\n",
    "    ('model', Ridge(alpha=0.5))\n",
    "    ])\n",
    "    \n",
    "    if len(fac1) == 3: fac1 = fac1 + ' '\n",
    "    if len(fac2) == 3: fac2 = fac2 + ' '\n",
    "    if len(fac3) == 3: fac3 = fac3 + ' '\n",
    "    if len(fac4) == 3: fac4 = fac4 + ' '\n",
    "    if len(fac5) == 3: fac5 = fac5 + ' '\n",
    "    \n",
    "    rmse = evaluate_model(pipeline, X, y)\n",
    "    \n",
    "    if rmse > best:\n",
    "        best = rmse\n",
    "        print(f\"ret, ret3, ret3/vol, vol for {fac1}, {fac2}, {fac3}, {fac4}, {fac5}: {rmse}\")"
   ]
  },
  {
   "cell_type": "code",
   "execution_count": 304,
   "id": "3a675604-6eb0-47e3-a280-f0b1c0cc290e",
   "metadata": {
    "jupyter": {
     "source_hidden": true
    },
    "tags": []
   },
   "outputs": [
    {
     "name": "stdout",
     "output_type": "stream",
     "text": [
      "ret, ret3, ret3/vol, vol for ATOM, USDT, BTC , SOL , AVAX, ADA : -0.008256245075742874\n",
      "ret, ret3, ret3/vol, vol for ATOM, USDT, BTC , AVAX, ADA , ETHS: -0.008242447867563731\n",
      "ret, ret3, ret3/vol, vol for USDT, BTC , SOL , AVAX, ADA , ETHS: -0.008236737336932736\n"
     ]
    }
   ],
   "source": [
    "best = -1\n",
    "for fac1,fac2,fac3,fac4,fac5,fac6 in list(itertools.combinations(factors,6)):\n",
    "    pipeline = Pipeline([\n",
    "    ('feature_selector', FeatureSelector([f'ret_{fac1}',f'ret3_{fac1}',f'ret3/vol_{fac1}',f'vol_{fac1}',\n",
    "                                          f'ret_{fac2}',f'ret3_{fac2}',f'ret3/vol_{fac2}',f'vol_{fac2}',\n",
    "                                          f'ret_{fac3}',f'ret3_{fac3}',f'ret3/vol_{fac3}',f'vol_{fac3}',\n",
    "                                          f'ret_{fac4}',f'ret3_{fac4}',f'ret3/vol_{fac4}',f'vol_{fac4}',\n",
    "                                          f'ret_{fac5}',f'ret3_{fac5}',f'ret3/vol_{fac5}',f'vol_{fac5}',\n",
    "                                          f'ret_{fac6}',f'ret3_{fac6}',f'ret3/vol_{fac6}',f'vol_{fac6}'])),\n",
    "    ('scale', StandardScaler()),\n",
    "    ('pca', PCA(n_components=15)),\n",
    "    ('model', Ridge(alpha=0.5))\n",
    "    ])\n",
    "    \n",
    "    if len(fac1) == 3: fac1 = fac1 + ' '\n",
    "    if len(fac2) == 3: fac2 = fac2 + ' '\n",
    "    if len(fac3) == 3: fac3 = fac3 + ' '\n",
    "    if len(fac4) == 3: fac4 = fac4 + ' '\n",
    "    if len(fac5) == 3: fac5 = fac5 + ' '\n",
    "    if len(fac6) == 3: fac6 = fac6 + ' '\n",
    "    \n",
    "    rmse = evaluate_model(pipeline, X, y)\n",
    "    \n",
    "    if rmse > best:\n",
    "        best = rmse\n",
    "        print(f\"ret, ret3, ret3/vol, vol for {fac1}, {fac2}, {fac3}, {fac4}, {fac5}, {fac6}: {rmse}\")"
   ]
  },
  {
   "cell_type": "markdown",
   "id": "36aca704-c297-418a-baa2-2cd446776488",
   "metadata": {},
   "source": [
    "Note that we have 8 chains. I thought that testing on 7 or 8 chains would only fuzz interpretation due to its overflowing numer of parameters. So I keep it up to 6 chains. Now I perform hyperparameter optimization on each case from 2 chains to 6 chains through grid search"
   ]
  },
  {
   "cell_type": "code",
   "execution_count": 305,
   "id": "657ec625-6e6e-42a9-85f1-050119db45ba",
   "metadata": {
    "jupyter": {
     "source_hidden": true
    },
    "tags": []
   },
   "outputs": [
    {
     "name": "stdout",
     "output_type": "stream",
     "text": [
      "Grid search on model with factors: AVAX, ADA\n",
      "Fitting 209 folds for each of 30 candidates, totalling 6270 fits\n"
     ]
    }
   ],
   "source": [
    "from sklearn.model_selection import GridSearchCV\n",
    "\n",
    "fac1 = 'AVAX'\n",
    "fac2 = 'ADA'\n",
    "\n",
    "print(f'Grid search on model with factors: {fac1}, {fac2}')\n",
    "\n",
    "pipeline = Pipeline([\n",
    "    ('feature_selector', FeatureSelector([f'ret_{fac1}',f'ret3_{fac1}',f'ret3/vol_{fac1}',f'vol_{fac1}',\n",
    "                                          f'ret_{fac2}',f'ret3_{fac2}',f'ret3/vol_{fac2}',f'vol_{fac2}'])),\n",
    "    ('scale', StandardScaler()),\n",
    "    ('pca', PCA()),\n",
    "    ('model', Ridge())])\n",
    "\n",
    "test_size = 0.2\n",
    "cv = TimeSeriesSplit(n_splits=int(y.shape[0] * test_size), test_size=1)\n",
    "scorer = make_scorer(mean_squared_error, greater_is_better=False, squared=False)\n",
    "\n",
    "search = GridSearchCV(pipeline, {\n",
    "    'pca__n_components': np.linspace(4,8,5).astype(int),\n",
    "    'model__alpha': np.linspace(0,1,6)\n",
    "}, scoring=scorer, refit=True, cv=cv, verbose = 1)\n",
    "search.fit(X, y)\n",
    "best_model_2 = search.best_estimator_"
   ]
  },
  {
   "cell_type": "code",
   "execution_count": 306,
   "id": "9aa4f376-8c2c-4d23-9702-8fdbadf77024",
   "metadata": {
    "jupyter": {
     "source_hidden": true
    },
    "tags": []
   },
   "outputs": [
    {
     "name": "stdout",
     "output_type": "stream",
     "text": [
      "Grid search on model with factors: AVAX, ADA, ETHS\n",
      "Fitting 209 folds for each of 42 candidates, totalling 8778 fits\n"
     ]
    }
   ],
   "source": [
    "fac1 = 'AVAX'\n",
    "fac2 = 'ADA'\n",
    "fac3 = 'ETHS'\n",
    "\n",
    "print(f'Grid search on model with factors: {fac1}, {fac2}, {fac3}')\n",
    "\n",
    "pipeline = Pipeline([\n",
    "    ('feature_selector', FeatureSelector([f'ret_{fac1}',f'ret3_{fac1}',f'ret3/vol_{fac1}',f'vol_{fac1}',\n",
    "                                          f'ret_{fac2}',f'ret3_{fac2}',f'ret3/vol_{fac2}',f'vol_{fac2}',\n",
    "                                          f'ret_{fac3}',f'ret3_{fac3}',f'ret3/vol_{fac3}',f'vol_{fac3}'])),\n",
    "    ('scale', StandardScaler()),\n",
    "    ('pca', PCA()),\n",
    "    ('model', Ridge())])\n",
    "\n",
    "test_size = 0.2\n",
    "cv = TimeSeriesSplit(n_splits=int(y.shape[0] * test_size), test_size=1)\n",
    "scorer = make_scorer(mean_squared_error, greater_is_better=False, squared=False)\n",
    "\n",
    "search = GridSearchCV(pipeline, {\n",
    "    'pca__n_components': np.linspace(6,12,7).astype(int),\n",
    "    'model__alpha': np.linspace(0,1,6)\n",
    "}, scoring=scorer, refit=True, cv=cv, verbose = 1)\n",
    "search.fit(X, y)\n",
    "best_model_3 = search.best_estimator_"
   ]
  },
  {
   "cell_type": "code",
   "execution_count": 307,
   "id": "6c3b4018-5bfe-43db-8f69-cb9ff851c678",
   "metadata": {
    "jupyter": {
     "source_hidden": true
    },
    "tags": []
   },
   "outputs": [
    {
     "name": "stdout",
     "output_type": "stream",
     "text": [
      "Grid search on model with factors: AVAX, ADA, ETHS, BTC\n",
      "Fitting 209 folds for each of 54 candidates, totalling 11286 fits\n"
     ]
    }
   ],
   "source": [
    "fac1 = 'AVAX'\n",
    "fac2 = 'ADA'\n",
    "fac3 = 'ETHS'\n",
    "fac4 = 'BTC'\n",
    "\n",
    "print(f'Grid search on model with factors: {fac1}, {fac2}, {fac3}, {fac4}')\n",
    "\n",
    "pipeline = Pipeline([\n",
    "    ('feature_selector', FeatureSelector([f'ret_{fac1}',f'ret3_{fac1}',f'ret3/vol_{fac1}',f'vol_{fac1}',\n",
    "                                          f'ret_{fac2}',f'ret3_{fac2}',f'ret3/vol_{fac2}',f'vol_{fac2}',\n",
    "                                          f'ret_{fac3}',f'ret3_{fac3}',f'ret3/vol_{fac3}',f'vol_{fac3}',\n",
    "                                          f'ret_{fac4}',f'ret3_{fac4}',f'ret3/vol_{fac4}',f'vol_{fac4}'])),\n",
    "    ('scale', StandardScaler()),\n",
    "    ('pca', PCA()),\n",
    "    ('model', Ridge())])\n",
    "\n",
    "test_size = 0.2\n",
    "cv = TimeSeriesSplit(n_splits=int(y.shape[0] * test_size), test_size=1)\n",
    "scorer = make_scorer(mean_squared_error, greater_is_better=False, squared=False)\n",
    "\n",
    "search = GridSearchCV(pipeline, {\n",
    "    'pca__n_components': np.linspace(8,16,9).astype(int),\n",
    "    'model__alpha': np.linspace(0,1,6)\n",
    "}, scoring=scorer, refit=True, cv=cv, verbose = 1)\n",
    "search.fit(X, y)\n",
    "best_model_4 = search.best_estimator_"
   ]
  },
  {
   "cell_type": "code",
   "execution_count": 308,
   "id": "b14fced3-6301-4757-afa5-48fb6ba12ed9",
   "metadata": {
    "jupyter": {
     "source_hidden": true
    },
    "tags": []
   },
   "outputs": [
    {
     "name": "stdout",
     "output_type": "stream",
     "text": [
      "Grid search on model with factors: AVAX, ADA, BTC, ATOM, USDT\n",
      "Fitting 209 folds for each of 66 candidates, totalling 13794 fits\n"
     ]
    }
   ],
   "source": [
    "fac1 = 'AVAX'\n",
    "fac2 = 'ADA'\n",
    "fac3 = 'BTC'\n",
    "fac4 = 'ATOM'\n",
    "fac5 = 'USDT'\n",
    "\n",
    "print(f'Grid search on model with factors: {fac1}, {fac2}, {fac3}, {fac4}, {fac5}') \n",
    "    \n",
    "pipeline = Pipeline([\n",
    "    ('feature_selector', FeatureSelector([f'ret_{fac1}',f'ret3_{fac1}',f'ret3/vol_{fac1}',f'vol_{fac1}',\n",
    "                                          f'ret_{fac2}',f'ret3_{fac2}',f'ret3/vol_{fac2}',f'vol_{fac2}',\n",
    "                                          f'ret_{fac3}',f'ret3_{fac3}',f'ret3/vol_{fac3}',f'vol_{fac3}',\n",
    "                                          f'ret_{fac4}',f'ret3_{fac4}',f'ret3/vol_{fac4}',f'vol_{fac4}',\n",
    "                                          f'ret_{fac5}',f'ret3_{fac5}',f'ret3/vol_{fac5}',f'vol_{fac5}'])),\n",
    "    ('scale', StandardScaler()),\n",
    "    ('pca', PCA()),\n",
    "    ('model', Ridge())])\n",
    "\n",
    "test_size = 0.2\n",
    "cv = TimeSeriesSplit(n_splits=int(y.shape[0] * test_size), test_size=1)\n",
    "scorer = make_scorer(mean_squared_error, greater_is_better=False, squared=False)\n",
    "\n",
    "search = GridSearchCV(pipeline, {\n",
    "    'pca__n_components': np.linspace(10,20,11).astype(int),\n",
    "    'model__alpha': np.linspace(0,1,6)\n",
    "}, scoring=scorer, refit=True, cv=cv, verbose = 1)\n",
    "search.fit(X, y)\n",
    "best_model_5 = search.best_estimator_"
   ]
  },
  {
   "cell_type": "code",
   "execution_count": 309,
   "id": "0b2f37ed-308d-4575-beee-cfe997ed43cc",
   "metadata": {
    "jupyter": {
     "source_hidden": true
    },
    "tags": []
   },
   "outputs": [
    {
     "name": "stdout",
     "output_type": "stream",
     "text": [
      "Grid search on model with factors: AVAX, ADA, BTC, ETHS, USDT, SOL\n",
      "Fitting 209 folds for each of 78 candidates, totalling 16302 fits\n"
     ]
    }
   ],
   "source": [
    "fac1 = 'AVAX'\n",
    "fac2 = 'ADA'\n",
    "fac3 = 'BTC'\n",
    "fac4 = 'ETHS'\n",
    "fac5 = 'USDT'\n",
    "fac6 = 'SOL'\n",
    "\n",
    "print(f'Grid search on model with factors: {fac1}, {fac2}, {fac3}, {fac4}, {fac5}, {fac6}') \n",
    "\n",
    "pipeline = Pipeline([\n",
    "    ('feature_selector', FeatureSelector([f'ret_{fac1}',f'ret3_{fac1}',f'ret3/vol_{fac1}',f'vol_{fac1}',\n",
    "                                          f'ret_{fac2}',f'ret3_{fac2}',f'ret3/vol_{fac2}',f'vol_{fac2}',\n",
    "                                          f'ret_{fac3}',f'ret3_{fac3}',f'ret3/vol_{fac3}',f'vol_{fac3}',\n",
    "                                          f'ret_{fac4}',f'ret3_{fac4}',f'ret3/vol_{fac4}',f'vol_{fac4}',\n",
    "                                          f'ret_{fac5}',f'ret3_{fac5}',f'ret3/vol_{fac5}',f'vol_{fac5}',\n",
    "                                          f'ret_{fac6}',f'ret3_{fac6}',f'ret3/vol_{fac6}',f'vol_{fac6}'])),\n",
    "    ('scale', StandardScaler()),\n",
    "    ('pca', PCA()),\n",
    "    ('model', Ridge())])\n",
    "\n",
    "test_size = 0.2\n",
    "cv = TimeSeriesSplit(n_splits=int(y.shape[0] * test_size), test_size=1)\n",
    "scorer = make_scorer(mean_squared_error, greater_is_better=False, squared=False)\n",
    "\n",
    "search = GridSearchCV(pipeline, {\n",
    "    'pca__n_components': np.linspace(12,24,13).astype(int),\n",
    "    'model__alpha': np.linspace(0,1,6)\n",
    "}, scoring=scorer, refit=True, cv=cv, verbose = 1)\n",
    "search.fit(X, y)\n",
    "best_model_6 = search.best_estimator_"
   ]
  },
  {
   "cell_type": "markdown",
   "id": "9b9d6b71-8b2d-4189-9735-dfaa937d9627",
   "metadata": {},
   "source": [
    "Now before seeing the individual results, I also try creating and testing a ensemble version of all the 5 models above. For ensemble decision, since we are dealing with continuous data, I use the median value of the predictions as the final y predictions."
   ]
  },
  {
   "cell_type": "code",
   "execution_count": 355,
   "id": "1221faa0-48c7-4b92-aaa4-059b66df8548",
   "metadata": {},
   "outputs": [],
   "source": [
    "# scoreing function for the ensemble model\n",
    "def evaluate_model_ens(model2,model3,model4,model5,model6, X, y, test_size=0.2):\n",
    "    \n",
    "    scores = []\n",
    "    for train_idx, test_idx in cv.split(X):\n",
    "        X_train, X_test, y_train, y_test = X.iloc[train_idx], X.iloc[test_idx], y.iloc[train_idx], y.iloc[test_idx]\n",
    "        model2.fit(X_train, y_train)\n",
    "        model3.fit(X_train, y_train)\n",
    "        model4.fit(X_train, y_train)\n",
    "        model5.fit(X_train, y_train)\n",
    "        model6.fit(X_train, y_train)\n",
    "        \n",
    "        predictions = np.concatenate((model2.predict(X_test), \n",
    "                                      model3.predict(X_test), \n",
    "                                      model4.predict(X_test),\n",
    "                                      model5.predict(X_test),\n",
    "                                      model6.predict(X_test)))\n",
    "        \n",
    "        predictions = predictions.reshape(len(X_test),5)\n",
    "        \n",
    "        y_pred = np.median(predictions, axis = 1)\n",
    "        \n",
    "        score = mean_squared_error(y_test, y_pred, squared=False)\n",
    "        scores.append(score)\n",
    "      \n",
    "    return -np.mean(scores)"
   ]
  },
  {
   "cell_type": "code",
   "execution_count": 356,
   "id": "0bd0d59d-8fa3-43f8-8b88-57dfa4486b78",
   "metadata": {},
   "outputs": [],
   "source": [
    "ensemble_rmse = evaluate_model_ens(best_model_2,\n",
    "                                   best_model_3,\n",
    "                                   best_model_4,\n",
    "                                   best_model_5,\n",
    "                                   best_model_6, X, y)"
   ]
  },
  {
   "cell_type": "code",
   "execution_count": 357,
   "id": "2aae4881-a22a-4b12-be9b-579d83a5372c",
   "metadata": {},
   "outputs": [
    {
     "name": "stdout",
     "output_type": "stream",
     "text": [
      "RMSE: -0.008252753955704649 for AVAX, ADA\n",
      "RMSE: -0.00824118391758347 for AVAX, ADA, ETHS\n",
      "RMSE: -0.008221891327546336 for AVAX, ADA, ETHS, BTC\n",
      "RMSE: -0.008185592084612319 for AVAX, ADA, ATOM, BTC, USDT\n",
      "RMSE: -0.008219739801605732 for AVAX, ADA, ETHS, BTC, USDT, SOL\n",
      "RMSE: -0.00818934962015297 for ensemble of all 5 models above\n"
     ]
    }
   ],
   "source": [
    "print(f'RMSE: {evaluate_model(best_model_2, X, y)} for AVAX, ADA')\n",
    "print(f'RMSE: {evaluate_model(best_model_3, X, y)} for AVAX, ADA, ETHS')\n",
    "print(f'RMSE: {evaluate_model(best_model_4, X, y)} for AVAX, ADA, ETHS, BTC')\n",
    "print(f'RMSE: {evaluate_model(best_model_5, X, y)} for AVAX, ADA, ATOM, BTC, USDT')\n",
    "print(f'RMSE: {evaluate_model(best_model_6, X, y)} for AVAX, ADA, ETHS, BTC, USDT, SOL')\n",
    "print(f'RMSE: {ensemble_rmse} for ensemble of all 5 models above')"
   ]
  },
  {
   "cell_type": "markdown",
   "id": "4e0de43f-5164-4fe7-a039-5f4bfa83fdcb",
   "metadata": {},
   "source": [
    "The results show that the ensemble version was not better than the individual best which was model 5 with 5 factors. Therefore we go with the model 5 with factors related to AVAX, ADA, ATOM, BTC, and USDT."
   ]
  },
  {
   "cell_type": "code",
   "execution_count": 358,
   "id": "17696e23-e9fa-4e95-825c-379c1b660ffa",
   "metadata": {},
   "outputs": [
    {
     "data": {
      "text/plain": [
       "<module 'matplotlib.pyplot' from '/Users/jin/opt/anaconda3/envs/lectures/lib/python3.9/site-packages/matplotlib/pyplot.py'>"
      ]
     },
     "execution_count": 358,
     "metadata": {},
     "output_type": "execute_result"
    },
    {
     "data": {
      "image/png": "[encoded data removed]",
      "text/plain": [
       "<Figure size 720x1080 with 3 Axes>"
      ]
     },
     "metadata": {
      "needs_background": "light"
     },
     "output_type": "display_data"
    }
   ],
   "source": [
    "fig, axes = plt.subplots(3, 1, figsize=(10, 15))\n",
    "\n",
    "title = \"Learning curves for ridge regression\"\n",
    "\n",
    "plot_learning_curve(\n",
    "    best_model_5, title, X, y, axes=axes, cv=cv, n_jobs=4, scoring=scorer\n",
    ")\n"
   ]
  },
  {
   "cell_type": "markdown",
   "id": "3117e29a-aff8-407a-a597-51c58ddce2da",
   "metadata": {},
   "source": [
    "Now that we have completed the model, we will need to save it down so that we can load it up in our model.  To do this, we will use pickle"
   ]
  },
  {
   "cell_type": "code",
   "execution_count": 359,
   "id": "7b242a00-2afd-4270-8925-e77264bf108f",
   "metadata": {},
   "outputs": [],
   "source": [
    "pickle.dump(best_model_5, open('best_model.pkl', 'wb'))"
   ]
  },
  {
   "cell_type": "markdown",
   "id": "af9bc542-6e49-48af-a970-c4827344a59f",
   "metadata": {},
   "source": [
    "We can verify that this is the same model that we saved:"
   ]
  },
  {
   "cell_type": "code",
   "execution_count": 360,
   "id": "f7906deb-e521-481b-a87e-06512af8673a",
   "metadata": {},
   "outputs": [],
   "source": [
    "loaded_model = pickle.load(open('best_model.pkl', 'rb'))"
   ]
  },
  {
   "cell_type": "code",
   "execution_count": 362,
   "id": "7b207541-6a62-43fb-a4d4-e1ddb75f07b7",
   "metadata": {},
   "outputs": [
    {
     "data": {
      "text/plain": [
       "Pipeline(steps=[('feature_selector',\n",
       "                 FeatureSelector(columns=['ret_AVAX', 'ret3_AVAX',\n",
       "                                          'ret3/vol_AVAX', 'vol_AVAX',\n",
       "                                          'ret_ADA', 'ret3_ADA', 'ret3/vol_ADA',\n",
       "                                          'vol_ADA', 'ret_BTC', 'ret3_BTC',\n",
       "                                          'ret3/vol_BTC', 'vol_BTC', 'ret_ATOM',\n",
       "                                          'ret3_ATOM', 'ret3/vol_ATOM',\n",
       "                                          'vol_ATOM', 'ret_USDT', 'ret3_USDT',\n",
       "                                          'ret3/vol_USDT', 'vol_USDT'])),\n",
       "                ('scale', StandardScaler()), ('pca', PCA(n_components=12)),\n",
       "                ('model', Ridge(alpha=0.0))])"
      ]
     },
     "execution_count": 362,
     "metadata": {},
     "output_type": "execute_result"
    }
   ],
   "source": [
    "loaded_model"
   ]
  },
  {
   "cell_type": "code",
   "execution_count": 366,
   "id": "9d320049-49d5-495e-81b4-d1d962e6f044",
   "metadata": {},
   "outputs": [
    {
     "data": {
      "text/plain": [
       "-0.008185592084612316"
      ]
     },
     "execution_count": 366,
     "metadata": {},
     "output_type": "execute_result"
    }
   ],
   "source": [
    "evaluate_model(loaded_model, X, y)"
   ]
  },
  {
   "cell_type": "markdown",
   "id": "8d95a97e-b232-4b7d-b621-3e4047e7b819",
   "metadata": {},
   "source": [
    "we can now take this model and build a server around it, so that other systems can also now make predictions on the hourly returns of SOL!"
   ]
  }
 ],
 "metadata": {
  "kernelspec": {
   "display_name": "Python 3.9.0 64-bit ('lectures': conda)",
   "language": "python",
   "name": "python390jvsc74a57bd0b65390a3d5648f9fe016b184aa67548ce92bc26e874c77efef02a09f1ad18d5d"
  },
  "language_info": {
   "codemirror_mode": {
    "name": "ipython",
    "version": 3
   },
   "file_extension": ".py",
   "mimetype": "text/x-python",
   "name": "python",
   "nbconvert_exporter": "python",
   "pygments_lexer": "ipython3",
   "version": "3.9.0"
  }
 },
 "nbformat": 4,
 "nbformat_minor": 5
}
