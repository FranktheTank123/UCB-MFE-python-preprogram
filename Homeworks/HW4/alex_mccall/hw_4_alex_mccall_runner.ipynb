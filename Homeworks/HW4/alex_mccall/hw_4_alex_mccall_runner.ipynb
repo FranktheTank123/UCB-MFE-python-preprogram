{
 "cells": [
  {
   "cell_type": "markdown",
   "id": "7e51cdb1-f402-4589-917e-40ca75b03abf",
   "metadata": {},
   "source": [
    "# HW4 Runner"
   ]
  },
  {
   "cell_type": "code",
   "execution_count": 1,
   "id": "01dd24fe-48f0-49f6-827a-a11f928df4ad",
   "metadata": {},
   "outputs": [
    {
     "name": "stderr",
     "output_type": "stream",
     "text": [
      "/Users/alexmccall/opt/anaconda3/envs/mfe-preprogram4/lib/python3.8/site-packages/papermill/iorw.py:50: FutureWarning: pyarrow.HadoopFileSystem is deprecated as of 2.0.0, please use pyarrow.fs.HadoopFileSystem instead.\n",
      "  from pyarrow import HadoopFileSystem\n"
     ]
    }
   ],
   "source": [
    "import papermill as pm\n",
    "import scrapbook as sb\n",
    "import pandas as pd\n",
    "from datetime import datetime, timedelta\n",
    "import os\n",
    "import sqlite3\n"
   ]
  },
  {
   "cell_type": "markdown",
   "id": "eefaa187-f113-4551-a913-c9e1c460870c",
   "metadata": {},
   "source": [
    "get token list"
   ]
  },
  {
   "cell_type": "code",
   "execution_count": 2,
   "id": "2ff94186-bfce-4b3f-abb7-2e8dd7e811ae",
   "metadata": {},
   "outputs": [],
   "source": [
    "connection_string = 'sqlite:///data/data.db'"
   ]
  },
  {
   "cell_type": "code",
   "execution_count": 3,
   "id": "c28c1a14-8cbe-40a5-adf5-eb54b0b6ef8c",
   "metadata": {},
   "outputs": [],
   "source": [
    "# FullDB = pd.read_sql(f'''\n",
    "# SELECT\n",
    "#     *\n",
    "# FROM ohlc\n",
    "# ''',connection_string)\n",
    "# # group by token\n",
    "# FullDB"
   ]
  },
  {
   "cell_type": "code",
   "execution_count": 4,
   "id": "a82b744c-49e6-4a3c-a165-99d7d0104d4a",
   "metadata": {
    "tags": []
   },
   "outputs": [
    {
     "data": {
      "text/html": [
       "<div>\n",
       "<style scoped>\n",
       "    .dataframe tbody tr th:only-of-type {\n",
       "        vertical-align: middle;\n",
       "    }\n",
       "\n",
       "    .dataframe tbody tr th {\n",
       "        vertical-align: top;\n",
       "    }\n",
       "\n",
       "    .dataframe thead th {\n",
       "        text-align: right;\n",
       "    }\n",
       "</style>\n",
       "<table border=\"1\" class=\"dataframe\">\n",
       "  <thead>\n",
       "    <tr style=\"text-align: right;\">\n",
       "      <th></th>\n",
       "      <th>token</th>\n",
       "    </tr>\n",
       "  </thead>\n",
       "  <tbody>\n",
       "    <tr>\n",
       "      <th>0</th>\n",
       "      <td>AAVE</td>\n",
       "    </tr>\n",
       "    <tr>\n",
       "      <th>1</th>\n",
       "      <td>ADA</td>\n",
       "    </tr>\n",
       "    <tr>\n",
       "      <th>2</th>\n",
       "      <td>ATOM</td>\n",
       "    </tr>\n",
       "    <tr>\n",
       "      <th>3</th>\n",
       "      <td>AVAX</td>\n",
       "    </tr>\n",
       "    <tr>\n",
       "      <th>4</th>\n",
       "      <td>BTC</td>\n",
       "    </tr>\n",
       "    <tr>\n",
       "      <th>5</th>\n",
       "      <td>COMP</td>\n",
       "    </tr>\n",
       "    <tr>\n",
       "      <th>6</th>\n",
       "      <td>CRV</td>\n",
       "    </tr>\n",
       "    <tr>\n",
       "      <th>7</th>\n",
       "      <td>DOT</td>\n",
       "    </tr>\n",
       "    <tr>\n",
       "      <th>8</th>\n",
       "      <td>ETH</td>\n",
       "    </tr>\n",
       "    <tr>\n",
       "      <th>9</th>\n",
       "      <td>SOL</td>\n",
       "    </tr>\n",
       "    <tr>\n",
       "      <th>10</th>\n",
       "      <td>USDT</td>\n",
       "    </tr>\n",
       "  </tbody>\n",
       "</table>\n",
       "</div>"
      ],
      "text/plain": [
       "   token\n",
       "0   AAVE\n",
       "1    ADA\n",
       "2   ATOM\n",
       "3   AVAX\n",
       "4    BTC\n",
       "5   COMP\n",
       "6    CRV\n",
       "7    DOT\n",
       "8    ETH\n",
       "9    SOL\n",
       "10  USDT"
      ]
     },
     "execution_count": 4,
     "metadata": {},
     "output_type": "execute_result"
    }
   ],
   "source": [
    "tokenData = pd.read_sql(f'''\n",
    "SELECT\n",
    "    token\n",
    "FROM ohlc\n",
    "group by token\n",
    "''',connection_string)\n",
    "tokenData"
   ]
  },
  {
   "cell_type": "code",
   "execution_count": 5,
   "id": "a74d01c0-7af8-4978-a9c9-357c57f364a5",
   "metadata": {
    "tags": []
   },
   "outputs": [
    {
     "data": {
      "text/plain": [
       "['AAVE',\n",
       " 'ADA',\n",
       " 'ATOM',\n",
       " 'AVAX',\n",
       " 'BTC',\n",
       " 'COMP',\n",
       " 'CRV',\n",
       " 'DOT',\n",
       " 'ETH',\n",
       " 'SOL',\n",
       " 'USDT']"
      ]
     },
     "execution_count": 5,
     "metadata": {},
     "output_type": "execute_result"
    }
   ],
   "source": [
    "tokenList = tokenData['token'].to_list()\n",
    "tokenList"
   ]
  },
  {
   "cell_type": "markdown",
   "id": "cb65d7ab-2000-45af-9eb1-931795be2a17",
   "metadata": {},
   "source": [
    "papermill"
   ]
  },
  {
   "cell_type": "markdown",
   "id": "4f5c766f-77ff-485f-84ae-b1d835a98ebb",
   "metadata": {},
   "source": [
    "get start date for last 2 complete weeks"
   ]
  },
  {
   "cell_type": "code",
   "execution_count": 6,
   "id": "e6e8293f-5708-428e-911a-349b2a4d4694",
   "metadata": {},
   "outputs": [],
   "source": [
    "def last_dow(d: datetime, dow: int) -> datetime:\n",
    "    '''\n",
    "    Gets the date of the last day of week, using datetime convention of Monday is 0 and Sunday is 6\n",
    "    '''\n",
    "    dow_d = d.weekday()\n",
    "    days_delta = (7 - dow) + dow_d if dow_d < dow else dow_d - dow\n",
    "    return d - timedelta(days=days_delta)"
   ]
  },
  {
   "cell_type": "code",
   "execution_count": 7,
   "id": "f33cea18-3899-46b3-97ce-96c1be03a202",
   "metadata": {},
   "outputs": [
    {
     "data": {
      "text/plain": [
       "datetime.datetime(2021, 11, 26, 0, 0)"
      ]
     },
     "execution_count": 7,
     "metadata": {},
     "output_type": "execute_result"
    }
   ],
   "source": [
    "ndays = 14\n",
    "startDate = last_dow(datetime(2021, 12, 15), 4) - timedelta(days=ndays)\n",
    "startDate"
   ]
  },
  {
   "cell_type": "markdown",
   "id": "9044398e-175f-4e5c-aa13-8bb60c015666",
   "metadata": {},
   "source": [
    "set parameters"
   ]
  },
  {
   "cell_type": "code",
   "execution_count": 8,
   "id": "8b4b2fb2-d8ea-430e-91a8-4339e5d2460b",
   "metadata": {},
   "outputs": [
    {
     "data": {
      "text/plain": [
       "[datetime.datetime(2021, 11, 26, 0, 0)]"
      ]
     },
     "execution_count": 8,
     "metadata": {},
     "output_type": "execute_result"
    }
   ],
   "source": [
    "run_dates = [(startDate + timedelta(days=ndays * x)) for x in range(1)]\n",
    "tokens = tokenList\n",
    "run_dates"
   ]
  },
  {
   "cell_type": "markdown",
   "id": "2939a62c-82b0-47a2-a2ea-e4faf8afddf3",
   "metadata": {},
   "source": [
    "create folder for output runs"
   ]
  },
  {
   "cell_type": "code",
   "execution_count": 9,
   "id": "998bbfc6-9c82-4a23-bb95-7c18529dc286",
   "metadata": {
    "tags": []
   },
   "outputs": [],
   "source": [
    "base_output_folder = os.path.expanduser('outputs')\n",
    "\n",
    "if not os.path.exists(base_output_folder):\n",
    "        os.makedirs(base_output_folder)"
   ]
  },
  {
   "cell_type": "code",
   "execution_count": 10,
   "id": "28c42125-1996-4604-a7ca-3998743cd44f",
   "metadata": {},
   "outputs": [
    {
     "name": "stdout",
     "output_type": "stream",
     "text": [
      "running for AAVE for date 2021-11-26 00:00:00 to 2021-12-10 00:00:00\r"
     ]
    },
    {
     "data": {
      "application/vnd.jupyter.widget-view+json": {
       "model_id": "0871527a44c747dea8c09bafb3c2e0b6",
       "version_major": 2,
       "version_minor": 0
      },
      "text/plain": [
       "Executing:   0%|          | 0/16 [00:00<?, ?cell/s]"
      ]
     },
     "metadata": {},
     "output_type": "display_data"
    },
    {
     "name": "stdout",
     "output_type": "stream",
     "text": [
      "running for ADA for date 2021-11-26 00:00:00 to 2021-12-10 00:00:00\r"
     ]
    },
    {
     "data": {
      "application/vnd.jupyter.widget-view+json": {
       "model_id": "57d56b10df674a6d90d4040c871174a6",
       "version_major": 2,
       "version_minor": 0
      },
      "text/plain": [
       "Executing:   0%|          | 0/16 [00:00<?, ?cell/s]"
      ]
     },
     "metadata": {},
     "output_type": "display_data"
    },
    {
     "name": "stdout",
     "output_type": "stream",
     "text": [
      "running for ATOM for date 2021-11-26 00:00:00 to 2021-12-10 00:00:00\r"
     ]
    },
    {
     "data": {
      "application/vnd.jupyter.widget-view+json": {
       "model_id": "fe9a28a2311b4479b99d4d0ed8459408",
       "version_major": 2,
       "version_minor": 0
      },
      "text/plain": [
       "Executing:   0%|          | 0/16 [00:00<?, ?cell/s]"
      ]
     },
     "metadata": {},
     "output_type": "display_data"
    },
    {
     "name": "stdout",
     "output_type": "stream",
     "text": [
      "running for AVAX for date 2021-11-26 00:00:00 to 2021-12-10 00:00:00\r"
     ]
    },
    {
     "data": {
      "application/vnd.jupyter.widget-view+json": {
       "model_id": "c91bc67ce3eb454b907513af3705b4c7",
       "version_major": 2,
       "version_minor": 0
      },
      "text/plain": [
       "Executing:   0%|          | 0/16 [00:00<?, ?cell/s]"
      ]
     },
     "metadata": {},
     "output_type": "display_data"
    },
    {
     "name": "stdout",
     "output_type": "stream",
     "text": [
      "running for BTC for date 2021-11-26 00:00:00 to 2021-12-10 00:00:00\r"
     ]
    },
    {
     "data": {
      "application/vnd.jupyter.widget-view+json": {
       "model_id": "179efa5e1a914c7a9d4f68e1d1f32fb4",
       "version_major": 2,
       "version_minor": 0
      },
      "text/plain": [
       "Executing:   0%|          | 0/16 [00:00<?, ?cell/s]"
      ]
     },
     "metadata": {},
     "output_type": "display_data"
    },
    {
     "name": "stdout",
     "output_type": "stream",
     "text": [
      "running for COMP for date 2021-11-26 00:00:00 to 2021-12-10 00:00:00\r"
     ]
    },
    {
     "data": {
      "application/vnd.jupyter.widget-view+json": {
       "model_id": "de18d514899845f08d7c390146adb83d",
       "version_major": 2,
       "version_minor": 0
      },
      "text/plain": [
       "Executing:   0%|          | 0/16 [00:00<?, ?cell/s]"
      ]
     },
     "metadata": {},
     "output_type": "display_data"
    },
    {
     "name": "stdout",
     "output_type": "stream",
     "text": [
      "running for CRV for date 2021-11-26 00:00:00 to 2021-12-10 00:00:00\r"
     ]
    },
    {
     "data": {
      "application/vnd.jupyter.widget-view+json": {
       "model_id": "02396200edd84afe875d78e27b65e4fb",
       "version_major": 2,
       "version_minor": 0
      },
      "text/plain": [
       "Executing:   0%|          | 0/16 [00:00<?, ?cell/s]"
      ]
     },
     "metadata": {},
     "output_type": "display_data"
    },
    {
     "name": "stdout",
     "output_type": "stream",
     "text": [
      "running for DOT for date 2021-11-26 00:00:00 to 2021-12-10 00:00:00\r"
     ]
    },
    {
     "data": {
      "application/vnd.jupyter.widget-view+json": {
       "model_id": "f13f1c7176404165aff6090cdee6822a",
       "version_major": 2,
       "version_minor": 0
      },
      "text/plain": [
       "Executing:   0%|          | 0/16 [00:00<?, ?cell/s]"
      ]
     },
     "metadata": {},
     "output_type": "display_data"
    },
    {
     "name": "stdout",
     "output_type": "stream",
     "text": [
      "running for ETH for date 2021-11-26 00:00:00 to 2021-12-10 00:00:00\r"
     ]
    },
    {
     "data": {
      "application/vnd.jupyter.widget-view+json": {
       "model_id": "f6aaa77293dc4fedba3d8bed6328096e",
       "version_major": 2,
       "version_minor": 0
      },
      "text/plain": [
       "Executing:   0%|          | 0/16 [00:00<?, ?cell/s]"
      ]
     },
     "metadata": {},
     "output_type": "display_data"
    },
    {
     "name": "stdout",
     "output_type": "stream",
     "text": [
      "running for SOL for date 2021-11-26 00:00:00 to 2021-12-10 00:00:00\r"
     ]
    },
    {
     "data": {
      "application/vnd.jupyter.widget-view+json": {
       "model_id": "f59c1eb319e54171a946d969801e11aa",
       "version_major": 2,
       "version_minor": 0
      },
      "text/plain": [
       "Executing:   0%|          | 0/16 [00:00<?, ?cell/s]"
      ]
     },
     "metadata": {},
     "output_type": "display_data"
    },
    {
     "name": "stdout",
     "output_type": "stream",
     "text": [
      "running for USDT for date 2021-11-26 00:00:00 to 2021-12-10 00:00:00\r"
     ]
    },
    {
     "data": {
      "application/vnd.jupyter.widget-view+json": {
       "model_id": "e564d84237e2446a9ab9b455a32426bf",
       "version_major": 2,
       "version_minor": 0
      },
      "text/plain": [
       "Executing:   0%|          | 0/16 [00:00<?, ?cell/s]"
      ]
     },
     "metadata": {},
     "output_type": "display_data"
    }
   ],
   "source": [
    "for run_date in run_dates:\n",
    "    for token in tokens:\n",
    "        print(f'running for {token} for date {run_date} to {run_date + timedelta(days=14)}', end='\\r')\n",
    "        res = pm.execute_notebook(\n",
    "            'hw_4_alex_mccall_template.ipynb',\n",
    "            f'{base_output_folder}/market_analysis_{token}_{run_date}.ipynb',\n",
    "            parameters = {\n",
    "                'from_date': f'{run_date}',\n",
    "                'to_date': f'{run_date + timedelta(days=ndays)}',\n",
    "                'token': token,\n",
    "                'connection_string': connection_string,\n",
    "                # 'events_db': events_db\n",
    "            }\n",
    "        )"
   ]
  },
  {
   "cell_type": "markdown",
   "id": "29ec66b0-8c23-47a7-b192-eab58def1cfc",
   "metadata": {},
   "source": [
    "collect data from notebooks and analyze"
   ]
  },
  {
   "cell_type": "code",
   "execution_count": 11,
   "id": "9904af87-7119-40f0-9a98-e50ab4941903",
   "metadata": {},
   "outputs": [],
   "source": [
    "nbs = sb.read_notebooks('outputs')"
   ]
  },
  {
   "cell_type": "code",
   "execution_count": 12,
   "id": "18a9839f-8bf3-4d24-92d4-015ac27edbd1",
   "metadata": {},
   "outputs": [
    {
     "data": {
      "text/html": [
       "<div>\n",
       "<style scoped>\n",
       "    .dataframe tbody tr th:only-of-type {\n",
       "        vertical-align: middle;\n",
       "    }\n",
       "\n",
       "    .dataframe tbody tr th {\n",
       "        vertical-align: top;\n",
       "    }\n",
       "\n",
       "    .dataframe thead th {\n",
       "        text-align: right;\n",
       "    }\n",
       "</style>\n",
       "<table border=\"1\" class=\"dataframe\">\n",
       "  <thead>\n",
       "    <tr style=\"text-align: right;\">\n",
       "      <th></th>\n",
       "      <th>token</th>\n",
       "      <th>from_date</th>\n",
       "      <th>to_date</th>\n",
       "      <th>avg_hrly_return</th>\n",
       "      <th>avg_hrly_volatility</th>\n",
       "      <th>max_drawdown</th>\n",
       "      <th>range_lastclose-firstclose</th>\n",
       "    </tr>\n",
       "  </thead>\n",
       "  <tbody>\n",
       "    <tr>\n",
       "      <th>0</th>\n",
       "      <td>AAVE</td>\n",
       "      <td>2021-11-26 00:00:00</td>\n",
       "      <td>2021-12-10 00:00:00</td>\n",
       "      <td>-1.220332e-03</td>\n",
       "      <td>0.214692</td>\n",
       "      <td>-0.365927</td>\n",
       "      <td>-83.7200</td>\n",
       "    </tr>\n",
       "    <tr>\n",
       "      <th>1</th>\n",
       "      <td>ADA</td>\n",
       "      <td>2021-11-26 00:00:00</td>\n",
       "      <td>2021-12-10 00:00:00</td>\n",
       "      <td>-8.135194e-04</td>\n",
       "      <td>0.215395</td>\n",
       "      <td>-0.270810</td>\n",
       "      <td>-0.3681</td>\n",
       "    </tr>\n",
       "    <tr>\n",
       "      <th>2</th>\n",
       "      <td>ATOM</td>\n",
       "      <td>2021-11-26 00:00:00</td>\n",
       "      <td>2021-12-10 00:00:00</td>\n",
       "      <td>-9.327062e-04</td>\n",
       "      <td>0.300376</td>\n",
       "      <td>-0.318250</td>\n",
       "      <td>-6.9340</td>\n",
       "    </tr>\n",
       "    <tr>\n",
       "      <th>3</th>\n",
       "      <td>AVAX</td>\n",
       "      <td>2021-11-26 00:00:00</td>\n",
       "      <td>2021-12-10 00:00:00</td>\n",
       "      <td>-1.117644e-03</td>\n",
       "      <td>0.306359</td>\n",
       "      <td>-0.385790</td>\n",
       "      <td>-32.7900</td>\n",
       "    </tr>\n",
       "    <tr>\n",
       "      <th>4</th>\n",
       "      <td>BTC</td>\n",
       "      <td>2021-11-26 00:00:00</td>\n",
       "      <td>2021-12-10 00:00:00</td>\n",
       "      <td>-6.503661e-04</td>\n",
       "      <td>0.152091</td>\n",
       "      <td>-0.210191</td>\n",
       "      <td>-11017.6200</td>\n",
       "    </tr>\n",
       "    <tr>\n",
       "      <th>5</th>\n",
       "      <td>COMP</td>\n",
       "      <td>2021-11-26 00:00:00</td>\n",
       "      <td>2021-12-10 00:00:00</td>\n",
       "      <td>-1.235754e-03</td>\n",
       "      <td>0.226777</td>\n",
       "      <td>-0.333968</td>\n",
       "      <td>-91.9800</td>\n",
       "    </tr>\n",
       "    <tr>\n",
       "      <th>6</th>\n",
       "      <td>CRV</td>\n",
       "      <td>2021-11-26 00:00:00</td>\n",
       "      <td>2021-12-10 00:00:00</td>\n",
       "      <td>-1.623725e-03</td>\n",
       "      <td>0.356971</td>\n",
       "      <td>-0.455827</td>\n",
       "      <td>-2.2364</td>\n",
       "    </tr>\n",
       "    <tr>\n",
       "      <th>7</th>\n",
       "      <td>DOT</td>\n",
       "      <td>2021-11-26 00:00:00</td>\n",
       "      <td>2021-12-10 00:00:00</td>\n",
       "      <td>-1.206551e-03</td>\n",
       "      <td>0.248847</td>\n",
       "      <td>-0.357445</td>\n",
       "      <td>-12.2390</td>\n",
       "    </tr>\n",
       "    <tr>\n",
       "      <th>8</th>\n",
       "      <td>ETH</td>\n",
       "      <td>2021-11-26 00:00:00</td>\n",
       "      <td>2021-12-10 00:00:00</td>\n",
       "      <td>-2.879175e-04</td>\n",
       "      <td>0.175245</td>\n",
       "      <td>-0.188101</td>\n",
       "      <td>-357.3800</td>\n",
       "    </tr>\n",
       "    <tr>\n",
       "      <th>9</th>\n",
       "      <td>SOL</td>\n",
       "      <td>2021-11-26 00:00:00</td>\n",
       "      <td>2021-12-10 00:00:00</td>\n",
       "      <td>-4.896815e-04</td>\n",
       "      <td>0.249007</td>\n",
       "      <td>-0.261363</td>\n",
       "      <td>-26.3790</td>\n",
       "    </tr>\n",
       "    <tr>\n",
       "      <th>10</th>\n",
       "      <td>USDT</td>\n",
       "      <td>2021-11-26 00:00:00</td>\n",
       "      <td>2021-12-10 00:00:00</td>\n",
       "      <td>-3.447145e-07</td>\n",
       "      <td>0.011497</td>\n",
       "      <td>-0.004874</td>\n",
       "      <td>-0.0001</td>\n",
       "    </tr>\n",
       "  </tbody>\n",
       "</table>\n",
       "</div>"
      ],
      "text/plain": [
       "   token            from_date              to_date  avg_hrly_return  \\\n",
       "0   AAVE  2021-11-26 00:00:00  2021-12-10 00:00:00    -1.220332e-03   \n",
       "1    ADA  2021-11-26 00:00:00  2021-12-10 00:00:00    -8.135194e-04   \n",
       "2   ATOM  2021-11-26 00:00:00  2021-12-10 00:00:00    -9.327062e-04   \n",
       "3   AVAX  2021-11-26 00:00:00  2021-12-10 00:00:00    -1.117644e-03   \n",
       "4    BTC  2021-11-26 00:00:00  2021-12-10 00:00:00    -6.503661e-04   \n",
       "5   COMP  2021-11-26 00:00:00  2021-12-10 00:00:00    -1.235754e-03   \n",
       "6    CRV  2021-11-26 00:00:00  2021-12-10 00:00:00    -1.623725e-03   \n",
       "7    DOT  2021-11-26 00:00:00  2021-12-10 00:00:00    -1.206551e-03   \n",
       "8    ETH  2021-11-26 00:00:00  2021-12-10 00:00:00    -2.879175e-04   \n",
       "9    SOL  2021-11-26 00:00:00  2021-12-10 00:00:00    -4.896815e-04   \n",
       "10  USDT  2021-11-26 00:00:00  2021-12-10 00:00:00    -3.447145e-07   \n",
       "\n",
       "    avg_hrly_volatility  max_drawdown  range_lastclose-firstclose  \n",
       "0              0.214692     -0.365927                    -83.7200  \n",
       "1              0.215395     -0.270810                     -0.3681  \n",
       "2              0.300376     -0.318250                     -6.9340  \n",
       "3              0.306359     -0.385790                    -32.7900  \n",
       "4              0.152091     -0.210191                 -11017.6200  \n",
       "5              0.226777     -0.333968                    -91.9800  \n",
       "6              0.356971     -0.455827                     -2.2364  \n",
       "7              0.248847     -0.357445                    -12.2390  \n",
       "8              0.175245     -0.188101                   -357.3800  \n",
       "9              0.249007     -0.261363                    -26.3790  \n",
       "10             0.011497     -0.004874                     -0.0001  "
      ]
     },
     "execution_count": 12,
     "metadata": {},
     "output_type": "execute_result"
    }
   ],
   "source": [
    "summary = pd.DataFrame([\n",
    "    pd.Series({\n",
    "        'token': scrap['token'].data,\n",
    "        'from_date': scrap['from_date'].data,\n",
    "        'to_date': scrap['to_date'].data,\n",
    "        # 'avg_hrly_return': scrap['prices'].data.return.mean(),\n",
    "        'avg_hrly_return': scrap['prices'].data['return'].mean(),\n",
    "        'avg_hrly_volatility': scrap['prices'].data.volatility.mean(),\n",
    "        'max_drawdown': scrap['prices'].data.maxdrawdown.iloc[-1],\n",
    "        'range_lastclose-firstclose': scrap['prices'].data.close.iloc[-1] - scrap['prices'].data.close.iloc[0]\n",
    "    }) \n",
    "    for book, scrap in nbs.notebook_scraps.items()\n",
    "])\n",
    "summary"
   ]
  },
  {
   "cell_type": "code",
   "execution_count": null,
   "id": "c9b5484c-b812-44cf-a476-3119318d7d98",
   "metadata": {},
   "outputs": [],
   "source": []
  }
 ],
 "metadata": {
  "kernelspec": {
   "display_name": "Python 3 (ipykernel)",
   "language": "python",
   "name": "python3"
  },
  "language_info": {
   "codemirror_mode": {
    "name": "ipython",
    "version": 3
   },
   "file_extension": ".py",
   "mimetype": "text/x-python",
   "name": "python",
   "nbconvert_exporter": "python",
   "pygments_lexer": "ipython3",
   "version": "3.8.12"
  }
 },
 "nbformat": 4,
 "nbformat_minor": 5
}
