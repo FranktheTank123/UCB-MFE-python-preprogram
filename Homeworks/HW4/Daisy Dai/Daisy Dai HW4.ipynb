{
 "cells": [
  {
   "cell_type": "markdown",
   "id": "ef8f8783",
   "metadata": {},
   "source": [
    "Create a jupyter notebook template to do the following - for a given token and date range:\n",
    "1. calculate the hourly return by timestamp\n",
    "2. calculate the hourly volatility (you can use the formula we went over in class)\n",
    "3. calculate maximum drawdown up to that hour for each hour\n",
    "4. then plot in a 2x2 grid:hourly return, hourly vol, maximum drawdown, close prices, color each day on the graph"
   ]
  },
  {
   "cell_type": "code",
   "execution_count": null,
   "id": "d6bfce9c",
   "metadata": {},
   "outputs": [],
   "source": [
    "import pandas as pd\n",
    "import numpy as np\n",
    "import sqlite3\n",
    "import scrapbook as sb \n",
    "import matplotlib.pyplot as plt\n",
    "from matplotlib import cm\n",
    "from matplotlib.dates import date2num, DateFormatter"
   ]
  },
  {
   "cell_type": "code",
   "execution_count": null,
   "id": "e762e7cd",
   "metadata": {},
   "outputs": [],
   "source": [
    "plt.style.use('ggplot')\n",
    "plt.tight_layout()\n",
    "plt.rcParams['figure.figsize'] = [20, 20]"
   ]
  },
  {
   "cell_type": "code",
   "execution_count": null,
   "id": "5bcc1a61",
   "metadata": {},
   "outputs": [],
   "source": [
    "%matplotlib inline"
   ]
  },
  {
   "cell_type": "code",
   "execution_count": null,
   "id": "de5395b5",
   "metadata": {
    "tags": [
     "parameters"
    ]
   },
   "outputs": [],
   "source": [
    "token = 'BTC'\n",
    "from_date = '2021-11-05'\n",
    "to_date = '2021-11-12'\n",
    "connection_string = 'sqlite:///data/data.db'"
   ]
  },
  {
   "cell_type": "code",
   "execution_count": null,
   "id": "6b48f254",
   "metadata": {},
   "outputs": [],
   "source": [
    "prices = pd.read_sql(f'''\n",
    "SELECT \n",
    "    * \n",
    "FROM ohlc \n",
    "WHERE \n",
    "    token = '{token}'\n",
    "    AND ts >= '{from_date}'\n",
    "    AND ts < '{to_date}'\n",
    "''', connection_string)\n",
    "prices['ts'] = pd.to_datetime(prices['ts'])\n",
    "\n",
    "prices.set_index('ts', inplace=True)"
   ]
  },
  {
   "cell_type": "code",
   "execution_count": null,
   "id": "220408dd",
   "metadata": {},
   "outputs": [],
   "source": [
    "prices"
   ]
  },
  {
   "cell_type": "markdown",
   "id": "bb37f19c",
   "metadata": {},
   "source": [
    "Here I used the same volatility definition as the one in the market analysis template. However, I set the lookback period to be 3."
   ]
  },
  {
   "cell_type": "code",
   "execution_count": null,
   "id": "7988f778",
   "metadata": {},
   "outputs": [],
   "source": [
    "def vol_ohlc(df, lookback=3):\n",
    "    o = df.open\n",
    "    h = df.high\n",
    "    l = df.low\n",
    "    c = df.close\n",
    "    \n",
    "    k = 0.34 / (1.34 + (lookback+1)/(lookback-1))\n",
    "    cc = np.log(c/c.shift(1))\n",
    "    ho = np.log(h/o)\n",
    "    lo = np.log(l/o)\n",
    "    co = np.log(c/o)\n",
    "    oc = np.log(o/c.shift(1))\n",
    "    oc_sq = oc**2\n",
    "    cc_sq = cc**2\n",
    "    rs = ho*(ho-co)+lo*(lo-co)\n",
    "    close_vol = cc_sq.rolling(lookback).sum() * (1.0 / (lookback - 1.0))\n",
    "    open_vol = oc_sq.rolling(lookback).sum() * (1.0 / (lookback - 1.0))\n",
    "    window_rs = rs.rolling(lookback).sum() * (1.0 / (lookback - 1.0))\n",
    "    result = (open_vol + k * close_vol + (1-k) * window_rs).apply(np.sqrt) * np.sqrt(252)\n",
    "    result[:lookback-1] = np.nan\n",
    "    \n",
    "    return result"
   ]
  },
  {
   "cell_type": "code",
   "execution_count": null,
   "id": "463602f6",
   "metadata": {},
   "outputs": [],
   "source": [
    "def series_plot(data, ax=None):\n",
    "    data.plot(ax=ax, legend=False)\n",
    "    ax.set_title(label=list(data.columns)[0], loc='left')\n",
    "    start_of_days = data.between_time('00:00:00', '00:00:00').index.to_list()\n",
    "    end_of_days = start_of_days[1:] + [data.index[-1]]\n",
    "    colors = iter(cm.rainbow(np.linspace(0, 1, len(start_of_days))))\n",
    "    \n",
    "    for x, y in zip(start_of_days, end_of_days):\n",
    "        color = next(colors)\n",
    "        ax.axvspan(x, y, color=color, alpha=0.1)"
   ]
  },
  {
   "cell_type": "code",
   "execution_count": null,
   "id": "593a512c",
   "metadata": {},
   "outputs": [],
   "source": [
    "prices['volatility']=vol_ohlc(prices)"
   ]
  },
  {
   "cell_type": "code",
   "execution_count": null,
   "id": "f7facc0c",
   "metadata": {},
   "outputs": [],
   "source": [
    "prices['hourly return'] = np.log(prices.close)-np.log(prices.open)"
   ]
  },
  {
   "cell_type": "code",
   "execution_count": null,
   "id": "515cbb7f",
   "metadata": {},
   "outputs": [],
   "source": [
    "prices['hourly drawdown'] = prices.high-prices.close"
   ]
  },
  {
   "cell_type": "code",
   "execution_count": null,
   "id": "cdb410d4",
   "metadata": {},
   "outputs": [],
   "source": [
    "prices['maximum drawdown']=0\n",
    "for i in range(prices.shape[0]):\n",
    "     prices['maximum drawdown'].iloc[i]=prices['hourly drawdown'].iloc[0:(i+1)].max()"
   ]
  },
  {
   "cell_type": "code",
   "execution_count": null,
   "id": "117d2ff3",
   "metadata": {},
   "outputs": [],
   "source": [
    "%%capture\n",
    "\n",
    "fig, ax = plt.subplots(nrows=2, ncols=2, figsize=(20, 20))"
   ]
  },
  {
   "cell_type": "code",
   "execution_count": null,
   "id": "5f554088",
   "metadata": {},
   "outputs": [],
   "source": [
    "series_plot(prices[['hourly return']], ax=ax[0,0])\n",
    "series_plot(prices[['volatility']], ax=ax[1,0])\n",
    "series_plot(prices[['maximum drawdown']], ax=ax[0,1])\n",
    "series_plot(prices[['close']], ax=ax[1,1])\n",
    "fig.suptitle(f'Market action for {token} between {from_date} and {to_date}')\n",
    "fig"
   ]
  },
  {
   "cell_type": "code",
   "execution_count": null,
   "id": "579e65d3",
   "metadata": {},
   "outputs": [],
   "source": [
    "sb.glue('token', token)\n",
    "sb.glue('from_date', from_date)\n",
    "sb.glue('to_date', to_date)\n",
    "sb.glue('prices', prices, encoder='pandas')\n",
    "sb.glue('summary_plot', fig, encoder='display', display=True)"
   ]
  },
  {
   "cell_type": "code",
   "execution_count": null,
   "id": "7abc8a7f",
   "metadata": {},
   "outputs": [],
   "source": []
  }
 ],
 "metadata": {
  "celltoolbar": "Tags",
  "kernelspec": {
   "display_name": "Python 3 (ipykernel)",
   "language": "python",
   "name": "python3"
  },
  "language_info": {
   "codemirror_mode": {
    "name": "ipython",
    "version": 3
   },
   "file_extension": ".py",
   "mimetype": "text/x-python",
   "name": "python",
   "nbconvert_exporter": "python",
   "pygments_lexer": "ipython3",
   "version": "3.10.0"
  }
 },
 "nbformat": 4,
 "nbformat_minor": 5
}
