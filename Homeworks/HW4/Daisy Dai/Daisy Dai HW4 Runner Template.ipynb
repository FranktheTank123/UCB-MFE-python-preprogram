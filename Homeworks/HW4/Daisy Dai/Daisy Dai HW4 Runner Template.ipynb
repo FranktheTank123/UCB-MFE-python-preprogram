{
 "cells": [
  {
   "cell_type": "code",
   "execution_count": 1,
   "id": "621f80f4",
   "metadata": {},
   "outputs": [
    {
     "name": "stderr",
     "output_type": "stream",
     "text": [
      "C:\\Users\\15103\\Conda\\envs\\lecture_4\\lib\\site-packages\\papermill\\iorw.py:50: FutureWarning: pyarrow.HadoopFileSystem is deprecated as of 2.0.0, please use pyarrow.fs.HadoopFileSystem instead.\n",
      "  from pyarrow import HadoopFileSystem\n"
     ]
    }
   ],
   "source": [
    "import papermill as pm\n",
    "import scrapbook as sb\n",
    "import pandas as pd\n",
    "from datetime import datetime, timedelta\n",
    "import os"
   ]
  },
  {
   "cell_type": "code",
   "execution_count": 2,
   "id": "b9bf1df1",
   "metadata": {},
   "outputs": [],
   "source": [
    "prices = pd.read_sql(f'''\n",
    "SELECT \n",
    "    * \n",
    "FROM ohlc\n",
    "''', 'sqlite:///data/data.db')\n",
    "prices['ts'] = pd.to_datetime(prices['ts'])\n",
    "\n",
    "prices.set_index('ts', inplace=True)"
   ]
  },
  {
   "cell_type": "code",
   "execution_count": 3,
   "id": "d699af61",
   "metadata": {},
   "outputs": [
    {
     "data": {
      "text/plain": [
       "array(['BTC', 'ETH', 'USDT', 'SOL', 'ADA', 'DOT', 'AVAX', 'ATOM', 'CRV',\n",
       "       'AAVE', 'COMP'], dtype=object)"
      ]
     },
     "execution_count": 3,
     "metadata": {},
     "output_type": "execute_result"
    }
   ],
   "source": [
    "prices.token.unique()"
   ]
  },
  {
   "cell_type": "code",
   "execution_count": 4,
   "id": "a01e49ed",
   "metadata": {},
   "outputs": [],
   "source": [
    "tokens=['BTC', 'ETH', 'USDT', 'SOL', 'ADA', 'DOT', 'AVAX', 'ATOM', 'CRV', 'AAVE', 'COMP']"
   ]
  },
  {
   "cell_type": "code",
   "execution_count": 5,
   "id": "a0a2c733",
   "metadata": {},
   "outputs": [
    {
     "data": {
      "text/html": [
       "<div>\n",
       "<style scoped>\n",
       "    .dataframe tbody tr th:only-of-type {\n",
       "        vertical-align: middle;\n",
       "    }\n",
       "\n",
       "    .dataframe tbody tr th {\n",
       "        vertical-align: top;\n",
       "    }\n",
       "\n",
       "    .dataframe thead th {\n",
       "        text-align: right;\n",
       "    }\n",
       "</style>\n",
       "<table border=\"1\" class=\"dataframe\">\n",
       "  <thead>\n",
       "    <tr style=\"text-align: right;\">\n",
       "      <th></th>\n",
       "      <th>open</th>\n",
       "      <th>high</th>\n",
       "      <th>low</th>\n",
       "      <th>close</th>\n",
       "      <th>volume</th>\n",
       "      <th>volumeUSD</th>\n",
       "      <th>token</th>\n",
       "      <th>chain</th>\n",
       "    </tr>\n",
       "    <tr>\n",
       "      <th>ts</th>\n",
       "      <th></th>\n",
       "      <th></th>\n",
       "      <th></th>\n",
       "      <th></th>\n",
       "      <th></th>\n",
       "      <th></th>\n",
       "      <th></th>\n",
       "      <th></th>\n",
       "    </tr>\n",
       "  </thead>\n",
       "  <tbody>\n",
       "    <tr>\n",
       "      <th>2021-12-15 00:00:00</th>\n",
       "      <td>48288.99</td>\n",
       "      <td>48398.68</td>\n",
       "      <td>48164.49</td>\n",
       "      <td>48219.09</td>\n",
       "      <td>106.582858</td>\n",
       "      <td>5.145144e+06</td>\n",
       "      <td>BTC</td>\n",
       "      <td>BTC</td>\n",
       "    </tr>\n",
       "    <tr>\n",
       "      <th>2021-12-14 23:00:00</th>\n",
       "      <td>48303.56</td>\n",
       "      <td>48482.90</td>\n",
       "      <td>48008.28</td>\n",
       "      <td>48288.99</td>\n",
       "      <td>675.097958</td>\n",
       "      <td>3.259071e+07</td>\n",
       "      <td>BTC</td>\n",
       "      <td>BTC</td>\n",
       "    </tr>\n",
       "    <tr>\n",
       "      <th>2021-12-14 22:00:00</th>\n",
       "      <td>47805.73</td>\n",
       "      <td>48686.91</td>\n",
       "      <td>47773.01</td>\n",
       "      <td>48303.57</td>\n",
       "      <td>1804.082095</td>\n",
       "      <td>8.714276e+07</td>\n",
       "      <td>BTC</td>\n",
       "      <td>BTC</td>\n",
       "    </tr>\n",
       "    <tr>\n",
       "      <th>2021-12-14 21:00:00</th>\n",
       "      <td>46875.95</td>\n",
       "      <td>47890.62</td>\n",
       "      <td>46856.37</td>\n",
       "      <td>47805.73</td>\n",
       "      <td>1634.610294</td>\n",
       "      <td>7.759534e+07</td>\n",
       "      <td>BTC</td>\n",
       "      <td>BTC</td>\n",
       "    </tr>\n",
       "    <tr>\n",
       "      <th>2021-12-14 20:00:00</th>\n",
       "      <td>46658.23</td>\n",
       "      <td>47086.98</td>\n",
       "      <td>46649.03</td>\n",
       "      <td>46877.70</td>\n",
       "      <td>783.748050</td>\n",
       "      <td>3.677161e+07</td>\n",
       "      <td>BTC</td>\n",
       "      <td>BTC</td>\n",
       "    </tr>\n",
       "    <tr>\n",
       "      <th>...</th>\n",
       "      <td>...</td>\n",
       "      <td>...</td>\n",
       "      <td>...</td>\n",
       "      <td>...</td>\n",
       "      <td>...</td>\n",
       "      <td>...</td>\n",
       "      <td>...</td>\n",
       "      <td>...</td>\n",
       "    </tr>\n",
       "    <tr>\n",
       "      <th>2021-11-01 04:00:00</th>\n",
       "      <td>60590.23</td>\n",
       "      <td>60655.00</td>\n",
       "      <td>59752.92</td>\n",
       "      <td>59971.89</td>\n",
       "      <td>621.419878</td>\n",
       "      <td>3.744744e+07</td>\n",
       "      <td>BTC</td>\n",
       "      <td>BTC</td>\n",
       "    </tr>\n",
       "    <tr>\n",
       "      <th>2021-11-01 03:00:00</th>\n",
       "      <td>61333.17</td>\n",
       "      <td>61457.28</td>\n",
       "      <td>60050.00</td>\n",
       "      <td>60589.06</td>\n",
       "      <td>1059.931358</td>\n",
       "      <td>6.414625e+07</td>\n",
       "      <td>BTC</td>\n",
       "      <td>BTC</td>\n",
       "    </tr>\n",
       "    <tr>\n",
       "      <th>2021-11-01 02:00:00</th>\n",
       "      <td>61610.94</td>\n",
       "      <td>61779.87</td>\n",
       "      <td>61299.89</td>\n",
       "      <td>61333.17</td>\n",
       "      <td>314.250720</td>\n",
       "      <td>1.935390e+07</td>\n",
       "      <td>BTC</td>\n",
       "      <td>BTC</td>\n",
       "    </tr>\n",
       "    <tr>\n",
       "      <th>2021-11-01 01:00:00</th>\n",
       "      <td>61346.17</td>\n",
       "      <td>61709.82</td>\n",
       "      <td>61171.22</td>\n",
       "      <td>61610.93</td>\n",
       "      <td>332.481185</td>\n",
       "      <td>2.044558e+07</td>\n",
       "      <td>BTC</td>\n",
       "      <td>BTC</td>\n",
       "    </tr>\n",
       "    <tr>\n",
       "      <th>2021-11-01 00:00:00</th>\n",
       "      <td>61421.37</td>\n",
       "      <td>61669.14</td>\n",
       "      <td>61239.60</td>\n",
       "      <td>61343.68</td>\n",
       "      <td>256.433869</td>\n",
       "      <td>1.575751e+07</td>\n",
       "      <td>BTC</td>\n",
       "      <td>BTC</td>\n",
       "    </tr>\n",
       "  </tbody>\n",
       "</table>\n",
       "<p>1057 rows × 8 columns</p>\n",
       "</div>"
      ],
      "text/plain": [
       "                         open      high       low     close       volume  \\\n",
       "ts                                                                         \n",
       "2021-12-15 00:00:00  48288.99  48398.68  48164.49  48219.09   106.582858   \n",
       "2021-12-14 23:00:00  48303.56  48482.90  48008.28  48288.99   675.097958   \n",
       "2021-12-14 22:00:00  47805.73  48686.91  47773.01  48303.57  1804.082095   \n",
       "2021-12-14 21:00:00  46875.95  47890.62  46856.37  47805.73  1634.610294   \n",
       "2021-12-14 20:00:00  46658.23  47086.98  46649.03  46877.70   783.748050   \n",
       "...                       ...       ...       ...       ...          ...   \n",
       "2021-11-01 04:00:00  60590.23  60655.00  59752.92  59971.89   621.419878   \n",
       "2021-11-01 03:00:00  61333.17  61457.28  60050.00  60589.06  1059.931358   \n",
       "2021-11-01 02:00:00  61610.94  61779.87  61299.89  61333.17   314.250720   \n",
       "2021-11-01 01:00:00  61346.17  61709.82  61171.22  61610.93   332.481185   \n",
       "2021-11-01 00:00:00  61421.37  61669.14  61239.60  61343.68   256.433869   \n",
       "\n",
       "                        volumeUSD token chain  \n",
       "ts                                             \n",
       "2021-12-15 00:00:00  5.145144e+06   BTC   BTC  \n",
       "2021-12-14 23:00:00  3.259071e+07   BTC   BTC  \n",
       "2021-12-14 22:00:00  8.714276e+07   BTC   BTC  \n",
       "2021-12-14 21:00:00  7.759534e+07   BTC   BTC  \n",
       "2021-12-14 20:00:00  3.677161e+07   BTC   BTC  \n",
       "...                           ...   ...   ...  \n",
       "2021-11-01 04:00:00  3.744744e+07   BTC   BTC  \n",
       "2021-11-01 03:00:00  6.414625e+07   BTC   BTC  \n",
       "2021-11-01 02:00:00  1.935390e+07   BTC   BTC  \n",
       "2021-11-01 01:00:00  2.044558e+07   BTC   BTC  \n",
       "2021-11-01 00:00:00  1.575751e+07   BTC   BTC  \n",
       "\n",
       "[1057 rows x 8 columns]"
      ]
     },
     "execution_count": 5,
     "metadata": {},
     "output_type": "execute_result"
    }
   ],
   "source": [
    "prices.loc[prices.token=='BTC'].sort_index(ascending=False)"
   ]
  },
  {
   "cell_type": "code",
   "execution_count": 6,
   "id": "ad4e1f23",
   "metadata": {},
   "outputs": [
    {
     "data": {
      "text/html": [
       "<div>\n",
       "<style scoped>\n",
       "    .dataframe tbody tr th:only-of-type {\n",
       "        vertical-align: middle;\n",
       "    }\n",
       "\n",
       "    .dataframe tbody tr th {\n",
       "        vertical-align: top;\n",
       "    }\n",
       "\n",
       "    .dataframe thead th {\n",
       "        text-align: right;\n",
       "    }\n",
       "</style>\n",
       "<table border=\"1\" class=\"dataframe\">\n",
       "  <thead>\n",
       "    <tr style=\"text-align: right;\">\n",
       "      <th></th>\n",
       "      <th>open</th>\n",
       "      <th>high</th>\n",
       "      <th>low</th>\n",
       "      <th>close</th>\n",
       "      <th>volume</th>\n",
       "      <th>volumeUSD</th>\n",
       "      <th>token</th>\n",
       "      <th>chain</th>\n",
       "    </tr>\n",
       "    <tr>\n",
       "      <th>ts</th>\n",
       "      <th></th>\n",
       "      <th></th>\n",
       "      <th></th>\n",
       "      <th></th>\n",
       "      <th></th>\n",
       "      <th></th>\n",
       "      <th></th>\n",
       "      <th></th>\n",
       "    </tr>\n",
       "  </thead>\n",
       "  <tbody>\n",
       "    <tr>\n",
       "      <th>2021-12-15 00:00:00</th>\n",
       "      <td>185.07</td>\n",
       "      <td>185.78</td>\n",
       "      <td>184.50</td>\n",
       "      <td>184.89</td>\n",
       "      <td>335.307</td>\n",
       "      <td>6.214264e+04</td>\n",
       "      <td>COMP</td>\n",
       "      <td>ETH</td>\n",
       "    </tr>\n",
       "    <tr>\n",
       "      <th>2021-12-14 23:00:00</th>\n",
       "      <td>185.22</td>\n",
       "      <td>186.09</td>\n",
       "      <td>183.88</td>\n",
       "      <td>185.08</td>\n",
       "      <td>416.028</td>\n",
       "      <td>7.698720e+04</td>\n",
       "      <td>COMP</td>\n",
       "      <td>ETH</td>\n",
       "    </tr>\n",
       "    <tr>\n",
       "      <th>2021-12-14 22:00:00</th>\n",
       "      <td>183.31</td>\n",
       "      <td>186.74</td>\n",
       "      <td>182.60</td>\n",
       "      <td>185.24</td>\n",
       "      <td>2086.017</td>\n",
       "      <td>3.865710e+05</td>\n",
       "      <td>COMP</td>\n",
       "      <td>ETH</td>\n",
       "    </tr>\n",
       "    <tr>\n",
       "      <th>2021-12-14 21:00:00</th>\n",
       "      <td>180.15</td>\n",
       "      <td>183.76</td>\n",
       "      <td>179.96</td>\n",
       "      <td>183.43</td>\n",
       "      <td>2453.455</td>\n",
       "      <td>4.447119e+05</td>\n",
       "      <td>COMP</td>\n",
       "      <td>ETH</td>\n",
       "    </tr>\n",
       "    <tr>\n",
       "      <th>2021-12-14 20:00:00</th>\n",
       "      <td>178.99</td>\n",
       "      <td>181.27</td>\n",
       "      <td>178.72</td>\n",
       "      <td>180.28</td>\n",
       "      <td>628.699</td>\n",
       "      <td>1.130815e+05</td>\n",
       "      <td>COMP</td>\n",
       "      <td>ETH</td>\n",
       "    </tr>\n",
       "    <tr>\n",
       "      <th>...</th>\n",
       "      <td>...</td>\n",
       "      <td>...</td>\n",
       "      <td>...</td>\n",
       "      <td>...</td>\n",
       "      <td>...</td>\n",
       "      <td>...</td>\n",
       "      <td>...</td>\n",
       "      <td>...</td>\n",
       "    </tr>\n",
       "    <tr>\n",
       "      <th>2021-11-01 04:00:00</th>\n",
       "      <td>336.20</td>\n",
       "      <td>337.04</td>\n",
       "      <td>327.40</td>\n",
       "      <td>327.75</td>\n",
       "      <td>2391.802</td>\n",
       "      <td>7.975887e+05</td>\n",
       "      <td>COMP</td>\n",
       "      <td>ETH</td>\n",
       "    </tr>\n",
       "    <tr>\n",
       "      <th>2021-11-01 03:00:00</th>\n",
       "      <td>343.79</td>\n",
       "      <td>344.64</td>\n",
       "      <td>332.70</td>\n",
       "      <td>335.81</td>\n",
       "      <td>3615.275</td>\n",
       "      <td>1.220542e+06</td>\n",
       "      <td>COMP</td>\n",
       "      <td>ETH</td>\n",
       "    </tr>\n",
       "    <tr>\n",
       "      <th>2021-11-01 02:00:00</th>\n",
       "      <td>345.72</td>\n",
       "      <td>350.47</td>\n",
       "      <td>343.00</td>\n",
       "      <td>343.46</td>\n",
       "      <td>2771.400</td>\n",
       "      <td>9.616592e+05</td>\n",
       "      <td>COMP</td>\n",
       "      <td>ETH</td>\n",
       "    </tr>\n",
       "    <tr>\n",
       "      <th>2021-11-01 01:00:00</th>\n",
       "      <td>346.51</td>\n",
       "      <td>347.44</td>\n",
       "      <td>343.20</td>\n",
       "      <td>345.54</td>\n",
       "      <td>1366.804</td>\n",
       "      <td>4.718005e+05</td>\n",
       "      <td>COMP</td>\n",
       "      <td>ETH</td>\n",
       "    </tr>\n",
       "    <tr>\n",
       "      <th>2021-11-01 00:00:00</th>\n",
       "      <td>341.11</td>\n",
       "      <td>346.53</td>\n",
       "      <td>338.97</td>\n",
       "      <td>346.33</td>\n",
       "      <td>2316.913</td>\n",
       "      <td>7.968014e+05</td>\n",
       "      <td>COMP</td>\n",
       "      <td>ETH</td>\n",
       "    </tr>\n",
       "  </tbody>\n",
       "</table>\n",
       "<p>1057 rows × 8 columns</p>\n",
       "</div>"
      ],
      "text/plain": [
       "                       open    high     low   close    volume     volumeUSD  \\\n",
       "ts                                                                            \n",
       "2021-12-15 00:00:00  185.07  185.78  184.50  184.89   335.307  6.214264e+04   \n",
       "2021-12-14 23:00:00  185.22  186.09  183.88  185.08   416.028  7.698720e+04   \n",
       "2021-12-14 22:00:00  183.31  186.74  182.60  185.24  2086.017  3.865710e+05   \n",
       "2021-12-14 21:00:00  180.15  183.76  179.96  183.43  2453.455  4.447119e+05   \n",
       "2021-12-14 20:00:00  178.99  181.27  178.72  180.28   628.699  1.130815e+05   \n",
       "...                     ...     ...     ...     ...       ...           ...   \n",
       "2021-11-01 04:00:00  336.20  337.04  327.40  327.75  2391.802  7.975887e+05   \n",
       "2021-11-01 03:00:00  343.79  344.64  332.70  335.81  3615.275  1.220542e+06   \n",
       "2021-11-01 02:00:00  345.72  350.47  343.00  343.46  2771.400  9.616592e+05   \n",
       "2021-11-01 01:00:00  346.51  347.44  343.20  345.54  1366.804  4.718005e+05   \n",
       "2021-11-01 00:00:00  341.11  346.53  338.97  346.33  2316.913  7.968014e+05   \n",
       "\n",
       "                    token chain  \n",
       "ts                               \n",
       "2021-12-15 00:00:00  COMP   ETH  \n",
       "2021-12-14 23:00:00  COMP   ETH  \n",
       "2021-12-14 22:00:00  COMP   ETH  \n",
       "2021-12-14 21:00:00  COMP   ETH  \n",
       "2021-12-14 20:00:00  COMP   ETH  \n",
       "...                   ...   ...  \n",
       "2021-11-01 04:00:00  COMP   ETH  \n",
       "2021-11-01 03:00:00  COMP   ETH  \n",
       "2021-11-01 02:00:00  COMP   ETH  \n",
       "2021-11-01 01:00:00  COMP   ETH  \n",
       "2021-11-01 00:00:00  COMP   ETH  \n",
       "\n",
       "[1057 rows x 8 columns]"
      ]
     },
     "execution_count": 6,
     "metadata": {},
     "output_type": "execute_result"
    }
   ],
   "source": [
    "prices.loc[prices.token=='COMP'].sort_index(ascending=False)"
   ]
  },
  {
   "cell_type": "markdown",
   "id": "7f24112b",
   "metadata": {},
   "source": [
    "It looks like the time range for each token is the same, so I can set the from-date and to-date the same for each token"
   ]
  },
  {
   "cell_type": "code",
   "execution_count": 7,
   "id": "e08e1f6a",
   "metadata": {},
   "outputs": [],
   "source": [
    "index = prices.loc[prices.token=='COMP'].sort_index(ascending=False).index"
   ]
  },
  {
   "cell_type": "code",
   "execution_count": 8,
   "id": "4b7fc2c9",
   "metadata": {},
   "outputs": [],
   "source": [
    "date = index.date\n",
    "to_date = date[0]-timedelta(days= date[0].weekday()) #get the last Monday in the time series \n",
    "from_date = to_date - timedelta(days=14) #get the third last Monday in the time series\n",
    "connection_string = 'sqlite:///data/data.db'"
   ]
  },
  {
   "cell_type": "code",
   "execution_count": 9,
   "id": "fba0efe0",
   "metadata": {},
   "outputs": [],
   "source": [
    "base_output_folder = os.path.expanduser('outputs')\n",
    "\n",
    "if not os.path.exists(base_output_folder):\n",
    "        os.makedirs(base_output_folder)"
   ]
  },
  {
   "cell_type": "code",
   "execution_count": 10,
   "id": "bae0b0ab",
   "metadata": {},
   "outputs": [
    {
     "name": "stdout",
     "output_type": "stream",
     "text": [
      "running for BTC for date 2021-11-29 to 2021-12-12\r"
     ]
    },
    {
     "data": {
      "application/vnd.jupyter.widget-view+json": {
       "model_id": "271377ccbdb047a7a25191622fd740d9",
       "version_major": 2,
       "version_minor": 0
      },
      "text/plain": [
       "Executing:   0%|          | 0/19 [00:00<?, ?cell/s]"
      ]
     },
     "metadata": {},
     "output_type": "display_data"
    },
    {
     "name": "stdout",
     "output_type": "stream",
     "text": [
      "running for ETH for date 2021-11-29 to 2021-12-12\r"
     ]
    },
    {
     "data": {
      "application/vnd.jupyter.widget-view+json": {
       "model_id": "498ed0556ce445e3a7b741446a4205e2",
       "version_major": 2,
       "version_minor": 0
      },
      "text/plain": [
       "Executing:   0%|          | 0/19 [00:00<?, ?cell/s]"
      ]
     },
     "metadata": {},
     "output_type": "display_data"
    },
    {
     "name": "stdout",
     "output_type": "stream",
     "text": [
      "running for USDT for date 2021-11-29 to 2021-12-12\r"
     ]
    },
    {
     "data": {
      "application/vnd.jupyter.widget-view+json": {
       "model_id": "90b37aa3d1f74c13a5adfb66bf0be18c",
       "version_major": 2,
       "version_minor": 0
      },
      "text/plain": [
       "Executing:   0%|          | 0/19 [00:00<?, ?cell/s]"
      ]
     },
     "metadata": {},
     "output_type": "display_data"
    },
    {
     "name": "stdout",
     "output_type": "stream",
     "text": [
      "running for SOL for date 2021-11-29 to 2021-12-12\r"
     ]
    },
    {
     "data": {
      "application/vnd.jupyter.widget-view+json": {
       "model_id": "9b81da476c25418c8a4014c24afb0a5e",
       "version_major": 2,
       "version_minor": 0
      },
      "text/plain": [
       "Executing:   0%|          | 0/19 [00:00<?, ?cell/s]"
      ]
     },
     "metadata": {},
     "output_type": "display_data"
    },
    {
     "name": "stdout",
     "output_type": "stream",
     "text": [
      "running for ADA for date 2021-11-29 to 2021-12-12\r"
     ]
    },
    {
     "data": {
      "application/vnd.jupyter.widget-view+json": {
       "model_id": "5368c5dec22748dba2786d7936ba6cc0",
       "version_major": 2,
       "version_minor": 0
      },
      "text/plain": [
       "Executing:   0%|          | 0/19 [00:00<?, ?cell/s]"
      ]
     },
     "metadata": {},
     "output_type": "display_data"
    },
    {
     "name": "stdout",
     "output_type": "stream",
     "text": [
      "running for DOT for date 2021-11-29 to 2021-12-12\r"
     ]
    },
    {
     "data": {
      "application/vnd.jupyter.widget-view+json": {
       "model_id": "de91f264b8d5419cad7a78a9ce163305",
       "version_major": 2,
       "version_minor": 0
      },
      "text/plain": [
       "Executing:   0%|          | 0/19 [00:00<?, ?cell/s]"
      ]
     },
     "metadata": {},
     "output_type": "display_data"
    },
    {
     "name": "stdout",
     "output_type": "stream",
     "text": [
      "running for AVAX for date 2021-11-29 to 2021-12-12\r"
     ]
    },
    {
     "data": {
      "application/vnd.jupyter.widget-view+json": {
       "model_id": "fbc39997ab3c4d16a40630ab05a5ba65",
       "version_major": 2,
       "version_minor": 0
      },
      "text/plain": [
       "Executing:   0%|          | 0/19 [00:00<?, ?cell/s]"
      ]
     },
     "metadata": {},
     "output_type": "display_data"
    },
    {
     "name": "stdout",
     "output_type": "stream",
     "text": [
      "running for ATOM for date 2021-11-29 to 2021-12-12\r"
     ]
    },
    {
     "data": {
      "application/vnd.jupyter.widget-view+json": {
       "model_id": "8bafb74a60ef405eba37a16313d0c2e0",
       "version_major": 2,
       "version_minor": 0
      },
      "text/plain": [
       "Executing:   0%|          | 0/19 [00:00<?, ?cell/s]"
      ]
     },
     "metadata": {},
     "output_type": "display_data"
    },
    {
     "name": "stdout",
     "output_type": "stream",
     "text": [
      "running for CRV for date 2021-11-29 to 2021-12-12\r"
     ]
    },
    {
     "data": {
      "application/vnd.jupyter.widget-view+json": {
       "model_id": "330e1e2664f84c35aa4b96ba7b86ab12",
       "version_major": 2,
       "version_minor": 0
      },
      "text/plain": [
       "Executing:   0%|          | 0/19 [00:00<?, ?cell/s]"
      ]
     },
     "metadata": {},
     "output_type": "display_data"
    },
    {
     "name": "stdout",
     "output_type": "stream",
     "text": [
      "running for AAVE for date 2021-11-29 to 2021-12-12\r"
     ]
    },
    {
     "data": {
      "application/vnd.jupyter.widget-view+json": {
       "model_id": "3fb1b1def6bf45ef905c5d5e0b8d9fc6",
       "version_major": 2,
       "version_minor": 0
      },
      "text/plain": [
       "Executing:   0%|          | 0/19 [00:00<?, ?cell/s]"
      ]
     },
     "metadata": {},
     "output_type": "display_data"
    },
    {
     "name": "stdout",
     "output_type": "stream",
     "text": [
      "running for COMP for date 2021-11-29 to 2021-12-12\r"
     ]
    },
    {
     "data": {
      "application/vnd.jupyter.widget-view+json": {
       "model_id": "e9a55939049246178595cf257e71e8f9",
       "version_major": 2,
       "version_minor": 0
      },
      "text/plain": [
       "Executing:   0%|          | 0/19 [00:00<?, ?cell/s]"
      ]
     },
     "metadata": {},
     "output_type": "display_data"
    }
   ],
   "source": [
    "for token in tokens:\n",
    "    print(f'running for {token} for date {from_date} to {to_date-timedelta(days=1)}', end='\\r')\n",
    "    res = pm.execute_notebook(\n",
    "        'Daisy Dai HW4.ipynb',\n",
    "        f'{base_output_folder}/market_analysis_{token}_{from_date}.ipynb',\n",
    "        parameters = {\n",
    "            'from_date': f'{from_date}',\n",
    "            'to_date': f'{to_date}',\n",
    "            'token': token,\n",
    "            'connection_string': connection_string,\n",
    "            }\n",
    "    )"
   ]
  },
  {
   "cell_type": "code",
   "execution_count": 11,
   "id": "966d4c1e",
   "metadata": {},
   "outputs": [],
   "source": [
    "nbs = sb.read_notebooks('outputs')"
   ]
  },
  {
   "cell_type": "code",
   "execution_count": 12,
   "id": "081f0c6b-634a-4a8d-a4e5-0c453c28c9b5",
   "metadata": {},
   "outputs": [
    {
     "data": {
      "text/html": [
       "<div>\n",
       "<style scoped>\n",
       "    .dataframe tbody tr th:only-of-type {\n",
       "        vertical-align: middle;\n",
       "    }\n",
       "\n",
       "    .dataframe tbody tr th {\n",
       "        vertical-align: top;\n",
       "    }\n",
       "\n",
       "    .dataframe thead th {\n",
       "        text-align: right;\n",
       "    }\n",
       "</style>\n",
       "<table border=\"1\" class=\"dataframe\">\n",
       "  <thead>\n",
       "    <tr style=\"text-align: right;\">\n",
       "      <th></th>\n",
       "      <th>token</th>\n",
       "      <th>from_date</th>\n",
       "      <th>to_date</th>\n",
       "      <th>average hourly return</th>\n",
       "      <th>average volatility</th>\n",
       "      <th>maximum drawdown</th>\n",
       "      <th>range</th>\n",
       "    </tr>\n",
       "  </thead>\n",
       "  <tbody>\n",
       "    <tr>\n",
       "      <th>0</th>\n",
       "      <td>AAVE</td>\n",
       "      <td>2021-11-29</td>\n",
       "      <td>2021-12-13</td>\n",
       "      <td>-0.000806</td>\n",
       "      <td>0.230765</td>\n",
       "      <td>15.4870</td>\n",
       "      <td>-58.6450</td>\n",
       "    </tr>\n",
       "    <tr>\n",
       "      <th>1</th>\n",
       "      <td>ADA</td>\n",
       "      <td>2021-11-29</td>\n",
       "      <td>2021-12-13</td>\n",
       "      <td>-0.000421</td>\n",
       "      <td>0.241399</td>\n",
       "      <td>0.1204</td>\n",
       "      <td>-0.2445</td>\n",
       "    </tr>\n",
       "    <tr>\n",
       "      <th>2</th>\n",
       "      <td>ATOM</td>\n",
       "      <td>2021-11-29</td>\n",
       "      <td>2021-12-13</td>\n",
       "      <td>-0.000271</td>\n",
       "      <td>0.333404</td>\n",
       "      <td>2.8710</td>\n",
       "      <td>-2.7560</td>\n",
       "    </tr>\n",
       "    <tr>\n",
       "      <th>3</th>\n",
       "      <td>AVAX</td>\n",
       "      <td>2021-11-29</td>\n",
       "      <td>2021-12-13</td>\n",
       "      <td>-0.000609</td>\n",
       "      <td>0.319050</td>\n",
       "      <td>7.4100</td>\n",
       "      <td>-22.9300</td>\n",
       "    </tr>\n",
       "    <tr>\n",
       "      <th>4</th>\n",
       "      <td>BTC</td>\n",
       "      <td>2021-11-29</td>\n",
       "      <td>2021-12-13</td>\n",
       "      <td>-0.000331</td>\n",
       "      <td>0.166549</td>\n",
       "      <td>2762.2400</td>\n",
       "      <td>-6999.8400</td>\n",
       "    </tr>\n",
       "    <tr>\n",
       "      <th>5</th>\n",
       "      <td>COMP</td>\n",
       "      <td>2021-11-29</td>\n",
       "      <td>2021-12-13</td>\n",
       "      <td>-0.001057</td>\n",
       "      <td>0.242214</td>\n",
       "      <td>23.0400</td>\n",
       "      <td>-88.2800</td>\n",
       "    </tr>\n",
       "    <tr>\n",
       "      <th>6</th>\n",
       "      <td>CRV</td>\n",
       "      <td>2021-11-29</td>\n",
       "      <td>2021-12-13</td>\n",
       "      <td>-0.000712</td>\n",
       "      <td>0.364842</td>\n",
       "      <td>0.4181</td>\n",
       "      <td>-1.0362</td>\n",
       "    </tr>\n",
       "    <tr>\n",
       "      <th>7</th>\n",
       "      <td>DOT</td>\n",
       "      <td>2021-11-29</td>\n",
       "      <td>2021-12-13</td>\n",
       "      <td>-0.000453</td>\n",
       "      <td>0.271552</td>\n",
       "      <td>2.3840</td>\n",
       "      <td>-6.0050</td>\n",
       "    </tr>\n",
       "    <tr>\n",
       "      <th>8</th>\n",
       "      <td>ETH</td>\n",
       "      <td>2021-11-29</td>\n",
       "      <td>2021-12-13</td>\n",
       "      <td>-0.000048</td>\n",
       "      <td>0.192750</td>\n",
       "      <td>187.8700</td>\n",
       "      <td>-141.7100</td>\n",
       "    </tr>\n",
       "    <tr>\n",
       "      <th>9</th>\n",
       "      <td>SOL</td>\n",
       "      <td>2021-11-29</td>\n",
       "      <td>2021-12-13</td>\n",
       "      <td>-0.000361</td>\n",
       "      <td>0.270302</td>\n",
       "      <td>17.3720</td>\n",
       "      <td>-26.6870</td>\n",
       "    </tr>\n",
       "    <tr>\n",
       "      <th>10</th>\n",
       "      <td>USDT</td>\n",
       "      <td>2021-11-29</td>\n",
       "      <td>2021-12-13</td>\n",
       "      <td>0.000004</td>\n",
       "      <td>0.009504</td>\n",
       "      <td>0.0196</td>\n",
       "      <td>-0.0001</td>\n",
       "    </tr>\n",
       "  </tbody>\n",
       "</table>\n",
       "</div>"
      ],
      "text/plain": [
       "   token   from_date     to_date  average hourly return  average volatility  \\\n",
       "0   AAVE  2021-11-29  2021-12-13              -0.000806            0.230765   \n",
       "1    ADA  2021-11-29  2021-12-13              -0.000421            0.241399   \n",
       "2   ATOM  2021-11-29  2021-12-13              -0.000271            0.333404   \n",
       "3   AVAX  2021-11-29  2021-12-13              -0.000609            0.319050   \n",
       "4    BTC  2021-11-29  2021-12-13              -0.000331            0.166549   \n",
       "5   COMP  2021-11-29  2021-12-13              -0.001057            0.242214   \n",
       "6    CRV  2021-11-29  2021-12-13              -0.000712            0.364842   \n",
       "7    DOT  2021-11-29  2021-12-13              -0.000453            0.271552   \n",
       "8    ETH  2021-11-29  2021-12-13              -0.000048            0.192750   \n",
       "9    SOL  2021-11-29  2021-12-13              -0.000361            0.270302   \n",
       "10  USDT  2021-11-29  2021-12-13               0.000004            0.009504   \n",
       "\n",
       "    maximum drawdown      range  \n",
       "0            15.4870   -58.6450  \n",
       "1             0.1204    -0.2445  \n",
       "2             2.8710    -2.7560  \n",
       "3             7.4100   -22.9300  \n",
       "4          2762.2400 -6999.8400  \n",
       "5            23.0400   -88.2800  \n",
       "6             0.4181    -1.0362  \n",
       "7             2.3840    -6.0050  \n",
       "8           187.8700  -141.7100  \n",
       "9            17.3720   -26.6870  \n",
       "10            0.0196    -0.0001  "
      ]
     },
     "execution_count": 12,
     "metadata": {},
     "output_type": "execute_result"
    }
   ],
   "source": [
    "pd.DataFrame([\n",
    "    pd.Series({\n",
    "        'token': scrap['token'].data,\n",
    "        'from_date': scrap['from_date'].data,\n",
    "        'to_date': scrap['to_date'].data,\n",
    "        'average hourly return': scrap['prices'].data['hourly return'].mean(),\n",
    "        'average volatility': scrap['prices'].data.volatility.mean(),\n",
    "        'maximum drawdown':scrap['prices'].data['maximum drawdown'][-1],\n",
    "        'range': scrap['prices'].data.close[-1] - scrap['prices'].data.close[0]}) \n",
    "    for book, scrap in nbs.notebook_scraps.items()\n",
    "])"
   ]
  },
  {
   "cell_type": "code",
   "execution_count": null,
   "id": "550a6910-a515-4b06-a398-f483c51b42a7",
   "metadata": {},
   "outputs": [],
   "source": []
  }
 ],
 "metadata": {
  "kernelspec": {
   "display_name": "Python 3 (ipykernel)",
   "language": "python",
   "name": "python3"
  },
  "language_info": {
   "codemirror_mode": {
    "name": "ipython",
    "version": 3
   },
   "file_extension": ".py",
   "mimetype": "text/x-python",
   "name": "python",
   "nbconvert_exporter": "python",
   "pygments_lexer": "ipython3",
   "version": "3.10.0"
  }
 },
 "nbformat": 4,
 "nbformat_minor": 5
}
