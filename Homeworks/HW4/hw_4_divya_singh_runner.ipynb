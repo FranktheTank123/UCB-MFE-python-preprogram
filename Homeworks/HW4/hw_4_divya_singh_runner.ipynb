{
 "cells": [
  {
   "cell_type": "code",
   "execution_count": 1,
   "id": "11967afc-c887-4efa-a195-763f45332715",
   "metadata": {},
   "outputs": [
    {
     "name": "stderr",
     "output_type": "stream",
     "text": [
      "/Users/rpsingh/anaconda3/lib/python3.9/site-packages/papermill/iorw.py:50: FutureWarning: pyarrow.HadoopFileSystem is deprecated as of 2.0.0, please use pyarrow.fs.HadoopFileSystem instead.\n",
      "  from pyarrow import HadoopFileSystem\n"
     ]
    }
   ],
   "source": [
    "import papermill as pm\n",
    "import scrapbook as sb\n",
    "import pandas as pd\n",
    "from datetime import datetime, timedelta\n",
    "import os, sqlite3"
   ]
  },
  {
   "cell_type": "code",
   "execution_count": 2,
   "id": "b756a29d-c1e6-4de7-a709-a5c1dd2e599f",
   "metadata": {},
   "outputs": [
    {
     "name": "stdout",
     "output_type": "stream",
     "text": [
      "/Users/rpsingh/Documents/MFE_PREPROGRAMS/python/Homeworks/UCB-MFE-python-preprogram/Lectures/Lecture 4/data/data.db\n"
     ]
    }
   ],
   "source": [
    "currentFolder = os.getcwd()\n",
    "homeFolder = os.path.dirname(os.path.dirname(os.path.dirname(currentFolder)))\n",
    "cnxString = f'{homeFolder}/UCB-MFE-python-preprogram/Lectures/Lecture 4/data/data.db'\n",
    "print (cnxString)\n",
    "\n",
    "events_db = 'crypto_events_database'"
   ]
  },
  {
   "cell_type": "code",
   "execution_count": 3,
   "id": "684cfc99-34e4-4079-bfaf-97f1f0194cac",
   "metadata": {},
   "outputs": [],
   "source": [
    "def last_dow(d: datetime, dow: int) -> datetime:\n",
    "    '''\n",
    "    Gets the date of the last day of week, using datetime convention of Monday is 0 and Sunday is 6\n",
    "    '''\n",
    "    dow_d = d.weekday()\n",
    "    days_delta = (7 - dow) + dow_d if dow_d < dow else dow_d - dow\n",
    "    return d - timedelta(days=days_delta)"
   ]
  },
  {
   "cell_type": "markdown",
   "id": "a70982d2-6f79-4b98-a1c1-61d20e2c2981",
   "metadata": {},
   "source": [
    "fetching latest date in db"
   ]
  },
  {
   "cell_type": "code",
   "execution_count": 4,
   "id": "988e7f88-e4bb-4703-ab77-c0e1f8f0ee23",
   "metadata": {},
   "outputs": [
    {
     "data": {
      "text/plain": [
       "Timestamp('2021-12-15 00:00:00')"
      ]
     },
     "execution_count": 4,
     "metadata": {},
     "output_type": "execute_result"
    }
   ],
   "source": [
    "connection = sqlite3.connect(cnxString)\n",
    "endDate = pd.to_datetime(pd.read_sql(f'''select max(ts) from ohlc''',connection).iloc[0,0])\n",
    "endDate"
   ]
  },
  {
   "cell_type": "code",
   "execution_count": 5,
   "id": "836b1c4e-2811-4db2-a7e9-a4441caf9b25",
   "metadata": {},
   "outputs": [
    {
     "data": {
      "text/plain": [
       "(Timestamp('2021-12-13 00:00:00'), Timestamp('2021-11-29 00:00:00'))"
      ]
     },
     "execution_count": 5,
     "metadata": {},
     "output_type": "execute_result"
    }
   ],
   "source": [
    "run_date = last_dow(endDate, 0)\n",
    "startDate = run_date - timedelta(days=14)\n",
    "run_date, startDate"
   ]
  },
  {
   "cell_type": "markdown",
   "id": "d28d148b-c42d-49bb-acd0-ef05be5229d9",
   "metadata": {},
   "source": [
    "checking for complete 2 weeks in the date range"
   ]
  },
  {
   "cell_type": "code",
   "execution_count": 6,
   "id": "07bb741c-7b4d-46cf-83cb-4b559129d341",
   "metadata": {},
   "outputs": [
    {
     "name": "stdout",
     "output_type": "stream",
     "text": [
      "             ts\n",
      "0    2021-11-29\n",
      "24   2021-11-30\n",
      "48   2021-12-01\n",
      "72   2021-12-02\n",
      "96   2021-12-03\n",
      "120  2021-12-04\n",
      "144  2021-12-05\n",
      "168  2021-12-06\n",
      "192  2021-12-07\n",
      "216  2021-12-08\n",
      "240  2021-12-09\n",
      "264  2021-12-10\n",
      "288  2021-12-11\n",
      "312  2021-12-12\n"
     ]
    }
   ],
   "source": [
    "dates = pd.read_sql(f'''select distinct ts from ohlc where ts between \\'{startDate.date()}\\' and \\'{run_date.date()}\\'''', connection)\n",
    "dates['ts'] = pd.to_datetime(dates['ts']).dt.date\n",
    "dates = dates.drop_duplicates()\n",
    "print (dates)"
   ]
  },
  {
   "cell_type": "code",
   "execution_count": 7,
   "id": "df74bcf4-57ed-4b61-86c7-d083363b47b5",
   "metadata": {},
   "outputs": [
    {
     "name": "stdout",
     "output_type": "stream",
     "text": [
      "['BTC', 'ETH', 'USDT', 'SOL', 'ADA', 'DOT', 'AVAX', 'ATOM', 'CRV', 'AAVE', 'COMP']\n"
     ]
    }
   ],
   "source": [
    "tokens = pd.read_sql(f'''select distinct token from ohlc''', connection)\n",
    "tokens = tokens.values.transpose().tolist()[0]\n",
    "pd.DataFrame(tokens,columns=['token'])\n",
    "print (tokens)"
   ]
  },
  {
   "cell_type": "code",
   "execution_count": 8,
   "id": "93e7a871-9029-4e1a-9326-b3b9947eeb9e",
   "metadata": {},
   "outputs": [],
   "source": [
    "base_output_folder = os.path.expanduser('outputs')\n",
    "\n",
    "if not os.path.exists(base_output_folder):\n",
    "        os.makedirs(base_output_folder)"
   ]
  },
  {
   "cell_type": "code",
   "execution_count": 9,
   "id": "3daba25d-0b02-4bd8-a177-338abbd86774",
   "metadata": {},
   "outputs": [
    {
     "name": "stdout",
     "output_type": "stream",
     "text": [
      "running for BTC for date 2021-11-29 00:00:00 to 2021-12-13 00:00:00\r"
     ]
    },
    {
     "name": "stderr",
     "output_type": "stream",
     "text": [
      "Input notebook does not contain a cell with tag 'parameters'\n"
     ]
    },
    {
     "data": {
      "application/vnd.jupyter.widget-view+json": {
       "model_id": "852e2455baad4938adf2dce8c12a2188",
       "version_major": 2,
       "version_minor": 0
      },
      "text/plain": [
       "Executing:   0%|          | 0/25 [00:00<?, ?cell/s]"
      ]
     },
     "metadata": {},
     "output_type": "display_data"
    },
    {
     "name": "stderr",
     "output_type": "stream",
     "text": [
      "Input notebook does not contain a cell with tag 'parameters'\n"
     ]
    },
    {
     "name": "stdout",
     "output_type": "stream",
     "text": [
      "running for ETH for date 2021-11-29 00:00:00 to 2021-12-13 00:00:00\r"
     ]
    },
    {
     "data": {
      "application/vnd.jupyter.widget-view+json": {
       "model_id": "0033f433d89f4feb824dabd6bebba343",
       "version_major": 2,
       "version_minor": 0
      },
      "text/plain": [
       "Executing:   0%|          | 0/25 [00:00<?, ?cell/s]"
      ]
     },
     "metadata": {},
     "output_type": "display_data"
    },
    {
     "name": "stderr",
     "output_type": "stream",
     "text": [
      "Input notebook does not contain a cell with tag 'parameters'\n"
     ]
    },
    {
     "name": "stdout",
     "output_type": "stream",
     "text": [
      "running for USDT for date 2021-11-29 00:00:00 to 2021-12-13 00:00:00\r"
     ]
    },
    {
     "data": {
      "application/vnd.jupyter.widget-view+json": {
       "model_id": "063b35b8488e4849b9be41877c52cc82",
       "version_major": 2,
       "version_minor": 0
      },
      "text/plain": [
       "Executing:   0%|          | 0/25 [00:00<?, ?cell/s]"
      ]
     },
     "metadata": {},
     "output_type": "display_data"
    },
    {
     "name": "stderr",
     "output_type": "stream",
     "text": [
      "Input notebook does not contain a cell with tag 'parameters'\n"
     ]
    },
    {
     "name": "stdout",
     "output_type": "stream",
     "text": [
      "running for SOL for date 2021-11-29 00:00:00 to 2021-12-13 00:00:00\r"
     ]
    },
    {
     "data": {
      "application/vnd.jupyter.widget-view+json": {
       "model_id": "92e5809866ba4666a7bf069a30215884",
       "version_major": 2,
       "version_minor": 0
      },
      "text/plain": [
       "Executing:   0%|          | 0/25 [00:00<?, ?cell/s]"
      ]
     },
     "metadata": {},
     "output_type": "display_data"
    },
    {
     "name": "stderr",
     "output_type": "stream",
     "text": [
      "Input notebook does not contain a cell with tag 'parameters'\n"
     ]
    },
    {
     "name": "stdout",
     "output_type": "stream",
     "text": [
      "running for ADA for date 2021-11-29 00:00:00 to 2021-12-13 00:00:00\r"
     ]
    },
    {
     "data": {
      "application/vnd.jupyter.widget-view+json": {
       "model_id": "6278f0f0fcdf403e8fde267afff5931e",
       "version_major": 2,
       "version_minor": 0
      },
      "text/plain": [
       "Executing:   0%|          | 0/25 [00:00<?, ?cell/s]"
      ]
     },
     "metadata": {},
     "output_type": "display_data"
    },
    {
     "name": "stderr",
     "output_type": "stream",
     "text": [
      "Input notebook does not contain a cell with tag 'parameters'\n"
     ]
    },
    {
     "name": "stdout",
     "output_type": "stream",
     "text": [
      "running for DOT for date 2021-11-29 00:00:00 to 2021-12-13 00:00:00\r"
     ]
    },
    {
     "data": {
      "application/vnd.jupyter.widget-view+json": {
       "model_id": "e1e2773aaebd4ce09a16fe41bfdb7ded",
       "version_major": 2,
       "version_minor": 0
      },
      "text/plain": [
       "Executing:   0%|          | 0/25 [00:00<?, ?cell/s]"
      ]
     },
     "metadata": {},
     "output_type": "display_data"
    },
    {
     "name": "stderr",
     "output_type": "stream",
     "text": [
      "Input notebook does not contain a cell with tag 'parameters'\n"
     ]
    },
    {
     "name": "stdout",
     "output_type": "stream",
     "text": [
      "running for AVAX for date 2021-11-29 00:00:00 to 2021-12-13 00:00:00\r"
     ]
    },
    {
     "data": {
      "application/vnd.jupyter.widget-view+json": {
       "model_id": "8b605c7b688c45d9afdd45bd02232b11",
       "version_major": 2,
       "version_minor": 0
      },
      "text/plain": [
       "Executing:   0%|          | 0/25 [00:00<?, ?cell/s]"
      ]
     },
     "metadata": {},
     "output_type": "display_data"
    },
    {
     "name": "stderr",
     "output_type": "stream",
     "text": [
      "Input notebook does not contain a cell with tag 'parameters'\n"
     ]
    },
    {
     "name": "stdout",
     "output_type": "stream",
     "text": [
      "running for ATOM for date 2021-11-29 00:00:00 to 2021-12-13 00:00:00\r"
     ]
    },
    {
     "data": {
      "application/vnd.jupyter.widget-view+json": {
       "model_id": "15d8c90ed81c4e0aa299bcab592cba62",
       "version_major": 2,
       "version_minor": 0
      },
      "text/plain": [
       "Executing:   0%|          | 0/25 [00:00<?, ?cell/s]"
      ]
     },
     "metadata": {},
     "output_type": "display_data"
    },
    {
     "name": "stderr",
     "output_type": "stream",
     "text": [
      "Input notebook does not contain a cell with tag 'parameters'\n"
     ]
    },
    {
     "name": "stdout",
     "output_type": "stream",
     "text": [
      "running for CRV for date 2021-11-29 00:00:00 to 2021-12-13 00:00:00\r"
     ]
    },
    {
     "data": {
      "application/vnd.jupyter.widget-view+json": {
       "model_id": "951f8b76e5fa47929d443e344bd901b3",
       "version_major": 2,
       "version_minor": 0
      },
      "text/plain": [
       "Executing:   0%|          | 0/25 [00:00<?, ?cell/s]"
      ]
     },
     "metadata": {},
     "output_type": "display_data"
    },
    {
     "name": "stderr",
     "output_type": "stream",
     "text": [
      "Input notebook does not contain a cell with tag 'parameters'\n"
     ]
    },
    {
     "name": "stdout",
     "output_type": "stream",
     "text": [
      "running for AAVE for date 2021-11-29 00:00:00 to 2021-12-13 00:00:00\r"
     ]
    },
    {
     "data": {
      "application/vnd.jupyter.widget-view+json": {
       "model_id": "0511cd8b89d54fa8af395420a4aa07e0",
       "version_major": 2,
       "version_minor": 0
      },
      "text/plain": [
       "Executing:   0%|          | 0/25 [00:00<?, ?cell/s]"
      ]
     },
     "metadata": {},
     "output_type": "display_data"
    },
    {
     "name": "stderr",
     "output_type": "stream",
     "text": [
      "Input notebook does not contain a cell with tag 'parameters'\n"
     ]
    },
    {
     "name": "stdout",
     "output_type": "stream",
     "text": [
      "running for COMP for date 2021-11-29 00:00:00 to 2021-12-13 00:00:00\r"
     ]
    },
    {
     "data": {
      "application/vnd.jupyter.widget-view+json": {
       "model_id": "b8aa6bbd5d544367945d11413cf7c9b9",
       "version_major": 2,
       "version_minor": 0
      },
      "text/plain": [
       "Executing:   0%|          | 0/25 [00:00<?, ?cell/s]"
      ]
     },
     "metadata": {},
     "output_type": "display_data"
    }
   ],
   "source": [
    "for token in tokens:\n",
    "        print(f'running for {token} for date {run_date - timedelta(days=14)} to {run_date}', end='\\r')\n",
    "        res = pm.execute_notebook(\n",
    "            'hw_4_divya_singh_template.ipynb',\n",
    "            f'{base_output_folder}/hw_4_divya_singh_{token}_{run_date}.ipynb',\n",
    "            parameters = {\n",
    "                'from_date': f'{run_date - timedelta(days=14)}',\n",
    "                'to_date': f'{run_date}',\n",
    "                'token': token,\n",
    "                'connection_string': cnxString,\n",
    "                'events_db': events_db\n",
    "            }\n",
    "        )"
   ]
  },
  {
   "cell_type": "code",
   "execution_count": 10,
   "id": "f41dcb88-e7a4-4cd9-be8c-785438018112",
   "metadata": {},
   "outputs": [],
   "source": [
    "nbs = sb.read_notebooks('outputs')"
   ]
  },
  {
   "cell_type": "code",
   "execution_count": 20,
   "id": "d4d04a3e-9535-497e-84b4-5727db7e8f13",
   "metadata": {},
   "outputs": [
    {
     "data": {
      "text/html": [
       "<div>\n",
       "<style scoped>\n",
       "    .dataframe tbody tr th:only-of-type {\n",
       "        vertical-align: middle;\n",
       "    }\n",
       "\n",
       "    .dataframe tbody tr th {\n",
       "        vertical-align: top;\n",
       "    }\n",
       "\n",
       "    .dataframe thead th {\n",
       "        text-align: right;\n",
       "    }\n",
       "</style>\n",
       "<table border=\"1\" class=\"dataframe\">\n",
       "  <thead>\n",
       "    <tr style=\"text-align: right;\">\n",
       "      <th></th>\n",
       "      <th>token</th>\n",
       "      <th>from_date</th>\n",
       "      <th>to_date</th>\n",
       "      <th>avg_hourly_return</th>\n",
       "      <th>avg_volatility</th>\n",
       "      <th>max_drawdown</th>\n",
       "      <th>spread</th>\n",
       "    </tr>\n",
       "  </thead>\n",
       "  <tbody>\n",
       "    <tr>\n",
       "      <th>0</th>\n",
       "      <td>BTC</td>\n",
       "      <td>2021-11-05</td>\n",
       "      <td>2021-11-11</td>\n",
       "      <td>0.000411</td>\n",
       "      <td>0.086268</td>\n",
       "      <td>-0.068122</td>\n",
       "      <td>3715.35</td>\n",
       "    </tr>\n",
       "    <tr>\n",
       "      <th>1</th>\n",
       "      <td>BTC</td>\n",
       "      <td>2021-11-05</td>\n",
       "      <td>2021-11-11</td>\n",
       "      <td>0.000411</td>\n",
       "      <td>0.086268</td>\n",
       "      <td>-0.068122</td>\n",
       "      <td>3715.35</td>\n",
       "    </tr>\n",
       "    <tr>\n",
       "      <th>2</th>\n",
       "      <td>BTC</td>\n",
       "      <td>2021-11-05</td>\n",
       "      <td>2021-11-11</td>\n",
       "      <td>0.000411</td>\n",
       "      <td>0.086268</td>\n",
       "      <td>-0.068122</td>\n",
       "      <td>3715.35</td>\n",
       "    </tr>\n",
       "    <tr>\n",
       "      <th>3</th>\n",
       "      <td>BTC</td>\n",
       "      <td>2021-11-05</td>\n",
       "      <td>2021-11-11</td>\n",
       "      <td>0.000411</td>\n",
       "      <td>0.086268</td>\n",
       "      <td>-0.068122</td>\n",
       "      <td>3715.35</td>\n",
       "    </tr>\n",
       "    <tr>\n",
       "      <th>4</th>\n",
       "      <td>BTC</td>\n",
       "      <td>2021-11-05</td>\n",
       "      <td>2021-11-11</td>\n",
       "      <td>0.000411</td>\n",
       "      <td>0.086268</td>\n",
       "      <td>-0.068122</td>\n",
       "      <td>3715.35</td>\n",
       "    </tr>\n",
       "    <tr>\n",
       "      <th>5</th>\n",
       "      <td>BTC</td>\n",
       "      <td>2021-11-05</td>\n",
       "      <td>2021-11-11</td>\n",
       "      <td>0.000411</td>\n",
       "      <td>0.086268</td>\n",
       "      <td>-0.068122</td>\n",
       "      <td>3715.35</td>\n",
       "    </tr>\n",
       "    <tr>\n",
       "      <th>6</th>\n",
       "      <td>BTC</td>\n",
       "      <td>2021-11-05</td>\n",
       "      <td>2021-11-11</td>\n",
       "      <td>0.000411</td>\n",
       "      <td>0.086268</td>\n",
       "      <td>-0.068122</td>\n",
       "      <td>3715.35</td>\n",
       "    </tr>\n",
       "    <tr>\n",
       "      <th>7</th>\n",
       "      <td>BTC</td>\n",
       "      <td>2021-11-05</td>\n",
       "      <td>2021-11-11</td>\n",
       "      <td>0.000411</td>\n",
       "      <td>0.086268</td>\n",
       "      <td>-0.068122</td>\n",
       "      <td>3715.35</td>\n",
       "    </tr>\n",
       "    <tr>\n",
       "      <th>8</th>\n",
       "      <td>BTC</td>\n",
       "      <td>2021-11-05</td>\n",
       "      <td>2021-11-11</td>\n",
       "      <td>0.000411</td>\n",
       "      <td>0.086268</td>\n",
       "      <td>-0.068122</td>\n",
       "      <td>3715.35</td>\n",
       "    </tr>\n",
       "    <tr>\n",
       "      <th>9</th>\n",
       "      <td>BTC</td>\n",
       "      <td>2021-11-05</td>\n",
       "      <td>2021-11-11</td>\n",
       "      <td>0.000411</td>\n",
       "      <td>0.086268</td>\n",
       "      <td>-0.068122</td>\n",
       "      <td>3715.35</td>\n",
       "    </tr>\n",
       "    <tr>\n",
       "      <th>10</th>\n",
       "      <td>BTC</td>\n",
       "      <td>2021-11-05</td>\n",
       "      <td>2021-11-11</td>\n",
       "      <td>0.000411</td>\n",
       "      <td>0.086268</td>\n",
       "      <td>-0.068122</td>\n",
       "      <td>3715.35</td>\n",
       "    </tr>\n",
       "  </tbody>\n",
       "</table>\n",
       "</div>"
      ],
      "text/plain": [
       "   token   from_date     to_date  avg_hourly_return  avg_volatility  \\\n",
       "0    BTC  2021-11-05  2021-11-11           0.000411        0.086268   \n",
       "1    BTC  2021-11-05  2021-11-11           0.000411        0.086268   \n",
       "2    BTC  2021-11-05  2021-11-11           0.000411        0.086268   \n",
       "3    BTC  2021-11-05  2021-11-11           0.000411        0.086268   \n",
       "4    BTC  2021-11-05  2021-11-11           0.000411        0.086268   \n",
       "5    BTC  2021-11-05  2021-11-11           0.000411        0.086268   \n",
       "6    BTC  2021-11-05  2021-11-11           0.000411        0.086268   \n",
       "7    BTC  2021-11-05  2021-11-11           0.000411        0.086268   \n",
       "8    BTC  2021-11-05  2021-11-11           0.000411        0.086268   \n",
       "9    BTC  2021-11-05  2021-11-11           0.000411        0.086268   \n",
       "10   BTC  2021-11-05  2021-11-11           0.000411        0.086268   \n",
       "\n",
       "    max_drawdown   spread  \n",
       "0      -0.068122  3715.35  \n",
       "1      -0.068122  3715.35  \n",
       "2      -0.068122  3715.35  \n",
       "3      -0.068122  3715.35  \n",
       "4      -0.068122  3715.35  \n",
       "5      -0.068122  3715.35  \n",
       "6      -0.068122  3715.35  \n",
       "7      -0.068122  3715.35  \n",
       "8      -0.068122  3715.35  \n",
       "9      -0.068122  3715.35  \n",
       "10     -0.068122  3715.35  "
      ]
     },
     "execution_count": 20,
     "metadata": {},
     "output_type": "execute_result"
    }
   ],
   "source": [
    "pd.DataFrame([\n",
    "    pd.Series({\n",
    "        'token': scrap['token'].data,\n",
    "        'from_date': scrap['from_date'].data,\n",
    "        'to_date': scrap['to_date'].data,\n",
    "        'avg_hourly_return': scrap['prices'].data.hourly_return.mean(),\n",
    "        'avg_volatility': scrap['prices'].data.hourly_volatility.mean(),\n",
    "        'max_drawdown': scrap['prices'].data.max_drawdown.min(),\n",
    "        'spread':scrap['prices'].data.close.iloc[-1] - scrap['prices'].data.close.iloc[0]})\n",
    "    for book, scrap in nbs.notebook_scraps.items()\n",
    "])"
   ]
  }
 ],
 "metadata": {
  "kernelspec": {
   "display_name": "Python 3 (ipykernel)",
   "language": "python",
   "name": "python3"
  },
  "language_info": {
   "codemirror_mode": {
    "name": "ipython",
    "version": 3
   },
   "file_extension": ".py",
   "mimetype": "text/x-python",
   "name": "python",
   "nbconvert_exporter": "python",
   "pygments_lexer": "ipython3",
   "version": "3.9.7"
  }
 },
 "nbformat": 4,
 "nbformat_minor": 5
}
