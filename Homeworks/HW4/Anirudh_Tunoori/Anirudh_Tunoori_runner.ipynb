{
 "cells": [
  {
   "cell_type": "code",
   "execution_count": null,
   "id": "44c22f86-48dc-4f83-9461-1c3fdbeab852",
   "metadata": {},
   "outputs": [],
   "source": [
    "import papermill as pm\n",
    "import scrapbook as sb\n",
    "import pandas as pd\n",
    "from datetime import datetime, timedelta\n",
    "from ipywidgets import FloatProgress\n",
    "import os"
   ]
  },
  {
   "cell_type": "code",
   "execution_count": null,
   "id": "5c0a40b8-3c84-4825-b963-dc94d3d71e35",
   "metadata": {},
   "outputs": [],
   "source": [
    "connection_string = 'sqlite:///data/data.db'"
   ]
  },
  {
   "cell_type": "code",
   "execution_count": null,
   "id": "a037f98e-170b-4753-982e-af2d12699bfe",
   "metadata": {},
   "outputs": [],
   "source": [
    "tokens = pd.read_sql(f'''\n",
    "SELECT o.token, MAX(o.ts) as end_date\n",
    "FROM ohlc o\n",
    "GROUP BY o.token\n",
    "''', connection_string)\n",
    "tokens['end_date'] = pd.to_datetime(tokens['end_date'])\n",
    "tokens['start_date'] = tokens['end_date'] - timedelta(days=14)\n",
    "tokens"
   ]
  },
  {
   "cell_type": "code",
   "execution_count": null,
   "id": "ae4e1a5a-0824-40d0-8d87-70a983a17971",
   "metadata": {},
   "outputs": [],
   "source": [
    "base_output_folder = os.path.expanduser('outputs')\n",
    "\n",
    "if not os.path.exists(base_output_folder):\n",
    "        os.makedirs(base_output_folder)"
   ]
  },
  {
   "cell_type": "code",
   "execution_count": null,
   "id": "b8db817a-0346-4ca9-b1c5-62877d765780",
   "metadata": {},
   "outputs": [],
   "source": [
    "for token in tokens['token'].tolist():\n",
    "    start = tokens[tokens['token'] == str(token)]['start_date'].values[0]\n",
    "    end = tokens[tokens['token'] == str(token)]['end_date'].values[0]\n",
    "    print(f'running for {token} for date {start} to {end}', end='\\r')\n",
    "    res = pm.execute_notebook(\n",
    "        'Anirudh_Tunoori_template.ipynb',\n",
    "        f'{base_output_folder}/market_analysis_{token}.ipynb',\n",
    "        parameters = {\n",
    "            'from_date': f'{start}',\n",
    "            'to_date': f'{end}',\n",
    "            'token': token,\n",
    "            'connection_string': connection_string,\n",
    "        }\n",
    "    )"
   ]
  },
  {
   "cell_type": "code",
   "execution_count": null,
   "id": "fd6eb0d9-9b52-4238-a714-afb57c6acdf4",
   "metadata": {},
   "outputs": [],
   "source": [
    "nbs = sb.read_notebooks('outputs')"
   ]
  },
  {
   "cell_type": "code",
   "execution_count": null,
   "id": "98b3eea3-1e8e-407a-b3ea-a130d3568229",
   "metadata": {},
   "outputs": [],
   "source": [
    "\n",
    "summary_all_runs = pd.DataFrame([\n",
    "    pd.Series({\n",
    "        'token': scrap['token'].data,\n",
    "        'from_date': scrap['from_date'].data,\n",
    "        'to_date': scrap['to_date'].data,\n",
    "        'avgHourlyReturn': scrap['prices'].data.hourlyReturn.mean(),\n",
    "        'avgHourlyVolatility': scrap['prices'].data.hourlyVolatility.mean(),\n",
    "        'maximumDrawdown': scrap['prices'].data.maxDrawdown.min(),\n",
    "        'closePriceRange': scrap['prices'].data.close.iloc[-1] - scrap['prices'].data.close.iloc[0]}) \n",
    "    for book, scrap in nbs.notebook_scraps.items()\n",
    "])\n",
    "summary_all_runs"
   ]
  },
  {
   "cell_type": "code",
   "execution_count": null,
   "id": "6ce38037-28bc-489e-84e0-dd2e4c14c703",
   "metadata": {},
   "outputs": [],
   "source": []
  }
 ],
 "metadata": {
  "kernelspec": {
   "display_name": "Python 3 (ipykernel)",
   "language": "python",
   "name": "python3"
  },
  "language_info": {
   "codemirror_mode": {
    "name": "ipython",
    "version": 3
   },
   "file_extension": ".py",
   "mimetype": "text/x-python",
   "name": "python",
   "nbconvert_exporter": "python",
   "pygments_lexer": "ipython3",
   "version": "3.8.12"
  }
 },
 "nbformat": 4,
 "nbformat_minor": 5
}
