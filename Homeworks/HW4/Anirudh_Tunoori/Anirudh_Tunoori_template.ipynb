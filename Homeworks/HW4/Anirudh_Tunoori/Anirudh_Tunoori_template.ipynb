{
 "cells": [
  {
   "cell_type": "code",
   "execution_count": null,
   "id": "309312f8-b17b-452d-b522-63493e75a2c3",
   "metadata": {},
   "outputs": [],
   "source": [
    "import pandas as pd\n",
    "import numpy as np\n",
    "import sqlite3\n",
    "import scrapbook as sb\n",
    "\n",
    "import matplotlib.pyplot as plt\n",
    "from matplotlib import cm\n",
    "from matplotlib.dates import date2num, DateFormatter\n",
    "from pandas.plotting import scatter_matrix\n",
    "\n",
    "plt.style.use('ggplot')\n",
    "plt.tight_layout()\n",
    "plt.rcParams['figure.figsize'] = [20, 20]\n",
    "\n",
    "%matplotlib inline"
   ]
  },
  {
   "cell_type": "code",
   "execution_count": null,
   "id": "c2bac245-74be-4981-a3b9-1e218ed1fe0a",
   "metadata": {
    "tags": [
     "parameters"
    ]
   },
   "outputs": [],
   "source": [
    "# Template Parameters defined here:\n",
    "token = 'BTC'\n",
    "from_date = '2021-12-01'\n",
    "to_date = '2021-12-15'\n",
    "connection_string = 'sqlite:///data/data.db'"
   ]
  },
  {
   "cell_type": "code",
   "execution_count": null,
   "id": "75d0aad2-d2b7-4476-b2cb-cadbb72b8dfc",
   "metadata": {},
   "outputs": [],
   "source": [
    "#Keeping Lookback defined to 10 periods (hours)\n",
    "def vol_ohlc(df, lookback=10):\n",
    "    o = df.open\n",
    "    h = df.high\n",
    "    l = df.low\n",
    "    c = df.close\n",
    "    \n",
    "    k = 0.34 / (1.34 + (lookback+1)/(lookback-1))\n",
    "    cc = np.log(c/c.shift(1))\n",
    "    ho = np.log(h/o)\n",
    "    lo = np.log(l/o)\n",
    "    co = np.log(c/o)\n",
    "    oc = np.log(o/c.shift(1))\n",
    "    oc_sq = oc**2\n",
    "    cc_sq = cc**2\n",
    "    rs = ho*(ho-co)+lo*(lo-co)\n",
    "    close_vol = cc_sq.rolling(lookback).sum() * (1.0 / (lookback - 1.0))\n",
    "    open_vol = oc_sq.rolling(lookback).sum() * (1.0 / (lookback - 1.0))\n",
    "    window_rs = rs.rolling(lookback).sum() * (1.0 / (lookback - 1.0))\n",
    "    result = (open_vol + k * close_vol + (1-k) * window_rs).apply(np.sqrt) * np.sqrt(252)\n",
    "    result[:lookback-1] = np.nan\n",
    "    \n",
    "    return result"
   ]
  },
  {
   "cell_type": "code",
   "execution_count": null,
   "id": "164a5100-03bb-4f40-90f7-e1ccdf7e8415",
   "metadata": {},
   "outputs": [],
   "source": [
    "# Using same plotting function from lecture 4\n",
    "def series_plot(data, events=None, ax=None):\n",
    "    data.plot(ax=ax)\n",
    "    start_of_days = data.between_time('00:00:00', '00:00:00').index.to_list()\n",
    "    end_of_days = start_of_days[1:] + [data.index[-1]]\n",
    "    colors = iter(cm.rainbow(np.linspace(0, 1, len(start_of_days))))\n",
    "    for x, y in zip(start_of_days, end_of_days):\n",
    "        color = next(colors)\n",
    "        ax.axvspan(x, y, color=color, alpha=0.1)"
   ]
  },
  {
   "cell_type": "code",
   "execution_count": null,
   "id": "5b4eac1f-3ff2-493b-998e-2c77e6ade363",
   "metadata": {},
   "outputs": [],
   "source": [
    "prices = pd.read_sql(f'''\n",
    "SELECT * FROM ohlc \n",
    "WHERE token = '{token}' AND ts >= '{from_date}' \n",
    "    AND ts < '{to_date}'\n",
    "ORDER BY ts\n",
    "''', connection_string)\n",
    "prices['ts'] = pd.to_datetime(prices['ts'])\n",
    "prices.set_index('ts', inplace=True)"
   ]
  },
  {
   "cell_type": "code",
   "execution_count": null,
   "id": "aa34e2f1-8186-43fa-a2b5-0ddac384bb53",
   "metadata": {},
   "outputs": [],
   "source": [
    "# Perform all hourly calculations for this time series here:\n",
    "prices['hourlyReturn'] = prices['close']/prices['close'].shift(1) - 1\n",
    "prices['hourlyVolatility'] = vol_ohlc(prices)\n",
    "# prices[\"peak\"] = prices['close'].cummax()\n",
    "# prices[\"hourlyDrawdown\"] = (prices['close'] - prices[\"peak\"]) / prices[\"peak\"]\n",
    "# prices[\"maxDrawdown\"] = prices[\"hourlyDrawdown\"].cummin()\n",
    "prices[\"maxDrawdown\"] = ((prices['close'] - prices['close'].cummax()) / prices['close'].cummax()).cummin()\n",
    "prices = prices[[\"close\", \"hourlyReturn\", \"hourlyVolatility\", \"maxDrawdown\", \"token\"]]"
   ]
  },
  {
   "cell_type": "code",
   "execution_count": null,
   "id": "7ebe46b2-56d6-482b-a187-1b5498970b84",
   "metadata": {},
   "outputs": [],
   "source": [
    "prices"
   ]
  },
  {
   "cell_type": "code",
   "execution_count": null,
   "id": "acb7ecd9-2eea-4573-9523-6b9df52dcccd",
   "metadata": {},
   "outputs": [],
   "source": [
    "%%capture\n",
    "fig, ax = plt.subplots(nrows=2, ncols=2, figsize=(15, 12))"
   ]
  },
  {
   "cell_type": "code",
   "execution_count": null,
   "id": "46a9ef7b-4e98-4e2a-9569-01a45a18d89d",
   "metadata": {},
   "outputs": [],
   "source": [
    "series_plot(prices[['hourlyReturn']], ax=ax[0, 0])\n",
    "series_plot(prices[['hourlyVolatility']], ax=ax[0, 1])\n",
    "series_plot(prices[['maxDrawdown']], ax=ax[1, 0])\n",
    "series_plot(prices[['close']], ax=ax[1, 1])\n",
    "fig.suptitle(f'Market action for {token} between {from_date} and {to_date}')\n",
    "fig"
   ]
  },
  {
   "cell_type": "code",
   "execution_count": null,
   "id": "a0ac2551-893b-4463-a08b-502c2ed338ec",
   "metadata": {},
   "outputs": [],
   "source": [
    "sb.glue('token', token)\n",
    "sb.glue('from_date', from_date)\n",
    "sb.glue('to_date', to_date)\n",
    "sb.glue('prices', prices, encoder='pandas')\n",
    "sb.glue('summary_plot', fig, encoder='display', display=False)"
   ]
  },
  {
   "cell_type": "code",
   "execution_count": null,
   "id": "b15276a8-c32b-44a8-8fdd-7b047a2ffee4",
   "metadata": {},
   "outputs": [],
   "source": []
  }
 ],
 "metadata": {
  "kernelspec": {
   "display_name": "Python 3 (ipykernel)",
   "language": "python",
   "name": "python3"
  },
  "language_info": {
   "codemirror_mode": {
    "name": "ipython",
    "version": 3
   },
   "file_extension": ".py",
   "mimetype": "text/x-python",
   "name": "python",
   "nbconvert_exporter": "python",
   "pygments_lexer": "ipython3",
   "version": "3.8.12"
  }
 },
 "nbformat": 4,
 "nbformat_minor": 5
}
