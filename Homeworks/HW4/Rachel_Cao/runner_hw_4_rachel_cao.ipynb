{
 "cells": [
  {
   "cell_type": "markdown",
   "id": "8acbf8d0-e765-489a-b138-0a38f832de2e",
   "metadata": {},
   "source": [
    "2. Create a runner notebook using papermill to run the template notebook across all tokens in the database and the last 2 complete weeks in the database.  Summarize the following in a single DataFrame in the runner notebook\n",
    "    - avg hourly return by run\n",
    "    - avg volatility by run\n",
    "    - maximum drawdown over the entire period of each run\n",
    "    - range of last close price - first close price"
   ]
  },
  {
   "cell_type": "markdown",
   "id": "7fe7f52b-ad27-41c9-91ba-91807acb4a70",
   "metadata": {},
   "source": [
    "# Rachel Cao   UCB-Preprogram Course Python HW4 due on 1/3/22 \n",
    "\n",
    "## Runner Notebook"
   ]
  },
  {
   "cell_type": "markdown",
   "id": "37fb7453-9c55-48a3-9568-d036168d238b",
   "metadata": {},
   "source": [
    "Create the imports for the notebook"
   ]
  },
  {
   "cell_type": "code",
   "execution_count": null,
   "id": "721167fa-47b7-44f1-ae2d-154da19d8d8a",
   "metadata": {},
   "outputs": [],
   "source": [
    "import papermill as pm\n",
    "import scrapbook as sb\n",
    "import pandas as pd\n",
    "from datetime import datetime, timedelta\n",
    "import os"
   ]
  },
  {
   "cell_type": "markdown",
   "id": "979054b8-812c-4bba-86e4-c2eedadc9240",
   "metadata": {},
   "source": [
    "## The last two complete weeks in the database\n",
    "\n",
    "This is Monday to Sunday, Monday is 0 and Sunday is 6"
   ]
  },
  {
   "cell_type": "code",
   "execution_count": null,
   "id": "0765afea-2d35-4d83-9250-5cdf58a743fe",
   "metadata": {},
   "outputs": [],
   "source": [
    "def last_day_of_week(d: datetime, dow: int) -> datetime:\n",
    "    #this is to find the last day of the week, [6]\n",
    "    dow_d = d.weekday()\n",
    "    days_delta = (7 - dow) + dow_d if dow_d < dow else dow_d - dow\n",
    "    return d - timedelta(days=days_delta)"
   ]
  },
  {
   "cell_type": "markdown",
   "id": "079ed697-2ccf-41f5-aa87-f84642615c2d",
   "metadata": {},
   "source": [
    "## Find the number of tokens in the database with SELECT distinct token FROM ohlc"
   ]
  },
  {
   "cell_type": "code",
   "execution_count": null,
   "id": "ea8de424-df88-49d7-9a13-56d8abe29e04",
   "metadata": {},
   "outputs": [],
   "source": [
    "run_dates = [(last_day_of_week(datetime(2021, 11, 1), 6) + timedelta(days=14)*x) for x in range(1)]\n",
    "tokens = ['BTC','ETH','USDT','SOL','ADA','DOT','AVAX','ATOM','CRV','AAVE','COMP']\n",
    "connection_string = 'sqlite:///data/data.db'\n",
    "#events_db = 'crypto_events_database'"
   ]
  },
  {
   "cell_type": "markdown",
   "id": "4874c594-2658-4a6f-ac8f-2a2e4a7b3d6b",
   "metadata": {},
   "source": [
    "The directory for the output folder"
   ]
  },
  {
   "cell_type": "code",
   "execution_count": null,
   "id": "319e79f2-e8a5-4809-ab80-af165570f5b0",
   "metadata": {},
   "outputs": [],
   "source": [
    "notebook4_output_folder = os.path.expanduser('hw4_outputs')\n",
    "\n",
    "if not os.path.exists(notebook4_output_folder):\n",
    "    os.makedirs(notebook4_output_folder)"
   ]
  },
  {
   "cell_type": "markdown",
   "id": "db8e3a0a-3e4b-4d78-b65b-d7e98ad1796a",
   "metadata": {},
   "source": [
    "### Run the same notebook code for each separate token\n",
    "\n",
    "The template notebook then becomes functional to output multiple notebooks, one for each token"
   ]
  },
  {
   "cell_type": "code",
   "execution_count": null,
   "id": "e1fb32f9-9e2b-4893-bfa1-fe5234b24290",
   "metadata": {},
   "outputs": [],
   "source": [
    "for run_date in run_dates:\n",
    "    for token in tokens:\n",
    "        print(f'running for {token} for date {run_date} to {run_date + timedelta(days=14)}', end = '\\r')\n",
    "        res = pm.execute_notebook(\n",
    "            'template_hw_4_rachel_cao',\n",
    "            f'{notebook4_output_folder}/template_hw_4_rachel_cao_{token}_{run_date}.ipynb',\n",
    "            parameters = {\n",
    "                'from_date' : f'{run_date}',\n",
    "                'to_date' : f'{run_date + timedelta(days=14)}',\n",
    "                'token' : token,\n",
    "                'connection_string' : connection_string\n",
    "                #'events_db' : events_db\n",
    "            }\n",
    "        )"
   ]
  },
  {
   "cell_type": "markdown",
   "id": "71325218-abb3-4f51-a7de-8621bcda1576",
   "metadata": {},
   "source": [
    "Let's check one of the notebooks"
   ]
  },
  {
   "cell_type": "code",
   "execution_count": null,
   "id": "74bffb0b-02bb-474d-8d2c-b8f23db70490",
   "metadata": {},
   "outputs": [],
   "source": [
    "nb = sb.read_notebook('hw4_outputs/template_hw_4_rachel_cao_BTC_2021-11-05 00:00:00.ipynb')"
   ]
  },
  {
   "cell_type": "code",
   "execution_count": null,
   "id": "a009e9cd-5c33-4888-a864-1dc20a751448",
   "metadata": {},
   "outputs": [],
   "source": [
    "nb.scraps['prices'].data"
   ]
  },
  {
   "cell_type": "markdown",
   "id": "91a74055-2487-45ad-acf0-d6b2cc2cd004",
   "metadata": {},
   "source": [
    "## Iterate through each of the notebooks in the output folder to create a notebooks object"
   ]
  },
  {
   "cell_type": "code",
   "execution_count": null,
   "id": "d65db906-e944-4afd-9323-64fba37ae951",
   "metadata": {},
   "outputs": [],
   "source": [
    "nbs = sb.read_notebooks('hw4_outputs')"
   ]
  },
  {
   "cell_type": "markdown",
   "id": "00ac2de6-6768-47fb-9b23-4c4cc71e2572",
   "metadata": {},
   "source": [
    "### Create a dataframe out of the notebooks"
   ]
  },
  {
   "cell_type": "code",
   "execution_count": null,
   "id": "9a85ddec-5379-4fa1-93e6-15c9467eb711",
   "metadata": {},
   "outputs": [],
   "source": [
    "pd.DataFrame([\n",
    "    pd.Series({\n",
    "        'token': scrap['token'].data,\n",
    "        'from_date': scrap['from_date'].data,\n",
    "        'to_date': scrap['to_date'].data,\n",
    "        'hourly_return': scrap['prices'].data.hourly_return.mean(),\n",
    "        'volatility': scrap['prices'].data.volatility.mean(),\n",
    "        'max_drawdown': scrap['prices'].data.max_drawdown.max(),\n",
    "        'range_close':scrap['prices'].data.close[-1] - scrap['prices'].data.close[0]\n",
    "    })\n",
    "    for book, scrap in nbs.notebook_scraps.items()\n",
    "])"
   ]
  }
 ],
 "metadata": {
  "kernelspec": {
   "display_name": "Python 3 (ipykernel)",
   "language": "python",
   "name": "python3"
  },
  "language_info": {
   "codemirror_mode": {
    "name": "ipython",
    "version": 3
   },
   "file_extension": ".py",
   "mimetype": "text/x-python",
   "name": "python",
   "nbconvert_exporter": "python",
   "pygments_lexer": "ipython3",
   "version": "3.9.7"
  }
 },
 "nbformat": 4,
 "nbformat_minor": 5
}
