{
 "cells": [
  {
   "cell_type": "markdown",
   "id": "6ea4f248-c349-4a15-99ef-af2d9e4cc8b1",
   "metadata": {},
   "source": [
    "# HW4\n",
    "Please do the following in a jupyter notebook and using the data from `data/data.db`\n",
    "\n",
    "1. Create a jupyter notebook template to do the following - for a given token and date range:\n",
    "    - calculate the hourly return by timestamp\n",
    "    - calculate the hourly volatility (you can use the formula we went over in class)\n",
    "    - calculate maximum drawdown up to that hour for each hour\n",
    "    - then plot in a 2x2 grid:\n",
    "        - hourly return\n",
    "        - hourly vol\n",
    "        - maximum drawdown\n",
    "        - close prices\n",
    "        - color each day on the graph\n",
    "2. Create a runner notebook using papermill to run the template notebook across all tokens in the database and the last 2 complete weeks in the database.  Summarize the following in a single DataFrame in the runner notebook\n",
    "    - avg hourly return by run\n",
    "    - avg volatility by run\n",
    "    - maximum drawdown over the entire period of each run\n",
    "    - range of last close price - first close price"
   ]
  },
  {
   "cell_type": "markdown",
   "id": "87898726-07d8-4219-b5bd-7b97d080b511",
   "metadata": {},
   "source": [
    "# Rachel Cao UCB-Preprogram Course Python HW4 due on 1/3/22 \n",
    "\n",
    "## Template Notebook"
   ]
  },
  {
   "cell_type": "markdown",
   "id": "ad7bf54a-eae3-4612-9b4e-69494a7dacd7",
   "metadata": {},
   "source": [
    "Let's create a cell with all of the necessary imports for this notebook."
   ]
  },
  {
   "cell_type": "code",
   "execution_count": 3,
   "id": "9f985af5-ee13-4604-930d-d09de5302d96",
   "metadata": {},
   "outputs": [],
   "source": [
    "import pandas as pd\n",
    "import numpy as np\n",
    "import sqlite3\n",
    "import gspread\n",
    "import scrapbook as sb\n",
    "\n",
    "import matplotlib.pyplot as plt\n",
    "from matplotlib import cm\n",
    "from matplotlib.dates import date2num, DateFormatter\n",
    "\n",
    "plt.style.use('ggplot')\n",
    "plt.tight_layout\n",
    "\n",
    "%matplotlib inline"
   ]
  },
  {
   "cell_type": "markdown",
   "id": "fb266073-ab4a-4033-85d9-025b1c56c9b0",
   "metadata": {},
   "source": [
    "## Let's look at the data.db file"
   ]
  },
  {
   "cell_type": "code",
   "execution_count": 1,
   "id": "40684fbe-97d1-437e-8016-bef6f9def775",
   "metadata": {},
   "outputs": [],
   "source": [
    "%load_ext sql"
   ]
  },
  {
   "cell_type": "code",
   "execution_count": 11,
   "id": "9d55b544-759f-43a7-a59d-9f0c3ffec67b",
   "metadata": {},
   "outputs": [
    {
     "name": "stdout",
     "output_type": "stream",
     "text": [
      "Done.\n"
     ]
    },
    {
     "data": {
      "text/html": [
       "<table>\n",
       "    <tr>\n",
       "        <th>ts</th>\n",
       "        <th>open</th>\n",
       "        <th>high</th>\n",
       "        <th>low</th>\n",
       "        <th>close</th>\n",
       "        <th>volume</th>\n",
       "        <th>volumeUSD</th>\n",
       "        <th>token</th>\n",
       "        <th>chain</th>\n",
       "    </tr>\n",
       "    <tr>\n",
       "        <td>2021-11-01 00:00:00</td>\n",
       "        <td>61421.37</td>\n",
       "        <td>61669.14</td>\n",
       "        <td>61239.6</td>\n",
       "        <td>61343.68</td>\n",
       "        <td>256.43386884</td>\n",
       "        <td>15757506.49252652</td>\n",
       "        <td>BTC</td>\n",
       "        <td>BTC</td>\n",
       "    </tr>\n",
       "    <tr>\n",
       "        <td>2021-11-01 01:00:00</td>\n",
       "        <td>61346.17</td>\n",
       "        <td>61709.82</td>\n",
       "        <td>61171.22</td>\n",
       "        <td>61610.93</td>\n",
       "        <td>332.48118498</td>\n",
       "        <td>20445578.51330501</td>\n",
       "        <td>BTC</td>\n",
       "        <td>BTC</td>\n",
       "    </tr>\n",
       "    <tr>\n",
       "        <td>2021-11-01 02:00:00</td>\n",
       "        <td>61610.94</td>\n",
       "        <td>61779.87</td>\n",
       "        <td>61299.89</td>\n",
       "        <td>61333.17</td>\n",
       "        <td>314.25071995</td>\n",
       "        <td>19353904.091577783</td>\n",
       "        <td>BTC</td>\n",
       "        <td>BTC</td>\n",
       "    </tr>\n",
       "    <tr>\n",
       "        <td>2021-11-01 03:00:00</td>\n",
       "        <td>61333.17</td>\n",
       "        <td>61457.28</td>\n",
       "        <td>60050.0</td>\n",
       "        <td>60589.06</td>\n",
       "        <td>1059.93135838</td>\n",
       "        <td>64146246.7043883</td>\n",
       "        <td>BTC</td>\n",
       "        <td>BTC</td>\n",
       "    </tr>\n",
       "    <tr>\n",
       "        <td>2021-11-01 04:00:00</td>\n",
       "        <td>60590.23</td>\n",
       "        <td>60655.0</td>\n",
       "        <td>59752.92</td>\n",
       "        <td>59971.89</td>\n",
       "        <td>621.41987775</td>\n",
       "        <td>37447441.40394106</td>\n",
       "        <td>BTC</td>\n",
       "        <td>BTC</td>\n",
       "    </tr>\n",
       "</table>"
      ],
      "text/plain": [
       "[('2021-11-01 00:00:00', 61421.37, 61669.14, 61239.6, 61343.68, 256.43386884, 15757506.49252652, 'BTC', 'BTC'),\n",
       " ('2021-11-01 01:00:00', 61346.17, 61709.82, 61171.22, 61610.93, 332.48118498, 20445578.51330501, 'BTC', 'BTC'),\n",
       " ('2021-11-01 02:00:00', 61610.94, 61779.87, 61299.89, 61333.17, 314.25071995, 19353904.091577783, 'BTC', 'BTC'),\n",
       " ('2021-11-01 03:00:00', 61333.17, 61457.28, 60050.0, 60589.06, 1059.93135838, 64146246.7043883, 'BTC', 'BTC'),\n",
       " ('2021-11-01 04:00:00', 60590.23, 60655.0, 59752.92, 59971.89, 621.41987775, 37447441.40394106, 'BTC', 'BTC')]"
      ]
     },
     "execution_count": 11,
     "metadata": {},
     "output_type": "execute_result"
    }
   ],
   "source": [
    "%%sql sqlite:///data/data.db\n",
    "\n",
    "SELECT * FROM ohlc WHERE token='BTC' LIMIT 5"
   ]
  },
  {
   "cell_type": "code",
   "execution_count": 8,
   "id": "3894dd14-13d0-44d8-94ba-051212f24400",
   "metadata": {},
   "outputs": [],
   "source": [
    "conn = sqlite3.connect('data/data.db')\n",
    "cur = conn.cursor()"
   ]
  },
  {
   "cell_type": "markdown",
   "id": "7f3e82b1-09fa-43f0-8e71-3eb0e171f414",
   "metadata": {},
   "source": [
    "### Table names are:"
   ]
  },
  {
   "cell_type": "code",
   "execution_count": 12,
   "id": "a297db63-b108-4111-b088-dc5b413fd18b",
   "metadata": {},
   "outputs": [
    {
     "name": "stdout",
     "output_type": "stream",
     "text": [
      "('ohlc',)\n",
      "('market_caps',)\n"
     ]
    }
   ],
   "source": [
    "for row in cur.execute('SELECT name FROM sqlite_master'):\n",
    "    print(row)"
   ]
  },
  {
   "cell_type": "markdown",
   "id": "8fb98893-eeaf-453d-8b00-4512c970a0ed",
   "metadata": {},
   "source": [
    "### Database schema layout is:"
   ]
  },
  {
   "cell_type": "code",
   "execution_count": 13,
   "id": "d7a53c00-5191-42d6-8927-3f38c15ccbde",
   "metadata": {},
   "outputs": [
    {
     "name": "stdout",
     "output_type": "stream",
     "text": [
      "('CREATE TABLE \"ohlc\" (\\n\"ts\" TIMESTAMP,\\n  \"open\" REAL,\\n  \"high\" REAL,\\n  \"low\" REAL,\\n  \"close\" REAL,\\n  \"volume\" REAL,\\n  \"volumeUSD\" REAL,\\n  \"token\" TEXT,\\n  \"chain\" TEXT\\n)',)\n",
      "('CREATE TABLE market_caps (\\n\\t\"Rank\" BIGINT, \\n\\t\"Name\" TEXT, \\n\\t\"Symbol\" TEXT, \\n\\t\"MarketCap\" FLOAT, \\n\\t\"Price\" FLOAT, \\n\\t\"VolumeUSD\" FLOAT\\n)',)\n"
     ]
    }
   ],
   "source": [
    "for row in cur.execute('SELECT sql FROM sqlite_master'):\n",
    "    print(row)"
   ]
  },
  {
   "cell_type": "markdown",
   "id": "622cdd88-1afe-401a-a349-04463c4806db",
   "metadata": {},
   "source": [
    "## Find the tokens"
   ]
  },
  {
   "cell_type": "code",
   "execution_count": 80,
   "id": "90cef3ed-5d57-4e9c-b9c5-8177b5a4b062",
   "metadata": {},
   "outputs": [
    {
     "name": "stdout",
     "output_type": "stream",
     "text": [
      "Done.\n"
     ]
    },
    {
     "data": {
      "text/html": [
       "<table>\n",
       "    <tr>\n",
       "        <th>token</th>\n",
       "    </tr>\n",
       "    <tr>\n",
       "        <td>BTC</td>\n",
       "    </tr>\n",
       "    <tr>\n",
       "        <td>ETH</td>\n",
       "    </tr>\n",
       "    <tr>\n",
       "        <td>USDT</td>\n",
       "    </tr>\n",
       "    <tr>\n",
       "        <td>SOL</td>\n",
       "    </tr>\n",
       "    <tr>\n",
       "        <td>ADA</td>\n",
       "    </tr>\n",
       "    <tr>\n",
       "        <td>DOT</td>\n",
       "    </tr>\n",
       "    <tr>\n",
       "        <td>AVAX</td>\n",
       "    </tr>\n",
       "    <tr>\n",
       "        <td>ATOM</td>\n",
       "    </tr>\n",
       "    <tr>\n",
       "        <td>CRV</td>\n",
       "    </tr>\n",
       "    <tr>\n",
       "        <td>AAVE</td>\n",
       "    </tr>\n",
       "    <tr>\n",
       "        <td>COMP</td>\n",
       "    </tr>\n",
       "</table>"
      ],
      "text/plain": [
       "[('BTC',),\n",
       " ('ETH',),\n",
       " ('USDT',),\n",
       " ('SOL',),\n",
       " ('ADA',),\n",
       " ('DOT',),\n",
       " ('AVAX',),\n",
       " ('ATOM',),\n",
       " ('CRV',),\n",
       " ('AAVE',),\n",
       " ('COMP',)]"
      ]
     },
     "execution_count": 80,
     "metadata": {},
     "output_type": "execute_result"
    }
   ],
   "source": [
    "%%sql sqlite:///data/data.db\n",
    "\n",
    "SELECT Distinct token FROM ohlc"
   ]
  },
  {
   "cell_type": "code",
   "execution_count": 85,
   "id": "00289681-d79f-42fc-bfc9-cbf96899cd11",
   "metadata": {},
   "outputs": [
    {
     "data": {
      "text/plain": [
       "0      BTC\n",
       "1      ETH\n",
       "2     USDT\n",
       "3      SOL\n",
       "4      ADA\n",
       "5      DOT\n",
       "6     AVAX\n",
       "7     ATOM\n",
       "8      CRV\n",
       "9     AAVE\n",
       "10    COMP\n",
       "Name: token, dtype: object"
      ]
     },
     "execution_count": 85,
     "metadata": {},
     "output_type": "execute_result"
    }
   ],
   "source": [
    "tokens = pd.read_sql(\"SELECT Distinct token FROM ohlc\", connection_string)\n",
    "s = tokens.squeeze()\n",
    "s"
   ]
  },
  {
   "cell_type": "code",
   "execution_count": 44,
   "id": "fad56009-6abd-4321-8d9a-26292a1e9620",
   "metadata": {},
   "outputs": [
    {
     "name": "stdout",
     "output_type": "stream",
     "text": [
      "Done.\n"
     ]
    },
    {
     "data": {
      "text/html": [
       "<table>\n",
       "    <tr>\n",
       "        <th>Rank</th>\n",
       "        <th>Name</th>\n",
       "        <th>Symbol</th>\n",
       "        <th>MarketCap</th>\n",
       "        <th>Price</th>\n",
       "        <th>VolumeUSD</th>\n",
       "    </tr>\n",
       "    <tr>\n",
       "        <td>1</td>\n",
       "        <td>Bitcoin</td>\n",
       "        <td>BTC</td>\n",
       "        <td>932695365142.0</td>\n",
       "        <td>49368.85</td>\n",
       "        <td>37198201161.0</td>\n",
       "    </tr>\n",
       "    <tr>\n",
       "        <td>2</td>\n",
       "        <td>Ethereum</td>\n",
       "        <td>ETH</td>\n",
       "        <td>498007875686.0</td>\n",
       "        <td>4198.32</td>\n",
       "        <td>25533062707.0</td>\n",
       "    </tr>\n",
       "    <tr>\n",
       "        <td>3</td>\n",
       "        <td>Binance Coin</td>\n",
       "        <td>BNB</td>\n",
       "        <td>93038857104.0</td>\n",
       "        <td>557.78</td>\n",
       "        <td>2394235567.0</td>\n",
       "    </tr>\n",
       "    <tr>\n",
       "        <td>4</td>\n",
       "        <td>Tether</td>\n",
       "        <td>USDT</td>\n",
       "        <td>75159692181.0</td>\n",
       "        <td>1.0</td>\n",
       "        <td>82054153191.0</td>\n",
       "    </tr>\n",
       "    <tr>\n",
       "        <td>5</td>\n",
       "        <td>Solana</td>\n",
       "        <td>SOL</td>\n",
       "        <td>59983315118.0</td>\n",
       "        <td>196.17</td>\n",
       "        <td>3402591975.0</td>\n",
       "    </tr>\n",
       "</table>"
      ],
      "text/plain": [
       "[(1, 'Bitcoin', 'BTC', 932695365142.0, 49368.85, 37198201161.0),\n",
       " (2, 'Ethereum', 'ETH', 498007875686.0, 4198.32, 25533062707.0),\n",
       " (3, 'Binance Coin', 'BNB', 93038857104.0, 557.78, 2394235567.0),\n",
       " (4, 'Tether', 'USDT', 75159692181.0, 1.0, 82054153191.0),\n",
       " (5, 'Solana', 'SOL', 59983315118.0, 196.17, 3402591975.0)]"
      ]
     },
     "execution_count": 44,
     "metadata": {},
     "output_type": "execute_result"
    }
   ],
   "source": [
    "%%sql sqlite:///data/data.db\n",
    "\n",
    "SELECT * FROM market_caps LIMIT 5"
   ]
  },
  {
   "cell_type": "markdown",
   "id": "1a7c9f6f-9c54-4610-ab72-fb71c913ed05",
   "metadata": {
    "tags": []
   },
   "source": [
    "## Parameters cell:"
   ]
  },
  {
   "cell_type": "code",
   "execution_count": 45,
   "id": "2d40141b-1e6c-4bd8-8c00-d60fd0fab2fd",
   "metadata": {
    "tags": [
     "parameters"
    ]
   },
   "outputs": [],
   "source": [
    "token = 'BTC'\n",
    "from_date = '2021-11-01'\n",
    "to_date = '2021-11-05'\n",
    "connection_string = 'sqlite:///data/data.db'\n",
    "#events_db = 'crypto_events_database'"
   ]
  },
  {
   "cell_type": "markdown",
   "id": "f4a73ed7-ae81-4001-ae43-b9ecce4264d7",
   "metadata": {},
   "source": [
    "## Read the .db file in pandas"
   ]
  },
  {
   "cell_type": "code",
   "execution_count": 54,
   "id": "f36cdca0-8278-4765-8b9b-8f40fb63853f",
   "metadata": {},
   "outputs": [],
   "source": [
    "prices = pd.read_sql(f\"SELECT * FROM ohlc WHERE token='{token}' AND ts >= '{from_date}'AND ts >= '{from_date}' AND ts < '{to_date}'\", connection_string)"
   ]
  },
  {
   "cell_type": "code",
   "execution_count": 58,
   "id": "b941ba09-b19f-46ed-a6d4-435b2ee6cd42",
   "metadata": {},
   "outputs": [
    {
     "ename": "KeyError",
     "evalue": "'ts'",
     "output_type": "error",
     "traceback": [
      "\u001b[0;31m---------------------------------------------------------------------------\u001b[0m",
      "\u001b[0;31mKeyError\u001b[0m                                  Traceback (most recent call last)",
      "\u001b[0;32m/opt/anaconda3/lib/python3.9/site-packages/pandas/core/indexes/base.py\u001b[0m in \u001b[0;36mget_loc\u001b[0;34m(self, key, method, tolerance)\u001b[0m\n\u001b[1;32m   3360\u001b[0m             \u001b[0;32mtry\u001b[0m\u001b[0;34m:\u001b[0m\u001b[0;34m\u001b[0m\u001b[0;34m\u001b[0m\u001b[0m\n\u001b[0;32m-> 3361\u001b[0;31m                 \u001b[0;32mreturn\u001b[0m \u001b[0mself\u001b[0m\u001b[0;34m.\u001b[0m\u001b[0m_engine\u001b[0m\u001b[0;34m.\u001b[0m\u001b[0mget_loc\u001b[0m\u001b[0;34m(\u001b[0m\u001b[0mcasted_key\u001b[0m\u001b[0;34m)\u001b[0m\u001b[0;34m\u001b[0m\u001b[0;34m\u001b[0m\u001b[0m\n\u001b[0m\u001b[1;32m   3362\u001b[0m             \u001b[0;32mexcept\u001b[0m \u001b[0mKeyError\u001b[0m \u001b[0;32mas\u001b[0m \u001b[0merr\u001b[0m\u001b[0;34m:\u001b[0m\u001b[0;34m\u001b[0m\u001b[0;34m\u001b[0m\u001b[0m\n",
      "\u001b[0;32m/opt/anaconda3/lib/python3.9/site-packages/pandas/_libs/index.pyx\u001b[0m in \u001b[0;36mpandas._libs.index.IndexEngine.get_loc\u001b[0;34m()\u001b[0m\n",
      "\u001b[0;32m/opt/anaconda3/lib/python3.9/site-packages/pandas/_libs/index.pyx\u001b[0m in \u001b[0;36mpandas._libs.index.IndexEngine.get_loc\u001b[0;34m()\u001b[0m\n",
      "\u001b[0;32mpandas/_libs/hashtable_class_helper.pxi\u001b[0m in \u001b[0;36mpandas._libs.hashtable.PyObjectHashTable.get_item\u001b[0;34m()\u001b[0m\n",
      "\u001b[0;32mpandas/_libs/hashtable_class_helper.pxi\u001b[0m in \u001b[0;36mpandas._libs.hashtable.PyObjectHashTable.get_item\u001b[0;34m()\u001b[0m\n",
      "\u001b[0;31mKeyError\u001b[0m: 'ts'",
      "\nThe above exception was the direct cause of the following exception:\n",
      "\u001b[0;31mKeyError\u001b[0m                                  Traceback (most recent call last)",
      "\u001b[0;32m/var/folders/kn/p67_wqxs27s70ygd9ff4mxv40000gn/T/ipykernel_3019/3439318058.py\u001b[0m in \u001b[0;36m<module>\u001b[0;34m\u001b[0m\n\u001b[0;32m----> 1\u001b[0;31m \u001b[0mprices\u001b[0m\u001b[0;34m[\u001b[0m\u001b[0;34m'ts'\u001b[0m\u001b[0;34m]\u001b[0m \u001b[0;34m=\u001b[0m \u001b[0mpd\u001b[0m\u001b[0;34m.\u001b[0m\u001b[0mto_datetime\u001b[0m\u001b[0;34m(\u001b[0m\u001b[0mprices\u001b[0m\u001b[0;34m[\u001b[0m\u001b[0;34m'ts'\u001b[0m\u001b[0;34m]\u001b[0m\u001b[0;34m)\u001b[0m\u001b[0;34m\u001b[0m\u001b[0;34m\u001b[0m\u001b[0m\n\u001b[0m\u001b[1;32m      2\u001b[0m \u001b[0mprices\u001b[0m\u001b[0;34m.\u001b[0m\u001b[0mset_index\u001b[0m\u001b[0;34m(\u001b[0m\u001b[0;34m'ts'\u001b[0m\u001b[0;34m,\u001b[0m \u001b[0minplace\u001b[0m\u001b[0;34m=\u001b[0m\u001b[0;32mTrue\u001b[0m\u001b[0;34m)\u001b[0m\u001b[0;34m\u001b[0m\u001b[0;34m\u001b[0m\u001b[0m\n",
      "\u001b[0;32m/opt/anaconda3/lib/python3.9/site-packages/pandas/core/frame.py\u001b[0m in \u001b[0;36m__getitem__\u001b[0;34m(self, key)\u001b[0m\n\u001b[1;32m   3456\u001b[0m             \u001b[0;32mif\u001b[0m \u001b[0mself\u001b[0m\u001b[0;34m.\u001b[0m\u001b[0mcolumns\u001b[0m\u001b[0;34m.\u001b[0m\u001b[0mnlevels\u001b[0m \u001b[0;34m>\u001b[0m \u001b[0;36m1\u001b[0m\u001b[0;34m:\u001b[0m\u001b[0;34m\u001b[0m\u001b[0;34m\u001b[0m\u001b[0m\n\u001b[1;32m   3457\u001b[0m                 \u001b[0;32mreturn\u001b[0m \u001b[0mself\u001b[0m\u001b[0;34m.\u001b[0m\u001b[0m_getitem_multilevel\u001b[0m\u001b[0;34m(\u001b[0m\u001b[0mkey\u001b[0m\u001b[0;34m)\u001b[0m\u001b[0;34m\u001b[0m\u001b[0;34m\u001b[0m\u001b[0m\n\u001b[0;32m-> 3458\u001b[0;31m             \u001b[0mindexer\u001b[0m \u001b[0;34m=\u001b[0m \u001b[0mself\u001b[0m\u001b[0;34m.\u001b[0m\u001b[0mcolumns\u001b[0m\u001b[0;34m.\u001b[0m\u001b[0mget_loc\u001b[0m\u001b[0;34m(\u001b[0m\u001b[0mkey\u001b[0m\u001b[0;34m)\u001b[0m\u001b[0;34m\u001b[0m\u001b[0;34m\u001b[0m\u001b[0m\n\u001b[0m\u001b[1;32m   3459\u001b[0m             \u001b[0;32mif\u001b[0m \u001b[0mis_integer\u001b[0m\u001b[0;34m(\u001b[0m\u001b[0mindexer\u001b[0m\u001b[0;34m)\u001b[0m\u001b[0;34m:\u001b[0m\u001b[0;34m\u001b[0m\u001b[0;34m\u001b[0m\u001b[0m\n\u001b[1;32m   3460\u001b[0m                 \u001b[0mindexer\u001b[0m \u001b[0;34m=\u001b[0m \u001b[0;34m[\u001b[0m\u001b[0mindexer\u001b[0m\u001b[0;34m]\u001b[0m\u001b[0;34m\u001b[0m\u001b[0;34m\u001b[0m\u001b[0m\n",
      "\u001b[0;32m/opt/anaconda3/lib/python3.9/site-packages/pandas/core/indexes/base.py\u001b[0m in \u001b[0;36mget_loc\u001b[0;34m(self, key, method, tolerance)\u001b[0m\n\u001b[1;32m   3361\u001b[0m                 \u001b[0;32mreturn\u001b[0m \u001b[0mself\u001b[0m\u001b[0;34m.\u001b[0m\u001b[0m_engine\u001b[0m\u001b[0;34m.\u001b[0m\u001b[0mget_loc\u001b[0m\u001b[0;34m(\u001b[0m\u001b[0mcasted_key\u001b[0m\u001b[0;34m)\u001b[0m\u001b[0;34m\u001b[0m\u001b[0;34m\u001b[0m\u001b[0m\n\u001b[1;32m   3362\u001b[0m             \u001b[0;32mexcept\u001b[0m \u001b[0mKeyError\u001b[0m \u001b[0;32mas\u001b[0m \u001b[0merr\u001b[0m\u001b[0;34m:\u001b[0m\u001b[0;34m\u001b[0m\u001b[0;34m\u001b[0m\u001b[0m\n\u001b[0;32m-> 3363\u001b[0;31m                 \u001b[0;32mraise\u001b[0m \u001b[0mKeyError\u001b[0m\u001b[0;34m(\u001b[0m\u001b[0mkey\u001b[0m\u001b[0;34m)\u001b[0m \u001b[0;32mfrom\u001b[0m \u001b[0merr\u001b[0m\u001b[0;34m\u001b[0m\u001b[0;34m\u001b[0m\u001b[0m\n\u001b[0m\u001b[1;32m   3364\u001b[0m \u001b[0;34m\u001b[0m\u001b[0m\n\u001b[1;32m   3365\u001b[0m         \u001b[0;32mif\u001b[0m \u001b[0mis_scalar\u001b[0m\u001b[0;34m(\u001b[0m\u001b[0mkey\u001b[0m\u001b[0;34m)\u001b[0m \u001b[0;32mand\u001b[0m \u001b[0misna\u001b[0m\u001b[0;34m(\u001b[0m\u001b[0mkey\u001b[0m\u001b[0;34m)\u001b[0m \u001b[0;32mand\u001b[0m \u001b[0;32mnot\u001b[0m \u001b[0mself\u001b[0m\u001b[0;34m.\u001b[0m\u001b[0mhasnans\u001b[0m\u001b[0;34m:\u001b[0m\u001b[0;34m\u001b[0m\u001b[0;34m\u001b[0m\u001b[0m\n",
      "\u001b[0;31mKeyError\u001b[0m: 'ts'"
     ]
    }
   ],
   "source": [
    "prices['ts'] = pd.to_datetime(prices['ts'])\n",
    "prices.set_index('ts', inplace=True)"
   ]
  },
  {
   "cell_type": "markdown",
   "id": "a47e3bde-b9f1-4b02-a3f3-c2c89b6acebb",
   "metadata": {},
   "source": [
    "## The volatilty function"
   ]
  },
  {
   "cell_type": "code",
   "execution_count": 32,
   "id": "62d10ef2-12a1-401a-9828-dc88d77c4f15",
   "metadata": {},
   "outputs": [],
   "source": [
    "def vol_ohlc(df, lookback=10):\n",
    "    o=df.open\n",
    "    h=df.high\n",
    "    c=df.close\n",
    "    l=df.low\n",
    "    \n",
    "    k=0.34 / (1.34 + (lookback + 1) / (lookback-1))\n",
    "    \n",
    "    cc=np.log(c/c.shift(1))\n",
    "    ho=np.log(h/o)\n",
    "    lo=np.log(l/o)\n",
    "    co=np.log(c/o)\n",
    "    oc=np.log(o/c.shift(1))\n",
    "    oc_sqr=oc**2\n",
    "    cc_sqr=cc**2\n",
    "    \n",
    "    rs= ho*(ho - co) + lo*(lo - co)\n",
    "    close_vol = cc_sqr.rolling(lookback).sum() * (1.0 / (lookback - 1.0))\n",
    "    open_vol = oc_sqr.rolling(lookback).sum() * (1.0 / (lookback - 1.0))\n",
    "    window_rs = rs.rolling(lookback).sum() * (1.0 / (lookback - 1.0))\n",
    "    \n",
    "    result = (open_vol + k * close_vol + (1 - k) * window_rs).apply(np.sqrt) * np.sqrt(252)\n",
    "    \n",
    "    result[:lookback -1] = np.nan\n",
    "    \n",
    "    return result"
   ]
  },
  {
   "cell_type": "code",
   "execution_count": 59,
   "id": "034d5167-f0bb-4179-a58e-190d9b68b4bd",
   "metadata": {},
   "outputs": [
    {
     "data": {
      "text/plain": [
       "ts\n",
       "2021-11-01 00:00:00         NaN\n",
       "2021-11-01 01:00:00         NaN\n",
       "2021-11-01 02:00:00         NaN\n",
       "2021-11-01 03:00:00         NaN\n",
       "2021-11-01 04:00:00         NaN\n",
       "                         ...   \n",
       "2021-11-04 19:00:00    0.112226\n",
       "2021-11-04 20:00:00    0.110874\n",
       "2021-11-04 21:00:00    0.112220\n",
       "2021-11-04 22:00:00    0.108003\n",
       "2021-11-04 23:00:00    0.106125\n",
       "Name: volatility, Length: 96, dtype: float64"
      ]
     },
     "execution_count": 59,
     "metadata": {},
     "output_type": "execute_result"
    }
   ],
   "source": [
    "prices['volatility'] = vol_ohlc(prices)"
   ]
  },
  {
   "cell_type": "markdown",
   "id": "40cf2147-6128-4431-bddd-29d2e6cc9795",
   "metadata": {},
   "source": [
    "## The hourly return\n",
    "\n",
    "by timestamp"
   ]
  },
  {
   "cell_type": "code",
   "execution_count": 61,
   "id": "33d133d4-59bf-49bc-8efb-f53edc347a39",
   "metadata": {},
   "outputs": [
    {
     "data": {
      "text/html": [
       "<div>\n",
       "<style scoped>\n",
       "    .dataframe tbody tr th:only-of-type {\n",
       "        vertical-align: middle;\n",
       "    }\n",
       "\n",
       "    .dataframe tbody tr th {\n",
       "        vertical-align: top;\n",
       "    }\n",
       "\n",
       "    .dataframe thead th {\n",
       "        text-align: right;\n",
       "    }\n",
       "</style>\n",
       "<table border=\"1\" class=\"dataframe\">\n",
       "  <thead>\n",
       "    <tr style=\"text-align: right;\">\n",
       "      <th></th>\n",
       "      <th>open</th>\n",
       "      <th>high</th>\n",
       "      <th>low</th>\n",
       "      <th>close</th>\n",
       "      <th>volume</th>\n",
       "      <th>volumeUSD</th>\n",
       "      <th>token</th>\n",
       "      <th>chain</th>\n",
       "      <th>volatility</th>\n",
       "    </tr>\n",
       "    <tr>\n",
       "      <th>ts</th>\n",
       "      <th></th>\n",
       "      <th></th>\n",
       "      <th></th>\n",
       "      <th></th>\n",
       "      <th></th>\n",
       "      <th></th>\n",
       "      <th></th>\n",
       "      <th></th>\n",
       "      <th></th>\n",
       "    </tr>\n",
       "  </thead>\n",
       "  <tbody>\n",
       "    <tr>\n",
       "      <th>2021-11-01 00:00:00</th>\n",
       "      <td>61421.37</td>\n",
       "      <td>61669.14</td>\n",
       "      <td>61239.60</td>\n",
       "      <td>61343.68</td>\n",
       "      <td>256.433869</td>\n",
       "      <td>1.575751e+07</td>\n",
       "      <td>BTC</td>\n",
       "      <td>BTC</td>\n",
       "      <td>NaN</td>\n",
       "    </tr>\n",
       "    <tr>\n",
       "      <th>2021-11-01 01:00:00</th>\n",
       "      <td>61346.17</td>\n",
       "      <td>61709.82</td>\n",
       "      <td>61171.22</td>\n",
       "      <td>61610.93</td>\n",
       "      <td>332.481185</td>\n",
       "      <td>2.044558e+07</td>\n",
       "      <td>BTC</td>\n",
       "      <td>BTC</td>\n",
       "      <td>NaN</td>\n",
       "    </tr>\n",
       "    <tr>\n",
       "      <th>2021-11-01 02:00:00</th>\n",
       "      <td>61610.94</td>\n",
       "      <td>61779.87</td>\n",
       "      <td>61299.89</td>\n",
       "      <td>61333.17</td>\n",
       "      <td>314.250720</td>\n",
       "      <td>1.935390e+07</td>\n",
       "      <td>BTC</td>\n",
       "      <td>BTC</td>\n",
       "      <td>NaN</td>\n",
       "    </tr>\n",
       "    <tr>\n",
       "      <th>2021-11-01 03:00:00</th>\n",
       "      <td>61333.17</td>\n",
       "      <td>61457.28</td>\n",
       "      <td>60050.00</td>\n",
       "      <td>60589.06</td>\n",
       "      <td>1059.931358</td>\n",
       "      <td>6.414625e+07</td>\n",
       "      <td>BTC</td>\n",
       "      <td>BTC</td>\n",
       "      <td>NaN</td>\n",
       "    </tr>\n",
       "    <tr>\n",
       "      <th>2021-11-01 04:00:00</th>\n",
       "      <td>60590.23</td>\n",
       "      <td>60655.00</td>\n",
       "      <td>59752.92</td>\n",
       "      <td>59971.89</td>\n",
       "      <td>621.419878</td>\n",
       "      <td>3.744744e+07</td>\n",
       "      <td>BTC</td>\n",
       "      <td>BTC</td>\n",
       "      <td>NaN</td>\n",
       "    </tr>\n",
       "    <tr>\n",
       "      <th>...</th>\n",
       "      <td>...</td>\n",
       "      <td>...</td>\n",
       "      <td>...</td>\n",
       "      <td>...</td>\n",
       "      <td>...</td>\n",
       "      <td>...</td>\n",
       "      <td>...</td>\n",
       "      <td>...</td>\n",
       "      <td>...</td>\n",
       "    </tr>\n",
       "    <tr>\n",
       "      <th>2021-11-04 19:00:00</th>\n",
       "      <td>60909.47</td>\n",
       "      <td>61425.00</td>\n",
       "      <td>60754.90</td>\n",
       "      <td>60790.97</td>\n",
       "      <td>620.358241</td>\n",
       "      <td>3.792312e+07</td>\n",
       "      <td>BTC</td>\n",
       "      <td>BTC</td>\n",
       "      <td>0.112226</td>\n",
       "    </tr>\n",
       "    <tr>\n",
       "      <th>2021-11-04 20:00:00</th>\n",
       "      <td>60790.96</td>\n",
       "      <td>61321.96</td>\n",
       "      <td>60728.77</td>\n",
       "      <td>61260.90</td>\n",
       "      <td>616.041634</td>\n",
       "      <td>3.761622e+07</td>\n",
       "      <td>BTC</td>\n",
       "      <td>BTC</td>\n",
       "      <td>0.110874</td>\n",
       "    </tr>\n",
       "    <tr>\n",
       "      <th>2021-11-04 21:00:00</th>\n",
       "      <td>61271.30</td>\n",
       "      <td>61574.94</td>\n",
       "      <td>61097.56</td>\n",
       "      <td>61370.71</td>\n",
       "      <td>384.366947</td>\n",
       "      <td>2.356648e+07</td>\n",
       "      <td>BTC</td>\n",
       "      <td>BTC</td>\n",
       "      <td>0.112220</td>\n",
       "    </tr>\n",
       "    <tr>\n",
       "      <th>2021-11-04 22:00:00</th>\n",
       "      <td>61370.71</td>\n",
       "      <td>61500.00</td>\n",
       "      <td>61203.38</td>\n",
       "      <td>61397.00</td>\n",
       "      <td>283.469139</td>\n",
       "      <td>1.740158e+07</td>\n",
       "      <td>BTC</td>\n",
       "      <td>BTC</td>\n",
       "      <td>0.108003</td>\n",
       "    </tr>\n",
       "    <tr>\n",
       "      <th>2021-11-04 23:00:00</th>\n",
       "      <td>61396.99</td>\n",
       "      <td>61440.55</td>\n",
       "      <td>61057.34</td>\n",
       "      <td>61188.45</td>\n",
       "      <td>313.857569</td>\n",
       "      <td>1.923449e+07</td>\n",
       "      <td>BTC</td>\n",
       "      <td>BTC</td>\n",
       "      <td>0.106125</td>\n",
       "    </tr>\n",
       "  </tbody>\n",
       "</table>\n",
       "<p>96 rows × 9 columns</p>\n",
       "</div>"
      ],
      "text/plain": [
       "                         open      high       low     close       volume  \\\n",
       "ts                                                                         \n",
       "2021-11-01 00:00:00  61421.37  61669.14  61239.60  61343.68   256.433869   \n",
       "2021-11-01 01:00:00  61346.17  61709.82  61171.22  61610.93   332.481185   \n",
       "2021-11-01 02:00:00  61610.94  61779.87  61299.89  61333.17   314.250720   \n",
       "2021-11-01 03:00:00  61333.17  61457.28  60050.00  60589.06  1059.931358   \n",
       "2021-11-01 04:00:00  60590.23  60655.00  59752.92  59971.89   621.419878   \n",
       "...                       ...       ...       ...       ...          ...   \n",
       "2021-11-04 19:00:00  60909.47  61425.00  60754.90  60790.97   620.358241   \n",
       "2021-11-04 20:00:00  60790.96  61321.96  60728.77  61260.90   616.041634   \n",
       "2021-11-04 21:00:00  61271.30  61574.94  61097.56  61370.71   384.366947   \n",
       "2021-11-04 22:00:00  61370.71  61500.00  61203.38  61397.00   283.469139   \n",
       "2021-11-04 23:00:00  61396.99  61440.55  61057.34  61188.45   313.857569   \n",
       "\n",
       "                        volumeUSD token chain  volatility  \n",
       "ts                                                         \n",
       "2021-11-01 00:00:00  1.575751e+07   BTC   BTC         NaN  \n",
       "2021-11-01 01:00:00  2.044558e+07   BTC   BTC         NaN  \n",
       "2021-11-01 02:00:00  1.935390e+07   BTC   BTC         NaN  \n",
       "2021-11-01 03:00:00  6.414625e+07   BTC   BTC         NaN  \n",
       "2021-11-01 04:00:00  3.744744e+07   BTC   BTC         NaN  \n",
       "...                           ...   ...   ...         ...  \n",
       "2021-11-04 19:00:00  3.792312e+07   BTC   BTC    0.112226  \n",
       "2021-11-04 20:00:00  3.761622e+07   BTC   BTC    0.110874  \n",
       "2021-11-04 21:00:00  2.356648e+07   BTC   BTC    0.112220  \n",
       "2021-11-04 22:00:00  1.740158e+07   BTC   BTC    0.108003  \n",
       "2021-11-04 23:00:00  1.923449e+07   BTC   BTC    0.106125  \n",
       "\n",
       "[96 rows x 9 columns]"
      ]
     },
     "execution_count": 61,
     "metadata": {},
     "output_type": "execute_result"
    }
   ],
   "source": [
    "prices"
   ]
  },
  {
   "cell_type": "code",
   "execution_count": 93,
   "id": "99e31dd6-d974-4663-a2a2-d3654db2c5b0",
   "metadata": {},
   "outputs": [],
   "source": [
    "prices['hourly_return'] = prices['high']-prices['low']\n",
    "# not sure if this is the hourly return for %???"
   ]
  },
  {
   "cell_type": "markdown",
   "id": "c1134067-b3ea-48af-b9b7-310f59ab9ad2",
   "metadata": {},
   "source": [
    "## The maximum drawdown\n",
    "\n",
    "\n",
    "This is calculated from 1 o'clock - 0, 2 o'clock - 0, 3 o'clock - 0, for time set of the day.\n",
    "Also (trough-peak)/(peak)"
   ]
  },
  {
   "cell_type": "code",
   "execution_count": 94,
   "id": "fd49b89c-2dd7-4f8a-ac60-1756b78bdeac",
   "metadata": {},
   "outputs": [],
   "source": [
    "def max_drawdown_ohlc(df):\n",
    "    #this is calculated up to the hour for each day\n",
    "    \n",
    "    trough=df.low\n",
    "    peak=df.high\n",
    "    for nex in df.low:\n",
    "        if trough > nex:\n",
    "            trough = nex\n",
    "    for nex in df.high:\n",
    "        if peak < nex:\n",
    "            peak = nex\n",
    "    \n",
    "    result = (trough - peak) / peak\n",
    "    return result"
   ]
  },
  {
   "cell_type": "code",
   "execution_count": 95,
   "id": "a064478b-3868-4c1b-b7a5-1781eda0fe67",
   "metadata": {},
   "outputs": [
    {
     "ename": "ValueError",
     "evalue": "The truth value of a Series is ambiguous. Use a.empty, a.bool(), a.item(), a.any() or a.all().",
     "output_type": "error",
     "traceback": [
      "\u001b[0;31m---------------------------------------------------------------------------\u001b[0m",
      "\u001b[0;31mValueError\u001b[0m                                Traceback (most recent call last)",
      "\u001b[0;32m/var/folders/kn/p67_wqxs27s70ygd9ff4mxv40000gn/T/ipykernel_3019/2992540073.py\u001b[0m in \u001b[0;36m<module>\u001b[0;34m\u001b[0m\n\u001b[0;32m----> 1\u001b[0;31m \u001b[0mprices\u001b[0m\u001b[0;34m[\u001b[0m\u001b[0;34m'max_drawdown'\u001b[0m\u001b[0;34m]\u001b[0m \u001b[0;34m=\u001b[0m \u001b[0mmax_drawdown_ohlc\u001b[0m\u001b[0;34m(\u001b[0m\u001b[0mprices\u001b[0m\u001b[0;34m)\u001b[0m\u001b[0;34m\u001b[0m\u001b[0;34m\u001b[0m\u001b[0m\n\u001b[0m",
      "\u001b[0;32m/var/folders/kn/p67_wqxs27s70ygd9ff4mxv40000gn/T/ipykernel_3019/3747976293.py\u001b[0m in \u001b[0;36mmax_drawdown_ohlc\u001b[0;34m(df)\u001b[0m\n\u001b[1;32m      5\u001b[0m     \u001b[0mpeak\u001b[0m\u001b[0;34m=\u001b[0m\u001b[0mdf\u001b[0m\u001b[0;34m.\u001b[0m\u001b[0mhigh\u001b[0m\u001b[0;34m\u001b[0m\u001b[0;34m\u001b[0m\u001b[0m\n\u001b[1;32m      6\u001b[0m     \u001b[0;32mfor\u001b[0m \u001b[0mnex\u001b[0m \u001b[0;32min\u001b[0m \u001b[0mdf\u001b[0m\u001b[0;34m.\u001b[0m\u001b[0mlow\u001b[0m\u001b[0;34m:\u001b[0m\u001b[0;34m\u001b[0m\u001b[0;34m\u001b[0m\u001b[0m\n\u001b[0;32m----> 7\u001b[0;31m         \u001b[0;32mif\u001b[0m \u001b[0mtrough\u001b[0m \u001b[0;34m>\u001b[0m \u001b[0mnex\u001b[0m\u001b[0;34m:\u001b[0m\u001b[0;34m\u001b[0m\u001b[0;34m\u001b[0m\u001b[0m\n\u001b[0m\u001b[1;32m      8\u001b[0m             \u001b[0mtrough\u001b[0m \u001b[0;34m=\u001b[0m \u001b[0mnex\u001b[0m\u001b[0;34m\u001b[0m\u001b[0;34m\u001b[0m\u001b[0m\n\u001b[1;32m      9\u001b[0m     \u001b[0;32mfor\u001b[0m \u001b[0mnex\u001b[0m \u001b[0;32min\u001b[0m \u001b[0mdf\u001b[0m\u001b[0;34m.\u001b[0m\u001b[0mhigh\u001b[0m\u001b[0;34m:\u001b[0m\u001b[0;34m\u001b[0m\u001b[0;34m\u001b[0m\u001b[0m\n",
      "\u001b[0;32m/opt/anaconda3/lib/python3.9/site-packages/pandas/core/generic.py\u001b[0m in \u001b[0;36m__nonzero__\u001b[0;34m(self)\u001b[0m\n\u001b[1;32m   1535\u001b[0m     \u001b[0;34m@\u001b[0m\u001b[0mfinal\u001b[0m\u001b[0;34m\u001b[0m\u001b[0;34m\u001b[0m\u001b[0m\n\u001b[1;32m   1536\u001b[0m     \u001b[0;32mdef\u001b[0m \u001b[0m__nonzero__\u001b[0m\u001b[0;34m(\u001b[0m\u001b[0mself\u001b[0m\u001b[0;34m)\u001b[0m\u001b[0;34m:\u001b[0m\u001b[0;34m\u001b[0m\u001b[0;34m\u001b[0m\u001b[0m\n\u001b[0;32m-> 1537\u001b[0;31m         raise ValueError(\n\u001b[0m\u001b[1;32m   1538\u001b[0m             \u001b[0;34mf\"The truth value of a {type(self).__name__} is ambiguous. \"\u001b[0m\u001b[0;34m\u001b[0m\u001b[0;34m\u001b[0m\u001b[0m\n\u001b[1;32m   1539\u001b[0m             \u001b[0;34m\"Use a.empty, a.bool(), a.item(), a.any() or a.all().\"\u001b[0m\u001b[0;34m\u001b[0m\u001b[0;34m\u001b[0m\u001b[0m\n",
      "\u001b[0;31mValueError\u001b[0m: The truth value of a Series is ambiguous. Use a.empty, a.bool(), a.item(), a.any() or a.all()."
     ]
    }
   ],
   "source": [
    "prices['max_drawdown'] = max_drawdown_ohlc(prices)"
   ]
  },
  {
   "cell_type": "markdown",
   "id": "0443a299-1c20-4858-a843-34a7aef02ead",
   "metadata": {},
   "source": [
    "## The close prices"
   ]
  },
  {
   "cell_type": "code",
   "execution_count": 69,
   "id": "d9d22446-9997-4f7e-9d32-384ae7126b7e",
   "metadata": {},
   "outputs": [
    {
     "data": {
      "text/plain": [
       "ts\n",
       "2021-11-01 00:00:00    61343.68\n",
       "2021-11-01 01:00:00    61610.93\n",
       "2021-11-01 02:00:00    61333.17\n",
       "2021-11-01 03:00:00    60589.06\n",
       "2021-11-01 04:00:00    59971.89\n",
       "                         ...   \n",
       "2021-11-04 19:00:00    60790.97\n",
       "2021-11-04 20:00:00    61260.90\n",
       "2021-11-04 21:00:00    61370.71\n",
       "2021-11-04 22:00:00    61397.00\n",
       "2021-11-04 23:00:00    61188.45\n",
       "Name: close, Length: 96, dtype: float64"
      ]
     },
     "execution_count": 69,
     "metadata": {},
     "output_type": "execute_result"
    }
   ],
   "source": [
    "prices['close']"
   ]
  },
  {
   "cell_type": "markdown",
   "id": "7de33535-2d07-4ec5-ad07-45fa4104e07b",
   "metadata": {},
   "source": [
    "## The plotting function with colors\n",
    "The colors here will be the same rainbow hues for the days of the week"
   ]
  },
  {
   "cell_type": "code",
   "execution_count": 70,
   "id": "db51cb16-3ce2-476e-852e-e29c6e5627bc",
   "metadata": {},
   "outputs": [],
   "source": [
    "def day_plot(data, ax=None):\n",
    "    data.plot(ax=ax)\n",
    "    \n",
    "    start_of_days = data.between_time('00:00:00', '00:00:00').index.to_list()\n",
    "    end_of_days = start_of_days[1:] + [data.index[-1]]\n",
    "    colors = iter(cm.rainbow(np.linspace(0, 1, len(start_of_days))))\n",
    "    \n",
    "    for x, y in zip(start_of_days, end_of_days):\n",
    "        color = next(colors)\n",
    "        ax.axvspan(x, y, color=color, alpha=0.13)"
   ]
  },
  {
   "cell_type": "markdown",
   "id": "d2d31e4a-58c2-433f-a657-6dfcf3a91d15",
   "metadata": {},
   "source": [
    "## Plot the four charts in a 2x2 grid\n",
    "volatility, hourly return, maximum drawdown, and close prices"
   ]
  },
  {
   "cell_type": "code",
   "execution_count": 77,
   "id": "4356aa2e-4041-4fad-b364-519b96ab0545",
   "metadata": {},
   "outputs": [],
   "source": [
    "%%capture\n",
    "fig, ax = plt.subplots(nrows=2, ncols=2, figsize=(20,20))"
   ]
  },
  {
   "cell_type": "code",
   "execution_count": 90,
   "id": "7706ae33-f491-4c76-8ac7-ce97f12615ee",
   "metadata": {},
   "outputs": [
    {
     "ename": "KeyError",
     "evalue": "\"None of [Index(['max_drawdown'], dtype='object')] are in the [columns]\"",
     "output_type": "error",
     "traceback": [
      "\u001b[0;31m---------------------------------------------------------------------------\u001b[0m",
      "\u001b[0;31mKeyError\u001b[0m                                  Traceback (most recent call last)",
      "\u001b[0;32m/var/folders/kn/p67_wqxs27s70ygd9ff4mxv40000gn/T/ipykernel_3019/1389558860.py\u001b[0m in \u001b[0;36m<module>\u001b[0;34m\u001b[0m\n\u001b[1;32m      1\u001b[0m \u001b[0mday_plot\u001b[0m\u001b[0;34m(\u001b[0m\u001b[0mprices\u001b[0m\u001b[0;34m[\u001b[0m\u001b[0;34m[\u001b[0m\u001b[0;34m'volatility'\u001b[0m\u001b[0;34m]\u001b[0m\u001b[0;34m]\u001b[0m\u001b[0;34m,\u001b[0m \u001b[0max\u001b[0m\u001b[0;34m=\u001b[0m\u001b[0max\u001b[0m\u001b[0;34m[\u001b[0m\u001b[0;36m0\u001b[0m\u001b[0;34m,\u001b[0m\u001b[0;36m0\u001b[0m\u001b[0;34m]\u001b[0m\u001b[0;34m)\u001b[0m\u001b[0;34m\u001b[0m\u001b[0;34m\u001b[0m\u001b[0m\n\u001b[1;32m      2\u001b[0m \u001b[0mday_plot\u001b[0m\u001b[0;34m(\u001b[0m\u001b[0mprices\u001b[0m\u001b[0;34m[\u001b[0m\u001b[0;34m[\u001b[0m\u001b[0;34m'hourly_return'\u001b[0m\u001b[0;34m]\u001b[0m\u001b[0;34m]\u001b[0m\u001b[0;34m,\u001b[0m \u001b[0max\u001b[0m\u001b[0;34m=\u001b[0m\u001b[0max\u001b[0m\u001b[0;34m[\u001b[0m\u001b[0;36m0\u001b[0m\u001b[0;34m,\u001b[0m\u001b[0;36m1\u001b[0m\u001b[0;34m]\u001b[0m\u001b[0;34m)\u001b[0m\u001b[0;34m\u001b[0m\u001b[0;34m\u001b[0m\u001b[0m\n\u001b[0;32m----> 3\u001b[0;31m \u001b[0mday_plot\u001b[0m\u001b[0;34m(\u001b[0m\u001b[0mprices\u001b[0m\u001b[0;34m[\u001b[0m\u001b[0;34m[\u001b[0m\u001b[0;34m'max_drawdown'\u001b[0m\u001b[0;34m]\u001b[0m\u001b[0;34m]\u001b[0m\u001b[0;34m,\u001b[0m \u001b[0max\u001b[0m\u001b[0;34m=\u001b[0m\u001b[0max\u001b[0m\u001b[0;34m[\u001b[0m\u001b[0;36m1\u001b[0m\u001b[0;34m,\u001b[0m\u001b[0;36m0\u001b[0m\u001b[0;34m]\u001b[0m\u001b[0;34m)\u001b[0m\u001b[0;34m\u001b[0m\u001b[0;34m\u001b[0m\u001b[0m\n\u001b[0m\u001b[1;32m      4\u001b[0m \u001b[0mday_plot\u001b[0m\u001b[0;34m(\u001b[0m\u001b[0mprices\u001b[0m\u001b[0;34m[\u001b[0m\u001b[0;34m[\u001b[0m\u001b[0;34m'close'\u001b[0m\u001b[0;34m]\u001b[0m\u001b[0;34m]\u001b[0m\u001b[0;34m,\u001b[0m \u001b[0max\u001b[0m\u001b[0;34m=\u001b[0m\u001b[0max\u001b[0m\u001b[0;34m[\u001b[0m\u001b[0;36m1\u001b[0m\u001b[0;34m,\u001b[0m\u001b[0;36m1\u001b[0m\u001b[0;34m]\u001b[0m\u001b[0;34m)\u001b[0m\u001b[0;34m\u001b[0m\u001b[0;34m\u001b[0m\u001b[0m\n",
      "\u001b[0;32m/opt/anaconda3/lib/python3.9/site-packages/pandas/core/frame.py\u001b[0m in \u001b[0;36m__getitem__\u001b[0;34m(self, key)\u001b[0m\n\u001b[1;32m   3462\u001b[0m             \u001b[0;32mif\u001b[0m \u001b[0mis_iterator\u001b[0m\u001b[0;34m(\u001b[0m\u001b[0mkey\u001b[0m\u001b[0;34m)\u001b[0m\u001b[0;34m:\u001b[0m\u001b[0;34m\u001b[0m\u001b[0;34m\u001b[0m\u001b[0m\n\u001b[1;32m   3463\u001b[0m                 \u001b[0mkey\u001b[0m \u001b[0;34m=\u001b[0m \u001b[0mlist\u001b[0m\u001b[0;34m(\u001b[0m\u001b[0mkey\u001b[0m\u001b[0;34m)\u001b[0m\u001b[0;34m\u001b[0m\u001b[0;34m\u001b[0m\u001b[0m\n\u001b[0;32m-> 3464\u001b[0;31m             \u001b[0mindexer\u001b[0m \u001b[0;34m=\u001b[0m \u001b[0mself\u001b[0m\u001b[0;34m.\u001b[0m\u001b[0mloc\u001b[0m\u001b[0;34m.\u001b[0m\u001b[0m_get_listlike_indexer\u001b[0m\u001b[0;34m(\u001b[0m\u001b[0mkey\u001b[0m\u001b[0;34m,\u001b[0m \u001b[0maxis\u001b[0m\u001b[0;34m=\u001b[0m\u001b[0;36m1\u001b[0m\u001b[0;34m)\u001b[0m\u001b[0;34m[\u001b[0m\u001b[0;36m1\u001b[0m\u001b[0;34m]\u001b[0m\u001b[0;34m\u001b[0m\u001b[0;34m\u001b[0m\u001b[0m\n\u001b[0m\u001b[1;32m   3465\u001b[0m \u001b[0;34m\u001b[0m\u001b[0m\n\u001b[1;32m   3466\u001b[0m         \u001b[0;31m# take() does not accept boolean indexers\u001b[0m\u001b[0;34m\u001b[0m\u001b[0;34m\u001b[0m\u001b[0m\n",
      "\u001b[0;32m/opt/anaconda3/lib/python3.9/site-packages/pandas/core/indexing.py\u001b[0m in \u001b[0;36m_get_listlike_indexer\u001b[0;34m(self, key, axis)\u001b[0m\n\u001b[1;32m   1312\u001b[0m             \u001b[0mkeyarr\u001b[0m\u001b[0;34m,\u001b[0m \u001b[0mindexer\u001b[0m\u001b[0;34m,\u001b[0m \u001b[0mnew_indexer\u001b[0m \u001b[0;34m=\u001b[0m \u001b[0max\u001b[0m\u001b[0;34m.\u001b[0m\u001b[0m_reindex_non_unique\u001b[0m\u001b[0;34m(\u001b[0m\u001b[0mkeyarr\u001b[0m\u001b[0;34m)\u001b[0m\u001b[0;34m\u001b[0m\u001b[0;34m\u001b[0m\u001b[0m\n\u001b[1;32m   1313\u001b[0m \u001b[0;34m\u001b[0m\u001b[0m\n\u001b[0;32m-> 1314\u001b[0;31m         \u001b[0mself\u001b[0m\u001b[0;34m.\u001b[0m\u001b[0m_validate_read_indexer\u001b[0m\u001b[0;34m(\u001b[0m\u001b[0mkeyarr\u001b[0m\u001b[0;34m,\u001b[0m \u001b[0mindexer\u001b[0m\u001b[0;34m,\u001b[0m \u001b[0maxis\u001b[0m\u001b[0;34m)\u001b[0m\u001b[0;34m\u001b[0m\u001b[0;34m\u001b[0m\u001b[0m\n\u001b[0m\u001b[1;32m   1315\u001b[0m \u001b[0;34m\u001b[0m\u001b[0m\n\u001b[1;32m   1316\u001b[0m         if needs_i8_conversion(ax.dtype) or isinstance(\n",
      "\u001b[0;32m/opt/anaconda3/lib/python3.9/site-packages/pandas/core/indexing.py\u001b[0m in \u001b[0;36m_validate_read_indexer\u001b[0;34m(self, key, indexer, axis)\u001b[0m\n\u001b[1;32m   1372\u001b[0m                 \u001b[0;32mif\u001b[0m \u001b[0muse_interval_msg\u001b[0m\u001b[0;34m:\u001b[0m\u001b[0;34m\u001b[0m\u001b[0;34m\u001b[0m\u001b[0m\n\u001b[1;32m   1373\u001b[0m                     \u001b[0mkey\u001b[0m \u001b[0;34m=\u001b[0m \u001b[0mlist\u001b[0m\u001b[0;34m(\u001b[0m\u001b[0mkey\u001b[0m\u001b[0;34m)\u001b[0m\u001b[0;34m\u001b[0m\u001b[0;34m\u001b[0m\u001b[0m\n\u001b[0;32m-> 1374\u001b[0;31m                 \u001b[0;32mraise\u001b[0m \u001b[0mKeyError\u001b[0m\u001b[0;34m(\u001b[0m\u001b[0;34mf\"None of [{key}] are in the [{axis_name}]\"\u001b[0m\u001b[0;34m)\u001b[0m\u001b[0;34m\u001b[0m\u001b[0;34m\u001b[0m\u001b[0m\n\u001b[0m\u001b[1;32m   1375\u001b[0m \u001b[0;34m\u001b[0m\u001b[0m\n\u001b[1;32m   1376\u001b[0m             \u001b[0mnot_found\u001b[0m \u001b[0;34m=\u001b[0m \u001b[0mlist\u001b[0m\u001b[0;34m(\u001b[0m\u001b[0mensure_index\u001b[0m\u001b[0;34m(\u001b[0m\u001b[0mkey\u001b[0m\u001b[0;34m)\u001b[0m\u001b[0;34m[\u001b[0m\u001b[0mmissing_mask\u001b[0m\u001b[0;34m.\u001b[0m\u001b[0mnonzero\u001b[0m\u001b[0;34m(\u001b[0m\u001b[0;34m)\u001b[0m\u001b[0;34m[\u001b[0m\u001b[0;36m0\u001b[0m\u001b[0;34m]\u001b[0m\u001b[0;34m]\u001b[0m\u001b[0;34m.\u001b[0m\u001b[0munique\u001b[0m\u001b[0;34m(\u001b[0m\u001b[0;34m)\u001b[0m\u001b[0;34m)\u001b[0m\u001b[0;34m\u001b[0m\u001b[0;34m\u001b[0m\u001b[0m\n",
      "\u001b[0;31mKeyError\u001b[0m: \"None of [Index(['max_drawdown'], dtype='object')] are in the [columns]\""
     ]
    }
   ],
   "source": [
    "day_plot(prices[['volatility']], ax=ax[0,0])\n",
    "day_plot(prices[['hourly_return']], ax=ax[0,1])\n",
    "day_plot(prices[['max_drawdown']], ax=ax[1,0])\n",
    "day_plot(prices[['close']], ax=ax[1,1])"
   ]
  },
  {
   "cell_type": "markdown",
   "id": "54dbfe17-8dbf-4e1c-887b-a41593230bb4",
   "metadata": {},
   "source": [
    "### Glue the scraps with papermill and scrapbook"
   ]
  },
  {
   "cell_type": "code",
   "execution_count": null,
   "id": "d971941d-3444-4c72-ab36-dd0c65db3438",
   "metadata": {},
   "outputs": [],
   "source": [
    "sb.glue('token', token)\n",
    "sb.glue('from_date', from_date)\n",
    "sb.glue('to_date', to_date)\n",
    "sb.glue('prices', prices, encoder='pandas')\n",
    "sb.glue('grid_plot', fig, encoder='display', display=True)"
   ]
  }
 ],
 "metadata": {
  "kernelspec": {
   "display_name": "Python 3 (ipykernel)",
   "language": "python",
   "name": "python3"
  },
  "language_info": {
   "codemirror_mode": {
    "name": "ipython",
    "version": 3
   },
   "file_extension": ".py",
   "mimetype": "text/x-python",
   "name": "python",
   "nbconvert_exporter": "python",
   "pygments_lexer": "ipython3",
   "version": "3.9.7"
  }
 },
 "nbformat": 4,
 "nbformat_minor": 5
}
