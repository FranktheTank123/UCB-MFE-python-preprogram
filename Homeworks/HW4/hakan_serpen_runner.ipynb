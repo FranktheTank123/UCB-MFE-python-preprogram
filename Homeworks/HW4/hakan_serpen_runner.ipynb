{
 "cells": [
  {
   "cell_type": "code",
   "execution_count": 22,
   "id": "f5d28e77-de2c-4875-9668-be828518f42d",
   "metadata": {},
   "outputs": [],
   "source": [
    "import papermill as pm\n",
    "import pandas as pd\n",
    "import os\n",
    "import datetime\n",
    "import scrapbook as sb"
   ]
  },
  {
   "cell_type": "code",
   "execution_count": 2,
   "id": "8663a6f0-7e61-47cf-9cea-7011bca45891",
   "metadata": {},
   "outputs": [],
   "source": [
    "connection_string = 'sqlite:///data/data.db'"
   ]
  },
  {
   "cell_type": "code",
   "execution_count": 3,
   "id": "0dfabe70-1258-4f54-a2e5-c27800424032",
   "metadata": {},
   "outputs": [],
   "source": [
    "info = pd.read_sql(f'''\n",
    "SELECT \n",
    "ts,token\n",
    "FROM ohlc \n",
    "''', connection_string)\n",
    "#prices['ts'] = pd.to_datetime(prices['ts'])\n",
    "\n",
    "#prices.set_index('ts', inplace=True)"
   ]
  },
  {
   "cell_type": "code",
   "execution_count": 4,
   "id": "3e084a1c-b19a-49cb-9196-e3320634b778",
   "metadata": {},
   "outputs": [],
   "source": [
    "tokens=set(info['token'])"
   ]
  },
  {
   "cell_type": "code",
   "execution_count": 5,
   "id": "70bafcc0-2805-416e-8909-33fc758192ed",
   "metadata": {},
   "outputs": [],
   "source": [
    "dates= pd.to_datetime(info['ts'])"
   ]
  },
  {
   "cell_type": "code",
   "execution_count": 9,
   "id": "a3ebb5b7-149c-477e-bf12-a6795a80226c",
   "metadata": {},
   "outputs": [],
   "source": [
    "from_date=dates.iloc[-1]-datetime.timedelta(weeks=2)\n",
    "to_date=dates.iloc[-1]"
   ]
  },
  {
   "cell_type": "code",
   "execution_count": 10,
   "id": "7bda0005-6da2-4a15-8a47-34ad4c276961",
   "metadata": {},
   "outputs": [],
   "source": [
    "base_output_folder = os.path.expanduser('outputs')\n",
    "\n",
    "if not os.path.exists(base_output_folder):\n",
    "        os.makedirs(base_output_folder)"
   ]
  },
  {
   "cell_type": "code",
   "execution_count": 72,
   "id": "ceedff8f-19f7-4937-8968-f86a661b216c",
   "metadata": {},
   "outputs": [
    {
     "name": "stdout",
     "output_type": "stream",
     "text": [
      "running for BTC for date 2021-12-01 00:00:00\n"
     ]
    },
    {
     "data": {
      "application/vnd.jupyter.widget-view+json": {
       "model_id": "9f8545fcde43486fba9e264dfd4a3149",
       "version_major": 2,
       "version_minor": 0
      },
      "text/plain": [
       "Executing:   0%|          | 0/13 [00:00<?, ?cell/s]"
      ]
     },
     "metadata": {},
     "output_type": "display_data"
    },
    {
     "name": "stdout",
     "output_type": "stream",
     "text": [
      "running for COMP for date 2021-12-01 00:00:00\n"
     ]
    },
    {
     "data": {
      "application/vnd.jupyter.widget-view+json": {
       "model_id": "77ee09c287db44f988b9139464be1184",
       "version_major": 2,
       "version_minor": 0
      },
      "text/plain": [
       "Executing:   0%|          | 0/13 [00:00<?, ?cell/s]"
      ]
     },
     "metadata": {},
     "output_type": "display_data"
    },
    {
     "name": "stdout",
     "output_type": "stream",
     "text": [
      "running for ATOM for date 2021-12-01 00:00:00\n"
     ]
    },
    {
     "data": {
      "application/vnd.jupyter.widget-view+json": {
       "model_id": "4ef3e19a33074f5c83219f1c3b46f5e7",
       "version_major": 2,
       "version_minor": 0
      },
      "text/plain": [
       "Executing:   0%|          | 0/13 [00:00<?, ?cell/s]"
      ]
     },
     "metadata": {},
     "output_type": "display_data"
    },
    {
     "name": "stdout",
     "output_type": "stream",
     "text": [
      "running for ADA for date 2021-12-01 00:00:00\n"
     ]
    },
    {
     "data": {
      "application/vnd.jupyter.widget-view+json": {
       "model_id": "97aba19012054973ab015a6f30d783cf",
       "version_major": 2,
       "version_minor": 0
      },
      "text/plain": [
       "Executing:   0%|          | 0/13 [00:00<?, ?cell/s]"
      ]
     },
     "metadata": {},
     "output_type": "display_data"
    },
    {
     "name": "stdout",
     "output_type": "stream",
     "text": [
      "running for ETH for date 2021-12-01 00:00:00\n"
     ]
    },
    {
     "data": {
      "application/vnd.jupyter.widget-view+json": {
       "model_id": "4b1cf7fdc06044738ac247f684d230f3",
       "version_major": 2,
       "version_minor": 0
      },
      "text/plain": [
       "Executing:   0%|          | 0/13 [00:00<?, ?cell/s]"
      ]
     },
     "metadata": {},
     "output_type": "display_data"
    },
    {
     "name": "stdout",
     "output_type": "stream",
     "text": [
      "running for DOT for date 2021-12-01 00:00:00\n"
     ]
    },
    {
     "data": {
      "application/vnd.jupyter.widget-view+json": {
       "model_id": "7930132d37d74389a8a44410db2353cb",
       "version_major": 2,
       "version_minor": 0
      },
      "text/plain": [
       "Executing:   0%|          | 0/13 [00:00<?, ?cell/s]"
      ]
     },
     "metadata": {},
     "output_type": "display_data"
    },
    {
     "name": "stdout",
     "output_type": "stream",
     "text": [
      "running for AVAX for date 2021-12-01 00:00:00\n"
     ]
    },
    {
     "data": {
      "application/vnd.jupyter.widget-view+json": {
       "model_id": "618219125a354b859d02ab0cec5b7281",
       "version_major": 2,
       "version_minor": 0
      },
      "text/plain": [
       "Executing:   0%|          | 0/13 [00:00<?, ?cell/s]"
      ]
     },
     "metadata": {},
     "output_type": "display_data"
    },
    {
     "name": "stdout",
     "output_type": "stream",
     "text": [
      "running for SOL for date 2021-12-01 00:00:00\n"
     ]
    },
    {
     "data": {
      "application/vnd.jupyter.widget-view+json": {
       "model_id": "9da5c5792fcf40ff906ce3bce04110c3",
       "version_major": 2,
       "version_minor": 0
      },
      "text/plain": [
       "Executing:   0%|          | 0/13 [00:00<?, ?cell/s]"
      ]
     },
     "metadata": {},
     "output_type": "display_data"
    },
    {
     "name": "stdout",
     "output_type": "stream",
     "text": [
      "running for USDT for date 2021-12-01 00:00:00\n"
     ]
    },
    {
     "data": {
      "application/vnd.jupyter.widget-view+json": {
       "model_id": "381aad8123d74e5da3b0bc319f7116c9",
       "version_major": 2,
       "version_minor": 0
      },
      "text/plain": [
       "Executing:   0%|          | 0/13 [00:00<?, ?cell/s]"
      ]
     },
     "metadata": {},
     "output_type": "display_data"
    },
    {
     "name": "stdout",
     "output_type": "stream",
     "text": [
      "running for CRV for date 2021-12-01 00:00:00\n"
     ]
    },
    {
     "data": {
      "application/vnd.jupyter.widget-view+json": {
       "model_id": "8cb394586cb74f88aefab47861966169",
       "version_major": 2,
       "version_minor": 0
      },
      "text/plain": [
       "Executing:   0%|          | 0/13 [00:00<?, ?cell/s]"
      ]
     },
     "metadata": {},
     "output_type": "display_data"
    },
    {
     "name": "stdout",
     "output_type": "stream",
     "text": [
      "running for AAVE for date 2021-12-01 00:00:00\n"
     ]
    },
    {
     "data": {
      "application/vnd.jupyter.widget-view+json": {
       "model_id": "650621f154664c9c97767e5c0994acea",
       "version_major": 2,
       "version_minor": 0
      },
      "text/plain": [
       "Executing:   0%|          | 0/13 [00:00<?, ?cell/s]"
      ]
     },
     "metadata": {},
     "output_type": "display_data"
    }
   ],
   "source": [
    "for token in tokens:\n",
    "    print(f'running for {token} for date {from_date}')\n",
    "    res = pm.execute_notebook(\n",
    "        'template.ipynb',\n",
    "        f'{base_output_folder}/{token}_{str(from_date)[:10]}.ipynb',\n",
    "        parameters = {\n",
    "            'from_date': f'{from_date}',\n",
    "            'to_date': f'{to_date}',\n",
    "            'token': token,\n",
    "            'connection_string': connection_string,\n",
    "            }\n",
    "    )"
   ]
  },
  {
   "cell_type": "code",
   "execution_count": 31,
   "id": "bd21c26e-ffae-4f1f-86c9-7dbc2530d141",
   "metadata": {},
   "outputs": [],
   "source": [
    "nbs = sb.read_notebooks('outputs')\n"
   ]
  },
  {
   "cell_type": "code",
   "execution_count": 67,
   "id": "d5bdd29f-7f7a-430e-9828-1012c908245c",
   "metadata": {},
   "outputs": [],
   "source": [
    "df=pd.DataFrame([\n",
    "    pd.Series({\n",
    "        'token': scrap['token'].data,\n",
    "        'return':scrap['prices'].data['return'].mean(),\n",
    "        'volatility': scrap['prices'].data['return'].mean(),\n",
    "        'max drawdown':scrap['prices'].data['max_drawdown'].iloc[-1],\n",
    "        'range': scrap['prices'].data['close'].iloc[-1] - scrap['prices'].data['close'].iloc[0]}\n",
    "        ) \n",
    "    for book, scrap in nbs.notebook_scraps.items()\n",
    "])"
   ]
  },
  {
   "cell_type": "code",
   "execution_count": 71,
   "id": "8bc06fcd-848b-41e4-b0b9-3fb57defdfb0",
   "metadata": {},
   "outputs": [
    {
     "data": {
      "text/html": [
       "<div>\n",
       "<style scoped>\n",
       "    .dataframe tbody tr th:only-of-type {\n",
       "        vertical-align: middle;\n",
       "    }\n",
       "\n",
       "    .dataframe tbody tr th {\n",
       "        vertical-align: top;\n",
       "    }\n",
       "\n",
       "    .dataframe thead th {\n",
       "        text-align: right;\n",
       "    }\n",
       "</style>\n",
       "<table border=\"1\" class=\"dataframe\">\n",
       "  <thead>\n",
       "    <tr style=\"text-align: right;\">\n",
       "      <th></th>\n",
       "      <th>return</th>\n",
       "      <th>volatility</th>\n",
       "      <th>max drawdown</th>\n",
       "      <th>range</th>\n",
       "    </tr>\n",
       "    <tr>\n",
       "      <th>token</th>\n",
       "      <th></th>\n",
       "      <th></th>\n",
       "      <th></th>\n",
       "      <th></th>\n",
       "    </tr>\n",
       "  </thead>\n",
       "  <tbody>\n",
       "    <tr>\n",
       "      <th>AAVE</th>\n",
       "      <td>-0.001282</td>\n",
       "      <td>-0.001282</td>\n",
       "      <td>0.187685</td>\n",
       "      <td>-88.3180</td>\n",
       "    </tr>\n",
       "    <tr>\n",
       "      <th>ADA</th>\n",
       "      <td>-0.000621</td>\n",
       "      <td>-0.000621</td>\n",
       "      <td>0.108138</td>\n",
       "      <td>-0.2849</td>\n",
       "    </tr>\n",
       "    <tr>\n",
       "      <th>ATOM</th>\n",
       "      <td>-0.000730</td>\n",
       "      <td>-0.000730</td>\n",
       "      <td>0.166814</td>\n",
       "      <td>-5.8280</td>\n",
       "    </tr>\n",
       "    <tr>\n",
       "      <th>AVAX</th>\n",
       "      <td>-0.000975</td>\n",
       "      <td>-0.000975</td>\n",
       "      <td>0.145482</td>\n",
       "      <td>-35.1400</td>\n",
       "    </tr>\n",
       "    <tr>\n",
       "      <th>BTC</th>\n",
       "      <td>-0.000520</td>\n",
       "      <td>-0.000520</td>\n",
       "      <td>0.163526</td>\n",
       "      <td>-8698.9800</td>\n",
       "    </tr>\n",
       "    <tr>\n",
       "      <th>COMP</th>\n",
       "      <td>-0.001236</td>\n",
       "      <td>-0.001236</td>\n",
       "      <td>0.152001</td>\n",
       "      <td>-93.6200</td>\n",
       "    </tr>\n",
       "    <tr>\n",
       "      <th>CRV</th>\n",
       "      <td>-0.001127</td>\n",
       "      <td>-0.001127</td>\n",
       "      <td>0.195640</td>\n",
       "      <td>-1.6295</td>\n",
       "    </tr>\n",
       "    <tr>\n",
       "      <th>DOT</th>\n",
       "      <td>-0.001117</td>\n",
       "      <td>-0.001117</td>\n",
       "      <td>0.165718</td>\n",
       "      <td>-11.8820</td>\n",
       "    </tr>\n",
       "    <tr>\n",
       "      <th>ETH</th>\n",
       "      <td>-0.000572</td>\n",
       "      <td>-0.000572</td>\n",
       "      <td>0.114836</td>\n",
       "      <td>-794.4600</td>\n",
       "    </tr>\n",
       "    <tr>\n",
       "      <th>SOL</th>\n",
       "      <td>-0.000840</td>\n",
       "      <td>-0.000840</td>\n",
       "      <td>0.112899</td>\n",
       "      <td>-49.7260</td>\n",
       "    </tr>\n",
       "    <tr>\n",
       "      <th>USDT</th>\n",
       "      <td>0.000004</td>\n",
       "      <td>0.000004</td>\n",
       "      <td>0.023415</td>\n",
       "      <td>-0.0003</td>\n",
       "    </tr>\n",
       "  </tbody>\n",
       "</table>\n",
       "</div>"
      ],
      "text/plain": [
       "         return  volatility  max drawdown      range\n",
       "token                                               \n",
       "AAVE  -0.001282   -0.001282      0.187685   -88.3180\n",
       "ADA   -0.000621   -0.000621      0.108138    -0.2849\n",
       "ATOM  -0.000730   -0.000730      0.166814    -5.8280\n",
       "AVAX  -0.000975   -0.000975      0.145482   -35.1400\n",
       "BTC   -0.000520   -0.000520      0.163526 -8698.9800\n",
       "COMP  -0.001236   -0.001236      0.152001   -93.6200\n",
       "CRV   -0.001127   -0.001127      0.195640    -1.6295\n",
       "DOT   -0.001117   -0.001117      0.165718   -11.8820\n",
       "ETH   -0.000572   -0.000572      0.114836  -794.4600\n",
       "SOL   -0.000840   -0.000840      0.112899   -49.7260\n",
       "USDT   0.000004    0.000004      0.023415    -0.0003"
      ]
     },
     "execution_count": 71,
     "metadata": {},
     "output_type": "execute_result"
    }
   ],
   "source": [
    "df=df.set_index('token')\n",
    "df"
   ]
  }
 ],
 "metadata": {
  "kernelspec": {
   "display_name": "Python 3 (ipykernel)",
   "language": "python",
   "name": "python3"
  },
  "language_info": {
   "codemirror_mode": {
    "name": "ipython",
    "version": 3
   },
   "file_extension": ".py",
   "mimetype": "text/x-python",
   "name": "python",
   "nbconvert_exporter": "python",
   "pygments_lexer": "ipython3",
   "version": "3.8.12"
  }
 },
 "nbformat": 4,
 "nbformat_minor": 5
}
