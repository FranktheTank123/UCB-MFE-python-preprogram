{
 "cells": [
  {
   "cell_type": "code",
   "execution_count": 1,
   "id": "ab061d42-b882-4672-bfff-78517997266e",
   "metadata": {},
   "outputs": [
    {
     "name": "stderr",
     "output_type": "stream",
     "text": [
      "D:\\Anaconda3\\lib\\site-packages\\papermill\\iorw.py:50: FutureWarning: pyarrow.HadoopFileSystem is deprecated as of 2.0.0, please use pyarrow.fs.HadoopFileSystem instead.\n",
      "  from pyarrow import HadoopFileSystem\n"
     ]
    }
   ],
   "source": [
    "import pandas as pd\n",
    "import papermill as pm\n",
    "import scrapbook as sb\n",
    "import os"
   ]
  },
  {
   "cell_type": "code",
   "execution_count": 2,
   "id": "a82a8178-818c-49ef-8270-1653ae6d1a1a",
   "metadata": {},
   "outputs": [],
   "source": [
    "def last_two_complete_weeks(ts):\n",
    "    if pd.Timestamp(ts).hour < 23:\n",
    "        last_complete_day = pd.Timestamp(ts) - pd.Timedelta(days=1)\n",
    "    else:\n",
    "        last_complete_day = pd.Timestamp(ts)   \n",
    "    day_of_week = last_complete_day.dayofweek\n",
    "    days_delta = day_of_week if day_of_week < 6 else -1\n",
    "    end_date = last_complete_day - pd.Timedelta(days=days_delta)\n",
    "    start_date = end_date - pd.Timedelta(days=14)   \n",
    "    \n",
    "    return str(start_date.date()), str(end_date.date())\n",
    "\n",
    "# last_two_complete_weeks('2021-11-14 22:00:00')  ('2021-10-25', '2021-11-08')\n",
    "# last_two_complete_weeks('2021-11-14 23:00:00')  ('2021-11-01', '2021-11-15')\n",
    "# last_two_complete_weeks('2021-11-15 22:00:00')  ('2021-11-01', '2021-11-15')\n",
    "# last_two_complete_weeks('2021-11-15 23:00:00')  ('2021-11-01', '2021-11-15')"
   ]
  },
  {
   "cell_type": "code",
   "execution_count": 3,
   "id": "ab19e51a-5ed2-4911-8a50-2caae2764edf",
   "metadata": {},
   "outputs": [],
   "source": [
    "tokens = pd.read_sql('''\n",
    "SELECT \n",
    "    DISTINCT token\n",
    "FROM \n",
    "    ohlc\n",
    "''', 'sqlite:///data/data.db').values.ravel().tolist()  # ['BTC', 'ETH', 'USDT', 'SOL', 'ADA', 'DOT', 'AVAX', 'ATOM', 'CRV', 'AAVE', 'COMP']"
   ]
  },
  {
   "cell_type": "code",
   "execution_count": 4,
   "id": "79addaf4-9c43-4e88-bd63-b14995c275da",
   "metadata": {},
   "outputs": [],
   "source": [
    "ts_max = pd.read_sql('''\n",
    "SELECT \n",
    "    MAX(ts)\n",
    "FROM \n",
    "    ohlc\n",
    "''', 'sqlite:///data/data.db').values.ravel().tolist()[0]  # '2021-12-15 00:00:00'\n",
    "\n",
    "start_date, end_date = last_two_complete_weeks(ts_max)  # '2021-11-29', '2021-12-13'"
   ]
  },
  {
   "cell_type": "code",
   "execution_count": 5,
   "id": "b6e5c084-971b-4bfd-b347-eb1d31a1da2b",
   "metadata": {},
   "outputs": [],
   "source": [
    "base_output_folder = os.path.expanduser('output')\n",
    "\n",
    "if not os.path.exists(base_output_folder):\n",
    "    os.makedirs(base_output_folder)"
   ]
  },
  {
   "cell_type": "code",
   "execution_count": 6,
   "id": "0b60ae1c-03d9-4740-837f-400392a70c38",
   "metadata": {},
   "outputs": [
    {
     "name": "stdout",
     "output_type": "stream",
     "text": [
      "running for BTC\r"
     ]
    },
    {
     "data": {
      "application/vnd.jupyter.widget-view+json": {
       "model_id": "0c20d7bfe4944e14b4f5a89151fe56db",
       "version_major": 2,
       "version_minor": 0
      },
      "text/plain": [
       "Executing:   0%|          | 0/11 [00:00<?, ?cell/s]"
      ]
     },
     "metadata": {},
     "output_type": "display_data"
    },
    {
     "name": "stdout",
     "output_type": "stream",
     "text": [
      "running for ETH\r"
     ]
    },
    {
     "data": {
      "application/vnd.jupyter.widget-view+json": {
       "model_id": "93cf06cacdc34cc3b3bae888e0e5bbd6",
       "version_major": 2,
       "version_minor": 0
      },
      "text/plain": [
       "Executing:   0%|          | 0/11 [00:00<?, ?cell/s]"
      ]
     },
     "metadata": {},
     "output_type": "display_data"
    },
    {
     "name": "stdout",
     "output_type": "stream",
     "text": [
      "running for USDT\r"
     ]
    },
    {
     "data": {
      "application/vnd.jupyter.widget-view+json": {
       "model_id": "3d666c178a234a3188b4a23cb1f25bff",
       "version_major": 2,
       "version_minor": 0
      },
      "text/plain": [
       "Executing:   0%|          | 0/11 [00:00<?, ?cell/s]"
      ]
     },
     "metadata": {},
     "output_type": "display_data"
    },
    {
     "name": "stdout",
     "output_type": "stream",
     "text": [
      "running for SOL\r"
     ]
    },
    {
     "data": {
      "application/vnd.jupyter.widget-view+json": {
       "model_id": "26ef646f27f24d9796415567d5d18b17",
       "version_major": 2,
       "version_minor": 0
      },
      "text/plain": [
       "Executing:   0%|          | 0/11 [00:00<?, ?cell/s]"
      ]
     },
     "metadata": {},
     "output_type": "display_data"
    },
    {
     "name": "stdout",
     "output_type": "stream",
     "text": [
      "running for ADA\r"
     ]
    },
    {
     "data": {
      "application/vnd.jupyter.widget-view+json": {
       "model_id": "2a38b44ee5ee48df80ed92bd7e48207e",
       "version_major": 2,
       "version_minor": 0
      },
      "text/plain": [
       "Executing:   0%|          | 0/11 [00:00<?, ?cell/s]"
      ]
     },
     "metadata": {},
     "output_type": "display_data"
    },
    {
     "name": "stdout",
     "output_type": "stream",
     "text": [
      "running for DOT\r"
     ]
    },
    {
     "data": {
      "application/vnd.jupyter.widget-view+json": {
       "model_id": "03c257e0b85344e3a6e9db46a17d59e5",
       "version_major": 2,
       "version_minor": 0
      },
      "text/plain": [
       "Executing:   0%|          | 0/11 [00:00<?, ?cell/s]"
      ]
     },
     "metadata": {},
     "output_type": "display_data"
    },
    {
     "name": "stdout",
     "output_type": "stream",
     "text": [
      "running for AVAX\r"
     ]
    },
    {
     "data": {
      "application/vnd.jupyter.widget-view+json": {
       "model_id": "affe6a671aae4d66a1d14937c08dd6ef",
       "version_major": 2,
       "version_minor": 0
      },
      "text/plain": [
       "Executing:   0%|          | 0/11 [00:00<?, ?cell/s]"
      ]
     },
     "metadata": {},
     "output_type": "display_data"
    },
    {
     "name": "stdout",
     "output_type": "stream",
     "text": [
      "running for ATOM\r"
     ]
    },
    {
     "data": {
      "application/vnd.jupyter.widget-view+json": {
       "model_id": "7a09abf18d3d4312a95ede416bea4771",
       "version_major": 2,
       "version_minor": 0
      },
      "text/plain": [
       "Executing:   0%|          | 0/11 [00:00<?, ?cell/s]"
      ]
     },
     "metadata": {},
     "output_type": "display_data"
    },
    {
     "name": "stdout",
     "output_type": "stream",
     "text": [
      "running for CRV\r"
     ]
    },
    {
     "data": {
      "application/vnd.jupyter.widget-view+json": {
       "model_id": "a5d9eedf3b43428fb06a2a2452080b17",
       "version_major": 2,
       "version_minor": 0
      },
      "text/plain": [
       "Executing:   0%|          | 0/11 [00:00<?, ?cell/s]"
      ]
     },
     "metadata": {},
     "output_type": "display_data"
    },
    {
     "name": "stdout",
     "output_type": "stream",
     "text": [
      "running for AAVE\r"
     ]
    },
    {
     "data": {
      "application/vnd.jupyter.widget-view+json": {
       "model_id": "f6cc1ff001364475a92435e512a69ee2",
       "version_major": 2,
       "version_minor": 0
      },
      "text/plain": [
       "Executing:   0%|          | 0/11 [00:00<?, ?cell/s]"
      ]
     },
     "metadata": {},
     "output_type": "display_data"
    },
    {
     "name": "stdout",
     "output_type": "stream",
     "text": [
      "running for COMP\r"
     ]
    },
    {
     "data": {
      "application/vnd.jupyter.widget-view+json": {
       "model_id": "e36fed1e52d041689b2e33f925126197",
       "version_major": 2,
       "version_minor": 0
      },
      "text/plain": [
       "Executing:   0%|          | 0/11 [00:00<?, ?cell/s]"
      ]
     },
     "metadata": {},
     "output_type": "display_data"
    }
   ],
   "source": [
    "for token in tokens:\n",
    "    print(f'running for {token}', end='\\r')\n",
    "    res = pm.execute_notebook(\n",
    "        'template.ipynb',\n",
    "        f'{base_output_folder}/market_analysis_{token}_between_{start_date}_and_{end_date}(excluded).ipynb',\n",
    "        parameters = {\n",
    "            'start_date': start_date,\n",
    "            'end_date': end_date,\n",
    "            'token': token})"
   ]
  },
  {
   "cell_type": "code",
   "execution_count": 7,
   "id": "b27d1eea-b546-4271-889c-019dbfdb444a",
   "metadata": {},
   "outputs": [
    {
     "data": {
      "text/html": [
       "<div>\n",
       "<style scoped>\n",
       "    .dataframe tbody tr th:only-of-type {\n",
       "        vertical-align: middle;\n",
       "    }\n",
       "\n",
       "    .dataframe tbody tr th {\n",
       "        vertical-align: top;\n",
       "    }\n",
       "\n",
       "    .dataframe thead th {\n",
       "        text-align: right;\n",
       "    }\n",
       "</style>\n",
       "<table border=\"1\" class=\"dataframe\">\n",
       "  <thead>\n",
       "    <tr style=\"text-align: right;\">\n",
       "      <th></th>\n",
       "      <th>token</th>\n",
       "      <th>avgReturn</th>\n",
       "      <th>avgVolatility</th>\n",
       "      <th>maximumDrawdown</th>\n",
       "      <th>rangeOfClose</th>\n",
       "    </tr>\n",
       "  </thead>\n",
       "  <tbody>\n",
       "    <tr>\n",
       "      <th>0</th>\n",
       "      <td>AAVE</td>\n",
       "      <td>-7.697463e-04</td>\n",
       "      <td>0.212356</td>\n",
       "      <td>-0.378718</td>\n",
       "      <td>-58.6450</td>\n",
       "    </tr>\n",
       "    <tr>\n",
       "      <th>1</th>\n",
       "      <td>ADA</td>\n",
       "      <td>-4.241618e-04</td>\n",
       "      <td>0.217477</td>\n",
       "      <td>-0.312827</td>\n",
       "      <td>-0.2445</td>\n",
       "    </tr>\n",
       "    <tr>\n",
       "      <th>2</th>\n",
       "      <td>ATOM</td>\n",
       "      <td>-1.776982e-04</td>\n",
       "      <td>0.299425</td>\n",
       "      <td>-0.329570</td>\n",
       "      <td>-2.7560</td>\n",
       "    </tr>\n",
       "    <tr>\n",
       "      <th>3</th>\n",
       "      <td>AVAX</td>\n",
       "      <td>-5.540979e-04</td>\n",
       "      <td>0.286536</td>\n",
       "      <td>-0.385790</td>\n",
       "      <td>-22.9300</td>\n",
       "    </tr>\n",
       "    <tr>\n",
       "      <th>4</th>\n",
       "      <td>BTC</td>\n",
       "      <td>-3.569235e-04</td>\n",
       "      <td>0.154894</td>\n",
       "      <td>-0.206462</td>\n",
       "      <td>-6999.8400</td>\n",
       "    </tr>\n",
       "    <tr>\n",
       "      <th>5</th>\n",
       "      <td>COMP</td>\n",
       "      <td>-1.015116e-03</td>\n",
       "      <td>0.224354</td>\n",
       "      <td>-0.377871</td>\n",
       "      <td>-88.2800</td>\n",
       "    </tr>\n",
       "    <tr>\n",
       "      <th>6</th>\n",
       "      <td>CRV</td>\n",
       "      <td>-5.385247e-04</td>\n",
       "      <td>0.328177</td>\n",
       "      <td>-0.394862</td>\n",
       "      <td>-1.0362</td>\n",
       "    </tr>\n",
       "    <tr>\n",
       "      <th>7</th>\n",
       "      <td>DOT</td>\n",
       "      <td>-4.540131e-04</td>\n",
       "      <td>0.245633</td>\n",
       "      <td>-0.350800</td>\n",
       "      <td>-6.0050</td>\n",
       "    </tr>\n",
       "    <tr>\n",
       "      <th>8</th>\n",
       "      <td>ETH</td>\n",
       "      <td>-6.065377e-05</td>\n",
       "      <td>0.174104</td>\n",
       "      <td>-0.188101</td>\n",
       "      <td>-141.7100</td>\n",
       "    </tr>\n",
       "    <tr>\n",
       "      <th>9</th>\n",
       "      <td>SOL</td>\n",
       "      <td>-3.446384e-04</td>\n",
       "      <td>0.242432</td>\n",
       "      <td>-0.317207</td>\n",
       "      <td>-26.6870</td>\n",
       "    </tr>\n",
       "    <tr>\n",
       "      <th>10</th>\n",
       "      <td>USDT</td>\n",
       "      <td>-2.517623e-07</td>\n",
       "      <td>0.011010</td>\n",
       "      <td>-0.005073</td>\n",
       "      <td>-0.0001</td>\n",
       "    </tr>\n",
       "  </tbody>\n",
       "</table>\n",
       "</div>"
      ],
      "text/plain": [
       "   token     avgReturn  avgVolatility  maximumDrawdown  rangeOfClose\n",
       "0   AAVE -7.697463e-04       0.212356        -0.378718      -58.6450\n",
       "1    ADA -4.241618e-04       0.217477        -0.312827       -0.2445\n",
       "2   ATOM -1.776982e-04       0.299425        -0.329570       -2.7560\n",
       "3   AVAX -5.540979e-04       0.286536        -0.385790      -22.9300\n",
       "4    BTC -3.569235e-04       0.154894        -0.206462    -6999.8400\n",
       "5   COMP -1.015116e-03       0.224354        -0.377871      -88.2800\n",
       "6    CRV -5.385247e-04       0.328177        -0.394862       -1.0362\n",
       "7    DOT -4.540131e-04       0.245633        -0.350800       -6.0050\n",
       "8    ETH -6.065377e-05       0.174104        -0.188101     -141.7100\n",
       "9    SOL -3.446384e-04       0.242432        -0.317207      -26.6870\n",
       "10  USDT -2.517623e-07       0.011010        -0.005073       -0.0001"
      ]
     },
     "execution_count": 7,
     "metadata": {},
     "output_type": "execute_result"
    }
   ],
   "source": [
    "pd.DataFrame([\n",
    "    pd.Series({\n",
    "        'token': scrap['token'].data,\n",
    "        'avgReturn': scrap['df'].data['return'].mean(),\n",
    "        'avgVolatility': scrap['df'].data['volatility'].mean(),\n",
    "        'maximumDrawdown': scrap['df'].data['maximumDrawdown'].min(),\n",
    "        'rangeOfClose': scrap['df'].data['close'].iloc[-1] - scrap['df'].data['close'].iloc[0]\n",
    "    }) for book, scrap in sb.read_notebooks('output').notebook_scraps.items()])"
   ]
  },
  {
   "cell_type": "code",
   "execution_count": null,
   "id": "62adc25a-f964-4b26-9efc-425e2412b97e",
   "metadata": {},
   "outputs": [],
   "source": []
  }
 ],
 "metadata": {
  "kernelspec": {
   "display_name": "Python 3 (ipykernel)",
   "language": "python",
   "name": "python3"
  },
  "language_info": {
   "codemirror_mode": {
    "name": "ipython",
    "version": 3
   },
   "file_extension": ".py",
   "mimetype": "text/x-python",
   "name": "python",
   "nbconvert_exporter": "python",
   "pygments_lexer": "ipython3",
   "version": "3.9.7"
  }
 },
 "nbformat": 4,
 "nbformat_minor": 5
}
