{
 "cells": [
  {
   "cell_type": "code",
   "execution_count": 1,
   "id": "fce84186-eec8-45d0-b16c-f0fc74e4e00e",
   "metadata": {},
   "outputs": [
    {
     "name": "stderr",
     "output_type": "stream",
     "text": [
      "D:\\Anaconda\\envs\\HW4\\lib\\site-packages\\papermill\\iorw.py:50: FutureWarning: pyarrow.HadoopFileSystem is deprecated as of 2.0.0, please use pyarrow.fs.HadoopFileSystem instead.\n",
      "  from pyarrow import HadoopFileSystem\n"
     ]
    }
   ],
   "source": [
    "import papermill as pm\n",
    "import scrapbook as sb\n",
    "import pandas as pd\n",
    "from datetime import datetime, timedelta\n",
    "import os"
   ]
  },
  {
   "cell_type": "markdown",
   "id": "f2120a07-8455-4d19-bf34-adae6304b160",
   "metadata": {},
   "source": [
    "2. Create a runner notebook using papermill to run the template notebook across all tokens in the database and the last 2 complete weeks in the database.  Summarize the following in a single DataFrame in the runner notebook\n",
    "    - avg hourly return by run\n",
    "    - avg volatility by run\n",
    "    - maximum drawdown over the entire period of each run\n",
    "    - range of last close price - first close price"
   ]
  },
  {
   "cell_type": "code",
   "execution_count": 2,
   "id": "5795f184-11f5-452b-b2c5-5e356470d3a9",
   "metadata": {},
   "outputs": [],
   "source": [
    "connection_string = 'sqlite:///../../../Lectures/Lecture 4/data/data.db'"
   ]
  },
  {
   "cell_type": "markdown",
   "id": "0d0d5977-6c75-421a-9f6f-bf5491b9f270",
   "metadata": {},
   "source": [
    "# Get all tokens"
   ]
  },
  {
   "cell_type": "code",
   "execution_count": 3,
   "id": "fee9970b-c025-4967-9dbe-c04c9f1616b0",
   "metadata": {},
   "outputs": [
    {
     "data": {
      "text/plain": [
       "['BTC',\n",
       " 'ETH',\n",
       " 'USDT',\n",
       " 'SOL',\n",
       " 'ADA',\n",
       " 'DOT',\n",
       " 'AVAX',\n",
       " 'ATOM',\n",
       " 'CRV',\n",
       " 'AAVE',\n",
       " 'COMP']"
      ]
     },
     "execution_count": 3,
     "metadata": {},
     "output_type": "execute_result"
    }
   ],
   "source": [
    "all_tokens = pd.read_sql('''\n",
    "SELECT DISTINCT\n",
    "    token\n",
    "FROM\n",
    "    ohlc\n",
    "''', connection_string)\n",
    "\n",
    "all_tokens = all_tokens.values.reshape(-1,).tolist()\n",
    "all_tokens"
   ]
  },
  {
   "cell_type": "markdown",
   "id": "036710c4-46d4-4f08-93e5-1c1d4e401b23",
   "metadata": {},
   "source": [
    "# Get the last two complete weeks"
   ]
  },
  {
   "cell_type": "markdown",
   "id": "ed81ee66-cc93-4ad1-9319-f8c1426bcb60",
   "metadata": {},
   "source": [
    "## Get the end of date of database"
   ]
  },
  {
   "cell_type": "code",
   "execution_count": 4,
   "id": "771fac46-7c5d-49c0-bdf8-84a788f84746",
   "metadata": {},
   "outputs": [
    {
     "data": {
      "text/plain": [
       "datetime.datetime(2021, 12, 15, 0, 0)"
      ]
     },
     "execution_count": 4,
     "metadata": {},
     "output_type": "execute_result"
    }
   ],
   "source": [
    "end_date_db = pd.read_sql('''\n",
    "SELECT\n",
    "    MAX(ts)  \n",
    "FROM\n",
    "    ohlc\n",
    "''', connection_string)\n",
    "\n",
    "# end_date_db = pd.to_datetime(end_date_db).values\n",
    "end_date_db = datetime.strptime(end_date_db.values.item(), '%Y-%m-%d %H:%M:%S')\n",
    "end_date_db"
   ]
  },
  {
   "cell_type": "markdown",
   "id": "96ddb7bd-d355-4e51-95cc-0d5821e1c888",
   "metadata": {},
   "source": [
    "## Get the last two complete weeks according to the end of date of database"
   ]
  },
  {
   "cell_type": "code",
   "execution_count": 5,
   "id": "9c559906-f0d0-4543-9834-2febb2be564b",
   "metadata": {},
   "outputs": [],
   "source": [
    "def last_date_of_week(d: datetime, to_day_of_last_week: int) -> datetime:\n",
    "    '''\n",
    "    Get the date of the last day of week,\n",
    "    using datetime convention of Monday is 0 and Sunday is 6\n",
    "    '''\n",
    "    day_of_week_for_d = d.weekday()\n",
    "    days_delta = (7 - to_day_of_last_week) + day_of_week_for_d if day_of_week_for_d < to_day_of_last_week else day_of_week_for_d - to_day_of_last_week\n",
    "    return d - timedelta(days=days_delta)"
   ]
  },
  {
   "cell_type": "markdown",
   "id": "5f76118d-25af-4fe1-82ee-4fa4426cd571",
   "metadata": {},
   "source": [
    "- Calculation Explanation of the above function:  \n",
    "A. if `day_of_week_for_d` < `to_day_of_last_week`:  \n",
    "the last date of a week is at the last week, the gap consists of two part:\n",
    "(1) number of the remaining days at last week, (2) number of days at this week  \n",
    "B. if `day_of_week_for_d` >= `to_day_of_last_week`:  \n",
    "last date of week is at the same week of d, so the gap is\n",
    "`day_of_week_for_d` - `to_day_of_last_week`"
   ]
  },
  {
   "cell_type": "code",
   "execution_count": 6,
   "id": "75b4db92-dba5-4e5e-adda-64e223bbf59a",
   "metadata": {},
   "outputs": [
    {
     "data": {
      "text/plain": [
       "[datetime.datetime(2021, 12, 7, 0, 0), datetime.datetime(2021, 12, 14, 0, 0)]"
      ]
     },
     "execution_count": 6,
     "metadata": {},
     "output_type": "execute_result"
    }
   ],
   "source": [
    "end_dates_of_last2weeks = [(last_date_of_week(end_date_db, 1) - timedelta(days=7*i)) for i in range(2)]\n",
    "# `1` means Monday, i.e. the last timestamp of selected dataframe is 23:00:00 on Sunday\n",
    "# `2` means two weeks\n",
    "end_dates_of_last2weeks = end_dates_of_last2weeks[::-1]\n",
    "end_dates_of_last2weeks"
   ]
  },
  {
   "cell_type": "code",
   "execution_count": 7,
   "id": "1b74fcb8-6ab6-4935-b89e-906b811e9a45",
   "metadata": {},
   "outputs": [],
   "source": [
    "output_folder = os.path.expanduser('outputs')\n",
    "\n",
    "if not os.path.exists(output_folder):\n",
    "    os.makedirs(output_folder)"
   ]
  },
  {
   "cell_type": "markdown",
   "id": "1df57923-4f90-4f1d-afa3-c32a549ff3a0",
   "metadata": {},
   "source": [
    "# Notebook execution"
   ]
  },
  {
   "cell_type": "code",
   "execution_count": 8,
   "id": "2f1831a1-dc5c-4a39-9e62-9a39f8541e83",
   "metadata": {
    "tags": []
   },
   "outputs": [
    {
     "name": "stdout",
     "output_type": "stream",
     "text": [
      "running for BTC for date 2021-11-30 00:00:00 to date 2021-12-07 00:00:00\r"
     ]
    },
    {
     "data": {
      "application/vnd.jupyter.widget-view+json": {
       "model_id": "c8157797c0364386ac61177ec03702c2",
       "version_major": 2,
       "version_minor": 0
      },
      "text/plain": [
       "Executing:   0%|          | 0/20 [00:00<?, ?cell/s]"
      ]
     },
     "metadata": {},
     "output_type": "display_data"
    },
    {
     "name": "stdout",
     "output_type": "stream",
     "text": [
      "running for ETH for date 2021-11-30 00:00:00 to date 2021-12-07 00:00:00\r"
     ]
    },
    {
     "data": {
      "application/vnd.jupyter.widget-view+json": {
       "model_id": "9baa673632ff4cc5887ecd982ff017de",
       "version_major": 2,
       "version_minor": 0
      },
      "text/plain": [
       "Executing:   0%|          | 0/20 [00:00<?, ?cell/s]"
      ]
     },
     "metadata": {},
     "output_type": "display_data"
    },
    {
     "name": "stdout",
     "output_type": "stream",
     "text": [
      "running for USDT for date 2021-11-30 00:00:00 to date 2021-12-07 00:00:00\r"
     ]
    },
    {
     "data": {
      "application/vnd.jupyter.widget-view+json": {
       "model_id": "1a01eb5563494c258dc660864658f457",
       "version_major": 2,
       "version_minor": 0
      },
      "text/plain": [
       "Executing:   0%|          | 0/20 [00:00<?, ?cell/s]"
      ]
     },
     "metadata": {},
     "output_type": "display_data"
    },
    {
     "name": "stdout",
     "output_type": "stream",
     "text": [
      "running for SOL for date 2021-11-30 00:00:00 to date 2021-12-07 00:00:00\r"
     ]
    },
    {
     "data": {
      "application/vnd.jupyter.widget-view+json": {
       "model_id": "89a9139d17134692a5ac6872c0c6dbaa",
       "version_major": 2,
       "version_minor": 0
      },
      "text/plain": [
       "Executing:   0%|          | 0/20 [00:00<?, ?cell/s]"
      ]
     },
     "metadata": {},
     "output_type": "display_data"
    },
    {
     "name": "stdout",
     "output_type": "stream",
     "text": [
      "running for ADA for date 2021-11-30 00:00:00 to date 2021-12-07 00:00:00\r"
     ]
    },
    {
     "data": {
      "application/vnd.jupyter.widget-view+json": {
       "model_id": "448de771d7644d4d9189f008515f0e76",
       "version_major": 2,
       "version_minor": 0
      },
      "text/plain": [
       "Executing:   0%|          | 0/20 [00:00<?, ?cell/s]"
      ]
     },
     "metadata": {},
     "output_type": "display_data"
    },
    {
     "name": "stdout",
     "output_type": "stream",
     "text": [
      "running for DOT for date 2021-11-30 00:00:00 to date 2021-12-07 00:00:00\r"
     ]
    },
    {
     "data": {
      "application/vnd.jupyter.widget-view+json": {
       "model_id": "73a3ba043aac4064a44546e5f9de82e9",
       "version_major": 2,
       "version_minor": 0
      },
      "text/plain": [
       "Executing:   0%|          | 0/20 [00:00<?, ?cell/s]"
      ]
     },
     "metadata": {},
     "output_type": "display_data"
    },
    {
     "name": "stdout",
     "output_type": "stream",
     "text": [
      "running for AVAX for date 2021-11-30 00:00:00 to date 2021-12-07 00:00:00\r"
     ]
    },
    {
     "data": {
      "application/vnd.jupyter.widget-view+json": {
       "model_id": "c161c71e1f2247afbdd6cf428b02f5bd",
       "version_major": 2,
       "version_minor": 0
      },
      "text/plain": [
       "Executing:   0%|          | 0/20 [00:00<?, ?cell/s]"
      ]
     },
     "metadata": {},
     "output_type": "display_data"
    },
    {
     "name": "stdout",
     "output_type": "stream",
     "text": [
      "running for ATOM for date 2021-11-30 00:00:00 to date 2021-12-07 00:00:00\r"
     ]
    },
    {
     "data": {
      "application/vnd.jupyter.widget-view+json": {
       "model_id": "806d44a0c49b4b77aebd8cae881dc31e",
       "version_major": 2,
       "version_minor": 0
      },
      "text/plain": [
       "Executing:   0%|          | 0/20 [00:00<?, ?cell/s]"
      ]
     },
     "metadata": {},
     "output_type": "display_data"
    },
    {
     "name": "stdout",
     "output_type": "stream",
     "text": [
      "running for CRV for date 2021-11-30 00:00:00 to date 2021-12-07 00:00:00\r"
     ]
    },
    {
     "data": {
      "application/vnd.jupyter.widget-view+json": {
       "model_id": "4008ec3bbe2241a9aa577f2ca7438645",
       "version_major": 2,
       "version_minor": 0
      },
      "text/plain": [
       "Executing:   0%|          | 0/20 [00:00<?, ?cell/s]"
      ]
     },
     "metadata": {},
     "output_type": "display_data"
    },
    {
     "name": "stdout",
     "output_type": "stream",
     "text": [
      "running for AAVE for date 2021-11-30 00:00:00 to date 2021-12-07 00:00:00\r"
     ]
    },
    {
     "data": {
      "application/vnd.jupyter.widget-view+json": {
       "model_id": "5a83d63769f145539935aa8fc13bb0c7",
       "version_major": 2,
       "version_minor": 0
      },
      "text/plain": [
       "Executing:   0%|          | 0/20 [00:00<?, ?cell/s]"
      ]
     },
     "metadata": {},
     "output_type": "display_data"
    },
    {
     "name": "stdout",
     "output_type": "stream",
     "text": [
      "running for COMP for date 2021-11-30 00:00:00 to date 2021-12-07 00:00:00\r"
     ]
    },
    {
     "data": {
      "application/vnd.jupyter.widget-view+json": {
       "model_id": "1ac1ef089f414eb3bb8b088e2b9a5199",
       "version_major": 2,
       "version_minor": 0
      },
      "text/plain": [
       "Executing:   0%|          | 0/20 [00:00<?, ?cell/s]"
      ]
     },
     "metadata": {},
     "output_type": "display_data"
    },
    {
     "name": "stdout",
     "output_type": "stream",
     "text": [
      "running for BTC for date 2021-12-07 00:00:00 to date 2021-12-14 00:00:00\r"
     ]
    },
    {
     "data": {
      "application/vnd.jupyter.widget-view+json": {
       "model_id": "81e7000cbf6a4da286c7e69cdc91247f",
       "version_major": 2,
       "version_minor": 0
      },
      "text/plain": [
       "Executing:   0%|          | 0/20 [00:00<?, ?cell/s]"
      ]
     },
     "metadata": {},
     "output_type": "display_data"
    },
    {
     "name": "stdout",
     "output_type": "stream",
     "text": [
      "running for ETH for date 2021-12-07 00:00:00 to date 2021-12-14 00:00:00\r"
     ]
    },
    {
     "data": {
      "application/vnd.jupyter.widget-view+json": {
       "model_id": "cc5ab20578324312bc4087eaabaa7b79",
       "version_major": 2,
       "version_minor": 0
      },
      "text/plain": [
       "Executing:   0%|          | 0/20 [00:00<?, ?cell/s]"
      ]
     },
     "metadata": {},
     "output_type": "display_data"
    },
    {
     "name": "stdout",
     "output_type": "stream",
     "text": [
      "running for USDT for date 2021-12-07 00:00:00 to date 2021-12-14 00:00:00\r"
     ]
    },
    {
     "data": {
      "application/vnd.jupyter.widget-view+json": {
       "model_id": "d617946312df41a1973dbbdd92cb0b10",
       "version_major": 2,
       "version_minor": 0
      },
      "text/plain": [
       "Executing:   0%|          | 0/20 [00:00<?, ?cell/s]"
      ]
     },
     "metadata": {},
     "output_type": "display_data"
    },
    {
     "name": "stdout",
     "output_type": "stream",
     "text": [
      "running for SOL for date 2021-12-07 00:00:00 to date 2021-12-14 00:00:00\r"
     ]
    },
    {
     "data": {
      "application/vnd.jupyter.widget-view+json": {
       "model_id": "f3933208f71048c2bf9910865852c422",
       "version_major": 2,
       "version_minor": 0
      },
      "text/plain": [
       "Executing:   0%|          | 0/20 [00:00<?, ?cell/s]"
      ]
     },
     "metadata": {},
     "output_type": "display_data"
    },
    {
     "name": "stdout",
     "output_type": "stream",
     "text": [
      "running for ADA for date 2021-12-07 00:00:00 to date 2021-12-14 00:00:00\r"
     ]
    },
    {
     "data": {
      "application/vnd.jupyter.widget-view+json": {
       "model_id": "ba4481abff38449f93df766e4a5a80d3",
       "version_major": 2,
       "version_minor": 0
      },
      "text/plain": [
       "Executing:   0%|          | 0/20 [00:00<?, ?cell/s]"
      ]
     },
     "metadata": {},
     "output_type": "display_data"
    },
    {
     "name": "stdout",
     "output_type": "stream",
     "text": [
      "running for DOT for date 2021-12-07 00:00:00 to date 2021-12-14 00:00:00\r"
     ]
    },
    {
     "data": {
      "application/vnd.jupyter.widget-view+json": {
       "model_id": "82270fe85faa4be1bf43b3b0a4e46b6f",
       "version_major": 2,
       "version_minor": 0
      },
      "text/plain": [
       "Executing:   0%|          | 0/20 [00:00<?, ?cell/s]"
      ]
     },
     "metadata": {},
     "output_type": "display_data"
    },
    {
     "name": "stdout",
     "output_type": "stream",
     "text": [
      "running for AVAX for date 2021-12-07 00:00:00 to date 2021-12-14 00:00:00\r"
     ]
    },
    {
     "data": {
      "application/vnd.jupyter.widget-view+json": {
       "model_id": "68ad89784bf74c439cd69a754b5cb3a9",
       "version_major": 2,
       "version_minor": 0
      },
      "text/plain": [
       "Executing:   0%|          | 0/20 [00:00<?, ?cell/s]"
      ]
     },
     "metadata": {},
     "output_type": "display_data"
    },
    {
     "name": "stdout",
     "output_type": "stream",
     "text": [
      "running for ATOM for date 2021-12-07 00:00:00 to date 2021-12-14 00:00:00\r"
     ]
    },
    {
     "data": {
      "application/vnd.jupyter.widget-view+json": {
       "model_id": "20410a6fe5904e9cbcd1c16634125c27",
       "version_major": 2,
       "version_minor": 0
      },
      "text/plain": [
       "Executing:   0%|          | 0/20 [00:00<?, ?cell/s]"
      ]
     },
     "metadata": {},
     "output_type": "display_data"
    },
    {
     "name": "stdout",
     "output_type": "stream",
     "text": [
      "running for CRV for date 2021-12-07 00:00:00 to date 2021-12-14 00:00:00\r"
     ]
    },
    {
     "data": {
      "application/vnd.jupyter.widget-view+json": {
       "model_id": "2ae1ba9b45a648a8a4f77dcb8c18525b",
       "version_major": 2,
       "version_minor": 0
      },
      "text/plain": [
       "Executing:   0%|          | 0/20 [00:00<?, ?cell/s]"
      ]
     },
     "metadata": {},
     "output_type": "display_data"
    },
    {
     "name": "stdout",
     "output_type": "stream",
     "text": [
      "running for AAVE for date 2021-12-07 00:00:00 to date 2021-12-14 00:00:00\r"
     ]
    },
    {
     "data": {
      "application/vnd.jupyter.widget-view+json": {
       "model_id": "1a0c086e856e4c7fb529b4050e439645",
       "version_major": 2,
       "version_minor": 0
      },
      "text/plain": [
       "Executing:   0%|          | 0/20 [00:00<?, ?cell/s]"
      ]
     },
     "metadata": {},
     "output_type": "display_data"
    },
    {
     "name": "stdout",
     "output_type": "stream",
     "text": [
      "running for COMP for date 2021-12-07 00:00:00 to date 2021-12-14 00:00:00\r"
     ]
    },
    {
     "data": {
      "application/vnd.jupyter.widget-view+json": {
       "model_id": "a6a37a5ce07c4d9abcd1a8d49176499f",
       "version_major": 2,
       "version_minor": 0
      },
      "text/plain": [
       "Executing:   0%|          | 0/20 [00:00<?, ?cell/s]"
      ]
     },
     "metadata": {},
     "output_type": "display_data"
    }
   ],
   "source": [
    "for end_date_of_week in end_dates_of_last2weeks:\n",
    "    start_date_of_week = end_date_of_week - timedelta(days=7)\n",
    "    for token in all_tokens:\n",
    "        print(f'running for {token} for date {start_date_of_week} to date {end_date_of_week}', end='\\r')\n",
    "        date_label = str(start_date_of_week).split(' ')[0]\n",
    "        res = pm.execute_notebook('analysis_template.ipynb',\n",
    "                                  f'{output_folder}/analysis_{token}_{date_label}.ipynb',\n",
    "                                  parameters = {\n",
    "                                      'from_date': f'{start_date_of_week}',\n",
    "                                      'to_date': f'{end_date_of_week}',\n",
    "                                      'token': token,\n",
    "                                      'connection_string': connection_string\n",
    "                                  }\n",
    "                                 )"
   ]
  },
  {
   "cell_type": "code",
   "execution_count": 9,
   "id": "3b4c7b14-206a-4801-93fd-7887d6108516",
   "metadata": {},
   "outputs": [],
   "source": [
    "notebooks = sb.read_notebooks('outputs')"
   ]
  },
  {
   "cell_type": "code",
   "execution_count": 10,
   "id": "dc0ba7df-d29a-4d34-b857-84082b179d6a",
   "metadata": {},
   "outputs": [
    {
     "data": {
      "text/html": [
       "<div>\n",
       "<style scoped>\n",
       "    .dataframe tbody tr th:only-of-type {\n",
       "        vertical-align: middle;\n",
       "    }\n",
       "\n",
       "    .dataframe tbody tr th {\n",
       "        vertical-align: top;\n",
       "    }\n",
       "\n",
       "    .dataframe thead th {\n",
       "        text-align: right;\n",
       "    }\n",
       "</style>\n",
       "<table border=\"1\" class=\"dataframe\">\n",
       "  <thead>\n",
       "    <tr style=\"text-align: right;\">\n",
       "      <th></th>\n",
       "      <th>token</th>\n",
       "      <th>from_date</th>\n",
       "      <th>to_date</th>\n",
       "      <th>avg_return</th>\n",
       "      <th>avg_volatility</th>\n",
       "      <th>max_drawdown</th>\n",
       "      <th>range_of_close</th>\n",
       "    </tr>\n",
       "  </thead>\n",
       "  <tbody>\n",
       "    <tr>\n",
       "      <th>0</th>\n",
       "      <td>AAVE</td>\n",
       "      <td>2021-11-30 00:00:00</td>\n",
       "      <td>2021-12-07 00:00:00</td>\n",
       "      <td>-0.001752</td>\n",
       "      <td>0.243460</td>\n",
       "      <td>-0.455591</td>\n",
       "      <td>98.3490</td>\n",
       "    </tr>\n",
       "    <tr>\n",
       "      <th>1</th>\n",
       "      <td>AAVE</td>\n",
       "      <td>2021-12-07 00:00:00</td>\n",
       "      <td>2021-12-14 00:00:00</td>\n",
       "      <td>-0.000729</td>\n",
       "      <td>0.188497</td>\n",
       "      <td>-0.240451</td>\n",
       "      <td>43.5160</td>\n",
       "    </tr>\n",
       "    <tr>\n",
       "      <th>2</th>\n",
       "      <td>ADA</td>\n",
       "      <td>2021-11-30 00:00:00</td>\n",
       "      <td>2021-12-07 00:00:00</td>\n",
       "      <td>-0.000720</td>\n",
       "      <td>0.249414</td>\n",
       "      <td>-0.315820</td>\n",
       "      <td>0.4763</td>\n",
       "    </tr>\n",
       "    <tr>\n",
       "      <th>3</th>\n",
       "      <td>ADA</td>\n",
       "      <td>2021-12-07 00:00:00</td>\n",
       "      <td>2021-12-14 00:00:00</td>\n",
       "      <td>-0.000809</td>\n",
       "      <td>0.188769</td>\n",
       "      <td>-0.196004</td>\n",
       "      <td>0.2617</td>\n",
       "    </tr>\n",
       "    <tr>\n",
       "      <th>4</th>\n",
       "      <td>ATOM</td>\n",
       "      <td>2021-11-30 00:00:00</td>\n",
       "      <td>2021-12-07 00:00:00</td>\n",
       "      <td>-0.000807</td>\n",
       "      <td>0.370585</td>\n",
       "      <td>-0.383093</td>\n",
       "      <td>10.5430</td>\n",
       "    </tr>\n",
       "    <tr>\n",
       "      <th>5</th>\n",
       "      <td>ATOM</td>\n",
       "      <td>2021-12-07 00:00:00</td>\n",
       "      <td>2021-12-14 00:00:00</td>\n",
       "      <td>-0.000638</td>\n",
       "      <td>0.235173</td>\n",
       "      <td>-0.179355</td>\n",
       "      <td>4.2000</td>\n",
       "    </tr>\n",
       "    <tr>\n",
       "      <th>6</th>\n",
       "      <td>AVAX</td>\n",
       "      <td>2021-11-30 00:00:00</td>\n",
       "      <td>2021-12-07 00:00:00</td>\n",
       "      <td>-0.001562</td>\n",
       "      <td>0.344065</td>\n",
       "      <td>-0.487418</td>\n",
       "      <td>49.0300</td>\n",
       "    </tr>\n",
       "    <tr>\n",
       "      <th>7</th>\n",
       "      <td>AVAX</td>\n",
       "      <td>2021-12-07 00:00:00</td>\n",
       "      <td>2021-12-14 00:00:00</td>\n",
       "      <td>-0.000881</td>\n",
       "      <td>0.230214</td>\n",
       "      <td>-0.210171</td>\n",
       "      <td>18.2200</td>\n",
       "    </tr>\n",
       "    <tr>\n",
       "      <th>8</th>\n",
       "      <td>BTC</td>\n",
       "      <td>2021-11-30 00:00:00</td>\n",
       "      <td>2021-12-07 00:00:00</td>\n",
       "      <td>-0.000768</td>\n",
       "      <td>0.187255</td>\n",
       "      <td>-0.230476</td>\n",
       "      <td>12075.7400</td>\n",
       "    </tr>\n",
       "    <tr>\n",
       "      <th>9</th>\n",
       "      <td>BTC</td>\n",
       "      <td>2021-12-07 00:00:00</td>\n",
       "      <td>2021-12-14 00:00:00</td>\n",
       "      <td>-0.000445</td>\n",
       "      <td>0.128059</td>\n",
       "      <td>-0.104494</td>\n",
       "      <td>5139.6400</td>\n",
       "    </tr>\n",
       "    <tr>\n",
       "      <th>10</th>\n",
       "      <td>COMP</td>\n",
       "      <td>2021-11-30 00:00:00</td>\n",
       "      <td>2021-12-07 00:00:00</td>\n",
       "      <td>-0.001513</td>\n",
       "      <td>0.238823</td>\n",
       "      <td>-0.400719</td>\n",
       "      <td>97.1600</td>\n",
       "    </tr>\n",
       "    <tr>\n",
       "      <th>11</th>\n",
       "      <td>COMP</td>\n",
       "      <td>2021-12-07 00:00:00</td>\n",
       "      <td>2021-12-14 00:00:00</td>\n",
       "      <td>-0.001183</td>\n",
       "      <td>0.219239</td>\n",
       "      <td>-0.261157</td>\n",
       "      <td>52.9000</td>\n",
       "    </tr>\n",
       "    <tr>\n",
       "      <th>12</th>\n",
       "      <td>CRV</td>\n",
       "      <td>2021-11-30 00:00:00</td>\n",
       "      <td>2021-12-07 00:00:00</td>\n",
       "      <td>-0.001324</td>\n",
       "      <td>0.385209</td>\n",
       "      <td>-0.502298</td>\n",
       "      <td>2.1302</td>\n",
       "    </tr>\n",
       "    <tr>\n",
       "      <th>13</th>\n",
       "      <td>CRV</td>\n",
       "      <td>2021-12-07 00:00:00</td>\n",
       "      <td>2021-12-14 00:00:00</td>\n",
       "      <td>-0.000566</td>\n",
       "      <td>0.273214</td>\n",
       "      <td>-0.242066</td>\n",
       "      <td>0.9038</td>\n",
       "    </tr>\n",
       "    <tr>\n",
       "      <th>14</th>\n",
       "      <td>DOT</td>\n",
       "      <td>2021-11-30 00:00:00</td>\n",
       "      <td>2021-12-07 00:00:00</td>\n",
       "      <td>-0.001583</td>\n",
       "      <td>0.277154</td>\n",
       "      <td>-0.432014</td>\n",
       "      <td>13.7040</td>\n",
       "    </tr>\n",
       "    <tr>\n",
       "      <th>15</th>\n",
       "      <td>DOT</td>\n",
       "      <td>2021-12-07 00:00:00</td>\n",
       "      <td>2021-12-14 00:00:00</td>\n",
       "      <td>-0.000412</td>\n",
       "      <td>0.220138</td>\n",
       "      <td>-0.175151</td>\n",
       "      <td>4.9790</td>\n",
       "    </tr>\n",
       "    <tr>\n",
       "      <th>16</th>\n",
       "      <td>ETH</td>\n",
       "      <td>2021-11-30 00:00:00</td>\n",
       "      <td>2021-12-07 00:00:00</td>\n",
       "      <td>-0.000149</td>\n",
       "      <td>0.202518</td>\n",
       "      <td>-0.208379</td>\n",
       "      <td>897.7300</td>\n",
       "    </tr>\n",
       "    <tr>\n",
       "      <th>17</th>\n",
       "      <td>ETH</td>\n",
       "      <td>2021-12-07 00:00:00</td>\n",
       "      <td>2021-12-14 00:00:00</td>\n",
       "      <td>-0.000823</td>\n",
       "      <td>0.154049</td>\n",
       "      <td>-0.167087</td>\n",
       "      <td>683.2800</td>\n",
       "    </tr>\n",
       "    <tr>\n",
       "      <th>18</th>\n",
       "      <td>SOL</td>\n",
       "      <td>2021-11-30 00:00:00</td>\n",
       "      <td>2021-12-07 00:00:00</td>\n",
       "      <td>-0.000223</td>\n",
       "      <td>0.304266</td>\n",
       "      <td>-0.302949</td>\n",
       "      <td>63.2820</td>\n",
       "    </tr>\n",
       "    <tr>\n",
       "      <th>19</th>\n",
       "      <td>SOL</td>\n",
       "      <td>2021-12-07 00:00:00</td>\n",
       "      <td>2021-12-14 00:00:00</td>\n",
       "      <td>-0.001245</td>\n",
       "      <td>0.184315</td>\n",
       "      <td>-0.293135</td>\n",
       "      <td>51.7680</td>\n",
       "    </tr>\n",
       "    <tr>\n",
       "      <th>20</th>\n",
       "      <td>USDT</td>\n",
       "      <td>2021-11-30 00:00:00</td>\n",
       "      <td>2021-12-07 00:00:00</td>\n",
       "      <td>0.000001</td>\n",
       "      <td>0.019447</td>\n",
       "      <td>-0.004486</td>\n",
       "      <td>0.0051</td>\n",
       "    </tr>\n",
       "    <tr>\n",
       "      <th>21</th>\n",
       "      <td>USDT</td>\n",
       "      <td>2021-12-07 00:00:00</td>\n",
       "      <td>2021-12-14 00:00:00</td>\n",
       "      <td>-0.000005</td>\n",
       "      <td>0.002819</td>\n",
       "      <td>-0.001199</td>\n",
       "      <td>0.0012</td>\n",
       "    </tr>\n",
       "  </tbody>\n",
       "</table>\n",
       "</div>"
      ],
      "text/plain": [
       "   token            from_date              to_date  avg_return  \\\n",
       "0   AAVE  2021-11-30 00:00:00  2021-12-07 00:00:00   -0.001752   \n",
       "1   AAVE  2021-12-07 00:00:00  2021-12-14 00:00:00   -0.000729   \n",
       "2    ADA  2021-11-30 00:00:00  2021-12-07 00:00:00   -0.000720   \n",
       "3    ADA  2021-12-07 00:00:00  2021-12-14 00:00:00   -0.000809   \n",
       "4   ATOM  2021-11-30 00:00:00  2021-12-07 00:00:00   -0.000807   \n",
       "5   ATOM  2021-12-07 00:00:00  2021-12-14 00:00:00   -0.000638   \n",
       "6   AVAX  2021-11-30 00:00:00  2021-12-07 00:00:00   -0.001562   \n",
       "7   AVAX  2021-12-07 00:00:00  2021-12-14 00:00:00   -0.000881   \n",
       "8    BTC  2021-11-30 00:00:00  2021-12-07 00:00:00   -0.000768   \n",
       "9    BTC  2021-12-07 00:00:00  2021-12-14 00:00:00   -0.000445   \n",
       "10  COMP  2021-11-30 00:00:00  2021-12-07 00:00:00   -0.001513   \n",
       "11  COMP  2021-12-07 00:00:00  2021-12-14 00:00:00   -0.001183   \n",
       "12   CRV  2021-11-30 00:00:00  2021-12-07 00:00:00   -0.001324   \n",
       "13   CRV  2021-12-07 00:00:00  2021-12-14 00:00:00   -0.000566   \n",
       "14   DOT  2021-11-30 00:00:00  2021-12-07 00:00:00   -0.001583   \n",
       "15   DOT  2021-12-07 00:00:00  2021-12-14 00:00:00   -0.000412   \n",
       "16   ETH  2021-11-30 00:00:00  2021-12-07 00:00:00   -0.000149   \n",
       "17   ETH  2021-12-07 00:00:00  2021-12-14 00:00:00   -0.000823   \n",
       "18   SOL  2021-11-30 00:00:00  2021-12-07 00:00:00   -0.000223   \n",
       "19   SOL  2021-12-07 00:00:00  2021-12-14 00:00:00   -0.001245   \n",
       "20  USDT  2021-11-30 00:00:00  2021-12-07 00:00:00    0.000001   \n",
       "21  USDT  2021-12-07 00:00:00  2021-12-14 00:00:00   -0.000005   \n",
       "\n",
       "    avg_volatility  max_drawdown  range_of_close  \n",
       "0         0.243460     -0.455591         98.3490  \n",
       "1         0.188497     -0.240451         43.5160  \n",
       "2         0.249414     -0.315820          0.4763  \n",
       "3         0.188769     -0.196004          0.2617  \n",
       "4         0.370585     -0.383093         10.5430  \n",
       "5         0.235173     -0.179355          4.2000  \n",
       "6         0.344065     -0.487418         49.0300  \n",
       "7         0.230214     -0.210171         18.2200  \n",
       "8         0.187255     -0.230476      12075.7400  \n",
       "9         0.128059     -0.104494       5139.6400  \n",
       "10        0.238823     -0.400719         97.1600  \n",
       "11        0.219239     -0.261157         52.9000  \n",
       "12        0.385209     -0.502298          2.1302  \n",
       "13        0.273214     -0.242066          0.9038  \n",
       "14        0.277154     -0.432014         13.7040  \n",
       "15        0.220138     -0.175151          4.9790  \n",
       "16        0.202518     -0.208379        897.7300  \n",
       "17        0.154049     -0.167087        683.2800  \n",
       "18        0.304266     -0.302949         63.2820  \n",
       "19        0.184315     -0.293135         51.7680  \n",
       "20        0.019447     -0.004486          0.0051  \n",
       "21        0.002819     -0.001199          0.0012  "
      ]
     },
     "execution_count": 10,
     "metadata": {},
     "output_type": "execute_result"
    }
   ],
   "source": [
    "info_by_run = pd.DataFrame([\n",
    "    pd.Series({\n",
    "        'token': scrap['token'].data,\n",
    "        'from_date': scrap['from_date'].data,\n",
    "        'to_date': scrap['to_date'].data,\n",
    "        'avg_return': scrap['avg_return'].data,\n",
    "        'avg_volatility': scrap['avg_volatility'].data,\n",
    "        'max_drawdown': scrap['max_drawdown'].data,\n",
    "        'range_of_close': scrap['range_of_close'].data\n",
    "    })\n",
    "    for book, scrap in notebooks.notebook_scraps.items()\n",
    "])\n",
    "\n",
    "info_by_run"
   ]
  },
  {
   "cell_type": "code",
   "execution_count": null,
   "id": "97ff9d32-5d15-4858-8b3b-a169b56c5062",
   "metadata": {},
   "outputs": [],
   "source": []
  }
 ],
 "metadata": {
  "kernelspec": {
   "display_name": "Python 3 (ipykernel)",
   "language": "python",
   "name": "python3"
  },
  "language_info": {
   "codemirror_mode": {
    "name": "ipython",
    "version": 3
   },
   "file_extension": ".py",
   "mimetype": "text/x-python",
   "name": "python",
   "nbconvert_exporter": "python",
   "pygments_lexer": "ipython3",
   "version": "3.8.12"
  }
 },
 "nbformat": 4,
 "nbformat_minor": 5
}
