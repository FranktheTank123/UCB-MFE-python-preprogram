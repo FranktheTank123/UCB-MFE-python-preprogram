{
 "cells": [
  {
   "cell_type": "code",
   "execution_count": 1,
   "id": "fce84186-eec8-45d0-b16c-f0fc74e4e00e",
   "metadata": {},
   "outputs": [
    {
     "name": "stderr",
     "output_type": "stream",
     "text": [
      "D:\\Anaconda\\envs\\HW4\\lib\\site-packages\\papermill\\iorw.py:50: FutureWarning: pyarrow.HadoopFileSystem is deprecated as of 2.0.0, please use pyarrow.fs.HadoopFileSystem instead.\n",
      "  from pyarrow import HadoopFileSystem\n"
     ]
    }
   ],
   "source": [
    "import papermill as pm\n",
    "import scrapbook as sb\n",
    "import pandas as pd\n",
    "from datetime import datetime, timedelta\n",
    "import os"
   ]
  },
  {
   "cell_type": "markdown",
   "id": "f2120a07-8455-4d19-bf34-adae6304b160",
   "metadata": {},
   "source": [
    "2. Create a runner notebook using papermill to run the template notebook across all tokens in the database and the last 2 complete weeks in the database.  Summarize the following in a single DataFrame in the runner notebook\n",
    "    - avg hourly return by run\n",
    "    - avg volatility by run\n",
    "    - maximum drawdown over the entire period of each run\n",
    "    - range of last close price - first close price"
   ]
  },
  {
   "cell_type": "code",
   "execution_count": 2,
   "id": "5795f184-11f5-452b-b2c5-5e356470d3a9",
   "metadata": {},
   "outputs": [],
   "source": [
    "connection_string = 'sqlite:///../../../Lectures/Lecture 4/data/data.db'"
   ]
  },
  {
   "cell_type": "markdown",
   "id": "0d0d5977-6c75-421a-9f6f-bf5491b9f270",
   "metadata": {},
   "source": [
    "# Get all tokens"
   ]
  },
  {
   "cell_type": "code",
   "execution_count": 3,
   "id": "fee9970b-c025-4967-9dbe-c04c9f1616b0",
   "metadata": {},
   "outputs": [
    {
     "data": {
      "text/plain": [
       "['BTC',\n",
       " 'ETH',\n",
       " 'USDT',\n",
       " 'SOL',\n",
       " 'ADA',\n",
       " 'DOT',\n",
       " 'AVAX',\n",
       " 'ATOM',\n",
       " 'CRV',\n",
       " 'AAVE',\n",
       " 'COMP']"
      ]
     },
     "execution_count": 3,
     "metadata": {},
     "output_type": "execute_result"
    }
   ],
   "source": [
    "all_tokens = pd.read_sql('''\n",
    "SELECT DISTINCT\n",
    "    token\n",
    "FROM\n",
    "    ohlc\n",
    "''', connection_string)\n",
    "\n",
    "all_tokens = all_tokens.values.reshape(-1,).tolist()\n",
    "all_tokens"
   ]
  },
  {
   "cell_type": "markdown",
   "id": "036710c4-46d4-4f08-93e5-1c1d4e401b23",
   "metadata": {},
   "source": [
    "# Get the last two complete weeks"
   ]
  },
  {
   "cell_type": "markdown",
   "id": "ed81ee66-cc93-4ad1-9319-f8c1426bcb60",
   "metadata": {},
   "source": [
    "## Get the end of date of database"
   ]
  },
  {
   "cell_type": "code",
   "execution_count": 4,
   "id": "771fac46-7c5d-49c0-bdf8-84a788f84746",
   "metadata": {},
   "outputs": [
    {
     "data": {
      "text/plain": [
       "datetime.datetime(2021, 12, 15, 0, 0)"
      ]
     },
     "execution_count": 4,
     "metadata": {},
     "output_type": "execute_result"
    }
   ],
   "source": [
    "end_date_db = pd.read_sql('''\n",
    "SELECT\n",
    "    MAX(ts)  \n",
    "FROM\n",
    "    ohlc\n",
    "''', connection_string)\n",
    "\n",
    "# end_date_db = pd.to_datetime(end_date_db).values\n",
    "end_date_db = datetime.strptime(end_date_db.values.item(), '%Y-%m-%d %H:%M:%S')\n",
    "end_date_db"
   ]
  },
  {
   "cell_type": "markdown",
   "id": "96ddb7bd-d355-4e51-95cc-0d5821e1c888",
   "metadata": {},
   "source": [
    "## Get the last two complete weeks according to the end of date of database"
   ]
  },
  {
   "cell_type": "code",
   "execution_count": 5,
   "id": "9c559906-f0d0-4543-9834-2febb2be564b",
   "metadata": {},
   "outputs": [],
   "source": [
    "def last_date_of_week(d: datetime, to_day_of_last_week: int) -> datetime:\n",
    "    '''\n",
    "    Get the date of the last day of week,\n",
    "    using datetime convention of Monday is 0 and Sunday is 6\n",
    "    '''\n",
    "    day_of_week_for_d = d.weekday()\n",
    "    days_delta = (7 - to_day_of_last_week) + day_of_week_for_d if day_of_week_for_d < to_day_of_last_week else day_of_week_for_d - to_day_of_last_week\n",
    "    return d - timedelta(days=days_delta)"
   ]
  },
  {
   "cell_type": "markdown",
   "id": "5f76118d-25af-4fe1-82ee-4fa4426cd571",
   "metadata": {},
   "source": [
    "- Calculation Explanation of the above function:  \n",
    "A. if `day_of_week_for_d` < `to_day_of_last_week`:  \n",
    "the last date of a week is at the last week, the gap consists of two part:\n",
    "(1) number of the remaining days at last week, (2) number of days at this week  \n",
    "B. if `day_of_week_for_d` >= `to_day_of_last_week`:  \n",
    "last date of week is at the same week of d, so the gap is\n",
    "`day_of_week_for_d` - `to_day_of_last_week`"
   ]
  },
  {
   "cell_type": "code",
   "execution_count": 6,
   "id": "75b4db92-dba5-4e5e-adda-64e223bbf59a",
   "metadata": {},
   "outputs": [
    {
     "data": {
      "text/plain": [
       "[datetime.datetime(2021, 12, 6, 0, 0), datetime.datetime(2021, 12, 13, 0, 0)]"
      ]
     },
     "execution_count": 6,
     "metadata": {},
     "output_type": "execute_result"
    }
   ],
   "source": [
    "end_dates_of_last2weeks = [(last_date_of_week(end_date_db, 0) - timedelta(days=7*i)) for i in range(2)]\n",
    "# `0` means Monday, i.e. the last timestamp of selected dataframe is 23:00:00 on Sunday\n",
    "# `2` means two weeks\n",
    "end_dates_of_last2weeks = end_dates_of_last2weeks[::-1]\n",
    "end_dates_of_last2weeks"
   ]
  },
  {
   "cell_type": "code",
   "execution_count": 7,
   "id": "1b74fcb8-6ab6-4935-b89e-906b811e9a45",
   "metadata": {},
   "outputs": [],
   "source": [
    "output_folder = os.path.expanduser('outputs')\n",
    "\n",
    "if not os.path.exists(output_folder):\n",
    "    os.makedirs(output_folder)"
   ]
  },
  {
   "cell_type": "markdown",
   "id": "1df57923-4f90-4f1d-afa3-c32a549ff3a0",
   "metadata": {},
   "source": [
    "# Notebook execution"
   ]
  },
  {
   "cell_type": "code",
   "execution_count": 8,
   "id": "2f1831a1-dc5c-4a39-9e62-9a39f8541e83",
   "metadata": {
    "tags": []
   },
   "outputs": [
    {
     "name": "stdout",
     "output_type": "stream",
     "text": [
      "running for BTC for date 2021-11-29 00:00:00 to date 2021-12-06 00:00:00\r"
     ]
    },
    {
     "data": {
      "application/vnd.jupyter.widget-view+json": {
       "model_id": "69f0b2c0387944bcbc68f0421e8d72ca",
       "version_major": 2,
       "version_minor": 0
      },
      "text/plain": [
       "Executing:   0%|          | 0/20 [00:00<?, ?cell/s]"
      ]
     },
     "metadata": {},
     "output_type": "display_data"
    },
    {
     "name": "stdout",
     "output_type": "stream",
     "text": [
      "running for ETH for date 2021-11-29 00:00:00 to date 2021-12-06 00:00:00\r"
     ]
    },
    {
     "data": {
      "application/vnd.jupyter.widget-view+json": {
       "model_id": "66e8f7a32a134e3898dddac36d2ea53f",
       "version_major": 2,
       "version_minor": 0
      },
      "text/plain": [
       "Executing:   0%|          | 0/20 [00:00<?, ?cell/s]"
      ]
     },
     "metadata": {},
     "output_type": "display_data"
    },
    {
     "name": "stdout",
     "output_type": "stream",
     "text": [
      "running for USDT for date 2021-11-29 00:00:00 to date 2021-12-06 00:00:00\r"
     ]
    },
    {
     "data": {
      "application/vnd.jupyter.widget-view+json": {
       "model_id": "eafe7da8c7004c8a8e87b4aee8875ce6",
       "version_major": 2,
       "version_minor": 0
      },
      "text/plain": [
       "Executing:   0%|          | 0/20 [00:00<?, ?cell/s]"
      ]
     },
     "metadata": {},
     "output_type": "display_data"
    },
    {
     "name": "stdout",
     "output_type": "stream",
     "text": [
      "running for SOL for date 2021-11-29 00:00:00 to date 2021-12-06 00:00:00\r"
     ]
    },
    {
     "data": {
      "application/vnd.jupyter.widget-view+json": {
       "model_id": "16c16a7591c34088aa38353f6988712a",
       "version_major": 2,
       "version_minor": 0
      },
      "text/plain": [
       "Executing:   0%|          | 0/20 [00:00<?, ?cell/s]"
      ]
     },
     "metadata": {},
     "output_type": "display_data"
    },
    {
     "name": "stdout",
     "output_type": "stream",
     "text": [
      "running for ADA for date 2021-11-29 00:00:00 to date 2021-12-06 00:00:00\r"
     ]
    },
    {
     "data": {
      "application/vnd.jupyter.widget-view+json": {
       "model_id": "2662fa1222e941e8bc7dc3b09ac0537b",
       "version_major": 2,
       "version_minor": 0
      },
      "text/plain": [
       "Executing:   0%|          | 0/20 [00:00<?, ?cell/s]"
      ]
     },
     "metadata": {},
     "output_type": "display_data"
    },
    {
     "name": "stdout",
     "output_type": "stream",
     "text": [
      "running for DOT for date 2021-11-29 00:00:00 to date 2021-12-06 00:00:00\r"
     ]
    },
    {
     "data": {
      "application/vnd.jupyter.widget-view+json": {
       "model_id": "3710127ede4e4245b54b9d26b93d76e4",
       "version_major": 2,
       "version_minor": 0
      },
      "text/plain": [
       "Executing:   0%|          | 0/20 [00:00<?, ?cell/s]"
      ]
     },
     "metadata": {},
     "output_type": "display_data"
    },
    {
     "name": "stdout",
     "output_type": "stream",
     "text": [
      "running for AVAX for date 2021-11-29 00:00:00 to date 2021-12-06 00:00:00\r"
     ]
    },
    {
     "data": {
      "application/vnd.jupyter.widget-view+json": {
       "model_id": "ff18f98c3f2a46a9896aab4f9fddba5a",
       "version_major": 2,
       "version_minor": 0
      },
      "text/plain": [
       "Executing:   0%|          | 0/20 [00:00<?, ?cell/s]"
      ]
     },
     "metadata": {},
     "output_type": "display_data"
    },
    {
     "name": "stdout",
     "output_type": "stream",
     "text": [
      "running for ATOM for date 2021-11-29 00:00:00 to date 2021-12-06 00:00:00\r"
     ]
    },
    {
     "data": {
      "application/vnd.jupyter.widget-view+json": {
       "model_id": "bcfb642fef66437bbb2fd0702c9176c5",
       "version_major": 2,
       "version_minor": 0
      },
      "text/plain": [
       "Executing:   0%|          | 0/20 [00:00<?, ?cell/s]"
      ]
     },
     "metadata": {},
     "output_type": "display_data"
    },
    {
     "name": "stdout",
     "output_type": "stream",
     "text": [
      "running for CRV for date 2021-11-29 00:00:00 to date 2021-12-06 00:00:00\r"
     ]
    },
    {
     "data": {
      "application/vnd.jupyter.widget-view+json": {
       "model_id": "947eaf1fe5f54ad98bf1008126f94006",
       "version_major": 2,
       "version_minor": 0
      },
      "text/plain": [
       "Executing:   0%|          | 0/20 [00:00<?, ?cell/s]"
      ]
     },
     "metadata": {},
     "output_type": "display_data"
    },
    {
     "name": "stdout",
     "output_type": "stream",
     "text": [
      "running for AAVE for date 2021-11-29 00:00:00 to date 2021-12-06 00:00:00\r"
     ]
    },
    {
     "data": {
      "application/vnd.jupyter.widget-view+json": {
       "model_id": "d0c1e8b5d8594a9bb8bc207b8fd8a5e2",
       "version_major": 2,
       "version_minor": 0
      },
      "text/plain": [
       "Executing:   0%|          | 0/20 [00:00<?, ?cell/s]"
      ]
     },
     "metadata": {},
     "output_type": "display_data"
    },
    {
     "name": "stdout",
     "output_type": "stream",
     "text": [
      "running for COMP for date 2021-11-29 00:00:00 to date 2021-12-06 00:00:00\r"
     ]
    },
    {
     "data": {
      "application/vnd.jupyter.widget-view+json": {
       "model_id": "a09ebaca1f1c4110b87b722d4afd9e83",
       "version_major": 2,
       "version_minor": 0
      },
      "text/plain": [
       "Executing:   0%|          | 0/20 [00:00<?, ?cell/s]"
      ]
     },
     "metadata": {},
     "output_type": "display_data"
    },
    {
     "name": "stdout",
     "output_type": "stream",
     "text": [
      "running for BTC for date 2021-12-06 00:00:00 to date 2021-12-13 00:00:00\r"
     ]
    },
    {
     "data": {
      "application/vnd.jupyter.widget-view+json": {
       "model_id": "3a4ad10e75714f0b9eba492be1103138",
       "version_major": 2,
       "version_minor": 0
      },
      "text/plain": [
       "Executing:   0%|          | 0/20 [00:00<?, ?cell/s]"
      ]
     },
     "metadata": {},
     "output_type": "display_data"
    },
    {
     "name": "stdout",
     "output_type": "stream",
     "text": [
      "running for ETH for date 2021-12-06 00:00:00 to date 2021-12-13 00:00:00\r"
     ]
    },
    {
     "data": {
      "application/vnd.jupyter.widget-view+json": {
       "model_id": "f68f718fad534dc1be55e53d209d24cc",
       "version_major": 2,
       "version_minor": 0
      },
      "text/plain": [
       "Executing:   0%|          | 0/20 [00:00<?, ?cell/s]"
      ]
     },
     "metadata": {},
     "output_type": "display_data"
    },
    {
     "name": "stdout",
     "output_type": "stream",
     "text": [
      "running for USDT for date 2021-12-06 00:00:00 to date 2021-12-13 00:00:00\r"
     ]
    },
    {
     "data": {
      "application/vnd.jupyter.widget-view+json": {
       "model_id": "b221d8d020ea4a01bb1975025c8958bc",
       "version_major": 2,
       "version_minor": 0
      },
      "text/plain": [
       "Executing:   0%|          | 0/20 [00:00<?, ?cell/s]"
      ]
     },
     "metadata": {},
     "output_type": "display_data"
    },
    {
     "name": "stdout",
     "output_type": "stream",
     "text": [
      "running for SOL for date 2021-12-06 00:00:00 to date 2021-12-13 00:00:00\r"
     ]
    },
    {
     "data": {
      "application/vnd.jupyter.widget-view+json": {
       "model_id": "0b63168889d6452e80e962c0d582e316",
       "version_major": 2,
       "version_minor": 0
      },
      "text/plain": [
       "Executing:   0%|          | 0/20 [00:00<?, ?cell/s]"
      ]
     },
     "metadata": {},
     "output_type": "display_data"
    },
    {
     "name": "stdout",
     "output_type": "stream",
     "text": [
      "running for ADA for date 2021-12-06 00:00:00 to date 2021-12-13 00:00:00\r"
     ]
    },
    {
     "data": {
      "application/vnd.jupyter.widget-view+json": {
       "model_id": "ab128783a8ee4212b2a047cc40f4abda",
       "version_major": 2,
       "version_minor": 0
      },
      "text/plain": [
       "Executing:   0%|          | 0/20 [00:00<?, ?cell/s]"
      ]
     },
     "metadata": {},
     "output_type": "display_data"
    },
    {
     "name": "stdout",
     "output_type": "stream",
     "text": [
      "running for DOT for date 2021-12-06 00:00:00 to date 2021-12-13 00:00:00\r"
     ]
    },
    {
     "data": {
      "application/vnd.jupyter.widget-view+json": {
       "model_id": "867c111c7162465eb15e87e4c08cc95f",
       "version_major": 2,
       "version_minor": 0
      },
      "text/plain": [
       "Executing:   0%|          | 0/20 [00:00<?, ?cell/s]"
      ]
     },
     "metadata": {},
     "output_type": "display_data"
    },
    {
     "name": "stdout",
     "output_type": "stream",
     "text": [
      "running for AVAX for date 2021-12-06 00:00:00 to date 2021-12-13 00:00:00\r"
     ]
    },
    {
     "data": {
      "application/vnd.jupyter.widget-view+json": {
       "model_id": "a463f70dbba44d42b2b98548254169dd",
       "version_major": 2,
       "version_minor": 0
      },
      "text/plain": [
       "Executing:   0%|          | 0/20 [00:00<?, ?cell/s]"
      ]
     },
     "metadata": {},
     "output_type": "display_data"
    },
    {
     "name": "stdout",
     "output_type": "stream",
     "text": [
      "running for ATOM for date 2021-12-06 00:00:00 to date 2021-12-13 00:00:00\r"
     ]
    },
    {
     "data": {
      "application/vnd.jupyter.widget-view+json": {
       "model_id": "444c39f350bb43fd8f3f62741cc14312",
       "version_major": 2,
       "version_minor": 0
      },
      "text/plain": [
       "Executing:   0%|          | 0/20 [00:00<?, ?cell/s]"
      ]
     },
     "metadata": {},
     "output_type": "display_data"
    },
    {
     "name": "stdout",
     "output_type": "stream",
     "text": [
      "running for CRV for date 2021-12-06 00:00:00 to date 2021-12-13 00:00:00\r"
     ]
    },
    {
     "data": {
      "application/vnd.jupyter.widget-view+json": {
       "model_id": "88d009476eed41f787b77c204675e5f8",
       "version_major": 2,
       "version_minor": 0
      },
      "text/plain": [
       "Executing:   0%|          | 0/20 [00:00<?, ?cell/s]"
      ]
     },
     "metadata": {},
     "output_type": "display_data"
    },
    {
     "name": "stdout",
     "output_type": "stream",
     "text": [
      "running for AAVE for date 2021-12-06 00:00:00 to date 2021-12-13 00:00:00\r"
     ]
    },
    {
     "data": {
      "application/vnd.jupyter.widget-view+json": {
       "model_id": "b54ebc83fbcb407c947de01e3c246e5a",
       "version_major": 2,
       "version_minor": 0
      },
      "text/plain": [
       "Executing:   0%|          | 0/20 [00:00<?, ?cell/s]"
      ]
     },
     "metadata": {},
     "output_type": "display_data"
    },
    {
     "name": "stdout",
     "output_type": "stream",
     "text": [
      "running for COMP for date 2021-12-06 00:00:00 to date 2021-12-13 00:00:00\r"
     ]
    },
    {
     "data": {
      "application/vnd.jupyter.widget-view+json": {
       "model_id": "aaebdd6ba37d4c7491927e73700e55a3",
       "version_major": 2,
       "version_minor": 0
      },
      "text/plain": [
       "Executing:   0%|          | 0/20 [00:00<?, ?cell/s]"
      ]
     },
     "metadata": {},
     "output_type": "display_data"
    }
   ],
   "source": [
    "for end_date_of_week in end_dates_of_last2weeks:\n",
    "    start_date_of_week = end_date_of_week - timedelta(days=7)\n",
    "    for token in all_tokens:\n",
    "        print(f'running for {token} for date {start_date_of_week} to date {end_date_of_week}', end='\\r')\n",
    "        date_label = str(start_date_of_week).split(' ')[0]\n",
    "        res = pm.execute_notebook('analysis_template.ipynb',\n",
    "                                  f'{output_folder}/analysis_{token}_{date_label}.ipynb',\n",
    "                                  parameters = {\n",
    "                                      'from_date': f'{start_date_of_week}',\n",
    "                                      'to_date': f'{end_date_of_week}',\n",
    "                                      'token': token,\n",
    "                                      'connection_string': connection_string\n",
    "                                  }\n",
    "                                 )"
   ]
  },
  {
   "cell_type": "code",
   "execution_count": 9,
   "id": "3b4c7b14-206a-4801-93fd-7887d6108516",
   "metadata": {},
   "outputs": [],
   "source": [
    "notebooks = sb.read_notebooks('outputs')"
   ]
  },
  {
   "cell_type": "code",
   "execution_count": 10,
   "id": "dc0ba7df-d29a-4d34-b857-84082b179d6a",
   "metadata": {},
   "outputs": [
    {
     "data": {
      "text/html": [
       "<div>\n",
       "<style scoped>\n",
       "    .dataframe tbody tr th:only-of-type {\n",
       "        vertical-align: middle;\n",
       "    }\n",
       "\n",
       "    .dataframe tbody tr th {\n",
       "        vertical-align: top;\n",
       "    }\n",
       "\n",
       "    .dataframe thead th {\n",
       "        text-align: right;\n",
       "    }\n",
       "</style>\n",
       "<table border=\"1\" class=\"dataframe\">\n",
       "  <thead>\n",
       "    <tr style=\"text-align: right;\">\n",
       "      <th></th>\n",
       "      <th>token</th>\n",
       "      <th>from_date</th>\n",
       "      <th>to_date</th>\n",
       "      <th>avg_return</th>\n",
       "      <th>avg_volatility</th>\n",
       "      <th>max_drawdown</th>\n",
       "      <th>range_of_close</th>\n",
       "    </tr>\n",
       "  </thead>\n",
       "  <tbody>\n",
       "    <tr>\n",
       "      <th>0</th>\n",
       "      <td>AAVE</td>\n",
       "      <td>2021-11-29 00:00:00</td>\n",
       "      <td>2021-12-06 00:00:00</td>\n",
       "      <td>-1.305232e-03</td>\n",
       "      <td>0.221054</td>\n",
       "      <td>-0.360386</td>\n",
       "      <td>-46.8080</td>\n",
       "    </tr>\n",
       "    <tr>\n",
       "      <th>1</th>\n",
       "      <td>AAVE</td>\n",
       "      <td>2021-12-06 00:00:00</td>\n",
       "      <td>2021-12-13 00:00:00</td>\n",
       "      <td>-3.755434e-04</td>\n",
       "      <td>0.200400</td>\n",
       "      <td>-0.198313</td>\n",
       "      <td>-11.6730</td>\n",
       "    </tr>\n",
       "    <tr>\n",
       "      <th>2</th>\n",
       "      <td>ADA</td>\n",
       "      <td>2021-11-29 00:00:00</td>\n",
       "      <td>2021-12-06 00:00:00</td>\n",
       "      <td>-9.344545e-04</td>\n",
       "      <td>0.226749</td>\n",
       "      <td>-0.287682</td>\n",
       "      <td>-0.2305</td>\n",
       "    </tr>\n",
       "    <tr>\n",
       "      <th>3</th>\n",
       "      <td>ADA</td>\n",
       "      <td>2021-12-06 00:00:00</td>\n",
       "      <td>2021-12-13 00:00:00</td>\n",
       "      <td>-1.302320e-04</td>\n",
       "      <td>0.203766</td>\n",
       "      <td>-0.196004</td>\n",
       "      <td>-0.0297</td>\n",
       "    </tr>\n",
       "    <tr>\n",
       "      <th>4</th>\n",
       "      <td>ATOM</td>\n",
       "      <td>2021-11-29 00:00:00</td>\n",
       "      <td>2021-12-06 00:00:00</td>\n",
       "      <td>-6.543502e-04</td>\n",
       "      <td>0.340796</td>\n",
       "      <td>-0.308052</td>\n",
       "      <td>-2.8370</td>\n",
       "    </tr>\n",
       "    <tr>\n",
       "      <th>5</th>\n",
       "      <td>ATOM</td>\n",
       "      <td>2021-12-06 00:00:00</td>\n",
       "      <td>2021-12-13 00:00:00</td>\n",
       "      <td>-9.716086e-07</td>\n",
       "      <td>0.254383</td>\n",
       "      <td>-0.141268</td>\n",
       "      <td>-0.0040</td>\n",
       "    </tr>\n",
       "    <tr>\n",
       "      <th>6</th>\n",
       "      <td>AVAX</td>\n",
       "      <td>2021-11-29 00:00:00</td>\n",
       "      <td>2021-12-06 00:00:00</td>\n",
       "      <td>-1.575971e-03</td>\n",
       "      <td>0.320661</td>\n",
       "      <td>-0.407316</td>\n",
       "      <td>-25.6000</td>\n",
       "    </tr>\n",
       "    <tr>\n",
       "      <th>7</th>\n",
       "      <td>AVAX</td>\n",
       "      <td>2021-12-06 00:00:00</td>\n",
       "      <td>2021-12-13 00:00:00</td>\n",
       "      <td>8.111556e-05</td>\n",
       "      <td>0.249173</td>\n",
       "      <td>-0.181074</td>\n",
       "      <td>1.1800</td>\n",
       "    </tr>\n",
       "    <tr>\n",
       "      <th>8</th>\n",
       "      <td>BTC</td>\n",
       "      <td>2021-11-29 00:00:00</td>\n",
       "      <td>2021-12-06 00:00:00</td>\n",
       "      <td>-8.976678e-04</td>\n",
       "      <td>0.175543</td>\n",
       "      <td>-0.231254</td>\n",
       "      <td>-7979.4100</td>\n",
       "    </tr>\n",
       "    <tr>\n",
       "      <th>9</th>\n",
       "      <td>BTC</td>\n",
       "      <td>2021-12-06 00:00:00</td>\n",
       "      <td>2021-12-13 00:00:00</td>\n",
       "      <td>9.997437e-05</td>\n",
       "      <td>0.134449</td>\n",
       "      <td>-0.093620</td>\n",
       "      <td>833.1100</td>\n",
       "    </tr>\n",
       "    <tr>\n",
       "      <th>10</th>\n",
       "      <td>COMP</td>\n",
       "      <td>2021-11-29 00:00:00</td>\n",
       "      <td>2021-12-06 00:00:00</td>\n",
       "      <td>-1.860340e-03</td>\n",
       "      <td>0.210428</td>\n",
       "      <td>-0.342150</td>\n",
       "      <td>-76.7900</td>\n",
       "    </tr>\n",
       "    <tr>\n",
       "      <th>11</th>\n",
       "      <td>COMP</td>\n",
       "      <td>2021-12-06 00:00:00</td>\n",
       "      <td>2021-12-13 00:00:00</td>\n",
       "      <td>-3.662909e-04</td>\n",
       "      <td>0.234462</td>\n",
       "      <td>-0.228852</td>\n",
       "      <td>-12.5700</td>\n",
       "    </tr>\n",
       "    <tr>\n",
       "      <th>12</th>\n",
       "      <td>CRV</td>\n",
       "      <td>2021-11-29 00:00:00</td>\n",
       "      <td>2021-12-06 00:00:00</td>\n",
       "      <td>-1.956485e-03</td>\n",
       "      <td>0.358515</td>\n",
       "      <td>-0.466436</td>\n",
       "      <td>-1.3619</td>\n",
       "    </tr>\n",
       "    <tr>\n",
       "      <th>13</th>\n",
       "      <td>CRV</td>\n",
       "      <td>2021-12-06 00:00:00</td>\n",
       "      <td>2021-12-13 00:00:00</td>\n",
       "      <td>3.604268e-04</td>\n",
       "      <td>0.289645</td>\n",
       "      <td>-0.230018</td>\n",
       "      <td>0.2249</td>\n",
       "    </tr>\n",
       "    <tr>\n",
       "      <th>14</th>\n",
       "      <td>DOT</td>\n",
       "      <td>2021-11-29 00:00:00</td>\n",
       "      <td>2021-12-06 00:00:00</td>\n",
       "      <td>-1.422355e-03</td>\n",
       "      <td>0.251500</td>\n",
       "      <td>-0.373621</td>\n",
       "      <td>-7.5660</td>\n",
       "    </tr>\n",
       "    <tr>\n",
       "      <th>15</th>\n",
       "      <td>DOT</td>\n",
       "      <td>2021-12-06 00:00:00</td>\n",
       "      <td>2021-12-13 00:00:00</td>\n",
       "      <td>2.898146e-04</td>\n",
       "      <td>0.235252</td>\n",
       "      <td>-0.171697</td>\n",
       "      <td>1.4070</td>\n",
       "    </tr>\n",
       "    <tr>\n",
       "      <th>16</th>\n",
       "      <td>ETH</td>\n",
       "      <td>2021-11-29 00:00:00</td>\n",
       "      <td>2021-12-06 00:00:00</td>\n",
       "      <td>-1.845000e-04</td>\n",
       "      <td>0.187724</td>\n",
       "      <td>-0.208379</td>\n",
       "      <td>-130.4200</td>\n",
       "    </tr>\n",
       "    <tr>\n",
       "      <th>17</th>\n",
       "      <td>ETH</td>\n",
       "      <td>2021-12-06 00:00:00</td>\n",
       "      <td>2021-12-13 00:00:00</td>\n",
       "      <td>-6.668638e-05</td>\n",
       "      <td>0.160916</td>\n",
       "      <td>-0.129559</td>\n",
       "      <td>-46.5500</td>\n",
       "    </tr>\n",
       "    <tr>\n",
       "      <th>18</th>\n",
       "      <td>SOL</td>\n",
       "      <td>2021-11-29 00:00:00</td>\n",
       "      <td>2021-12-06 00:00:00</td>\n",
       "      <td>-3.106808e-04</td>\n",
       "      <td>0.280443</td>\n",
       "      <td>-0.266008</td>\n",
       "      <td>-10.1580</td>\n",
       "    </tr>\n",
       "    <tr>\n",
       "      <th>19</th>\n",
       "      <td>SOL</td>\n",
       "      <td>2021-12-06 00:00:00</td>\n",
       "      <td>2021-12-13 00:00:00</td>\n",
       "      <td>-7.263160e-04</td>\n",
       "      <td>0.199686</td>\n",
       "      <td>-0.209001</td>\n",
       "      <td>-22.4670</td>\n",
       "    </tr>\n",
       "    <tr>\n",
       "      <th>20</th>\n",
       "      <td>USDT</td>\n",
       "      <td>2021-11-29 00:00:00</td>\n",
       "      <td>2021-12-06 00:00:00</td>\n",
       "      <td>3.589225e-06</td>\n",
       "      <td>0.019367</td>\n",
       "      <td>-0.004286</td>\n",
       "      <td>0.0006</td>\n",
       "    </tr>\n",
       "    <tr>\n",
       "      <th>21</th>\n",
       "      <td>USDT</td>\n",
       "      <td>2021-12-06 00:00:00</td>\n",
       "      <td>2021-12-13 00:00:00</td>\n",
       "      <td>-3.589584e-06</td>\n",
       "      <td>0.003089</td>\n",
       "      <td>-0.001099</td>\n",
       "      <td>-0.0006</td>\n",
       "    </tr>\n",
       "  </tbody>\n",
       "</table>\n",
       "</div>"
      ],
      "text/plain": [
       "   token            from_date              to_date    avg_return  \\\n",
       "0   AAVE  2021-11-29 00:00:00  2021-12-06 00:00:00 -1.305232e-03   \n",
       "1   AAVE  2021-12-06 00:00:00  2021-12-13 00:00:00 -3.755434e-04   \n",
       "2    ADA  2021-11-29 00:00:00  2021-12-06 00:00:00 -9.344545e-04   \n",
       "3    ADA  2021-12-06 00:00:00  2021-12-13 00:00:00 -1.302320e-04   \n",
       "4   ATOM  2021-11-29 00:00:00  2021-12-06 00:00:00 -6.543502e-04   \n",
       "5   ATOM  2021-12-06 00:00:00  2021-12-13 00:00:00 -9.716086e-07   \n",
       "6   AVAX  2021-11-29 00:00:00  2021-12-06 00:00:00 -1.575971e-03   \n",
       "7   AVAX  2021-12-06 00:00:00  2021-12-13 00:00:00  8.111556e-05   \n",
       "8    BTC  2021-11-29 00:00:00  2021-12-06 00:00:00 -8.976678e-04   \n",
       "9    BTC  2021-12-06 00:00:00  2021-12-13 00:00:00  9.997437e-05   \n",
       "10  COMP  2021-11-29 00:00:00  2021-12-06 00:00:00 -1.860340e-03   \n",
       "11  COMP  2021-12-06 00:00:00  2021-12-13 00:00:00 -3.662909e-04   \n",
       "12   CRV  2021-11-29 00:00:00  2021-12-06 00:00:00 -1.956485e-03   \n",
       "13   CRV  2021-12-06 00:00:00  2021-12-13 00:00:00  3.604268e-04   \n",
       "14   DOT  2021-11-29 00:00:00  2021-12-06 00:00:00 -1.422355e-03   \n",
       "15   DOT  2021-12-06 00:00:00  2021-12-13 00:00:00  2.898146e-04   \n",
       "16   ETH  2021-11-29 00:00:00  2021-12-06 00:00:00 -1.845000e-04   \n",
       "17   ETH  2021-12-06 00:00:00  2021-12-13 00:00:00 -6.668638e-05   \n",
       "18   SOL  2021-11-29 00:00:00  2021-12-06 00:00:00 -3.106808e-04   \n",
       "19   SOL  2021-12-06 00:00:00  2021-12-13 00:00:00 -7.263160e-04   \n",
       "20  USDT  2021-11-29 00:00:00  2021-12-06 00:00:00  3.589225e-06   \n",
       "21  USDT  2021-12-06 00:00:00  2021-12-13 00:00:00 -3.589584e-06   \n",
       "\n",
       "    avg_volatility  max_drawdown  range_of_close  \n",
       "0         0.221054     -0.360386        -46.8080  \n",
       "1         0.200400     -0.198313        -11.6730  \n",
       "2         0.226749     -0.287682         -0.2305  \n",
       "3         0.203766     -0.196004         -0.0297  \n",
       "4         0.340796     -0.308052         -2.8370  \n",
       "5         0.254383     -0.141268         -0.0040  \n",
       "6         0.320661     -0.407316        -25.6000  \n",
       "7         0.249173     -0.181074          1.1800  \n",
       "8         0.175543     -0.231254      -7979.4100  \n",
       "9         0.134449     -0.093620        833.1100  \n",
       "10        0.210428     -0.342150        -76.7900  \n",
       "11        0.234462     -0.228852        -12.5700  \n",
       "12        0.358515     -0.466436         -1.3619  \n",
       "13        0.289645     -0.230018          0.2249  \n",
       "14        0.251500     -0.373621         -7.5660  \n",
       "15        0.235252     -0.171697          1.4070  \n",
       "16        0.187724     -0.208379       -130.4200  \n",
       "17        0.160916     -0.129559        -46.5500  \n",
       "18        0.280443     -0.266008        -10.1580  \n",
       "19        0.199686     -0.209001        -22.4670  \n",
       "20        0.019367     -0.004286          0.0006  \n",
       "21        0.003089     -0.001099         -0.0006  "
      ]
     },
     "execution_count": 10,
     "metadata": {},
     "output_type": "execute_result"
    }
   ],
   "source": [
    "info_by_run = pd.DataFrame([\n",
    "    pd.Series({\n",
    "        'token': scrap['token'].data,\n",
    "        'from_date': scrap['from_date'].data,\n",
    "        'to_date': scrap['to_date'].data,\n",
    "        'avg_return': scrap['prices'].data['return'].mean(),\n",
    "        'avg_volatility': scrap['prices'].data['volatility'].mean(),\n",
    "        'max_drawdown': scrap['prices'].data['mdd'].min(),\n",
    "        'range_of_close': scrap['prices'].data['close'].iloc[-1] - scrap['prices'].data['close'].iloc[0]\n",
    "    })\n",
    "    for book, scrap in notebooks.notebook_scraps.items()\n",
    "])\n",
    "\n",
    "info_by_run"
   ]
  },
  {
   "cell_type": "code",
   "execution_count": null,
   "id": "97ff9d32-5d15-4858-8b3b-a169b56c5062",
   "metadata": {},
   "outputs": [],
   "source": []
  }
 ],
 "metadata": {
  "kernelspec": {
   "display_name": "Python 3 (ipykernel)",
   "language": "python",
   "name": "python3"
  },
  "language_info": {
   "codemirror_mode": {
    "name": "ipython",
    "version": 3
   },
   "file_extension": ".py",
   "mimetype": "text/x-python",
   "name": "python",
   "nbconvert_exporter": "python",
   "pygments_lexer": "ipython3",
   "version": "3.8.12"
  }
 },
 "nbformat": 4,
 "nbformat_minor": 5
}
