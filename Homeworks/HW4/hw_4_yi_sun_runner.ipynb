{
 "cells": [
  {
   "cell_type": "markdown",
   "id": "3476731f-25fd-4d4b-af13-770749a1a710",
   "metadata": {},
   "source": [
    "# Homework 4 (Sun Yi)\n",
    "Runner"
   ]
  },
  {
   "cell_type": "code",
   "execution_count": 1,
   "id": "f53593d2-6a96-4a7c-ab60-c3f477a86c2b",
   "metadata": {},
   "outputs": [
    {
     "name": "stderr",
     "output_type": "stream",
     "text": [
      "/Users/sunyi/opt/anaconda3/lib/python3.9/site-packages/papermill/iorw.py:50: FutureWarning: pyarrow.HadoopFileSystem is deprecated as of 2.0.0, please use pyarrow.fs.HadoopFileSystem instead.\n",
      "  from pyarrow import HadoopFileSystem\n"
     ]
    }
   ],
   "source": [
    "import papermill as pm\n",
    "import scrapbook as sb\n",
    "import pandas as pd\n",
    "from datetime import datetime, timedelta\n",
    "import os\n",
    "import sqlite3"
   ]
  },
  {
   "cell_type": "code",
   "execution_count": 31,
   "id": "4e0aa1c3-3d39-41bf-ab64-bbb4c0ea7125",
   "metadata": {},
   "outputs": [
    {
     "data": {
      "text/html": [
       "<div>\n",
       "<style scoped>\n",
       "    .dataframe tbody tr th:only-of-type {\n",
       "        vertical-align: middle;\n",
       "    }\n",
       "\n",
       "    .dataframe tbody tr th {\n",
       "        vertical-align: top;\n",
       "    }\n",
       "\n",
       "    .dataframe thead th {\n",
       "        text-align: right;\n",
       "    }\n",
       "</style>\n",
       "<table border=\"1\" class=\"dataframe\">\n",
       "  <thead>\n",
       "    <tr style=\"text-align: right;\">\n",
       "      <th></th>\n",
       "      <th>token</th>\n",
       "      <th>max(ts)</th>\n",
       "    </tr>\n",
       "  </thead>\n",
       "  <tbody>\n",
       "    <tr>\n",
       "      <th>0</th>\n",
       "      <td>BTC</td>\n",
       "      <td>2021-12-15 00:00:00</td>\n",
       "    </tr>\n",
       "    <tr>\n",
       "      <th>1</th>\n",
       "      <td>ETH</td>\n",
       "      <td>2021-12-15 00:00:00</td>\n",
       "    </tr>\n",
       "    <tr>\n",
       "      <th>2</th>\n",
       "      <td>SOL</td>\n",
       "      <td>2021-12-15 00:00:00</td>\n",
       "    </tr>\n",
       "    <tr>\n",
       "      <th>3</th>\n",
       "      <td>ADA</td>\n",
       "      <td>2021-12-15 00:00:00</td>\n",
       "    </tr>\n",
       "    <tr>\n",
       "      <th>4</th>\n",
       "      <td>AVAX</td>\n",
       "      <td>2021-12-15 00:00:00</td>\n",
       "    </tr>\n",
       "    <tr>\n",
       "      <th>5</th>\n",
       "      <td>DOT</td>\n",
       "      <td>2021-12-15 00:00:00</td>\n",
       "    </tr>\n",
       "    <tr>\n",
       "      <th>6</th>\n",
       "      <td>USDT</td>\n",
       "      <td>2021-12-15 00:00:00</td>\n",
       "    </tr>\n",
       "    <tr>\n",
       "      <th>7</th>\n",
       "      <td>ATOM</td>\n",
       "      <td>2021-12-15 00:00:00</td>\n",
       "    </tr>\n",
       "    <tr>\n",
       "      <th>8</th>\n",
       "      <td>CRV</td>\n",
       "      <td>2021-12-15 00:00:00</td>\n",
       "    </tr>\n",
       "    <tr>\n",
       "      <th>9</th>\n",
       "      <td>AAVE</td>\n",
       "      <td>2021-12-15 00:00:00</td>\n",
       "    </tr>\n",
       "    <tr>\n",
       "      <th>10</th>\n",
       "      <td>COMP</td>\n",
       "      <td>2021-12-15 00:00:00</td>\n",
       "    </tr>\n",
       "  </tbody>\n",
       "</table>\n",
       "</div>"
      ],
      "text/plain": [
       "   token              max(ts)\n",
       "0    BTC  2021-12-15 00:00:00\n",
       "1    ETH  2021-12-15 00:00:00\n",
       "2    SOL  2021-12-15 00:00:00\n",
       "3    ADA  2021-12-15 00:00:00\n",
       "4   AVAX  2021-12-15 00:00:00\n",
       "5    DOT  2021-12-15 00:00:00\n",
       "6   USDT  2021-12-15 00:00:00\n",
       "7   ATOM  2021-12-15 00:00:00\n",
       "8    CRV  2021-12-15 00:00:00\n",
       "9   AAVE  2021-12-15 00:00:00\n",
       "10  COMP  2021-12-15 00:00:00"
      ]
     },
     "execution_count": 31,
     "metadata": {},
     "output_type": "execute_result"
    }
   ],
   "source": [
    "output = pd.read_sql(f'''\n",
    "SELECT \n",
    "    token, max(ts)\n",
    "FROM ohlc \n",
    "group by token\n",
    "order by sum(volumeUSD) desc\n",
    "''', connection_string)\n",
    "output"
   ]
  },
  {
   "cell_type": "code",
   "execution_count": 24,
   "id": "65ab2a47-1e91-43d6-ba15-4f46df697e14",
   "metadata": {},
   "outputs": [
    {
     "data": {
      "text/plain": [
       "Timestamp('2021-12-01 00:00:00')"
      ]
     },
     "execution_count": 24,
     "metadata": {},
     "output_type": "execute_result"
    }
   ],
   "source": [
    "start_date = pd.to_datetime('2021-12-15 00:00:00') - timedelta(days=14)\n",
    "start_date"
   ]
  },
  {
   "cell_type": "code",
   "execution_count": 32,
   "id": "edd677ff-5734-475c-844e-31759849de17",
   "metadata": {
    "tags": []
   },
   "outputs": [],
   "source": [
    "run_dates = [(start_date + timedelta(days=7 * x)) for x in range(2)]\n",
    "tokens = output.token.to_list()\n",
    "connection_string = 'sqlite:///data/data.db'\n",
    "events_db = 'crypto_events_database'"
   ]
  },
  {
   "cell_type": "code",
   "execution_count": 33,
   "id": "32cf95ff-108b-419d-81f9-3dbc49415d74",
   "metadata": {},
   "outputs": [],
   "source": [
    "base_output_folder = os.path.expanduser('outputs')\n",
    "\n",
    "if not os.path.exists(base_output_folder):\n",
    "        os.makedirs(base_output_folder)"
   ]
  },
  {
   "cell_type": "code",
   "execution_count": 35,
   "id": "fbca1567-c456-44bf-9399-d25971746ac7",
   "metadata": {
    "collapsed": true,
    "jupyter": {
     "outputs_hidden": true
    },
    "tags": []
   },
   "outputs": [
    {
     "name": "stdout",
     "output_type": "stream",
     "text": [
      "running for BTC for date 2021-12-01 00:00:00 to 2021-12-08 00:00:00\r"
     ]
    },
    {
     "data": {
      "application/vnd.jupyter.widget-view+json": {
       "model_id": "825325fc65db4b2aa2d6491f493b96c2",
       "version_major": 2,
       "version_minor": 0
      },
      "text/plain": [
       "Executing:   0%|          | 0/12 [00:00<?, ?cell/s]"
      ]
     },
     "metadata": {},
     "output_type": "display_data"
    },
    {
     "name": "stdout",
     "output_type": "stream",
     "text": [
      "running for ETH for date 2021-12-01 00:00:00 to 2021-12-08 00:00:00\r"
     ]
    },
    {
     "data": {
      "application/vnd.jupyter.widget-view+json": {
       "model_id": "5006ec8bbac34c878ec34dcfbfb27b2a",
       "version_major": 2,
       "version_minor": 0
      },
      "text/plain": [
       "Executing:   0%|          | 0/12 [00:00<?, ?cell/s]"
      ]
     },
     "metadata": {},
     "output_type": "display_data"
    },
    {
     "name": "stdout",
     "output_type": "stream",
     "text": [
      "running for SOL for date 2021-12-01 00:00:00 to 2021-12-08 00:00:00\r"
     ]
    },
    {
     "data": {
      "application/vnd.jupyter.widget-view+json": {
       "model_id": "952341dc91824d038092f094332e200b",
       "version_major": 2,
       "version_minor": 0
      },
      "text/plain": [
       "Executing:   0%|          | 0/12 [00:00<?, ?cell/s]"
      ]
     },
     "metadata": {},
     "output_type": "display_data"
    },
    {
     "name": "stdout",
     "output_type": "stream",
     "text": [
      "running for ADA for date 2021-12-01 00:00:00 to 2021-12-08 00:00:00\r"
     ]
    },
    {
     "data": {
      "application/vnd.jupyter.widget-view+json": {
       "model_id": "87146a43b64a459bb051e898c3a43a30",
       "version_major": 2,
       "version_minor": 0
      },
      "text/plain": [
       "Executing:   0%|          | 0/12 [00:00<?, ?cell/s]"
      ]
     },
     "metadata": {},
     "output_type": "display_data"
    },
    {
     "name": "stdout",
     "output_type": "stream",
     "text": [
      "running for AVAX for date 2021-12-01 00:00:00 to 2021-12-08 00:00:00\r"
     ]
    },
    {
     "data": {
      "application/vnd.jupyter.widget-view+json": {
       "model_id": "4806b155b99448c9ba9ed25d0bb80f4d",
       "version_major": 2,
       "version_minor": 0
      },
      "text/plain": [
       "Executing:   0%|          | 0/12 [00:00<?, ?cell/s]"
      ]
     },
     "metadata": {},
     "output_type": "display_data"
    },
    {
     "name": "stdout",
     "output_type": "stream",
     "text": [
      "running for DOT for date 2021-12-01 00:00:00 to 2021-12-08 00:00:00\r"
     ]
    },
    {
     "data": {
      "application/vnd.jupyter.widget-view+json": {
       "model_id": "6e7f946f0bcf42c8942737a500a7ea9e",
       "version_major": 2,
       "version_minor": 0
      },
      "text/plain": [
       "Executing:   0%|          | 0/12 [00:00<?, ?cell/s]"
      ]
     },
     "metadata": {},
     "output_type": "display_data"
    },
    {
     "name": "stdout",
     "output_type": "stream",
     "text": [
      "running for USDT for date 2021-12-01 00:00:00 to 2021-12-08 00:00:00\r"
     ]
    },
    {
     "data": {
      "application/vnd.jupyter.widget-view+json": {
       "model_id": "a5b99f509bfe46f18ca2e9409165f002",
       "version_major": 2,
       "version_minor": 0
      },
      "text/plain": [
       "Executing:   0%|          | 0/12 [00:00<?, ?cell/s]"
      ]
     },
     "metadata": {},
     "output_type": "display_data"
    },
    {
     "name": "stdout",
     "output_type": "stream",
     "text": [
      "running for ATOM for date 2021-12-01 00:00:00 to 2021-12-08 00:00:00\r"
     ]
    },
    {
     "data": {
      "application/vnd.jupyter.widget-view+json": {
       "model_id": "2f997169dd474aa589d40a433328254f",
       "version_major": 2,
       "version_minor": 0
      },
      "text/plain": [
       "Executing:   0%|          | 0/12 [00:00<?, ?cell/s]"
      ]
     },
     "metadata": {},
     "output_type": "display_data"
    },
    {
     "name": "stdout",
     "output_type": "stream",
     "text": [
      "running for CRV for date 2021-12-01 00:00:00 to 2021-12-08 00:00:00\r"
     ]
    },
    {
     "data": {
      "application/vnd.jupyter.widget-view+json": {
       "model_id": "8f0eb82528a04e94b4e5fa61988051bf",
       "version_major": 2,
       "version_minor": 0
      },
      "text/plain": [
       "Executing:   0%|          | 0/12 [00:00<?, ?cell/s]"
      ]
     },
     "metadata": {},
     "output_type": "display_data"
    },
    {
     "name": "stdout",
     "output_type": "stream",
     "text": [
      "running for AAVE for date 2021-12-01 00:00:00 to 2021-12-08 00:00:00\r"
     ]
    },
    {
     "data": {
      "application/vnd.jupyter.widget-view+json": {
       "model_id": "486293c67be94599b9b63e9a4b34b60c",
       "version_major": 2,
       "version_minor": 0
      },
      "text/plain": [
       "Executing:   0%|          | 0/12 [00:00<?, ?cell/s]"
      ]
     },
     "metadata": {},
     "output_type": "display_data"
    },
    {
     "name": "stdout",
     "output_type": "stream",
     "text": [
      "running for COMP for date 2021-12-01 00:00:00 to 2021-12-08 00:00:00\r"
     ]
    },
    {
     "data": {
      "application/vnd.jupyter.widget-view+json": {
       "model_id": "c2dcd66f50b84dadb5653fc5fb68d92b",
       "version_major": 2,
       "version_minor": 0
      },
      "text/plain": [
       "Executing:   0%|          | 0/12 [00:00<?, ?cell/s]"
      ]
     },
     "metadata": {},
     "output_type": "display_data"
    },
    {
     "name": "stdout",
     "output_type": "stream",
     "text": [
      "running for BTC for date 2021-12-08 00:00:00 to 2021-12-15 00:00:00\r"
     ]
    },
    {
     "data": {
      "application/vnd.jupyter.widget-view+json": {
       "model_id": "29fb0ea603dc4e4c946c5fab258a8302",
       "version_major": 2,
       "version_minor": 0
      },
      "text/plain": [
       "Executing:   0%|          | 0/12 [00:00<?, ?cell/s]"
      ]
     },
     "metadata": {},
     "output_type": "display_data"
    },
    {
     "name": "stdout",
     "output_type": "stream",
     "text": [
      "running for ETH for date 2021-12-08 00:00:00 to 2021-12-15 00:00:00\r"
     ]
    },
    {
     "data": {
      "application/vnd.jupyter.widget-view+json": {
       "model_id": "74393b5e2a6c45f891ce8d2b551c073a",
       "version_major": 2,
       "version_minor": 0
      },
      "text/plain": [
       "Executing:   0%|          | 0/12 [00:00<?, ?cell/s]"
      ]
     },
     "metadata": {},
     "output_type": "display_data"
    },
    {
     "name": "stdout",
     "output_type": "stream",
     "text": [
      "running for SOL for date 2021-12-08 00:00:00 to 2021-12-15 00:00:00\r"
     ]
    },
    {
     "data": {
      "application/vnd.jupyter.widget-view+json": {
       "model_id": "ef7a46249a27489e8592dcdf1c90b4fc",
       "version_major": 2,
       "version_minor": 0
      },
      "text/plain": [
       "Executing:   0%|          | 0/12 [00:00<?, ?cell/s]"
      ]
     },
     "metadata": {},
     "output_type": "display_data"
    },
    {
     "name": "stdout",
     "output_type": "stream",
     "text": [
      "running for ADA for date 2021-12-08 00:00:00 to 2021-12-15 00:00:00\r"
     ]
    },
    {
     "data": {
      "application/vnd.jupyter.widget-view+json": {
       "model_id": "8cd76d0405d24183af7db7344e5f5b60",
       "version_major": 2,
       "version_minor": 0
      },
      "text/plain": [
       "Executing:   0%|          | 0/12 [00:00<?, ?cell/s]"
      ]
     },
     "metadata": {},
     "output_type": "display_data"
    },
    {
     "name": "stdout",
     "output_type": "stream",
     "text": [
      "running for AVAX for date 2021-12-08 00:00:00 to 2021-12-15 00:00:00\r"
     ]
    },
    {
     "data": {
      "application/vnd.jupyter.widget-view+json": {
       "model_id": "a9b5dc68b7e34e1694d3384da81fd147",
       "version_major": 2,
       "version_minor": 0
      },
      "text/plain": [
       "Executing:   0%|          | 0/12 [00:00<?, ?cell/s]"
      ]
     },
     "metadata": {},
     "output_type": "display_data"
    },
    {
     "name": "stdout",
     "output_type": "stream",
     "text": [
      "running for DOT for date 2021-12-08 00:00:00 to 2021-12-15 00:00:00\r"
     ]
    },
    {
     "data": {
      "application/vnd.jupyter.widget-view+json": {
       "model_id": "fda1d27e654f4184b9ce9483b5e38496",
       "version_major": 2,
       "version_minor": 0
      },
      "text/plain": [
       "Executing:   0%|          | 0/12 [00:00<?, ?cell/s]"
      ]
     },
     "metadata": {},
     "output_type": "display_data"
    },
    {
     "name": "stdout",
     "output_type": "stream",
     "text": [
      "running for USDT for date 2021-12-08 00:00:00 to 2021-12-15 00:00:00\r"
     ]
    },
    {
     "data": {
      "application/vnd.jupyter.widget-view+json": {
       "model_id": "3e8f5062bd1e43be8646b85312b7e816",
       "version_major": 2,
       "version_minor": 0
      },
      "text/plain": [
       "Executing:   0%|          | 0/12 [00:00<?, ?cell/s]"
      ]
     },
     "metadata": {},
     "output_type": "display_data"
    },
    {
     "name": "stdout",
     "output_type": "stream",
     "text": [
      "running for ATOM for date 2021-12-08 00:00:00 to 2021-12-15 00:00:00\r"
     ]
    },
    {
     "data": {
      "application/vnd.jupyter.widget-view+json": {
       "model_id": "f85c58216d5e474c8339c84521673cd0",
       "version_major": 2,
       "version_minor": 0
      },
      "text/plain": [
       "Executing:   0%|          | 0/12 [00:00<?, ?cell/s]"
      ]
     },
     "metadata": {},
     "output_type": "display_data"
    },
    {
     "name": "stdout",
     "output_type": "stream",
     "text": [
      "running for CRV for date 2021-12-08 00:00:00 to 2021-12-15 00:00:00\r"
     ]
    },
    {
     "data": {
      "application/vnd.jupyter.widget-view+json": {
       "model_id": "184ec25cffd04d25bf61f5cd554d0f97",
       "version_major": 2,
       "version_minor": 0
      },
      "text/plain": [
       "Executing:   0%|          | 0/12 [00:00<?, ?cell/s]"
      ]
     },
     "metadata": {},
     "output_type": "display_data"
    },
    {
     "name": "stdout",
     "output_type": "stream",
     "text": [
      "running for AAVE for date 2021-12-08 00:00:00 to 2021-12-15 00:00:00\r"
     ]
    },
    {
     "data": {
      "application/vnd.jupyter.widget-view+json": {
       "model_id": "67c724693bcb471b846efbb31c9d9dcf",
       "version_major": 2,
       "version_minor": 0
      },
      "text/plain": [
       "Executing:   0%|          | 0/12 [00:00<?, ?cell/s]"
      ]
     },
     "metadata": {},
     "output_type": "display_data"
    },
    {
     "name": "stdout",
     "output_type": "stream",
     "text": [
      "running for COMP for date 2021-12-08 00:00:00 to 2021-12-15 00:00:00\r"
     ]
    },
    {
     "data": {
      "application/vnd.jupyter.widget-view+json": {
       "model_id": "f79a4cfcca674bacb6252613cb810395",
       "version_major": 2,
       "version_minor": 0
      },
      "text/plain": [
       "Executing:   0%|          | 0/12 [00:00<?, ?cell/s]"
      ]
     },
     "metadata": {},
     "output_type": "display_data"
    }
   ],
   "source": [
    "for run_date in run_dates:\n",
    "    for token in tokens:\n",
    "        print(f'running for {token} for date {run_date} to {run_date + timedelta(days=7)}', end='\\r')\n",
    "        res = pm.execute_notebook(\n",
    "            'hw_4_yi_sun_template.ipynb',\n",
    "            f'{base_output_folder}/market_analysis_{token}_{run_date}.ipynb',\n",
    "            parameters = {\n",
    "                'from_date': f'{run_date}',\n",
    "                'to_date': f'{run_date + timedelta(days=7)}',\n",
    "                'token': token,\n",
    "                'connection_string': connection_string,\n",
    "                'events_db': events_db\n",
    "            }\n",
    "        )"
   ]
  },
  {
   "cell_type": "code",
   "execution_count": 40,
   "id": "75b94104-a38a-4ad9-bb20-54c4b7c92345",
   "metadata": {
    "tags": []
   },
   "outputs": [],
   "source": [
    "nbs = sb.read_notebooks('outputs')"
   ]
  },
  {
   "cell_type": "code",
   "execution_count": 71,
   "id": "eef80e6b-4fed-4e85-bcaf-8d0d0b5b204a",
   "metadata": {},
   "outputs": [
    {
     "data": {
      "text/html": [
       "<div>\n",
       "<style scoped>\n",
       "    .dataframe tbody tr th:only-of-type {\n",
       "        vertical-align: middle;\n",
       "    }\n",
       "\n",
       "    .dataframe tbody tr th {\n",
       "        vertical-align: top;\n",
       "    }\n",
       "\n",
       "    .dataframe thead th {\n",
       "        text-align: right;\n",
       "    }\n",
       "</style>\n",
       "<table border=\"1\" class=\"dataframe\">\n",
       "  <thead>\n",
       "    <tr style=\"text-align: right;\">\n",
       "      <th></th>\n",
       "      <th>token</th>\n",
       "      <th>from_date</th>\n",
       "      <th>to_date</th>\n",
       "      <th>avg hourly return</th>\n",
       "      <th>avg volatility</th>\n",
       "      <th>max drawdown</th>\n",
       "      <th>last close - first close</th>\n",
       "    </tr>\n",
       "  </thead>\n",
       "  <tbody>\n",
       "    <tr>\n",
       "      <th>0</th>\n",
       "      <td>AAVE</td>\n",
       "      <td>2021-12-01 00:00:00</td>\n",
       "      <td>2021-12-08 00:00:00</td>\n",
       "      <td>-1.911719e-03</td>\n",
       "      <td>0.242483</td>\n",
       "      <td>-0.365927</td>\n",
       "      <td>-73.0010</td>\n",
       "    </tr>\n",
       "    <tr>\n",
       "      <th>1</th>\n",
       "      <td>AAVE</td>\n",
       "      <td>2021-12-08 00:00:00</td>\n",
       "      <td>2021-12-15 00:00:00</td>\n",
       "      <td>-5.628913e-04</td>\n",
       "      <td>0.190437</td>\n",
       "      <td>-0.214169</td>\n",
       "      <td>-18.3390</td>\n",
       "    </tr>\n",
       "    <tr>\n",
       "      <th>2</th>\n",
       "      <td>ADA</td>\n",
       "      <td>2021-12-01 00:00:00</td>\n",
       "      <td>2021-12-08 00:00:00</td>\n",
       "      <td>-6.500425e-04</td>\n",
       "      <td>0.259161</td>\n",
       "      <td>-0.270810</td>\n",
       "      <td>-0.1819</td>\n",
       "    </tr>\n",
       "    <tr>\n",
       "      <th>3</th>\n",
       "      <td>ADA</td>\n",
       "      <td>2021-12-08 00:00:00</td>\n",
       "      <td>2021-12-15 00:00:00</td>\n",
       "      <td>-4.394820e-04</td>\n",
       "      <td>0.192457</td>\n",
       "      <td>-0.143597</td>\n",
       "      <td>-0.1095</td>\n",
       "    </tr>\n",
       "    <tr>\n",
       "      <th>4</th>\n",
       "      <td>ATOM</td>\n",
       "      <td>2021-12-01 00:00:00</td>\n",
       "      <td>2021-12-08 00:00:00</td>\n",
       "      <td>-6.660243e-04</td>\n",
       "      <td>0.374788</td>\n",
       "      <td>-0.318250</td>\n",
       "      <td>-3.6450</td>\n",
       "    </tr>\n",
       "    <tr>\n",
       "      <th>5</th>\n",
       "      <td>ATOM</td>\n",
       "      <td>2021-12-08 00:00:00</td>\n",
       "      <td>2021-12-15 00:00:00</td>\n",
       "      <td>-5.848282e-04</td>\n",
       "      <td>0.236202</td>\n",
       "      <td>-0.169664</td>\n",
       "      <td>-2.5920</td>\n",
       "    </tr>\n",
       "    <tr>\n",
       "      <th>6</th>\n",
       "      <td>AVAX</td>\n",
       "      <td>2021-12-01 00:00:00</td>\n",
       "      <td>2021-12-08 00:00:00</td>\n",
       "      <td>-1.707432e-03</td>\n",
       "      <td>0.336614</td>\n",
       "      <td>-0.385790</td>\n",
       "      <td>-32.8200</td>\n",
       "    </tr>\n",
       "    <tr>\n",
       "      <th>7</th>\n",
       "      <td>AVAX</td>\n",
       "      <td>2021-12-08 00:00:00</td>\n",
       "      <td>2021-12-15 00:00:00</td>\n",
       "      <td>-1.469500e-04</td>\n",
       "      <td>0.232938</td>\n",
       "      <td>-0.179823</td>\n",
       "      <td>-3.5700</td>\n",
       "    </tr>\n",
       "    <tr>\n",
       "      <th>8</th>\n",
       "      <td>BTC</td>\n",
       "      <td>2021-12-01 00:00:00</td>\n",
       "      <td>2021-12-08 00:00:00</td>\n",
       "      <td>-7.111839e-04</td>\n",
       "      <td>0.183768</td>\n",
       "      <td>-0.205844</td>\n",
       "      <td>-6702.1000</td>\n",
       "    </tr>\n",
       "    <tr>\n",
       "      <th>9</th>\n",
       "      <td>BTC</td>\n",
       "      <td>2021-12-08 00:00:00</td>\n",
       "      <td>2021-12-15 00:00:00</td>\n",
       "      <td>-2.573223e-04</td>\n",
       "      <td>0.133933</td>\n",
       "      <td>-0.081655</td>\n",
       "      <td>-2336.4900</td>\n",
       "    </tr>\n",
       "    <tr>\n",
       "      <th>10</th>\n",
       "      <td>COMP</td>\n",
       "      <td>2021-12-01 00:00:00</td>\n",
       "      <td>2021-12-08 00:00:00</td>\n",
       "      <td>-1.303227e-03</td>\n",
       "      <td>0.244058</td>\n",
       "      <td>-0.308472</td>\n",
       "      <td>-58.2800</td>\n",
       "    </tr>\n",
       "    <tr>\n",
       "      <th>11</th>\n",
       "      <td>COMP</td>\n",
       "      <td>2021-12-08 00:00:00</td>\n",
       "      <td>2021-12-15 00:00:00</td>\n",
       "      <td>-1.065524e-03</td>\n",
       "      <td>0.227136</td>\n",
       "      <td>-0.217119</td>\n",
       "      <td>-38.7300</td>\n",
       "    </tr>\n",
       "    <tr>\n",
       "      <th>12</th>\n",
       "      <td>CRV</td>\n",
       "      <td>2021-12-01 00:00:00</td>\n",
       "      <td>2021-12-08 00:00:00</td>\n",
       "      <td>-1.156940e-03</td>\n",
       "      <td>0.388226</td>\n",
       "      <td>-0.394862</td>\n",
       "      <td>-1.0258</td>\n",
       "    </tr>\n",
       "    <tr>\n",
       "      <th>13</th>\n",
       "      <td>CRV</td>\n",
       "      <td>2021-12-08 00:00:00</td>\n",
       "      <td>2021-12-15 00:00:00</td>\n",
       "      <td>-1.100330e-03</td>\n",
       "      <td>0.256743</td>\n",
       "      <td>-0.219754</td>\n",
       "      <td>-0.7636</td>\n",
       "    </tr>\n",
       "    <tr>\n",
       "      <th>14</th>\n",
       "      <td>DOT</td>\n",
       "      <td>2021-12-01 00:00:00</td>\n",
       "      <td>2021-12-08 00:00:00</td>\n",
       "      <td>-1.375976e-03</td>\n",
       "      <td>0.282046</td>\n",
       "      <td>-0.343999</td>\n",
       "      <td>-8.3790</td>\n",
       "    </tr>\n",
       "    <tr>\n",
       "      <th>15</th>\n",
       "      <td>DOT</td>\n",
       "      <td>2021-12-08 00:00:00</td>\n",
       "      <td>2021-12-15 00:00:00</td>\n",
       "      <td>-8.731495e-04</td>\n",
       "      <td>0.214306</td>\n",
       "      <td>-0.175804</td>\n",
       "      <td>-4.4510</td>\n",
       "    </tr>\n",
       "    <tr>\n",
       "      <th>16</th>\n",
       "      <td>ETH</td>\n",
       "      <td>2021-12-01 00:00:00</td>\n",
       "      <td>2021-12-08 00:00:00</td>\n",
       "      <td>-4.433118e-04</td>\n",
       "      <td>0.196912</td>\n",
       "      <td>-0.188101</td>\n",
       "      <td>-362.0500</td>\n",
       "    </tr>\n",
       "    <tr>\n",
       "      <th>17</th>\n",
       "      <td>ETH</td>\n",
       "      <td>2021-12-08 00:00:00</td>\n",
       "      <td>2021-12-15 00:00:00</td>\n",
       "      <td>-6.540781e-04</td>\n",
       "      <td>0.160272</td>\n",
       "      <td>-0.160540</td>\n",
       "      <td>-469.7000</td>\n",
       "    </tr>\n",
       "    <tr>\n",
       "      <th>18</th>\n",
       "      <td>SOL</td>\n",
       "      <td>2021-12-01 00:00:00</td>\n",
       "      <td>2021-12-08 00:00:00</td>\n",
       "      <td>-4.596050e-04</td>\n",
       "      <td>0.303516</td>\n",
       "      <td>-0.261363</td>\n",
       "      <td>-19.0590</td>\n",
       "    </tr>\n",
       "    <tr>\n",
       "      <th>19</th>\n",
       "      <td>SOL</td>\n",
       "      <td>2021-12-08 00:00:00</td>\n",
       "      <td>2021-12-15 00:00:00</td>\n",
       "      <td>-1.025931e-03</td>\n",
       "      <td>0.196831</td>\n",
       "      <td>-0.221529</td>\n",
       "      <td>-31.4160</td>\n",
       "    </tr>\n",
       "    <tr>\n",
       "      <th>20</th>\n",
       "      <td>USDT</td>\n",
       "      <td>2021-12-01 00:00:00</td>\n",
       "      <td>2021-12-08 00:00:00</td>\n",
       "      <td>-5.104728e-07</td>\n",
       "      <td>0.017971</td>\n",
       "      <td>-0.004675</td>\n",
       "      <td>-0.0001</td>\n",
       "    </tr>\n",
       "    <tr>\n",
       "      <th>21</th>\n",
       "      <td>USDT</td>\n",
       "      <td>2021-12-08 00:00:00</td>\n",
       "      <td>2021-12-15 00:00:00</td>\n",
       "      <td>-1.790007e-06</td>\n",
       "      <td>0.002822</td>\n",
       "      <td>-0.000999</td>\n",
       "      <td>-0.0003</td>\n",
       "    </tr>\n",
       "  </tbody>\n",
       "</table>\n",
       "</div>"
      ],
      "text/plain": [
       "   token            from_date              to_date  avg hourly return  \\\n",
       "0   AAVE  2021-12-01 00:00:00  2021-12-08 00:00:00      -1.911719e-03   \n",
       "1   AAVE  2021-12-08 00:00:00  2021-12-15 00:00:00      -5.628913e-04   \n",
       "2    ADA  2021-12-01 00:00:00  2021-12-08 00:00:00      -6.500425e-04   \n",
       "3    ADA  2021-12-08 00:00:00  2021-12-15 00:00:00      -4.394820e-04   \n",
       "4   ATOM  2021-12-01 00:00:00  2021-12-08 00:00:00      -6.660243e-04   \n",
       "5   ATOM  2021-12-08 00:00:00  2021-12-15 00:00:00      -5.848282e-04   \n",
       "6   AVAX  2021-12-01 00:00:00  2021-12-08 00:00:00      -1.707432e-03   \n",
       "7   AVAX  2021-12-08 00:00:00  2021-12-15 00:00:00      -1.469500e-04   \n",
       "8    BTC  2021-12-01 00:00:00  2021-12-08 00:00:00      -7.111839e-04   \n",
       "9    BTC  2021-12-08 00:00:00  2021-12-15 00:00:00      -2.573223e-04   \n",
       "10  COMP  2021-12-01 00:00:00  2021-12-08 00:00:00      -1.303227e-03   \n",
       "11  COMP  2021-12-08 00:00:00  2021-12-15 00:00:00      -1.065524e-03   \n",
       "12   CRV  2021-12-01 00:00:00  2021-12-08 00:00:00      -1.156940e-03   \n",
       "13   CRV  2021-12-08 00:00:00  2021-12-15 00:00:00      -1.100330e-03   \n",
       "14   DOT  2021-12-01 00:00:00  2021-12-08 00:00:00      -1.375976e-03   \n",
       "15   DOT  2021-12-08 00:00:00  2021-12-15 00:00:00      -8.731495e-04   \n",
       "16   ETH  2021-12-01 00:00:00  2021-12-08 00:00:00      -4.433118e-04   \n",
       "17   ETH  2021-12-08 00:00:00  2021-12-15 00:00:00      -6.540781e-04   \n",
       "18   SOL  2021-12-01 00:00:00  2021-12-08 00:00:00      -4.596050e-04   \n",
       "19   SOL  2021-12-08 00:00:00  2021-12-15 00:00:00      -1.025931e-03   \n",
       "20  USDT  2021-12-01 00:00:00  2021-12-08 00:00:00      -5.104728e-07   \n",
       "21  USDT  2021-12-08 00:00:00  2021-12-15 00:00:00      -1.790007e-06   \n",
       "\n",
       "    avg volatility  max drawdown  last close - first close  \n",
       "0         0.242483     -0.365927                  -73.0010  \n",
       "1         0.190437     -0.214169                  -18.3390  \n",
       "2         0.259161     -0.270810                   -0.1819  \n",
       "3         0.192457     -0.143597                   -0.1095  \n",
       "4         0.374788     -0.318250                   -3.6450  \n",
       "5         0.236202     -0.169664                   -2.5920  \n",
       "6         0.336614     -0.385790                  -32.8200  \n",
       "7         0.232938     -0.179823                   -3.5700  \n",
       "8         0.183768     -0.205844                -6702.1000  \n",
       "9         0.133933     -0.081655                -2336.4900  \n",
       "10        0.244058     -0.308472                  -58.2800  \n",
       "11        0.227136     -0.217119                  -38.7300  \n",
       "12        0.388226     -0.394862                   -1.0258  \n",
       "13        0.256743     -0.219754                   -0.7636  \n",
       "14        0.282046     -0.343999                   -8.3790  \n",
       "15        0.214306     -0.175804                   -4.4510  \n",
       "16        0.196912     -0.188101                 -362.0500  \n",
       "17        0.160272     -0.160540                 -469.7000  \n",
       "18        0.303516     -0.261363                  -19.0590  \n",
       "19        0.196831     -0.221529                  -31.4160  \n",
       "20        0.017971     -0.004675                   -0.0001  \n",
       "21        0.002822     -0.000999                   -0.0003  "
      ]
     },
     "execution_count": 71,
     "metadata": {},
     "output_type": "execute_result"
    }
   ],
   "source": [
    "summary = pd.DataFrame([\n",
    "    pd.Series({\n",
    "        'token': scrap['token'].data,\n",
    "        'from_date': scrap['from_date'].data,\n",
    "        'to_date': scrap['to_date'].data,\n",
    "        'avg hourly return' : scrap['prices'].data['return'].mean(),\n",
    "        'avg volatility' : scrap['prices'].data['volatility'].mean(),\n",
    "        'max drawdown' : scrap['prices'].data['maxDrawdown'].min(),\n",
    "        'last close - first close' : scrap['prices'].data['close'].sort_index().iloc[-1] - \n",
    "                                     scrap['prices'].data['close'].sort_index().iloc[0]})\n",
    "    for book, scrap in nbs.notebook_scraps.items()\n",
    "])\n",
    "summary"
   ]
  }
 ],
 "metadata": {
  "kernelspec": {
   "display_name": "Python 3 (ipykernel)",
   "language": "python",
   "name": "python3"
  },
  "language_info": {
   "codemirror_mode": {
    "name": "ipython",
    "version": 3
   },
   "file_extension": ".py",
   "mimetype": "text/x-python",
   "name": "python",
   "nbconvert_exporter": "python",
   "pygments_lexer": "ipython3",
   "version": "3.9.7"
  }
 },
 "nbformat": 4,
 "nbformat_minor": 5
}
