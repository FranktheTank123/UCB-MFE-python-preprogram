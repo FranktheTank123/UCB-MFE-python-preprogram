{
 "cells": [
  {
   "cell_type": "code",
   "execution_count": 1,
   "id": "c1c8d032-1776-4519-9793-de6141b6cb36",
   "metadata": {},
   "outputs": [
    {
     "name": "stderr",
     "output_type": "stream",
     "text": [
      "D:\\anaconda3\\envs\\mfe-preprogram\\lib\\site-packages\\papermill\\iorw.py:50: FutureWarning: pyarrow.HadoopFileSystem is deprecated as of 2.0.0, please use pyarrow.fs.HadoopFileSystem instead.\n",
      "  from pyarrow import HadoopFileSystem\n"
     ]
    }
   ],
   "source": [
    "import papermill as pm\n",
    "import scrapbook as sb\n",
    "import pandas as pd\n",
    "from datetime import datetime, timedelta\n",
    "import os"
   ]
  },
  {
   "cell_type": "code",
   "execution_count": 2,
   "id": "85c29f63-7d09-488f-8770-816f7f8cdea4",
   "metadata": {},
   "outputs": [],
   "source": [
    "connection_string = 'sqlite:///../../../Lectures/Lecture 4/data/data.db'"
   ]
  },
  {
   "cell_type": "code",
   "execution_count": 3,
   "id": "98f3ab3e-6d02-4260-aab6-30923e1bfb8d",
   "metadata": {},
   "outputs": [
    {
     "data": {
      "text/plain": [
       "['BTC',\n",
       " 'ETH',\n",
       " 'USDT',\n",
       " 'SOL',\n",
       " 'ADA',\n",
       " 'DOT',\n",
       " 'AVAX',\n",
       " 'ATOM',\n",
       " 'CRV',\n",
       " 'AAVE',\n",
       " 'COMP']"
      ]
     },
     "execution_count": 3,
     "metadata": {},
     "output_type": "execute_result"
    }
   ],
   "source": [
    "tokens = pd.read_sql('''\n",
    "SELECT \n",
    "    token \n",
    "FROM\n",
    "    ohlc\n",
    "''', connection_string)\n",
    "\n",
    "tokens = tokens['token'].unique().tolist()\n",
    "\n",
    "tokens"
   ]
  },
  {
   "cell_type": "code",
   "execution_count": 4,
   "id": "8d478804-aa15-4273-bdef-24eb01b53c43",
   "metadata": {},
   "outputs": [
    {
     "data": {
      "text/plain": [
       "[datetime.datetime(2021, 11, 29, 0, 0),\n",
       " datetime.datetime(2021, 11, 30, 0, 0),\n",
       " datetime.datetime(2021, 12, 1, 0, 0),\n",
       " datetime.datetime(2021, 12, 2, 0, 0),\n",
       " datetime.datetime(2021, 12, 3, 0, 0),\n",
       " datetime.datetime(2021, 12, 4, 0, 0),\n",
       " datetime.datetime(2021, 12, 5, 0, 0),\n",
       " datetime.datetime(2021, 12, 6, 0, 0),\n",
       " datetime.datetime(2021, 12, 7, 0, 0),\n",
       " datetime.datetime(2021, 12, 8, 0, 0),\n",
       " datetime.datetime(2021, 12, 9, 0, 0),\n",
       " datetime.datetime(2021, 12, 10, 0, 0),\n",
       " datetime.datetime(2021, 12, 11, 0, 0),\n",
       " datetime.datetime(2021, 12, 12, 0, 0),\n",
       " datetime.datetime(2021, 12, 13, 0, 0),\n",
       " datetime.datetime(2021, 12, 14, 0, 0),\n",
       " datetime.datetime(2021, 12, 15, 0, 0)]"
      ]
     },
     "execution_count": 4,
     "metadata": {},
     "output_type": "execute_result"
    }
   ],
   "source": [
    "date_list = pd.read_sql('''\n",
    "SELECT \n",
    "    ts\n",
    "FROM \n",
    "    ohlc\n",
    "''', connection_string)\n",
    "\n",
    "date_list = date_list['ts'].tolist()\n",
    "date_list = [i[:10] for i in date_list]\n",
    "date_list = sorted(list(set(date_list)))\n",
    "date_list = [datetime.strptime(i, '%Y-%m-%d') for i in date_list]\n",
    "date_list[-17:]\n"
   ]
  },
  {
   "cell_type": "code",
   "execution_count": 5,
   "id": "d7912a7b-c02f-44d1-a103-11e95159b841",
   "metadata": {},
   "outputs": [
    {
     "data": {
      "text/plain": [
       "[0, 1, 2, 3, 4, 5, 6, 0, 1, 2, 3, 4, 5, 6, 0, 1, 2]"
      ]
     },
     "execution_count": 5,
     "metadata": {},
     "output_type": "execute_result"
    }
   ],
   "source": [
    "[i.weekday() for i in date_list][-17:]"
   ]
  },
  {
   "cell_type": "markdown",
   "id": "e4da9489-75a8-40df-ba89-db343e51c5d2",
   "metadata": {},
   "source": [
    "So we choose 2021-11-29 ~ 2021-12-13 as two complete weeks."
   ]
  },
  {
   "cell_type": "code",
   "execution_count": 6,
   "id": "c56920df-bf3c-43e5-8d26-690507ed22ed",
   "metadata": {},
   "outputs": [
    {
     "data": {
      "text/plain": [
       "[datetime.datetime(2021, 11, 29, 0, 0), datetime.datetime(2021, 12, 6, 0, 0)]"
      ]
     },
     "execution_count": 6,
     "metadata": {},
     "output_type": "execute_result"
    }
   ],
   "source": [
    "run_dates = [date_list[-17], date_list[-10]]\n",
    "run_dates"
   ]
  },
  {
   "cell_type": "code",
   "execution_count": 7,
   "id": "8dbc8e28-1d7b-4b5f-84e6-683808155b25",
   "metadata": {},
   "outputs": [],
   "source": [
    "base_output_folder = os.path.expanduser('outputs')\n",
    "\n",
    "if not os.path.exists(base_output_folder):\n",
    "    os.makedirs(base_output_folder)"
   ]
  },
  {
   "cell_type": "code",
   "execution_count": 8,
   "id": "76dd22a7-faf9-4ca9-9d02-db17080a32b2",
   "metadata": {},
   "outputs": [
    {
     "name": "stdout",
     "output_type": "stream",
     "text": [
      "running for BTC for date 2021-11-29 00:00:00 to 2021-12-06 00:00:00\r"
     ]
    },
    {
     "data": {
      "application/vnd.jupyter.widget-view+json": {
       "model_id": "200fe4cdb8784bbc81c9927ce6e2a2b8",
       "version_major": 2,
       "version_minor": 0
      },
      "text/plain": [
       "Executing:   0%|          | 0/16 [00:00<?, ?cell/s]"
      ]
     },
     "metadata": {},
     "output_type": "display_data"
    },
    {
     "name": "stdout",
     "output_type": "stream",
     "text": [
      "running for ETH for date 2021-11-29 00:00:00 to 2021-12-06 00:00:00\r"
     ]
    },
    {
     "data": {
      "application/vnd.jupyter.widget-view+json": {
       "model_id": "c41504c896ac40f98188bc6937804f50",
       "version_major": 2,
       "version_minor": 0
      },
      "text/plain": [
       "Executing:   0%|          | 0/16 [00:00<?, ?cell/s]"
      ]
     },
     "metadata": {},
     "output_type": "display_data"
    },
    {
     "name": "stdout",
     "output_type": "stream",
     "text": [
      "running for USDT for date 2021-11-29 00:00:00 to 2021-12-06 00:00:00\r"
     ]
    },
    {
     "data": {
      "application/vnd.jupyter.widget-view+json": {
       "model_id": "4608322458ca4fceb3690e6454a05f70",
       "version_major": 2,
       "version_minor": 0
      },
      "text/plain": [
       "Executing:   0%|          | 0/16 [00:00<?, ?cell/s]"
      ]
     },
     "metadata": {},
     "output_type": "display_data"
    },
    {
     "name": "stdout",
     "output_type": "stream",
     "text": [
      "running for SOL for date 2021-11-29 00:00:00 to 2021-12-06 00:00:00\r"
     ]
    },
    {
     "data": {
      "application/vnd.jupyter.widget-view+json": {
       "model_id": "64a6991acaa149bab98ae8bc0f888b3f",
       "version_major": 2,
       "version_minor": 0
      },
      "text/plain": [
       "Executing:   0%|          | 0/16 [00:00<?, ?cell/s]"
      ]
     },
     "metadata": {},
     "output_type": "display_data"
    },
    {
     "name": "stdout",
     "output_type": "stream",
     "text": [
      "running for ADA for date 2021-11-29 00:00:00 to 2021-12-06 00:00:00\r"
     ]
    },
    {
     "data": {
      "application/vnd.jupyter.widget-view+json": {
       "model_id": "54ab3be67a6c45ebb1136f2c19b4180c",
       "version_major": 2,
       "version_minor": 0
      },
      "text/plain": [
       "Executing:   0%|          | 0/16 [00:00<?, ?cell/s]"
      ]
     },
     "metadata": {},
     "output_type": "display_data"
    },
    {
     "name": "stdout",
     "output_type": "stream",
     "text": [
      "running for DOT for date 2021-11-29 00:00:00 to 2021-12-06 00:00:00\r"
     ]
    },
    {
     "data": {
      "application/vnd.jupyter.widget-view+json": {
       "model_id": "dc7c4afb0e554083ada247f9562eca9f",
       "version_major": 2,
       "version_minor": 0
      },
      "text/plain": [
       "Executing:   0%|          | 0/16 [00:00<?, ?cell/s]"
      ]
     },
     "metadata": {},
     "output_type": "display_data"
    },
    {
     "name": "stdout",
     "output_type": "stream",
     "text": [
      "running for AVAX for date 2021-11-29 00:00:00 to 2021-12-06 00:00:00\r"
     ]
    },
    {
     "data": {
      "application/vnd.jupyter.widget-view+json": {
       "model_id": "74dc335a69e145be92b0a88376df128e",
       "version_major": 2,
       "version_minor": 0
      },
      "text/plain": [
       "Executing:   0%|          | 0/16 [00:00<?, ?cell/s]"
      ]
     },
     "metadata": {},
     "output_type": "display_data"
    },
    {
     "name": "stdout",
     "output_type": "stream",
     "text": [
      "running for ATOM for date 2021-11-29 00:00:00 to 2021-12-06 00:00:00\r"
     ]
    },
    {
     "data": {
      "application/vnd.jupyter.widget-view+json": {
       "model_id": "a9989cf442b44dd7a96503ca70f4c21e",
       "version_major": 2,
       "version_minor": 0
      },
      "text/plain": [
       "Executing:   0%|          | 0/16 [00:00<?, ?cell/s]"
      ]
     },
     "metadata": {},
     "output_type": "display_data"
    },
    {
     "name": "stdout",
     "output_type": "stream",
     "text": [
      "running for CRV for date 2021-11-29 00:00:00 to 2021-12-06 00:00:00\r"
     ]
    },
    {
     "data": {
      "application/vnd.jupyter.widget-view+json": {
       "model_id": "dc4109169c7d49eeb3570455a80952b0",
       "version_major": 2,
       "version_minor": 0
      },
      "text/plain": [
       "Executing:   0%|          | 0/16 [00:00<?, ?cell/s]"
      ]
     },
     "metadata": {},
     "output_type": "display_data"
    },
    {
     "name": "stdout",
     "output_type": "stream",
     "text": [
      "running for AAVE for date 2021-11-29 00:00:00 to 2021-12-06 00:00:00\r"
     ]
    },
    {
     "data": {
      "application/vnd.jupyter.widget-view+json": {
       "model_id": "65d31c052a774caf96d567292b1b1198",
       "version_major": 2,
       "version_minor": 0
      },
      "text/plain": [
       "Executing:   0%|          | 0/16 [00:00<?, ?cell/s]"
      ]
     },
     "metadata": {},
     "output_type": "display_data"
    },
    {
     "name": "stdout",
     "output_type": "stream",
     "text": [
      "running for COMP for date 2021-11-29 00:00:00 to 2021-12-06 00:00:00\r"
     ]
    },
    {
     "data": {
      "application/vnd.jupyter.widget-view+json": {
       "model_id": "c09680b039cb4c8db32a1ef0a0617e5f",
       "version_major": 2,
       "version_minor": 0
      },
      "text/plain": [
       "Executing:   0%|          | 0/16 [00:00<?, ?cell/s]"
      ]
     },
     "metadata": {},
     "output_type": "display_data"
    },
    {
     "name": "stdout",
     "output_type": "stream",
     "text": [
      "running for BTC for date 2021-12-06 00:00:00 to 2021-12-13 00:00:00\r"
     ]
    },
    {
     "data": {
      "application/vnd.jupyter.widget-view+json": {
       "model_id": "884567aecb5344aa8a0af311e3bfc4fc",
       "version_major": 2,
       "version_minor": 0
      },
      "text/plain": [
       "Executing:   0%|          | 0/16 [00:00<?, ?cell/s]"
      ]
     },
     "metadata": {},
     "output_type": "display_data"
    },
    {
     "name": "stdout",
     "output_type": "stream",
     "text": [
      "running for ETH for date 2021-12-06 00:00:00 to 2021-12-13 00:00:00\r"
     ]
    },
    {
     "data": {
      "application/vnd.jupyter.widget-view+json": {
       "model_id": "1613d67bc3bf460fb24abde36651cef3",
       "version_major": 2,
       "version_minor": 0
      },
      "text/plain": [
       "Executing:   0%|          | 0/16 [00:00<?, ?cell/s]"
      ]
     },
     "metadata": {},
     "output_type": "display_data"
    },
    {
     "name": "stdout",
     "output_type": "stream",
     "text": [
      "running for USDT for date 2021-12-06 00:00:00 to 2021-12-13 00:00:00\r"
     ]
    },
    {
     "data": {
      "application/vnd.jupyter.widget-view+json": {
       "model_id": "9ebab0edb9734029b5bd9c8d717673ce",
       "version_major": 2,
       "version_minor": 0
      },
      "text/plain": [
       "Executing:   0%|          | 0/16 [00:00<?, ?cell/s]"
      ]
     },
     "metadata": {},
     "output_type": "display_data"
    },
    {
     "name": "stdout",
     "output_type": "stream",
     "text": [
      "running for SOL for date 2021-12-06 00:00:00 to 2021-12-13 00:00:00\r"
     ]
    },
    {
     "data": {
      "application/vnd.jupyter.widget-view+json": {
       "model_id": "6548872f908c436ba4857d35797ee10a",
       "version_major": 2,
       "version_minor": 0
      },
      "text/plain": [
       "Executing:   0%|          | 0/16 [00:00<?, ?cell/s]"
      ]
     },
     "metadata": {},
     "output_type": "display_data"
    },
    {
     "name": "stdout",
     "output_type": "stream",
     "text": [
      "running for ADA for date 2021-12-06 00:00:00 to 2021-12-13 00:00:00\r"
     ]
    },
    {
     "data": {
      "application/vnd.jupyter.widget-view+json": {
       "model_id": "b89772d594e741659473463c6c713ea5",
       "version_major": 2,
       "version_minor": 0
      },
      "text/plain": [
       "Executing:   0%|          | 0/16 [00:00<?, ?cell/s]"
      ]
     },
     "metadata": {},
     "output_type": "display_data"
    },
    {
     "name": "stdout",
     "output_type": "stream",
     "text": [
      "running for DOT for date 2021-12-06 00:00:00 to 2021-12-13 00:00:00\r"
     ]
    },
    {
     "data": {
      "application/vnd.jupyter.widget-view+json": {
       "model_id": "d2f5c12128bc473eb007c1f62e12f09b",
       "version_major": 2,
       "version_minor": 0
      },
      "text/plain": [
       "Executing:   0%|          | 0/16 [00:00<?, ?cell/s]"
      ]
     },
     "metadata": {},
     "output_type": "display_data"
    },
    {
     "name": "stdout",
     "output_type": "stream",
     "text": [
      "running for AVAX for date 2021-12-06 00:00:00 to 2021-12-13 00:00:00\r"
     ]
    },
    {
     "data": {
      "application/vnd.jupyter.widget-view+json": {
       "model_id": "0f4372a117524bc3be81a8a58914d5f3",
       "version_major": 2,
       "version_minor": 0
      },
      "text/plain": [
       "Executing:   0%|          | 0/16 [00:00<?, ?cell/s]"
      ]
     },
     "metadata": {},
     "output_type": "display_data"
    },
    {
     "name": "stdout",
     "output_type": "stream",
     "text": [
      "running for ATOM for date 2021-12-06 00:00:00 to 2021-12-13 00:00:00\r"
     ]
    },
    {
     "data": {
      "application/vnd.jupyter.widget-view+json": {
       "model_id": "394ea25fa3e44e76b13dd19d93b6f8e6",
       "version_major": 2,
       "version_minor": 0
      },
      "text/plain": [
       "Executing:   0%|          | 0/16 [00:00<?, ?cell/s]"
      ]
     },
     "metadata": {},
     "output_type": "display_data"
    },
    {
     "name": "stdout",
     "output_type": "stream",
     "text": [
      "running for CRV for date 2021-12-06 00:00:00 to 2021-12-13 00:00:00\r"
     ]
    },
    {
     "data": {
      "application/vnd.jupyter.widget-view+json": {
       "model_id": "cc57db28324a44f18fdf1337663b51be",
       "version_major": 2,
       "version_minor": 0
      },
      "text/plain": [
       "Executing:   0%|          | 0/16 [00:00<?, ?cell/s]"
      ]
     },
     "metadata": {},
     "output_type": "display_data"
    },
    {
     "name": "stdout",
     "output_type": "stream",
     "text": [
      "running for AAVE for date 2021-12-06 00:00:00 to 2021-12-13 00:00:00\r"
     ]
    },
    {
     "data": {
      "application/vnd.jupyter.widget-view+json": {
       "model_id": "3ccdcf89d6e748a5ad8a93c9c7b49ad1",
       "version_major": 2,
       "version_minor": 0
      },
      "text/plain": [
       "Executing:   0%|          | 0/16 [00:00<?, ?cell/s]"
      ]
     },
     "metadata": {},
     "output_type": "display_data"
    },
    {
     "name": "stdout",
     "output_type": "stream",
     "text": [
      "running for COMP for date 2021-12-06 00:00:00 to 2021-12-13 00:00:00\r"
     ]
    },
    {
     "data": {
      "application/vnd.jupyter.widget-view+json": {
       "model_id": "33a4793a316e4528a30eecc83db0e0a8",
       "version_major": 2,
       "version_minor": 0
      },
      "text/plain": [
       "Executing:   0%|          | 0/16 [00:00<?, ?cell/s]"
      ]
     },
     "metadata": {},
     "output_type": "display_data"
    }
   ],
   "source": [
    "for run_date in run_dates:\n",
    "    run_date_str = str(run_date)[:10]\n",
    "    for token in tokens:\n",
    "        print(f'running for {token} for date {run_date} to {run_date + timedelta(days=7)}', end='\\r')\n",
    "        res = pm.execute_notebook(\n",
    "            'market_analysis_template.ipynb',\n",
    "            f'{base_output_folder}/market_analysis_{token}_{run_date_str}.ipynb',\n",
    "            parameters = {\n",
    "                'from_date': f'{run_date}',\n",
    "                'to_date': f'{run_date + timedelta(days=7)}',\n",
    "                'token': token,\n",
    "                'connection_string': connection_string,\n",
    "            }\n",
    "        )"
   ]
  },
  {
   "cell_type": "code",
   "execution_count": 9,
   "id": "45080541-f05d-4ecf-996d-98e626aaef22",
   "metadata": {},
   "outputs": [],
   "source": [
    "nb = sb.read_notebook('outputs/market_analysis_BTC_2021-11-29.ipynb')\n"
   ]
  },
  {
   "cell_type": "code",
   "execution_count": 12,
   "id": "13d0bc1b-105a-49ee-a085-03cf5d325157",
   "metadata": {},
   "outputs": [],
   "source": [
    "nbs = sb.read_notebooks('outputs')"
   ]
  },
  {
   "cell_type": "code",
   "execution_count": 15,
   "id": "f84ece84-afd3-4ef4-a8cb-5566285fe277",
   "metadata": {},
   "outputs": [
    {
     "data": {
      "text/html": [
       "<div>\n",
       "<style scoped>\n",
       "    .dataframe tbody tr th:only-of-type {\n",
       "        vertical-align: middle;\n",
       "    }\n",
       "\n",
       "    .dataframe tbody tr th {\n",
       "        vertical-align: top;\n",
       "    }\n",
       "\n",
       "    .dataframe thead th {\n",
       "        text-align: right;\n",
       "    }\n",
       "</style>\n",
       "<table border=\"1\" class=\"dataframe\">\n",
       "  <thead>\n",
       "    <tr style=\"text-align: right;\">\n",
       "      <th></th>\n",
       "      <th>token</th>\n",
       "      <th>from_date</th>\n",
       "      <th>to_date</th>\n",
       "      <th>avg return</th>\n",
       "      <th>avg volatility</th>\n",
       "      <th>maximum drawdown</th>\n",
       "      <th>range of last close - first close</th>\n",
       "    </tr>\n",
       "  </thead>\n",
       "  <tbody>\n",
       "    <tr>\n",
       "      <th>0</th>\n",
       "      <td>AAVE</td>\n",
       "      <td>2021-11-29 00:00:00</td>\n",
       "      <td>2021-12-06 00:00:00</td>\n",
       "      <td>-1.305232e-03</td>\n",
       "      <td>0.221054</td>\n",
       "      <td>-0.303471</td>\n",
       "      <td>-46.8080</td>\n",
       "    </tr>\n",
       "    <tr>\n",
       "      <th>1</th>\n",
       "      <td>AAVE</td>\n",
       "      <td>2021-12-06 00:00:00</td>\n",
       "      <td>2021-12-13 00:00:00</td>\n",
       "      <td>-3.755434e-04</td>\n",
       "      <td>0.200400</td>\n",
       "      <td>-0.181226</td>\n",
       "      <td>-11.6730</td>\n",
       "    </tr>\n",
       "    <tr>\n",
       "      <th>2</th>\n",
       "      <td>ADA</td>\n",
       "      <td>2021-11-29 00:00:00</td>\n",
       "      <td>2021-12-06 00:00:00</td>\n",
       "      <td>-9.344545e-04</td>\n",
       "      <td>0.226749</td>\n",
       "      <td>-0.250852</td>\n",
       "      <td>-0.2305</td>\n",
       "    </tr>\n",
       "    <tr>\n",
       "      <th>3</th>\n",
       "      <td>ADA</td>\n",
       "      <td>2021-12-06 00:00:00</td>\n",
       "      <td>2021-12-13 00:00:00</td>\n",
       "      <td>-1.302320e-04</td>\n",
       "      <td>0.203766</td>\n",
       "      <td>-0.183820</td>\n",
       "      <td>-0.0297</td>\n",
       "    </tr>\n",
       "    <tr>\n",
       "      <th>4</th>\n",
       "      <td>ATOM</td>\n",
       "      <td>2021-11-29 00:00:00</td>\n",
       "      <td>2021-12-06 00:00:00</td>\n",
       "      <td>-6.543502e-04</td>\n",
       "      <td>0.340796</td>\n",
       "      <td>-0.323731</td>\n",
       "      <td>-2.8370</td>\n",
       "    </tr>\n",
       "    <tr>\n",
       "      <th>5</th>\n",
       "      <td>ATOM</td>\n",
       "      <td>2021-12-06 00:00:00</td>\n",
       "      <td>2021-12-13 00:00:00</td>\n",
       "      <td>-9.716086e-07</td>\n",
       "      <td>0.254383</td>\n",
       "      <td>-0.145769</td>\n",
       "      <td>-0.0040</td>\n",
       "    </tr>\n",
       "    <tr>\n",
       "      <th>6</th>\n",
       "      <td>AVAX</td>\n",
       "      <td>2021-11-29 00:00:00</td>\n",
       "      <td>2021-12-06 00:00:00</td>\n",
       "      <td>-1.575971e-03</td>\n",
       "      <td>0.320661</td>\n",
       "      <td>-0.337174</td>\n",
       "      <td>-25.6000</td>\n",
       "    </tr>\n",
       "    <tr>\n",
       "      <th>7</th>\n",
       "      <td>AVAX</td>\n",
       "      <td>2021-12-06 00:00:00</td>\n",
       "      <td>2021-12-13 00:00:00</td>\n",
       "      <td>8.111556e-05</td>\n",
       "      <td>0.249173</td>\n",
       "      <td>-0.171316</td>\n",
       "      <td>1.1800</td>\n",
       "    </tr>\n",
       "    <tr>\n",
       "      <th>8</th>\n",
       "      <td>BTC</td>\n",
       "      <td>2021-11-29 00:00:00</td>\n",
       "      <td>2021-12-06 00:00:00</td>\n",
       "      <td>-8.976678e-04</td>\n",
       "      <td>0.175543</td>\n",
       "      <td>-0.213690</td>\n",
       "      <td>-7979.4100</td>\n",
       "    </tr>\n",
       "    <tr>\n",
       "      <th>9</th>\n",
       "      <td>BTC</td>\n",
       "      <td>2021-12-06 00:00:00</td>\n",
       "      <td>2021-12-13 00:00:00</td>\n",
       "      <td>9.997437e-05</td>\n",
       "      <td>0.134449</td>\n",
       "      <td>-0.092779</td>\n",
       "      <td>833.1100</td>\n",
       "    </tr>\n",
       "    <tr>\n",
       "      <th>10</th>\n",
       "      <td>COMP</td>\n",
       "      <td>2021-11-29 00:00:00</td>\n",
       "      <td>2021-12-06 00:00:00</td>\n",
       "      <td>-1.860340e-03</td>\n",
       "      <td>0.210428</td>\n",
       "      <td>-0.297067</td>\n",
       "      <td>-76.7900</td>\n",
       "    </tr>\n",
       "    <tr>\n",
       "      <th>11</th>\n",
       "      <td>COMP</td>\n",
       "      <td>2021-12-06 00:00:00</td>\n",
       "      <td>2021-12-13 00:00:00</td>\n",
       "      <td>-3.662909e-04</td>\n",
       "      <td>0.234462</td>\n",
       "      <td>-0.207000</td>\n",
       "      <td>-12.5700</td>\n",
       "    </tr>\n",
       "    <tr>\n",
       "      <th>12</th>\n",
       "      <td>CRV</td>\n",
       "      <td>2021-11-29 00:00:00</td>\n",
       "      <td>2021-12-06 00:00:00</td>\n",
       "      <td>-1.956485e-03</td>\n",
       "      <td>0.358515</td>\n",
       "      <td>-0.382518</td>\n",
       "      <td>-1.3619</td>\n",
       "    </tr>\n",
       "    <tr>\n",
       "      <th>13</th>\n",
       "      <td>CRV</td>\n",
       "      <td>2021-12-06 00:00:00</td>\n",
       "      <td>2021-12-13 00:00:00</td>\n",
       "      <td>3.604268e-04</td>\n",
       "      <td>0.289645</td>\n",
       "      <td>-0.218458</td>\n",
       "      <td>0.2249</td>\n",
       "    </tr>\n",
       "    <tr>\n",
       "      <th>14</th>\n",
       "      <td>DOT</td>\n",
       "      <td>2021-11-29 00:00:00</td>\n",
       "      <td>2021-12-06 00:00:00</td>\n",
       "      <td>-1.422355e-03</td>\n",
       "      <td>0.251500</td>\n",
       "      <td>-0.317614</td>\n",
       "      <td>-7.5660</td>\n",
       "    </tr>\n",
       "    <tr>\n",
       "      <th>15</th>\n",
       "      <td>DOT</td>\n",
       "      <td>2021-12-06 00:00:00</td>\n",
       "      <td>2021-12-13 00:00:00</td>\n",
       "      <td>2.898146e-04</td>\n",
       "      <td>0.235252</td>\n",
       "      <td>-0.171875</td>\n",
       "      <td>1.4070</td>\n",
       "    </tr>\n",
       "    <tr>\n",
       "      <th>16</th>\n",
       "      <td>ETH</td>\n",
       "      <td>2021-11-29 00:00:00</td>\n",
       "      <td>2021-12-06 00:00:00</td>\n",
       "      <td>-1.845000e-04</td>\n",
       "      <td>0.187724</td>\n",
       "      <td>-0.190120</td>\n",
       "      <td>-130.4200</td>\n",
       "    </tr>\n",
       "    <tr>\n",
       "      <th>17</th>\n",
       "      <td>ETH</td>\n",
       "      <td>2021-12-06 00:00:00</td>\n",
       "      <td>2021-12-13 00:00:00</td>\n",
       "      <td>-6.668638e-05</td>\n",
       "      <td>0.160916</td>\n",
       "      <td>-0.131340</td>\n",
       "      <td>-46.5500</td>\n",
       "    </tr>\n",
       "    <tr>\n",
       "      <th>18</th>\n",
       "      <td>SOL</td>\n",
       "      <td>2021-11-29 00:00:00</td>\n",
       "      <td>2021-12-06 00:00:00</td>\n",
       "      <td>-3.106808e-04</td>\n",
       "      <td>0.280443</td>\n",
       "      <td>-0.238102</td>\n",
       "      <td>-10.1580</td>\n",
       "    </tr>\n",
       "    <tr>\n",
       "      <th>19</th>\n",
       "      <td>SOL</td>\n",
       "      <td>2021-12-06 00:00:00</td>\n",
       "      <td>2021-12-13 00:00:00</td>\n",
       "      <td>-7.263160e-04</td>\n",
       "      <td>0.199686</td>\n",
       "      <td>-0.190948</td>\n",
       "      <td>-22.4670</td>\n",
       "    </tr>\n",
       "    <tr>\n",
       "      <th>20</th>\n",
       "      <td>USDT</td>\n",
       "      <td>2021-11-29 00:00:00</td>\n",
       "      <td>2021-12-06 00:00:00</td>\n",
       "      <td>3.589225e-06</td>\n",
       "      <td>0.019367</td>\n",
       "      <td>-0.023317</td>\n",
       "      <td>0.0006</td>\n",
       "    </tr>\n",
       "    <tr>\n",
       "      <th>21</th>\n",
       "      <td>USDT</td>\n",
       "      <td>2021-12-06 00:00:00</td>\n",
       "      <td>2021-12-13 00:00:00</td>\n",
       "      <td>-3.589584e-06</td>\n",
       "      <td>0.003089</td>\n",
       "      <td>-0.001098</td>\n",
       "      <td>-0.0006</td>\n",
       "    </tr>\n",
       "  </tbody>\n",
       "</table>\n",
       "</div>"
      ],
      "text/plain": [
       "   token            from_date              to_date    avg return  \\\n",
       "0   AAVE  2021-11-29 00:00:00  2021-12-06 00:00:00 -1.305232e-03   \n",
       "1   AAVE  2021-12-06 00:00:00  2021-12-13 00:00:00 -3.755434e-04   \n",
       "2    ADA  2021-11-29 00:00:00  2021-12-06 00:00:00 -9.344545e-04   \n",
       "3    ADA  2021-12-06 00:00:00  2021-12-13 00:00:00 -1.302320e-04   \n",
       "4   ATOM  2021-11-29 00:00:00  2021-12-06 00:00:00 -6.543502e-04   \n",
       "5   ATOM  2021-12-06 00:00:00  2021-12-13 00:00:00 -9.716086e-07   \n",
       "6   AVAX  2021-11-29 00:00:00  2021-12-06 00:00:00 -1.575971e-03   \n",
       "7   AVAX  2021-12-06 00:00:00  2021-12-13 00:00:00  8.111556e-05   \n",
       "8    BTC  2021-11-29 00:00:00  2021-12-06 00:00:00 -8.976678e-04   \n",
       "9    BTC  2021-12-06 00:00:00  2021-12-13 00:00:00  9.997437e-05   \n",
       "10  COMP  2021-11-29 00:00:00  2021-12-06 00:00:00 -1.860340e-03   \n",
       "11  COMP  2021-12-06 00:00:00  2021-12-13 00:00:00 -3.662909e-04   \n",
       "12   CRV  2021-11-29 00:00:00  2021-12-06 00:00:00 -1.956485e-03   \n",
       "13   CRV  2021-12-06 00:00:00  2021-12-13 00:00:00  3.604268e-04   \n",
       "14   DOT  2021-11-29 00:00:00  2021-12-06 00:00:00 -1.422355e-03   \n",
       "15   DOT  2021-12-06 00:00:00  2021-12-13 00:00:00  2.898146e-04   \n",
       "16   ETH  2021-11-29 00:00:00  2021-12-06 00:00:00 -1.845000e-04   \n",
       "17   ETH  2021-12-06 00:00:00  2021-12-13 00:00:00 -6.668638e-05   \n",
       "18   SOL  2021-11-29 00:00:00  2021-12-06 00:00:00 -3.106808e-04   \n",
       "19   SOL  2021-12-06 00:00:00  2021-12-13 00:00:00 -7.263160e-04   \n",
       "20  USDT  2021-11-29 00:00:00  2021-12-06 00:00:00  3.589225e-06   \n",
       "21  USDT  2021-12-06 00:00:00  2021-12-13 00:00:00 -3.589584e-06   \n",
       "\n",
       "    avg volatility  maximum drawdown  range of last close - first close  \n",
       "0         0.221054         -0.303471                           -46.8080  \n",
       "1         0.200400         -0.181226                           -11.6730  \n",
       "2         0.226749         -0.250852                            -0.2305  \n",
       "3         0.203766         -0.183820                            -0.0297  \n",
       "4         0.340796         -0.323731                            -2.8370  \n",
       "5         0.254383         -0.145769                            -0.0040  \n",
       "6         0.320661         -0.337174                           -25.6000  \n",
       "7         0.249173         -0.171316                             1.1800  \n",
       "8         0.175543         -0.213690                         -7979.4100  \n",
       "9         0.134449         -0.092779                           833.1100  \n",
       "10        0.210428         -0.297067                           -76.7900  \n",
       "11        0.234462         -0.207000                           -12.5700  \n",
       "12        0.358515         -0.382518                            -1.3619  \n",
       "13        0.289645         -0.218458                             0.2249  \n",
       "14        0.251500         -0.317614                            -7.5660  \n",
       "15        0.235252         -0.171875                             1.4070  \n",
       "16        0.187724         -0.190120                          -130.4200  \n",
       "17        0.160916         -0.131340                           -46.5500  \n",
       "18        0.280443         -0.238102                           -10.1580  \n",
       "19        0.199686         -0.190948                           -22.4670  \n",
       "20        0.019367         -0.023317                             0.0006  \n",
       "21        0.003089         -0.001098                            -0.0006  "
      ]
     },
     "execution_count": 15,
     "metadata": {},
     "output_type": "execute_result"
    }
   ],
   "source": [
    "pd.DataFrame([\n",
    "    pd.Series({\n",
    "        'token': scrap['token'].data,\n",
    "        'from_date': scrap['from_date'].data,\n",
    "        'to_date': scrap['to_date'].data,\n",
    "        'avg return': scrap['prices'].data['return'].mean(),\n",
    "        'avg volatility': scrap['prices'].data['volatility'].mean(),\n",
    "        'maximum drawdown': scrap['prices'].data['maxdrawdown'].min(), \n",
    "        'range of last close - first close': scrap['prices'].data['close'].values[-1] - scrap['prices'].data['close'].values[0],\n",
    "               }) \n",
    "    for book, scrap in nbs.notebook_scraps.items()\n",
    "])"
   ]
  },
  {
   "cell_type": "code",
   "execution_count": null,
   "id": "c4836ca5-526b-434a-9954-b5fb0d43d53d",
   "metadata": {},
   "outputs": [],
   "source": []
  }
 ],
 "metadata": {
  "kernelspec": {
   "display_name": "Python 3 (ipykernel)",
   "language": "python",
   "name": "python3"
  },
  "language_info": {
   "codemirror_mode": {
    "name": "ipython",
    "version": 3
   },
   "file_extension": ".py",
   "mimetype": "text/x-python",
   "name": "python",
   "nbconvert_exporter": "python",
   "pygments_lexer": "ipython3",
   "version": "3.8.12"
  }
 },
 "nbformat": 4,
 "nbformat_minor": 5
}
