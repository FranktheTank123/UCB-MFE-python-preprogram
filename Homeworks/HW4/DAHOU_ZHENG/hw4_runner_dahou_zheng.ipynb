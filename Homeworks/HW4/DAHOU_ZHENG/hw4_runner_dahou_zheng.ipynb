{
 "cells": [
  {
   "cell_type": "code",
   "execution_count": 1,
   "id": "76a879d3-b3e0-4d1e-8dbf-37cca7abb34c",
   "metadata": {},
   "outputs": [
    {
     "name": "stderr",
     "output_type": "stream",
     "text": [
      "C:\\DAHOU\\AuxiliaryProgram\\VirtualEnvironment\\envs\\mfe-preprogram\\lib\\site-packages\\papermill\\iorw.py:50: FutureWarning: pyarrow.HadoopFileSystem is deprecated as of 2.0.0, please use pyarrow.fs.HadoopFileSystem instead.\n",
      "  from pyarrow import HadoopFileSystem\n"
     ]
    }
   ],
   "source": [
    "import papermill as pm\n",
    "import scrapbook as sb\n",
    "import pandas as pd\n",
    "from datetime import datetime, timedelta\n",
    "import os"
   ]
  },
  {
   "cell_type": "markdown",
   "id": "f1ef573a-f4ee-46e4-a0b4-96f839402262",
   "metadata": {},
   "source": [
    "By pulling the whole dataframe from the data.db as \"df\", I see the names of all tokens and the last available hourly data."
   ]
  },
  {
   "cell_type": "code",
   "execution_count": 2,
   "id": "64bf9ed6-32a3-49f8-a77f-b04f7874738a",
   "metadata": {},
   "outputs": [
    {
     "data": {
      "text/plain": [
       "array(['BTC', 'ETH', 'USDT', 'SOL', 'ADA', 'DOT', 'AVAX', 'ATOM', 'CRV',\n",
       "       'AAVE', 'COMP'], dtype=object)"
      ]
     },
     "execution_count": 2,
     "metadata": {},
     "output_type": "execute_result"
    }
   ],
   "source": [
    "table = pd.read_sql(f'''\n",
    "SELECT \n",
    "    * \n",
    "FROM ohlc \n",
    "''', 'sqlite:///data.db')\n",
    "table.token.unique()"
   ]
  },
  {
   "cell_type": "code",
   "execution_count": 3,
   "id": "50d589bc-29f0-4e40-bb96-12985b38c286",
   "metadata": {},
   "outputs": [
    {
     "data": {
      "text/plain": [
       "0        2021-11-01 00:00:00\n",
       "1057     2021-11-01 00:00:00\n",
       "10570    2021-11-01 00:00:00\n",
       "3171     2021-11-01 00:00:00\n",
       "8456     2021-11-01 00:00:00\n",
       "                ...         \n",
       "1056     2021-12-15 00:00:00\n",
       "2113     2021-12-15 00:00:00\n",
       "9512     2021-12-15 00:00:00\n",
       "10569    2021-12-15 00:00:00\n",
       "11626    2021-12-15 00:00:00\n",
       "Name: ts, Length: 11627, dtype: object"
      ]
     },
     "execution_count": 3,
     "metadata": {},
     "output_type": "execute_result"
    }
   ],
   "source": [
    "table.ts.sort_values()"
   ]
  },
  {
   "cell_type": "code",
   "execution_count": 4,
   "id": "7d9fb4a1-89d5-4b01-82b6-00b34375b2bf",
   "metadata": {},
   "outputs": [],
   "source": [
    "from_date = '2021-12-02'\n",
    "to_date = '2021-12-15'\n",
    "tokens = ['BTC', 'ETH', 'USDT', 'SOL', 'ADA', 'DOT', 'AVAX', 'ATOM', 'CRV', 'AAVE', 'COMP']\n",
    "connection_string = 'sqlite:///data.db'"
   ]
  },
  {
   "cell_type": "code",
   "execution_count": 5,
   "id": "16bda06a-807a-4345-9e5f-e2399345bfb4",
   "metadata": {},
   "outputs": [],
   "source": [
    "base_output_folder = os.path.expanduser('outputs')\n",
    "\n",
    "if not os.path.exists(base_output_folder):\n",
    "        os.makedirs(base_output_folder)"
   ]
  },
  {
   "cell_type": "code",
   "execution_count": 6,
   "id": "fcd34f81-0db4-4081-aadd-81c7cd0272ca",
   "metadata": {},
   "outputs": [
    {
     "name": "stdout",
     "output_type": "stream",
     "text": [
      "running for BTC for date 2021-12-02 to 2021-12-15\r"
     ]
    },
    {
     "data": {
      "application/vnd.jupyter.widget-view+json": {
       "model_id": "6001b68acb614c1ca0fbeaa4f4d1bed1",
       "version_major": 2,
       "version_minor": 0
      },
      "text/plain": [
       "Executing:   0%|          | 0/16 [00:00<?, ?cell/s]"
      ]
     },
     "metadata": {},
     "output_type": "display_data"
    },
    {
     "name": "stdout",
     "output_type": "stream",
     "text": [
      "running for ETH for date 2021-12-02 to 2021-12-15\r"
     ]
    },
    {
     "data": {
      "application/vnd.jupyter.widget-view+json": {
       "model_id": "b2bc832fac8e4d63b3c8f7720e573639",
       "version_major": 2,
       "version_minor": 0
      },
      "text/plain": [
       "Executing:   0%|          | 0/16 [00:00<?, ?cell/s]"
      ]
     },
     "metadata": {},
     "output_type": "display_data"
    },
    {
     "name": "stdout",
     "output_type": "stream",
     "text": [
      "running for USDT for date 2021-12-02 to 2021-12-15\r"
     ]
    },
    {
     "data": {
      "application/vnd.jupyter.widget-view+json": {
       "model_id": "b78ca1aced2d489e8d2d361eb5effe1b",
       "version_major": 2,
       "version_minor": 0
      },
      "text/plain": [
       "Executing:   0%|          | 0/16 [00:00<?, ?cell/s]"
      ]
     },
     "metadata": {},
     "output_type": "display_data"
    },
    {
     "name": "stdout",
     "output_type": "stream",
     "text": [
      "running for SOL for date 2021-12-02 to 2021-12-15\r"
     ]
    },
    {
     "data": {
      "application/vnd.jupyter.widget-view+json": {
       "model_id": "5a68415ab2cb4bfbaf27840c8d534732",
       "version_major": 2,
       "version_minor": 0
      },
      "text/plain": [
       "Executing:   0%|          | 0/16 [00:00<?, ?cell/s]"
      ]
     },
     "metadata": {},
     "output_type": "display_data"
    },
    {
     "name": "stdout",
     "output_type": "stream",
     "text": [
      "running for ADA for date 2021-12-02 to 2021-12-15\r"
     ]
    },
    {
     "data": {
      "application/vnd.jupyter.widget-view+json": {
       "model_id": "e2ecc8fd111c4abe9280c463ecea9cbe",
       "version_major": 2,
       "version_minor": 0
      },
      "text/plain": [
       "Executing:   0%|          | 0/16 [00:00<?, ?cell/s]"
      ]
     },
     "metadata": {},
     "output_type": "display_data"
    },
    {
     "name": "stdout",
     "output_type": "stream",
     "text": [
      "running for DOT for date 2021-12-02 to 2021-12-15\r"
     ]
    },
    {
     "data": {
      "application/vnd.jupyter.widget-view+json": {
       "model_id": "94a0442e004846828ace79c083a32b09",
       "version_major": 2,
       "version_minor": 0
      },
      "text/plain": [
       "Executing:   0%|          | 0/16 [00:00<?, ?cell/s]"
      ]
     },
     "metadata": {},
     "output_type": "display_data"
    },
    {
     "name": "stdout",
     "output_type": "stream",
     "text": [
      "running for AVAX for date 2021-12-02 to 2021-12-15\r"
     ]
    },
    {
     "data": {
      "application/vnd.jupyter.widget-view+json": {
       "model_id": "66f857ea0f964b88abaaacaead9bdbbf",
       "version_major": 2,
       "version_minor": 0
      },
      "text/plain": [
       "Executing:   0%|          | 0/16 [00:00<?, ?cell/s]"
      ]
     },
     "metadata": {},
     "output_type": "display_data"
    },
    {
     "name": "stdout",
     "output_type": "stream",
     "text": [
      "running for ATOM for date 2021-12-02 to 2021-12-15\r"
     ]
    },
    {
     "data": {
      "application/vnd.jupyter.widget-view+json": {
       "model_id": "3eae8db6dcf64eadb9b0a935f2876705",
       "version_major": 2,
       "version_minor": 0
      },
      "text/plain": [
       "Executing:   0%|          | 0/16 [00:00<?, ?cell/s]"
      ]
     },
     "metadata": {},
     "output_type": "display_data"
    },
    {
     "name": "stdout",
     "output_type": "stream",
     "text": [
      "running for CRV for date 2021-12-02 to 2021-12-15\r"
     ]
    },
    {
     "data": {
      "application/vnd.jupyter.widget-view+json": {
       "model_id": "a2ea77efda1248f8b15a7111b26a4194",
       "version_major": 2,
       "version_minor": 0
      },
      "text/plain": [
       "Executing:   0%|          | 0/16 [00:00<?, ?cell/s]"
      ]
     },
     "metadata": {},
     "output_type": "display_data"
    },
    {
     "name": "stdout",
     "output_type": "stream",
     "text": [
      "running for AAVE for date 2021-12-02 to 2021-12-15\r"
     ]
    },
    {
     "data": {
      "application/vnd.jupyter.widget-view+json": {
       "model_id": "8af337adf5b34a1c9442783b022a99b5",
       "version_major": 2,
       "version_minor": 0
      },
      "text/plain": [
       "Executing:   0%|          | 0/16 [00:00<?, ?cell/s]"
      ]
     },
     "metadata": {},
     "output_type": "display_data"
    },
    {
     "name": "stdout",
     "output_type": "stream",
     "text": [
      "running for COMP for date 2021-12-02 to 2021-12-15\r"
     ]
    },
    {
     "data": {
      "application/vnd.jupyter.widget-view+json": {
       "model_id": "ee5e3ab888224d82996e6f63bd1cae26",
       "version_major": 2,
       "version_minor": 0
      },
      "text/plain": [
       "Executing:   0%|          | 0/16 [00:00<?, ?cell/s]"
      ]
     },
     "metadata": {},
     "output_type": "display_data"
    }
   ],
   "source": [
    "for token in tokens:\n",
    "    print(f'running for {token} for date 2021-12-02 to 2021-12-15', end='\\r')\n",
    "    res = pm.execute_notebook(\n",
    "        'hw4_template_dahou_zheng.ipynb',\n",
    "        f'{base_output_folder}/hw4_{token}.ipynb',\n",
    "        parameters = {\n",
    "            'from_date': from_date,\n",
    "            'to_date': to_date,\n",
    "            'token': token,\n",
    "            'connection_string': connection_string\n",
    "        }\n",
    "    )"
   ]
  },
  {
   "cell_type": "code",
   "execution_count": 7,
   "id": "bcce61ce-3d5c-4dc9-a3e2-f65fd8a19436",
   "metadata": {},
   "outputs": [],
   "source": [
    "nbs = sb.read_notebooks('outputs')"
   ]
  },
  {
   "cell_type": "code",
   "execution_count": 8,
   "id": "839c50b2-b854-4f1b-aa57-7cf8c8101ff1",
   "metadata": {},
   "outputs": [
    {
     "data": {
      "text/html": [
       "<div>\n",
       "<style scoped>\n",
       "    .dataframe tbody tr th:only-of-type {\n",
       "        vertical-align: middle;\n",
       "    }\n",
       "\n",
       "    .dataframe tbody tr th {\n",
       "        vertical-align: top;\n",
       "    }\n",
       "\n",
       "    .dataframe thead th {\n",
       "        text-align: right;\n",
       "    }\n",
       "</style>\n",
       "<table border=\"1\" class=\"dataframe\">\n",
       "  <thead>\n",
       "    <tr style=\"text-align: right;\">\n",
       "      <th></th>\n",
       "      <th>token</th>\n",
       "      <th>from_date</th>\n",
       "      <th>to_date</th>\n",
       "      <th>avg_return</th>\n",
       "      <th>avg_volatility</th>\n",
       "      <th>max_drawdown</th>\n",
       "      <th>diff</th>\n",
       "    </tr>\n",
       "  </thead>\n",
       "  <tbody>\n",
       "    <tr>\n",
       "      <th>0</th>\n",
       "      <td>AAVE</td>\n",
       "      <td>2021-12-02</td>\n",
       "      <td>2021-12-15</td>\n",
       "      <td>0.001306</td>\n",
       "      <td>0.221811</td>\n",
       "      <td>-0.375191</td>\n",
       "      <td>-80.2960</td>\n",
       "    </tr>\n",
       "    <tr>\n",
       "      <th>1</th>\n",
       "      <td>ADA</td>\n",
       "      <td>2021-12-02</td>\n",
       "      <td>2021-12-15</td>\n",
       "      <td>0.000632</td>\n",
       "      <td>0.231316</td>\n",
       "      <td>-0.322694</td>\n",
       "      <td>-0.2848</td>\n",
       "    </tr>\n",
       "    <tr>\n",
       "      <th>2</th>\n",
       "      <td>ATOM</td>\n",
       "      <td>2021-12-02</td>\n",
       "      <td>2021-12-15</td>\n",
       "      <td>0.000641</td>\n",
       "      <td>0.314373</td>\n",
       "      <td>-0.416928</td>\n",
       "      <td>-4.6960</td>\n",
       "    </tr>\n",
       "    <tr>\n",
       "      <th>3</th>\n",
       "      <td>AVAX</td>\n",
       "      <td>2021-12-02</td>\n",
       "      <td>2021-12-15</td>\n",
       "      <td>0.001029</td>\n",
       "      <td>0.287555</td>\n",
       "      <td>-0.369172</td>\n",
       "      <td>-31.4000</td>\n",
       "    </tr>\n",
       "    <tr>\n",
       "      <th>4</th>\n",
       "      <td>BTC</td>\n",
       "      <td>2021-12-02</td>\n",
       "      <td>2021-12-15</td>\n",
       "      <td>0.000545</td>\n",
       "      <td>0.160498</td>\n",
       "      <td>-0.265953</td>\n",
       "      <td>-8775.0500</td>\n",
       "    </tr>\n",
       "    <tr>\n",
       "      <th>5</th>\n",
       "      <td>COMP</td>\n",
       "      <td>2021-12-02</td>\n",
       "      <td>2021-12-15</td>\n",
       "      <td>0.001218</td>\n",
       "      <td>0.241840</td>\n",
       "      <td>-0.364760</td>\n",
       "      <td>-84.8800</td>\n",
       "    </tr>\n",
       "    <tr>\n",
       "      <th>6</th>\n",
       "      <td>CRV</td>\n",
       "      <td>2021-12-02</td>\n",
       "      <td>2021-12-15</td>\n",
       "      <td>0.001247</td>\n",
       "      <td>0.328123</td>\n",
       "      <td>-0.386037</td>\n",
       "      <td>-1.5048</td>\n",
       "    </tr>\n",
       "    <tr>\n",
       "      <th>7</th>\n",
       "      <td>DOT</td>\n",
       "      <td>2021-12-02</td>\n",
       "      <td>2021-12-15</td>\n",
       "      <td>0.001051</td>\n",
       "      <td>0.256012</td>\n",
       "      <td>-0.325706</td>\n",
       "      <td>-10.4060</td>\n",
       "    </tr>\n",
       "    <tr>\n",
       "      <th>8</th>\n",
       "      <td>ETH</td>\n",
       "      <td>2021-12-02</td>\n",
       "      <td>2021-12-15</td>\n",
       "      <td>0.000553</td>\n",
       "      <td>0.179668</td>\n",
       "      <td>-0.233285</td>\n",
       "      <td>-741.1900</td>\n",
       "    </tr>\n",
       "    <tr>\n",
       "      <th>9</th>\n",
       "      <td>SOL</td>\n",
       "      <td>2021-12-02</td>\n",
       "      <td>2021-12-15</td>\n",
       "      <td>0.001133</td>\n",
       "      <td>0.249259</td>\n",
       "      <td>-0.392234</td>\n",
       "      <td>-69.9980</td>\n",
       "    </tr>\n",
       "    <tr>\n",
       "      <th>10</th>\n",
       "      <td>USDT</td>\n",
       "      <td>2021-12-02</td>\n",
       "      <td>2021-12-15</td>\n",
       "      <td>-0.000006</td>\n",
       "      <td>0.010750</td>\n",
       "      <td>-0.024390</td>\n",
       "      <td>-0.0002</td>\n",
       "    </tr>\n",
       "  </tbody>\n",
       "</table>\n",
       "</div>"
      ],
      "text/plain": [
       "   token   from_date     to_date  avg_return  avg_volatility  max_drawdown  \\\n",
       "0   AAVE  2021-12-02  2021-12-15    0.001306        0.221811     -0.375191   \n",
       "1    ADA  2021-12-02  2021-12-15    0.000632        0.231316     -0.322694   \n",
       "2   ATOM  2021-12-02  2021-12-15    0.000641        0.314373     -0.416928   \n",
       "3   AVAX  2021-12-02  2021-12-15    0.001029        0.287555     -0.369172   \n",
       "4    BTC  2021-12-02  2021-12-15    0.000545        0.160498     -0.265953   \n",
       "5   COMP  2021-12-02  2021-12-15    0.001218        0.241840     -0.364760   \n",
       "6    CRV  2021-12-02  2021-12-15    0.001247        0.328123     -0.386037   \n",
       "7    DOT  2021-12-02  2021-12-15    0.001051        0.256012     -0.325706   \n",
       "8    ETH  2021-12-02  2021-12-15    0.000553        0.179668     -0.233285   \n",
       "9    SOL  2021-12-02  2021-12-15    0.001133        0.249259     -0.392234   \n",
       "10  USDT  2021-12-02  2021-12-15   -0.000006        0.010750     -0.024390   \n",
       "\n",
       "         diff  \n",
       "0    -80.2960  \n",
       "1     -0.2848  \n",
       "2     -4.6960  \n",
       "3    -31.4000  \n",
       "4  -8775.0500  \n",
       "5    -84.8800  \n",
       "6     -1.5048  \n",
       "7    -10.4060  \n",
       "8   -741.1900  \n",
       "9    -69.9980  \n",
       "10    -0.0002  "
      ]
     },
     "execution_count": 8,
     "metadata": {},
     "output_type": "execute_result"
    }
   ],
   "source": [
    "pd.DataFrame([\n",
    "    pd.Series({\n",
    "        'token': scrap['token'].data,\n",
    "        'from_date': scrap['from_date'].data,\n",
    "        'to_date': scrap['to_date'].data,\n",
    "        'avg_return': scrap['prices'].data['return'].mean(),\n",
    "        'avg_volatility': scrap['prices'].data.vol.mean(),\n",
    "        'max_drawdown': scrap['prices'].data.maxDrawdown[-1],\n",
    "        'diff': scrap['prices'].data.close[-1] - scrap['prices'].data.close[1]\n",
    "    }) \n",
    "    for book, scrap in nbs.notebook_scraps.items()\n",
    "])"
   ]
  }
 ],
 "metadata": {
  "kernelspec": {
   "display_name": "Python 3 (ipykernel)",
   "language": "python",
   "name": "python3"
  },
  "language_info": {
   "codemirror_mode": {
    "name": "ipython",
    "version": 3
   },
   "file_extension": ".py",
   "mimetype": "text/x-python",
   "name": "python",
   "nbconvert_exporter": "python",
   "pygments_lexer": "ipython3",
   "version": "3.8.12"
  }
 },
 "nbformat": 4,
 "nbformat_minor": 5
}
