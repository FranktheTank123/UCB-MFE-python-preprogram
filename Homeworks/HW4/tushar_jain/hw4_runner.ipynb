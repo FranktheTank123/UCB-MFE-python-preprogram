{
 "cells": [
  {
   "cell_type": "markdown",
   "id": "bf8b316c",
   "metadata": {
    "collapsed": false
   },
   "source": [
    "# HW4 - Runner"
   ]
  },
  {
   "cell_type": "markdown",
   "id": "ac377732",
   "metadata": {
    "collapsed": false
   },
   "source": [
    "## Importing Modules and parameters setup"
   ]
  },
  {
   "cell_type": "code",
   "execution_count": 1,
   "id": "9551441c",
   "metadata": {
    "collapsed": false
   },
   "outputs": [
    {
     "name": "stderr",
     "output_type": "stream",
     "text": [
      "/Users/tusharjain/opt/miniconda/envs/hw4/lib/python3.9/site-packages/papermill/iorw.py:50: FutureWarning: pyarrow.HadoopFileSystem is deprecated as of 2.0.0, please use pyarrow.fs.HadoopFileSystem instead.\n",
      "  from pyarrow import HadoopFileSystem\n"
     ]
    }
   ],
   "source": [
    "import papermill as pm\n",
    "import scrapbook as sb\n",
    "import pandas as pd\n",
    "import datetime as dt\n",
    "import sqlite3\n",
    "import shutil\n",
    "import os\n",
    "\n",
    "import matplotlib.pyplot as plt"
   ]
  },
  {
   "cell_type": "code",
   "execution_count": 2,
   "id": "571dd330",
   "metadata": {
    "collapsed": false
   },
   "outputs": [],
   "source": [
    "plt.style.use('ggplot')\n",
    "plt.tight_layout()\n",
    "plt.rcParams['figure.figsize'] = [20, 20]\n",
    "\n",
    "%matplotlib inline"
   ]
  },
  {
   "cell_type": "code",
   "execution_count": 3,
   "id": "0f6d7258",
   "metadata": {
    "collapsed": false
   },
   "outputs": [],
   "source": [
    "db_path = os.path.abspath(\"../../../Lectures/Lecture 4/data/data.db\")\n",
    "template = 'hw4_template.ipynb'"
   ]
  },
  {
   "cell_type": "markdown",
   "id": "813401a7",
   "metadata": {
    "collapsed": false
   },
   "source": [
    "## Setting up the output directory"
   ]
  },
  {
   "cell_type": "code",
   "execution_count": 4,
   "id": "b41a3fa2",
   "metadata": {
    "collapsed": false
   },
   "outputs": [],
   "source": [
    "base_output_folder = os.path.expanduser('outputs')\n",
    "\n",
    "if os.path.exists(base_output_folder):\n",
    "    shutil.rmtree(base_output_folder)"
   ]
  },
  {
   "cell_type": "code",
   "execution_count": 5,
   "id": "b09224c4",
   "metadata": {
    "collapsed": false
   },
   "outputs": [],
   "source": [
    "os.makedirs(base_output_folder)"
   ]
  },
  {
   "cell_type": "markdown",
   "id": "de195cf8",
   "metadata": {
    "collapsed": false
   },
   "source": [
    "## Initializing Parameters"
   ]
  },
  {
   "cell_type": "code",
   "execution_count": 6,
   "id": "3f928fa8",
   "metadata": {
    "collapsed": false
   },
   "outputs": [],
   "source": [
    "with sqlite3.connect(db_path) as conn:\n",
    "    data = pd.read_sql(f'''\n",
    "    WITH CTE_1 AS(\n",
    "        SELECT MAX(ts) AS ts\n",
    "        FROM ohlc\n",
    "    ),\n",
    "    CTE_2 AS (\n",
    "        SELECT DISTINCT token AS token\n",
    "        FROM ohlc\n",
    "    )\n",
    "    SELECT *\n",
    "    FROM CTE_1\n",
    "    CROSS JOIN CTE_2;\n",
    "    ''', conn)"
   ]
  },
  {
   "cell_type": "code",
   "execution_count": 7,
   "id": "cbdb1b54",
   "metadata": {
    "collapsed": false
   },
   "outputs": [],
   "source": [
    "data['ts'] = pd.to_datetime(data['ts']) - dt.timedelta(weeks=2)\n",
    "data['ts'] = data['ts'].apply(lambda x: x - dt.timedelta(days=x.weekday()))\n",
    "data['ts'] = data['ts'].dt.strftime('%Y-%m-%d')"
   ]
  },
  {
   "cell_type": "code",
   "execution_count": 8,
   "id": "10109464",
   "metadata": {
    "collapsed": false
   },
   "outputs": [
    {
     "data": {
      "text/plain": [
       "0      (BTC, 2021-11-29)\n",
       "1      (ETH, 2021-11-29)\n",
       "2     (USDT, 2021-11-29)\n",
       "3      (SOL, 2021-11-29)\n",
       "4      (ADA, 2021-11-29)\n",
       "5      (DOT, 2021-11-29)\n",
       "6     (AVAX, 2021-11-29)\n",
       "7     (ATOM, 2021-11-29)\n",
       "8      (CRV, 2021-11-29)\n",
       "9     (AAVE, 2021-11-29)\n",
       "10    (COMP, 2021-11-29)\n",
       "dtype: object"
      ]
     },
     "execution_count": 8,
     "metadata": {},
     "output_type": "execute_result"
    }
   ],
   "source": [
    "data.apply(lambda x: (x.token, x.ts), axis=1)"
   ]
  },
  {
   "cell_type": "markdown",
   "id": "60512cb6",
   "metadata": {
    "collapsed": false
   },
   "source": [
    "## Executing Notebooks"
   ]
  },
  {
   "cell_type": "code",
   "execution_count": 9,
   "id": "67be8d36",
   "metadata": {
    "collapsed": false
   },
   "outputs": [
    {
     "data": {
      "text/plain": [
       "0     {'cells': [{'cell_type': 'markdown', 'id': 'b9...\n",
       "1     {'cells': [{'cell_type': 'markdown', 'id': 'b9...\n",
       "2     {'cells': [{'cell_type': 'markdown', 'id': 'b9...\n",
       "3     {'cells': [{'cell_type': 'markdown', 'id': 'b9...\n",
       "4     {'cells': [{'cell_type': 'markdown', 'id': 'b9...\n",
       "5     {'cells': [{'cell_type': 'markdown', 'id': 'b9...\n",
       "6     {'cells': [{'cell_type': 'markdown', 'id': 'b9...\n",
       "7     {'cells': [{'cell_type': 'markdown', 'id': 'b9...\n",
       "8     {'cells': [{'cell_type': 'markdown', 'id': 'b9...\n",
       "9     {'cells': [{'cell_type': 'markdown', 'id': 'b9...\n",
       "10    {'cells': [{'cell_type': 'markdown', 'id': 'b9...\n",
       "dtype: object"
      ]
     },
     "execution_count": 9,
     "metadata": {},
     "output_type": "execute_result"
    }
   ],
   "source": [
    "data.apply(lambda x: pm.execute_notebook(\n",
    "    template,\n",
    "    output_path=os.path.join(base_output_folder, f'hw_4_tushar_jain_{x.token}.ipynb'),\n",
    "    parameters={\n",
    "        'token':x.token,\n",
    "        'db_path':db_path,\n",
    "        'start_date': '2021-11-29'\n",
    "    },\n",
    "    progress_bar=False), axis=1)"
   ]
  },
  {
   "cell_type": "markdown",
   "id": "3f285283",
   "metadata": {
    "collapsed": false
   },
   "source": [
    "## Capturing data from the notebooks"
   ]
  },
  {
   "cell_type": "code",
   "execution_count": 10,
   "id": "b507d7ca",
   "metadata": {
    "collapsed": false
   },
   "outputs": [],
   "source": [
    "nb = sb.read_notebooks(base_output_folder)"
   ]
  },
  {
   "cell_type": "code",
   "execution_count": 11,
   "id": "5ad187e2",
   "metadata": {
    "collapsed": false
   },
   "outputs": [
    {
     "data": {
      "text/html": [
       "<div>\n",
       "<style scoped>\n",
       "    .dataframe tbody tr th:only-of-type {\n",
       "        vertical-align: middle;\n",
       "    }\n",
       "\n",
       "    .dataframe tbody tr th {\n",
       "        vertical-align: top;\n",
       "    }\n",
       "\n",
       "    .dataframe thead th {\n",
       "        text-align: right;\n",
       "    }\n",
       "</style>\n",
       "<table border=\"1\" class=\"dataframe\">\n",
       "  <thead>\n",
       "    <tr style=\"text-align: right;\">\n",
       "      <th></th>\n",
       "      <th>avg_return</th>\n",
       "      <th>avg_volatility</th>\n",
       "      <th>max_drawdown</th>\n",
       "      <th>range</th>\n",
       "    </tr>\n",
       "  </thead>\n",
       "  <tbody>\n",
       "    <tr>\n",
       "      <th>AAVE</th>\n",
       "      <td>-0.079399</td>\n",
       "      <td>0.230676</td>\n",
       "      <td>38.2970</td>\n",
       "      <td>-69.9550</td>\n",
       "    </tr>\n",
       "    <tr>\n",
       "      <th>ADA</th>\n",
       "      <td>-0.047296</td>\n",
       "      <td>0.239855</td>\n",
       "      <td>0.1568</td>\n",
       "      <td>-0.3348</td>\n",
       "    </tr>\n",
       "    <tr>\n",
       "      <th>ATOM</th>\n",
       "      <td>-0.043236</td>\n",
       "      <td>0.324583</td>\n",
       "      <td>5.2400</td>\n",
       "      <td>-5.7560</td>\n",
       "    </tr>\n",
       "    <tr>\n",
       "      <th>AVAX</th>\n",
       "      <td>-0.042591</td>\n",
       "      <td>0.316457</td>\n",
       "      <td>13.6200</td>\n",
       "      <td>-24.0700</td>\n",
       "    </tr>\n",
       "    <tr>\n",
       "      <th>BTC</th>\n",
       "      <td>-0.036921</td>\n",
       "      <td>0.165808</td>\n",
       "      <td>8275.8600</td>\n",
       "      <td>-9098.0800</td>\n",
       "    </tr>\n",
       "    <tr>\n",
       "      <th>COMP</th>\n",
       "      <td>-0.102179</td>\n",
       "      <td>0.245184</td>\n",
       "      <td>34.6000</td>\n",
       "      <td>-102.6600</td>\n",
       "    </tr>\n",
       "    <tr>\n",
       "      <th>CRV</th>\n",
       "      <td>-0.076450</td>\n",
       "      <td>0.357290</td>\n",
       "      <td>0.7467</td>\n",
       "      <td>-1.4962</td>\n",
       "    </tr>\n",
       "    <tr>\n",
       "      <th>DOT</th>\n",
       "      <td>-0.063969</td>\n",
       "      <td>0.269137</td>\n",
       "      <td>5.0100</td>\n",
       "      <td>-9.7550</td>\n",
       "    </tr>\n",
       "    <tr>\n",
       "      <th>ETH</th>\n",
       "      <td>-0.020862</td>\n",
       "      <td>0.192578</td>\n",
       "      <td>463.8000</td>\n",
       "      <td>-460.3500</td>\n",
       "    </tr>\n",
       "    <tr>\n",
       "      <th>SOL</th>\n",
       "      <td>-0.046766</td>\n",
       "      <td>0.269974</td>\n",
       "      <td>22.3990</td>\n",
       "      <td>-41.5570</td>\n",
       "    </tr>\n",
       "    <tr>\n",
       "      <th>USDT</th>\n",
       "      <td>0.000445</td>\n",
       "      <td>0.008644</td>\n",
       "      <td>0.0240</td>\n",
       "      <td>-0.0002</td>\n",
       "    </tr>\n",
       "  </tbody>\n",
       "</table>\n",
       "</div>"
      ],
      "text/plain": [
       "      avg_return  avg_volatility  max_drawdown      range\n",
       "AAVE   -0.079399        0.230676       38.2970   -69.9550\n",
       "ADA    -0.047296        0.239855        0.1568    -0.3348\n",
       "ATOM   -0.043236        0.324583        5.2400    -5.7560\n",
       "AVAX   -0.042591        0.316457       13.6200   -24.0700\n",
       "BTC    -0.036921        0.165808     8275.8600 -9098.0800\n",
       "COMP   -0.102179        0.245184       34.6000  -102.6600\n",
       "CRV    -0.076450        0.357290        0.7467    -1.4962\n",
       "DOT    -0.063969        0.269137        5.0100    -9.7550\n",
       "ETH    -0.020862        0.192578      463.8000  -460.3500\n",
       "SOL    -0.046766        0.269974       22.3990   -41.5570\n",
       "USDT    0.000445        0.008644        0.0240    -0.0002"
      ]
     },
     "execution_count": 11,
     "metadata": {},
     "output_type": "execute_result"
    }
   ],
   "source": [
    "df = pd.concat([nb[notebook].scraps['result'].data.T for notebook in nb], axis=0)\n",
    "df"
   ]
  },
  {
   "cell_type": "code",
   "execution_count": 12,
   "id": "517c214c",
   "metadata": {
    "collapsed": false
   },
   "outputs": [],
   "source": [
    "%%capture\n",
    "\n",
    "fig, ax = plt.subplots(2,2,figsize=(20,20))"
   ]
  },
  {
   "cell_type": "code",
   "execution_count": 13,
   "id": "28d6bf6d",
   "metadata": {
    "collapsed": false
   },
   "outputs": [
    {
     "data": {
      "image/png": "[encoded data removed]",
      "text/plain": [
       "<Figure size 1440x1440 with 4 Axes>"
      ]
     },
     "execution_count": 13,
     "metadata": {},
     "output_type": "execute_result"
    }
   ],
   "source": [
    "for idx, col in enumerate(df.columns):\n",
    "    ax[idx//2, idx%2].clear()\n",
    "    df[[col]].plot(ax=ax[idx//2, idx%2], kind='bar')\n",
    "\n",
    "fig"
   ]
  }
 ],
 "metadata": {
  "kernelspec": {
   "argv": [
    "python",
    "-m",
    "ipykernel_launcher",
    "-f",
    "{connection_file}"
   ],
   "display_name": "Python 3 (ipykernel)",
   "env": null,
   "interrupt_mode": "signal",
   "language": "python",
   "metadata": {
    "debugger": true
   },
   "name": "python3"
  },
  "language_info": {
   "codemirror_mode": {
    "name": "ipython",
    "version": 3
   },
   "file_extension": ".py",
   "mimetype": "text/x-python",
   "name": "python",
   "nbconvert_exporter": "python",
   "pygments_lexer": "ipython3",
   "version": "3.9.7"
  },
  "name": "hw4_runner.ipynb",
  "toc-autonumbering": false,
  "toc-showcode": false,
  "toc-showmarkdowntxt": false,
  "toc-showtags": true
 },
 "nbformat": 4,
 "nbformat_minor": 5
}
