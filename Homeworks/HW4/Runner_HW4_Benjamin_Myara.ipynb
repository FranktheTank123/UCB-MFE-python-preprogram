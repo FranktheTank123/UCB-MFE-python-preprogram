{
 "cells": [
  {
   "cell_type": "markdown",
   "id": "1b449b55-f9c3-4a08-9a8f-531efd8589b4",
   "metadata": {},
   "source": [
    "# Runner Notebook"
   ]
  },
  {
   "cell_type": "code",
   "execution_count": 57,
   "id": "831256b3-ecab-4e82-aa85-dd999bfd1bb7",
   "metadata": {},
   "outputs": [],
   "source": [
    "import papermill as pm\n",
    "import scrapbook as sb\n",
    "import pandas as pd\n",
    "from datetime import datetime, timedelta\n",
    "import os"
   ]
  },
  {
   "cell_type": "code",
   "execution_count": 58,
   "id": "a3768555-5c57-4294-9d82-e3261a104be4",
   "metadata": {},
   "outputs": [],
   "source": [
    "base_output_folder = os.path.expanduser('outputs')\n",
    "\n",
    "if not os.path.exists(base_output_folder):\n",
    "        os.makedirs(base_output_folder)"
   ]
  },
  {
   "cell_type": "code",
   "execution_count": 59,
   "id": "3feb2d12-600b-4ab4-abc2-ac00261056e8",
   "metadata": {},
   "outputs": [],
   "source": [
    "connection_string = 'sqlite:///data.db'"
   ]
  },
  {
   "cell_type": "code",
   "execution_count": 60,
   "id": "459e78d8-aab3-4455-a6e9-bf71479a4ba4",
   "metadata": {},
   "outputs": [],
   "source": [
    "ts = pd.read_sql('SELECT DISTINCT ts FROM ohlc', connection_string)\n",
    "ts['ts'] = pd.to_datetime(ts['ts'])\n",
    "\n",
    "ts = ts['ts']"
   ]
  },
  {
   "cell_type": "code",
   "execution_count": 61,
   "id": "3aa181f8-e377-474a-832f-0935f25bed63",
   "metadata": {},
   "outputs": [],
   "source": [
    "to_date = ts.iloc[-1]\n",
    "from_date = to_date - timedelta(days=7 * 2)"
   ]
  },
  {
   "cell_type": "code",
   "execution_count": 62,
   "id": "9e16437b-44ed-46eb-8818-cdaf4173f407",
   "metadata": {},
   "outputs": [],
   "source": [
    "tokens = pd.read_sql('SELECT DISTINCT token FROM ohlc', connection_string)\n",
    "tokens = tokens.token.to_list()"
   ]
  },
  {
   "cell_type": "code",
   "execution_count": 63,
   "id": "1a0d38df-a059-417f-b6fc-40bbe422d286",
   "metadata": {},
   "outputs": [
    {
     "name": "stderr",
     "output_type": "stream",
     "text": [
      "Input notebook does not contain a cell with tag 'parameters'\n"
     ]
    },
    {
     "name": "stdout",
     "output_type": "stream",
     "text": [
      "running for BTC for date 2021-12-01 00:00:00 to 2021-12-15 00:00:00\r"
     ]
    },
    {
     "data": {
      "application/vnd.jupyter.widget-view+json": {
       "model_id": "fb2d27e796d84116b49e2624e3944e55",
       "version_major": 2,
       "version_minor": 0
      },
      "text/plain": [
       "Executing:   0%|          | 0/32 [00:00<?, ?cell/s]"
      ]
     },
     "metadata": {},
     "output_type": "display_data"
    },
    {
     "name": "stderr",
     "output_type": "stream",
     "text": [
      "Input notebook does not contain a cell with tag 'parameters'\n"
     ]
    },
    {
     "name": "stdout",
     "output_type": "stream",
     "text": [
      "running for ETH for date 2021-12-01 00:00:00 to 2021-12-15 00:00:00\r"
     ]
    },
    {
     "data": {
      "application/vnd.jupyter.widget-view+json": {
       "model_id": "18b4511ce4b347af9a56aa1b614a9999",
       "version_major": 2,
       "version_minor": 0
      },
      "text/plain": [
       "Executing:   0%|          | 0/32 [00:00<?, ?cell/s]"
      ]
     },
     "metadata": {},
     "output_type": "display_data"
    },
    {
     "name": "stdout",
     "output_type": "stream",
     "text": [
      "running for USDT for date 2021-12-01 00:00:00 to 2021-12-15 00:00:00\r"
     ]
    },
    {
     "name": "stderr",
     "output_type": "stream",
     "text": [
      "Input notebook does not contain a cell with tag 'parameters'\n"
     ]
    },
    {
     "data": {
      "application/vnd.jupyter.widget-view+json": {
       "model_id": "5db7b1e699fb455ab990d22c1da80663",
       "version_major": 2,
       "version_minor": 0
      },
      "text/plain": [
       "Executing:   0%|          | 0/32 [00:00<?, ?cell/s]"
      ]
     },
     "metadata": {},
     "output_type": "display_data"
    },
    {
     "name": "stderr",
     "output_type": "stream",
     "text": [
      "Input notebook does not contain a cell with tag 'parameters'\n"
     ]
    },
    {
     "name": "stdout",
     "output_type": "stream",
     "text": [
      "running for SOL for date 2021-12-01 00:00:00 to 2021-12-15 00:00:00\r"
     ]
    },
    {
     "data": {
      "application/vnd.jupyter.widget-view+json": {
       "model_id": "59fbd9f6b39c46008d77120c02180bb0",
       "version_major": 2,
       "version_minor": 0
      },
      "text/plain": [
       "Executing:   0%|          | 0/32 [00:00<?, ?cell/s]"
      ]
     },
     "metadata": {},
     "output_type": "display_data"
    },
    {
     "name": "stderr",
     "output_type": "stream",
     "text": [
      "Input notebook does not contain a cell with tag 'parameters'\n"
     ]
    },
    {
     "name": "stdout",
     "output_type": "stream",
     "text": [
      "running for ADA for date 2021-12-01 00:00:00 to 2021-12-15 00:00:00\r"
     ]
    },
    {
     "data": {
      "application/vnd.jupyter.widget-view+json": {
       "model_id": "3144dd99a1274edd95c039a90e9aec28",
       "version_major": 2,
       "version_minor": 0
      },
      "text/plain": [
       "Executing:   0%|          | 0/32 [00:00<?, ?cell/s]"
      ]
     },
     "metadata": {},
     "output_type": "display_data"
    },
    {
     "name": "stderr",
     "output_type": "stream",
     "text": [
      "Input notebook does not contain a cell with tag 'parameters'\n"
     ]
    },
    {
     "name": "stdout",
     "output_type": "stream",
     "text": [
      "running for DOT for date 2021-12-01 00:00:00 to 2021-12-15 00:00:00\r"
     ]
    },
    {
     "data": {
      "application/vnd.jupyter.widget-view+json": {
       "model_id": "1978b1fbadf646c7a4c0237e438d1ba4",
       "version_major": 2,
       "version_minor": 0
      },
      "text/plain": [
       "Executing:   0%|          | 0/32 [00:00<?, ?cell/s]"
      ]
     },
     "metadata": {},
     "output_type": "display_data"
    },
    {
     "name": "stderr",
     "output_type": "stream",
     "text": [
      "Input notebook does not contain a cell with tag 'parameters'\n"
     ]
    },
    {
     "name": "stdout",
     "output_type": "stream",
     "text": [
      "running for AVAX for date 2021-12-01 00:00:00 to 2021-12-15 00:00:00\r"
     ]
    },
    {
     "data": {
      "application/vnd.jupyter.widget-view+json": {
       "model_id": "b1cdf8fa8f144426a1340443fe8381e3",
       "version_major": 2,
       "version_minor": 0
      },
      "text/plain": [
       "Executing:   0%|          | 0/32 [00:00<?, ?cell/s]"
      ]
     },
     "metadata": {},
     "output_type": "display_data"
    },
    {
     "name": "stderr",
     "output_type": "stream",
     "text": [
      "Input notebook does not contain a cell with tag 'parameters'\n"
     ]
    },
    {
     "name": "stdout",
     "output_type": "stream",
     "text": [
      "running for ATOM for date 2021-12-01 00:00:00 to 2021-12-15 00:00:00\r"
     ]
    },
    {
     "data": {
      "application/vnd.jupyter.widget-view+json": {
       "model_id": "d5883a3dc811450b9cade792f307cd5b",
       "version_major": 2,
       "version_minor": 0
      },
      "text/plain": [
       "Executing:   0%|          | 0/32 [00:00<?, ?cell/s]"
      ]
     },
     "metadata": {},
     "output_type": "display_data"
    },
    {
     "name": "stdout",
     "output_type": "stream",
     "text": [
      "running for CRV for date 2021-12-01 00:00:00 to 2021-12-15 00:00:00\r"
     ]
    },
    {
     "name": "stderr",
     "output_type": "stream",
     "text": [
      "Input notebook does not contain a cell with tag 'parameters'\n"
     ]
    },
    {
     "data": {
      "application/vnd.jupyter.widget-view+json": {
       "model_id": "cb758c2bcb7d4be7bae51d9f585a9f64",
       "version_major": 2,
       "version_minor": 0
      },
      "text/plain": [
       "Executing:   0%|          | 0/32 [00:00<?, ?cell/s]"
      ]
     },
     "metadata": {},
     "output_type": "display_data"
    },
    {
     "name": "stderr",
     "output_type": "stream",
     "text": [
      "Input notebook does not contain a cell with tag 'parameters'\n"
     ]
    },
    {
     "name": "stdout",
     "output_type": "stream",
     "text": [
      "running for AAVE for date 2021-12-01 00:00:00 to 2021-12-15 00:00:00\r"
     ]
    },
    {
     "data": {
      "application/vnd.jupyter.widget-view+json": {
       "model_id": "8fa6e5cc75b24c70a89cb67722ad5910",
       "version_major": 2,
       "version_minor": 0
      },
      "text/plain": [
       "Executing:   0%|          | 0/32 [00:00<?, ?cell/s]"
      ]
     },
     "metadata": {},
     "output_type": "display_data"
    },
    {
     "name": "stderr",
     "output_type": "stream",
     "text": [
      "Input notebook does not contain a cell with tag 'parameters'\n"
     ]
    },
    {
     "name": "stdout",
     "output_type": "stream",
     "text": [
      "running for COMP for date 2021-12-01 00:00:00 to 2021-12-15 00:00:00\r"
     ]
    },
    {
     "data": {
      "application/vnd.jupyter.widget-view+json": {
       "model_id": "95a71ff2582648e8bc8555110f67c381",
       "version_major": 2,
       "version_minor": 0
      },
      "text/plain": [
       "Executing:   0%|          | 0/32 [00:00<?, ?cell/s]"
      ]
     },
     "metadata": {},
     "output_type": "display_data"
    }
   ],
   "source": [
    "for token in tokens:\n",
    "    print(f'running for {token} for date {from_date} to {to_date}', end='\\r')\n",
    "    res = pm.execute_notebook(\n",
    "        'template_HW4_Benjamin_Myara.ipynb',\n",
    "        f'{base_output_folder}/market_analysis_{token}_{from_date}.ipynb',\n",
    "        parameters = {\n",
    "            'from_date': f'{from_date}',\n",
    "            'to_date': f'{to_date}',\n",
    "            'token': token,\n",
    "            'connection_string': connection_string,\n",
    "        }\n",
    "    )\n",
    "    "
   ]
  },
  {
   "cell_type": "code",
   "execution_count": 64,
   "id": "c94d8348-1566-443c-99b8-d019d6e2c9e6",
   "metadata": {},
   "outputs": [],
   "source": [
    "nbs = sb.read_notebooks('outputs')"
   ]
  },
  {
   "cell_type": "code",
   "execution_count": 65,
   "id": "77d36e99-19b2-4402-8200-67acc37d95ba",
   "metadata": {},
   "outputs": [
    {
     "data": {
      "text/html": [
       "<div>\n",
       "<style scoped>\n",
       "    .dataframe tbody tr th:only-of-type {\n",
       "        vertical-align: middle;\n",
       "    }\n",
       "\n",
       "    .dataframe tbody tr th {\n",
       "        vertical-align: top;\n",
       "    }\n",
       "\n",
       "    .dataframe thead th {\n",
       "        text-align: right;\n",
       "    }\n",
       "</style>\n",
       "<table border=\"1\" class=\"dataframe\">\n",
       "  <thead>\n",
       "    <tr style=\"text-align: right;\">\n",
       "      <th></th>\n",
       "      <th>token</th>\n",
       "      <th>from_date</th>\n",
       "      <th>to_date</th>\n",
       "      <th>return</th>\n",
       "      <th>volatility</th>\n",
       "      <th>last close - first close</th>\n",
       "    </tr>\n",
       "  </thead>\n",
       "  <tbody>\n",
       "    <tr>\n",
       "      <th>0</th>\n",
       "      <td>BTC</td>\n",
       "      <td>2021-11-05</td>\n",
       "      <td>2021-11-12</td>\n",
       "      <td>64250.753393</td>\n",
       "      <td>0.095865</td>\n",
       "      <td>3759.02</td>\n",
       "    </tr>\n",
       "    <tr>\n",
       "      <th>1</th>\n",
       "      <td>BTC</td>\n",
       "      <td>2021-11-05</td>\n",
       "      <td>2021-11-12</td>\n",
       "      <td>64250.753393</td>\n",
       "      <td>0.095865</td>\n",
       "      <td>3759.02</td>\n",
       "    </tr>\n",
       "    <tr>\n",
       "      <th>2</th>\n",
       "      <td>BTC</td>\n",
       "      <td>2021-11-05</td>\n",
       "      <td>2021-11-12</td>\n",
       "      <td>64250.753393</td>\n",
       "      <td>0.095865</td>\n",
       "      <td>3759.02</td>\n",
       "    </tr>\n",
       "    <tr>\n",
       "      <th>3</th>\n",
       "      <td>BTC</td>\n",
       "      <td>2021-11-05</td>\n",
       "      <td>2021-11-12</td>\n",
       "      <td>64250.753393</td>\n",
       "      <td>0.095865</td>\n",
       "      <td>3759.02</td>\n",
       "    </tr>\n",
       "    <tr>\n",
       "      <th>4</th>\n",
       "      <td>BTC</td>\n",
       "      <td>2021-11-05</td>\n",
       "      <td>2021-11-12</td>\n",
       "      <td>64250.753393</td>\n",
       "      <td>0.095865</td>\n",
       "      <td>3759.02</td>\n",
       "    </tr>\n",
       "    <tr>\n",
       "      <th>5</th>\n",
       "      <td>BTC</td>\n",
       "      <td>2021-11-05</td>\n",
       "      <td>2021-11-12</td>\n",
       "      <td>64250.753393</td>\n",
       "      <td>0.095865</td>\n",
       "      <td>3759.02</td>\n",
       "    </tr>\n",
       "    <tr>\n",
       "      <th>6</th>\n",
       "      <td>BTC</td>\n",
       "      <td>2021-11-05</td>\n",
       "      <td>2021-11-12</td>\n",
       "      <td>64250.753393</td>\n",
       "      <td>0.095865</td>\n",
       "      <td>3759.02</td>\n",
       "    </tr>\n",
       "    <tr>\n",
       "      <th>7</th>\n",
       "      <td>BTC</td>\n",
       "      <td>2021-11-05</td>\n",
       "      <td>2021-11-12</td>\n",
       "      <td>64250.753393</td>\n",
       "      <td>0.095865</td>\n",
       "      <td>3759.02</td>\n",
       "    </tr>\n",
       "    <tr>\n",
       "      <th>8</th>\n",
       "      <td>BTC</td>\n",
       "      <td>2021-11-05</td>\n",
       "      <td>2021-11-12</td>\n",
       "      <td>64250.753393</td>\n",
       "      <td>0.095865</td>\n",
       "      <td>3759.02</td>\n",
       "    </tr>\n",
       "    <tr>\n",
       "      <th>9</th>\n",
       "      <td>BTC</td>\n",
       "      <td>2021-11-05</td>\n",
       "      <td>2021-11-12</td>\n",
       "      <td>64250.753393</td>\n",
       "      <td>0.095865</td>\n",
       "      <td>3759.02</td>\n",
       "    </tr>\n",
       "    <tr>\n",
       "      <th>10</th>\n",
       "      <td>BTC</td>\n",
       "      <td>2021-11-05</td>\n",
       "      <td>2021-11-12</td>\n",
       "      <td>64250.753393</td>\n",
       "      <td>0.095865</td>\n",
       "      <td>3759.02</td>\n",
       "    </tr>\n",
       "  </tbody>\n",
       "</table>\n",
       "</div>"
      ],
      "text/plain": [
       "   token   from_date     to_date        return  volatility  \\\n",
       "0    BTC  2021-11-05  2021-11-12  64250.753393    0.095865   \n",
       "1    BTC  2021-11-05  2021-11-12  64250.753393    0.095865   \n",
       "2    BTC  2021-11-05  2021-11-12  64250.753393    0.095865   \n",
       "3    BTC  2021-11-05  2021-11-12  64250.753393    0.095865   \n",
       "4    BTC  2021-11-05  2021-11-12  64250.753393    0.095865   \n",
       "5    BTC  2021-11-05  2021-11-12  64250.753393    0.095865   \n",
       "6    BTC  2021-11-05  2021-11-12  64250.753393    0.095865   \n",
       "7    BTC  2021-11-05  2021-11-12  64250.753393    0.095865   \n",
       "8    BTC  2021-11-05  2021-11-12  64250.753393    0.095865   \n",
       "9    BTC  2021-11-05  2021-11-12  64250.753393    0.095865   \n",
       "10   BTC  2021-11-05  2021-11-12  64250.753393    0.095865   \n",
       "\n",
       "    last close - first close  \n",
       "0                    3759.02  \n",
       "1                    3759.02  \n",
       "2                    3759.02  \n",
       "3                    3759.02  \n",
       "4                    3759.02  \n",
       "5                    3759.02  \n",
       "6                    3759.02  \n",
       "7                    3759.02  \n",
       "8                    3759.02  \n",
       "9                    3759.02  \n",
       "10                   3759.02  "
      ]
     },
     "execution_count": 65,
     "metadata": {},
     "output_type": "execute_result"
    }
   ],
   "source": [
    "pd.DataFrame([\n",
    "    pd.Series({\n",
    "        'token': scrap['token'].data,\n",
    "        'from_date': scrap['from_date'].data,\n",
    "        'to_date': scrap['to_date'].data,\n",
    "        'return': scrap['prices'].data['close'].mean(),\n",
    "        'volatility': scrap['prices'].data['volatility'].mean(),\n",
    "        'last close - first close': scrap['prices'].data['close'].iloc[-1] - scrap['prices'].data['close'].iloc[0]}) \n",
    "    for _, scrap in nbs.notebook_scraps.items()\n",
    "])"
   ]
  },
  {
   "cell_type": "code",
   "execution_count": null,
   "id": "f9c49b4f-e42c-449f-945b-82c9f00d02fe",
   "metadata": {},
   "outputs": [],
   "source": []
  },
  {
   "cell_type": "code",
   "execution_count": null,
   "id": "69b8220e-db97-4866-aba4-73c7d01413bf",
   "metadata": {},
   "outputs": [],
   "source": []
  }
 ],
 "metadata": {
  "kernelspec": {
   "display_name": "Python 3 (ipykernel)",
   "language": "python",
   "name": "python3"
  },
  "language_info": {
   "codemirror_mode": {
    "name": "ipython",
    "version": 3
   },
   "file_extension": ".py",
   "mimetype": "text/x-python",
   "name": "python",
   "nbconvert_exporter": "python",
   "pygments_lexer": "ipython3",
   "version": "3.9.7"
  }
 },
 "nbformat": 4,
 "nbformat_minor": 5
}
