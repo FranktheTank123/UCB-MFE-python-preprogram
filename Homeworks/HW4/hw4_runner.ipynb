{
 "cells": [
  {
   "cell_type": "code",
   "execution_count": 1,
   "id": "ac39b819",
   "metadata": {},
   "outputs": [
    {
     "name": "stderr",
     "output_type": "stream",
     "text": [
      "C:\\Users\\linru\\Anaconda3\\envs\\hw4\\lib\\site-packages\\papermill\\iorw.py:50: FutureWarning: pyarrow.HadoopFileSystem is deprecated as of 2.0.0, please use pyarrow.fs.HadoopFileSystem instead.\n",
      "  from pyarrow import HadoopFileSystem\n"
     ]
    }
   ],
   "source": [
    "import papermill as pm\n",
    "import scrapbook as sb\n",
    "import pandas as pd\n",
    "import sqlite3\n",
    "from datetime import datetime, timedelta\n",
    "import os\n",
    "\n",
    "%load_ext sql"
   ]
  },
  {
   "cell_type": "code",
   "execution_count": 2,
   "id": "7fef0396",
   "metadata": {},
   "outputs": [],
   "source": [
    "def last_dow(d: datetime, dow: int) -> datetime:\n",
    "    '''\n",
    "    Gets the date of the last day of week, using datetime convention of Monday is 0 and Sunday is 6\n",
    "    '''\n",
    "    dow_d = d.weekday()\n",
    "    days_delta = (7 - dow) + dow_d if dow_d < dow else dow_d - dow\n",
    "    return d - timedelta(days=days_delta)"
   ]
  },
  {
   "cell_type": "code",
   "execution_count": 3,
   "id": "0faf974f",
   "metadata": {
    "scrolled": true
   },
   "outputs": [],
   "source": [
    "%sql sqlite:///data/data.db"
   ]
  },
  {
   "cell_type": "code",
   "execution_count": 4,
   "id": "2ba251c3",
   "metadata": {},
   "outputs": [],
   "source": [
    "# test if sql loaded:"
   ]
  },
  {
   "cell_type": "code",
   "execution_count": 5,
   "id": "4e06ebb2",
   "metadata": {},
   "outputs": [
    {
     "name": "stdout",
     "output_type": "stream",
     "text": [
      " * sqlite:///data/data.db\n",
      "Done.\n"
     ]
    },
    {
     "data": {
      "text/html": [
       "<table>\n",
       "    <tr>\n",
       "        <th>token</th>\n",
       "    </tr>\n",
       "    <tr>\n",
       "        <td>AAVE</td>\n",
       "    </tr>\n",
       "</table>"
      ],
      "text/plain": [
       "[('AAVE',)]"
      ]
     },
     "execution_count": 5,
     "metadata": {},
     "output_type": "execute_result"
    }
   ],
   "source": [
    "%%sql \n",
    "SELECT \n",
    "    token \n",
    "FROM ohlc\n",
    "GROUP by 1\n",
    "LIMIT 1\n",
    "\n"
   ]
  },
  {
   "cell_type": "code",
   "execution_count": 6,
   "id": "62c696ad",
   "metadata": {},
   "outputs": [],
   "source": [
    "# get tokens."
   ]
  },
  {
   "cell_type": "code",
   "execution_count": 7,
   "id": "6abdcb69",
   "metadata": {},
   "outputs": [
    {
     "name": "stdout",
     "output_type": "stream",
     "text": [
      " * sqlite:///data/data.db\n",
      "Done.\n",
      "Returning data to local variable tokens\n"
     ]
    }
   ],
   "source": [
    "%%sql tokens << \n",
    "SELECT \n",
    "    token \n",
    "FROM ohlc\n",
    "GROUP by 1"
   ]
  },
  {
   "cell_type": "code",
   "execution_count": 8,
   "id": "14a6b3a7",
   "metadata": {},
   "outputs": [],
   "source": [
    "tokens = tokens.DataFrame()\n",
    "tokens = tokens.token.tolist()"
   ]
  },
  {
   "cell_type": "code",
   "execution_count": 9,
   "id": "f2b209d2",
   "metadata": {},
   "outputs": [],
   "source": [
    "# get run_dates."
   ]
  },
  {
   "cell_type": "code",
   "execution_count": 10,
   "id": "91c370c1",
   "metadata": {},
   "outputs": [
    {
     "name": "stdout",
     "output_type": "stream",
     "text": [
      " * sqlite:///data/data.db\n",
      "Done.\n",
      "Returning data to local variable last_day\n"
     ]
    }
   ],
   "source": [
    "%%sql last_day << \n",
    "SELECT \n",
    "    ts\n",
    "FROM ohlc\n",
    "ORDER by 1 DESC\n",
    "LIMIT 1"
   ]
  },
  {
   "cell_type": "code",
   "execution_count": 11,
   "id": "6ea6c3d4",
   "metadata": {},
   "outputs": [],
   "source": [
    "run_start = last_dow(pd.to_datetime(last_day.DataFrame().loc[0])['ts'], 0) + timedelta(days = -14)\n",
    "# run_dates = [run_start + timedelta(days = x) for x in range(14)]\n",
    "run_dates = [(last_dow(run_start, 0) + timedelta(days=7 * x)) for x in range(2)]"
   ]
  },
  {
   "cell_type": "code",
   "execution_count": 12,
   "id": "22cfc042",
   "metadata": {},
   "outputs": [],
   "source": [
    "connection_string = 'sqlite:///data/data.db'"
   ]
  },
  {
   "cell_type": "code",
   "execution_count": 13,
   "id": "1055ba97",
   "metadata": {},
   "outputs": [],
   "source": [
    "base_output_folder = os.path.expanduser('outputs')\n",
    "\n",
    "if not os.path.exists(base_output_folder):\n",
    "        os.makedirs(base_output_folder)"
   ]
  },
  {
   "cell_type": "code",
   "execution_count": 14,
   "id": "0e6bb278-d323-492d-a909-ef98d6f8e6dc",
   "metadata": {},
   "outputs": [],
   "source": [
    "dir_output = os.getcwd()+'\\\\'+base_output_folder\n",
    "existed_files = ['_'.join(x.split('_')[-2:]).replace('.ipynb','') for x in os.listdir(dir_output) if x.endswith('.ipynb')]\n"
   ]
  },
  {
   "cell_type": "code",
   "execution_count": 15,
   "id": "258b2f01",
   "metadata": {},
   "outputs": [],
   "source": [
    "for run_date in run_dates:\n",
    "    for token in tokens:\n",
    "        if f'{token}_{(str(run_date.to_pydatetime()).split()[0])}' not in existed_files:\n",
    "            print(f'running for {token} for date {run_date} to {run_date + timedelta(days=7)}', end='\\r')\n",
    "            res = pm.execute_notebook(\n",
    "                'hw4_template.ipynb',\n",
    "                f'{base_output_folder}/market_analysis_{token}_{(str(run_date.to_pydatetime()).split()[0])}.ipynb',\n",
    "                # f'{base_output_folder}/market_analysis_{token}_{run_date}.ipynb',\n",
    "                parameters = {\n",
    "                    'from_date': f'{run_date}',\n",
    "                    'to_date': f'{run_date + timedelta(days=7)}',\n",
    "                    'token': token,\n",
    "                    'connection_string': connection_string,\n",
    "    #                 'events_db': events_db\n",
    "                }\n",
    "            )"
   ]
  },
  {
   "cell_type": "markdown",
   "id": "0443d6fd-e815-4b39-9ce4-0ac8848cc003",
   "metadata": {},
   "source": [
    "2. Create a runner notebook using papermill to run the template notebook across all tokens in the database and the last 2 complete weeks in the database.  Summarize the following in a single DataFrame in the runner notebook\n",
    "    - avg hourly return by run\n",
    "    - avg volatility by run\n",
    "    - maximum drawdown over the entire period of each run\n",
    "    - range of last close price - first close price"
   ]
  },
  {
   "cell_type": "code",
   "execution_count": 16,
   "id": "98327600-8ce6-4b78-829a-9adeed371d79",
   "metadata": {},
   "outputs": [],
   "source": [
    "nbs = [x for x in os.listdir(dir_output) if x.endswith('.ipynb')]\n",
    "summary = pd.DataFrame({'run' : nbs})"
   ]
  },
  {
   "cell_type": "code",
   "execution_count": 17,
   "id": "9623fe32-944c-4389-acdf-608c2f5ce6a1",
   "metadata": {},
   "outputs": [],
   "source": [
    "def get_sum(filename):\n",
    "    out_dict = {}\n",
    "    nb = sb.read_notebook(dir_output + '\\\\' + filename)\n",
    "    df = nb.scraps['prices'].data\n",
    "    out_dict['avg_return'] = df.loc[:,'return'].mean()\n",
    "    out_dict['avg_vol'] = df.loc[:,'volatility'].mean()\n",
    "    out_dict['mdd'] = df.loc[:,'max_drawdown'].min()\n",
    "    out_dict['last_minus_first'] = df.close.iloc[-1] - df.close.iloc[0]\n",
    "    return out_dict\n",
    "\n",
    "# summary.loc['\n",
    "out_dict = get_sum(nbs[0])\n",
    "summary.loc[:,list(out_dict.keys())] = pd.DataFrame(summary.loc[:,'run'].apply(lambda x : get_sum(x)).tolist())"
   ]
  },
  {
   "cell_type": "code",
   "execution_count": 18,
   "id": "062f73ea-4103-427c-988d-164fc4dd5a03",
   "metadata": {},
   "outputs": [
    {
     "data": {
      "text/html": [
       "<div>\n",
       "<style scoped>\n",
       "    .dataframe tbody tr th:only-of-type {\n",
       "        vertical-align: middle;\n",
       "    }\n",
       "\n",
       "    .dataframe tbody tr th {\n",
       "        vertical-align: top;\n",
       "    }\n",
       "\n",
       "    .dataframe thead th {\n",
       "        text-align: right;\n",
       "    }\n",
       "</style>\n",
       "<table border=\"1\" class=\"dataframe\">\n",
       "  <thead>\n",
       "    <tr style=\"text-align: right;\">\n",
       "      <th></th>\n",
       "      <th>run</th>\n",
       "      <th>avg_return</th>\n",
       "      <th>avg_vol</th>\n",
       "      <th>mdd</th>\n",
       "      <th>last_minus_first</th>\n",
       "    </tr>\n",
       "  </thead>\n",
       "  <tbody>\n",
       "    <tr>\n",
       "      <th>0</th>\n",
       "      <td>market_analysis_AAVE_2021-11-29.ipynb</td>\n",
       "      <td>-0.001235</td>\n",
       "      <td>0.221054</td>\n",
       "      <td>-0.302593</td>\n",
       "      <td>-46.8080</td>\n",
       "    </tr>\n",
       "    <tr>\n",
       "      <th>1</th>\n",
       "      <td>market_analysis_AAVE_2021-12-06.ipynb</td>\n",
       "      <td>-0.000304</td>\n",
       "      <td>0.200400</td>\n",
       "      <td>-0.179887</td>\n",
       "      <td>-11.6730</td>\n",
       "    </tr>\n",
       "    <tr>\n",
       "      <th>2</th>\n",
       "      <td>market_analysis_ADA_2021-11-29.ipynb</td>\n",
       "      <td>-0.000850</td>\n",
       "      <td>0.226749</td>\n",
       "      <td>-0.250000</td>\n",
       "      <td>-0.2305</td>\n",
       "    </tr>\n",
       "    <tr>\n",
       "      <th>3</th>\n",
       "      <td>market_analysis_ADA_2021-12-06.ipynb</td>\n",
       "      <td>-0.000070</td>\n",
       "      <td>0.203766</td>\n",
       "      <td>-0.177991</td>\n",
       "      <td>-0.0297</td>\n",
       "    </tr>\n",
       "    <tr>\n",
       "      <th>4</th>\n",
       "      <td>market_analysis_ATOM_2021-11-29.ipynb</td>\n",
       "      <td>-0.000489</td>\n",
       "      <td>0.340796</td>\n",
       "      <td>-0.265123</td>\n",
       "      <td>-2.8370</td>\n",
       "    </tr>\n",
       "    <tr>\n",
       "      <th>5</th>\n",
       "      <td>market_analysis_ATOM_2021-12-06.ipynb</td>\n",
       "      <td>0.000112</td>\n",
       "      <td>0.254383</td>\n",
       "      <td>-0.131744</td>\n",
       "      <td>-0.0040</td>\n",
       "    </tr>\n",
       "    <tr>\n",
       "      <th>6</th>\n",
       "      <td>market_analysis_AVAX_2021-11-29.ipynb</td>\n",
       "      <td>-0.001428</td>\n",
       "      <td>0.320661</td>\n",
       "      <td>-0.334566</td>\n",
       "      <td>-25.6000</td>\n",
       "    </tr>\n",
       "    <tr>\n",
       "      <th>7</th>\n",
       "      <td>market_analysis_AVAX_2021-12-06.ipynb</td>\n",
       "      <td>0.000211</td>\n",
       "      <td>0.249173</td>\n",
       "      <td>-0.165626</td>\n",
       "      <td>1.1800</td>\n",
       "    </tr>\n",
       "    <tr>\n",
       "      <th>8</th>\n",
       "      <td>market_analysis_BTC_2021-11-29.ipynb</td>\n",
       "      <td>-0.000861</td>\n",
       "      <td>0.175543</td>\n",
       "      <td>-0.206462</td>\n",
       "      <td>-7979.4100</td>\n",
       "    </tr>\n",
       "    <tr>\n",
       "      <th>9</th>\n",
       "      <td>market_analysis_BTC_2021-12-06.ipynb</td>\n",
       "      <td>0.000127</td>\n",
       "      <td>0.134449</td>\n",
       "      <td>-0.089371</td>\n",
       "      <td>833.1100</td>\n",
       "    </tr>\n",
       "    <tr>\n",
       "      <th>10</th>\n",
       "      <td>market_analysis_COMP_2021-11-29.ipynb</td>\n",
       "      <td>-0.001790</td>\n",
       "      <td>0.210428</td>\n",
       "      <td>-0.289758</td>\n",
       "      <td>-76.7900</td>\n",
       "    </tr>\n",
       "    <tr>\n",
       "      <th>11</th>\n",
       "      <td>market_analysis_COMP_2021-12-06.ipynb</td>\n",
       "      <td>-0.000277</td>\n",
       "      <td>0.234462</td>\n",
       "      <td>-0.204553</td>\n",
       "      <td>-12.5700</td>\n",
       "    </tr>\n",
       "    <tr>\n",
       "      <th>12</th>\n",
       "      <td>market_analysis_CRV_2021-11-29.ipynb</td>\n",
       "      <td>-0.001769</td>\n",
       "      <td>0.358515</td>\n",
       "      <td>-0.372766</td>\n",
       "      <td>-1.3619</td>\n",
       "    </tr>\n",
       "    <tr>\n",
       "      <th>13</th>\n",
       "      <td>market_analysis_CRV_2021-12-06.ipynb</td>\n",
       "      <td>0.000518</td>\n",
       "      <td>0.289645</td>\n",
       "      <td>-0.205481</td>\n",
       "      <td>0.2249</td>\n",
       "    </tr>\n",
       "    <tr>\n",
       "      <th>14</th>\n",
       "      <td>market_analysis_DOT_2021-11-29.ipynb</td>\n",
       "      <td>-0.001333</td>\n",
       "      <td>0.251500</td>\n",
       "      <td>-0.311762</td>\n",
       "      <td>-7.5660</td>\n",
       "    </tr>\n",
       "    <tr>\n",
       "      <th>15</th>\n",
       "      <td>market_analysis_DOT_2021-12-06.ipynb</td>\n",
       "      <td>0.000389</td>\n",
       "      <td>0.235252</td>\n",
       "      <td>-0.157766</td>\n",
       "      <td>1.4070</td>\n",
       "    </tr>\n",
       "    <tr>\n",
       "      <th>16</th>\n",
       "      <td>market_analysis_ETH_2021-11-29.ipynb</td>\n",
       "      <td>-0.000143</td>\n",
       "      <td>0.187724</td>\n",
       "      <td>-0.188101</td>\n",
       "      <td>-130.4200</td>\n",
       "    </tr>\n",
       "    <tr>\n",
       "      <th>17</th>\n",
       "      <td>market_analysis_ETH_2021-12-06.ipynb</td>\n",
       "      <td>-0.000029</td>\n",
       "      <td>0.160916</td>\n",
       "      <td>-0.121518</td>\n",
       "      <td>-46.5500</td>\n",
       "    </tr>\n",
       "    <tr>\n",
       "      <th>18</th>\n",
       "      <td>market_analysis_SOL_2021-11-29.ipynb</td>\n",
       "      <td>-0.000210</td>\n",
       "      <td>0.280443</td>\n",
       "      <td>-0.233567</td>\n",
       "      <td>-10.1580</td>\n",
       "    </tr>\n",
       "    <tr>\n",
       "      <th>19</th>\n",
       "      <td>market_analysis_SOL_2021-12-06.ipynb</td>\n",
       "      <td>-0.000668</td>\n",
       "      <td>0.199686</td>\n",
       "      <td>-0.188606</td>\n",
       "      <td>-22.4670</td>\n",
       "    </tr>\n",
       "    <tr>\n",
       "      <th>20</th>\n",
       "      <td>market_analysis_USDT_2021-11-29.ipynb</td>\n",
       "      <td>0.000004</td>\n",
       "      <td>0.019367</td>\n",
       "      <td>-0.004277</td>\n",
       "      <td>0.0006</td>\n",
       "    </tr>\n",
       "    <tr>\n",
       "      <th>21</th>\n",
       "      <td>market_analysis_USDT_2021-12-06.ipynb</td>\n",
       "      <td>-0.000004</td>\n",
       "      <td>0.003089</td>\n",
       "      <td>-0.001098</td>\n",
       "      <td>-0.0006</td>\n",
       "    </tr>\n",
       "  </tbody>\n",
       "</table>\n",
       "</div>"
      ],
      "text/plain": [
       "                                      run  avg_return   avg_vol       mdd  \\\n",
       "0   market_analysis_AAVE_2021-11-29.ipynb   -0.001235  0.221054 -0.302593   \n",
       "1   market_analysis_AAVE_2021-12-06.ipynb   -0.000304  0.200400 -0.179887   \n",
       "2    market_analysis_ADA_2021-11-29.ipynb   -0.000850  0.226749 -0.250000   \n",
       "3    market_analysis_ADA_2021-12-06.ipynb   -0.000070  0.203766 -0.177991   \n",
       "4   market_analysis_ATOM_2021-11-29.ipynb   -0.000489  0.340796 -0.265123   \n",
       "5   market_analysis_ATOM_2021-12-06.ipynb    0.000112  0.254383 -0.131744   \n",
       "6   market_analysis_AVAX_2021-11-29.ipynb   -0.001428  0.320661 -0.334566   \n",
       "7   market_analysis_AVAX_2021-12-06.ipynb    0.000211  0.249173 -0.165626   \n",
       "8    market_analysis_BTC_2021-11-29.ipynb   -0.000861  0.175543 -0.206462   \n",
       "9    market_analysis_BTC_2021-12-06.ipynb    0.000127  0.134449 -0.089371   \n",
       "10  market_analysis_COMP_2021-11-29.ipynb   -0.001790  0.210428 -0.289758   \n",
       "11  market_analysis_COMP_2021-12-06.ipynb   -0.000277  0.234462 -0.204553   \n",
       "12   market_analysis_CRV_2021-11-29.ipynb   -0.001769  0.358515 -0.372766   \n",
       "13   market_analysis_CRV_2021-12-06.ipynb    0.000518  0.289645 -0.205481   \n",
       "14   market_analysis_DOT_2021-11-29.ipynb   -0.001333  0.251500 -0.311762   \n",
       "15   market_analysis_DOT_2021-12-06.ipynb    0.000389  0.235252 -0.157766   \n",
       "16   market_analysis_ETH_2021-11-29.ipynb   -0.000143  0.187724 -0.188101   \n",
       "17   market_analysis_ETH_2021-12-06.ipynb   -0.000029  0.160916 -0.121518   \n",
       "18   market_analysis_SOL_2021-11-29.ipynb   -0.000210  0.280443 -0.233567   \n",
       "19   market_analysis_SOL_2021-12-06.ipynb   -0.000668  0.199686 -0.188606   \n",
       "20  market_analysis_USDT_2021-11-29.ipynb    0.000004  0.019367 -0.004277   \n",
       "21  market_analysis_USDT_2021-12-06.ipynb   -0.000004  0.003089 -0.001098   \n",
       "\n",
       "    last_minus_first  \n",
       "0           -46.8080  \n",
       "1           -11.6730  \n",
       "2            -0.2305  \n",
       "3            -0.0297  \n",
       "4            -2.8370  \n",
       "5            -0.0040  \n",
       "6           -25.6000  \n",
       "7             1.1800  \n",
       "8         -7979.4100  \n",
       "9           833.1100  \n",
       "10          -76.7900  \n",
       "11          -12.5700  \n",
       "12           -1.3619  \n",
       "13            0.2249  \n",
       "14           -7.5660  \n",
       "15            1.4070  \n",
       "16         -130.4200  \n",
       "17          -46.5500  \n",
       "18          -10.1580  \n",
       "19          -22.4670  \n",
       "20            0.0006  \n",
       "21           -0.0006  "
      ]
     },
     "execution_count": 18,
     "metadata": {},
     "output_type": "execute_result"
    }
   ],
   "source": [
    "summary"
   ]
  },
  {
   "cell_type": "code",
   "execution_count": null,
   "id": "4b6913d8-b3fe-48c8-af51-c25d95d4b214",
   "metadata": {},
   "outputs": [],
   "source": []
  }
 ],
 "metadata": {
  "kernelspec": {
   "display_name": "Python 3",
   "language": "python",
   "name": "python3"
  },
  "language_info": {
   "codemirror_mode": {
    "name": "ipython",
    "version": 3
   },
   "file_extension": ".py",
   "mimetype": "text/x-python",
   "name": "python",
   "nbconvert_exporter": "python",
   "pygments_lexer": "ipython3",
   "version": "3.8.12"
  }
 },
 "nbformat": 4,
 "nbformat_minor": 5
}
