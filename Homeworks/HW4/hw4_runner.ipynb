{
 "cells": [
  {
   "cell_type": "code",
   "execution_count": 2,
   "id": "ff6ae676-a84d-41b0-b799-7cbe6832fa91",
   "metadata": {},
   "outputs": [
    {
     "name": "stderr",
     "output_type": "stream",
     "text": [
      "/home/qiyue_ren/anaconda3/envs/mfe-preprogram/lib/python3.8/site-packages/papermill/iorw.py:50: FutureWarning: pyarrow.HadoopFileSystem is deprecated as of 2.0.0, please use pyarrow.fs.HadoopFileSystem instead.\n",
      "  from pyarrow import HadoopFileSystem\n"
     ]
    }
   ],
   "source": [
    "import papermill as pm\n",
    "import scrapbook as sb\n",
    "import pandas as pd\n",
    "from datetime import datetime, timedelta\n",
    "import os\n",
    "import sqlite3\n"
   ]
  },
  {
   "cell_type": "code",
   "execution_count": 3,
   "id": "b1168b62-efe2-46fd-901e-a39f989752f2",
   "metadata": {},
   "outputs": [],
   "source": [
    "connection_string = 'sqlite:///data/data.db'\n",
    "events_db = 'crypto_events_database'"
   ]
  },
  {
   "cell_type": "code",
   "execution_count": 4,
   "id": "76e0331e-7150-4324-8d64-551c7494ac50",
   "metadata": {},
   "outputs": [],
   "source": [
    "with sqlite3.connect('data/data.db') as conn:\n",
    "    cur = conn.cursor()\n",
    "    cur.execute(f\"SELECT ts, token FROM ohlc\")\n",
    "    data = cur.fetchall()\n",
    "    data = pd.DataFrame(data, columns = ['ts','token'])\n",
    "    data['ts'] = pd.to_datetime(data['ts'])\n",
    "    \n",
    "    tokens = data.token.unique().tolist()\n",
    "    \n",
    "    for i in range(data.index[-1], 0, -1):\n",
    "        ts = data.ts[i]\n",
    "        if ts.weekday() + 1 == 1:\n",
    "            end_date = ts.date()\n",
    "            start_date = end_date - timedelta(days=7 * 2)\n",
    "            break"
   ]
  },
  {
   "cell_type": "code",
   "execution_count": 5,
   "id": "c1fa5e94-8508-4cd5-96ca-0102e039ba37",
   "metadata": {},
   "outputs": [
    {
     "data": {
      "text/plain": [
       "['BTC',\n",
       " 'ETH',\n",
       " 'USDT',\n",
       " 'SOL',\n",
       " 'ADA',\n",
       " 'DOT',\n",
       " 'AVAX',\n",
       " 'ATOM',\n",
       " 'CRV',\n",
       " 'AAVE',\n",
       " 'COMP']"
      ]
     },
     "execution_count": 5,
     "metadata": {},
     "output_type": "execute_result"
    }
   ],
   "source": [
    "tokens"
   ]
  },
  {
   "cell_type": "code",
   "execution_count": 6,
   "id": "56dac902-63f0-4a65-a782-6465663303fb",
   "metadata": {},
   "outputs": [
    {
     "data": {
      "text/plain": [
       "[Timestamp('2021-11-29 00:00:00')]"
      ]
     },
     "execution_count": 6,
     "metadata": {},
     "output_type": "execute_result"
    }
   ],
   "source": [
    "run_dates = [pd.Timestamp(start_date)]\n",
    "run_dates"
   ]
  },
  {
   "cell_type": "code",
   "execution_count": 7,
   "id": "4d625f2e-df0b-4b9c-a154-5cb6ce08b8fc",
   "metadata": {},
   "outputs": [
    {
     "data": {
      "text/plain": [
       "'outputs'"
      ]
     },
     "execution_count": 7,
     "metadata": {},
     "output_type": "execute_result"
    }
   ],
   "source": [
    "# create a output folder\n",
    "base_output_folder = os.path.expanduser('outputs')\n",
    "\n",
    "if not os.path.exists(base_output_folder):\n",
    "        os.makedirs(base_output_folder)\n",
    "base_output_folder"
   ]
  },
  {
   "cell_type": "code",
   "execution_count": 8,
   "id": "7f1b1078-d29f-4237-8be3-255318f2f760",
   "metadata": {},
   "outputs": [
    {
     "name": "stdout",
     "output_type": "stream",
     "text": [
      "running for BTC for date 2021-11-29 00:00:00 to 2021-12-13 00:00:00\r"
     ]
    },
    {
     "data": {
      "application/vnd.jupyter.widget-view+json": {
       "model_id": "402717a829204fb0bc01b136a9d4151f",
       "version_major": 2,
       "version_minor": 0
      },
      "text/plain": [
       "Executing:   0%|          | 0/19 [00:00<?, ?cell/s]"
      ]
     },
     "metadata": {},
     "output_type": "display_data"
    },
    {
     "name": "stdout",
     "output_type": "stream",
     "text": [
      "running for ETH for date 2021-11-29 00:00:00 to 2021-12-13 00:00:00\r"
     ]
    },
    {
     "data": {
      "application/vnd.jupyter.widget-view+json": {
       "model_id": "943966c3b4f34d2e8b1647060b3e8457",
       "version_major": 2,
       "version_minor": 0
      },
      "text/plain": [
       "Executing:   0%|          | 0/19 [00:00<?, ?cell/s]"
      ]
     },
     "metadata": {},
     "output_type": "display_data"
    },
    {
     "name": "stdout",
     "output_type": "stream",
     "text": [
      "running for USDT for date 2021-11-29 00:00:00 to 2021-12-13 00:00:00\r"
     ]
    },
    {
     "data": {
      "application/vnd.jupyter.widget-view+json": {
       "model_id": "ffa5625ccc91428e8f4b14f694b7a200",
       "version_major": 2,
       "version_minor": 0
      },
      "text/plain": [
       "Executing:   0%|          | 0/19 [00:00<?, ?cell/s]"
      ]
     },
     "metadata": {},
     "output_type": "display_data"
    },
    {
     "name": "stdout",
     "output_type": "stream",
     "text": [
      "running for SOL for date 2021-11-29 00:00:00 to 2021-12-13 00:00:00\r"
     ]
    },
    {
     "data": {
      "application/vnd.jupyter.widget-view+json": {
       "model_id": "8e44ae753fa04da98e9080bc5faa2d96",
       "version_major": 2,
       "version_minor": 0
      },
      "text/plain": [
       "Executing:   0%|          | 0/19 [00:00<?, ?cell/s]"
      ]
     },
     "metadata": {},
     "output_type": "display_data"
    },
    {
     "name": "stdout",
     "output_type": "stream",
     "text": [
      "running for ADA for date 2021-11-29 00:00:00 to 2021-12-13 00:00:00\r"
     ]
    },
    {
     "data": {
      "application/vnd.jupyter.widget-view+json": {
       "model_id": "be6474669b9c4b17b920dbbbcdf43de7",
       "version_major": 2,
       "version_minor": 0
      },
      "text/plain": [
       "Executing:   0%|          | 0/19 [00:00<?, ?cell/s]"
      ]
     },
     "metadata": {},
     "output_type": "display_data"
    },
    {
     "name": "stdout",
     "output_type": "stream",
     "text": [
      "running for DOT for date 2021-11-29 00:00:00 to 2021-12-13 00:00:00\r"
     ]
    },
    {
     "data": {
      "application/vnd.jupyter.widget-view+json": {
       "model_id": "48dc3837ff694fc0b703f16804642839",
       "version_major": 2,
       "version_minor": 0
      },
      "text/plain": [
       "Executing:   0%|          | 0/19 [00:00<?, ?cell/s]"
      ]
     },
     "metadata": {},
     "output_type": "display_data"
    },
    {
     "name": "stdout",
     "output_type": "stream",
     "text": [
      "running for AVAX for date 2021-11-29 00:00:00 to 2021-12-13 00:00:00\r"
     ]
    },
    {
     "data": {
      "application/vnd.jupyter.widget-view+json": {
       "model_id": "79dac0f9643d4de7a11e597ed26a8905",
       "version_major": 2,
       "version_minor": 0
      },
      "text/plain": [
       "Executing:   0%|          | 0/19 [00:00<?, ?cell/s]"
      ]
     },
     "metadata": {},
     "output_type": "display_data"
    },
    {
     "name": "stdout",
     "output_type": "stream",
     "text": [
      "running for ATOM for date 2021-11-29 00:00:00 to 2021-12-13 00:00:00\r"
     ]
    },
    {
     "data": {
      "application/vnd.jupyter.widget-view+json": {
       "model_id": "35ceaeee4f804f7fb7a52a8e103c6141",
       "version_major": 2,
       "version_minor": 0
      },
      "text/plain": [
       "Executing:   0%|          | 0/19 [00:00<?, ?cell/s]"
      ]
     },
     "metadata": {},
     "output_type": "display_data"
    },
    {
     "name": "stdout",
     "output_type": "stream",
     "text": [
      "running for CRV for date 2021-11-29 00:00:00 to 2021-12-13 00:00:00\r"
     ]
    },
    {
     "data": {
      "application/vnd.jupyter.widget-view+json": {
       "model_id": "6403a18ba6bc4f5d8e5ea77ffacf125d",
       "version_major": 2,
       "version_minor": 0
      },
      "text/plain": [
       "Executing:   0%|          | 0/19 [00:00<?, ?cell/s]"
      ]
     },
     "metadata": {},
     "output_type": "display_data"
    },
    {
     "name": "stdout",
     "output_type": "stream",
     "text": [
      "running for AAVE for date 2021-11-29 00:00:00 to 2021-12-13 00:00:00\r"
     ]
    },
    {
     "data": {
      "application/vnd.jupyter.widget-view+json": {
       "model_id": "16cc6639b1974c4d9d527f418933117a",
       "version_major": 2,
       "version_minor": 0
      },
      "text/plain": [
       "Executing:   0%|          | 0/19 [00:00<?, ?cell/s]"
      ]
     },
     "metadata": {},
     "output_type": "display_data"
    },
    {
     "name": "stdout",
     "output_type": "stream",
     "text": [
      "running for COMP for date 2021-11-29 00:00:00 to 2021-12-13 00:00:00\r"
     ]
    },
    {
     "data": {
      "application/vnd.jupyter.widget-view+json": {
       "model_id": "c5087505fb1b4448aceef17cdc6e6ca4",
       "version_major": 2,
       "version_minor": 0
      },
      "text/plain": [
       "Executing:   0%|          | 0/19 [00:00<?, ?cell/s]"
      ]
     },
     "metadata": {},
     "output_type": "display_data"
    }
   ],
   "source": [
    "for run_date in run_dates:\n",
    "    for token in tokens:\n",
    "        print(f'running for {token} for date {run_date} to {run_date + timedelta(days=7*2)}', end='\\r')\n",
    "        res = pm.execute_notebook(\n",
    "            'hw4_template.ipynb',\n",
    "            f'{base_output_folder}/hw4_market_analysis_{token}_{run_date}.ipynb', # outputing\n",
    "            parameters = {\n",
    "                'from_date': f'{run_date}',\n",
    "                'to_date': f'{run_date + timedelta(days=7*2)}',\n",
    "                'token': token,\n",
    "                'connection_string': connection_string,\n",
    "                'events_db': events_db\n",
    "            }\n",
    "        )"
   ]
  },
  {
   "cell_type": "code",
   "execution_count": 9,
   "id": "d56c6934-bebc-441d-9426-53b073daef2d",
   "metadata": {},
   "outputs": [
    {
     "data": {
      "text/html": [
       "<div>\n",
       "<style scoped>\n",
       "    .dataframe tbody tr th:only-of-type {\n",
       "        vertical-align: middle;\n",
       "    }\n",
       "\n",
       "    .dataframe tbody tr th {\n",
       "        vertical-align: top;\n",
       "    }\n",
       "\n",
       "    .dataframe thead th {\n",
       "        text-align: right;\n",
       "    }\n",
       "</style>\n",
       "<table border=\"1\" class=\"dataframe\">\n",
       "  <thead>\n",
       "    <tr style=\"text-align: right;\">\n",
       "      <th></th>\n",
       "      <th>token</th>\n",
       "      <th>from_date</th>\n",
       "      <th>to_date</th>\n",
       "      <th>returns</th>\n",
       "      <th>volatility</th>\n",
       "      <th>maximum drawdown</th>\n",
       "      <th>close price range</th>\n",
       "    </tr>\n",
       "  </thead>\n",
       "  <tbody>\n",
       "    <tr>\n",
       "      <th>0</th>\n",
       "      <td>AAVE</td>\n",
       "      <td>2021-11-29 00:00:00</td>\n",
       "      <td>2021-12-13 00:00:00</td>\n",
       "      <td>-7.697463e-04</td>\n",
       "      <td>0.230765</td>\n",
       "      <td>-0.004353</td>\n",
       "      <td>-58.6450</td>\n",
       "    </tr>\n",
       "    <tr>\n",
       "      <th>1</th>\n",
       "      <td>ADA</td>\n",
       "      <td>2021-11-29 00:00:00</td>\n",
       "      <td>2021-12-13 00:00:00</td>\n",
       "      <td>-4.241618e-04</td>\n",
       "      <td>0.241399</td>\n",
       "      <td>-0.004397</td>\n",
       "      <td>-0.2445</td>\n",
       "    </tr>\n",
       "    <tr>\n",
       "      <th>2</th>\n",
       "      <td>ATOM</td>\n",
       "      <td>2021-11-29 00:00:00</td>\n",
       "      <td>2021-12-13 00:00:00</td>\n",
       "      <td>-1.776982e-04</td>\n",
       "      <td>0.333404</td>\n",
       "      <td>-0.005530</td>\n",
       "      <td>-2.7560</td>\n",
       "    </tr>\n",
       "    <tr>\n",
       "      <th>3</th>\n",
       "      <td>AVAX</td>\n",
       "      <td>2021-11-29 00:00:00</td>\n",
       "      <td>2021-12-13 00:00:00</td>\n",
       "      <td>-5.540979e-04</td>\n",
       "      <td>0.319050</td>\n",
       "      <td>-0.005600</td>\n",
       "      <td>-22.9300</td>\n",
       "    </tr>\n",
       "    <tr>\n",
       "      <th>4</th>\n",
       "      <td>BTC</td>\n",
       "      <td>2021-11-29 00:00:00</td>\n",
       "      <td>2021-12-13 00:00:00</td>\n",
       "      <td>-3.569235e-04</td>\n",
       "      <td>0.166549</td>\n",
       "      <td>-0.003132</td>\n",
       "      <td>-6999.8400</td>\n",
       "    </tr>\n",
       "    <tr>\n",
       "      <th>5</th>\n",
       "      <td>COMP</td>\n",
       "      <td>2021-11-29 00:00:00</td>\n",
       "      <td>2021-12-13 00:00:00</td>\n",
       "      <td>-1.015116e-03</td>\n",
       "      <td>0.242214</td>\n",
       "      <td>-0.003601</td>\n",
       "      <td>-88.2800</td>\n",
       "    </tr>\n",
       "    <tr>\n",
       "      <th>6</th>\n",
       "      <td>CRV</td>\n",
       "      <td>2021-11-29 00:00:00</td>\n",
       "      <td>2021-12-13 00:00:00</td>\n",
       "      <td>-5.385247e-04</td>\n",
       "      <td>0.364842</td>\n",
       "      <td>-0.008219</td>\n",
       "      <td>-1.0362</td>\n",
       "    </tr>\n",
       "    <tr>\n",
       "      <th>7</th>\n",
       "      <td>DOT</td>\n",
       "      <td>2021-11-29 00:00:00</td>\n",
       "      <td>2021-12-13 00:00:00</td>\n",
       "      <td>-4.540131e-04</td>\n",
       "      <td>0.271552</td>\n",
       "      <td>-0.005591</td>\n",
       "      <td>-6.0050</td>\n",
       "    </tr>\n",
       "    <tr>\n",
       "      <th>8</th>\n",
       "      <td>ETH</td>\n",
       "      <td>2021-11-29 00:00:00</td>\n",
       "      <td>2021-12-13 00:00:00</td>\n",
       "      <td>-6.065377e-05</td>\n",
       "      <td>0.192750</td>\n",
       "      <td>-0.004331</td>\n",
       "      <td>-141.7100</td>\n",
       "    </tr>\n",
       "    <tr>\n",
       "      <th>9</th>\n",
       "      <td>SOL</td>\n",
       "      <td>2021-11-29 00:00:00</td>\n",
       "      <td>2021-12-13 00:00:00</td>\n",
       "      <td>-3.446384e-04</td>\n",
       "      <td>0.270302</td>\n",
       "      <td>-0.005606</td>\n",
       "      <td>-26.6870</td>\n",
       "    </tr>\n",
       "    <tr>\n",
       "      <th>10</th>\n",
       "      <td>USDT</td>\n",
       "      <td>2021-11-29 00:00:00</td>\n",
       "      <td>2021-12-13 00:00:00</td>\n",
       "      <td>-2.517623e-07</td>\n",
       "      <td>0.009504</td>\n",
       "      <td>-0.000100</td>\n",
       "      <td>-0.0001</td>\n",
       "    </tr>\n",
       "  </tbody>\n",
       "</table>\n",
       "</div>"
      ],
      "text/plain": [
       "   token            from_date              to_date       returns  volatility  \\\n",
       "0   AAVE  2021-11-29 00:00:00  2021-12-13 00:00:00 -7.697463e-04    0.230765   \n",
       "1    ADA  2021-11-29 00:00:00  2021-12-13 00:00:00 -4.241618e-04    0.241399   \n",
       "2   ATOM  2021-11-29 00:00:00  2021-12-13 00:00:00 -1.776982e-04    0.333404   \n",
       "3   AVAX  2021-11-29 00:00:00  2021-12-13 00:00:00 -5.540979e-04    0.319050   \n",
       "4    BTC  2021-11-29 00:00:00  2021-12-13 00:00:00 -3.569235e-04    0.166549   \n",
       "5   COMP  2021-11-29 00:00:00  2021-12-13 00:00:00 -1.015116e-03    0.242214   \n",
       "6    CRV  2021-11-29 00:00:00  2021-12-13 00:00:00 -5.385247e-04    0.364842   \n",
       "7    DOT  2021-11-29 00:00:00  2021-12-13 00:00:00 -4.540131e-04    0.271552   \n",
       "8    ETH  2021-11-29 00:00:00  2021-12-13 00:00:00 -6.065377e-05    0.192750   \n",
       "9    SOL  2021-11-29 00:00:00  2021-12-13 00:00:00 -3.446384e-04    0.270302   \n",
       "10  USDT  2021-11-29 00:00:00  2021-12-13 00:00:00 -2.517623e-07    0.009504   \n",
       "\n",
       "    maximum drawdown  close price range  \n",
       "0          -0.004353           -58.6450  \n",
       "1          -0.004397            -0.2445  \n",
       "2          -0.005530            -2.7560  \n",
       "3          -0.005600           -22.9300  \n",
       "4          -0.003132         -6999.8400  \n",
       "5          -0.003601           -88.2800  \n",
       "6          -0.008219            -1.0362  \n",
       "7          -0.005591            -6.0050  \n",
       "8          -0.004331          -141.7100  \n",
       "9          -0.005606           -26.6870  \n",
       "10         -0.000100            -0.0001  "
      ]
     },
     "execution_count": 9,
     "metadata": {},
     "output_type": "execute_result"
    }
   ],
   "source": [
    "# a list of notebooks  \n",
    "nbs = sb.read_notebooks('outputs')\n",
    "pd.DataFrame([\n",
    "    pd.Series({\n",
    "        'token': scrap['token'].data,\n",
    "        'from_date': scrap['from_date'].data,\n",
    "        'to_date': scrap['to_date'].data,\n",
    "        'returns': scrap['prices'].data.returns.mean(),\n",
    "        'volatility': scrap['prices'].data.vol.mean(),\n",
    "        'maximum drawdown': scrap['prices'].data.max_drawdown[-1],\n",
    "        'close price range':scrap['prices'].data.close.iloc[-1]-scrap['prices'].data.close.iloc[0] #range of last close price - first close price\n",
    "    }) \n",
    "    for book, scrap in nbs.notebook_scraps.items()\n",
    "])"
   ]
  }
 ],
 "metadata": {
  "kernelspec": {
   "display_name": "Python 3 (ipykernel)",
   "language": "python",
   "name": "python3"
  },
  "language_info": {
   "codemirror_mode": {
    "name": "ipython",
    "version": 3
   },
   "file_extension": ".py",
   "mimetype": "text/x-python",
   "name": "python",
   "nbconvert_exporter": "python",
   "pygments_lexer": "ipython3",
   "version": "3.8.12"
  }
 },
 "nbformat": 4,
 "nbformat_minor": 5
}
