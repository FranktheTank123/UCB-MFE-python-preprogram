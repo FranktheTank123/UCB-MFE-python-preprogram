{
 "cells": [
  {
   "cell_type": "code",
   "execution_count": 1,
   "id": "31f1d8e2",
   "metadata": {},
   "outputs": [
    {
     "name": "stderr",
     "output_type": "stream",
     "text": [
      "/Users/kobe/opt/anaconda3/lib/python3.8/site-packages/papermill/iorw.py:50: FutureWarning: pyarrow.HadoopFileSystem is deprecated as of 2.0.0, please use pyarrow.fs.HadoopFileSystem instead.\n",
      "  from pyarrow import HadoopFileSystem\n"
     ]
    }
   ],
   "source": [
    "import papermill as pm\n",
    "import scrapbook as sb\n",
    "import pandas as pd\n",
    "from datetime import datetime, timedelta\n",
    "import os"
   ]
  },
  {
   "cell_type": "code",
   "execution_count": 2,
   "id": "b47ff002",
   "metadata": {},
   "outputs": [],
   "source": [
    "def last_dow(d: datetime, dow: int) -> datetime:\n",
    "    '''\n",
    "    Gets the date of the last day of week, using datetime convention of Monday is 0 and Sunday is 6\n",
    "    '''\n",
    "    dow_d = d.weekday()\n",
    "    days_delta = (7 - dow) + dow_d if dow_d < dow else dow_d - dow\n",
    "    return d - timedelta(days=days_delta)"
   ]
  },
  {
   "cell_type": "code",
   "execution_count": 3,
   "id": "b20d8107",
   "metadata": {},
   "outputs": [
    {
     "name": "stdout",
     "output_type": "stream",
     "text": [
      "The sql module is not an IPython extension.\n"
     ]
    }
   ],
   "source": [
    "import sqlite3\n",
    "import pandas as pd\n",
    "\n",
    "%load_ext sql\n",
    "conn = sqlite3.connect('data/data.db')\n",
    "cur = conn.cursor()\n",
    "token_list=[]\n",
    "for row in cur.execute(\"SELECT * FROM ohlc \"):\n",
    "    token_list.append(row[7])\n",
    "import numpy as np\n",
    "token = np.unique(np.array(token_list))"
   ]
  },
  {
   "cell_type": "code",
   "execution_count": 4,
   "id": "715ca93d",
   "metadata": {},
   "outputs": [],
   "source": [
    "run_dates = [(last_dow(datetime(2021, 12, 3), 2) + timedelta(days=14 * x)) for x in range(1)]\n",
    "tokens = token\n"
   ]
  },
  {
   "cell_type": "code",
   "execution_count": 6,
   "id": "80be50d7",
   "metadata": {},
   "outputs": [],
   "source": [
    "base_output_folder = os.path.expanduser('outputs')\n",
    "\n",
    "if not os.path.exists(base_output_folder):\n",
    "        os.makedirs(base_output_folder)"
   ]
  },
  {
   "cell_type": "code",
   "execution_count": 7,
   "id": "3a17ec13",
   "metadata": {},
   "outputs": [
    {
     "name": "stdout",
     "output_type": "stream",
     "text": [
      "running for AAVE for date 2021-12-01 00:00:00 to 2021-12-15 00:00:00\r"
     ]
    },
    {
     "data": {
      "application/vnd.jupyter.widget-view+json": {
       "model_id": "d410e9b9456344bbb6bc075ae7ba0a24",
       "version_major": 2,
       "version_minor": 0
      },
      "text/plain": [
       "HBox(children=(HTML(value='Executing'), FloatProgress(value=0.0, max=27.0), HTML(value='')))"
      ]
     },
     "metadata": {},
     "output_type": "display_data"
    },
    {
     "name": "stdout",
     "output_type": "stream",
     "text": [
      "\n",
      "running for ADA for date 2021-12-01 00:00:00 to 2021-12-15 00:00:00\r"
     ]
    },
    {
     "data": {
      "application/vnd.jupyter.widget-view+json": {
       "model_id": "46eabb7914c24a8bb1d4e6a1d8e032c8",
       "version_major": 2,
       "version_minor": 0
      },
      "text/plain": [
       "HBox(children=(HTML(value='Executing'), FloatProgress(value=0.0, max=27.0), HTML(value='')))"
      ]
     },
     "metadata": {},
     "output_type": "display_data"
    },
    {
     "name": "stdout",
     "output_type": "stream",
     "text": [
      "\n",
      "running for ATOM for date 2021-12-01 00:00:00 to 2021-12-15 00:00:00\r"
     ]
    },
    {
     "data": {
      "application/vnd.jupyter.widget-view+json": {
       "model_id": "6a60c1721231427184c0a61d2b881e3f",
       "version_major": 2,
       "version_minor": 0
      },
      "text/plain": [
       "HBox(children=(HTML(value='Executing'), FloatProgress(value=0.0, max=27.0), HTML(value='')))"
      ]
     },
     "metadata": {},
     "output_type": "display_data"
    },
    {
     "name": "stdout",
     "output_type": "stream",
     "text": [
      "\n",
      "running for AVAX for date 2021-12-01 00:00:00 to 2021-12-15 00:00:00\r"
     ]
    },
    {
     "data": {
      "application/vnd.jupyter.widget-view+json": {
       "model_id": "b02ef914e80e4da6a4fe38d18701b6b7",
       "version_major": 2,
       "version_minor": 0
      },
      "text/plain": [
       "HBox(children=(HTML(value='Executing'), FloatProgress(value=0.0, max=27.0), HTML(value='')))"
      ]
     },
     "metadata": {},
     "output_type": "display_data"
    },
    {
     "name": "stdout",
     "output_type": "stream",
     "text": [
      "\n",
      "running for BTC for date 2021-12-01 00:00:00 to 2021-12-15 00:00:00\r"
     ]
    },
    {
     "data": {
      "application/vnd.jupyter.widget-view+json": {
       "model_id": "4e14d3daa66746ebbbb7e4a550e47885",
       "version_major": 2,
       "version_minor": 0
      },
      "text/plain": [
       "HBox(children=(HTML(value='Executing'), FloatProgress(value=0.0, max=27.0), HTML(value='')))"
      ]
     },
     "metadata": {},
     "output_type": "display_data"
    },
    {
     "name": "stdout",
     "output_type": "stream",
     "text": [
      "\n",
      "running for COMP for date 2021-12-01 00:00:00 to 2021-12-15 00:00:00\r"
     ]
    },
    {
     "data": {
      "application/vnd.jupyter.widget-view+json": {
       "model_id": "265c5f3110504de1bb669f16228d4b64",
       "version_major": 2,
       "version_minor": 0
      },
      "text/plain": [
       "HBox(children=(HTML(value='Executing'), FloatProgress(value=0.0, max=27.0), HTML(value='')))"
      ]
     },
     "metadata": {},
     "output_type": "display_data"
    },
    {
     "name": "stdout",
     "output_type": "stream",
     "text": [
      "\n",
      "running for CRV for date 2021-12-01 00:00:00 to 2021-12-15 00:00:00\r"
     ]
    },
    {
     "data": {
      "application/vnd.jupyter.widget-view+json": {
       "model_id": "b09b96a3fe0b4b27a430eb3c67ec25bb",
       "version_major": 2,
       "version_minor": 0
      },
      "text/plain": [
       "HBox(children=(HTML(value='Executing'), FloatProgress(value=0.0, max=27.0), HTML(value='')))"
      ]
     },
     "metadata": {},
     "output_type": "display_data"
    },
    {
     "name": "stdout",
     "output_type": "stream",
     "text": [
      "\n",
      "running for DOT for date 2021-12-01 00:00:00 to 2021-12-15 00:00:00\r"
     ]
    },
    {
     "data": {
      "application/vnd.jupyter.widget-view+json": {
       "model_id": "7dd0b54cfc5a45d1982011cd99ad9187",
       "version_major": 2,
       "version_minor": 0
      },
      "text/plain": [
       "HBox(children=(HTML(value='Executing'), FloatProgress(value=0.0, max=27.0), HTML(value='')))"
      ]
     },
     "metadata": {},
     "output_type": "display_data"
    },
    {
     "name": "stdout",
     "output_type": "stream",
     "text": [
      "\n",
      "running for ETH for date 2021-12-01 00:00:00 to 2021-12-15 00:00:00\r"
     ]
    },
    {
     "data": {
      "application/vnd.jupyter.widget-view+json": {
       "model_id": "9e8c91f24229480793900b084c2482d8",
       "version_major": 2,
       "version_minor": 0
      },
      "text/plain": [
       "HBox(children=(HTML(value='Executing'), FloatProgress(value=0.0, max=27.0), HTML(value='')))"
      ]
     },
     "metadata": {},
     "output_type": "display_data"
    },
    {
     "name": "stdout",
     "output_type": "stream",
     "text": [
      "\n",
      "running for SOL for date 2021-12-01 00:00:00 to 2021-12-15 00:00:00\r"
     ]
    },
    {
     "data": {
      "application/vnd.jupyter.widget-view+json": {
       "model_id": "04c197302e3c43d2895387f0a58677c2",
       "version_major": 2,
       "version_minor": 0
      },
      "text/plain": [
       "HBox(children=(HTML(value='Executing'), FloatProgress(value=0.0, max=27.0), HTML(value='')))"
      ]
     },
     "metadata": {},
     "output_type": "display_data"
    },
    {
     "name": "stdout",
     "output_type": "stream",
     "text": [
      "\n",
      "running for USDT for date 2021-12-01 00:00:00 to 2021-12-15 00:00:00\r"
     ]
    },
    {
     "data": {
      "application/vnd.jupyter.widget-view+json": {
       "model_id": "a785a34cee8747ee901c068909e6acb5",
       "version_major": 2,
       "version_minor": 0
      },
      "text/plain": [
       "HBox(children=(HTML(value='Executing'), FloatProgress(value=0.0, max=27.0), HTML(value='')))"
      ]
     },
     "metadata": {},
     "output_type": "display_data"
    },
    {
     "name": "stdout",
     "output_type": "stream",
     "text": [
      "\n"
     ]
    }
   ],
   "source": [
    "for run_date in run_dates:\n",
    "    for token in tokens:\n",
    "        print(f'running for {token} for date {run_date} to {run_date + timedelta(days=14)}', end='\\r')\n",
    "        res = pm.execute_notebook(\n",
    "            'HW4_template.ipynb',\n",
    "            f'{base_output_folder}/HW4_{token}_{run_date}.ipynb',\n",
    "            parameters = {\n",
    "                'from_date': f'{run_date}',\n",
    "                'to_date': f'{run_date + timedelta(days=14)}',\n",
    "                'token': token,\n",
    "            }\n",
    "        )"
   ]
  },
  {
   "cell_type": "code",
   "execution_count": 8,
   "id": "80883726",
   "metadata": {},
   "outputs": [],
   "source": [
    "nbs = sb.read_notebooks('outputs')"
   ]
  },
  {
   "cell_type": "code",
   "execution_count": 9,
   "id": "d39b0000",
   "metadata": {},
   "outputs": [
    {
     "data": {
      "text/plain": [
       "<scrapbook.models.Scrapbook at 0x7fd8c0790460>"
      ]
     },
     "execution_count": 9,
     "metadata": {},
     "output_type": "execute_result"
    }
   ],
   "source": [
    "nbs"
   ]
  },
  {
   "cell_type": "code",
   "execution_count": 10,
   "id": "4b1e2613",
   "metadata": {},
   "outputs": [
    {
     "ename": "KeyError",
     "evalue": "'token'",
     "output_type": "error",
     "traceback": [
      "\u001b[0;31m---------------------------------------------------------------------------\u001b[0m",
      "\u001b[0;31mKeyError\u001b[0m                                  Traceback (most recent call last)",
      "\u001b[0;32m<ipython-input-10-e2ee8991f873>\u001b[0m in \u001b[0;36m<module>\u001b[0;34m\u001b[0m\n\u001b[0;32m----> 1\u001b[0;31m pd.DataFrame([\n\u001b[0m\u001b[1;32m      2\u001b[0m     pd.Series({\n\u001b[1;32m      3\u001b[0m         \u001b[0;34m'token'\u001b[0m\u001b[0;34m:\u001b[0m \u001b[0mscrap\u001b[0m\u001b[0;34m[\u001b[0m\u001b[0;34m'token'\u001b[0m\u001b[0;34m]\u001b[0m\u001b[0;34m.\u001b[0m\u001b[0mdata\u001b[0m\u001b[0;34m,\u001b[0m\u001b[0;34m\u001b[0m\u001b[0;34m\u001b[0m\u001b[0m\n\u001b[1;32m      4\u001b[0m         \u001b[0;34m'from_date'\u001b[0m\u001b[0;34m:\u001b[0m \u001b[0mscrap\u001b[0m\u001b[0;34m[\u001b[0m\u001b[0;34m'from_date'\u001b[0m\u001b[0;34m]\u001b[0m\u001b[0;34m.\u001b[0m\u001b[0mdata\u001b[0m\u001b[0;34m,\u001b[0m\u001b[0;34m\u001b[0m\u001b[0;34m\u001b[0m\u001b[0m\n\u001b[1;32m      5\u001b[0m         \u001b[0;34m'to_date'\u001b[0m\u001b[0;34m:\u001b[0m \u001b[0mscrap\u001b[0m\u001b[0;34m[\u001b[0m\u001b[0;34m'to_date'\u001b[0m\u001b[0;34m]\u001b[0m\u001b[0;34m.\u001b[0m\u001b[0mdata\u001b[0m\u001b[0;34m,\u001b[0m\u001b[0;34m\u001b[0m\u001b[0;34m\u001b[0m\u001b[0m\n",
      "\u001b[0;32m<ipython-input-10-e2ee8991f873>\u001b[0m in \u001b[0;36m<listcomp>\u001b[0;34m(.0)\u001b[0m\n\u001b[1;32m      1\u001b[0m pd.DataFrame([\n\u001b[1;32m      2\u001b[0m     pd.Series({\n\u001b[0;32m----> 3\u001b[0;31m         \u001b[0;34m'token'\u001b[0m\u001b[0;34m:\u001b[0m \u001b[0mscrap\u001b[0m\u001b[0;34m[\u001b[0m\u001b[0;34m'token'\u001b[0m\u001b[0;34m]\u001b[0m\u001b[0;34m.\u001b[0m\u001b[0mdata\u001b[0m\u001b[0;34m,\u001b[0m\u001b[0;34m\u001b[0m\u001b[0;34m\u001b[0m\u001b[0m\n\u001b[0m\u001b[1;32m      4\u001b[0m         \u001b[0;34m'from_date'\u001b[0m\u001b[0;34m:\u001b[0m \u001b[0mscrap\u001b[0m\u001b[0;34m[\u001b[0m\u001b[0;34m'from_date'\u001b[0m\u001b[0;34m]\u001b[0m\u001b[0;34m.\u001b[0m\u001b[0mdata\u001b[0m\u001b[0;34m,\u001b[0m\u001b[0;34m\u001b[0m\u001b[0;34m\u001b[0m\u001b[0m\n\u001b[1;32m      5\u001b[0m         \u001b[0;34m'to_date'\u001b[0m\u001b[0;34m:\u001b[0m \u001b[0mscrap\u001b[0m\u001b[0;34m[\u001b[0m\u001b[0;34m'to_date'\u001b[0m\u001b[0;34m]\u001b[0m\u001b[0;34m.\u001b[0m\u001b[0mdata\u001b[0m\u001b[0;34m,\u001b[0m\u001b[0;34m\u001b[0m\u001b[0;34m\u001b[0m\u001b[0m\n",
      "\u001b[0;31mKeyError\u001b[0m: 'token'"
     ]
    }
   ],
   "source": [
    "pd.DataFrame([\n",
    "    pd.Series({\n",
    "        'token': scrap['token'].data,\n",
    "        'from_date': scrap['from_date'].data,\n",
    "        'to_date': scrap['to_date'].data,\n",
    "        'hourly_return': scrap['prices'].data.Hourly_return.mean(),\n",
    "        'volatility': scrap['prices'].data.volatility.mean(),\n",
    "    'Max_drawdown': scrap['prices'].data.Max_Drawdown,\n",
    "    }) \n",
    "    for book, scrap in nbs.notebook_scraps.items()\n",
    "])"
   ]
  },
  {
   "cell_type": "code",
   "execution_count": 11,
   "id": "890af166",
   "metadata": {},
   "outputs": [
    {
     "name": "stdout",
     "output_type": "stream",
     "text": [
      "-0.00025224468013094407\n",
      "-0.00025224468013094407\n",
      "-0.00025224468013094407\n",
      "-0.00025224468013094407\n",
      "-0.00025224468013094407\n",
      "-0.00025224468013094407\n",
      "-0.00025224468013094407\n",
      "-0.00025224468013094407\n",
      "-0.00025224468013094407\n",
      "-0.00025224468013094407\n",
      "-0.00025224468013094407\n",
      "-0.00025224468013094407\n",
      "-0.00025224468013094407\n",
      "-0.00025224468013094407\n",
      "-0.00025224468013094407\n",
      "-0.00025224468013094407\n",
      "-0.00025224468013094407\n",
      "-0.00025224468013094407\n",
      "-0.00025224468013094407\n",
      "-0.00025224468013094407\n",
      "-0.00025224468013094407\n",
      "-0.00025224468013094407\n",
      "-0.00025224468013094407\n",
      "-0.00025224468013094407\n",
      "-0.00025224468013094407\n",
      "-0.00025224468013094407\n",
      "-0.00025224468013094407\n",
      "-0.00025224468013094407\n",
      "-0.00025224468013094407\n",
      "-0.00025224468013094407\n",
      "-0.00025224468013094407\n",
      "-0.00025224468013094407\n",
      "-0.00025224468013094407\n"
     ]
    },
    {
     "ename": "KeyError",
     "evalue": "'prices'",
     "output_type": "error",
     "traceback": [
      "\u001b[0;31m---------------------------------------------------------------------------\u001b[0m",
      "\u001b[0;31mKeyError\u001b[0m                                  Traceback (most recent call last)",
      "\u001b[0;32m<ipython-input-11-69999c10c3ea>\u001b[0m in \u001b[0;36m<module>\u001b[0;34m\u001b[0m\n\u001b[1;32m      1\u001b[0m \u001b[0;32mfor\u001b[0m \u001b[0mbook\u001b[0m\u001b[0;34m,\u001b[0m \u001b[0mscrap\u001b[0m \u001b[0;32min\u001b[0m \u001b[0mnbs\u001b[0m\u001b[0;34m.\u001b[0m\u001b[0mnotebook_scraps\u001b[0m\u001b[0;34m.\u001b[0m\u001b[0mitems\u001b[0m\u001b[0;34m(\u001b[0m\u001b[0;34m)\u001b[0m\u001b[0;34m:\u001b[0m\u001b[0;34m\u001b[0m\u001b[0;34m\u001b[0m\u001b[0m\n\u001b[0;32m----> 2\u001b[0;31m     \u001b[0mprint\u001b[0m\u001b[0;34m(\u001b[0m \u001b[0mscrap\u001b[0m\u001b[0;34m[\u001b[0m\u001b[0;34m'prices'\u001b[0m\u001b[0;34m]\u001b[0m\u001b[0;34m.\u001b[0m\u001b[0mdata\u001b[0m\u001b[0;34m.\u001b[0m\u001b[0mHourly_return\u001b[0m\u001b[0;34m.\u001b[0m\u001b[0mmean\u001b[0m\u001b[0;34m(\u001b[0m\u001b[0;34m)\u001b[0m\u001b[0;34m)\u001b[0m\u001b[0;34m\u001b[0m\u001b[0;34m\u001b[0m\u001b[0m\n\u001b[0m",
      "\u001b[0;31mKeyError\u001b[0m: 'prices'"
     ]
    }
   ],
   "source": [
    "for book, scrap in nbs.notebook_scraps.items():\n",
    "    print( scrap['prices'].data.Hourly_return.mean())"
   ]
  },
  {
   "cell_type": "code",
   "execution_count": 13,
   "id": "194055e0",
   "metadata": {},
   "outputs": [
    {
     "name": "stdout",
     "output_type": "stream",
     "text": [
      "0.007818465999302231\n",
      "0.007818465999302231\n",
      "0.007818465999302231\n",
      "0.007818465999302231\n",
      "0.007818465999302231\n",
      "0.007818465999302231\n",
      "0.007818465999302231\n",
      "0.007818465999302231\n",
      "0.007818465999302231\n",
      "0.007818465999302231\n",
      "0.007818465999302231\n",
      "0.007818465999302231\n",
      "0.007818465999302231\n",
      "0.007818465999302231\n",
      "0.007818465999302231\n",
      "0.007818465999302231\n",
      "0.007818465999302231\n",
      "0.007818465999302231\n",
      "0.007818465999302231\n",
      "0.007818465999302231\n",
      "0.007818465999302231\n",
      "0.007818465999302231\n",
      "0.007818465999302231\n",
      "0.007818465999302231\n",
      "0.007818465999302231\n",
      "0.007818465999302231\n",
      "0.007818465999302231\n",
      "0.007818465999302231\n",
      "0.007818465999302231\n",
      "0.007818465999302231\n",
      "0.007818465999302231\n",
      "0.007818465999302231\n",
      "0.007818465999302231\n"
     ]
    },
    {
     "ename": "KeyError",
     "evalue": "'prices'",
     "output_type": "error",
     "traceback": [
      "\u001b[0;31m---------------------------------------------------------------------------\u001b[0m",
      "\u001b[0;31mKeyError\u001b[0m                                  Traceback (most recent call last)",
      "\u001b[0;32m<ipython-input-13-f8a50df65da2>\u001b[0m in \u001b[0;36m<module>\u001b[0;34m\u001b[0m\n\u001b[1;32m      1\u001b[0m \u001b[0;32mfor\u001b[0m \u001b[0mbook\u001b[0m\u001b[0;34m,\u001b[0m \u001b[0mscrap\u001b[0m \u001b[0;32min\u001b[0m \u001b[0mnbs\u001b[0m\u001b[0;34m.\u001b[0m\u001b[0mnotebook_scraps\u001b[0m\u001b[0;34m.\u001b[0m\u001b[0mitems\u001b[0m\u001b[0;34m(\u001b[0m\u001b[0;34m)\u001b[0m\u001b[0;34m:\u001b[0m\u001b[0;34m\u001b[0m\u001b[0;34m\u001b[0m\u001b[0m\n\u001b[0;32m----> 2\u001b[0;31m     \u001b[0mprint\u001b[0m\u001b[0;34m(\u001b[0m\u001b[0mscrap\u001b[0m\u001b[0;34m[\u001b[0m\u001b[0;34m'prices'\u001b[0m\u001b[0;34m]\u001b[0m\u001b[0;34m.\u001b[0m\u001b[0mdata\u001b[0m\u001b[0;34m.\u001b[0m\u001b[0mvolatility\u001b[0m\u001b[0;34m.\u001b[0m\u001b[0mmean\u001b[0m\u001b[0;34m(\u001b[0m\u001b[0;34m)\u001b[0m\u001b[0;34m,\u001b[0m\u001b[0;34m)\u001b[0m\u001b[0;34m\u001b[0m\u001b[0;34m\u001b[0m\u001b[0m\n\u001b[0m",
      "\u001b[0;31mKeyError\u001b[0m: 'prices'"
     ]
    }
   ],
   "source": [
    "for book, scrap in nbs.notebook_scraps.items():\n",
    "    print(scrap['prices'].data.volatility.mean(),)"
   ]
  },
  {
   "cell_type": "code",
   "execution_count": 14,
   "id": "0fa51205",
   "metadata": {},
   "outputs": [
    {
     "name": "stdout",
     "output_type": "stream",
     "text": [
      "ts\n",
      "2021-11-01 00:00:00   -0.006965\n",
      "2021-11-01 01:00:00   -0.008728\n",
      "2021-11-01 02:00:00   -0.007769\n",
      "2021-11-01 03:00:00   -0.022899\n",
      "2021-11-01 04:00:00   -0.014872\n",
      "                         ...   \n",
      "2021-12-14 20:00:00   -0.009301\n",
      "2021-12-14 21:00:00   -0.021596\n",
      "2021-12-14 22:00:00   -0.018771\n",
      "2021-12-14 23:00:00   -0.009789\n",
      "2021-12-15 00:00:00   -0.004839\n",
      "Name: Max_Drawdown, Length: 1057, dtype: float64\n",
      "ts\n",
      "2021-11-01 00:00:00   -0.006965\n",
      "2021-11-01 01:00:00   -0.008728\n",
      "2021-11-01 02:00:00   -0.007769\n",
      "2021-11-01 03:00:00   -0.022899\n",
      "2021-11-01 04:00:00   -0.014872\n",
      "                         ...   \n",
      "2021-12-14 20:00:00   -0.009301\n",
      "2021-12-14 21:00:00   -0.021596\n",
      "2021-12-14 22:00:00   -0.018771\n",
      "2021-12-14 23:00:00   -0.009789\n",
      "2021-12-15 00:00:00   -0.004839\n",
      "Name: Max_Drawdown, Length: 1057, dtype: float64\n",
      "ts\n",
      "2021-11-01 00:00:00   -0.006965\n",
      "2021-11-01 01:00:00   -0.008728\n",
      "2021-11-01 02:00:00   -0.007769\n",
      "2021-11-01 03:00:00   -0.022899\n",
      "2021-11-01 04:00:00   -0.014872\n",
      "                         ...   \n",
      "2021-12-14 20:00:00   -0.009301\n",
      "2021-12-14 21:00:00   -0.021596\n",
      "2021-12-14 22:00:00   -0.018771\n",
      "2021-12-14 23:00:00   -0.009789\n",
      "2021-12-15 00:00:00   -0.004839\n",
      "Name: Max_Drawdown, Length: 1057, dtype: float64\n",
      "ts\n",
      "2021-11-01 00:00:00   -0.006965\n",
      "2021-11-01 01:00:00   -0.008728\n",
      "2021-11-01 02:00:00   -0.007769\n",
      "2021-11-01 03:00:00   -0.022899\n",
      "2021-11-01 04:00:00   -0.014872\n",
      "                         ...   \n",
      "2021-12-14 20:00:00   -0.009301\n",
      "2021-12-14 21:00:00   -0.021596\n",
      "2021-12-14 22:00:00   -0.018771\n",
      "2021-12-14 23:00:00   -0.009789\n",
      "2021-12-15 00:00:00   -0.004839\n",
      "Name: Max_Drawdown, Length: 1057, dtype: float64\n",
      "ts\n",
      "2021-11-01 00:00:00   -0.006965\n",
      "2021-11-01 01:00:00   -0.008728\n",
      "2021-11-01 02:00:00   -0.007769\n",
      "2021-11-01 03:00:00   -0.022899\n",
      "2021-11-01 04:00:00   -0.014872\n",
      "                         ...   \n",
      "2021-12-14 20:00:00   -0.009301\n",
      "2021-12-14 21:00:00   -0.021596\n",
      "2021-12-14 22:00:00   -0.018771\n",
      "2021-12-14 23:00:00   -0.009789\n",
      "2021-12-15 00:00:00   -0.004839\n",
      "Name: Max_Drawdown, Length: 1057, dtype: float64\n",
      "ts\n",
      "2021-11-01 00:00:00   -0.006965\n",
      "2021-11-01 01:00:00   -0.008728\n",
      "2021-11-01 02:00:00   -0.007769\n",
      "2021-11-01 03:00:00   -0.022899\n",
      "2021-11-01 04:00:00   -0.014872\n",
      "                         ...   \n",
      "2021-12-14 20:00:00   -0.009301\n",
      "2021-12-14 21:00:00   -0.021596\n",
      "2021-12-14 22:00:00   -0.018771\n",
      "2021-12-14 23:00:00   -0.009789\n",
      "2021-12-15 00:00:00   -0.004839\n",
      "Name: Max_Drawdown, Length: 1057, dtype: float64\n",
      "ts\n",
      "2021-11-01 00:00:00   -0.006965\n",
      "2021-11-01 01:00:00   -0.008728\n",
      "2021-11-01 02:00:00   -0.007769\n",
      "2021-11-01 03:00:00   -0.022899\n",
      "2021-11-01 04:00:00   -0.014872\n",
      "                         ...   \n",
      "2021-12-14 20:00:00   -0.009301\n",
      "2021-12-14 21:00:00   -0.021596\n",
      "2021-12-14 22:00:00   -0.018771\n",
      "2021-12-14 23:00:00   -0.009789\n",
      "2021-12-15 00:00:00   -0.004839\n",
      "Name: Max_Drawdown, Length: 1057, dtype: float64\n",
      "ts\n",
      "2021-11-01 00:00:00   -0.006965\n",
      "2021-11-01 01:00:00   -0.008728\n",
      "2021-11-01 02:00:00   -0.007769\n",
      "2021-11-01 03:00:00   -0.022899\n",
      "2021-11-01 04:00:00   -0.014872\n",
      "                         ...   \n",
      "2021-12-14 20:00:00   -0.009301\n",
      "2021-12-14 21:00:00   -0.021596\n",
      "2021-12-14 22:00:00   -0.018771\n",
      "2021-12-14 23:00:00   -0.009789\n",
      "2021-12-15 00:00:00   -0.004839\n",
      "Name: Max_Drawdown, Length: 1057, dtype: float64\n",
      "ts\n",
      "2021-11-01 00:00:00   -0.006965\n",
      "2021-11-01 01:00:00   -0.008728\n",
      "2021-11-01 02:00:00   -0.007769\n",
      "2021-11-01 03:00:00   -0.022899\n",
      "2021-11-01 04:00:00   -0.014872\n",
      "                         ...   \n",
      "2021-12-14 20:00:00   -0.009301\n",
      "2021-12-14 21:00:00   -0.021596\n",
      "2021-12-14 22:00:00   -0.018771\n",
      "2021-12-14 23:00:00   -0.009789\n",
      "2021-12-15 00:00:00   -0.004839\n",
      "Name: Max_Drawdown, Length: 1057, dtype: float64\n",
      "ts\n",
      "2021-11-01 00:00:00   -0.006965\n",
      "2021-11-01 01:00:00   -0.008728\n",
      "2021-11-01 02:00:00   -0.007769\n",
      "2021-11-01 03:00:00   -0.022899\n",
      "2021-11-01 04:00:00   -0.014872\n",
      "                         ...   \n",
      "2021-12-14 20:00:00   -0.009301\n",
      "2021-12-14 21:00:00   -0.021596\n",
      "2021-12-14 22:00:00   -0.018771\n",
      "2021-12-14 23:00:00   -0.009789\n",
      "2021-12-15 00:00:00   -0.004839\n",
      "Name: Max_Drawdown, Length: 1057, dtype: float64\n",
      "ts\n",
      "2021-11-01 00:00:00   -0.006965\n",
      "2021-11-01 01:00:00   -0.008728\n",
      "2021-11-01 02:00:00   -0.007769\n",
      "2021-11-01 03:00:00   -0.022899\n",
      "2021-11-01 04:00:00   -0.014872\n",
      "                         ...   \n",
      "2021-12-14 20:00:00   -0.009301\n",
      "2021-12-14 21:00:00   -0.021596\n",
      "2021-12-14 22:00:00   -0.018771\n",
      "2021-12-14 23:00:00   -0.009789\n",
      "2021-12-15 00:00:00   -0.004839\n",
      "Name: Max_Drawdown, Length: 1057, dtype: float64\n",
      "ts\n",
      "2021-11-01 00:00:00   -0.006965\n",
      "2021-11-01 01:00:00   -0.008728\n",
      "2021-11-01 02:00:00   -0.007769\n",
      "2021-11-01 03:00:00   -0.022899\n",
      "2021-11-01 04:00:00   -0.014872\n",
      "                         ...   \n",
      "2021-12-14 20:00:00   -0.009301\n",
      "2021-12-14 21:00:00   -0.021596\n",
      "2021-12-14 22:00:00   -0.018771\n",
      "2021-12-14 23:00:00   -0.009789\n",
      "2021-12-15 00:00:00   -0.004839\n",
      "Name: Max_Drawdown, Length: 1057, dtype: float64\n",
      "ts\n",
      "2021-11-01 00:00:00   -0.006965\n",
      "2021-11-01 01:00:00   -0.008728\n",
      "2021-11-01 02:00:00   -0.007769\n",
      "2021-11-01 03:00:00   -0.022899\n",
      "2021-11-01 04:00:00   -0.014872\n",
      "                         ...   \n",
      "2021-12-14 20:00:00   -0.009301\n",
      "2021-12-14 21:00:00   -0.021596\n",
      "2021-12-14 22:00:00   -0.018771\n",
      "2021-12-14 23:00:00   -0.009789\n",
      "2021-12-15 00:00:00   -0.004839\n",
      "Name: Max_Drawdown, Length: 1057, dtype: float64\n",
      "ts\n",
      "2021-11-01 00:00:00   -0.006965\n",
      "2021-11-01 01:00:00   -0.008728\n",
      "2021-11-01 02:00:00   -0.007769\n",
      "2021-11-01 03:00:00   -0.022899\n",
      "2021-11-01 04:00:00   -0.014872\n",
      "                         ...   \n",
      "2021-12-14 20:00:00   -0.009301\n",
      "2021-12-14 21:00:00   -0.021596\n",
      "2021-12-14 22:00:00   -0.018771\n",
      "2021-12-14 23:00:00   -0.009789\n",
      "2021-12-15 00:00:00   -0.004839\n",
      "Name: Max_Drawdown, Length: 1057, dtype: float64\n",
      "ts\n",
      "2021-11-01 00:00:00   -0.006965\n",
      "2021-11-01 01:00:00   -0.008728\n",
      "2021-11-01 02:00:00   -0.007769\n",
      "2021-11-01 03:00:00   -0.022899\n",
      "2021-11-01 04:00:00   -0.014872\n",
      "                         ...   \n",
      "2021-12-14 20:00:00   -0.009301\n",
      "2021-12-14 21:00:00   -0.021596\n",
      "2021-12-14 22:00:00   -0.018771\n",
      "2021-12-14 23:00:00   -0.009789\n",
      "2021-12-15 00:00:00   -0.004839\n",
      "Name: Max_Drawdown, Length: 1057, dtype: float64\n",
      "ts\n",
      "2021-11-01 00:00:00   -0.006965\n",
      "2021-11-01 01:00:00   -0.008728\n",
      "2021-11-01 02:00:00   -0.007769\n",
      "2021-11-01 03:00:00   -0.022899\n",
      "2021-11-01 04:00:00   -0.014872\n",
      "                         ...   \n",
      "2021-12-14 20:00:00   -0.009301\n",
      "2021-12-14 21:00:00   -0.021596\n",
      "2021-12-14 22:00:00   -0.018771\n",
      "2021-12-14 23:00:00   -0.009789\n",
      "2021-12-15 00:00:00   -0.004839\n",
      "Name: Max_Drawdown, Length: 1057, dtype: float64\n",
      "ts\n",
      "2021-11-01 00:00:00   -0.006965\n",
      "2021-11-01 01:00:00   -0.008728\n",
      "2021-11-01 02:00:00   -0.007769\n",
      "2021-11-01 03:00:00   -0.022899\n",
      "2021-11-01 04:00:00   -0.014872\n",
      "                         ...   \n",
      "2021-12-14 20:00:00   -0.009301\n",
      "2021-12-14 21:00:00   -0.021596\n",
      "2021-12-14 22:00:00   -0.018771\n",
      "2021-12-14 23:00:00   -0.009789\n",
      "2021-12-15 00:00:00   -0.004839\n",
      "Name: Max_Drawdown, Length: 1057, dtype: float64\n",
      "ts\n",
      "2021-11-01 00:00:00   -0.006965\n",
      "2021-11-01 01:00:00   -0.008728\n",
      "2021-11-01 02:00:00   -0.007769\n",
      "2021-11-01 03:00:00   -0.022899\n",
      "2021-11-01 04:00:00   -0.014872\n",
      "                         ...   \n",
      "2021-12-14 20:00:00   -0.009301\n",
      "2021-12-14 21:00:00   -0.021596\n",
      "2021-12-14 22:00:00   -0.018771\n",
      "2021-12-14 23:00:00   -0.009789\n",
      "2021-12-15 00:00:00   -0.004839\n",
      "Name: Max_Drawdown, Length: 1057, dtype: float64\n",
      "ts\n",
      "2021-11-01 00:00:00   -0.006965\n",
      "2021-11-01 01:00:00   -0.008728\n",
      "2021-11-01 02:00:00   -0.007769\n",
      "2021-11-01 03:00:00   -0.022899\n",
      "2021-11-01 04:00:00   -0.014872\n",
      "                         ...   \n",
      "2021-12-14 20:00:00   -0.009301\n",
      "2021-12-14 21:00:00   -0.021596\n",
      "2021-12-14 22:00:00   -0.018771\n",
      "2021-12-14 23:00:00   -0.009789\n",
      "2021-12-15 00:00:00   -0.004839\n",
      "Name: Max_Drawdown, Length: 1057, dtype: float64\n",
      "ts\n",
      "2021-11-01 00:00:00   -0.006965\n",
      "2021-11-01 01:00:00   -0.008728\n",
      "2021-11-01 02:00:00   -0.007769\n",
      "2021-11-01 03:00:00   -0.022899\n",
      "2021-11-01 04:00:00   -0.014872\n",
      "                         ...   \n",
      "2021-12-14 20:00:00   -0.009301\n",
      "2021-12-14 21:00:00   -0.021596\n",
      "2021-12-14 22:00:00   -0.018771\n",
      "2021-12-14 23:00:00   -0.009789\n",
      "2021-12-15 00:00:00   -0.004839\n",
      "Name: Max_Drawdown, Length: 1057, dtype: float64\n",
      "ts\n",
      "2021-11-01 00:00:00   -0.006965\n",
      "2021-11-01 01:00:00   -0.008728\n",
      "2021-11-01 02:00:00   -0.007769\n",
      "2021-11-01 03:00:00   -0.022899\n",
      "2021-11-01 04:00:00   -0.014872\n",
      "                         ...   \n",
      "2021-12-14 20:00:00   -0.009301\n",
      "2021-12-14 21:00:00   -0.021596\n",
      "2021-12-14 22:00:00   -0.018771\n",
      "2021-12-14 23:00:00   -0.009789\n",
      "2021-12-15 00:00:00   -0.004839\n",
      "Name: Max_Drawdown, Length: 1057, dtype: float64\n",
      "ts\n",
      "2021-11-01 00:00:00   -0.006965\n",
      "2021-11-01 01:00:00   -0.008728\n",
      "2021-11-01 02:00:00   -0.007769\n",
      "2021-11-01 03:00:00   -0.022899\n",
      "2021-11-01 04:00:00   -0.014872\n",
      "                         ...   \n",
      "2021-12-14 20:00:00   -0.009301\n",
      "2021-12-14 21:00:00   -0.021596\n",
      "2021-12-14 22:00:00   -0.018771\n",
      "2021-12-14 23:00:00   -0.009789\n",
      "2021-12-15 00:00:00   -0.004839\n",
      "Name: Max_Drawdown, Length: 1057, dtype: float64\n",
      "ts\n",
      "2021-11-01 00:00:00   -0.006965\n",
      "2021-11-01 01:00:00   -0.008728\n",
      "2021-11-01 02:00:00   -0.007769\n",
      "2021-11-01 03:00:00   -0.022899\n",
      "2021-11-01 04:00:00   -0.014872\n",
      "                         ...   \n",
      "2021-12-14 20:00:00   -0.009301\n",
      "2021-12-14 21:00:00   -0.021596\n",
      "2021-12-14 22:00:00   -0.018771\n",
      "2021-12-14 23:00:00   -0.009789\n",
      "2021-12-15 00:00:00   -0.004839\n",
      "Name: Max_Drawdown, Length: 1057, dtype: float64\n",
      "ts\n",
      "2021-11-01 00:00:00   -0.006965\n",
      "2021-11-01 01:00:00   -0.008728\n",
      "2021-11-01 02:00:00   -0.007769\n",
      "2021-11-01 03:00:00   -0.022899\n",
      "2021-11-01 04:00:00   -0.014872\n",
      "                         ...   \n",
      "2021-12-14 20:00:00   -0.009301\n",
      "2021-12-14 21:00:00   -0.021596\n",
      "2021-12-14 22:00:00   -0.018771\n",
      "2021-12-14 23:00:00   -0.009789\n",
      "2021-12-15 00:00:00   -0.004839\n",
      "Name: Max_Drawdown, Length: 1057, dtype: float64\n",
      "ts\n",
      "2021-11-01 00:00:00   -0.006965\n",
      "2021-11-01 01:00:00   -0.008728\n",
      "2021-11-01 02:00:00   -0.007769\n",
      "2021-11-01 03:00:00   -0.022899\n",
      "2021-11-01 04:00:00   -0.014872\n",
      "                         ...   \n",
      "2021-12-14 20:00:00   -0.009301\n",
      "2021-12-14 21:00:00   -0.021596\n",
      "2021-12-14 22:00:00   -0.018771\n",
      "2021-12-14 23:00:00   -0.009789\n",
      "2021-12-15 00:00:00   -0.004839\n",
      "Name: Max_Drawdown, Length: 1057, dtype: float64\n",
      "ts\n",
      "2021-11-01 00:00:00   -0.006965\n",
      "2021-11-01 01:00:00   -0.008728\n",
      "2021-11-01 02:00:00   -0.007769\n",
      "2021-11-01 03:00:00   -0.022899\n",
      "2021-11-01 04:00:00   -0.014872\n",
      "                         ...   \n",
      "2021-12-14 20:00:00   -0.009301\n",
      "2021-12-14 21:00:00   -0.021596\n",
      "2021-12-14 22:00:00   -0.018771\n",
      "2021-12-14 23:00:00   -0.009789\n",
      "2021-12-15 00:00:00   -0.004839\n",
      "Name: Max_Drawdown, Length: 1057, dtype: float64\n",
      "ts\n",
      "2021-11-01 00:00:00   -0.006965\n",
      "2021-11-01 01:00:00   -0.008728\n",
      "2021-11-01 02:00:00   -0.007769\n",
      "2021-11-01 03:00:00   -0.022899\n",
      "2021-11-01 04:00:00   -0.014872\n",
      "                         ...   \n",
      "2021-12-14 20:00:00   -0.009301\n",
      "2021-12-14 21:00:00   -0.021596\n",
      "2021-12-14 22:00:00   -0.018771\n",
      "2021-12-14 23:00:00   -0.009789\n",
      "2021-12-15 00:00:00   -0.004839\n",
      "Name: Max_Drawdown, Length: 1057, dtype: float64\n",
      "ts\n",
      "2021-11-01 00:00:00   -0.006965\n",
      "2021-11-01 01:00:00   -0.008728\n",
      "2021-11-01 02:00:00   -0.007769\n",
      "2021-11-01 03:00:00   -0.022899\n",
      "2021-11-01 04:00:00   -0.014872\n",
      "                         ...   \n",
      "2021-12-14 20:00:00   -0.009301\n",
      "2021-12-14 21:00:00   -0.021596\n",
      "2021-12-14 22:00:00   -0.018771\n",
      "2021-12-14 23:00:00   -0.009789\n",
      "2021-12-15 00:00:00   -0.004839\n",
      "Name: Max_Drawdown, Length: 1057, dtype: float64\n",
      "ts\n",
      "2021-11-01 00:00:00   -0.006965\n",
      "2021-11-01 01:00:00   -0.008728\n",
      "2021-11-01 02:00:00   -0.007769\n",
      "2021-11-01 03:00:00   -0.022899\n",
      "2021-11-01 04:00:00   -0.014872\n",
      "                         ...   \n",
      "2021-12-14 20:00:00   -0.009301\n",
      "2021-12-14 21:00:00   -0.021596\n",
      "2021-12-14 22:00:00   -0.018771\n",
      "2021-12-14 23:00:00   -0.009789\n",
      "2021-12-15 00:00:00   -0.004839\n",
      "Name: Max_Drawdown, Length: 1057, dtype: float64\n",
      "ts\n",
      "2021-11-01 00:00:00   -0.006965\n",
      "2021-11-01 01:00:00   -0.008728\n",
      "2021-11-01 02:00:00   -0.007769\n",
      "2021-11-01 03:00:00   -0.022899\n",
      "2021-11-01 04:00:00   -0.014872\n",
      "                         ...   \n",
      "2021-12-14 20:00:00   -0.009301\n",
      "2021-12-14 21:00:00   -0.021596\n",
      "2021-12-14 22:00:00   -0.018771\n",
      "2021-12-14 23:00:00   -0.009789\n",
      "2021-12-15 00:00:00   -0.004839\n",
      "Name: Max_Drawdown, Length: 1057, dtype: float64\n",
      "ts\n",
      "2021-11-01 00:00:00   -0.006965\n",
      "2021-11-01 01:00:00   -0.008728\n",
      "2021-11-01 02:00:00   -0.007769\n",
      "2021-11-01 03:00:00   -0.022899\n",
      "2021-11-01 04:00:00   -0.014872\n",
      "                         ...   \n",
      "2021-12-14 20:00:00   -0.009301\n",
      "2021-12-14 21:00:00   -0.021596\n",
      "2021-12-14 22:00:00   -0.018771\n",
      "2021-12-14 23:00:00   -0.009789\n",
      "2021-12-15 00:00:00   -0.004839\n",
      "Name: Max_Drawdown, Length: 1057, dtype: float64\n",
      "ts\n",
      "2021-11-01 00:00:00   -0.006965\n",
      "2021-11-01 01:00:00   -0.008728\n",
      "2021-11-01 02:00:00   -0.007769\n",
      "2021-11-01 03:00:00   -0.022899\n",
      "2021-11-01 04:00:00   -0.014872\n",
      "                         ...   \n",
      "2021-12-14 20:00:00   -0.009301\n",
      "2021-12-14 21:00:00   -0.021596\n",
      "2021-12-14 22:00:00   -0.018771\n",
      "2021-12-14 23:00:00   -0.009789\n",
      "2021-12-15 00:00:00   -0.004839\n",
      "Name: Max_Drawdown, Length: 1057, dtype: float64\n",
      "ts\n",
      "2021-11-01 00:00:00   -0.006965\n",
      "2021-11-01 01:00:00   -0.008728\n",
      "2021-11-01 02:00:00   -0.007769\n",
      "2021-11-01 03:00:00   -0.022899\n",
      "2021-11-01 04:00:00   -0.014872\n",
      "                         ...   \n",
      "2021-12-14 20:00:00   -0.009301\n",
      "2021-12-14 21:00:00   -0.021596\n",
      "2021-12-14 22:00:00   -0.018771\n",
      "2021-12-14 23:00:00   -0.009789\n",
      "2021-12-15 00:00:00   -0.004839\n",
      "Name: Max_Drawdown, Length: 1057, dtype: float64\n"
     ]
    },
    {
     "ename": "KeyError",
     "evalue": "'prices'",
     "output_type": "error",
     "traceback": [
      "\u001b[0;31m---------------------------------------------------------------------------\u001b[0m",
      "\u001b[0;31mKeyError\u001b[0m                                  Traceback (most recent call last)",
      "\u001b[0;32m<ipython-input-14-b0b65b17fb4e>\u001b[0m in \u001b[0;36m<module>\u001b[0;34m\u001b[0m\n\u001b[1;32m      1\u001b[0m \u001b[0;32mfor\u001b[0m \u001b[0mbook\u001b[0m\u001b[0;34m,\u001b[0m \u001b[0mscrap\u001b[0m \u001b[0;32min\u001b[0m \u001b[0mnbs\u001b[0m\u001b[0;34m.\u001b[0m\u001b[0mnotebook_scraps\u001b[0m\u001b[0;34m.\u001b[0m\u001b[0mitems\u001b[0m\u001b[0;34m(\u001b[0m\u001b[0;34m)\u001b[0m\u001b[0;34m:\u001b[0m\u001b[0;34m\u001b[0m\u001b[0;34m\u001b[0m\u001b[0m\n\u001b[0;32m----> 2\u001b[0;31m     \u001b[0mprint\u001b[0m\u001b[0;34m(\u001b[0m \u001b[0mscrap\u001b[0m\u001b[0;34m[\u001b[0m\u001b[0;34m'prices'\u001b[0m\u001b[0;34m]\u001b[0m\u001b[0;34m.\u001b[0m\u001b[0mdata\u001b[0m\u001b[0;34m.\u001b[0m\u001b[0mMax_Drawdown\u001b[0m\u001b[0;34m)\u001b[0m\u001b[0;34m\u001b[0m\u001b[0;34m\u001b[0m\u001b[0m\n\u001b[0m",
      "\u001b[0;31mKeyError\u001b[0m: 'prices'"
     ]
    }
   ],
   "source": [
    "for book, scrap in nbs.notebook_scraps.items():\n",
    "    print( scrap['prices'].data.Max_Drawdown)"
   ]
  },
  {
   "cell_type": "code",
   "execution_count": null,
   "id": "68725e1c",
   "metadata": {},
   "outputs": [],
   "source": []
  }
 ],
 "metadata": {
  "kernelspec": {
   "display_name": "Python 3",
   "language": "python",
   "name": "python3"
  },
  "language_info": {
   "codemirror_mode": {
    "name": "ipython",
    "version": 3
   },
   "file_extension": ".py",
   "mimetype": "text/x-python",
   "name": "python",
   "nbconvert_exporter": "python",
   "pygments_lexer": "ipython3",
   "version": "3.8.5"
  }
 },
 "nbformat": 4,
 "nbformat_minor": 5
}
