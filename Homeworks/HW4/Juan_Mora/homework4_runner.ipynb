{
 "cells": [
  {
   "cell_type": "code",
   "execution_count": 1,
   "id": "2a1ac9d2-caa6-440d-a994-5354739841e1",
   "metadata": {},
   "outputs": [
    {
     "name": "stderr",
     "output_type": "stream",
     "text": [
      "C:\\Users\\Tonijua\\anaconda3\\envs\\mfe-preprogram\\lib\\site-packages\\papermill\\iorw.py:50: FutureWarning: pyarrow.HadoopFileSystem is deprecated as of 2.0.0, please use pyarrow.fs.HadoopFileSystem instead.\n",
      "  from pyarrow import HadoopFileSystem\n"
     ]
    }
   ],
   "source": [
    "import papermill as pm\n",
    "import scrapbook as sb\n",
    "import pandas as pd\n",
    "from datetime import datetime, timedelta\n",
    "import os"
   ]
  },
  {
   "cell_type": "code",
   "execution_count": 2,
   "id": "c03ed46f-4d46-4697-aaf4-c95bbab917c1",
   "metadata": {},
   "outputs": [
    {
     "data": {
      "text/plain": [
       "DatetimeIndex(['2021-11-01 00:00:00', '2021-11-01 01:00:00',\n",
       "               '2021-11-01 02:00:00', '2021-11-01 03:00:00',\n",
       "               '2021-11-01 04:00:00', '2021-11-01 05:00:00',\n",
       "               '2021-11-01 06:00:00', '2021-11-01 07:00:00',\n",
       "               '2021-11-01 08:00:00', '2021-11-01 09:00:00',\n",
       "               ...\n",
       "               '2021-12-14 15:00:00', '2021-12-14 16:00:00',\n",
       "               '2021-12-14 17:00:00', '2021-12-14 18:00:00',\n",
       "               '2021-12-14 19:00:00', '2021-12-14 20:00:00',\n",
       "               '2021-12-14 21:00:00', '2021-12-14 22:00:00',\n",
       "               '2021-12-14 23:00:00', '2021-12-15 00:00:00'],\n",
       "              dtype='datetime64[ns]', name='ts', length=11627, freq=None)"
      ]
     },
     "execution_count": 2,
     "metadata": {},
     "output_type": "execute_result"
    }
   ],
   "source": [
    "# Connect to database to find last 2 complete weeks\n",
    "connection_string = 'sqlite:///D://UCB//Pre-MFE 2022//Python//UCB-MFE-python-preprogram//Lectures//Lecture 4//data//data.db'\n",
    "prices = pd.read_sql(f'''\n",
    "SELECT \n",
    "    * \n",
    "FROM ohlc \n",
    "''', connection_string)\n",
    "\n",
    "prices['ts'] = pd.to_datetime(prices['ts'])\n",
    "prices.set_index('ts', inplace=True)\n",
    "prices.index"
   ]
  },
  {
   "cell_type": "markdown",
   "id": "8638b03f-cc65-409b-8998-bd27fe7d7d21",
   "metadata": {},
   "source": [
    "We see the last date is 2021-12-14, so we run our template for the last 2 complete weeks previous to that point"
   ]
  },
  {
   "cell_type": "code",
   "execution_count": 3,
   "id": "a5a797c4-ff16-4f96-a8dd-ceaacb6d571c",
   "metadata": {},
   "outputs": [],
   "source": [
    "def last_dow(d: datetime, dow: int) -> datetime:\n",
    "    '''\n",
    "    Gets the date of the last day of week, using datetime convention of Monday is 0 and Sunday is 6\n",
    "    '''\n",
    "    dow_d = d.weekday()\n",
    "    days_delta = (7 - dow) + dow_d if dow_d < dow else dow_d - dow\n",
    "    return d - timedelta(days=days_delta)"
   ]
  },
  {
   "cell_type": "code",
   "execution_count": 5,
   "id": "990cef9b-e25c-4000-8361-d962e776f933",
   "metadata": {},
   "outputs": [
    {
     "name": "stdout",
     "output_type": "stream",
     "text": [
      "2021-11-29 00:00:00\n",
      "2021-12-11 00:00:00\n"
     ]
    }
   ],
   "source": [
    "begin_date = (last_dow(datetime(2021, 12, 14), 4) - timedelta(days=11))\n",
    "end_date = last_dow(datetime(2021, 12, 14), 4) + timedelta(days=1)\n",
    "print(begin_date)\n",
    "print(end_date)"
   ]
  },
  {
   "cell_type": "code",
   "execution_count": 6,
   "id": "b277acc0-4b38-4893-8545-6c8af95e9ab4",
   "metadata": {},
   "outputs": [
    {
     "data": {
      "text/plain": [
       "array(['BTC', 'ETH', 'USDT', 'SOL', 'ADA', 'DOT', 'AVAX', 'ATOM', 'CRV',\n",
       "       'AAVE', 'COMP'], dtype=object)"
      ]
     },
     "execution_count": 6,
     "metadata": {},
     "output_type": "execute_result"
    }
   ],
   "source": [
    "# We get all the tokens in database\n",
    "tokens = prices.token.unique()\n",
    "tokens"
   ]
  },
  {
   "cell_type": "code",
   "execution_count": 7,
   "id": "a62072c6-50f4-4e99-a071-5f1790eecbd6",
   "metadata": {},
   "outputs": [
    {
     "name": "stdout",
     "output_type": "stream",
     "text": [
      "BTC 2021-12-15 00:00:00\n",
      "ETH 2021-12-15 00:00:00\n",
      "USDT 2021-12-15 00:00:00\n",
      "SOL 2021-12-15 00:00:00\n",
      "ADA 2021-12-15 00:00:00\n",
      "DOT 2021-12-15 00:00:00\n",
      "AVAX 2021-12-15 00:00:00\n",
      "ATOM 2021-12-15 00:00:00\n",
      "CRV 2021-12-15 00:00:00\n",
      "AAVE 2021-12-15 00:00:00\n",
      "COMP 2021-12-15 00:00:00\n"
     ]
    }
   ],
   "source": [
    "# check the last date is the same for all tokens\n",
    "for token in tokens:\n",
    "    print(token, prices[prices.token == token].index[-1])"
   ]
  },
  {
   "cell_type": "code",
   "execution_count": 8,
   "id": "2f304d04-7d44-4cea-bc17-b4ae72a210ec",
   "metadata": {},
   "outputs": [],
   "source": [
    "# create output folder\n",
    "base_output_folder = os.path.expanduser('outputs')\n",
    "\n",
    "if not os.path.exists(base_output_folder):\n",
    "        os.makedirs(base_output_folder)"
   ]
  },
  {
   "cell_type": "code",
   "execution_count": 9,
   "id": "f9324120-ad45-4244-a889-290bb4ac957e",
   "metadata": {},
   "outputs": [
    {
     "name": "stdout",
     "output_type": "stream",
     "text": [
      "running for BTC for date 2021-11-29 00:00:00 to 2021-12-11 00:00:00\r"
     ]
    },
    {
     "data": {
      "application/vnd.jupyter.widget-view+json": {
       "model_id": "ab7551d763144da4a8ef572804e027be",
       "version_major": 2,
       "version_minor": 0
      },
      "text/plain": [
       "Executing:   0%|          | 0/12 [00:00<?, ?cell/s]"
      ]
     },
     "metadata": {},
     "output_type": "display_data"
    },
    {
     "name": "stdout",
     "output_type": "stream",
     "text": [
      "running for ETH for date 2021-11-29 00:00:00 to 2021-12-11 00:00:00\r"
     ]
    },
    {
     "data": {
      "application/vnd.jupyter.widget-view+json": {
       "model_id": "e593215d779f42319f44a38bd1b0c3f0",
       "version_major": 2,
       "version_minor": 0
      },
      "text/plain": [
       "Executing:   0%|          | 0/12 [00:00<?, ?cell/s]"
      ]
     },
     "metadata": {},
     "output_type": "display_data"
    },
    {
     "name": "stdout",
     "output_type": "stream",
     "text": [
      "running for USDT for date 2021-11-29 00:00:00 to 2021-12-11 00:00:00\r"
     ]
    },
    {
     "data": {
      "application/vnd.jupyter.widget-view+json": {
       "model_id": "b0fdbc97ff194ca1ac9ed310669c33c5",
       "version_major": 2,
       "version_minor": 0
      },
      "text/plain": [
       "Executing:   0%|          | 0/12 [00:00<?, ?cell/s]"
      ]
     },
     "metadata": {},
     "output_type": "display_data"
    },
    {
     "name": "stdout",
     "output_type": "stream",
     "text": [
      "running for SOL for date 2021-11-29 00:00:00 to 2021-12-11 00:00:00\r"
     ]
    },
    {
     "data": {
      "application/vnd.jupyter.widget-view+json": {
       "model_id": "b82824c402f04b9494e48329bb32d41b",
       "version_major": 2,
       "version_minor": 0
      },
      "text/plain": [
       "Executing:   0%|          | 0/12 [00:00<?, ?cell/s]"
      ]
     },
     "metadata": {},
     "output_type": "display_data"
    },
    {
     "name": "stdout",
     "output_type": "stream",
     "text": [
      "running for ADA for date 2021-11-29 00:00:00 to 2021-12-11 00:00:00\r"
     ]
    },
    {
     "data": {
      "application/vnd.jupyter.widget-view+json": {
       "model_id": "982e1828c20f4aabb8fb36ccd5d2eee9",
       "version_major": 2,
       "version_minor": 0
      },
      "text/plain": [
       "Executing:   0%|          | 0/12 [00:00<?, ?cell/s]"
      ]
     },
     "metadata": {},
     "output_type": "display_data"
    },
    {
     "name": "stdout",
     "output_type": "stream",
     "text": [
      "running for DOT for date 2021-11-29 00:00:00 to 2021-12-11 00:00:00\r"
     ]
    },
    {
     "data": {
      "application/vnd.jupyter.widget-view+json": {
       "model_id": "47ff7b252e6848e39b07452b71365cc4",
       "version_major": 2,
       "version_minor": 0
      },
      "text/plain": [
       "Executing:   0%|          | 0/12 [00:00<?, ?cell/s]"
      ]
     },
     "metadata": {},
     "output_type": "display_data"
    },
    {
     "name": "stdout",
     "output_type": "stream",
     "text": [
      "running for AVAX for date 2021-11-29 00:00:00 to 2021-12-11 00:00:00\r"
     ]
    },
    {
     "data": {
      "application/vnd.jupyter.widget-view+json": {
       "model_id": "bc12ff4cdd044b4e88124cb3757c3bbb",
       "version_major": 2,
       "version_minor": 0
      },
      "text/plain": [
       "Executing:   0%|          | 0/12 [00:00<?, ?cell/s]"
      ]
     },
     "metadata": {},
     "output_type": "display_data"
    },
    {
     "name": "stdout",
     "output_type": "stream",
     "text": [
      "running for ATOM for date 2021-11-29 00:00:00 to 2021-12-11 00:00:00\r"
     ]
    },
    {
     "data": {
      "application/vnd.jupyter.widget-view+json": {
       "model_id": "ab2fca3dea784599b96d41c1e28d9367",
       "version_major": 2,
       "version_minor": 0
      },
      "text/plain": [
       "Executing:   0%|          | 0/12 [00:00<?, ?cell/s]"
      ]
     },
     "metadata": {},
     "output_type": "display_data"
    },
    {
     "name": "stdout",
     "output_type": "stream",
     "text": [
      "running for CRV for date 2021-11-29 00:00:00 to 2021-12-11 00:00:00\r"
     ]
    },
    {
     "data": {
      "application/vnd.jupyter.widget-view+json": {
       "model_id": "9ad8ebecd60f41108afb09a2dc8d4513",
       "version_major": 2,
       "version_minor": 0
      },
      "text/plain": [
       "Executing:   0%|          | 0/12 [00:00<?, ?cell/s]"
      ]
     },
     "metadata": {},
     "output_type": "display_data"
    },
    {
     "name": "stdout",
     "output_type": "stream",
     "text": [
      "running for AAVE for date 2021-11-29 00:00:00 to 2021-12-11 00:00:00\r"
     ]
    },
    {
     "data": {
      "application/vnd.jupyter.widget-view+json": {
       "model_id": "5a84e3634c5745f99bf22d87deec1744",
       "version_major": 2,
       "version_minor": 0
      },
      "text/plain": [
       "Executing:   0%|          | 0/12 [00:00<?, ?cell/s]"
      ]
     },
     "metadata": {},
     "output_type": "display_data"
    },
    {
     "name": "stdout",
     "output_type": "stream",
     "text": [
      "running for COMP for date 2021-11-29 00:00:00 to 2021-12-11 00:00:00\r"
     ]
    },
    {
     "data": {
      "application/vnd.jupyter.widget-view+json": {
       "model_id": "fad487c68e184ec58b9466d9bccfd5e8",
       "version_major": 2,
       "version_minor": 0
      },
      "text/plain": [
       "Executing:   0%|          | 0/12 [00:00<?, ?cell/s]"
      ]
     },
     "metadata": {},
     "output_type": "display_data"
    }
   ],
   "source": [
    "# run the template notebook across all tokens in the database and the last 2 complete weeks in the database.\n",
    "for token in tokens:\n",
    "    print(f'running for {token} for date {begin_date} to {end_date}', end='\\r')\n",
    "    res = pm.execute_notebook(\n",
    "        'homework4_template.ipynb',\n",
    "        f'{base_output_folder}/homework4_{token}_{begin_date.strftime(\"%Y-%m-%d-%H-%M-%S\")}.ipynb',\n",
    "        parameters = {\n",
    "            'from_date': f'{begin_date}',\n",
    "            'to_date': f'{end_date}',\n",
    "            'token': token,\n",
    "            'connection_string': connection_string,\n",
    "        }\n",
    "    )"
   ]
  },
  {
   "cell_type": "markdown",
   "id": "fb3e7f3b-952d-4aec-a498-e344db403ca4",
   "metadata": {},
   "source": [
    "Summarize the following in a single DataFrame in the runner notebook\n",
    "- avg hourly return by run\n",
    "- avg volatility by run\n",
    "- maximum drawdown over the entire period of each run\n",
    "- range of last close price - first close price"
   ]
  },
  {
   "cell_type": "code",
   "execution_count": 10,
   "id": "16255f58-0d58-4eb9-ad5e-89d1cf927a58",
   "metadata": {},
   "outputs": [],
   "source": [
    "nbs = sb.read_notebooks('outputs')"
   ]
  },
  {
   "cell_type": "code",
   "execution_count": 13,
   "id": "f3c7bbc7-b96b-4950-a7b7-a2f4b8930cea",
   "metadata": {},
   "outputs": [
    {
     "data": {
      "text/html": [
       "<div>\n",
       "<style scoped>\n",
       "    .dataframe tbody tr th:only-of-type {\n",
       "        vertical-align: middle;\n",
       "    }\n",
       "\n",
       "    .dataframe tbody tr th {\n",
       "        vertical-align: top;\n",
       "    }\n",
       "\n",
       "    .dataframe thead th {\n",
       "        text-align: right;\n",
       "    }\n",
       "</style>\n",
       "<table border=\"1\" class=\"dataframe\">\n",
       "  <thead>\n",
       "    <tr style=\"text-align: right;\">\n",
       "      <th></th>\n",
       "      <th>token</th>\n",
       "      <th>from_date</th>\n",
       "      <th>to_date</th>\n",
       "      <th>avg hourly return (%)</th>\n",
       "      <th>avg volatility</th>\n",
       "      <th>max drawdown (%)</th>\n",
       "      <th>range of last close price - first close price</th>\n",
       "    </tr>\n",
       "  </thead>\n",
       "  <tbody>\n",
       "    <tr>\n",
       "      <th>0</th>\n",
       "      <td>AAVE</td>\n",
       "      <td>2021-11-29 00:00:00</td>\n",
       "      <td>2021-12-11 00:00:00</td>\n",
       "      <td>-0.108586</td>\n",
       "      <td>0.222245</td>\n",
       "      <td>-2.458423</td>\n",
       "      <td>-67.8850</td>\n",
       "    </tr>\n",
       "    <tr>\n",
       "      <th>1</th>\n",
       "      <td>ADA</td>\n",
       "      <td>2021-11-29 00:00:00</td>\n",
       "      <td>2021-12-11 00:00:00</td>\n",
       "      <td>-0.080699</td>\n",
       "      <td>0.221098</td>\n",
       "      <td>-3.048095</td>\n",
       "      <td>-0.3555</td>\n",
       "    </tr>\n",
       "    <tr>\n",
       "      <th>2</th>\n",
       "      <td>ATOM</td>\n",
       "      <td>2021-11-29 00:00:00</td>\n",
       "      <td>2021-12-11 00:00:00</td>\n",
       "      <td>-0.044326</td>\n",
       "      <td>0.311034</td>\n",
       "      <td>-1.478084</td>\n",
       "      <td>-4.2860</td>\n",
       "    </tr>\n",
       "    <tr>\n",
       "      <th>3</th>\n",
       "      <td>AVAX</td>\n",
       "      <td>2021-11-29 00:00:00</td>\n",
       "      <td>2021-12-11 00:00:00</td>\n",
       "      <td>-0.081673</td>\n",
       "      <td>0.302500</td>\n",
       "      <td>-3.480506</td>\n",
       "      <td>-26.8300</td>\n",
       "    </tr>\n",
       "    <tr>\n",
       "      <th>4</th>\n",
       "      <td>BTC</td>\n",
       "      <td>2021-11-29 00:00:00</td>\n",
       "      <td>2021-12-11 00:00:00</td>\n",
       "      <td>-0.061693</td>\n",
       "      <td>0.161354</td>\n",
       "      <td>-2.460411</td>\n",
       "      <td>-9778.9100</td>\n",
       "    </tr>\n",
       "    <tr>\n",
       "      <th>5</th>\n",
       "      <td>COMP</td>\n",
       "      <td>2021-11-29 00:00:00</td>\n",
       "      <td>2021-12-11 00:00:00</td>\n",
       "      <td>-0.139563</td>\n",
       "      <td>0.233596</td>\n",
       "      <td>-1.920344</td>\n",
       "      <td>-99.6500</td>\n",
       "    </tr>\n",
       "    <tr>\n",
       "      <th>6</th>\n",
       "      <td>CRV</td>\n",
       "      <td>2021-11-29 00:00:00</td>\n",
       "      <td>2021-12-11 00:00:00</td>\n",
       "      <td>-0.105843</td>\n",
       "      <td>0.344594</td>\n",
       "      <td>-3.384402</td>\n",
       "      <td>-1.4662</td>\n",
       "    </tr>\n",
       "    <tr>\n",
       "      <th>7</th>\n",
       "      <td>DOT</td>\n",
       "      <td>2021-11-29 00:00:00</td>\n",
       "      <td>2021-12-11 00:00:00</td>\n",
       "      <td>-0.089501</td>\n",
       "      <td>0.253899</td>\n",
       "      <td>-2.939946</td>\n",
       "      <td>-8.9050</td>\n",
       "    </tr>\n",
       "    <tr>\n",
       "      <th>8</th>\n",
       "      <td>ETH</td>\n",
       "      <td>2021-11-29 00:00:00</td>\n",
       "      <td>2021-12-11 00:00:00</td>\n",
       "      <td>-0.024270</td>\n",
       "      <td>0.179052</td>\n",
       "      <td>-1.822069</td>\n",
       "      <td>-337.0600</td>\n",
       "    </tr>\n",
       "    <tr>\n",
       "      <th>9</th>\n",
       "      <td>SOL</td>\n",
       "      <td>2021-11-29 00:00:00</td>\n",
       "      <td>2021-12-11 00:00:00</td>\n",
       "      <td>-0.046930</td>\n",
       "      <td>0.254311</td>\n",
       "      <td>-3.003465</td>\n",
       "      <td>-29.7070</td>\n",
       "    </tr>\n",
       "    <tr>\n",
       "      <th>10</th>\n",
       "      <td>USDT</td>\n",
       "      <td>2021-11-29 00:00:00</td>\n",
       "      <td>2021-12-11 00:00:00</td>\n",
       "      <td>-0.000099</td>\n",
       "      <td>0.012438</td>\n",
       "      <td>-0.009993</td>\n",
       "      <td>-0.0003</td>\n",
       "    </tr>\n",
       "  </tbody>\n",
       "</table>\n",
       "</div>"
      ],
      "text/plain": [
       "   token            from_date              to_date  avg hourly return (%)  \\\n",
       "0   AAVE  2021-11-29 00:00:00  2021-12-11 00:00:00              -0.108586   \n",
       "1    ADA  2021-11-29 00:00:00  2021-12-11 00:00:00              -0.080699   \n",
       "2   ATOM  2021-11-29 00:00:00  2021-12-11 00:00:00              -0.044326   \n",
       "3   AVAX  2021-11-29 00:00:00  2021-12-11 00:00:00              -0.081673   \n",
       "4    BTC  2021-11-29 00:00:00  2021-12-11 00:00:00              -0.061693   \n",
       "5   COMP  2021-11-29 00:00:00  2021-12-11 00:00:00              -0.139563   \n",
       "6    CRV  2021-11-29 00:00:00  2021-12-11 00:00:00              -0.105843   \n",
       "7    DOT  2021-11-29 00:00:00  2021-12-11 00:00:00              -0.089501   \n",
       "8    ETH  2021-11-29 00:00:00  2021-12-11 00:00:00              -0.024270   \n",
       "9    SOL  2021-11-29 00:00:00  2021-12-11 00:00:00              -0.046930   \n",
       "10  USDT  2021-11-29 00:00:00  2021-12-11 00:00:00              -0.000099   \n",
       "\n",
       "    avg volatility  max drawdown (%)  \\\n",
       "0         0.222245         -2.458423   \n",
       "1         0.221098         -3.048095   \n",
       "2         0.311034         -1.478084   \n",
       "3         0.302500         -3.480506   \n",
       "4         0.161354         -2.460411   \n",
       "5         0.233596         -1.920344   \n",
       "6         0.344594         -3.384402   \n",
       "7         0.253899         -2.939946   \n",
       "8         0.179052         -1.822069   \n",
       "9         0.254311         -3.003465   \n",
       "10        0.012438         -0.009993   \n",
       "\n",
       "    range of last close price - first close price  \n",
       "0                                        -67.8850  \n",
       "1                                         -0.3555  \n",
       "2                                         -4.2860  \n",
       "3                                        -26.8300  \n",
       "4                                      -9778.9100  \n",
       "5                                        -99.6500  \n",
       "6                                         -1.4662  \n",
       "7                                         -8.9050  \n",
       "8                                       -337.0600  \n",
       "9                                        -29.7070  \n",
       "10                                        -0.0003  "
      ]
     },
     "execution_count": 13,
     "metadata": {},
     "output_type": "execute_result"
    }
   ],
   "source": [
    "pd.DataFrame([\n",
    "    pd.Series({\n",
    "        'token': scrap['token'].data,\n",
    "        'from_date': scrap['from_date'].data,\n",
    "        'to_date': scrap['to_date'].data,\n",
    "        'avg hourly return (%)': scrap['prices'].data.hourly_return.mean()*100,\n",
    "        'avg volatility': scrap['prices'].data.volatility.mean(),\n",
    "        'max drawdown (%)': scrap['prices'].data.max_drawdown.max()*100,\n",
    "        'range of last close price - first close price': scrap['prices'].data.close[-1] - scrap['prices'].data.close[0],\n",
    "    }) \n",
    "    for book, scrap in nbs.notebook_scraps.items()\n",
    "])"
   ]
  }
 ],
 "metadata": {
  "kernelspec": {
   "display_name": "Python 3 (ipykernel)",
   "language": "python",
   "name": "python3"
  },
  "language_info": {
   "codemirror_mode": {
    "name": "ipython",
    "version": 3
   },
   "file_extension": ".py",
   "mimetype": "text/x-python",
   "name": "python",
   "nbconvert_exporter": "python",
   "pygments_lexer": "ipython3",
   "version": "3.8.12"
  }
 },
 "nbformat": 4,
 "nbformat_minor": 5
}
