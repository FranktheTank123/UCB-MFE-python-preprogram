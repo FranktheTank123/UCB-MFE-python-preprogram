{
 "cells": [
  {
   "cell_type": "code",
   "execution_count": 1,
   "id": "fcad422d-6bc1-42fe-8a69-2d2b66a8e490",
   "metadata": {},
   "outputs": [
    {
     "name": "stderr",
     "output_type": "stream",
     "text": [
      "C:\\Users\\USP\\anaconda3\\lib\\site-packages\\papermill\\iorw.py:50: FutureWarning: pyarrow.HadoopFileSystem is deprecated as of 2.0.0, please use pyarrow.fs.HadoopFileSystem instead.\n",
      "  from pyarrow import HadoopFileSystem\n"
     ]
    }
   ],
   "source": [
    "import papermill as pm\n",
    "import scrapbook as sb\n",
    "import pandas as pd\n",
    "from datetime import datetime, timedelta\n",
    "import os"
   ]
  },
  {
   "cell_type": "code",
   "execution_count": 2,
   "id": "ae4e6a02-50ab-4791-888b-ff9a1ebcadff",
   "metadata": {},
   "outputs": [],
   "source": [
    "def last_dow(d: datetime, dow: int) -> datetime:\n",
    "    '''\n",
    "    Gets the date of the last day of week, using datetime convention of Monday is 0 and Sunday is 6\n",
    "    '''\n",
    "    dow_d = d.weekday()\n",
    "    days_delta = (7 - dow) + dow_d if dow_d < dow else dow_d - dow\n",
    "    return d - timedelta(days=days_delta)"
   ]
  },
  {
   "cell_type": "code",
   "execution_count": 3,
   "id": "be357d36-150e-45f0-8860-2b9f073689da",
   "metadata": {},
   "outputs": [],
   "source": [
    "run_dates = [(last_dow(datetime(2021, 11, 26), 4) + timedelta(days=7 * x)) for x in range(2)]\n",
    "tokens = ['AAVE','ADA','ATOM','AVAX','BTC','COMP','CRV','DOT','ETH','SOL','USDT']\n",
    "connection_string = 'sqlite:///data/data.db'"
   ]
  },
  {
   "cell_type": "code",
   "execution_count": 4,
   "id": "c862abcb-3743-42ce-b597-df8fa1fd72b2",
   "metadata": {},
   "outputs": [
    {
     "data": {
      "text/plain": [
       "[datetime.datetime(2021, 11, 26, 0, 0), datetime.datetime(2021, 12, 3, 0, 0)]"
      ]
     },
     "execution_count": 4,
     "metadata": {},
     "output_type": "execute_result"
    }
   ],
   "source": [
    "run_dates"
   ]
  },
  {
   "cell_type": "code",
   "execution_count": 5,
   "id": "e1a8f646-bfdf-4a7e-b71c-0b5fcd641a9c",
   "metadata": {},
   "outputs": [],
   "source": [
    "base_output_folder = os.path.expanduser('outputs')\n",
    "\n",
    "if not os.path.exists(base_output_folder):\n",
    "        os.makedirs(base_output_folder)"
   ]
  },
  {
   "cell_type": "code",
   "execution_count": 6,
   "id": "28267c6c-9d5a-40ee-b6fc-9e2964993f58",
   "metadata": {},
   "outputs": [],
   "source": [
    "import datetime"
   ]
  },
  {
   "cell_type": "code",
   "execution_count": 7,
   "id": "e648edb0-2d70-494d-8f7a-dd71b219925f",
   "metadata": {},
   "outputs": [
    {
     "name": "stdout",
     "output_type": "stream",
     "text": [
      "running for AAVE for date 2021-11-26 00:00:00 to 2021-12-03 00:00:00\r"
     ]
    },
    {
     "data": {
      "application/vnd.jupyter.widget-view+json": {
       "model_id": "f72b38a3ffec4cd29f98d61855eebdf9",
       "version_major": 2,
       "version_minor": 0
      },
      "text/plain": [
       "Executing:   0%|          | 0/30 [00:00<?, ?cell/s]"
      ]
     },
     "metadata": {},
     "output_type": "display_data"
    },
    {
     "name": "stdout",
     "output_type": "stream",
     "text": [
      "running for ADA for date 2021-11-26 00:00:00 to 2021-12-03 00:00:00\r"
     ]
    },
    {
     "data": {
      "application/vnd.jupyter.widget-view+json": {
       "model_id": "e6bf2edc76614126ac894793a82c265b",
       "version_major": 2,
       "version_minor": 0
      },
      "text/plain": [
       "Executing:   0%|          | 0/30 [00:00<?, ?cell/s]"
      ]
     },
     "metadata": {},
     "output_type": "display_data"
    },
    {
     "name": "stdout",
     "output_type": "stream",
     "text": [
      "running for ATOM for date 2021-11-26 00:00:00 to 2021-12-03 00:00:00\r"
     ]
    },
    {
     "data": {
      "application/vnd.jupyter.widget-view+json": {
       "model_id": "6469e84bfcfc4369a277e315c5ca7046",
       "version_major": 2,
       "version_minor": 0
      },
      "text/plain": [
       "Executing:   0%|          | 0/30 [00:00<?, ?cell/s]"
      ]
     },
     "metadata": {},
     "output_type": "display_data"
    },
    {
     "name": "stdout",
     "output_type": "stream",
     "text": [
      "running for AVAX for date 2021-11-26 00:00:00 to 2021-12-03 00:00:00\r"
     ]
    },
    {
     "data": {
      "application/vnd.jupyter.widget-view+json": {
       "model_id": "d4ec4185844b40c7a874c60ebdf53353",
       "version_major": 2,
       "version_minor": 0
      },
      "text/plain": [
       "Executing:   0%|          | 0/30 [00:00<?, ?cell/s]"
      ]
     },
     "metadata": {},
     "output_type": "display_data"
    },
    {
     "name": "stdout",
     "output_type": "stream",
     "text": [
      "running for BTC for date 2021-11-26 00:00:00 to 2021-12-03 00:00:00\r"
     ]
    },
    {
     "data": {
      "application/vnd.jupyter.widget-view+json": {
       "model_id": "e6e1a317f4c348f296e3f6bf92d56c5b",
       "version_major": 2,
       "version_minor": 0
      },
      "text/plain": [
       "Executing:   0%|          | 0/30 [00:00<?, ?cell/s]"
      ]
     },
     "metadata": {},
     "output_type": "display_data"
    },
    {
     "name": "stdout",
     "output_type": "stream",
     "text": [
      "running for COMP for date 2021-11-26 00:00:00 to 2021-12-03 00:00:00\r"
     ]
    },
    {
     "data": {
      "application/vnd.jupyter.widget-view+json": {
       "model_id": "37041c63fa63472da609cf930b1deaeb",
       "version_major": 2,
       "version_minor": 0
      },
      "text/plain": [
       "Executing:   0%|          | 0/30 [00:00<?, ?cell/s]"
      ]
     },
     "metadata": {},
     "output_type": "display_data"
    },
    {
     "name": "stdout",
     "output_type": "stream",
     "text": [
      "running for CRV for date 2021-11-26 00:00:00 to 2021-12-03 00:00:00\r"
     ]
    },
    {
     "data": {
      "application/vnd.jupyter.widget-view+json": {
       "model_id": "03c91e3edb054647a75967bb324cfeb6",
       "version_major": 2,
       "version_minor": 0
      },
      "text/plain": [
       "Executing:   0%|          | 0/30 [00:00<?, ?cell/s]"
      ]
     },
     "metadata": {},
     "output_type": "display_data"
    },
    {
     "name": "stdout",
     "output_type": "stream",
     "text": [
      "running for DOT for date 2021-11-26 00:00:00 to 2021-12-03 00:00:00\r"
     ]
    },
    {
     "data": {
      "application/vnd.jupyter.widget-view+json": {
       "model_id": "7a0b67681e8d43c1b01ff7197d59b8ae",
       "version_major": 2,
       "version_minor": 0
      },
      "text/plain": [
       "Executing:   0%|          | 0/30 [00:00<?, ?cell/s]"
      ]
     },
     "metadata": {},
     "output_type": "display_data"
    },
    {
     "name": "stdout",
     "output_type": "stream",
     "text": [
      "running for ETH for date 2021-11-26 00:00:00 to 2021-12-03 00:00:00\r"
     ]
    },
    {
     "data": {
      "application/vnd.jupyter.widget-view+json": {
       "model_id": "c79994df22da4abe851536112e950b53",
       "version_major": 2,
       "version_minor": 0
      },
      "text/plain": [
       "Executing:   0%|          | 0/30 [00:00<?, ?cell/s]"
      ]
     },
     "metadata": {},
     "output_type": "display_data"
    },
    {
     "name": "stdout",
     "output_type": "stream",
     "text": [
      "running for SOL for date 2021-11-26 00:00:00 to 2021-12-03 00:00:00\r"
     ]
    },
    {
     "data": {
      "application/vnd.jupyter.widget-view+json": {
       "model_id": "09ee1c1987ce4c97bafb80aff52b8567",
       "version_major": 2,
       "version_minor": 0
      },
      "text/plain": [
       "Executing:   0%|          | 0/30 [00:00<?, ?cell/s]"
      ]
     },
     "metadata": {},
     "output_type": "display_data"
    },
    {
     "name": "stdout",
     "output_type": "stream",
     "text": [
      "running for USDT for date 2021-11-26 00:00:00 to 2021-12-03 00:00:00\r"
     ]
    },
    {
     "data": {
      "application/vnd.jupyter.widget-view+json": {
       "model_id": "3c5cba1e3e9948a7adb3f42078094b5f",
       "version_major": 2,
       "version_minor": 0
      },
      "text/plain": [
       "Executing:   0%|          | 0/30 [00:00<?, ?cell/s]"
      ]
     },
     "metadata": {},
     "output_type": "display_data"
    },
    {
     "name": "stdout",
     "output_type": "stream",
     "text": [
      "running for AAVE for date 2021-12-03 00:00:00 to 2021-12-10 00:00:00\r"
     ]
    },
    {
     "data": {
      "application/vnd.jupyter.widget-view+json": {
       "model_id": "a185599d8e26431bac59a462f8881c2d",
       "version_major": 2,
       "version_minor": 0
      },
      "text/plain": [
       "Executing:   0%|          | 0/30 [00:00<?, ?cell/s]"
      ]
     },
     "metadata": {},
     "output_type": "display_data"
    },
    {
     "name": "stdout",
     "output_type": "stream",
     "text": [
      "running for ADA for date 2021-12-03 00:00:00 to 2021-12-10 00:00:00\r"
     ]
    },
    {
     "data": {
      "application/vnd.jupyter.widget-view+json": {
       "model_id": "720ef0e0d2584cd3b01ab44fb88c13e6",
       "version_major": 2,
       "version_minor": 0
      },
      "text/plain": [
       "Executing:   0%|          | 0/30 [00:00<?, ?cell/s]"
      ]
     },
     "metadata": {},
     "output_type": "display_data"
    },
    {
     "name": "stdout",
     "output_type": "stream",
     "text": [
      "running for ATOM for date 2021-12-03 00:00:00 to 2021-12-10 00:00:00\r"
     ]
    },
    {
     "data": {
      "application/vnd.jupyter.widget-view+json": {
       "model_id": "61ff0a99078942a0adfbd5fafc0c4cf5",
       "version_major": 2,
       "version_minor": 0
      },
      "text/plain": [
       "Executing:   0%|          | 0/30 [00:00<?, ?cell/s]"
      ]
     },
     "metadata": {},
     "output_type": "display_data"
    },
    {
     "name": "stdout",
     "output_type": "stream",
     "text": [
      "running for AVAX for date 2021-12-03 00:00:00 to 2021-12-10 00:00:00\r"
     ]
    },
    {
     "data": {
      "application/vnd.jupyter.widget-view+json": {
       "model_id": "946d25d8bf104a95af4a9569c6bfb7ea",
       "version_major": 2,
       "version_minor": 0
      },
      "text/plain": [
       "Executing:   0%|          | 0/30 [00:00<?, ?cell/s]"
      ]
     },
     "metadata": {},
     "output_type": "display_data"
    },
    {
     "name": "stdout",
     "output_type": "stream",
     "text": [
      "running for BTC for date 2021-12-03 00:00:00 to 2021-12-10 00:00:00\r"
     ]
    },
    {
     "data": {
      "application/vnd.jupyter.widget-view+json": {
       "model_id": "e77ab5e6ab47486a9742f647c2ceb827",
       "version_major": 2,
       "version_minor": 0
      },
      "text/plain": [
       "Executing:   0%|          | 0/30 [00:00<?, ?cell/s]"
      ]
     },
     "metadata": {},
     "output_type": "display_data"
    },
    {
     "name": "stdout",
     "output_type": "stream",
     "text": [
      "running for COMP for date 2021-12-03 00:00:00 to 2021-12-10 00:00:00\r"
     ]
    },
    {
     "data": {
      "application/vnd.jupyter.widget-view+json": {
       "model_id": "0a99e727628f4f458f518f14a55c0624",
       "version_major": 2,
       "version_minor": 0
      },
      "text/plain": [
       "Executing:   0%|          | 0/30 [00:00<?, ?cell/s]"
      ]
     },
     "metadata": {},
     "output_type": "display_data"
    },
    {
     "name": "stdout",
     "output_type": "stream",
     "text": [
      "running for CRV for date 2021-12-03 00:00:00 to 2021-12-10 00:00:00\r"
     ]
    },
    {
     "data": {
      "application/vnd.jupyter.widget-view+json": {
       "model_id": "5302efece1a346ba8e0de4b47410361c",
       "version_major": 2,
       "version_minor": 0
      },
      "text/plain": [
       "Executing:   0%|          | 0/30 [00:00<?, ?cell/s]"
      ]
     },
     "metadata": {},
     "output_type": "display_data"
    },
    {
     "name": "stdout",
     "output_type": "stream",
     "text": [
      "running for DOT for date 2021-12-03 00:00:00 to 2021-12-10 00:00:00\r"
     ]
    },
    {
     "data": {
      "application/vnd.jupyter.widget-view+json": {
       "model_id": "45a859919d86410ea25cf973a0685c0b",
       "version_major": 2,
       "version_minor": 0
      },
      "text/plain": [
       "Executing:   0%|          | 0/30 [00:00<?, ?cell/s]"
      ]
     },
     "metadata": {},
     "output_type": "display_data"
    },
    {
     "name": "stdout",
     "output_type": "stream",
     "text": [
      "running for ETH for date 2021-12-03 00:00:00 to 2021-12-10 00:00:00\r"
     ]
    },
    {
     "data": {
      "application/vnd.jupyter.widget-view+json": {
       "model_id": "e115d2b630b846768a9a1d9737ca11a4",
       "version_major": 2,
       "version_minor": 0
      },
      "text/plain": [
       "Executing:   0%|          | 0/30 [00:00<?, ?cell/s]"
      ]
     },
     "metadata": {},
     "output_type": "display_data"
    },
    {
     "name": "stdout",
     "output_type": "stream",
     "text": [
      "running for SOL for date 2021-12-03 00:00:00 to 2021-12-10 00:00:00\r"
     ]
    },
    {
     "data": {
      "application/vnd.jupyter.widget-view+json": {
       "model_id": "66c024b7455a4afd98ffcf5ee819d9d0",
       "version_major": 2,
       "version_minor": 0
      },
      "text/plain": [
       "Executing:   0%|          | 0/30 [00:00<?, ?cell/s]"
      ]
     },
     "metadata": {},
     "output_type": "display_data"
    },
    {
     "name": "stdout",
     "output_type": "stream",
     "text": [
      "running for USDT for date 2021-12-03 00:00:00 to 2021-12-10 00:00:00\r"
     ]
    },
    {
     "data": {
      "application/vnd.jupyter.widget-view+json": {
       "model_id": "282100157b7f4c8ea80d8dfc714cea9a",
       "version_major": 2,
       "version_minor": 0
      },
      "text/plain": [
       "Executing:   0%|          | 0/30 [00:00<?, ?cell/s]"
      ]
     },
     "metadata": {},
     "output_type": "display_data"
    }
   ],
   "source": [
    "for run_date in run_dates:\n",
    "    for token in tokens:\n",
    "        print(f'running for {token} for date {run_date} to {run_date + timedelta(days=7)}', end='\\r')\n",
    "        res = pm.execute_notebook(\n",
    "            'Template_analysis.ipynb',\n",
    "            f'{base_output_folder}/{run_date:%b %d, %Y}_{token}.ipynb',\n",
    "            parameters = {\n",
    "                'from_date': f'{run_date}',\n",
    "                'to_date': f'{run_date + timedelta(days=7)}',\n",
    "                'token': token,\n",
    "                'connection_string': connection_string\n",
    "            }\n",
    "        )"
   ]
  },
  {
   "cell_type": "markdown",
   "id": "26d89d6a-9f41-415c-8190-d910d936dd09",
   "metadata": {},
   "source": [
    "### Summary:"
   ]
  },
  {
   "cell_type": "code",
   "execution_count": 8,
   "id": "6ae884b2-dc07-4790-97e0-018d61193f28",
   "metadata": {},
   "outputs": [],
   "source": [
    "nbs = sb.read_notebooks('outputs')\n"
   ]
  },
  {
   "cell_type": "code",
   "execution_count": 9,
   "id": "1a6c3b10-ccd7-4323-8073-476f519a283a",
   "metadata": {},
   "outputs": [
    {
     "data": {
      "text/plain": [
       "<scrapbook.models.Scrapbook at 0x2084e96be80>"
      ]
     },
     "execution_count": 9,
     "metadata": {},
     "output_type": "execute_result"
    }
   ],
   "source": [
    "nbs"
   ]
  },
  {
   "cell_type": "code",
   "execution_count": 10,
   "id": "d3cd9de7-7fdb-4715-a5a0-d59235024c63",
   "metadata": {},
   "outputs": [
    {
     "data": {
      "text/html": [
       "<div>\n",
       "<style scoped>\n",
       "    .dataframe tbody tr th:only-of-type {\n",
       "        vertical-align: middle;\n",
       "    }\n",
       "\n",
       "    .dataframe tbody tr th {\n",
       "        vertical-align: top;\n",
       "    }\n",
       "\n",
       "    .dataframe thead th {\n",
       "        text-align: right;\n",
       "    }\n",
       "</style>\n",
       "<table border=\"1\" class=\"dataframe\">\n",
       "  <thead>\n",
       "    <tr style=\"text-align: right;\">\n",
       "      <th></th>\n",
       "      <th>token</th>\n",
       "      <th>from_date</th>\n",
       "      <th>to_date</th>\n",
       "      <th>return_close</th>\n",
       "      <th>volatility</th>\n",
       "      <th>max_drawdown</th>\n",
       "      <th>close_range</th>\n",
       "    </tr>\n",
       "  </thead>\n",
       "  <tbody>\n",
       "    <tr>\n",
       "      <th>0</th>\n",
       "      <td>AAVE</td>\n",
       "      <td>2021-12-03 00:00:00</td>\n",
       "      <td>2021-12-10 00:00:00</td>\n",
       "      <td>-1.859135e-03</td>\n",
       "      <td>0.265586</td>\n",
       "      <td>-0.311738</td>\n",
       "      <td>-65.3840</td>\n",
       "    </tr>\n",
       "    <tr>\n",
       "      <th>1</th>\n",
       "      <td>ADA</td>\n",
       "      <td>2021-12-03 00:00:00</td>\n",
       "      <td>2021-12-10 00:00:00</td>\n",
       "      <td>-1.642346e-03</td>\n",
       "      <td>0.256026</td>\n",
       "      <td>-0.249587</td>\n",
       "      <td>-0.4128</td>\n",
       "    </tr>\n",
       "    <tr>\n",
       "      <th>2</th>\n",
       "      <td>ATOM</td>\n",
       "      <td>2021-12-03 00:00:00</td>\n",
       "      <td>2021-12-10 00:00:00</td>\n",
       "      <td>-1.301783e-03</td>\n",
       "      <td>0.391062</td>\n",
       "      <td>-0.333049</td>\n",
       "      <td>-5.5440</td>\n",
       "    </tr>\n",
       "    <tr>\n",
       "      <th>3</th>\n",
       "      <td>AVAX</td>\n",
       "      <td>2021-12-03 00:00:00</td>\n",
       "      <td>2021-12-10 00:00:00</td>\n",
       "      <td>-1.319137e-03</td>\n",
       "      <td>0.339445</td>\n",
       "      <td>-0.318094</td>\n",
       "      <td>-21.3200</td>\n",
       "    </tr>\n",
       "    <tr>\n",
       "      <th>4</th>\n",
       "      <td>BTC</td>\n",
       "      <td>2021-12-03 00:00:00</td>\n",
       "      <td>2021-12-10 00:00:00</td>\n",
       "      <td>-9.823465e-04</td>\n",
       "      <td>0.188591</td>\n",
       "      <td>-0.185505</td>\n",
       "      <td>-8551.8100</td>\n",
       "    </tr>\n",
       "    <tr>\n",
       "      <th>5</th>\n",
       "      <td>COMP</td>\n",
       "      <td>2021-12-03 00:00:00</td>\n",
       "      <td>2021-12-10 00:00:00</td>\n",
       "      <td>-1.923459e-03</td>\n",
       "      <td>0.278310</td>\n",
       "      <td>-0.298739</td>\n",
       "      <td>-74.2800</td>\n",
       "    </tr>\n",
       "    <tr>\n",
       "      <th>6</th>\n",
       "      <td>CRV</td>\n",
       "      <td>2021-12-03 00:00:00</td>\n",
       "      <td>2021-12-10 00:00:00</td>\n",
       "      <td>-1.489699e-03</td>\n",
       "      <td>0.397615</td>\n",
       "      <td>-0.330447</td>\n",
       "      <td>-1.0451</td>\n",
       "    </tr>\n",
       "    <tr>\n",
       "      <th>7</th>\n",
       "      <td>DOT</td>\n",
       "      <td>2021-12-03 00:00:00</td>\n",
       "      <td>2021-12-10 00:00:00</td>\n",
       "      <td>-1.636989e-03</td>\n",
       "      <td>0.304766</td>\n",
       "      <td>-0.314251</td>\n",
       "      <td>-8.5610</td>\n",
       "    </tr>\n",
       "    <tr>\n",
       "      <th>8</th>\n",
       "      <td>ETH</td>\n",
       "      <td>2021-12-03 00:00:00</td>\n",
       "      <td>2021-12-10 00:00:00</td>\n",
       "      <td>-4.776079e-04</td>\n",
       "      <td>0.197325</td>\n",
       "      <td>-0.163002</td>\n",
       "      <td>-346.1000</td>\n",
       "    </tr>\n",
       "    <tr>\n",
       "      <th>9</th>\n",
       "      <td>SOL</td>\n",
       "      <td>2021-12-03 00:00:00</td>\n",
       "      <td>2021-12-10 00:00:00</td>\n",
       "      <td>-1.443281e-03</td>\n",
       "      <td>0.284609</td>\n",
       "      <td>-0.257001</td>\n",
       "      <td>-50.0850</td>\n",
       "    </tr>\n",
       "    <tr>\n",
       "      <th>10</th>\n",
       "      <td>USDT</td>\n",
       "      <td>2021-12-03 00:00:00</td>\n",
       "      <td>2021-12-10 00:00:00</td>\n",
       "      <td>4.226847e-18</td>\n",
       "      <td>0.017951</td>\n",
       "      <td>-0.004879</td>\n",
       "      <td>0.0000</td>\n",
       "    </tr>\n",
       "    <tr>\n",
       "      <th>11</th>\n",
       "      <td>AAVE</td>\n",
       "      <td>2021-11-26 00:00:00</td>\n",
       "      <td>2021-12-03 00:00:00</td>\n",
       "      <td>-4.121321e-04</td>\n",
       "      <td>0.170229</td>\n",
       "      <td>-0.145920</td>\n",
       "      <td>-17.5130</td>\n",
       "    </tr>\n",
       "    <tr>\n",
       "      <th>12</th>\n",
       "      <td>ADA</td>\n",
       "      <td>2021-11-26 00:00:00</td>\n",
       "      <td>2021-12-03 00:00:00</td>\n",
       "      <td>2.064556e-04</td>\n",
       "      <td>0.175845</td>\n",
       "      <td>-0.125953</td>\n",
       "      <td>0.0588</td>\n",
       "    </tr>\n",
       "    <tr>\n",
       "      <th>13</th>\n",
       "      <td>ATOM</td>\n",
       "      <td>2021-11-26 00:00:00</td>\n",
       "      <td>2021-12-03 00:00:00</td>\n",
       "      <td>-2.735259e-04</td>\n",
       "      <td>0.214038</td>\n",
       "      <td>-0.147443</td>\n",
       "      <td>-1.3290</td>\n",
       "    </tr>\n",
       "    <tr>\n",
       "      <th>14</th>\n",
       "      <td>AVAX</td>\n",
       "      <td>2021-11-26 00:00:00</td>\n",
       "      <td>2021-12-03 00:00:00</td>\n",
       "      <td>-4.593791e-04</td>\n",
       "      <td>0.278997</td>\n",
       "      <td>-0.134267</td>\n",
       "      <td>-8.8100</td>\n",
       "    </tr>\n",
       "    <tr>\n",
       "      <th>15</th>\n",
       "      <td>BTC</td>\n",
       "      <td>2021-11-26 00:00:00</td>\n",
       "      <td>2021-12-03 00:00:00</td>\n",
       "      <td>-2.169021e-04</td>\n",
       "      <td>0.119257</td>\n",
       "      <td>-0.085756</td>\n",
       "      <td>-2098.4400</td>\n",
       "    </tr>\n",
       "    <tr>\n",
       "      <th>16</th>\n",
       "      <td>COMP</td>\n",
       "      <td>2021-11-26 00:00:00</td>\n",
       "      <td>2021-12-03 00:00:00</td>\n",
       "      <td>-3.483461e-04</td>\n",
       "      <td>0.182407</td>\n",
       "      <td>-0.122382</td>\n",
       "      <td>-16.2800</td>\n",
       "    </tr>\n",
       "    <tr>\n",
       "      <th>17</th>\n",
       "      <td>CRV</td>\n",
       "      <td>2021-11-26 00:00:00</td>\n",
       "      <td>2021-12-03 00:00:00</td>\n",
       "      <td>-1.296628e-03</td>\n",
       "      <td>0.324996</td>\n",
       "      <td>-0.291536</td>\n",
       "      <td>-1.1558</td>\n",
       "    </tr>\n",
       "    <tr>\n",
       "      <th>18</th>\n",
       "      <td>DOT</td>\n",
       "      <td>2021-11-26 00:00:00</td>\n",
       "      <td>2021-12-03 00:00:00</td>\n",
       "      <td>-5.354288e-04</td>\n",
       "      <td>0.199783</td>\n",
       "      <td>-0.159613</td>\n",
       "      <td>-3.3760</td>\n",
       "    </tr>\n",
       "    <tr>\n",
       "      <th>19</th>\n",
       "      <td>ETH</td>\n",
       "      <td>2021-11-26 00:00:00</td>\n",
       "      <td>2021-12-03 00:00:00</td>\n",
       "      <td>2.534913e-05</td>\n",
       "      <td>0.156376</td>\n",
       "      <td>-0.116088</td>\n",
       "      <td>19.2000</td>\n",
       "    </tr>\n",
       "    <tr>\n",
       "      <th>20</th>\n",
       "      <td>SOL</td>\n",
       "      <td>2021-11-26 00:00:00</td>\n",
       "      <td>2021-12-03 00:00:00</td>\n",
       "      <td>7.505727e-04</td>\n",
       "      <td>0.213866</td>\n",
       "      <td>-0.109981</td>\n",
       "      <td>28.0620</td>\n",
       "    </tr>\n",
       "    <tr>\n",
       "      <th>21</th>\n",
       "      <td>USDT</td>\n",
       "      <td>2021-11-26 00:00:00</td>\n",
       "      <td>2021-12-03 00:00:00</td>\n",
       "      <td>1.196647e-06</td>\n",
       "      <td>0.005574</td>\n",
       "      <td>-0.000699</td>\n",
       "      <td>0.0002</td>\n",
       "    </tr>\n",
       "  </tbody>\n",
       "</table>\n",
       "</div>"
      ],
      "text/plain": [
       "   token            from_date              to_date  return_close  volatility  \\\n",
       "0   AAVE  2021-12-03 00:00:00  2021-12-10 00:00:00 -1.859135e-03    0.265586   \n",
       "1    ADA  2021-12-03 00:00:00  2021-12-10 00:00:00 -1.642346e-03    0.256026   \n",
       "2   ATOM  2021-12-03 00:00:00  2021-12-10 00:00:00 -1.301783e-03    0.391062   \n",
       "3   AVAX  2021-12-03 00:00:00  2021-12-10 00:00:00 -1.319137e-03    0.339445   \n",
       "4    BTC  2021-12-03 00:00:00  2021-12-10 00:00:00 -9.823465e-04    0.188591   \n",
       "5   COMP  2021-12-03 00:00:00  2021-12-10 00:00:00 -1.923459e-03    0.278310   \n",
       "6    CRV  2021-12-03 00:00:00  2021-12-10 00:00:00 -1.489699e-03    0.397615   \n",
       "7    DOT  2021-12-03 00:00:00  2021-12-10 00:00:00 -1.636989e-03    0.304766   \n",
       "8    ETH  2021-12-03 00:00:00  2021-12-10 00:00:00 -4.776079e-04    0.197325   \n",
       "9    SOL  2021-12-03 00:00:00  2021-12-10 00:00:00 -1.443281e-03    0.284609   \n",
       "10  USDT  2021-12-03 00:00:00  2021-12-10 00:00:00  4.226847e-18    0.017951   \n",
       "11  AAVE  2021-11-26 00:00:00  2021-12-03 00:00:00 -4.121321e-04    0.170229   \n",
       "12   ADA  2021-11-26 00:00:00  2021-12-03 00:00:00  2.064556e-04    0.175845   \n",
       "13  ATOM  2021-11-26 00:00:00  2021-12-03 00:00:00 -2.735259e-04    0.214038   \n",
       "14  AVAX  2021-11-26 00:00:00  2021-12-03 00:00:00 -4.593791e-04    0.278997   \n",
       "15   BTC  2021-11-26 00:00:00  2021-12-03 00:00:00 -2.169021e-04    0.119257   \n",
       "16  COMP  2021-11-26 00:00:00  2021-12-03 00:00:00 -3.483461e-04    0.182407   \n",
       "17   CRV  2021-11-26 00:00:00  2021-12-03 00:00:00 -1.296628e-03    0.324996   \n",
       "18   DOT  2021-11-26 00:00:00  2021-12-03 00:00:00 -5.354288e-04    0.199783   \n",
       "19   ETH  2021-11-26 00:00:00  2021-12-03 00:00:00  2.534913e-05    0.156376   \n",
       "20   SOL  2021-11-26 00:00:00  2021-12-03 00:00:00  7.505727e-04    0.213866   \n",
       "21  USDT  2021-11-26 00:00:00  2021-12-03 00:00:00  1.196647e-06    0.005574   \n",
       "\n",
       "    max_drawdown  close_range  \n",
       "0      -0.311738     -65.3840  \n",
       "1      -0.249587      -0.4128  \n",
       "2      -0.333049      -5.5440  \n",
       "3      -0.318094     -21.3200  \n",
       "4      -0.185505   -8551.8100  \n",
       "5      -0.298739     -74.2800  \n",
       "6      -0.330447      -1.0451  \n",
       "7      -0.314251      -8.5610  \n",
       "8      -0.163002    -346.1000  \n",
       "9      -0.257001     -50.0850  \n",
       "10     -0.004879       0.0000  \n",
       "11     -0.145920     -17.5130  \n",
       "12     -0.125953       0.0588  \n",
       "13     -0.147443      -1.3290  \n",
       "14     -0.134267      -8.8100  \n",
       "15     -0.085756   -2098.4400  \n",
       "16     -0.122382     -16.2800  \n",
       "17     -0.291536      -1.1558  \n",
       "18     -0.159613      -3.3760  \n",
       "19     -0.116088      19.2000  \n",
       "20     -0.109981      28.0620  \n",
       "21     -0.000699       0.0002  "
      ]
     },
     "execution_count": 10,
     "metadata": {},
     "output_type": "execute_result"
    }
   ],
   "source": [
    "pd.DataFrame([\n",
    "    pd.Series({\n",
    "        'token': scrap['token'].data,\n",
    "        'from_date': scrap['from_date'].data,\n",
    "        'to_date': scrap['to_date'].data,\n",
    "        'return_close': scrap['prices'].data.return_close.mean(),\n",
    "        'volatility': scrap['prices'].data.volatility.mean(),\n",
    "        'max_drawdown': scrap['prices'].data.max_drawdown.min(),\n",
    "        'close_range': scrap['prices'].data.close[-1] - scrap['prices'].data.close[0]})\n",
    "    for book, scrap in nbs.notebook_scraps.items()\n",
    "])\n",
    "                         "
   ]
  },
  {
   "cell_type": "code",
   "execution_count": null,
   "id": "205cdbf2-c419-4b76-9614-219ed283e4e7",
   "metadata": {},
   "outputs": [],
   "source": []
  }
 ],
 "metadata": {
  "kernelspec": {
   "display_name": "Python 3",
   "language": "python",
   "name": "python3"
  },
  "language_info": {
   "codemirror_mode": {
    "name": "ipython",
    "version": 3
   },
   "file_extension": ".py",
   "mimetype": "text/x-python",
   "name": "python",
   "nbconvert_exporter": "python",
   "pygments_lexer": "ipython3",
   "version": "3.8.8"
  }
 },
 "nbformat": 4,
 "nbformat_minor": 5
}
