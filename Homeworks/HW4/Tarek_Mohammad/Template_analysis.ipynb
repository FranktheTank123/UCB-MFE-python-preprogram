{
 "cells": [
  {
   "cell_type": "code",
   "execution_count": null,
   "id": "3ac452e2-5560-4897-bc22-729f041ac7cf",
   "metadata": {},
   "outputs": [],
   "source": [
    "import pandas as pd\n",
    "import numpy as np\n",
    "import sqlite3\n",
    "import gspread\n",
    "import scrapbook as sb\n",
    "\n",
    "import matplotlib.pyplot as plt\n",
    "from matplotlib import cm\n",
    "from matplotlib.dates import date2num, DateFormatter\n",
    "#from pandas.plotting import scatter_matrix\n",
    "\n",
    "plt.style.use('ggplot')\n",
    "plt.tight_layout()\n",
    "plt.rcParams['figure.figsize'] = [20, 20]\n",
    "\n",
    "%matplotlib inline"
   ]
  },
  {
   "cell_type": "markdown",
   "id": "7887427f-1333-4dd3-9ace-37476e32748a",
   "metadata": {},
   "source": [
    "### Identifying our data limits:"
   ]
  },
  {
   "cell_type": "code",
   "execution_count": null,
   "id": "1f384e40-5362-43de-a1a6-5c2cbcb0f81e",
   "metadata": {},
   "outputs": [],
   "source": [
    "connection_string = 'sqlite:///data/data.db'"
   ]
  },
  {
   "cell_type": "code",
   "execution_count": null,
   "id": "cd06162b-40bd-4cc4-bc8d-d9852da34bf3",
   "metadata": {},
   "outputs": [],
   "source": [
    "prices = pd.read_sql(f'''\n",
    "SELECT \n",
    "    * \n",
    "FROM ohlc \n",
    "''', connection_string)\n",
    "prices['ts'] = pd.to_datetime(prices['ts'])\n",
    "\n",
    "prices.set_index('ts', inplace=True)"
   ]
  },
  {
   "cell_type": "code",
   "execution_count": null,
   "id": "c8aec62c-8b29-434e-ade3-8a335eb8f29f",
   "metadata": {},
   "outputs": [],
   "source": [
    "prices.tail(336)"
   ]
  },
  {
   "cell_type": "markdown",
   "id": "dec9f618-9c07-4f99-9932-68d04c09775f",
   "metadata": {},
   "source": [
    "* The last 2 weeks of our df range from 2021-12-01 to 2021-12-14"
   ]
  },
  {
   "cell_type": "code",
   "execution_count": null,
   "id": "e2f245b0-5104-4212-a39a-d37a8b3d80b7",
   "metadata": {},
   "outputs": [],
   "source": [
    "print(\"We have the following tokens in our df: \")\n",
    "\n",
    "list(dict(prices.groupby(\"token\").size()).keys())"
   ]
  },
  {
   "cell_type": "code",
   "execution_count": null,
   "id": "17f09dc8-87cd-44f3-ab76-ec4f6296c929",
   "metadata": {
    "tags": [
     "parameters"
    ]
   },
   "outputs": [],
   "source": [
    "token = 'BTC'\n",
    "from_date = '2021-11-05'\n",
    "to_date = '2021-11-12'\n",
    "connection_string = 'sqlite:///data/data.db'"
   ]
  },
  {
   "cell_type": "code",
   "execution_count": null,
   "id": "b480a423-76f1-4515-af06-feac10f2d18c",
   "metadata": {},
   "outputs": [],
   "source": [
    "prices = pd.read_sql(f'''\n",
    "SELECT \n",
    "    * \n",
    "FROM ohlc \n",
    "WHERE \n",
    "    token = '{token}'\n",
    "    AND ts >= '{from_date}'\n",
    "    AND ts < '{to_date}'\n",
    "''', connection_string)\n",
    "prices['ts'] = pd.to_datetime(prices['ts'])\n",
    "\n",
    "prices.set_index('ts', inplace=True)"
   ]
  },
  {
   "cell_type": "code",
   "execution_count": null,
   "id": "9e0da076-5692-41c1-8547-c656b242dda6",
   "metadata": {},
   "outputs": [],
   "source": [
    "prices"
   ]
  },
  {
   "cell_type": "markdown",
   "id": "1f89579f-f1ab-4aa5-abb3-7be704ba40d6",
   "metadata": {},
   "source": [
    "### Functionalities:"
   ]
  },
  {
   "cell_type": "markdown",
   "id": "0185619a-c953-4af9-af26-f51db87e0c3a",
   "metadata": {},
   "source": [
    "#### Returns:"
   ]
  },
  {
   "cell_type": "code",
   "execution_count": null,
   "id": "76a3c863-a258-42e7-bc38-60ea4f54103e",
   "metadata": {},
   "outputs": [],
   "source": [
    "# func for returns:\n",
    "\n",
    "def ret_ohlc(df):\n",
    "    o = df.open\n",
    "    h = df.high\n",
    "    l = df.low\n",
    "    c = df.close\n",
    "    \n",
    "    # return for each column\n",
    "    oo = np.log(o/o.shift(1))\n",
    "    hh = np.log(h/h.shift(1))\n",
    "    ll = np.log(l/l.shift(1))\n",
    "    cc = np.log(c/c.shift(1))\n",
    "    \n",
    "    return oo, hh, ll, cc\n"
   ]
  },
  {
   "cell_type": "code",
   "execution_count": null,
   "id": "4c233343-7785-465b-8b1d-b1d83791d4ee",
   "metadata": {},
   "outputs": [],
   "source": [
    "oo, hh, ll, cc = ret_ohlc(prices)"
   ]
  },
  {
   "cell_type": "markdown",
   "id": "733340bb-ccd8-4278-af6a-21f17705c879",
   "metadata": {},
   "source": [
    "#### Volatility:"
   ]
  },
  {
   "cell_type": "code",
   "execution_count": null,
   "id": "aa1a7115-ed85-4964-8473-65c0e78fe39a",
   "metadata": {},
   "outputs": [],
   "source": [
    "# func for volatility:\n",
    "\n",
    "def vol_ohlc(df, lookback=10):\n",
    "    o = df.open\n",
    "    h = df.high\n",
    "    l = df.low\n",
    "    c = df.close\n",
    "    \n",
    "    k = 0.34 / (1.34 + (lookback+1)/(lookback-1))\n",
    "    cc = np.log(c/c.shift(1))\n",
    "    ho = np.log(h/o)\n",
    "    lo = np.log(l/o)\n",
    "    co = np.log(c/o)\n",
    "    oc = np.log(o/c.shift(1))\n",
    "    oc_sq = oc**2\n",
    "    cc_sq = cc**2\n",
    "    rs = ho*(ho-co)+lo*(lo-co)\n",
    "    close_vol = cc_sq.rolling(lookback).sum() * (1.0 / (lookback - 1.0))\n",
    "    open_vol = oc_sq.rolling(lookback).sum() * (1.0 / (lookback - 1.0))\n",
    "    window_rs = rs.rolling(lookback).sum() * (1.0 / (lookback - 1.0))\n",
    "    result = (open_vol + k * close_vol + (1-k) * window_rs).apply(np.sqrt) * np.sqrt(252)\n",
    "    result[:lookback-1] = np.nan\n",
    "    \n",
    "    return result"
   ]
  },
  {
   "cell_type": "code",
   "execution_count": null,
   "id": "a97e9c23-e6a3-4bc5-aa96-9e038ce274cf",
   "metadata": {},
   "outputs": [],
   "source": [
    "prices[\"return_close\"] = cc"
   ]
  },
  {
   "cell_type": "markdown",
   "id": "4599f63a-93a8-413a-b2db-598e407986d5",
   "metadata": {},
   "source": [
    "#### Maximum Drawdown:"
   ]
  },
  {
   "cell_type": "code",
   "execution_count": null,
   "id": "e3b6bc91-7c05-426d-8ad4-6f733cf8d101",
   "metadata": {},
   "outputs": [],
   "source": [
    "# maximum drawdown\n",
    "\n",
    "def max_dr():\n",
    "    x = (1+prices[\"return_close\"]).cumprod()\n",
    "    previous_peaks = x.cummax()\n",
    "    drawdown = (x - previous_peaks)/previous_peaks\n",
    "    \n",
    "    return drawdown\n"
   ]
  },
  {
   "cell_type": "code",
   "execution_count": null,
   "id": "9e11d659-439f-45c0-b035-80d97846ddd7",
   "metadata": {},
   "outputs": [],
   "source": [
    "drawdown = max_dr()\n",
    "drawdown.plot.line()"
   ]
  },
  {
   "cell_type": "code",
   "execution_count": null,
   "id": "dfdac19a-0eee-41ea-bf93-5c742c100cba",
   "metadata": {},
   "outputs": [],
   "source": [
    "prices[\"volatility\"] = vol_ohlc(prices)\n",
    "prices[\"max_drawdown\"] = drawdown"
   ]
  },
  {
   "cell_type": "markdown",
   "id": "bdcdfa36-5b1b-42b7-ab74-26a5453221a4",
   "metadata": {},
   "source": [
    "#### Plotting:"
   ]
  },
  {
   "cell_type": "code",
   "execution_count": null,
   "id": "af787499-8fe7-40ec-a8be-db0c718ec7ed",
   "metadata": {},
   "outputs": [],
   "source": [
    "%%capture\n",
    "\n",
    "fig, ax = plt.subplots(nrows=2, ncols=2, figsize=(20, 20))"
   ]
  },
  {
   "cell_type": "code",
   "execution_count": null,
   "id": "38aa339e-a3fd-4541-8489-113c1f59aaa5",
   "metadata": {},
   "outputs": [],
   "source": [
    "# plotting\n",
    "\n",
    "def series_plot(data, events=None, ax=None):\n",
    "    data.plot(ax=ax)\n",
    "    \n",
    "    start_of_days = data.between_time('00:00:00', '00:00:00').index.to_list()\n",
    "    end_of_days = start_of_days[1:] + [data.index[-1]]\n",
    "    colors = iter(cm.rainbow(np.linspace(0, 1, len(start_of_days))))\n",
    "    \n",
    "    for x, y in zip(start_of_days, end_of_days):\n",
    "        color = next(colors)\n",
    "        ax.axvspan(x, y, color=color, alpha=0.1)"
   ]
  },
  {
   "cell_type": "code",
   "execution_count": null,
   "id": "8b83bde1-0aeb-4f57-89ff-16af05e863b4",
   "metadata": {},
   "outputs": [],
   "source": [
    "series_plot(prices[['return_close']], ax=ax[0, 0])\n",
    "series_plot(prices[['volatility']], ax=ax[0, 1])\n",
    "series_plot(prices[['max_drawdown']], ax=ax[1, 0])\n",
    "series_plot(prices[['close']], ax=ax[1, 1])\n",
    "fig.suptitle(f'Market action for {token} between {from_date} and {to_date}')\n",
    "fig"
   ]
  },
  {
   "cell_type": "code",
   "execution_count": null,
   "id": "f4d094eb-e654-4400-a895-d6617c431e0c",
   "metadata": {},
   "outputs": [],
   "source": [
    "prices"
   ]
  },
  {
   "cell_type": "code",
   "execution_count": null,
   "id": "35621101-71da-4208-becb-a4203136f292",
   "metadata": {},
   "outputs": [],
   "source": [
    "sb.glue('token', token)\n",
    "sb.glue('from_date', from_date)\n",
    "sb.glue('to_date', to_date)\n",
    "sb.glue('prices', prices, encoder='pandas')\n",
    "sb.glue('summary_plot', fig, encoder='display', display=True)"
   ]
  },
  {
   "cell_type": "code",
   "execution_count": null,
   "id": "d377333a-f142-4eac-84db-db7fc634f81d",
   "metadata": {},
   "outputs": [],
   "source": []
  },
  {
   "cell_type": "code",
   "execution_count": null,
   "id": "999fd6e5-1a6e-4aec-8d43-482d4f8e443b",
   "metadata": {},
   "outputs": [],
   "source": []
  }
 ],
 "metadata": {
  "kernelspec": {
   "display_name": "Python 3",
   "language": "python",
   "name": "python3"
  },
  "language_info": {
   "codemirror_mode": {
    "name": "ipython",
    "version": 3
   },
   "file_extension": ".py",
   "mimetype": "text/x-python",
   "name": "python",
   "nbconvert_exporter": "python",
   "pygments_lexer": "ipython3",
   "version": "3.8.8"
  }
 },
 "nbformat": 4,
 "nbformat_minor": 5
}
