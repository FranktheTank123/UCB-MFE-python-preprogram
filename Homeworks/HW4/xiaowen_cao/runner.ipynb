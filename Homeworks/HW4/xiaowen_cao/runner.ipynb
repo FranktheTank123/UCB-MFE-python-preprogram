{
 "cells": [
  {
   "cell_type": "code",
   "execution_count": 36,
   "id": "b5558da9-6da5-4753-87c2-0d3beeca1ace",
   "metadata": {},
   "outputs": [
    {
     "name": "stderr",
     "output_type": "stream",
     "text": [
      "/var/folders/bz/0mv11kbs3fz_x4xp7yfflz940000gn/T/ipykernel_7002/1103317066.py:7: FutureWarning: pyarrow.HadoopFileSystem is deprecated as of 2.0.0, please use pyarrow.fs.HadoopFileSystem instead.\n",
      "  from pyarrow import HadoopFileSystem\n"
     ]
    }
   ],
   "source": [
    "import papermill as pm\n",
    "import scrapbook as sb\n",
    "import pandas as pd\n",
    "from datetime import datetime, timedelta\n",
    "import sqlite3\n",
    "import os\n",
    "from pyarrow import HadoopFileSystem"
   ]
  },
  {
   "cell_type": "code",
   "execution_count": 37,
   "id": "a8457343-d8c9-4de9-83fd-8c301a1c1bab",
   "metadata": {},
   "outputs": [],
   "source": [
    "def fetch_from_to_date(token,delta=14):\n",
    "    with sqlite3.connect('data/data.db') as conn:\n",
    "        cur = conn.cursor()\n",
    "        cur.execute(f\"SELECT ts,token FROM ohlc WHERE token='{token}'\")\n",
    "        data = cur.fetchall()\n",
    "        data = pd.DataFrame(data,columns=['ts','token'])\n",
    "    date = data.ts.str[:10].unique()\n",
    "    for i in range(1,len(date)):\n",
    "        s = date[-i].split('-')\n",
    "        if datetime(int(s[0]),int(s[1]),int(s[2])).weekday()==6:\n",
    "            to_date = datetime(int(s[0]),int(s[1]),int(s[2]))\n",
    "            break\n",
    "    \n",
    "    return (to_date-timedelta(delta),to_date)\n"
   ]
  },
  {
   "cell_type": "code",
   "execution_count": 38,
   "id": "96af45b5-9cdf-43d2-aac6-667508db0661",
   "metadata": {},
   "outputs": [],
   "source": [
    "base_output_folder = os.path.expanduser('outputs')\n",
    "\n",
    "if not os.path.exists(base_output_folder):\n",
    "        os.makedirs(base_output_folder)"
   ]
  },
  {
   "cell_type": "code",
   "execution_count": 39,
   "id": "5c44ec6f-15aa-4ecf-987f-9358d1df9f97",
   "metadata": {},
   "outputs": [],
   "source": [
    "with sqlite3.connect('data/data.db') as conn:\n",
    "    cur = conn.cursor()\n",
    "    cur.execute(f\"SELECT token,ts FROM ohlc\")\n",
    "    data = cur.fetchall()\n",
    "    data = pd.DataFrame(data,columns=['token','ts'])\n",
    "\n",
    "tokens = data.token.unique().tolist()\n",
    "connection_string = 'sqlite:///data/data.db'"
   ]
  },
  {
   "cell_type": "code",
   "execution_count": 40,
   "id": "f127a858-46fb-4b10-85cd-d422af369ea3",
   "metadata": {},
   "outputs": [
    {
     "name": "stdout",
     "output_type": "stream",
     "text": [
      "running for BTC for date 2021-11-28 00:00:00 to 2021-12-12 00:00:00\r"
     ]
    },
    {
     "data": {
      "application/vnd.jupyter.widget-view+json": {
       "model_id": "72192378af344087a53019e31e001a3f",
       "version_major": 2,
       "version_minor": 0
      },
      "text/plain": [
       "Executing:   0%|          | 0/11 [00:00<?, ?cell/s]"
      ]
     },
     "metadata": {},
     "output_type": "display_data"
    },
    {
     "name": "stdout",
     "output_type": "stream",
     "text": [
      "running for ETH for date 2021-11-28 00:00:00 to 2021-12-12 00:00:00\r"
     ]
    },
    {
     "data": {
      "application/vnd.jupyter.widget-view+json": {
       "model_id": "f42f679c65c84dbb80fcf6c453cfbafb",
       "version_major": 2,
       "version_minor": 0
      },
      "text/plain": [
       "Executing:   0%|          | 0/11 [00:00<?, ?cell/s]"
      ]
     },
     "metadata": {},
     "output_type": "display_data"
    },
    {
     "name": "stdout",
     "output_type": "stream",
     "text": [
      "running for USDT for date 2021-11-28 00:00:00 to 2021-12-12 00:00:00\r"
     ]
    },
    {
     "data": {
      "application/vnd.jupyter.widget-view+json": {
       "model_id": "cf73ec4d612246aa98d23100e6c2e6cb",
       "version_major": 2,
       "version_minor": 0
      },
      "text/plain": [
       "Executing:   0%|          | 0/11 [00:00<?, ?cell/s]"
      ]
     },
     "metadata": {},
     "output_type": "display_data"
    },
    {
     "name": "stdout",
     "output_type": "stream",
     "text": [
      "running for SOL for date 2021-11-28 00:00:00 to 2021-12-12 00:00:00\r"
     ]
    },
    {
     "data": {
      "application/vnd.jupyter.widget-view+json": {
       "model_id": "636c3fcca67847529138d5b0632c2d93",
       "version_major": 2,
       "version_minor": 0
      },
      "text/plain": [
       "Executing:   0%|          | 0/11 [00:00<?, ?cell/s]"
      ]
     },
     "metadata": {},
     "output_type": "display_data"
    },
    {
     "name": "stdout",
     "output_type": "stream",
     "text": [
      "running for ADA for date 2021-11-28 00:00:00 to 2021-12-12 00:00:00\r"
     ]
    },
    {
     "data": {
      "application/vnd.jupyter.widget-view+json": {
       "model_id": "afef75227f6f4a8db18e58ce2aef0a46",
       "version_major": 2,
       "version_minor": 0
      },
      "text/plain": [
       "Executing:   0%|          | 0/11 [00:00<?, ?cell/s]"
      ]
     },
     "metadata": {},
     "output_type": "display_data"
    },
    {
     "name": "stdout",
     "output_type": "stream",
     "text": [
      "running for DOT for date 2021-11-28 00:00:00 to 2021-12-12 00:00:00\r"
     ]
    },
    {
     "data": {
      "application/vnd.jupyter.widget-view+json": {
       "model_id": "56925c7797c745dc854b868a4a3d5a2a",
       "version_major": 2,
       "version_minor": 0
      },
      "text/plain": [
       "Executing:   0%|          | 0/11 [00:00<?, ?cell/s]"
      ]
     },
     "metadata": {},
     "output_type": "display_data"
    },
    {
     "name": "stdout",
     "output_type": "stream",
     "text": [
      "running for AVAX for date 2021-11-28 00:00:00 to 2021-12-12 00:00:00\r"
     ]
    },
    {
     "data": {
      "application/vnd.jupyter.widget-view+json": {
       "model_id": "08d4618375064698b9633cbc8ecec060",
       "version_major": 2,
       "version_minor": 0
      },
      "text/plain": [
       "Executing:   0%|          | 0/11 [00:00<?, ?cell/s]"
      ]
     },
     "metadata": {},
     "output_type": "display_data"
    },
    {
     "name": "stdout",
     "output_type": "stream",
     "text": [
      "running for ATOM for date 2021-11-28 00:00:00 to 2021-12-12 00:00:00\r"
     ]
    },
    {
     "data": {
      "application/vnd.jupyter.widget-view+json": {
       "model_id": "1a7f408ce8a74818872b63c84081a8a8",
       "version_major": 2,
       "version_minor": 0
      },
      "text/plain": [
       "Executing:   0%|          | 0/11 [00:00<?, ?cell/s]"
      ]
     },
     "metadata": {},
     "output_type": "display_data"
    },
    {
     "name": "stdout",
     "output_type": "stream",
     "text": [
      "running for CRV for date 2021-11-28 00:00:00 to 2021-12-12 00:00:00\r"
     ]
    },
    {
     "data": {
      "application/vnd.jupyter.widget-view+json": {
       "model_id": "9f6d756a0bca49a8a1b0acc4ebfa6e1a",
       "version_major": 2,
       "version_minor": 0
      },
      "text/plain": [
       "Executing:   0%|          | 0/11 [00:00<?, ?cell/s]"
      ]
     },
     "metadata": {},
     "output_type": "display_data"
    },
    {
     "name": "stdout",
     "output_type": "stream",
     "text": [
      "running for AAVE for date 2021-11-28 00:00:00 to 2021-12-12 00:00:00\r"
     ]
    },
    {
     "data": {
      "application/vnd.jupyter.widget-view+json": {
       "model_id": "06f163b9ca5249249b3035d4e323350a",
       "version_major": 2,
       "version_minor": 0
      },
      "text/plain": [
       "Executing:   0%|          | 0/11 [00:00<?, ?cell/s]"
      ]
     },
     "metadata": {},
     "output_type": "display_data"
    },
    {
     "name": "stdout",
     "output_type": "stream",
     "text": [
      "running for COMP for date 2021-11-28 00:00:00 to 2021-12-12 00:00:00\r"
     ]
    },
    {
     "data": {
      "application/vnd.jupyter.widget-view+json": {
       "model_id": "3cc6c5315c0c4a0fa0d65fc6d806d81b",
       "version_major": 2,
       "version_minor": 0
      },
      "text/plain": [
       "Executing:   0%|          | 0/11 [00:00<?, ?cell/s]"
      ]
     },
     "metadata": {},
     "output_type": "display_data"
    }
   ],
   "source": [
    "for token in tokens:\n",
    "    from_date,to_date = fetch_from_to_date(token)\n",
    "    print(f'running for {token} for date {from_date} to {to_date}',end='\\r')\n",
    "    res = pm.execute_notebook(\n",
    "    'template.ipynb',\n",
    "    f'{base_output_folder}/market_analysis_{token}_{from_date}.ipynb',\n",
    "    parameters = {\n",
    "        'from_date': f'{from_date}',\n",
    "        'to_date': f'{to_date}',\n",
    "        'token': token,\n",
    "        'connection_string': connection_string,\n",
    "    }\n",
    ")"
   ]
  },
  {
   "cell_type": "code",
   "execution_count": 41,
   "id": "ac437576-a3aa-42ab-b5b0-5878ca2847ec",
   "metadata": {},
   "outputs": [],
   "source": [
    "nbs = sb.read_notebooks('outputs')"
   ]
  },
  {
   "cell_type": "code",
   "execution_count": 42,
   "id": "af73299b-da1f-4edc-a6cb-37f876ff0b01",
   "metadata": {},
   "outputs": [],
   "source": [
    "def sum_by_token(scrap):\n",
    "    ans = pd.Series({'token':scrap['token'].data,\n",
    "                     'from_date':scrap['from_date'].data,\n",
    "                     'to_date':scrap['to_date'].data,\n",
    "                     'hour_ret':scrap['prices'].data.h_ret.mean(),\n",
    "                     'volatility': scrap['prices'].data.volatility.mean(),\n",
    "                     'MDD':scrap['prices'].data.MDD.iloc[-1],\n",
    "                     'last-first':scrap['prices'].data.close.iloc[-1]-scrap['prices'].data.close.iloc[0]})\n",
    "    return ans\n",
    "                \n",
    "summary = pd.DataFrame([sum_by_token(scrap) for book, scrap in nbs.notebook_scraps.items()])   "
   ]
  },
  {
   "cell_type": "code",
   "execution_count": 43,
   "id": "190952ee-05fd-42a0-8a87-6d109b5807ac",
   "metadata": {},
   "outputs": [
    {
     "data": {
      "text/html": [
       "<div>\n",
       "<style scoped>\n",
       "    .dataframe tbody tr th:only-of-type {\n",
       "        vertical-align: middle;\n",
       "    }\n",
       "\n",
       "    .dataframe tbody tr th {\n",
       "        vertical-align: top;\n",
       "    }\n",
       "\n",
       "    .dataframe thead th {\n",
       "        text-align: right;\n",
       "    }\n",
       "</style>\n",
       "<table border=\"1\" class=\"dataframe\">\n",
       "  <thead>\n",
       "    <tr style=\"text-align: right;\">\n",
       "      <th></th>\n",
       "      <th>token</th>\n",
       "      <th>from_date</th>\n",
       "      <th>to_date</th>\n",
       "      <th>hour_ret</th>\n",
       "      <th>volatility</th>\n",
       "      <th>MDD</th>\n",
       "      <th>last-first</th>\n",
       "    </tr>\n",
       "  </thead>\n",
       "  <tbody>\n",
       "    <tr>\n",
       "      <th>0</th>\n",
       "      <td>AAVE</td>\n",
       "      <td>2021-11-28 00:00:00</td>\n",
       "      <td>2021-12-12 00:00:00</td>\n",
       "      <td>-7.966076e-04</td>\n",
       "      <td>0.216086</td>\n",
       "      <td>-0.378718</td>\n",
       "      <td>-54.6270</td>\n",
       "    </tr>\n",
       "    <tr>\n",
       "      <th>1</th>\n",
       "      <td>ADA</td>\n",
       "      <td>2021-11-28 00:00:00</td>\n",
       "      <td>2021-12-12 00:00:00</td>\n",
       "      <td>-3.838681e-04</td>\n",
       "      <td>0.216895</td>\n",
       "      <td>-0.312827</td>\n",
       "      <td>-0.1864</td>\n",
       "    </tr>\n",
       "    <tr>\n",
       "      <th>2</th>\n",
       "      <td>ATOM</td>\n",
       "      <td>2021-11-28 00:00:00</td>\n",
       "      <td>2021-12-12 00:00:00</td>\n",
       "      <td>-2.990623e-04</td>\n",
       "      <td>0.301824</td>\n",
       "      <td>-0.329570</td>\n",
       "      <td>-2.5480</td>\n",
       "    </tr>\n",
       "    <tr>\n",
       "      <th>3</th>\n",
       "      <td>AVAX</td>\n",
       "      <td>2021-11-28 00:00:00</td>\n",
       "      <td>2021-12-12 00:00:00</td>\n",
       "      <td>-8.466182e-04</td>\n",
       "      <td>0.296780</td>\n",
       "      <td>-0.385790</td>\n",
       "      <td>-28.0900</td>\n",
       "    </tr>\n",
       "    <tr>\n",
       "      <th>4</th>\n",
       "      <td>BTC</td>\n",
       "      <td>2021-11-28 00:00:00</td>\n",
       "      <td>2021-12-12 00:00:00</td>\n",
       "      <td>-3.406668e-04</td>\n",
       "      <td>0.156635</td>\n",
       "      <td>-0.206462</td>\n",
       "      <td>-5905.8800</td>\n",
       "    </tr>\n",
       "    <tr>\n",
       "      <th>5</th>\n",
       "      <td>COMP</td>\n",
       "      <td>2021-11-28 00:00:00</td>\n",
       "      <td>2021-12-12 00:00:00</td>\n",
       "      <td>-9.904995e-04</td>\n",
       "      <td>0.228941</td>\n",
       "      <td>-0.377871</td>\n",
       "      <td>-76.5000</td>\n",
       "    </tr>\n",
       "    <tr>\n",
       "      <th>6</th>\n",
       "      <td>CRV</td>\n",
       "      <td>2021-11-28 00:00:00</td>\n",
       "      <td>2021-12-12 00:00:00</td>\n",
       "      <td>-8.274572e-04</td>\n",
       "      <td>0.334854</td>\n",
       "      <td>-0.394862</td>\n",
       "      <td>-1.1723</td>\n",
       "    </tr>\n",
       "    <tr>\n",
       "      <th>7</th>\n",
       "      <td>DOT</td>\n",
       "      <td>2021-11-28 00:00:00</td>\n",
       "      <td>2021-12-12 00:00:00</td>\n",
       "      <td>-7.070815e-04</td>\n",
       "      <td>0.251924</td>\n",
       "      <td>-0.350800</td>\n",
       "      <td>-7.4170</td>\n",
       "    </tr>\n",
       "    <tr>\n",
       "      <th>8</th>\n",
       "      <td>ETH</td>\n",
       "      <td>2021-11-28 00:00:00</td>\n",
       "      <td>2021-12-12 00:00:00</td>\n",
       "      <td>-5.362780e-05</td>\n",
       "      <td>0.177805</td>\n",
       "      <td>-0.188101</td>\n",
       "      <td>-72.9700</td>\n",
       "    </tr>\n",
       "    <tr>\n",
       "      <th>9</th>\n",
       "      <td>SOL</td>\n",
       "      <td>2021-11-28 00:00:00</td>\n",
       "      <td>2021-12-12 00:00:00</td>\n",
       "      <td>-3.683968e-04</td>\n",
       "      <td>0.248157</td>\n",
       "      <td>-0.317207</td>\n",
       "      <td>-22.4020</td>\n",
       "    </tr>\n",
       "    <tr>\n",
       "      <th>10</th>\n",
       "      <td>USDT</td>\n",
       "      <td>2021-11-28 00:00:00</td>\n",
       "      <td>2021-12-12 00:00:00</td>\n",
       "      <td>-8.949407e-07</td>\n",
       "      <td>0.011066</td>\n",
       "      <td>-0.005073</td>\n",
       "      <td>-0.0003</td>\n",
       "    </tr>\n",
       "  </tbody>\n",
       "</table>\n",
       "</div>"
      ],
      "text/plain": [
       "   token            from_date              to_date      hour_ret  volatility  \\\n",
       "0   AAVE  2021-11-28 00:00:00  2021-12-12 00:00:00 -7.966076e-04    0.216086   \n",
       "1    ADA  2021-11-28 00:00:00  2021-12-12 00:00:00 -3.838681e-04    0.216895   \n",
       "2   ATOM  2021-11-28 00:00:00  2021-12-12 00:00:00 -2.990623e-04    0.301824   \n",
       "3   AVAX  2021-11-28 00:00:00  2021-12-12 00:00:00 -8.466182e-04    0.296780   \n",
       "4    BTC  2021-11-28 00:00:00  2021-12-12 00:00:00 -3.406668e-04    0.156635   \n",
       "5   COMP  2021-11-28 00:00:00  2021-12-12 00:00:00 -9.904995e-04    0.228941   \n",
       "6    CRV  2021-11-28 00:00:00  2021-12-12 00:00:00 -8.274572e-04    0.334854   \n",
       "7    DOT  2021-11-28 00:00:00  2021-12-12 00:00:00 -7.070815e-04    0.251924   \n",
       "8    ETH  2021-11-28 00:00:00  2021-12-12 00:00:00 -5.362780e-05    0.177805   \n",
       "9    SOL  2021-11-28 00:00:00  2021-12-12 00:00:00 -3.683968e-04    0.248157   \n",
       "10  USDT  2021-11-28 00:00:00  2021-12-12 00:00:00 -8.949407e-07    0.011066   \n",
       "\n",
       "         MDD  last-first  \n",
       "0  -0.378718    -54.6270  \n",
       "1  -0.312827     -0.1864  \n",
       "2  -0.329570     -2.5480  \n",
       "3  -0.385790    -28.0900  \n",
       "4  -0.206462  -5905.8800  \n",
       "5  -0.377871    -76.5000  \n",
       "6  -0.394862     -1.1723  \n",
       "7  -0.350800     -7.4170  \n",
       "8  -0.188101    -72.9700  \n",
       "9  -0.317207    -22.4020  \n",
       "10 -0.005073     -0.0003  "
      ]
     },
     "execution_count": 43,
     "metadata": {},
     "output_type": "execute_result"
    }
   ],
   "source": [
    "summary"
   ]
  },
  {
   "cell_type": "code",
   "execution_count": null,
   "id": "51bd32f6-6ada-4440-a2d8-e4d08929634c",
   "metadata": {},
   "outputs": [],
   "source": []
  }
 ],
 "metadata": {
  "kernelspec": {
   "display_name": "Python 3 (ipykernel)",
   "language": "python",
   "name": "python3"
  },
  "language_info": {
   "codemirror_mode": {
    "name": "ipython",
    "version": 3
   },
   "file_extension": ".py",
   "mimetype": "text/x-python",
   "name": "python",
   "nbconvert_exporter": "python",
   "pygments_lexer": "ipython3",
   "version": "3.8.12"
  }
 },
 "nbformat": 4,
 "nbformat_minor": 5
}
