{
 "cells": [
  {
   "cell_type": "code",
   "execution_count": 1,
   "id": "c34cc811-1e1e-4b0c-b51c-60045b8789a9",
   "metadata": {},
   "outputs": [
    {
     "name": "stderr",
     "output_type": "stream",
     "text": [
      "C:\\Users\\lenovo\\AppData\\Local\\conda\\conda\\envs\\lecture_4\\lib\\site-packages\\papermill\\iorw.py:50: FutureWarning: pyarrow.HadoopFileSystem is deprecated as of 2.0.0, please use pyarrow.fs.HadoopFileSystem instead.\n",
      "  from pyarrow import HadoopFileSystem\n"
     ]
    }
   ],
   "source": [
    "import papermill as pm\n",
    "import scrapbook as sb\n",
    "import pandas as pd\n",
    "from datetime import datetime, timedelta\n",
    "import os"
   ]
  },
  {
   "cell_type": "code",
   "execution_count": 2,
   "id": "99dee0bc-5f95-4187-8fc7-5509ae8121a7",
   "metadata": {},
   "outputs": [],
   "source": [
    "def last_dow(d: datetime, dow: int) -> datetime:\n",
    "    '''\n",
    "    Gets the date of the last day of week, using datetime convention of Monday is 0 and Sunday is 6\n",
    "    '''\n",
    "    dow_d = d.weekday()\n",
    "    days_delta = (7 - dow) + dow_d if dow_d < dow else dow_d - dow\n",
    "    return d - timedelta(days=days_delta)"
   ]
  },
  {
   "cell_type": "code",
   "execution_count": 3,
   "id": "b0d8bd4a-b132-4db4-b95e-2493fef8b467",
   "metadata": {},
   "outputs": [],
   "source": [
    "run_dates = [(last_dow(datetime(2021, 12, 3), 4) + timedelta(days=7 * x)) for x in range(1)]\n",
    "tokens = ['BTC', 'ETH', 'USDT', 'SOL', 'ADA', 'DOT', 'AVAX', 'ATOM', 'CRV',\n",
    "       'AAVE', 'COMP']\n",
    "connection_string = 'sqlite:///data/data.db'\n",
    "events_db = 'crypto_events_database'\n"
   ]
  },
  {
   "cell_type": "code",
   "execution_count": 4,
   "id": "f7ee23c7-7aee-4ff6-ad69-31b2a8176923",
   "metadata": {},
   "outputs": [],
   "source": [
    "base_output_folder = os.path.expanduser('outputs')\n",
    "\n",
    "if not os.path.exists(base_output_folder):\n",
    "        os.makedirs(base_output_folder)"
   ]
  },
  {
   "cell_type": "code",
   "execution_count": 5,
   "id": "b22ba493-9371-4b69-b86b-7e9e0c138ec9",
   "metadata": {},
   "outputs": [
    {
     "name": "stdout",
     "output_type": "stream",
     "text": [
      "running for BTC for date 2021-12-03 00:00:00 to 2021-12-17 00:00:00\r"
     ]
    },
    {
     "data": {
      "application/vnd.jupyter.widget-view+json": {
       "model_id": "8bb7e06478904c03a1653a4c0fbd67af",
       "version_major": 2,
       "version_minor": 0
      },
      "text/plain": [
       "Executing:   0%|          | 0/12 [00:00<?, ?cell/s]"
      ]
     },
     "metadata": {},
     "output_type": "display_data"
    },
    {
     "name": "stdout",
     "output_type": "stream",
     "text": [
      "running for ETH for date 2021-12-03 00:00:00 to 2021-12-17 00:00:00\r"
     ]
    },
    {
     "data": {
      "application/vnd.jupyter.widget-view+json": {
       "model_id": "f573a5441f3a4c12b4409f41b5d7b744",
       "version_major": 2,
       "version_minor": 0
      },
      "text/plain": [
       "Executing:   0%|          | 0/12 [00:00<?, ?cell/s]"
      ]
     },
     "metadata": {},
     "output_type": "display_data"
    },
    {
     "name": "stdout",
     "output_type": "stream",
     "text": [
      "running for USDT for date 2021-12-03 00:00:00 to 2021-12-17 00:00:00\r"
     ]
    },
    {
     "data": {
      "application/vnd.jupyter.widget-view+json": {
       "model_id": "2d94e2fa8fa045dbba6df8c74a04b34c",
       "version_major": 2,
       "version_minor": 0
      },
      "text/plain": [
       "Executing:   0%|          | 0/12 [00:00<?, ?cell/s]"
      ]
     },
     "metadata": {},
     "output_type": "display_data"
    },
    {
     "name": "stdout",
     "output_type": "stream",
     "text": [
      "running for SOL for date 2021-12-03 00:00:00 to 2021-12-17 00:00:00\r"
     ]
    },
    {
     "data": {
      "application/vnd.jupyter.widget-view+json": {
       "model_id": "caf1af66a9964624b4aff61c62fa9a6c",
       "version_major": 2,
       "version_minor": 0
      },
      "text/plain": [
       "Executing:   0%|          | 0/12 [00:00<?, ?cell/s]"
      ]
     },
     "metadata": {},
     "output_type": "display_data"
    },
    {
     "name": "stdout",
     "output_type": "stream",
     "text": [
      "running for ADA for date 2021-12-03 00:00:00 to 2021-12-17 00:00:00\r"
     ]
    },
    {
     "data": {
      "application/vnd.jupyter.widget-view+json": {
       "model_id": "17613b14f5044f90b438f2a9afc105c1",
       "version_major": 2,
       "version_minor": 0
      },
      "text/plain": [
       "Executing:   0%|          | 0/12 [00:00<?, ?cell/s]"
      ]
     },
     "metadata": {},
     "output_type": "display_data"
    },
    {
     "name": "stdout",
     "output_type": "stream",
     "text": [
      "running for DOT for date 2021-12-03 00:00:00 to 2021-12-17 00:00:00\r"
     ]
    },
    {
     "data": {
      "application/vnd.jupyter.widget-view+json": {
       "model_id": "29ea10fa44ec441da1ba3affa1ceecf0",
       "version_major": 2,
       "version_minor": 0
      },
      "text/plain": [
       "Executing:   0%|          | 0/12 [00:00<?, ?cell/s]"
      ]
     },
     "metadata": {},
     "output_type": "display_data"
    },
    {
     "name": "stdout",
     "output_type": "stream",
     "text": [
      "running for AVAX for date 2021-12-03 00:00:00 to 2021-12-17 00:00:00\r"
     ]
    },
    {
     "data": {
      "application/vnd.jupyter.widget-view+json": {
       "model_id": "1adc498d43bc4490a38684be1fd232fb",
       "version_major": 2,
       "version_minor": 0
      },
      "text/plain": [
       "Executing:   0%|          | 0/12 [00:00<?, ?cell/s]"
      ]
     },
     "metadata": {},
     "output_type": "display_data"
    },
    {
     "name": "stdout",
     "output_type": "stream",
     "text": [
      "running for ATOM for date 2021-12-03 00:00:00 to 2021-12-17 00:00:00\r"
     ]
    },
    {
     "data": {
      "application/vnd.jupyter.widget-view+json": {
       "model_id": "29ee57cfc2084fada74adea1fd69cf41",
       "version_major": 2,
       "version_minor": 0
      },
      "text/plain": [
       "Executing:   0%|          | 0/12 [00:00<?, ?cell/s]"
      ]
     },
     "metadata": {},
     "output_type": "display_data"
    },
    {
     "name": "stdout",
     "output_type": "stream",
     "text": [
      "running for CRV for date 2021-12-03 00:00:00 to 2021-12-17 00:00:00\r"
     ]
    },
    {
     "data": {
      "application/vnd.jupyter.widget-view+json": {
       "model_id": "cdfc0efbe7f24e4d8d40cf93e93817ea",
       "version_major": 2,
       "version_minor": 0
      },
      "text/plain": [
       "Executing:   0%|          | 0/12 [00:00<?, ?cell/s]"
      ]
     },
     "metadata": {},
     "output_type": "display_data"
    },
    {
     "name": "stdout",
     "output_type": "stream",
     "text": [
      "running for AAVE for date 2021-12-03 00:00:00 to 2021-12-17 00:00:00\r"
     ]
    },
    {
     "data": {
      "application/vnd.jupyter.widget-view+json": {
       "model_id": "87d2662133f3442b9811838e367380ba",
       "version_major": 2,
       "version_minor": 0
      },
      "text/plain": [
       "Executing:   0%|          | 0/12 [00:00<?, ?cell/s]"
      ]
     },
     "metadata": {},
     "output_type": "display_data"
    },
    {
     "name": "stdout",
     "output_type": "stream",
     "text": [
      "running for COMP for date 2021-12-03 00:00:00 to 2021-12-17 00:00:00\r"
     ]
    },
    {
     "data": {
      "application/vnd.jupyter.widget-view+json": {
       "model_id": "aea9fbe8b19740ba9783bb5642ceeddf",
       "version_major": 2,
       "version_minor": 0
      },
      "text/plain": [
       "Executing:   0%|          | 0/12 [00:00<?, ?cell/s]"
      ]
     },
     "metadata": {},
     "output_type": "display_data"
    }
   ],
   "source": [
    "for run_date in run_dates:\n",
    "    for token in tokens:\n",
    "        print(f'running for {token} for date {run_date} to {run_date + timedelta(days=14)}', end='\\r')\n",
    "        res = pm.execute_notebook(\n",
    "            'homework_template.ipynb',\n",
    "            #f'{base_output_folder}/homework_{token}_{run_date}.ipynb',\n",
    "            f'./outputs/homework_{token}.ipynb',\n",
    "            parameters = {\n",
    "                'from_date': f'{run_date}',\n",
    "                'to_date': f'{run_date + timedelta(days=14)}',\n",
    "                'token': token,\n",
    "                'connection_string': connection_string,\n",
    "                \n",
    "            }\n",
    "        )"
   ]
  },
  {
   "cell_type": "code",
   "execution_count": 6,
   "id": "d961b164-68c5-4cd9-bafb-6f33cd1b152e",
   "metadata": {},
   "outputs": [],
   "source": [
    "nb = sb.read_notebook('./outputs/homework_AAVE.ipynb')"
   ]
  },
  {
   "cell_type": "code",
   "execution_count": 9,
   "id": "ab7d4772-bf69-4f48-80aa-85a8fa652e99",
   "metadata": {},
   "outputs": [],
   "source": [
    "nbs = sb.read_notebooks('outputs')"
   ]
  },
  {
   "cell_type": "code",
   "execution_count": 11,
   "id": "4560b4db-163f-45c1-a6ac-c04967647e9d",
   "metadata": {},
   "outputs": [
    {
     "data": {
      "text/html": [
       "<div>\n",
       "<style scoped>\n",
       "    .dataframe tbody tr th:only-of-type {\n",
       "        vertical-align: middle;\n",
       "    }\n",
       "\n",
       "    .dataframe tbody tr th {\n",
       "        vertical-align: top;\n",
       "    }\n",
       "\n",
       "    .dataframe thead th {\n",
       "        text-align: right;\n",
       "    }\n",
       "</style>\n",
       "<table border=\"1\" class=\"dataframe\">\n",
       "  <thead>\n",
       "    <tr style=\"text-align: right;\">\n",
       "      <th></th>\n",
       "      <th>token</th>\n",
       "      <th>from_date</th>\n",
       "      <th>to_date</th>\n",
       "      <th>avg_volatility</th>\n",
       "      <th>avg_hour_return</th>\n",
       "      <th>max_maxdrawdown</th>\n",
       "      <th>cp_range</th>\n",
       "    </tr>\n",
       "  </thead>\n",
       "  <tbody>\n",
       "    <tr>\n",
       "      <th>0</th>\n",
       "      <td>AAVE</td>\n",
       "      <td>2021-12-03 00:00:00</td>\n",
       "      <td>2021-12-17 00:00:00</td>\n",
       "      <td>1.752612e-04</td>\n",
       "      <td>-1.211053e-03</td>\n",
       "      <td>0.347274</td>\n",
       "      <td>-75.9340</td>\n",
       "    </tr>\n",
       "    <tr>\n",
       "      <th>1</th>\n",
       "      <td>ADA</td>\n",
       "      <td>2021-12-03 00:00:00</td>\n",
       "      <td>2021-12-17 00:00:00</td>\n",
       "      <td>1.671833e-04</td>\n",
       "      <td>-1.006479e-03</td>\n",
       "      <td>0.298565</td>\n",
       "      <td>-0.4604</td>\n",
       "    </tr>\n",
       "    <tr>\n",
       "      <th>2</th>\n",
       "      <td>ATOM</td>\n",
       "      <td>2021-12-03 00:00:00</td>\n",
       "      <td>2021-12-17 00:00:00</td>\n",
       "      <td>3.437599e-04</td>\n",
       "      <td>-7.874822e-04</td>\n",
       "      <td>0.358851</td>\n",
       "      <td>-6.7240</td>\n",
       "    </tr>\n",
       "    <tr>\n",
       "      <th>3</th>\n",
       "      <td>AVAX</td>\n",
       "      <td>2021-12-03 00:00:00</td>\n",
       "      <td>2021-12-17 00:00:00</td>\n",
       "      <td>3.328926e-04</td>\n",
       "      <td>-6.148849e-04</td>\n",
       "      <td>0.314853</td>\n",
       "      <td>-21.2700</td>\n",
       "    </tr>\n",
       "    <tr>\n",
       "      <th>4</th>\n",
       "      <td>BTC</td>\n",
       "      <td>2021-12-03 00:00:00</td>\n",
       "      <td>2021-12-17 00:00:00</td>\n",
       "      <td>7.665507e-05</td>\n",
       "      <td>-5.176663e-04</td>\n",
       "      <td>0.183139</td>\n",
       "      <td>-8302.3700</td>\n",
       "    </tr>\n",
       "    <tr>\n",
       "      <th>5</th>\n",
       "      <td>COMP</td>\n",
       "      <td>2021-12-03 00:00:00</td>\n",
       "      <td>2021-12-17 00:00:00</td>\n",
       "      <td>2.222839e-04</td>\n",
       "      <td>-1.221948e-03</td>\n",
       "      <td>0.352782</td>\n",
       "      <td>-85.4800</td>\n",
       "    </tr>\n",
       "    <tr>\n",
       "      <th>6</th>\n",
       "      <td>CRV</td>\n",
       "      <td>2021-12-03 00:00:00</td>\n",
       "      <td>2021-12-17 00:00:00</td>\n",
       "      <td>3.876365e-04</td>\n",
       "      <td>-9.963357e-04</td>\n",
       "      <td>0.315167</td>\n",
       "      <td>-1.3551</td>\n",
       "    </tr>\n",
       "    <tr>\n",
       "      <th>7</th>\n",
       "      <td>DOT</td>\n",
       "      <td>2021-12-03 00:00:00</td>\n",
       "      <td>2021-12-17 00:00:00</td>\n",
       "      <td>2.344013e-04</td>\n",
       "      <td>-1.002786e-03</td>\n",
       "      <td>0.310326</td>\n",
       "      <td>-9.7610</td>\n",
       "    </tr>\n",
       "    <tr>\n",
       "      <th>8</th>\n",
       "      <td>ETH</td>\n",
       "      <td>2021-12-03 00:00:00</td>\n",
       "      <td>2021-12-17 00:00:00</td>\n",
       "      <td>9.410404e-05</td>\n",
       "      <td>-5.222530e-04</td>\n",
       "      <td>0.192979</td>\n",
       "      <td>-676.5600</td>\n",
       "    </tr>\n",
       "    <tr>\n",
       "      <th>9</th>\n",
       "      <td>SOL</td>\n",
       "      <td>2021-12-03 00:00:00</td>\n",
       "      <td>2021-12-17 00:00:00</td>\n",
       "      <td>1.872772e-04</td>\n",
       "      <td>-1.248468e-03</td>\n",
       "      <td>0.362517</td>\n",
       "      <td>-74.4950</td>\n",
       "    </tr>\n",
       "    <tr>\n",
       "      <th>10</th>\n",
       "      <td>USDT</td>\n",
       "      <td>2021-12-03 00:00:00</td>\n",
       "      <td>2021-12-17 00:00:00</td>\n",
       "      <td>1.210432e-07</td>\n",
       "      <td>-2.941647e-07</td>\n",
       "      <td>0.005272</td>\n",
       "      <td>-0.0001</td>\n",
       "    </tr>\n",
       "  </tbody>\n",
       "</table>\n",
       "</div>"
      ],
      "text/plain": [
       "   token            from_date              to_date  avg_volatility  \\\n",
       "0   AAVE  2021-12-03 00:00:00  2021-12-17 00:00:00    1.752612e-04   \n",
       "1    ADA  2021-12-03 00:00:00  2021-12-17 00:00:00    1.671833e-04   \n",
       "2   ATOM  2021-12-03 00:00:00  2021-12-17 00:00:00    3.437599e-04   \n",
       "3   AVAX  2021-12-03 00:00:00  2021-12-17 00:00:00    3.328926e-04   \n",
       "4    BTC  2021-12-03 00:00:00  2021-12-17 00:00:00    7.665507e-05   \n",
       "5   COMP  2021-12-03 00:00:00  2021-12-17 00:00:00    2.222839e-04   \n",
       "6    CRV  2021-12-03 00:00:00  2021-12-17 00:00:00    3.876365e-04   \n",
       "7    DOT  2021-12-03 00:00:00  2021-12-17 00:00:00    2.344013e-04   \n",
       "8    ETH  2021-12-03 00:00:00  2021-12-17 00:00:00    9.410404e-05   \n",
       "9    SOL  2021-12-03 00:00:00  2021-12-17 00:00:00    1.872772e-04   \n",
       "10  USDT  2021-12-03 00:00:00  2021-12-17 00:00:00    1.210432e-07   \n",
       "\n",
       "    avg_hour_return  max_maxdrawdown   cp_range  \n",
       "0     -1.211053e-03         0.347274   -75.9340  \n",
       "1     -1.006479e-03         0.298565    -0.4604  \n",
       "2     -7.874822e-04         0.358851    -6.7240  \n",
       "3     -6.148849e-04         0.314853   -21.2700  \n",
       "4     -5.176663e-04         0.183139 -8302.3700  \n",
       "5     -1.221948e-03         0.352782   -85.4800  \n",
       "6     -9.963357e-04         0.315167    -1.3551  \n",
       "7     -1.002786e-03         0.310326    -9.7610  \n",
       "8     -5.222530e-04         0.192979  -676.5600  \n",
       "9     -1.248468e-03         0.362517   -74.4950  \n",
       "10    -2.941647e-07         0.005272    -0.0001  "
      ]
     },
     "execution_count": 11,
     "metadata": {},
     "output_type": "execute_result"
    }
   ],
   "source": [
    "pd.DataFrame([\n",
    "    pd.Series({\n",
    "        'token': scrap['token'].data,\n",
    "        'from_date': scrap['from_date'].data,\n",
    "        'to_date': scrap['to_date'].data,\n",
    "        'avg_volatility': scrap['factors'].data.close_vol.mean(),\n",
    "        'avg_hour_return':scrap['factors'].data.hour_return.mean(),\n",
    "        'max_maxdrawdown':scrap['factors'].data.max_drawdown.max(),\n",
    "        'cp_range':scrap['factors'].data.close.iloc[-1]-scrap['factors'].data.close.iloc[0]}) \n",
    "    for book, scrap in nbs.notebook_scraps.items()\n",
    "])"
   ]
  },
  {
   "cell_type": "code",
   "execution_count": null,
   "id": "5e03f01f-9db7-4e48-b9fb-d3aee035a56e",
   "metadata": {},
   "outputs": [],
   "source": []
  },
  {
   "cell_type": "code",
   "execution_count": null,
   "id": "cd55b469-7a8d-46e6-84d0-e842baa4da84",
   "metadata": {},
   "outputs": [],
   "source": []
  },
  {
   "cell_type": "code",
   "execution_count": null,
   "id": "4d5ca5bc-ca35-4f9b-977b-f1ea7fcb57a1",
   "metadata": {},
   "outputs": [],
   "source": []
  }
 ],
 "metadata": {
  "kernelspec": {
   "display_name": "Python 3 (ipykernel)",
   "language": "python",
   "name": "python3"
  },
  "language_info": {
   "codemirror_mode": {
    "name": "ipython",
    "version": 3
   },
   "file_extension": ".py",
   "mimetype": "text/x-python",
   "name": "python",
   "nbconvert_exporter": "python",
   "pygments_lexer": "ipython3",
   "version": "3.10.0"
  }
 },
 "nbformat": 4,
 "nbformat_minor": 5
}
