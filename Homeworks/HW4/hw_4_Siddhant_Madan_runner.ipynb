{
 "cells": [
  {
   "cell_type": "markdown",
   "id": "concerned-italian",
   "metadata": {},
   "source": [
    "# Homework 4\n",
    "## Author: Siddhant Madan"
   ]
  },
  {
   "cell_type": "markdown",
   "id": "pharmaceutical-vaccine",
   "metadata": {},
   "source": [
    "### Import libraries"
   ]
  },
  {
   "cell_type": "code",
   "execution_count": 1,
   "id": "silent-cameroon",
   "metadata": {},
   "outputs": [],
   "source": [
    "import warnings\n",
    "from IPython.core.interactiveshell import InteractiveShell\n",
    "InteractiveShell.ast_node_interactivity = \"all\"\n",
    "warnings.filterwarnings(\"ignore\")"
   ]
  },
  {
   "cell_type": "code",
   "execution_count": 2,
   "id": "announced-tracker",
   "metadata": {},
   "outputs": [],
   "source": [
    "import papermill as pm\n",
    "import scrapbook as sb\n",
    "import pandas as pd\n",
    "from datetime import datetime, timedelta\n",
    "import os"
   ]
  },
  {
   "cell_type": "markdown",
   "id": "blocked-workplace",
   "metadata": {},
   "source": [
    "### Fetch the dataset"
   ]
  },
  {
   "cell_type": "markdown",
   "id": "changing-reproduction",
   "metadata": {},
   "source": [
    "We need the dataset here to find out the available dates and tokens in the dataset"
   ]
  },
  {
   "cell_type": "code",
   "execution_count": 3,
   "id": "stunning-radio",
   "metadata": {},
   "outputs": [
    {
     "data": {
      "text/html": [
       "<div>\n",
       "<style scoped>\n",
       "    .dataframe tbody tr th:only-of-type {\n",
       "        vertical-align: middle;\n",
       "    }\n",
       "\n",
       "    .dataframe tbody tr th {\n",
       "        vertical-align: top;\n",
       "    }\n",
       "\n",
       "    .dataframe thead th {\n",
       "        text-align: right;\n",
       "    }\n",
       "</style>\n",
       "<table border=\"1\" class=\"dataframe\">\n",
       "  <thead>\n",
       "    <tr style=\"text-align: right;\">\n",
       "      <th></th>\n",
       "      <th>open</th>\n",
       "      <th>high</th>\n",
       "      <th>low</th>\n",
       "      <th>close</th>\n",
       "      <th>volume</th>\n",
       "      <th>volumeUSD</th>\n",
       "      <th>token</th>\n",
       "      <th>chain</th>\n",
       "    </tr>\n",
       "    <tr>\n",
       "      <th>ts</th>\n",
       "      <th></th>\n",
       "      <th></th>\n",
       "      <th></th>\n",
       "      <th></th>\n",
       "      <th></th>\n",
       "      <th></th>\n",
       "      <th></th>\n",
       "      <th></th>\n",
       "    </tr>\n",
       "  </thead>\n",
       "  <tbody>\n",
       "    <tr>\n",
       "      <th>2021-11-01 00:00:00</th>\n",
       "      <td>61421.37</td>\n",
       "      <td>61669.14</td>\n",
       "      <td>61239.60</td>\n",
       "      <td>61343.68</td>\n",
       "      <td>256.433869</td>\n",
       "      <td>1.575751e+07</td>\n",
       "      <td>BTC</td>\n",
       "      <td>BTC</td>\n",
       "    </tr>\n",
       "    <tr>\n",
       "      <th>2021-11-01 01:00:00</th>\n",
       "      <td>61346.17</td>\n",
       "      <td>61709.82</td>\n",
       "      <td>61171.22</td>\n",
       "      <td>61610.93</td>\n",
       "      <td>332.481185</td>\n",
       "      <td>2.044558e+07</td>\n",
       "      <td>BTC</td>\n",
       "      <td>BTC</td>\n",
       "    </tr>\n",
       "    <tr>\n",
       "      <th>2021-11-01 02:00:00</th>\n",
       "      <td>61610.94</td>\n",
       "      <td>61779.87</td>\n",
       "      <td>61299.89</td>\n",
       "      <td>61333.17</td>\n",
       "      <td>314.250720</td>\n",
       "      <td>1.935390e+07</td>\n",
       "      <td>BTC</td>\n",
       "      <td>BTC</td>\n",
       "    </tr>\n",
       "    <tr>\n",
       "      <th>2021-11-01 03:00:00</th>\n",
       "      <td>61333.17</td>\n",
       "      <td>61457.28</td>\n",
       "      <td>60050.00</td>\n",
       "      <td>60589.06</td>\n",
       "      <td>1059.931358</td>\n",
       "      <td>6.414625e+07</td>\n",
       "      <td>BTC</td>\n",
       "      <td>BTC</td>\n",
       "    </tr>\n",
       "    <tr>\n",
       "      <th>2021-11-01 04:00:00</th>\n",
       "      <td>60590.23</td>\n",
       "      <td>60655.00</td>\n",
       "      <td>59752.92</td>\n",
       "      <td>59971.89</td>\n",
       "      <td>621.419878</td>\n",
       "      <td>3.744744e+07</td>\n",
       "      <td>BTC</td>\n",
       "      <td>BTC</td>\n",
       "    </tr>\n",
       "  </tbody>\n",
       "</table>\n",
       "</div>"
      ],
      "text/plain": [
       "                         open      high       low     close       volume  \\\n",
       "ts                                                                         \n",
       "2021-11-01 00:00:00  61421.37  61669.14  61239.60  61343.68   256.433869   \n",
       "2021-11-01 01:00:00  61346.17  61709.82  61171.22  61610.93   332.481185   \n",
       "2021-11-01 02:00:00  61610.94  61779.87  61299.89  61333.17   314.250720   \n",
       "2021-11-01 03:00:00  61333.17  61457.28  60050.00  60589.06  1059.931358   \n",
       "2021-11-01 04:00:00  60590.23  60655.00  59752.92  59971.89   621.419878   \n",
       "\n",
       "                        volumeUSD token chain  \n",
       "ts                                             \n",
       "2021-11-01 00:00:00  1.575751e+07   BTC   BTC  \n",
       "2021-11-01 01:00:00  2.044558e+07   BTC   BTC  \n",
       "2021-11-01 02:00:00  1.935390e+07   BTC   BTC  \n",
       "2021-11-01 03:00:00  6.414625e+07   BTC   BTC  \n",
       "2021-11-01 04:00:00  3.744744e+07   BTC   BTC  "
      ]
     },
     "execution_count": 3,
     "metadata": {},
     "output_type": "execute_result"
    }
   ],
   "source": [
    "connection_string = 'sqlite:///data/data.db'\n",
    "\n",
    "prices = pd.read_sql(f'''\n",
    "SELECT \n",
    "    * \n",
    "FROM ohlc \n",
    "''', connection_string)\n",
    "prices['ts'] = pd.to_datetime(prices['ts'])\n",
    "\n",
    "prices.set_index('ts', inplace=True)\n",
    "\n",
    "prices.head()"
   ]
  },
  {
   "cell_type": "markdown",
   "id": "auburn-uncertainty",
   "metadata": {},
   "source": [
    "### Get the dates for the analysis period"
   ]
  },
  {
   "cell_type": "code",
   "execution_count": 4,
   "id": "encouraging-disabled",
   "metadata": {},
   "outputs": [],
   "source": [
    "def last_dow(d: datetime, dow: int) -> datetime:\n",
    "    '''\n",
    "    From the 7 days gone by before `d`, get the date specified by `dow` \n",
    "    (using datetime convention of Monday is 0 and Sunday is 6)\n",
    "    \n",
    "    Basically, use this function if you want to find out what was the\n",
    "    date on the last Monday or the last Tuesday or whatever\n",
    "    \n",
    "    '''\n",
    "    dow_d = d.weekday()\n",
    "    days_delta = (dow_d - dow + 7) if dow_d < dow else dow_d - dow\n",
    "    return d - timedelta(days=days_delta)"
   ]
  },
  {
   "cell_type": "markdown",
   "id": "extensive-cream",
   "metadata": {},
   "source": [
    "To get the last two complete weeks (i.e. two full periods of Monday to Sunday) we will first get the last Sunday available in the dataset, and then using this as the last date of our analysis, we will get the two previous rolling weeks."
   ]
  },
  {
   "cell_type": "markdown",
   "id": "dimensional-galaxy",
   "metadata": {},
   "source": [
    "Note: We will send the Monday after this last Sunday to the analysis notebook even though this date may not be in the dataset; this is because in the analysis notebook, the `to_date` argument is exclusive."
   ]
  },
  {
   "cell_type": "code",
   "execution_count": 5,
   "id": "undefined-language",
   "metadata": {},
   "outputs": [
    {
     "name": "stdout",
     "output_type": "stream",
     "text": [
      "Our analysis will run from 2021-11-29 00:00:00 (inclusive) to 2021-12-13 00:00:00 (exclusive)\n"
     ]
    }
   ],
   "source": [
    "last_date = prices.index.sort_values()[-1] # last available date in the dataset\n",
    "last_sunday = last_dow(last_date, 6) # last Sunday in the dataset\n",
    "end_date = last_sunday + timedelta(days=1) # this is the Monday after the last available Sunday\n",
    "start_date = end_date - timedelta(days=14) # two Mondays before the end_date\n",
    "\n",
    "print(f'Our analysis will run from {start_date} (inclusive) to {end_date} (exclusive)')"
   ]
  },
  {
   "cell_type": "markdown",
   "id": "destroyed-visiting",
   "metadata": {},
   "source": [
    "### Get all the unique tokens in the dataset"
   ]
  },
  {
   "cell_type": "code",
   "execution_count": 6,
   "id": "appropriate-wayne",
   "metadata": {},
   "outputs": [],
   "source": [
    "tokens = prices.token.unique()"
   ]
  },
  {
   "cell_type": "code",
   "execution_count": 7,
   "id": "worth-dialogue",
   "metadata": {},
   "outputs": [
    {
     "name": "stdout",
     "output_type": "stream",
     "text": [
      "Tokens present in the dataset: ['BTC' 'ETH' 'USDT' 'SOL' 'ADA' 'DOT' 'AVAX' 'ATOM' 'CRV' 'AAVE' 'COMP']\n"
     ]
    }
   ],
   "source": [
    "print(f'Tokens present in the dataset: {tokens}')"
   ]
  },
  {
   "cell_type": "markdown",
   "id": "acting-treaty",
   "metadata": {},
   "source": [
    "### Get path to output folder"
   ]
  },
  {
   "cell_type": "markdown",
   "id": "right-personal",
   "metadata": {},
   "source": [
    "Create the folder if not present already"
   ]
  },
  {
   "cell_type": "code",
   "execution_count": 8,
   "id": "blond-rating",
   "metadata": {},
   "outputs": [],
   "source": [
    "base_output_folder = os.path.expanduser('outputs')\n",
    "\n",
    "if not os.path.exists(base_output_folder):\n",
    "        os.makedirs(base_output_folder)"
   ]
  },
  {
   "cell_type": "markdown",
   "id": "spectacular-preview",
   "metadata": {},
   "source": [
    "### Run the template for all the tokens"
   ]
  },
  {
   "cell_type": "code",
   "execution_count": 9,
   "id": "danish-supervision",
   "metadata": {},
   "outputs": [
    {
     "name": "stdout",
     "output_type": "stream",
     "text": [
      "running for BTC for date 2021-11-29 00:00:00 to 2021-12-13 00:00:00\r"
     ]
    },
    {
     "data": {
      "application/vnd.jupyter.widget-view+json": {
       "model_id": "a4a31412df364bf4a6b3755e6ee126fe",
       "version_major": 2,
       "version_minor": 0
      },
      "text/plain": [
       "Executing:   0%|          | 0/22 [00:00<?, ?cell/s]"
      ]
     },
     "metadata": {},
     "output_type": "display_data"
    },
    {
     "name": "stdout",
     "output_type": "stream",
     "text": [
      "running for ETH for date 2021-11-29 00:00:00 to 2021-12-13 00:00:00\r"
     ]
    },
    {
     "data": {
      "application/vnd.jupyter.widget-view+json": {
       "model_id": "4ec115cffb1240a382cef7ca75edd1b7",
       "version_major": 2,
       "version_minor": 0
      },
      "text/plain": [
       "Executing:   0%|          | 0/22 [00:00<?, ?cell/s]"
      ]
     },
     "metadata": {},
     "output_type": "display_data"
    },
    {
     "name": "stdout",
     "output_type": "stream",
     "text": [
      "running for USDT for date 2021-11-29 00:00:00 to 2021-12-13 00:00:00\r"
     ]
    },
    {
     "data": {
      "application/vnd.jupyter.widget-view+json": {
       "model_id": "54b1de43cf38440dbdea45bd6613b8ff",
       "version_major": 2,
       "version_minor": 0
      },
      "text/plain": [
       "Executing:   0%|          | 0/22 [00:00<?, ?cell/s]"
      ]
     },
     "metadata": {},
     "output_type": "display_data"
    },
    {
     "name": "stdout",
     "output_type": "stream",
     "text": [
      "running for SOL for date 2021-11-29 00:00:00 to 2021-12-13 00:00:00\r"
     ]
    },
    {
     "data": {
      "application/vnd.jupyter.widget-view+json": {
       "model_id": "fc21588098474753b6c5e464f3a0d1d3",
       "version_major": 2,
       "version_minor": 0
      },
      "text/plain": [
       "Executing:   0%|          | 0/22 [00:00<?, ?cell/s]"
      ]
     },
     "metadata": {},
     "output_type": "display_data"
    },
    {
     "name": "stdout",
     "output_type": "stream",
     "text": [
      "running for ADA for date 2021-11-29 00:00:00 to 2021-12-13 00:00:00\r"
     ]
    },
    {
     "data": {
      "application/vnd.jupyter.widget-view+json": {
       "model_id": "25bf46a8f58f433cb4009d0965234e72",
       "version_major": 2,
       "version_minor": 0
      },
      "text/plain": [
       "Executing:   0%|          | 0/22 [00:00<?, ?cell/s]"
      ]
     },
     "metadata": {},
     "output_type": "display_data"
    },
    {
     "name": "stdout",
     "output_type": "stream",
     "text": [
      "running for DOT for date 2021-11-29 00:00:00 to 2021-12-13 00:00:00\r"
     ]
    },
    {
     "data": {
      "application/vnd.jupyter.widget-view+json": {
       "model_id": "15333e529df64fbcba177023934fa0e5",
       "version_major": 2,
       "version_minor": 0
      },
      "text/plain": [
       "Executing:   0%|          | 0/22 [00:00<?, ?cell/s]"
      ]
     },
     "metadata": {},
     "output_type": "display_data"
    },
    {
     "name": "stdout",
     "output_type": "stream",
     "text": [
      "running for AVAX for date 2021-11-29 00:00:00 to 2021-12-13 00:00:00\r"
     ]
    },
    {
     "data": {
      "application/vnd.jupyter.widget-view+json": {
       "model_id": "c195954e547245d3b7b4bd2ab7706bdf",
       "version_major": 2,
       "version_minor": 0
      },
      "text/plain": [
       "Executing:   0%|          | 0/22 [00:00<?, ?cell/s]"
      ]
     },
     "metadata": {},
     "output_type": "display_data"
    },
    {
     "name": "stdout",
     "output_type": "stream",
     "text": [
      "running for ATOM for date 2021-11-29 00:00:00 to 2021-12-13 00:00:00\r"
     ]
    },
    {
     "data": {
      "application/vnd.jupyter.widget-view+json": {
       "model_id": "55e9f8f20f964c6db29cea5d8351a44e",
       "version_major": 2,
       "version_minor": 0
      },
      "text/plain": [
       "Executing:   0%|          | 0/22 [00:00<?, ?cell/s]"
      ]
     },
     "metadata": {},
     "output_type": "display_data"
    },
    {
     "name": "stdout",
     "output_type": "stream",
     "text": [
      "running for CRV for date 2021-11-29 00:00:00 to 2021-12-13 00:00:00\r"
     ]
    },
    {
     "data": {
      "application/vnd.jupyter.widget-view+json": {
       "model_id": "1d2e97f96e7c4bd4b81aa982689ae676",
       "version_major": 2,
       "version_minor": 0
      },
      "text/plain": [
       "Executing:   0%|          | 0/22 [00:00<?, ?cell/s]"
      ]
     },
     "metadata": {},
     "output_type": "display_data"
    },
    {
     "name": "stdout",
     "output_type": "stream",
     "text": [
      "running for AAVE for date 2021-11-29 00:00:00 to 2021-12-13 00:00:00\r"
     ]
    },
    {
     "data": {
      "application/vnd.jupyter.widget-view+json": {
       "model_id": "3206ffbdd7b546279c435f22336f39cc",
       "version_major": 2,
       "version_minor": 0
      },
      "text/plain": [
       "Executing:   0%|          | 0/22 [00:00<?, ?cell/s]"
      ]
     },
     "metadata": {},
     "output_type": "display_data"
    },
    {
     "name": "stdout",
     "output_type": "stream",
     "text": [
      "running for COMP for date 2021-11-29 00:00:00 to 2021-12-13 00:00:00\r"
     ]
    },
    {
     "data": {
      "application/vnd.jupyter.widget-view+json": {
       "model_id": "82daeb6441a4452bab8b655013af42ea",
       "version_major": 2,
       "version_minor": 0
      },
      "text/plain": [
       "Executing:   0%|          | 0/22 [00:00<?, ?cell/s]"
      ]
     },
     "metadata": {},
     "output_type": "display_data"
    }
   ],
   "source": [
    "for token in tokens:\n",
    "    print(f'running for {token} for date {start_date} to {end_date}', end='\\r')\n",
    "    res = pm.execute_notebook(\n",
    "        'hw_4_Siddhant_Madan_template.ipynb',\n",
    "        f'{base_output_folder}/hw_4_Siddhant_Madan_{token}_{start_date}.ipynb',\n",
    "        parameters = {\n",
    "            'from_date': f'{start_date}',\n",
    "            'to_date': f'{end_date}',\n",
    "            'token': token,\n",
    "            'connection_string': connection_string,\n",
    "        }\n",
    "    )"
   ]
  },
  {
   "cell_type": "markdown",
   "id": "killing-possible",
   "metadata": {},
   "source": [
    "### Read the created notebooks and show summary statistics"
   ]
  },
  {
   "cell_type": "code",
   "execution_count": 10,
   "id": "curious-tobago",
   "metadata": {},
   "outputs": [],
   "source": [
    "nbs = sb.read_notebooks('outputs')"
   ]
  },
  {
   "cell_type": "code",
   "execution_count": 11,
   "id": "interstate-pollution",
   "metadata": {},
   "outputs": [
    {
     "data": {
      "text/html": [
       "<div>\n",
       "<style scoped>\n",
       "    .dataframe tbody tr th:only-of-type {\n",
       "        vertical-align: middle;\n",
       "    }\n",
       "\n",
       "    .dataframe tbody tr th {\n",
       "        vertical-align: top;\n",
       "    }\n",
       "\n",
       "    .dataframe thead th {\n",
       "        text-align: right;\n",
       "    }\n",
       "</style>\n",
       "<table border=\"1\" class=\"dataframe\">\n",
       "  <thead>\n",
       "    <tr style=\"text-align: right;\">\n",
       "      <th></th>\n",
       "      <th>token</th>\n",
       "      <th>from_date</th>\n",
       "      <th>to_date</th>\n",
       "      <th>avg_hourly_return</th>\n",
       "      <th>avg_volatility</th>\n",
       "      <th>max_drawdown</th>\n",
       "      <th>price_range</th>\n",
       "    </tr>\n",
       "  </thead>\n",
       "  <tbody>\n",
       "    <tr>\n",
       "      <th>0</th>\n",
       "      <td>AAVE</td>\n",
       "      <td>2021-11-29 00:00:00</td>\n",
       "      <td>2021-12-13 00:00:00</td>\n",
       "      <td>-7.697463e-04</td>\n",
       "      <td>0.212356</td>\n",
       "      <td>-0.378718</td>\n",
       "      <td>-58.6450</td>\n",
       "    </tr>\n",
       "    <tr>\n",
       "      <th>1</th>\n",
       "      <td>ADA</td>\n",
       "      <td>2021-11-29 00:00:00</td>\n",
       "      <td>2021-12-13 00:00:00</td>\n",
       "      <td>-4.241618e-04</td>\n",
       "      <td>0.217477</td>\n",
       "      <td>-0.312827</td>\n",
       "      <td>-0.2445</td>\n",
       "    </tr>\n",
       "    <tr>\n",
       "      <th>2</th>\n",
       "      <td>ATOM</td>\n",
       "      <td>2021-11-29 00:00:00</td>\n",
       "      <td>2021-12-13 00:00:00</td>\n",
       "      <td>-1.776982e-04</td>\n",
       "      <td>0.299425</td>\n",
       "      <td>-0.329570</td>\n",
       "      <td>-2.7560</td>\n",
       "    </tr>\n",
       "    <tr>\n",
       "      <th>3</th>\n",
       "      <td>AVAX</td>\n",
       "      <td>2021-11-29 00:00:00</td>\n",
       "      <td>2021-12-13 00:00:00</td>\n",
       "      <td>-5.540979e-04</td>\n",
       "      <td>0.286536</td>\n",
       "      <td>-0.385790</td>\n",
       "      <td>-22.9300</td>\n",
       "    </tr>\n",
       "    <tr>\n",
       "      <th>4</th>\n",
       "      <td>BTC</td>\n",
       "      <td>2021-11-29 00:00:00</td>\n",
       "      <td>2021-12-13 00:00:00</td>\n",
       "      <td>-3.569235e-04</td>\n",
       "      <td>0.154894</td>\n",
       "      <td>-0.206462</td>\n",
       "      <td>-6999.8400</td>\n",
       "    </tr>\n",
       "    <tr>\n",
       "      <th>5</th>\n",
       "      <td>COMP</td>\n",
       "      <td>2021-11-29 00:00:00</td>\n",
       "      <td>2021-12-13 00:00:00</td>\n",
       "      <td>-1.015116e-03</td>\n",
       "      <td>0.224354</td>\n",
       "      <td>-0.377871</td>\n",
       "      <td>-88.2800</td>\n",
       "    </tr>\n",
       "    <tr>\n",
       "      <th>6</th>\n",
       "      <td>CRV</td>\n",
       "      <td>2021-11-29 00:00:00</td>\n",
       "      <td>2021-12-13 00:00:00</td>\n",
       "      <td>-5.385247e-04</td>\n",
       "      <td>0.328177</td>\n",
       "      <td>-0.394862</td>\n",
       "      <td>-1.0362</td>\n",
       "    </tr>\n",
       "    <tr>\n",
       "      <th>7</th>\n",
       "      <td>DOT</td>\n",
       "      <td>2021-11-29 00:00:00</td>\n",
       "      <td>2021-12-13 00:00:00</td>\n",
       "      <td>-4.540131e-04</td>\n",
       "      <td>0.245633</td>\n",
       "      <td>-0.350800</td>\n",
       "      <td>-6.0050</td>\n",
       "    </tr>\n",
       "    <tr>\n",
       "      <th>8</th>\n",
       "      <td>ETH</td>\n",
       "      <td>2021-11-29 00:00:00</td>\n",
       "      <td>2021-12-13 00:00:00</td>\n",
       "      <td>-6.065377e-05</td>\n",
       "      <td>0.174104</td>\n",
       "      <td>-0.188101</td>\n",
       "      <td>-141.7100</td>\n",
       "    </tr>\n",
       "    <tr>\n",
       "      <th>9</th>\n",
       "      <td>SOL</td>\n",
       "      <td>2021-11-29 00:00:00</td>\n",
       "      <td>2021-12-13 00:00:00</td>\n",
       "      <td>-3.446384e-04</td>\n",
       "      <td>0.242432</td>\n",
       "      <td>-0.317207</td>\n",
       "      <td>-26.6870</td>\n",
       "    </tr>\n",
       "    <tr>\n",
       "      <th>10</th>\n",
       "      <td>USDT</td>\n",
       "      <td>2021-11-29 00:00:00</td>\n",
       "      <td>2021-12-13 00:00:00</td>\n",
       "      <td>-2.517623e-07</td>\n",
       "      <td>0.011010</td>\n",
       "      <td>-0.005073</td>\n",
       "      <td>-0.0001</td>\n",
       "    </tr>\n",
       "  </tbody>\n",
       "</table>\n",
       "</div>"
      ],
      "text/plain": [
       "   token            from_date              to_date  avg_hourly_return  \\\n",
       "0   AAVE  2021-11-29 00:00:00  2021-12-13 00:00:00      -7.697463e-04   \n",
       "1    ADA  2021-11-29 00:00:00  2021-12-13 00:00:00      -4.241618e-04   \n",
       "2   ATOM  2021-11-29 00:00:00  2021-12-13 00:00:00      -1.776982e-04   \n",
       "3   AVAX  2021-11-29 00:00:00  2021-12-13 00:00:00      -5.540979e-04   \n",
       "4    BTC  2021-11-29 00:00:00  2021-12-13 00:00:00      -3.569235e-04   \n",
       "5   COMP  2021-11-29 00:00:00  2021-12-13 00:00:00      -1.015116e-03   \n",
       "6    CRV  2021-11-29 00:00:00  2021-12-13 00:00:00      -5.385247e-04   \n",
       "7    DOT  2021-11-29 00:00:00  2021-12-13 00:00:00      -4.540131e-04   \n",
       "8    ETH  2021-11-29 00:00:00  2021-12-13 00:00:00      -6.065377e-05   \n",
       "9    SOL  2021-11-29 00:00:00  2021-12-13 00:00:00      -3.446384e-04   \n",
       "10  USDT  2021-11-29 00:00:00  2021-12-13 00:00:00      -2.517623e-07   \n",
       "\n",
       "    avg_volatility  max_drawdown  price_range  \n",
       "0         0.212356     -0.378718     -58.6450  \n",
       "1         0.217477     -0.312827      -0.2445  \n",
       "2         0.299425     -0.329570      -2.7560  \n",
       "3         0.286536     -0.385790     -22.9300  \n",
       "4         0.154894     -0.206462   -6999.8400  \n",
       "5         0.224354     -0.377871     -88.2800  \n",
       "6         0.328177     -0.394862      -1.0362  \n",
       "7         0.245633     -0.350800      -6.0050  \n",
       "8         0.174104     -0.188101    -141.7100  \n",
       "9         0.242432     -0.317207     -26.6870  \n",
       "10        0.011010     -0.005073      -0.0001  "
      ]
     },
     "execution_count": 11,
     "metadata": {},
     "output_type": "execute_result"
    }
   ],
   "source": [
    "pd.DataFrame([\n",
    "    pd.Series({\n",
    "        'token': scrap['token'].data,\n",
    "        'from_date': scrap['from_date'].data,\n",
    "        'to_date': scrap['to_date'].data,\n",
    "        'avg_hourly_return': scrap['prices'].data.returns.mean(),\n",
    "        'avg_volatility': scrap['prices'].data.volatility.mean(),\n",
    "        'max_drawdown': scrap['prices'].data.max_drawdown.min(),\n",
    "        'price_range': (scrap['prices'].data.close[-1] - scrap['prices'].data.close[0])\n",
    "    }) \n",
    "    for book, scrap in nbs.notebook_scraps.items()\n",
    "])"
   ]
  }
 ],
 "metadata": {
  "kernelspec": {
   "display_name": "Python 3",
   "language": "python",
   "name": "python3"
  },
  "language_info": {
   "codemirror_mode": {
    "name": "ipython",
    "version": 3
   },
   "file_extension": ".py",
   "mimetype": "text/x-python",
   "name": "python",
   "nbconvert_exporter": "python",
   "pygments_lexer": "ipython3",
   "version": "3.7.9"
  }
 },
 "nbformat": 4,
 "nbformat_minor": 5
}
