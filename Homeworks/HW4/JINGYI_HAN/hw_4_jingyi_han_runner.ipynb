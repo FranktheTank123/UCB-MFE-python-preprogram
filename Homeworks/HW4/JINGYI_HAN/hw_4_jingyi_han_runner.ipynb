{
 "cells": [
  {
   "cell_type": "code",
   "execution_count": 1,
   "id": "bf9147e1-725a-4ab3-9f18-0de4003970dc",
   "metadata": {
    "tags": []
   },
   "outputs": [],
   "source": [
    "#!pip install -r requirements.txt"
   ]
  },
  {
   "cell_type": "code",
   "execution_count": 2,
   "id": "5b5e4e99-3fcf-409d-a3d2-e183c04246f1",
   "metadata": {},
   "outputs": [
    {
     "name": "stderr",
     "output_type": "stream",
     "text": [
      "/Users/jinghan/opt/anaconda3/lib/python3.8/site-packages/papermill/iorw.py:50: FutureWarning: pyarrow.HadoopFileSystem is deprecated as of 2.0.0, please use pyarrow.fs.HadoopFileSystem instead.\n",
      "  from pyarrow import HadoopFileSystem\n"
     ]
    }
   ],
   "source": [
    "import papermill as pm\n",
    "import scrapbook as sb\n",
    "import pandas as pd\n",
    "from datetime import datetime, timedelta\n",
    "import os\n",
    "import sqlite3"
   ]
  },
  {
   "cell_type": "code",
   "execution_count": 3,
   "id": "95273a9c-8a2b-474c-a953-4f0857827da3",
   "metadata": {},
   "outputs": [],
   "source": [
    "curr_path = os.getcwd()\n",
    "parent_path = os.path.dirname(os.path.dirname(os.path.dirname(curr_path)))\n",
    "connection_string = f'{parent_path}/Lectures/Lecture 4/data/data.db'\n",
    "events_db = 'crypto_events_database'"
   ]
  },
  {
   "cell_type": "code",
   "execution_count": 4,
   "id": "2212f626-72f0-4be6-a682-d8ec581e6718",
   "metadata": {},
   "outputs": [],
   "source": [
    "def last_dow(d: datetime, dow: int) -> datetime:\n",
    "    '''\n",
    "    Gets the date of the last day of week, using datetime convention of Monday is 0 and Sunday is 6\n",
    "    '''\n",
    "    dow_d = d.weekday()\n",
    "    days_delta = (7 - dow) + dow_d if dow_d < dow else dow_d - dow\n",
    "    return d - timedelta(days=days_delta)"
   ]
  },
  {
   "cell_type": "code",
   "execution_count": 5,
   "id": "634cd5d9-5336-4449-a36b-c370304b8d36",
   "metadata": {},
   "outputs": [
    {
     "data": {
      "text/plain": [
       "'2021-12-15 00:00:00'"
      ]
     },
     "execution_count": 5,
     "metadata": {},
     "output_type": "execute_result"
    }
   ],
   "source": [
    "conn = sqlite3.connect(connection_string)\n",
    "end_date = pd.read_sql(f'''\n",
    "SELECT \n",
    "    max(ts)\n",
    "FROM ohlc \n",
    "''', conn)\n",
    "end_date.iloc[0,0]"
   ]
  },
  {
   "cell_type": "code",
   "execution_count": 6,
   "id": "bbd58d15-9841-4127-adb1-b3a62eb8e3c2",
   "metadata": {},
   "outputs": [
    {
     "name": "stdout",
     "output_type": "stream",
     "text": [
      "start date: 2021-11-29 00:00:00, end date: 2021-12-13 00:00:00\n"
     ]
    }
   ],
   "source": [
    "run_date = last_dow(pd.to_datetime(end_date.iloc[0,0]),0)\n",
    "print(\"start date: {}, end date: {}\".format(run_date - timedelta(days=14), run_date))"
   ]
  },
  {
   "cell_type": "code",
   "execution_count": 7,
   "id": "8c7b68a0-d193-4f14-a96d-8eb0465732ce",
   "metadata": {},
   "outputs": [
    {
     "data": {
      "text/html": [
       "<div>\n",
       "<style scoped>\n",
       "    .dataframe tbody tr th:only-of-type {\n",
       "        vertical-align: middle;\n",
       "    }\n",
       "\n",
       "    .dataframe tbody tr th {\n",
       "        vertical-align: top;\n",
       "    }\n",
       "\n",
       "    .dataframe thead th {\n",
       "        text-align: right;\n",
       "    }\n",
       "</style>\n",
       "<table border=\"1\" class=\"dataframe\">\n",
       "  <thead>\n",
       "    <tr style=\"text-align: right;\">\n",
       "      <th></th>\n",
       "      <th>ts</th>\n",
       "      <th>dow</th>\n",
       "    </tr>\n",
       "  </thead>\n",
       "  <tbody>\n",
       "    <tr>\n",
       "      <th>672</th>\n",
       "      <td>2021-11-29</td>\n",
       "      <td>0</td>\n",
       "    </tr>\n",
       "    <tr>\n",
       "      <th>696</th>\n",
       "      <td>2021-11-30</td>\n",
       "      <td>1</td>\n",
       "    </tr>\n",
       "    <tr>\n",
       "      <th>720</th>\n",
       "      <td>2021-12-01</td>\n",
       "      <td>2</td>\n",
       "    </tr>\n",
       "    <tr>\n",
       "      <th>744</th>\n",
       "      <td>2021-12-02</td>\n",
       "      <td>3</td>\n",
       "    </tr>\n",
       "    <tr>\n",
       "      <th>768</th>\n",
       "      <td>2021-12-03</td>\n",
       "      <td>4</td>\n",
       "    </tr>\n",
       "    <tr>\n",
       "      <th>792</th>\n",
       "      <td>2021-12-04</td>\n",
       "      <td>5</td>\n",
       "    </tr>\n",
       "    <tr>\n",
       "      <th>816</th>\n",
       "      <td>2021-12-05</td>\n",
       "      <td>6</td>\n",
       "    </tr>\n",
       "    <tr>\n",
       "      <th>840</th>\n",
       "      <td>2021-12-06</td>\n",
       "      <td>0</td>\n",
       "    </tr>\n",
       "    <tr>\n",
       "      <th>864</th>\n",
       "      <td>2021-12-07</td>\n",
       "      <td>1</td>\n",
       "    </tr>\n",
       "    <tr>\n",
       "      <th>888</th>\n",
       "      <td>2021-12-08</td>\n",
       "      <td>2</td>\n",
       "    </tr>\n",
       "    <tr>\n",
       "      <th>912</th>\n",
       "      <td>2021-12-09</td>\n",
       "      <td>3</td>\n",
       "    </tr>\n",
       "    <tr>\n",
       "      <th>936</th>\n",
       "      <td>2021-12-10</td>\n",
       "      <td>4</td>\n",
       "    </tr>\n",
       "    <tr>\n",
       "      <th>960</th>\n",
       "      <td>2021-12-11</td>\n",
       "      <td>5</td>\n",
       "    </tr>\n",
       "    <tr>\n",
       "      <th>984</th>\n",
       "      <td>2021-12-12</td>\n",
       "      <td>6</td>\n",
       "    </tr>\n",
       "    <tr>\n",
       "      <th>1008</th>\n",
       "      <td>2021-12-13</td>\n",
       "      <td>0</td>\n",
       "    </tr>\n",
       "    <tr>\n",
       "      <th>1032</th>\n",
       "      <td>2021-12-14</td>\n",
       "      <td>1</td>\n",
       "    </tr>\n",
       "    <tr>\n",
       "      <th>1056</th>\n",
       "      <td>2021-12-15</td>\n",
       "      <td>2</td>\n",
       "    </tr>\n",
       "  </tbody>\n",
       "</table>\n",
       "</div>"
      ],
      "text/plain": [
       "              ts  dow\n",
       "672   2021-11-29    0\n",
       "696   2021-11-30    1\n",
       "720   2021-12-01    2\n",
       "744   2021-12-02    3\n",
       "768   2021-12-03    4\n",
       "792   2021-12-04    5\n",
       "816   2021-12-05    6\n",
       "840   2021-12-06    0\n",
       "864   2021-12-07    1\n",
       "888   2021-12-08    2\n",
       "912   2021-12-09    3\n",
       "936   2021-12-10    4\n",
       "960   2021-12-11    5\n",
       "984   2021-12-12    6\n",
       "1008  2021-12-13    0\n",
       "1032  2021-12-14    1\n",
       "1056  2021-12-15    2"
      ]
     },
     "execution_count": 7,
     "metadata": {},
     "output_type": "execute_result"
    }
   ],
   "source": [
    "# Verify the dates (check if all dates within the start date and end date are avaliable)\n",
    "dates = pd.read_sql(f'''\n",
    "SELECT \n",
    "    DISTINCT ts\n",
    "FROM ohlc \n",
    "''', conn)\n",
    "dates['ts'] = pd.to_datetime(dates['ts']).dt.date\n",
    "dates = dates.drop_duplicates()\n",
    "dates['dow'] = dates['ts'].apply(lambda x: x.weekday())\n",
    "dates.tail(17)"
   ]
  },
  {
   "cell_type": "code",
   "execution_count": 8,
   "id": "f095d0eb-9820-4524-8bde-4d6834122822",
   "metadata": {},
   "outputs": [
    {
     "data": {
      "text/html": [
       "<div>\n",
       "<style scoped>\n",
       "    .dataframe tbody tr th:only-of-type {\n",
       "        vertical-align: middle;\n",
       "    }\n",
       "\n",
       "    .dataframe tbody tr th {\n",
       "        vertical-align: top;\n",
       "    }\n",
       "\n",
       "    .dataframe thead th {\n",
       "        text-align: right;\n",
       "    }\n",
       "</style>\n",
       "<table border=\"1\" class=\"dataframe\">\n",
       "  <thead>\n",
       "    <tr style=\"text-align: right;\">\n",
       "      <th></th>\n",
       "      <th>token</th>\n",
       "    </tr>\n",
       "  </thead>\n",
       "  <tbody>\n",
       "    <tr>\n",
       "      <th>0</th>\n",
       "      <td>BTC</td>\n",
       "    </tr>\n",
       "    <tr>\n",
       "      <th>1</th>\n",
       "      <td>ETH</td>\n",
       "    </tr>\n",
       "    <tr>\n",
       "      <th>2</th>\n",
       "      <td>USDT</td>\n",
       "    </tr>\n",
       "    <tr>\n",
       "      <th>3</th>\n",
       "      <td>SOL</td>\n",
       "    </tr>\n",
       "    <tr>\n",
       "      <th>4</th>\n",
       "      <td>ADA</td>\n",
       "    </tr>\n",
       "    <tr>\n",
       "      <th>5</th>\n",
       "      <td>DOT</td>\n",
       "    </tr>\n",
       "    <tr>\n",
       "      <th>6</th>\n",
       "      <td>AVAX</td>\n",
       "    </tr>\n",
       "    <tr>\n",
       "      <th>7</th>\n",
       "      <td>ATOM</td>\n",
       "    </tr>\n",
       "    <tr>\n",
       "      <th>8</th>\n",
       "      <td>CRV</td>\n",
       "    </tr>\n",
       "    <tr>\n",
       "      <th>9</th>\n",
       "      <td>AAVE</td>\n",
       "    </tr>\n",
       "    <tr>\n",
       "      <th>10</th>\n",
       "      <td>COMP</td>\n",
       "    </tr>\n",
       "  </tbody>\n",
       "</table>\n",
       "</div>"
      ],
      "text/plain": [
       "   token\n",
       "0    BTC\n",
       "1    ETH\n",
       "2   USDT\n",
       "3    SOL\n",
       "4    ADA\n",
       "5    DOT\n",
       "6   AVAX\n",
       "7   ATOM\n",
       "8    CRV\n",
       "9   AAVE\n",
       "10  COMP"
      ]
     },
     "execution_count": 8,
     "metadata": {},
     "output_type": "execute_result"
    }
   ],
   "source": [
    "tokens = pd.read_sql(f'''\n",
    "SELECT \n",
    "     DISTINCT token\n",
    "FROM ohlc \n",
    "''', conn)\n",
    "tokens = tokens.values.transpose().tolist()[0]\n",
    "pd.DataFrame(tokens,columns=['token'])"
   ]
  },
  {
   "cell_type": "code",
   "execution_count": 9,
   "id": "2f94728e-7d8f-4939-a844-eae46e9d5c40",
   "metadata": {},
   "outputs": [],
   "source": [
    "base_output_folder = os.path.expanduser('outputs')\n",
    "\n",
    "if not os.path.exists(base_output_folder):\n",
    "        os.makedirs(base_output_folder)"
   ]
  },
  {
   "cell_type": "code",
   "execution_count": 10,
   "id": "38bd44fe-28bc-4f05-87bc-14cafebff393",
   "metadata": {},
   "outputs": [
    {
     "name": "stdout",
     "output_type": "stream",
     "text": [
      "running for BTC for date 2021-11-29 00:00:00 to 2021-12-13 00:00:00\r"
     ]
    },
    {
     "data": {
      "application/vnd.jupyter.widget-view+json": {
       "model_id": "7b5754a7ed5440ccbc66d1a3249c951b",
       "version_major": 2,
       "version_minor": 0
      },
      "text/plain": [
       "Executing:   0%|          | 0/18 [00:00<?, ?cell/s]"
      ]
     },
     "metadata": {},
     "output_type": "display_data"
    },
    {
     "name": "stdout",
     "output_type": "stream",
     "text": [
      "running for ETH for date 2021-11-29 00:00:00 to 2021-12-13 00:00:00\r"
     ]
    },
    {
     "data": {
      "application/vnd.jupyter.widget-view+json": {
       "model_id": "1d7a97af3994425e888e1a2d7baa4d93",
       "version_major": 2,
       "version_minor": 0
      },
      "text/plain": [
       "Executing:   0%|          | 0/18 [00:00<?, ?cell/s]"
      ]
     },
     "metadata": {},
     "output_type": "display_data"
    },
    {
     "name": "stdout",
     "output_type": "stream",
     "text": [
      "running for USDT for date 2021-11-29 00:00:00 to 2021-12-13 00:00:00\r"
     ]
    },
    {
     "data": {
      "application/vnd.jupyter.widget-view+json": {
       "model_id": "5c55391fdea8474cbd6c00c8f49a8e99",
       "version_major": 2,
       "version_minor": 0
      },
      "text/plain": [
       "Executing:   0%|          | 0/18 [00:00<?, ?cell/s]"
      ]
     },
     "metadata": {},
     "output_type": "display_data"
    },
    {
     "name": "stdout",
     "output_type": "stream",
     "text": [
      "running for SOL for date 2021-11-29 00:00:00 to 2021-12-13 00:00:00\r"
     ]
    },
    {
     "data": {
      "application/vnd.jupyter.widget-view+json": {
       "model_id": "2d3acaa31cb14eddb7f60fca9be00fc8",
       "version_major": 2,
       "version_minor": 0
      },
      "text/plain": [
       "Executing:   0%|          | 0/18 [00:00<?, ?cell/s]"
      ]
     },
     "metadata": {},
     "output_type": "display_data"
    },
    {
     "name": "stdout",
     "output_type": "stream",
     "text": [
      "running for ADA for date 2021-11-29 00:00:00 to 2021-12-13 00:00:00\r"
     ]
    },
    {
     "data": {
      "application/vnd.jupyter.widget-view+json": {
       "model_id": "878fdfd8ea234996897687bab7774abb",
       "version_major": 2,
       "version_minor": 0
      },
      "text/plain": [
       "Executing:   0%|          | 0/18 [00:00<?, ?cell/s]"
      ]
     },
     "metadata": {},
     "output_type": "display_data"
    },
    {
     "name": "stdout",
     "output_type": "stream",
     "text": [
      "running for DOT for date 2021-11-29 00:00:00 to 2021-12-13 00:00:00\r"
     ]
    },
    {
     "data": {
      "application/vnd.jupyter.widget-view+json": {
       "model_id": "3855da84c52c43f697ae603c40b5f763",
       "version_major": 2,
       "version_minor": 0
      },
      "text/plain": [
       "Executing:   0%|          | 0/18 [00:00<?, ?cell/s]"
      ]
     },
     "metadata": {},
     "output_type": "display_data"
    },
    {
     "name": "stdout",
     "output_type": "stream",
     "text": [
      "running for AVAX for date 2021-11-29 00:00:00 to 2021-12-13 00:00:00\r"
     ]
    },
    {
     "data": {
      "application/vnd.jupyter.widget-view+json": {
       "model_id": "d6ab33fbbafb43b2971765bce3d1d452",
       "version_major": 2,
       "version_minor": 0
      },
      "text/plain": [
       "Executing:   0%|          | 0/18 [00:00<?, ?cell/s]"
      ]
     },
     "metadata": {},
     "output_type": "display_data"
    },
    {
     "name": "stdout",
     "output_type": "stream",
     "text": [
      "running for ATOM for date 2021-11-29 00:00:00 to 2021-12-13 00:00:00\r"
     ]
    },
    {
     "data": {
      "application/vnd.jupyter.widget-view+json": {
       "model_id": "73e59a44c4a34928b97bac0c39f9fb6f",
       "version_major": 2,
       "version_minor": 0
      },
      "text/plain": [
       "Executing:   0%|          | 0/18 [00:00<?, ?cell/s]"
      ]
     },
     "metadata": {},
     "output_type": "display_data"
    },
    {
     "name": "stdout",
     "output_type": "stream",
     "text": [
      "running for CRV for date 2021-11-29 00:00:00 to 2021-12-13 00:00:00\r"
     ]
    },
    {
     "data": {
      "application/vnd.jupyter.widget-view+json": {
       "model_id": "45a37155e0334518a2c8641b1a69430a",
       "version_major": 2,
       "version_minor": 0
      },
      "text/plain": [
       "Executing:   0%|          | 0/18 [00:00<?, ?cell/s]"
      ]
     },
     "metadata": {},
     "output_type": "display_data"
    },
    {
     "name": "stdout",
     "output_type": "stream",
     "text": [
      "running for AAVE for date 2021-11-29 00:00:00 to 2021-12-13 00:00:00\r"
     ]
    },
    {
     "data": {
      "application/vnd.jupyter.widget-view+json": {
       "model_id": "eaa2ba20dbc6410284e92828c5fc99d9",
       "version_major": 2,
       "version_minor": 0
      },
      "text/plain": [
       "Executing:   0%|          | 0/18 [00:00<?, ?cell/s]"
      ]
     },
     "metadata": {},
     "output_type": "display_data"
    },
    {
     "name": "stdout",
     "output_type": "stream",
     "text": [
      "running for COMP for date 2021-11-29 00:00:00 to 2021-12-13 00:00:00\r"
     ]
    },
    {
     "data": {
      "application/vnd.jupyter.widget-view+json": {
       "model_id": "f8b6fc617c994df3b177d131015bb3f8",
       "version_major": 2,
       "version_minor": 0
      },
      "text/plain": [
       "Executing:   0%|          | 0/18 [00:00<?, ?cell/s]"
      ]
     },
     "metadata": {},
     "output_type": "display_data"
    }
   ],
   "source": [
    "for token in tokens:\n",
    "    print(f'running for {token} for date {run_date - timedelta(days=14)} to {run_date}', end='\\r')\n",
    "    res = pm.execute_notebook(\n",
    "        'hw_4_jingyi_han_template.ipynb',\n",
    "        f'{base_output_folder}/hw_4_jingyi_han_{token}_{run_date}.ipynb',\n",
    "        parameters = {\n",
    "            'from_date': f'{run_date - timedelta(days=14)}',\n",
    "            'to_date': f'{run_date}',\n",
    "            'token': token,\n",
    "            'connection_string': connection_string,\n",
    "            'events_db': events_db\n",
    "        }\n",
    "    )"
   ]
  },
  {
   "cell_type": "code",
   "execution_count": 11,
   "id": "7662e681-21b6-4096-a4aa-2e6f02451d67",
   "metadata": {},
   "outputs": [],
   "source": [
    "nbs = sb.read_notebooks('outputs')"
   ]
  },
  {
   "cell_type": "code",
   "execution_count": 12,
   "id": "d42b5f1c-94b8-44bb-a1ad-abae95a96856",
   "metadata": {},
   "outputs": [
    {
     "data": {
      "text/html": [
       "<div>\n",
       "<style scoped>\n",
       "    .dataframe tbody tr th:only-of-type {\n",
       "        vertical-align: middle;\n",
       "    }\n",
       "\n",
       "    .dataframe tbody tr th {\n",
       "        vertical-align: top;\n",
       "    }\n",
       "\n",
       "    .dataframe thead th {\n",
       "        text-align: right;\n",
       "    }\n",
       "</style>\n",
       "<table border=\"1\" class=\"dataframe\">\n",
       "  <thead>\n",
       "    <tr style=\"text-align: right;\">\n",
       "      <th></th>\n",
       "      <th>token</th>\n",
       "      <th>from_date</th>\n",
       "      <th>to_date</th>\n",
       "      <th>return</th>\n",
       "      <th>volatility</th>\n",
       "      <th>max_drawdown</th>\n",
       "      <th>spread</th>\n",
       "    </tr>\n",
       "  </thead>\n",
       "  <tbody>\n",
       "    <tr>\n",
       "      <th>0</th>\n",
       "      <td>AAVE</td>\n",
       "      <td>2021-11-29 00:00:00</td>\n",
       "      <td>2021-12-13 00:00:00</td>\n",
       "      <td>-8.404275e-04</td>\n",
       "      <td>0.212356</td>\n",
       "      <td>-0.379501</td>\n",
       "      <td>-58.6450</td>\n",
       "    </tr>\n",
       "    <tr>\n",
       "      <th>1</th>\n",
       "      <td>ADA</td>\n",
       "      <td>2021-11-29 00:00:00</td>\n",
       "      <td>2021-12-13 00:00:00</td>\n",
       "      <td>-4.966113e-04</td>\n",
       "      <td>0.217477</td>\n",
       "      <td>-0.313607</td>\n",
       "      <td>-0.2445</td>\n",
       "    </tr>\n",
       "    <tr>\n",
       "      <th>2</th>\n",
       "      <td>ATOM</td>\n",
       "      <td>2021-11-29 00:00:00</td>\n",
       "      <td>2021-12-13 00:00:00</td>\n",
       "      <td>-3.163733e-04</td>\n",
       "      <td>0.299425</td>\n",
       "      <td>-0.383038</td>\n",
       "      <td>-2.7560</td>\n",
       "    </tr>\n",
       "    <tr>\n",
       "      <th>3</th>\n",
       "      <td>AVAX</td>\n",
       "      <td>2021-11-29 00:00:00</td>\n",
       "      <td>2021-12-13 00:00:00</td>\n",
       "      <td>-6.933415e-04</td>\n",
       "      <td>0.286536</td>\n",
       "      <td>-0.388197</td>\n",
       "      <td>-22.9300</td>\n",
       "    </tr>\n",
       "    <tr>\n",
       "      <th>4</th>\n",
       "      <td>BTC</td>\n",
       "      <td>2021-11-29 00:00:00</td>\n",
       "      <td>2021-12-13 00:00:00</td>\n",
       "      <td>-3.888080e-04</td>\n",
       "      <td>0.154894</td>\n",
       "      <td>-0.213690</td>\n",
       "      <td>-6999.8400</td>\n",
       "    </tr>\n",
       "    <tr>\n",
       "      <th>5</th>\n",
       "      <td>COMP</td>\n",
       "      <td>2021-11-29 00:00:00</td>\n",
       "      <td>2021-12-13 00:00:00</td>\n",
       "      <td>-1.094735e-03</td>\n",
       "      <td>0.224354</td>\n",
       "      <td>-0.384274</td>\n",
       "      <td>-88.2800</td>\n",
       "    </tr>\n",
       "    <tr>\n",
       "      <th>6</th>\n",
       "      <td>CRV</td>\n",
       "      <td>2021-11-29 00:00:00</td>\n",
       "      <td>2021-12-13 00:00:00</td>\n",
       "      <td>-7.114679e-04</td>\n",
       "      <td>0.328177</td>\n",
       "      <td>-0.404270</td>\n",
       "      <td>-1.0362</td>\n",
       "    </tr>\n",
       "    <tr>\n",
       "      <th>7</th>\n",
       "      <td>DOT</td>\n",
       "      <td>2021-11-29 00:00:00</td>\n",
       "      <td>2021-12-13 00:00:00</td>\n",
       "      <td>-5.483337e-04</td>\n",
       "      <td>0.245633</td>\n",
       "      <td>-0.356320</td>\n",
       "      <td>-6.0050</td>\n",
       "    </tr>\n",
       "    <tr>\n",
       "      <th>8</th>\n",
       "      <td>ETH</td>\n",
       "      <td>2021-11-29 00:00:00</td>\n",
       "      <td>2021-12-13 00:00:00</td>\n",
       "      <td>-1.000714e-04</td>\n",
       "      <td>0.174104</td>\n",
       "      <td>-0.190120</td>\n",
       "      <td>-141.7100</td>\n",
       "    </tr>\n",
       "    <tr>\n",
       "      <th>9</th>\n",
       "      <td>SOL</td>\n",
       "      <td>2021-11-29 00:00:00</td>\n",
       "      <td>2021-12-13 00:00:00</td>\n",
       "      <td>-4.254425e-04</td>\n",
       "      <td>0.242432</td>\n",
       "      <td>-0.321246</td>\n",
       "      <td>-26.6870</td>\n",
       "    </tr>\n",
       "    <tr>\n",
       "      <th>10</th>\n",
       "      <td>USDT</td>\n",
       "      <td>2021-11-29 00:00:00</td>\n",
       "      <td>2021-12-13 00:00:00</td>\n",
       "      <td>-2.983136e-07</td>\n",
       "      <td>0.011010</td>\n",
       "      <td>-0.024098</td>\n",
       "      <td>-0.0001</td>\n",
       "    </tr>\n",
       "  </tbody>\n",
       "</table>\n",
       "</div>"
      ],
      "text/plain": [
       "   token            from_date              to_date        return  volatility  \\\n",
       "0   AAVE  2021-11-29 00:00:00  2021-12-13 00:00:00 -8.404275e-04    0.212356   \n",
       "1    ADA  2021-11-29 00:00:00  2021-12-13 00:00:00 -4.966113e-04    0.217477   \n",
       "2   ATOM  2021-11-29 00:00:00  2021-12-13 00:00:00 -3.163733e-04    0.299425   \n",
       "3   AVAX  2021-11-29 00:00:00  2021-12-13 00:00:00 -6.933415e-04    0.286536   \n",
       "4    BTC  2021-11-29 00:00:00  2021-12-13 00:00:00 -3.888080e-04    0.154894   \n",
       "5   COMP  2021-11-29 00:00:00  2021-12-13 00:00:00 -1.094735e-03    0.224354   \n",
       "6    CRV  2021-11-29 00:00:00  2021-12-13 00:00:00 -7.114679e-04    0.328177   \n",
       "7    DOT  2021-11-29 00:00:00  2021-12-13 00:00:00 -5.483337e-04    0.245633   \n",
       "8    ETH  2021-11-29 00:00:00  2021-12-13 00:00:00 -1.000714e-04    0.174104   \n",
       "9    SOL  2021-11-29 00:00:00  2021-12-13 00:00:00 -4.254425e-04    0.242432   \n",
       "10  USDT  2021-11-29 00:00:00  2021-12-13 00:00:00 -2.983136e-07    0.011010   \n",
       "\n",
       "    max_drawdown     spread  \n",
       "0      -0.379501   -58.6450  \n",
       "1      -0.313607    -0.2445  \n",
       "2      -0.383038    -2.7560  \n",
       "3      -0.388197   -22.9300  \n",
       "4      -0.213690 -6999.8400  \n",
       "5      -0.384274   -88.2800  \n",
       "6      -0.404270    -1.0362  \n",
       "7      -0.356320    -6.0050  \n",
       "8      -0.190120  -141.7100  \n",
       "9      -0.321246   -26.6870  \n",
       "10     -0.024098    -0.0001  "
      ]
     },
     "execution_count": 12,
     "metadata": {},
     "output_type": "execute_result"
    }
   ],
   "source": [
    "pd.DataFrame([\n",
    "    pd.Series({\n",
    "        'token': scrap['token'].data,\n",
    "        'from_date': scrap['from_date'].data,\n",
    "        'to_date': scrap['to_date'].data,\n",
    "        'return':scrap['prices'].data['return'].mean(),\n",
    "        'volatility': scrap['prices'].data['volatility'].mean(),\n",
    "        'max_drawdown':scrap['prices'].data['max_drawdown'].min(),\n",
    "        'spread':scrap['prices'].data['close'].iloc[-1] - scrap['prices'].data['close'].iloc[0]\n",
    "        }) \n",
    "    for book, scrap in nbs.notebook_scraps.items()\n",
    "])"
   ]
  },
  {
   "cell_type": "code",
   "execution_count": 13,
   "id": "e4a06cb9-8bea-4317-8262-90ba06607723",
   "metadata": {
    "tags": []
   },
   "outputs": [],
   "source": [
    "#[nbs[nb_name].reglue('summary_plot') for nb_name in nbs]"
   ]
  },
  {
   "cell_type": "code",
   "execution_count": 14,
   "id": "45939cf1-2e7b-4f52-b675-8cbb294a1537",
   "metadata": {},
   "outputs": [],
   "source": [
    "conn.close()"
   ]
  },
  {
   "cell_type": "code",
   "execution_count": null,
   "id": "b2584146-36c7-4318-ba4b-1c0ebe64afdd",
   "metadata": {},
   "outputs": [],
   "source": []
  }
 ],
 "metadata": {
  "kernelspec": {
   "display_name": "Python 3",
   "language": "python",
   "name": "python3"
  },
  "language_info": {
   "codemirror_mode": {
    "name": "ipython",
    "version": 3
   },
   "file_extension": ".py",
   "mimetype": "text/x-python",
   "name": "python",
   "nbconvert_exporter": "python",
   "pygments_lexer": "ipython3",
   "version": "3.8.8"
  }
 },
 "nbformat": 4,
 "nbformat_minor": 5
}
