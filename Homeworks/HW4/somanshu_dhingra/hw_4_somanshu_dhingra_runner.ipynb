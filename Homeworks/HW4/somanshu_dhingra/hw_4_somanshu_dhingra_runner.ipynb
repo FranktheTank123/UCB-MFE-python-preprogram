{
 "cells": [
  {
   "cell_type": "code",
   "execution_count": 1,
   "id": "8088e612-41c1-4d99-81f6-96ea0c1a6d92",
   "metadata": {},
   "outputs": [
    {
     "name": "stderr",
     "output_type": "stream",
     "text": [
      "/home/somanshu/anaconda3/envs/mfe-preprogram_new/lib/python3.8/site-packages/papermill/iorw.py:50: FutureWarning: pyarrow.HadoopFileSystem is deprecated as of 2.0.0, please use pyarrow.fs.HadoopFileSystem instead.\n",
      "  from pyarrow import HadoopFileSystem\n"
     ]
    }
   ],
   "source": [
    "import papermill as pm\n",
    "import scrapbook as sb\n",
    "import pandas as pd\n",
    "from datetime import datetime, timedelta\n",
    "import os"
   ]
  },
  {
   "cell_type": "markdown",
   "id": "5691d30f-53ac-4637-b1ae-e3e429444e2e",
   "metadata": {},
   "source": [
    "Get the list of all tokens in the dataset"
   ]
  },
  {
   "cell_type": "code",
   "execution_count": 2,
   "id": "89b09f0f-cc3a-4314-bda0-dbd3e3e124e8",
   "metadata": {},
   "outputs": [
    {
     "data": {
      "text/plain": [
       "['BTC',\n",
       " 'ETH',\n",
       " 'USDT',\n",
       " 'SOL',\n",
       " 'ADA',\n",
       " 'DOT',\n",
       " 'AVAX',\n",
       " 'ATOM',\n",
       " 'CRV',\n",
       " 'AAVE',\n",
       " 'COMP']"
      ]
     },
     "execution_count": 2,
     "metadata": {},
     "output_type": "execute_result"
    }
   ],
   "source": [
    "connection_string = 'sqlite:///../../../Lectures/Lecture 4/data/data.db'\n",
    "tokens = pd.read_sql('SELECT DISTINCT token FROM ohlc', connection_string).token.to_list()\n",
    "tokens"
   ]
  },
  {
   "cell_type": "markdown",
   "id": "7b51c0d0-c581-4e58-ae06-8ade26e2dba1",
   "metadata": {},
   "source": [
    "Get the list of all dates in the dataset"
   ]
  },
  {
   "cell_type": "code",
   "execution_count": 3,
   "id": "e356d539-7925-46cb-bb91-fc6a2cda98ac",
   "metadata": {},
   "outputs": [
    {
     "data": {
      "text/plain": [
       "2021-11-01    24\n",
       "2021-11-02    24\n",
       "2021-11-03    24\n",
       "2021-11-04    24\n",
       "2021-11-05    24\n",
       "2021-11-06    24\n",
       "2021-11-07    24\n",
       "2021-11-08    24\n",
       "2021-11-09    24\n",
       "2021-11-10    24\n",
       "2021-11-11    24\n",
       "2021-11-12    24\n",
       "2021-11-13    24\n",
       "2021-11-14    24\n",
       "2021-11-15    24\n",
       "2021-11-16    24\n",
       "2021-11-17    24\n",
       "2021-11-18    24\n",
       "2021-11-19    24\n",
       "2021-11-20    24\n",
       "2021-11-21    24\n",
       "2021-11-22    24\n",
       "2021-11-23    24\n",
       "2021-11-24    24\n",
       "2021-11-25    24\n",
       "2021-11-26    24\n",
       "2021-11-27    24\n",
       "2021-11-28    24\n",
       "2021-11-29    24\n",
       "2021-11-30    24\n",
       "2021-12-01    24\n",
       "2021-12-02    24\n",
       "2021-12-03    24\n",
       "2021-12-04    24\n",
       "2021-12-05    24\n",
       "2021-12-06    24\n",
       "2021-12-07    24\n",
       "2021-12-08    24\n",
       "2021-12-09    24\n",
       "2021-12-10    24\n",
       "2021-12-11    24\n",
       "2021-12-12    24\n",
       "2021-12-13    24\n",
       "2021-12-14    24\n",
       "2021-12-15     1\n",
       "Name: ts, dtype: int64"
      ]
     },
     "execution_count": 3,
     "metadata": {},
     "output_type": "execute_result"
    }
   ],
   "source": [
    "timestamps = pd.read_sql('SELECT DISTINCT ts FROM ohlc', connection_string)\n",
    "timestamps['ts'] = pd.to_datetime(timestamps['ts'])\n",
    "timestamps.ts.dt.date.sort_values().value_counts().sort_index()"
   ]
  },
  {
   "cell_type": "markdown",
   "id": "c80b59df-d226-4cbe-8b97-3c44fe0433c4",
   "metadata": {},
   "source": [
    "Extracting out the mondays"
   ]
  },
  {
   "cell_type": "code",
   "execution_count": 4,
   "id": "78ed21c3-b6a8-492c-9a64-76b5de4ee872",
   "metadata": {},
   "outputs": [
    {
     "data": {
      "text/plain": [
       "[datetime.date(2021, 10, 25),\n",
       " datetime.date(2021, 11, 1),\n",
       " datetime.date(2021, 11, 8),\n",
       " datetime.date(2021, 11, 15),\n",
       " datetime.date(2021, 11, 22),\n",
       " datetime.date(2021, 11, 29),\n",
       " datetime.date(2021, 12, 6)]"
      ]
     },
     "execution_count": 4,
     "metadata": {},
     "output_type": "execute_result"
    }
   ],
   "source": [
    "timestamps = timestamps.ts.dt.date.unique()\n",
    "mondays = [t - timedelta(days=7) for t in timestamps if t.weekday() == 0]\n",
    "mondays"
   ]
  },
  {
   "cell_type": "markdown",
   "id": "4e1e252c-044f-4f50-8e3b-390d835b1013",
   "metadata": {},
   "source": [
    "Running the notebook for last 2 weeks and all the tokens and saving it in outputs folder"
   ]
  },
  {
   "cell_type": "code",
   "execution_count": 5,
   "id": "327f7019-82e3-4ecc-ba0f-a8f052c5eb45",
   "metadata": {},
   "outputs": [
    {
     "name": "stdout",
     "output_type": "stream",
     "text": [
      "running for BTC for date 2021-11-29 to 2021-12-06\r"
     ]
    },
    {
     "data": {
      "application/vnd.jupyter.widget-view+json": {
       "model_id": "53e19aaebf8a4f8cb3b1d7875345719d",
       "version_major": 2,
       "version_minor": 0
      },
      "text/plain": [
       "Executing:   0%|          | 0/17 [00:00<?, ?cell/s]"
      ]
     },
     "metadata": {},
     "output_type": "display_data"
    },
    {
     "name": "stdout",
     "output_type": "stream",
     "text": [
      "running for BTC for date 2021-12-06 to 2021-12-13\r"
     ]
    },
    {
     "data": {
      "application/vnd.jupyter.widget-view+json": {
       "model_id": "865184620baa4c68846951c8008042cc",
       "version_major": 2,
       "version_minor": 0
      },
      "text/plain": [
       "Executing:   0%|          | 0/17 [00:00<?, ?cell/s]"
      ]
     },
     "metadata": {},
     "output_type": "display_data"
    },
    {
     "name": "stdout",
     "output_type": "stream",
     "text": [
      "running for ETH for date 2021-11-29 to 2021-12-06\r"
     ]
    },
    {
     "data": {
      "application/vnd.jupyter.widget-view+json": {
       "model_id": "37973d2ca156487eb588149f07fe247f",
       "version_major": 2,
       "version_minor": 0
      },
      "text/plain": [
       "Executing:   0%|          | 0/17 [00:00<?, ?cell/s]"
      ]
     },
     "metadata": {},
     "output_type": "display_data"
    },
    {
     "name": "stdout",
     "output_type": "stream",
     "text": [
      "running for ETH for date 2021-12-06 to 2021-12-13\r"
     ]
    },
    {
     "data": {
      "application/vnd.jupyter.widget-view+json": {
       "model_id": "3fb7593138854949b18aa6bc228f1330",
       "version_major": 2,
       "version_minor": 0
      },
      "text/plain": [
       "Executing:   0%|          | 0/17 [00:00<?, ?cell/s]"
      ]
     },
     "metadata": {},
     "output_type": "display_data"
    },
    {
     "name": "stdout",
     "output_type": "stream",
     "text": [
      "running for USDT for date 2021-11-29 to 2021-12-06\r"
     ]
    },
    {
     "data": {
      "application/vnd.jupyter.widget-view+json": {
       "model_id": "3c24fb89f6964602abad61d5d2501b26",
       "version_major": 2,
       "version_minor": 0
      },
      "text/plain": [
       "Executing:   0%|          | 0/17 [00:00<?, ?cell/s]"
      ]
     },
     "metadata": {},
     "output_type": "display_data"
    },
    {
     "name": "stdout",
     "output_type": "stream",
     "text": [
      "running for USDT for date 2021-12-06 to 2021-12-13\r"
     ]
    },
    {
     "data": {
      "application/vnd.jupyter.widget-view+json": {
       "model_id": "87a8c0fa2caa44b0a6625a458ea035e3",
       "version_major": 2,
       "version_minor": 0
      },
      "text/plain": [
       "Executing:   0%|          | 0/17 [00:00<?, ?cell/s]"
      ]
     },
     "metadata": {},
     "output_type": "display_data"
    },
    {
     "name": "stdout",
     "output_type": "stream",
     "text": [
      "running for SOL for date 2021-11-29 to 2021-12-06\r"
     ]
    },
    {
     "data": {
      "application/vnd.jupyter.widget-view+json": {
       "model_id": "e09ee0822832489a817e0b0e81659780",
       "version_major": 2,
       "version_minor": 0
      },
      "text/plain": [
       "Executing:   0%|          | 0/17 [00:00<?, ?cell/s]"
      ]
     },
     "metadata": {},
     "output_type": "display_data"
    },
    {
     "name": "stdout",
     "output_type": "stream",
     "text": [
      "running for SOL for date 2021-12-06 to 2021-12-13\r"
     ]
    },
    {
     "data": {
      "application/vnd.jupyter.widget-view+json": {
       "model_id": "1a03149bcc484510b268487085b48c3b",
       "version_major": 2,
       "version_minor": 0
      },
      "text/plain": [
       "Executing:   0%|          | 0/17 [00:00<?, ?cell/s]"
      ]
     },
     "metadata": {},
     "output_type": "display_data"
    },
    {
     "name": "stdout",
     "output_type": "stream",
     "text": [
      "running for ADA for date 2021-11-29 to 2021-12-06\r"
     ]
    },
    {
     "data": {
      "application/vnd.jupyter.widget-view+json": {
       "model_id": "d3d8b1cb45924d9da15fe6fbdf5cb059",
       "version_major": 2,
       "version_minor": 0
      },
      "text/plain": [
       "Executing:   0%|          | 0/17 [00:00<?, ?cell/s]"
      ]
     },
     "metadata": {},
     "output_type": "display_data"
    },
    {
     "name": "stdout",
     "output_type": "stream",
     "text": [
      "running for ADA for date 2021-12-06 to 2021-12-13\r"
     ]
    },
    {
     "data": {
      "application/vnd.jupyter.widget-view+json": {
       "model_id": "c0f70d09b61b4061a432ce85c3a26edd",
       "version_major": 2,
       "version_minor": 0
      },
      "text/plain": [
       "Executing:   0%|          | 0/17 [00:00<?, ?cell/s]"
      ]
     },
     "metadata": {},
     "output_type": "display_data"
    },
    {
     "name": "stdout",
     "output_type": "stream",
     "text": [
      "running for DOT for date 2021-11-29 to 2021-12-06\r"
     ]
    },
    {
     "data": {
      "application/vnd.jupyter.widget-view+json": {
       "model_id": "f5978f4bbb7b4694bfafc48779f92bb8",
       "version_major": 2,
       "version_minor": 0
      },
      "text/plain": [
       "Executing:   0%|          | 0/17 [00:00<?, ?cell/s]"
      ]
     },
     "metadata": {},
     "output_type": "display_data"
    },
    {
     "name": "stdout",
     "output_type": "stream",
     "text": [
      "running for DOT for date 2021-12-06 to 2021-12-13\r"
     ]
    },
    {
     "data": {
      "application/vnd.jupyter.widget-view+json": {
       "model_id": "0206190c466c4678b9f36eef687fffc8",
       "version_major": 2,
       "version_minor": 0
      },
      "text/plain": [
       "Executing:   0%|          | 0/17 [00:00<?, ?cell/s]"
      ]
     },
     "metadata": {},
     "output_type": "display_data"
    },
    {
     "name": "stdout",
     "output_type": "stream",
     "text": [
      "running for AVAX for date 2021-11-29 to 2021-12-06\r"
     ]
    },
    {
     "data": {
      "application/vnd.jupyter.widget-view+json": {
       "model_id": "9439e6dfc5174685a48f96e98d634d88",
       "version_major": 2,
       "version_minor": 0
      },
      "text/plain": [
       "Executing:   0%|          | 0/17 [00:00<?, ?cell/s]"
      ]
     },
     "metadata": {},
     "output_type": "display_data"
    },
    {
     "name": "stdout",
     "output_type": "stream",
     "text": [
      "running for AVAX for date 2021-12-06 to 2021-12-13\r"
     ]
    },
    {
     "data": {
      "application/vnd.jupyter.widget-view+json": {
       "model_id": "b7ba4b6b6f3d465fa226a9d89cd01be0",
       "version_major": 2,
       "version_minor": 0
      },
      "text/plain": [
       "Executing:   0%|          | 0/17 [00:00<?, ?cell/s]"
      ]
     },
     "metadata": {},
     "output_type": "display_data"
    },
    {
     "name": "stdout",
     "output_type": "stream",
     "text": [
      "running for ATOM for date 2021-11-29 to 2021-12-06\r"
     ]
    },
    {
     "data": {
      "application/vnd.jupyter.widget-view+json": {
       "model_id": "d9c5e59f014f42a99d2001e52f20b69c",
       "version_major": 2,
       "version_minor": 0
      },
      "text/plain": [
       "Executing:   0%|          | 0/17 [00:00<?, ?cell/s]"
      ]
     },
     "metadata": {},
     "output_type": "display_data"
    },
    {
     "name": "stdout",
     "output_type": "stream",
     "text": [
      "running for ATOM for date 2021-12-06 to 2021-12-13\r"
     ]
    },
    {
     "data": {
      "application/vnd.jupyter.widget-view+json": {
       "model_id": "38f372a0d1684afa8f35eb72c6174d72",
       "version_major": 2,
       "version_minor": 0
      },
      "text/plain": [
       "Executing:   0%|          | 0/17 [00:00<?, ?cell/s]"
      ]
     },
     "metadata": {},
     "output_type": "display_data"
    },
    {
     "name": "stdout",
     "output_type": "stream",
     "text": [
      "running for CRV for date 2021-11-29 to 2021-12-06\r"
     ]
    },
    {
     "data": {
      "application/vnd.jupyter.widget-view+json": {
       "model_id": "79569dfb7e6d470d9c1a5802a530a8e7",
       "version_major": 2,
       "version_minor": 0
      },
      "text/plain": [
       "Executing:   0%|          | 0/17 [00:00<?, ?cell/s]"
      ]
     },
     "metadata": {},
     "output_type": "display_data"
    },
    {
     "name": "stdout",
     "output_type": "stream",
     "text": [
      "running for CRV for date 2021-12-06 to 2021-12-13\r"
     ]
    },
    {
     "data": {
      "application/vnd.jupyter.widget-view+json": {
       "model_id": "dc4a41b9c6ef4c039984d9238e5302b6",
       "version_major": 2,
       "version_minor": 0
      },
      "text/plain": [
       "Executing:   0%|          | 0/17 [00:00<?, ?cell/s]"
      ]
     },
     "metadata": {},
     "output_type": "display_data"
    },
    {
     "name": "stdout",
     "output_type": "stream",
     "text": [
      "running for AAVE for date 2021-11-29 to 2021-12-06\r"
     ]
    },
    {
     "data": {
      "application/vnd.jupyter.widget-view+json": {
       "model_id": "906de7c94a5b4f6e821c558ca9a7e19d",
       "version_major": 2,
       "version_minor": 0
      },
      "text/plain": [
       "Executing:   0%|          | 0/17 [00:00<?, ?cell/s]"
      ]
     },
     "metadata": {},
     "output_type": "display_data"
    },
    {
     "name": "stdout",
     "output_type": "stream",
     "text": [
      "running for AAVE for date 2021-12-06 to 2021-12-13\r"
     ]
    },
    {
     "data": {
      "application/vnd.jupyter.widget-view+json": {
       "model_id": "61c4ac603e6e470384a09826a1776a91",
       "version_major": 2,
       "version_minor": 0
      },
      "text/plain": [
       "Executing:   0%|          | 0/17 [00:00<?, ?cell/s]"
      ]
     },
     "metadata": {},
     "output_type": "display_data"
    },
    {
     "name": "stdout",
     "output_type": "stream",
     "text": [
      "running for COMP for date 2021-11-29 to 2021-12-06\r"
     ]
    },
    {
     "data": {
      "application/vnd.jupyter.widget-view+json": {
       "model_id": "b4df62ed0f414a4284a0fd0abdb620b9",
       "version_major": 2,
       "version_minor": 0
      },
      "text/plain": [
       "Executing:   0%|          | 0/17 [00:00<?, ?cell/s]"
      ]
     },
     "metadata": {},
     "output_type": "display_data"
    },
    {
     "name": "stdout",
     "output_type": "stream",
     "text": [
      "running for COMP for date 2021-12-06 to 2021-12-13\r"
     ]
    },
    {
     "data": {
      "application/vnd.jupyter.widget-view+json": {
       "model_id": "3d1794c793b44475846e1f99ddecfd47",
       "version_major": 2,
       "version_minor": 0
      },
      "text/plain": [
       "Executing:   0%|          | 0/17 [00:00<?, ?cell/s]"
      ]
     },
     "metadata": {},
     "output_type": "display_data"
    }
   ],
   "source": [
    "base_output_folder = os.path.expanduser('outputs')\n",
    "if not os.path.exists(base_output_folder):\n",
    "        os.makedirs(base_output_folder)\n",
    "    \n",
    "for token in tokens:\n",
    "    for run_date in mondays[-2:]:\n",
    "        end_date = run_date + timedelta(days=7)\n",
    "        print(f'running for {token} for date {run_date} to {end_date}', end='\\r')\n",
    "        res = pm.execute_notebook(\n",
    "            'hw_4_somanshu_dhingra_template.ipynb',\n",
    "            f'{base_output_folder}/market_analysis_{token}_{run_date}.ipynb',\n",
    "            parameters = {\n",
    "                'from_date': f'{run_date}',\n",
    "                'to_date': f'{end_date}',\n",
    "                'token': token,\n",
    "                'connection_string': connection_string,\n",
    "            }\n",
    "        )"
   ]
  },
  {
   "cell_type": "markdown",
   "id": "03b7d998-def9-4c9f-9202-ea7454c38be9",
   "metadata": {},
   "source": [
    "Reading all the notebooks and creating the required summary dataframe"
   ]
  },
  {
   "cell_type": "code",
   "execution_count": 6,
   "id": "f12e0ff1-5a28-4224-ab38-0d695210fbab",
   "metadata": {},
   "outputs": [
    {
     "data": {
      "text/html": [
       "<div>\n",
       "<style scoped>\n",
       "    .dataframe tbody tr th:only-of-type {\n",
       "        vertical-align: middle;\n",
       "    }\n",
       "\n",
       "    .dataframe tbody tr th {\n",
       "        vertical-align: top;\n",
       "    }\n",
       "\n",
       "    .dataframe thead th {\n",
       "        text-align: right;\n",
       "    }\n",
       "</style>\n",
       "<table border=\"1\" class=\"dataframe\">\n",
       "  <thead>\n",
       "    <tr style=\"text-align: right;\">\n",
       "      <th></th>\n",
       "      <th>token</th>\n",
       "      <th>from_date</th>\n",
       "      <th>to_date</th>\n",
       "      <th>avg_volatility</th>\n",
       "      <th>avg_hourly_return</th>\n",
       "      <th>max_drawdown</th>\n",
       "      <th>close_price_range</th>\n",
       "    </tr>\n",
       "  </thead>\n",
       "  <tbody>\n",
       "    <tr>\n",
       "      <th>0</th>\n",
       "      <td>AAVE</td>\n",
       "      <td>2021-11-29</td>\n",
       "      <td>2021-12-06</td>\n",
       "      <td>0.221054</td>\n",
       "      <td>-0.001235</td>\n",
       "      <td>-0.433883</td>\n",
       "      <td>46.8080</td>\n",
       "    </tr>\n",
       "    <tr>\n",
       "      <th>1</th>\n",
       "      <td>AAVE</td>\n",
       "      <td>2021-12-06</td>\n",
       "      <td>2021-12-13</td>\n",
       "      <td>0.200400</td>\n",
       "      <td>-0.000304</td>\n",
       "      <td>-0.219344</td>\n",
       "      <td>11.6730</td>\n",
       "    </tr>\n",
       "    <tr>\n",
       "      <th>2</th>\n",
       "      <td>ADA</td>\n",
       "      <td>2021-11-29</td>\n",
       "      <td>2021-12-06</td>\n",
       "      <td>0.226749</td>\n",
       "      <td>-0.000850</td>\n",
       "      <td>-0.333333</td>\n",
       "      <td>0.2305</td>\n",
       "    </tr>\n",
       "    <tr>\n",
       "      <th>3</th>\n",
       "      <td>ADA</td>\n",
       "      <td>2021-12-06</td>\n",
       "      <td>2021-12-13</td>\n",
       "      <td>0.203766</td>\n",
       "      <td>-0.000070</td>\n",
       "      <td>-0.216532</td>\n",
       "      <td>0.0297</td>\n",
       "    </tr>\n",
       "    <tr>\n",
       "      <th>4</th>\n",
       "      <td>ATOM</td>\n",
       "      <td>2021-11-29</td>\n",
       "      <td>2021-12-06</td>\n",
       "      <td>0.340796</td>\n",
       "      <td>-0.000489</td>\n",
       "      <td>-0.360772</td>\n",
       "      <td>2.8370</td>\n",
       "    </tr>\n",
       "    <tr>\n",
       "      <th>5</th>\n",
       "      <td>ATOM</td>\n",
       "      <td>2021-12-06</td>\n",
       "      <td>2021-12-13</td>\n",
       "      <td>0.254383</td>\n",
       "      <td>0.000112</td>\n",
       "      <td>-0.151733</td>\n",
       "      <td>0.0040</td>\n",
       "    </tr>\n",
       "    <tr>\n",
       "      <th>6</th>\n",
       "      <td>AVAX</td>\n",
       "      <td>2021-11-29</td>\n",
       "      <td>2021-12-06</td>\n",
       "      <td>0.320661</td>\n",
       "      <td>-0.001428</td>\n",
       "      <td>-0.502779</td>\n",
       "      <td>25.6000</td>\n",
       "    </tr>\n",
       "    <tr>\n",
       "      <th>7</th>\n",
       "      <td>AVAX</td>\n",
       "      <td>2021-12-06</td>\n",
       "      <td>2021-12-13</td>\n",
       "      <td>0.249173</td>\n",
       "      <td>0.000211</td>\n",
       "      <td>-0.198504</td>\n",
       "      <td>-1.1800</td>\n",
       "    </tr>\n",
       "    <tr>\n",
       "      <th>8</th>\n",
       "      <td>BTC</td>\n",
       "      <td>2021-11-29</td>\n",
       "      <td>2021-12-06</td>\n",
       "      <td>0.175543</td>\n",
       "      <td>-0.000861</td>\n",
       "      <td>-0.260180</td>\n",
       "      <td>7979.4100</td>\n",
       "    </tr>\n",
       "    <tr>\n",
       "      <th>9</th>\n",
       "      <td>BTC</td>\n",
       "      <td>2021-12-06</td>\n",
       "      <td>2021-12-13</td>\n",
       "      <td>0.134449</td>\n",
       "      <td>0.000127</td>\n",
       "      <td>-0.098142</td>\n",
       "      <td>-833.1100</td>\n",
       "    </tr>\n",
       "    <tr>\n",
       "      <th>10</th>\n",
       "      <td>COMP</td>\n",
       "      <td>2021-11-29</td>\n",
       "      <td>2021-12-06</td>\n",
       "      <td>0.210428</td>\n",
       "      <td>-0.001790</td>\n",
       "      <td>-0.407971</td>\n",
       "      <td>76.7900</td>\n",
       "    </tr>\n",
       "    <tr>\n",
       "      <th>11</th>\n",
       "      <td>COMP</td>\n",
       "      <td>2021-12-06</td>\n",
       "      <td>2021-12-13</td>\n",
       "      <td>0.234462</td>\n",
       "      <td>-0.000277</td>\n",
       "      <td>-0.257155</td>\n",
       "      <td>12.5700</td>\n",
       "    </tr>\n",
       "    <tr>\n",
       "      <th>12</th>\n",
       "      <td>CRV</td>\n",
       "      <td>2021-11-29</td>\n",
       "      <td>2021-12-06</td>\n",
       "      <td>0.358515</td>\n",
       "      <td>-0.001769</td>\n",
       "      <td>-0.594302</td>\n",
       "      <td>1.3619</td>\n",
       "    </tr>\n",
       "    <tr>\n",
       "      <th>13</th>\n",
       "      <td>CRV</td>\n",
       "      <td>2021-12-06</td>\n",
       "      <td>2021-12-13</td>\n",
       "      <td>0.289645</td>\n",
       "      <td>0.000518</td>\n",
       "      <td>-0.258623</td>\n",
       "      <td>-0.2249</td>\n",
       "    </tr>\n",
       "    <tr>\n",
       "      <th>14</th>\n",
       "      <td>DOT</td>\n",
       "      <td>2021-11-29</td>\n",
       "      <td>2021-12-06</td>\n",
       "      <td>0.251500</td>\n",
       "      <td>-0.001333</td>\n",
       "      <td>-0.452987</td>\n",
       "      <td>7.5660</td>\n",
       "    </tr>\n",
       "    <tr>\n",
       "      <th>15</th>\n",
       "      <td>DOT</td>\n",
       "      <td>2021-12-06</td>\n",
       "      <td>2021-12-13</td>\n",
       "      <td>0.235252</td>\n",
       "      <td>0.000389</td>\n",
       "      <td>-0.187318</td>\n",
       "      <td>-1.4070</td>\n",
       "    </tr>\n",
       "    <tr>\n",
       "      <th>16</th>\n",
       "      <td>ETH</td>\n",
       "      <td>2021-11-29</td>\n",
       "      <td>2021-12-06</td>\n",
       "      <td>0.187724</td>\n",
       "      <td>-0.000143</td>\n",
       "      <td>-0.231680</td>\n",
       "      <td>130.4200</td>\n",
       "    </tr>\n",
       "    <tr>\n",
       "      <th>17</th>\n",
       "      <td>ETH</td>\n",
       "      <td>2021-12-06</td>\n",
       "      <td>2021-12-13</td>\n",
       "      <td>0.160916</td>\n",
       "      <td>-0.000029</td>\n",
       "      <td>-0.138327</td>\n",
       "      <td>46.5500</td>\n",
       "    </tr>\n",
       "    <tr>\n",
       "      <th>18</th>\n",
       "      <td>SOL</td>\n",
       "      <td>2021-11-29</td>\n",
       "      <td>2021-12-06</td>\n",
       "      <td>0.280443</td>\n",
       "      <td>-0.000210</td>\n",
       "      <td>-0.304746</td>\n",
       "      <td>10.1580</td>\n",
       "    </tr>\n",
       "    <tr>\n",
       "      <th>19</th>\n",
       "      <td>SOL</td>\n",
       "      <td>2021-12-06</td>\n",
       "      <td>2021-12-13</td>\n",
       "      <td>0.199686</td>\n",
       "      <td>-0.000668</td>\n",
       "      <td>-0.232446</td>\n",
       "      <td>22.4670</td>\n",
       "    </tr>\n",
       "    <tr>\n",
       "      <th>20</th>\n",
       "      <td>USDT</td>\n",
       "      <td>2021-11-29</td>\n",
       "      <td>2021-12-06</td>\n",
       "      <td>0.019367</td>\n",
       "      <td>0.000004</td>\n",
       "      <td>-0.004295</td>\n",
       "      <td>-0.0006</td>\n",
       "    </tr>\n",
       "    <tr>\n",
       "      <th>21</th>\n",
       "      <td>USDT</td>\n",
       "      <td>2021-12-06</td>\n",
       "      <td>2021-12-13</td>\n",
       "      <td>0.003089</td>\n",
       "      <td>-0.000004</td>\n",
       "      <td>-0.001100</td>\n",
       "      <td>0.0006</td>\n",
       "    </tr>\n",
       "  </tbody>\n",
       "</table>\n",
       "</div>"
      ],
      "text/plain": [
       "   token   from_date     to_date  avg_volatility  avg_hourly_return  \\\n",
       "0   AAVE  2021-11-29  2021-12-06        0.221054          -0.001235   \n",
       "1   AAVE  2021-12-06  2021-12-13        0.200400          -0.000304   \n",
       "2    ADA  2021-11-29  2021-12-06        0.226749          -0.000850   \n",
       "3    ADA  2021-12-06  2021-12-13        0.203766          -0.000070   \n",
       "4   ATOM  2021-11-29  2021-12-06        0.340796          -0.000489   \n",
       "5   ATOM  2021-12-06  2021-12-13        0.254383           0.000112   \n",
       "6   AVAX  2021-11-29  2021-12-06        0.320661          -0.001428   \n",
       "7   AVAX  2021-12-06  2021-12-13        0.249173           0.000211   \n",
       "8    BTC  2021-11-29  2021-12-06        0.175543          -0.000861   \n",
       "9    BTC  2021-12-06  2021-12-13        0.134449           0.000127   \n",
       "10  COMP  2021-11-29  2021-12-06        0.210428          -0.001790   \n",
       "11  COMP  2021-12-06  2021-12-13        0.234462          -0.000277   \n",
       "12   CRV  2021-11-29  2021-12-06        0.358515          -0.001769   \n",
       "13   CRV  2021-12-06  2021-12-13        0.289645           0.000518   \n",
       "14   DOT  2021-11-29  2021-12-06        0.251500          -0.001333   \n",
       "15   DOT  2021-12-06  2021-12-13        0.235252           0.000389   \n",
       "16   ETH  2021-11-29  2021-12-06        0.187724          -0.000143   \n",
       "17   ETH  2021-12-06  2021-12-13        0.160916          -0.000029   \n",
       "18   SOL  2021-11-29  2021-12-06        0.280443          -0.000210   \n",
       "19   SOL  2021-12-06  2021-12-13        0.199686          -0.000668   \n",
       "20  USDT  2021-11-29  2021-12-06        0.019367           0.000004   \n",
       "21  USDT  2021-12-06  2021-12-13        0.003089          -0.000004   \n",
       "\n",
       "    max_drawdown  close_price_range  \n",
       "0      -0.433883            46.8080  \n",
       "1      -0.219344            11.6730  \n",
       "2      -0.333333             0.2305  \n",
       "3      -0.216532             0.0297  \n",
       "4      -0.360772             2.8370  \n",
       "5      -0.151733             0.0040  \n",
       "6      -0.502779            25.6000  \n",
       "7      -0.198504            -1.1800  \n",
       "8      -0.260180          7979.4100  \n",
       "9      -0.098142          -833.1100  \n",
       "10     -0.407971            76.7900  \n",
       "11     -0.257155            12.5700  \n",
       "12     -0.594302             1.3619  \n",
       "13     -0.258623            -0.2249  \n",
       "14     -0.452987             7.5660  \n",
       "15     -0.187318            -1.4070  \n",
       "16     -0.231680           130.4200  \n",
       "17     -0.138327            46.5500  \n",
       "18     -0.304746            10.1580  \n",
       "19     -0.232446            22.4670  \n",
       "20     -0.004295            -0.0006  \n",
       "21     -0.001100             0.0006  "
      ]
     },
     "execution_count": 6,
     "metadata": {},
     "output_type": "execute_result"
    }
   ],
   "source": [
    "nbs = sb.read_notebooks('outputs')\n",
    "pd.DataFrame([\n",
    "    pd.Series({\n",
    "        'token': scrap['token'].data,\n",
    "        'from_date': scrap['from_date'].data,\n",
    "        'to_date': scrap['to_date'].data,\n",
    "        'avg_volatility': scrap['prices'].data.volatility.mean(),\n",
    "        'avg_hourly_return': scrap['prices'].data.returns.mean(),\n",
    "        'max_drawdown': scrap['prices'].data.drawdown.min(),\n",
    "        'close_price_range' : (scrap['prices'].data.close.iloc[0] - scrap['prices'].data.close.iloc[-1])\n",
    "    }) \n",
    "    for book, scrap in nbs.notebook_scraps.items()\n",
    "])"
   ]
  }
 ],
 "metadata": {
  "kernelspec": {
   "display_name": "Python 3",
   "language": "python",
   "name": "python3"
  },
  "language_info": {
   "codemirror_mode": {
    "name": "ipython",
    "version": 3
   },
   "file_extension": ".py",
   "mimetype": "text/x-python",
   "name": "python",
   "nbconvert_exporter": "python",
   "pygments_lexer": "ipython3",
   "version": "3.8.12"
  }
 },
 "nbformat": 4,
 "nbformat_minor": 5
}
