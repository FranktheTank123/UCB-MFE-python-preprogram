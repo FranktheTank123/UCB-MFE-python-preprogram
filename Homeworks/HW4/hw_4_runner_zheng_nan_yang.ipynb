{
 "cells": [
  {
   "cell_type": "markdown",
   "id": "2ca4e03c",
   "metadata": {
    "tags": []
   },
   "source": [
    "# Python - HW4 - Runner"
   ]
  },
  {
   "cell_type": "markdown",
   "id": "de9f8237",
   "metadata": {},
   "source": [
    "## Zheng Nan Yang"
   ]
  },
  {
   "cell_type": "code",
   "execution_count": 3,
   "id": "5480d294",
   "metadata": {},
   "outputs": [
    {
     "name": "stderr",
     "output_type": "stream",
     "text": [
      "C:\\Users\\AndrewYang\\Anaconda3\\envs\\mfe-preprogram\\lib\\site-packages\\papermill\\iorw.py:50: FutureWarning: pyarrow.HadoopFileSystem is deprecated as of 2.0.0, please use pyarrow.fs.HadoopFileSystem instead.\n",
      "  from pyarrow import HadoopFileSystem\n"
     ]
    }
   ],
   "source": [
    "import papermill as pm\n",
    "import scrapbook as sb\n",
    "import pandas as pd\n",
    "from datetime import datetime, timedelta\n",
    "import os\n",
    "import sqlite3\n",
    "from tqdm import tqdm_notebook as tqdm\n",
    "%load_ext sql"
   ]
  },
  {
   "cell_type": "markdown",
   "id": "dbe1f82c",
   "metadata": {},
   "source": [
    "### Data Exploration"
   ]
  },
  {
   "cell_type": "code",
   "execution_count": 2,
   "id": "cdee28d5",
   "metadata": {},
   "outputs": [],
   "source": [
    "conn = sqlite3.connect('data/data.db')"
   ]
  },
  {
   "cell_type": "code",
   "execution_count": 3,
   "id": "9d97bcec",
   "metadata": {},
   "outputs": [],
   "source": [
    "df = pd.read_sql(\"SELECT * FROM ohlc\", conn)"
   ]
  },
  {
   "cell_type": "code",
   "execution_count": 4,
   "id": "0375eb06",
   "metadata": {},
   "outputs": [
    {
     "data": {
      "text/html": [
       "<div>\n",
       "<style scoped>\n",
       "    .dataframe tbody tr th:only-of-type {\n",
       "        vertical-align: middle;\n",
       "    }\n",
       "\n",
       "    .dataframe tbody tr th {\n",
       "        vertical-align: top;\n",
       "    }\n",
       "\n",
       "    .dataframe thead th {\n",
       "        text-align: right;\n",
       "    }\n",
       "</style>\n",
       "<table border=\"1\" class=\"dataframe\">\n",
       "  <thead>\n",
       "    <tr style=\"text-align: right;\">\n",
       "      <th></th>\n",
       "      <th>ts</th>\n",
       "      <th>open</th>\n",
       "      <th>high</th>\n",
       "      <th>low</th>\n",
       "      <th>close</th>\n",
       "      <th>volume</th>\n",
       "      <th>volumeUSD</th>\n",
       "      <th>token</th>\n",
       "      <th>chain</th>\n",
       "    </tr>\n",
       "  </thead>\n",
       "  <tbody>\n",
       "    <tr>\n",
       "      <th>0</th>\n",
       "      <td>2021-11-01 00:00:00</td>\n",
       "      <td>61421.37</td>\n",
       "      <td>61669.14</td>\n",
       "      <td>61239.60</td>\n",
       "      <td>61343.68</td>\n",
       "      <td>256.433869</td>\n",
       "      <td>1.575751e+07</td>\n",
       "      <td>BTC</td>\n",
       "      <td>BTC</td>\n",
       "    </tr>\n",
       "    <tr>\n",
       "      <th>1</th>\n",
       "      <td>2021-11-01 01:00:00</td>\n",
       "      <td>61346.17</td>\n",
       "      <td>61709.82</td>\n",
       "      <td>61171.22</td>\n",
       "      <td>61610.93</td>\n",
       "      <td>332.481185</td>\n",
       "      <td>2.044558e+07</td>\n",
       "      <td>BTC</td>\n",
       "      <td>BTC</td>\n",
       "    </tr>\n",
       "    <tr>\n",
       "      <th>2</th>\n",
       "      <td>2021-11-01 02:00:00</td>\n",
       "      <td>61610.94</td>\n",
       "      <td>61779.87</td>\n",
       "      <td>61299.89</td>\n",
       "      <td>61333.17</td>\n",
       "      <td>314.250720</td>\n",
       "      <td>1.935390e+07</td>\n",
       "      <td>BTC</td>\n",
       "      <td>BTC</td>\n",
       "    </tr>\n",
       "    <tr>\n",
       "      <th>3</th>\n",
       "      <td>2021-11-01 03:00:00</td>\n",
       "      <td>61333.17</td>\n",
       "      <td>61457.28</td>\n",
       "      <td>60050.00</td>\n",
       "      <td>60589.06</td>\n",
       "      <td>1059.931358</td>\n",
       "      <td>6.414625e+07</td>\n",
       "      <td>BTC</td>\n",
       "      <td>BTC</td>\n",
       "    </tr>\n",
       "    <tr>\n",
       "      <th>4</th>\n",
       "      <td>2021-11-01 04:00:00</td>\n",
       "      <td>60590.23</td>\n",
       "      <td>60655.00</td>\n",
       "      <td>59752.92</td>\n",
       "      <td>59971.89</td>\n",
       "      <td>621.419878</td>\n",
       "      <td>3.744744e+07</td>\n",
       "      <td>BTC</td>\n",
       "      <td>BTC</td>\n",
       "    </tr>\n",
       "  </tbody>\n",
       "</table>\n",
       "</div>"
      ],
      "text/plain": [
       "                    ts      open      high       low     close       volume  \\\n",
       "0  2021-11-01 00:00:00  61421.37  61669.14  61239.60  61343.68   256.433869   \n",
       "1  2021-11-01 01:00:00  61346.17  61709.82  61171.22  61610.93   332.481185   \n",
       "2  2021-11-01 02:00:00  61610.94  61779.87  61299.89  61333.17   314.250720   \n",
       "3  2021-11-01 03:00:00  61333.17  61457.28  60050.00  60589.06  1059.931358   \n",
       "4  2021-11-01 04:00:00  60590.23  60655.00  59752.92  59971.89   621.419878   \n",
       "\n",
       "      volumeUSD token chain  \n",
       "0  1.575751e+07   BTC   BTC  \n",
       "1  2.044558e+07   BTC   BTC  \n",
       "2  1.935390e+07   BTC   BTC  \n",
       "3  6.414625e+07   BTC   BTC  \n",
       "4  3.744744e+07   BTC   BTC  "
      ]
     },
     "execution_count": 4,
     "metadata": {},
     "output_type": "execute_result"
    }
   ],
   "source": [
    "df.head()"
   ]
  },
  {
   "cell_type": "markdown",
   "id": "9b29bdda",
   "metadata": {},
   "source": [
    "#### Finding all tokens in the database"
   ]
  },
  {
   "cell_type": "code",
   "execution_count": 5,
   "id": "4ceb6e53",
   "metadata": {},
   "outputs": [],
   "source": [
    "tokens = df['token'].unique().tolist()"
   ]
  },
  {
   "cell_type": "code",
   "execution_count": 6,
   "id": "08f65f43",
   "metadata": {},
   "outputs": [
    {
     "data": {
      "text/plain": [
       "['BTC',\n",
       " 'ETH',\n",
       " 'USDT',\n",
       " 'SOL',\n",
       " 'ADA',\n",
       " 'DOT',\n",
       " 'AVAX',\n",
       " 'ATOM',\n",
       " 'CRV',\n",
       " 'AAVE',\n",
       " 'COMP']"
      ]
     },
     "execution_count": 6,
     "metadata": {},
     "output_type": "execute_result"
    }
   ],
   "source": [
    "tokens"
   ]
  },
  {
   "cell_type": "markdown",
   "id": "e874f174",
   "metadata": {},
   "source": [
    "#### Finding the last 2 complete weeks in the database"
   ]
  },
  {
   "cell_type": "code",
   "execution_count": 7,
   "id": "1da765e5",
   "metadata": {},
   "outputs": [],
   "source": [
    "date_df = df.drop_duplicates(subset =\"ts\")[['ts']].sort_values(['ts'])"
   ]
  },
  {
   "cell_type": "code",
   "execution_count": 8,
   "id": "6a9d5f71",
   "metadata": {
    "tags": []
   },
   "outputs": [
    {
     "data": {
      "text/html": [
       "<div>\n",
       "<style scoped>\n",
       "    .dataframe tbody tr th:only-of-type {\n",
       "        vertical-align: middle;\n",
       "    }\n",
       "\n",
       "    .dataframe tbody tr th {\n",
       "        vertical-align: top;\n",
       "    }\n",
       "\n",
       "    .dataframe thead th {\n",
       "        text-align: right;\n",
       "    }\n",
       "</style>\n",
       "<table border=\"1\" class=\"dataframe\">\n",
       "  <thead>\n",
       "    <tr style=\"text-align: right;\">\n",
       "      <th></th>\n",
       "      <th>ts</th>\n",
       "    </tr>\n",
       "  </thead>\n",
       "  <tbody>\n",
       "    <tr>\n",
       "      <th>0</th>\n",
       "      <td>2021-11-01 00:00:00</td>\n",
       "    </tr>\n",
       "    <tr>\n",
       "      <th>1</th>\n",
       "      <td>2021-11-01 01:00:00</td>\n",
       "    </tr>\n",
       "    <tr>\n",
       "      <th>2</th>\n",
       "      <td>2021-11-01 02:00:00</td>\n",
       "    </tr>\n",
       "    <tr>\n",
       "      <th>3</th>\n",
       "      <td>2021-11-01 03:00:00</td>\n",
       "    </tr>\n",
       "    <tr>\n",
       "      <th>4</th>\n",
       "      <td>2021-11-01 04:00:00</td>\n",
       "    </tr>\n",
       "    <tr>\n",
       "      <th>...</th>\n",
       "      <td>...</td>\n",
       "    </tr>\n",
       "    <tr>\n",
       "      <th>1052</th>\n",
       "      <td>2021-12-14 20:00:00</td>\n",
       "    </tr>\n",
       "    <tr>\n",
       "      <th>1053</th>\n",
       "      <td>2021-12-14 21:00:00</td>\n",
       "    </tr>\n",
       "    <tr>\n",
       "      <th>1054</th>\n",
       "      <td>2021-12-14 22:00:00</td>\n",
       "    </tr>\n",
       "    <tr>\n",
       "      <th>1055</th>\n",
       "      <td>2021-12-14 23:00:00</td>\n",
       "    </tr>\n",
       "    <tr>\n",
       "      <th>1056</th>\n",
       "      <td>2021-12-15 00:00:00</td>\n",
       "    </tr>\n",
       "  </tbody>\n",
       "</table>\n",
       "<p>1057 rows × 1 columns</p>\n",
       "</div>"
      ],
      "text/plain": [
       "                       ts\n",
       "0     2021-11-01 00:00:00\n",
       "1     2021-11-01 01:00:00\n",
       "2     2021-11-01 02:00:00\n",
       "3     2021-11-01 03:00:00\n",
       "4     2021-11-01 04:00:00\n",
       "...                   ...\n",
       "1052  2021-12-14 20:00:00\n",
       "1053  2021-12-14 21:00:00\n",
       "1054  2021-12-14 22:00:00\n",
       "1055  2021-12-14 23:00:00\n",
       "1056  2021-12-15 00:00:00\n",
       "\n",
       "[1057 rows x 1 columns]"
      ]
     },
     "execution_count": 8,
     "metadata": {},
     "output_type": "execute_result"
    }
   ],
   "source": [
    "date_df"
   ]
  },
  {
   "cell_type": "markdown",
   "id": "5f78963c",
   "metadata": {},
   "source": [
    "It looks like the final Sunday in the database is Dec. 12, thus our start date will be Nov. 29 and the end date will be Dec. 13 (not inclusive)"
   ]
  },
  {
   "cell_type": "code",
   "execution_count": 9,
   "id": "588cfe18",
   "metadata": {},
   "outputs": [],
   "source": [
    "from_date = '2021-11-29'\n",
    "to_date = '2021-12-13'"
   ]
  },
  {
   "cell_type": "markdown",
   "id": "51a3c061",
   "metadata": {},
   "source": [
    "### Data Summary"
   ]
  },
  {
   "cell_type": "markdown",
   "id": "91c435ed",
   "metadata": {},
   "source": [
    "Summarize the following in a single DataFrame in the runner notebook\n",
    "* avg hourly return by run\n",
    "* avg volatility by run\n",
    "* maximum drawdown over the entire period of each run\n",
    "* range of last close price - first close price"
   ]
  },
  {
   "cell_type": "code",
   "execution_count": 10,
   "id": "c275d9ba",
   "metadata": {},
   "outputs": [],
   "source": [
    "base_output_folder = os.path.expanduser('outputs')\n",
    "\n",
    "if not os.path.exists(base_output_folder):\n",
    "        os.makedirs(base_output_folder)"
   ]
  },
  {
   "cell_type": "code",
   "execution_count": 11,
   "id": "c81ef83d",
   "metadata": {},
   "outputs": [
    {
     "name": "stdout",
     "output_type": "stream",
     "text": [
      "running for BTC for date 2021-11-29 to 2021-12-13\r"
     ]
    },
    {
     "data": {
      "application/vnd.jupyter.widget-view+json": {
       "model_id": "03e15b2ef2084df18c57797344858a7f",
       "version_major": 2,
       "version_minor": 0
      },
      "text/plain": [
       "Executing:   0%|          | 0/24 [00:00<?, ?cell/s]"
      ]
     },
     "metadata": {},
     "output_type": "display_data"
    },
    {
     "name": "stdout",
     "output_type": "stream",
     "text": [
      "running for ETH for date 2021-11-29 to 2021-12-13\r"
     ]
    },
    {
     "data": {
      "application/vnd.jupyter.widget-view+json": {
       "model_id": "a0720afdaffb49a3a9094a15c8331bbb",
       "version_major": 2,
       "version_minor": 0
      },
      "text/plain": [
       "Executing:   0%|          | 0/24 [00:00<?, ?cell/s]"
      ]
     },
     "metadata": {},
     "output_type": "display_data"
    },
    {
     "name": "stdout",
     "output_type": "stream",
     "text": [
      "running for USDT for date 2021-11-29 to 2021-12-13\r"
     ]
    },
    {
     "data": {
      "application/vnd.jupyter.widget-view+json": {
       "model_id": "12b8a2bc3b77441d90fff33b192cf738",
       "version_major": 2,
       "version_minor": 0
      },
      "text/plain": [
       "Executing:   0%|          | 0/24 [00:00<?, ?cell/s]"
      ]
     },
     "metadata": {},
     "output_type": "display_data"
    },
    {
     "name": "stdout",
     "output_type": "stream",
     "text": [
      "running for SOL for date 2021-11-29 to 2021-12-13\r"
     ]
    },
    {
     "data": {
      "application/vnd.jupyter.widget-view+json": {
       "model_id": "0dcc65b49b6e4f03bee805f0aea41765",
       "version_major": 2,
       "version_minor": 0
      },
      "text/plain": [
       "Executing:   0%|          | 0/24 [00:00<?, ?cell/s]"
      ]
     },
     "metadata": {},
     "output_type": "display_data"
    },
    {
     "name": "stdout",
     "output_type": "stream",
     "text": [
      "running for ADA for date 2021-11-29 to 2021-12-13\r"
     ]
    },
    {
     "data": {
      "application/vnd.jupyter.widget-view+json": {
       "model_id": "d1ebf086332544628cdef023a2bbf294",
       "version_major": 2,
       "version_minor": 0
      },
      "text/plain": [
       "Executing:   0%|          | 0/24 [00:00<?, ?cell/s]"
      ]
     },
     "metadata": {},
     "output_type": "display_data"
    },
    {
     "name": "stdout",
     "output_type": "stream",
     "text": [
      "running for DOT for date 2021-11-29 to 2021-12-13\r"
     ]
    },
    {
     "data": {
      "application/vnd.jupyter.widget-view+json": {
       "model_id": "1412ef0e86ee4c2482edd23f2656e13e",
       "version_major": 2,
       "version_minor": 0
      },
      "text/plain": [
       "Executing:   0%|          | 0/24 [00:00<?, ?cell/s]"
      ]
     },
     "metadata": {},
     "output_type": "display_data"
    },
    {
     "name": "stdout",
     "output_type": "stream",
     "text": [
      "running for AVAX for date 2021-11-29 to 2021-12-13\r"
     ]
    },
    {
     "data": {
      "application/vnd.jupyter.widget-view+json": {
       "model_id": "7253e074d50f4d6986fc62c9b246108b",
       "version_major": 2,
       "version_minor": 0
      },
      "text/plain": [
       "Executing:   0%|          | 0/24 [00:00<?, ?cell/s]"
      ]
     },
     "metadata": {},
     "output_type": "display_data"
    },
    {
     "name": "stdout",
     "output_type": "stream",
     "text": [
      "running for ATOM for date 2021-11-29 to 2021-12-13\r"
     ]
    },
    {
     "data": {
      "application/vnd.jupyter.widget-view+json": {
       "model_id": "3bb6e404523c483596e170e80f041b03",
       "version_major": 2,
       "version_minor": 0
      },
      "text/plain": [
       "Executing:   0%|          | 0/24 [00:00<?, ?cell/s]"
      ]
     },
     "metadata": {},
     "output_type": "display_data"
    },
    {
     "name": "stdout",
     "output_type": "stream",
     "text": [
      "running for CRV for date 2021-11-29 to 2021-12-13\r"
     ]
    },
    {
     "data": {
      "application/vnd.jupyter.widget-view+json": {
       "model_id": "a880449bafb64346a468e3cbc4dad819",
       "version_major": 2,
       "version_minor": 0
      },
      "text/plain": [
       "Executing:   0%|          | 0/24 [00:00<?, ?cell/s]"
      ]
     },
     "metadata": {},
     "output_type": "display_data"
    },
    {
     "name": "stdout",
     "output_type": "stream",
     "text": [
      "running for AAVE for date 2021-11-29 to 2021-12-13\r"
     ]
    },
    {
     "data": {
      "application/vnd.jupyter.widget-view+json": {
       "model_id": "8bacc0d02eb74f00be6476a7ea96f0ce",
       "version_major": 2,
       "version_minor": 0
      },
      "text/plain": [
       "Executing:   0%|          | 0/24 [00:00<?, ?cell/s]"
      ]
     },
     "metadata": {},
     "output_type": "display_data"
    },
    {
     "name": "stdout",
     "output_type": "stream",
     "text": [
      "running for COMP for date 2021-11-29 to 2021-12-13\r"
     ]
    },
    {
     "data": {
      "application/vnd.jupyter.widget-view+json": {
       "model_id": "510b2e10f29742748fd3931a922d5bd6",
       "version_major": 2,
       "version_minor": 0
      },
      "text/plain": [
       "Executing:   0%|          | 0/24 [00:00<?, ?cell/s]"
      ]
     },
     "metadata": {},
     "output_type": "display_data"
    }
   ],
   "source": [
    "for token in tokens:\n",
    "    print(f'running for {token} for date {from_date} to {to_date}', end='\\r')\n",
    "    res = pm.execute_notebook(\n",
    "        'hw_4_template_zheng_nan_yang.ipynb',\n",
    "        f'{base_output_folder}/market_analysis_{token}_{from_date}.ipynb',\n",
    "        parameters = {\n",
    "            'from_date': f'{from_date}',\n",
    "            'to_date': f'{to_date}',\n",
    "            'token': token\n",
    "        }\n",
    "    )"
   ]
  },
  {
   "cell_type": "code",
   "execution_count": 4,
   "id": "1f6fd8d8",
   "metadata": {},
   "outputs": [],
   "source": [
    "nbs = sb.read_notebooks('outputs')"
   ]
  },
  {
   "cell_type": "code",
   "execution_count": 5,
   "id": "b8a01782",
   "metadata": {},
   "outputs": [
    {
     "data": {
      "text/html": [
       "<div>\n",
       "<style scoped>\n",
       "    .dataframe tbody tr th:only-of-type {\n",
       "        vertical-align: middle;\n",
       "    }\n",
       "\n",
       "    .dataframe tbody tr th {\n",
       "        vertical-align: top;\n",
       "    }\n",
       "\n",
       "    .dataframe thead th {\n",
       "        text-align: right;\n",
       "    }\n",
       "</style>\n",
       "<table border=\"1\" class=\"dataframe\">\n",
       "  <thead>\n",
       "    <tr style=\"text-align: right;\">\n",
       "      <th></th>\n",
       "      <th>token</th>\n",
       "      <th>from_date</th>\n",
       "      <th>to_date</th>\n",
       "      <th>average hourly return</th>\n",
       "      <th>volatility</th>\n",
       "      <th>max drawdown</th>\n",
       "      <th>range</th>\n",
       "    </tr>\n",
       "  </thead>\n",
       "  <tbody>\n",
       "    <tr>\n",
       "      <th>0</th>\n",
       "      <td>AAVE</td>\n",
       "      <td>2021-11-29</td>\n",
       "      <td>2021-12-13</td>\n",
       "      <td>-8.404275e-04</td>\n",
       "      <td>0.212356</td>\n",
       "      <td>-0.394588</td>\n",
       "      <td>-58.6450</td>\n",
       "    </tr>\n",
       "    <tr>\n",
       "      <th>1</th>\n",
       "      <td>ADA</td>\n",
       "      <td>2021-11-29</td>\n",
       "      <td>2021-12-13</td>\n",
       "      <td>-4.966113e-04</td>\n",
       "      <td>0.217477</td>\n",
       "      <td>-0.322694</td>\n",
       "      <td>-0.2445</td>\n",
       "    </tr>\n",
       "    <tr>\n",
       "      <th>2</th>\n",
       "      <td>ATOM</td>\n",
       "      <td>2021-11-29</td>\n",
       "      <td>2021-12-13</td>\n",
       "      <td>-3.163733e-04</td>\n",
       "      <td>0.299425</td>\n",
       "      <td>-0.392483</td>\n",
       "      <td>-2.7560</td>\n",
       "    </tr>\n",
       "    <tr>\n",
       "      <th>3</th>\n",
       "      <td>AVAX</td>\n",
       "      <td>2021-11-29</td>\n",
       "      <td>2021-12-13</td>\n",
       "      <td>-6.933415e-04</td>\n",
       "      <td>0.286536</td>\n",
       "      <td>-0.396504</td>\n",
       "      <td>-22.9300</td>\n",
       "    </tr>\n",
       "    <tr>\n",
       "      <th>4</th>\n",
       "      <td>BTC</td>\n",
       "      <td>2021-11-29</td>\n",
       "      <td>2021-12-13</td>\n",
       "      <td>-3.888080e-04</td>\n",
       "      <td>0.154894</td>\n",
       "      <td>-0.285516</td>\n",
       "      <td>-6999.8400</td>\n",
       "    </tr>\n",
       "    <tr>\n",
       "      <th>5</th>\n",
       "      <td>COMP</td>\n",
       "      <td>2021-11-29</td>\n",
       "      <td>2021-12-13</td>\n",
       "      <td>-1.094735e-03</td>\n",
       "      <td>0.224354</td>\n",
       "      <td>-0.393657</td>\n",
       "      <td>-88.2800</td>\n",
       "    </tr>\n",
       "    <tr>\n",
       "      <th>6</th>\n",
       "      <td>CRV</td>\n",
       "      <td>2021-11-29</td>\n",
       "      <td>2021-12-13</td>\n",
       "      <td>-7.114679e-04</td>\n",
       "      <td>0.328177</td>\n",
       "      <td>-0.439781</td>\n",
       "      <td>-1.0362</td>\n",
       "    </tr>\n",
       "    <tr>\n",
       "      <th>7</th>\n",
       "      <td>DOT</td>\n",
       "      <td>2021-11-29</td>\n",
       "      <td>2021-12-13</td>\n",
       "      <td>-5.483337e-04</td>\n",
       "      <td>0.245633</td>\n",
       "      <td>-0.368782</td>\n",
       "      <td>-6.0050</td>\n",
       "    </tr>\n",
       "    <tr>\n",
       "      <th>8</th>\n",
       "      <td>ETH</td>\n",
       "      <td>2021-11-29</td>\n",
       "      <td>2021-12-13</td>\n",
       "      <td>-1.000714e-04</td>\n",
       "      <td>0.174104</td>\n",
       "      <td>-0.252795</td>\n",
       "      <td>-141.7100</td>\n",
       "    </tr>\n",
       "    <tr>\n",
       "      <th>9</th>\n",
       "      <td>SOL</td>\n",
       "      <td>2021-11-29</td>\n",
       "      <td>2021-12-13</td>\n",
       "      <td>-4.254425e-04</td>\n",
       "      <td>0.242432</td>\n",
       "      <td>-0.336889</td>\n",
       "      <td>-26.6870</td>\n",
       "    </tr>\n",
       "    <tr>\n",
       "      <th>10</th>\n",
       "      <td>USDT</td>\n",
       "      <td>2021-11-29</td>\n",
       "      <td>2021-12-13</td>\n",
       "      <td>-2.983136e-07</td>\n",
       "      <td>0.011010</td>\n",
       "      <td>-0.024195</td>\n",
       "      <td>-0.0001</td>\n",
       "    </tr>\n",
       "  </tbody>\n",
       "</table>\n",
       "</div>"
      ],
      "text/plain": [
       "   token   from_date     to_date  average hourly return  volatility  \\\n",
       "0   AAVE  2021-11-29  2021-12-13          -8.404275e-04    0.212356   \n",
       "1    ADA  2021-11-29  2021-12-13          -4.966113e-04    0.217477   \n",
       "2   ATOM  2021-11-29  2021-12-13          -3.163733e-04    0.299425   \n",
       "3   AVAX  2021-11-29  2021-12-13          -6.933415e-04    0.286536   \n",
       "4    BTC  2021-11-29  2021-12-13          -3.888080e-04    0.154894   \n",
       "5   COMP  2021-11-29  2021-12-13          -1.094735e-03    0.224354   \n",
       "6    CRV  2021-11-29  2021-12-13          -7.114679e-04    0.328177   \n",
       "7    DOT  2021-11-29  2021-12-13          -5.483337e-04    0.245633   \n",
       "8    ETH  2021-11-29  2021-12-13          -1.000714e-04    0.174104   \n",
       "9    SOL  2021-11-29  2021-12-13          -4.254425e-04    0.242432   \n",
       "10  USDT  2021-11-29  2021-12-13          -2.983136e-07    0.011010   \n",
       "\n",
       "    max drawdown      range  \n",
       "0      -0.394588   -58.6450  \n",
       "1      -0.322694    -0.2445  \n",
       "2      -0.392483    -2.7560  \n",
       "3      -0.396504   -22.9300  \n",
       "4      -0.285516 -6999.8400  \n",
       "5      -0.393657   -88.2800  \n",
       "6      -0.439781    -1.0362  \n",
       "7      -0.368782    -6.0050  \n",
       "8      -0.252795  -141.7100  \n",
       "9      -0.336889   -26.6870  \n",
       "10     -0.024195    -0.0001  "
      ]
     },
     "execution_count": 5,
     "metadata": {},
     "output_type": "execute_result"
    }
   ],
   "source": [
    "pd.DataFrame([\n",
    "    pd.Series({\n",
    "        'token': scrap['token'].data,\n",
    "        'from_date': scrap['from_date'].data,\n",
    "        'to_date': scrap['to_date'].data,\n",
    "        'average hourly return': scrap['prices'].data.log_return.mean(),\n",
    "        'volatility': scrap['prices'].data.volatility.mean(),\n",
    "        'max drawdown': scrap['prices'].data.max_drawdown_pct.min(),  #Max drawndown is given as a negative percentage so we want the minimum number\n",
    "        'range': scrap['prices'].data.close.tail(1).item() - scrap['prices'].data.close.head(1).item()\n",
    "    }) \n",
    "    for book, scrap in nbs.notebook_scraps.items()\n",
    "])"
   ]
  },
  {
   "cell_type": "code",
   "execution_count": null,
   "id": "38a99cf1",
   "metadata": {},
   "outputs": [],
   "source": []
  }
 ],
 "metadata": {
  "kernelspec": {
   "display_name": "Python 3 (ipykernel)",
   "language": "python",
   "name": "python3"
  },
  "language_info": {
   "codemirror_mode": {
    "name": "ipython",
    "version": 3
   },
   "file_extension": ".py",
   "mimetype": "text/x-python",
   "name": "python",
   "nbconvert_exporter": "python",
   "pygments_lexer": "ipython3",
   "version": "3.8.12"
  }
 },
 "nbformat": 4,
 "nbformat_minor": 5
}
