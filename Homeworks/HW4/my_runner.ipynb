{
 "cells": [
  {
   "cell_type": "code",
   "execution_count": 1,
   "id": "5b5e4e99-3fcf-409d-a3d2-e183c04246f1",
   "metadata": {},
   "outputs": [
    {
     "name": "stderr",
     "output_type": "stream",
     "text": [
      "/Users/jin/opt/anaconda3/envs/lectures/lib/python3.9/site-packages/papermill/iorw.py:50: FutureWarning: pyarrow.HadoopFileSystem is deprecated as of 2.0.0, please use pyarrow.fs.HadoopFileSystem instead.\n",
      "  from pyarrow import HadoopFileSystem\n"
     ]
    }
   ],
   "source": [
    "import papermill as pm\n",
    "import scrapbook as sb\n",
    "import pandas as pd\n",
    "import sqlite3\n",
    "from datetime import datetime, timedelta\n",
    "import os\n",
    "\n",
    "%load_ext sql"
   ]
  },
  {
   "cell_type": "markdown",
   "id": "0c5c6d77-4cf3-46f1-84a0-d580e7b3510f",
   "metadata": {},
   "source": [
    "We are instructed to run over all tokens in the database for the last 2 complete weeks in the database. (Note, I interpret the expression \"last 2 complete weeks\" as the most recent 14 days observed in the database). Therefore we need some preliminary skimming of the database for such conditions. "
   ]
  },
  {
   "cell_type": "code",
   "execution_count": null,
   "id": "0152b78f-d3b6-4f11-8cac-bef414638dcf",
   "metadata": {},
   "outputs": [],
   "source": [
    "conn = sqlite3.connect('data/data.db')\n",
    "cur = conn.cursor()"
   ]
  },
  {
   "cell_type": "code",
   "execution_count": 7,
   "id": "d9d32293-1c9b-4a51-8bda-785e255fb801",
   "metadata": {},
   "outputs": [
    {
     "name": "stdout",
     "output_type": "stream",
     "text": [
      "Done.\n"
     ]
    },
    {
     "data": {
      "text/html": [
       "<table>\n",
       "    <tr>\n",
       "        <th>token</th>\n",
       "    </tr>\n",
       "    <tr>\n",
       "        <td>AAVE</td>\n",
       "    </tr>\n",
       "    <tr>\n",
       "        <td>ADA</td>\n",
       "    </tr>\n",
       "    <tr>\n",
       "        <td>ATOM</td>\n",
       "    </tr>\n",
       "    <tr>\n",
       "        <td>AVAX</td>\n",
       "    </tr>\n",
       "    <tr>\n",
       "        <td>BTC</td>\n",
       "    </tr>\n",
       "    <tr>\n",
       "        <td>COMP</td>\n",
       "    </tr>\n",
       "    <tr>\n",
       "        <td>CRV</td>\n",
       "    </tr>\n",
       "    <tr>\n",
       "        <td>DOT</td>\n",
       "    </tr>\n",
       "    <tr>\n",
       "        <td>ETH</td>\n",
       "    </tr>\n",
       "    <tr>\n",
       "        <td>SOL</td>\n",
       "    </tr>\n",
       "    <tr>\n",
       "        <td>USDT</td>\n",
       "    </tr>\n",
       "</table>"
      ],
      "text/plain": [
       "[('AAVE',),\n",
       " ('ADA',),\n",
       " ('ATOM',),\n",
       " ('AVAX',),\n",
       " ('BTC',),\n",
       " ('COMP',),\n",
       " ('CRV',),\n",
       " ('DOT',),\n",
       " ('ETH',),\n",
       " ('SOL',),\n",
       " ('USDT',)]"
      ]
     },
     "execution_count": 7,
     "metadata": {},
     "output_type": "execute_result"
    }
   ],
   "source": [
    "%%sql sqlite:///data/data.db\n",
    "\n",
    "SELECT \n",
    "    token\n",
    "FROM ohlc \n",
    "GROUP BY 1"
   ]
  },
  {
   "cell_type": "code",
   "execution_count": 17,
   "id": "1f78d578-a66d-4d7a-bf7e-181566637626",
   "metadata": {},
   "outputs": [
    {
     "name": "stdout",
     "output_type": "stream",
     "text": [
      " * sqlite:///data/data.db\n",
      "Done.\n",
      "Returning data to local variable tokens\n"
     ]
    }
   ],
   "source": [
    "%%sql tokens <<\n",
    "\n",
    "SELECT \n",
    "    token\n",
    "FROM ohlc \n",
    "GROUP BY 1"
   ]
  },
  {
   "cell_type": "markdown",
   "id": "3c48a7d6-314b-4cfc-8703-b2fd771a4a03",
   "metadata": {},
   "source": [
    "We can see that there are in total such tokens above to consider. We can retrieve each token name directly from the **tokens** object so we leave it be in sql form."
   ]
  },
  {
   "cell_type": "code",
   "execution_count": 20,
   "id": "02437778-ed9f-444f-b2a6-2624e9d30ed1",
   "metadata": {},
   "outputs": [
    {
     "name": "stdout",
     "output_type": "stream",
     "text": [
      " * sqlite:///data/data.db\n",
      "Done.\n"
     ]
    },
    {
     "data": {
      "text/html": [
       "<table>\n",
       "    <tr>\n",
       "        <th>ts</th>\n",
       "    </tr>\n",
       "    <tr>\n",
       "        <td>2021-12-15 00:00:00</td>\n",
       "    </tr>\n",
       "    <tr>\n",
       "        <td>2021-12-14 23:00:00</td>\n",
       "    </tr>\n",
       "    <tr>\n",
       "        <td>2021-12-14 22:00:00</td>\n",
       "    </tr>\n",
       "    <tr>\n",
       "        <td>2021-12-14 21:00:00</td>\n",
       "    </tr>\n",
       "    <tr>\n",
       "        <td>2021-12-14 20:00:00</td>\n",
       "    </tr>\n",
       "</table>"
      ],
      "text/plain": [
       "[('2021-12-15 00:00:00',),\n",
       " ('2021-12-14 23:00:00',),\n",
       " ('2021-12-14 22:00:00',),\n",
       " ('2021-12-14 21:00:00',),\n",
       " ('2021-12-14 20:00:00',)]"
      ]
     },
     "execution_count": 20,
     "metadata": {},
     "output_type": "execute_result"
    }
   ],
   "source": [
    "%%sql\n",
    "\n",
    "SELECT \n",
    "    ts\n",
    "FROM ohlc \n",
    "GROUP BY 1\n",
    "ORDER BY 1 DESC\n",
    "LIMIT 5"
   ]
  },
  {
   "cell_type": "markdown",
   "id": "e34154dd-ffc0-4922-ae38-cd0477da9b0a",
   "metadata": {},
   "source": [
    "The last recorded time is **2021-12-15 00:00:00**. Therefore, we can observe (plot and calculate) from **2021-12-01 00:00:00**. I run the **my_template.ipynb** file with the subsequent cells for each token over the most recent 2 weeks."
   ]
  },
  {
   "cell_type": "code",
   "execution_count": 38,
   "id": "95273a9c-8a2b-474c-a953-4f0857827da3",
   "metadata": {},
   "outputs": [],
   "source": [
    "run_dates = [datetime(2021, 12, 1)]\n",
    "connection_string = 'sqlite:///data/data.db'"
   ]
  },
  {
   "cell_type": "code",
   "execution_count": 39,
   "id": "2444fb03-b7cc-4ae0-b080-ce99c15095f0",
   "metadata": {},
   "outputs": [
    {
     "data": {
      "text/plain": [
       "[datetime.datetime(2021, 12, 1, 0, 0)]"
      ]
     },
     "execution_count": 39,
     "metadata": {},
     "output_type": "execute_result"
    }
   ],
   "source": [
    "run_dates"
   ]
  },
  {
   "cell_type": "code",
   "execution_count": 40,
   "id": "2f94728e-7d8f-4939-a844-eae46e9d5c40",
   "metadata": {},
   "outputs": [],
   "source": [
    "base_output_folder = os.path.expanduser('my_outputs')\n",
    "\n",
    "if not os.path.exists(base_output_folder):\n",
    "        os.makedirs(base_output_folder)"
   ]
  },
  {
   "cell_type": "code",
   "execution_count": 44,
   "id": "38bd44fe-28bc-4f05-87bc-14cafebff393",
   "metadata": {},
   "outputs": [
    {
     "name": "stdout",
     "output_type": "stream",
     "text": [
      "running for AAVE for date 2021-12-01 00:00:00 to 2021-12-15 00:00:00\r"
     ]
    },
    {
     "name": "stderr",
     "output_type": "stream",
     "text": [
      "Executing: 100%|██████████| 22/22 [00:04<00:00,  4.94cell/s]\n"
     ]
    },
    {
     "name": "stdout",
     "output_type": "stream",
     "text": [
      "running for ADA for date 2021-12-01 00:00:00 to 2021-12-15 00:00:00\r"
     ]
    },
    {
     "name": "stderr",
     "output_type": "stream",
     "text": [
      "Executing: 100%|██████████| 22/22 [00:04<00:00,  5.13cell/s]\n"
     ]
    },
    {
     "name": "stdout",
     "output_type": "stream",
     "text": [
      "running for ATOM for date 2021-12-01 00:00:00 to 2021-12-15 00:00:00\r"
     ]
    },
    {
     "name": "stderr",
     "output_type": "stream",
     "text": [
      "Executing: 100%|██████████| 22/22 [00:04<00:00,  5.09cell/s]\n"
     ]
    },
    {
     "name": "stdout",
     "output_type": "stream",
     "text": [
      "running for AVAX for date 2021-12-01 00:00:00 to 2021-12-15 00:00:00\r"
     ]
    },
    {
     "name": "stderr",
     "output_type": "stream",
     "text": [
      "Executing: 100%|██████████| 22/22 [00:04<00:00,  5.31cell/s]\n"
     ]
    },
    {
     "name": "stdout",
     "output_type": "stream",
     "text": [
      "running for BTC for date 2021-12-01 00:00:00 to 2021-12-15 00:00:00\r"
     ]
    },
    {
     "name": "stderr",
     "output_type": "stream",
     "text": [
      "Executing: 100%|██████████| 22/22 [00:04<00:00,  5.13cell/s]\n"
     ]
    },
    {
     "name": "stdout",
     "output_type": "stream",
     "text": [
      "running for COMP for date 2021-12-01 00:00:00 to 2021-12-15 00:00:00\r"
     ]
    },
    {
     "name": "stderr",
     "output_type": "stream",
     "text": [
      "Executing: 100%|██████████| 22/22 [00:04<00:00,  4.81cell/s]\n"
     ]
    },
    {
     "name": "stdout",
     "output_type": "stream",
     "text": [
      "running for CRV for date 2021-12-01 00:00:00 to 2021-12-15 00:00:00\r"
     ]
    },
    {
     "name": "stderr",
     "output_type": "stream",
     "text": [
      "Executing: 100%|██████████| 22/22 [00:04<00:00,  5.05cell/s]\n"
     ]
    },
    {
     "name": "stdout",
     "output_type": "stream",
     "text": [
      "running for DOT for date 2021-12-01 00:00:00 to 2021-12-15 00:00:00\r"
     ]
    },
    {
     "name": "stderr",
     "output_type": "stream",
     "text": [
      "Executing: 100%|██████████| 22/22 [00:04<00:00,  5.03cell/s]\n"
     ]
    },
    {
     "name": "stdout",
     "output_type": "stream",
     "text": [
      "running for ETH for date 2021-12-01 00:00:00 to 2021-12-15 00:00:00\r"
     ]
    },
    {
     "name": "stderr",
     "output_type": "stream",
     "text": [
      "Executing: 100%|██████████| 22/22 [00:04<00:00,  5.01cell/s]\n"
     ]
    },
    {
     "name": "stdout",
     "output_type": "stream",
     "text": [
      "running for SOL for date 2021-12-01 00:00:00 to 2021-12-15 00:00:00\r"
     ]
    },
    {
     "name": "stderr",
     "output_type": "stream",
     "text": [
      "Executing: 100%|██████████| 22/22 [00:04<00:00,  5.06cell/s]\n"
     ]
    },
    {
     "name": "stdout",
     "output_type": "stream",
     "text": [
      "running for USDT for date 2021-12-01 00:00:00 to 2021-12-15 00:00:00\r"
     ]
    },
    {
     "name": "stderr",
     "output_type": "stream",
     "text": [
      "Executing: 100%|██████████| 22/22 [00:04<00:00,  4.99cell/s]\n"
     ]
    }
   ],
   "source": [
    "for run_date in run_dates:\n",
    "    for token in tokens:\n",
    "        print(f'running for {token[0]} for date {run_date} to {run_date + timedelta(days=14)}', end='\\r')\n",
    "        res = pm.execute_notebook(\n",
    "            'my_template.ipynb',\n",
    "            f'{base_output_folder}/my_analysis_{token[0]}_{run_date}.ipynb',\n",
    "            parameters = {\n",
    "                'from_date': f'{run_date}',\n",
    "                'to_date': f'{run_date + timedelta(days=14)}',\n",
    "                'token': token[0],\n",
    "                'connection_string': connection_string\n",
    "            }\n",
    "        )"
   ]
  },
  {
   "cell_type": "markdown",
   "id": "592af805-27e8-431c-acbf-318fce259ba9",
   "metadata": {},
   "source": [
    "To check with BTC as an example of whether the above process gave desired results, I try the following few cells."
   ]
  },
  {
   "cell_type": "code",
   "execution_count": 55,
   "id": "2c193f6b-7a36-4ca4-ba9c-e13ac71e4493",
   "metadata": {},
   "outputs": [],
   "source": [
    "nb = sb.read_notebook('my_outputs/my_analysis_BTC_2021-12-01 00:00:00.ipynb')"
   ]
  },
  {
   "cell_type": "code",
   "execution_count": 62,
   "id": "abd4a17c-1956-407b-95fe-1cfb05fdcc21",
   "metadata": {},
   "outputs": [
    {
     "data": {
      "text/html": [
       "<div>\n",
       "<style scoped>\n",
       "    .dataframe tbody tr th:only-of-type {\n",
       "        vertical-align: middle;\n",
       "    }\n",
       "\n",
       "    .dataframe tbody tr th {\n",
       "        vertical-align: top;\n",
       "    }\n",
       "\n",
       "    .dataframe thead th {\n",
       "        text-align: right;\n",
       "    }\n",
       "</style>\n",
       "<table border=\"1\" class=\"dataframe\">\n",
       "  <thead>\n",
       "    <tr style=\"text-align: right;\">\n",
       "      <th></th>\n",
       "      <th>open</th>\n",
       "      <th>high</th>\n",
       "      <th>low</th>\n",
       "      <th>close</th>\n",
       "      <th>volume</th>\n",
       "      <th>volumeUSD</th>\n",
       "      <th>token</th>\n",
       "      <th>chain</th>\n",
       "      <th>return</th>\n",
       "      <th>volatility</th>\n",
       "      <th>max_drawdown</th>\n",
       "    </tr>\n",
       "    <tr>\n",
       "      <th>ts</th>\n",
       "      <th></th>\n",
       "      <th></th>\n",
       "      <th></th>\n",
       "      <th></th>\n",
       "      <th></th>\n",
       "      <th></th>\n",
       "      <th></th>\n",
       "      <th></th>\n",
       "      <th></th>\n",
       "      <th></th>\n",
       "      <th></th>\n",
       "    </tr>\n",
       "  </thead>\n",
       "  <tbody>\n",
       "    <tr>\n",
       "      <th>2021-12-01 00:00:00</th>\n",
       "      <td>57321.41</td>\n",
       "      <td>57451.05</td>\n",
       "      <td>56814.34</td>\n",
       "      <td>56987.97</td>\n",
       "      <td>388.482022</td>\n",
       "      <td>2.218430e+07</td>\n",
       "      <td>BTC</td>\n",
       "      <td>BTC</td>\n",
       "      <td>-0.005834</td>\n",
       "      <td>NaN</td>\n",
       "      <td>0.000000</td>\n",
       "    </tr>\n",
       "    <tr>\n",
       "      <th>2021-12-01 01:00:00</th>\n",
       "      <td>56998.35</td>\n",
       "      <td>57726.45</td>\n",
       "      <td>56705.06</td>\n",
       "      <td>57616.41</td>\n",
       "      <td>599.791578</td>\n",
       "      <td>3.437153e+07</td>\n",
       "      <td>BTC</td>\n",
       "      <td>BTC</td>\n",
       "      <td>0.010967</td>\n",
       "      <td>NaN</td>\n",
       "      <td>0.000000</td>\n",
       "    </tr>\n",
       "    <tr>\n",
       "      <th>2021-12-01 02:00:00</th>\n",
       "      <td>57618.55</td>\n",
       "      <td>57620.00</td>\n",
       "      <td>56972.97</td>\n",
       "      <td>57030.83</td>\n",
       "      <td>591.687200</td>\n",
       "      <td>3.387067e+07</td>\n",
       "      <td>BTC</td>\n",
       "      <td>BTC</td>\n",
       "      <td>-0.010215</td>\n",
       "      <td>NaN</td>\n",
       "      <td>-0.010163</td>\n",
       "    </tr>\n",
       "    <tr>\n",
       "      <th>2021-12-01 03:00:00</th>\n",
       "      <td>57029.79</td>\n",
       "      <td>57396.87</td>\n",
       "      <td>56841.01</td>\n",
       "      <td>57307.59</td>\n",
       "      <td>702.560364</td>\n",
       "      <td>4.007816e+07</td>\n",
       "      <td>BTC</td>\n",
       "      <td>BTC</td>\n",
       "      <td>0.004841</td>\n",
       "      <td>0.144076</td>\n",
       "      <td>-0.010163</td>\n",
       "    </tr>\n",
       "    <tr>\n",
       "      <th>2021-12-01 04:00:00</th>\n",
       "      <td>57306.55</td>\n",
       "      <td>57456.82</td>\n",
       "      <td>57026.11</td>\n",
       "      <td>57404.01</td>\n",
       "      <td>859.591535</td>\n",
       "      <td>4.920503e+07</td>\n",
       "      <td>BTC</td>\n",
       "      <td>BTC</td>\n",
       "      <td>0.001681</td>\n",
       "      <td>0.105531</td>\n",
       "      <td>-0.010163</td>\n",
       "    </tr>\n",
       "  </tbody>\n",
       "</table>\n",
       "</div>"
      ],
      "text/plain": [
       "                         open      high       low     close      volume  \\\n",
       "ts                                                                        \n",
       "2021-12-01 00:00:00  57321.41  57451.05  56814.34  56987.97  388.482022   \n",
       "2021-12-01 01:00:00  56998.35  57726.45  56705.06  57616.41  599.791578   \n",
       "2021-12-01 02:00:00  57618.55  57620.00  56972.97  57030.83  591.687200   \n",
       "2021-12-01 03:00:00  57029.79  57396.87  56841.01  57307.59  702.560364   \n",
       "2021-12-01 04:00:00  57306.55  57456.82  57026.11  57404.01  859.591535   \n",
       "\n",
       "                        volumeUSD token chain    return  volatility  \\\n",
       "ts                                                                    \n",
       "2021-12-01 00:00:00  2.218430e+07   BTC   BTC -0.005834         NaN   \n",
       "2021-12-01 01:00:00  3.437153e+07   BTC   BTC  0.010967         NaN   \n",
       "2021-12-01 02:00:00  3.387067e+07   BTC   BTC -0.010215         NaN   \n",
       "2021-12-01 03:00:00  4.007816e+07   BTC   BTC  0.004841    0.144076   \n",
       "2021-12-01 04:00:00  4.920503e+07   BTC   BTC  0.001681    0.105531   \n",
       "\n",
       "                     max_drawdown  \n",
       "ts                                 \n",
       "2021-12-01 00:00:00      0.000000  \n",
       "2021-12-01 01:00:00      0.000000  \n",
       "2021-12-01 02:00:00     -0.010163  \n",
       "2021-12-01 03:00:00     -0.010163  \n",
       "2021-12-01 04:00:00     -0.010163  "
      ]
     },
     "execution_count": 62,
     "metadata": {},
     "output_type": "execute_result"
    }
   ],
   "source": [
    "nb.scraps['prices'].data.head()"
   ]
  },
  {
   "cell_type": "markdown",
   "id": "8bd454ff-349e-430c-adee-920bf68a87e0",
   "metadata": {},
   "source": [
    "Now I read all notebook files and summarize the values requested by our homework instructions."
   ]
  },
  {
   "cell_type": "code",
   "execution_count": 50,
   "id": "7662e681-21b6-4096-a4aa-2e6f02451d67",
   "metadata": {},
   "outputs": [],
   "source": [
    "nbs = sb.read_notebooks('my_outputs') # read all notebooks"
   ]
  },
  {
   "cell_type": "code",
   "execution_count": 73,
   "id": "d42b5f1c-94b8-44bb-a1ad-abae95a96856",
   "metadata": {},
   "outputs": [
    {
     "data": {
      "text/html": [
       "<div>\n",
       "<style scoped>\n",
       "    .dataframe tbody tr th:only-of-type {\n",
       "        vertical-align: middle;\n",
       "    }\n",
       "\n",
       "    .dataframe tbody tr th {\n",
       "        vertical-align: top;\n",
       "    }\n",
       "\n",
       "    .dataframe thead th {\n",
       "        text-align: right;\n",
       "    }\n",
       "</style>\n",
       "<table border=\"1\" class=\"dataframe\">\n",
       "  <thead>\n",
       "    <tr style=\"text-align: right;\">\n",
       "      <th></th>\n",
       "      <th>mean_return</th>\n",
       "      <th>mean_volatility</th>\n",
       "      <th>max_drawdown</th>\n",
       "      <th>price_range</th>\n",
       "    </tr>\n",
       "    <tr>\n",
       "      <th>token</th>\n",
       "      <th></th>\n",
       "      <th></th>\n",
       "      <th></th>\n",
       "      <th></th>\n",
       "    </tr>\n",
       "  </thead>\n",
       "  <tbody>\n",
       "    <tr>\n",
       "      <th>AAVE</th>\n",
       "      <td>-1.252962e-03</td>\n",
       "      <td>0.237465</td>\n",
       "      <td>-0.404689</td>\n",
       "      <td>-88.3180</td>\n",
       "    </tr>\n",
       "    <tr>\n",
       "      <th>ADA</th>\n",
       "      <td>-6.161726e-04</td>\n",
       "      <td>0.250735</td>\n",
       "      <td>-0.313680</td>\n",
       "      <td>-0.2849</td>\n",
       "    </tr>\n",
       "    <tr>\n",
       "      <th>ATOM</th>\n",
       "      <td>-7.509726e-04</td>\n",
       "      <td>0.338880</td>\n",
       "      <td>-0.358851</td>\n",
       "      <td>-5.8280</td>\n",
       "    </tr>\n",
       "    <tr>\n",
       "      <th>AVAX</th>\n",
       "      <td>-1.001603e-03</td>\n",
       "      <td>0.318885</td>\n",
       "      <td>-0.394209</td>\n",
       "      <td>-35.1400</td>\n",
       "    </tr>\n",
       "    <tr>\n",
       "      <th>BTC</th>\n",
       "      <td>-5.103292e-04</td>\n",
       "      <td>0.169846</td>\n",
       "      <td>-0.205844</td>\n",
       "      <td>-8698.9800</td>\n",
       "    </tr>\n",
       "    <tr>\n",
       "      <th>COMP</th>\n",
       "      <td>-1.238412e-03</td>\n",
       "      <td>0.255816</td>\n",
       "      <td>-0.378144</td>\n",
       "      <td>-93.6200</td>\n",
       "    </tr>\n",
       "    <tr>\n",
       "      <th>CRV</th>\n",
       "      <td>-1.077334e-03</td>\n",
       "      <td>0.362593</td>\n",
       "      <td>-0.394862</td>\n",
       "      <td>-1.6295</td>\n",
       "    </tr>\n",
       "    <tr>\n",
       "      <th>DOT</th>\n",
       "      <td>-1.149871e-03</td>\n",
       "      <td>0.276084</td>\n",
       "      <td>-0.348681</td>\n",
       "      <td>-11.8820</td>\n",
       "    </tr>\n",
       "    <tr>\n",
       "      <th>ETH</th>\n",
       "      <td>-5.734818e-04</td>\n",
       "      <td>0.196771</td>\n",
       "      <td>-0.218952</td>\n",
       "      <td>-794.4600</td>\n",
       "    </tr>\n",
       "    <tr>\n",
       "      <th>SOL</th>\n",
       "      <td>-8.333406e-04</td>\n",
       "      <td>0.278316</td>\n",
       "      <td>-0.373707</td>\n",
       "      <td>-49.7260</td>\n",
       "    </tr>\n",
       "    <tr>\n",
       "      <th>USDT</th>\n",
       "      <td>-8.922772e-07</td>\n",
       "      <td>0.008939</td>\n",
       "      <td>-0.005272</td>\n",
       "      <td>-0.0003</td>\n",
       "    </tr>\n",
       "  </tbody>\n",
       "</table>\n",
       "</div>"
      ],
      "text/plain": [
       "        mean_return  mean_volatility  max_drawdown  price_range\n",
       "token                                                          \n",
       "AAVE  -1.252962e-03         0.237465     -0.404689     -88.3180\n",
       "ADA   -6.161726e-04         0.250735     -0.313680      -0.2849\n",
       "ATOM  -7.509726e-04         0.338880     -0.358851      -5.8280\n",
       "AVAX  -1.001603e-03         0.318885     -0.394209     -35.1400\n",
       "BTC   -5.103292e-04         0.169846     -0.205844   -8698.9800\n",
       "COMP  -1.238412e-03         0.255816     -0.378144     -93.6200\n",
       "CRV   -1.077334e-03         0.362593     -0.394862      -1.6295\n",
       "DOT   -1.149871e-03         0.276084     -0.348681     -11.8820\n",
       "ETH   -5.734818e-04         0.196771     -0.218952    -794.4600\n",
       "SOL   -8.333406e-04         0.278316     -0.373707     -49.7260\n",
       "USDT  -8.922772e-07         0.008939     -0.005272      -0.0003"
      ]
     },
     "execution_count": 73,
     "metadata": {},
     "output_type": "execute_result"
    }
   ],
   "source": [
    "pd.DataFrame([\n",
    "    pd.Series({\n",
    "        'token': scrap['token'].data,\n",
    "        'mean_return': scrap['prices'].data['return'].mean(),\n",
    "        'mean_volatility': scrap['prices'].data.volatility.mean(),\n",
    "        'max_drawdown': scrap['prices'].data.max_drawdown.min(),\n",
    "        'price_range': scrap['prices'].data.close[-1] - scrap['prices'].data.close[0]}) \n",
    "    for book, scrap in nbs.notebook_scraps.items()\n",
    "]).set_index('token')"
   ]
  }
 ],
 "metadata": {
  "interpreter": {
   "hash": "b65390a3d5648f9fe016b184aa67548ce92bc26e874c77efef02a09f1ad18d5d"
  },
  "kernelspec": {
   "display_name": "Python 3.9.0 64-bit ('lectures': conda)",
   "language": "python",
   "name": "python390jvsc74a57bd0b65390a3d5648f9fe016b184aa67548ce92bc26e874c77efef02a09f1ad18d5d"
  },
  "language_info": {
   "codemirror_mode": {
    "name": "ipython",
    "version": 3
   },
   "file_extension": ".py",
   "mimetype": "text/x-python",
   "name": "python",
   "nbconvert_exporter": "python",
   "pygments_lexer": "ipython3",
   "version": "3.9.0"
  }
 },
 "nbformat": 4,
 "nbformat_minor": 5
}
