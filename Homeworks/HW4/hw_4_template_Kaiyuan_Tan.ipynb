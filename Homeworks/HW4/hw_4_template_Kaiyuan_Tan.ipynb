{
 "cells": [
  {
   "cell_type": "markdown",
   "id": "3fc8f1f4-4e16-469d-91bb-f11f772fde03",
   "metadata": {},
   "source": [
    "# HW4 -- Template"
   ]
  },
  {
   "cell_type": "code",
   "execution_count": null,
   "id": "1737bc1d-33e8-4db7-a13f-78538109c34d",
   "metadata": {
    "tags": []
   },
   "outputs": [],
   "source": [
    "import pandas as pd\n",
    "import numpy as np\n",
    "import sqlite3\n",
    "import gspread\n",
    "import scrapbook as sb\n",
    "\n",
    "import matplotlib.pyplot as plt\n",
    "from matplotlib import cm\n",
    "from matplotlib.dates import date2num, DateFormatter\n",
    "\n",
    "plt.style.use('ggplot')\n",
    "plt.tight_layout()\n",
    "plt.rcParams['figure.figsize'] = [20, 20]\n",
    "\n",
    "%matplotlib inline"
   ]
  },
  {
   "cell_type": "code",
   "execution_count": null,
   "id": "e2c38c86-d545-429f-ac0d-0ba8135b297a",
   "metadata": {},
   "outputs": [],
   "source": [
    "def vol_ohlc(df, lookback=10):\n",
    "    o = df.open\n",
    "    h = df.high\n",
    "    l = df.low\n",
    "    c = df.close\n",
    "    \n",
    "    k = 0.34 / (1.34 + (lookback+1)/(lookback-1))\n",
    "    cc = np.log(c/c.shift(1))\n",
    "    ho = np.log(h/o)\n",
    "    lo = np.log(l/o)\n",
    "    co = np.log(c/o)\n",
    "    oc = np.log(o/c.shift(1))\n",
    "    oc_sq = oc**2\n",
    "    cc_sq = cc**2\n",
    "    rs = ho*(ho-co)+lo*(lo-co)\n",
    "    close_vol = cc_sq.rolling(lookback).sum() * (1.0 / (lookback - 1.0))\n",
    "    open_vol = oc_sq.rolling(lookback).sum() * (1.0 / (lookback - 1.0))\n",
    "    window_rs = rs.rolling(lookback).sum() * (1.0 / (lookback - 1.0))\n",
    "    result = (open_vol + k * close_vol + (1-k) * window_rs).apply(np.sqrt) * np.sqrt(252)\n",
    "    result[:lookback-1] = np.nan\n",
    "    \n",
    "    return result"
   ]
  },
  {
   "cell_type": "code",
   "execution_count": null,
   "id": "ab827459-62f2-40b2-b09b-f4c4e0538bee",
   "metadata": {},
   "outputs": [],
   "source": [
    "def max_drawdown(price):\n",
    "    return (np.maximum.accumulate(price) - price) / np.maximum.accumulate(price)"
   ]
  },
  {
   "cell_type": "code",
   "execution_count": null,
   "id": "f5196eb0-1d27-4c8a-a0c6-c144c5bbe2e5",
   "metadata": {},
   "outputs": [],
   "source": [
    "def series_plot(data, ax=None):\n",
    "    data.plot(ax=ax)\n",
    "    \n",
    "    start_of_days = data.between_time('00:00:00', '00:00:00').index.to_list()\n",
    "    end_of_days = start_of_days[1:] + [data.index[-1]]\n",
    "    colors = iter(cm.rainbow(np.linspace(0, 1, len(start_of_days))))\n",
    "    \n",
    "    for x, y in zip(start_of_days, end_of_days):\n",
    "        color = next(colors)\n",
    "        ax.axvspan(x, y, color=color, alpha=0.1)"
   ]
  },
  {
   "cell_type": "code",
   "execution_count": null,
   "id": "ef2bb6ea-4d28-4abf-b2af-16c0d197bc96",
   "metadata": {
    "tags": [
     "parameters"
    ]
   },
   "outputs": [],
   "source": [
    "token = 'BTC'\n",
    "from_date = '2021-11-05'\n",
    "to_date = '2021-11-12'\n",
    "connection_string = 'sqlite:///data/data.db'"
   ]
  },
  {
   "cell_type": "code",
   "execution_count": null,
   "id": "0a3521ef-da54-4ee8-a693-fa59cdb3751c",
   "metadata": {},
   "outputs": [],
   "source": [
    "prices = pd.read_sql(f'''\n",
    "SELECT \n",
    "    * \n",
    "FROM ohlc \n",
    "WHERE \n",
    "    token = '{token}'\n",
    "    AND ts >= '{from_date}'\n",
    "    AND ts < '{to_date}'\n",
    "''', connection_string)\n",
    "prices['ts'] = pd.to_datetime(prices['ts'])\n",
    "\n",
    "prices.set_index('ts', inplace=True)"
   ]
  },
  {
   "cell_type": "code",
   "execution_count": null,
   "id": "687fba63-f5b8-4054-81ed-edd10b5f07a8",
   "metadata": {},
   "outputs": [],
   "source": [
    "prices['return'] = prices[['close']].pct_change()"
   ]
  },
  {
   "cell_type": "code",
   "execution_count": null,
   "id": "fd134aa9-0757-4da2-bdfe-409eb01d3fce",
   "metadata": {},
   "outputs": [],
   "source": [
    "prices['volatility'] = vol_ohlc(prices)"
   ]
  },
  {
   "cell_type": "code",
   "execution_count": null,
   "id": "65a34cd2-845a-4a08-9cb6-c2ce56f80e27",
   "metadata": {},
   "outputs": [],
   "source": [
    "prices['max_drawdown'] = max_drawdown(prices.close)"
   ]
  },
  {
   "cell_type": "code",
   "execution_count": null,
   "id": "5f69c6ef-cfd4-466c-a1a5-37f813715a1b",
   "metadata": {},
   "outputs": [],
   "source": [
    "%%capture\n",
    "\n",
    "fig, ax = plt.subplots(nrows=2, ncols=2, figsize=(20, 20))"
   ]
  },
  {
   "cell_type": "code",
   "execution_count": null,
   "id": "872ed9ee-44a4-40d5-bee4-c16295c64011",
   "metadata": {},
   "outputs": [],
   "source": [
    "series_plot(prices[['return']], ax=ax[0, 0])\n",
    "series_plot(prices[['volatility']], ax=ax[0, 1])\n",
    "series_plot(prices[['max_drawdown']], ax=ax[1, 0])\n",
    "series_plot(prices[['close']], ax=ax[1, 1])\n",
    "fig.suptitle(f'Market action for {token} between {from_date} and {to_date}')\n",
    "fig"
   ]
  },
  {
   "cell_type": "code",
   "execution_count": null,
   "id": "01228ef1-abe3-4786-b8bb-a8766531d102",
   "metadata": {},
   "outputs": [],
   "source": [
    "sb.glue('token', token)\n",
    "sb.glue('from_date', from_date)\n",
    "sb.glue('to_date', to_date)\n",
    "sb.glue('prices', prices, encoder='pandas')\n",
    "sb.glue('summary_plot', fig, encoder='display', display=True)"
   ]
  }
 ],
 "metadata": {
  "kernelspec": {
   "display_name": "Python 3 (ipykernel)",
   "language": "python",
   "name": "python3"
  },
  "language_info": {
   "codemirror_mode": {
    "name": "ipython",
    "version": 3
   },
   "file_extension": ".py",
   "mimetype": "text/x-python",
   "name": "python",
   "nbconvert_exporter": "python",
   "pygments_lexer": "ipython3",
   "version": "3.8.12"
  }
 },
 "nbformat": 4,
 "nbformat_minor": 5
}
