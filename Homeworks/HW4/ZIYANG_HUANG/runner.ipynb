{
 "cells": [
  {
   "cell_type": "code",
   "execution_count": 1,
   "id": "cce433e5-0af2-4883-b51e-aec06d1b97c8",
   "metadata": {},
   "outputs": [
    {
     "name": "stderr",
     "output_type": "stream",
     "text": [
      "/opt/homebrew/Caskroom/miniforge/base/envs/mfe-preprogram/lib/python3.8/site-packages/papermill/iorw.py:50: FutureWarning: pyarrow.HadoopFileSystem is deprecated as of 2.0.0, please use pyarrow.fs.HadoopFileSystem instead.\n",
      "  from pyarrow import HadoopFileSystem\n"
     ]
    }
   ],
   "source": [
    "import numpy as np\n",
    "import pandas as pd\n",
    "import papermill as pm\n",
    "import scrapbook as sb\n",
    "import os"
   ]
  },
  {
   "cell_type": "code",
   "execution_count": 2,
   "id": "69fc08b7-a210-4b8d-b786-0a84e60d0724",
   "metadata": {},
   "outputs": [],
   "source": [
    "base_output_folder = os.path.expanduser('outputs')\n",
    "\n",
    "if not os.path.exists(base_output_folder):\n",
    "        os.makedirs(base_output_folder)"
   ]
  },
  {
   "cell_type": "code",
   "execution_count": 3,
   "id": "fe45f6a9-295c-4fb5-ba13-3ce4aea64a36",
   "metadata": {},
   "outputs": [],
   "source": [
    "# get all the tokens in the database\n",
    "db = 'sqlite:///data/data.db'\n",
    "tokens = pd.read_sql(\n",
    "'''\n",
    "SELECT distinct(token)\n",
    "FROM ohlc\n",
    "''',db)\n",
    "tokens = list(tokens['token'])"
   ]
  },
  {
   "cell_type": "code",
   "execution_count": 4,
   "id": "09c23af2-8e91-4d71-92de-31ebaf3fc29e",
   "metadata": {},
   "outputs": [
    {
     "name": "stdout",
     "output_type": "stream",
     "text": [
      "running for BTC for date 2021-11-29 to 2021-12-12\r"
     ]
    },
    {
     "data": {
      "application/vnd.jupyter.widget-view+json": {
       "model_id": "9f29ea696c10467aa2c535551b6f5c67",
       "version_major": 2,
       "version_minor": 0
      },
      "text/plain": [
       "Executing:   0%|          | 0/10 [00:00<?, ?cell/s]"
      ]
     },
     "metadata": {},
     "output_type": "display_data"
    },
    {
     "name": "stdout",
     "output_type": "stream",
     "text": [
      "running for ETH for date 2021-11-29 to 2021-12-12\r"
     ]
    },
    {
     "data": {
      "application/vnd.jupyter.widget-view+json": {
       "model_id": "755eac931a1e4524ad84abd9004c0e40",
       "version_major": 2,
       "version_minor": 0
      },
      "text/plain": [
       "Executing:   0%|          | 0/10 [00:00<?, ?cell/s]"
      ]
     },
     "metadata": {},
     "output_type": "display_data"
    },
    {
     "name": "stdout",
     "output_type": "stream",
     "text": [
      "running for USDT for date 2021-11-29 to 2021-12-12\r"
     ]
    },
    {
     "data": {
      "application/vnd.jupyter.widget-view+json": {
       "model_id": "880734a74153435cb00f3e8e4d5903f7",
       "version_major": 2,
       "version_minor": 0
      },
      "text/plain": [
       "Executing:   0%|          | 0/10 [00:00<?, ?cell/s]"
      ]
     },
     "metadata": {},
     "output_type": "display_data"
    },
    {
     "name": "stdout",
     "output_type": "stream",
     "text": [
      "running for SOL for date 2021-11-29 to 2021-12-12\r"
     ]
    },
    {
     "data": {
      "application/vnd.jupyter.widget-view+json": {
       "model_id": "d2995a35144d487a932629c6e60dde25",
       "version_major": 2,
       "version_minor": 0
      },
      "text/plain": [
       "Executing:   0%|          | 0/10 [00:00<?, ?cell/s]"
      ]
     },
     "metadata": {},
     "output_type": "display_data"
    },
    {
     "name": "stdout",
     "output_type": "stream",
     "text": [
      "running for ADA for date 2021-11-29 to 2021-12-12\r"
     ]
    },
    {
     "data": {
      "application/vnd.jupyter.widget-view+json": {
       "model_id": "2b8e3b8a2cc747a0a1d7c5b2a1117514",
       "version_major": 2,
       "version_minor": 0
      },
      "text/plain": [
       "Executing:   0%|          | 0/10 [00:00<?, ?cell/s]"
      ]
     },
     "metadata": {},
     "output_type": "display_data"
    },
    {
     "name": "stdout",
     "output_type": "stream",
     "text": [
      "running for DOT for date 2021-11-29 to 2021-12-12\r"
     ]
    },
    {
     "data": {
      "application/vnd.jupyter.widget-view+json": {
       "model_id": "a1300317b64a4848bc0e6aa161fdce61",
       "version_major": 2,
       "version_minor": 0
      },
      "text/plain": [
       "Executing:   0%|          | 0/10 [00:00<?, ?cell/s]"
      ]
     },
     "metadata": {},
     "output_type": "display_data"
    },
    {
     "name": "stdout",
     "output_type": "stream",
     "text": [
      "running for AVAX for date 2021-11-29 to 2021-12-12\r"
     ]
    },
    {
     "data": {
      "application/vnd.jupyter.widget-view+json": {
       "model_id": "a4d7383452d7443db643d41439a3bc8f",
       "version_major": 2,
       "version_minor": 0
      },
      "text/plain": [
       "Executing:   0%|          | 0/10 [00:00<?, ?cell/s]"
      ]
     },
     "metadata": {},
     "output_type": "display_data"
    },
    {
     "name": "stdout",
     "output_type": "stream",
     "text": [
      "running for ATOM for date 2021-11-29 to 2021-12-12\r"
     ]
    },
    {
     "data": {
      "application/vnd.jupyter.widget-view+json": {
       "model_id": "47c0b73c73894bdf831a7c2677c346c6",
       "version_major": 2,
       "version_minor": 0
      },
      "text/plain": [
       "Executing:   0%|          | 0/10 [00:00<?, ?cell/s]"
      ]
     },
     "metadata": {},
     "output_type": "display_data"
    },
    {
     "name": "stdout",
     "output_type": "stream",
     "text": [
      "running for CRV for date 2021-11-29 to 2021-12-12\r"
     ]
    },
    {
     "data": {
      "application/vnd.jupyter.widget-view+json": {
       "model_id": "8b3d9764567f4c1f99f6d6cf8e73322a",
       "version_major": 2,
       "version_minor": 0
      },
      "text/plain": [
       "Executing:   0%|          | 0/10 [00:00<?, ?cell/s]"
      ]
     },
     "metadata": {},
     "output_type": "display_data"
    },
    {
     "name": "stdout",
     "output_type": "stream",
     "text": [
      "running for AAVE for date 2021-11-29 to 2021-12-12\r"
     ]
    },
    {
     "data": {
      "application/vnd.jupyter.widget-view+json": {
       "model_id": "cbcf70954a6b466b8cd8ea9f2746dba5",
       "version_major": 2,
       "version_minor": 0
      },
      "text/plain": [
       "Executing:   0%|          | 0/10 [00:00<?, ?cell/s]"
      ]
     },
     "metadata": {},
     "output_type": "display_data"
    },
    {
     "name": "stdout",
     "output_type": "stream",
     "text": [
      "running for COMP for date 2021-11-29 to 2021-12-12\r"
     ]
    },
    {
     "data": {
      "application/vnd.jupyter.widget-view+json": {
       "model_id": "d3353973d75249a6a7c75ce2ef97dc2d",
       "version_major": 2,
       "version_minor": 0
      },
      "text/plain": [
       "Executing:   0%|          | 0/10 [00:00<?, ?cell/s]"
      ]
     },
     "metadata": {},
     "output_type": "display_data"
    }
   ],
   "source": [
    "for token in tokens:\n",
    "    # choose the last 2 complete weeks in the database in a token by token basis\n",
    "    # Assume a 'complete week' starts from Monday and ends on Sunday\n",
    "    days = pd.read_sql(\n",
    "    f'''\n",
    "    SELECT ts\n",
    "    FROM ohlc\n",
    "    WHERE token = '{token}'\n",
    "    ORDER BY 1 DESC\n",
    "    ''',db)\n",
    "    days['ts'] = pd.to_datetime(days['ts'])\n",
    "    days.set_index('ts',inplace=True)\n",
    "    days = days.between_time('00:00:00', '00:00:00').index.to_list()\n",
    "    i = 0\n",
    "    while days[i].weekday() !=6:\n",
    "        i+=1\n",
    "    end_date = days[i]\n",
    "    start_date = days[i+14-1]\n",
    "    end_date = f'{end_date.year}-{end_date.month}-{end_date.day}'\n",
    "    start_date = f'{start_date.year}-{start_date.month}-{start_date.day}'\n",
    "    print(f'running for {token} for date {start_date} to {end_date}', end='\\r')\n",
    "    res = pm.execute_notebook(\n",
    "        'data_analysis_template.ipynb',\n",
    "        f'{base_output_folder}/market_analysis_{token}_{end_date}.ipynb',\n",
    "        parameters = {\n",
    "            'start_date': start_date,\n",
    "            'end_date': end_date,\n",
    "            'token': token,\n",
    "            'db': db,\n",
    "        }\n",
    "    )"
   ]
  },
  {
   "cell_type": "code",
   "execution_count": 5,
   "id": "123c61a4-54fd-4b05-9aea-9dc4e8169b5c",
   "metadata": {},
   "outputs": [],
   "source": [
    "nbs = sb.read_notebooks('outputs')"
   ]
  },
  {
   "cell_type": "code",
   "execution_count": 7,
   "id": "35f38f66-4c50-4370-a9fb-d838ad05f8e6",
   "metadata": {},
   "outputs": [
    {
     "data": {
      "text/html": [
       "<div>\n",
       "<style scoped>\n",
       "    .dataframe tbody tr th:only-of-type {\n",
       "        vertical-align: middle;\n",
       "    }\n",
       "\n",
       "    .dataframe tbody tr th {\n",
       "        vertical-align: top;\n",
       "    }\n",
       "\n",
       "    .dataframe thead th {\n",
       "        text-align: right;\n",
       "    }\n",
       "</style>\n",
       "<table border=\"1\" class=\"dataframe\">\n",
       "  <thead>\n",
       "    <tr style=\"text-align: right;\">\n",
       "      <th></th>\n",
       "      <th>token</th>\n",
       "      <th>start_date</th>\n",
       "      <th>end_date</th>\n",
       "      <th>avg_hourly_ret</th>\n",
       "      <th>avg_hourly_vol</th>\n",
       "      <th>maximum_drawdown</th>\n",
       "      <th>close_range</th>\n",
       "    </tr>\n",
       "  </thead>\n",
       "  <tbody>\n",
       "    <tr>\n",
       "      <th>0</th>\n",
       "      <td>AAVE</td>\n",
       "      <td>2021-11-29</td>\n",
       "      <td>2021-12-12</td>\n",
       "      <td>-8.621106e-04</td>\n",
       "      <td>0.219778</td>\n",
       "      <td>0.621282</td>\n",
       "      <td>-60.3950</td>\n",
       "    </tr>\n",
       "    <tr>\n",
       "      <th>1</th>\n",
       "      <td>ADA</td>\n",
       "      <td>2021-11-29</td>\n",
       "      <td>2021-12-12</td>\n",
       "      <td>-4.457646e-04</td>\n",
       "      <td>0.218779</td>\n",
       "      <td>0.687173</td>\n",
       "      <td>-0.2370</td>\n",
       "    </tr>\n",
       "    <tr>\n",
       "      <th>2</th>\n",
       "      <td>ATOM</td>\n",
       "      <td>2021-11-29</td>\n",
       "      <td>2021-12-12</td>\n",
       "      <td>-2.576143e-04</td>\n",
       "      <td>0.309231</td>\n",
       "      <td>0.670430</td>\n",
       "      <td>-3.2260</td>\n",
       "    </tr>\n",
       "    <tr>\n",
       "      <th>3</th>\n",
       "      <td>AVAX</td>\n",
       "      <td>2021-11-29</td>\n",
       "      <td>2021-12-12</td>\n",
       "      <td>-6.759914e-04</td>\n",
       "      <td>0.296748</td>\n",
       "      <td>0.614210</td>\n",
       "      <td>-24.9700</td>\n",
       "    </tr>\n",
       "    <tr>\n",
       "      <th>4</th>\n",
       "      <td>BTC</td>\n",
       "      <td>2021-11-29</td>\n",
       "      <td>2021-12-12</td>\n",
       "      <td>-4.805457e-04</td>\n",
       "      <td>0.160116</td>\n",
       "      <td>0.793538</td>\n",
       "      <td>-8464.0000</td>\n",
       "    </tr>\n",
       "    <tr>\n",
       "      <th>5</th>\n",
       "      <td>COMP</td>\n",
       "      <td>2021-11-29</td>\n",
       "      <td>2021-12-12</td>\n",
       "      <td>-1.175144e-03</td>\n",
       "      <td>0.230745</td>\n",
       "      <td>0.622129</td>\n",
       "      <td>-93.1400</td>\n",
       "    </tr>\n",
       "    <tr>\n",
       "      <th>6</th>\n",
       "      <td>CRV</td>\n",
       "      <td>2021-11-29</td>\n",
       "      <td>2021-12-12</td>\n",
       "      <td>-7.421424e-04</td>\n",
       "      <td>0.337309</td>\n",
       "      <td>0.605138</td>\n",
       "      <td>-1.2162</td>\n",
       "    </tr>\n",
       "    <tr>\n",
       "      <th>7</th>\n",
       "      <td>DOT</td>\n",
       "      <td>2021-11-29</td>\n",
       "      <td>2021-12-12</td>\n",
       "      <td>-7.196422e-04</td>\n",
       "      <td>0.254175</td>\n",
       "      <td>0.649200</td>\n",
       "      <td>-8.0350</td>\n",
       "    </tr>\n",
       "    <tr>\n",
       "      <th>8</th>\n",
       "      <td>ETH</td>\n",
       "      <td>2021-11-29</td>\n",
       "      <td>2021-12-12</td>\n",
       "      <td>-1.703973e-04</td>\n",
       "      <td>0.179537</td>\n",
       "      <td>0.811899</td>\n",
       "      <td>-273.0400</td>\n",
       "    </tr>\n",
       "    <tr>\n",
       "      <th>9</th>\n",
       "      <td>SOL</td>\n",
       "      <td>2021-11-29</td>\n",
       "      <td>2021-12-12</td>\n",
       "      <td>-4.416283e-04</td>\n",
       "      <td>0.251964</td>\n",
       "      <td>0.682793</td>\n",
       "      <td>-30.3570</td>\n",
       "    </tr>\n",
       "    <tr>\n",
       "      <th>10</th>\n",
       "      <td>USDT</td>\n",
       "      <td>2021-11-29</td>\n",
       "      <td>2021-12-12</td>\n",
       "      <td>-5.928948e-07</td>\n",
       "      <td>0.011702</td>\n",
       "      <td>0.994927</td>\n",
       "      <td>-0.0002</td>\n",
       "    </tr>\n",
       "  </tbody>\n",
       "</table>\n",
       "</div>"
      ],
      "text/plain": [
       "   token  start_date    end_date  avg_hourly_ret  avg_hourly_vol  \\\n",
       "0   AAVE  2021-11-29  2021-12-12   -8.621106e-04        0.219778   \n",
       "1    ADA  2021-11-29  2021-12-12   -4.457646e-04        0.218779   \n",
       "2   ATOM  2021-11-29  2021-12-12   -2.576143e-04        0.309231   \n",
       "3   AVAX  2021-11-29  2021-12-12   -6.759914e-04        0.296748   \n",
       "4    BTC  2021-11-29  2021-12-12   -4.805457e-04        0.160116   \n",
       "5   COMP  2021-11-29  2021-12-12   -1.175144e-03        0.230745   \n",
       "6    CRV  2021-11-29  2021-12-12   -7.421424e-04        0.337309   \n",
       "7    DOT  2021-11-29  2021-12-12   -7.196422e-04        0.254175   \n",
       "8    ETH  2021-11-29  2021-12-12   -1.703973e-04        0.179537   \n",
       "9    SOL  2021-11-29  2021-12-12   -4.416283e-04        0.251964   \n",
       "10  USDT  2021-11-29  2021-12-12   -5.928948e-07        0.011702   \n",
       "\n",
       "    maximum_drawdown  close_range  \n",
       "0           0.621282     -60.3950  \n",
       "1           0.687173      -0.2370  \n",
       "2           0.670430      -3.2260  \n",
       "3           0.614210     -24.9700  \n",
       "4           0.793538   -8464.0000  \n",
       "5           0.622129     -93.1400  \n",
       "6           0.605138      -1.2162  \n",
       "7           0.649200      -8.0350  \n",
       "8           0.811899    -273.0400  \n",
       "9           0.682793     -30.3570  \n",
       "10          0.994927      -0.0002  "
      ]
     },
     "execution_count": 7,
     "metadata": {},
     "output_type": "execute_result"
    }
   ],
   "source": [
    "pd.DataFrame(\n",
    "    [pd.Series({\n",
    "    'token':scrap['token'].data,\n",
    "    'start_date':scrap['start_date'].data,\n",
    "    'end_date':scrap['end_date'].data,\n",
    "    'avg_hourly_ret':scrap['df'].data['return'].mean(),\n",
    "    'avg_hourly_vol':scrap['df'].data['vol'].mean(),\n",
    "    'maximum_drawdown':scrap['df'].data['maximum_drawdown'].iloc[-1],\n",
    "    'close_range':scrap['df'].data.close[-1]-scrap['df'].data.close[-0],\n",
    "    })\n",
    "    for _,scrap in nbs.notebook_scraps.items()]\n",
    ")"
   ]
  }
 ],
 "metadata": {
  "kernelspec": {
   "display_name": "Python 3 (ipykernel)",
   "language": "python",
   "name": "python3"
  },
  "language_info": {
   "codemirror_mode": {
    "name": "ipython",
    "version": 3
   },
   "file_extension": ".py",
   "mimetype": "text/x-python",
   "name": "python",
   "nbconvert_exporter": "python",
   "pygments_lexer": "ipython3",
   "version": "3.8.12"
  }
 },
 "nbformat": 4,
 "nbformat_minor": 5
}
