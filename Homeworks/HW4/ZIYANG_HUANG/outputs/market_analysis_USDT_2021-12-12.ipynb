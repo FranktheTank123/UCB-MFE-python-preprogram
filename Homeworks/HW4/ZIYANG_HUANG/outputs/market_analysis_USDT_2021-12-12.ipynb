{
 "cells": [
  {
   "cell_type": "code",
   "execution_count": 1,
   "id": "d33bacba-9baa-4f5b-a48c-3302e9cbd71b",
   "metadata": {
    "execution": {
     "iopub.execute_input": "2021-12-31T03:04:03.324410Z",
     "iopub.status.busy": "2021-12-31T03:04:03.323867Z",
     "iopub.status.idle": "2021-12-31T03:04:03.899828Z",
     "shell.execute_reply": "2021-12-31T03:04:03.900021Z"
    },
    "papermill": {
     "duration": 0.619984,
     "end_time": "2021-12-31T03:04:03.900160",
     "exception": false,
     "start_time": "2021-12-31T03:04:03.280176",
     "status": "completed"
    },
    "tags": []
   },
   "outputs": [
    {
     "name": "stderr",
     "output_type": "stream",
     "text": [
      "/opt/homebrew/Caskroom/miniforge/base/envs/mfe-preprogram/lib/python3.8/site-packages/papermill/iorw.py:50: FutureWarning: pyarrow.HadoopFileSystem is deprecated as of 2.0.0, please use pyarrow.fs.HadoopFileSystem instead.\n",
      "  from pyarrow import HadoopFileSystem\n"
     ]
    }
   ],
   "source": [
    "import numpy as np\n",
    "import pandas as pd\n",
    "import matplotlib.pyplot as plt\n",
    "from matplotlib import cm\n",
    "\n",
    "import sqlite3\n",
    "import scrapbook as sb\n",
    "plt.style.use('ggplot')\n",
    "plt.tight_layout()\n",
    "plt.rcParams['figure.figsize'] = [20, 20]\n",
    "\n",
    "%matplotlib inline"
   ]
  },
  {
   "cell_type": "code",
   "execution_count": 2,
   "id": "458143f4-6eee-4b18-8f22-d078f6b52796",
   "metadata": {
    "execution": {
     "iopub.execute_input": "2021-12-31T03:04:03.922510Z",
     "iopub.status.busy": "2021-12-31T03:04:03.922186Z",
     "iopub.status.idle": "2021-12-31T03:04:03.923451Z",
     "shell.execute_reply": "2021-12-31T03:04:03.923633Z"
    },
    "papermill": {
     "duration": 0.013919,
     "end_time": "2021-12-31T03:04:03.923732",
     "exception": false,
     "start_time": "2021-12-31T03:04:03.909813",
     "status": "completed"
    },
    "tags": []
   },
   "outputs": [],
   "source": [
    "def vol_ohlc(df, lookback=10):\n",
    "    o = df.open\n",
    "    h = df.high\n",
    "    l = df.low\n",
    "    c = df.close\n",
    "    \n",
    "    k = 0.34 / (1.34 + (lookback+1)/(lookback-1))\n",
    "    cc = np.log(c/c.shift(1))\n",
    "    ho = np.log(h/o)\n",
    "    lo = np.log(l/o)\n",
    "    co = np.log(c/o)\n",
    "    oc = np.log(o/c.shift(1))\n",
    "    oc_sq = oc**2\n",
    "    cc_sq = cc**2\n",
    "    rs = ho*(ho-co)+lo*(lo-co)\n",
    "    close_vol = cc_sq.rolling(lookback).sum() * (1.0 / (lookback - 1.0))\n",
    "    open_vol = oc_sq.rolling(lookback).sum() * (1.0 / (lookback - 1.0))\n",
    "    window_rs = rs.rolling(lookback).sum() * (1.0 / (lookback - 1.0))\n",
    "    result = (open_vol + k * close_vol + (1-k) * window_rs).apply(np.sqrt) * np.sqrt(252)\n",
    "    result[:lookback-1] = np.nan\n",
    "    \n",
    "    return result"
   ]
  },
  {
   "cell_type": "code",
   "execution_count": 3,
   "id": "8c1f6819-c46b-4860-beb6-b0aa616b6714",
   "metadata": {
    "execution": {
     "iopub.execute_input": "2021-12-31T03:04:03.945078Z",
     "iopub.status.busy": "2021-12-31T03:04:03.944783Z",
     "iopub.status.idle": "2021-12-31T03:04:03.945956Z",
     "shell.execute_reply": "2021-12-31T03:04:03.946135Z"
    },
    "papermill": {
     "duration": 0.013027,
     "end_time": "2021-12-31T03:04:03.946228",
     "exception": false,
     "start_time": "2021-12-31T03:04:03.933201",
     "status": "completed"
    },
    "tags": []
   },
   "outputs": [],
   "source": [
    "def series_plot(data,ax=None):\n",
    "    data.plot(ax=ax)\n",
    "    \n",
    "    start_of_days = data.between_time('00:00:00', '00:00:00').index.to_list()\n",
    "    end_of_days = start_of_days[1:] + [data.index[-1]]\n",
    "    colors = iter(cm.rainbow(np.linspace(0, 1, len(start_of_days))))\n",
    "    \n",
    "    for x, y in zip(start_of_days, end_of_days):\n",
    "        color = next(colors)\n",
    "        ax.axvspan(x, y, color=color, alpha=0.1)\n",
    "    ax.legend(loc=\"best\")"
   ]
  },
  {
   "cell_type": "code",
   "execution_count": 4,
   "id": "5c6caffa-4efc-4bf1-be17-2b24f22e4999",
   "metadata": {
    "execution": {
     "iopub.execute_input": "2021-12-31T03:04:03.965143Z",
     "iopub.status.busy": "2021-12-31T03:04:03.964886Z",
     "iopub.status.idle": "2021-12-31T03:04:03.966078Z",
     "shell.execute_reply": "2021-12-31T03:04:03.966265Z"
    },
    "papermill": {
     "duration": 0.011365,
     "end_time": "2021-12-31T03:04:03.966352",
     "exception": false,
     "start_time": "2021-12-31T03:04:03.954987",
     "status": "completed"
    },
    "tags": [
     "parameters"
    ]
   },
   "outputs": [],
   "source": [
    "db = \"sqlite:///data/data.db\"\n",
    "token = \"BTC\"\n",
    "start_date = '2021-12-01'\n",
    "end_date = '2021-12-08'"
   ]
  },
  {
   "cell_type": "code",
   "execution_count": 5,
   "id": "b6f7c52c",
   "metadata": {
    "execution": {
     "iopub.execute_input": "2021-12-31T03:04:03.985529Z",
     "iopub.status.busy": "2021-12-31T03:04:03.985258Z",
     "iopub.status.idle": "2021-12-31T03:04:03.986290Z",
     "shell.execute_reply": "2021-12-31T03:04:03.986515Z"
    },
    "papermill": {
     "duration": 0.011378,
     "end_time": "2021-12-31T03:04:03.986603",
     "exception": false,
     "start_time": "2021-12-31T03:04:03.975225",
     "status": "completed"
    },
    "tags": [
     "injected-parameters"
    ]
   },
   "outputs": [],
   "source": [
    "# Parameters\n",
    "start_date = \"2021-11-29\"\n",
    "end_date = \"2021-12-12\"\n",
    "token = \"USDT\"\n",
    "db = \"sqlite:///data/data.db\"\n"
   ]
  },
  {
   "cell_type": "code",
   "execution_count": 6,
   "id": "0580057e-1189-4f70-8e61-11a12b5baa94",
   "metadata": {
    "execution": {
     "iopub.execute_input": "2021-12-31T03:04:04.006310Z",
     "iopub.status.busy": "2021-12-31T03:04:04.006025Z",
     "iopub.status.idle": "2021-12-31T03:04:04.075831Z",
     "shell.execute_reply": "2021-12-31T03:04:04.076007Z"
    },
    "papermill": {
     "duration": 0.080409,
     "end_time": "2021-12-31T03:04:04.076113",
     "exception": false,
     "start_time": "2021-12-31T03:04:03.995704",
     "status": "completed"
    },
    "tags": []
   },
   "outputs": [],
   "source": [
    "df = pd.read_sql(\n",
    "f'''\n",
    "SELECT *\n",
    "FROM ohlc\n",
    "WHERE\n",
    "    token = '{token}'\n",
    "    AND ts >= '{start_date}'\n",
    "    AND ts <= '{end_date}'\n",
    "''',db)"
   ]
  },
  {
   "cell_type": "code",
   "execution_count": 7,
   "id": "1f01c9b6-a200-4fa2-ad41-b68d3e9197c0",
   "metadata": {
    "execution": {
     "iopub.execute_input": "2021-12-31T03:04:04.099563Z",
     "iopub.status.busy": "2021-12-31T03:04:04.099292Z",
     "iopub.status.idle": "2021-12-31T03:04:04.101712Z",
     "shell.execute_reply": "2021-12-31T03:04:04.101907Z"
    },
    "papermill": {
     "duration": 0.016285,
     "end_time": "2021-12-31T03:04:04.102003",
     "exception": false,
     "start_time": "2021-12-31T03:04:04.085718",
     "status": "completed"
    },
    "tags": []
   },
   "outputs": [],
   "source": [
    "df['ts'] = pd.to_datetime(df['ts'])\n",
    "df.set_index('ts',inplace=True)\n",
    "df['return'] = df['close']/df['close'].shift(1)-1 \n",
    "df['vol'] = vol_ohlc(df)\n",
    "peak_value = df['close'].cummax()\n",
    "hourly_drawdown = df['close']/peak_value\n",
    "df['maximum_drawdown'] = hourly_drawdown.cummin()"
   ]
  },
  {
   "cell_type": "code",
   "execution_count": 8,
   "id": "85745f1d-a38d-4bb4-9ddd-003af328054c",
   "metadata": {
    "execution": {
     "iopub.execute_input": "2021-12-31T03:04:04.125013Z",
     "iopub.status.busy": "2021-12-31T03:04:04.124716Z",
     "iopub.status.idle": "2021-12-31T03:04:04.229839Z",
     "shell.execute_reply": "2021-12-31T03:04:04.229634Z"
    },
    "papermill": {
     "duration": 0.118787,
     "end_time": "2021-12-31T03:04:04.229934",
     "exception": false,
     "start_time": "2021-12-31T03:04:04.111147",
     "status": "completed"
    },
    "tags": []
   },
   "outputs": [],
   "source": [
    "%%capture\n",
    "fig,ax = plt.subplots(2,2)"
   ]
  },
  {
   "cell_type": "code",
   "execution_count": 9,
   "id": "1decdda5-b4d3-4924-adf3-d746b69f5d50",
   "metadata": {
    "execution": {
     "iopub.execute_input": "2021-12-31T03:04:04.252913Z",
     "iopub.status.busy": "2021-12-31T03:04:04.252561Z",
     "iopub.status.idle": "2021-12-31T03:04:04.456215Z",
     "shell.execute_reply": "2021-12-31T03:04:04.456455Z"
    },
    "papermill": {
     "duration": 0.216452,
     "end_time": "2021-12-31T03:04:04.456564",
     "exception": false,
     "start_time": "2021-12-31T03:04:04.240112",
     "status": "completed"
    },
    "tags": []
   },
   "outputs": [
    {
     "data": {
      "image/png": "[encoded data removed]",
      "text/plain": [
       "<Figure size 432x288 with 4 Axes>"
      ]
     },
     "execution_count": 9,
     "metadata": {},
     "output_type": "execute_result"
    }
   ],
   "source": [
    "series_plot(df[['return']],ax=ax[0,0])\n",
    "series_plot(df[['vol']],ax=ax[0,1])\n",
    "series_plot(df[['maximum_drawdown']],ax=ax[1,0])\n",
    "series_plot(df[['close']],ax=ax[1,1])\n",
    "fig.suptitle(f'Market action for {token} between {start_date} and {end_date}')\n",
    "fig"
   ]
  },
  {
   "cell_type": "code",
   "execution_count": 10,
   "id": "43c5db55-ff0a-4729-b30f-0b1694553386",
   "metadata": {
    "execution": {
     "iopub.execute_input": "2021-12-31T03:04:04.479145Z",
     "iopub.status.busy": "2021-12-31T03:04:04.478855Z",
     "iopub.status.idle": "2021-12-31T03:04:04.499898Z",
     "shell.execute_reply": "2021-12-31T03:04:04.500097Z"
    },
    "papermill": {
     "duration": 0.033326,
     "end_time": "2021-12-31T03:04:04.500206",
     "exception": false,
     "start_time": "2021-12-31T03:04:04.466880",
     "status": "completed"
    },
    "tags": []
   },
   "outputs": [
    {
     "data": {
      "application/scrapbook.scrap.text+json": {
       "data": "USDT",
       "encoder": "text",
       "name": "token",
       "version": 1
      }
     },
     "metadata": {
      "scrapbook": {
       "data": true,
       "display": false,
       "name": "token"
      }
     },
     "output_type": "display_data"
    },
    {
     "data": {
      "application/scrapbook.scrap.text+json": {
       "data": "2021-11-29",
       "encoder": "text",
       "name": "start_date",
       "version": 1
      }
     },
     "metadata": {
      "scrapbook": {
       "data": true,
       "display": false,
       "name": "start_date"
      }
     },
     "output_type": "display_data"
    },
    {
     "data": {
      "application/scrapbook.scrap.text+json": {
       "data": "2021-12-12",
       "encoder": "text",
       "name": "end_date",
       "version": 1
      }
     },
     "metadata": {
      "scrapbook": {
       "data": true,
       "display": false,
       "name": "end_date"
      }
     },
     "output_type": "display_data"
    },
    {
     "data": {
      "application/scrapbook.scrap.pandas+json": {
       "data": "UEFSMRUEFdACFdgCTBUqFQQSAACoAfCnF7fRAN4C8D+mCkYldQLwP4hjXdxGA/A/+Q/pt68D8D9qvHSTGATwP00VjErqBPA/3GgAb4EE8D81XrpJDALwP8SxLm6jAfA/UwWjkjoB8D/ZX3ZPHhbwP+wvuycPC/A/8x/Sb18H8D9kzF1LyAfwP4JzRpT2BvA/L26jAbwF8D8K16NwPQrwP6AaL90kBvA/vsEXJlMF8D8Rx7q4jQbwP+JYF7fRAPA/FQAVmAMVoAMsFfAEFQQVBhUGHBgI2V92Tx4W8D8YCOJYF7fRAPA/FgAoCNlfdk8eFvA/GAjiWBe30QDwPwAAAMwB8MsDAAAA8AQBBU8gACDGIIOQQcYQQoAhRBlmDEMGIWMMIYAYRggBwBBCjDHGGGIMQggZgxAhwBEnACEGGUOMMYYQQggghBACAAAEEEAMMYYQAIyAUgjnHBCCUYsxxpp7MD75pizyRVlMMeU5xuKL8Ukpy5NFviJLKUVKaYgZg5BBDDGllEJMKcUYY6Q0xhBDiABgjEGIGEOIYYwZZAghCBlikEGGGEKMMYAQAgwRzgknnBDOOeecc9A5ByCKDkLooJTQOeiEEM4554Rz0AkmoAccFQoZNQQABhkYBG9wZW4VAhbwBBaIBxaYByaAAyYIHBgI2V92Tx4W8D8YCOJYF7fRAPA/FgAoCNlfdk8eFvA/GAjiWBe30QDwPwAZLBUEFQQVAgAVABUEFQIAAAAVBBXQAxXYA0wVOhUEEgAA6AHw5xe30QDeAvA/iGNd3EYD8D/5D+m3rwPwP2q8dJMYBPA/3GgAb4EE8D9kzF1LyAfwP6AaL90kBvA/TRWMSuoE8D9DHOviNhrwPylcj8L1KPA/pgpGJXUC8D8ldQKaCBvwP2ZmZmZmZvA/Njy9UpYh8D9KDAIrhxbwP+wvuycPC/A/1XjpJjEI8D/mP6Tfvg7wP4JzRpT2BvA/8BZIUPwY8D8FxY8xdy3wPy9uowG8BfA/RiV1ApoI8D/zH9JvXwfwP77BFyZTBfA/Ad4CCYof8D8Rx7q4jQbwPzVeukkMAvA/xLEubqMB8D8VABWUAxWcAywV8AQVBBUGFQYcGAhmZmZmZmbwPxgIxLEubqMB8D8WACgIZmZmZmZm8D8YCMSxLm6jAfA/AAAAygHwyQMAAADwBAEFDwCAIMQYY4wxhhBCCEGKIWQQQsYYQogQwjhnCBEEEkKIMYQQFgM/IgAhABBijCHEEEIIIUQ4QgQxRBghhBCCEEIIIUIaRAWg1AIgHNbcg6VEOSk01V6Ma9b4nHPqvfdqY0zFGNdaca21nnMqxhgTMsbBg5xzzjnn4HPOOQdXTAghhAwRhBhjjHGGIIcQMsYQYowxxhhjDCGEGEMEcQgRQYiggAJBBQBAAHtvoADYfO899uac772VUkptpfZQeyulAAAm9BAcFQoZNQQABhkYBGhpZ2gVAhbwBBaECBaUCCbYDCbgCBwYCGZmZmZmZvA/GAjEsS5uowHwPxYAKAhmZmZmZmbwPxgIxLEubqMB8D8AGSwVBBUEFQIAFQAVBBUCAAAAFQQVgAIViAJMFSAVBBIAAIAB8H+mCkYldQLwPxe30QDeAvA/iGNd3EYD8D/5D+m3rwPwPzVeukkMAvA/xLEubqMB8D/iWBe30QDwP2q8dJMYBPA/Ece6uI0G8D++wRcmUwXwP9xoAG+BBPA/oBov3SQG8D8vbqMBvAXwP00VjErqBPA/gnNGlPYG8D9TBaOSOgHwPxUAFcYCFcwCLBXwBBUEFQYVBhwYCIJzRpT2BvA/GAjiWBe30QDwPxYAKAiCc0aU9gbwPxgI4lgXt9EA8D8AAACjAegDAAAA8AQBBA0AACEyMzMTEREhIiIzMyMjEhEQMRESESISAi0zMyMyIgFERAQVE1IiIhIREREQAgQREQEr8GMBRGVWVURUcIepmHvK3d19N9p3d6fpvpyc3dcN3a2qqqqqcDciNDR3o6B3p6qnqn13MzMSESIiEiMicyciFgITIyIQQhERAQBFVFRUVURUVVVVVWZv//9m/1VFRfVVVVVVVQAAJqoYHBUKGTUEAAYZGANsb3cVAhbwBBbmBRb0BSbeFCa2EhwYCIJzRpT2BvA/GAjiWBe30QDwPxYAKAiCc0aU9gbwPxgI4lgXt9EA8D8AGSwVBBUEFQIAFQAVBBUCAAAAFQQVwAIVyAJMFSgVBBIAAKAB8J8Xt9EA3gLwP6YKRiV1AvA/+Q/pt68D8D+IY13cRgPwP2q8dJMYBPA/3GgAb4EE8D9NFYxK6gTwPzVeukkMAvA/UwWjkjoB8D/ZX3ZPHhbwP+Y/pN++DvA/gnNGlPYG8D9kzF1LyAfwP/Mf0m9fB/A/oBov3SQG8D8K16NwPQrwP77BFyZTBfA/Ece6uI0G8D8vbqMBvAXwP8SxLm6jAfA/FQAVmAMVoAMsFfAEFQQVBhUGHBgI2V92Tx4W8D8YCFMFo5I6AfA/FgAoCNlfdk8eFvA/GAhTBaOSOgHwPwAAAMwB8MsDAAAA8AQBBU8ABCAGEYIIIsQAYwghiiBEFCIIGUKAMYYwY4wxhhBDjDGEGEIIIogghIgBzjgHjEGIEGKIIYQYAIwBgBABjDHGGECAIcQYQJyDQjghgANMUos11pZ7DkIYIYQwQlNMMbKtFp1zEkIIJYRGGllMKdCYQooQhAhSSjGmmFKMMaWUYmAhRBRCBABDCEIEIUIQUsogYohBhBCCCEKEEEMIAQYAYAxwzgkhhDBDOCGcc86c4SA0J5pzIoTOmSeccM6Z85xzTjgm8iAcFQoZNQQABhkYBWNsb3NlFQIW8AQW+AYWiAcm0hwm6hkcGAjZX3ZPHhbwPxgIUwWjkjoB8D8WACgI2V92Tx4W8D8YCFMFo5I6AfA/ABksFQQVBBUCABUAFQQVAgAAABUEFYAnFbwiTBXwBBUEEgAAwBNYZmZmRp9JQkHhehRu+4xDQRSuR2EjI0IBCPRTAcESAkZBXI/C9eK5TkGkcD2KoFRCQWZmZmaH3TdBMzMzM3DCKkEAAABAZBY2Qa5H4fqLfSxBPQrXox3vJEGuR+G6zFQzQdejcL2bnClBKVyPQt9oK0EpXI9iILFAQc3MzMz2Yk1Brkfhmu/US0GamZnZ3ZFOQTMzM9OuBktBKVyPooENTkGPwvXYo4BXQQAAAHDah1FBPQrXk9IIUUHXo3D9FORJQR+F69GcFTtBXI/C9bMWRkHhehTumxpHQaRwPco9L0lBpHA9wkrtY0G4HoVLJOVPQeF6FG4OMzdBrkfhmkJEREFI4XqUYa4yQR+F61G/UjZBPQrXo8JFREEK16NwKqI2QY/C9WiWajNB7FG4ngViM0EUrkcBl1lIQbgehasptmBBmpmZoQCtZEHNzMys7MhTQWZmZuZUjUtBzczMLEwdSUHXo3C9QypDQZqZmfnVF0QhSAwKs/xIAQiwqkAcQ0H2KFzPsTw4QR+F6/FIKkpBuB6Fq49MQEGF61EY77BGQXsUricD9lJBIUAIgzxUIYAs5gynREGuR+Ga9IlEATgMEX/zQSFQLAyJGERBj8L1KA9oLgEYDHHwFkEBCAxRlSA/BVgIkss0ATgM+q7GQSGYDA0pXlIh+AyO4MhTAUAM7MVGTgGQDE/H+FABoCwKqnxOQT0K18P07EYBGAyPnNJMBVAIrGVZBaAIx6RGARAQcdFUSkEB+Agf/kMBaGxr28xHQSlcj+JZiUxB7FG4jh4sUEEUrkcBkH1AAQgsYbuVPEFI4XqUPidAASAMfoR4SAFoDOOjqDkBWCw4R+U8QZqZmRmnpSwBIAxemPowAdgMqI57NQUICMV9NAUgCHv8PQHQLLqxakNBw/UofC/nRgFADFinzEMBKAwonf1HAXAMIf6yTQEoDPpqLEYBGCxoVvZIQVK4HoUR/EsBeAzDEBhAAUAMPE/aQQEoDJrC20IBeAz+fJlIISgMPXtFOwXYKDqoPEFxPQpXINNBATAMnLUhMgHIDBQV8DAB8AxCbjctBRAIStorAYgM+MaZNAFgDKP2WC4BiAxh3dkuBUAIIxQ/ARgMI4HQRSVYCOFZTAF4DHq9SWIhUAwhuqVZAQgMAXFtWSGYDIyTLlUBOAznQEljAQgMxx+BUgEwDBpQGUthiAyTjc5MAZAI3P8nZbAINRKYJZgsEV5eQEEK16NQko9PAfgMOAIuVgHYDCrFTn9hUAyM07h5AYgM4/piZwFADHzkDVwFMATwjGXoDIbA+UJBCAxKKe1QATAs4PbgWEF7FK7nnK5VAQgME3s6dAE4CECkiAUIDLQnOWgBkAwjvlVUAWgMPla0YUFgDJ7WUmkBgAzoZAdbAVAMmqGTUCXACEtQSiEACG9XNQUwDF46SFUBGAxZ3uxJIaAMRUkDQwFoDMezSUsBQAwI5tJLJRAIXRtFISAMMea+RAHADIOiXEQloAiiJjUBeAye+8MnATAMqLq4IgEIDOhafDsFGAhRxTEloAjlw0OB2Ai1TjplCAyN3V5UAagMLrIUTgEYDBUszEMB8AwAiZc6AYAMh+RhRCHQDFhJXlIBeAzRmL9DAaAMBXKaRgFQDDTgF0MBQCxuj+9RQSlcjwKDcFQBGAhUj0slKAwHPpRvBYAIjzI7ARgMlBmyRwFgDICCYDsBMAyi/9VFAcAMK1LAPCHYDNpVtUohCAz5IZ5JBTAI8z5LYWAMpuRdM0FICOEheQXoCF7RK4UoDKj7DFMhuAwAPLRWAagMyF1BYQEIDPhJB0ohAAxIbudFIZgMA6LRUAEQDCiL7lkBaAyaglFOAeAIZ5djJfAM5soXUCFgDAynpEolCAgySE4BOAwjgcBfAVAM2KueVgFoDDAsdz4hCAxRhVxFYSAM/VmSQwHgCF6TpclICGXnPwUgCKm8NQHYDOuFzDUB0Aw5oPtBAVAMk5EFSCH4DK8sVEgBcAzM9StHQUgMvPtkREEgCEo7qUXgDPq1S0gBiAx16Y9CAWgMveF6PgGwDEcdL0BhCAy313BAAVAMs416NgXYCBF9PAGoDPgpAEABSAyqc39ABRgI8UBAIUAoJgfNPkHsUbhe5MZFEAxeOFwzAagM0Tm4NQE4DLhf3ChBUAwj3384ATgMiAWaQSFwDKHrrT4BgAwdiIRFITgMuigKNiHADFA9G1AB4AwLsKNGATgMwwTRSAHQDKx6MksFqAjwfTcFiAhm20gBUAxolDo9AbgMNwRrQwE4DEu07U0h4AzUfQZHAegItcKNRZAsfXq6TEFmZmZGHB1NAVAMzHx1RiV4BGUGJRAsVSAFREHD9Sj8jJZKAWgIJx5kBfAMivDOOwFgDMf0mlsBIAyc/r89IWgMD2B0JwFgDHWMmzQB0AhhJeyFeAzvQ3ZKAbgMo8tBTkHQDLXCqFABCAzlUhpKBegIq+5KAagImwXvRdAM9FGzRwFALIHpd0lB7FG4fpnrSCGADDMdizoBMCzaMwZGQVK4HuUC2UgBKAxhD39JAWAME02lViFADN3YhEgBsAxnfI1GARAM/R4NRAVICPB1QgHgDBBsM00hWAwAqp45AfgMTOh6IQHIDFzvmSohqAxxrpJCAZAIC7aK5TgIL+PnJQgMzPqpYwEoDHy42VcFkAjGeFIBgAjB6dQlSAwGgydCIYAMyGp7SwGQDKNpx0UBMBCcy7JSQSFoKPh7REGF61F42U9QYZAMwkltQwEYCKb6AUVwDMf6AD0BqAz+bNVBBRgIlfo0AUAMPL+mQCFYDLUorzkBOChCLro2QXsUroevWyXQCBUDzgWoDI8cARQBGAzH7McpAeAMgF7XOgEwDALV1UAhsAwXuHY4AZgIk/N8RfgMepOZQAHwDJHL/jhhOAxZDU87BRAIQes2ATgwwsXJO0GamZnZ9gw8QRUAFdAFFdoFLBXwBBUEFQYVBhwYCOxRuCrFTn9BGAj2KFyPHAEUQRYAKAjsUbgqxU5/QRgI9ihcjxwBFEEAAADoAvRnAQMAAADwBAEJTwACCBhAoICBAwgSKFjAoIGDBxAiSJhAoYKFCxgyaNjAoYOHDyBCiBhBooSJEyhSqFjBooWLFzBiyJhBo4aNGzhy6NjBo4ePH0CCCBlCpIiRI0iSKFnCpImTJ1CiSJlCpYqVK1iyaNnCpYuXL2DCiBlDpoyZM2jSqFnDpo2bN3DiyJlDp46dO3jy6NnDp4+fP4ACCRpEqJChQ4gSKVrEqJGjR5AiSZpEqZKlS5gyadrEqZOnT6BCiRpFqpSpU6hSqVrFqpWrV7BiyZpFq5atW7hy6drFq5evX8CCCRtGrJixY8iSKVvGrJmzZ9CiSZtGrZq1a9iyadvGrZu3b+DCiRtHrpy5c+jSqVvHrp27d/DiyZtHr569e/jy6dvHr5+/fwADChxIsKDBgwgTKlzIsKHDhxAjSpxIsaLFixgzatzIsaPHjyBDihxJsqTJkyhTqlzJsqXLlzBjypxJs6bNmybuSxwVChk1BAAGGRgGdm9sdW1lFQIW8AQW8i0WuCkmlEUmtiIcGAjsUbgqxU5/QRgI9ihcjxwBFEEWACgI7FG4KsVOf0EYCPYoXI8cARRBABksFQQVBBUCABUAFQQVAgAAABUEFYAnFYonTBXwBBUEEgAAwBP0vwnWVBaBvExCQVPPgpBQkENBcJUnMkMmQkGZEd58TAZGQdEINhBiwE5BXFfMorZYQkELnGxnEOM3QcfZdCQGySpBEr733/EbNkG/1M/jsYQsQeiFOwdY9CRBRRDnhahZM0GwNzGkAKMpQfGD8yEkbytBHT1+TZa0QEGWk1Ao4WhNQWb0o7G72ktBKXgKx4KYTkHryJHAiwxLQTXR5z1CFE5BNs07hjWGV0FE2zEujoxRQd+I7rSNDVFBw9Mrc8rqSUH6f9XxWhw7Qch9q5c+HEZBGCE8nnogR0FselB42zVJQe4HPFBX8mNBTaHzAtTsT0HF4jcJvzg3Qa4QVq/NSERBQz19EI6yMkHc1aucg1c2QWe2KybfSURBv3yyQqumNkF1H4CEZG4zQaKcaIe8ZTNBuynlz/5eSEHf3N+r3rpgQUrsWprusWRBHAqfu0PNU0E504SdQpNLQZp3nGaJIklB6NoXSBQuQ0Gu1R4cQRxEQQRXefjtA0lBm6xRG4EgQ0FwlpIhFkI4QQTI0LczMEpBshNeJChQQEF+/RCbUrZGQW5rC+id+lJBrn5s2hNBVEGzmUMOr6tEQUvqBAqhjkRBBwlRFI33QUF8R42dkx1EQW0CDNurby5Bb7vQaDobQUEBa9U2dCg/QaG+ZbK60DRBbNCX0NjKQUEA/inWUWJSQdAOuIi2zVNBwjOh3xROTkEHswlgs/xQQUt0lhnsgk5Be056byXxRkGjVphO09ZMQbJK6X8yallBRiOfw5moRkH6er7gA1lKQV6fOWdCAURBPrDjy67RR0F5P27fHI9MQRn/PsPgL1BBTFKZOJyBQEH0NjbzOpw8QVd6bUTaKkBB4J18+O99SEE+Jec8d645Qaq2m2yn6zxBX9Tuz+urLEFtrS+uS/4wQRVYAENBgDVBWMudSRmCNEF4YAB5mgI+QWyXNgx8bkNBt9EAUK/rRkEyHxCElNBDQQ6D+Z+bAkhB+pgPhim5TUEEATL0vjBGQaOx9htp+0hB1nPS8VMCTEFuh4Y9PxtAQTIEAL+U3UFBmZoEv4/fQkHJchIAZp5IQdUFvFDPSjtB1sVteNytPEGel4qJpdZBQZM3wExSJTJBk3GMIGHzMEG2K/TJiD0tQZjdk8/H3ytBZ0gVzSOeNEEzw0YByl8uQXx/g8bN4C5By9WP9SEbP0GrP8IUGNVFQb4uw4XFXkxBLhyICdlNYkGYvWxyJKpZQT5ZMQrAcVlBYD3uu3wwVUGzeZzyvUtjQc3lBmfBg1JBryE4kCYdS0HqknEmkdJMQWb35D1bLEZBCme3ct+bRkEDQYDSzmBAQVjhlseolE9BU+v9QJkyVkFtrASnk3V/QcMsdJSD2nlBTifZPplzZ0GRKR8EjxpcQXrIlLMjlUJBgVt3RTgCQ0GBPpGdl/RQQeNTAFf87VhBBD3URNS2VUHpKl28NER0QfGEnigTk3RBcXZrWQBDaEE5tp5c0VxUQRK+dwo5umFBC7f86T5caUEAV7KBCRJbQWGOHujemFBBaJJYKtdYSkHdzr6xtztUQVwea9o6UFVBz4dnEVD2SUFpp+aOCAlDQZAvoYrzUUtBHM78AM/aS0EA4xkkSiFFQfkvEN7sxERBM9/BAQJjREHiI2KqIi81QSDRBOK3zidBTRWMAiDBIkGTjnJY0oc7QeT5DMQczDFBcXFUEvrKQ0GlaOUi1kBBQTBoIWUNZlRBsI7jybseTkHA6zOFn9JDQQw6IcAWoDpBkfEowXpoREF+xoXaVWRSQYhkyEWhxUNBRGtFk0eiRkHxf0eqJh5DQaHzGuuq9VFB5Pc2FVB3VEHQ7SXQMFJVQWDJVaT7nW9BNe7NV8E6O0HGouk4ULlHQafOo3LDaDtBd9Zu1wXdRUEGvTdKVsk8QU+y1QnHvUpBowc+olClSUGzKOysu0ZLQdf5t3MsYzNBVG8NJM5+NUFAw5sPmy9AQUKXcNlcEVNBAruayMG5VkEmUa9c4UVhQaLtmOaLDUpB0hvu8RztRUEuVWk7VtZQQQg7xcHG9VlBSFLSTyJaTkE0Z30wFmlCQbrZH4OKHFBB0gDeNK2sSkEGEhRDBlFOQayL29lwyV9BxY7Gy56lVkHB/utsToA+QaewUqv/YkVBy2YOsUeYQ0Fn0xEsNqtCQTzAk0r38D9BggAZAkHDNUEUJLY3jdM1Qa4tPKV8AUJBHNMT0N0MSEFf7L3S2lpIQafLYnA6MkdB64uE0mFqREEGED5I/K1SQTShSU4OUkhBwjQM44mUQkHA6PK+8oE+Qa7wLiGxMkBBcvvlDRZ0QEEyHTphbn82QbMKm3k8gzxB492RscwDQEH0N6E6UINAQd/foD/+REBB+69zUzzUPkGQEOUTbs07Qa8jDgnxYDNB/wOsERy9NUGu9NoM3uEoQTs3bd7khThBSnzu5oieQUG9jc1uK7Y+QYMUPBU4ikVBIbBywHkPNkEdIJgNDR9QQf+SVP4zqUZBFM5uD8zWSEGG5c+7mThLQVdbsUMsgzdB3941PBzhSEH7c9F8P0E9QX5TWA9nb0NBAfvoZmv0TUGCrKemzAtHQe/KLmS3kUFBkNeDLdzATEGH302btCNNQes2qLvxekZBHNMTmu0LSEFcrRM3qglEQSsTfumZnEpBJ79FY51nQEHcnbWfMdU7QRHHuoJSoVtBrDdqWYLFPUEuqdpugnknQVu1azaanzRBOwFNeKbwRUFWLH7dcHtKQSEDed6qR05BzZIAByesUEGCjetZnh9KQfPJijdB80pBWJBm9VnyVEErhxYp8rZHQfLrh46je0lBc3/1shHvSEEsK01W9o46QayL24AtCUZB3GW/QpzcSEGKHY3T1IJJQYCZ71TKp1ZBFK+yajiISEFg5juU25BGQe2cZg8rEERBUDQP7rt4QkGVDWuc+jdNQY2Y2WcCojlBML39qQV9IUHqXie1CJ0qQf/KSvH4lEJB4V6ZXziNQ0GUF5k8aOpEQQlP6AQBrWNBrB3F+lfdV0F5ru8FSnpSQU5639g610xBXf3Y4mYpQkEAcOx9P35LQXSXxM2tyUVBvk9V4Ua1UkF2NuSXCX5EQXO8AmuqUVBBZOWXy/puQ0Eou5lBXwQ+QUYiNN6/Az1BtOOGrX7XQUH60ttHHv00QSNqoufHqEBBdvus3q2yOUFJgnBtVb02QZ1IMFG7XkdBURVTeZ7QQ0GDiT+afgMUQf9CjxDXyilBeIAnvcPaOkFyv0Ml89dAQTwzwbSieThBuVLPiLh/UkFXQndn+ptAQfbOaLvZATlBFOrpB2FSO0Fb7zc+SO42QXFYGjDWzTtB/b/qUPsQPEEVABXQBRXaBSwV8AQVBBUGFQYcGAhtrASnk3V/QRgIg4k/mn4DFEEWACgIbawEp5N1f0EYCIOJP5p+AxRBAAAA6AL0ZwEDAAAA8AQBCU8AAggYQKCAgQMIEihYwKCBgwcQIkiYQKGChQsYMmjYwKGDhw8gQogYQaKEiRMoUqhYwaKFixcwYsiYQaOGjRs4cujYwaOHjx9AgggZQqSIkSNIkihZwqSJkydQokiZQqWKlStYsmjZwqWLly9gwogZQ6aMmTNo0qhZw6aNmzdw4siZQ6eOnTt48ujZw6ePnz+AAgkaRKiQoUOIEilaxKiRo0eQIkmaRKmSpUuYMmnaxKmTp0+gQokaRaqUqVOoUqlaxaqVq1ewYsmaRauWrVu4cunaxauXr1/AggkbRqyYsWPIkilbxqyZs2fQokmbRq2atWvYsmnbxq2bt2/gwokbR66cuXPo0qlbx66du3fw4smbR6+evXv48unbx6+fv38AAwocSLCgwYMIEypcyLChw4cQI0qcSLGixYsYM2rcyLGjx48gQ4ocSbKkyZMoU6pcybKly5cwY8qcSbOmzZsmunscFQoZNQQABhkYCXZvbHVtZVVTRBUCFvAEFvItFoYuJuB0JrRNHBgIbawEp5N1f0EYCIOJP5p+AxRBFgAoCG2sBKeTdX9BGAiDiT+afgMUQQAZLBUEFQQVAgAVABUEFQIAAAAVBBUQFRRMFQIVBBIAAAgcBAAAAFVTRFQVABUWFRosFfAEFQQVBhUGHDYAKARVU0RUGARVU0RUAAAACygDAAAA8AQBAfAEACaUfhwVDBk1BAAGGRgFdG9rZW4VAhbwBBaGARaOASa2fSaGfRw2ACgEVVNEVBgEVVNEVAAZLBUEFQQVAgAVABUEFQIAAAAVBBUQFRRMFQIVBBIAAAgcBAAAAFVTRFQVABUWFRosFfAEFQQVBhUGHDYAKARVU0RUGARVU0RUAAAACygDAAAA8AQBAfAEACaugAEcFQwZNQQABhkYBWNoYWluFQIW8AQWhgEWjgEm0H8moH8cNgAoBFVTRFQYBFVTRFQAGSwVBBUEFQIAFQAVBBUCAAAAFQQVsAgV+AZMFYYBFQQSAACYBAAAEQE4QDUrMTIavwAAjr7cMho/CRBYKj8AgNge2jAavwDAo6CFMSo/ACDTpS4BEAkYAD8JGAQavwkwFRAIPwCgAThMKj8A0JI1gy8qvwAAkzWDLxq/ABABQAQqvwlAQCq/AHAil6OkMz8AwBbO1y46DUhsKr8AwAJEpqYzPwDIejgkpTO/AGCuWogzKj8AaAUwCL8AiAFgDDq/AFAFGDS/AND2waenMz8A4I2+3AHIAEABGPA8Gj8AWAG7Xl9APwDmPp+9LnE/AC6LkTJVXb8AyJ9qlwRfvwAAFUx/Kyo/AAD17igqGr8AQCUZ1CoaPwAgJQEIDL8A8BQBIFi/AOyhnwVcUD8AGOEp2FdQvwBANszVLAF4LIZToaIzPwDQ0+UfoQGoDF5vLC4hMAHQAQghACEYARAoKj8AMGkZgS06PwAFeAAaDWgcKr8AIMWHKiwhSAFYDBq/ACABKAwavwCABVANOCgqvwDgDtMgojO/AAVYDCo/AEAhUBFgCBo/AAWALCq/ABguaKKjM78A8CEQAWAUl/8zNCo/KUgcGr8AAEmt3zQBgAEYAXA0Sa3fNCo/AECX/zM0Gj8VABW4BBXCBCwV8AQVBBUGFQYcGAgA5j6fvS5xPxgIAMifapcEX78WAigIAOY+n70ucT8YCADIn2qXBF+/AAAAnAL0GwEFAAAAA/7gBAEHT4CAYEAoGAAHw8EAICASAAUAsGAcAIZFw3AAOBSARwIAUEAiAAAAAFAACAoCAKAAEBQAwMFwMBwAAAMBIZlQAJUEoAAwAAAEBUEBABAQgAQAARgALIIEAAAAABCDR0IBIAAQgwsAkwFoNgCBpMLpeD6gkCg0IpVMJwAAlQIAAKiUasVasVqu0QsWAwBkMwAAQJsBVK1ay8ZaAW4qwKqBYwAOAMMBBwCwACvWCsACAFYAAICV0zUAhkUDYHgAEgrAAWA4AAyAAwAH2BUMBAWhYAAAAAfDAWAAAAgKAOCRQAAACQBCAgBsAAAAgNcDaDYADQAA8AF6GgzgBwD+AAAgABAE+IQbzUYDAPgAQgAAANhoACaYjgEcFQoZNQQABhkYBnJldHVybhUCFvAEFooOFtwMJtaIASa8gQEcGAgA5j6fvS5xPxgIAMifapcEX78WAigIAOY+n70ucT8YCADIn2qXBF+/ABksFQQVBBUCABUAFQQVAgAAABUEFeAlFeolTBXcBBUEEgAA8BL0bwkDM8scfRZgPx1KAojBJV8/g8QwQLslXz8467VgLG9gP2+cz7ROO18/ZxTM7AigYD8L5y+1OWZgP02f1yGWSmE/CUsQtlZvYT/lfbXek9BgP5Dz38gt6mM/veFjcMaFdT/paLuor6V3P1MNNKr8knc/Dht62QCpdz/O4ekiW6x3P4rVp5fNcHc/ioGN8y50dz/9kfEn74Z3P7PbpUZkoHc/TxPrVEgXdz8W3Gk5BidqP4mD/J9BTmI/QDExdPU8Yj910kF/UhFhP9Tmo0hvEWE/shep7w+dYj80XzWG7StiP8W8pDDTC2M/8ycyKy62Yj/71so1ANxmP0nr2MjwXmg/adSzvlPuZz+SUJJHuT1nPz/CQa0Ebmc/BzEAtdK4Zz82FR49082bP5SacSvTzZs/kuw+vKnLmz8UkHgMO8qbP90JRzvRvJs/e5HzcKa6mz8yfSwBLb2bP3w+PtWIvZs/ksv10Vq9mz//F3mh1bmbP857hpkx8l8/s6W7IibKXz+o+s6JXWxePwaZCtZ8UmA/Pchv1ntSYD/ufRD57MlfP6cON1SSv14/bk46SvqVXj/O6LRNeb9eP270TiM3SmE/SY4fWzxKYT9YUtWY0VdiPzMPhbwL2WI/jXZ89y8aYj8Ze2ajqlBkP9yLXNCigmU/9zRIQtYyZj8KEfzeTchmP01CuEx11Gc/anTT42nraz+XuNsAc1dsP3VVWbF0t2s/jqyDN9rdbD9HuAq8xPlsP9uqYC+eBXE/NcpF/WUDcT8DFh7AL89wPySIiWLBXXA/1JE3fY4icD9R4fGw3fFrP5zGbkqVz2s/k3492AtvbD+JUS6U7kNrP4y5byigT2s/ELjvguQ7aT8fNlDYwodoP/MPDxzFemg/cqB9oQ91aT/XduO+YutpPzHzlTollmo/kIdKsd9Naz95G5TZPS9sP1lcqou+3W0/1Vyqi77dbT8GL1mUPMJoP+vzwpJ4Cmg/HlkLNz2zZz/ooiXV8vJmP5DkldYDbWY/PXO8LaalZj+HmS3KNM5kP0Fopqi1mGM/LZ3LVyv/YD/36hPBWuxgP5JyAVv1d2E/ieQci5/tYT92NVLdT+FiP8zQup+SIKc/h/UWlmEipz808X/6tCynP/s3+fvrL6c/GFs3jSg0pz9B02yZGjWnPwVfdjOCNac/80WRnXQ1pz+VNu/Iar+rP1/ccqvUvqs/Gpcmdp6+nj+9BWlkE8GeP04zLXo0o54/PNdPDVQUvD8nZfU/dMO8Py4O/JegGL0/ZIJTW7UfvT9jW0UlWCO9Py9ydTkpIbw/xOlknwkjvD823d6R4jq8P1Nl7nu+PLw/xhmjC564vD91ZzVJOgGuP7PtPqcmUas/UhoEIpHeqT94Is1ekb6pP53e4bjKu6k/9Ky6L7S+qT91I2uM7bipP0ua20CrUak/bqRRpLFLqT8KFk3PyMyrPxiWGyTrzp8/4lL0ArWtnz/Qs68ZoaqfP1rqF4/Jqp8/xmLaAix+nz+E/rqMhHCfP8xC2jrxap8/5axdAD5rnz/tb3XcA1yfPzvhzFGgKmk/4d4rn1GGZz/voT7CsYRmPwiJiJI34GY/9yaGIEd2Zj+mzSyHKHZmP+jLESAUdmY/Rcub8cJ+ZT/0Aor0hRNmP5V7oMBGl2U/7B8U+UQ2ZT+pErhTSw9yPzavLimR6XE/p9b8NO7QcT/GeOIL+CByP/xKl52rSnI/E1Oj2P1zcj/HJVXg//FyPyHPQOOINnI/MvAKxEcecj9H0B+U5BlyPwS5if99KGY/jRVnfeM2Zj+smhpqtYVmP2LaZsM6GXA/BJ3cOY9qcD+TFQuV8/ZvPxccHbtWsG4//IU4j6Cbbj/qTxSjiSJvP9kEd4ul23I/7jtLGtWIcz+DpAb7rFN1P/HZngZAO3U/Eze7cXSkcT/Ktv37HEtxPyRT4Ooj/HE/qT0GplgHcj+t1JzfEfd0P5H/2DnW+nQ/uu4bEBkxcj+R4WreIyhxP9sARpwoSG4//M/ZYnT4bT99s8lPrrJtP+Y2mFxt3Ww/6oeb7o+raz/ph5vuj6trPy+w1N+uEWE/NaIRfvP+YD8BlJPayIlhP5y65ofqv2E/xzsGwKOfXz9ABASr4MdfP2HM3vXbC2A/Y0L4m3TIYT9dKgd3Y9phPxk78AmVTWI/9ocPcAjPYj+6HjoOgn5jP4usLTIcgmI/9aKR6T3bYT/iamk9zM9iP/zzNtKxLGM/YxbTWOCHYz84cLLl7KBjP1SAX5T4oGM/nQQsAgeQZD+4sKfO4XNmPywv9c0XSWY/fO2Dh1pXZj8s3Fm0ihxnP6WslFECwmg/jskZqqLbaD8CjfZ7RnpoP7o6EBoCl2c/3PDOF6wjaD8+e61ZBWdnP3hfaXh4mGU/tmw54Z1fZD/+EgUdK9RkP5FRr9IrVWM/9sBl/+kZYT/51O6B8H9hP/thh1Vs9WE/fC9HjPK+Yj9+xHXsZghiP33EdexmCGI/GAE+7WsIYj+zyRCUMmliPyqwn5ru2GI/0pAnU1kUYz+ypzIf2pRiPwVirWAl6mM/5I2jHCz6Yz+hYHtyi4BjPyTpxRxs8Gg/40RZGnBuaD+Y3klolsFnP99mgL7cJWg/K9yXWLONbT+sRN1/SFhwPzileoAZ6HE/DDzQE6sAcj/W8oBDrgByP7reKiwMf3M/p0OWDUdkcz/u0oJYrUB0Pw/IiouUw3Q/9vG+jKHcdD8n2cWQFh5zP1iJ49TSBXI/0mnQU6xQcT9eMYKpZodwP6t59WTacHE/E21GrMXNbz+8zHuHYPBsP6Vxdz3i8Wo/nS1AyxwVbD+XH1OyYvtsPwNnm+JyIGw/N27Xky1/az+/Rj2stmNpP4DcvHCOG2s/xr3NA0oLaT9Wcx4GGeFpP9V5R5wfkGk/3rdzx2Owaj+/3YPw6cpoPylZx1WsyWc/tqWrIO3OaT9uOOdiZitqP4Vrg0Jt9HE/HTFtXFZ6cT86tB7wWnpxP1lv0gRmDXE/MDlSVGfGcD+6ylPvvC9wP53whS5hQ3A/ByFP6KLxbz/oRJRIThtuP68hC6hGG24/ZR6y3VHlYD/VDQ54HPhgP7kDowu2jmA/X1ADTZqOYD8wxbnwRINhP25gAe6w+GE/UV/35q05YT+TaU4OJ0xhP+M/VRUBOWs/qr1WJCWFaz/d6i21AMVrP3YLYffxbWs/2ZJAkgWuaz9ykkCSBa5rP/j6ye+EIWs/FQAVwgUVzAUsFfAEFQQVBhUGHBgIY1tFJVgjvT8YCKj6zoldbF4/FhQoCGNbRSVYI70/GAio+s6JXWxePwAAAOEC9GABBQAAABQA3AQBCU0AAggYQKCAgQMIEihYwKCBgwcQIkiYQKGChQsYMmjYwKGDhw8gQogYQaKEiRMoUqhYwaKFixcwYsiYQaOGjRs4cujYwaOHjx9AgggZQqSIkSNIkihZwqSJkydQokiZQqWKlStYsmjZwqWLly9gwogZQ6aMmTNo0qhZw6aNmzdw4siZQ6eOnTt48ujZw6ePnz+AAgkaRKiQoUOIEilaxKiRo0eQIkmaRKmSpUuYMmnaxKmTp0+gQokaRaqUqVOoUqlaxaqVq1ewYsmaRauWrVu4cunaxauXr1/AggkbRqyYsWPIkilbxqyZs2fQokmbRq2atWvYsmnbxq2bt2/gwokbR66cuXPo0qlbx66du3fw4smbR6+evXv48unbx6+fv38AAwocSLCgwYMIEypcyLChw4cQI0qcSLGixYsYM2rcyLGjx48gQ4ocSbKkyZMoU6pcybIlAAAmvLwBHBUKGTUEAAYZGAN2b2wVAhbwBBbELBbYLCbwtQEm5I8BHBgIY1tFJVgjvT8YCKj6zoldbF4/FhQoCGNbRSVYI70/GAio+s6JXWxePwAZLBUEFQQVAgAVABUEFQIAAAAVBBXAAhXEAkwVKBUEEgAAoAEAAAUB8JnwP1amdm4u/+8/z6IV/Vz+7z82dKB7i/3vP6hNmQ+6/O8/csxHruj77z8H68rARfrvP5wJTtOi+O8/aTq3ZlXx7z9KhrE22uHvPzmpNwk54O8/Kcy925fe7z+g3QBFx93vPxjvQ6723O8/jgCHFybc7z8GEsqAVdvvP/U0UFO02e8/5FfWJRPY7z9caRmPQtfvP9R6XPhx1u8/FQAVhgEVjAEsFfAEFQQVBhUGHBgIAAAAAAAA8D8YCNR6XPhx1u8/FgAoCAAAAAAAAPA/GAjUelz4cdbvPwAAAEPwQgMAAADwBAEFBQCEEEIIIYQQghgkA0QEA8UYY4wxUAYWBwcopZRSUkqttdZaa63FWms6DQPOvffeezQPXBAQERwSPBMm8sIBHBUKGTUEAAYZGBBtYXhpbXVtX2RyYXdkb3duFQIW8AQW5gQW8AQm5sABJoK+ARwYCAAAAAAAAPA/GAjUelz4cdbvPxYAKAgAAAAAAADwPxgI1Hpc+HHW7z8AGSwVBBUEFQIAFQAVBBUCAAAAFQQVgCcVuiFMFfAEFQQSAADAEywAADYf4tEFAACkyfUFCAxIXczjARAM7PCi5AEIDJCEeeUBCAw0GFDmAQgM2Ksm5wEICHw//QUIDCDT0+gBEAzEZqrpAQgMaPqA6gEIDAyOV+sBCAywIS7sAQgMVLUE7QEICPhI2wUIDJzcse4BEAxAcIjvAQgM5ANf8AEIDIiXNfEBCAwsKwzyAQgI0L7iBQgMdFK58wEQDBjmj/QBCAy8eWb1AQgMYA099gEIDAShE/cBCAioNOoFCAxMyMD4ARAM8FuX+QEIDJTvbfoBCAw4g0T7AQgM3BYb/AEICICq8QUIDCQ+yP0BEAzI0Z7+AQgMbGV1/wEILBD5SwDSBQAAtIwiAQEICFgg+QUIDPyzzwIBEAygR6YDAQgMRNt8BAEIDOhuUwUBCAyMAioGAQgMMJYABwEICNQp1wUIDHi9rQgBEAwcUYQJAQgMwORaCgEIDGR4MQsBCAwIDAgMAQgIrJ/eBQgMUDO1DQEQDPTGiw4BCAyYWmIPAQgMPO44EAEIDOCBDxEBCAiEFeYFCAwoqbwSARAMzDyTEwEIDHDQaRQBCAwUZEAVAQgMuPcWFgEICFyL7QUIDAAfxBcBEAykspoYAQgMSEZxGQEIDOzZRxoBCAyQbR4bAQgINAH1BQgM2JTLHAEQDHwooh0BCAwgvHgeAQgMxE9PHwEIDGjjJSABCAgMd/wFCAywCtMhARAMVJ6pIgEIDPgxgCMBCAycxVYkAQgMQFktJQEIDOTsAyYBCAiIgNoFCAwsFLEnARAM0KeHKAEIDHQ7XikBCAwYzzQqAQgMvGILKwEICGD24QUIDASKuCwBEAyoHY8tAQgMTLFlLgEIDPBEPC8BCAyU2BIwAQgIOGzpBQgM3P+/MQEQDICTljIBCAwkJ20zAQgMyLpDNAEIDGxOGjUBCAgQ4vAFCAy0dcc2ARAMWAmeNwEIDPycdDgBCAygMEs5AQgMRMQhOgEICOhX+AUIDIzrzjsBEAwwf6U8AQgM1BJ8PQEIDHimUj4BCAwcOik/AQgIwM3/BQgMZGHWQAEQDAj1rEEBCAysiINCAQgMUBxaQwEIDPSvMEQBCAyYQwdFAQgIPNfdBQgM4Gq0RgEQDIT+ikcBCAwokmFIAQgMzCU4SQEIDHC5DkoBCAgUTeUFCAy44LtLARAMXHSSTAEIDAAIaU0BCAykmz9OAQgMSC8WTwEICOzC7AUIDJBWw1ABEAw06plRAQgM2H1wUgEIDHwRR1MBCAwgpR1UAQgIxDj0BQgMaMzKVQEQDAxgoVYBCAyw83dXAQgMVIdOWAEIDPgaJVkBCAicrvsFCAxAQtJaARAM5NWoWwEIDIhpf1wBCAws/VVdAQgM0JAsXgEIDHQkA18BCAgYuNkFCAy8S7BgARAMYN+GYQEIDARzXWIBCAyoBjRjAQgMTJoKZAEICPAt4QUIDJTBt2UBEAw4VY5mAQgM3OhkZwEIDIB8O2gBCAwkEBJpAQgIyKPoBQgMbDe/agEQDBDLlWsBCAy0XmxsAQgMWPJCbQEIDPyFGW4BCAigGfAFCAxErcZvARAM6ECdcAEIDIzUc3EBCAwwaEpyAQgM1PsgcwEICHiP9wUIDBwjznQBEAzAtqR1AQgMZEp7dgEIDAjeUXcBCAyscSh4AQgIUAX/BQgM9JjVeQEQDJgsrHoBCAw8wIJ7AQgM4FNZfAEIDITnL30BCAwoewZ+AQgIzA7dBQgMcKKzfwEQDBQ2ioABCAy4yWCBAQgMXF03ggEIDADxDYMBCAikhOQFCAxIGLuEARAM7KuRhQEIDJA/aIYBCAw00z6HAQgM2GYViAEICHz66wUIDCCOwokBEAzEIZmKAQgMaLVviwEIDAxJRowBCAyw3ByNAQgIVHDzBQgM+APKjgEQDJyXoI8BCAxAK3eQAQgM5L5NkQEIDIhSJJIBCAgs5voFCAzQedGTARAMdA2olAEIDBihfpUBCAy8NFWWAQgMYMgrlwEIDARcApgBCAio79gFCAxMg6+ZARAM8BaGmgEIDJSqXJsBCAw4PjOcAQgM3NEJnQEICIBl4AUIDCT5tp4BEAzIjI2fAQgMbCBkoAEIDBC0OqEBCAy0RxGiAQgIWNvnBQgM/G6+owEQDKAClaQBCAxElmulAQgM6ClCpgEIDIy9GKcBCAgwUe8FCAzU5MWoARAMeHicqQEIDBwMc6oBCAzAn0mrAQgMZDMgrAEICAjH9gUIDKxaza0BEAxQ7qOuAQgM9IF6rwEIDJgVUbABCAw8qSexAQgI4Dz+BQgMhNDUsgEQDChkq7MBCAzM94G0AQgMcItYtQEIDBQfL7YBCAy4sgW3AQgIXEbcBQgMANqyuAEQDKRtibkBCAxIAWC6AQgM7JQ2uwEIDJAoDbwBCAg0vOMFCAzYT7q9ARAMfOOQvgEIDCB3Z78BCAzECj7AAQgMaJ4UwQEICAwy6wUIDLDFwcIBEAxUWZjDAQgM+OxuxAEIDJyARcUBCAxAFBzGAQgI5KfyBQgMiDvJxwEQDCzPn8gBCAzQYnbJAQgMdPZMygEIDBiKI8sBCAi8HfoFCAxgsdDMARAMBEWnzQEIDKjYfc4BCAxMbFTPAQgM8P8q0AEIDJSTAdEBCAg4J9gFCAzcuq7SARAMgE6F0wEIDCTiW9QBCAzIdTLVAQgMbAkJ1gEICBCd3wUIDLQwttcBEAxYxIzYAQgM/Fdj2QEIDKDrOdoBCAxEfxDbAQgI6BLnBQgMjKa93AEQDDA6lN0BCAzUzWreAQgMeGFB3wEIDBz1F+ABCAjAiO4FCAxkHMXhARAMCLCb4gEIDKxDcuMBCAxQ10jkAQgM9Gof5QEIOJj+9eXSBQAAPJLM5tIFABUAFdAFFdoFLBXwBBUEFQYVBhwYCAA8kszm0gUAGAgAADYf4tEFABYAKAgAPJLM5tIFABgIAAA2H+LRBQAAAADoAvRnAQMAAADwBAEJTwACCBhAoICBAwgSKFjAoIGDBxAiSJhAoYKFCxgyaNjAoYOHDyBCiBhBooSJEyhSqFjBooWLFzBiyJhBo4aNGzhy6NjBo4ePH0CCCBlCpIiRI0iSKFnCpImTJ1CiSJlCpYqVK1iyaNnCpYuXL2DCiBlDpoyZM2jSqFnDpo2bN3DiyJlDp46dO3jy6NnDp4+fP4ACCRpEqJChQ4gSKVrEqJGjR5AiSZpEqZKlS5gyadrEqZOnT6BCiRpFqpSpU6hSqVrFqpWrV7BiyZpFq5atW7hy6drFq5evX8CCCRtGrJixY8iSKVvGrJmzZ9CiSZtGrZq1a9iyadvGrZu3b+DCiRtHrpy5c+jSqVvHrp27d/DiyZtHr569e/jy6dvHr5+/fwADChxIsKDBgwgTKlzIsKHDhxAjSpxIsaLFixgzatzIsaPHjyBDihxJsqTJkyhTqlzJsqXLlzBjypxJs6bNmyaI7QEcFQQZNQQABhkYAnRzFQIW8AQW8i0WtigmruYBJtLEARwYCAA8kszm0gUAGAgAADYf4tEFABYAKAgAPJLM5tIFABgIAAA2H+LRBQAAGSwVBBUEFQIAFQAVBBUCAAAAFQIZ3DUAGAZzY2hlbWEVGAAVCiUCGARvcGVuABUKJQIYBGhpZ2gAFQolAhgDbG93ABUKJQIYBWNsb3NlABUKJQIYBnZvbHVtZQAVCiUCGAl2b2x1bWVVU0QAFQwlAhgFdG9rZW4lAEwcAAAAFQwlAhgFY2hhaW4lAEwcAAAAFQolAhgGcmV0dXJuABUKJQIYA3ZvbAAVCiUCGBBtYXhpbXVtX2RyYXdkb3duABUEJQIYAnRzJRRMjBIcLAAAAAAAFvAEGRwZzCagBxwVChk1BAAGGRgEb3BlbhUCFvAEFogHFpgHJoADJggcGAjZX3ZPHhbwPxgI4lgXt9EA8D8WACgI2V92Tx4W8D8YCOJYF7fRAPA/ABksFQQVBBUCABUAFQQVAgAAACb0EBwVChk1BAAGGRgEaGlnaBUCFvAEFoQIFpQIJtgMJuAIHBgIZmZmZmZm8D8YCMSxLm6jAfA/FgAoCGZmZmZmZvA/GAjEsS5uowHwPwAZLBUEFQQVAgAVABUEFQIAAAAmqhgcFQoZNQQABhkYA2xvdxUCFvAEFuYFFvQFJt4UJrYSHBgIgnNGlPYG8D8YCOJYF7fRAPA/FgAoCIJzRpT2BvA/GAjiWBe30QDwPwAZLBUEFQQVAgAVABUEFQIAAAAm8iAcFQoZNQQABhkYBWNsb3NlFQIW8AQW+AYWiAcm0hwm6hkcGAjZX3ZPHhbwPxgIUwWjkjoB8D8WACgI2V92Tx4W8D8YCFMFo5I6AfA/ABksFQQVBBUCABUAFQQVAgAAACbuSxwVChk1BAAGGRgGdm9sdW1lFQIW8AQW8i0WuCkmlEUmtiIcGAjsUbgqxU5/QRgI9ihcjxwBFEEWACgI7FG4KsVOf0EYCPYoXI8cARRBABksFQQVBBUCABUAFQQVAgAAACa6exwVChk1BAAGGRgJdm9sdW1lVVNEFQIW8AQW8i0Whi4m4HQmtE0cGAhtrASnk3V/QRgIg4k/mn4DFEEWACgIbawEp5N1f0EYCIOJP5p+AxRBABksFQQVBBUCABUAFQQVAgAAACaUfhwVDBk1BAAGGRgFdG9rZW4VAhbwBBaGARaOASa2fSaGfRw2ACgEVVNEVBgEVVNEVAAZLBUEFQQVAgAVABUEFQIAAAAmroABHBUMGTUEAAYZGAVjaGFpbhUCFvAEFoYBFo4BJtB/JqB/HDYAKARVU0RUGARVU0RUABksFQQVBBUCABUAFQQVAgAAACaYjgEcFQoZNQQABhkYBnJldHVybhUCFvAEFooOFtwMJtaIASa8gQEcGAgA5j6fvS5xPxgIAMifapcEX78WAigIAOY+n70ucT8YCADIn2qXBF+/ABksFQQVBBUCABUAFQQVAgAAACa8vAEcFQoZNQQABhkYA3ZvbBUCFvAEFsQsFtgsJvC1ASbkjwEcGAhjW0UlWCO9PxgIqPrOiV1sXj8WFCgIY1tFJVgjvT8YCKj6zoldbF4/ABksFQQVBBUCABUAFQQVAgAAACbywgEcFQoZNQQABhkYEG1heGltdW1fZHJhd2Rvd24VAhbwBBbmBBbwBCbmwAEmgr4BHBgIAAAAAAAA8D8YCNR6XPhx1u8/FgAoCAAAAAAAAPA/GAjUelz4cdbvPwAZLBUEFQQVAgAVABUEFQIAAAAmiO0BHBUEGTUEAAYZGAJ0cxUCFvAEFvItFrYoJq7mASbSxAEcGAgAPJLM5tIFABgIAAA2H+LRBQAWACgIADySzObSBQAYCAAANh/i0QUAABksFQQVBBUCABUAFQQVAgAAABaA5wEW8AQmCBbc3AEUAAAZLBgGcGFuZGFzGM8MeyJpbmRleF9jb2x1bW5zIjogWyJ0cyJdLCAiY29sdW1uX2luZGV4ZXMiOiBbeyJuYW1lIjogbnVsbCwgImZpZWxkX25hbWUiOiBudWxsLCAicGFuZGFzX3R5cGUiOiAidW5pY29kZSIsICJudW1weV90eXBlIjogIm9iamVjdCIsICJtZXRhZGF0YSI6IHsiZW5jb2RpbmciOiAiVVRGLTgifX1dLCAiY29sdW1ucyI6IFt7Im5hbWUiOiAib3BlbiIsICJmaWVsZF9uYW1lIjogIm9wZW4iLCAicGFuZGFzX3R5cGUiOiAiZmxvYXQ2NCIsICJudW1weV90eXBlIjogImZsb2F0NjQiLCAibWV0YWRhdGEiOiBudWxsfSwgeyJuYW1lIjogImhpZ2giLCAiZmllbGRfbmFtZSI6ICJoaWdoIiwgInBhbmRhc190eXBlIjogImZsb2F0NjQiLCAibnVtcHlfdHlwZSI6ICJmbG9hdDY0IiwgIm1ldGFkYXRhIjogbnVsbH0sIHsibmFtZSI6ICJsb3ciLCAiZmllbGRfbmFtZSI6ICJsb3ciLCAicGFuZGFzX3R5cGUiOiAiZmxvYXQ2NCIsICJudW1weV90eXBlIjogImZsb2F0NjQiLCAibWV0YWRhdGEiOiBudWxsfSwgeyJuYW1lIjogImNsb3NlIiwgImZpZWxkX25hbWUiOiAiY2xvc2UiLCAicGFuZGFzX3R5cGUiOiAiZmxvYXQ2NCIsICJudW1weV90eXBlIjogImZsb2F0NjQiLCAibWV0YWRhdGEiOiBudWxsfSwgeyJuYW1lIjogInZvbHVtZSIsICJmaWVsZF9uYW1lIjogInZvbHVtZSIsICJwYW5kYXNfdHlwZSI6ICJmbG9hdDY0IiwgIm51bXB5X3R5cGUiOiAiZmxvYXQ2NCIsICJtZXRhZGF0YSI6IG51bGx9LCB7Im5hbWUiOiAidm9sdW1lVVNEIiwgImZpZWxkX25hbWUiOiAidm9sdW1lVVNEIiwgInBhbmRhc190eXBlIjogImZsb2F0NjQiLCAibnVtcHlfdHlwZSI6ICJmbG9hdDY0IiwgIm1ldGFkYXRhIjogbnVsbH0sIHsibmFtZSI6ICJ0b2tlbiIsICJmaWVsZF9uYW1lIjogInRva2VuIiwgInBhbmRhc190eXBlIjogInVuaWNvZGUiLCAibnVtcHlfdHlwZSI6ICJvYmplY3QiLCAibWV0YWRhdGEiOiBudWxsfSwgeyJuYW1lIjogImNoYWluIiwgImZpZWxkX25hbWUiOiAiY2hhaW4iLCAicGFuZGFzX3R5cGUiOiAidW5pY29kZSIsICJudW1weV90eXBlIjogIm9iamVjdCIsICJtZXRhZGF0YSI6IG51bGx9LCB7Im5hbWUiOiAicmV0dXJuIiwgImZpZWxkX25hbWUiOiAicmV0dXJuIiwgInBhbmRhc190eXBlIjogImZsb2F0NjQiLCAibnVtcHlfdHlwZSI6ICJmbG9hdDY0IiwgIm1ldGFkYXRhIjogbnVsbH0sIHsibmFtZSI6ICJ2b2wiLCAiZmllbGRfbmFtZSI6ICJ2b2wiLCAicGFuZGFzX3R5cGUiOiAiZmxvYXQ2NCIsICJudW1weV90eXBlIjogImZsb2F0NjQiLCAibWV0YWRhdGEiOiBudWxsfSwgeyJuYW1lIjogIm1heGltdW1fZHJhd2Rvd24iLCAiZmllbGRfbmFtZSI6ICJtYXhpbXVtX2RyYXdkb3duIiwgInBhbmRhc190eXBlIjogImZsb2F0NjQiLCAibnVtcHlfdHlwZSI6ICJmbG9hdDY0IiwgIm1ldGFkYXRhIjogbnVsbH0sIHsibmFtZSI6ICJ0cyIsICJmaWVsZF9uYW1lIjogInRzIiwgInBhbmRhc190eXBlIjogImRhdGV0aW1lIiwgIm51bXB5X3R5cGUiOiAiZGF0ZXRpbWU2NFtuc10iLCAibWV0YWRhdGEiOiBudWxsfV0sICJjcmVhdG9yIjogeyJsaWJyYXJ5IjogInB5YXJyb3ciLCAidmVyc2lvbiI6ICI2LjAuMSJ9LCAicGFuZGFzX3ZlcnNpb24iOiAiMS4zLjUifQAYDEFSUk9XOnNjaGVtYRiYGC8vLy8vd2dKQUFBUUFBQUFBQUFLQUE0QUJnQUZBQWdBQ2dBQUFBQUJCQUFRQUFBQUFBQUtBQXdBQUFBRUFBZ0FDZ0FBQUlRR0FBQUVBQUFBQVFBQUFBd0FBQUFJQUF3QUJBQUlBQWdBQUFCY0JnQUFCQUFBQUU4R0FBQjdJbWx1WkdWNFgyTnZiSFZ0Ym5NaU9pQmJJblJ6SWwwc0lDSmpiMngxYlc1ZmFXNWtaWGhsY3lJNklGdDdJbTVoYldVaU9pQnVkV3hzTENBaVptbGxiR1JmYm1GdFpTSTZJRzUxYkd3c0lDSndZVzVrWVhOZmRIbHdaU0k2SUNKMWJtbGpiMlJsSWl3Z0ltNTFiWEI1WDNSNWNHVWlPaUFpYjJKcVpXTjBJaXdnSW0xbGRHRmtZWFJoSWpvZ2V5SmxibU52WkdsdVp5STZJQ0pWVkVZdE9DSjlmVjBzSUNKamIyeDFiVzV6SWpvZ1czc2libUZ0WlNJNklDSnZjR1Z1SWl3Z0ltWnBaV3hrWDI1aGJXVWlPaUFpYjNCbGJpSXNJQ0p3WVc1a1lYTmZkSGx3WlNJNklDSm1iRzloZERZMElpd2dJbTUxYlhCNVgzUjVjR1VpT2lBaVpteHZZWFEyTkNJc0lDSnRaWFJoWkdGMFlTSTZJRzUxYkd4OUxDQjdJbTVoYldVaU9pQWlhR2xuYUNJc0lDSm1hV1ZzWkY5dVlXMWxJam9nSW1ocFoyZ2lMQ0FpY0dGdVpHRnpYM1I1Y0dVaU9pQWlabXh2WVhRMk5DSXNJQ0p1ZFcxd2VWOTBlWEJsSWpvZ0ltWnNiMkYwTmpRaUxDQWliV1YwWVdSaGRHRWlPaUJ1ZFd4c2ZTd2dleUp1WVcxbElqb2dJbXh2ZHlJc0lDSm1hV1ZzWkY5dVlXMWxJam9nSW14dmR5SXNJQ0p3WVc1a1lYTmZkSGx3WlNJNklDSm1iRzloZERZMElpd2dJbTUxYlhCNVgzUjVjR1VpT2lBaVpteHZZWFEyTkNJc0lDSnRaWFJoWkdGMFlTSTZJRzUxYkd4OUxDQjdJbTVoYldVaU9pQWlZMnh2YzJVaUxDQWlabWxsYkdSZmJtRnRaU0k2SUNKamJHOXpaU0lzSUNKd1lXNWtZWE5mZEhsd1pTSTZJQ0ptYkc5aGREWTBJaXdnSW01MWJYQjVYM1I1Y0dVaU9pQWlabXh2WVhRMk5DSXNJQ0p0WlhSaFpHRjBZU0k2SUc1MWJHeDlMQ0I3SW01aGJXVWlPaUFpZG05c2RXMWxJaXdnSW1acFpXeGtYMjVoYldVaU9pQWlkbTlzZFcxbElpd2dJbkJoYm1SaGMxOTBlWEJsSWpvZ0ltWnNiMkYwTmpRaUxDQWliblZ0Y0hsZmRIbHdaU0k2SUNKbWJHOWhkRFkwSWl3Z0ltMWxkR0ZrWVhSaElqb2diblZzYkgwc0lIc2libUZ0WlNJNklDSjJiMngxYldWVlUwUWlMQ0FpWm1sbGJHUmZibUZ0WlNJNklDSjJiMngxYldWVlUwUWlMQ0FpY0dGdVpHRnpYM1I1Y0dVaU9pQWlabXh2WVhRMk5DSXNJQ0p1ZFcxd2VWOTBlWEJsSWpvZ0ltWnNiMkYwTmpRaUxDQWliV1YwWVdSaGRHRWlPaUJ1ZFd4c2ZTd2dleUp1WVcxbElqb2dJblJ2YTJWdUlpd2dJbVpwWld4a1gyNWhiV1VpT2lBaWRHOXJaVzRpTENBaWNHRnVaR0Z6WDNSNWNHVWlPaUFpZFc1cFkyOWtaU0lzSUNKdWRXMXdlVjkwZVhCbElqb2dJbTlpYW1WamRDSXNJQ0p0WlhSaFpHRjBZU0k2SUc1MWJHeDlMQ0I3SW01aGJXVWlPaUFpWTJoaGFXNGlMQ0FpWm1sbGJHUmZibUZ0WlNJNklDSmphR0ZwYmlJc0lDSndZVzVrWVhOZmRIbHdaU0k2SUNKMWJtbGpiMlJsSWl3Z0ltNTFiWEI1WDNSNWNHVWlPaUFpYjJKcVpXTjBJaXdnSW0xbGRHRmtZWFJoSWpvZ2JuVnNiSDBzSUhzaWJtRnRaU0k2SUNKeVpYUjFjbTRpTENBaVptbGxiR1JmYm1GdFpTSTZJQ0p5WlhSMWNtNGlMQ0FpY0dGdVpHRnpYM1I1Y0dVaU9pQWlabXh2WVhRMk5DSXNJQ0p1ZFcxd2VWOTBlWEJsSWpvZ0ltWnNiMkYwTmpRaUxDQWliV1YwWVdSaGRHRWlPaUJ1ZFd4c2ZTd2dleUp1WVcxbElqb2dJblp2YkNJc0lDSm1hV1ZzWkY5dVlXMWxJam9nSW5admJDSXNJQ0p3WVc1a1lYTmZkSGx3WlNJNklDSm1iRzloZERZMElpd2dJbTUxYlhCNVgzUjVjR1VpT2lBaVpteHZZWFEyTkNJc0lDSnRaWFJoWkdGMFlTSTZJRzUxYkd4OUxDQjdJbTVoYldVaU9pQWliV0Y0YVcxMWJWOWtjbUYzWkc5M2JpSXNJQ0ptYVdWc1pGOXVZVzFsSWpvZ0ltMWhlR2x0ZFcxZlpISmhkMlJ2ZDI0aUxDQWljR0Z1WkdGelgzUjVjR1VpT2lBaVpteHZZWFEyTkNJc0lDSnVkVzF3ZVY5MGVYQmxJam9nSW1ac2IyRjBOalFpTENBaWJXVjBZV1JoZEdFaU9pQnVkV3hzZlN3Z2V5SnVZVzFsSWpvZ0luUnpJaXdnSW1acFpXeGtYMjVoYldVaU9pQWlkSE1pTENBaWNHRnVaR0Z6WDNSNWNHVWlPaUFpWkdGMFpYUnBiV1VpTENBaWJuVnRjSGxmZEhsd1pTSTZJQ0prWVhSbGRHbHRaVFkwVzI1elhTSXNJQ0p0WlhSaFpHRjBZU0k2SUc1MWJHeDlYU3dnSW1OeVpXRjBiM0lpT2lCN0lteHBZbkpoY25raU9pQWljSGxoY25KdmR5SXNJQ0oyWlhKemFXOXVJam9nSWpZdU1DNHhJbjBzSUNKd1lXNWtZWE5mZG1WeWMybHZiaUk2SUNJeExqTXVOU0o5QUFZQUFBQndZVzVrWVhNQUFBd0FBQUFrQWdBQTVBRUFBTGdCQUFDSUFRQUFXQUVBQUNRQkFBRDBBQUFBeUFBQUFKZ0FBQUJzQUFBQU1BQUFBQVFBQUFBYy92Ly9BQUFCQ2hBQUFBQVVBQUFBQkFBQUFBQUFBQUFDQUFBQWRITUFBQXIrLy84QUFBTUFSUDcvL3dBQUFRTVFBQUFBSkFBQUFBUUFBQUFBQUFBQUVBQUFBRzFoZUdsdGRXMWZaSEpoZDJSdmQyNEFBQUFBUXY3Ly93QUFBZ0I4L3YvL0FBQUJBeEFBQUFBVUFBQUFCQUFBQUFBQUFBQURBQUFBZG05c0FHcisvLzhBQUFJQXBQNy8vd0FBQVFNUUFBQUFHQUFBQUFRQUFBQUFBQUFBQmdBQUFISmxkSFZ5YmdBQWx2Ny8vd0FBQWdEUS92Ly9BQUFCQlJBQUFBQVlBQUFBQkFBQUFBQUFBQUFGQUFBQVkyaGhhVzRBQUFEWS8vLy8rUDcvL3dBQUFRVVFBQUFBSEFBQUFBUUFBQUFBQUFBQUJRQUFBSFJ2YTJWdUFBQUFCQUFFQUFRQUFBQWsvLy8vQUFBQkF4QUFBQUFjQUFBQUJBQUFBQUFBQUFBSkFBQUFkbTlzZFcxbFZWTkVBQUFBR3YvLy93QUFBZ0JVLy8vL0FBQUJBeEFBQUFBWUFBQUFCQUFBQUFBQUFBQUdBQUFBZG05c2RXMWxBQUJHLy8vL0FBQUNBSUQvLy84QUFBRURFQUFBQUJnQUFBQUVBQUFBQUFBQUFBVUFBQUJqYkc5elpRQUFBSEwvLy84QUFBSUFyUC8vL3dBQUFRTVFBQUFBRkFBQUFBUUFBQUFBQUFBQUF3QUFBR3h2ZHdDYS8vLy9BQUFDQU5ULy8vOEFBQUVERUFBQUFCZ0FBQUFFQUFBQUFBQUFBQVFBQUFCb2FXZG9BQUFBQU1iLy8vOEFBQUlBRUFBVUFBZ0FCZ0FIQUF3QUFBQVFBQkFBQUFBQUFBRURFQUFBQUJ3QUFBQUVBQUFBQUFBQUFBUUFBQUJ2Y0dWdUFBQUdBQWdBQmdBR0FBQUFBQUFDQUE9PQAYH3BhcnF1ZXQtY3BwLWFycm93IHZlcnNpb24gNi4wLjEZzBwAABwAABwAABwAABwAABwAABwAABwAABwAABwAABwAABwAAAAaGAAAUEFSMQ==",
       "encoder": "pandas",
       "name": "df",
       "version": 1
      }
     },
     "metadata": {
      "scrapbook": {
       "data": true,
       "display": false,
       "name": "df"
      }
     },
     "output_type": "display_data"
    }
   ],
   "source": [
    "sb.glue('token',token)\n",
    "sb.glue('start_date',start_date)\n",
    "sb.glue('end_date',end_date)\n",
    "sb.glue('df',df,encoder='pandas')"
   ]
  }
 ],
 "metadata": {
  "kernelspec": {
   "display_name": "Python 3 (ipykernel)",
   "language": "python",
   "name": "python3"
  },
  "language_info": {
   "codemirror_mode": {
    "name": "ipython",
    "version": 3
   },
   "file_extension": ".py",
   "mimetype": "text/x-python",
   "name": "python",
   "nbconvert_exporter": "python",
   "pygments_lexer": "ipython3",
   "version": "3.8.12"
  },
  "papermill": {
   "default_parameters": {},
   "duration": 2.19398,
   "end_time": "2021-12-31T03:04:04.718671",
   "environment_variables": {},
   "exception": null,
   "input_path": "data_analysis_template.ipynb",
   "output_path": "outputs/market_analysis_USDT_2021-12-12.ipynb",
   "parameters": {
    "db": "sqlite:///data/data.db",
    "end_date": "2021-12-12",
    "start_date": "2021-11-29",
    "token": "USDT"
   },
   "start_time": "2021-12-31T03:04:02.524691",
   "version": "2.3.3"
  }
 },
 "nbformat": 4,
 "nbformat_minor": 5
}