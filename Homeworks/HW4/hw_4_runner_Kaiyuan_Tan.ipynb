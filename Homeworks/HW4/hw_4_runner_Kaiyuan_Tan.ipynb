{
 "cells": [
  {
   "cell_type": "markdown",
   "id": "ecb1b0f4-1ae4-4083-98f7-fc8741b8b4ee",
   "metadata": {
    "tags": []
   },
   "source": [
    "# HW4 -- Runner Notebook"
   ]
  },
  {
   "cell_type": "code",
   "execution_count": 1,
   "id": "dfd04dee-26b9-46e6-9c4c-0348765a3edf",
   "metadata": {},
   "outputs": [
    {
     "name": "stderr",
     "output_type": "stream",
     "text": [
      "/Users/loremaid/anaconda3/envs/mfe-preprogram/lib/python3.8/site-packages/papermill/iorw.py:50: FutureWarning: pyarrow.HadoopFileSystem is deprecated as of 2.0.0, please use pyarrow.fs.HadoopFileSystem instead.\n",
      "  from pyarrow import HadoopFileSystem\n"
     ]
    }
   ],
   "source": [
    "import papermill as pm\n",
    "import scrapbook as sb\n",
    "import pandas as pd\n",
    "from datetime import datetime, timedelta\n",
    "import os"
   ]
  },
  {
   "cell_type": "code",
   "execution_count": 2,
   "id": "349050a1-83ff-4739-8681-ffefae059bf8",
   "metadata": {},
   "outputs": [],
   "source": [
    "base_output_folder = os.path.expanduser('outputs')\n",
    "\n",
    "if not os.path.exists(base_output_folder):\n",
    "        os.makedirs(base_output_folder)"
   ]
  },
  {
   "cell_type": "code",
   "execution_count": 3,
   "id": "c02efe06-537c-4d64-8aeb-6eeb9b4f1f6b",
   "metadata": {},
   "outputs": [],
   "source": [
    "connection_string = 'sqlite:///data/data.db'"
   ]
  },
  {
   "cell_type": "code",
   "execution_count": 4,
   "id": "f4d830cc-f475-4af7-bf8c-629d2f257ded",
   "metadata": {},
   "outputs": [],
   "source": [
    "ts = pd.read_sql('SELECT DISTINCT ts FROM ohlc', connection_string)\n",
    "ts['ts'] = pd.to_datetime(ts['ts'])\n",
    "\n",
    "ts = ts['ts']"
   ]
  },
  {
   "cell_type": "code",
   "execution_count": 5,
   "id": "22d15946-ed91-4770-b528-c465761d1976",
   "metadata": {},
   "outputs": [],
   "source": [
    "to_date = ts.iloc[-1]\n",
    "from_date = to_date - timedelta(days=7 * 2)"
   ]
  },
  {
   "cell_type": "code",
   "execution_count": 6,
   "id": "787e82f1-e49e-4f80-936c-591ea866d99a",
   "metadata": {},
   "outputs": [],
   "source": [
    "tokens = pd.read_sql('SELECT DISTINCT token FROM ohlc', connection_string)\n",
    "tokens = tokens.token.to_list()"
   ]
  },
  {
   "cell_type": "code",
   "execution_count": 7,
   "id": "2f08b9d2-8767-4f2c-bb63-a56c9c37d232",
   "metadata": {},
   "outputs": [
    {
     "name": "stdout",
     "output_type": "stream",
     "text": [
      "running for BTC for date 2021-12-01 00:00:00 to 2021-12-15 00:00:00\r"
     ]
    },
    {
     "data": {
      "application/vnd.jupyter.widget-view+json": {
       "model_id": "8a539f4ff8db4737936e1f6382df50b5",
       "version_major": 2,
       "version_minor": 0
      },
      "text/plain": [
       "Executing:   0%|          | 0/14 [00:00<?, ?cell/s]"
      ]
     },
     "metadata": {},
     "output_type": "display_data"
    },
    {
     "name": "stdout",
     "output_type": "stream",
     "text": [
      "running for ETH for date 2021-12-01 00:00:00 to 2021-12-15 00:00:00\r"
     ]
    },
    {
     "data": {
      "application/vnd.jupyter.widget-view+json": {
       "model_id": "93e7b67404ca4f9e9fe5b3e5c50193fa",
       "version_major": 2,
       "version_minor": 0
      },
      "text/plain": [
       "Executing:   0%|          | 0/14 [00:00<?, ?cell/s]"
      ]
     },
     "metadata": {},
     "output_type": "display_data"
    },
    {
     "name": "stdout",
     "output_type": "stream",
     "text": [
      "running for USDT for date 2021-12-01 00:00:00 to 2021-12-15 00:00:00\r"
     ]
    },
    {
     "data": {
      "application/vnd.jupyter.widget-view+json": {
       "model_id": "56bc66c7da92441daccde1aadeeae406",
       "version_major": 2,
       "version_minor": 0
      },
      "text/plain": [
       "Executing:   0%|          | 0/14 [00:00<?, ?cell/s]"
      ]
     },
     "metadata": {},
     "output_type": "display_data"
    },
    {
     "name": "stdout",
     "output_type": "stream",
     "text": [
      "running for SOL for date 2021-12-01 00:00:00 to 2021-12-15 00:00:00\r"
     ]
    },
    {
     "data": {
      "application/vnd.jupyter.widget-view+json": {
       "model_id": "8be2f8992a424921a9b2a5c7645b5cfe",
       "version_major": 2,
       "version_minor": 0
      },
      "text/plain": [
       "Executing:   0%|          | 0/14 [00:00<?, ?cell/s]"
      ]
     },
     "metadata": {},
     "output_type": "display_data"
    },
    {
     "name": "stdout",
     "output_type": "stream",
     "text": [
      "running for ADA for date 2021-12-01 00:00:00 to 2021-12-15 00:00:00\r"
     ]
    },
    {
     "data": {
      "application/vnd.jupyter.widget-view+json": {
       "model_id": "c653bd75fc6c44a3a51d366c8ed5fa6a",
       "version_major": 2,
       "version_minor": 0
      },
      "text/plain": [
       "Executing:   0%|          | 0/14 [00:00<?, ?cell/s]"
      ]
     },
     "metadata": {},
     "output_type": "display_data"
    },
    {
     "name": "stdout",
     "output_type": "stream",
     "text": [
      "running for DOT for date 2021-12-01 00:00:00 to 2021-12-15 00:00:00\r"
     ]
    },
    {
     "data": {
      "application/vnd.jupyter.widget-view+json": {
       "model_id": "a729fbee0546486bb8ebcb175edf363d",
       "version_major": 2,
       "version_minor": 0
      },
      "text/plain": [
       "Executing:   0%|          | 0/14 [00:00<?, ?cell/s]"
      ]
     },
     "metadata": {},
     "output_type": "display_data"
    },
    {
     "name": "stdout",
     "output_type": "stream",
     "text": [
      "running for AVAX for date 2021-12-01 00:00:00 to 2021-12-15 00:00:00\r"
     ]
    },
    {
     "data": {
      "application/vnd.jupyter.widget-view+json": {
       "model_id": "ac82e4a9e5604a8885e78b69dff63809",
       "version_major": 2,
       "version_minor": 0
      },
      "text/plain": [
       "Executing:   0%|          | 0/14 [00:00<?, ?cell/s]"
      ]
     },
     "metadata": {},
     "output_type": "display_data"
    },
    {
     "name": "stdout",
     "output_type": "stream",
     "text": [
      "running for ATOM for date 2021-12-01 00:00:00 to 2021-12-15 00:00:00\r"
     ]
    },
    {
     "data": {
      "application/vnd.jupyter.widget-view+json": {
       "model_id": "d9bf8f1f9bb44eddb5150e2170c9f3fc",
       "version_major": 2,
       "version_minor": 0
      },
      "text/plain": [
       "Executing:   0%|          | 0/14 [00:00<?, ?cell/s]"
      ]
     },
     "metadata": {},
     "output_type": "display_data"
    },
    {
     "name": "stdout",
     "output_type": "stream",
     "text": [
      "running for CRV for date 2021-12-01 00:00:00 to 2021-12-15 00:00:00\r"
     ]
    },
    {
     "data": {
      "application/vnd.jupyter.widget-view+json": {
       "model_id": "115ffbda279f485f8026193a67608989",
       "version_major": 2,
       "version_minor": 0
      },
      "text/plain": [
       "Executing:   0%|          | 0/14 [00:00<?, ?cell/s]"
      ]
     },
     "metadata": {},
     "output_type": "display_data"
    },
    {
     "name": "stdout",
     "output_type": "stream",
     "text": [
      "running for AAVE for date 2021-12-01 00:00:00 to 2021-12-15 00:00:00\r"
     ]
    },
    {
     "data": {
      "application/vnd.jupyter.widget-view+json": {
       "model_id": "3a879a3dc55b495694a59bc9d4d5dd67",
       "version_major": 2,
       "version_minor": 0
      },
      "text/plain": [
       "Executing:   0%|          | 0/14 [00:00<?, ?cell/s]"
      ]
     },
     "metadata": {},
     "output_type": "display_data"
    },
    {
     "name": "stdout",
     "output_type": "stream",
     "text": [
      "running for COMP for date 2021-12-01 00:00:00 to 2021-12-15 00:00:00\r"
     ]
    },
    {
     "data": {
      "application/vnd.jupyter.widget-view+json": {
       "model_id": "2565b8b28a9242b1a2c80ff936856835",
       "version_major": 2,
       "version_minor": 0
      },
      "text/plain": [
       "Executing:   0%|          | 0/14 [00:00<?, ?cell/s]"
      ]
     },
     "metadata": {},
     "output_type": "display_data"
    }
   ],
   "source": [
    "for token in tokens:\n",
    "    print(f'running for {token} for date {from_date} to {to_date}', end='\\r')\n",
    "    res = pm.execute_notebook(\n",
    "        'hw_4_template_Kaiyuan_Tan.ipynb',\n",
    "        f'{base_output_folder}/market_analysis_{token}_{from_date}.ipynb',\n",
    "        parameters = {\n",
    "            'from_date': f'{from_date}',\n",
    "            'to_date': f'{to_date}',\n",
    "            'token': token,\n",
    "            'connection_string': connection_string,\n",
    "        }\n",
    "    )"
   ]
  },
  {
   "cell_type": "code",
   "execution_count": 8,
   "id": "4605f482-4596-4d2e-ad5b-14448a1290a9",
   "metadata": {},
   "outputs": [],
   "source": [
    "nbs = sb.read_notebooks('outputs')"
   ]
  },
  {
   "cell_type": "code",
   "execution_count": 9,
   "id": "269e43a1-2602-477a-9297-1edb3d6bc49c",
   "metadata": {},
   "outputs": [
    {
     "data": {
      "text/html": [
       "<div>\n",
       "<style scoped>\n",
       "    .dataframe tbody tr th:only-of-type {\n",
       "        vertical-align: middle;\n",
       "    }\n",
       "\n",
       "    .dataframe tbody tr th {\n",
       "        vertical-align: top;\n",
       "    }\n",
       "\n",
       "    .dataframe thead th {\n",
       "        text-align: right;\n",
       "    }\n",
       "</style>\n",
       "<table border=\"1\" class=\"dataframe\">\n",
       "  <thead>\n",
       "    <tr style=\"text-align: right;\">\n",
       "      <th></th>\n",
       "      <th>token</th>\n",
       "      <th>from_date</th>\n",
       "      <th>to_date</th>\n",
       "      <th>return</th>\n",
       "      <th>volatility</th>\n",
       "      <th>maximum drawdown</th>\n",
       "      <th>last close - first close</th>\n",
       "    </tr>\n",
       "  </thead>\n",
       "  <tbody>\n",
       "    <tr>\n",
       "      <th>0</th>\n",
       "      <td>AAVE</td>\n",
       "      <td>2021-12-01 00:00:00</td>\n",
       "      <td>2021-12-15 00:00:00</td>\n",
       "      <td>-1.184606e-03</td>\n",
       "      <td>0.216067</td>\n",
       "      <td>0.404689</td>\n",
       "      <td>-88.3180</td>\n",
       "    </tr>\n",
       "    <tr>\n",
       "      <th>1</th>\n",
       "      <td>ADA</td>\n",
       "      <td>2021-12-01 00:00:00</td>\n",
       "      <td>2021-12-15 00:00:00</td>\n",
       "      <td>-5.290074e-04</td>\n",
       "      <td>0.224474</td>\n",
       "      <td>0.313680</td>\n",
       "      <td>-0.2849</td>\n",
       "    </tr>\n",
       "    <tr>\n",
       "      <th>2</th>\n",
       "      <td>ATOM</td>\n",
       "      <td>2021-12-01 00:00:00</td>\n",
       "      <td>2021-12-15 00:00:00</td>\n",
       "      <td>-5.724822e-04</td>\n",
       "      <td>0.303370</td>\n",
       "      <td>0.358851</td>\n",
       "      <td>-5.8280</td>\n",
       "    </tr>\n",
       "    <tr>\n",
       "      <th>3</th>\n",
       "      <td>AVAX</td>\n",
       "      <td>2021-12-01 00:00:00</td>\n",
       "      <td>2021-12-15 00:00:00</td>\n",
       "      <td>-8.822134e-04</td>\n",
       "      <td>0.283772</td>\n",
       "      <td>0.394209</td>\n",
       "      <td>-35.1400</td>\n",
       "    </tr>\n",
       "    <tr>\n",
       "      <th>4</th>\n",
       "      <td>BTC</td>\n",
       "      <td>2021-12-01 00:00:00</td>\n",
       "      <td>2021-12-15 00:00:00</td>\n",
       "      <td>-4.626476e-04</td>\n",
       "      <td>0.157237</td>\n",
       "      <td>0.205844</td>\n",
       "      <td>-8698.9800</td>\n",
       "    </tr>\n",
       "    <tr>\n",
       "      <th>5</th>\n",
       "      <td>COMP</td>\n",
       "      <td>2021-12-01 00:00:00</td>\n",
       "      <td>2021-12-15 00:00:00</td>\n",
       "      <td>-1.134930e-03</td>\n",
       "      <td>0.234725</td>\n",
       "      <td>0.378144</td>\n",
       "      <td>-93.6200</td>\n",
       "    </tr>\n",
       "    <tr>\n",
       "      <th>6</th>\n",
       "      <td>CRV</td>\n",
       "      <td>2021-12-01 00:00:00</td>\n",
       "      <td>2021-12-15 00:00:00</td>\n",
       "      <td>-1.006048e-03</td>\n",
       "      <td>0.324726</td>\n",
       "      <td>0.394862</td>\n",
       "      <td>-1.6295</td>\n",
       "    </tr>\n",
       "    <tr>\n",
       "      <th>7</th>\n",
       "      <td>DOT</td>\n",
       "      <td>2021-12-01 00:00:00</td>\n",
       "      <td>2021-12-15 00:00:00</td>\n",
       "      <td>-1.025613e-03</td>\n",
       "      <td>0.248345</td>\n",
       "      <td>0.348681</td>\n",
       "      <td>-11.8820</td>\n",
       "    </tr>\n",
       "    <tr>\n",
       "      <th>8</th>\n",
       "      <td>ETH</td>\n",
       "      <td>2021-12-01 00:00:00</td>\n",
       "      <td>2021-12-15 00:00:00</td>\n",
       "      <td>-5.210060e-04</td>\n",
       "      <td>0.177200</td>\n",
       "      <td>0.218952</td>\n",
       "      <td>-794.4600</td>\n",
       "    </tr>\n",
       "    <tr>\n",
       "      <th>9</th>\n",
       "      <td>SOL</td>\n",
       "      <td>2021-12-01 00:00:00</td>\n",
       "      <td>2021-12-15 00:00:00</td>\n",
       "      <td>-7.287596e-04</td>\n",
       "      <td>0.248526</td>\n",
       "      <td>0.373707</td>\n",
       "      <td>-49.7260</td>\n",
       "    </tr>\n",
       "    <tr>\n",
       "      <th>10</th>\n",
       "      <td>USDT</td>\n",
       "      <td>2021-12-01 00:00:00</td>\n",
       "      <td>2021-12-15 00:00:00</td>\n",
       "      <td>-8.485075e-07</td>\n",
       "      <td>0.010153</td>\n",
       "      <td>0.005272</td>\n",
       "      <td>-0.0003</td>\n",
       "    </tr>\n",
       "  </tbody>\n",
       "</table>\n",
       "</div>"
      ],
      "text/plain": [
       "   token            from_date              to_date        return  volatility  \\\n",
       "0   AAVE  2021-12-01 00:00:00  2021-12-15 00:00:00 -1.184606e-03    0.216067   \n",
       "1    ADA  2021-12-01 00:00:00  2021-12-15 00:00:00 -5.290074e-04    0.224474   \n",
       "2   ATOM  2021-12-01 00:00:00  2021-12-15 00:00:00 -5.724822e-04    0.303370   \n",
       "3   AVAX  2021-12-01 00:00:00  2021-12-15 00:00:00 -8.822134e-04    0.283772   \n",
       "4    BTC  2021-12-01 00:00:00  2021-12-15 00:00:00 -4.626476e-04    0.157237   \n",
       "5   COMP  2021-12-01 00:00:00  2021-12-15 00:00:00 -1.134930e-03    0.234725   \n",
       "6    CRV  2021-12-01 00:00:00  2021-12-15 00:00:00 -1.006048e-03    0.324726   \n",
       "7    DOT  2021-12-01 00:00:00  2021-12-15 00:00:00 -1.025613e-03    0.248345   \n",
       "8    ETH  2021-12-01 00:00:00  2021-12-15 00:00:00 -5.210060e-04    0.177200   \n",
       "9    SOL  2021-12-01 00:00:00  2021-12-15 00:00:00 -7.287596e-04    0.248526   \n",
       "10  USDT  2021-12-01 00:00:00  2021-12-15 00:00:00 -8.485075e-07    0.010153   \n",
       "\n",
       "    maximum drawdown  last close - first close  \n",
       "0           0.404689                  -88.3180  \n",
       "1           0.313680                   -0.2849  \n",
       "2           0.358851                   -5.8280  \n",
       "3           0.394209                  -35.1400  \n",
       "4           0.205844                -8698.9800  \n",
       "5           0.378144                  -93.6200  \n",
       "6           0.394862                   -1.6295  \n",
       "7           0.348681                  -11.8820  \n",
       "8           0.218952                 -794.4600  \n",
       "9           0.373707                  -49.7260  \n",
       "10          0.005272                   -0.0003  "
      ]
     },
     "execution_count": 9,
     "metadata": {},
     "output_type": "execute_result"
    }
   ],
   "source": [
    "pd.DataFrame([\n",
    "    pd.Series({\n",
    "        'token': scrap['token'].data,\n",
    "        'from_date': scrap['from_date'].data,\n",
    "        'to_date': scrap['to_date'].data,\n",
    "        'return': scrap['prices'].data['return'].mean(),\n",
    "        'volatility': scrap['prices'].data['volatility'].mean(),\n",
    "        'maximum drawdown':  scrap['prices'].data['max_drawdown'].max(),\n",
    "        'last close - first close': scrap['prices'].data['close'].iloc[-1] - scrap['prices'].data['close'].iloc[0]}) \n",
    "    for _, scrap in nbs.notebook_scraps.items()\n",
    "])"
   ]
  }
 ],
 "metadata": {
  "kernelspec": {
   "display_name": "Python 3 (ipykernel)",
   "language": "python",
   "name": "python3"
  },
  "language_info": {
   "codemirror_mode": {
    "name": "ipython",
    "version": 3
   },
   "file_extension": ".py",
   "mimetype": "text/x-python",
   "name": "python",
   "nbconvert_exporter": "python",
   "pygments_lexer": "ipython3",
   "version": "3.8.12"
  }
 },
 "nbformat": 4,
 "nbformat_minor": 5
}
