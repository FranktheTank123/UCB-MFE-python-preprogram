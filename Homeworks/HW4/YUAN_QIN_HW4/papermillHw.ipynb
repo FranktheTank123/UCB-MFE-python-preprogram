{
 "cells": [
  {
   "cell_type": "code",
   "execution_count": 1,
   "id": "5e2c57e9-c046-44f7-8621-bc860905d33f",
   "metadata": {},
   "outputs": [
    {
     "name": "stderr",
     "output_type": "stream",
     "text": [
      "/Users/qinyuan/opt/anaconda3/lib/python3.8/site-packages/papermill/iorw.py:50: FutureWarning: pyarrow.HadoopFileSystem is deprecated as of 2.0.0, please use pyarrow.fs.HadoopFileSystem instead.\n",
      "  from pyarrow import HadoopFileSystem\n"
     ]
    }
   ],
   "source": [
    "import papermill as pm\n",
    "import scrapbook as sb\n",
    "import pandas as pd\n",
    "from datetime import datetime, timedelta\n",
    "import os"
   ]
  },
  {
   "cell_type": "code",
   "execution_count": 20,
   "id": "35a7cb72-e284-443f-98e9-0ea9b2b2483d",
   "metadata": {},
   "outputs": [],
   "source": [
    "from_dates='2021-11-29'\n",
    "end_dates='2021-12-10'\n",
    "tokens = ['BTC', 'ETH', 'USDT', 'SOL', 'ADA', 'DOT', 'AVAX', 'ATOM', 'CRV',\n",
    "       'AAVE', 'COMP']\n",
    "connection_string = 'sqlite:///data.db'\n"
   ]
  },
  {
   "cell_type": "code",
   "execution_count": 21,
   "id": "dfa393f5-b193-48e7-9880-98dc886cb202",
   "metadata": {},
   "outputs": [],
   "source": [
    "base_output_folder = os.path.expanduser('outputs')\n",
    "\n",
    "if not os.path.exists(base_output_folder):\n",
    "        os.makedirs(base_output_folder)"
   ]
  },
  {
   "cell_type": "code",
   "execution_count": 22,
   "id": "490bf52e-e3f3-4575-88c5-86ea53767376",
   "metadata": {},
   "outputs": [
    {
     "name": "stdout",
     "output_type": "stream",
     "text": [
      "running for BTC for date 2021-11-29 to 2021-12-10\r"
     ]
    },
    {
     "data": {
      "application/vnd.jupyter.widget-view+json": {
       "model_id": "b0ced65842aa4db4a8fd27cd4c87f4fa",
       "version_major": 2,
       "version_minor": 0
      },
      "text/plain": [
       "Executing:   0%|          | 0/13 [00:00<?, ?cell/s]"
      ]
     },
     "metadata": {},
     "output_type": "display_data"
    },
    {
     "name": "stdout",
     "output_type": "stream",
     "text": [
      "running for ETH for date 2021-11-29 to 2021-12-10\r"
     ]
    },
    {
     "data": {
      "application/vnd.jupyter.widget-view+json": {
       "model_id": "8abe6eb00cb348ba91fd56aad2625811",
       "version_major": 2,
       "version_minor": 0
      },
      "text/plain": [
       "Executing:   0%|          | 0/13 [00:00<?, ?cell/s]"
      ]
     },
     "metadata": {},
     "output_type": "display_data"
    },
    {
     "name": "stdout",
     "output_type": "stream",
     "text": [
      "running for USDT for date 2021-11-29 to 2021-12-10\r"
     ]
    },
    {
     "data": {
      "application/vnd.jupyter.widget-view+json": {
       "model_id": "1b44eafc045046b28d74fe9360112646",
       "version_major": 2,
       "version_minor": 0
      },
      "text/plain": [
       "Executing:   0%|          | 0/13 [00:00<?, ?cell/s]"
      ]
     },
     "metadata": {},
     "output_type": "display_data"
    },
    {
     "name": "stdout",
     "output_type": "stream",
     "text": [
      "running for SOL for date 2021-11-29 to 2021-12-10\r"
     ]
    },
    {
     "data": {
      "application/vnd.jupyter.widget-view+json": {
       "model_id": "b684d65a651b4a0ab8c2c5b7565475c6",
       "version_major": 2,
       "version_minor": 0
      },
      "text/plain": [
       "Executing:   0%|          | 0/13 [00:00<?, ?cell/s]"
      ]
     },
     "metadata": {},
     "output_type": "display_data"
    },
    {
     "name": "stdout",
     "output_type": "stream",
     "text": [
      "running for ADA for date 2021-11-29 to 2021-12-10\r"
     ]
    },
    {
     "data": {
      "application/vnd.jupyter.widget-view+json": {
       "model_id": "98f98796714d4bbaa6f2a010db1abc1e",
       "version_major": 2,
       "version_minor": 0
      },
      "text/plain": [
       "Executing:   0%|          | 0/13 [00:00<?, ?cell/s]"
      ]
     },
     "metadata": {},
     "output_type": "display_data"
    },
    {
     "name": "stdout",
     "output_type": "stream",
     "text": [
      "running for DOT for date 2021-11-29 to 2021-12-10\r"
     ]
    },
    {
     "data": {
      "application/vnd.jupyter.widget-view+json": {
       "model_id": "75a186dada67444688976015220bed74",
       "version_major": 2,
       "version_minor": 0
      },
      "text/plain": [
       "Executing:   0%|          | 0/13 [00:00<?, ?cell/s]"
      ]
     },
     "metadata": {},
     "output_type": "display_data"
    },
    {
     "name": "stdout",
     "output_type": "stream",
     "text": [
      "running for AVAX for date 2021-11-29 to 2021-12-10\r"
     ]
    },
    {
     "data": {
      "application/vnd.jupyter.widget-view+json": {
       "model_id": "31c9aef667ca40f09878f157bbdb2008",
       "version_major": 2,
       "version_minor": 0
      },
      "text/plain": [
       "Executing:   0%|          | 0/13 [00:00<?, ?cell/s]"
      ]
     },
     "metadata": {},
     "output_type": "display_data"
    },
    {
     "name": "stdout",
     "output_type": "stream",
     "text": [
      "running for ATOM for date 2021-11-29 to 2021-12-10\r"
     ]
    },
    {
     "data": {
      "application/vnd.jupyter.widget-view+json": {
       "model_id": "5322b2d343654633a793878331ab6985",
       "version_major": 2,
       "version_minor": 0
      },
      "text/plain": [
       "Executing:   0%|          | 0/13 [00:00<?, ?cell/s]"
      ]
     },
     "metadata": {},
     "output_type": "display_data"
    },
    {
     "name": "stdout",
     "output_type": "stream",
     "text": [
      "running for CRV for date 2021-11-29 to 2021-12-10\r"
     ]
    },
    {
     "data": {
      "application/vnd.jupyter.widget-view+json": {
       "model_id": "fcd01efa578a414bbf3743ec394d9362",
       "version_major": 2,
       "version_minor": 0
      },
      "text/plain": [
       "Executing:   0%|          | 0/13 [00:00<?, ?cell/s]"
      ]
     },
     "metadata": {},
     "output_type": "display_data"
    },
    {
     "name": "stdout",
     "output_type": "stream",
     "text": [
      "running for AAVE for date 2021-11-29 to 2021-12-10\r"
     ]
    },
    {
     "data": {
      "application/vnd.jupyter.widget-view+json": {
       "model_id": "e7d1bf1a051844d0ac12d2625c577e45",
       "version_major": 2,
       "version_minor": 0
      },
      "text/plain": [
       "Executing:   0%|          | 0/13 [00:00<?, ?cell/s]"
      ]
     },
     "metadata": {},
     "output_type": "display_data"
    },
    {
     "name": "stdout",
     "output_type": "stream",
     "text": [
      "running for COMP for date 2021-11-29 to 2021-12-10\r"
     ]
    },
    {
     "data": {
      "application/vnd.jupyter.widget-view+json": {
       "model_id": "cec15fe965e04b158cbb86f8590615ad",
       "version_major": 2,
       "version_minor": 0
      },
      "text/plain": [
       "Executing:   0%|          | 0/13 [00:00<?, ?cell/s]"
      ]
     },
     "metadata": {},
     "output_type": "display_data"
    }
   ],
   "source": [
    "for token in tokens:\n",
    "    print(f'running for {token} for date {from_dates} to {end_dates}', end='\\r')\n",
    "    res = pm.execute_notebook(\n",
    "        'HW4.ipynb',\n",
    "        f'{base_output_folder}/market_analysis_{token}.ipynb',\n",
    "        parameters = {\n",
    "            'from_date': f'{from_dates}',\n",
    "            'to_date': f'{end_dates}',\n",
    "            'token': token,\n",
    "            'connection_string': connection_string,\n",
    "        }\n",
    "    )"
   ]
  },
  {
   "cell_type": "code",
   "execution_count": 23,
   "id": "23177b93-a65b-4096-83df-3d4d9f6e4a65",
   "metadata": {},
   "outputs": [],
   "source": [
    "nbs = sb.read_notebooks('outputs')"
   ]
  },
  {
   "cell_type": "code",
   "execution_count": 34,
   "id": "4d144660-7023-4851-8b7d-a4b24bf61f2f",
   "metadata": {},
   "outputs": [
    {
     "data": {
      "text/html": [
       "<div>\n",
       "<style scoped>\n",
       "    .dataframe tbody tr th:only-of-type {\n",
       "        vertical-align: middle;\n",
       "    }\n",
       "\n",
       "    .dataframe tbody tr th {\n",
       "        vertical-align: top;\n",
       "    }\n",
       "\n",
       "    .dataframe thead th {\n",
       "        text-align: right;\n",
       "    }\n",
       "</style>\n",
       "<table border=\"1\" class=\"dataframe\">\n",
       "  <thead>\n",
       "    <tr style=\"text-align: right;\">\n",
       "      <th></th>\n",
       "      <th>token</th>\n",
       "      <th>volatility_AVG</th>\n",
       "      <th>return_AVG</th>\n",
       "      <th>max_dropdown</th>\n",
       "      <th>range_last_close_minus_first_close</th>\n",
       "    </tr>\n",
       "  </thead>\n",
       "  <tbody>\n",
       "    <tr>\n",
       "      <th>0</th>\n",
       "      <td>AAVE</td>\n",
       "      <td>0.222929</td>\n",
       "      <td>-0.000924</td>\n",
       "      <td>-0.365923</td>\n",
       "      <td>59.4050</td>\n",
       "    </tr>\n",
       "    <tr>\n",
       "      <th>1</th>\n",
       "      <td>ADA</td>\n",
       "      <td>0.223506</td>\n",
       "      <td>-0.000575</td>\n",
       "      <td>-0.270805</td>\n",
       "      <td>0.2872</td>\n",
       "    </tr>\n",
       "    <tr>\n",
       "      <th>2</th>\n",
       "      <td>ATOM</td>\n",
       "      <td>0.316570</td>\n",
       "      <td>-0.000505</td>\n",
       "      <td>-0.317832</td>\n",
       "      <td>4.5760</td>\n",
       "    </tr>\n",
       "    <tr>\n",
       "      <th>3</th>\n",
       "      <td>AVAX</td>\n",
       "      <td>0.305428</td>\n",
       "      <td>-0.000686</td>\n",
       "      <td>-0.386480</td>\n",
       "      <td>24.1200</td>\n",
       "    </tr>\n",
       "    <tr>\n",
       "      <th>4</th>\n",
       "      <td>BTC</td>\n",
       "      <td>0.161721</td>\n",
       "      <td>-0.000567</td>\n",
       "      <td>-0.206462</td>\n",
       "      <td>9347.5200</td>\n",
       "    </tr>\n",
       "    <tr>\n",
       "      <th>5</th>\n",
       "      <td>COMP</td>\n",
       "      <td>0.228784</td>\n",
       "      <td>-0.001329</td>\n",
       "      <td>-0.333979</td>\n",
       "      <td>91.4600</td>\n",
       "    </tr>\n",
       "    <tr>\n",
       "      <th>6</th>\n",
       "      <td>CRV</td>\n",
       "      <td>0.351885</td>\n",
       "      <td>-0.000853</td>\n",
       "      <td>-0.395182</td>\n",
       "      <td>1.1862</td>\n",
       "    </tr>\n",
       "    <tr>\n",
       "      <th>7</th>\n",
       "      <td>DOT</td>\n",
       "      <td>0.255195</td>\n",
       "      <td>-0.000818</td>\n",
       "      <td>-0.350596</td>\n",
       "      <td>8.5550</td>\n",
       "    </tr>\n",
       "    <tr>\n",
       "      <th>8</th>\n",
       "      <td>ETH</td>\n",
       "      <td>0.177943</td>\n",
       "      <td>-0.000014</td>\n",
       "      <td>-0.188271</td>\n",
       "      <td>129.8900</td>\n",
       "    </tr>\n",
       "    <tr>\n",
       "      <th>9</th>\n",
       "      <td>SOL</td>\n",
       "      <td>0.257522</td>\n",
       "      <td>-0.000163</td>\n",
       "      <td>-0.261195</td>\n",
       "      <td>17.1470</td>\n",
       "    </tr>\n",
       "    <tr>\n",
       "      <th>10</th>\n",
       "      <td>USDT</td>\n",
       "      <td>0.013272</td>\n",
       "      <td>0.000005</td>\n",
       "      <td>-0.004874</td>\n",
       "      <td>0.0001</td>\n",
       "    </tr>\n",
       "  </tbody>\n",
       "</table>\n",
       "</div>"
      ],
      "text/plain": [
       "   token  volatility_AVG  return_AVG  max_dropdown  \\\n",
       "0   AAVE        0.222929   -0.000924     -0.365923   \n",
       "1    ADA        0.223506   -0.000575     -0.270805   \n",
       "2   ATOM        0.316570   -0.000505     -0.317832   \n",
       "3   AVAX        0.305428   -0.000686     -0.386480   \n",
       "4    BTC        0.161721   -0.000567     -0.206462   \n",
       "5   COMP        0.228784   -0.001329     -0.333979   \n",
       "6    CRV        0.351885   -0.000853     -0.395182   \n",
       "7    DOT        0.255195   -0.000818     -0.350596   \n",
       "8    ETH        0.177943   -0.000014     -0.188271   \n",
       "9    SOL        0.257522   -0.000163     -0.261195   \n",
       "10  USDT        0.013272    0.000005     -0.004874   \n",
       "\n",
       "    range_last_close_minus_first_close  \n",
       "0                              59.4050  \n",
       "1                               0.2872  \n",
       "2                               4.5760  \n",
       "3                              24.1200  \n",
       "4                            9347.5200  \n",
       "5                              91.4600  \n",
       "6                               1.1862  \n",
       "7                               8.5550  \n",
       "8                             129.8900  \n",
       "9                              17.1470  \n",
       "10                              0.0001  "
      ]
     },
     "execution_count": 34,
     "metadata": {},
     "output_type": "execute_result"
    }
   ],
   "source": [
    "pd.DataFrame([\n",
    "    pd.Series({\n",
    "        'token': scrap['token'].data,\n",
    "        'volatility_AVG': scrap['prices'].data.volatility.mean(),\n",
    "        'return_AVG': scrap['prices'].data['return'].mean(),\n",
    "        'max_dropdown': scrap['prices'].data['maxdropdown'].min(),\n",
    "        'range_last_close_minus_first_close':abs(float(scrap['prices'].data['close'].head(1))-\\\n",
    "                                            float(scrap['prices'].data['close'].tail(1))),\n",
    "        }) \n",
    "    for book, scrap in nbs.notebook_scraps.items()\n",
    "])"
   ]
  },
  {
   "cell_type": "code",
   "execution_count": null,
   "id": "ec313da1-57a0-4cbb-b1f1-6138efdbf616",
   "metadata": {},
   "outputs": [],
   "source": [
    " "
   ]
  }
 ],
 "metadata": {
  "kernelspec": {
   "display_name": "Python 3",
   "language": "python",
   "name": "python3"
  },
  "language_info": {
   "codemirror_mode": {
    "name": "ipython",
    "version": 3
   },
   "file_extension": ".py",
   "mimetype": "text/x-python",
   "name": "python",
   "nbconvert_exporter": "python",
   "pygments_lexer": "ipython3",
   "version": "3.8.8"
  }
 },
 "nbformat": 4,
 "nbformat_minor": 5
}
