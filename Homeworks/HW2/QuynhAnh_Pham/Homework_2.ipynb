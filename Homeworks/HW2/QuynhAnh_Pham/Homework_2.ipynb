{
 "cells": [
  {
   "cell_type": "markdown",
   "id": "6609f98e-e6e9-4b9e-a5d1-893da2b3f4fe",
   "metadata": {},
   "source": [
    "## Homework 2\n",
    "by Quynh Anh Pham"
   ]
  },
  {
   "cell_type": "code",
   "execution_count": 9,
   "id": "2bc2c576-32b6-45d3-b546-0cae76fb34fe",
   "metadata": {},
   "outputs": [],
   "source": [
    "import pandas as pd\n",
    "import numpy as np\n",
    "import requests"
   ]
  },
  {
   "cell_type": "markdown",
   "id": "206203ca",
   "metadata": {},
   "source": [
    "1. Get the time series for the following cryptocurrencies from `cryptowat.ch` starting from 2021-11-22, hourly data\n",
    "    1. ETH\n",
    "    2. SOL\n",
    "    3. AVAX\n",
    "    4. USDT\n",
    "    5. FLOW"
   ]
  },
  {
   "cell_type": "code",
   "execution_count": 10,
   "id": "367ce613",
   "metadata": {},
   "outputs": [],
   "source": [
    "def get_data(token, start_date, exchange='coinbase-pro'):\n",
    "    res = requests.get(\n",
    "        f'https://api.cryptowat.ch/markets/{exchange}/{token}usd/ohlc',\n",
    "        params={\n",
    "            'periods': '3600',\n",
    "            'after': str(int(pd.Timestamp(start_date).timestamp()))\n",
    "        }\n",
    "    )\n",
    "\n",
    "    df = pd.DataFrame(\n",
    "        res.json()['result']['3600'],\n",
    "        columns=['ts', 'open', 'high', 'low', 'close', 'volume', 'volumeUSD']\n",
    "    )\n",
    "    df['ts'] = pd.to_datetime(df.ts, unit='s')\n",
    "    df['token'] = token\n",
    "    \n",
    "    return df\n"
   ]
  },
  {
   "cell_type": "code",
   "execution_count": 11,
   "id": "4ba44146",
   "metadata": {},
   "outputs": [],
   "source": [
    "cb_tokens = ['ETH', 'SOL', 'AVAX', 'USDT']\n",
    "kk_tokens = ['FLOW']\n",
    "start_date = '2021-11-22'\n",
    "\n",
    "tokens = cb_tokens + kk_tokens"
   ]
  },
  {
   "cell_type": "code",
   "execution_count": 12,
   "id": "c449db95",
   "metadata": {},
   "outputs": [],
   "source": [
    "df_cb = [get_data(token,start_date) for token in cb_tokens]\n",
    "df_kk = [get_data(token,start_date,'kraken') for token in kk_tokens]"
   ]
  },
  {
   "cell_type": "code",
   "execution_count": 13,
   "id": "9234c86a",
   "metadata": {},
   "outputs": [],
   "source": [
    "df_base = df_cb + df_kk"
   ]
  },
  {
   "cell_type": "code",
   "execution_count": 14,
   "id": "7cc7cef6",
   "metadata": {},
   "outputs": [
    {
     "data": {
      "text/plain": [
       "[                     ts     open     high      low    close        volume  \\\n",
       " 0   2021-11-22 00:00:00  4317.98  4342.24  4246.07  4262.99   7262.562789   \n",
       " 1   2021-11-22 01:00:00  4263.04  4270.34  4212.45  4234.37   8437.946084   \n",
       " 2   2021-11-22 02:00:00  4234.87  4246.72  4171.17  4217.89   9259.725370   \n",
       " 3   2021-11-22 03:00:00  4217.88  4223.48  4163.58  4193.47   9259.899519   \n",
       " 4   2021-11-22 04:00:00  4192.95  4213.59  4147.00  4168.35   7934.546906   \n",
       " ..                  ...      ...      ...      ...      ...           ...   \n",
       " 685 2021-12-20 13:00:00  3814.63  3815.80  3770.17  3782.86   4682.198085   \n",
       " 686 2021-12-20 14:00:00  3782.85  3811.00  3766.88  3776.87   5356.147003   \n",
       " 687 2021-12-20 15:00:00  3777.07  3848.53  3754.80  3840.19  17507.992019   \n",
       " 688 2021-12-20 16:00:00  3838.73  3842.00  3794.17  3801.41   6336.438977   \n",
       " 689 2021-12-20 17:00:00  3801.69  3810.23  3792.71  3806.83   1287.000212   \n",
       " \n",
       "         volumeUSD token  \n",
       " 0    3.123077e+07   ETH  \n",
       " 1    3.574586e+07   ETH  \n",
       " 2    3.895639e+07   ETH  \n",
       " 3    3.882032e+07   ETH  \n",
       " 4    3.315476e+07   ETH  \n",
       " ..            ...   ...  \n",
       " 685  1.773570e+07   ETH  \n",
       " 686  2.028810e+07   ETH  \n",
       " 687  6.657968e+07   ETH  \n",
       " 688  2.421678e+07   ETH  \n",
       " 689  4.893592e+06   ETH  \n",
       " \n",
       " [690 rows x 8 columns],\n",
       "                      ts     open     high      low    close      volume  \\\n",
       " 0   2021-11-22 00:00:00  230.483  234.688  228.805  230.785   93531.805   \n",
       " 1   2021-11-22 01:00:00  230.752  232.269  225.052  226.000   88840.999   \n",
       " 2   2021-11-22 02:00:00  225.952  227.996  223.812  227.037   95224.398   \n",
       " 3   2021-11-22 03:00:00  227.012  227.485  221.900  223.117   73456.342   \n",
       " 4   2021-11-22 04:00:00  223.129  224.545  220.080  220.652   78399.621   \n",
       " ..                  ...      ...      ...      ...      ...         ...   \n",
       " 685 2021-12-20 13:00:00  172.560  172.690  169.990  170.280   52359.869   \n",
       " 686 2021-12-20 14:00:00  170.300  171.690  169.880  170.070   52400.036   \n",
       " 687 2021-12-20 15:00:00  170.040  174.110  168.300  173.210  107929.250   \n",
       " 688 2021-12-20 16:00:00  173.210  173.210  169.750  170.010  105760.334   \n",
       " 689 2021-12-20 17:00:00  169.950  170.050  169.370  169.910   10529.416   \n",
       " \n",
       "         volumeUSD token  \n",
       " 0    2.172284e+07   SOL  \n",
       " 1    2.017188e+07   SOL  \n",
       " 2    2.153562e+07   SOL  \n",
       " 3    1.646345e+07   SOL  \n",
       " 4    1.742352e+07   SOL  \n",
       " ..            ...   ...  \n",
       " 685  8.947169e+06   SOL  \n",
       " 686  8.945045e+06   SOL  \n",
       " 687  1.842388e+07   SOL  \n",
       " 688  1.813690e+07   SOL  \n",
       " 689  1.787711e+06   SOL  \n",
       " \n",
       " [690 rows x 8 columns],\n",
       "                      ts    open    high     low   close      volume  \\\n",
       " 0   2021-11-22 00:00:00  131.69  133.79  127.70  128.67   96867.475   \n",
       " 1   2021-11-22 01:00:00  128.76  135.29  126.25  134.85  147179.928   \n",
       " 2   2021-11-22 02:00:00  134.81  136.87  129.92  132.54  141467.777   \n",
       " 3   2021-11-22 03:00:00  132.38  133.93  129.45  133.38   83917.025   \n",
       " 4   2021-11-22 04:00:00  133.46  137.50  132.16  136.29  138561.930   \n",
       " ..                  ...     ...     ...     ...     ...         ...   \n",
       " 685 2021-12-20 13:00:00  104.25  105.29  103.08  103.42   53933.341   \n",
       " 686 2021-12-20 14:00:00  103.48  104.57  102.57  103.07   45321.780   \n",
       " 687 2021-12-20 15:00:00  103.03  104.76  101.00  104.74   97487.032   \n",
       " 688 2021-12-20 16:00:00  104.75  108.59  103.73  103.96  141483.819   \n",
       " 689 2021-12-20 17:00:00  103.96  104.75  103.25  103.25   17528.125   \n",
       " \n",
       "         volumeUSD token  \n",
       " 0    1.267080e+07  AVAX  \n",
       " 1    1.915462e+07  AVAX  \n",
       " 2    1.887837e+07  AVAX  \n",
       " 3    1.106319e+07  AVAX  \n",
       " 4    1.878428e+07  AVAX  \n",
       " ..            ...   ...  \n",
       " 685  5.625570e+06  AVAX  \n",
       " 686  4.698991e+06  AVAX  \n",
       " 687  9.981248e+06  AVAX  \n",
       " 688  1.498381e+07  AVAX  \n",
       " 689  1.818441e+06  AVAX  \n",
       " \n",
       " [690 rows x 8 columns],\n",
       "                      ts    open    high     low   close       volume  \\\n",
       " 0   2021-11-22 00:00:00  1.0010  1.0017  1.0009  1.0012   9987681.09   \n",
       " 1   2021-11-22 01:00:00  1.0012  1.0014  1.0012  1.0013   7766318.34   \n",
       " 2   2021-11-22 02:00:00  1.0012  1.0013  1.0011  1.0012   7979323.48   \n",
       " 3   2021-11-22 03:00:00  1.0012  1.0014  1.0010  1.0011  10681505.84   \n",
       " 4   2021-11-22 04:00:00  1.0011  1.0011  1.0008  1.0009   3567405.96   \n",
       " ..                  ...     ...     ...     ...     ...          ...   \n",
       " 685 2021-12-20 13:00:00  1.0002  1.0003  1.0001  1.0003   1900757.86   \n",
       " 686 2021-12-20 14:00:00  1.0003  1.0003  1.0002  1.0002   2039519.59   \n",
       " 687 2021-12-20 15:00:00  1.0003  1.0003  1.0001  1.0002   3947974.22   \n",
       " 688 2021-12-20 16:00:00  1.0002  1.0003  1.0001  1.0002   2721014.88   \n",
       " 689 2021-12-20 17:00:00  1.0001  1.0002  1.0000  1.0002    445521.60   \n",
       " \n",
       "         volumeUSD token  \n",
       " 0    9.999090e+06  USDT  \n",
       " 1    7.775823e+06  USDT  \n",
       " 2    7.988793e+06  USDT  \n",
       " 3    1.069458e+07  USDT  \n",
       " 4    3.570749e+06  USDT  \n",
       " ..            ...   ...  \n",
       " 685  1.901157e+06  USDT  \n",
       " 686  2.040027e+06  USDT  \n",
       " 687  3.948786e+06  USDT  \n",
       " 688  2.721629e+06  USDT  \n",
       " 689  4.455811e+05  USDT  \n",
       " \n",
       " [690 rows x 8 columns],\n",
       "                      ts    open    high     low   close        volume  \\\n",
       " 0   2021-11-22 00:00:00  13.887  14.169  13.887  14.150  23261.381369   \n",
       " 1   2021-11-22 01:00:00  14.053  14.453  13.543  13.621  29108.788932   \n",
       " 2   2021-11-22 02:00:00  13.534  13.862  13.387  13.753  24737.688935   \n",
       " 3   2021-11-22 03:00:00  13.753  13.813  13.435  13.652  10224.587462   \n",
       " 4   2021-11-22 04:00:00  13.652  13.652  13.382  13.581   5998.121286   \n",
       " ..                  ...     ...     ...     ...     ...           ...   \n",
       " 685 2021-12-20 13:00:00   8.151   8.151   8.040   8.050   8386.948252   \n",
       " 686 2021-12-20 14:00:00   8.034   8.102   8.034   8.082   9405.328266   \n",
       " 687 2021-12-20 15:00:00   8.064   8.093   8.011   8.093  28745.660629   \n",
       " 688 2021-12-20 16:00:00   8.094   8.094   8.065   8.065   1810.701306   \n",
       " 689 2021-12-20 17:00:00   8.047   8.047   8.042   8.042    119.748030   \n",
       " \n",
       "          volumeUSD token  \n",
       " 0    327475.506965  FLOW  \n",
       " 1    411767.484368  FLOW  \n",
       " 2    338660.037818  FLOW  \n",
       " 3    139852.146013  FLOW  \n",
       " 4     81263.038401  FLOW  \n",
       " ..             ...   ...  \n",
       " 685   67903.921317  FLOW  \n",
       " 686   75974.829100  FLOW  \n",
       " 687  231373.426846  FLOW  \n",
       " 688   14628.336512  FLOW  \n",
       " 689     963.016155  FLOW  \n",
       " \n",
       " [690 rows x 8 columns]]"
      ]
     },
     "execution_count": 14,
     "metadata": {},
     "output_type": "execute_result"
    }
   ],
   "source": [
    "df_base"
   ]
  },
  {
   "cell_type": "code",
   "execution_count": 15,
   "id": "cd9559d3",
   "metadata": {},
   "outputs": [
    {
     "data": {
      "text/html": [
       "<div>\n",
       "<style scoped>\n",
       "    .dataframe tbody tr th:only-of-type {\n",
       "        vertical-align: middle;\n",
       "    }\n",
       "\n",
       "    .dataframe tbody tr th {\n",
       "        vertical-align: top;\n",
       "    }\n",
       "\n",
       "    .dataframe thead th {\n",
       "        text-align: right;\n",
       "    }\n",
       "</style>\n",
       "<table border=\"1\" class=\"dataframe\">\n",
       "  <thead>\n",
       "    <tr style=\"text-align: right;\">\n",
       "      <th></th>\n",
       "      <th>open</th>\n",
       "      <th>high</th>\n",
       "      <th>low</th>\n",
       "      <th>close</th>\n",
       "      <th>volume</th>\n",
       "      <th>volumeUSD</th>\n",
       "      <th>token</th>\n",
       "    </tr>\n",
       "    <tr>\n",
       "      <th>ts</th>\n",
       "      <th></th>\n",
       "      <th></th>\n",
       "      <th></th>\n",
       "      <th></th>\n",
       "      <th></th>\n",
       "      <th></th>\n",
       "      <th></th>\n",
       "    </tr>\n",
       "  </thead>\n",
       "  <tbody>\n",
       "    <tr>\n",
       "      <th>2021-11-22 00:00:00</th>\n",
       "      <td>4317.98</td>\n",
       "      <td>4342.24</td>\n",
       "      <td>4246.07</td>\n",
       "      <td>4262.99</td>\n",
       "      <td>7262.562789</td>\n",
       "      <td>3.123077e+07</td>\n",
       "      <td>ETH</td>\n",
       "    </tr>\n",
       "    <tr>\n",
       "      <th>2021-11-22 01:00:00</th>\n",
       "      <td>4263.04</td>\n",
       "      <td>4270.34</td>\n",
       "      <td>4212.45</td>\n",
       "      <td>4234.37</td>\n",
       "      <td>8437.946084</td>\n",
       "      <td>3.574586e+07</td>\n",
       "      <td>ETH</td>\n",
       "    </tr>\n",
       "    <tr>\n",
       "      <th>2021-11-22 02:00:00</th>\n",
       "      <td>4234.87</td>\n",
       "      <td>4246.72</td>\n",
       "      <td>4171.17</td>\n",
       "      <td>4217.89</td>\n",
       "      <td>9259.725370</td>\n",
       "      <td>3.895639e+07</td>\n",
       "      <td>ETH</td>\n",
       "    </tr>\n",
       "    <tr>\n",
       "      <th>2021-11-22 03:00:00</th>\n",
       "      <td>4217.88</td>\n",
       "      <td>4223.48</td>\n",
       "      <td>4163.58</td>\n",
       "      <td>4193.47</td>\n",
       "      <td>9259.899519</td>\n",
       "      <td>3.882032e+07</td>\n",
       "      <td>ETH</td>\n",
       "    </tr>\n",
       "    <tr>\n",
       "      <th>2021-11-22 04:00:00</th>\n",
       "      <td>4192.95</td>\n",
       "      <td>4213.59</td>\n",
       "      <td>4147.00</td>\n",
       "      <td>4168.35</td>\n",
       "      <td>7934.546906</td>\n",
       "      <td>3.315476e+07</td>\n",
       "      <td>ETH</td>\n",
       "    </tr>\n",
       "  </tbody>\n",
       "</table>\n",
       "</div>"
      ],
      "text/plain": [
       "                        open     high      low    close       volume  \\\n",
       "ts                                                                     \n",
       "2021-11-22 00:00:00  4317.98  4342.24  4246.07  4262.99  7262.562789   \n",
       "2021-11-22 01:00:00  4263.04  4270.34  4212.45  4234.37  8437.946084   \n",
       "2021-11-22 02:00:00  4234.87  4246.72  4171.17  4217.89  9259.725370   \n",
       "2021-11-22 03:00:00  4217.88  4223.48  4163.58  4193.47  9259.899519   \n",
       "2021-11-22 04:00:00  4192.95  4213.59  4147.00  4168.35  7934.546906   \n",
       "\n",
       "                        volumeUSD token  \n",
       "ts                                       \n",
       "2021-11-22 00:00:00  3.123077e+07   ETH  \n",
       "2021-11-22 01:00:00  3.574586e+07   ETH  \n",
       "2021-11-22 02:00:00  3.895639e+07   ETH  \n",
       "2021-11-22 03:00:00  3.882032e+07   ETH  \n",
       "2021-11-22 04:00:00  3.315476e+07   ETH  "
      ]
     },
     "execution_count": 15,
     "metadata": {},
     "output_type": "execute_result"
    }
   ],
   "source": [
    "df = pd.concat(df_base, keys='token').set_index('ts')\n",
    "\n",
    "df.head()"
   ]
  },
  {
   "cell_type": "markdown",
   "id": "bad3446b",
   "metadata": {},
   "source": [
    "2. Get the total USD volume traded for each token in a dataframe, sorted from highest volume to lowest volume"
   ]
  },
  {
   "cell_type": "code",
   "execution_count": null,
   "id": "e12d4bb9",
   "metadata": {},
   "outputs": [],
   "source": [
    "df_base.groupby('token')['volumeUSD'].sum().to_frame().sort_values('volumeUSD',ascending=False)"
   ]
  },
  {
   "cell_type": "markdown",
   "id": "1f6c36ec",
   "metadata": {},
   "source": [
    "3. Add a column that calculates the close price ratio between ETH and SOL for each hour (i.e. close price of ETH / close price of SOL for each period)"
   ]
  },
  {
   "cell_type": "code",
   "execution_count": null,
   "id": "6a9c392e",
   "metadata": {},
   "outputs": [],
   "source": [
    "# adding the ratio column to the existing data frame\n",
    "df['eth_sol_close_ratio'] = df[df['token']=='ETH']['close'] / df[df['token'] == 'SOL']['close']"
   ]
  },
  {
   "cell_type": "code",
   "execution_count": null,
   "id": "5d260abf",
   "metadata": {},
   "outputs": [],
   "source": [
    "# removing the values from every tokens other than ETH\n",
    "df['eth_sol_close_ratio'].loc[df.token != \"ETH\"] = np.nan"
   ]
  },
  {
   "cell_type": "code",
   "execution_count": null,
   "id": "5c876d7b",
   "metadata": {},
   "outputs": [],
   "source": [
    "df[df.token == \"ETH\"]"
   ]
  },
  {
   "cell_type": "code",
   "execution_count": null,
   "id": "ca4a15e2",
   "metadata": {},
   "outputs": [],
   "source": [
    "df[df.token != \"ETH\"]"
   ]
  },
  {
   "cell_type": "code",
   "execution_count": null,
   "id": "7b96b07b",
   "metadata": {},
   "outputs": [],
   "source": [
    "# Another view\n",
    "\n",
    "eth_sol = df[df.token==\"ETH\"][\"close\"].rename(\"close_ETH\").to_frame().join(\n",
    "    df[df.token==\"SOL\"][\"close\"].rename(\"close_SOL\").to_frame()\n",
    ")\n",
    "eth_sol['close_ratio']= eth_sol['close_ETH']/eth_sol['close_SOL']\n",
    "eth_sol"
   ]
  },
  {
   "cell_type": "markdown",
   "id": "f26ea054",
   "metadata": {},
   "source": [
    "4. Change the name of the `volume` and `volumeUSD` columns to `volumeBase` and `volumeTerm`"
   ]
  },
  {
   "cell_type": "code",
   "execution_count": null,
   "id": "8f391e2c",
   "metadata": {},
   "outputs": [],
   "source": [
    "df.rename(\n",
    "columns={\n",
    "    \"volume\":\"volumeBase\",\n",
    "    \"volumeUSD\": \"volumeTerm\"\n",
    "}\n",
    ")"
   ]
  },
  {
   "cell_type": "markdown",
   "id": "19c9d469",
   "metadata": {},
   "source": [
    "5. Create a fat table indexed by the timestamp, and each column is the close price of each token (i.e. this should be a table of  200 rows and 5 columns)\n"
   ]
  },
  {
   "cell_type": "code",
   "execution_count": null,
   "id": "5998965c",
   "metadata": {},
   "outputs": [],
   "source": [
    "# not sure why this is not working \n",
    "# df_fat = pd.DataFrame()\n",
    "\n",
    "for tok in tokens:\n",
    "    cls_coin = df[df.token == tok]['close'].rename(f'close_{tok}').to_frame()\n",
    "    if tok == tokens[0]:\n",
    "        df_fat = cls_coin\n",
    "    df_fat.merge(cls_coin, on='ts', how='left')\n",
    "#     print(df_fat)"
   ]
  },
  {
   "cell_type": "code",
   "execution_count": null,
   "id": "3535760a",
   "metadata": {},
   "outputs": [],
   "source": [
    "df_fat.head()"
   ]
  },
  {
   "cell_type": "code",
   "execution_count": null,
   "id": "b5c752b8",
   "metadata": {},
   "outputs": [],
   "source": [
    "# redo another method\n",
    "\n",
    "def clean_dataframe(original_df):\n",
    "    cleaned_df = original_df.set_index('ts')['close'].rename(f'close_{original_df.token[0]}').to_frame()\n",
    "    return cleaned_df \n",
    "\n"
   ]
  },
  {
   "cell_type": "code",
   "execution_count": null,
   "id": "60c6e640",
   "metadata": {},
   "outputs": [],
   "source": [
    "cleaned_dataframes = [clean_dataframe(original_df) for original_df in df_base]"
   ]
  },
  {
   "cell_type": "code",
   "execution_count": null,
   "id": "ba291875",
   "metadata": {},
   "outputs": [],
   "source": [
    "import functools"
   ]
  },
  {
   "cell_type": "code",
   "execution_count": null,
   "id": "a95f668e",
   "metadata": {},
   "outputs": [],
   "source": [
    "df_fat = functools.reduce(lambda a,b: a.join(b), cleaned_dataframes)\n",
    "df_fat"
   ]
  },
  {
   "cell_type": "markdown",
   "id": "a1f5a286",
   "metadata": {},
   "source": [
    "6. Calculate the hour by hour log return of the close price of each token (return is calculated by np.log(price_t / price_{t-1}))\n"
   ]
  },
  {
   "cell_type": "code",
   "execution_count": null,
   "id": "a3dd1a1b",
   "metadata": {},
   "outputs": [],
   "source": [
    "df_returns = pd.DataFrame()\n",
    "\n",
    "for tok in tokens:\n",
    "    df_returns[f'log_returns_{tok}'] = np.log(df_fat[f'close_{tok}']/df_fat[f'close_{tok}'].shift(1))\n",
    "    \n",
    "df_returns"
   ]
  },
  {
   "cell_type": "markdown",
   "id": "d9603c62",
   "metadata": {},
   "source": [
    "\n",
    "[Stretch] calculate the correlation of the tokens using the table above\n"
   ]
  },
  {
   "cell_type": "code",
   "execution_count": null,
   "id": "9a695acc",
   "metadata": {},
   "outputs": [],
   "source": [
    "df_returns.corr()"
   ]
  },
  {
   "cell_type": "markdown",
   "id": "f95f1bd3",
   "metadata": {},
   "source": [
    "\n",
    "[Stretch] visualize the correlation in a matplpotlib plot\n"
   ]
  },
  {
   "cell_type": "code",
   "execution_count": null,
   "id": "2614babe",
   "metadata": {},
   "outputs": [],
   "source": [
    "import matplotlib.pyplot as plt"
   ]
  },
  {
   "cell_type": "code",
   "execution_count": null,
   "id": "ab61492a",
   "metadata": {},
   "outputs": [],
   "source": [
    "plt.matshow(df_returns.corr())\n",
    "plt.show()"
   ]
  },
  {
   "cell_type": "code",
   "execution_count": null,
   "id": "07ce7032",
   "metadata": {},
   "outputs": [],
   "source": []
  }
 ],
 "metadata": {
  "kernelspec": {
   "display_name": "Python 3 (ipykernel)",
   "language": "python",
   "name": "python3"
  },
  "language_info": {
   "codemirror_mode": {
    "name": "ipython",
    "version": 3
   },
   "file_extension": ".py",
   "mimetype": "text/x-python",
   "name": "python",
   "nbconvert_exporter": "python",
   "pygments_lexer": "ipython3",
   "version": "3.8.12"
  }
 },
 "nbformat": 4,
 "nbformat_minor": 5
}
