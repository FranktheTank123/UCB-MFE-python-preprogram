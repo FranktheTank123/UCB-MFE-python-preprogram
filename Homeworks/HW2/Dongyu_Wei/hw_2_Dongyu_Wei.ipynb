{
 "cells": [
  {
   "cell_type": "code",
   "execution_count": 2,
   "metadata": {},
   "outputs": [],
   "source": [
    "import pandas as pd\n",
    "import numpy as np\n",
    "import requests"
   ]
  },
  {
   "cell_type": "code",
   "execution_count": 32,
   "metadata": {},
   "outputs": [],
   "source": [
    "def get_data(token):\n",
    "    res = requests.get(\n",
    "        f'https://api.cryptowat.ch/markets/coinbase-pro/{token}usd/ohlc',\n",
    "        params={\n",
    "            'periods': '3600',\n",
    "            'after': str(int(pd.Timestamp('2021-12-01').timestamp()))\n",
    "        }\n",
    "    )\n",
    "    if 'error' in res.json().keys():\n",
    "        res = requests.get(\n",
    "        f'https://api.cryptowat.ch/markets/kraken/{token}usd/ohlc',\n",
    "        params={\n",
    "            'periods': '3600',\n",
    "            'after': str(int(pd.Timestamp('2021-12-01').timestamp()))\n",
    "        }\n",
    "    )\n",
    "\n",
    "    df = pd.DataFrame(\n",
    "        res.json()['result']['3600'],\n",
    "        columns=['ts', 'open', 'high', 'low', 'close', 'volume', 'volumeUSD']\n",
    "    )\n",
    "    df['ts'] = pd.to_datetime(df.ts, unit='s')\n",
    "    df['token'] = token\n",
    "    \n",
    "    return df"
   ]
  },
  {
   "cell_type": "code",
   "execution_count": 3,
   "metadata": {},
   "outputs": [],
   "source": [
    "tokens = ['ETH','SOL','AVAX','USDT','FLOW']"
   ]
  },
  {
   "cell_type": "code",
   "execution_count": 33,
   "metadata": {},
   "outputs": [],
   "source": [
    "df_base = pd.concat(get_data(token) for token in tokens)"
   ]
  },
  {
   "cell_type": "code",
   "execution_count": 35,
   "metadata": {},
   "outputs": [
    {
     "data": {
      "text/html": [
       "<div>\n",
       "<style scoped>\n",
       "    .dataframe tbody tr th:only-of-type {\n",
       "        vertical-align: middle;\n",
       "    }\n",
       "\n",
       "    .dataframe tbody tr th {\n",
       "        vertical-align: top;\n",
       "    }\n",
       "\n",
       "    .dataframe thead th {\n",
       "        text-align: right;\n",
       "    }\n",
       "</style>\n",
       "<table border=\"1\" class=\"dataframe\">\n",
       "  <thead>\n",
       "    <tr style=\"text-align: right;\">\n",
       "      <th></th>\n",
       "      <th>ts</th>\n",
       "      <th>open</th>\n",
       "      <th>high</th>\n",
       "      <th>low</th>\n",
       "      <th>close</th>\n",
       "      <th>volume</th>\n",
       "      <th>volumeUSD</th>\n",
       "      <th>token</th>\n",
       "    </tr>\n",
       "  </thead>\n",
       "  <tbody>\n",
       "    <tr>\n",
       "      <th>0</th>\n",
       "      <td>2021-12-01 00:00:00</td>\n",
       "      <td>4656.62</td>\n",
       "      <td>4672.43</td>\n",
       "      <td>4624.16</td>\n",
       "      <td>4634.95</td>\n",
       "      <td>6013.006735</td>\n",
       "      <td>2.793321e+07</td>\n",
       "      <td>ETH</td>\n",
       "    </tr>\n",
       "    <tr>\n",
       "      <th>1</th>\n",
       "      <td>2021-12-01 01:00:00</td>\n",
       "      <td>4636.43</td>\n",
       "      <td>4736.90</td>\n",
       "      <td>4605.49</td>\n",
       "      <td>4729.10</td>\n",
       "      <td>13819.061610</td>\n",
       "      <td>6.487693e+07</td>\n",
       "      <td>ETH</td>\n",
       "    </tr>\n",
       "    <tr>\n",
       "      <th>2</th>\n",
       "      <td>2021-12-01 02:00:00</td>\n",
       "      <td>4729.10</td>\n",
       "      <td>4729.10</td>\n",
       "      <td>4684.49</td>\n",
       "      <td>4695.78</td>\n",
       "      <td>7491.465440</td>\n",
       "      <td>3.524161e+07</td>\n",
       "      <td>ETH</td>\n",
       "    </tr>\n",
       "    <tr>\n",
       "      <th>3</th>\n",
       "      <td>2021-12-01 03:00:00</td>\n",
       "      <td>4695.78</td>\n",
       "      <td>4754.97</td>\n",
       "      <td>4672.30</td>\n",
       "      <td>4754.09</td>\n",
       "      <td>10530.834423</td>\n",
       "      <td>4.963273e+07</td>\n",
       "      <td>ETH</td>\n",
       "    </tr>\n",
       "    <tr>\n",
       "      <th>4</th>\n",
       "      <td>2021-12-01 04:00:00</td>\n",
       "      <td>4754.09</td>\n",
       "      <td>4774.74</td>\n",
       "      <td>4722.02</td>\n",
       "      <td>4764.59</td>\n",
       "      <td>12471.624735</td>\n",
       "      <td>5.924627e+07</td>\n",
       "      <td>ETH</td>\n",
       "    </tr>\n",
       "  </tbody>\n",
       "</table>\n",
       "</div>"
      ],
      "text/plain": [
       "                   ts     open     high      low    close        volume  \\\n",
       "0 2021-12-01 00:00:00  4656.62  4672.43  4624.16  4634.95   6013.006735   \n",
       "1 2021-12-01 01:00:00  4636.43  4736.90  4605.49  4729.10  13819.061610   \n",
       "2 2021-12-01 02:00:00  4729.10  4729.10  4684.49  4695.78   7491.465440   \n",
       "3 2021-12-01 03:00:00  4695.78  4754.97  4672.30  4754.09  10530.834423   \n",
       "4 2021-12-01 04:00:00  4754.09  4774.74  4722.02  4764.59  12471.624735   \n",
       "\n",
       "      volumeUSD token  \n",
       "0  2.793321e+07   ETH  \n",
       "1  6.487693e+07   ETH  \n",
       "2  3.524161e+07   ETH  \n",
       "3  4.963273e+07   ETH  \n",
       "4  5.924627e+07   ETH  "
      ]
     },
     "execution_count": 35,
     "metadata": {},
     "output_type": "execute_result"
    }
   ],
   "source": [
    "#show the total df\n",
    "df_base.head()"
   ]
  },
  {
   "cell_type": "code",
   "execution_count": 39,
   "metadata": {},
   "outputs": [
    {
     "data": {
      "text/plain": [
       "token\n",
       "ETH     1.418135e+10\n",
       "SOL     4.485754e+09\n",
       "AVAX    1.809343e+09\n",
       "USDT    1.091270e+09\n",
       "FLOW    4.878989e+07\n",
       "Name: volumeUSD, dtype: float64"
      ]
     },
     "execution_count": 39,
     "metadata": {},
     "output_type": "execute_result"
    }
   ],
   "source": [
    "#Get the total USD volume traded for each token in a dataframe, sorted from highest volume to lowest volume\n",
    "df_base.groupby('token')['volumeUSD'].sum().sort_values(ascending = False)"
   ]
  },
  {
   "cell_type": "code",
   "execution_count": 41,
   "metadata": {},
   "outputs": [],
   "source": [
    "df_token = {}\n",
    "for token in tokens:\n",
    "    df_token[token] = get_data(token)\n",
    "df_eth_sol = pd.merge(df_token['ETH'],df_token['SOL'],on='ts')"
   ]
  },
  {
   "cell_type": "code",
   "execution_count": 55,
   "metadata": {},
   "outputs": [],
   "source": [
    "df_eth_sol = df_eth_sol.set_index('ts')\n",
    "df_eth_sol = df_eth_sol[['close_x','close_y']]\n",
    "df_eth_sol.columns = ['close_eth','close_sol']"
   ]
  },
  {
   "cell_type": "code",
   "execution_count": 57,
   "metadata": {},
   "outputs": [],
   "source": [
    "df_eth_sol['close_ratio'] = df_eth_sol.close_eth/df_eth_sol.close_sol"
   ]
  },
  {
   "cell_type": "code",
   "execution_count": 59,
   "metadata": {},
   "outputs": [
    {
     "data": {
      "text/html": [
       "<div>\n",
       "<style scoped>\n",
       "    .dataframe tbody tr th:only-of-type {\n",
       "        vertical-align: middle;\n",
       "    }\n",
       "\n",
       "    .dataframe tbody tr th {\n",
       "        vertical-align: top;\n",
       "    }\n",
       "\n",
       "    .dataframe thead th {\n",
       "        text-align: right;\n",
       "    }\n",
       "</style>\n",
       "<table border=\"1\" class=\"dataframe\">\n",
       "  <thead>\n",
       "    <tr style=\"text-align: right;\">\n",
       "      <th></th>\n",
       "      <th>close_eth</th>\n",
       "      <th>close_sol</th>\n",
       "      <th>close_ratio</th>\n",
       "    </tr>\n",
       "    <tr>\n",
       "      <th>ts</th>\n",
       "      <th></th>\n",
       "      <th></th>\n",
       "      <th></th>\n",
       "    </tr>\n",
       "  </thead>\n",
       "  <tbody>\n",
       "    <tr>\n",
       "      <th>2021-12-01 00:00:00</th>\n",
       "      <td>4634.95</td>\n",
       "      <td>208.676</td>\n",
       "      <td>22.211227</td>\n",
       "    </tr>\n",
       "    <tr>\n",
       "      <th>2021-12-01 01:00:00</th>\n",
       "      <td>4729.10</td>\n",
       "      <td>211.507</td>\n",
       "      <td>22.359071</td>\n",
       "    </tr>\n",
       "    <tr>\n",
       "      <th>2021-12-01 02:00:00</th>\n",
       "      <td>4695.78</td>\n",
       "      <td>210.868</td>\n",
       "      <td>22.268813</td>\n",
       "    </tr>\n",
       "    <tr>\n",
       "      <th>2021-12-01 03:00:00</th>\n",
       "      <td>4754.09</td>\n",
       "      <td>214.150</td>\n",
       "      <td>22.199813</td>\n",
       "    </tr>\n",
       "    <tr>\n",
       "      <th>2021-12-01 04:00:00</th>\n",
       "      <td>4764.59</td>\n",
       "      <td>215.176</td>\n",
       "      <td>22.142758</td>\n",
       "    </tr>\n",
       "  </tbody>\n",
       "</table>\n",
       "</div>"
      ],
      "text/plain": [
       "                     close_eth  close_sol  close_ratio\n",
       "ts                                                    \n",
       "2021-12-01 00:00:00    4634.95    208.676    22.211227\n",
       "2021-12-01 01:00:00    4729.10    211.507    22.359071\n",
       "2021-12-01 02:00:00    4695.78    210.868    22.268813\n",
       "2021-12-01 03:00:00    4754.09    214.150    22.199813\n",
       "2021-12-01 04:00:00    4764.59    215.176    22.142758"
      ]
     },
     "execution_count": 59,
     "metadata": {},
     "output_type": "execute_result"
    }
   ],
   "source": [
    "#Add a column that calculates the close price ratio \n",
    "#between ETH and SOL for each house (i.e. close price of ETH / close price of SOL for each period)\n",
    "df_eth_sol.head()"
   ]
  },
  {
   "cell_type": "code",
   "execution_count": 64,
   "metadata": {},
   "outputs": [],
   "source": [
    "#Change the name of the volume and volumeUSD columns to volumeBase and volumeTerm\n",
    "df_base = df_base.rename(columns ={\n",
    "    'volume':'volumeBase',\n",
    "    'volumeUSD':'volumeTerm'\n",
    "})"
   ]
  },
  {
   "cell_type": "code",
   "execution_count": 66,
   "metadata": {},
   "outputs": [],
   "source": [
    "df_base_close = df_base[['ts','close','token']]"
   ]
  },
  {
   "cell_type": "code",
   "execution_count": 85,
   "metadata": {},
   "outputs": [],
   "source": [
    "#create a fat table indexed by the timestamp, and each column is the close price of each token \n",
    "#(i.e. this should be a table of 200 rows and 5 columns)\n",
    "df_base_close = df_base_close.set_index(['ts','token']).unstack()['close']"
   ]
  },
  {
   "cell_type": "code",
   "execution_count": 90,
   "metadata": {},
   "outputs": [],
   "source": [
    "def logreturn(df):\n",
    "    df['logreturn'] = np.log(df['close']/df['close'].shift(1))\n",
    "    return df\n",
    "df_base_return = df_base.groupby('token').apply(lambda x: logreturn(x))"
   ]
  },
  {
   "cell_type": "code",
   "execution_count": 92,
   "metadata": {},
   "outputs": [
    {
     "data": {
      "text/html": [
       "<div>\n",
       "<style scoped>\n",
       "    .dataframe tbody tr th:only-of-type {\n",
       "        vertical-align: middle;\n",
       "    }\n",
       "\n",
       "    .dataframe tbody tr th {\n",
       "        vertical-align: top;\n",
       "    }\n",
       "\n",
       "    .dataframe thead th {\n",
       "        text-align: right;\n",
       "    }\n",
       "</style>\n",
       "<table border=\"1\" class=\"dataframe\">\n",
       "  <thead>\n",
       "    <tr style=\"text-align: right;\">\n",
       "      <th></th>\n",
       "      <th>ts</th>\n",
       "      <th>open</th>\n",
       "      <th>high</th>\n",
       "      <th>low</th>\n",
       "      <th>close</th>\n",
       "      <th>volumeBase</th>\n",
       "      <th>volumeTerm</th>\n",
       "      <th>token</th>\n",
       "      <th>logreturn</th>\n",
       "    </tr>\n",
       "  </thead>\n",
       "  <tbody>\n",
       "    <tr>\n",
       "      <th>0</th>\n",
       "      <td>2021-12-01 00:00:00</td>\n",
       "      <td>120.52</td>\n",
       "      <td>122.69</td>\n",
       "      <td>120.40</td>\n",
       "      <td>121.22</td>\n",
       "      <td>58982.875</td>\n",
       "      <td>7.178868e+06</td>\n",
       "      <td>AVAX</td>\n",
       "      <td>NaN</td>\n",
       "    </tr>\n",
       "    <tr>\n",
       "      <th>1</th>\n",
       "      <td>2021-12-01 01:00:00</td>\n",
       "      <td>121.28</td>\n",
       "      <td>124.40</td>\n",
       "      <td>120.49</td>\n",
       "      <td>124.06</td>\n",
       "      <td>66106.301</td>\n",
       "      <td>8.146064e+06</td>\n",
       "      <td>AVAX</td>\n",
       "      <td>0.023158</td>\n",
       "    </tr>\n",
       "    <tr>\n",
       "      <th>2</th>\n",
       "      <td>2021-12-01 02:00:00</td>\n",
       "      <td>124.07</td>\n",
       "      <td>127.18</td>\n",
       "      <td>123.88</td>\n",
       "      <td>127.09</td>\n",
       "      <td>80354.716</td>\n",
       "      <td>1.008255e+07</td>\n",
       "      <td>AVAX</td>\n",
       "      <td>0.024130</td>\n",
       "    </tr>\n",
       "    <tr>\n",
       "      <th>3</th>\n",
       "      <td>2021-12-01 03:00:00</td>\n",
       "      <td>127.07</td>\n",
       "      <td>127.59</td>\n",
       "      <td>122.84</td>\n",
       "      <td>124.59</td>\n",
       "      <td>82091.857</td>\n",
       "      <td>1.023314e+07</td>\n",
       "      <td>AVAX</td>\n",
       "      <td>-0.019867</td>\n",
       "    </tr>\n",
       "    <tr>\n",
       "      <th>4</th>\n",
       "      <td>2021-12-01 04:00:00</td>\n",
       "      <td>124.48</td>\n",
       "      <td>126.65</td>\n",
       "      <td>123.34</td>\n",
       "      <td>125.72</td>\n",
       "      <td>91628.118</td>\n",
       "      <td>1.146038e+07</td>\n",
       "      <td>AVAX</td>\n",
       "      <td>0.009029</td>\n",
       "    </tr>\n",
       "  </tbody>\n",
       "</table>\n",
       "</div>"
      ],
      "text/plain": [
       "                   ts    open    high     low   close  volumeBase  \\\n",
       "0 2021-12-01 00:00:00  120.52  122.69  120.40  121.22   58982.875   \n",
       "1 2021-12-01 01:00:00  121.28  124.40  120.49  124.06   66106.301   \n",
       "2 2021-12-01 02:00:00  124.07  127.18  123.88  127.09   80354.716   \n",
       "3 2021-12-01 03:00:00  127.07  127.59  122.84  124.59   82091.857   \n",
       "4 2021-12-01 04:00:00  124.48  126.65  123.34  125.72   91628.118   \n",
       "\n",
       "     volumeTerm token  logreturn  \n",
       "0  7.178868e+06  AVAX        NaN  \n",
       "1  8.146064e+06  AVAX   0.023158  \n",
       "2  1.008255e+07  AVAX   0.024130  \n",
       "3  1.023314e+07  AVAX  -0.019867  \n",
       "4  1.146038e+07  AVAX   0.009029  "
      ]
     },
     "execution_count": 92,
     "metadata": {},
     "output_type": "execute_result"
    }
   ],
   "source": [
    "#calculate the hour by hour log return of the close price of each token (return is calculated by np.log(price_t / price_{t-1}))\n",
    "df_base_return.head()"
   ]
  },
  {
   "cell_type": "code",
   "execution_count": 99,
   "metadata": {},
   "outputs": [
    {
     "data": {
      "text/html": [
       "<div>\n",
       "<style scoped>\n",
       "    .dataframe tbody tr th:only-of-type {\n",
       "        vertical-align: middle;\n",
       "    }\n",
       "\n",
       "    .dataframe tbody tr th {\n",
       "        vertical-align: top;\n",
       "    }\n",
       "\n",
       "    .dataframe thead th {\n",
       "        text-align: right;\n",
       "    }\n",
       "</style>\n",
       "<table border=\"1\" class=\"dataframe\">\n",
       "  <thead>\n",
       "    <tr style=\"text-align: right;\">\n",
       "      <th>token</th>\n",
       "      <th>AVAX</th>\n",
       "      <th>ETH</th>\n",
       "      <th>FLOW</th>\n",
       "      <th>SOL</th>\n",
       "      <th>USDT</th>\n",
       "    </tr>\n",
       "    <tr>\n",
       "      <th>token</th>\n",
       "      <th></th>\n",
       "      <th></th>\n",
       "      <th></th>\n",
       "      <th></th>\n",
       "      <th></th>\n",
       "    </tr>\n",
       "  </thead>\n",
       "  <tbody>\n",
       "    <tr>\n",
       "      <th>AVAX</th>\n",
       "      <td>1.000000</td>\n",
       "      <td>0.877038</td>\n",
       "      <td>0.969869</td>\n",
       "      <td>0.880892</td>\n",
       "      <td>0.109355</td>\n",
       "    </tr>\n",
       "    <tr>\n",
       "      <th>ETH</th>\n",
       "      <td>0.877038</td>\n",
       "      <td>1.000000</td>\n",
       "      <td>0.889858</td>\n",
       "      <td>0.864858</td>\n",
       "      <td>0.119904</td>\n",
       "    </tr>\n",
       "    <tr>\n",
       "      <th>FLOW</th>\n",
       "      <td>0.969869</td>\n",
       "      <td>0.889858</td>\n",
       "      <td>1.000000</td>\n",
       "      <td>0.921420</td>\n",
       "      <td>0.083820</td>\n",
       "    </tr>\n",
       "    <tr>\n",
       "      <th>SOL</th>\n",
       "      <td>0.880892</td>\n",
       "      <td>0.864858</td>\n",
       "      <td>0.921420</td>\n",
       "      <td>1.000000</td>\n",
       "      <td>0.313074</td>\n",
       "    </tr>\n",
       "    <tr>\n",
       "      <th>USDT</th>\n",
       "      <td>0.109355</td>\n",
       "      <td>0.119904</td>\n",
       "      <td>0.083820</td>\n",
       "      <td>0.313074</td>\n",
       "      <td>1.000000</td>\n",
       "    </tr>\n",
       "  </tbody>\n",
       "</table>\n",
       "</div>"
      ],
      "text/plain": [
       "token      AVAX       ETH      FLOW       SOL      USDT\n",
       "token                                                  \n",
       "AVAX   1.000000  0.877038  0.969869  0.880892  0.109355\n",
       "ETH    0.877038  1.000000  0.889858  0.864858  0.119904\n",
       "FLOW   0.969869  0.889858  1.000000  0.921420  0.083820\n",
       "SOL    0.880892  0.864858  0.921420  1.000000  0.313074\n",
       "USDT   0.109355  0.119904  0.083820  0.313074  1.000000"
      ]
     },
     "execution_count": 99,
     "metadata": {},
     "output_type": "execute_result"
    }
   ],
   "source": [
    "#calculate the correlation of the tokens using the table above\n",
    "df_base_close.corr()"
   ]
  },
  {
   "cell_type": "code",
   "execution_count": 100,
   "metadata": {},
   "outputs": [],
   "source": [
    "import seaborn as sns"
   ]
  },
  {
   "cell_type": "code",
   "execution_count": 101,
   "metadata": {},
   "outputs": [
    {
     "data": {
      "text/plain": [
       "<matplotlib.axes._subplots.AxesSubplot at 0x201ffdef6d8>"
      ]
     },
     "execution_count": 101,
     "metadata": {},
     "output_type": "execute_result"
    },
    {
     "data": {
      "image/png": "[encoded data removed]",
      "text/plain": [
       "<Figure size 432x288 with 2 Axes>"
      ]
     },
     "metadata": {
      "needs_background": "light"
     },
     "output_type": "display_data"
    }
   ],
   "source": [
    "#visualize the correlation in a matplpotlib plot\n",
    "sns.heatmap(df_base_close.corr(), cmap='Blues', annot=True)"
   ]
  },
  {
   "cell_type": "code",
   "execution_count": null,
   "metadata": {},
   "outputs": [],
   "source": []
  }
 ],
 "metadata": {
  "kernelspec": {
   "display_name": "Python 3",
   "language": "python",
   "name": "python3"
  },
  "language_info": {
   "codemirror_mode": {
    "name": "ipython",
    "version": 3
   },
   "file_extension": ".py",
   "mimetype": "text/x-python",
   "name": "python",
   "nbconvert_exporter": "python",
   "pygments_lexer": "ipython3",
   "version": "3.7.0"
  }
 },
 "nbformat": 4,
 "nbformat_minor": 2
}
