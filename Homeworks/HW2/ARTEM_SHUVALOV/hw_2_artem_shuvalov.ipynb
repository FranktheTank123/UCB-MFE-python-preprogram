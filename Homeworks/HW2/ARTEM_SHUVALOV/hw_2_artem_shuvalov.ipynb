{
 "cells": [
  {
   "cell_type": "code",
   "execution_count": 1,
   "id": "9b1ba6e7",
   "metadata": {},
   "outputs": [],
   "source": [
    "import pandas as pd\n",
    "import numpy as np\n",
    "import requests\n",
    "import matplotlib.pyplot as plt"
   ]
  },
  {
   "cell_type": "markdown",
   "id": "df688a2d",
   "metadata": {},
   "source": [
    "Get the time series for the following cryptocurrencies from cryptowat.ch starting from 2021-11-22, hourly data\n",
    "- ETH\n",
    "- SOL\n",
    "- AVAX\n",
    "- USDT\n",
    "- FLOW"
   ]
  },
  {
   "cell_type": "code",
   "execution_count": 2,
   "id": "0268fe58",
   "metadata": {},
   "outputs": [],
   "source": [
    "def get_data(token, exchange, date='2021-11-22'):\n",
    "    res = requests.get(\n",
    "        f'https://api.cryptowat.ch/markets/{exchange}/{token}usd/ohlc',\n",
    "        params={\n",
    "            'periods': '3600',\n",
    "            'after': str(int(pd.Timestamp(date).timestamp()))\n",
    "        }\n",
    "    )\n",
    "\n",
    "    df = pd.DataFrame(\n",
    "        res.json()['result']['3600'],\n",
    "        columns=['ts', 'open', 'high', 'low', 'close', 'volume', 'volumeUSD']\n",
    "    )\n",
    "    df['ts'] = pd.to_datetime(df.ts, unit='s')\n",
    "    df['token'] = token\n",
    "    \n",
    "    return df"
   ]
  },
  {
   "cell_type": "code",
   "execution_count": 3,
   "id": "8195c9aa",
   "metadata": {},
   "outputs": [],
   "source": [
    "tokens = ['ETH', 'SOL', 'AVAX', 'USDT', 'FLOW']"
   ]
  },
  {
   "cell_type": "code",
   "execution_count": 4,
   "id": "0e63aabb",
   "metadata": {},
   "outputs": [],
   "source": [
    "df_base = pd.concat(get_data(token, 'coinbase-pro') for token in tokens if token != 'FLOW')\n",
    "df_base = pd.concat([df_base, get_data('FLOW', 'kraken')])"
   ]
  },
  {
   "cell_type": "code",
   "execution_count": 5,
   "id": "1693cdde",
   "metadata": {},
   "outputs": [],
   "source": [
    "df = df_base.set_index('ts')"
   ]
  },
  {
   "cell_type": "code",
   "execution_count": 6,
   "id": "48434b56",
   "metadata": {},
   "outputs": [
    {
     "data": {
      "text/html": [
       "<div>\n",
       "<style scoped>\n",
       "    .dataframe tbody tr th:only-of-type {\n",
       "        vertical-align: middle;\n",
       "    }\n",
       "\n",
       "    .dataframe tbody tr th {\n",
       "        vertical-align: top;\n",
       "    }\n",
       "\n",
       "    .dataframe thead th {\n",
       "        text-align: right;\n",
       "    }\n",
       "</style>\n",
       "<table border=\"1\" class=\"dataframe\">\n",
       "  <thead>\n",
       "    <tr style=\"text-align: right;\">\n",
       "      <th></th>\n",
       "      <th>ts</th>\n",
       "      <th>open</th>\n",
       "      <th>high</th>\n",
       "      <th>low</th>\n",
       "      <th>close</th>\n",
       "      <th>volume</th>\n",
       "      <th>volumeUSD</th>\n",
       "      <th>token</th>\n",
       "    </tr>\n",
       "  </thead>\n",
       "  <tbody>\n",
       "    <tr>\n",
       "      <th>0</th>\n",
       "      <td>2021-11-22 00:00:00</td>\n",
       "      <td>4317.98</td>\n",
       "      <td>4342.24</td>\n",
       "      <td>4246.07</td>\n",
       "      <td>4262.99</td>\n",
       "      <td>7262.562789</td>\n",
       "      <td>3.123077e+07</td>\n",
       "      <td>ETH</td>\n",
       "    </tr>\n",
       "    <tr>\n",
       "      <th>1</th>\n",
       "      <td>2021-11-22 01:00:00</td>\n",
       "      <td>4263.04</td>\n",
       "      <td>4270.34</td>\n",
       "      <td>4212.45</td>\n",
       "      <td>4234.37</td>\n",
       "      <td>8437.946084</td>\n",
       "      <td>3.574586e+07</td>\n",
       "      <td>ETH</td>\n",
       "    </tr>\n",
       "    <tr>\n",
       "      <th>2</th>\n",
       "      <td>2021-11-22 02:00:00</td>\n",
       "      <td>4234.87</td>\n",
       "      <td>4246.72</td>\n",
       "      <td>4171.17</td>\n",
       "      <td>4217.89</td>\n",
       "      <td>9259.725370</td>\n",
       "      <td>3.895639e+07</td>\n",
       "      <td>ETH</td>\n",
       "    </tr>\n",
       "    <tr>\n",
       "      <th>3</th>\n",
       "      <td>2021-11-22 03:00:00</td>\n",
       "      <td>4217.88</td>\n",
       "      <td>4223.48</td>\n",
       "      <td>4163.58</td>\n",
       "      <td>4193.47</td>\n",
       "      <td>9259.899519</td>\n",
       "      <td>3.882032e+07</td>\n",
       "      <td>ETH</td>\n",
       "    </tr>\n",
       "    <tr>\n",
       "      <th>4</th>\n",
       "      <td>2021-11-22 04:00:00</td>\n",
       "      <td>4192.95</td>\n",
       "      <td>4213.59</td>\n",
       "      <td>4147.00</td>\n",
       "      <td>4168.35</td>\n",
       "      <td>7934.546906</td>\n",
       "      <td>3.315476e+07</td>\n",
       "      <td>ETH</td>\n",
       "    </tr>\n",
       "  </tbody>\n",
       "</table>\n",
       "</div>"
      ],
      "text/plain": [
       "                   ts     open     high      low    close       volume  \\\n",
       "0 2021-11-22 00:00:00  4317.98  4342.24  4246.07  4262.99  7262.562789   \n",
       "1 2021-11-22 01:00:00  4263.04  4270.34  4212.45  4234.37  8437.946084   \n",
       "2 2021-11-22 02:00:00  4234.87  4246.72  4171.17  4217.89  9259.725370   \n",
       "3 2021-11-22 03:00:00  4217.88  4223.48  4163.58  4193.47  9259.899519   \n",
       "4 2021-11-22 04:00:00  4192.95  4213.59  4147.00  4168.35  7934.546906   \n",
       "\n",
       "      volumeUSD token  \n",
       "0  3.123077e+07   ETH  \n",
       "1  3.574586e+07   ETH  \n",
       "2  3.895639e+07   ETH  \n",
       "3  3.882032e+07   ETH  \n",
       "4  3.315476e+07   ETH  "
      ]
     },
     "execution_count": 6,
     "metadata": {},
     "output_type": "execute_result"
    }
   ],
   "source": [
    "df_base.head()"
   ]
  },
  {
   "cell_type": "markdown",
   "id": "a218684b",
   "metadata": {},
   "source": [
    "Get the total USD volume traded for each token in a dataframe, sorted from highest volume to lowest volumem"
   ]
  },
  {
   "cell_type": "code",
   "execution_count": 7,
   "id": "e9391091",
   "metadata": {},
   "outputs": [
    {
     "data": {
      "text/html": [
       "<style  type=\"text/css\" >\n",
       "</style><table id=\"T_de32e_\" ><thead>    <tr>        <th class=\"blank level0\" ></th>        <th class=\"col_heading level0 col0\" >volumeUSD</th>    </tr>    <tr>        <th class=\"index_name level0\" >token</th>        <th class=\"blank\" ></th>    </tr></thead><tbody>\n",
       "                <tr>\n",
       "                        <th id=\"T_de32e_level0_row0\" class=\"row_heading level0 row0\" >ETH</th>\n",
       "                        <td id=\"T_de32e_row0_col0\" class=\"data row0 col0\" >25,045,738,307</td>\n",
       "            </tr>\n",
       "            <tr>\n",
       "                        <th id=\"T_de32e_level0_row1\" class=\"row_heading level0 row1\" >SOL</th>\n",
       "                        <td id=\"T_de32e_row1_col0\" class=\"data row1 col0\" >8,202,271,129</td>\n",
       "            </tr>\n",
       "            <tr>\n",
       "                        <th id=\"T_de32e_level0_row2\" class=\"row_heading level0 row2\" >AVAX</th>\n",
       "                        <td id=\"T_de32e_row2_col0\" class=\"data row2 col0\" >4,451,007,538</td>\n",
       "            </tr>\n",
       "            <tr>\n",
       "                        <th id=\"T_de32e_level0_row3\" class=\"row_heading level0 row3\" >USDT</th>\n",
       "                        <td id=\"T_de32e_row3_col0\" class=\"data row3 col0\" >2,271,357,670</td>\n",
       "            </tr>\n",
       "            <tr>\n",
       "                        <th id=\"T_de32e_level0_row4\" class=\"row_heading level0 row4\" >FLOW</th>\n",
       "                        <td id=\"T_de32e_row4_col0\" class=\"data row4 col0\" >96,873,996</td>\n",
       "            </tr>\n",
       "    </tbody></table>"
      ],
      "text/plain": [
       "<pandas.io.formats.style.Styler at 0x7f805587b550>"
      ]
     },
     "execution_count": 7,
     "metadata": {},
     "output_type": "execute_result"
    }
   ],
   "source": [
    "df.groupby('token').sum()['volumeUSD'].to_frame().sort_values('volumeUSD', \n",
    "                                                              ascending=False).style.format(\"{:,.0f}\")"
   ]
  },
  {
   "cell_type": "markdown",
   "id": "90bbb5cb",
   "metadata": {},
   "source": [
    "Add a column that calculates the close price ratio between ETH and SOL for each house (i.e. close price of ETH / close price of SOL for each period)"
   ]
  },
  {
   "cell_type": "code",
   "execution_count": 8,
   "id": "ca380e66",
   "metadata": {},
   "outputs": [],
   "source": [
    "df['EthSolSpread'] = (df[df['token']=='ETH']['close'] / df[df['token']=='SOL']['close'])"
   ]
  },
  {
   "cell_type": "code",
   "execution_count": 9,
   "id": "a1d5b908",
   "metadata": {},
   "outputs": [
    {
     "data": {
      "text/html": [
       "<div>\n",
       "<style scoped>\n",
       "    .dataframe tbody tr th:only-of-type {\n",
       "        vertical-align: middle;\n",
       "    }\n",
       "\n",
       "    .dataframe tbody tr th {\n",
       "        vertical-align: top;\n",
       "    }\n",
       "\n",
       "    .dataframe thead th {\n",
       "        text-align: right;\n",
       "    }\n",
       "</style>\n",
       "<table border=\"1\" class=\"dataframe\">\n",
       "  <thead>\n",
       "    <tr style=\"text-align: right;\">\n",
       "      <th></th>\n",
       "      <th>open</th>\n",
       "      <th>high</th>\n",
       "      <th>low</th>\n",
       "      <th>close</th>\n",
       "      <th>volume</th>\n",
       "      <th>volumeUSD</th>\n",
       "      <th>token</th>\n",
       "      <th>EthSolSpread</th>\n",
       "    </tr>\n",
       "    <tr>\n",
       "      <th>ts</th>\n",
       "      <th></th>\n",
       "      <th></th>\n",
       "      <th></th>\n",
       "      <th></th>\n",
       "      <th></th>\n",
       "      <th></th>\n",
       "      <th></th>\n",
       "      <th></th>\n",
       "    </tr>\n",
       "  </thead>\n",
       "  <tbody>\n",
       "    <tr>\n",
       "      <th>2021-11-22 00:00:00</th>\n",
       "      <td>4317.98</td>\n",
       "      <td>4342.24</td>\n",
       "      <td>4246.07</td>\n",
       "      <td>4262.99</td>\n",
       "      <td>7262.562789</td>\n",
       "      <td>3.123077e+07</td>\n",
       "      <td>ETH</td>\n",
       "      <td>18.471694</td>\n",
       "    </tr>\n",
       "    <tr>\n",
       "      <th>2021-11-22 01:00:00</th>\n",
       "      <td>4263.04</td>\n",
       "      <td>4270.34</td>\n",
       "      <td>4212.45</td>\n",
       "      <td>4234.37</td>\n",
       "      <td>8437.946084</td>\n",
       "      <td>3.574586e+07</td>\n",
       "      <td>ETH</td>\n",
       "      <td>18.736150</td>\n",
       "    </tr>\n",
       "    <tr>\n",
       "      <th>2021-11-22 02:00:00</th>\n",
       "      <td>4234.87</td>\n",
       "      <td>4246.72</td>\n",
       "      <td>4171.17</td>\n",
       "      <td>4217.89</td>\n",
       "      <td>9259.725370</td>\n",
       "      <td>3.895639e+07</td>\n",
       "      <td>ETH</td>\n",
       "      <td>18.577985</td>\n",
       "    </tr>\n",
       "    <tr>\n",
       "      <th>2021-11-22 03:00:00</th>\n",
       "      <td>4217.88</td>\n",
       "      <td>4223.48</td>\n",
       "      <td>4163.58</td>\n",
       "      <td>4193.47</td>\n",
       "      <td>9259.899519</td>\n",
       "      <td>3.882032e+07</td>\n",
       "      <td>ETH</td>\n",
       "      <td>18.794937</td>\n",
       "    </tr>\n",
       "    <tr>\n",
       "      <th>2021-11-22 04:00:00</th>\n",
       "      <td>4192.95</td>\n",
       "      <td>4213.59</td>\n",
       "      <td>4147.00</td>\n",
       "      <td>4168.35</td>\n",
       "      <td>7934.546906</td>\n",
       "      <td>3.315476e+07</td>\n",
       "      <td>ETH</td>\n",
       "      <td>18.891059</td>\n",
       "    </tr>\n",
       "  </tbody>\n",
       "</table>\n",
       "</div>"
      ],
      "text/plain": [
       "                        open     high      low    close       volume  \\\n",
       "ts                                                                     \n",
       "2021-11-22 00:00:00  4317.98  4342.24  4246.07  4262.99  7262.562789   \n",
       "2021-11-22 01:00:00  4263.04  4270.34  4212.45  4234.37  8437.946084   \n",
       "2021-11-22 02:00:00  4234.87  4246.72  4171.17  4217.89  9259.725370   \n",
       "2021-11-22 03:00:00  4217.88  4223.48  4163.58  4193.47  9259.899519   \n",
       "2021-11-22 04:00:00  4192.95  4213.59  4147.00  4168.35  7934.546906   \n",
       "\n",
       "                        volumeUSD token  EthSolSpread  \n",
       "ts                                                     \n",
       "2021-11-22 00:00:00  3.123077e+07   ETH     18.471694  \n",
       "2021-11-22 01:00:00  3.574586e+07   ETH     18.736150  \n",
       "2021-11-22 02:00:00  3.895639e+07   ETH     18.577985  \n",
       "2021-11-22 03:00:00  3.882032e+07   ETH     18.794937  \n",
       "2021-11-22 04:00:00  3.315476e+07   ETH     18.891059  "
      ]
     },
     "execution_count": 9,
     "metadata": {},
     "output_type": "execute_result"
    }
   ],
   "source": [
    "df.head()"
   ]
  },
  {
   "cell_type": "markdown",
   "id": "163d7380",
   "metadata": {},
   "source": [
    "Change the name of the volume and volumeUSD columns to volumeBase and volumeTerm"
   ]
  },
  {
   "cell_type": "code",
   "execution_count": 10,
   "id": "7ea77057",
   "metadata": {},
   "outputs": [],
   "source": [
    "df.rename(columns={'volume': 'volumeBase', 'volumeUSD': 'volumeTerm'}, inplace=True)"
   ]
  },
  {
   "cell_type": "code",
   "execution_count": 11,
   "id": "168b7f3c",
   "metadata": {
    "scrolled": true
   },
   "outputs": [
    {
     "data": {
      "text/html": [
       "<div>\n",
       "<style scoped>\n",
       "    .dataframe tbody tr th:only-of-type {\n",
       "        vertical-align: middle;\n",
       "    }\n",
       "\n",
       "    .dataframe tbody tr th {\n",
       "        vertical-align: top;\n",
       "    }\n",
       "\n",
       "    .dataframe thead th {\n",
       "        text-align: right;\n",
       "    }\n",
       "</style>\n",
       "<table border=\"1\" class=\"dataframe\">\n",
       "  <thead>\n",
       "    <tr style=\"text-align: right;\">\n",
       "      <th></th>\n",
       "      <th>open</th>\n",
       "      <th>high</th>\n",
       "      <th>low</th>\n",
       "      <th>close</th>\n",
       "      <th>volumeBase</th>\n",
       "      <th>volumeTerm</th>\n",
       "      <th>token</th>\n",
       "      <th>EthSolSpread</th>\n",
       "    </tr>\n",
       "    <tr>\n",
       "      <th>ts</th>\n",
       "      <th></th>\n",
       "      <th></th>\n",
       "      <th></th>\n",
       "      <th></th>\n",
       "      <th></th>\n",
       "      <th></th>\n",
       "      <th></th>\n",
       "      <th></th>\n",
       "    </tr>\n",
       "  </thead>\n",
       "  <tbody>\n",
       "    <tr>\n",
       "      <th>2021-11-22 00:00:00</th>\n",
       "      <td>4317.98</td>\n",
       "      <td>4342.24</td>\n",
       "      <td>4246.07</td>\n",
       "      <td>4262.99</td>\n",
       "      <td>7262.562789</td>\n",
       "      <td>3.123077e+07</td>\n",
       "      <td>ETH</td>\n",
       "      <td>18.471694</td>\n",
       "    </tr>\n",
       "    <tr>\n",
       "      <th>2021-11-22 01:00:00</th>\n",
       "      <td>4263.04</td>\n",
       "      <td>4270.34</td>\n",
       "      <td>4212.45</td>\n",
       "      <td>4234.37</td>\n",
       "      <td>8437.946084</td>\n",
       "      <td>3.574586e+07</td>\n",
       "      <td>ETH</td>\n",
       "      <td>18.736150</td>\n",
       "    </tr>\n",
       "    <tr>\n",
       "      <th>2021-11-22 02:00:00</th>\n",
       "      <td>4234.87</td>\n",
       "      <td>4246.72</td>\n",
       "      <td>4171.17</td>\n",
       "      <td>4217.89</td>\n",
       "      <td>9259.725370</td>\n",
       "      <td>3.895639e+07</td>\n",
       "      <td>ETH</td>\n",
       "      <td>18.577985</td>\n",
       "    </tr>\n",
       "    <tr>\n",
       "      <th>2021-11-22 03:00:00</th>\n",
       "      <td>4217.88</td>\n",
       "      <td>4223.48</td>\n",
       "      <td>4163.58</td>\n",
       "      <td>4193.47</td>\n",
       "      <td>9259.899519</td>\n",
       "      <td>3.882032e+07</td>\n",
       "      <td>ETH</td>\n",
       "      <td>18.794937</td>\n",
       "    </tr>\n",
       "    <tr>\n",
       "      <th>2021-11-22 04:00:00</th>\n",
       "      <td>4192.95</td>\n",
       "      <td>4213.59</td>\n",
       "      <td>4147.00</td>\n",
       "      <td>4168.35</td>\n",
       "      <td>7934.546906</td>\n",
       "      <td>3.315476e+07</td>\n",
       "      <td>ETH</td>\n",
       "      <td>18.891059</td>\n",
       "    </tr>\n",
       "  </tbody>\n",
       "</table>\n",
       "</div>"
      ],
      "text/plain": [
       "                        open     high      low    close   volumeBase  \\\n",
       "ts                                                                     \n",
       "2021-11-22 00:00:00  4317.98  4342.24  4246.07  4262.99  7262.562789   \n",
       "2021-11-22 01:00:00  4263.04  4270.34  4212.45  4234.37  8437.946084   \n",
       "2021-11-22 02:00:00  4234.87  4246.72  4171.17  4217.89  9259.725370   \n",
       "2021-11-22 03:00:00  4217.88  4223.48  4163.58  4193.47  9259.899519   \n",
       "2021-11-22 04:00:00  4192.95  4213.59  4147.00  4168.35  7934.546906   \n",
       "\n",
       "                       volumeTerm token  EthSolSpread  \n",
       "ts                                                     \n",
       "2021-11-22 00:00:00  3.123077e+07   ETH     18.471694  \n",
       "2021-11-22 01:00:00  3.574586e+07   ETH     18.736150  \n",
       "2021-11-22 02:00:00  3.895639e+07   ETH     18.577985  \n",
       "2021-11-22 03:00:00  3.882032e+07   ETH     18.794937  \n",
       "2021-11-22 04:00:00  3.315476e+07   ETH     18.891059  "
      ]
     },
     "execution_count": 11,
     "metadata": {},
     "output_type": "execute_result"
    }
   ],
   "source": [
    "df.head()"
   ]
  },
  {
   "cell_type": "markdown",
   "id": "fceb5a21",
   "metadata": {},
   "source": [
    "Create a fat table indexed by the timestamp, and each column is the close price of each token (i.e. this should be a table of 200 rows and 5 columns)"
   ]
  },
  {
   "cell_type": "code",
   "execution_count": 12,
   "id": "74838af3",
   "metadata": {},
   "outputs": [],
   "source": [
    "df_close = pd.DataFrame(index=df.index, columns = tokens)"
   ]
  },
  {
   "cell_type": "code",
   "execution_count": 13,
   "id": "7920cec7",
   "metadata": {},
   "outputs": [],
   "source": [
    "for token in tokens:\n",
    "    df_close[token] = df[df['token']==token]['close']"
   ]
  },
  {
   "cell_type": "code",
   "execution_count": 14,
   "id": "023693d0",
   "metadata": {},
   "outputs": [
    {
     "data": {
      "text/html": [
       "<div>\n",
       "<style scoped>\n",
       "    .dataframe tbody tr th:only-of-type {\n",
       "        vertical-align: middle;\n",
       "    }\n",
       "\n",
       "    .dataframe tbody tr th {\n",
       "        vertical-align: top;\n",
       "    }\n",
       "\n",
       "    .dataframe thead th {\n",
       "        text-align: right;\n",
       "    }\n",
       "</style>\n",
       "<table border=\"1\" class=\"dataframe\">\n",
       "  <thead>\n",
       "    <tr style=\"text-align: right;\">\n",
       "      <th></th>\n",
       "      <th>ETH</th>\n",
       "      <th>SOL</th>\n",
       "      <th>AVAX</th>\n",
       "      <th>USDT</th>\n",
       "      <th>FLOW</th>\n",
       "    </tr>\n",
       "    <tr>\n",
       "      <th>ts</th>\n",
       "      <th></th>\n",
       "      <th></th>\n",
       "      <th></th>\n",
       "      <th></th>\n",
       "      <th></th>\n",
       "    </tr>\n",
       "  </thead>\n",
       "  <tbody>\n",
       "    <tr>\n",
       "      <th>2021-11-22 00:00:00</th>\n",
       "      <td>4262.99</td>\n",
       "      <td>230.785</td>\n",
       "      <td>128.67</td>\n",
       "      <td>1.0012</td>\n",
       "      <td>14.150</td>\n",
       "    </tr>\n",
       "    <tr>\n",
       "      <th>2021-11-22 01:00:00</th>\n",
       "      <td>4234.37</td>\n",
       "      <td>226.000</td>\n",
       "      <td>134.85</td>\n",
       "      <td>1.0013</td>\n",
       "      <td>13.621</td>\n",
       "    </tr>\n",
       "    <tr>\n",
       "      <th>2021-11-22 02:00:00</th>\n",
       "      <td>4217.89</td>\n",
       "      <td>227.037</td>\n",
       "      <td>132.54</td>\n",
       "      <td>1.0012</td>\n",
       "      <td>13.753</td>\n",
       "    </tr>\n",
       "    <tr>\n",
       "      <th>2021-11-22 03:00:00</th>\n",
       "      <td>4193.47</td>\n",
       "      <td>223.117</td>\n",
       "      <td>133.38</td>\n",
       "      <td>1.0011</td>\n",
       "      <td>13.652</td>\n",
       "    </tr>\n",
       "    <tr>\n",
       "      <th>2021-11-22 04:00:00</th>\n",
       "      <td>4168.35</td>\n",
       "      <td>220.652</td>\n",
       "      <td>136.29</td>\n",
       "      <td>1.0009</td>\n",
       "      <td>13.581</td>\n",
       "    </tr>\n",
       "  </tbody>\n",
       "</table>\n",
       "</div>"
      ],
      "text/plain": [
       "                         ETH      SOL    AVAX    USDT    FLOW\n",
       "ts                                                           \n",
       "2021-11-22 00:00:00  4262.99  230.785  128.67  1.0012  14.150\n",
       "2021-11-22 01:00:00  4234.37  226.000  134.85  1.0013  13.621\n",
       "2021-11-22 02:00:00  4217.89  227.037  132.54  1.0012  13.753\n",
       "2021-11-22 03:00:00  4193.47  223.117  133.38  1.0011  13.652\n",
       "2021-11-22 04:00:00  4168.35  220.652  136.29  1.0009  13.581"
      ]
     },
     "execution_count": 14,
     "metadata": {},
     "output_type": "execute_result"
    }
   ],
   "source": [
    "df_close.head()"
   ]
  },
  {
   "cell_type": "code",
   "execution_count": 15,
   "id": "9878049a",
   "metadata": {},
   "outputs": [
    {
     "data": {
      "text/plain": [
       "(3350, 5)"
      ]
     },
     "execution_count": 15,
     "metadata": {},
     "output_type": "execute_result"
    }
   ],
   "source": [
    "df_close.shape"
   ]
  },
  {
   "cell_type": "markdown",
   "id": "e13293c5",
   "metadata": {},
   "source": [
    "Calculate the hour by hour log return of the close price of each token (return is calculated by np.log(price_t / price_{t-1}))"
   ]
  },
  {
   "cell_type": "code",
   "execution_count": 16,
   "id": "fe6431a0",
   "metadata": {},
   "outputs": [],
   "source": [
    "df_rets = np.log(df_close / df_close.shift(1)).fillna(0)"
   ]
  },
  {
   "cell_type": "code",
   "execution_count": 17,
   "id": "9192f945",
   "metadata": {},
   "outputs": [
    {
     "data": {
      "text/html": [
       "<div>\n",
       "<style scoped>\n",
       "    .dataframe tbody tr th:only-of-type {\n",
       "        vertical-align: middle;\n",
       "    }\n",
       "\n",
       "    .dataframe tbody tr th {\n",
       "        vertical-align: top;\n",
       "    }\n",
       "\n",
       "    .dataframe thead th {\n",
       "        text-align: right;\n",
       "    }\n",
       "</style>\n",
       "<table border=\"1\" class=\"dataframe\">\n",
       "  <thead>\n",
       "    <tr style=\"text-align: right;\">\n",
       "      <th></th>\n",
       "      <th>ETH</th>\n",
       "      <th>SOL</th>\n",
       "      <th>AVAX</th>\n",
       "      <th>USDT</th>\n",
       "      <th>FLOW</th>\n",
       "    </tr>\n",
       "    <tr>\n",
       "      <th>ts</th>\n",
       "      <th></th>\n",
       "      <th></th>\n",
       "      <th></th>\n",
       "      <th></th>\n",
       "      <th></th>\n",
       "    </tr>\n",
       "  </thead>\n",
       "  <tbody>\n",
       "    <tr>\n",
       "      <th>2021-11-22 00:00:00</th>\n",
       "      <td>0.000000</td>\n",
       "      <td>0.000000</td>\n",
       "      <td>0.000000</td>\n",
       "      <td>0.0000</td>\n",
       "      <td>0.000000</td>\n",
       "    </tr>\n",
       "    <tr>\n",
       "      <th>2021-11-22 01:00:00</th>\n",
       "      <td>-0.006736</td>\n",
       "      <td>-0.020952</td>\n",
       "      <td>0.046912</td>\n",
       "      <td>0.0001</td>\n",
       "      <td>-0.038102</td>\n",
       "    </tr>\n",
       "    <tr>\n",
       "      <th>2021-11-22 02:00:00</th>\n",
       "      <td>-0.003900</td>\n",
       "      <td>0.004578</td>\n",
       "      <td>-0.017279</td>\n",
       "      <td>-0.0001</td>\n",
       "      <td>0.009644</td>\n",
       "    </tr>\n",
       "    <tr>\n",
       "      <th>2021-11-22 03:00:00</th>\n",
       "      <td>-0.005806</td>\n",
       "      <td>-0.017417</td>\n",
       "      <td>0.006318</td>\n",
       "      <td>-0.0001</td>\n",
       "      <td>-0.007371</td>\n",
       "    </tr>\n",
       "    <tr>\n",
       "      <th>2021-11-22 04:00:00</th>\n",
       "      <td>-0.006008</td>\n",
       "      <td>-0.011109</td>\n",
       "      <td>0.021583</td>\n",
       "      <td>-0.0002</td>\n",
       "      <td>-0.005214</td>\n",
       "    </tr>\n",
       "  </tbody>\n",
       "</table>\n",
       "</div>"
      ],
      "text/plain": [
       "                          ETH       SOL      AVAX    USDT      FLOW\n",
       "ts                                                                 \n",
       "2021-11-22 00:00:00  0.000000  0.000000  0.000000  0.0000  0.000000\n",
       "2021-11-22 01:00:00 -0.006736 -0.020952  0.046912  0.0001 -0.038102\n",
       "2021-11-22 02:00:00 -0.003900  0.004578 -0.017279 -0.0001  0.009644\n",
       "2021-11-22 03:00:00 -0.005806 -0.017417  0.006318 -0.0001 -0.007371\n",
       "2021-11-22 04:00:00 -0.006008 -0.011109  0.021583 -0.0002 -0.005214"
      ]
     },
     "execution_count": 17,
     "metadata": {},
     "output_type": "execute_result"
    }
   ],
   "source": [
    "df_rets.head()"
   ]
  },
  {
   "cell_type": "markdown",
   "id": "0fe21b0b",
   "metadata": {},
   "source": [
    "[Stretch] calculate the correlation of the tokens using the table above"
   ]
  },
  {
   "cell_type": "code",
   "execution_count": 18,
   "id": "ab418e82",
   "metadata": {},
   "outputs": [
    {
     "data": {
      "text/html": [
       "<div>\n",
       "<style scoped>\n",
       "    .dataframe tbody tr th:only-of-type {\n",
       "        vertical-align: middle;\n",
       "    }\n",
       "\n",
       "    .dataframe tbody tr th {\n",
       "        vertical-align: top;\n",
       "    }\n",
       "\n",
       "    .dataframe thead th {\n",
       "        text-align: right;\n",
       "    }\n",
       "</style>\n",
       "<table border=\"1\" class=\"dataframe\">\n",
       "  <thead>\n",
       "    <tr style=\"text-align: right;\">\n",
       "      <th></th>\n",
       "      <th>ETH</th>\n",
       "      <th>SOL</th>\n",
       "      <th>AVAX</th>\n",
       "      <th>USDT</th>\n",
       "      <th>FLOW</th>\n",
       "    </tr>\n",
       "  </thead>\n",
       "  <tbody>\n",
       "    <tr>\n",
       "      <th>ETH</th>\n",
       "      <td>1.000000</td>\n",
       "      <td>0.767533</td>\n",
       "      <td>0.688347</td>\n",
       "      <td>-0.050468</td>\n",
       "      <td>0.556962</td>\n",
       "    </tr>\n",
       "    <tr>\n",
       "      <th>SOL</th>\n",
       "      <td>0.767533</td>\n",
       "      <td>1.000000</td>\n",
       "      <td>0.686333</td>\n",
       "      <td>0.152995</td>\n",
       "      <td>0.689637</td>\n",
       "    </tr>\n",
       "    <tr>\n",
       "      <th>AVAX</th>\n",
       "      <td>0.688347</td>\n",
       "      <td>0.686333</td>\n",
       "      <td>1.000000</td>\n",
       "      <td>0.049197</td>\n",
       "      <td>0.476825</td>\n",
       "    </tr>\n",
       "    <tr>\n",
       "      <th>USDT</th>\n",
       "      <td>-0.050468</td>\n",
       "      <td>0.152995</td>\n",
       "      <td>0.049197</td>\n",
       "      <td>1.000000</td>\n",
       "      <td>0.006203</td>\n",
       "    </tr>\n",
       "    <tr>\n",
       "      <th>FLOW</th>\n",
       "      <td>0.556962</td>\n",
       "      <td>0.689637</td>\n",
       "      <td>0.476825</td>\n",
       "      <td>0.006203</td>\n",
       "      <td>1.000000</td>\n",
       "    </tr>\n",
       "  </tbody>\n",
       "</table>\n",
       "</div>"
      ],
      "text/plain": [
       "           ETH       SOL      AVAX      USDT      FLOW\n",
       "ETH   1.000000  0.767533  0.688347 -0.050468  0.556962\n",
       "SOL   0.767533  1.000000  0.686333  0.152995  0.689637\n",
       "AVAX  0.688347  0.686333  1.000000  0.049197  0.476825\n",
       "USDT -0.050468  0.152995  0.049197  1.000000  0.006203\n",
       "FLOW  0.556962  0.689637  0.476825  0.006203  1.000000"
      ]
     },
     "execution_count": 18,
     "metadata": {},
     "output_type": "execute_result"
    }
   ],
   "source": [
    "df_corr = df_rets.corr()\n",
    "df_corr"
   ]
  },
  {
   "cell_type": "markdown",
   "id": "41d27b18",
   "metadata": {},
   "source": [
    "[Stretch] visualize the correlation in a matplpotlib plot"
   ]
  },
  {
   "cell_type": "code",
   "execution_count": 19,
   "id": "066ecee6",
   "metadata": {},
   "outputs": [
    {
     "data": {
      "image/png": "[encoded data removed]",
      "text/plain": [
       "<Figure size 360x504 with 2 Axes>"
      ]
     },
     "metadata": {
      "needs_background": "light"
     },
     "output_type": "display_data"
    }
   ],
   "source": [
    "f = plt.figure(figsize=(5, 7))\n",
    "plt.matshow(df_corr, fignum=f.number)\n",
    "plt.xticks(range(df_corr.select_dtypes(['number']).shape[1]), df_corr.select_dtypes(['number']).columns, \n",
    "           fontsize=14, rotation=45)\n",
    "plt.yticks(range(df_corr.select_dtypes(['number']).shape[1]), df_corr.select_dtypes(['number']).columns, \n",
    "           fontsize=14)\n",
    "cb = plt.colorbar()\n",
    "cb.ax.tick_params(labelsize=14)\n",
    "plt.title('Correlation Matrix', fontsize=16);"
   ]
  },
  {
   "cell_type": "code",
   "execution_count": null,
   "id": "0e7007a1",
   "metadata": {},
   "outputs": [],
   "source": []
  }
 ],
 "metadata": {
  "kernelspec": {
   "display_name": "Python 3",
   "language": "python",
   "name": "python3"
  },
  "language_info": {
   "codemirror_mode": {
    "name": "ipython",
    "version": 3
   },
   "file_extension": ".py",
   "mimetype": "text/x-python",
   "name": "python",
   "nbconvert_exporter": "python",
   "pygments_lexer": "ipython3",
   "version": "3.8.8"
  }
 },
 "nbformat": 4,
 "nbformat_minor": 5
}
