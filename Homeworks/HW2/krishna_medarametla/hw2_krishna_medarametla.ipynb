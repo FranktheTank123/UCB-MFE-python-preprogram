{
 "cells": [
  {
   "cell_type": "code",
   "execution_count": null,
   "id": "411bb153-1f16-4da0-8eb8-b73ab8c288f1",
   "metadata": {},
   "outputs": [],
   "source": [
    "import pandas as pd\n",
    "import numpy as np\n",
    "import requests\n",
    "import matplotlib.pyplot as plt\n",
    "\n",
    "%matplotlib inline"
   ]
  },
  {
   "cell_type": "markdown",
   "id": "249010fb-ca25-4be6-a40b-73bfffbaa160",
   "metadata": {},
   "source": [
    "Get the time series for the following cryptocurrencies from `cryptowat.ch` starting from 2021-11-22, hourly data\n",
    "    1. ETH\n",
    "    2. SOL\n",
    "    3. AVAX\n",
    "    4. USDT\n",
    "    5. FLOW"
   ]
  },
  {
   "cell_type": "code",
   "execution_count": null,
   "id": "65deb2a0-5fcb-4323-a0af-eb4f91559a0c",
   "metadata": {},
   "outputs": [],
   "source": [
    "def get_data(token):\n",
    "    res = requests.get(\n",
    "        f'https://api.cryptowat.ch/markets/coinbase-pro/{token}usd/ohlc',\n",
    "        params={\n",
    "            'periods': '3600',\n",
    "            'after': str(int(pd.Timestamp('2021-11-22').timestamp()))\n",
    "        }\n",
    "    )\n",
    "    if res.status_code !=200:\n",
    "        res = requests.get(\n",
    "            f'https://api.cryptowat.ch/markets/kraken/{token}usd/ohlc',\n",
    "            params={\n",
    "                'periods': '3600',\n",
    "                'after': str(int(pd.Timestamp('2021-11-22').timestamp()))\n",
    "            }\n",
    "        )\n",
    "\n",
    "    df = pd.DataFrame(\n",
    "        res.json()['result']['3600'],\n",
    "        columns=['ts', 'open', 'high', 'low', 'close', 'volume', 'volumeUSD']\n",
    "    )\n",
    "    df['ts'] = pd.to_datetime(df.ts, unit='s')\n",
    "    df['token'] = token\n",
    "    \n",
    "    return df"
   ]
  },
  {
   "cell_type": "code",
   "execution_count": null,
   "id": "96c57b18-da2a-4c44-809f-6ae2276010c8",
   "metadata": {},
   "outputs": [],
   "source": [
    "tokens = ['ETH', 'SOL', 'AVAX', 'USDT', 'FLOW']"
   ]
  },
  {
   "cell_type": "code",
   "execution_count": null,
   "id": "2d5d219c-03d9-4d34-bea2-da2a61074410",
   "metadata": {
    "tags": []
   },
   "outputs": [],
   "source": [
    "df_base = pd.concat(get_data(token) for token in tokens)\n",
    "df = df_base.set_index('ts')"
   ]
  },
  {
   "cell_type": "markdown",
   "id": "1b8b481f-7e69-4557-9adc-16037d00c3fa",
   "metadata": {},
   "source": [
    "Get the total USD volume traded for each token in a dataframe, sorted from highest volume to lowest volume"
   ]
  },
  {
   "cell_type": "code",
   "execution_count": null,
   "id": "2677c044-292e-4bcb-a603-688af2e769a5",
   "metadata": {
    "tags": []
   },
   "outputs": [],
   "source": [
    "df_sorted_by_volumeUSD = df[['volumeUSD','token']].sort_values('volumeUSD',ascending=False)"
   ]
  },
  {
   "cell_type": "markdown",
   "id": "a41f7a1d-5b59-4d70-8110-1d04eec6e64d",
   "metadata": {},
   "source": [
    "Change the name of the `volume` and `volumeUSD` columns to `volumeBase` and `volumeTerm`"
   ]
  },
  {
   "cell_type": "code",
   "execution_count": null,
   "id": "45913194-ea0d-40fd-bfa4-1d28e7068e00",
   "metadata": {
    "tags": []
   },
   "outputs": [],
   "source": [
    "df_renamed = df.rename(columns={'volume':'volumeBase','volumeUSD':'volumeTerm'})"
   ]
  },
  {
   "cell_type": "markdown",
   "id": "db0a3811-6a26-4200-9835-318ae29cea70",
   "metadata": {},
   "source": [
    "Add a column that calculates the close price ratio between ETH and SOL for each hour (i.e. close price of ETH / close price of SOL for each period)"
   ]
  },
  {
   "cell_type": "code",
   "execution_count": null,
   "id": "44583d05-7e72-4d19-9895-9e3f09475495",
   "metadata": {},
   "outputs": [],
   "source": [
    "df_close_ratio_ETH_SOL = pd.merge(\n",
    "    df.loc[df['token'] == 'ETH'][['close']].rename(columns={'close':'close_ETH'}),\n",
    "    df.loc[df['token'] == 'SOL'][['close']].rename(columns={'close':'close_SOL'}),\n",
    "    on='ts',\n",
    "    how='inner'\n",
    ")\n",
    "\n",
    "df_close_ratio_ETH_SOL['close price ratio']=df_close_ratio_ETH_SOL['close_ETH']/df_close_ratio_ETH_SOL['close_SOL']"
   ]
  },
  {
   "cell_type": "markdown",
   "id": "828362c0-0415-4081-9968-0de97eb42e44",
   "metadata": {},
   "source": [
    "Create a fat table indexed by the timestamp, and each column is the close price of each token (i.e. this should be a table of  200 rows and 5 columns)"
   ]
  },
  {
   "cell_type": "code",
   "execution_count": null,
   "id": "302a4c36-f318-45eb-9dfa-124338275bc6",
   "metadata": {},
   "outputs": [],
   "source": [
    "df_close_price = df_base.loc[df_base['token'] == 'ETH',['ts']]\n",
    "\n",
    "for token in tokens:\n",
    "    df_close_price = df_close_price.join(\n",
    "        df.loc[df['token'] == token][['close']].rename(columns={'close':f'close_{token}'}),\n",
    "        on = 'ts'\n",
    "    )"
   ]
  },
  {
   "cell_type": "markdown",
   "id": "301500f9-eada-4f6d-b493-91b1e96a1146",
   "metadata": {
    "tags": []
   },
   "source": [
    "Calculate the hour by hour log return of the close price of each token (return is calculated by np.log(price_t / price_{t-1}))"
   ]
  },
  {
   "cell_type": "code",
   "execution_count": null,
   "id": "639ba000-548c-4b78-93d8-ec8e8d1e6717",
   "metadata": {
    "tags": []
   },
   "outputs": [],
   "source": [
    "no_entries = df.loc[df['token']=='ETH'].shape[0]\n",
    "\n",
    "log_return_all = []\n",
    "\n",
    "for token in tokens:\n",
    "    log_return_token = []\n",
    "    for j in range(no_entries):\n",
    "        if j==0:\n",
    "            log_return_token.append(np.NaN)\n",
    "        else:\n",
    "            log_return_token.append(np.log(df_base[df_base['token']==token]['close'].loc[j]/df_base[df_base['token']==token]['close'].loc[j-1]))\n",
    "    \n",
    "    log_return_all.append(log_return_token)"
   ]
  },
  {
   "cell_type": "markdown",
   "id": "c7ec89d0-dcff-456b-b46a-3777a75cb798",
   "metadata": {},
   "source": [
    "Convert the log return values from a list to a DataFrame"
   ]
  },
  {
   "cell_type": "code",
   "execution_count": null,
   "id": "5a1e23f8-af49-4ec7-80d6-c395d89e1416",
   "metadata": {
    "tags": []
   },
   "outputs": [],
   "source": [
    "df_log_return_all = pd.DataFrame(log_return_all).transpose()\n",
    "df_log_return_all.columns = ['ETH', 'SOL', 'AVAX', 'USDT', 'FLOW']\n",
    "\n",
    "df_log_return_by_hour_unidexed = df_log_return_all.assign(\n",
    "    ts = df_base.loc[df_base['token'] == 'ETH','ts']\n",
    ")\n",
    "\n",
    "df_log_return_by_hour = df_log_return_by_hour_unidexed.set_index('ts')"
   ]
  },
  {
   "cell_type": "markdown",
   "id": "373c693a-2cfd-4d5e-90c8-41f696b1f21a",
   "metadata": {},
   "source": [
    "\\[Stretch\\] calculate the correlation of the tokens using the table above"
   ]
  },
  {
   "cell_type": "code",
   "execution_count": null,
   "id": "f3130935-48d4-4f75-b067-ca138b7cf576",
   "metadata": {},
   "outputs": [],
   "source": [
    "corr_matrix = df_log_return_by_hour.corr()\n",
    "\n",
    "corr_matrix"
   ]
  },
  {
   "cell_type": "markdown",
   "id": "2782e6d8-d752-4ed4-a846-76dc86bd394d",
   "metadata": {},
   "source": [
    "\\[Stretch\\] visualize the correlation in a matplpotlib plot"
   ]
  },
  {
   "cell_type": "code",
   "execution_count": null,
   "id": "b496b460-8e28-402a-8abf-a7afc16db42e",
   "metadata": {},
   "outputs": [],
   "source": [
    "corr_matrix.plot()"
   ]
  }
 ],
 "metadata": {
  "kernelspec": {
   "display_name": "Python 3 (ipykernel)",
   "language": "python",
   "name": "python3"
  },
  "language_info": {
   "codemirror_mode": {
    "name": "ipython",
    "version": 3
   },
   "file_extension": ".py",
   "mimetype": "text/x-python",
   "name": "python",
   "nbconvert_exporter": "python",
   "pygments_lexer": "ipython3",
   "version": "3.8.12"
  }
 },
 "nbformat": 4,
 "nbformat_minor": 5
}
