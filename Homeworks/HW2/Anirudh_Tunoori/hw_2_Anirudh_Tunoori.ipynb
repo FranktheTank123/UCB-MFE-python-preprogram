{
 "cells": [
  {
   "cell_type": "code",
   "execution_count": null,
   "id": "f47afd20-9e13-495a-a4d5-daeec4b65522",
   "metadata": {},
   "outputs": [],
   "source": [
    "import numpy as np\n",
    "import pandas as pd\n",
    "import matplotlib.pyplot as plt\n",
    "import requests\n",
    "\n",
    "%matplotlib inline"
   ]
  },
  {
   "cell_type": "code",
   "execution_count": null,
   "id": "d13152eb-be0b-42cd-bf95-6eed7bcde5f7",
   "metadata": {},
   "outputs": [],
   "source": [
    "def get_data(token):\n",
    "    if token == 'FLOW':\n",
    "        exchange = 'Kraken'\n",
    "    else:\n",
    "        exchange = 'coinbase-pro'\n",
    "    res = requests.get(\n",
    "        f'https://api.cryptowat.ch/markets/{exchange}/{token}usd/ohlc',\n",
    "        params={\n",
    "            'periods': '3600',\n",
    "            'after': str(int(pd.Timestamp('2021-11-22').timestamp()))\n",
    "        }\n",
    "    )\n",
    "\n",
    "    df = pd.DataFrame(\n",
    "        res.json()['result']['3600'],\n",
    "        columns=['ts', 'open', 'high', 'low', 'close', 'volume', 'volumeUSD']\n",
    "    )\n",
    "    df['ts'] = pd.to_datetime(df.ts, unit='s')\n",
    "    df['token'] = token\n",
    "    \n",
    "    return df"
   ]
  },
  {
   "cell_type": "code",
   "execution_count": null,
   "id": "537fcc43-d17f-4dcf-9291-57dd33ac64e0",
   "metadata": {
    "tags": []
   },
   "outputs": [],
   "source": [
    "tokens = ['ETH', 'SOL', 'AVAX', 'USDT', 'FLOW']\n",
    "df_all = pd.concat(get_data(token) for token in tokens)\n",
    "flattened_df = df_all[['ts','token','close']].copy()"
   ]
  },
  {
   "cell_type": "code",
   "execution_count": null,
   "id": "0caec39c-272a-438f-b1ad-895664b2ab3a",
   "metadata": {},
   "outputs": [],
   "source": [
    "volume_traded = df_all.groupby('token')['volumeUSD'].sum().sort_values(ascending=False).to_frame()\n",
    "df_all = df_all.rename({'volume': 'volumeBase', 'volumeUSD': 'volumeTerm'}, axis=1, inplace=True)\n",
    "volume_traded"
   ]
  },
  {
   "cell_type": "code",
   "execution_count": null,
   "id": "c3039a6b-5077-473f-8676-d4ec2bc85d32",
   "metadata": {
    "tags": []
   },
   "outputs": [],
   "source": [
    "flattened_df = flattened_df.pivot(index='ts',columns='token',values='close').reset_index().rename_axis(None, axis=1)\n",
    "flattened_df['ETH_SOL_Ratio'] = flattened_df['ETH'] / flattened_df['SOL']\n",
    "flattened_df"
   ]
  },
  {
   "cell_type": "code",
   "execution_count": null,
   "id": "ab9e4034-4dc7-4ca3-a915-b49cec9d44ca",
   "metadata": {},
   "outputs": [],
   "source": [
    "log_return = flattened_df.apply(lambda x: np.log(x).diff() if x.name in tokens else x, axis=0)\n",
    "log_return"
   ]
  },
  {
   "cell_type": "code",
   "execution_count": null,
   "id": "9b3a6066-fbf0-43c9-9824-10bcbdca56b4",
   "metadata": {},
   "outputs": [],
   "source": [
    "correlation = log_return.drop(columns=['ETH_SOL_Ratio']).corr()\n",
    "correlation"
   ]
  },
  {
   "cell_type": "code",
   "execution_count": null,
   "id": "804af7b2-3f0e-44d2-abf3-31c5cb1e43ab",
   "metadata": {},
   "outputs": [],
   "source": [
    "# I tried two different visualizations for these correlations \n",
    "import seaborn as sns\n",
    "from pandas.plotting import scatter_matrix\n",
    "\n",
    "fig = plt.figure(figsize=(5,5))\n",
    "sns.heatmap(correlation, annot = True, fmt = '.2f')\n",
    "plt.show()\n",
    "\n",
    "x = scatter_matrix(log_return.drop(columns=['ETH_SOL_Ratio']), figsize=(10, 10), diagonal='kde')"
   ]
  }
 ],
 "metadata": {
  "kernelspec": {
   "display_name": "Python 3 (ipykernel)",
   "language": "python",
   "name": "python3"
  },
  "language_info": {
   "codemirror_mode": {
    "name": "ipython",
    "version": 3
   },
   "file_extension": ".py",
   "mimetype": "text/x-python",
   "name": "python",
   "nbconvert_exporter": "python",
   "pygments_lexer": "ipython3",
   "version": "3.9.7"
  }
 },
 "nbformat": 4,
 "nbformat_minor": 5
}
