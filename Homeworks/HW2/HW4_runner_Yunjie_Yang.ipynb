{
 "cells": [
  {
   "cell_type": "code",
   "execution_count": 1,
   "id": "cffab7e1-e05c-49a7-b885-a2be0e972020",
   "metadata": {},
   "outputs": [
    {
     "name": "stderr",
     "output_type": "stream",
     "text": [
      "/Users/yangyunjie1/opt/anaconda3/lib/python3.9/site-packages/papermill/iorw.py:50: FutureWarning: pyarrow.HadoopFileSystem is deprecated as of 2.0.0, please use pyarrow.fs.HadoopFileSystem instead.\n",
      "  from pyarrow import HadoopFileSystem\n"
     ]
    }
   ],
   "source": [
    "import papermill as pm\n",
    "import scrapbook as sb\n",
    "import pandas as pd\n",
    "from datetime import datetime, timedelta\n",
    "import sqlite3\n",
    "import os\n",
    "import numpy as np"
   ]
  },
  {
   "cell_type": "code",
   "execution_count": 2,
   "id": "0aa636f4-c72b-4616-8e07-24d1672034ce",
   "metadata": {},
   "outputs": [],
   "source": [
    "conn = sqlite3.connect('data.db')\n",
    "cur = conn.cursor()\n",
    "cur.execute(\"SELECT * FROM ohlc\")\n",
    "data = cur.fetchall()"
   ]
  },
  {
   "cell_type": "code",
   "execution_count": 3,
   "id": "f148f3f5-c6c1-480e-9aac-1f67bde9ee07",
   "metadata": {},
   "outputs": [],
   "source": [
    "allPrices = pd.DataFrame(\n",
    "    data,\n",
    "    columns=['ts', 'open', 'high', 'low', 'close', 'volume', 'volumeUSD', 'token', 'chain'],\n",
    ")\n",
    "conn.close()"
   ]
  },
  {
   "cell_type": "code",
   "execution_count": 4,
   "id": "9948b198-9c72-441c-84f5-6783c27c6434",
   "metadata": {},
   "outputs": [
    {
     "data": {
      "text/html": [
       "<div>\n",
       "<style scoped>\n",
       "    .dataframe tbody tr th:only-of-type {\n",
       "        vertical-align: middle;\n",
       "    }\n",
       "\n",
       "    .dataframe tbody tr th {\n",
       "        vertical-align: top;\n",
       "    }\n",
       "\n",
       "    .dataframe thead th {\n",
       "        text-align: right;\n",
       "    }\n",
       "</style>\n",
       "<table border=\"1\" class=\"dataframe\">\n",
       "  <thead>\n",
       "    <tr style=\"text-align: right;\">\n",
       "      <th></th>\n",
       "      <th>ts</th>\n",
       "      <th>open</th>\n",
       "      <th>high</th>\n",
       "      <th>low</th>\n",
       "      <th>close</th>\n",
       "      <th>volume</th>\n",
       "      <th>volumeUSD</th>\n",
       "      <th>token</th>\n",
       "      <th>chain</th>\n",
       "    </tr>\n",
       "  </thead>\n",
       "  <tbody>\n",
       "    <tr>\n",
       "      <th>0</th>\n",
       "      <td>2021-11-01 00:00:00</td>\n",
       "      <td>61421.37</td>\n",
       "      <td>61669.14</td>\n",
       "      <td>61239.60</td>\n",
       "      <td>61343.68</td>\n",
       "      <td>256.433869</td>\n",
       "      <td>1.575751e+07</td>\n",
       "      <td>BTC</td>\n",
       "      <td>BTC</td>\n",
       "    </tr>\n",
       "    <tr>\n",
       "      <th>1</th>\n",
       "      <td>2021-11-01 01:00:00</td>\n",
       "      <td>61346.17</td>\n",
       "      <td>61709.82</td>\n",
       "      <td>61171.22</td>\n",
       "      <td>61610.93</td>\n",
       "      <td>332.481185</td>\n",
       "      <td>2.044558e+07</td>\n",
       "      <td>BTC</td>\n",
       "      <td>BTC</td>\n",
       "    </tr>\n",
       "    <tr>\n",
       "      <th>2</th>\n",
       "      <td>2021-11-01 02:00:00</td>\n",
       "      <td>61610.94</td>\n",
       "      <td>61779.87</td>\n",
       "      <td>61299.89</td>\n",
       "      <td>61333.17</td>\n",
       "      <td>314.250720</td>\n",
       "      <td>1.935390e+07</td>\n",
       "      <td>BTC</td>\n",
       "      <td>BTC</td>\n",
       "    </tr>\n",
       "    <tr>\n",
       "      <th>3</th>\n",
       "      <td>2021-11-01 03:00:00</td>\n",
       "      <td>61333.17</td>\n",
       "      <td>61457.28</td>\n",
       "      <td>60050.00</td>\n",
       "      <td>60589.06</td>\n",
       "      <td>1059.931358</td>\n",
       "      <td>6.414625e+07</td>\n",
       "      <td>BTC</td>\n",
       "      <td>BTC</td>\n",
       "    </tr>\n",
       "    <tr>\n",
       "      <th>4</th>\n",
       "      <td>2021-11-01 04:00:00</td>\n",
       "      <td>60590.23</td>\n",
       "      <td>60655.00</td>\n",
       "      <td>59752.92</td>\n",
       "      <td>59971.89</td>\n",
       "      <td>621.419878</td>\n",
       "      <td>3.744744e+07</td>\n",
       "      <td>BTC</td>\n",
       "      <td>BTC</td>\n",
       "    </tr>\n",
       "    <tr>\n",
       "      <th>...</th>\n",
       "      <td>...</td>\n",
       "      <td>...</td>\n",
       "      <td>...</td>\n",
       "      <td>...</td>\n",
       "      <td>...</td>\n",
       "      <td>...</td>\n",
       "      <td>...</td>\n",
       "      <td>...</td>\n",
       "      <td>...</td>\n",
       "    </tr>\n",
       "    <tr>\n",
       "      <th>11622</th>\n",
       "      <td>2021-12-14 20:00:00</td>\n",
       "      <td>178.99</td>\n",
       "      <td>181.27</td>\n",
       "      <td>178.72</td>\n",
       "      <td>180.28</td>\n",
       "      <td>628.699000</td>\n",
       "      <td>1.130815e+05</td>\n",
       "      <td>COMP</td>\n",
       "      <td>ETH</td>\n",
       "    </tr>\n",
       "    <tr>\n",
       "      <th>11623</th>\n",
       "      <td>2021-12-14 21:00:00</td>\n",
       "      <td>180.15</td>\n",
       "      <td>183.76</td>\n",
       "      <td>179.96</td>\n",
       "      <td>183.43</td>\n",
       "      <td>2453.455000</td>\n",
       "      <td>4.447119e+05</td>\n",
       "      <td>COMP</td>\n",
       "      <td>ETH</td>\n",
       "    </tr>\n",
       "    <tr>\n",
       "      <th>11624</th>\n",
       "      <td>2021-12-14 22:00:00</td>\n",
       "      <td>183.31</td>\n",
       "      <td>186.74</td>\n",
       "      <td>182.60</td>\n",
       "      <td>185.24</td>\n",
       "      <td>2086.017000</td>\n",
       "      <td>3.865710e+05</td>\n",
       "      <td>COMP</td>\n",
       "      <td>ETH</td>\n",
       "    </tr>\n",
       "    <tr>\n",
       "      <th>11625</th>\n",
       "      <td>2021-12-14 23:00:00</td>\n",
       "      <td>185.22</td>\n",
       "      <td>186.09</td>\n",
       "      <td>183.88</td>\n",
       "      <td>185.08</td>\n",
       "      <td>416.028000</td>\n",
       "      <td>7.698720e+04</td>\n",
       "      <td>COMP</td>\n",
       "      <td>ETH</td>\n",
       "    </tr>\n",
       "    <tr>\n",
       "      <th>11626</th>\n",
       "      <td>2021-12-15 00:00:00</td>\n",
       "      <td>185.07</td>\n",
       "      <td>185.78</td>\n",
       "      <td>184.50</td>\n",
       "      <td>184.89</td>\n",
       "      <td>335.307000</td>\n",
       "      <td>6.214264e+04</td>\n",
       "      <td>COMP</td>\n",
       "      <td>ETH</td>\n",
       "    </tr>\n",
       "  </tbody>\n",
       "</table>\n",
       "<p>11627 rows × 9 columns</p>\n",
       "</div>"
      ],
      "text/plain": [
       "                        ts      open      high       low     close  \\\n",
       "0      2021-11-01 00:00:00  61421.37  61669.14  61239.60  61343.68   \n",
       "1      2021-11-01 01:00:00  61346.17  61709.82  61171.22  61610.93   \n",
       "2      2021-11-01 02:00:00  61610.94  61779.87  61299.89  61333.17   \n",
       "3      2021-11-01 03:00:00  61333.17  61457.28  60050.00  60589.06   \n",
       "4      2021-11-01 04:00:00  60590.23  60655.00  59752.92  59971.89   \n",
       "...                    ...       ...       ...       ...       ...   \n",
       "11622  2021-12-14 20:00:00    178.99    181.27    178.72    180.28   \n",
       "11623  2021-12-14 21:00:00    180.15    183.76    179.96    183.43   \n",
       "11624  2021-12-14 22:00:00    183.31    186.74    182.60    185.24   \n",
       "11625  2021-12-14 23:00:00    185.22    186.09    183.88    185.08   \n",
       "11626  2021-12-15 00:00:00    185.07    185.78    184.50    184.89   \n",
       "\n",
       "            volume     volumeUSD token chain  \n",
       "0       256.433869  1.575751e+07   BTC   BTC  \n",
       "1       332.481185  2.044558e+07   BTC   BTC  \n",
       "2       314.250720  1.935390e+07   BTC   BTC  \n",
       "3      1059.931358  6.414625e+07   BTC   BTC  \n",
       "4       621.419878  3.744744e+07   BTC   BTC  \n",
       "...            ...           ...   ...   ...  \n",
       "11622   628.699000  1.130815e+05  COMP   ETH  \n",
       "11623  2453.455000  4.447119e+05  COMP   ETH  \n",
       "11624  2086.017000  3.865710e+05  COMP   ETH  \n",
       "11625   416.028000  7.698720e+04  COMP   ETH  \n",
       "11626   335.307000  6.214264e+04  COMP   ETH  \n",
       "\n",
       "[11627 rows x 9 columns]"
      ]
     },
     "execution_count": 4,
     "metadata": {},
     "output_type": "execute_result"
    }
   ],
   "source": [
    "allPrices"
   ]
  },
  {
   "cell_type": "code",
   "execution_count": 5,
   "id": "5fb6e110-c0d1-40b1-bdb1-b889d1c6c2d7",
   "metadata": {},
   "outputs": [
    {
     "data": {
      "text/plain": [
       "array(['BTC', 'ETH', 'USDT', 'SOL', 'ADA', 'DOT', 'AVAX', 'ATOM', 'CRV',\n",
       "       'AAVE', 'COMP'], dtype=object)"
      ]
     },
     "execution_count": 5,
     "metadata": {},
     "output_type": "execute_result"
    }
   ],
   "source": [
    "tokens = allPrices.token.unique()\n",
    "tokens"
   ]
  },
  {
   "cell_type": "code",
   "execution_count": 6,
   "id": "aaadb0ae-361e-4fea-806a-27dfa45de418",
   "metadata": {},
   "outputs": [],
   "source": [
    "i = -1\n",
    "while True:\n",
    "    if pd.to_datetime(allPrices['ts']).iloc[i].weekday() > 0:\n",
    "        i=i-1\n",
    "    else:\n",
    "        firstday = i-24*7-23\n",
    "        break"
   ]
  },
  {
   "cell_type": "code",
   "execution_count": 7,
   "id": "d173ae41-25f2-438f-a503-cbfc62bd9823",
   "metadata": {},
   "outputs": [
    {
     "data": {
      "text/plain": [
       "datetime.date(2021, 12, 6)"
      ]
     },
     "execution_count": 7,
     "metadata": {},
     "output_type": "execute_result"
    }
   ],
   "source": [
    "from_date = pd.to_datetime(allPrices['ts'].iloc[firstday]).date()\n",
    "from_date"
   ]
  },
  {
   "cell_type": "code",
   "execution_count": 8,
   "id": "a66fd96e-092f-4778-aab3-18a8628c135b",
   "metadata": {},
   "outputs": [],
   "source": [
    "def last_dow(d: datetime, dow: int) -> datetime:\n",
    "    '''\n",
    "    Gets the date of the last day of week, using datetime convention of Monday is 0 and Sunday is 6\n",
    "    '''\n",
    "    dow_d = d.weekday()\n",
    "    days_delta = (7 - dow) + dow_d if dow_d < dow else dow_d - dow\n",
    "    return d - timedelta(days=days_delta)"
   ]
  },
  {
   "cell_type": "code",
   "execution_count": 9,
   "id": "44aec384-2105-45e6-91bf-d6463e9c1a26",
   "metadata": {},
   "outputs": [],
   "source": [
    "run_dates = [(last_dow(from_date, 9) + timedelta(days=7 * x)) for x in range(1)]\n",
    "tokens = tokens\n",
    "connection_string = 'sqlite:///data.db'"
   ]
  },
  {
   "cell_type": "code",
   "execution_count": 10,
   "id": "5689ad95-403c-4ca6-9554-01b9a81f9e7a",
   "metadata": {},
   "outputs": [
    {
     "data": {
      "text/plain": [
       "[datetime.date(2021, 12, 8)]"
      ]
     },
     "execution_count": 10,
     "metadata": {},
     "output_type": "execute_result"
    }
   ],
   "source": [
    "run_dates"
   ]
  },
  {
   "cell_type": "code",
   "execution_count": 11,
   "id": "f42fdeed-0262-43d2-9495-a29b66fb59a6",
   "metadata": {},
   "outputs": [],
   "source": [
    "base_output_folder = os.path.expanduser('outputs')\n",
    "\n",
    "if not os.path.exists(base_output_folder):\n",
    "        os.makedirs(base_output_folder)"
   ]
  },
  {
   "cell_type": "code",
   "execution_count": 12,
   "id": "4ec47658-e9ae-4f93-a39f-7e15655eee43",
   "metadata": {},
   "outputs": [
    {
     "name": "stdout",
     "output_type": "stream",
     "text": [
      "running for BTC for date 2021-12-08 to 2021-12-15\r"
     ]
    },
    {
     "data": {
      "application/vnd.jupyter.widget-view+json": {
       "model_id": "3e0f5f9cadcc456aa28181540a5d4420",
       "version_major": 2,
       "version_minor": 0
      },
      "text/plain": [
       "Executing:   0%|          | 0/23 [00:00<?, ?cell/s]"
      ]
     },
     "metadata": {},
     "output_type": "display_data"
    },
    {
     "name": "stdout",
     "output_type": "stream",
     "text": [
      "running for ETH for date 2021-12-08 to 2021-12-15\r"
     ]
    },
    {
     "data": {
      "application/vnd.jupyter.widget-view+json": {
       "model_id": "3d36276717714bb4a5a27ddfa2eaecee",
       "version_major": 2,
       "version_minor": 0
      },
      "text/plain": [
       "Executing:   0%|          | 0/23 [00:00<?, ?cell/s]"
      ]
     },
     "metadata": {},
     "output_type": "display_data"
    },
    {
     "name": "stdout",
     "output_type": "stream",
     "text": [
      "running for USDT for date 2021-12-08 to 2021-12-15\r"
     ]
    },
    {
     "data": {
      "application/vnd.jupyter.widget-view+json": {
       "model_id": "b6085b6f69fd4eecb0696418150885d2",
       "version_major": 2,
       "version_minor": 0
      },
      "text/plain": [
       "Executing:   0%|          | 0/23 [00:00<?, ?cell/s]"
      ]
     },
     "metadata": {},
     "output_type": "display_data"
    },
    {
     "name": "stdout",
     "output_type": "stream",
     "text": [
      "running for SOL for date 2021-12-08 to 2021-12-15\r"
     ]
    },
    {
     "data": {
      "application/vnd.jupyter.widget-view+json": {
       "model_id": "282d714f69614c15b868d994f2c4a5ab",
       "version_major": 2,
       "version_minor": 0
      },
      "text/plain": [
       "Executing:   0%|          | 0/23 [00:00<?, ?cell/s]"
      ]
     },
     "metadata": {},
     "output_type": "display_data"
    },
    {
     "name": "stdout",
     "output_type": "stream",
     "text": [
      "running for ADA for date 2021-12-08 to 2021-12-15\r"
     ]
    },
    {
     "data": {
      "application/vnd.jupyter.widget-view+json": {
       "model_id": "f4e84008b1f444c0b4f314aca43dcb29",
       "version_major": 2,
       "version_minor": 0
      },
      "text/plain": [
       "Executing:   0%|          | 0/23 [00:00<?, ?cell/s]"
      ]
     },
     "metadata": {},
     "output_type": "display_data"
    },
    {
     "name": "stdout",
     "output_type": "stream",
     "text": [
      "running for DOT for date 2021-12-08 to 2021-12-15\r"
     ]
    },
    {
     "data": {
      "application/vnd.jupyter.widget-view+json": {
       "model_id": "ff81567b3f9e42f3b17eb9c8bf043d8b",
       "version_major": 2,
       "version_minor": 0
      },
      "text/plain": [
       "Executing:   0%|          | 0/23 [00:00<?, ?cell/s]"
      ]
     },
     "metadata": {},
     "output_type": "display_data"
    },
    {
     "name": "stdout",
     "output_type": "stream",
     "text": [
      "running for AVAX for date 2021-12-08 to 2021-12-15\r"
     ]
    },
    {
     "data": {
      "application/vnd.jupyter.widget-view+json": {
       "model_id": "7a36c1914294426abc00b5c23629b049",
       "version_major": 2,
       "version_minor": 0
      },
      "text/plain": [
       "Executing:   0%|          | 0/23 [00:00<?, ?cell/s]"
      ]
     },
     "metadata": {},
     "output_type": "display_data"
    },
    {
     "name": "stdout",
     "output_type": "stream",
     "text": [
      "running for ATOM for date 2021-12-08 to 2021-12-15\r"
     ]
    },
    {
     "data": {
      "application/vnd.jupyter.widget-view+json": {
       "model_id": "0683fe535347436db0117da22457ae75",
       "version_major": 2,
       "version_minor": 0
      },
      "text/plain": [
       "Executing:   0%|          | 0/23 [00:00<?, ?cell/s]"
      ]
     },
     "metadata": {},
     "output_type": "display_data"
    },
    {
     "name": "stdout",
     "output_type": "stream",
     "text": [
      "running for CRV for date 2021-12-08 to 2021-12-15\r"
     ]
    },
    {
     "data": {
      "application/vnd.jupyter.widget-view+json": {
       "model_id": "32dc2654f1b2400180cd7d5ad173649a",
       "version_major": 2,
       "version_minor": 0
      },
      "text/plain": [
       "Executing:   0%|          | 0/23 [00:00<?, ?cell/s]"
      ]
     },
     "metadata": {},
     "output_type": "display_data"
    },
    {
     "name": "stdout",
     "output_type": "stream",
     "text": [
      "running for AAVE for date 2021-12-08 to 2021-12-15\r"
     ]
    },
    {
     "data": {
      "application/vnd.jupyter.widget-view+json": {
       "model_id": "e1db2e5373af4957bc297e36fa0525f0",
       "version_major": 2,
       "version_minor": 0
      },
      "text/plain": [
       "Executing:   0%|          | 0/23 [00:00<?, ?cell/s]"
      ]
     },
     "metadata": {},
     "output_type": "display_data"
    },
    {
     "name": "stdout",
     "output_type": "stream",
     "text": [
      "running for COMP for date 2021-12-08 to 2021-12-15\r"
     ]
    },
    {
     "data": {
      "application/vnd.jupyter.widget-view+json": {
       "model_id": "859a9d6719dd4935ace685f58c74b8c0",
       "version_major": 2,
       "version_minor": 0
      },
      "text/plain": [
       "Executing:   0%|          | 0/23 [00:00<?, ?cell/s]"
      ]
     },
     "metadata": {},
     "output_type": "display_data"
    }
   ],
   "source": [
    "for run_date in run_dates:\n",
    "    for token in tokens:\n",
    "        print(f'running for {token} for date {run_date} to {run_date + timedelta(days=7)}', end='\\r')\n",
    "        res = pm.execute_notebook(\n",
    "            'HW4_template_Yunjie_Yang.ipynb',\n",
    "            f'{base_output_folder}/market_analysis_{token}_{run_date}.ipynb',\n",
    "            parameters = {\n",
    "                'from_date': f'{run_date}',\n",
    "                'to_date': f'{run_date + timedelta(days=14)}',\n",
    "                'token': token,\n",
    "                'connection_string': connection_string,\n",
    "            }\n",
    "        )"
   ]
  },
  {
   "cell_type": "code",
   "execution_count": 60,
   "id": "c3305a91-89e7-4ce0-8adb-946ae157080e",
   "metadata": {},
   "outputs": [],
   "source": [
    "nbs = sb.read_notebooks('outputs')"
   ]
  },
  {
   "cell_type": "code",
   "execution_count": 101,
   "id": "970816fd-c31a-4237-b612-be74d73eef34",
   "metadata": {},
   "outputs": [],
   "source": [
    "summary = pd.DataFrame([\n",
    "    pd.Series({\n",
    "        'token': scrap['token'].data,\n",
    "        'from_date': scrap['from_date'].data,\n",
    "        'to_date': scrap['to_date'].data,\n",
    "        'return': np.nanmean(scrap['prices'].data['return']),\n",
    "        'volatility': scrap['prices'].data.volatility.mean(),\n",
    "        'maxMarkdown': scrap['prices'].data.maxMarkdown.max(),\n",
    "        'close':scrap['prices'].data.close.max() }) \n",
    "    for book, scrap in nbs.notebook_scraps.items()\n",
    "])"
   ]
  },
  {
   "cell_type": "markdown",
   "id": "5fbd0194-32fc-475c-9803-6ee4bb7a27be",
   "metadata": {},
   "source": [
    "avg hourly return by run\n",
    "avg volatility by run\n",
    "maximum drawdown over the entire period of each run\n",
    "range of last close price - first close price"
   ]
  },
  {
   "cell_type": "code",
   "execution_count": 102,
   "id": "09a233b9-4b7f-4ff1-a571-c0e1a10aafc2",
   "metadata": {},
   "outputs": [
    {
     "data": {
      "text/html": [
       "<div>\n",
       "<style scoped>\n",
       "    .dataframe tbody tr th:only-of-type {\n",
       "        vertical-align: middle;\n",
       "    }\n",
       "\n",
       "    .dataframe tbody tr th {\n",
       "        vertical-align: top;\n",
       "    }\n",
       "\n",
       "    .dataframe thead th {\n",
       "        text-align: right;\n",
       "    }\n",
       "</style>\n",
       "<table border=\"1\" class=\"dataframe\">\n",
       "  <thead>\n",
       "    <tr style=\"text-align: right;\">\n",
       "      <th></th>\n",
       "      <th>token</th>\n",
       "      <th>from_date</th>\n",
       "      <th>to_date</th>\n",
       "      <th>return</th>\n",
       "      <th>volatility</th>\n",
       "      <th>maxMarkdown</th>\n",
       "      <th>close</th>\n",
       "    </tr>\n",
       "  </thead>\n",
       "  <tbody>\n",
       "    <tr>\n",
       "      <th>0</th>\n",
       "      <td>AAVE</td>\n",
       "      <td>2021-12-08</td>\n",
       "      <td>2021-12-22</td>\n",
       "      <td>-0.000550</td>\n",
       "      <td>0.190581</td>\n",
       "      <td>8.7810</td>\n",
       "      <td>203.6060</td>\n",
       "    </tr>\n",
       "    <tr>\n",
       "      <th>1</th>\n",
       "      <td>ADA</td>\n",
       "      <td>2021-12-08</td>\n",
       "      <td>2021-12-22</td>\n",
       "      <td>-0.000483</td>\n",
       "      <td>0.192630</td>\n",
       "      <td>0.0614</td>\n",
       "      <td>1.4095</td>\n",
       "    </tr>\n",
       "    <tr>\n",
       "      <th>2</th>\n",
       "      <td>ATOM</td>\n",
       "      <td>2021-12-08</td>\n",
       "      <td>2021-12-22</td>\n",
       "      <td>-0.000601</td>\n",
       "      <td>0.236192</td>\n",
       "      <td>1.2700</td>\n",
       "      <td>25.5800</td>\n",
       "    </tr>\n",
       "    <tr>\n",
       "      <th>3</th>\n",
       "      <td>AVAX</td>\n",
       "      <td>2021-12-08</td>\n",
       "      <td>2021-12-22</td>\n",
       "      <td>-0.000113</td>\n",
       "      <td>0.233338</td>\n",
       "      <td>4.6700</td>\n",
       "      <td>93.8700</td>\n",
       "    </tr>\n",
       "    <tr>\n",
       "      <th>4</th>\n",
       "      <td>BTC</td>\n",
       "      <td>2021-12-08</td>\n",
       "      <td>2021-12-22</td>\n",
       "      <td>-0.000264</td>\n",
       "      <td>0.133991</td>\n",
       "      <td>2136.8300</td>\n",
       "      <td>50781.0500</td>\n",
       "    </tr>\n",
       "    <tr>\n",
       "      <th>5</th>\n",
       "      <td>COMP</td>\n",
       "      <td>2021-12-08</td>\n",
       "      <td>2021-12-22</td>\n",
       "      <td>-0.001065</td>\n",
       "      <td>0.227255</td>\n",
       "      <td>24.5600</td>\n",
       "      <td>226.4200</td>\n",
       "    </tr>\n",
       "    <tr>\n",
       "      <th>6</th>\n",
       "      <td>CRV</td>\n",
       "      <td>2021-12-08</td>\n",
       "      <td>2021-12-22</td>\n",
       "      <td>-0.001111</td>\n",
       "      <td>0.256654</td>\n",
       "      <td>0.2191</td>\n",
       "      <td>4.2038</td>\n",
       "    </tr>\n",
       "    <tr>\n",
       "      <th>7</th>\n",
       "      <td>DOT</td>\n",
       "      <td>2021-12-08</td>\n",
       "      <td>2021-12-22</td>\n",
       "      <td>-0.000884</td>\n",
       "      <td>0.214344</td>\n",
       "      <td>1.7400</td>\n",
       "      <td>30.5510</td>\n",
       "    </tr>\n",
       "    <tr>\n",
       "      <th>8</th>\n",
       "      <td>ETH</td>\n",
       "      <td>2021-12-08</td>\n",
       "      <td>2021-12-22</td>\n",
       "      <td>-0.000654</td>\n",
       "      <td>0.160270</td>\n",
       "      <td>211.6900</td>\n",
       "      <td>4440.5100</td>\n",
       "    </tr>\n",
       "    <tr>\n",
       "      <th>9</th>\n",
       "      <td>SOL</td>\n",
       "      <td>2021-12-08</td>\n",
       "      <td>2021-12-22</td>\n",
       "      <td>-0.001005</td>\n",
       "      <td>0.197032</td>\n",
       "      <td>10.7800</td>\n",
       "      <td>194.7920</td>\n",
       "    </tr>\n",
       "    <tr>\n",
       "      <th>10</th>\n",
       "      <td>USDT</td>\n",
       "      <td>2021-12-08</td>\n",
       "      <td>2021-12-22</td>\n",
       "      <td>-0.000002</td>\n",
       "      <td>0.002822</td>\n",
       "      <td>0.0007</td>\n",
       "      <td>1.0011</td>\n",
       "    </tr>\n",
       "  </tbody>\n",
       "</table>\n",
       "</div>"
      ],
      "text/plain": [
       "   token   from_date     to_date    return  volatility  maxMarkdown  \\\n",
       "0   AAVE  2021-12-08  2021-12-22 -0.000550    0.190581       8.7810   \n",
       "1    ADA  2021-12-08  2021-12-22 -0.000483    0.192630       0.0614   \n",
       "2   ATOM  2021-12-08  2021-12-22 -0.000601    0.236192       1.2700   \n",
       "3   AVAX  2021-12-08  2021-12-22 -0.000113    0.233338       4.6700   \n",
       "4    BTC  2021-12-08  2021-12-22 -0.000264    0.133991    2136.8300   \n",
       "5   COMP  2021-12-08  2021-12-22 -0.001065    0.227255      24.5600   \n",
       "6    CRV  2021-12-08  2021-12-22 -0.001111    0.256654       0.2191   \n",
       "7    DOT  2021-12-08  2021-12-22 -0.000884    0.214344       1.7400   \n",
       "8    ETH  2021-12-08  2021-12-22 -0.000654    0.160270     211.6900   \n",
       "9    SOL  2021-12-08  2021-12-22 -0.001005    0.197032      10.7800   \n",
       "10  USDT  2021-12-08  2021-12-22 -0.000002    0.002822       0.0007   \n",
       "\n",
       "         close  \n",
       "0     203.6060  \n",
       "1       1.4095  \n",
       "2      25.5800  \n",
       "3      93.8700  \n",
       "4   50781.0500  \n",
       "5     226.4200  \n",
       "6       4.2038  \n",
       "7      30.5510  \n",
       "8    4440.5100  \n",
       "9     194.7920  \n",
       "10      1.0011  "
      ]
     },
     "execution_count": 102,
     "metadata": {},
     "output_type": "execute_result"
    }
   ],
   "source": [
    "summary"
   ]
  },
  {
   "cell_type": "code",
   "execution_count": null,
   "id": "de1b888a-d869-41ba-97e3-5aa4faba13e8",
   "metadata": {},
   "outputs": [],
   "source": []
  }
 ],
 "metadata": {
  "kernelspec": {
   "display_name": "Python 3 (ipykernel)",
   "language": "python",
   "name": "python3"
  },
  "language_info": {
   "codemirror_mode": {
    "name": "ipython",
    "version": 3
   },
   "file_extension": ".py",
   "mimetype": "text/x-python",
   "name": "python",
   "nbconvert_exporter": "python",
   "pygments_lexer": "ipython3",
   "version": "3.9.7"
  }
 },
 "nbformat": 4,
 "nbformat_minor": 5
}
