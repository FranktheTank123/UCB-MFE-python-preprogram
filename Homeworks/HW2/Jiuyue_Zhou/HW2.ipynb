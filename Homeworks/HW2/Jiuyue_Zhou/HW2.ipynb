{
 "cells": [
  {
   "cell_type": "code",
   "execution_count": 1,
   "id": "cd57c7c3-c8ac-4274-9d7d-dcc2f461ace0",
   "metadata": {},
   "outputs": [],
   "source": [
    "import numpy as np\n",
    "import pandas as pd\n",
    "import requests"
   ]
  },
  {
   "cell_type": "markdown",
   "id": "532c579d-3dba-44ce-a47a-2bf3d3f76cfb",
   "metadata": {},
   "source": [
    "- Get the time series for the following cryptocurrencies from `cryptowat.ch` starting from 2021-11-22, hourly data\n",
    "    1. ETH\n",
    "    2. SOL\n",
    "    3. AVAX\n",
    "    4. USDT\n",
    "    5. FLOW"
   ]
  },
  {
   "cell_type": "code",
   "execution_count": 2,
   "id": "10b5fb89-e4f5-4847-9722-41d825f4f177",
   "metadata": {},
   "outputs": [],
   "source": [
    "def get_data(token):\n",
    "    if token == 'FLOW':\n",
    "        exchange = 'kraken'\n",
    "    else:\n",
    "        exchange = 'coinbase-pro'\n",
    "    result = requests.get(f'https://api.cryptowat.ch/markets/{exchange}/{token}usd/ohlc',\n",
    "                         params={'periods': '3600',\n",
    "                                 'after': str(int(pd.Timestamp('2021-11-22').timestamp()))\n",
    "                                },\n",
    "                          timeout=10\n",
    "                         )\n",
    "    df = pd.DataFrame(result.json()['result']['3600'],\n",
    "                     columns=['ts','open','high','low','close','volume','volumeUSD'])\n",
    "    df['ts'] = pd.to_datetime(df.ts, unit='s')\n",
    "    df['token'] = token\n",
    "    \n",
    "    return df"
   ]
  },
  {
   "cell_type": "code",
   "execution_count": 3,
   "id": "402f21e8-9729-4b0a-8e4e-7a8778839ede",
   "metadata": {},
   "outputs": [],
   "source": [
    "tokens = ['ETH','SOL','AVAX','USDT','FLOW']"
   ]
  },
  {
   "cell_type": "code",
   "execution_count": 4,
   "id": "f3bded26-0cb5-4065-abde-8bd68dfbb298",
   "metadata": {},
   "outputs": [],
   "source": [
    "dfs = [get_data(token) for token in tokens]"
   ]
  },
  {
   "cell_type": "code",
   "execution_count": 5,
   "id": "2f731e2a-c488-48a0-a44e-403017462251",
   "metadata": {},
   "outputs": [],
   "source": [
    "df = pd.concat(dfs)"
   ]
  },
  {
   "cell_type": "code",
   "execution_count": 6,
   "id": "fd56bdfa-b454-47cf-85b6-261ddd1527b7",
   "metadata": {},
   "outputs": [
    {
     "data": {
      "text/html": [
       "<div>\n",
       "<style scoped>\n",
       "    .dataframe tbody tr th:only-of-type {\n",
       "        vertical-align: middle;\n",
       "    }\n",
       "\n",
       "    .dataframe tbody tr th {\n",
       "        vertical-align: top;\n",
       "    }\n",
       "\n",
       "    .dataframe thead th {\n",
       "        text-align: right;\n",
       "    }\n",
       "</style>\n",
       "<table border=\"1\" class=\"dataframe\">\n",
       "  <thead>\n",
       "    <tr style=\"text-align: right;\">\n",
       "      <th></th>\n",
       "      <th>ts</th>\n",
       "      <th>open</th>\n",
       "      <th>high</th>\n",
       "      <th>low</th>\n",
       "      <th>close</th>\n",
       "      <th>volume</th>\n",
       "      <th>volumeUSD</th>\n",
       "      <th>token</th>\n",
       "    </tr>\n",
       "  </thead>\n",
       "  <tbody>\n",
       "    <tr>\n",
       "      <th>0</th>\n",
       "      <td>2021-11-22 00:00:00</td>\n",
       "      <td>4317.98</td>\n",
       "      <td>4342.24</td>\n",
       "      <td>4246.07</td>\n",
       "      <td>4262.99</td>\n",
       "      <td>7262.562789</td>\n",
       "      <td>3.123077e+07</td>\n",
       "      <td>ETH</td>\n",
       "    </tr>\n",
       "    <tr>\n",
       "      <th>1</th>\n",
       "      <td>2021-11-22 01:00:00</td>\n",
       "      <td>4263.04</td>\n",
       "      <td>4270.34</td>\n",
       "      <td>4212.45</td>\n",
       "      <td>4234.37</td>\n",
       "      <td>8437.946084</td>\n",
       "      <td>3.574586e+07</td>\n",
       "      <td>ETH</td>\n",
       "    </tr>\n",
       "    <tr>\n",
       "      <th>2</th>\n",
       "      <td>2021-11-22 02:00:00</td>\n",
       "      <td>4234.87</td>\n",
       "      <td>4246.72</td>\n",
       "      <td>4171.17</td>\n",
       "      <td>4217.89</td>\n",
       "      <td>9259.725370</td>\n",
       "      <td>3.895639e+07</td>\n",
       "      <td>ETH</td>\n",
       "    </tr>\n",
       "    <tr>\n",
       "      <th>3</th>\n",
       "      <td>2021-11-22 03:00:00</td>\n",
       "      <td>4217.88</td>\n",
       "      <td>4223.48</td>\n",
       "      <td>4163.58</td>\n",
       "      <td>4193.47</td>\n",
       "      <td>9259.899519</td>\n",
       "      <td>3.882032e+07</td>\n",
       "      <td>ETH</td>\n",
       "    </tr>\n",
       "    <tr>\n",
       "      <th>4</th>\n",
       "      <td>2021-11-22 04:00:00</td>\n",
       "      <td>4192.95</td>\n",
       "      <td>4213.59</td>\n",
       "      <td>4147.00</td>\n",
       "      <td>4168.35</td>\n",
       "      <td>7934.546906</td>\n",
       "      <td>3.315476e+07</td>\n",
       "      <td>ETH</td>\n",
       "    </tr>\n",
       "  </tbody>\n",
       "</table>\n",
       "</div>"
      ],
      "text/plain": [
       "                   ts     open     high      low    close       volume  \\\n",
       "0 2021-11-22 00:00:00  4317.98  4342.24  4246.07  4262.99  7262.562789   \n",
       "1 2021-11-22 01:00:00  4263.04  4270.34  4212.45  4234.37  8437.946084   \n",
       "2 2021-11-22 02:00:00  4234.87  4246.72  4171.17  4217.89  9259.725370   \n",
       "3 2021-11-22 03:00:00  4217.88  4223.48  4163.58  4193.47  9259.899519   \n",
       "4 2021-11-22 04:00:00  4192.95  4213.59  4147.00  4168.35  7934.546906   \n",
       "\n",
       "      volumeUSD token  \n",
       "0  3.123077e+07   ETH  \n",
       "1  3.574586e+07   ETH  \n",
       "2  3.895639e+07   ETH  \n",
       "3  3.882032e+07   ETH  \n",
       "4  3.315476e+07   ETH  "
      ]
     },
     "execution_count": 6,
     "metadata": {},
     "output_type": "execute_result"
    }
   ],
   "source": [
    "df.head()"
   ]
  },
  {
   "cell_type": "code",
   "execution_count": 7,
   "id": "3c0002d3-400e-4599-a64c-a15f9dfba8bc",
   "metadata": {},
   "outputs": [
    {
     "data": {
      "text/html": [
       "<div>\n",
       "<style scoped>\n",
       "    .dataframe tbody tr th:only-of-type {\n",
       "        vertical-align: middle;\n",
       "    }\n",
       "\n",
       "    .dataframe tbody tr th {\n",
       "        vertical-align: top;\n",
       "    }\n",
       "\n",
       "    .dataframe thead th {\n",
       "        text-align: right;\n",
       "    }\n",
       "</style>\n",
       "<table border=\"1\" class=\"dataframe\">\n",
       "  <thead>\n",
       "    <tr style=\"text-align: right;\">\n",
       "      <th></th>\n",
       "      <th>ts</th>\n",
       "      <th>open</th>\n",
       "      <th>high</th>\n",
       "      <th>low</th>\n",
       "      <th>close</th>\n",
       "      <th>volume</th>\n",
       "      <th>volumeUSD</th>\n",
       "      <th>token</th>\n",
       "    </tr>\n",
       "  </thead>\n",
       "  <tbody>\n",
       "    <tr>\n",
       "      <th>516</th>\n",
       "      <td>2021-12-13 12:00:00</td>\n",
       "      <td>9.017</td>\n",
       "      <td>9.127</td>\n",
       "      <td>9.000</td>\n",
       "      <td>9.124</td>\n",
       "      <td>26130.079295</td>\n",
       "      <td>236559.118484</td>\n",
       "      <td>FLOW</td>\n",
       "    </tr>\n",
       "    <tr>\n",
       "      <th>517</th>\n",
       "      <td>2021-12-13 13:00:00</td>\n",
       "      <td>9.126</td>\n",
       "      <td>9.299</td>\n",
       "      <td>9.123</td>\n",
       "      <td>9.130</td>\n",
       "      <td>36156.486241</td>\n",
       "      <td>332335.772990</td>\n",
       "      <td>FLOW</td>\n",
       "    </tr>\n",
       "    <tr>\n",
       "      <th>518</th>\n",
       "      <td>2021-12-13 14:00:00</td>\n",
       "      <td>9.131</td>\n",
       "      <td>9.131</td>\n",
       "      <td>8.995</td>\n",
       "      <td>9.035</td>\n",
       "      <td>33930.957700</td>\n",
       "      <td>307616.864368</td>\n",
       "      <td>FLOW</td>\n",
       "    </tr>\n",
       "    <tr>\n",
       "      <th>519</th>\n",
       "      <td>2021-12-13 15:00:00</td>\n",
       "      <td>9.034</td>\n",
       "      <td>9.036</td>\n",
       "      <td>8.851</td>\n",
       "      <td>8.892</td>\n",
       "      <td>21271.339724</td>\n",
       "      <td>189629.132673</td>\n",
       "      <td>FLOW</td>\n",
       "    </tr>\n",
       "    <tr>\n",
       "      <th>520</th>\n",
       "      <td>2021-12-13 16:00:00</td>\n",
       "      <td>8.892</td>\n",
       "      <td>8.892</td>\n",
       "      <td>8.748</td>\n",
       "      <td>8.806</td>\n",
       "      <td>11090.771107</td>\n",
       "      <td>98126.338366</td>\n",
       "      <td>FLOW</td>\n",
       "    </tr>\n",
       "  </tbody>\n",
       "</table>\n",
       "</div>"
      ],
      "text/plain": [
       "                     ts   open   high    low  close        volume  \\\n",
       "516 2021-12-13 12:00:00  9.017  9.127  9.000  9.124  26130.079295   \n",
       "517 2021-12-13 13:00:00  9.126  9.299  9.123  9.130  36156.486241   \n",
       "518 2021-12-13 14:00:00  9.131  9.131  8.995  9.035  33930.957700   \n",
       "519 2021-12-13 15:00:00  9.034  9.036  8.851  8.892  21271.339724   \n",
       "520 2021-12-13 16:00:00  8.892  8.892  8.748  8.806  11090.771107   \n",
       "\n",
       "         volumeUSD token  \n",
       "516  236559.118484  FLOW  \n",
       "517  332335.772990  FLOW  \n",
       "518  307616.864368  FLOW  \n",
       "519  189629.132673  FLOW  \n",
       "520   98126.338366  FLOW  "
      ]
     },
     "execution_count": 7,
     "metadata": {},
     "output_type": "execute_result"
    }
   ],
   "source": [
    "df.tail()"
   ]
  },
  {
   "cell_type": "markdown",
   "id": "c8e84388-a1f6-4c21-b944-300398f2839f",
   "metadata": {
    "tags": []
   },
   "source": [
    "- Get the total USD volume traded for each token in a dataframe, sorted from highest volume to lowest volume"
   ]
  },
  {
   "cell_type": "code",
   "execution_count": 8,
   "id": "d389cab4-7b13-4bbf-8f51-02d393c08266",
   "metadata": {},
   "outputs": [
    {
     "data": {
      "text/plain": [
       "token\n",
       "ETH     2.014065e+10\n",
       "SOL     6.586254e+09\n",
       "AVAX    3.325960e+09\n",
       "USDT    1.915401e+09\n",
       "FLOW    8.376490e+07\n",
       "Name: volumeUSD, dtype: float64"
      ]
     },
     "execution_count": 8,
     "metadata": {},
     "output_type": "execute_result"
    }
   ],
   "source": [
    "df.groupby('token')['volumeUSD'].sum().sort_values(ascending=False)"
   ]
  },
  {
   "cell_type": "markdown",
   "id": "fdffb958-35d5-4d70-aadc-4d77e8b87a59",
   "metadata": {
    "tags": []
   },
   "source": [
    "- Add a column that calculates the close price ratio between ETH and SOL for each house (i.e. close price of ETH / close price of SOL for each period)"
   ]
  },
  {
   "cell_type": "code",
   "execution_count": 9,
   "id": "61f615ef-3740-4e94-8da5-a52568956ed9",
   "metadata": {},
   "outputs": [
    {
     "data": {
      "text/plain": [
       "ts\n",
       "2021-11-22 00:00:00    18.471694\n",
       "2021-11-22 01:00:00    18.736150\n",
       "2021-11-22 02:00:00    18.577985\n",
       "2021-11-22 03:00:00    18.794937\n",
       "2021-11-22 04:00:00    18.891059\n",
       "                         ...    \n",
       "2021-12-13 12:00:00    23.916885\n",
       "2021-12-13 13:00:00    23.959647\n",
       "2021-12-13 14:00:00    24.186603\n",
       "2021-12-13 15:00:00    24.126092\n",
       "2021-12-13 16:00:00    24.153299\n",
       "Name: ETH2SOL, Length: 521, dtype: float64"
      ]
     },
     "execution_count": 9,
     "metadata": {},
     "output_type": "execute_result"
    }
   ],
   "source": [
    "ETH_df, SOL_df = dfs[0], dfs[1]\n",
    "ETH2SOL_s = ETH_df.set_index('ts').close / SOL_df.set_index('ts').close\n",
    "ETH2SOL_s.name = 'ETH2SOL'\n",
    "ETH2SOL_s"
   ]
  },
  {
   "cell_type": "code",
   "execution_count": 10,
   "id": "75ae7649-094d-4f0d-b1d0-8fa6b38c698c",
   "metadata": {},
   "outputs": [
    {
     "data": {
      "text/html": [
       "<div>\n",
       "<style scoped>\n",
       "    .dataframe tbody tr th:only-of-type {\n",
       "        vertical-align: middle;\n",
       "    }\n",
       "\n",
       "    .dataframe tbody tr th {\n",
       "        vertical-align: top;\n",
       "    }\n",
       "\n",
       "    .dataframe thead th {\n",
       "        text-align: right;\n",
       "    }\n",
       "</style>\n",
       "<table border=\"1\" class=\"dataframe\">\n",
       "  <thead>\n",
       "    <tr style=\"text-align: right;\">\n",
       "      <th></th>\n",
       "      <th>ts</th>\n",
       "      <th>open</th>\n",
       "      <th>high</th>\n",
       "      <th>low</th>\n",
       "      <th>close</th>\n",
       "      <th>volume</th>\n",
       "      <th>volumeUSD</th>\n",
       "      <th>token</th>\n",
       "      <th>ETH2SOL</th>\n",
       "    </tr>\n",
       "  </thead>\n",
       "  <tbody>\n",
       "    <tr>\n",
       "      <th>0</th>\n",
       "      <td>2021-11-22 00:00:00</td>\n",
       "      <td>4317.98</td>\n",
       "      <td>4342.24</td>\n",
       "      <td>4246.07</td>\n",
       "      <td>4262.99</td>\n",
       "      <td>7262.562789</td>\n",
       "      <td>3.123077e+07</td>\n",
       "      <td>ETH</td>\n",
       "      <td>18.471694</td>\n",
       "    </tr>\n",
       "    <tr>\n",
       "      <th>1</th>\n",
       "      <td>2021-11-22 01:00:00</td>\n",
       "      <td>4263.04</td>\n",
       "      <td>4270.34</td>\n",
       "      <td>4212.45</td>\n",
       "      <td>4234.37</td>\n",
       "      <td>8437.946084</td>\n",
       "      <td>3.574586e+07</td>\n",
       "      <td>ETH</td>\n",
       "      <td>18.736150</td>\n",
       "    </tr>\n",
       "    <tr>\n",
       "      <th>2</th>\n",
       "      <td>2021-11-22 02:00:00</td>\n",
       "      <td>4234.87</td>\n",
       "      <td>4246.72</td>\n",
       "      <td>4171.17</td>\n",
       "      <td>4217.89</td>\n",
       "      <td>9259.725370</td>\n",
       "      <td>3.895639e+07</td>\n",
       "      <td>ETH</td>\n",
       "      <td>18.577985</td>\n",
       "    </tr>\n",
       "    <tr>\n",
       "      <th>3</th>\n",
       "      <td>2021-11-22 03:00:00</td>\n",
       "      <td>4217.88</td>\n",
       "      <td>4223.48</td>\n",
       "      <td>4163.58</td>\n",
       "      <td>4193.47</td>\n",
       "      <td>9259.899519</td>\n",
       "      <td>3.882032e+07</td>\n",
       "      <td>ETH</td>\n",
       "      <td>18.794937</td>\n",
       "    </tr>\n",
       "    <tr>\n",
       "      <th>4</th>\n",
       "      <td>2021-11-22 04:00:00</td>\n",
       "      <td>4192.95</td>\n",
       "      <td>4213.59</td>\n",
       "      <td>4147.00</td>\n",
       "      <td>4168.35</td>\n",
       "      <td>7934.546906</td>\n",
       "      <td>3.315476e+07</td>\n",
       "      <td>ETH</td>\n",
       "      <td>18.891059</td>\n",
       "    </tr>\n",
       "  </tbody>\n",
       "</table>\n",
       "</div>"
      ],
      "text/plain": [
       "                   ts     open     high      low    close       volume  \\\n",
       "0 2021-11-22 00:00:00  4317.98  4342.24  4246.07  4262.99  7262.562789   \n",
       "1 2021-11-22 01:00:00  4263.04  4270.34  4212.45  4234.37  8437.946084   \n",
       "2 2021-11-22 02:00:00  4234.87  4246.72  4171.17  4217.89  9259.725370   \n",
       "3 2021-11-22 03:00:00  4217.88  4223.48  4163.58  4193.47  9259.899519   \n",
       "4 2021-11-22 04:00:00  4192.95  4213.59  4147.00  4168.35  7934.546906   \n",
       "\n",
       "      volumeUSD token    ETH2SOL  \n",
       "0  3.123077e+07   ETH  18.471694  \n",
       "1  3.574586e+07   ETH  18.736150  \n",
       "2  3.895639e+07   ETH  18.577985  \n",
       "3  3.882032e+07   ETH  18.794937  \n",
       "4  3.315476e+07   ETH  18.891059  "
      ]
     },
     "execution_count": 10,
     "metadata": {},
     "output_type": "execute_result"
    }
   ],
   "source": [
    "df_addcolumn = df.join(ETH2SOL_s, on='ts')\n",
    "df_addcolumn.head()"
   ]
  },
  {
   "cell_type": "markdown",
   "id": "8b9e2ac0-b8d1-41f3-985d-1e198a28060f",
   "metadata": {},
   "source": [
    "- Change the name of the `volume` and `volumeUSD` columns to `volumeBase` and `volumeTerm`"
   ]
  },
  {
   "cell_type": "code",
   "execution_count": 11,
   "id": "20d33c4b-825b-4bbb-a27f-bb369f0a9ef0",
   "metadata": {},
   "outputs": [
    {
     "data": {
      "text/html": [
       "<div>\n",
       "<style scoped>\n",
       "    .dataframe tbody tr th:only-of-type {\n",
       "        vertical-align: middle;\n",
       "    }\n",
       "\n",
       "    .dataframe tbody tr th {\n",
       "        vertical-align: top;\n",
       "    }\n",
       "\n",
       "    .dataframe thead th {\n",
       "        text-align: right;\n",
       "    }\n",
       "</style>\n",
       "<table border=\"1\" class=\"dataframe\">\n",
       "  <thead>\n",
       "    <tr style=\"text-align: right;\">\n",
       "      <th></th>\n",
       "      <th>ts</th>\n",
       "      <th>open</th>\n",
       "      <th>high</th>\n",
       "      <th>low</th>\n",
       "      <th>close</th>\n",
       "      <th>volumeBase</th>\n",
       "      <th>volumeTerm</th>\n",
       "      <th>token</th>\n",
       "    </tr>\n",
       "  </thead>\n",
       "  <tbody>\n",
       "    <tr>\n",
       "      <th>0</th>\n",
       "      <td>2021-11-22 00:00:00</td>\n",
       "      <td>4317.98</td>\n",
       "      <td>4342.24</td>\n",
       "      <td>4246.07</td>\n",
       "      <td>4262.99</td>\n",
       "      <td>7262.562789</td>\n",
       "      <td>3.123077e+07</td>\n",
       "      <td>ETH</td>\n",
       "    </tr>\n",
       "    <tr>\n",
       "      <th>1</th>\n",
       "      <td>2021-11-22 01:00:00</td>\n",
       "      <td>4263.04</td>\n",
       "      <td>4270.34</td>\n",
       "      <td>4212.45</td>\n",
       "      <td>4234.37</td>\n",
       "      <td>8437.946084</td>\n",
       "      <td>3.574586e+07</td>\n",
       "      <td>ETH</td>\n",
       "    </tr>\n",
       "    <tr>\n",
       "      <th>2</th>\n",
       "      <td>2021-11-22 02:00:00</td>\n",
       "      <td>4234.87</td>\n",
       "      <td>4246.72</td>\n",
       "      <td>4171.17</td>\n",
       "      <td>4217.89</td>\n",
       "      <td>9259.725370</td>\n",
       "      <td>3.895639e+07</td>\n",
       "      <td>ETH</td>\n",
       "    </tr>\n",
       "    <tr>\n",
       "      <th>3</th>\n",
       "      <td>2021-11-22 03:00:00</td>\n",
       "      <td>4217.88</td>\n",
       "      <td>4223.48</td>\n",
       "      <td>4163.58</td>\n",
       "      <td>4193.47</td>\n",
       "      <td>9259.899519</td>\n",
       "      <td>3.882032e+07</td>\n",
       "      <td>ETH</td>\n",
       "    </tr>\n",
       "    <tr>\n",
       "      <th>4</th>\n",
       "      <td>2021-11-22 04:00:00</td>\n",
       "      <td>4192.95</td>\n",
       "      <td>4213.59</td>\n",
       "      <td>4147.00</td>\n",
       "      <td>4168.35</td>\n",
       "      <td>7934.546906</td>\n",
       "      <td>3.315476e+07</td>\n",
       "      <td>ETH</td>\n",
       "    </tr>\n",
       "  </tbody>\n",
       "</table>\n",
       "</div>"
      ],
      "text/plain": [
       "                   ts     open     high      low    close   volumeBase  \\\n",
       "0 2021-11-22 00:00:00  4317.98  4342.24  4246.07  4262.99  7262.562789   \n",
       "1 2021-11-22 01:00:00  4263.04  4270.34  4212.45  4234.37  8437.946084   \n",
       "2 2021-11-22 02:00:00  4234.87  4246.72  4171.17  4217.89  9259.725370   \n",
       "3 2021-11-22 03:00:00  4217.88  4223.48  4163.58  4193.47  9259.899519   \n",
       "4 2021-11-22 04:00:00  4192.95  4213.59  4147.00  4168.35  7934.546906   \n",
       "\n",
       "     volumeTerm token  \n",
       "0  3.123077e+07   ETH  \n",
       "1  3.574586e+07   ETH  \n",
       "2  3.895639e+07   ETH  \n",
       "3  3.882032e+07   ETH  \n",
       "4  3.315476e+07   ETH  "
      ]
     },
     "execution_count": 11,
     "metadata": {},
     "output_type": "execute_result"
    }
   ],
   "source": [
    "df_changename = df.rename(columns={'volume':'volumeBase','volumeUSD': 'volumeTerm'})\n",
    "df_changename.head()"
   ]
  },
  {
   "cell_type": "markdown",
   "id": "421336af-41cf-46eb-991c-92beb36d7eab",
   "metadata": {},
   "source": [
    "- create a fat table indexed by the timestamp, and each column is the close price of each token (i.e. this should be a table of  200 rows and 5 columns)"
   ]
  },
  {
   "cell_type": "code",
   "execution_count": 12,
   "id": "05b88e09-2f41-4b90-83cb-f117e8cef7be",
   "metadata": {},
   "outputs": [
    {
     "data": {
      "text/html": [
       "<div>\n",
       "<style scoped>\n",
       "    .dataframe tbody tr th:only-of-type {\n",
       "        vertical-align: middle;\n",
       "    }\n",
       "\n",
       "    .dataframe tbody tr th {\n",
       "        vertical-align: top;\n",
       "    }\n",
       "\n",
       "    .dataframe thead th {\n",
       "        text-align: right;\n",
       "    }\n",
       "</style>\n",
       "<table border=\"1\" class=\"dataframe\">\n",
       "  <thead>\n",
       "    <tr style=\"text-align: right;\">\n",
       "      <th></th>\n",
       "      <th>ETH</th>\n",
       "      <th>SOL</th>\n",
       "      <th>AVAX</th>\n",
       "      <th>USDT</th>\n",
       "      <th>FLOW</th>\n",
       "    </tr>\n",
       "    <tr>\n",
       "      <th>ts</th>\n",
       "      <th></th>\n",
       "      <th></th>\n",
       "      <th></th>\n",
       "      <th></th>\n",
       "      <th></th>\n",
       "    </tr>\n",
       "  </thead>\n",
       "  <tbody>\n",
       "    <tr>\n",
       "      <th>2021-11-22 00:00:00</th>\n",
       "      <td>4262.99</td>\n",
       "      <td>230.785</td>\n",
       "      <td>128.67</td>\n",
       "      <td>1.0012</td>\n",
       "      <td>14.150</td>\n",
       "    </tr>\n",
       "    <tr>\n",
       "      <th>2021-11-22 01:00:00</th>\n",
       "      <td>4234.37</td>\n",
       "      <td>226.000</td>\n",
       "      <td>134.85</td>\n",
       "      <td>1.0013</td>\n",
       "      <td>13.621</td>\n",
       "    </tr>\n",
       "    <tr>\n",
       "      <th>2021-11-22 02:00:00</th>\n",
       "      <td>4217.89</td>\n",
       "      <td>227.037</td>\n",
       "      <td>132.54</td>\n",
       "      <td>1.0012</td>\n",
       "      <td>13.753</td>\n",
       "    </tr>\n",
       "    <tr>\n",
       "      <th>2021-11-22 03:00:00</th>\n",
       "      <td>4193.47</td>\n",
       "      <td>223.117</td>\n",
       "      <td>133.38</td>\n",
       "      <td>1.0011</td>\n",
       "      <td>13.652</td>\n",
       "    </tr>\n",
       "    <tr>\n",
       "      <th>2021-11-22 04:00:00</th>\n",
       "      <td>4168.35</td>\n",
       "      <td>220.652</td>\n",
       "      <td>136.29</td>\n",
       "      <td>1.0009</td>\n",
       "      <td>13.581</td>\n",
       "    </tr>\n",
       "  </tbody>\n",
       "</table>\n",
       "</div>"
      ],
      "text/plain": [
       "                         ETH      SOL    AVAX    USDT    FLOW\n",
       "ts                                                           \n",
       "2021-11-22 00:00:00  4262.99  230.785  128.67  1.0012  14.150\n",
       "2021-11-22 01:00:00  4234.37  226.000  134.85  1.0013  13.621\n",
       "2021-11-22 02:00:00  4217.89  227.037  132.54  1.0012  13.753\n",
       "2021-11-22 03:00:00  4193.47  223.117  133.38  1.0011  13.652\n",
       "2021-11-22 04:00:00  4168.35  220.652  136.29  1.0009  13.581"
      ]
     },
     "execution_count": 12,
     "metadata": {},
     "output_type": "execute_result"
    }
   ],
   "source": [
    "close_df = pd.concat([token_df.set_index('ts')[['close']].rename(columns={'close':token}) for token, token_df in zip(tokens, dfs)], axis=1)\n",
    "close_df.head()"
   ]
  },
  {
   "cell_type": "markdown",
   "id": "972263c0-f6e0-439c-8a1c-fa3085844009",
   "metadata": {},
   "source": [
    "- calculate the hour by hour log return of the close price of each token (return is calculated by np.log(price_t / price_{t-1}))"
   ]
  },
  {
   "cell_type": "code",
   "execution_count": 13,
   "id": "8c6fca50-f0ea-45d0-b6f1-d5f896cb5bf4",
   "metadata": {},
   "outputs": [
    {
     "data": {
      "text/html": [
       "<div>\n",
       "<style scoped>\n",
       "    .dataframe tbody tr th:only-of-type {\n",
       "        vertical-align: middle;\n",
       "    }\n",
       "\n",
       "    .dataframe tbody tr th {\n",
       "        vertical-align: top;\n",
       "    }\n",
       "\n",
       "    .dataframe thead th {\n",
       "        text-align: right;\n",
       "    }\n",
       "</style>\n",
       "<table border=\"1\" class=\"dataframe\">\n",
       "  <thead>\n",
       "    <tr style=\"text-align: right;\">\n",
       "      <th></th>\n",
       "      <th>ETH</th>\n",
       "      <th>SOL</th>\n",
       "      <th>AVAX</th>\n",
       "      <th>USDT</th>\n",
       "      <th>FLOW</th>\n",
       "    </tr>\n",
       "    <tr>\n",
       "      <th>ts</th>\n",
       "      <th></th>\n",
       "      <th></th>\n",
       "      <th></th>\n",
       "      <th></th>\n",
       "      <th></th>\n",
       "    </tr>\n",
       "  </thead>\n",
       "  <tbody>\n",
       "    <tr>\n",
       "      <th>2021-11-22 00:00:00</th>\n",
       "      <td>NaN</td>\n",
       "      <td>NaN</td>\n",
       "      <td>NaN</td>\n",
       "      <td>NaN</td>\n",
       "      <td>NaN</td>\n",
       "    </tr>\n",
       "    <tr>\n",
       "      <th>2021-11-22 01:00:00</th>\n",
       "      <td>-0.006736</td>\n",
       "      <td>-0.020952</td>\n",
       "      <td>0.046912</td>\n",
       "      <td>0.0001</td>\n",
       "      <td>-0.038102</td>\n",
       "    </tr>\n",
       "    <tr>\n",
       "      <th>2021-11-22 02:00:00</th>\n",
       "      <td>-0.003900</td>\n",
       "      <td>0.004578</td>\n",
       "      <td>-0.017279</td>\n",
       "      <td>-0.0001</td>\n",
       "      <td>0.009644</td>\n",
       "    </tr>\n",
       "    <tr>\n",
       "      <th>2021-11-22 03:00:00</th>\n",
       "      <td>-0.005806</td>\n",
       "      <td>-0.017417</td>\n",
       "      <td>0.006318</td>\n",
       "      <td>-0.0001</td>\n",
       "      <td>-0.007371</td>\n",
       "    </tr>\n",
       "    <tr>\n",
       "      <th>2021-11-22 04:00:00</th>\n",
       "      <td>-0.006008</td>\n",
       "      <td>-0.011109</td>\n",
       "      <td>0.021583</td>\n",
       "      <td>-0.0002</td>\n",
       "      <td>-0.005214</td>\n",
       "    </tr>\n",
       "  </tbody>\n",
       "</table>\n",
       "</div>"
      ],
      "text/plain": [
       "                          ETH       SOL      AVAX    USDT      FLOW\n",
       "ts                                                                 \n",
       "2021-11-22 00:00:00       NaN       NaN       NaN     NaN       NaN\n",
       "2021-11-22 01:00:00 -0.006736 -0.020952  0.046912  0.0001 -0.038102\n",
       "2021-11-22 02:00:00 -0.003900  0.004578 -0.017279 -0.0001  0.009644\n",
       "2021-11-22 03:00:00 -0.005806 -0.017417  0.006318 -0.0001 -0.007371\n",
       "2021-11-22 04:00:00 -0.006008 -0.011109  0.021583 -0.0002 -0.005214"
      ]
     },
     "execution_count": 13,
     "metadata": {},
     "output_type": "execute_result"
    }
   ],
   "source": [
    "ret_df = np.log(close_df.pct_change() + 1)\n",
    "ret_df.head()"
   ]
  },
  {
   "cell_type": "markdown",
   "id": "d334f912-1ae9-43b0-8183-584987cabfff",
   "metadata": {},
   "source": [
    "- \\[Stretch\\] calculate the correlation of the tokens using the table above"
   ]
  },
  {
   "cell_type": "code",
   "execution_count": 14,
   "id": "7748ba80-3b97-41bd-8bf3-3fbfc5d85d66",
   "metadata": {},
   "outputs": [
    {
     "data": {
      "text/html": [
       "<div>\n",
       "<style scoped>\n",
       "    .dataframe tbody tr th:only-of-type {\n",
       "        vertical-align: middle;\n",
       "    }\n",
       "\n",
       "    .dataframe tbody tr th {\n",
       "        vertical-align: top;\n",
       "    }\n",
       "\n",
       "    .dataframe thead th {\n",
       "        text-align: right;\n",
       "    }\n",
       "</style>\n",
       "<table border=\"1\" class=\"dataframe\">\n",
       "  <thead>\n",
       "    <tr style=\"text-align: right;\">\n",
       "      <th></th>\n",
       "      <th>ETH</th>\n",
       "      <th>SOL</th>\n",
       "      <th>AVAX</th>\n",
       "      <th>USDT</th>\n",
       "      <th>FLOW</th>\n",
       "    </tr>\n",
       "  </thead>\n",
       "  <tbody>\n",
       "    <tr>\n",
       "      <th>ETH</th>\n",
       "      <td>1.000000</td>\n",
       "      <td>0.738589</td>\n",
       "      <td>0.642973</td>\n",
       "      <td>-0.116452</td>\n",
       "      <td>0.556528</td>\n",
       "    </tr>\n",
       "    <tr>\n",
       "      <th>SOL</th>\n",
       "      <td>0.738589</td>\n",
       "      <td>1.000000</td>\n",
       "      <td>0.622458</td>\n",
       "      <td>0.109445</td>\n",
       "      <td>0.442153</td>\n",
       "    </tr>\n",
       "    <tr>\n",
       "      <th>AVAX</th>\n",
       "      <td>0.642973</td>\n",
       "      <td>0.622458</td>\n",
       "      <td>1.000000</td>\n",
       "      <td>-0.015941</td>\n",
       "      <td>0.384755</td>\n",
       "    </tr>\n",
       "    <tr>\n",
       "      <th>USDT</th>\n",
       "      <td>-0.116452</td>\n",
       "      <td>0.109445</td>\n",
       "      <td>-0.015941</td>\n",
       "      <td>1.000000</td>\n",
       "      <td>-0.195512</td>\n",
       "    </tr>\n",
       "    <tr>\n",
       "      <th>FLOW</th>\n",
       "      <td>0.556528</td>\n",
       "      <td>0.442153</td>\n",
       "      <td>0.384755</td>\n",
       "      <td>-0.195512</td>\n",
       "      <td>1.000000</td>\n",
       "    </tr>\n",
       "  </tbody>\n",
       "</table>\n",
       "</div>"
      ],
      "text/plain": [
       "           ETH       SOL      AVAX      USDT      FLOW\n",
       "ETH   1.000000  0.738589  0.642973 -0.116452  0.556528\n",
       "SOL   0.738589  1.000000  0.622458  0.109445  0.442153\n",
       "AVAX  0.642973  0.622458  1.000000 -0.015941  0.384755\n",
       "USDT -0.116452  0.109445 -0.015941  1.000000 -0.195512\n",
       "FLOW  0.556528  0.442153  0.384755 -0.195512  1.000000"
      ]
     },
     "execution_count": 14,
     "metadata": {},
     "output_type": "execute_result"
    }
   ],
   "source": [
    "ret_df.corr()"
   ]
  },
  {
   "cell_type": "markdown",
   "id": "79831750-8608-4ef2-8c4e-9a2d00847a85",
   "metadata": {},
   "source": [
    "- \\[Stretch\\] visualize the correlation in a matplotlib plot"
   ]
  },
  {
   "cell_type": "code",
   "execution_count": 15,
   "id": "cfff63de-f869-41f7-94a9-2f63351052a9",
   "metadata": {},
   "outputs": [],
   "source": [
    "import matplotlib.pyplot as plt"
   ]
  },
  {
   "cell_type": "code",
   "execution_count": 16,
   "id": "15721079-52fa-4b31-96eb-a36351fdb3bb",
   "metadata": {},
   "outputs": [
    {
     "data": {
      "text/plain": [
       "<Figure size 432x288 with 0 Axes>"
      ]
     },
     "metadata": {},
     "output_type": "display_data"
    },
    {
     "data": {
      "image/png": "[encoded data removed]",
      "text/plain": [
       "<Figure size 288x288 with 2 Axes>"
      ]
     },
     "metadata": {
      "needs_background": "light"
     },
     "output_type": "display_data"
    }
   ],
   "source": [
    "fig = plt.figure()\n",
    "plt.matshow(ret_df.corr())\n",
    "cb = plt.colorbar()\n",
    "cb.ax.tick_params(labelsize=12)\n",
    "plt.show()"
   ]
  },
  {
   "cell_type": "markdown",
   "id": "94987189-c07c-4864-945b-1f570b5d09dc",
   "metadata": {},
   "source": [
    "A better way:"
   ]
  },
  {
   "cell_type": "code",
   "execution_count": 17,
   "id": "7c52feb7-3005-4cda-ac90-090ce80cdce3",
   "metadata": {},
   "outputs": [],
   "source": [
    "import seaborn as sns"
   ]
  },
  {
   "cell_type": "code",
   "execution_count": 18,
   "id": "3fe169bf-f87c-450d-8e63-198f72b8068b",
   "metadata": {},
   "outputs": [
    {
     "data": {
      "text/plain": [
       "<AxesSubplot:>"
      ]
     },
     "execution_count": 18,
     "metadata": {},
     "output_type": "execute_result"
    },
    {
     "data": {
      "image/png": "[encoded data removed]",
      "text/plain": [
       "<Figure size 432x288 with 2 Axes>"
      ]
     },
     "metadata": {
      "needs_background": "light"
     },
     "output_type": "display_data"
    }
   ],
   "source": [
    "sns.heatmap(ret_df.corr())"
   ]
  }
 ],
 "metadata": {
  "kernelspec": {
   "display_name": "Python 3 (ipykernel)",
   "language": "python",
   "name": "python3"
  },
  "language_info": {
   "codemirror_mode": {
    "name": "ipython",
    "version": 3
   },
   "file_extension": ".py",
   "mimetype": "text/x-python",
   "name": "python",
   "nbconvert_exporter": "python",
   "pygments_lexer": "ipython3",
   "version": "3.10.0"
  }
 },
 "nbformat": 4,
 "nbformat_minor": 5
}
