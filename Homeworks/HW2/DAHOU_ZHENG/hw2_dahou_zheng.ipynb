{
 "cells": [
  {
   "cell_type": "code",
   "execution_count": 1,
   "id": "e8a7cf62-b3a7-4dbb-9d85-5ca010312039",
   "metadata": {},
   "outputs": [],
   "source": [
    "import numpy as np\n",
    "import pandas as pd\n",
    "import requests\n",
    "import matplotlib.pyplot as plt\n",
    "from functools import reduce\n",
    "\n",
    "%matplotlib inline"
   ]
  },
  {
   "cell_type": "markdown",
   "id": "2d3c209c-d288-4206-b399-15349de00b75",
   "metadata": {},
   "source": [
    "Prepare the data (get the time series for the following cryptocurrencies from cryptowat.ch starting from 2021-11-22, hourly data):"
   ]
  },
  {
   "cell_type": "code",
   "execution_count": 2,
   "id": "f5b516c3-82fc-4cd8-a4e3-54b8c29bbbee",
   "metadata": {
    "tags": []
   },
   "outputs": [],
   "source": [
    "def get_data(token, exchange):\n",
    "    res = requests.get(\n",
    "        f'https://api.cryptowat.ch/markets/{exchange}/{token}usd/ohlc',\n",
    "        params={\n",
    "            'periods': '3600',\n",
    "            'after': str(int(pd.Timestamp('2021-11-22').timestamp()))\n",
    "        }\n",
    "    )\n",
    "\n",
    "    df = pd.DataFrame(\n",
    "        res.json()['result']['3600'],\n",
    "        columns=['ts', 'open', 'high', 'low', 'close', 'volume', 'volumeUSD']\n",
    "    )\n",
    "    df['ts'] = pd.to_datetime(df.ts, unit='s')\n",
    "    df['token'] = token\n",
    "    df.set_index('ts')\n",
    "    return df\n",
    "tokens = ['ETH', 'SOL', 'AVAX', 'USDT', 'FLOW']\n",
    "exchanges = ['coinbase-pro'] * 4 + ['kraken']\n",
    "dfs = [get_data(token, exchange) for token, exchange in zip(tokens, exchanges)]"
   ]
  },
  {
   "cell_type": "markdown",
   "id": "3523afa1-1d1a-4a0e-84e6-0ece467cacf0",
   "metadata": {},
   "source": [
    "Get the total USD volume traded for each token in a dataframe, sorted from highest volume to lowest volume: "
   ]
  },
  {
   "cell_type": "code",
   "execution_count": 3,
   "id": "046c1cde-8366-4819-8e3c-44b3b776161f",
   "metadata": {
    "tags": []
   },
   "outputs": [
    {
     "data": {
      "text/plain": [
       "ETH     2.496587e+10\n",
       "SOL     8.170711e+09\n",
       "AVAX    4.421678e+09\n",
       "USDT    2.262217e+09\n",
       "FLOW    9.679948e+07\n",
       "Name: volume rank in USD, dtype: float64"
      ]
     },
     "execution_count": 3,
     "metadata": {},
     "output_type": "execute_result"
    }
   ],
   "source": [
    "volume_rank = pd.Series(\n",
    "    [df.volumeUSD.sum() for df in dfs],\n",
    "    index = tokens,\n",
    "    name = 'volume rank in USD'\n",
    "         )\n",
    "volume_rank.sort_values(inplace = True, ascending = False)\n",
    "volume_rank"
   ]
  },
  {
   "cell_type": "markdown",
   "id": "bc059e18-a092-4260-9979-1618d1f1a230",
   "metadata": {},
   "source": [
    "Add a column that calculates the close price ratio between ETH and SOL for each house (i.e. close price of ETH / close price of SOL for each period):"
   ]
  },
  {
   "cell_type": "code",
   "execution_count": 4,
   "id": "ae4bb07c-2895-4af4-97ab-bdc0893e1497",
   "metadata": {},
   "outputs": [],
   "source": [
    "for df in dfs:\n",
    "    df['ratio_ETH_SOL'] = dfs[0].close / dfs[1].close"
   ]
  },
  {
   "cell_type": "markdown",
   "id": "8c12180d-c6a1-45ce-95bd-051320630a29",
   "metadata": {},
   "source": [
    "Change the name of the volume and volumeUSD columns to volumeBase and volumeTerm:"
   ]
  },
  {
   "cell_type": "code",
   "execution_count": 5,
   "id": "150e8495-92d0-4eaa-9c28-ecea5a219d77",
   "metadata": {},
   "outputs": [],
   "source": [
    "for df in dfs:\n",
    "    df.rename(\n",
    "        columns = {\n",
    "            'volume':'volumeBase',\n",
    "            'volumeUSD':'volumeTerm'}, \n",
    "        inplace = True)"
   ]
  },
  {
   "cell_type": "markdown",
   "id": "2050e003-4e08-4eb5-a4dc-4e94bd1563c2",
   "metadata": {},
   "source": [
    "Create a fat table indexed by the timestamp, and each column is the close price of each token (i.e. this should be a table of 200 rows and 5 columns):"
   ]
  },
  {
   "cell_type": "code",
   "execution_count": 6,
   "id": "72c4d78a-d697-4bec-aa89-95cc732c55b0",
   "metadata": {},
   "outputs": [
    {
     "data": {
      "text/html": [
       "<div>\n",
       "<style scoped>\n",
       "    .dataframe tbody tr th:only-of-type {\n",
       "        vertical-align: middle;\n",
       "    }\n",
       "\n",
       "    .dataframe tbody tr th {\n",
       "        vertical-align: top;\n",
       "    }\n",
       "\n",
       "    .dataframe thead th {\n",
       "        text-align: right;\n",
       "    }\n",
       "</style>\n",
       "<table border=\"1\" class=\"dataframe\">\n",
       "  <thead>\n",
       "    <tr style=\"text-align: right;\">\n",
       "      <th></th>\n",
       "      <th>close_ETH</th>\n",
       "      <th>close_SOL</th>\n",
       "      <th>close_AVAX</th>\n",
       "      <th>close_USDT</th>\n",
       "      <th>close_FLOW</th>\n",
       "    </tr>\n",
       "    <tr>\n",
       "      <th>ts</th>\n",
       "      <th></th>\n",
       "      <th></th>\n",
       "      <th></th>\n",
       "      <th></th>\n",
       "      <th></th>\n",
       "    </tr>\n",
       "  </thead>\n",
       "  <tbody>\n",
       "    <tr>\n",
       "      <th>2021-11-22 00:00:00</th>\n",
       "      <td>4262.99</td>\n",
       "      <td>230.785</td>\n",
       "      <td>128.67</td>\n",
       "      <td>1.0012</td>\n",
       "      <td>14.150</td>\n",
       "    </tr>\n",
       "    <tr>\n",
       "      <th>2021-11-22 01:00:00</th>\n",
       "      <td>4234.37</td>\n",
       "      <td>226.000</td>\n",
       "      <td>134.85</td>\n",
       "      <td>1.0013</td>\n",
       "      <td>13.621</td>\n",
       "    </tr>\n",
       "    <tr>\n",
       "      <th>2021-11-22 02:00:00</th>\n",
       "      <td>4217.89</td>\n",
       "      <td>227.037</td>\n",
       "      <td>132.54</td>\n",
       "      <td>1.0012</td>\n",
       "      <td>13.753</td>\n",
       "    </tr>\n",
       "    <tr>\n",
       "      <th>2021-11-22 03:00:00</th>\n",
       "      <td>4193.47</td>\n",
       "      <td>223.117</td>\n",
       "      <td>133.38</td>\n",
       "      <td>1.0011</td>\n",
       "      <td>13.652</td>\n",
       "    </tr>\n",
       "    <tr>\n",
       "      <th>2021-11-22 04:00:00</th>\n",
       "      <td>4168.35</td>\n",
       "      <td>220.652</td>\n",
       "      <td>136.29</td>\n",
       "      <td>1.0009</td>\n",
       "      <td>13.581</td>\n",
       "    </tr>\n",
       "    <tr>\n",
       "      <th>...</th>\n",
       "      <td>...</td>\n",
       "      <td>...</td>\n",
       "      <td>...</td>\n",
       "      <td>...</td>\n",
       "      <td>...</td>\n",
       "    </tr>\n",
       "    <tr>\n",
       "      <th>2021-12-19 11:00:00</th>\n",
       "      <td>3925.13</td>\n",
       "      <td>184.480</td>\n",
       "      <td>110.87</td>\n",
       "      <td>1.0004</td>\n",
       "      <td>8.483</td>\n",
       "    </tr>\n",
       "    <tr>\n",
       "      <th>2021-12-19 12:00:00</th>\n",
       "      <td>3927.63</td>\n",
       "      <td>185.000</td>\n",
       "      <td>111.50</td>\n",
       "      <td>1.0003</td>\n",
       "      <td>8.486</td>\n",
       "    </tr>\n",
       "    <tr>\n",
       "      <th>2021-12-19 13:00:00</th>\n",
       "      <td>3943.22</td>\n",
       "      <td>185.270</td>\n",
       "      <td>111.59</td>\n",
       "      <td>1.0003</td>\n",
       "      <td>8.531</td>\n",
       "    </tr>\n",
       "    <tr>\n",
       "      <th>2021-12-19 14:00:00</th>\n",
       "      <td>3965.31</td>\n",
       "      <td>186.430</td>\n",
       "      <td>112.03</td>\n",
       "      <td>1.0003</td>\n",
       "      <td>8.560</td>\n",
       "    </tr>\n",
       "    <tr>\n",
       "      <th>2021-12-19 15:00:00</th>\n",
       "      <td>3945.52</td>\n",
       "      <td>185.010</td>\n",
       "      <td>112.11</td>\n",
       "      <td>1.0003</td>\n",
       "      <td>8.508</td>\n",
       "    </tr>\n",
       "  </tbody>\n",
       "</table>\n",
       "<p>664 rows × 5 columns</p>\n",
       "</div>"
      ],
      "text/plain": [
       "                     close_ETH  close_SOL  close_AVAX  close_USDT  close_FLOW\n",
       "ts                                                                           \n",
       "2021-11-22 00:00:00    4262.99    230.785      128.67      1.0012      14.150\n",
       "2021-11-22 01:00:00    4234.37    226.000      134.85      1.0013      13.621\n",
       "2021-11-22 02:00:00    4217.89    227.037      132.54      1.0012      13.753\n",
       "2021-11-22 03:00:00    4193.47    223.117      133.38      1.0011      13.652\n",
       "2021-11-22 04:00:00    4168.35    220.652      136.29      1.0009      13.581\n",
       "...                        ...        ...         ...         ...         ...\n",
       "2021-12-19 11:00:00    3925.13    184.480      110.87      1.0004       8.483\n",
       "2021-12-19 12:00:00    3927.63    185.000      111.50      1.0003       8.486\n",
       "2021-12-19 13:00:00    3943.22    185.270      111.59      1.0003       8.531\n",
       "2021-12-19 14:00:00    3965.31    186.430      112.03      1.0003       8.560\n",
       "2021-12-19 15:00:00    3945.52    185.010      112.11      1.0003       8.508\n",
       "\n",
       "[664 rows x 5 columns]"
      ]
     },
     "execution_count": 6,
     "metadata": {},
     "output_type": "execute_result"
    }
   ],
   "source": [
    "def df_merge(left, right):\n",
    "    return pd.merge(left, right, on='ts', how='inner')\n",
    "fat_table = reduce(\n",
    "    df_merge, \n",
    "    [df[['ts', 'close']].rename(columns={'close': f'close_{token}'}) for df, token in zip(dfs, tokens)])\n",
    "fat_table.set_index('ts', inplace = True)\n",
    "fat_table"
   ]
  },
  {
   "cell_type": "markdown",
   "id": "d786bde1-fc36-445d-b8d8-6d4137b99e85",
   "metadata": {},
   "source": [
    "Calculate the hour by hour log return of the close price of each token (return is calculated by np.log(price_t / price_{t-1})):"
   ]
  },
  {
   "cell_type": "code",
   "execution_count": 7,
   "id": "aafd6c1b-07ff-43d2-b7c5-8d1f817e33ae",
   "metadata": {},
   "outputs": [
    {
     "data": {
      "text/html": [
       "<div>\n",
       "<style scoped>\n",
       "    .dataframe tbody tr th:only-of-type {\n",
       "        vertical-align: middle;\n",
       "    }\n",
       "\n",
       "    .dataframe tbody tr th {\n",
       "        vertical-align: top;\n",
       "    }\n",
       "\n",
       "    .dataframe thead th {\n",
       "        text-align: right;\n",
       "    }\n",
       "</style>\n",
       "<table border=\"1\" class=\"dataframe\">\n",
       "  <thead>\n",
       "    <tr style=\"text-align: right;\">\n",
       "      <th></th>\n",
       "      <th>return_ETH</th>\n",
       "      <th>return_SOL</th>\n",
       "      <th>return_AVAX</th>\n",
       "      <th>return_USDT</th>\n",
       "      <th>return_FLOW</th>\n",
       "    </tr>\n",
       "  </thead>\n",
       "  <tbody>\n",
       "    <tr>\n",
       "      <th>2021-11-22 01:00:00</th>\n",
       "      <td>-0.006736</td>\n",
       "      <td>-0.020952</td>\n",
       "      <td>0.046912</td>\n",
       "      <td>0.0001</td>\n",
       "      <td>-0.038102</td>\n",
       "    </tr>\n",
       "    <tr>\n",
       "      <th>2021-11-22 02:00:00</th>\n",
       "      <td>-0.003900</td>\n",
       "      <td>0.004578</td>\n",
       "      <td>-0.017279</td>\n",
       "      <td>-0.0001</td>\n",
       "      <td>0.009644</td>\n",
       "    </tr>\n",
       "    <tr>\n",
       "      <th>2021-11-22 03:00:00</th>\n",
       "      <td>-0.005806</td>\n",
       "      <td>-0.017417</td>\n",
       "      <td>0.006318</td>\n",
       "      <td>-0.0001</td>\n",
       "      <td>-0.007371</td>\n",
       "    </tr>\n",
       "    <tr>\n",
       "      <th>2021-11-22 04:00:00</th>\n",
       "      <td>-0.006008</td>\n",
       "      <td>-0.011109</td>\n",
       "      <td>0.021583</td>\n",
       "      <td>-0.0002</td>\n",
       "      <td>-0.005214</td>\n",
       "    </tr>\n",
       "    <tr>\n",
       "      <th>2021-11-22 05:00:00</th>\n",
       "      <td>-0.002472</td>\n",
       "      <td>-0.015161</td>\n",
       "      <td>-0.031832</td>\n",
       "      <td>-0.0001</td>\n",
       "      <td>-0.014014</td>\n",
       "    </tr>\n",
       "    <tr>\n",
       "      <th>...</th>\n",
       "      <td>...</td>\n",
       "      <td>...</td>\n",
       "      <td>...</td>\n",
       "      <td>...</td>\n",
       "      <td>...</td>\n",
       "    </tr>\n",
       "    <tr>\n",
       "      <th>2021-12-19 11:00:00</th>\n",
       "      <td>-0.004662</td>\n",
       "      <td>-0.002869</td>\n",
       "      <td>-0.008353</td>\n",
       "      <td>0.0000</td>\n",
       "      <td>-0.002120</td>\n",
       "    </tr>\n",
       "    <tr>\n",
       "      <th>2021-12-19 12:00:00</th>\n",
       "      <td>0.000637</td>\n",
       "      <td>0.002815</td>\n",
       "      <td>0.005666</td>\n",
       "      <td>-0.0001</td>\n",
       "      <td>0.000354</td>\n",
       "    </tr>\n",
       "    <tr>\n",
       "      <th>2021-12-19 13:00:00</th>\n",
       "      <td>0.003961</td>\n",
       "      <td>0.001458</td>\n",
       "      <td>0.000807</td>\n",
       "      <td>0.0000</td>\n",
       "      <td>0.005289</td>\n",
       "    </tr>\n",
       "    <tr>\n",
       "      <th>2021-12-19 14:00:00</th>\n",
       "      <td>0.005586</td>\n",
       "      <td>0.006242</td>\n",
       "      <td>0.003935</td>\n",
       "      <td>0.0000</td>\n",
       "      <td>0.003394</td>\n",
       "    </tr>\n",
       "    <tr>\n",
       "      <th>2021-12-19 15:00:00</th>\n",
       "      <td>-0.005003</td>\n",
       "      <td>-0.007646</td>\n",
       "      <td>0.000714</td>\n",
       "      <td>0.0000</td>\n",
       "      <td>-0.006093</td>\n",
       "    </tr>\n",
       "  </tbody>\n",
       "</table>\n",
       "<p>663 rows × 5 columns</p>\n",
       "</div>"
      ],
      "text/plain": [
       "                     return_ETH  return_SOL  return_AVAX  return_USDT  \\\n",
       "2021-11-22 01:00:00   -0.006736   -0.020952     0.046912       0.0001   \n",
       "2021-11-22 02:00:00   -0.003900    0.004578    -0.017279      -0.0001   \n",
       "2021-11-22 03:00:00   -0.005806   -0.017417     0.006318      -0.0001   \n",
       "2021-11-22 04:00:00   -0.006008   -0.011109     0.021583      -0.0002   \n",
       "2021-11-22 05:00:00   -0.002472   -0.015161    -0.031832      -0.0001   \n",
       "...                         ...         ...          ...          ...   \n",
       "2021-12-19 11:00:00   -0.004662   -0.002869    -0.008353       0.0000   \n",
       "2021-12-19 12:00:00    0.000637    0.002815     0.005666      -0.0001   \n",
       "2021-12-19 13:00:00    0.003961    0.001458     0.000807       0.0000   \n",
       "2021-12-19 14:00:00    0.005586    0.006242     0.003935       0.0000   \n",
       "2021-12-19 15:00:00   -0.005003   -0.007646     0.000714       0.0000   \n",
       "\n",
       "                     return_FLOW  \n",
       "2021-11-22 01:00:00    -0.038102  \n",
       "2021-11-22 02:00:00     0.009644  \n",
       "2021-11-22 03:00:00    -0.007371  \n",
       "2021-11-22 04:00:00    -0.005214  \n",
       "2021-11-22 05:00:00    -0.014014  \n",
       "...                          ...  \n",
       "2021-12-19 11:00:00    -0.002120  \n",
       "2021-12-19 12:00:00     0.000354  \n",
       "2021-12-19 13:00:00     0.005289  \n",
       "2021-12-19 14:00:00     0.003394  \n",
       "2021-12-19 15:00:00    -0.006093  \n",
       "\n",
       "[663 rows x 5 columns]"
      ]
     },
     "execution_count": 7,
     "metadata": {},
     "output_type": "execute_result"
    }
   ],
   "source": [
    "returns = np.log(fat_table.drop(fat_table.head(1).index).to_numpy() \n",
    "             / fat_table.drop(fat_table.tail(1).index).to_numpy())\n",
    "fat_table2 = pd.DataFrame(returns, \n",
    "                          index = list(fat_table.drop(fat_table.head(1).index).index), \n",
    "                          columns = [f'return_{token}' for token in tokens])\n",
    "fat_table2"
   ]
  },
  {
   "cell_type": "markdown",
   "id": "be954663-032f-4551-b07b-45d1053fef22",
   "metadata": {},
   "source": [
    "(Stretch) calculate the correlation of the tokens using the table above:"
   ]
  },
  {
   "cell_type": "code",
   "execution_count": 8,
   "id": "047a97a7-cca0-4a47-aa59-27c8f2cb11a3",
   "metadata": {},
   "outputs": [
    {
     "data": {
      "text/html": [
       "<div>\n",
       "<style scoped>\n",
       "    .dataframe tbody tr th:only-of-type {\n",
       "        vertical-align: middle;\n",
       "    }\n",
       "\n",
       "    .dataframe tbody tr th {\n",
       "        vertical-align: top;\n",
       "    }\n",
       "\n",
       "    .dataframe thead th {\n",
       "        text-align: right;\n",
       "    }\n",
       "</style>\n",
       "<table border=\"1\" class=\"dataframe\">\n",
       "  <thead>\n",
       "    <tr style=\"text-align: right;\">\n",
       "      <th></th>\n",
       "      <th>return_ETH</th>\n",
       "      <th>return_SOL</th>\n",
       "      <th>return_AVAX</th>\n",
       "      <th>return_USDT</th>\n",
       "      <th>return_FLOW</th>\n",
       "    </tr>\n",
       "  </thead>\n",
       "  <tbody>\n",
       "    <tr>\n",
       "      <th>return_ETH</th>\n",
       "      <td>1.000000</td>\n",
       "      <td>0.757332</td>\n",
       "      <td>0.654702</td>\n",
       "      <td>-0.091520</td>\n",
       "      <td>0.583202</td>\n",
       "    </tr>\n",
       "    <tr>\n",
       "      <th>return_SOL</th>\n",
       "      <td>0.757332</td>\n",
       "      <td>1.000000</td>\n",
       "      <td>0.646390</td>\n",
       "      <td>0.105489</td>\n",
       "      <td>0.476854</td>\n",
       "    </tr>\n",
       "    <tr>\n",
       "      <th>return_AVAX</th>\n",
       "      <td>0.654702</td>\n",
       "      <td>0.646390</td>\n",
       "      <td>1.000000</td>\n",
       "      <td>0.010976</td>\n",
       "      <td>0.404331</td>\n",
       "    </tr>\n",
       "    <tr>\n",
       "      <th>return_USDT</th>\n",
       "      <td>-0.091520</td>\n",
       "      <td>0.105489</td>\n",
       "      <td>0.010976</td>\n",
       "      <td>1.000000</td>\n",
       "      <td>-0.176573</td>\n",
       "    </tr>\n",
       "    <tr>\n",
       "      <th>return_FLOW</th>\n",
       "      <td>0.583202</td>\n",
       "      <td>0.476854</td>\n",
       "      <td>0.404331</td>\n",
       "      <td>-0.176573</td>\n",
       "      <td>1.000000</td>\n",
       "    </tr>\n",
       "  </tbody>\n",
       "</table>\n",
       "</div>"
      ],
      "text/plain": [
       "             return_ETH  return_SOL  return_AVAX  return_USDT  return_FLOW\n",
       "return_ETH     1.000000    0.757332     0.654702    -0.091520     0.583202\n",
       "return_SOL     0.757332    1.000000     0.646390     0.105489     0.476854\n",
       "return_AVAX    0.654702    0.646390     1.000000     0.010976     0.404331\n",
       "return_USDT   -0.091520    0.105489     0.010976     1.000000    -0.176573\n",
       "return_FLOW    0.583202    0.476854     0.404331    -0.176573     1.000000"
      ]
     },
     "execution_count": 8,
     "metadata": {},
     "output_type": "execute_result"
    }
   ],
   "source": [
    "corM = fat_table2.corr()\n",
    "corM"
   ]
  },
  {
   "cell_type": "markdown",
   "id": "03295832-2a81-47d3-985a-01d1d11ad4bc",
   "metadata": {
    "tags": []
   },
   "source": [
    "(Stretch) visualize the correlation in a matplpotlib plot:"
   ]
  },
  {
   "cell_type": "code",
   "execution_count": 9,
   "id": "652dd72c-2f5a-4994-b706-fe66d13c92b7",
   "metadata": {},
   "outputs": [
    {
     "data": {
      "text/plain": [
       "[Text(0, 0, 'ETH'),\n",
       " Text(0, 1, 'SOL'),\n",
       " Text(0, 2, 'AVAX'),\n",
       " Text(0, 3, 'USDT'),\n",
       " Text(0, 4, 'FLOW')]"
      ]
     },
     "execution_count": 9,
     "metadata": {},
     "output_type": "execute_result"
    },
    {
     "data": {
      "image/png": "[encoded data removed]",
      "text/plain": [
       "<Figure size 720x720 with 2 Axes>"
      ]
     },
     "metadata": {
      "needs_background": "light"
     },
     "output_type": "display_data"
    }
   ],
   "source": [
    "fig, axes = plt.subplots(1, 1, figsize=(10, 10))\n",
    "fig.colorbar(axes.matshow(corM))\n",
    "ticks = np.arange(0,5,1)\n",
    "axes.set_xticks(ticks)\n",
    "axes.set_yticks(ticks)\n",
    "axes.set_xticklabels(tokens)\n",
    "axes.set_yticklabels(tokens)"
   ]
  }
 ],
 "metadata": {
  "kernelspec": {
   "display_name": "Python 3 (ipykernel)",
   "language": "python",
   "name": "python3"
  },
  "language_info": {
   "codemirror_mode": {
    "name": "ipython",
    "version": 3
   },
   "file_extension": ".py",
   "mimetype": "text/x-python",
   "name": "python",
   "nbconvert_exporter": "python",
   "pygments_lexer": "ipython3",
   "version": "3.8.12"
  }
 },
 "nbformat": 4,
 "nbformat_minor": 5
}
