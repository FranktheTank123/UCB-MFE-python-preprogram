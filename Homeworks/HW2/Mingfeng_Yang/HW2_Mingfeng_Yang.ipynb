{
 "cells": [
  {
   "cell_type": "markdown",
   "id": "cf2273cd-c296-4403-b0d9-18feb2318c64",
   "metadata": {},
   "source": [
    "# Homework 2"
   ]
  },
  {
   "cell_type": "code",
   "execution_count": 62,
   "id": "652fa414-29c5-4db1-bf95-68f051718738",
   "metadata": {},
   "outputs": [],
   "source": [
    "import pandas as pd\n",
    "import numpy as np\n",
    "import requests\n",
    "import matplotlib.pyplot as plt\n",
    "%matplotlib inline"
   ]
  },
  {
   "cell_type": "markdown",
   "id": "9457f816-f19e-4fe0-9ffc-b9675a855ebe",
   "metadata": {},
   "source": [
    "### Get the data from cryptowat.ch"
   ]
  },
  {
   "cell_type": "code",
   "execution_count": 46,
   "id": "cd4ae99f-c965-40db-921f-d78ff8edf580",
   "metadata": {},
   "outputs": [],
   "source": [
    "def get_data(token):\n",
    "    if token in ['ETH', 'SOL','USDT','FLOW']:\n",
    "        server=\"kraken\"\n",
    "    else: \n",
    "        server=\"coinbase-pro\"\n",
    "    res = requests.get(\n",
    "        f'https://api.cryptowat.ch/markets/{server}/{token}usd/ohlc',\n",
    "        params={\n",
    "            'periods': '3600',\n",
    "            'after': str(int(pd.Timestamp('2021-11-22').timestamp()))\n",
    "        }\n",
    "    )\n",
    "    print(token)\n",
    "    df = pd.DataFrame(\n",
    "        res.json()['result']['3600'],\n",
    "        columns=['ts', 'open', 'high', 'low', 'close', 'volume', 'volumeUSD']\n",
    "    )\n",
    "    df['ts'] = pd.to_datetime(df.ts, unit='s')\n",
    "    df['token'] = token\n",
    "    \n",
    "    return df"
   ]
  },
  {
   "cell_type": "code",
   "execution_count": 47,
   "id": "0ba686b8-7d8a-46e0-b212-820f25c50310",
   "metadata": {},
   "outputs": [],
   "source": [
    "tokens = ['ETH', 'SOL', 'AVAX','USDT','FLOW']"
   ]
  },
  {
   "cell_type": "code",
   "execution_count": 55,
   "id": "97d88c4b-b5e8-4ec5-a8b3-f1c54132a41b",
   "metadata": {},
   "outputs": [
    {
     "name": "stdout",
     "output_type": "stream",
     "text": [
      "ETH\n",
      "SOL\n",
      "AVAX\n",
      "USDT\n",
      "FLOW\n"
     ]
    }
   ],
   "source": [
    "df = pd.concat([\n",
    "    get_data(token)\n",
    "    for token in tokens\n",
    "])"
   ]
  },
  {
   "cell_type": "code",
   "execution_count": 75,
   "id": "256f9151-e0b8-4699-b262-6d3f33ccd104",
   "metadata": {},
   "outputs": [
    {
     "data": {
      "text/html": [
       "<div>\n",
       "<style scoped>\n",
       "    .dataframe tbody tr th:only-of-type {\n",
       "        vertical-align: middle;\n",
       "    }\n",
       "\n",
       "    .dataframe tbody tr th {\n",
       "        vertical-align: top;\n",
       "    }\n",
       "\n",
       "    .dataframe thead th {\n",
       "        text-align: right;\n",
       "    }\n",
       "</style>\n",
       "<table border=\"1\" class=\"dataframe\">\n",
       "  <thead>\n",
       "    <tr style=\"text-align: right;\">\n",
       "      <th></th>\n",
       "      <th>ts</th>\n",
       "      <th>open</th>\n",
       "      <th>high</th>\n",
       "      <th>low</th>\n",
       "      <th>close</th>\n",
       "      <th>volume</th>\n",
       "      <th>volumeUSD</th>\n",
       "      <th>token</th>\n",
       "    </tr>\n",
       "  </thead>\n",
       "  <tbody>\n",
       "    <tr>\n",
       "      <th>0</th>\n",
       "      <td>2021-11-22 00:00:00</td>\n",
       "      <td>4316.41</td>\n",
       "      <td>4339.25</td>\n",
       "      <td>4250.00</td>\n",
       "      <td>4263.51</td>\n",
       "      <td>2275.049242</td>\n",
       "      <td>9.768715e+06</td>\n",
       "      <td>ETH</td>\n",
       "    </tr>\n",
       "    <tr>\n",
       "      <th>1</th>\n",
       "      <td>2021-11-22 01:00:00</td>\n",
       "      <td>4265.39</td>\n",
       "      <td>4269.98</td>\n",
       "      <td>4210.00</td>\n",
       "      <td>4234.28</td>\n",
       "      <td>5177.368685</td>\n",
       "      <td>2.191977e+07</td>\n",
       "      <td>ETH</td>\n",
       "    </tr>\n",
       "    <tr>\n",
       "      <th>2</th>\n",
       "      <td>2021-11-22 02:00:00</td>\n",
       "      <td>4234.28</td>\n",
       "      <td>4244.14</td>\n",
       "      <td>4173.00</td>\n",
       "      <td>4217.00</td>\n",
       "      <td>2137.011937</td>\n",
       "      <td>8.986250e+06</td>\n",
       "      <td>ETH</td>\n",
       "    </tr>\n",
       "    <tr>\n",
       "      <th>3</th>\n",
       "      <td>2021-11-22 03:00:00</td>\n",
       "      <td>4218.09</td>\n",
       "      <td>4219.48</td>\n",
       "      <td>4163.64</td>\n",
       "      <td>4191.83</td>\n",
       "      <td>1377.294702</td>\n",
       "      <td>5.782201e+06</td>\n",
       "      <td>ETH</td>\n",
       "    </tr>\n",
       "    <tr>\n",
       "      <th>4</th>\n",
       "      <td>2021-11-22 04:00:00</td>\n",
       "      <td>4191.82</td>\n",
       "      <td>4211.21</td>\n",
       "      <td>4130.43</td>\n",
       "      <td>4166.58</td>\n",
       "      <td>1762.426504</td>\n",
       "      <td>7.340491e+06</td>\n",
       "      <td>ETH</td>\n",
       "    </tr>\n",
       "  </tbody>\n",
       "</table>\n",
       "</div>"
      ],
      "text/plain": [
       "                   ts     open     high      low    close       volume  \\\n",
       "0 2021-11-22 00:00:00  4316.41  4339.25  4250.00  4263.51  2275.049242   \n",
       "1 2021-11-22 01:00:00  4265.39  4269.98  4210.00  4234.28  5177.368685   \n",
       "2 2021-11-22 02:00:00  4234.28  4244.14  4173.00  4217.00  2137.011937   \n",
       "3 2021-11-22 03:00:00  4218.09  4219.48  4163.64  4191.83  1377.294702   \n",
       "4 2021-11-22 04:00:00  4191.82  4211.21  4130.43  4166.58  1762.426504   \n",
       "\n",
       "      volumeUSD token  \n",
       "0  9.768715e+06   ETH  \n",
       "1  2.191977e+07   ETH  \n",
       "2  8.986250e+06   ETH  \n",
       "3  5.782201e+06   ETH  \n",
       "4  7.340491e+06   ETH  "
      ]
     },
     "execution_count": 75,
     "metadata": {},
     "output_type": "execute_result"
    }
   ],
   "source": [
    "df.head()"
   ]
  },
  {
   "cell_type": "markdown",
   "id": "a276daba-a24b-43fa-a7fc-1d998c5a4b1e",
   "metadata": {},
   "source": [
    "### Get the total USD volume traded for each token in a dataframe, sorted from highest volume to lowest volume"
   ]
  },
  {
   "cell_type": "code",
   "execution_count": 60,
   "id": "769ec358-783f-418a-98db-56b4b6577a5e",
   "metadata": {},
   "outputs": [
    {
     "data": {
      "text/html": [
       "<div>\n",
       "<style scoped>\n",
       "    .dataframe tbody tr th:only-of-type {\n",
       "        vertical-align: middle;\n",
       "    }\n",
       "\n",
       "    .dataframe tbody tr th {\n",
       "        vertical-align: top;\n",
       "    }\n",
       "\n",
       "    .dataframe thead th {\n",
       "        text-align: right;\n",
       "    }\n",
       "</style>\n",
       "<table border=\"1\" class=\"dataframe\">\n",
       "  <thead>\n",
       "    <tr style=\"text-align: right;\">\n",
       "      <th></th>\n",
       "      <th>volumeUSD</th>\n",
       "    </tr>\n",
       "    <tr>\n",
       "      <th>token</th>\n",
       "      <th></th>\n",
       "    </tr>\n",
       "  </thead>\n",
       "  <tbody>\n",
       "    <tr>\n",
       "      <th>ETH</th>\n",
       "      <td>3.877596e+09</td>\n",
       "    </tr>\n",
       "    <tr>\n",
       "      <th>USDT</th>\n",
       "      <td>3.386274e+09</td>\n",
       "    </tr>\n",
       "    <tr>\n",
       "      <th>AVAX</th>\n",
       "      <td>3.309917e+09</td>\n",
       "    </tr>\n",
       "    <tr>\n",
       "      <th>SOL</th>\n",
       "      <td>6.547171e+08</td>\n",
       "    </tr>\n",
       "    <tr>\n",
       "      <th>FLOW</th>\n",
       "      <td>8.345695e+07</td>\n",
       "    </tr>\n",
       "  </tbody>\n",
       "</table>\n",
       "</div>"
      ],
      "text/plain": [
       "          volumeUSD\n",
       "token              \n",
       "ETH    3.877596e+09\n",
       "USDT   3.386274e+09\n",
       "AVAX   3.309917e+09\n",
       "SOL    6.547171e+08\n",
       "FLOW   8.345695e+07"
      ]
     },
     "execution_count": 60,
     "metadata": {},
     "output_type": "execute_result"
    }
   ],
   "source": [
    "df.groupby(\"token\")[\"volumeUSD\"].sum().to_frame().sort_values(by=\"volumeUSD\",ascending=False)"
   ]
  },
  {
   "cell_type": "markdown",
   "id": "1eb955b4-bd37-417b-8907-e227f773def9",
   "metadata": {},
   "source": [
    "### Add a column that calculates the close price ratio between ETH and SOL for each house (i.e. close price of ETH / close price of SOL for each period)"
   ]
  },
  {
   "cell_type": "code",
   "execution_count": 79,
   "id": "d1c4dcb6-1fb9-4b8d-9941-d6ba901af16a",
   "metadata": {},
   "outputs": [],
   "source": [
    "# add a column called ETH_SOL_Ratio\n",
    "\n",
    "\n",
    "ETH_SOL_Ratio=pd.merge(df[df[\"token\"]==\"ETH\"][[\"ts\",\"close\"]].rename(columns={\"close\":\"ETH_close\"}),\n",
    "                      df[df[\"token\"]==\"SOL\"][[\"ts\",\"close\"]].rename(columns={\"close\":\"SOL_close\"}),on=\"ts\",how=\"outer\"\n",
    "                      )\n",
    "\n",
    "ETH_SOL_Ratio[\"ETH_SOL_Ratio\"]=ETH_SOL_Ratio[\"ETH_close\"]/ETH_SOL_Ratio[\"SOL_close\"]\n",
    "\n",
    "df=pd.merge(df,ETH_SOL_Ratio[[\"ts\",\"ETH_SOL_Ratio\"]],on=\"ts\",how=\"left\")"
   ]
  },
  {
   "cell_type": "code",
   "execution_count": 82,
   "id": "5e1e2795-1056-40b5-b293-62ba7e52bdc7",
   "metadata": {},
   "outputs": [
    {
     "data": {
      "text/html": [
       "<div>\n",
       "<style scoped>\n",
       "    .dataframe tbody tr th:only-of-type {\n",
       "        vertical-align: middle;\n",
       "    }\n",
       "\n",
       "    .dataframe tbody tr th {\n",
       "        vertical-align: top;\n",
       "    }\n",
       "\n",
       "    .dataframe thead th {\n",
       "        text-align: right;\n",
       "    }\n",
       "</style>\n",
       "<table border=\"1\" class=\"dataframe\">\n",
       "  <thead>\n",
       "    <tr style=\"text-align: right;\">\n",
       "      <th></th>\n",
       "      <th>ts</th>\n",
       "      <th>open</th>\n",
       "      <th>high</th>\n",
       "      <th>low</th>\n",
       "      <th>close</th>\n",
       "      <th>volume</th>\n",
       "      <th>volumeUSD</th>\n",
       "      <th>token</th>\n",
       "      <th>ETH_SOL_Ratio</th>\n",
       "    </tr>\n",
       "  </thead>\n",
       "  <tbody>\n",
       "    <tr>\n",
       "      <th>0</th>\n",
       "      <td>2021-11-22 00:00:00</td>\n",
       "      <td>4316.41</td>\n",
       "      <td>4339.25</td>\n",
       "      <td>4250.00</td>\n",
       "      <td>4263.51</td>\n",
       "      <td>2275.049242</td>\n",
       "      <td>9.768715e+06</td>\n",
       "      <td>ETH</td>\n",
       "      <td>18.501606</td>\n",
       "    </tr>\n",
       "    <tr>\n",
       "      <th>1</th>\n",
       "      <td>2021-11-22 01:00:00</td>\n",
       "      <td>4265.39</td>\n",
       "      <td>4269.98</td>\n",
       "      <td>4210.00</td>\n",
       "      <td>4234.28</td>\n",
       "      <td>5177.368685</td>\n",
       "      <td>2.191977e+07</td>\n",
       "      <td>ETH</td>\n",
       "      <td>18.728294</td>\n",
       "    </tr>\n",
       "    <tr>\n",
       "      <th>2</th>\n",
       "      <td>2021-11-22 02:00:00</td>\n",
       "      <td>4234.28</td>\n",
       "      <td>4244.14</td>\n",
       "      <td>4173.00</td>\n",
       "      <td>4217.00</td>\n",
       "      <td>2137.011937</td>\n",
       "      <td>8.986250e+06</td>\n",
       "      <td>ETH</td>\n",
       "      <td>18.564825</td>\n",
       "    </tr>\n",
       "    <tr>\n",
       "      <th>3</th>\n",
       "      <td>2021-11-22 03:00:00</td>\n",
       "      <td>4218.09</td>\n",
       "      <td>4219.48</td>\n",
       "      <td>4163.64</td>\n",
       "      <td>4191.83</td>\n",
       "      <td>1377.294702</td>\n",
       "      <td>5.782201e+06</td>\n",
       "      <td>ETH</td>\n",
       "      <td>18.785650</td>\n",
       "    </tr>\n",
       "    <tr>\n",
       "      <th>4</th>\n",
       "      <td>2021-11-22 04:00:00</td>\n",
       "      <td>4191.82</td>\n",
       "      <td>4211.21</td>\n",
       "      <td>4130.43</td>\n",
       "      <td>4166.58</td>\n",
       "      <td>1762.426504</td>\n",
       "      <td>7.340491e+06</td>\n",
       "      <td>ETH</td>\n",
       "      <td>18.876365</td>\n",
       "    </tr>\n",
       "  </tbody>\n",
       "</table>\n",
       "</div>"
      ],
      "text/plain": [
       "                   ts     open     high      low    close       volume  \\\n",
       "0 2021-11-22 00:00:00  4316.41  4339.25  4250.00  4263.51  2275.049242   \n",
       "1 2021-11-22 01:00:00  4265.39  4269.98  4210.00  4234.28  5177.368685   \n",
       "2 2021-11-22 02:00:00  4234.28  4244.14  4173.00  4217.00  2137.011937   \n",
       "3 2021-11-22 03:00:00  4218.09  4219.48  4163.64  4191.83  1377.294702   \n",
       "4 2021-11-22 04:00:00  4191.82  4211.21  4130.43  4166.58  1762.426504   \n",
       "\n",
       "      volumeUSD token  ETH_SOL_Ratio  \n",
       "0  9.768715e+06   ETH      18.501606  \n",
       "1  2.191977e+07   ETH      18.728294  \n",
       "2  8.986250e+06   ETH      18.564825  \n",
       "3  5.782201e+06   ETH      18.785650  \n",
       "4  7.340491e+06   ETH      18.876365  "
      ]
     },
     "execution_count": 82,
     "metadata": {},
     "output_type": "execute_result"
    }
   ],
   "source": [
    "df.head()"
   ]
  },
  {
   "cell_type": "markdown",
   "id": "81fa98cd-4230-48f3-930b-50cb32d0c6e0",
   "metadata": {},
   "source": [
    "### Change the name of the `volume` and `volumeUSD` columns to `volumeBase` and `volumeTerm`"
   ]
  },
  {
   "cell_type": "code",
   "execution_count": 84,
   "id": "9a0c9062-56ac-487e-bc80-62fbd23f9228",
   "metadata": {},
   "outputs": [
    {
     "name": "stdout",
     "output_type": "stream",
     "text": [
      "Index(['ts', 'open', 'high', 'low', 'close', 'volumeBase', 'volumeTerm',\n",
      "       'token', 'ETH_SOL_Ratio'],\n",
      "      dtype='object')\n"
     ]
    }
   ],
   "source": [
    "df.rename(columns={\"volume\":\"volumeBase\",\"volumeUSD\":\"volumeTerm\"},inplace=True)\n",
    "print(df.columns)"
   ]
  },
  {
   "cell_type": "markdown",
   "id": "47e65afa-ebf0-4971-9d73-668761142a52",
   "metadata": {},
   "source": [
    "### create a fat table indexed by the timestamp, and each column is the close price of each token (i.e. this should be a table of  200 rows and 5 columns)"
   ]
  },
  {
   "cell_type": "code",
   "execution_count": 94,
   "id": "af21562d-6ce3-43f6-86b7-71d87650ae24",
   "metadata": {},
   "outputs": [],
   "source": [
    "crypto_close=df[[\"ts\",\"close\",\"token\"]].pivot(index=\"ts\",columns=\"token\",values=\"close\")"
   ]
  },
  {
   "cell_type": "code",
   "execution_count": 95,
   "id": "c66a8736-de28-4bfd-a118-c0c0331f4a61",
   "metadata": {},
   "outputs": [
    {
     "data": {
      "text/html": [
       "<div>\n",
       "<style scoped>\n",
       "    .dataframe tbody tr th:only-of-type {\n",
       "        vertical-align: middle;\n",
       "    }\n",
       "\n",
       "    .dataframe tbody tr th {\n",
       "        vertical-align: top;\n",
       "    }\n",
       "\n",
       "    .dataframe thead th {\n",
       "        text-align: right;\n",
       "    }\n",
       "</style>\n",
       "<table border=\"1\" class=\"dataframe\">\n",
       "  <thead>\n",
       "    <tr style=\"text-align: right;\">\n",
       "      <th>token</th>\n",
       "      <th>AVAX</th>\n",
       "      <th>ETH</th>\n",
       "      <th>FLOW</th>\n",
       "      <th>SOL</th>\n",
       "      <th>USDT</th>\n",
       "    </tr>\n",
       "    <tr>\n",
       "      <th>ts</th>\n",
       "      <th></th>\n",
       "      <th></th>\n",
       "      <th></th>\n",
       "      <th></th>\n",
       "      <th></th>\n",
       "    </tr>\n",
       "  </thead>\n",
       "  <tbody>\n",
       "    <tr>\n",
       "      <th>2021-11-22 00:00:00</th>\n",
       "      <td>128.67</td>\n",
       "      <td>4263.51</td>\n",
       "      <td>14.150</td>\n",
       "      <td>230.44</td>\n",
       "      <td>1.0009</td>\n",
       "    </tr>\n",
       "    <tr>\n",
       "      <th>2021-11-22 01:00:00</th>\n",
       "      <td>134.85</td>\n",
       "      <td>4234.28</td>\n",
       "      <td>13.621</td>\n",
       "      <td>226.09</td>\n",
       "      <td>1.0010</td>\n",
       "    </tr>\n",
       "    <tr>\n",
       "      <th>2021-11-22 02:00:00</th>\n",
       "      <td>132.54</td>\n",
       "      <td>4217.00</td>\n",
       "      <td>13.753</td>\n",
       "      <td>227.15</td>\n",
       "      <td>1.0009</td>\n",
       "    </tr>\n",
       "    <tr>\n",
       "      <th>2021-11-22 03:00:00</th>\n",
       "      <td>133.38</td>\n",
       "      <td>4191.83</td>\n",
       "      <td>13.652</td>\n",
       "      <td>223.14</td>\n",
       "      <td>1.0009</td>\n",
       "    </tr>\n",
       "    <tr>\n",
       "      <th>2021-11-22 04:00:00</th>\n",
       "      <td>136.29</td>\n",
       "      <td>4166.58</td>\n",
       "      <td>13.581</td>\n",
       "      <td>220.73</td>\n",
       "      <td>1.0009</td>\n",
       "    </tr>\n",
       "  </tbody>\n",
       "</table>\n",
       "</div>"
      ],
      "text/plain": [
       "token                  AVAX      ETH    FLOW     SOL    USDT\n",
       "ts                                                          \n",
       "2021-11-22 00:00:00  128.67  4263.51  14.150  230.44  1.0009\n",
       "2021-11-22 01:00:00  134.85  4234.28  13.621  226.09  1.0010\n",
       "2021-11-22 02:00:00  132.54  4217.00  13.753  227.15  1.0009\n",
       "2021-11-22 03:00:00  133.38  4191.83  13.652  223.14  1.0009\n",
       "2021-11-22 04:00:00  136.29  4166.58  13.581  220.73  1.0009"
      ]
     },
     "execution_count": 95,
     "metadata": {},
     "output_type": "execute_result"
    }
   ],
   "source": [
    "crypto_close.head()"
   ]
  },
  {
   "cell_type": "markdown",
   "id": "9aea470c-7304-4eb5-8da6-5a5e066e49e6",
   "metadata": {},
   "source": [
    "### calculate the hour by hour log return of the close price of each token (return is calculated by $np.log(price_t / price_{t-1})$)"
   ]
  },
  {
   "cell_type": "code",
   "execution_count": 101,
   "id": "b7de0bb4-c7d9-4bda-b9a8-17605cef2e6b",
   "metadata": {},
   "outputs": [],
   "source": [
    "df[\"log_return\"]=df.groupby(\"token\")[\"close\"].apply(lambda x:np.log(x/x.shift(1)))"
   ]
  },
  {
   "cell_type": "code",
   "execution_count": 104,
   "id": "e27bb17f-def1-468a-9470-4b85a677bdb9",
   "metadata": {},
   "outputs": [
    {
     "data": {
      "text/plain": [
       "0         NaN\n",
       "1   -0.006879\n",
       "2   -0.004089\n",
       "3   -0.005987\n",
       "4   -0.006042\n",
       "Name: log_return, dtype: float64"
      ]
     },
     "execution_count": 104,
     "metadata": {},
     "output_type": "execute_result"
    }
   ],
   "source": [
    "df.log_return.head()"
   ]
  },
  {
   "cell_type": "code",
   "execution_count": 108,
   "id": "12fab8b2-8bfe-470b-b2a1-53a4a2808848",
   "metadata": {},
   "outputs": [],
   "source": [
    "#### the other method"
   ]
  },
  {
   "cell_type": "code",
   "execution_count": 110,
   "id": "fea84922-a76f-462f-8df8-071d854219d3",
   "metadata": {},
   "outputs": [],
   "source": [
    "crypto_log_return=crypto_close.apply(lambda x:np.log(x/x.shift(1)),axis=0)"
   ]
  },
  {
   "cell_type": "code",
   "execution_count": 111,
   "id": "2d8463c6-eb05-43b6-b4d0-3dcb056ea59b",
   "metadata": {},
   "outputs": [
    {
     "data": {
      "text/html": [
       "<div>\n",
       "<style scoped>\n",
       "    .dataframe tbody tr th:only-of-type {\n",
       "        vertical-align: middle;\n",
       "    }\n",
       "\n",
       "    .dataframe tbody tr th {\n",
       "        vertical-align: top;\n",
       "    }\n",
       "\n",
       "    .dataframe thead th {\n",
       "        text-align: right;\n",
       "    }\n",
       "</style>\n",
       "<table border=\"1\" class=\"dataframe\">\n",
       "  <thead>\n",
       "    <tr style=\"text-align: right;\">\n",
       "      <th>token</th>\n",
       "      <th>AVAX</th>\n",
       "      <th>ETH</th>\n",
       "      <th>FLOW</th>\n",
       "      <th>SOL</th>\n",
       "      <th>USDT</th>\n",
       "    </tr>\n",
       "    <tr>\n",
       "      <th>ts</th>\n",
       "      <th></th>\n",
       "      <th></th>\n",
       "      <th></th>\n",
       "      <th></th>\n",
       "      <th></th>\n",
       "    </tr>\n",
       "  </thead>\n",
       "  <tbody>\n",
       "    <tr>\n",
       "      <th>2021-11-22 00:00:00</th>\n",
       "      <td>NaN</td>\n",
       "      <td>NaN</td>\n",
       "      <td>NaN</td>\n",
       "      <td>NaN</td>\n",
       "      <td>NaN</td>\n",
       "    </tr>\n",
       "    <tr>\n",
       "      <th>2021-11-22 01:00:00</th>\n",
       "      <td>0.046912</td>\n",
       "      <td>-0.006879</td>\n",
       "      <td>-0.038102</td>\n",
       "      <td>-0.019057</td>\n",
       "      <td>0.0001</td>\n",
       "    </tr>\n",
       "    <tr>\n",
       "      <th>2021-11-22 02:00:00</th>\n",
       "      <td>-0.017279</td>\n",
       "      <td>-0.004089</td>\n",
       "      <td>0.009644</td>\n",
       "      <td>0.004677</td>\n",
       "      <td>-0.0001</td>\n",
       "    </tr>\n",
       "    <tr>\n",
       "      <th>2021-11-22 03:00:00</th>\n",
       "      <td>0.006318</td>\n",
       "      <td>-0.005987</td>\n",
       "      <td>-0.007371</td>\n",
       "      <td>-0.017811</td>\n",
       "      <td>0.0000</td>\n",
       "    </tr>\n",
       "    <tr>\n",
       "      <th>2021-11-22 04:00:00</th>\n",
       "      <td>0.021583</td>\n",
       "      <td>-0.006042</td>\n",
       "      <td>-0.005214</td>\n",
       "      <td>-0.010859</td>\n",
       "      <td>0.0000</td>\n",
       "    </tr>\n",
       "  </tbody>\n",
       "</table>\n",
       "</div>"
      ],
      "text/plain": [
       "token                    AVAX       ETH      FLOW       SOL    USDT\n",
       "ts                                                                 \n",
       "2021-11-22 00:00:00       NaN       NaN       NaN       NaN     NaN\n",
       "2021-11-22 01:00:00  0.046912 -0.006879 -0.038102 -0.019057  0.0001\n",
       "2021-11-22 02:00:00 -0.017279 -0.004089  0.009644  0.004677 -0.0001\n",
       "2021-11-22 03:00:00  0.006318 -0.005987 -0.007371 -0.017811  0.0000\n",
       "2021-11-22 04:00:00  0.021583 -0.006042 -0.005214 -0.010859  0.0000"
      ]
     },
     "execution_count": 111,
     "metadata": {},
     "output_type": "execute_result"
    }
   ],
   "source": [
    "crypto_log_return.head()"
   ]
  },
  {
   "cell_type": "markdown",
   "id": "cf2ff521-ec60-48a5-a812-a7a9db8211a6",
   "metadata": {},
   "source": [
    "### calculate the correlation of the tokens using the table above"
   ]
  },
  {
   "cell_type": "code",
   "execution_count": 113,
   "id": "5ec7f7da-de6a-44a8-b8c0-926f60858203",
   "metadata": {},
   "outputs": [],
   "source": [
    "crypto_corr=crypto_log_return.corr()"
   ]
  },
  {
   "cell_type": "code",
   "execution_count": 114,
   "id": "18314197-c8ab-47ef-9e40-74a03458f212",
   "metadata": {},
   "outputs": [
    {
     "data": {
      "text/html": [
       "<div>\n",
       "<style scoped>\n",
       "    .dataframe tbody tr th:only-of-type {\n",
       "        vertical-align: middle;\n",
       "    }\n",
       "\n",
       "    .dataframe tbody tr th {\n",
       "        vertical-align: top;\n",
       "    }\n",
       "\n",
       "    .dataframe thead th {\n",
       "        text-align: right;\n",
       "    }\n",
       "</style>\n",
       "<table border=\"1\" class=\"dataframe\">\n",
       "  <thead>\n",
       "    <tr style=\"text-align: right;\">\n",
       "      <th>token</th>\n",
       "      <th>AVAX</th>\n",
       "      <th>ETH</th>\n",
       "      <th>FLOW</th>\n",
       "      <th>SOL</th>\n",
       "      <th>USDT</th>\n",
       "    </tr>\n",
       "    <tr>\n",
       "      <th>token</th>\n",
       "      <th></th>\n",
       "      <th></th>\n",
       "      <th></th>\n",
       "      <th></th>\n",
       "      <th></th>\n",
       "    </tr>\n",
       "  </thead>\n",
       "  <tbody>\n",
       "    <tr>\n",
       "      <th>AVAX</th>\n",
       "      <td>1.000000</td>\n",
       "      <td>0.633440</td>\n",
       "      <td>0.382025</td>\n",
       "      <td>0.624228</td>\n",
       "      <td>0.021606</td>\n",
       "    </tr>\n",
       "    <tr>\n",
       "      <th>ETH</th>\n",
       "      <td>0.633440</td>\n",
       "      <td>1.000000</td>\n",
       "      <td>0.564051</td>\n",
       "      <td>0.735917</td>\n",
       "      <td>-0.045571</td>\n",
       "    </tr>\n",
       "    <tr>\n",
       "      <th>FLOW</th>\n",
       "      <td>0.382025</td>\n",
       "      <td>0.564051</td>\n",
       "      <td>1.000000</td>\n",
       "      <td>0.463832</td>\n",
       "      <td>-0.156326</td>\n",
       "    </tr>\n",
       "    <tr>\n",
       "      <th>SOL</th>\n",
       "      <td>0.624228</td>\n",
       "      <td>0.735917</td>\n",
       "      <td>0.463832</td>\n",
       "      <td>1.000000</td>\n",
       "      <td>0.059553</td>\n",
       "    </tr>\n",
       "    <tr>\n",
       "      <th>USDT</th>\n",
       "      <td>0.021606</td>\n",
       "      <td>-0.045571</td>\n",
       "      <td>-0.156326</td>\n",
       "      <td>0.059553</td>\n",
       "      <td>1.000000</td>\n",
       "    </tr>\n",
       "  </tbody>\n",
       "</table>\n",
       "</div>"
      ],
      "text/plain": [
       "token      AVAX       ETH      FLOW       SOL      USDT\n",
       "token                                                  \n",
       "AVAX   1.000000  0.633440  0.382025  0.624228  0.021606\n",
       "ETH    0.633440  1.000000  0.564051  0.735917 -0.045571\n",
       "FLOW   0.382025  0.564051  1.000000  0.463832 -0.156326\n",
       "SOL    0.624228  0.735917  0.463832  1.000000  0.059553\n",
       "USDT   0.021606 -0.045571 -0.156326  0.059553  1.000000"
      ]
     },
     "execution_count": 114,
     "metadata": {},
     "output_type": "execute_result"
    }
   ],
   "source": [
    "crypto_corr"
   ]
  },
  {
   "cell_type": "markdown",
   "id": "a79692e3-3d4d-497a-b127-df2399339ba7",
   "metadata": {},
   "source": [
    "### visualize the correlation in a matplpotlib plot"
   ]
  },
  {
   "cell_type": "code",
   "execution_count": 123,
   "id": "94ed9bb9-02a7-4a14-afbd-9310ec0bc686",
   "metadata": {},
   "outputs": [
    {
     "data": {
      "image/png": "[encoded data removed]",
      "text/plain": [
       "<Figure size 432x288 with 1 Axes>"
      ]
     },
     "metadata": {
      "needs_background": "light"
     },
     "output_type": "display_data"
    }
   ],
   "source": [
    "fig, ax = plt.subplots()\n",
    "im = ax.imshow(crypto_corr)\n",
    "\n",
    "# Show all ticks and label them with the respective list entries\n",
    "ax.set_xticks(np.arange(len(crypto_corr.columns)), labels=crypto_corr.columns)\n",
    "ax.set_yticks(np.arange(len(crypto_corr.index)), labels=crypto_corr.index)\n",
    "\n",
    "# Rotate the tick labels and set their alignment.\n",
    "plt.setp(ax.get_xticklabels(), rotation=45, ha=\"right\",\n",
    "         rotation_mode=\"anchor\")\n",
    "\n",
    "# Loop over data dimensions and create text annotations.\n",
    "for i in range(len(crypto_corr.columns)):\n",
    "    for j in range(len(crypto_corr.index)):\n",
    "        text = ax.text(j, i, crypto_corr.apply(lambda x:round(x,3)).iloc[i,j],\n",
    "                       ha=\"center\", va=\"center\", color=\"r\")\n",
    "\n",
    "ax.set_title(\"Correlation of the tokens\")\n",
    "fig.tight_layout()\n",
    "plt.show()"
   ]
  }
 ],
 "metadata": {
  "kernelspec": {
   "display_name": "Python 3 (ipykernel)",
   "language": "python",
   "name": "python3"
  },
  "language_info": {
   "codemirror_mode": {
    "name": "ipython",
    "version": 3
   },
   "file_extension": ".py",
   "mimetype": "text/x-python",
   "name": "python",
   "nbconvert_exporter": "python",
   "pygments_lexer": "ipython3",
   "version": "3.8.12"
  }
 },
 "nbformat": 4,
 "nbformat_minor": 5
}
