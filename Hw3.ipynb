{
 "cells": [
  {
   "cell_type": "code",
   "execution_count": 1,
   "metadata": {},
   "outputs": [],
   "source": [
    "import pandas as pd\n",
    "import numpy as np"
   ]
  },
  {
   "cell_type": "code",
   "execution_count": 57,
   "metadata": {},
   "outputs": [],
   "source": [
    "df = pd.read_csv('~/Desktop/hw3.csv')"
   ]
  },
  {
   "cell_type": "code",
   "execution_count": 58,
   "metadata": {},
   "outputs": [
    {
     "data": {
      "text/html": [
       "<div>\n",
       "<style scoped>\n",
       "    .dataframe tbody tr th:only-of-type {\n",
       "        vertical-align: middle;\n",
       "    }\n",
       "\n",
       "    .dataframe tbody tr th {\n",
       "        vertical-align: top;\n",
       "    }\n",
       "\n",
       "    .dataframe thead th {\n",
       "        text-align: right;\n",
       "    }\n",
       "</style>\n",
       "<table border=\"1\" class=\"dataframe\">\n",
       "  <thead>\n",
       "    <tr style=\"text-align: right;\">\n",
       "      <th></th>\n",
       "      <th>ts</th>\n",
       "      <th>open</th>\n",
       "      <th>high</th>\n",
       "      <th>low</th>\n",
       "      <th>close</th>\n",
       "      <th>volume</th>\n",
       "      <th>volumeUSD</th>\n",
       "      <th>token</th>\n",
       "      <th>chain</th>\n",
       "    </tr>\n",
       "  </thead>\n",
       "  <tbody>\n",
       "    <tr>\n",
       "      <th>0</th>\n",
       "      <td>2021-12-02 14:00:00</td>\n",
       "      <td>22.4150</td>\n",
       "      <td>22.4913</td>\n",
       "      <td>22.0816</td>\n",
       "      <td>22.3516</td>\n",
       "      <td>31502.151631</td>\n",
       "      <td>NaN</td>\n",
       "      <td>UNI</td>\n",
       "      <td>ETH</td>\n",
       "    </tr>\n",
       "    <tr>\n",
       "      <th>1</th>\n",
       "      <td>2021-12-02 23:00:00</td>\n",
       "      <td>4.8043</td>\n",
       "      <td>4.8043</td>\n",
       "      <td>4.7426</td>\n",
       "      <td>4.7806</td>\n",
       "      <td>73686.230000</td>\n",
       "      <td>NaN</td>\n",
       "      <td>CRV</td>\n",
       "      <td>ETH</td>\n",
       "    </tr>\n",
       "    <tr>\n",
       "      <th>2</th>\n",
       "      <td>2021-12-10 15:00:00</td>\n",
       "      <td>182.4900</td>\n",
       "      <td>NaN</td>\n",
       "      <td>175.2100</td>\n",
       "      <td>175.8600</td>\n",
       "      <td>73736.747000</td>\n",
       "      <td>NaN</td>\n",
       "      <td>SOL</td>\n",
       "      <td>SOL</td>\n",
       "    </tr>\n",
       "    <tr>\n",
       "      <th>3</th>\n",
       "      <td>2021-12-10 18:00:00</td>\n",
       "      <td>3978.4300</td>\n",
       "      <td>3989.7400</td>\n",
       "      <td>3932.0000</td>\n",
       "      <td>3972.3400</td>\n",
       "      <td>18508.040102</td>\n",
       "      <td>NaN</td>\n",
       "      <td>ETH</td>\n",
       "      <td>ETH</td>\n",
       "    </tr>\n",
       "    <tr>\n",
       "      <th>4</th>\n",
       "      <td>2021-12-08 21:00:00</td>\n",
       "      <td>193.3240</td>\n",
       "      <td>194.2420</td>\n",
       "      <td>192.5640</td>\n",
       "      <td>193.1540</td>\n",
       "      <td>69426.909000</td>\n",
       "      <td>NaN</td>\n",
       "      <td>SOL</td>\n",
       "      <td>SOL</td>\n",
       "    </tr>\n",
       "  </tbody>\n",
       "</table>\n",
       "</div>"
      ],
      "text/plain": [
       "                    ts       open       high        low      close  \\\n",
       "0  2021-12-02 14:00:00    22.4150    22.4913    22.0816    22.3516   \n",
       "1  2021-12-02 23:00:00     4.8043     4.8043     4.7426     4.7806   \n",
       "2  2021-12-10 15:00:00   182.4900        NaN   175.2100   175.8600   \n",
       "3  2021-12-10 18:00:00  3978.4300  3989.7400  3932.0000  3972.3400   \n",
       "4  2021-12-08 21:00:00   193.3240   194.2420   192.5640   193.1540   \n",
       "\n",
       "         volume  volumeUSD token chain  \n",
       "0  31502.151631        NaN   UNI   ETH  \n",
       "1  73686.230000        NaN   CRV   ETH  \n",
       "2  73736.747000        NaN   SOL   SOL  \n",
       "3  18508.040102        NaN   ETH   ETH  \n",
       "4  69426.909000        NaN   SOL   SOL  "
      ]
     },
     "execution_count": 58,
     "metadata": {},
     "output_type": "execute_result"
    }
   ],
   "source": [
    "df.head(5)"
   ]
  },
  {
   "cell_type": "code",
   "execution_count": 59,
   "metadata": {},
   "outputs": [
    {
     "name": "stdout",
     "output_type": "stream",
     "text": [
      "ts 0\n",
      "open 0\n",
      "high 504\n",
      "low 289\n",
      "close 136\n",
      "volume 0\n",
      "volumeUSD 2667\n",
      "token 0\n",
      "chain 0\n"
     ]
    }
   ],
   "source": [
    "for i in df.columns:\n",
    "    print(i,df[i].isna().sum())"
   ]
  },
  {
   "cell_type": "code",
   "execution_count": 60,
   "metadata": {},
   "outputs": [],
   "source": [
    "df.replace([np.inf, -np.inf], np.nan, inplace=True)"
   ]
  },
  {
   "cell_type": "code",
   "execution_count": 61,
   "metadata": {},
   "outputs": [],
   "source": [
    "df['volumeUSD']=df['volumeUSD'].fillna(0)"
   ]
  },
  {
   "cell_type": "code",
   "execution_count": 62,
   "metadata": {},
   "outputs": [],
   "source": [
    "tmp = df.dropna()"
   ]
  },
  {
   "cell_type": "code",
   "execution_count": 63,
   "metadata": {},
   "outputs": [
    {
     "data": {
      "text/html": [
       "<div>\n",
       "<style scoped>\n",
       "    .dataframe tbody tr th:only-of-type {\n",
       "        vertical-align: middle;\n",
       "    }\n",
       "\n",
       "    .dataframe tbody tr th {\n",
       "        vertical-align: top;\n",
       "    }\n",
       "\n",
       "    .dataframe thead th {\n",
       "        text-align: right;\n",
       "    }\n",
       "</style>\n",
       "<table border=\"1\" class=\"dataframe\">\n",
       "  <thead>\n",
       "    <tr style=\"text-align: right;\">\n",
       "      <th></th>\n",
       "      <th>ts</th>\n",
       "      <th>open</th>\n",
       "      <th>high</th>\n",
       "      <th>low</th>\n",
       "      <th>close</th>\n",
       "      <th>volume</th>\n",
       "      <th>volumeUSD</th>\n",
       "      <th>token</th>\n",
       "      <th>chain</th>\n",
       "    </tr>\n",
       "  </thead>\n",
       "  <tbody>\n",
       "    <tr>\n",
       "      <th>0</th>\n",
       "      <td>2021-12-02 14:00:00</td>\n",
       "      <td>22.4150</td>\n",
       "      <td>22.4913</td>\n",
       "      <td>22.0816</td>\n",
       "      <td>22.3516</td>\n",
       "      <td>3.150215e+04</td>\n",
       "      <td>0.0</td>\n",
       "      <td>UNI</td>\n",
       "      <td>ETH</td>\n",
       "    </tr>\n",
       "    <tr>\n",
       "      <th>1</th>\n",
       "      <td>2021-12-02 23:00:00</td>\n",
       "      <td>4.8043</td>\n",
       "      <td>4.8043</td>\n",
       "      <td>4.7426</td>\n",
       "      <td>4.7806</td>\n",
       "      <td>7.368623e+04</td>\n",
       "      <td>0.0</td>\n",
       "      <td>CRV</td>\n",
       "      <td>ETH</td>\n",
       "    </tr>\n",
       "    <tr>\n",
       "      <th>3</th>\n",
       "      <td>2021-12-10 18:00:00</td>\n",
       "      <td>3978.4300</td>\n",
       "      <td>3989.7400</td>\n",
       "      <td>3932.0000</td>\n",
       "      <td>3972.3400</td>\n",
       "      <td>1.850804e+04</td>\n",
       "      <td>0.0</td>\n",
       "      <td>ETH</td>\n",
       "      <td>ETH</td>\n",
       "    </tr>\n",
       "    <tr>\n",
       "      <th>4</th>\n",
       "      <td>2021-12-08 21:00:00</td>\n",
       "      <td>193.3240</td>\n",
       "      <td>194.2420</td>\n",
       "      <td>192.5640</td>\n",
       "      <td>193.1540</td>\n",
       "      <td>6.942691e+04</td>\n",
       "      <td>0.0</td>\n",
       "      <td>SOL</td>\n",
       "      <td>SOL</td>\n",
       "    </tr>\n",
       "    <tr>\n",
       "      <th>5</th>\n",
       "      <td>2021-12-08 12:00:00</td>\n",
       "      <td>3.8405</td>\n",
       "      <td>3.8789</td>\n",
       "      <td>3.7900</td>\n",
       "      <td>3.8392</td>\n",
       "      <td>3.788895e+05</td>\n",
       "      <td>0.0</td>\n",
       "      <td>CRV</td>\n",
       "      <td>ETH</td>\n",
       "    </tr>\n",
       "    <tr>\n",
       "      <th>...</th>\n",
       "      <td>...</td>\n",
       "      <td>...</td>\n",
       "      <td>...</td>\n",
       "      <td>...</td>\n",
       "      <td>...</td>\n",
       "      <td>...</td>\n",
       "      <td>...</td>\n",
       "      <td>...</td>\n",
       "      <td>...</td>\n",
       "    </tr>\n",
       "    <tr>\n",
       "      <th>2661</th>\n",
       "      <td>2021-12-01 17:00:00</td>\n",
       "      <td>284.1400</td>\n",
       "      <td>284.8900</td>\n",
       "      <td>282.1800</td>\n",
       "      <td>282.3400</td>\n",
       "      <td>4.782140e+02</td>\n",
       "      <td>0.0</td>\n",
       "      <td>COMP</td>\n",
       "      <td>ETH</td>\n",
       "    </tr>\n",
       "    <tr>\n",
       "      <th>2662</th>\n",
       "      <td>2021-12-03 12:00:00</td>\n",
       "      <td>243.5040</td>\n",
       "      <td>244.4700</td>\n",
       "      <td>243.0960</td>\n",
       "      <td>243.7920</td>\n",
       "      <td>9.468390e+02</td>\n",
       "      <td>0.0</td>\n",
       "      <td>AAVE</td>\n",
       "      <td>ETH</td>\n",
       "    </tr>\n",
       "    <tr>\n",
       "      <th>2664</th>\n",
       "      <td>2021-12-10 23:00:00</td>\n",
       "      <td>3.4600</td>\n",
       "      <td>3.4800</td>\n",
       "      <td>3.4100</td>\n",
       "      <td>3.4200</td>\n",
       "      <td>1.186261e+05</td>\n",
       "      <td>0.0</td>\n",
       "      <td>CRV</td>\n",
       "      <td>ETH</td>\n",
       "    </tr>\n",
       "    <tr>\n",
       "      <th>2665</th>\n",
       "      <td>2021-12-03 23:00:00</td>\n",
       "      <td>4215.0000</td>\n",
       "      <td>4249.7200</td>\n",
       "      <td>4183.2300</td>\n",
       "      <td>4198.8300</td>\n",
       "      <td>1.364579e+04</td>\n",
       "      <td>0.0</td>\n",
       "      <td>ETH</td>\n",
       "      <td>ETH</td>\n",
       "    </tr>\n",
       "    <tr>\n",
       "      <th>2666</th>\n",
       "      <td>2021-12-06 07:00:00</td>\n",
       "      <td>1.0012</td>\n",
       "      <td>1.0012</td>\n",
       "      <td>1.0011</td>\n",
       "      <td>1.0011</td>\n",
       "      <td>1.794178e+06</td>\n",
       "      <td>0.0</td>\n",
       "      <td>USDT</td>\n",
       "      <td>USDT</td>\n",
       "    </tr>\n",
       "  </tbody>\n",
       "</table>\n",
       "<p>1830 rows × 9 columns</p>\n",
       "</div>"
      ],
      "text/plain": [
       "                       ts       open       high        low      close  \\\n",
       "0     2021-12-02 14:00:00    22.4150    22.4913    22.0816    22.3516   \n",
       "1     2021-12-02 23:00:00     4.8043     4.8043     4.7426     4.7806   \n",
       "3     2021-12-10 18:00:00  3978.4300  3989.7400  3932.0000  3972.3400   \n",
       "4     2021-12-08 21:00:00   193.3240   194.2420   192.5640   193.1540   \n",
       "5     2021-12-08 12:00:00     3.8405     3.8789     3.7900     3.8392   \n",
       "...                   ...        ...        ...        ...        ...   \n",
       "2661  2021-12-01 17:00:00   284.1400   284.8900   282.1800   282.3400   \n",
       "2662  2021-12-03 12:00:00   243.5040   244.4700   243.0960   243.7920   \n",
       "2664  2021-12-10 23:00:00     3.4600     3.4800     3.4100     3.4200   \n",
       "2665  2021-12-03 23:00:00  4215.0000  4249.7200  4183.2300  4198.8300   \n",
       "2666  2021-12-06 07:00:00     1.0012     1.0012     1.0011     1.0011   \n",
       "\n",
       "            volume  volumeUSD token chain  \n",
       "0     3.150215e+04        0.0   UNI   ETH  \n",
       "1     7.368623e+04        0.0   CRV   ETH  \n",
       "3     1.850804e+04        0.0   ETH   ETH  \n",
       "4     6.942691e+04        0.0   SOL   SOL  \n",
       "5     3.788895e+05        0.0   CRV   ETH  \n",
       "...            ...        ...   ...   ...  \n",
       "2661  4.782140e+02        0.0  COMP   ETH  \n",
       "2662  9.468390e+02        0.0  AAVE   ETH  \n",
       "2664  1.186261e+05        0.0   CRV   ETH  \n",
       "2665  1.364579e+04        0.0   ETH   ETH  \n",
       "2666  1.794178e+06        0.0  USDT  USDT  \n",
       "\n",
       "[1830 rows x 9 columns]"
      ]
     },
     "execution_count": 63,
     "metadata": {},
     "output_type": "execute_result"
    }
   ],
   "source": [
    "tmp"
   ]
  },
  {
   "cell_type": "code",
   "execution_count": 64,
   "metadata": {},
   "outputs": [],
   "source": [
    "from sklearn.metrics import r2_score"
   ]
  },
  {
   "cell_type": "code",
   "execution_count": 65,
   "metadata": {},
   "outputs": [
    {
     "data": {
      "text/plain": [
       "9999.238585138417"
      ]
     },
     "execution_count": 65,
     "metadata": {},
     "output_type": "execute_result"
    }
   ],
   "source": [
    "r2_score(tmp['high'],tmp['open'])*10000\n",
    "# which means I could use open to refill high"
   ]
  },
  {
   "cell_type": "code",
   "execution_count": 66,
   "metadata": {},
   "outputs": [
    {
     "data": {
      "text/plain": [
       "9997.81347758713"
      ]
     },
     "execution_count": 66,
     "metadata": {},
     "output_type": "execute_result"
    }
   ],
   "source": [
    "r2_score(tmp['low'],tmp['open'])*10000"
   ]
  },
  {
   "cell_type": "code",
   "execution_count": 67,
   "metadata": {},
   "outputs": [
    {
     "data": {
      "text/plain": [
       "182.5753164781907"
      ]
     },
     "execution_count": 67,
     "metadata": {},
     "output_type": "execute_result"
    }
   ],
   "source": [
    "r2_score(tmp['close'],tmp['open'])*10000\n",
    "# There's some problem "
   ]
  },
  {
   "cell_type": "code",
   "execution_count": 74,
   "metadata": {},
   "outputs": [],
   "source": [
    "df['high']=df['high'].fillna(df['open'])\n",
    "df['low']= df['low'].fillna(df['open'])"
   ]
  },
  {
   "cell_type": "code",
   "execution_count": 75,
   "metadata": {},
   "outputs": [
    {
     "data": {
      "text/html": [
       "<div>\n",
       "<style scoped>\n",
       "    .dataframe tbody tr th:only-of-type {\n",
       "        vertical-align: middle;\n",
       "    }\n",
       "\n",
       "    .dataframe tbody tr th {\n",
       "        vertical-align: top;\n",
       "    }\n",
       "\n",
       "    .dataframe thead th {\n",
       "        text-align: right;\n",
       "    }\n",
       "</style>\n",
       "<table border=\"1\" class=\"dataframe\">\n",
       "  <thead>\n",
       "    <tr style=\"text-align: right;\">\n",
       "      <th></th>\n",
       "      <th>ts</th>\n",
       "      <th>open</th>\n",
       "      <th>high</th>\n",
       "      <th>low</th>\n",
       "      <th>close</th>\n",
       "      <th>volume</th>\n",
       "      <th>volumeUSD</th>\n",
       "      <th>token</th>\n",
       "      <th>chain</th>\n",
       "    </tr>\n",
       "  </thead>\n",
       "  <tbody>\n",
       "    <tr>\n",
       "      <th>127</th>\n",
       "      <td>2021-12-12 14:00:00</td>\n",
       "      <td>49542.39</td>\n",
       "      <td>49542.39</td>\n",
       "      <td>49534.71</td>\n",
       "      <td>4983812.00</td>\n",
       "      <td>342.670409</td>\n",
       "      <td>0.0</td>\n",
       "      <td>BTC</td>\n",
       "      <td>BTC</td>\n",
       "    </tr>\n",
       "    <tr>\n",
       "      <th>955</th>\n",
       "      <td>2021-12-05 11:00:00</td>\n",
       "      <td>49113.55</td>\n",
       "      <td>49113.55</td>\n",
       "      <td>49113.55</td>\n",
       "      <td>4936795.00</td>\n",
       "      <td>621.159777</td>\n",
       "      <td>0.0</td>\n",
       "      <td>&lt;span name=\"tokenName\"&gt;BTC&lt;/span&gt;</td>\n",
       "      <td>BTC</td>\n",
       "    </tr>\n",
       "    <tr>\n",
       "      <th>1962</th>\n",
       "      <td>2021-12-09 13:00:00</td>\n",
       "      <td>4307.44</td>\n",
       "      <td>4307.44</td>\n",
       "      <td>4268.88</td>\n",
       "      <td>431046.00</td>\n",
       "      <td>6367.062495</td>\n",
       "      <td>0.0</td>\n",
       "      <td>&lt;span name=\"tokenName\"&gt;ETH&lt;/span&gt;</td>\n",
       "      <td>ETH</td>\n",
       "    </tr>\n",
       "    <tr>\n",
       "      <th>1233</th>\n",
       "      <td>2021-12-09 13:00:00</td>\n",
       "      <td>4307.44</td>\n",
       "      <td>4307.44</td>\n",
       "      <td>4268.88</td>\n",
       "      <td>431046.00</td>\n",
       "      <td>6367.062495</td>\n",
       "      <td>0.0</td>\n",
       "      <td>&lt;span name=\"tokenName\"&gt;ETH&lt;/span&gt;</td>\n",
       "      <td>ETH</td>\n",
       "    </tr>\n",
       "    <tr>\n",
       "      <th>1439</th>\n",
       "      <td>2021-12-01 16:00:00</td>\n",
       "      <td>58610.19</td>\n",
       "      <td>58610.19</td>\n",
       "      <td>58349.19</td>\n",
       "      <td>58664.40</td>\n",
       "      <td>684.590976</td>\n",
       "      <td>0.0</td>\n",
       "      <td>BTC</td>\n",
       "      <td>BTC</td>\n",
       "    </tr>\n",
       "    <tr>\n",
       "      <th>1480</th>\n",
       "      <td>2021-12-01 16:00:00</td>\n",
       "      <td>58610.19</td>\n",
       "      <td>58610.19</td>\n",
       "      <td>58349.19</td>\n",
       "      <td>58664.40</td>\n",
       "      <td>684.590976</td>\n",
       "      <td>0.0</td>\n",
       "      <td>BTC</td>\n",
       "      <td>BTC</td>\n",
       "    </tr>\n",
       "    <tr>\n",
       "      <th>1842</th>\n",
       "      <td>2021-12-01 15:00:00</td>\n",
       "      <td>57706.57</td>\n",
       "      <td>58783.16</td>\n",
       "      <td>57704.98</td>\n",
       "      <td>58610.19</td>\n",
       "      <td>908.858596</td>\n",
       "      <td>0.0</td>\n",
       "      <td>BTC</td>\n",
       "      <td>BTC</td>\n",
       "    </tr>\n",
       "    <tr>\n",
       "      <th>628</th>\n",
       "      <td>2021-12-01 17:00:00</td>\n",
       "      <td>58664.40</td>\n",
       "      <td>58664.40</td>\n",
       "      <td>58445.53</td>\n",
       "      <td>58485.88</td>\n",
       "      <td>728.515015</td>\n",
       "      <td>0.0</td>\n",
       "      <td>BTC</td>\n",
       "      <td>BTC</td>\n",
       "    </tr>\n",
       "    <tr>\n",
       "      <th>2630</th>\n",
       "      <td>2021-12-01 14:00:00</td>\n",
       "      <td>57156.18</td>\n",
       "      <td>57987.67</td>\n",
       "      <td>57156.18</td>\n",
       "      <td>57709.94</td>\n",
       "      <td>510.976118</td>\n",
       "      <td>0.0</td>\n",
       "      <td>BTC</td>\n",
       "      <td>BTC</td>\n",
       "    </tr>\n",
       "    <tr>\n",
       "      <th>1212</th>\n",
       "      <td>2021-12-01 01:00:00</td>\n",
       "      <td>56998.35</td>\n",
       "      <td>57726.45</td>\n",
       "      <td>56705.06</td>\n",
       "      <td>57616.41</td>\n",
       "      <td>599.791578</td>\n",
       "      <td>0.0</td>\n",
       "      <td>BTC</td>\n",
       "      <td>BTC</td>\n",
       "    </tr>\n",
       "  </tbody>\n",
       "</table>\n",
       "</div>"
      ],
      "text/plain": [
       "                       ts      open      high       low       close  \\\n",
       "127   2021-12-12 14:00:00  49542.39  49542.39  49534.71  4983812.00   \n",
       "955   2021-12-05 11:00:00  49113.55  49113.55  49113.55  4936795.00   \n",
       "1962  2021-12-09 13:00:00   4307.44   4307.44   4268.88   431046.00   \n",
       "1233  2021-12-09 13:00:00   4307.44   4307.44   4268.88   431046.00   \n",
       "1439  2021-12-01 16:00:00  58610.19  58610.19  58349.19    58664.40   \n",
       "1480  2021-12-01 16:00:00  58610.19  58610.19  58349.19    58664.40   \n",
       "1842  2021-12-01 15:00:00  57706.57  58783.16  57704.98    58610.19   \n",
       "628   2021-12-01 17:00:00  58664.40  58664.40  58445.53    58485.88   \n",
       "2630  2021-12-01 14:00:00  57156.18  57987.67  57156.18    57709.94   \n",
       "1212  2021-12-01 01:00:00  56998.35  57726.45  56705.06    57616.41   \n",
       "\n",
       "           volume  volumeUSD                              token chain  \n",
       "127    342.670409        0.0                                BTC   BTC  \n",
       "955    621.159777        0.0  <span name=\"tokenName\">BTC</span>   BTC  \n",
       "1962  6367.062495        0.0  <span name=\"tokenName\">ETH</span>   ETH  \n",
       "1233  6367.062495        0.0  <span name=\"tokenName\">ETH</span>   ETH  \n",
       "1439   684.590976        0.0                                BTC   BTC  \n",
       "1480   684.590976        0.0                                BTC   BTC  \n",
       "1842   908.858596        0.0                                BTC   BTC  \n",
       "628    728.515015        0.0                                BTC   BTC  \n",
       "2630   510.976118        0.0                                BTC   BTC  \n",
       "1212   599.791578        0.0                                BTC   BTC  "
      ]
     },
     "execution_count": 75,
     "metadata": {},
     "output_type": "execute_result"
    }
   ],
   "source": [
    "df.sort_values(by='close',ascending=False).head(10)"
   ]
  },
  {
   "cell_type": "code",
   "execution_count": 76,
   "metadata": {},
   "outputs": [],
   "source": [
    "df.drop(df[df['close'] > df['high']].index, inplace = True)"
   ]
  },
  {
   "cell_type": "code",
   "execution_count": 77,
   "metadata": {},
   "outputs": [
    {
     "data": {
      "text/html": [
       "<div>\n",
       "<style scoped>\n",
       "    .dataframe tbody tr th:only-of-type {\n",
       "        vertical-align: middle;\n",
       "    }\n",
       "\n",
       "    .dataframe tbody tr th {\n",
       "        vertical-align: top;\n",
       "    }\n",
       "\n",
       "    .dataframe thead th {\n",
       "        text-align: right;\n",
       "    }\n",
       "</style>\n",
       "<table border=\"1\" class=\"dataframe\">\n",
       "  <thead>\n",
       "    <tr style=\"text-align: right;\">\n",
       "      <th></th>\n",
       "      <th>ts</th>\n",
       "      <th>open</th>\n",
       "      <th>high</th>\n",
       "      <th>low</th>\n",
       "      <th>close</th>\n",
       "      <th>volume</th>\n",
       "      <th>volumeUSD</th>\n",
       "      <th>token</th>\n",
       "      <th>chain</th>\n",
       "    </tr>\n",
       "  </thead>\n",
       "  <tbody>\n",
       "    <tr>\n",
       "      <th>1842</th>\n",
       "      <td>2021-12-01 15:00:00</td>\n",
       "      <td>57706.57</td>\n",
       "      <td>58783.16</td>\n",
       "      <td>57704.98</td>\n",
       "      <td>58610.19</td>\n",
       "      <td>908.858596</td>\n",
       "      <td>0.0</td>\n",
       "      <td>BTC</td>\n",
       "      <td>BTC</td>\n",
       "    </tr>\n",
       "    <tr>\n",
       "      <th>628</th>\n",
       "      <td>2021-12-01 17:00:00</td>\n",
       "      <td>58664.40</td>\n",
       "      <td>58664.40</td>\n",
       "      <td>58445.53</td>\n",
       "      <td>58485.88</td>\n",
       "      <td>728.515015</td>\n",
       "      <td>0.0</td>\n",
       "      <td>BTC</td>\n",
       "      <td>BTC</td>\n",
       "    </tr>\n",
       "    <tr>\n",
       "      <th>2630</th>\n",
       "      <td>2021-12-01 14:00:00</td>\n",
       "      <td>57156.18</td>\n",
       "      <td>57987.67</td>\n",
       "      <td>57156.18</td>\n",
       "      <td>57709.94</td>\n",
       "      <td>510.976118</td>\n",
       "      <td>0.0</td>\n",
       "      <td>BTC</td>\n",
       "      <td>BTC</td>\n",
       "    </tr>\n",
       "    <tr>\n",
       "      <th>1212</th>\n",
       "      <td>2021-12-01 01:00:00</td>\n",
       "      <td>56998.35</td>\n",
       "      <td>57726.45</td>\n",
       "      <td>56705.06</td>\n",
       "      <td>57616.41</td>\n",
       "      <td>599.791578</td>\n",
       "      <td>0.0</td>\n",
       "      <td>BTC</td>\n",
       "      <td>BTC</td>\n",
       "    </tr>\n",
       "    <tr>\n",
       "      <th>1967</th>\n",
       "      <td>2021-12-01 19:00:00</td>\n",
       "      <td>58037.52</td>\n",
       "      <td>58148.15</td>\n",
       "      <td>57423.59</td>\n",
       "      <td>57498.26</td>\n",
       "      <td>851.152400</td>\n",
       "      <td>0.0</td>\n",
       "      <td>BTC</td>\n",
       "      <td>BTC</td>\n",
       "    </tr>\n",
       "    <tr>\n",
       "      <th>93</th>\n",
       "      <td>2021-12-01 20:00:00</td>\n",
       "      <td>57503.89</td>\n",
       "      <td>57503.89</td>\n",
       "      <td>57016.26</td>\n",
       "      <td>57467.07</td>\n",
       "      <td>1209.447376</td>\n",
       "      <td>0.0</td>\n",
       "      <td>BTC</td>\n",
       "      <td>BTC</td>\n",
       "    </tr>\n",
       "    <tr>\n",
       "      <th>82</th>\n",
       "      <td>2021-12-01 04:00:00</td>\n",
       "      <td>57306.55</td>\n",
       "      <td>57456.82</td>\n",
       "      <td>57026.11</td>\n",
       "      <td>57404.01</td>\n",
       "      <td>859.591535</td>\n",
       "      <td>0.0</td>\n",
       "      <td>BTC</td>\n",
       "      <td>BTC</td>\n",
       "    </tr>\n",
       "    <tr>\n",
       "      <th>1139</th>\n",
       "      <td>2021-12-01 03:00:00</td>\n",
       "      <td>57029.79</td>\n",
       "      <td>57396.87</td>\n",
       "      <td>57029.79</td>\n",
       "      <td>57307.59</td>\n",
       "      <td>702.560364</td>\n",
       "      <td>0.0</td>\n",
       "      <td>BTC</td>\n",
       "      <td>BTC</td>\n",
       "    </tr>\n",
       "    <tr>\n",
       "      <th>1616</th>\n",
       "      <td>2021-12-02 02:00:00</td>\n",
       "      <td>57061.93</td>\n",
       "      <td>57423.69</td>\n",
       "      <td>56828.46</td>\n",
       "      <td>57263.63</td>\n",
       "      <td>357.638689</td>\n",
       "      <td>0.0</td>\n",
       "      <td>BTC</td>\n",
       "      <td>BTC</td>\n",
       "    </tr>\n",
       "    <tr>\n",
       "      <th>708</th>\n",
       "      <td>2021-12-02 00:00:00</td>\n",
       "      <td>57107.93</td>\n",
       "      <td>57286.38</td>\n",
       "      <td>57008.63</td>\n",
       "      <td>57226.50</td>\n",
       "      <td>468.446087</td>\n",
       "      <td>0.0</td>\n",
       "      <td>BTC</td>\n",
       "      <td>BTC</td>\n",
       "    </tr>\n",
       "  </tbody>\n",
       "</table>\n",
       "</div>"
      ],
      "text/plain": [
       "                       ts      open      high       low     close  \\\n",
       "1842  2021-12-01 15:00:00  57706.57  58783.16  57704.98  58610.19   \n",
       "628   2021-12-01 17:00:00  58664.40  58664.40  58445.53  58485.88   \n",
       "2630  2021-12-01 14:00:00  57156.18  57987.67  57156.18  57709.94   \n",
       "1212  2021-12-01 01:00:00  56998.35  57726.45  56705.06  57616.41   \n",
       "1967  2021-12-01 19:00:00  58037.52  58148.15  57423.59  57498.26   \n",
       "93    2021-12-01 20:00:00  57503.89  57503.89  57016.26  57467.07   \n",
       "82    2021-12-01 04:00:00  57306.55  57456.82  57026.11  57404.01   \n",
       "1139  2021-12-01 03:00:00  57029.79  57396.87  57029.79  57307.59   \n",
       "1616  2021-12-02 02:00:00  57061.93  57423.69  56828.46  57263.63   \n",
       "708   2021-12-02 00:00:00  57107.93  57286.38  57008.63  57226.50   \n",
       "\n",
       "           volume  volumeUSD token chain  \n",
       "1842   908.858596        0.0   BTC   BTC  \n",
       "628    728.515015        0.0   BTC   BTC  \n",
       "2630   510.976118        0.0   BTC   BTC  \n",
       "1212   599.791578        0.0   BTC   BTC  \n",
       "1967   851.152400        0.0   BTC   BTC  \n",
       "93    1209.447376        0.0   BTC   BTC  \n",
       "82     859.591535        0.0   BTC   BTC  \n",
       "1139   702.560364        0.0   BTC   BTC  \n",
       "1616   357.638689        0.0   BTC   BTC  \n",
       "708    468.446087        0.0   BTC   BTC  "
      ]
     },
     "execution_count": 77,
     "metadata": {},
     "output_type": "execute_result"
    }
   ],
   "source": [
    "df.sort_values(by='close',ascending=False).head(10)"
   ]
  },
  {
   "cell_type": "code",
   "execution_count": 78,
   "metadata": {},
   "outputs": [],
   "source": [
    "import matplotlib.pyplot as plt\n",
    "from functools import reduce\n",
    "\n",
    "%matplotlib inline"
   ]
  },
  {
   "cell_type": "code",
   "execution_count": 80,
   "metadata": {},
   "outputs": [
    {
     "data": {
      "text/plain": [
       "<AxesSubplot:>"
      ]
     },
     "execution_count": 80,
     "metadata": {},
     "output_type": "execute_result"
    },
    {
     "data": {
      "image/png": "[encoded data removed]",
      "text/plain": [
       "<Figure size 432x288 with 1 Axes>"
      ]
     },
     "metadata": {
      "needs_background": "light"
     },
     "output_type": "display_data"
    }
   ],
   "source": [
    "df['close'].plot()"
   ]
  },
  {
   "cell_type": "code",
   "execution_count": 82,
   "metadata": {},
   "outputs": [
    {
     "data": {
      "text/plain": [
       "<AxesSubplot:>"
      ]
     },
     "execution_count": 82,
     "metadata": {},
     "output_type": "execute_result"
    },
    {
     "data": {
      "image/png": "[encoded data removed]",
      "text/plain": [
       "<Figure size 432x288 with 1 Axes>"
      ]
     },
     "metadata": {
      "needs_background": "light"
     },
     "output_type": "display_data"
    }
   ],
   "source": [
    "df[['open', 'high', 'low', 'close']].plot()"
   ]
  },
  {
   "cell_type": "code",
   "execution_count": 85,
   "metadata": {},
   "outputs": [
    {
     "data": {
      "text/plain": [
       "<AxesSubplot:>"
      ]
     },
     "execution_count": 85,
     "metadata": {},
     "output_type": "execute_result"
    },
    {
     "data": {
      "image/png": "[encoded data removed]",
      "text/plain": [
       "<Figure size 432x288 with 1 Axes>"
      ]
     },
     "metadata": {
      "needs_background": "light"
     },
     "output_type": "display_data"
    }
   ],
   "source": [
    "df['close'].plot(style='--')"
   ]
  },
  {
   "cell_type": "code",
   "execution_count": null,
   "metadata": {},
   "outputs": [],
   "source": []
  }
 ],
 "metadata": {
  "kernelspec": {
   "display_name": "Python 3",
   "language": "python",
   "name": "python3"
  },
  "language_info": {
   "codemirror_mode": {
    "name": "ipython",
    "version": 3
   },
   "file_extension": ".py",
   "mimetype": "text/x-python",
   "name": "python",
   "nbconvert_exporter": "python",
   "pygments_lexer": "ipython3",
   "version": "3.8.5"
  }
 },
 "nbformat": 4,
 "nbformat_minor": 4
}
