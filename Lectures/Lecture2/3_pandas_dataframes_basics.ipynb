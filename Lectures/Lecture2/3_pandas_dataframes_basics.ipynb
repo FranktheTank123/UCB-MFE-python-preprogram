{
 "cells": [
  {
   "cell_type": "markdown",
   "metadata": {},
   "source": [
    "# Pandas DataFrames (`pd.DataFrame`)"
   ]
  },
  {
   "cell_type": "markdown",
   "metadata": {},
   "source": [
    "The pandas dataframe is the workhorse of most data science and analytics projects.  The dataframe represents the data you're working with as a table.  However, the flexibility of the dataframe is that each row **and** column is represented as a pandas Series, which allows for many powerful ways to mess around with the data"
   ]
  },
  {
   "cell_type": "code",
   "execution_count": 1,
   "metadata": {},
   "outputs": [],
   "source": [
    "import pandas as pd\n",
    "import numpy as np\n",
    "import requests"
   ]
  },
  {
   "cell_type": "markdown",
   "metadata": {},
   "source": [
    "First let's get some data so we can see what we can do with a data frame.  Don't worry about exactly what this function is doing, we will go over it in a bit."
   ]
  },
  {
   "cell_type": "code",
   "execution_count": 2,
   "metadata": {},
   "outputs": [],
   "source": [
    "def get_data(token):\n",
    "    res = requests.get(\n",
    "        f'https://api.cryptowat.ch/markets/coinbase-pro/{token}usd/ohlc',\n",
    "        params={\n",
    "            'periods': '3600',\n",
    "            'after': str(int(pd.Timestamp('2021-12-01').timestamp()))\n",
    "        }\n",
    "    )\n",
    "\n",
    "    df = pd.DataFrame(\n",
    "        res.json()['result']['3600'],\n",
    "        columns=['ts', 'open', 'high', 'low', 'close', 'volume', 'volumeUSD']\n",
    "    )\n",
    "    df['ts'] = pd.to_datetime(df.ts, unit='s')\n",
    "    df['token'] = token\n",
    "    \n",
    "    return df\n"
   ]
  },
  {
   "cell_type": "code",
   "execution_count": 3,
   "metadata": {},
   "outputs": [],
   "source": [
    "tokens = ['BTC', 'ETH', 'SOL', 'AAVE', 'COMP']"
   ]
  },
  {
   "cell_type": "markdown",
   "metadata": {},
   "source": [
    "Don't worry too much about what is going on in the function below - we'll briefly go over it as it showcases the power of python, but it's not necessary for the class"
   ]
  },
  {
   "cell_type": "code",
   "execution_count": 4,
   "metadata": {},
   "outputs": [],
   "source": [
    "dfs = [\n",
    "    (lambda x: x.assign(chain=np.where(x.token.isin(['ETH', 'AAVE', 'COMP']), np.full(x.shape[0], 'ETH'), x.token)))(get_data(token)) \n",
    "    for token in tokens\n",
    "]"
   ]
  },
  {
   "cell_type": "code",
   "execution_count": 5,
   "metadata": {},
   "outputs": [],
   "source": [
    "df_base = pd.concat(get_data(token) for token in tokens)\n",
    "df_base['chain'] = np.where(df_base.token.isin(['ETH', 'AAVE', 'COMP']), np.full(df_base.shape[0], 'ETH'), df_base.token)\n"
   ]
  },
  {
   "cell_type": "code",
   "execution_count": 6,
   "metadata": {},
   "outputs": [],
   "source": [
    "df = df_base.set_index('ts')"
   ]
  },
  {
   "cell_type": "markdown",
   "metadata": {},
   "source": [
    "## Understanding the data frame"
   ]
  },
  {
   "cell_type": "markdown",
   "metadata": {},
   "source": [
    "After loading the data in our data frame, we can now inspect what's inside.  We'll need to do this as often the data we will store will be impossible to inspect row by row, and we will need to check that our data loading was correct\n",
    "\n",
    "Let's check some basic properties of the data set:"
   ]
  },
  {
   "cell_type": "markdown",
   "metadata": {},
   "source": [
    "We can see how many rows and columns this data frame has, and total number of data points"
   ]
  },
  {
   "cell_type": "code",
   "execution_count": null,
   "metadata": {},
   "outputs": [],
   "source": [
    "df.shape"
   ]
  },
  {
   "cell_type": "code",
   "execution_count": null,
   "metadata": {},
   "outputs": [],
   "source": [
    "df.size"
   ]
  },
  {
   "cell_type": "markdown",
   "metadata": {},
   "source": [
    "We can see what the first 5 rows looks like:"
   ]
  },
  {
   "cell_type": "code",
   "execution_count": null,
   "metadata": {},
   "outputs": [],
   "source": [
    "df.head()"
   ]
  },
  {
   "cell_type": "markdown",
   "metadata": {},
   "source": [
    "...and the last 5 rows"
   ]
  },
  {
   "cell_type": "code",
   "execution_count": null,
   "metadata": {
    "tags": []
   },
   "outputs": [],
   "source": [
    "df.tail()"
   ]
  },
  {
   "cell_type": "markdown",
   "metadata": {},
   "source": [
    "We can also see a general overview of the schema (column name, data and data type) of the data"
   ]
  },
  {
   "cell_type": "code",
   "execution_count": null,
   "metadata": {},
   "outputs": [],
   "source": [
    "df.info()"
   ]
  },
  {
   "cell_type": "markdown",
   "metadata": {},
   "source": [
    "as well as descriptive statistics about every column"
   ]
  },
  {
   "cell_type": "code",
   "execution_count": null,
   "metadata": {},
   "outputs": [],
   "source": [
    "df.describe()"
   ]
  },
  {
   "cell_type": "markdown",
   "metadata": {},
   "source": [
    "## DataFrame Indexing"
   ]
  },
  {
   "cell_type": "markdown",
   "metadata": {},
   "source": [
    "Indexing in data frames works very similar to Series, however there are now two \"axes\" that we can operate on - rows and columns.  For example, using `[*]` for indexing (like in series) by default will operate on columns:"
   ]
  },
  {
   "cell_type": "code",
   "execution_count": null,
   "metadata": {},
   "outputs": [],
   "source": [
    "df['open']"
   ]
  },
  {
   "cell_type": "markdown",
   "metadata": {},
   "source": [
    "however using `.loc[*]` will allow you to access rows:"
   ]
  },
  {
   "cell_type": "code",
   "execution_count": null,
   "metadata": {},
   "outputs": [],
   "source": [
    "df.loc['2021-12-01 01:00:00']"
   ]
  },
  {
   "cell_type": "markdown",
   "metadata": {},
   "source": [
    "and `.iloc[*]` will get you positional rows"
   ]
  },
  {
   "cell_type": "code",
   "execution_count": null,
   "metadata": {},
   "outputs": [],
   "source": [
    "df.iloc[0]"
   ]
  },
  {
   "cell_type": "markdown",
   "metadata": {},
   "source": [
    "we can also get to the last row easily"
   ]
  },
  {
   "cell_type": "code",
   "execution_count": null,
   "metadata": {},
   "outputs": [],
   "source": [
    "df.iloc[-1]"
   ]
  },
  {
   "cell_type": "markdown",
   "metadata": {},
   "source": [
    "or return it as a data frame instead of a Series"
   ]
  },
  {
   "cell_type": "code",
   "execution_count": null,
   "metadata": {},
   "outputs": [],
   "source": [
    "df.iloc[[-1]]"
   ]
  },
  {
   "cell_type": "markdown",
   "metadata": {},
   "source": [
    "**note**: `df.loc[0]` will not work, as this is accessing via index"
   ]
  },
  {
   "cell_type": "markdown",
   "metadata": {},
   "source": [
    "---\n",
    "**note**: Also, the index operators will return a `pd.Series` if there's 1 row returned, or a new `pd.DataFrame` if multiple rows are returned, e.g.:"
   ]
  },
  {
   "cell_type": "code",
   "execution_count": null,
   "metadata": {},
   "outputs": [],
   "source": [
    "type(df.iloc[0])"
   ]
  },
  {
   "cell_type": "code",
   "execution_count": null,
   "metadata": {},
   "outputs": [],
   "source": [
    "type(df.loc['2021-12-01 01:00:00']) # 5 rows returned"
   ]
  },
  {
   "cell_type": "markdown",
   "metadata": {},
   "source": [
    "we can convert a Series to a DataFrame anytime by using the `.to_frame()` method on the Series object.  This will turn the Series to a DataFrame, using the `Series.name` as the column name"
   ]
  },
  {
   "cell_type": "code",
   "execution_count": null,
   "metadata": {},
   "outputs": [],
   "source": [
    "df.iloc[0].to_frame()"
   ]
  },
  {
   "cell_type": "markdown",
   "metadata": {},
   "source": [
    "---"
   ]
  },
  {
   "cell_type": "markdown",
   "metadata": {},
   "source": [
    "In addition, we can select on multiple columns and rows in various ways:"
   ]
  },
  {
   "cell_type": "code",
   "execution_count": null,
   "metadata": {},
   "outputs": [],
   "source": [
    "df[['open', 'close']]"
   ]
  },
  {
   "cell_type": "code",
   "execution_count": null,
   "metadata": {},
   "outputs": [],
   "source": [
    "df[0:2]"
   ]
  },
  {
   "cell_type": "code",
   "execution_count": null,
   "metadata": {},
   "outputs": [],
   "source": [
    "df.loc['2021-12-01 00:00:00':'2021-12-01 02:00:00']"
   ]
  },
  {
   "cell_type": "code",
   "execution_count": null,
   "metadata": {},
   "outputs": [],
   "source": [
    "df.iloc[0:4]"
   ]
  },
  {
   "cell_type": "code",
   "execution_count": null,
   "metadata": {},
   "outputs": [],
   "source": [
    "df.iloc[[0, 4, 10, 50]]"
   ]
  },
  {
   "cell_type": "markdown",
   "metadata": {},
   "source": [
    "And finally, we can index on both rows and columns at the same time with `.loc`:"
   ]
  },
  {
   "cell_type": "code",
   "execution_count": null,
   "metadata": {},
   "outputs": [],
   "source": [
    "df.loc['2021-12-01 00:00:00':'2021-12-01 02:00:00', ['close', 'volume', 'token']]"
   ]
  },
  {
   "cell_type": "markdown",
   "metadata": {},
   "source": [
    "**note**: Given that by default dataframe indices are sequential integers by default, it's good practice to use `.loc` and `.iloc` to index into the data frame to be very clear, for example, let's shuffle our data frame then select:"
   ]
  },
  {
   "cell_type": "code",
   "execution_count": null,
   "metadata": {},
   "outputs": [],
   "source": [
    "df_shuffled = df_base.sample(frac=1)"
   ]
  },
  {
   "cell_type": "code",
   "execution_count": null,
   "metadata": {},
   "outputs": [],
   "source": [
    "df_shuffled.loc[[0, 2, 3]]"
   ]
  },
  {
   "cell_type": "code",
   "execution_count": null,
   "metadata": {},
   "outputs": [],
   "source": [
    "df_shuffled.iloc[[0, 2, 3]]"
   ]
  },
  {
   "cell_type": "markdown",
   "metadata": {},
   "source": [
    "lastly, we can set the DataFrame index from a column, or remove an index into a column"
   ]
  },
  {
   "cell_type": "code",
   "execution_count": null,
   "metadata": {},
   "outputs": [],
   "source": [
    "df_shuffled.set_index('ts')"
   ]
  },
  {
   "cell_type": "code",
   "execution_count": null,
   "metadata": {},
   "outputs": [],
   "source": [
    "df_shuffled.set_index('ts').reset_index()"
   ]
  },
  {
   "cell_type": "markdown",
   "metadata": {},
   "source": [
    "## DataFrame Filtering"
   ]
  },
  {
   "cell_type": "markdown",
   "metadata": {},
   "source": [
    "Filtering a data frame is very similar to filtering a series.  We can filter on any set of columns, the filtering is done via indices.  For example, if we wanted to just get the data points for tokens on the ethereum chain:"
   ]
  },
  {
   "cell_type": "code",
   "execution_count": null,
   "metadata": {},
   "outputs": [],
   "source": [
    "df['chain'] == 'ETH'"
   ]
  },
  {
   "cell_type": "code",
   "execution_count": null,
   "metadata": {},
   "outputs": [],
   "source": [
    "df.loc[df['chain'] == 'ETH']"
   ]
  },
  {
   "cell_type": "code",
   "execution_count": null,
   "metadata": {},
   "outputs": [],
   "source": [
    "df.loc[df['chain'] == 'ETH', 'close']"
   ]
  },
  {
   "cell_type": "markdown",
   "metadata": {},
   "source": [
    "## Deleting from Dataframes"
   ]
  },
  {
   "cell_type": "markdown",
   "metadata": {},
   "source": [
    "We can select for all the things we'd like, but we can also drop both rows and columns.  This also works by index, i.e.:"
   ]
  },
  {
   "cell_type": "code",
   "execution_count": null,
   "metadata": {},
   "outputs": [],
   "source": [
    "df.drop(pd.to_datetime('2021-12-01 00:00:00'))"
   ]
  },
  {
   "cell_type": "code",
   "execution_count": null,
   "metadata": {},
   "outputs": [],
   "source": [
    "df.drop(columns='volumeUSD')"
   ]
  },
  {
   "cell_type": "code",
   "execution_count": null,
   "metadata": {},
   "outputs": [],
   "source": [
    "df.drop(['close', 'open'], axis=1)"
   ]
  },
  {
   "cell_type": "markdown",
   "metadata": {},
   "source": [
    "## Common Operations"
   ]
  },
  {
   "cell_type": "markdown",
   "metadata": {},
   "source": [
    "Like with pandas Series, a DataFrame is simply a numpy array underneath the hood."
   ]
  },
  {
   "cell_type": "code",
   "execution_count": null,
   "metadata": {},
   "outputs": [],
   "source": [
    "type(df.values)"
   ]
  },
  {
   "cell_type": "markdown",
   "metadata": {},
   "source": [
    "This means that the operations we saw for pandas Series can be applied to DataFrames as well, e.g. we can apply a scalar to every element in the DataFrame"
   ]
  },
  {
   "cell_type": "code",
   "execution_count": null,
   "metadata": {},
   "outputs": [],
   "source": [
    "df.head() * 10"
   ]
  },
  {
   "cell_type": "markdown",
   "metadata": {},
   "source": [
    "However, the operation needs to be valid for ALL elements if we want to do this - e.g. while `*` is overridden for strings, `/` is not and will fail"
   ]
  },
  {
   "cell_type": "code",
   "execution_count": null,
   "metadata": {},
   "outputs": [],
   "source": [
    "df.head() / 10"
   ]
  },
  {
   "cell_type": "markdown",
   "metadata": {},
   "source": [
    "Aggergation functions are by default done by column"
   ]
  },
  {
   "cell_type": "code",
   "execution_count": null,
   "metadata": {},
   "outputs": [],
   "source": [
    "df.mean()"
   ]
  },
  {
   "cell_type": "markdown",
   "metadata": {},
   "source": [
    "However we can also make them aggregate by row:"
   ]
  },
  {
   "cell_type": "code",
   "execution_count": null,
   "metadata": {},
   "outputs": [],
   "source": [
    "df.mean(axis=1)"
   ]
  },
  {
   "cell_type": "markdown",
   "metadata": {},
   "source": [
    "## Mutating the Dataframe"
   ]
  },
  {
   "cell_type": "markdown",
   "metadata": {},
   "source": [
    "Like with other functionality, mutating DataFrames is very similar to mutating Series.  For example, setting one column to a single value is easy:"
   ]
  },
  {
   "cell_type": "code",
   "execution_count": 7,
   "metadata": {},
   "outputs": [],
   "source": [
    "df_mutations = df_base.set_index('ts')"
   ]
  },
  {
   "cell_type": "code",
   "execution_count": null,
   "metadata": {},
   "outputs": [],
   "source": [
    "df_mutations.head()"
   ]
  },
  {
   "cell_type": "code",
   "execution_count": 8,
   "metadata": {},
   "outputs": [],
   "source": [
    "df_mutations['chain'] = 'NA'"
   ]
  },
  {
   "cell_type": "code",
   "execution_count": null,
   "metadata": {},
   "outputs": [],
   "source": [
    "df_mutations.head()"
   ]
  },
  {
   "cell_type": "markdown",
   "metadata": {},
   "source": [
    "We can also create a new column and add data by index:"
   ]
  },
  {
   "cell_type": "code",
   "execution_count": 9,
   "metadata": {},
   "outputs": [
    {
     "data": {
      "text/plain": [
       "2021-12-01    1\n",
       "dtype: int64"
      ]
     },
     "execution_count": 9,
     "metadata": {},
     "output_type": "execute_result"
    }
   ],
   "source": [
    "updates = pd.Series({pd.to_datetime('2021-12-01 00:00:00'): 1})\n",
    "updates"
   ]
  },
  {
   "cell_type": "code",
   "execution_count": 10,
   "metadata": {},
   "outputs": [],
   "source": [
    "df_mutations['start_of_week'] = updates"
   ]
  },
  {
   "cell_type": "code",
   "execution_count": null,
   "metadata": {},
   "outputs": [],
   "source": [
    "df_mutations.head()"
   ]
  },
  {
   "cell_type": "markdown",
   "metadata": {},
   "source": [
    "We can also use the `.assign(...)` method to update columns, e.g.:"
   ]
  },
  {
   "cell_type": "code",
   "execution_count": 11,
   "metadata": {},
   "outputs": [
    {
     "data": {
      "text/html": [
       "<div>\n",
       "<style scoped>\n",
       "    .dataframe tbody tr th:only-of-type {\n",
       "        vertical-align: middle;\n",
       "    }\n",
       "\n",
       "    .dataframe tbody tr th {\n",
       "        vertical-align: top;\n",
       "    }\n",
       "\n",
       "    .dataframe thead th {\n",
       "        text-align: right;\n",
       "    }\n",
       "</style>\n",
       "<table border=\"1\" class=\"dataframe\">\n",
       "  <thead>\n",
       "    <tr style=\"text-align: right;\">\n",
       "      <th></th>\n",
       "      <th>open</th>\n",
       "      <th>high</th>\n",
       "      <th>low</th>\n",
       "      <th>close</th>\n",
       "      <th>volume</th>\n",
       "      <th>volumeUSD</th>\n",
       "      <th>token</th>\n",
       "      <th>chain</th>\n",
       "      <th>start_of_week</th>\n",
       "    </tr>\n",
       "    <tr>\n",
       "      <th>ts</th>\n",
       "      <th></th>\n",
       "      <th></th>\n",
       "      <th></th>\n",
       "      <th></th>\n",
       "      <th></th>\n",
       "      <th></th>\n",
       "      <th></th>\n",
       "      <th></th>\n",
       "      <th></th>\n",
       "    </tr>\n",
       "  </thead>\n",
       "  <tbody>\n",
       "    <tr>\n",
       "      <th>2021-12-01 00:00:00</th>\n",
       "      <td>57321.41</td>\n",
       "      <td>57451.05</td>\n",
       "      <td>56814.34</td>\n",
       "      <td>56987.97</td>\n",
       "      <td>388.482022</td>\n",
       "      <td>2.218430e+07</td>\n",
       "      <td>BTC</td>\n",
       "      <td>BTC</td>\n",
       "      <td>NaN</td>\n",
       "    </tr>\n",
       "    <tr>\n",
       "      <th>2021-12-01 01:00:00</th>\n",
       "      <td>56998.35</td>\n",
       "      <td>57726.45</td>\n",
       "      <td>56705.06</td>\n",
       "      <td>57616.41</td>\n",
       "      <td>599.791578</td>\n",
       "      <td>3.437153e+07</td>\n",
       "      <td>BTC</td>\n",
       "      <td>BTC</td>\n",
       "      <td>NaN</td>\n",
       "    </tr>\n",
       "    <tr>\n",
       "      <th>2021-12-01 02:00:00</th>\n",
       "      <td>57618.55</td>\n",
       "      <td>57620.00</td>\n",
       "      <td>56972.97</td>\n",
       "      <td>57030.83</td>\n",
       "      <td>591.687200</td>\n",
       "      <td>3.387067e+07</td>\n",
       "      <td>BTC</td>\n",
       "      <td>BTC</td>\n",
       "      <td>NaN</td>\n",
       "    </tr>\n",
       "    <tr>\n",
       "      <th>2021-12-01 03:00:00</th>\n",
       "      <td>57029.79</td>\n",
       "      <td>57396.87</td>\n",
       "      <td>56841.01</td>\n",
       "      <td>57307.59</td>\n",
       "      <td>702.560364</td>\n",
       "      <td>4.007816e+07</td>\n",
       "      <td>BTC</td>\n",
       "      <td>BTC</td>\n",
       "      <td>NaN</td>\n",
       "    </tr>\n",
       "    <tr>\n",
       "      <th>2021-12-01 04:00:00</th>\n",
       "      <td>57306.55</td>\n",
       "      <td>57456.82</td>\n",
       "      <td>57026.11</td>\n",
       "      <td>57404.01</td>\n",
       "      <td>859.591535</td>\n",
       "      <td>4.920503e+07</td>\n",
       "      <td>BTC</td>\n",
       "      <td>BTC</td>\n",
       "      <td>NaN</td>\n",
       "    </tr>\n",
       "    <tr>\n",
       "      <th>...</th>\n",
       "      <td>...</td>\n",
       "      <td>...</td>\n",
       "      <td>...</td>\n",
       "      <td>...</td>\n",
       "      <td>...</td>\n",
       "      <td>...</td>\n",
       "      <td>...</td>\n",
       "      <td>...</td>\n",
       "      <td>...</td>\n",
       "    </tr>\n",
       "    <tr>\n",
       "      <th>2021-12-14 20:00:00</th>\n",
       "      <td>178.99</td>\n",
       "      <td>181.27</td>\n",
       "      <td>178.72</td>\n",
       "      <td>180.28</td>\n",
       "      <td>628.699000</td>\n",
       "      <td>1.130815e+05</td>\n",
       "      <td>COMP</td>\n",
       "      <td>ETH</td>\n",
       "      <td>NaN</td>\n",
       "    </tr>\n",
       "    <tr>\n",
       "      <th>2021-12-14 21:00:00</th>\n",
       "      <td>180.15</td>\n",
       "      <td>183.76</td>\n",
       "      <td>179.96</td>\n",
       "      <td>183.43</td>\n",
       "      <td>2453.455000</td>\n",
       "      <td>4.447119e+05</td>\n",
       "      <td>COMP</td>\n",
       "      <td>ETH</td>\n",
       "      <td>NaN</td>\n",
       "    </tr>\n",
       "    <tr>\n",
       "      <th>2021-12-14 22:00:00</th>\n",
       "      <td>183.31</td>\n",
       "      <td>186.74</td>\n",
       "      <td>182.60</td>\n",
       "      <td>185.24</td>\n",
       "      <td>2086.017000</td>\n",
       "      <td>3.865710e+05</td>\n",
       "      <td>COMP</td>\n",
       "      <td>ETH</td>\n",
       "      <td>NaN</td>\n",
       "    </tr>\n",
       "    <tr>\n",
       "      <th>2021-12-14 23:00:00</th>\n",
       "      <td>185.22</td>\n",
       "      <td>186.09</td>\n",
       "      <td>183.88</td>\n",
       "      <td>185.08</td>\n",
       "      <td>416.028000</td>\n",
       "      <td>7.698720e+04</td>\n",
       "      <td>COMP</td>\n",
       "      <td>ETH</td>\n",
       "      <td>NaN</td>\n",
       "    </tr>\n",
       "    <tr>\n",
       "      <th>2021-12-15 00:00:00</th>\n",
       "      <td>185.07</td>\n",
       "      <td>185.78</td>\n",
       "      <td>184.50</td>\n",
       "      <td>185.16</td>\n",
       "      <td>323.870000</td>\n",
       "      <td>6.002501e+04</td>\n",
       "      <td>COMP</td>\n",
       "      <td>ETH</td>\n",
       "      <td>NaN</td>\n",
       "    </tr>\n",
       "  </tbody>\n",
       "</table>\n",
       "<p>1685 rows × 9 columns</p>\n",
       "</div>"
      ],
      "text/plain": [
       "                         open      high       low     close       volume  \\\n",
       "ts                                                                         \n",
       "2021-12-01 00:00:00  57321.41  57451.05  56814.34  56987.97   388.482022   \n",
       "2021-12-01 01:00:00  56998.35  57726.45  56705.06  57616.41   599.791578   \n",
       "2021-12-01 02:00:00  57618.55  57620.00  56972.97  57030.83   591.687200   \n",
       "2021-12-01 03:00:00  57029.79  57396.87  56841.01  57307.59   702.560364   \n",
       "2021-12-01 04:00:00  57306.55  57456.82  57026.11  57404.01   859.591535   \n",
       "...                       ...       ...       ...       ...          ...   \n",
       "2021-12-14 20:00:00    178.99    181.27    178.72    180.28   628.699000   \n",
       "2021-12-14 21:00:00    180.15    183.76    179.96    183.43  2453.455000   \n",
       "2021-12-14 22:00:00    183.31    186.74    182.60    185.24  2086.017000   \n",
       "2021-12-14 23:00:00    185.22    186.09    183.88    185.08   416.028000   \n",
       "2021-12-15 00:00:00    185.07    185.78    184.50    185.16   323.870000   \n",
       "\n",
       "                        volumeUSD token chain  start_of_week  \n",
       "ts                                                            \n",
       "2021-12-01 00:00:00  2.218430e+07   BTC   BTC            NaN  \n",
       "2021-12-01 01:00:00  3.437153e+07   BTC   BTC            NaN  \n",
       "2021-12-01 02:00:00  3.387067e+07   BTC   BTC            NaN  \n",
       "2021-12-01 03:00:00  4.007816e+07   BTC   BTC            NaN  \n",
       "2021-12-01 04:00:00  4.920503e+07   BTC   BTC            NaN  \n",
       "...                           ...   ...   ...            ...  \n",
       "2021-12-14 20:00:00  1.130815e+05  COMP   ETH            NaN  \n",
       "2021-12-14 21:00:00  4.447119e+05  COMP   ETH            NaN  \n",
       "2021-12-14 22:00:00  3.865710e+05  COMP   ETH            NaN  \n",
       "2021-12-14 23:00:00  7.698720e+04  COMP   ETH            NaN  \n",
       "2021-12-15 00:00:00  6.002501e+04  COMP   ETH            NaN  \n",
       "\n",
       "[1685 rows x 9 columns]"
      ]
     },
     "execution_count": 11,
     "metadata": {},
     "output_type": "execute_result"
    }
   ],
   "source": [
    "df_mutations.assign(\n",
    "    chain=np.where(df_mutations.token.isin(['ETH', 'AAVE', 'COMP']), np.full(df_mutations.shape[0], 'ETH'), df_mutations.token),\n",
    "    start_of_week=np.NaN\n",
    ")"
   ]
  },
  {
   "cell_type": "markdown",
   "metadata": {},
   "source": [
    "**note**: using the index notation `[*]` will mutate the dataframe in place, however `.assign` will return a new data frame"
   ]
  },
  {
   "cell_type": "markdown",
   "metadata": {},
   "source": [
    "We can also rename columns using a `{from:to}` syntax, e.g.:"
   ]
  },
  {
   "cell_type": "code",
   "execution_count": 12,
   "metadata": {},
   "outputs": [
    {
     "data": {
      "text/html": [
       "<div>\n",
       "<style scoped>\n",
       "    .dataframe tbody tr th:only-of-type {\n",
       "        vertical-align: middle;\n",
       "    }\n",
       "\n",
       "    .dataframe tbody tr th {\n",
       "        vertical-align: top;\n",
       "    }\n",
       "\n",
       "    .dataframe thead th {\n",
       "        text-align: right;\n",
       "    }\n",
       "</style>\n",
       "<table border=\"1\" class=\"dataframe\">\n",
       "  <thead>\n",
       "    <tr style=\"text-align: right;\">\n",
       "      <th></th>\n",
       "      <th>OpeningPrice</th>\n",
       "      <th>high</th>\n",
       "      <th>low</th>\n",
       "      <th>close</th>\n",
       "      <th>volume</th>\n",
       "      <th>volumeUSD</th>\n",
       "      <th>token</th>\n",
       "      <th>CryptoChain</th>\n",
       "      <th>start_of_week</th>\n",
       "    </tr>\n",
       "    <tr>\n",
       "      <th>ts</th>\n",
       "      <th></th>\n",
       "      <th></th>\n",
       "      <th></th>\n",
       "      <th></th>\n",
       "      <th></th>\n",
       "      <th></th>\n",
       "      <th></th>\n",
       "      <th></th>\n",
       "      <th></th>\n",
       "    </tr>\n",
       "  </thead>\n",
       "  <tbody>\n",
       "    <tr>\n",
       "      <th>2021-12-01 00:00:00</th>\n",
       "      <td>57321.41</td>\n",
       "      <td>57451.05</td>\n",
       "      <td>56814.34</td>\n",
       "      <td>56987.97</td>\n",
       "      <td>388.482022</td>\n",
       "      <td>2.218430e+07</td>\n",
       "      <td>BTC</td>\n",
       "      <td>NA</td>\n",
       "      <td>1.0</td>\n",
       "    </tr>\n",
       "    <tr>\n",
       "      <th>2021-12-01 01:00:00</th>\n",
       "      <td>56998.35</td>\n",
       "      <td>57726.45</td>\n",
       "      <td>56705.06</td>\n",
       "      <td>57616.41</td>\n",
       "      <td>599.791578</td>\n",
       "      <td>3.437153e+07</td>\n",
       "      <td>BTC</td>\n",
       "      <td>NA</td>\n",
       "      <td>NaN</td>\n",
       "    </tr>\n",
       "    <tr>\n",
       "      <th>2021-12-01 02:00:00</th>\n",
       "      <td>57618.55</td>\n",
       "      <td>57620.00</td>\n",
       "      <td>56972.97</td>\n",
       "      <td>57030.83</td>\n",
       "      <td>591.687200</td>\n",
       "      <td>3.387067e+07</td>\n",
       "      <td>BTC</td>\n",
       "      <td>NA</td>\n",
       "      <td>NaN</td>\n",
       "    </tr>\n",
       "    <tr>\n",
       "      <th>2021-12-01 03:00:00</th>\n",
       "      <td>57029.79</td>\n",
       "      <td>57396.87</td>\n",
       "      <td>56841.01</td>\n",
       "      <td>57307.59</td>\n",
       "      <td>702.560364</td>\n",
       "      <td>4.007816e+07</td>\n",
       "      <td>BTC</td>\n",
       "      <td>NA</td>\n",
       "      <td>NaN</td>\n",
       "    </tr>\n",
       "    <tr>\n",
       "      <th>2021-12-01 04:00:00</th>\n",
       "      <td>57306.55</td>\n",
       "      <td>57456.82</td>\n",
       "      <td>57026.11</td>\n",
       "      <td>57404.01</td>\n",
       "      <td>859.591535</td>\n",
       "      <td>4.920503e+07</td>\n",
       "      <td>BTC</td>\n",
       "      <td>NA</td>\n",
       "      <td>NaN</td>\n",
       "    </tr>\n",
       "    <tr>\n",
       "      <th>...</th>\n",
       "      <td>...</td>\n",
       "      <td>...</td>\n",
       "      <td>...</td>\n",
       "      <td>...</td>\n",
       "      <td>...</td>\n",
       "      <td>...</td>\n",
       "      <td>...</td>\n",
       "      <td>...</td>\n",
       "      <td>...</td>\n",
       "    </tr>\n",
       "    <tr>\n",
       "      <th>2021-12-14 20:00:00</th>\n",
       "      <td>178.99</td>\n",
       "      <td>181.27</td>\n",
       "      <td>178.72</td>\n",
       "      <td>180.28</td>\n",
       "      <td>628.699000</td>\n",
       "      <td>1.130815e+05</td>\n",
       "      <td>COMP</td>\n",
       "      <td>NA</td>\n",
       "      <td>NaN</td>\n",
       "    </tr>\n",
       "    <tr>\n",
       "      <th>2021-12-14 21:00:00</th>\n",
       "      <td>180.15</td>\n",
       "      <td>183.76</td>\n",
       "      <td>179.96</td>\n",
       "      <td>183.43</td>\n",
       "      <td>2453.455000</td>\n",
       "      <td>4.447119e+05</td>\n",
       "      <td>COMP</td>\n",
       "      <td>NA</td>\n",
       "      <td>NaN</td>\n",
       "    </tr>\n",
       "    <tr>\n",
       "      <th>2021-12-14 22:00:00</th>\n",
       "      <td>183.31</td>\n",
       "      <td>186.74</td>\n",
       "      <td>182.60</td>\n",
       "      <td>185.24</td>\n",
       "      <td>2086.017000</td>\n",
       "      <td>3.865710e+05</td>\n",
       "      <td>COMP</td>\n",
       "      <td>NA</td>\n",
       "      <td>NaN</td>\n",
       "    </tr>\n",
       "    <tr>\n",
       "      <th>2021-12-14 23:00:00</th>\n",
       "      <td>185.22</td>\n",
       "      <td>186.09</td>\n",
       "      <td>183.88</td>\n",
       "      <td>185.08</td>\n",
       "      <td>416.028000</td>\n",
       "      <td>7.698720e+04</td>\n",
       "      <td>COMP</td>\n",
       "      <td>NA</td>\n",
       "      <td>NaN</td>\n",
       "    </tr>\n",
       "    <tr>\n",
       "      <th>2021-12-15 00:00:00</th>\n",
       "      <td>185.07</td>\n",
       "      <td>185.78</td>\n",
       "      <td>184.50</td>\n",
       "      <td>185.16</td>\n",
       "      <td>323.870000</td>\n",
       "      <td>6.002501e+04</td>\n",
       "      <td>COMP</td>\n",
       "      <td>NA</td>\n",
       "      <td>NaN</td>\n",
       "    </tr>\n",
       "  </tbody>\n",
       "</table>\n",
       "<p>1685 rows × 9 columns</p>\n",
       "</div>"
      ],
      "text/plain": [
       "                     OpeningPrice      high       low     close       volume  \\\n",
       "ts                                                                             \n",
       "2021-12-01 00:00:00      57321.41  57451.05  56814.34  56987.97   388.482022   \n",
       "2021-12-01 01:00:00      56998.35  57726.45  56705.06  57616.41   599.791578   \n",
       "2021-12-01 02:00:00      57618.55  57620.00  56972.97  57030.83   591.687200   \n",
       "2021-12-01 03:00:00      57029.79  57396.87  56841.01  57307.59   702.560364   \n",
       "2021-12-01 04:00:00      57306.55  57456.82  57026.11  57404.01   859.591535   \n",
       "...                           ...       ...       ...       ...          ...   \n",
       "2021-12-14 20:00:00        178.99    181.27    178.72    180.28   628.699000   \n",
       "2021-12-14 21:00:00        180.15    183.76    179.96    183.43  2453.455000   \n",
       "2021-12-14 22:00:00        183.31    186.74    182.60    185.24  2086.017000   \n",
       "2021-12-14 23:00:00        185.22    186.09    183.88    185.08   416.028000   \n",
       "2021-12-15 00:00:00        185.07    185.78    184.50    185.16   323.870000   \n",
       "\n",
       "                        volumeUSD token CryptoChain  start_of_week  \n",
       "ts                                                                  \n",
       "2021-12-01 00:00:00  2.218430e+07   BTC          NA            1.0  \n",
       "2021-12-01 01:00:00  3.437153e+07   BTC          NA            NaN  \n",
       "2021-12-01 02:00:00  3.387067e+07   BTC          NA            NaN  \n",
       "2021-12-01 03:00:00  4.007816e+07   BTC          NA            NaN  \n",
       "2021-12-01 04:00:00  4.920503e+07   BTC          NA            NaN  \n",
       "...                           ...   ...         ...            ...  \n",
       "2021-12-14 20:00:00  1.130815e+05  COMP          NA            NaN  \n",
       "2021-12-14 21:00:00  4.447119e+05  COMP          NA            NaN  \n",
       "2021-12-14 22:00:00  3.865710e+05  COMP          NA            NaN  \n",
       "2021-12-14 23:00:00  7.698720e+04  COMP          NA            NaN  \n",
       "2021-12-15 00:00:00  6.002501e+04  COMP          NA            NaN  \n",
       "\n",
       "[1685 rows x 9 columns]"
      ]
     },
     "execution_count": 12,
     "metadata": {},
     "output_type": "execute_result"
    }
   ],
   "source": [
    "df_mutations.rename(\n",
    "    columns={\n",
    "        'open':'OpeningPrice',\n",
    "        'chain':'CryptoChain'\n",
    "    }\n",
    ")"
   ]
  },
  {
   "cell_type": "markdown",
   "metadata": {},
   "source": [
    "We can also use functions to rename, e.g.:"
   ]
  },
  {
   "cell_type": "code",
   "execution_count": 13,
   "metadata": {},
   "outputs": [
    {
     "data": {
      "text/html": [
       "<div>\n",
       "<style scoped>\n",
       "    .dataframe tbody tr th:only-of-type {\n",
       "        vertical-align: middle;\n",
       "    }\n",
       "\n",
       "    .dataframe tbody tr th {\n",
       "        vertical-align: top;\n",
       "    }\n",
       "\n",
       "    .dataframe thead th {\n",
       "        text-align: right;\n",
       "    }\n",
       "</style>\n",
       "<table border=\"1\" class=\"dataframe\">\n",
       "  <thead>\n",
       "    <tr style=\"text-align: right;\">\n",
       "      <th></th>\n",
       "      <th>OPEN</th>\n",
       "      <th>HIGH</th>\n",
       "      <th>LOW</th>\n",
       "      <th>CLOSE</th>\n",
       "      <th>VOLUME</th>\n",
       "      <th>VOLUMEUSD</th>\n",
       "      <th>TOKEN</th>\n",
       "      <th>CHAIN</th>\n",
       "      <th>START_OF_WEEK</th>\n",
       "    </tr>\n",
       "    <tr>\n",
       "      <th>ts</th>\n",
       "      <th></th>\n",
       "      <th></th>\n",
       "      <th></th>\n",
       "      <th></th>\n",
       "      <th></th>\n",
       "      <th></th>\n",
       "      <th></th>\n",
       "      <th></th>\n",
       "      <th></th>\n",
       "    </tr>\n",
       "  </thead>\n",
       "  <tbody>\n",
       "    <tr>\n",
       "      <th>2021-12-01 00:00:00</th>\n",
       "      <td>57321.41</td>\n",
       "      <td>57451.05</td>\n",
       "      <td>56814.34</td>\n",
       "      <td>56987.97</td>\n",
       "      <td>388.482022</td>\n",
       "      <td>2.218430e+07</td>\n",
       "      <td>BTC</td>\n",
       "      <td>NA</td>\n",
       "      <td>1.0</td>\n",
       "    </tr>\n",
       "    <tr>\n",
       "      <th>2021-12-01 01:00:00</th>\n",
       "      <td>56998.35</td>\n",
       "      <td>57726.45</td>\n",
       "      <td>56705.06</td>\n",
       "      <td>57616.41</td>\n",
       "      <td>599.791578</td>\n",
       "      <td>3.437153e+07</td>\n",
       "      <td>BTC</td>\n",
       "      <td>NA</td>\n",
       "      <td>NaN</td>\n",
       "    </tr>\n",
       "    <tr>\n",
       "      <th>2021-12-01 02:00:00</th>\n",
       "      <td>57618.55</td>\n",
       "      <td>57620.00</td>\n",
       "      <td>56972.97</td>\n",
       "      <td>57030.83</td>\n",
       "      <td>591.687200</td>\n",
       "      <td>3.387067e+07</td>\n",
       "      <td>BTC</td>\n",
       "      <td>NA</td>\n",
       "      <td>NaN</td>\n",
       "    </tr>\n",
       "    <tr>\n",
       "      <th>2021-12-01 03:00:00</th>\n",
       "      <td>57029.79</td>\n",
       "      <td>57396.87</td>\n",
       "      <td>56841.01</td>\n",
       "      <td>57307.59</td>\n",
       "      <td>702.560364</td>\n",
       "      <td>4.007816e+07</td>\n",
       "      <td>BTC</td>\n",
       "      <td>NA</td>\n",
       "      <td>NaN</td>\n",
       "    </tr>\n",
       "    <tr>\n",
       "      <th>2021-12-01 04:00:00</th>\n",
       "      <td>57306.55</td>\n",
       "      <td>57456.82</td>\n",
       "      <td>57026.11</td>\n",
       "      <td>57404.01</td>\n",
       "      <td>859.591535</td>\n",
       "      <td>4.920503e+07</td>\n",
       "      <td>BTC</td>\n",
       "      <td>NA</td>\n",
       "      <td>NaN</td>\n",
       "    </tr>\n",
       "    <tr>\n",
       "      <th>...</th>\n",
       "      <td>...</td>\n",
       "      <td>...</td>\n",
       "      <td>...</td>\n",
       "      <td>...</td>\n",
       "      <td>...</td>\n",
       "      <td>...</td>\n",
       "      <td>...</td>\n",
       "      <td>...</td>\n",
       "      <td>...</td>\n",
       "    </tr>\n",
       "    <tr>\n",
       "      <th>2021-12-14 20:00:00</th>\n",
       "      <td>178.99</td>\n",
       "      <td>181.27</td>\n",
       "      <td>178.72</td>\n",
       "      <td>180.28</td>\n",
       "      <td>628.699000</td>\n",
       "      <td>1.130815e+05</td>\n",
       "      <td>COMP</td>\n",
       "      <td>NA</td>\n",
       "      <td>NaN</td>\n",
       "    </tr>\n",
       "    <tr>\n",
       "      <th>2021-12-14 21:00:00</th>\n",
       "      <td>180.15</td>\n",
       "      <td>183.76</td>\n",
       "      <td>179.96</td>\n",
       "      <td>183.43</td>\n",
       "      <td>2453.455000</td>\n",
       "      <td>4.447119e+05</td>\n",
       "      <td>COMP</td>\n",
       "      <td>NA</td>\n",
       "      <td>NaN</td>\n",
       "    </tr>\n",
       "    <tr>\n",
       "      <th>2021-12-14 22:00:00</th>\n",
       "      <td>183.31</td>\n",
       "      <td>186.74</td>\n",
       "      <td>182.60</td>\n",
       "      <td>185.24</td>\n",
       "      <td>2086.017000</td>\n",
       "      <td>3.865710e+05</td>\n",
       "      <td>COMP</td>\n",
       "      <td>NA</td>\n",
       "      <td>NaN</td>\n",
       "    </tr>\n",
       "    <tr>\n",
       "      <th>2021-12-14 23:00:00</th>\n",
       "      <td>185.22</td>\n",
       "      <td>186.09</td>\n",
       "      <td>183.88</td>\n",
       "      <td>185.08</td>\n",
       "      <td>416.028000</td>\n",
       "      <td>7.698720e+04</td>\n",
       "      <td>COMP</td>\n",
       "      <td>NA</td>\n",
       "      <td>NaN</td>\n",
       "    </tr>\n",
       "    <tr>\n",
       "      <th>2021-12-15 00:00:00</th>\n",
       "      <td>185.07</td>\n",
       "      <td>185.78</td>\n",
       "      <td>184.50</td>\n",
       "      <td>185.16</td>\n",
       "      <td>323.870000</td>\n",
       "      <td>6.002501e+04</td>\n",
       "      <td>COMP</td>\n",
       "      <td>NA</td>\n",
       "      <td>NaN</td>\n",
       "    </tr>\n",
       "  </tbody>\n",
       "</table>\n",
       "<p>1685 rows × 9 columns</p>\n",
       "</div>"
      ],
      "text/plain": [
       "                         OPEN      HIGH       LOW     CLOSE       VOLUME  \\\n",
       "ts                                                                         \n",
       "2021-12-01 00:00:00  57321.41  57451.05  56814.34  56987.97   388.482022   \n",
       "2021-12-01 01:00:00  56998.35  57726.45  56705.06  57616.41   599.791578   \n",
       "2021-12-01 02:00:00  57618.55  57620.00  56972.97  57030.83   591.687200   \n",
       "2021-12-01 03:00:00  57029.79  57396.87  56841.01  57307.59   702.560364   \n",
       "2021-12-01 04:00:00  57306.55  57456.82  57026.11  57404.01   859.591535   \n",
       "...                       ...       ...       ...       ...          ...   \n",
       "2021-12-14 20:00:00    178.99    181.27    178.72    180.28   628.699000   \n",
       "2021-12-14 21:00:00    180.15    183.76    179.96    183.43  2453.455000   \n",
       "2021-12-14 22:00:00    183.31    186.74    182.60    185.24  2086.017000   \n",
       "2021-12-14 23:00:00    185.22    186.09    183.88    185.08   416.028000   \n",
       "2021-12-15 00:00:00    185.07    185.78    184.50    185.16   323.870000   \n",
       "\n",
       "                        VOLUMEUSD TOKEN CHAIN  START_OF_WEEK  \n",
       "ts                                                            \n",
       "2021-12-01 00:00:00  2.218430e+07   BTC    NA            1.0  \n",
       "2021-12-01 01:00:00  3.437153e+07   BTC    NA            NaN  \n",
       "2021-12-01 02:00:00  3.387067e+07   BTC    NA            NaN  \n",
       "2021-12-01 03:00:00  4.007816e+07   BTC    NA            NaN  \n",
       "2021-12-01 04:00:00  4.920503e+07   BTC    NA            NaN  \n",
       "...                           ...   ...   ...            ...  \n",
       "2021-12-14 20:00:00  1.130815e+05  COMP    NA            NaN  \n",
       "2021-12-14 21:00:00  4.447119e+05  COMP    NA            NaN  \n",
       "2021-12-14 22:00:00  3.865710e+05  COMP    NA            NaN  \n",
       "2021-12-14 23:00:00  7.698720e+04  COMP    NA            NaN  \n",
       "2021-12-15 00:00:00  6.002501e+04  COMP    NA            NaN  \n",
       "\n",
       "[1685 rows x 9 columns]"
      ]
     },
     "execution_count": 13,
     "metadata": {},
     "output_type": "execute_result"
    }
   ],
   "source": [
    "df_mutations.rename(columns=lambda x: x.upper())"
   ]
  },
  {
   "cell_type": "markdown",
   "metadata": {},
   "source": [
    "The above commands will return a new DataFrame.  If we want to rename the input DataFrame, we can use the `inplace` option (which is available on most mutating functions), such as:"
   ]
  },
  {
   "cell_type": "code",
   "execution_count": 14,
   "metadata": {},
   "outputs": [
    {
     "data": {
      "text/html": [
       "<div>\n",
       "<style scoped>\n",
       "    .dataframe tbody tr th:only-of-type {\n",
       "        vertical-align: middle;\n",
       "    }\n",
       "\n",
       "    .dataframe tbody tr th {\n",
       "        vertical-align: top;\n",
       "    }\n",
       "\n",
       "    .dataframe thead th {\n",
       "        text-align: right;\n",
       "    }\n",
       "</style>\n",
       "<table border=\"1\" class=\"dataframe\">\n",
       "  <thead>\n",
       "    <tr style=\"text-align: right;\">\n",
       "      <th></th>\n",
       "      <th>OpeningPrice</th>\n",
       "      <th>high</th>\n",
       "      <th>low</th>\n",
       "      <th>close</th>\n",
       "      <th>volume</th>\n",
       "      <th>volumeUSD</th>\n",
       "      <th>token</th>\n",
       "      <th>CryptoChain</th>\n",
       "      <th>start_of_week</th>\n",
       "    </tr>\n",
       "    <tr>\n",
       "      <th>ts</th>\n",
       "      <th></th>\n",
       "      <th></th>\n",
       "      <th></th>\n",
       "      <th></th>\n",
       "      <th></th>\n",
       "      <th></th>\n",
       "      <th></th>\n",
       "      <th></th>\n",
       "      <th></th>\n",
       "    </tr>\n",
       "  </thead>\n",
       "  <tbody>\n",
       "    <tr>\n",
       "      <th>2021-12-01 00:00:00</th>\n",
       "      <td>57321.41</td>\n",
       "      <td>57451.05</td>\n",
       "      <td>56814.34</td>\n",
       "      <td>56987.97</td>\n",
       "      <td>388.482022</td>\n",
       "      <td>2.218430e+07</td>\n",
       "      <td>BTC</td>\n",
       "      <td>NA</td>\n",
       "      <td>1.0</td>\n",
       "    </tr>\n",
       "    <tr>\n",
       "      <th>2021-12-01 01:00:00</th>\n",
       "      <td>56998.35</td>\n",
       "      <td>57726.45</td>\n",
       "      <td>56705.06</td>\n",
       "      <td>57616.41</td>\n",
       "      <td>599.791578</td>\n",
       "      <td>3.437153e+07</td>\n",
       "      <td>BTC</td>\n",
       "      <td>NA</td>\n",
       "      <td>NaN</td>\n",
       "    </tr>\n",
       "    <tr>\n",
       "      <th>2021-12-01 02:00:00</th>\n",
       "      <td>57618.55</td>\n",
       "      <td>57620.00</td>\n",
       "      <td>56972.97</td>\n",
       "      <td>57030.83</td>\n",
       "      <td>591.687200</td>\n",
       "      <td>3.387067e+07</td>\n",
       "      <td>BTC</td>\n",
       "      <td>NA</td>\n",
       "      <td>NaN</td>\n",
       "    </tr>\n",
       "    <tr>\n",
       "      <th>2021-12-01 03:00:00</th>\n",
       "      <td>57029.79</td>\n",
       "      <td>57396.87</td>\n",
       "      <td>56841.01</td>\n",
       "      <td>57307.59</td>\n",
       "      <td>702.560364</td>\n",
       "      <td>4.007816e+07</td>\n",
       "      <td>BTC</td>\n",
       "      <td>NA</td>\n",
       "      <td>NaN</td>\n",
       "    </tr>\n",
       "    <tr>\n",
       "      <th>2021-12-01 04:00:00</th>\n",
       "      <td>57306.55</td>\n",
       "      <td>57456.82</td>\n",
       "      <td>57026.11</td>\n",
       "      <td>57404.01</td>\n",
       "      <td>859.591535</td>\n",
       "      <td>4.920503e+07</td>\n",
       "      <td>BTC</td>\n",
       "      <td>NA</td>\n",
       "      <td>NaN</td>\n",
       "    </tr>\n",
       "    <tr>\n",
       "      <th>...</th>\n",
       "      <td>...</td>\n",
       "      <td>...</td>\n",
       "      <td>...</td>\n",
       "      <td>...</td>\n",
       "      <td>...</td>\n",
       "      <td>...</td>\n",
       "      <td>...</td>\n",
       "      <td>...</td>\n",
       "      <td>...</td>\n",
       "    </tr>\n",
       "    <tr>\n",
       "      <th>2021-12-14 20:00:00</th>\n",
       "      <td>178.99</td>\n",
       "      <td>181.27</td>\n",
       "      <td>178.72</td>\n",
       "      <td>180.28</td>\n",
       "      <td>628.699000</td>\n",
       "      <td>1.130815e+05</td>\n",
       "      <td>COMP</td>\n",
       "      <td>NA</td>\n",
       "      <td>NaN</td>\n",
       "    </tr>\n",
       "    <tr>\n",
       "      <th>2021-12-14 21:00:00</th>\n",
       "      <td>180.15</td>\n",
       "      <td>183.76</td>\n",
       "      <td>179.96</td>\n",
       "      <td>183.43</td>\n",
       "      <td>2453.455000</td>\n",
       "      <td>4.447119e+05</td>\n",
       "      <td>COMP</td>\n",
       "      <td>NA</td>\n",
       "      <td>NaN</td>\n",
       "    </tr>\n",
       "    <tr>\n",
       "      <th>2021-12-14 22:00:00</th>\n",
       "      <td>183.31</td>\n",
       "      <td>186.74</td>\n",
       "      <td>182.60</td>\n",
       "      <td>185.24</td>\n",
       "      <td>2086.017000</td>\n",
       "      <td>3.865710e+05</td>\n",
       "      <td>COMP</td>\n",
       "      <td>NA</td>\n",
       "      <td>NaN</td>\n",
       "    </tr>\n",
       "    <tr>\n",
       "      <th>2021-12-14 23:00:00</th>\n",
       "      <td>185.22</td>\n",
       "      <td>186.09</td>\n",
       "      <td>183.88</td>\n",
       "      <td>185.08</td>\n",
       "      <td>416.028000</td>\n",
       "      <td>7.698720e+04</td>\n",
       "      <td>COMP</td>\n",
       "      <td>NA</td>\n",
       "      <td>NaN</td>\n",
       "    </tr>\n",
       "    <tr>\n",
       "      <th>2021-12-15 00:00:00</th>\n",
       "      <td>185.07</td>\n",
       "      <td>185.78</td>\n",
       "      <td>184.50</td>\n",
       "      <td>185.16</td>\n",
       "      <td>323.870000</td>\n",
       "      <td>6.002501e+04</td>\n",
       "      <td>COMP</td>\n",
       "      <td>NA</td>\n",
       "      <td>NaN</td>\n",
       "    </tr>\n",
       "  </tbody>\n",
       "</table>\n",
       "<p>1685 rows × 9 columns</p>\n",
       "</div>"
      ],
      "text/plain": [
       "                     OpeningPrice      high       low     close       volume  \\\n",
       "ts                                                                             \n",
       "2021-12-01 00:00:00      57321.41  57451.05  56814.34  56987.97   388.482022   \n",
       "2021-12-01 01:00:00      56998.35  57726.45  56705.06  57616.41   599.791578   \n",
       "2021-12-01 02:00:00      57618.55  57620.00  56972.97  57030.83   591.687200   \n",
       "2021-12-01 03:00:00      57029.79  57396.87  56841.01  57307.59   702.560364   \n",
       "2021-12-01 04:00:00      57306.55  57456.82  57026.11  57404.01   859.591535   \n",
       "...                           ...       ...       ...       ...          ...   \n",
       "2021-12-14 20:00:00        178.99    181.27    178.72    180.28   628.699000   \n",
       "2021-12-14 21:00:00        180.15    183.76    179.96    183.43  2453.455000   \n",
       "2021-12-14 22:00:00        183.31    186.74    182.60    185.24  2086.017000   \n",
       "2021-12-14 23:00:00        185.22    186.09    183.88    185.08   416.028000   \n",
       "2021-12-15 00:00:00        185.07    185.78    184.50    185.16   323.870000   \n",
       "\n",
       "                        volumeUSD token CryptoChain  start_of_week  \n",
       "ts                                                                  \n",
       "2021-12-01 00:00:00  2.218430e+07   BTC          NA            1.0  \n",
       "2021-12-01 01:00:00  3.437153e+07   BTC          NA            NaN  \n",
       "2021-12-01 02:00:00  3.387067e+07   BTC          NA            NaN  \n",
       "2021-12-01 03:00:00  4.007816e+07   BTC          NA            NaN  \n",
       "2021-12-01 04:00:00  4.920503e+07   BTC          NA            NaN  \n",
       "...                           ...   ...         ...            ...  \n",
       "2021-12-14 20:00:00  1.130815e+05  COMP          NA            NaN  \n",
       "2021-12-14 21:00:00  4.447119e+05  COMP          NA            NaN  \n",
       "2021-12-14 22:00:00  3.865710e+05  COMP          NA            NaN  \n",
       "2021-12-14 23:00:00  7.698720e+04  COMP          NA            NaN  \n",
       "2021-12-15 00:00:00  6.002501e+04  COMP          NA            NaN  \n",
       "\n",
       "[1685 rows x 9 columns]"
      ]
     },
     "execution_count": 14,
     "metadata": {},
     "output_type": "execute_result"
    }
   ],
   "source": [
    "df_mutations.rename(\n",
    "    columns={\n",
    "        'open':'OpeningPrice',\n",
    "        'chain':'CryptoChain'\n",
    "    },\n",
    "    inplace=True\n",
    ")\n",
    "\n",
    "df_mutations"
   ]
  },
  {
   "cell_type": "markdown",
   "metadata": {},
   "source": [
    "We can also add rows to the DataFrame by using `append`:"
   ]
  },
  {
   "cell_type": "code",
   "execution_count": null,
   "metadata": {},
   "outputs": [],
   "source": [
    "df_mutations.append(\n",
    "    pd.Series({\n",
    "        'high': 1,\n",
    "        'low': 2,\n",
    "        'token': 'FAKE'\n",
    "    }, name=pd.to_datetime('2021-11-30 00:00:00'))\n",
    ")"
   ]
  },
  {
   "cell_type": "markdown",
   "metadata": {},
   "source": [
    "## Sorting DataFrames"
   ]
  },
  {
   "cell_type": "markdown",
   "metadata": {},
   "source": [
    "One thing that we didn't need to really do with Series is sorting.  For DataFrames, we will often need to sort by column(s) or by the index.  We can use `sort_values` and `sort_index` to do this"
   ]
  },
  {
   "cell_type": "code",
   "execution_count": null,
   "metadata": {},
   "outputs": [],
   "source": [
    "df.sort_values('open')"
   ]
  },
  {
   "cell_type": "code",
   "execution_count": null,
   "metadata": {},
   "outputs": [],
   "source": [
    "df.sort_values('open', ascending=False)"
   ]
  },
  {
   "cell_type": "code",
   "execution_count": null,
   "metadata": {},
   "outputs": [],
   "source": [
    "df.sort_values(['volumeUSD', 'open'])"
   ]
  },
  {
   "cell_type": "markdown",
   "metadata": {},
   "source": [
    "We can also sort by the index"
   ]
  },
  {
   "cell_type": "code",
   "execution_count": null,
   "metadata": {},
   "outputs": [],
   "source": [
    "df.sort_index()"
   ]
  },
  {
   "cell_type": "markdown",
   "metadata": {},
   "source": [
    "## Grouping DataFrames"
   ]
  },
  {
   "cell_type": "markdown",
   "metadata": {},
   "source": [
    "one _very common_ action we will do during data manipulation is grouping then aggregating.  Pandas DataFrame has the method `groupby`, which allows us to group by any column in our DataFrame.\n",
    "\n",
    "`groupby` returns a `DataFrameGroupBy` object, which we can apply a function to each group, or directly aggregate"
   ]
  },
  {
   "cell_type": "code",
   "execution_count": 15,
   "metadata": {},
   "outputs": [
    {
     "data": {
      "text/plain": [
       "<pandas.core.groupby.generic.DataFrameGroupBy object at 0x12055c7c0>"
      ]
     },
     "execution_count": 15,
     "metadata": {},
     "output_type": "execute_result"
    }
   ],
   "source": [
    "df.groupby('chain')"
   ]
  },
  {
   "cell_type": "code",
   "execution_count": 16,
   "metadata": {
    "collapsed": true,
    "jupyter": {
     "outputs_hidden": true
    }
   },
   "outputs": [
    {
     "data": {
      "text/plain": [
       "{'BTC': [2021-12-01 00:00:00, 2021-12-01 01:00:00, 2021-12-01 02:00:00, 2021-12-01 03:00:00, 2021-12-01 04:00:00, 2021-12-01 05:00:00, 2021-12-01 06:00:00, 2021-12-01 07:00:00, 2021-12-01 08:00:00, 2021-12-01 09:00:00, 2021-12-01 10:00:00, 2021-12-01 11:00:00, 2021-12-01 12:00:00, 2021-12-01 13:00:00, 2021-12-01 14:00:00, 2021-12-01 15:00:00, 2021-12-01 16:00:00, 2021-12-01 17:00:00, 2021-12-01 18:00:00, 2021-12-01 19:00:00, 2021-12-01 20:00:00, 2021-12-01 21:00:00, 2021-12-01 22:00:00, 2021-12-01 23:00:00, 2021-12-02 00:00:00, 2021-12-02 01:00:00, 2021-12-02 02:00:00, 2021-12-02 03:00:00, 2021-12-02 04:00:00, 2021-12-02 05:00:00, 2021-12-02 06:00:00, 2021-12-02 07:00:00, 2021-12-02 08:00:00, 2021-12-02 09:00:00, 2021-12-02 10:00:00, 2021-12-02 11:00:00, 2021-12-02 12:00:00, 2021-12-02 13:00:00, 2021-12-02 14:00:00, 2021-12-02 15:00:00, 2021-12-02 16:00:00, 2021-12-02 17:00:00, 2021-12-02 18:00:00, 2021-12-02 19:00:00, 2021-12-02 20:00:00, 2021-12-02 21:00:00, 2021-12-02 22:00:00, 2021-12-02 23:00:00, 2021-12-03 00:00:00, 2021-12-03 01:00:00, 2021-12-03 02:00:00, 2021-12-03 03:00:00, 2021-12-03 04:00:00, 2021-12-03 05:00:00, 2021-12-03 06:00:00, 2021-12-03 07:00:00, 2021-12-03 08:00:00, 2021-12-03 09:00:00, 2021-12-03 10:00:00, 2021-12-03 11:00:00, 2021-12-03 12:00:00, 2021-12-03 13:00:00, 2021-12-03 14:00:00, 2021-12-03 15:00:00, 2021-12-03 16:00:00, 2021-12-03 17:00:00, 2021-12-03 18:00:00, 2021-12-03 19:00:00, 2021-12-03 20:00:00, 2021-12-03 21:00:00, 2021-12-03 22:00:00, 2021-12-03 23:00:00, 2021-12-04 00:00:00, 2021-12-04 01:00:00, 2021-12-04 02:00:00, 2021-12-04 03:00:00, 2021-12-04 04:00:00, 2021-12-04 05:00:00, 2021-12-04 06:00:00, 2021-12-04 07:00:00, 2021-12-04 08:00:00, 2021-12-04 09:00:00, 2021-12-04 10:00:00, 2021-12-04 11:00:00, 2021-12-04 12:00:00, 2021-12-04 13:00:00, 2021-12-04 14:00:00, 2021-12-04 15:00:00, 2021-12-04 16:00:00, 2021-12-04 17:00:00, 2021-12-04 18:00:00, 2021-12-04 19:00:00, 2021-12-04 20:00:00, 2021-12-04 21:00:00, 2021-12-04 22:00:00, 2021-12-04 23:00:00, 2021-12-05 00:00:00, 2021-12-05 01:00:00, 2021-12-05 02:00:00, 2021-12-05 03:00:00, ...], 'ETH': [2021-12-01 00:00:00, 2021-12-01 01:00:00, 2021-12-01 02:00:00, 2021-12-01 03:00:00, 2021-12-01 04:00:00, 2021-12-01 05:00:00, 2021-12-01 06:00:00, 2021-12-01 07:00:00, 2021-12-01 08:00:00, 2021-12-01 09:00:00, 2021-12-01 10:00:00, 2021-12-01 11:00:00, 2021-12-01 12:00:00, 2021-12-01 13:00:00, 2021-12-01 14:00:00, 2021-12-01 15:00:00, 2021-12-01 16:00:00, 2021-12-01 17:00:00, 2021-12-01 18:00:00, 2021-12-01 19:00:00, 2021-12-01 20:00:00, 2021-12-01 21:00:00, 2021-12-01 22:00:00, 2021-12-01 23:00:00, 2021-12-02 00:00:00, 2021-12-02 01:00:00, 2021-12-02 02:00:00, 2021-12-02 03:00:00, 2021-12-02 04:00:00, 2021-12-02 05:00:00, 2021-12-02 06:00:00, 2021-12-02 07:00:00, 2021-12-02 08:00:00, 2021-12-02 09:00:00, 2021-12-02 10:00:00, 2021-12-02 11:00:00, 2021-12-02 12:00:00, 2021-12-02 13:00:00, 2021-12-02 14:00:00, 2021-12-02 15:00:00, 2021-12-02 16:00:00, 2021-12-02 17:00:00, 2021-12-02 18:00:00, 2021-12-02 19:00:00, 2021-12-02 20:00:00, 2021-12-02 21:00:00, 2021-12-02 22:00:00, 2021-12-02 23:00:00, 2021-12-03 00:00:00, 2021-12-03 01:00:00, 2021-12-03 02:00:00, 2021-12-03 03:00:00, 2021-12-03 04:00:00, 2021-12-03 05:00:00, 2021-12-03 06:00:00, 2021-12-03 07:00:00, 2021-12-03 08:00:00, 2021-12-03 09:00:00, 2021-12-03 10:00:00, 2021-12-03 11:00:00, 2021-12-03 12:00:00, 2021-12-03 13:00:00, 2021-12-03 14:00:00, 2021-12-03 15:00:00, 2021-12-03 16:00:00, 2021-12-03 17:00:00, 2021-12-03 18:00:00, 2021-12-03 19:00:00, 2021-12-03 20:00:00, 2021-12-03 21:00:00, 2021-12-03 22:00:00, 2021-12-03 23:00:00, 2021-12-04 00:00:00, 2021-12-04 01:00:00, 2021-12-04 02:00:00, 2021-12-04 03:00:00, 2021-12-04 04:00:00, 2021-12-04 05:00:00, 2021-12-04 06:00:00, 2021-12-04 07:00:00, 2021-12-04 08:00:00, 2021-12-04 09:00:00, 2021-12-04 10:00:00, 2021-12-04 11:00:00, 2021-12-04 12:00:00, 2021-12-04 13:00:00, 2021-12-04 14:00:00, 2021-12-04 15:00:00, 2021-12-04 16:00:00, 2021-12-04 17:00:00, 2021-12-04 18:00:00, 2021-12-04 19:00:00, 2021-12-04 20:00:00, 2021-12-04 21:00:00, 2021-12-04 22:00:00, 2021-12-04 23:00:00, 2021-12-05 00:00:00, 2021-12-05 01:00:00, 2021-12-05 02:00:00, 2021-12-05 03:00:00, ...], 'SOL': [2021-12-01 00:00:00, 2021-12-01 01:00:00, 2021-12-01 02:00:00, 2021-12-01 03:00:00, 2021-12-01 04:00:00, 2021-12-01 05:00:00, 2021-12-01 06:00:00, 2021-12-01 07:00:00, 2021-12-01 08:00:00, 2021-12-01 09:00:00, 2021-12-01 10:00:00, 2021-12-01 11:00:00, 2021-12-01 12:00:00, 2021-12-01 13:00:00, 2021-12-01 14:00:00, 2021-12-01 15:00:00, 2021-12-01 16:00:00, 2021-12-01 17:00:00, 2021-12-01 18:00:00, 2021-12-01 19:00:00, 2021-12-01 20:00:00, 2021-12-01 21:00:00, 2021-12-01 22:00:00, 2021-12-01 23:00:00, 2021-12-02 00:00:00, 2021-12-02 01:00:00, 2021-12-02 02:00:00, 2021-12-02 03:00:00, 2021-12-02 04:00:00, 2021-12-02 05:00:00, 2021-12-02 06:00:00, 2021-12-02 07:00:00, 2021-12-02 08:00:00, 2021-12-02 09:00:00, 2021-12-02 10:00:00, 2021-12-02 11:00:00, 2021-12-02 12:00:00, 2021-12-02 13:00:00, 2021-12-02 14:00:00, 2021-12-02 15:00:00, 2021-12-02 16:00:00, 2021-12-02 17:00:00, 2021-12-02 18:00:00, 2021-12-02 19:00:00, 2021-12-02 20:00:00, 2021-12-02 21:00:00, 2021-12-02 22:00:00, 2021-12-02 23:00:00, 2021-12-03 00:00:00, 2021-12-03 01:00:00, 2021-12-03 02:00:00, 2021-12-03 03:00:00, 2021-12-03 04:00:00, 2021-12-03 05:00:00, 2021-12-03 06:00:00, 2021-12-03 07:00:00, 2021-12-03 08:00:00, 2021-12-03 09:00:00, 2021-12-03 10:00:00, 2021-12-03 11:00:00, 2021-12-03 12:00:00, 2021-12-03 13:00:00, 2021-12-03 14:00:00, 2021-12-03 15:00:00, 2021-12-03 16:00:00, 2021-12-03 17:00:00, 2021-12-03 18:00:00, 2021-12-03 19:00:00, 2021-12-03 20:00:00, 2021-12-03 21:00:00, 2021-12-03 22:00:00, 2021-12-03 23:00:00, 2021-12-04 00:00:00, 2021-12-04 01:00:00, 2021-12-04 02:00:00, 2021-12-04 03:00:00, 2021-12-04 04:00:00, 2021-12-04 05:00:00, 2021-12-04 06:00:00, 2021-12-04 07:00:00, 2021-12-04 08:00:00, 2021-12-04 09:00:00, 2021-12-04 10:00:00, 2021-12-04 11:00:00, 2021-12-04 12:00:00, 2021-12-04 13:00:00, 2021-12-04 14:00:00, 2021-12-04 15:00:00, 2021-12-04 16:00:00, 2021-12-04 17:00:00, 2021-12-04 18:00:00, 2021-12-04 19:00:00, 2021-12-04 20:00:00, 2021-12-04 21:00:00, 2021-12-04 22:00:00, 2021-12-04 23:00:00, 2021-12-05 00:00:00, 2021-12-05 01:00:00, 2021-12-05 02:00:00, 2021-12-05 03:00:00, ...]}"
      ]
     },
     "execution_count": 16,
     "metadata": {},
     "output_type": "execute_result"
    }
   ],
   "source": [
    "df.groupby('chain').groups"
   ]
  },
  {
   "cell_type": "code",
   "execution_count": 17,
   "metadata": {},
   "outputs": [
    {
     "data": {
      "text/plain": [
       "3"
      ]
     },
     "execution_count": 17,
     "metadata": {},
     "output_type": "execute_result"
    }
   ],
   "source": [
    "len(df.groupby('chain'))"
   ]
  },
  {
   "cell_type": "code",
   "execution_count": 18,
   "metadata": {},
   "outputs": [
    {
     "data": {
      "text/plain": [
       "chain\n",
       "BTC     337\n",
       "ETH    1011\n",
       "SOL     337\n",
       "dtype: int64"
      ]
     },
     "execution_count": 18,
     "metadata": {},
     "output_type": "execute_result"
    }
   ],
   "source": [
    "df.groupby('chain').size()"
   ]
  },
  {
   "cell_type": "markdown",
   "metadata": {},
   "source": [
    "after grouping, we can operate on the whole DataFrame or on any column"
   ]
  },
  {
   "cell_type": "code",
   "execution_count": 19,
   "metadata": {},
   "outputs": [
    {
     "data": {
      "text/html": [
       "<div>\n",
       "<style scoped>\n",
       "    .dataframe tbody tr th:only-of-type {\n",
       "        vertical-align: middle;\n",
       "    }\n",
       "\n",
       "    .dataframe tbody tr th {\n",
       "        vertical-align: top;\n",
       "    }\n",
       "\n",
       "    .dataframe thead th {\n",
       "        text-align: right;\n",
       "    }\n",
       "</style>\n",
       "<table border=\"1\" class=\"dataframe\">\n",
       "  <thead>\n",
       "    <tr style=\"text-align: right;\">\n",
       "      <th></th>\n",
       "      <th>volumeUSD</th>\n",
       "    </tr>\n",
       "    <tr>\n",
       "      <th>chain</th>\n",
       "      <th></th>\n",
       "    </tr>\n",
       "  </thead>\n",
       "  <tbody>\n",
       "    <tr>\n",
       "      <th>BTC</th>\n",
       "      <td>1.261125e+10</td>\n",
       "    </tr>\n",
       "    <tr>\n",
       "      <th>ETH</th>\n",
       "      <td>1.480956e+10</td>\n",
       "    </tr>\n",
       "    <tr>\n",
       "      <th>SOL</th>\n",
       "      <td>4.639044e+09</td>\n",
       "    </tr>\n",
       "  </tbody>\n",
       "</table>\n",
       "</div>"
      ],
      "text/plain": [
       "          volumeUSD\n",
       "chain              \n",
       "BTC    1.261125e+10\n",
       "ETH    1.480956e+10\n",
       "SOL    4.639044e+09"
      ]
     },
     "execution_count": 19,
     "metadata": {},
     "output_type": "execute_result"
    }
   ],
   "source": [
    "df.groupby('chain')['volumeUSD'].sum().to_frame()"
   ]
  },
  {
   "cell_type": "markdown",
   "metadata": {},
   "source": [
    "we can also groupby multiple columns.  The row indices now are a multi-index, however we will not go into this"
   ]
  },
  {
   "cell_type": "code",
   "execution_count": null,
   "metadata": {},
   "outputs": [],
   "source": [
    "df.groupby(['chain', 'token'])['volumeUSD'].sum().to_frame()"
   ]
  },
  {
   "cell_type": "markdown",
   "metadata": {},
   "source": [
    "We can actually aggregate without setting a compound index by adding `as_index=False`"
   ]
  },
  {
   "cell_type": "code",
   "execution_count": null,
   "metadata": {},
   "outputs": [],
   "source": [
    "df.groupby(['chain', 'token'], as_index=False)['volumeUSD'].sum()"
   ]
  },
  {
   "cell_type": "markdown",
   "metadata": {},
   "source": [
    "We can now operate on the groups.  For example, if we wanted to sum all columns:"
   ]
  },
  {
   "cell_type": "code",
   "execution_count": 22,
   "metadata": {},
   "outputs": [
    {
     "data": {
      "text/html": [
       "<div>\n",
       "<style scoped>\n",
       "    .dataframe tbody tr th:only-of-type {\n",
       "        vertical-align: middle;\n",
       "    }\n",
       "\n",
       "    .dataframe tbody tr th {\n",
       "        vertical-align: top;\n",
       "    }\n",
       "\n",
       "    .dataframe thead th {\n",
       "        text-align: right;\n",
       "    }\n",
       "</style>\n",
       "<table border=\"1\" class=\"dataframe\">\n",
       "  <thead>\n",
       "    <tr style=\"text-align: right;\">\n",
       "      <th></th>\n",
       "      <th>open</th>\n",
       "      <th>high</th>\n",
       "      <th>low</th>\n",
       "      <th>close</th>\n",
       "      <th>volume</th>\n",
       "      <th>volumeUSD</th>\n",
       "    </tr>\n",
       "    <tr>\n",
       "      <th>chain</th>\n",
       "      <th></th>\n",
       "      <th></th>\n",
       "      <th></th>\n",
       "      <th></th>\n",
       "      <th></th>\n",
       "      <th></th>\n",
       "    </tr>\n",
       "  </thead>\n",
       "  <tbody>\n",
       "    <tr>\n",
       "      <th>BTC</th>\n",
       "      <td>1.708111e+07</td>\n",
       "      <td>1.718174e+07</td>\n",
       "      <td>1.696434e+07</td>\n",
       "      <td>1.707191e+07</td>\n",
       "      <td>2.510748e+05</td>\n",
       "      <td>1.261125e+10</td>\n",
       "    </tr>\n",
       "    <tr>\n",
       "      <th>ETH</th>\n",
       "      <td>1.558996e+06</td>\n",
       "      <td>1.569836e+06</td>\n",
       "      <td>1.545875e+06</td>\n",
       "      <td>1.557992e+06</td>\n",
       "      <td>4.738150e+06</td>\n",
       "      <td>1.480956e+10</td>\n",
       "    </tr>\n",
       "    <tr>\n",
       "      <th>SOL</th>\n",
       "      <td>6.435858e+04</td>\n",
       "      <td>6.503274e+04</td>\n",
       "      <td>6.362448e+04</td>\n",
       "      <td>6.430739e+04</td>\n",
       "      <td>2.420913e+07</td>\n",
       "      <td>4.639044e+09</td>\n",
       "    </tr>\n",
       "  </tbody>\n",
       "</table>\n",
       "</div>"
      ],
      "text/plain": [
       "               open          high           low         close        volume  \\\n",
       "chain                                                                         \n",
       "BTC    1.708111e+07  1.718174e+07  1.696434e+07  1.707191e+07  2.510748e+05   \n",
       "ETH    1.558996e+06  1.569836e+06  1.545875e+06  1.557992e+06  4.738150e+06   \n",
       "SOL    6.435858e+04  6.503274e+04  6.362448e+04  6.430739e+04  2.420913e+07   \n",
       "\n",
       "          volumeUSD  \n",
       "chain                \n",
       "BTC    1.261125e+10  \n",
       "ETH    1.480956e+10  \n",
       "SOL    4.639044e+09  "
      ]
     },
     "execution_count": 22,
     "metadata": {},
     "output_type": "execute_result"
    }
   ],
   "source": [
    "df.groupby('chain').aggregate(np.sum)"
   ]
  },
  {
   "cell_type": "markdown",
   "metadata": {},
   "source": [
    "or describe all columns"
   ]
  },
  {
   "cell_type": "code",
   "execution_count": 23,
   "metadata": {},
   "outputs": [
    {
     "data": {
      "text/html": [
       "<div>\n",
       "<style scoped>\n",
       "    .dataframe tbody tr th:only-of-type {\n",
       "        vertical-align: middle;\n",
       "    }\n",
       "\n",
       "    .dataframe tbody tr th {\n",
       "        vertical-align: top;\n",
       "    }\n",
       "\n",
       "    .dataframe thead th {\n",
       "        text-align: right;\n",
       "    }\n",
       "</style>\n",
       "<table border=\"1\" class=\"dataframe\">\n",
       "  <thead>\n",
       "    <tr style=\"text-align: right;\">\n",
       "      <th></th>\n",
       "      <th>open</th>\n",
       "      <th>high</th>\n",
       "      <th>low</th>\n",
       "      <th>close</th>\n",
       "      <th>volume</th>\n",
       "      <th>volumeUSD</th>\n",
       "    </tr>\n",
       "    <tr>\n",
       "      <th>chain</th>\n",
       "      <th></th>\n",
       "      <th></th>\n",
       "      <th></th>\n",
       "      <th></th>\n",
       "      <th></th>\n",
       "      <th></th>\n",
       "    </tr>\n",
       "  </thead>\n",
       "  <tbody>\n",
       "    <tr>\n",
       "      <th>BTC</th>\n",
       "      <td>1.708111e+07</td>\n",
       "      <td>1.718174e+07</td>\n",
       "      <td>1.696434e+07</td>\n",
       "      <td>1.707191e+07</td>\n",
       "      <td>2.510748e+05</td>\n",
       "      <td>1.261125e+10</td>\n",
       "    </tr>\n",
       "    <tr>\n",
       "      <th>ETH</th>\n",
       "      <td>1.558996e+06</td>\n",
       "      <td>1.569836e+06</td>\n",
       "      <td>1.545875e+06</td>\n",
       "      <td>1.557992e+06</td>\n",
       "      <td>4.738150e+06</td>\n",
       "      <td>1.480956e+10</td>\n",
       "    </tr>\n",
       "    <tr>\n",
       "      <th>SOL</th>\n",
       "      <td>6.435858e+04</td>\n",
       "      <td>6.503274e+04</td>\n",
       "      <td>6.362448e+04</td>\n",
       "      <td>6.430739e+04</td>\n",
       "      <td>2.420913e+07</td>\n",
       "      <td>4.639044e+09</td>\n",
       "    </tr>\n",
       "  </tbody>\n",
       "</table>\n",
       "</div>"
      ],
      "text/plain": [
       "               open          high           low         close        volume  \\\n",
       "chain                                                                         \n",
       "BTC    1.708111e+07  1.718174e+07  1.696434e+07  1.707191e+07  2.510748e+05   \n",
       "ETH    1.558996e+06  1.569836e+06  1.545875e+06  1.557992e+06  4.738150e+06   \n",
       "SOL    6.435858e+04  6.503274e+04  6.362448e+04  6.430739e+04  2.420913e+07   \n",
       "\n",
       "          volumeUSD  \n",
       "chain                \n",
       "BTC    1.261125e+10  \n",
       "ETH    1.480956e+10  \n",
       "SOL    4.639044e+09  "
      ]
     },
     "execution_count": 23,
     "metadata": {},
     "output_type": "execute_result"
    }
   ],
   "source": [
    "df.groupby('chain').sum()"
   ]
  },
  {
   "cell_type": "code",
   "execution_count": null,
   "metadata": {},
   "outputs": [],
   "source": [
    "df.groupby('chain').describe()"
   ]
  },
  {
   "cell_type": "markdown",
   "metadata": {},
   "source": [
    "We can also do multiple aggregations"
   ]
  },
  {
   "cell_type": "code",
   "execution_count": null,
   "metadata": {},
   "outputs": [],
   "source": [
    "df.groupby('chain')['open'].agg([np.size, np.mean, np.std, np.min, np.max])"
   ]
  },
  {
   "cell_type": "markdown",
   "metadata": {},
   "source": [
    "we can actually use _any_ arbitrary functions - for example, we can use lambdas"
   ]
  },
  {
   "cell_type": "code",
   "execution_count": null,
   "metadata": {},
   "outputs": [],
   "source": [
    "df.groupby('chain')['open'].agg(\n",
    "    range=lambda x: x.max() - x.min()\n",
    ")"
   ]
  },
  {
   "cell_type": "markdown",
   "metadata": {},
   "source": [
    "## Joining Dataframes"
   ]
  },
  {
   "cell_type": "markdown",
   "metadata": {},
   "source": [
    "One of the primary things we need to do before starting to clean data is to make sure that we can get all of our data into one place.  This is usually called either a fat talbe or a long table, depending on how we are doing the joining.  We'll look at a few different ways to join pandas DataFrames below.\n",
    "\n",
    "We will be using `dfs`, which is a list of DataFrames that we created up above"
   ]
  },
  {
   "cell_type": "markdown",
   "metadata": {},
   "source": [
    "### `pd.concat`"
   ]
  },
  {
   "cell_type": "markdown",
   "metadata": {},
   "source": [
    "To join the dataframes lengthwise, we can use `pd.concat`.  This will append the dataframes together, and join the rows by using the column names as an index.  If any dataframe doesn't have a column name another one has, it will appear in the full DataFrame but will have NA for the missing DataFrames"
   ]
  },
  {
   "cell_type": "code",
   "execution_count": 24,
   "metadata": {},
   "outputs": [
    {
     "data": {
      "text/html": [
       "<div>\n",
       "<style scoped>\n",
       "    .dataframe tbody tr th:only-of-type {\n",
       "        vertical-align: middle;\n",
       "    }\n",
       "\n",
       "    .dataframe tbody tr th {\n",
       "        vertical-align: top;\n",
       "    }\n",
       "\n",
       "    .dataframe thead th {\n",
       "        text-align: right;\n",
       "    }\n",
       "</style>\n",
       "<table border=\"1\" class=\"dataframe\">\n",
       "  <thead>\n",
       "    <tr style=\"text-align: right;\">\n",
       "      <th></th>\n",
       "      <th>ts</th>\n",
       "      <th>open</th>\n",
       "      <th>high</th>\n",
       "      <th>low</th>\n",
       "      <th>close</th>\n",
       "      <th>volume</th>\n",
       "      <th>volumeUSD</th>\n",
       "      <th>token</th>\n",
       "      <th>chain</th>\n",
       "    </tr>\n",
       "  </thead>\n",
       "  <tbody>\n",
       "    <tr>\n",
       "      <th>0</th>\n",
       "      <td>2021-12-01 00:00:00</td>\n",
       "      <td>57321.41</td>\n",
       "      <td>57451.05</td>\n",
       "      <td>56814.34</td>\n",
       "      <td>56987.97</td>\n",
       "      <td>388.482022</td>\n",
       "      <td>2.218430e+07</td>\n",
       "      <td>BTC</td>\n",
       "      <td>BTC</td>\n",
       "    </tr>\n",
       "    <tr>\n",
       "      <th>1</th>\n",
       "      <td>2021-12-01 01:00:00</td>\n",
       "      <td>56998.35</td>\n",
       "      <td>57726.45</td>\n",
       "      <td>56705.06</td>\n",
       "      <td>57616.41</td>\n",
       "      <td>599.791578</td>\n",
       "      <td>3.437153e+07</td>\n",
       "      <td>BTC</td>\n",
       "      <td>BTC</td>\n",
       "    </tr>\n",
       "    <tr>\n",
       "      <th>2</th>\n",
       "      <td>2021-12-01 02:00:00</td>\n",
       "      <td>57618.55</td>\n",
       "      <td>57620.00</td>\n",
       "      <td>56972.97</td>\n",
       "      <td>57030.83</td>\n",
       "      <td>591.687200</td>\n",
       "      <td>3.387067e+07</td>\n",
       "      <td>BTC</td>\n",
       "      <td>BTC</td>\n",
       "    </tr>\n",
       "    <tr>\n",
       "      <th>3</th>\n",
       "      <td>2021-12-01 03:00:00</td>\n",
       "      <td>57029.79</td>\n",
       "      <td>57396.87</td>\n",
       "      <td>56841.01</td>\n",
       "      <td>57307.59</td>\n",
       "      <td>702.560364</td>\n",
       "      <td>4.007816e+07</td>\n",
       "      <td>BTC</td>\n",
       "      <td>BTC</td>\n",
       "    </tr>\n",
       "    <tr>\n",
       "      <th>4</th>\n",
       "      <td>2021-12-01 04:00:00</td>\n",
       "      <td>57306.55</td>\n",
       "      <td>57456.82</td>\n",
       "      <td>57026.11</td>\n",
       "      <td>57404.01</td>\n",
       "      <td>859.591535</td>\n",
       "      <td>4.920503e+07</td>\n",
       "      <td>BTC</td>\n",
       "      <td>BTC</td>\n",
       "    </tr>\n",
       "    <tr>\n",
       "      <th>...</th>\n",
       "      <td>...</td>\n",
       "      <td>...</td>\n",
       "      <td>...</td>\n",
       "      <td>...</td>\n",
       "      <td>...</td>\n",
       "      <td>...</td>\n",
       "      <td>...</td>\n",
       "      <td>...</td>\n",
       "      <td>...</td>\n",
       "    </tr>\n",
       "    <tr>\n",
       "      <th>332</th>\n",
       "      <td>2021-12-14 20:00:00</td>\n",
       "      <td>178.99</td>\n",
       "      <td>181.27</td>\n",
       "      <td>178.72</td>\n",
       "      <td>180.28</td>\n",
       "      <td>628.699000</td>\n",
       "      <td>1.130815e+05</td>\n",
       "      <td>COMP</td>\n",
       "      <td>ETH</td>\n",
       "    </tr>\n",
       "    <tr>\n",
       "      <th>333</th>\n",
       "      <td>2021-12-14 21:00:00</td>\n",
       "      <td>180.15</td>\n",
       "      <td>183.76</td>\n",
       "      <td>179.96</td>\n",
       "      <td>183.43</td>\n",
       "      <td>2453.455000</td>\n",
       "      <td>4.447119e+05</td>\n",
       "      <td>COMP</td>\n",
       "      <td>ETH</td>\n",
       "    </tr>\n",
       "    <tr>\n",
       "      <th>334</th>\n",
       "      <td>2021-12-14 22:00:00</td>\n",
       "      <td>183.31</td>\n",
       "      <td>186.74</td>\n",
       "      <td>182.60</td>\n",
       "      <td>185.24</td>\n",
       "      <td>2086.017000</td>\n",
       "      <td>3.865710e+05</td>\n",
       "      <td>COMP</td>\n",
       "      <td>ETH</td>\n",
       "    </tr>\n",
       "    <tr>\n",
       "      <th>335</th>\n",
       "      <td>2021-12-14 23:00:00</td>\n",
       "      <td>185.22</td>\n",
       "      <td>186.09</td>\n",
       "      <td>183.88</td>\n",
       "      <td>185.08</td>\n",
       "      <td>416.028000</td>\n",
       "      <td>7.698720e+04</td>\n",
       "      <td>COMP</td>\n",
       "      <td>ETH</td>\n",
       "    </tr>\n",
       "    <tr>\n",
       "      <th>336</th>\n",
       "      <td>2021-12-15 00:00:00</td>\n",
       "      <td>185.07</td>\n",
       "      <td>185.78</td>\n",
       "      <td>184.50</td>\n",
       "      <td>185.16</td>\n",
       "      <td>323.870000</td>\n",
       "      <td>6.002501e+04</td>\n",
       "      <td>COMP</td>\n",
       "      <td>ETH</td>\n",
       "    </tr>\n",
       "  </tbody>\n",
       "</table>\n",
       "<p>1685 rows × 9 columns</p>\n",
       "</div>"
      ],
      "text/plain": [
       "                     ts      open      high       low     close       volume  \\\n",
       "0   2021-12-01 00:00:00  57321.41  57451.05  56814.34  56987.97   388.482022   \n",
       "1   2021-12-01 01:00:00  56998.35  57726.45  56705.06  57616.41   599.791578   \n",
       "2   2021-12-01 02:00:00  57618.55  57620.00  56972.97  57030.83   591.687200   \n",
       "3   2021-12-01 03:00:00  57029.79  57396.87  56841.01  57307.59   702.560364   \n",
       "4   2021-12-01 04:00:00  57306.55  57456.82  57026.11  57404.01   859.591535   \n",
       "..                  ...       ...       ...       ...       ...          ...   \n",
       "332 2021-12-14 20:00:00    178.99    181.27    178.72    180.28   628.699000   \n",
       "333 2021-12-14 21:00:00    180.15    183.76    179.96    183.43  2453.455000   \n",
       "334 2021-12-14 22:00:00    183.31    186.74    182.60    185.24  2086.017000   \n",
       "335 2021-12-14 23:00:00    185.22    186.09    183.88    185.08   416.028000   \n",
       "336 2021-12-15 00:00:00    185.07    185.78    184.50    185.16   323.870000   \n",
       "\n",
       "        volumeUSD token chain  \n",
       "0    2.218430e+07   BTC   BTC  \n",
       "1    3.437153e+07   BTC   BTC  \n",
       "2    3.387067e+07   BTC   BTC  \n",
       "3    4.007816e+07   BTC   BTC  \n",
       "4    4.920503e+07   BTC   BTC  \n",
       "..            ...   ...   ...  \n",
       "332  1.130815e+05  COMP   ETH  \n",
       "333  4.447119e+05  COMP   ETH  \n",
       "334  3.865710e+05  COMP   ETH  \n",
       "335  7.698720e+04  COMP   ETH  \n",
       "336  6.002501e+04  COMP   ETH  \n",
       "\n",
       "[1685 rows x 9 columns]"
      ]
     },
     "execution_count": 24,
     "metadata": {},
     "output_type": "execute_result"
    }
   ],
   "source": [
    "pd.concat(dfs)"
   ]
  },
  {
   "cell_type": "markdown",
   "metadata": {},
   "source": [
    "if you wanted to make sure you know where the original data is from, we can add keys, which creates a multi index:"
   ]
  },
  {
   "cell_type": "code",
   "execution_count": 25,
   "metadata": {},
   "outputs": [
    {
     "data": {
      "text/html": [
       "<div>\n",
       "<style scoped>\n",
       "    .dataframe tbody tr th:only-of-type {\n",
       "        vertical-align: middle;\n",
       "    }\n",
       "\n",
       "    .dataframe tbody tr th {\n",
       "        vertical-align: top;\n",
       "    }\n",
       "\n",
       "    .dataframe thead th {\n",
       "        text-align: right;\n",
       "    }\n",
       "</style>\n",
       "<table border=\"1\" class=\"dataframe\">\n",
       "  <thead>\n",
       "    <tr style=\"text-align: right;\">\n",
       "      <th></th>\n",
       "      <th></th>\n",
       "      <th>ts</th>\n",
       "      <th>open</th>\n",
       "      <th>high</th>\n",
       "      <th>low</th>\n",
       "      <th>close</th>\n",
       "      <th>volume</th>\n",
       "      <th>volumeUSD</th>\n",
       "      <th>token</th>\n",
       "      <th>chain</th>\n",
       "    </tr>\n",
       "  </thead>\n",
       "  <tbody>\n",
       "    <tr>\n",
       "      <th rowspan=\"5\" valign=\"top\">BTC</th>\n",
       "      <th>0</th>\n",
       "      <td>2021-12-01 00:00:00</td>\n",
       "      <td>57321.41</td>\n",
       "      <td>57451.05</td>\n",
       "      <td>56814.34</td>\n",
       "      <td>56987.97</td>\n",
       "      <td>388.482022</td>\n",
       "      <td>2.218430e+07</td>\n",
       "      <td>BTC</td>\n",
       "      <td>BTC</td>\n",
       "    </tr>\n",
       "    <tr>\n",
       "      <th>1</th>\n",
       "      <td>2021-12-01 01:00:00</td>\n",
       "      <td>56998.35</td>\n",
       "      <td>57726.45</td>\n",
       "      <td>56705.06</td>\n",
       "      <td>57616.41</td>\n",
       "      <td>599.791578</td>\n",
       "      <td>3.437153e+07</td>\n",
       "      <td>BTC</td>\n",
       "      <td>BTC</td>\n",
       "    </tr>\n",
       "    <tr>\n",
       "      <th>2</th>\n",
       "      <td>2021-12-01 02:00:00</td>\n",
       "      <td>57618.55</td>\n",
       "      <td>57620.00</td>\n",
       "      <td>56972.97</td>\n",
       "      <td>57030.83</td>\n",
       "      <td>591.687200</td>\n",
       "      <td>3.387067e+07</td>\n",
       "      <td>BTC</td>\n",
       "      <td>BTC</td>\n",
       "    </tr>\n",
       "    <tr>\n",
       "      <th>3</th>\n",
       "      <td>2021-12-01 03:00:00</td>\n",
       "      <td>57029.79</td>\n",
       "      <td>57396.87</td>\n",
       "      <td>56841.01</td>\n",
       "      <td>57307.59</td>\n",
       "      <td>702.560364</td>\n",
       "      <td>4.007816e+07</td>\n",
       "      <td>BTC</td>\n",
       "      <td>BTC</td>\n",
       "    </tr>\n",
       "    <tr>\n",
       "      <th>4</th>\n",
       "      <td>2021-12-01 04:00:00</td>\n",
       "      <td>57306.55</td>\n",
       "      <td>57456.82</td>\n",
       "      <td>57026.11</td>\n",
       "      <td>57404.01</td>\n",
       "      <td>859.591535</td>\n",
       "      <td>4.920503e+07</td>\n",
       "      <td>BTC</td>\n",
       "      <td>BTC</td>\n",
       "    </tr>\n",
       "    <tr>\n",
       "      <th>...</th>\n",
       "      <th>...</th>\n",
       "      <td>...</td>\n",
       "      <td>...</td>\n",
       "      <td>...</td>\n",
       "      <td>...</td>\n",
       "      <td>...</td>\n",
       "      <td>...</td>\n",
       "      <td>...</td>\n",
       "      <td>...</td>\n",
       "      <td>...</td>\n",
       "    </tr>\n",
       "    <tr>\n",
       "      <th rowspan=\"5\" valign=\"top\">COMP</th>\n",
       "      <th>332</th>\n",
       "      <td>2021-12-14 20:00:00</td>\n",
       "      <td>178.99</td>\n",
       "      <td>181.27</td>\n",
       "      <td>178.72</td>\n",
       "      <td>180.28</td>\n",
       "      <td>628.699000</td>\n",
       "      <td>1.130815e+05</td>\n",
       "      <td>COMP</td>\n",
       "      <td>ETH</td>\n",
       "    </tr>\n",
       "    <tr>\n",
       "      <th>333</th>\n",
       "      <td>2021-12-14 21:00:00</td>\n",
       "      <td>180.15</td>\n",
       "      <td>183.76</td>\n",
       "      <td>179.96</td>\n",
       "      <td>183.43</td>\n",
       "      <td>2453.455000</td>\n",
       "      <td>4.447119e+05</td>\n",
       "      <td>COMP</td>\n",
       "      <td>ETH</td>\n",
       "    </tr>\n",
       "    <tr>\n",
       "      <th>334</th>\n",
       "      <td>2021-12-14 22:00:00</td>\n",
       "      <td>183.31</td>\n",
       "      <td>186.74</td>\n",
       "      <td>182.60</td>\n",
       "      <td>185.24</td>\n",
       "      <td>2086.017000</td>\n",
       "      <td>3.865710e+05</td>\n",
       "      <td>COMP</td>\n",
       "      <td>ETH</td>\n",
       "    </tr>\n",
       "    <tr>\n",
       "      <th>335</th>\n",
       "      <td>2021-12-14 23:00:00</td>\n",
       "      <td>185.22</td>\n",
       "      <td>186.09</td>\n",
       "      <td>183.88</td>\n",
       "      <td>185.08</td>\n",
       "      <td>416.028000</td>\n",
       "      <td>7.698720e+04</td>\n",
       "      <td>COMP</td>\n",
       "      <td>ETH</td>\n",
       "    </tr>\n",
       "    <tr>\n",
       "      <th>336</th>\n",
       "      <td>2021-12-15 00:00:00</td>\n",
       "      <td>185.07</td>\n",
       "      <td>185.78</td>\n",
       "      <td>184.50</td>\n",
       "      <td>185.16</td>\n",
       "      <td>323.870000</td>\n",
       "      <td>6.002501e+04</td>\n",
       "      <td>COMP</td>\n",
       "      <td>ETH</td>\n",
       "    </tr>\n",
       "  </tbody>\n",
       "</table>\n",
       "<p>1685 rows × 9 columns</p>\n",
       "</div>"
      ],
      "text/plain": [
       "                          ts      open      high       low     close  \\\n",
       "BTC  0   2021-12-01 00:00:00  57321.41  57451.05  56814.34  56987.97   \n",
       "     1   2021-12-01 01:00:00  56998.35  57726.45  56705.06  57616.41   \n",
       "     2   2021-12-01 02:00:00  57618.55  57620.00  56972.97  57030.83   \n",
       "     3   2021-12-01 03:00:00  57029.79  57396.87  56841.01  57307.59   \n",
       "     4   2021-12-01 04:00:00  57306.55  57456.82  57026.11  57404.01   \n",
       "...                      ...       ...       ...       ...       ...   \n",
       "COMP 332 2021-12-14 20:00:00    178.99    181.27    178.72    180.28   \n",
       "     333 2021-12-14 21:00:00    180.15    183.76    179.96    183.43   \n",
       "     334 2021-12-14 22:00:00    183.31    186.74    182.60    185.24   \n",
       "     335 2021-12-14 23:00:00    185.22    186.09    183.88    185.08   \n",
       "     336 2021-12-15 00:00:00    185.07    185.78    184.50    185.16   \n",
       "\n",
       "               volume     volumeUSD token chain  \n",
       "BTC  0     388.482022  2.218430e+07   BTC   BTC  \n",
       "     1     599.791578  3.437153e+07   BTC   BTC  \n",
       "     2     591.687200  3.387067e+07   BTC   BTC  \n",
       "     3     702.560364  4.007816e+07   BTC   BTC  \n",
       "     4     859.591535  4.920503e+07   BTC   BTC  \n",
       "...               ...           ...   ...   ...  \n",
       "COMP 332   628.699000  1.130815e+05  COMP   ETH  \n",
       "     333  2453.455000  4.447119e+05  COMP   ETH  \n",
       "     334  2086.017000  3.865710e+05  COMP   ETH  \n",
       "     335   416.028000  7.698720e+04  COMP   ETH  \n",
       "     336   323.870000  6.002501e+04  COMP   ETH  \n",
       "\n",
       "[1685 rows x 9 columns]"
      ]
     },
     "execution_count": 25,
     "metadata": {},
     "output_type": "execute_result"
    }
   ],
   "source": [
    "res = pd.concat(dfs, keys=tokens)\n",
    "res"
   ]
  },
  {
   "cell_type": "markdown",
   "metadata": {},
   "source": [
    "this allows us to select the data from the source tables, e.g.:"
   ]
  },
  {
   "cell_type": "code",
   "execution_count": null,
   "metadata": {},
   "outputs": [],
   "source": [
    "res.loc['COMP']"
   ]
  },
  {
   "cell_type": "markdown",
   "metadata": {},
   "source": [
    "As we saw above, we can also use `.append(*)` on DataFrames as well as Series"
   ]
  },
  {
   "cell_type": "code",
   "execution_count": 26,
   "metadata": {},
   "outputs": [
    {
     "data": {
      "text/html": [
       "<div>\n",
       "<style scoped>\n",
       "    .dataframe tbody tr th:only-of-type {\n",
       "        vertical-align: middle;\n",
       "    }\n",
       "\n",
       "    .dataframe tbody tr th {\n",
       "        vertical-align: top;\n",
       "    }\n",
       "\n",
       "    .dataframe thead th {\n",
       "        text-align: right;\n",
       "    }\n",
       "</style>\n",
       "<table border=\"1\" class=\"dataframe\">\n",
       "  <thead>\n",
       "    <tr style=\"text-align: right;\">\n",
       "      <th></th>\n",
       "      <th>ts</th>\n",
       "      <th>open</th>\n",
       "      <th>high</th>\n",
       "      <th>low</th>\n",
       "      <th>close</th>\n",
       "      <th>volume</th>\n",
       "      <th>volumeUSD</th>\n",
       "      <th>token</th>\n",
       "      <th>chain</th>\n",
       "    </tr>\n",
       "  </thead>\n",
       "  <tbody>\n",
       "    <tr>\n",
       "      <th>0</th>\n",
       "      <td>2021-12-01 00:00:00</td>\n",
       "      <td>57321.41</td>\n",
       "      <td>57451.05</td>\n",
       "      <td>56814.34</td>\n",
       "      <td>56987.97</td>\n",
       "      <td>388.482022</td>\n",
       "      <td>2.218430e+07</td>\n",
       "      <td>BTC</td>\n",
       "      <td>BTC</td>\n",
       "    </tr>\n",
       "    <tr>\n",
       "      <th>1</th>\n",
       "      <td>2021-12-01 01:00:00</td>\n",
       "      <td>56998.35</td>\n",
       "      <td>57726.45</td>\n",
       "      <td>56705.06</td>\n",
       "      <td>57616.41</td>\n",
       "      <td>599.791578</td>\n",
       "      <td>3.437153e+07</td>\n",
       "      <td>BTC</td>\n",
       "      <td>BTC</td>\n",
       "    </tr>\n",
       "    <tr>\n",
       "      <th>2</th>\n",
       "      <td>2021-12-01 02:00:00</td>\n",
       "      <td>57618.55</td>\n",
       "      <td>57620.00</td>\n",
       "      <td>56972.97</td>\n",
       "      <td>57030.83</td>\n",
       "      <td>591.687200</td>\n",
       "      <td>3.387067e+07</td>\n",
       "      <td>BTC</td>\n",
       "      <td>BTC</td>\n",
       "    </tr>\n",
       "    <tr>\n",
       "      <th>3</th>\n",
       "      <td>2021-12-01 03:00:00</td>\n",
       "      <td>57029.79</td>\n",
       "      <td>57396.87</td>\n",
       "      <td>56841.01</td>\n",
       "      <td>57307.59</td>\n",
       "      <td>702.560364</td>\n",
       "      <td>4.007816e+07</td>\n",
       "      <td>BTC</td>\n",
       "      <td>BTC</td>\n",
       "    </tr>\n",
       "    <tr>\n",
       "      <th>4</th>\n",
       "      <td>2021-12-01 04:00:00</td>\n",
       "      <td>57306.55</td>\n",
       "      <td>57456.82</td>\n",
       "      <td>57026.11</td>\n",
       "      <td>57404.01</td>\n",
       "      <td>859.591535</td>\n",
       "      <td>4.920503e+07</td>\n",
       "      <td>BTC</td>\n",
       "      <td>BTC</td>\n",
       "    </tr>\n",
       "    <tr>\n",
       "      <th>...</th>\n",
       "      <td>...</td>\n",
       "      <td>...</td>\n",
       "      <td>...</td>\n",
       "      <td>...</td>\n",
       "      <td>...</td>\n",
       "      <td>...</td>\n",
       "      <td>...</td>\n",
       "      <td>...</td>\n",
       "      <td>...</td>\n",
       "    </tr>\n",
       "    <tr>\n",
       "      <th>332</th>\n",
       "      <td>2021-12-14 20:00:00</td>\n",
       "      <td>46658.23</td>\n",
       "      <td>47086.98</td>\n",
       "      <td>46649.03</td>\n",
       "      <td>46877.70</td>\n",
       "      <td>783.748050</td>\n",
       "      <td>3.677161e+07</td>\n",
       "      <td>BTC</td>\n",
       "      <td>BTC</td>\n",
       "    </tr>\n",
       "    <tr>\n",
       "      <th>333</th>\n",
       "      <td>2021-12-14 21:00:00</td>\n",
       "      <td>46875.95</td>\n",
       "      <td>47890.62</td>\n",
       "      <td>46856.37</td>\n",
       "      <td>47805.73</td>\n",
       "      <td>1634.610294</td>\n",
       "      <td>7.759534e+07</td>\n",
       "      <td>BTC</td>\n",
       "      <td>BTC</td>\n",
       "    </tr>\n",
       "    <tr>\n",
       "      <th>334</th>\n",
       "      <td>2021-12-14 22:00:00</td>\n",
       "      <td>47805.73</td>\n",
       "      <td>48686.91</td>\n",
       "      <td>47773.01</td>\n",
       "      <td>48303.57</td>\n",
       "      <td>1804.082095</td>\n",
       "      <td>8.714276e+07</td>\n",
       "      <td>BTC</td>\n",
       "      <td>BTC</td>\n",
       "    </tr>\n",
       "    <tr>\n",
       "      <th>335</th>\n",
       "      <td>2021-12-14 23:00:00</td>\n",
       "      <td>48303.56</td>\n",
       "      <td>48482.90</td>\n",
       "      <td>48008.28</td>\n",
       "      <td>48288.99</td>\n",
       "      <td>675.097958</td>\n",
       "      <td>3.259071e+07</td>\n",
       "      <td>BTC</td>\n",
       "      <td>BTC</td>\n",
       "    </tr>\n",
       "    <tr>\n",
       "      <th>336</th>\n",
       "      <td>2021-12-15 00:00:00</td>\n",
       "      <td>48288.99</td>\n",
       "      <td>48398.68</td>\n",
       "      <td>48164.49</td>\n",
       "      <td>48287.68</td>\n",
       "      <td>74.991886</td>\n",
       "      <td>3.620932e+06</td>\n",
       "      <td>BTC</td>\n",
       "      <td>BTC</td>\n",
       "    </tr>\n",
       "  </tbody>\n",
       "</table>\n",
       "<p>337 rows × 9 columns</p>\n",
       "</div>"
      ],
      "text/plain": [
       "                     ts      open      high       low     close       volume  \\\n",
       "0   2021-12-01 00:00:00  57321.41  57451.05  56814.34  56987.97   388.482022   \n",
       "1   2021-12-01 01:00:00  56998.35  57726.45  56705.06  57616.41   599.791578   \n",
       "2   2021-12-01 02:00:00  57618.55  57620.00  56972.97  57030.83   591.687200   \n",
       "3   2021-12-01 03:00:00  57029.79  57396.87  56841.01  57307.59   702.560364   \n",
       "4   2021-12-01 04:00:00  57306.55  57456.82  57026.11  57404.01   859.591535   \n",
       "..                  ...       ...       ...       ...       ...          ...   \n",
       "332 2021-12-14 20:00:00  46658.23  47086.98  46649.03  46877.70   783.748050   \n",
       "333 2021-12-14 21:00:00  46875.95  47890.62  46856.37  47805.73  1634.610294   \n",
       "334 2021-12-14 22:00:00  47805.73  48686.91  47773.01  48303.57  1804.082095   \n",
       "335 2021-12-14 23:00:00  48303.56  48482.90  48008.28  48288.99   675.097958   \n",
       "336 2021-12-15 00:00:00  48288.99  48398.68  48164.49  48287.68    74.991886   \n",
       "\n",
       "        volumeUSD token chain  \n",
       "0    2.218430e+07   BTC   BTC  \n",
       "1    3.437153e+07   BTC   BTC  \n",
       "2    3.387067e+07   BTC   BTC  \n",
       "3    4.007816e+07   BTC   BTC  \n",
       "4    4.920503e+07   BTC   BTC  \n",
       "..            ...   ...   ...  \n",
       "332  3.677161e+07   BTC   BTC  \n",
       "333  7.759534e+07   BTC   BTC  \n",
       "334  8.714276e+07   BTC   BTC  \n",
       "335  3.259071e+07   BTC   BTC  \n",
       "336  3.620932e+06   BTC   BTC  \n",
       "\n",
       "[337 rows x 9 columns]"
      ]
     },
     "execution_count": 26,
     "metadata": {},
     "output_type": "execute_result"
    }
   ],
   "source": [
    "dfs[0]"
   ]
  },
  {
   "cell_type": "code",
   "execution_count": null,
   "metadata": {},
   "outputs": [],
   "source": [
    "dfs[0].append(dfs[1])"
   ]
  },
  {
   "cell_type": "markdown",
   "metadata": {},
   "source": [
    "Lastly, remember the importance of indices.  In the operation above (both `.concat` and `.append`) we joined the DataFrames while keeping the indices of the original tables.  This means that we have repeated indices:"
   ]
  },
  {
   "cell_type": "code",
   "execution_count": null,
   "metadata": {},
   "outputs": [],
   "source": [
    "dfs[0].append(dfs[1]).sort_index()"
   ]
  },
  {
   "cell_type": "markdown",
   "metadata": {},
   "source": [
    "This sometimes isn't ideal, esp. if we want to join against these indices later.  Instead, we can create a new index on the joined table using the `ignore_index` parameter, which allows us to have a sequential, non-repeated index:"
   ]
  },
  {
   "cell_type": "code",
   "execution_count": null,
   "metadata": {},
   "outputs": [],
   "source": [
    "dfs[0].append(dfs[1], ignore_index=True).sort_index()"
   ]
  },
  {
   "cell_type": "markdown",
   "metadata": {
    "tags": []
   },
   "source": [
    "### `pd.DataFrame.join`"
   ]
  },
  {
   "cell_type": "markdown",
   "metadata": {},
   "source": [
    "`df.join` is a nice and easy method that allows us to join two dataframes by their index"
   ]
  },
  {
   "cell_type": "code",
   "execution_count": 30,
   "metadata": {},
   "outputs": [
    {
     "ename": "ValueError",
     "evalue": "columns overlap but no suffix specified: Index(['close'], dtype='object')",
     "output_type": "error",
     "traceback": [
      "\u001b[0;31m---------------------------------------------------------------------------\u001b[0m",
      "\u001b[0;31mValueError\u001b[0m                                Traceback (most recent call last)",
      "\u001b[0;32m<ipython-input-30-6bfa68241377>\u001b[0m in \u001b[0;36m<module>\u001b[0;34m\u001b[0m\n\u001b[0;32m----> 1\u001b[0;31m \u001b[0mdfs\u001b[0m\u001b[0;34m[\u001b[0m\u001b[0;36m0\u001b[0m\u001b[0;34m]\u001b[0m\u001b[0;34m.\u001b[0m\u001b[0mset_index\u001b[0m\u001b[0;34m(\u001b[0m\u001b[0;34m'ts'\u001b[0m\u001b[0;34m)\u001b[0m\u001b[0;34m[\u001b[0m\u001b[0;34m'close'\u001b[0m\u001b[0;34m]\u001b[0m\u001b[0;34m.\u001b[0m\u001b[0mto_frame\u001b[0m\u001b[0;34m(\u001b[0m\u001b[0;34m)\u001b[0m\u001b[0;34m.\u001b[0m\u001b[0mjoin\u001b[0m\u001b[0;34m(\u001b[0m\u001b[0mdfs\u001b[0m\u001b[0;34m[\u001b[0m\u001b[0;36m1\u001b[0m\u001b[0;34m]\u001b[0m\u001b[0;34m.\u001b[0m\u001b[0mset_index\u001b[0m\u001b[0;34m(\u001b[0m\u001b[0;34m'ts'\u001b[0m\u001b[0;34m)\u001b[0m\u001b[0;34m[\u001b[0m\u001b[0;34m'close'\u001b[0m\u001b[0;34m]\u001b[0m\u001b[0;34m.\u001b[0m\u001b[0mto_frame\u001b[0m\u001b[0;34m(\u001b[0m\u001b[0;34m)\u001b[0m\u001b[0;34m)\u001b[0m\u001b[0;34m\u001b[0m\u001b[0;34m\u001b[0m\u001b[0m\n\u001b[0m",
      "\u001b[0;32m~/opt/anaconda3/lib/python3.8/site-packages/pandas/core/frame.py\u001b[0m in \u001b[0;36mjoin\u001b[0;34m(self, other, on, how, lsuffix, rsuffix, sort)\u001b[0m\n\u001b[1;32m   7868\u001b[0m         \u001b[0;36m5\u001b[0m  \u001b[0mK5\u001b[0m  \u001b[0mA5\u001b[0m  \u001b[0mNaN\u001b[0m\u001b[0;34m\u001b[0m\u001b[0;34m\u001b[0m\u001b[0m\n\u001b[1;32m   7869\u001b[0m         \"\"\"\n\u001b[0;32m-> 7870\u001b[0;31m         return self._join_compat(\n\u001b[0m\u001b[1;32m   7871\u001b[0m             \u001b[0mother\u001b[0m\u001b[0;34m,\u001b[0m \u001b[0mon\u001b[0m\u001b[0;34m=\u001b[0m\u001b[0mon\u001b[0m\u001b[0;34m,\u001b[0m \u001b[0mhow\u001b[0m\u001b[0;34m=\u001b[0m\u001b[0mhow\u001b[0m\u001b[0;34m,\u001b[0m \u001b[0mlsuffix\u001b[0m\u001b[0;34m=\u001b[0m\u001b[0mlsuffix\u001b[0m\u001b[0;34m,\u001b[0m \u001b[0mrsuffix\u001b[0m\u001b[0;34m=\u001b[0m\u001b[0mrsuffix\u001b[0m\u001b[0;34m,\u001b[0m \u001b[0msort\u001b[0m\u001b[0;34m=\u001b[0m\u001b[0msort\u001b[0m\u001b[0;34m\u001b[0m\u001b[0;34m\u001b[0m\u001b[0m\n\u001b[1;32m   7872\u001b[0m         )\n",
      "\u001b[0;32m~/opt/anaconda3/lib/python3.8/site-packages/pandas/core/frame.py\u001b[0m in \u001b[0;36m_join_compat\u001b[0;34m(self, other, on, how, lsuffix, rsuffix, sort)\u001b[0m\n\u001b[1;32m   7884\u001b[0m \u001b[0;34m\u001b[0m\u001b[0m\n\u001b[1;32m   7885\u001b[0m         \u001b[0;32mif\u001b[0m \u001b[0misinstance\u001b[0m\u001b[0;34m(\u001b[0m\u001b[0mother\u001b[0m\u001b[0;34m,\u001b[0m \u001b[0mDataFrame\u001b[0m\u001b[0;34m)\u001b[0m\u001b[0;34m:\u001b[0m\u001b[0;34m\u001b[0m\u001b[0;34m\u001b[0m\u001b[0m\n\u001b[0;32m-> 7886\u001b[0;31m             return merge(\n\u001b[0m\u001b[1;32m   7887\u001b[0m                 \u001b[0mself\u001b[0m\u001b[0;34m,\u001b[0m\u001b[0;34m\u001b[0m\u001b[0;34m\u001b[0m\u001b[0m\n\u001b[1;32m   7888\u001b[0m                 \u001b[0mother\u001b[0m\u001b[0;34m,\u001b[0m\u001b[0;34m\u001b[0m\u001b[0;34m\u001b[0m\u001b[0m\n",
      "\u001b[0;32m~/opt/anaconda3/lib/python3.8/site-packages/pandas/core/reshape/merge.py\u001b[0m in \u001b[0;36mmerge\u001b[0;34m(left, right, how, on, left_on, right_on, left_index, right_index, sort, suffixes, copy, indicator, validate)\u001b[0m\n\u001b[1;32m     87\u001b[0m         \u001b[0mvalidate\u001b[0m\u001b[0;34m=\u001b[0m\u001b[0mvalidate\u001b[0m\u001b[0;34m,\u001b[0m\u001b[0;34m\u001b[0m\u001b[0;34m\u001b[0m\u001b[0m\n\u001b[1;32m     88\u001b[0m     )\n\u001b[0;32m---> 89\u001b[0;31m     \u001b[0;32mreturn\u001b[0m \u001b[0mop\u001b[0m\u001b[0;34m.\u001b[0m\u001b[0mget_result\u001b[0m\u001b[0;34m(\u001b[0m\u001b[0;34m)\u001b[0m\u001b[0;34m\u001b[0m\u001b[0;34m\u001b[0m\u001b[0m\n\u001b[0m\u001b[1;32m     90\u001b[0m \u001b[0;34m\u001b[0m\u001b[0m\n\u001b[1;32m     91\u001b[0m \u001b[0;34m\u001b[0m\u001b[0m\n",
      "\u001b[0;32m~/opt/anaconda3/lib/python3.8/site-packages/pandas/core/reshape/merge.py\u001b[0m in \u001b[0;36mget_result\u001b[0;34m(self)\u001b[0m\n\u001b[1;32m    668\u001b[0m         \u001b[0mjoin_index\u001b[0m\u001b[0;34m,\u001b[0m \u001b[0mleft_indexer\u001b[0m\u001b[0;34m,\u001b[0m \u001b[0mright_indexer\u001b[0m \u001b[0;34m=\u001b[0m \u001b[0mself\u001b[0m\u001b[0;34m.\u001b[0m\u001b[0m_get_join_info\u001b[0m\u001b[0;34m(\u001b[0m\u001b[0;34m)\u001b[0m\u001b[0;34m\u001b[0m\u001b[0;34m\u001b[0m\u001b[0m\n\u001b[1;32m    669\u001b[0m \u001b[0;34m\u001b[0m\u001b[0m\n\u001b[0;32m--> 670\u001b[0;31m         llabels, rlabels = _items_overlap_with_suffix(\n\u001b[0m\u001b[1;32m    671\u001b[0m             \u001b[0mself\u001b[0m\u001b[0;34m.\u001b[0m\u001b[0mleft\u001b[0m\u001b[0;34m.\u001b[0m\u001b[0m_info_axis\u001b[0m\u001b[0;34m,\u001b[0m \u001b[0mself\u001b[0m\u001b[0;34m.\u001b[0m\u001b[0mright\u001b[0m\u001b[0;34m.\u001b[0m\u001b[0m_info_axis\u001b[0m\u001b[0;34m,\u001b[0m \u001b[0mself\u001b[0m\u001b[0;34m.\u001b[0m\u001b[0msuffixes\u001b[0m\u001b[0;34m\u001b[0m\u001b[0;34m\u001b[0m\u001b[0m\n\u001b[1;32m    672\u001b[0m         )\n",
      "\u001b[0;32m~/opt/anaconda3/lib/python3.8/site-packages/pandas/core/reshape/merge.py\u001b[0m in \u001b[0;36m_items_overlap_with_suffix\u001b[0;34m(left, right, suffixes)\u001b[0m\n\u001b[1;32m   2089\u001b[0m \u001b[0;34m\u001b[0m\u001b[0m\n\u001b[1;32m   2090\u001b[0m     \u001b[0;32mif\u001b[0m \u001b[0;32mnot\u001b[0m \u001b[0mlsuffix\u001b[0m \u001b[0;32mand\u001b[0m \u001b[0;32mnot\u001b[0m \u001b[0mrsuffix\u001b[0m\u001b[0;34m:\u001b[0m\u001b[0;34m\u001b[0m\u001b[0;34m\u001b[0m\u001b[0m\n\u001b[0;32m-> 2091\u001b[0;31m         \u001b[0;32mraise\u001b[0m \u001b[0mValueError\u001b[0m\u001b[0;34m(\u001b[0m\u001b[0;34mf\"columns overlap but no suffix specified: {to_rename}\"\u001b[0m\u001b[0;34m)\u001b[0m\u001b[0;34m\u001b[0m\u001b[0;34m\u001b[0m\u001b[0m\n\u001b[0m\u001b[1;32m   2092\u001b[0m \u001b[0;34m\u001b[0m\u001b[0m\n\u001b[1;32m   2093\u001b[0m     \u001b[0;32mdef\u001b[0m \u001b[0mrenamer\u001b[0m\u001b[0;34m(\u001b[0m\u001b[0mx\u001b[0m\u001b[0;34m,\u001b[0m \u001b[0msuffix\u001b[0m\u001b[0;34m)\u001b[0m\u001b[0;34m:\u001b[0m\u001b[0;34m\u001b[0m\u001b[0;34m\u001b[0m\u001b[0m\n",
      "\u001b[0;31mValueError\u001b[0m: columns overlap but no suffix specified: Index(['close'], dtype='object')"
     ]
    }
   ],
   "source": [
    "dfs[0].set_index('ts')['close'].to_frame().join(dfs[1].set_index('ts')['close'].to_frame())"
   ]
  },
  {
   "cell_type": "code",
   "execution_count": 31,
   "metadata": {},
   "outputs": [
    {
     "data": {
      "text/html": [
       "<div>\n",
       "<style scoped>\n",
       "    .dataframe tbody tr th:only-of-type {\n",
       "        vertical-align: middle;\n",
       "    }\n",
       "\n",
       "    .dataframe tbody tr th {\n",
       "        vertical-align: top;\n",
       "    }\n",
       "\n",
       "    .dataframe thead th {\n",
       "        text-align: right;\n",
       "    }\n",
       "</style>\n",
       "<table border=\"1\" class=\"dataframe\">\n",
       "  <thead>\n",
       "    <tr style=\"text-align: right;\">\n",
       "      <th></th>\n",
       "      <th>close_BTC</th>\n",
       "      <th>close_ETH</th>\n",
       "    </tr>\n",
       "    <tr>\n",
       "      <th>ts</th>\n",
       "      <th></th>\n",
       "      <th></th>\n",
       "    </tr>\n",
       "  </thead>\n",
       "  <tbody>\n",
       "    <tr>\n",
       "      <th>2021-12-01 00:00:00</th>\n",
       "      <td>56987.97</td>\n",
       "      <td>4634.95</td>\n",
       "    </tr>\n",
       "    <tr>\n",
       "      <th>2021-12-01 01:00:00</th>\n",
       "      <td>57616.41</td>\n",
       "      <td>4729.10</td>\n",
       "    </tr>\n",
       "    <tr>\n",
       "      <th>2021-12-01 02:00:00</th>\n",
       "      <td>57030.83</td>\n",
       "      <td>4695.78</td>\n",
       "    </tr>\n",
       "    <tr>\n",
       "      <th>2021-12-01 03:00:00</th>\n",
       "      <td>57307.59</td>\n",
       "      <td>4754.09</td>\n",
       "    </tr>\n",
       "    <tr>\n",
       "      <th>2021-12-01 04:00:00</th>\n",
       "      <td>57404.01</td>\n",
       "      <td>4764.59</td>\n",
       "    </tr>\n",
       "    <tr>\n",
       "      <th>...</th>\n",
       "      <td>...</td>\n",
       "      <td>...</td>\n",
       "    </tr>\n",
       "    <tr>\n",
       "      <th>2021-12-14 20:00:00</th>\n",
       "      <td>46877.70</td>\n",
       "      <td>3771.94</td>\n",
       "    </tr>\n",
       "    <tr>\n",
       "      <th>2021-12-14 21:00:00</th>\n",
       "      <td>47805.73</td>\n",
       "      <td>3835.07</td>\n",
       "    </tr>\n",
       "    <tr>\n",
       "      <th>2021-12-14 22:00:00</th>\n",
       "      <td>48303.57</td>\n",
       "      <td>3852.80</td>\n",
       "    </tr>\n",
       "    <tr>\n",
       "      <th>2021-12-14 23:00:00</th>\n",
       "      <td>48288.99</td>\n",
       "      <td>3840.49</td>\n",
       "    </tr>\n",
       "    <tr>\n",
       "      <th>2021-12-15 00:00:00</th>\n",
       "      <td>48287.68</td>\n",
       "      <td>3838.71</td>\n",
       "    </tr>\n",
       "  </tbody>\n",
       "</table>\n",
       "<p>337 rows × 2 columns</p>\n",
       "</div>"
      ],
      "text/plain": [
       "                     close_BTC  close_ETH\n",
       "ts                                       \n",
       "2021-12-01 00:00:00   56987.97    4634.95\n",
       "2021-12-01 01:00:00   57616.41    4729.10\n",
       "2021-12-01 02:00:00   57030.83    4695.78\n",
       "2021-12-01 03:00:00   57307.59    4754.09\n",
       "2021-12-01 04:00:00   57404.01    4764.59\n",
       "...                        ...        ...\n",
       "2021-12-14 20:00:00   46877.70    3771.94\n",
       "2021-12-14 21:00:00   47805.73    3835.07\n",
       "2021-12-14 22:00:00   48303.57    3852.80\n",
       "2021-12-14 23:00:00   48288.99    3840.49\n",
       "2021-12-15 00:00:00   48287.68    3838.71\n",
       "\n",
       "[337 rows x 2 columns]"
      ]
     },
     "execution_count": 31,
     "metadata": {},
     "output_type": "execute_result"
    }
   ],
   "source": [
    "dfs[0].set_index('ts')['close'].rename(f'close_{tokens[0]}').to_frame().join( \n",
    "    dfs[1].set_index('ts')['close'].rename(f'close_{tokens[1]}').to_frame()\n",
    ")"
   ]
  },
  {
   "cell_type": "markdown",
   "metadata": {},
   "source": [
    "we can get a little more advanced by having a **left** unkeyed DataFrame joining against a **right** keyed DataFrame, e.g.:"
   ]
  },
  {
   "cell_type": "code",
   "execution_count": null,
   "metadata": {},
   "outputs": [],
   "source": [
    "dfs[0][['ts', 'close']].join(\n",
    "    dfs[1].set_index('ts')['close'].rename(f'close_{tokens[1]}').to_frame(),\n",
    "    on='ts'\n",
    ")"
   ]
  },
  {
   "cell_type": "markdown",
   "metadata": {},
   "source": [
    "### `pd.merge`"
   ]
  },
  {
   "cell_type": "markdown",
   "metadata": {},
   "source": [
    "`pd.merge` is Pandas way of doing sql-like joins (e.g. left join, inner join, outer join etc).  There are a few quirks we'll see though."
   ]
  },
  {
   "cell_type": "code",
   "execution_count": null,
   "metadata": {},
   "outputs": [],
   "source": [
    "pd.merge(\n",
    "    dfs[0][['ts', 'close']].rename(columns={'close': f'close_{tokens[0]}'}),\n",
    "    dfs[1][['ts', 'close']].rename(columns={'close': f'close_{tokens[1]}'}),\n",
    "    on='ts',\n",
    "    how='inner'\n",
    ")"
   ]
  },
  {
   "cell_type": "markdown",
   "metadata": {},
   "source": [
    "we can use other conditions for `how`, e.g. 'left', 'right', 'outer', and 'cross'"
   ]
  },
  {
   "cell_type": "markdown",
   "metadata": {},
   "source": [
    "if left and right DataFrames have columns with the same name, pandas will automatically resolve the delta by adding `_x` and `_y` suffixes to the conflicted columns"
   ]
  },
  {
   "cell_type": "code",
   "execution_count": null,
   "metadata": {},
   "outputs": [],
   "source": [
    "pd.merge(\n",
    "    dfs[0][['ts', 'close']],\n",
    "    dfs[1][['ts', 'close']],\n",
    "    on='ts',\n",
    "    how='inner'\n",
    ")"
   ]
  },
  {
   "cell_type": "markdown",
   "metadata": {},
   "source": [
    "however, we can also define our own suffixes, e.g."
   ]
  },
  {
   "cell_type": "code",
   "execution_count": null,
   "metadata": {},
   "outputs": [],
   "source": [
    "pd.merge(\n",
    "    dfs[0][['ts', 'close']],\n",
    "    dfs[1][['ts', 'close']],\n",
    "    on='ts',\n",
    "    how='inner',\n",
    "    suffixes=[f'_{tokens[0]}', f'_{tokens[1]}']\n",
    ")"
   ]
  }
 ],
 "metadata": {
  "kernelspec": {
   "display_name": "Python 3",
   "language": "python",
   "name": "python3"
  },
  "language_info": {
   "codemirror_mode": {
    "name": "ipython",
    "version": 3
   },
   "file_extension": ".py",
   "mimetype": "text/x-python",
   "name": "python",
   "nbconvert_exporter": "python",
   "pygments_lexer": "ipython3",
   "version": "3.8.5"
  }
 },
 "nbformat": 4,
 "nbformat_minor": 5
}
