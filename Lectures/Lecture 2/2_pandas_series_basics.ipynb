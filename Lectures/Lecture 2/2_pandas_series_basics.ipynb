{
 "cells": [
  {
   "cell_type": "markdown",
   "id": "controversial-animation",
   "metadata": {},
   "source": [
    "# Pandas Series (`pd.Series`)"
   ]
  },
  {
   "cell_type": "markdown",
   "id": "novel-carolina",
   "metadata": {},
   "source": [
    "At the beginning of most EDAs, you will see the following two lines which import the pandas and numpy libraries.  The general convention is to use `pd` to represent the pandas library and `np` to represent the numpy library"
   ]
  },
  {
   "cell_type": "code",
   "execution_count": 1,
   "id": "outdoor-baptist",
   "metadata": {},
   "outputs": [],
   "source": [
    "import pandas as pd\n",
    "import numpy as np"
   ]
  },
  {
   "cell_type": "markdown",
   "id": "surprising-processor",
   "metadata": {},
   "source": [
    "## Pandas Series"
   ]
  },
  {
   "cell_type": "markdown",
   "id": "twenty-instruction",
   "metadata": {},
   "source": [
    "The building block of pandas is a `pd.Series` object, which is an indexed, sequential list of data.  We will be using crypto market caps below to set the example:"
   ]
  },
  {
   "cell_type": "code",
   "execution_count": 2,
   "id": "official-track",
   "metadata": {},
   "outputs": [],
   "source": [
    "market_caps = pd.Series([954.7, 514.4, 95.8, 76.3, 57.9, 45.7, 41.0, 38.7, 28.8, 25.8])"
   ]
  },
  {
   "cell_type": "code",
   "execution_count": 3,
   "id": "virtual-attribute",
   "metadata": {},
   "outputs": [
    {
     "data": {
      "text/plain": [
       "0    954.7\n",
       "1    514.4\n",
       "2     95.8\n",
       "3     76.3\n",
       "4     57.9\n",
       "5     45.7\n",
       "6     41.0\n",
       "7     38.7\n",
       "8     28.8\n",
       "9     25.8\n",
       "dtype: float64"
      ]
     },
     "execution_count": 3,
     "metadata": {},
     "output_type": "execute_result"
    }
   ],
   "source": [
    "market_caps"
   ]
  },
  {
   "cell_type": "markdown",
   "id": "following-football",
   "metadata": {},
   "source": [
    "To make this data clearer, we can add a `name` to the Series:"
   ]
  },
  {
   "cell_type": "code",
   "execution_count": 4,
   "id": "pharmaceutical-chrome",
   "metadata": {},
   "outputs": [],
   "source": [
    "market_caps.name = 'Market caps of top 10 cryptocurrencies in billions USD'"
   ]
  },
  {
   "cell_type": "code",
   "execution_count": 5,
   "id": "taken-swaziland",
   "metadata": {},
   "outputs": [
    {
     "data": {
      "text/plain": [
       "0    954.7\n",
       "1    514.4\n",
       "2     95.8\n",
       "3     76.3\n",
       "4     57.9\n",
       "5     45.7\n",
       "6     41.0\n",
       "7     38.7\n",
       "8     28.8\n",
       "9     25.8\n",
       "Name: Market caps of top 10 cryptocurrencies in billions USD, dtype: float64"
      ]
     },
     "execution_count": 5,
     "metadata": {},
     "output_type": "execute_result"
    }
   ],
   "source": [
    "market_caps"
   ]
  },
  {
   "cell_type": "markdown",
   "id": "tutorial-smith",
   "metadata": {},
   "source": [
    "we can see that the data itself is typed, i.e.:"
   ]
  },
  {
   "cell_type": "code",
   "execution_count": 6,
   "id": "thorough-constant",
   "metadata": {},
   "outputs": [
    {
     "data": {
      "text/plain": [
       "dtype('float64')"
      ]
     },
     "execution_count": 6,
     "metadata": {},
     "output_type": "execute_result"
    }
   ],
   "source": [
    "market_caps.dtype"
   ]
  },
  {
   "cell_type": "markdown",
   "id": "fresh-accreditation",
   "metadata": {},
   "source": [
    "and we can see that the values of the Series are just simple numpy arrays"
   ]
  },
  {
   "cell_type": "code",
   "execution_count": 7,
   "id": "written-system",
   "metadata": {},
   "outputs": [
    {
     "data": {
      "text/plain": [
       "numpy.ndarray"
      ]
     },
     "execution_count": 7,
     "metadata": {},
     "output_type": "execute_result"
    }
   ],
   "source": [
    "type(market_caps.values)"
   ]
  },
  {
   "cell_type": "markdown",
   "id": "ongoing-wesley",
   "metadata": {},
   "source": [
    "One key difference between `np.ndarray` and `pd.Series` is that `pd.Series` is indexed.  In the above example, the index happens to be a sequential index from 0 to 9, however we can easily change this index:"
   ]
  },
  {
   "cell_type": "code",
   "execution_count": 8,
   "id": "comparative-judgment",
   "metadata": {},
   "outputs": [],
   "source": [
    "market_caps.index = ['BTC', 'ETH', 'BNB', 'USDT', 'SOL', 'ADA', 'USDC', 'XRP', 'DOT', 'LUNA']"
   ]
  },
  {
   "cell_type": "code",
   "execution_count": 9,
   "id": "demographic-mouth",
   "metadata": {},
   "outputs": [
    {
     "data": {
      "text/plain": [
       "BTC     954.7\n",
       "ETH     514.4\n",
       "BNB      95.8\n",
       "USDT     76.3\n",
       "SOL      57.9\n",
       "ADA      45.7\n",
       "USDC     41.0\n",
       "XRP      38.7\n",
       "DOT      28.8\n",
       "LUNA     25.8\n",
       "Name: Market caps of top 10 cryptocurrencies in billions USD, dtype: float64"
      ]
     },
     "execution_count": 9,
     "metadata": {},
     "output_type": "execute_result"
    }
   ],
   "source": [
    "market_caps"
   ]
  },
  {
   "cell_type": "markdown",
   "id": "nonprofit-binary",
   "metadata": {},
   "source": [
    "It seems like a little bit of a pain in the ass to do this step by step, but we can do this all at once with `pd.Series` constructor for dicts:"
   ]
  },
  {
   "cell_type": "code",
   "execution_count": 10,
   "id": "moral-performer",
   "metadata": {},
   "outputs": [
    {
     "data": {
      "text/plain": [
       "BTC     954.7\n",
       "ETH     514.4\n",
       "BNB      95.8\n",
       "USDT     76.3\n",
       "SOL      57.9\n",
       "ADA      45.7\n",
       "USDC     41.0\n",
       "XRP      38.7\n",
       "DOT      28.8\n",
       "LUNA     25.8\n",
       "Name: Market caps of top 10 cryptocurrencies in billions USD, dtype: float64"
      ]
     },
     "execution_count": 10,
     "metadata": {},
     "output_type": "execute_result"
    }
   ],
   "source": [
    "pd.Series({\n",
    "    'BTC': 954.7, \n",
    "    'ETH': 514.4, \n",
    "    'BNB': 95.8, \n",
    "    'USDT': 76.3, \n",
    "    'SOL': 57.9, \n",
    "    'ADA': 45.7, \n",
    "    'USDC': 41.0, \n",
    "    'XRP': 38.7, \n",
    "    'DOT': 28.8, \n",
    "    'LUNA': 25.8\n",
    "}, name='Market caps of top 10 cryptocurrencies in billions USD')"
   ]
  },
  {
   "cell_type": "markdown",
   "id": "weekly-entry",
   "metadata": {},
   "source": [
    "or using lists:"
   ]
  },
  {
   "cell_type": "code",
   "execution_count": 11,
   "id": "painful-night",
   "metadata": {},
   "outputs": [
    {
     "data": {
      "text/plain": [
       "BTC     954.7\n",
       "ETH     514.4\n",
       "BNB      95.8\n",
       "USDT     76.3\n",
       "SOL      57.9\n",
       "ADA      45.7\n",
       "USDC     41.0\n",
       "XRP      38.7\n",
       "DOT      28.8\n",
       "LUNA     25.8\n",
       "Name: Market caps of top 10 cryptocurrencies in billions USD, dtype: float64"
      ]
     },
     "execution_count": 11,
     "metadata": {},
     "output_type": "execute_result"
    }
   ],
   "source": [
    "pd.Series(\n",
    "    [954.7, 514.4, 95.8, 76.3, 57.9, 45.7, 41.0, 38.7, 28.8, 25.8],\n",
    "    index=['BTC', 'ETH', 'BNB', 'USDT', 'SOL', 'ADA', 'USDC', 'XRP', 'DOT', 'LUNA'],\n",
    "    name='Market caps of top 10 cryptocurrencies in billions USD'\n",
    ")"
   ]
  },
  {
   "cell_type": "markdown",
   "id": "reverse-separate",
   "metadata": {},
   "source": [
    "tldr; Series construction is pretty intuitive and **very** flexible"
   ]
  },
  {
   "cell_type": "markdown",
   "id": "right-teacher",
   "metadata": {},
   "source": [
    "## Series Indexes"
   ]
  },
  {
   "cell_type": "markdown",
   "id": "rental-diana",
   "metadata": {},
   "source": [
    "Indices are very important to understand for both `pd.DataFrame` and `pd.Series`, and we'll start looking at indices with Series here.  When you access an item from the series, you can do it by **index** value or **location**.  To access by index you can simple do:"
   ]
  },
  {
   "cell_type": "code",
   "execution_count": 12,
   "id": "floral-enhancement",
   "metadata": {},
   "outputs": [
    {
     "data": {
      "text/plain": [
       "954.7"
      ]
     },
     "execution_count": 12,
     "metadata": {},
     "output_type": "execute_result"
    }
   ],
   "source": [
    "market_caps['BTC']"
   ]
  },
  {
   "cell_type": "code",
   "execution_count": 13,
   "id": "possible-break",
   "metadata": {},
   "outputs": [
    {
     "data": {
      "text/plain": [
       "41.0"
      ]
     },
     "execution_count": 13,
     "metadata": {},
     "output_type": "execute_result"
    }
   ],
   "source": [
    "market_caps['USDC']"
   ]
  },
  {
   "cell_type": "markdown",
   "id": "subsequent-centre",
   "metadata": {},
   "source": [
    "---\n",
    "**note**: one thing that many people mess up at the beginning is thinking that the `[*]` syntax is for positional access.  This mistakes happens because the **default** index for both `pd.Series` and `pd.DataFrame` is a sequential index, so index access and location access is the same.  **HOWEVER** this is absolutely not true once the list is change (e.g. it's sorted).\n",
    "\n",
    "Here's an example:"
   ]
  },
  {
   "cell_type": "code",
   "execution_count": 14,
   "id": "random-ceremony",
   "metadata": {},
   "outputs": [],
   "source": [
    "series = pd.Series([10, 2, 3])"
   ]
  },
  {
   "cell_type": "code",
   "execution_count": 15,
   "id": "parliamentary-volunteer",
   "metadata": {},
   "outputs": [
    {
     "data": {
      "text/plain": [
       "10"
      ]
     },
     "execution_count": 15,
     "metadata": {},
     "output_type": "execute_result"
    }
   ],
   "source": [
    "series[0] # we expect 10"
   ]
  },
  {
   "cell_type": "code",
   "execution_count": 16,
   "id": "timely-greek",
   "metadata": {},
   "outputs": [
    {
     "data": {
      "text/plain": [
       "3"
      ]
     },
     "execution_count": 16,
     "metadata": {},
     "output_type": "execute_result"
    }
   ],
   "source": [
    "series[2] # we expect 3"
   ]
  },
  {
   "cell_type": "code",
   "execution_count": 17,
   "id": "downtown-accreditation",
   "metadata": {},
   "outputs": [],
   "source": [
    "series.sort_values(inplace=True)"
   ]
  },
  {
   "cell_type": "code",
   "execution_count": 18,
   "id": "alone-tunisia",
   "metadata": {},
   "outputs": [
    {
     "data": {
      "text/plain": [
       "1     2\n",
       "2     3\n",
       "0    10\n",
       "dtype: int64"
      ]
     },
     "execution_count": 18,
     "metadata": {},
     "output_type": "execute_result"
    }
   ],
   "source": [
    "series"
   ]
  },
  {
   "cell_type": "code",
   "execution_count": 19,
   "id": "above-riding",
   "metadata": {},
   "outputs": [
    {
     "data": {
      "text/plain": [
       "10"
      ]
     },
     "execution_count": 19,
     "metadata": {},
     "output_type": "execute_result"
    }
   ],
   "source": [
    "series[0]"
   ]
  },
  {
   "cell_type": "markdown",
   "id": "stuck-denver",
   "metadata": {},
   "source": [
    "You can see above, when we access **index** `0` of the sorted series above, we still get 10, but this is now the 3rd item in the series.  This is a very common error when working with `pandas`.\n",
    "\n",
    "To properly access an element in a series **by position**, use `.iloc[*]`"
   ]
  },
  {
   "cell_type": "code",
   "execution_count": 20,
   "id": "satisfied-invitation",
   "metadata": {},
   "outputs": [
    {
     "data": {
      "text/plain": [
       "10"
      ]
     },
     "execution_count": 20,
     "metadata": {},
     "output_type": "execute_result"
    }
   ],
   "source": [
    "series[0]"
   ]
  },
  {
   "cell_type": "code",
   "execution_count": 21,
   "id": "colored-little",
   "metadata": {},
   "outputs": [
    {
     "data": {
      "text/plain": [
       "2"
      ]
     },
     "execution_count": 21,
     "metadata": {},
     "output_type": "execute_result"
    }
   ],
   "source": [
    "series.iloc[0]"
   ]
  },
  {
   "cell_type": "markdown",
   "id": "considerable-philosophy",
   "metadata": {},
   "source": [
    "---"
   ]
  },
  {
   "cell_type": "markdown",
   "id": "retired-mumbai",
   "metadata": {},
   "source": [
    "Selecting multiple items from the Series can be done by passing in a list:"
   ]
  },
  {
   "cell_type": "code",
   "execution_count": 22,
   "id": "concerned-chart",
   "metadata": {},
   "outputs": [
    {
     "data": {
      "text/plain": [
       "BTC    954.7\n",
       "DOT     28.8\n",
       "Name: Market caps of top 10 cryptocurrencies in billions USD, dtype: float64"
      ]
     },
     "execution_count": 22,
     "metadata": {},
     "output_type": "execute_result"
    }
   ],
   "source": [
    "market_caps[['BTC', 'DOT']]"
   ]
  },
  {
   "cell_type": "markdown",
   "id": "sustainable-color",
   "metadata": {},
   "source": [
    "This also works with `.iloc[*]`"
   ]
  },
  {
   "cell_type": "code",
   "execution_count": 23,
   "id": "fifty-eligibility",
   "metadata": {},
   "outputs": [
    {
     "data": {
      "text/plain": [
       "ETH    514.4\n",
       "ADA     45.7\n",
       "Name: Market caps of top 10 cryptocurrencies in billions USD, dtype: float64"
      ]
     },
     "execution_count": 23,
     "metadata": {},
     "output_type": "execute_result"
    }
   ],
   "source": [
    "market_caps.iloc[[1, 5]]"
   ]
  },
  {
   "cell_type": "markdown",
   "id": "damaged-sheet",
   "metadata": {},
   "source": [
    "Finally, slicing can be done with both index and positional references:"
   ]
  },
  {
   "cell_type": "code",
   "execution_count": 24,
   "id": "welcome-program",
   "metadata": {},
   "outputs": [
    {
     "data": {
      "text/plain": [
       "BTC    954.7\n",
       "ETH    514.4\n",
       "BNB     95.8\n",
       "Name: Market caps of top 10 cryptocurrencies in billions USD, dtype: float64"
      ]
     },
     "execution_count": 24,
     "metadata": {},
     "output_type": "execute_result"
    }
   ],
   "source": [
    "market_caps['BTC':'BNB']"
   ]
  },
  {
   "cell_type": "code",
   "execution_count": 25,
   "id": "alike-wrestling",
   "metadata": {},
   "outputs": [
    {
     "data": {
      "text/plain": [
       "BTC    954.7\n",
       "ETH    514.4\n",
       "Name: Market caps of top 10 cryptocurrencies in billions USD, dtype: float64"
      ]
     },
     "execution_count": 25,
     "metadata": {},
     "output_type": "execute_result"
    }
   ],
   "source": [
    "market_caps.iloc[0:2]"
   ]
  },
  {
   "cell_type": "markdown",
   "id": "irish-enterprise",
   "metadata": {},
   "source": [
    "**note**: slicing with indices is inclusive of the end value (i.e. BNB is included in the result above), however slicing using position excludes the end value, which is consistent with slicing a python list"
   ]
  },
  {
   "cell_type": "markdown",
   "id": "executive-estimate",
   "metadata": {},
   "source": [
    "## Series Filtering"
   ]
  },
  {
   "cell_type": "markdown",
   "id": "powerful-native",
   "metadata": {},
   "source": [
    "If we want to select a subset of a Series by a condition against its value, we can first create a boolean series and then select on that:"
   ]
  },
  {
   "cell_type": "code",
   "execution_count": 26,
   "id": "still-apparel",
   "metadata": {},
   "outputs": [
    {
     "data": {
      "text/plain": [
       "BTC     False\n",
       "ETH     False\n",
       "BNB     False\n",
       "USDT    False\n",
       "SOL     False\n",
       "ADA      True\n",
       "USDC     True\n",
       "XRP      True\n",
       "DOT      True\n",
       "LUNA     True\n",
       "Name: Market caps of top 10 cryptocurrencies in billions USD, dtype: bool"
      ]
     },
     "execution_count": 26,
     "metadata": {},
     "output_type": "execute_result"
    }
   ],
   "source": [
    "market_caps < 50"
   ]
  },
  {
   "cell_type": "code",
   "execution_count": 27,
   "id": "strong-recommendation",
   "metadata": {},
   "outputs": [
    {
     "data": {
      "text/plain": [
       "ADA     45.7\n",
       "USDC    41.0\n",
       "XRP     38.7\n",
       "DOT     28.8\n",
       "LUNA    25.8\n",
       "Name: Market caps of top 10 cryptocurrencies in billions USD, dtype: float64"
      ]
     },
     "execution_count": 27,
     "metadata": {},
     "output_type": "execute_result"
    }
   ],
   "source": [
    "market_caps[market_caps < 50]"
   ]
  },
  {
   "cell_type": "markdown",
   "id": "automatic-wholesale",
   "metadata": {},
   "source": [
    "We can also combine conditions easily, e.g.:"
   ]
  },
  {
   "cell_type": "code",
   "execution_count": 28,
   "id": "funky-basis",
   "metadata": {},
   "outputs": [
    {
     "data": {
      "text/plain": [
       "USDC    41.0\n",
       "LUNA    25.8\n",
       "Name: Market caps of top 10 cryptocurrencies in billions USD, dtype: float64"
      ]
     },
     "execution_count": 28,
     "metadata": {},
     "output_type": "execute_result"
    }
   ],
   "source": [
    "market_caps[(market_caps < 50) & (market_caps.index.str.len() == 4)]"
   ]
  },
  {
   "cell_type": "markdown",
   "id": "helpful-surrey",
   "metadata": {},
   "source": [
    "**note**: you need parentheses around each condition if you want to join them with `&`, `|` or `~` because it has the same priority of operations as the comparison operators"
   ]
  },
  {
   "cell_type": "markdown",
   "id": "expressed-trustee",
   "metadata": {},
   "source": [
    "## Operations and Aggregations"
   ]
  },
  {
   "cell_type": "markdown",
   "id": "speaking-player",
   "metadata": {},
   "source": [
    "Because `pd.Series` run numpy underneath, all operations and aggregations are vectorized under the hood.\n",
    "\n",
    "For example, multiplying by a scalar multiplies every item in the series"
   ]
  },
  {
   "cell_type": "code",
   "execution_count": 29,
   "id": "bigger-grant",
   "metadata": {},
   "outputs": [
    {
     "data": {
      "text/plain": [
       "BTC     9.547000e+11\n",
       "ETH     5.144000e+11\n",
       "BNB     9.580000e+10\n",
       "USDT    7.630000e+10\n",
       "SOL     5.790000e+10\n",
       "ADA     4.570000e+10\n",
       "USDC    4.100000e+10\n",
       "XRP     3.870000e+10\n",
       "DOT     2.880000e+10\n",
       "LUNA    2.580000e+10\n",
       "Name: Market caps of top 10 cryptocurrencies in billions USD, dtype: float64"
      ]
     },
     "execution_count": 29,
     "metadata": {},
     "output_type": "execute_result"
    }
   ],
   "source": [
    "market_caps * 1_000_000_000"
   ]
  },
  {
   "cell_type": "markdown",
   "id": "mathematical-empire",
   "metadata": {},
   "source": [
    "Aggregations are also standard, e.g.:"
   ]
  },
  {
   "cell_type": "code",
   "execution_count": 30,
   "id": "geographic-brazil",
   "metadata": {},
   "outputs": [
    {
     "data": {
      "text/plain": [
       "187.91"
      ]
     },
     "execution_count": 30,
     "metadata": {},
     "output_type": "execute_result"
    }
   ],
   "source": [
    "market_caps.mean()"
   ]
  },
  {
   "cell_type": "code",
   "execution_count": 31,
   "id": "generic-reason",
   "metadata": {},
   "outputs": [
    {
     "data": {
      "text/plain": [
       "1879.0999999999997"
      ]
     },
     "execution_count": 31,
     "metadata": {},
     "output_type": "execute_result"
    }
   ],
   "source": [
    "market_caps.sum()"
   ]
  },
  {
   "cell_type": "code",
   "execution_count": 32,
   "id": "unauthorized-prescription",
   "metadata": {},
   "outputs": [
    {
     "data": {
      "text/plain": [
       "306.96937397003563"
      ]
     },
     "execution_count": 32,
     "metadata": {},
     "output_type": "execute_result"
    }
   ],
   "source": [
    "market_caps.std()"
   ]
  },
  {
   "cell_type": "markdown",
   "id": "current-trauma",
   "metadata": {},
   "source": [
    "In addition, all numpy functions work with Series, since all Series are just `np.ndarray` under the hood:"
   ]
  },
  {
   "cell_type": "code",
   "execution_count": 33,
   "id": "dynamic-congo",
   "metadata": {},
   "outputs": [
    {
     "data": {
      "text/plain": [
       "BTC     6.861397\n",
       "ETH     6.243001\n",
       "BNB     4.562263\n",
       "USDT    4.334673\n",
       "SOL     4.058717\n",
       "ADA     3.822098\n",
       "USDC    3.713572\n",
       "XRP     3.655840\n",
       "DOT     3.360375\n",
       "LUNA    3.250374\n",
       "Name: Market caps of top 10 cryptocurrencies in billions USD, dtype: float64"
      ]
     },
     "execution_count": 33,
     "metadata": {},
     "output_type": "execute_result"
    }
   ],
   "source": [
    "np.log(market_caps)"
   ]
  },
  {
   "cell_type": "code",
   "execution_count": 34,
   "id": "documentary-museum",
   "metadata": {},
   "outputs": [
    {
     "data": {
      "text/plain": [
       "1879.0999999999997"
      ]
     },
     "execution_count": 34,
     "metadata": {},
     "output_type": "execute_result"
    }
   ],
   "source": [
    "np.sum(market_caps)"
   ]
  },
  {
   "cell_type": "markdown",
   "id": "prerequisite-poverty",
   "metadata": {},
   "source": [
    "## Mutating the Series"
   ]
  },
  {
   "cell_type": "markdown",
   "id": "married-montana",
   "metadata": {},
   "source": [
    "While most Series functions in pandas will not modify the original Series (e.g. `*`, filtering and slicing will all create new `pd.Series`), we can modify elements of a series in place:"
   ]
  },
  {
   "cell_type": "code",
   "execution_count": 35,
   "id": "expected-senate",
   "metadata": {},
   "outputs": [
    {
     "data": {
      "text/plain": [
       "BTC     954.7\n",
       "ETH     514.4\n",
       "BNB      95.8\n",
       "USDT     76.3\n",
       "SOL      57.9\n",
       "ADA      45.7\n",
       "USDC     41.0\n",
       "XRP      38.7\n",
       "DOT      28.8\n",
       "LUNA     25.8\n",
       "Name: Market caps of top 10 cryptocurrencies in billions USD, dtype: float64"
      ]
     },
     "execution_count": 35,
     "metadata": {},
     "output_type": "execute_result"
    }
   ],
   "source": [
    "market_caps"
   ]
  },
  {
   "cell_type": "code",
   "execution_count": 36,
   "id": "mature-ballot",
   "metadata": {},
   "outputs": [
    {
     "data": {
      "text/plain": [
       "BTC     1000.0\n",
       "ETH      514.4\n",
       "BNB       95.8\n",
       "USDT      76.3\n",
       "SOL       57.9\n",
       "ADA       45.7\n",
       "USDC      41.0\n",
       "XRP       38.7\n",
       "DOT       28.8\n",
       "LUNA      25.8\n",
       "Name: Market caps of top 10 cryptocurrencies in billions USD, dtype: float64"
      ]
     },
     "execution_count": 36,
     "metadata": {},
     "output_type": "execute_result"
    }
   ],
   "source": [
    "market_caps['BTC'] = 1000\n",
    "market_caps"
   ]
  },
  {
   "cell_type": "code",
   "execution_count": 37,
   "id": "reliable-blowing",
   "metadata": {},
   "outputs": [
    {
     "data": {
      "text/plain": [
       "BTC     1000.0\n",
       "ETH      514.4\n",
       "BNB       95.8\n",
       "USDT       0.0\n",
       "SOL       57.9\n",
       "ADA       45.7\n",
       "USDC      41.0\n",
       "XRP       38.7\n",
       "DOT       28.8\n",
       "LUNA      25.8\n",
       "Name: Market caps of top 10 cryptocurrencies in billions USD, dtype: float64"
      ]
     },
     "execution_count": 37,
     "metadata": {},
     "output_type": "execute_result"
    }
   ],
   "source": [
    "market_caps.iloc[3] = 0\n",
    "market_caps"
   ]
  },
  {
   "cell_type": "code",
   "execution_count": 38,
   "id": "partial-luxury",
   "metadata": {},
   "outputs": [
    {
     "data": {
      "text/plain": [
       "BTC     1000.0\n",
       "ETH      514.4\n",
       "BNB       95.8\n",
       "USDT       0.0\n",
       "SOL       57.9\n",
       "ADA        0.0\n",
       "USDC       0.0\n",
       "XRP        0.0\n",
       "DOT        0.0\n",
       "LUNA       0.0\n",
       "Name: Market caps of top 10 cryptocurrencies in billions USD, dtype: float64"
      ]
     },
     "execution_count": 38,
     "metadata": {},
     "output_type": "execute_result"
    }
   ],
   "source": [
    "market_caps[market_caps < 50] = 0\n",
    "market_caps"
   ]
  },
  {
   "cell_type": "code",
   "execution_count": null,
   "id": "hired-serum",
   "metadata": {},
   "outputs": [],
   "source": []
  }
 ],
 "metadata": {
  "kernelspec": {
   "display_name": "Python 3",
   "language": "python",
   "name": "python3"
  },
  "language_info": {
   "codemirror_mode": {
    "name": "ipython",
    "version": 3
   },
   "file_extension": ".py",
   "mimetype": "text/x-python",
   "name": "python",
   "nbconvert_exporter": "python",
   "pygments_lexer": "ipython3",
   "version": "3.7.9"
  }
 },
 "nbformat": 4,
 "nbformat_minor": 5
}
