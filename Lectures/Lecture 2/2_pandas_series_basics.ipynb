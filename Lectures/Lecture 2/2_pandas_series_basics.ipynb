{
 "cells": [
  {
   "cell_type": "markdown",
   "id": "26244aee-ad60-4114-9180-fd2d7e4b77e3",
   "metadata": {
    "tags": []
   },
   "source": [
    "# Pandas Series (`pd.Series`)"
   ]
  },
  {
   "cell_type": "markdown",
   "id": "4b8195b9-d431-423f-b0c7-ad42424ec252",
   "metadata": {},
   "source": [
    "At the beginning of most EDAs, you will see the following two lines which import the pandas and numpy libraries.  The general convention is to use `pd` to represent the pandas library and `np` to represent the numpy library"
   ]
  },
  {
   "cell_type": "code",
   "execution_count": 1,
   "id": "13a8bef8-42a4-4702-a3a4-a842a10fd334",
   "metadata": {},
   "outputs": [],
   "source": [
    "import pandas as pd\n",
    "import numpy as np"
   ]
  },
  {
   "cell_type": "markdown",
   "id": "b575b117-10c3-4650-8df5-78acfce02f3b",
   "metadata": {},
   "source": [
    "## Pandas Series"
   ]
  },
  {
   "cell_type": "markdown",
   "id": "e613b3bf-6aa6-4665-bd59-23e8da7e16a8",
   "metadata": {},
   "source": [
    "The building block of pandas is a `pd.Series` object, which is an indexed, sequential list of data.  We will be using crypto market caps below to set the example:"
   ]
  },
  {
   "cell_type": "code",
   "execution_count": 2,
   "id": "2116819f-2f1e-48b2-bef9-58a044a50674",
   "metadata": {},
   "outputs": [],
   "source": [
    "market_caps = pd.Series([954.7, 514.4, 95.8, 76.3, 57.9, 45.7, 41.0, 38.7, 28.8, 25.8])"
   ]
  },
  {
   "cell_type": "code",
   "execution_count": 3,
   "id": "477f9fdb-144a-4a63-b9ff-5e4ba0a557e5",
   "metadata": {},
   "outputs": [
    {
     "data": {
      "text/plain": [
       "0    954.7\n",
       "1    514.4\n",
       "2     95.8\n",
       "3     76.3\n",
       "4     57.9\n",
       "5     45.7\n",
       "6     41.0\n",
       "7     38.7\n",
       "8     28.8\n",
       "9     25.8\n",
       "dtype: float64"
      ]
     },
     "execution_count": 3,
     "metadata": {},
     "output_type": "execute_result"
    }
   ],
   "source": [
    "market_caps"
   ]
  },
  {
   "cell_type": "markdown",
   "id": "09cd55d0-44fd-491e-a92e-d62dad5ad8d7",
   "metadata": {},
   "source": [
    "To make this data clearer, we can add a `name` to the Series:"
   ]
  },
  {
   "cell_type": "code",
   "execution_count": 4,
   "id": "fe23a536-350a-49b0-90fb-5c132265f2ae",
   "metadata": {},
   "outputs": [],
   "source": [
    "market_caps.name = 'Market caps of top 10 cryptocurrencies in billions USD'"
   ]
  },
  {
   "cell_type": "code",
   "execution_count": 5,
   "id": "9973941b-1c8b-4b05-ac0a-5a3a528df23a",
   "metadata": {},
   "outputs": [
    {
     "data": {
      "text/plain": [
       "0    954.7\n",
       "1    514.4\n",
       "2     95.8\n",
       "3     76.3\n",
       "4     57.9\n",
       "5     45.7\n",
       "6     41.0\n",
       "7     38.7\n",
       "8     28.8\n",
       "9     25.8\n",
       "Name: Market caps of top 10 cryptocurrencies in billions USD, dtype: float64"
      ]
     },
     "execution_count": 5,
     "metadata": {},
     "output_type": "execute_result"
    }
   ],
   "source": [
    "market_caps"
   ]
  },
  {
   "cell_type": "markdown",
   "id": "6043015c-0119-4cca-b5dd-7fec5b69e0dd",
   "metadata": {},
   "source": [
    "we can see that the data itself is typed, i.e.:"
   ]
  },
  {
   "cell_type": "code",
   "execution_count": 6,
   "id": "7ac9bba5-e909-4319-9fbd-0b33a8c7879d",
   "metadata": {},
   "outputs": [
    {
     "data": {
      "text/plain": [
       "dtype('float64')"
      ]
     },
     "execution_count": 6,
     "metadata": {},
     "output_type": "execute_result"
    }
   ],
   "source": [
    "market_caps.dtype"
   ]
  },
  {
   "cell_type": "markdown",
   "id": "5f884e0e-714f-4a3e-93de-5736782de892",
   "metadata": {},
   "source": [
    "and we can see that the values of the Series are just simple numpy arrays"
   ]
  },
  {
   "cell_type": "code",
   "execution_count": 7,
   "id": "0671c9e3-ad66-43de-9be5-1ea4b3840fa0",
   "metadata": {},
   "outputs": [
    {
     "data": {
      "text/plain": [
       "numpy.ndarray"
      ]
     },
     "execution_count": 7,
     "metadata": {},
     "output_type": "execute_result"
    }
   ],
   "source": [
    "type(market_caps.values)"
   ]
  },
  {
   "cell_type": "markdown",
   "id": "5efb939e-040e-4d44-a179-8adf10e09ad7",
   "metadata": {},
   "source": [
    "One key difference between `np.ndarray` and `pd.Series` is that `pd.Series` is indexed.  In the above example, the index happens to be a sequential index from 0 to 9, however we can easily change this index:"
   ]
  },
  {
   "cell_type": "code",
   "execution_count": 8,
   "id": "a4279c08-c0d7-4e52-927c-7c5e0410f2e4",
   "metadata": {},
   "outputs": [],
   "source": [
    "market_caps.index = ['BTC', 'ETH', 'BNB', 'USDT', 'SOL', 'ADA', 'USDC', 'XRP', 'DOT', 'LUNA']"
   ]
  },
  {
   "cell_type": "code",
   "execution_count": 9,
   "id": "968ebcc5-5df1-4b73-a39a-8cbac42acb31",
   "metadata": {},
   "outputs": [
    {
     "data": {
      "text/plain": [
       "BTC     954.7\n",
       "ETH     514.4\n",
       "BNB      95.8\n",
       "USDT     76.3\n",
       "SOL      57.9\n",
       "ADA      45.7\n",
       "USDC     41.0\n",
       "XRP      38.7\n",
       "DOT      28.8\n",
       "LUNA     25.8\n",
       "Name: Market caps of top 10 cryptocurrencies in billions USD, dtype: float64"
      ]
     },
     "execution_count": 9,
     "metadata": {},
     "output_type": "execute_result"
    }
   ],
   "source": [
    "market_caps"
   ]
  },
  {
   "cell_type": "markdown",
   "id": "8151a78d-ca8b-41e1-9cad-cd6389dc2094",
   "metadata": {},
   "source": [
    "It seems like a little bit of a pain in the ass to do this step by step, but we can do this all at once with `pd.Series` constructor for dicts:"
   ]
  },
  {
   "cell_type": "code",
   "execution_count": 10,
   "id": "5303b351-96f8-4cc7-9ea0-112d74589618",
   "metadata": {},
   "outputs": [
    {
     "data": {
      "text/plain": [
       "BTC     954.7\n",
       "ETH     514.4\n",
       "BNB      95.8\n",
       "USDT     76.3\n",
       "SOL      57.9\n",
       "ADA      45.7\n",
       "USDC     41.0\n",
       "XRP      38.7\n",
       "DOT      28.8\n",
       "LUNA     25.8\n",
       "Name: Market caps of top 10 cryptocurrencies in billions USD, dtype: float64"
      ]
     },
     "execution_count": 10,
     "metadata": {},
     "output_type": "execute_result"
    }
   ],
   "source": [
    "pd.Series({\n",
    "    'BTC': 954.7, \n",
    "    'ETH': 514.4, \n",
    "    'BNB': 95.8, \n",
    "    'USDT': 76.3, \n",
    "    'SOL': 57.9, \n",
    "    'ADA': 45.7, \n",
    "    'USDC': 41.0, \n",
    "    'XRP': 38.7, \n",
    "    'DOT': 28.8, \n",
    "    'LUNA': 25.8\n",
    "}, name='Market caps of top 10 cryptocurrencies in billions USD')"
   ]
  },
  {
   "cell_type": "markdown",
   "id": "c1f062e0-de32-4e95-a164-baefac7f5f28",
   "metadata": {},
   "source": [
    "or using lists:"
   ]
  },
  {
   "cell_type": "code",
   "execution_count": 11,
   "id": "cc12611e-b825-4235-a65c-183d530481bd",
   "metadata": {},
   "outputs": [
    {
     "data": {
      "text/plain": [
       "BTC     954.7\n",
       "ETH     514.4\n",
       "BNB      95.8\n",
       "USDT     76.3\n",
       "SOL      57.9\n",
       "ADA      45.7\n",
       "USDC     41.0\n",
       "XRP      38.7\n",
       "DOT      28.8\n",
       "LUNA     25.8\n",
       "Name: Market caps of top 10 cryptocurrencies in billions USD, dtype: float64"
      ]
     },
     "execution_count": 11,
     "metadata": {},
     "output_type": "execute_result"
    }
   ],
   "source": [
    "pd.Series(\n",
    "    [954.7, 514.4, 95.8, 76.3, 57.9, 45.7, 41.0, 38.7, 28.8, 25.8],\n",
    "    index=['BTC', 'ETH', 'BNB', 'USDT', 'SOL', 'ADA', 'USDC', 'XRP', 'DOT', 'LUNA'],\n",
    "    name='Market caps of top 10 cryptocurrencies in billions USD'\n",
    ")"
   ]
  },
  {
   "cell_type": "markdown",
   "id": "a407c2e5-651c-4ff0-a619-f96a47fd0af5",
   "metadata": {},
   "source": [
    "tldr; Series construction is pretty intuitive and **very** flexible"
   ]
  },
  {
   "cell_type": "markdown",
   "id": "f5a2336c-225e-45d1-bcbf-c4348a8d13c6",
   "metadata": {},
   "source": [
    "## Series Indexes"
   ]
  },
  {
   "cell_type": "markdown",
   "id": "6e27679c-1341-4ba5-862e-52e60c9eabfb",
   "metadata": {},
   "source": [
    "Indices are very important to understand for both `pd.DataFrame` and `pd.Series`, and we'll start looking at indices with Series here.  When you access an item from the series, you can do it by **index** value or **location**.  To access by index you can simple do:"
   ]
  },
  {
   "cell_type": "code",
   "execution_count": 12,
   "id": "9d599594-daea-494e-a5c7-4dde173d5023",
   "metadata": {},
   "outputs": [
    {
     "data": {
      "text/plain": [
       "954.7"
      ]
     },
     "execution_count": 12,
     "metadata": {},
     "output_type": "execute_result"
    }
   ],
   "source": [
    "market_caps['BTC']"
   ]
  },
  {
   "cell_type": "code",
   "execution_count": 13,
   "id": "ba8ef33b-c6db-49a4-b5fc-46982e1d2ad9",
   "metadata": {},
   "outputs": [
    {
     "data": {
      "text/plain": [
       "41.0"
      ]
     },
     "execution_count": 13,
     "metadata": {},
     "output_type": "execute_result"
    }
   ],
   "source": [
    "market_caps['USDC']"
   ]
  },
  {
   "cell_type": "markdown",
   "id": "c3e1dc7c-82e3-4183-ae17-d235dfa4b194",
   "metadata": {},
   "source": [
    "---\n",
    "**note**: one thing that many people mess up at the beginning is thinking that the `[*]` syntax is for positional access.  This mistakes happens because the **default** index for both `pd.Series` and `pd.DataFrame` is a sequential index, so index access and location access is the same.  **HOWEVER** this is absolutely not true once the list is change (e.g. it's sorted).\n",
    "\n",
    "Here's an example:"
   ]
  },
  {
   "cell_type": "code",
   "execution_count": 14,
   "id": "5851db03-27da-4366-8920-373f85d3cd61",
   "metadata": {},
   "outputs": [],
   "source": [
    "series = pd.Series([10, 2, 3])"
   ]
  },
  {
   "cell_type": "code",
   "execution_count": 15,
   "id": "9409d125-6d68-4de3-a201-ab7846ed19bd",
   "metadata": {},
   "outputs": [
    {
     "data": {
      "text/plain": [
       "10"
      ]
     },
     "execution_count": 15,
     "metadata": {},
     "output_type": "execute_result"
    }
   ],
   "source": [
    "series[0] # we expect 10"
   ]
  },
  {
   "cell_type": "code",
   "execution_count": 16,
   "id": "50e406bb-bc88-4b67-8997-bd45153a2ee9",
   "metadata": {},
   "outputs": [
    {
     "data": {
      "text/plain": [
       "3"
      ]
     },
     "execution_count": 16,
     "metadata": {},
     "output_type": "execute_result"
    }
   ],
   "source": [
    "series[2] # we expect 3"
   ]
  },
  {
   "cell_type": "code",
   "execution_count": 17,
   "id": "6e9bba61-3021-4867-a364-f568162915ad",
   "metadata": {},
   "outputs": [],
   "source": [
    "series.sort_values(inplace=True)"
   ]
  },
  {
   "cell_type": "code",
   "execution_count": 18,
   "id": "fa1af063-df02-46dd-97ca-839025642d12",
   "metadata": {},
   "outputs": [
    {
     "data": {
      "text/plain": [
       "1     2\n",
       "2     3\n",
       "0    10\n",
       "dtype: int64"
      ]
     },
     "execution_count": 18,
     "metadata": {},
     "output_type": "execute_result"
    }
   ],
   "source": [
    "series"
   ]
  },
  {
   "cell_type": "code",
   "execution_count": 19,
   "id": "65abb898-a984-4fd9-8abc-300906717f8b",
   "metadata": {},
   "outputs": [
    {
     "data": {
      "text/plain": [
       "10"
      ]
     },
     "execution_count": 19,
     "metadata": {},
     "output_type": "execute_result"
    }
   ],
   "source": [
    "series[0]"
   ]
  },
  {
   "cell_type": "markdown",
   "id": "d22a6efa-c38f-428d-83c3-476ee3978c74",
   "metadata": {},
   "source": [
    "You can see above, when we access **index** `0` of the sorted series above, we still get 10, but this is now the 3rd item in the series.  This is a very common error when working with `pandas`.\n",
    "\n",
    "To properly access an element in a series **by position**, use `.iloc[*]`"
   ]
  },
  {
   "cell_type": "code",
   "execution_count": 20,
   "id": "b8e9e78d-ff70-4c27-a64b-420f10acdc33",
   "metadata": {},
   "outputs": [
    {
     "data": {
      "text/plain": [
       "10"
      ]
     },
     "execution_count": 20,
     "metadata": {},
     "output_type": "execute_result"
    }
   ],
   "source": [
    "series[0]"
   ]
  },
  {
   "cell_type": "code",
   "execution_count": 21,
   "id": "c2361bc1-ff91-451f-ba7a-20c732c05490",
   "metadata": {},
   "outputs": [
    {
     "data": {
      "text/plain": [
       "2"
      ]
     },
     "execution_count": 21,
     "metadata": {},
     "output_type": "execute_result"
    }
   ],
   "source": [
    "series.iloc[0]"
   ]
  },
  {
   "cell_type": "markdown",
   "id": "d97dc1b1-dd82-4b8a-8e5b-1ce5c41b5ddf",
   "metadata": {},
   "source": [
    "---"
   ]
  },
  {
   "cell_type": "markdown",
   "id": "a80af29a-a0d5-45c3-a560-4c2420ecb2c6",
   "metadata": {},
   "source": [
    "Selecting multiple items from the Series can be done by passing in a list:"
   ]
  },
  {
   "cell_type": "code",
   "execution_count": 22,
   "id": "efee038c-189e-4940-8da2-dc5f00e79b10",
   "metadata": {},
   "outputs": [
    {
     "data": {
      "text/plain": [
       "BTC    954.7\n",
       "DOT     28.8\n",
       "Name: Market caps of top 10 cryptocurrencies in billions USD, dtype: float64"
      ]
     },
     "execution_count": 22,
     "metadata": {},
     "output_type": "execute_result"
    }
   ],
   "source": [
    "market_caps[['BTC', 'DOT']]"
   ]
  },
  {
   "cell_type": "markdown",
   "id": "0814996d-b314-46e9-91a0-8ac20bf91a5a",
   "metadata": {},
   "source": [
    "This also works with `.iloc[*]`"
   ]
  },
  {
   "cell_type": "code",
   "execution_count": 23,
   "id": "3712efe8-c0ed-42b3-91fd-fdd0580ca7ac",
   "metadata": {},
   "outputs": [
    {
     "data": {
      "text/plain": [
       "ETH    514.4\n",
       "ADA     45.7\n",
       "Name: Market caps of top 10 cryptocurrencies in billions USD, dtype: float64"
      ]
     },
     "execution_count": 23,
     "metadata": {},
     "output_type": "execute_result"
    }
   ],
   "source": [
    "market_caps.iloc[[1, 5]]"
   ]
  },
  {
   "cell_type": "markdown",
   "id": "da219003-5366-4096-b08b-f61ac5ddbbf1",
   "metadata": {},
   "source": [
    "Finally, slicing can be done with both index and positional references:"
   ]
  },
  {
   "cell_type": "code",
   "execution_count": 24,
   "id": "3f98811c-14e6-459a-8c52-bc09dee4d8ea",
   "metadata": {},
   "outputs": [
    {
     "data": {
      "text/plain": [
       "BTC    954.7\n",
       "ETH    514.4\n",
       "BNB     95.8\n",
       "Name: Market caps of top 10 cryptocurrencies in billions USD, dtype: float64"
      ]
     },
     "execution_count": 24,
     "metadata": {},
     "output_type": "execute_result"
    }
   ],
   "source": [
    "market_caps['BTC':'BNB']"
   ]
  },
  {
   "cell_type": "code",
   "execution_count": 25,
   "id": "6c1d9775-ee8e-4d76-a498-280c113e5a03",
   "metadata": {},
   "outputs": [
    {
     "data": {
      "text/plain": [
       "BTC    954.7\n",
       "ETH    514.4\n",
       "Name: Market caps of top 10 cryptocurrencies in billions USD, dtype: float64"
      ]
     },
     "execution_count": 25,
     "metadata": {},
     "output_type": "execute_result"
    }
   ],
   "source": [
    "market_caps.iloc[0:2]"
   ]
  },
  {
   "cell_type": "markdown",
   "id": "de98ba0b-2c9f-4054-811c-768c3068cd8b",
   "metadata": {},
   "source": [
    "**note**: slicing with indices is inclusive of the end value (i.e. BNB is included in the result above), however slicing using position excludes the end value, which is consistent with slicing a python list"
   ]
  },
  {
   "cell_type": "markdown",
   "id": "a7dde161-7623-4d5a-abd1-9328bfb87fcb",
   "metadata": {},
   "source": [
    "## Series Filtering"
   ]
  },
  {
   "cell_type": "markdown",
   "id": "7f8f4793-a29e-49cc-8c59-e0a3ef7c0153",
   "metadata": {},
   "source": [
    "If we want to select a subset of a Series by a condition against its value, we can first create a boolean series and then select on that:"
   ]
  },
  {
   "cell_type": "code",
   "execution_count": 26,
   "id": "9a9fa8ec-c47e-4395-b108-65ba8333bb98",
   "metadata": {},
   "outputs": [
    {
     "data": {
      "text/plain": [
       "BTC     False\n",
       "ETH     False\n",
       "BNB     False\n",
       "USDT    False\n",
       "SOL     False\n",
       "ADA      True\n",
       "USDC     True\n",
       "XRP      True\n",
       "DOT      True\n",
       "LUNA     True\n",
       "Name: Market caps of top 10 cryptocurrencies in billions USD, dtype: bool"
      ]
     },
     "execution_count": 26,
     "metadata": {},
     "output_type": "execute_result"
    }
   ],
   "source": [
    "market_caps < 50"
   ]
  },
  {
   "cell_type": "code",
   "execution_count": 27,
   "id": "3bd1511d-dec0-42f7-b81f-047f0e934cf0",
   "metadata": {},
   "outputs": [
    {
     "data": {
      "text/plain": [
       "ADA     45.7\n",
       "USDC    41.0\n",
       "XRP     38.7\n",
       "DOT     28.8\n",
       "LUNA    25.8\n",
       "Name: Market caps of top 10 cryptocurrencies in billions USD, dtype: float64"
      ]
     },
     "execution_count": 27,
     "metadata": {},
     "output_type": "execute_result"
    }
   ],
   "source": [
    "market_caps[market_caps < 50]"
   ]
  },
  {
   "cell_type": "markdown",
   "id": "b48317f5-4805-4a90-8933-3a4cff6ccb61",
   "metadata": {},
   "source": [
    "We can also combine conditions easily, e.g.:"
   ]
  },
  {
   "cell_type": "code",
   "execution_count": 28,
   "id": "229e9026-8b5b-459e-a374-30fd046686f6",
   "metadata": {},
   "outputs": [
    {
     "data": {
      "text/plain": [
       "USDC    41.0\n",
       "LUNA    25.8\n",
       "Name: Market caps of top 10 cryptocurrencies in billions USD, dtype: float64"
      ]
     },
     "execution_count": 28,
     "metadata": {},
     "output_type": "execute_result"
    }
   ],
   "source": [
    "market_caps[(market_caps < 50) & (market_caps.index.str.len() == 4)]"
   ]
  },
  {
   "cell_type": "markdown",
   "id": "831bb7aa-1510-4e4b-a5fe-a26254e0ba7b",
   "metadata": {},
   "source": [
    "**note**: you need parentheses around each condition if you want to join them with `&`, `|` or `~` because it has the same priority of operations as the comparison operators"
   ]
  },
  {
   "cell_type": "markdown",
   "id": "178f8512-a63a-44dc-8555-5d7ccae022e0",
   "metadata": {},
   "source": [
    "## Operations and Aggregations"
   ]
  },
  {
   "cell_type": "markdown",
   "id": "b1b8653b-265f-48a7-97cd-8dd1011f02c7",
   "metadata": {},
   "source": [
    "Because `pd.Series` run numpy underneath, all operations and aggregations are vectorized under the hood.\n",
    "\n",
    "For example, multiplying by a scalar multiplies every item in the series"
   ]
  },
  {
   "cell_type": "code",
   "execution_count": 29,
   "id": "8c2035eb-b138-4ae6-b3bf-1e9f3be4d16f",
   "metadata": {},
   "outputs": [
    {
     "data": {
      "text/plain": [
       "BTC     9.547000e+11\n",
       "ETH     5.144000e+11\n",
       "BNB     9.580000e+10\n",
       "USDT    7.630000e+10\n",
       "SOL     5.790000e+10\n",
       "ADA     4.570000e+10\n",
       "USDC    4.100000e+10\n",
       "XRP     3.870000e+10\n",
       "DOT     2.880000e+10\n",
       "LUNA    2.580000e+10\n",
       "Name: Market caps of top 10 cryptocurrencies in billions USD, dtype: float64"
      ]
     },
     "execution_count": 29,
     "metadata": {},
     "output_type": "execute_result"
    }
   ],
   "source": [
    "market_caps * 1_000_000_000"
   ]
  },
  {
   "cell_type": "markdown",
   "id": "cd3c9d23-738b-4c74-bc5b-60ec4dcf4ff8",
   "metadata": {},
   "source": [
    "Aggregations are also standard, e.g.:"
   ]
  },
  {
   "cell_type": "code",
   "execution_count": 30,
   "id": "4b5e21f9-5139-4b31-ade9-9bf371669c58",
   "metadata": {},
   "outputs": [
    {
     "data": {
      "text/plain": [
       "187.90999999999997"
      ]
     },
     "execution_count": 30,
     "metadata": {},
     "output_type": "execute_result"
    }
   ],
   "source": [
    "market_caps.mean()"
   ]
  },
  {
   "cell_type": "code",
   "execution_count": 31,
   "id": "a92ce033-88bf-456d-a9ac-437c6b51afa7",
   "metadata": {},
   "outputs": [
    {
     "data": {
      "text/plain": [
       "1879.0999999999997"
      ]
     },
     "execution_count": 31,
     "metadata": {},
     "output_type": "execute_result"
    }
   ],
   "source": [
    "market_caps.sum()"
   ]
  },
  {
   "cell_type": "code",
   "execution_count": 32,
   "id": "f9805d06-ab02-4e81-9cd2-91fa75393eb9",
   "metadata": {},
   "outputs": [
    {
     "data": {
      "text/plain": [
       "306.9693739700356"
      ]
     },
     "execution_count": 32,
     "metadata": {},
     "output_type": "execute_result"
    }
   ],
   "source": [
    "market_caps.std()"
   ]
  },
  {
   "cell_type": "markdown",
   "id": "025f8d28-8821-4af7-9723-57e8242d536a",
   "metadata": {},
   "source": [
    "In addition, all numpy functions work with Series, since all Series are just `np.ndarray` under the hood:"
   ]
  },
  {
   "cell_type": "code",
   "execution_count": 33,
   "id": "b810de43-2412-4077-a197-9d7d3e029e05",
   "metadata": {},
   "outputs": [
    {
     "data": {
      "text/plain": [
       "BTC     6.861397\n",
       "ETH     6.243001\n",
       "BNB     4.562263\n",
       "USDT    4.334673\n",
       "SOL     4.058717\n",
       "ADA     3.822098\n",
       "USDC    3.713572\n",
       "XRP     3.655840\n",
       "DOT     3.360375\n",
       "LUNA    3.250374\n",
       "Name: Market caps of top 10 cryptocurrencies in billions USD, dtype: float64"
      ]
     },
     "execution_count": 33,
     "metadata": {},
     "output_type": "execute_result"
    }
   ],
   "source": [
    "np.log(market_caps)"
   ]
  },
  {
   "cell_type": "code",
   "execution_count": 34,
   "id": "c7f67737-67ab-4cca-8db7-6646ad378d92",
   "metadata": {},
   "outputs": [
    {
     "data": {
      "text/plain": [
       "1879.0999999999997"
      ]
     },
     "execution_count": 34,
     "metadata": {},
     "output_type": "execute_result"
    }
   ],
   "source": [
    "np.sum(market_caps)"
   ]
  },
  {
   "cell_type": "markdown",
   "id": "8b8b5a22-3bed-4d89-b388-52ba9a10e4f6",
   "metadata": {},
   "source": [
    "## Mutating the Series"
   ]
  },
  {
   "cell_type": "markdown",
   "id": "507a6d51-0302-44fe-8caa-8f0c4fac8eb6",
   "metadata": {},
   "source": [
    "While most Series functions in pandas will not modify the original Series (e.g. `*`, filtering and slicing will all create new `pd.Series`), we can modify elements of a series in place:"
   ]
  },
  {
   "cell_type": "code",
   "execution_count": 35,
   "id": "79a61d7f-6ece-4501-a984-aad7d5e1e40a",
   "metadata": {},
   "outputs": [
    {
     "data": {
      "text/plain": [
       "BTC     954.7\n",
       "ETH     514.4\n",
       "BNB      95.8\n",
       "USDT     76.3\n",
       "SOL      57.9\n",
       "ADA      45.7\n",
       "USDC     41.0\n",
       "XRP      38.7\n",
       "DOT      28.8\n",
       "LUNA     25.8\n",
       "Name: Market caps of top 10 cryptocurrencies in billions USD, dtype: float64"
      ]
     },
     "execution_count": 35,
     "metadata": {},
     "output_type": "execute_result"
    }
   ],
   "source": [
    "market_caps"
   ]
  },
  {
   "cell_type": "code",
   "execution_count": 36,
   "id": "e4f1f155-5d6f-424a-a3d3-fd53d0551cf5",
   "metadata": {},
   "outputs": [
    {
     "data": {
      "text/plain": [
       "BTC     1000.0\n",
       "ETH      514.4\n",
       "BNB       95.8\n",
       "USDT      76.3\n",
       "SOL       57.9\n",
       "ADA       45.7\n",
       "USDC      41.0\n",
       "XRP       38.7\n",
       "DOT       28.8\n",
       "LUNA      25.8\n",
       "Name: Market caps of top 10 cryptocurrencies in billions USD, dtype: float64"
      ]
     },
     "execution_count": 36,
     "metadata": {},
     "output_type": "execute_result"
    }
   ],
   "source": [
    "market_caps['BTC'] = 1000\n",
    "market_caps"
   ]
  },
  {
   "cell_type": "code",
   "execution_count": 37,
   "id": "45225819-a2c0-4d81-9fbf-96d42362ef77",
   "metadata": {},
   "outputs": [
    {
     "data": {
      "text/plain": [
       "BTC     1000.0\n",
       "ETH      514.4\n",
       "BNB       95.8\n",
       "USDT       0.0\n",
       "SOL       57.9\n",
       "ADA       45.7\n",
       "USDC      41.0\n",
       "XRP       38.7\n",
       "DOT       28.8\n",
       "LUNA      25.8\n",
       "Name: Market caps of top 10 cryptocurrencies in billions USD, dtype: float64"
      ]
     },
     "execution_count": 37,
     "metadata": {},
     "output_type": "execute_result"
    }
   ],
   "source": [
    "market_caps.iloc[3] = 0\n",
    "market_caps"
   ]
  },
  {
   "cell_type": "code",
   "execution_count": 38,
   "id": "6809a84a-5c2d-408a-86cc-54f9de4f815a",
   "metadata": {},
   "outputs": [
    {
     "data": {
      "text/plain": [
       "BTC     1000.0\n",
       "ETH      514.4\n",
       "BNB       95.8\n",
       "USDT       0.0\n",
       "SOL       57.9\n",
       "ADA        0.0\n",
       "USDC       0.0\n",
       "XRP        0.0\n",
       "DOT        0.0\n",
       "LUNA       0.0\n",
       "Name: Market caps of top 10 cryptocurrencies in billions USD, dtype: float64"
      ]
     },
     "execution_count": 38,
     "metadata": {},
     "output_type": "execute_result"
    }
   ],
   "source": [
    "market_caps[market_caps < 50] = 0\n",
    "market_caps"
   ]
  },
  {
   "cell_type": "code",
   "execution_count": null,
   "id": "ffb2b65d-af8a-4366-ba55-3067c23f6396",
   "metadata": {},
   "outputs": [],
   "source": []
  }
 ],
 "metadata": {
  "kernelspec": {
   "display_name": "Python 3 (ipykernel)",
   "language": "python",
   "name": "python3"
  },
  "language_info": {
   "codemirror_mode": {
    "name": "ipython",
    "version": 3
   },
   "file_extension": ".py",
   "mimetype": "text/x-python",
   "name": "python",
   "nbconvert_exporter": "python",
   "pygments_lexer": "ipython3",
   "version": "3.8.12"
  }
 },
 "nbformat": 4,
 "nbformat_minor": 5
}
