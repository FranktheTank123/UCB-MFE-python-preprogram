{
 "cells": [
  {
   "cell_type": "markdown",
   "id": "227cdebf-2b41-4a26-9ef0-c329bb9714bf",
   "metadata": {},
   "source": [
    "# Jupyter structure"
   ]
  },
  {
   "cell_type": "markdown",
   "id": "cef6de3c-e3ab-4643-bda5-32d3ccdc0378",
   "metadata": {},
   "source": [
    "## Jupyter Cells"
   ]
  },
  {
   "cell_type": "markdown",
   "id": "4cf8bd39-7445-4a84-9b74-f08db81cd5ee",
   "metadata": {
    "tags": []
   },
   "source": [
    "In jupyter, the execution block is a cell.  A cell can have different types of content (e.g. python code, markdown text), and Jupyter will know how to execute the code"
   ]
  },
  {
   "cell_type": "markdown",
   "id": "1458800d-8f52-4a35-8a35-c8de3a358cc6",
   "metadata": {},
   "source": [
    "Cells have two modes - edit mode or select mode.  In edit mode, we write into the cell (e.g. writing code or text).  In select mode we can organize cells, e.g.\n",
    "- add new cells\n",
    "- delete cells\n",
    "- copy cells\n",
    "- move cells around\n",
    "for example:"
   ]
  },
  {
   "cell_type": "code",
   "execution_count": null,
   "id": "4d14a28d-b226-436b-a5e2-74d1163e2fe6",
   "metadata": {},
   "outputs": [],
   "source": [
    "a = 'hello world' # we are going to copy this cell and paste it"
   ]
  },
  {
   "cell_type": "markdown",
   "id": "627e8aa4-7575-4286-b08c-6869e0e72a7b",
   "metadata": {},
   "source": [
    "Once you have added stuff to a cell, you can run them in a few different ways:\n",
    "- **shift + return**: run a cell and advance to the next one\n",
    "- **ctrl + return**: run a cell and stay on the same cell\n",
    "- **Run menu**: run all cells below, run all cells above, or run all cells\n",
    "e.g."
   ]
  },
  {
   "cell_type": "code",
   "execution_count": null,
   "id": "4b70f040-ffa9-40ff-9f6b-0809eeb68a44",
   "metadata": {},
   "outputs": [],
   "source": [
    "def add(a, b):\n",
    "    return a + b\n",
    "\n",
    "add(1, 2)"
   ]
  },
  {
   "cell_type": "markdown",
   "id": "7c6a50fc-7030-44a7-84b1-022bd97c886d",
   "metadata": {},
   "source": [
    "Jupyter is interesting in that it's very **interactive**, therefore code doesn't have to run in the same sequence as what is written.  This allows the user to explore and iterate on cells.\n",
    "\n",
    "However, to keep track of the order that code has been executed, you can see that there are these `[]` beside each cell.  These `[]` will show the order in which code is executed, and will increment on **every** execution, even if you are running the same cell twice"
   ]
  },
  {
   "cell_type": "markdown",
   "id": "82a29de4-7c25-4a50-a93a-e2b3310c349c",
   "metadata": {
    "tags": []
   },
   "source": [
    "## Working with python"
   ]
  },
  {
   "cell_type": "markdown",
   "id": "1ac17555-b615-40e6-940b-d822f7d14bb7",
   "metadata": {},
   "source": [
    "Working with python in jupyter is like working with a script, but far more interactive.  You can do exactly the same things you can do in a script.  Keep in mind cells are execution blocks, so everything within the same cell will be executed together.\n",
    "\n",
    "For example, we can import libraries:"
   ]
  },
  {
   "cell_type": "code",
   "execution_count": 1,
   "id": "a0fc884c-e0ce-4ff1-bbd3-299bb60054b6",
   "metadata": {},
   "outputs": [],
   "source": [
    "import numpy as np\n",
    "import pandas as pd\n",
    "import matplotlib.pyplot as plt\n",
    "\n",
    "%matplotlib inline\n"
   ]
  },
  {
   "cell_type": "markdown",
   "id": "5b4f002c-da1c-4004-af01-b1685a4b9b4d",
   "metadata": {},
   "source": [
    "Now we've imported libraries, we can use the libraries in other cells, for example"
   ]
  },
  {
   "cell_type": "code",
   "execution_count": 2,
   "id": "2921bbaa-1c6b-42ec-bd8f-17f174ef74d8",
   "metadata": {},
   "outputs": [],
   "source": [
    "df = pd.DataFrame({'x': np.linspace(1, 100, 100), 'y': np.random.randn(100)})"
   ]
  },
  {
   "cell_type": "code",
   "execution_count": 3,
   "id": "5b56e846-7864-44c6-8ef9-58cc5de639a4",
   "metadata": {},
   "outputs": [
    {
     "data": {
      "text/plain": [
       "<AxesSubplot:xlabel='x'>"
      ]
     },
     "execution_count": 3,
     "metadata": {},
     "output_type": "execute_result"
    },
    {
     "data": {
      "image/png": "[encoded data removed]",
      "text/plain": [
       "<Figure size 432x288 with 1 Axes>"
      ]
     },
     "metadata": {
      "needs_background": "light"
     },
     "output_type": "display_data"
    }
   ],
   "source": [
    "df.set_index('x').plot()"
   ]
  },
  {
   "cell_type": "markdown",
   "id": "74abe233-6ecd-48f6-aa58-066327797bf8",
   "metadata": {},
   "source": [
    "## Getting data"
   ]
  },
  {
   "cell_type": "markdown",
   "id": "a0dee329-51eb-4715-b523-cf8b53d02776",
   "metadata": {},
   "source": [
    "Getting data in jupyter is just writing query code.  We'll be going over a variety of data in the class, but as an example, here is a simple way to pull json data directly from a source"
   ]
  },
  {
   "cell_type": "code",
   "execution_count": 4,
   "id": "46e451ed-29a6-4048-ab20-e6d8e726ca87",
   "metadata": {},
   "outputs": [],
   "source": [
    "import requests\n",
    "import pandas as pd"
   ]
  },
  {
   "cell_type": "code",
   "execution_count": 5,
   "id": "66021aeb-6349-4f11-b5a5-9bd4cfc9488d",
   "metadata": {},
   "outputs": [],
   "source": [
    "res = requests.get(\n",
    "    'https://api.cryptowat.ch/markets/coinbase-pro/btcusd/ohlc',\n",
    "    params={\n",
    "        'periods': '3600',\n",
    "        'after': str(int(pd.Timestamp('2021-12-01').timestamp()))\n",
    "    }\n",
    ")"
   ]
  },
  {
   "cell_type": "code",
   "execution_count": null,
   "id": "4cd356f7-dfa8-4223-9351-ddc89d5442d9",
   "metadata": {
    "tags": []
   },
   "outputs": [],
   "source": [
    "res.json()"
   ]
  },
  {
   "cell_type": "code",
   "execution_count": 8,
   "id": "26950312-b9df-4fcd-98b5-ddfdae73f698",
   "metadata": {
    "tags": []
   },
   "outputs": [],
   "source": [
    "df = pd.DataFrame(\n",
    "    res.json()['result']['3600'],\n",
    "    columns=['ts', 'open', 'high', 'low', 'close', 'volumeBTC', 'volumeUSD']\n",
    ")\n",
    "df['ts'] = pd.to_datetime(df.ts, unit='s')\n"
   ]
  },
  {
   "cell_type": "code",
   "execution_count": 9,
   "id": "25b0d2f6-bf78-4a9d-a45e-d0cff46915cc",
   "metadata": {},
   "outputs": [
    {
     "data": {
      "text/html": [
       "<div>\n",
       "<style scoped>\n",
       "    .dataframe tbody tr th:only-of-type {\n",
       "        vertical-align: middle;\n",
       "    }\n",
       "\n",
       "    .dataframe tbody tr th {\n",
       "        vertical-align: top;\n",
       "    }\n",
       "\n",
       "    .dataframe thead th {\n",
       "        text-align: right;\n",
       "    }\n",
       "</style>\n",
       "<table border=\"1\" class=\"dataframe\">\n",
       "  <thead>\n",
       "    <tr style=\"text-align: right;\">\n",
       "      <th></th>\n",
       "      <th>ts</th>\n",
       "      <th>open</th>\n",
       "      <th>high</th>\n",
       "      <th>low</th>\n",
       "      <th>close</th>\n",
       "      <th>volumeBTC</th>\n",
       "      <th>volumeUSD</th>\n",
       "    </tr>\n",
       "  </thead>\n",
       "  <tbody>\n",
       "    <tr>\n",
       "      <th>0</th>\n",
       "      <td>2021-12-01 00:00:00</td>\n",
       "      <td>57321.41</td>\n",
       "      <td>57451.05</td>\n",
       "      <td>56814.34</td>\n",
       "      <td>56987.97</td>\n",
       "      <td>388.482022</td>\n",
       "      <td>2.218430e+07</td>\n",
       "    </tr>\n",
       "    <tr>\n",
       "      <th>1</th>\n",
       "      <td>2021-12-01 01:00:00</td>\n",
       "      <td>56998.35</td>\n",
       "      <td>57726.45</td>\n",
       "      <td>56705.06</td>\n",
       "      <td>57616.41</td>\n",
       "      <td>599.791578</td>\n",
       "      <td>3.437153e+07</td>\n",
       "    </tr>\n",
       "    <tr>\n",
       "      <th>2</th>\n",
       "      <td>2021-12-01 02:00:00</td>\n",
       "      <td>57618.55</td>\n",
       "      <td>57620.00</td>\n",
       "      <td>56972.97</td>\n",
       "      <td>57030.83</td>\n",
       "      <td>591.687200</td>\n",
       "      <td>3.387067e+07</td>\n",
       "    </tr>\n",
       "    <tr>\n",
       "      <th>3</th>\n",
       "      <td>2021-12-01 03:00:00</td>\n",
       "      <td>57029.79</td>\n",
       "      <td>57396.87</td>\n",
       "      <td>56841.01</td>\n",
       "      <td>57307.59</td>\n",
       "      <td>702.560364</td>\n",
       "      <td>4.007816e+07</td>\n",
       "    </tr>\n",
       "    <tr>\n",
       "      <th>4</th>\n",
       "      <td>2021-12-01 04:00:00</td>\n",
       "      <td>57306.55</td>\n",
       "      <td>57456.82</td>\n",
       "      <td>57026.11</td>\n",
       "      <td>57404.01</td>\n",
       "      <td>859.591535</td>\n",
       "      <td>4.920503e+07</td>\n",
       "    </tr>\n",
       "  </tbody>\n",
       "</table>\n",
       "</div>"
      ],
      "text/plain": [
       "                   ts      open      high       low     close   volumeBTC  \\\n",
       "0 2021-12-01 00:00:00  57321.41  57451.05  56814.34  56987.97  388.482022   \n",
       "1 2021-12-01 01:00:00  56998.35  57726.45  56705.06  57616.41  599.791578   \n",
       "2 2021-12-01 02:00:00  57618.55  57620.00  56972.97  57030.83  591.687200   \n",
       "3 2021-12-01 03:00:00  57029.79  57396.87  56841.01  57307.59  702.560364   \n",
       "4 2021-12-01 04:00:00  57306.55  57456.82  57026.11  57404.01  859.591535   \n",
       "\n",
       "      volumeUSD  \n",
       "0  2.218430e+07  \n",
       "1  3.437153e+07  \n",
       "2  3.387067e+07  \n",
       "3  4.007816e+07  \n",
       "4  4.920503e+07  "
      ]
     },
     "execution_count": 9,
     "metadata": {},
     "output_type": "execute_result"
    }
   ],
   "source": [
    "df.head()"
   ]
  },
  {
   "cell_type": "markdown",
   "id": "0d4c87fc-14b3-40f5-a527-cd4060d9be60",
   "metadata": {},
   "source": [
    "Plotting resulting data is also pretty easy, we can use pandas' convenience plotting as an example:"
   ]
  },
  {
   "cell_type": "code",
   "execution_count": 10,
   "id": "dfc74bfb-1980-4a94-8721-431ba3f5d7aa",
   "metadata": {},
   "outputs": [
    {
     "data": {
      "text/plain": [
       "<AxesSubplot:xlabel='ts'>"
      ]
     },
     "execution_count": 10,
     "metadata": {},
     "output_type": "execute_result"
    },
    {
     "data": {
      "image/png": "[encoded data removed]",
      "text/plain": [
       "<Figure size 432x288 with 1 Axes>"
      ]
     },
     "metadata": {
      "needs_background": "light"
     },
     "output_type": "display_data"
    }
   ],
   "source": [
    "df.set_index('ts')['close'].plot()"
   ]
  },
  {
   "cell_type": "markdown",
   "id": "c9d32511-250c-4ae8-9b64-135d2126fc99",
   "metadata": {},
   "source": [
    "## Other Jupyter tricks"
   ]
  },
  {
   "cell_type": "markdown",
   "id": "402f953e-08d2-4e03-9544-1549e9b8763e",
   "metadata": {},
   "source": [
    "Along with executing code blocks, jupyter also has some nice magic functions to help with working in the notebooks.  We've already seem `%matplotlib inline` above, to help inline matplotlib plots"
   ]
  },
  {
   "cell_type": "markdown",
   "id": "4d69db44-09f4-463e-8894-1e9bf0888098",
   "metadata": {},
   "source": [
    "In addition, you can time your code:"
   ]
  },
  {
   "cell_type": "code",
   "execution_count": 11,
   "id": "254f7e95-27c8-4966-bb32-41f6ad488144",
   "metadata": {},
   "outputs": [
    {
     "name": "stdout",
     "output_type": "stream",
     "text": [
      "CPU times: user 3 µs, sys: 1 µs, total: 4 µs\n",
      "Wall time: 6.2 µs\n"
     ]
    },
    {
     "data": {
      "text/plain": [
       "276"
      ]
     },
     "execution_count": 11,
     "metadata": {},
     "output_type": "execute_result"
    }
   ],
   "source": [
    "# timer for a single line\n",
    "%time 12 * 23"
   ]
  },
  {
   "cell_type": "code",
   "execution_count": 13,
   "id": "e1e06093-8dd9-46a5-97af-adcad70a0222",
   "metadata": {},
   "outputs": [
    {
     "name": "stdout",
     "output_type": "stream",
     "text": [
      "3.01 µs ± 169 ns per loop (mean ± std. dev. of 7 runs, 10 loops each)\n"
     ]
    }
   ],
   "source": [
    "%%timeit -n10\n",
    "# or for a code block\n",
    "\n",
    "a = 2\n",
    "b = 10\n",
    "for i in range(10):\n",
    "    a*=a\n"
   ]
  },
  {
   "cell_type": "markdown",
   "id": "cf46a1a4-7496-4cb4-9bb7-35f1d6993e1a",
   "metadata": {},
   "source": [
    "you can also get and set environment variables directly:"
   ]
  },
  {
   "cell_type": "code",
   "execution_count": null,
   "id": "4dfd7940-b26f-475b-95d5-3d7e7097a7d7",
   "metadata": {},
   "outputs": [],
   "source": [
    "%env testval=123"
   ]
  },
  {
   "cell_type": "code",
   "execution_count": 14,
   "id": "b2c55574-3990-4726-816f-ef1c2c1bfb1d",
   "metadata": {},
   "outputs": [
    {
     "data": {
      "text/plain": [
       "{'TERM_SESSION_ID': 'w0t0p0:5FA6CDA9-F8B8-4EC0-8699-56983775D5C2',\n",
       " 'SSH_AUTH_SOCK': '/private/tmp/com.apple.launchd.mj1vpIDZxx/Listeners',\n",
       " 'LC_TERMINAL_VERSION': '3.4.14',\n",
       " 'COLORFGBG': '15;0',\n",
       " 'ITERM_PROFILE': 'Default',\n",
       " 'XPC_FLAGS': '0x0',\n",
       " 'PWD': '/Users/yangtse/Desktop/test/UCB-MFE-python-preprogram/Lectures/Lecture 2',\n",
       " 'SHELL': '/bin/zsh',\n",
       " '__CFBundleIdentifier': 'com.googlecode.iterm2',\n",
       " 'TERM_PROGRAM_VERSION': '3.4.14',\n",
       " 'TERM_PROGRAM': 'iTerm.app',\n",
       " 'PATH': '/opt/homebrew/Caskroom/miniforge/base/envs/mfe-preprogram/bin:/opt/homebrew/Caskroom/miniforge/base/condabin:/opt/homebrew/bin:/opt/homebrew/sbin:/usr/local/bin:/usr/bin:/bin:/usr/sbin:/sbin:/Library/TeX/texbin',\n",
       " 'LC_TERMINAL': 'iTerm2',\n",
       " 'COLORTERM': 'truecolor',\n",
       " 'COMMAND_MODE': 'unix2003',\n",
       " 'TERM': 'xterm-color',\n",
       " 'HOME': '/Users/yangtse',\n",
       " 'TMPDIR': '/var/folders/vp/8yvsgr5j2y18rfq3fqynh1zm0000gn/T/',\n",
       " 'USER': 'yangtse',\n",
       " 'XPC_SERVICE_NAME': '0',\n",
       " 'LOGNAME': 'yangtse',\n",
       " 'ITERM_SESSION_ID': 'w0t0p0:5FA6CDA9-F8B8-4EC0-8699-56983775D5C2',\n",
       " '__CF_USER_TEXT_ENCODING': '0x0:0:0',\n",
       " 'SHLVL': '1',\n",
       " 'OLDPWD': '/Users/yangtse/Desktop/test/UCB-MFE-python-preprogram/Lectures',\n",
       " 'HOMEBREW_BOTTLE_DOMAIN': 'https://mirrors.ustc.edu.cn/homebrew-bottles/bottles',\n",
       " 'HOMEBREW_PREFIX': '/opt/homebrew',\n",
       " 'HOMEBREW_CELLAR': '/opt/homebrew/Cellar',\n",
       " 'HOMEBREW_REPOSITORY': '/opt/homebrew',\n",
       " 'HOMEBREW_SHELLENV_PREFIX': '/opt/homebrew',\n",
       " 'MANPATH': '/opt/homebrew/share/man::',\n",
       " 'INFOPATH': '/opt/homebrew/share/info:',\n",
       " 'ZSH': '/Users/yangtse/.oh-my-zsh',\n",
       " 'PAGER': 'cat',\n",
       " 'LESS': '-R',\n",
       " 'LSCOLORS': 'Gxfxcxdxbxegedabagacad',\n",
       " 'LC_CTYPE': 'UTF-8',\n",
       " 'CONDA_EXE': '/opt/homebrew/Caskroom/miniforge/base/bin/conda',\n",
       " '_CE_M': '',\n",
       " '_CE_CONDA': '',\n",
       " 'CONDA_PYTHON_EXE': '/opt/homebrew/Caskroom/miniforge/base/bin/python',\n",
       " 'CONDA_SHLVL': '2',\n",
       " 'CONDA_PREFIX': '/opt/homebrew/Caskroom/miniforge/base/envs/mfe-preprogram',\n",
       " 'CONDA_DEFAULT_ENV': 'mfe-preprogram',\n",
       " 'CONDA_PROMPT_MODIFIER': '(mfe-preprogram) ',\n",
       " 'CONDA_PREFIX_1': '/opt/homebrew/Caskroom/miniforge/base',\n",
       " '_': '/opt/homebrew/Caskroom/miniforge/base/envs/mfe-preprogram/bin/jupyter',\n",
       " 'PYDEVD_USE_FRAME_EVAL': 'NO',\n",
       " 'JPY_PARENT_PID': '21959',\n",
       " 'CLICOLOR': '1',\n",
       " 'GIT_PAGER': 'cat',\n",
       " 'MPLBACKEND': 'module://matplotlib_inline.backend_inline'}"
      ]
     },
     "execution_count": 14,
     "metadata": {},
     "output_type": "execute_result"
    }
   ],
   "source": [
    "%env"
   ]
  },
  {
   "cell_type": "code",
   "execution_count": null,
   "id": "69774d25-101c-4a11-8177-9b53ca1ed595",
   "metadata": {},
   "outputs": [],
   "source": []
  }
 ],
 "metadata": {
  "kernelspec": {
   "display_name": "Python 3 (ipykernel)",
   "language": "python",
   "name": "python3"
  },
  "language_info": {
   "codemirror_mode": {
    "name": "ipython",
    "version": 3
   },
   "file_extension": ".py",
   "mimetype": "text/x-python",
   "name": "python",
   "nbconvert_exporter": "python",
   "pygments_lexer": "ipython3",
   "version": "3.8.12"
  }
 },
 "nbformat": 4,
 "nbformat_minor": 5
}
