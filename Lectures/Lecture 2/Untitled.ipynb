{
 "cells": [
  {
   "cell_type": "code",
   "execution_count": 1,
   "id": "5b6762b8",
   "metadata": {},
   "outputs": [],
   "source": [
    "import pandas as pd\n",
    "import numpy as np\n",
    "import requests\n"
   ]
  },
  {
   "cell_type": "code",
   "execution_count": 2,
   "id": "617a5a56",
   "metadata": {},
   "outputs": [],
   "source": [
    "def get_data(token):\n",
    "    if token in ['ETH', 'SOL', 'AVAX','USDT']:\n",
    "        res = requests.get(\n",
    "            f'https://api.cryptowat.ch/markets/coinbase-pro/{token}usd/ohlc',\n",
    "            params={\n",
    "                'periods': '3600',\n",
    "                'after': str(int(pd.Timestamp('2021-11-22').timestamp()))\n",
    "            }\n",
    "        )\n",
    "    else:\n",
    "        res = requests.get(\n",
    "            f'https://api.cryptowat.ch/markets/kraken/{token}usd/ohlc',\n",
    "            params={\n",
    "                'periods': '3600',\n",
    "                'after': str(int(pd.Timestamp('2021-11-22').timestamp()))\n",
    "            }\n",
    "        )\n",
    "\n",
    "    df = pd.DataFrame(\n",
    "        res.json()['result']['3600'],\n",
    "        columns=['ts', 'open', 'high', 'low', 'close', 'volume', 'volumeUSD']\n",
    "    )\n",
    "    df['ts'] = pd.to_datetime(df.ts, unit='s')\n",
    "    df['token'] = token\n",
    "    \n",
    "    return df"
   ]
  },
  {
   "cell_type": "code",
   "execution_count": 3,
   "id": "5e106e6f",
   "metadata": {},
   "outputs": [],
   "source": [
    "tokens = ['ETH', 'SOL', 'AVAX', 'USDT', 'FLOW']"
   ]
  },
  {
   "cell_type": "code",
   "execution_count": 4,
   "id": "2ccc64fc",
   "metadata": {},
   "outputs": [],
   "source": [
    "df=[get_data(token) for token in tokens]"
   ]
  },
  {
   "cell_type": "code",
   "execution_count": 7,
   "id": "42c10c6f",
   "metadata": {},
   "outputs": [],
   "source": [
    "\n",
    "\n",
    "def clean_dataframe(original_df):\n",
    "    cleaned_df = original_df.set_index('ts')['close'].rename(f'close_{original_df.token[0]}').to_frame()\n",
    "    return cleaned_df \n",
    "\n"
   ]
  },
  {
   "cell_type": "code",
   "execution_count": 8,
   "id": "fc13443c",
   "metadata": {},
   "outputs": [],
   "source": [
    "cleaned_dataframes = [clean_dataframe(original_df) for original_df in df]"
   ]
  },
  {
   "cell_type": "code",
   "execution_count": 10,
   "id": "b6cc84e7",
   "metadata": {},
   "outputs": [
    {
     "data": {
      "text/plain": [
       "[                     close_ETH\n",
       " ts                            \n",
       " 2021-11-22 00:00:00    4262.99\n",
       " 2021-11-22 01:00:00    4234.37\n",
       " 2021-11-22 02:00:00    4217.89\n",
       " 2021-11-22 03:00:00    4193.47\n",
       " 2021-11-22 04:00:00    4168.35\n",
       " ...                        ...\n",
       " 2021-12-20 12:00:00    3814.44\n",
       " 2021-12-20 13:00:00    3782.86\n",
       " 2021-12-20 14:00:00    3776.87\n",
       " 2021-12-20 15:00:00    3840.19\n",
       " 2021-12-20 16:00:00    3812.90\n",
       " \n",
       " [689 rows x 1 columns],\n",
       "                      close_SOL\n",
       " ts                            \n",
       " 2021-11-22 00:00:00    230.785\n",
       " 2021-11-22 01:00:00    226.000\n",
       " 2021-11-22 02:00:00    227.037\n",
       " 2021-11-22 03:00:00    223.117\n",
       " 2021-11-22 04:00:00    220.652\n",
       " ...                        ...\n",
       " 2021-12-20 12:00:00    172.550\n",
       " 2021-12-20 13:00:00    170.280\n",
       " 2021-12-20 14:00:00    170.070\n",
       " 2021-12-20 15:00:00    173.210\n",
       " 2021-12-20 16:00:00    170.590\n",
       " \n",
       " [689 rows x 1 columns],\n",
       "                      close_AVAX\n",
       " ts                             \n",
       " 2021-11-22 00:00:00      128.67\n",
       " 2021-11-22 01:00:00      134.85\n",
       " 2021-11-22 02:00:00      132.54\n",
       " 2021-11-22 03:00:00      133.38\n",
       " 2021-11-22 04:00:00      136.29\n",
       " ...                         ...\n",
       " 2021-12-20 12:00:00      104.31\n",
       " 2021-12-20 13:00:00      103.42\n",
       " 2021-12-20 14:00:00      103.07\n",
       " 2021-12-20 15:00:00      104.74\n",
       " 2021-12-20 16:00:00      106.31\n",
       " \n",
       " [689 rows x 1 columns],\n",
       "                      close_USDT\n",
       " ts                             \n",
       " 2021-11-22 00:00:00      1.0012\n",
       " 2021-11-22 01:00:00      1.0013\n",
       " 2021-11-22 02:00:00      1.0012\n",
       " 2021-11-22 03:00:00      1.0011\n",
       " 2021-11-22 04:00:00      1.0009\n",
       " ...                         ...\n",
       " 2021-12-20 12:00:00      1.0002\n",
       " 2021-12-20 13:00:00      1.0003\n",
       " 2021-12-20 14:00:00      1.0002\n",
       " 2021-12-20 15:00:00      1.0002\n",
       " 2021-12-20 16:00:00      1.0002\n",
       " \n",
       " [689 rows x 1 columns],\n",
       "                      close_FLOW\n",
       " ts                             \n",
       " 2021-11-22 00:00:00      14.150\n",
       " 2021-11-22 01:00:00      13.621\n",
       " 2021-11-22 02:00:00      13.753\n",
       " 2021-11-22 03:00:00      13.652\n",
       " 2021-11-22 04:00:00      13.581\n",
       " ...                         ...\n",
       " 2021-12-20 12:00:00       8.164\n",
       " 2021-12-20 13:00:00       8.050\n",
       " 2021-12-20 14:00:00       8.082\n",
       " 2021-12-20 15:00:00       8.093\n",
       " 2021-12-20 16:00:00       8.075\n",
       " \n",
       " [689 rows x 1 columns]]"
      ]
     },
     "execution_count": 10,
     "metadata": {},
     "output_type": "execute_result"
    }
   ],
   "source": [
    "cleaned_dataframes"
   ]
  },
  {
   "cell_type": "code",
   "execution_count": null,
   "id": "06da6ecd",
   "metadata": {},
   "outputs": [],
   "source": []
  }
 ],
 "metadata": {
  "kernelspec": {
   "display_name": "Python 3 (ipykernel)",
   "language": "python",
   "name": "python3"
  },
  "language_info": {
   "codemirror_mode": {
    "name": "ipython",
    "version": 3
   },
   "file_extension": ".py",
   "mimetype": "text/x-python",
   "name": "python",
   "nbconvert_exporter": "python",
   "pygments_lexer": "ipython3",
   "version": "3.8.12"
  }
 },
 "nbformat": 4,
 "nbformat_minor": 5
}
