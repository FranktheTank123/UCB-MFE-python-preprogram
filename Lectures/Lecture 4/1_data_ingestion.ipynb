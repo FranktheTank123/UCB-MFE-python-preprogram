{
 "cells": [
  {
   "cell_type": "markdown",
   "metadata": {},
   "source": [
    "# Ingesting Data"
   ]
  },
  {
   "cell_type": "markdown",
   "metadata": {},
   "source": [
    "In python there are multiple ways to ingest data into a pandas dataframe.  This is because we often will work with data from various sources, even in a single project, and thus being able to easily ingest and format data is crucial to being productive.\n",
    "\n",
    "We will be looking at 6 different ways to ingest data today:\n",
    "- via csv\n",
    "- via JSON\n",
    "- via API\n",
    "- via google sheets\n",
    "- via SQL"
   ]
  },
  {
   "cell_type": "markdown",
   "metadata": {},
   "source": [
    "## CSV ingestion"
   ]
  },
  {
   "cell_type": "markdown",
   "metadata": {},
   "source": [
    "One of the most common data formats you'll deal with in the real world is csvs.  CSVs are an easy, text based representation of tabular data.  It can be easily saved (it's just a text file), passed around and while it's not the most efficient way to store data, it is less verbose than other formats like JSON. \n",
    "\n",
    "There are a few ways to read csv data into a pandas DataFrame.  The easiest way is to use `.read_csv`, e.g.:"
   ]
  },
  {
   "cell_type": "code",
   "execution_count": null,
   "metadata": {},
   "outputs": [],
   "source": [
    "import pandas as pd"
   ]
  },
  {
   "cell_type": "code",
   "execution_count": null,
   "metadata": {},
   "outputs": [],
   "source": [
    "market_caps = pd.read_csv('data/market_caps.csv')\n",
    "market_caps.head()"
   ]
  },
  {
   "cell_type": "markdown",
   "metadata": {},
   "source": [
    "We can also see that `.read_csv` will smartly try to format columns for us.  E.g. it can detect that MarketCap, Price and VolumeUSD are floats, and Rank is an integer"
   ]
  },
  {
   "cell_type": "code",
   "execution_count": null,
   "metadata": {},
   "outputs": [],
   "source": [
    "market_caps.dtypes"
   ]
  },
  {
   "cell_type": "markdown",
   "metadata": {},
   "source": [
    "However, we can add a bit more customization to this.  For example, let's say we wanted custom names and to use rank as an index.  We can do so directly from `.read_csv`:"
   ]
  },
  {
   "cell_type": "code",
   "execution_count": null,
   "metadata": {},
   "outputs": [],
   "source": [
    "market_caps_custom = pd.read_csv(\n",
    "    'data/market_caps.csv',\n",
    "    header=None,\n",
    "    skiprows=1,\n",
    "    names=['rank', 'name', 'sym', 'market_size', 'price', 'volume_usd'],\n",
    "    index_col=0\n",
    ")\n",
    "market_caps_custom.head()"
   ]
  },
  {
   "cell_type": "markdown",
   "metadata": {},
   "source": [
    "## JSON ingestion"
   ]
  },
  {
   "cell_type": "markdown",
   "metadata": {},
   "source": [
    "JSONs have similar properties to csvs, in that they are simple text files that can be passed around easily, however they can be a bit harder to work with for data analysis.  \n",
    "\n",
    "While a JSON can represent a table, it can also represent any arbitrary bundle of data.  This means that we may need to parse the JSON first and extract out the relevant values before we can convert it into a pandas DataFrame.\n",
    "\n",
    "Let's start with a simple example where the JSON is nicely formatted, and represents a table.  In this case, like with `.read_csv`, ad can simply call `.read_json`"
   ]
  },
  {
   "cell_type": "code",
   "execution_count": null,
   "metadata": {},
   "outputs": [],
   "source": [
    "import json"
   ]
  },
  {
   "cell_type": "code",
   "execution_count": null,
   "metadata": {},
   "outputs": [],
   "source": [
    "market_caps_json = pd.read_json('data/market_caps.json', orient='columns')"
   ]
  },
  {
   "cell_type": "code",
   "execution_count": null,
   "metadata": {},
   "outputs": [],
   "source": [
    "market_caps_json"
   ]
  },
  {
   "cell_type": "markdown",
   "metadata": {},
   "source": [
    "However, this won't work with a more complex json"
   ]
  },
  {
   "cell_type": "code",
   "execution_count": null,
   "metadata": {},
   "outputs": [],
   "source": [
    "ts = pd.read_json('data/payload.json', orient='columns')\n",
    "ts"
   ]
  },
  {
   "cell_type": "markdown",
   "metadata": {},
   "source": [
    "This isn't what we're looking for.  What if we tried the other way:"
   ]
  },
  {
   "cell_type": "code",
   "execution_count": null,
   "metadata": {},
   "outputs": [],
   "source": [
    "ts = pd.read_json('data/payload.json', orient='index')\n",
    "ts"
   ]
  },
  {
   "cell_type": "markdown",
   "metadata": {},
   "source": [
    "Unfortunately this doesn't help us either.  This is because in this case the JSON file is structured as a dictionary only, and not as a table.  Pandas will still try to read in the key/value pairs as a table and make things work, but in this case we won't be able to use it.\n",
    "\n",
    "Instead, we will need to first get down to the key we care about, then pass that to pandas, i.e.:"
   ]
  },
  {
   "cell_type": "code",
   "execution_count": null,
   "metadata": {},
   "outputs": [],
   "source": [
    "with open('data/payload.json', 'r') as file:\n",
    "    json_data = json.load(file)"
   ]
  },
  {
   "cell_type": "code",
   "execution_count": null,
   "metadata": {},
   "outputs": [],
   "source": [
    "(lambda x: x.assign(ts=pd.to_datetime(x.ts, unit='s')))(\n",
    "    pd.DataFrame(\n",
    "        json_data['result']['3600'],\n",
    "        columns=['ts', 'open', 'high', 'low', 'close', 'volume', 'volumeUSD']\n",
    "    )\n",
    ")\n"
   ]
  },
  {
   "cell_type": "markdown",
   "metadata": {},
   "source": [
    "## API Ingestion"
   ]
  },
  {
   "cell_type": "code",
   "execution_count": null,
   "metadata": {},
   "outputs": [],
   "source": [
    "import requests\n",
    "import pandas as pd"
   ]
  },
  {
   "cell_type": "markdown",
   "metadata": {},
   "source": [
    "we've mostly been using API for data retrieval in this course.  The majority of the time you'll be using the request package.  Here is what we have been using in class so far, but lets dig into what this means a little more"
   ]
  },
  {
   "cell_type": "code",
   "execution_count": null,
   "metadata": {},
   "outputs": [],
   "source": [
    "res = requests.get(\n",
    "    f'https://api.cryptowat.ch/markets/coinbase-pro/btcusd/ohlc',\n",
    "    params={\n",
    "        'periods': '3600',\n",
    "        'after': str(int(pd.Timestamp('2021-12-01').timestamp()))\n",
    "    }\n",
    ")"
   ]
  },
  {
   "cell_type": "markdown",
   "metadata": {},
   "source": [
    "most APIs that we will hit will be REST APIs (http based APIs). For these there are two types of calls that you can do, either `get` requests or `post` requests.  The main difference is that `get` requests will take in parameters directly in the URL, while `post` parameters will allow you to pass in data (usually called a payload) into request.\n",
    "\n",
    "For many apis you will also need to pass in an `Authorization` header if it needs authentication.\n",
    "\n",
    "Once we have called the API with our request, we will get a response.  Firstly, we can check if the response is successful by looking at the status code.  Usually REST APIs will denote success with a status code of `200`, and a status code of `400`, `500` or most other codes will mean failure"
   ]
  },
  {
   "cell_type": "code",
   "execution_count": null,
   "metadata": {},
   "outputs": [],
   "source": [
    "res.status_code"
   ]
  },
  {
   "cell_type": "markdown",
   "metadata": {},
   "source": [
    "We can see above that the status code is successful, so now we can take a look at the content of our response"
   ]
  },
  {
   "cell_type": "code",
   "execution_count": null,
   "metadata": {
    "tags": []
   },
   "outputs": [],
   "source": [
    "res.text"
   ]
  },
  {
   "cell_type": "markdown",
   "metadata": {},
   "source": [
    "as you can see, all responses that is passed back from an API call can be read as text.  However in our case, we know ahead of time that the response body is a json, and so we can use `.json` method in the response object to convert the text into a python dict, which would be much easier for us to use"
   ]
  },
  {
   "cell_type": "code",
   "execution_count": null,
   "metadata": {
    "tags": []
   },
   "outputs": [],
   "source": [
    "res.json()"
   ]
  },
  {
   "cell_type": "markdown",
   "metadata": {},
   "source": [
    "finally, we can use the same technique as the JSON section and pull the relevant information we need from the JSON and load it into a DataFrame"
   ]
  },
  {
   "cell_type": "code",
   "execution_count": null,
   "metadata": {},
   "outputs": [],
   "source": [
    "(lambda x: x.assign(ts=pd.to_datetime(x.ts, unit='s')))(\n",
    "    pd.DataFrame(\n",
    "        res.json()['result']['3600'],\n",
    "        columns=['ts', 'open', 'high', 'low', 'close', 'volume', 'volumeUSD']\n",
    "    )\n",
    ")\n"
   ]
  },
  {
   "cell_type": "markdown",
   "metadata": {},
   "source": [
    "## Google sheets ingestion"
   ]
  },
  {
   "cell_type": "code",
   "execution_count": null,
   "metadata": {},
   "outputs": [],
   "source": [
    "import os\n",
    "import pandas as pd\n",
    "import gspread"
   ]
  },
  {
   "cell_type": "markdown",
   "metadata": {},
   "source": [
    "another useful source for ingestion is google sheets.  While you an ingest larger data sets, where google sheets really shines is for getting tabular information for summary data, or especially configs.\n",
    "\n",
    "A good example of this is running a model where certain parameters (e.g. priors for coefficients) are set by domain experts, while the model is developed by data scientists and will take these priors as an input to generate the final result.  In that situation the domain experts probably work much better in a spreadsheet setting, while the data scientists will prefer code.  We can leverage google sheets to allow the domain experts to enter and update the coefficients, then we can programatically read the values and join against the rest of our data."
   ]
  },
  {
   "cell_type": "markdown",
   "metadata": {},
   "source": [
    "Example usage for google sheets using the library gspread is below, and you can find the setup information here: https://github.com/burnash/gspread"
   ]
  },
  {
   "cell_type": "code",
   "execution_count": null,
   "metadata": {},
   "outputs": [],
   "source": [
    "gc = gspread.service_account()"
   ]
  },
  {
   "cell_type": "code",
   "execution_count": null,
   "metadata": {},
   "outputs": [],
   "source": [
    "sheet = gc.open('market_caps').worksheet('Sheet1')"
   ]
  },
  {
   "cell_type": "code",
   "execution_count": null,
   "metadata": {},
   "outputs": [],
   "source": [
    "data = sheet.get_all_records()"
   ]
  },
  {
   "cell_type": "code",
   "execution_count": null,
   "metadata": {},
   "outputs": [],
   "source": [
    "pd.DataFrame(data)"
   ]
  },
  {
   "cell_type": "markdown",
   "metadata": {},
   "source": [
    "## SQL Ingestion"
   ]
  },
  {
   "cell_type": "markdown",
   "metadata": {},
   "source": [
    "one of the most common ways we will be accessing data is via SQL.  \n",
    "\n",
    "For our examples, we will look at how to access a sql database, read, write and join it using sqlite"
   ]
  },
  {
   "cell_type": "markdown",
   "metadata": {},
   "source": [
    "## SQLite"
   ]
  },
  {
   "cell_type": "markdown",
   "metadata": {},
   "source": [
    "SQLite is a powerful, file-based sql database.  It's build as a local database for single reader/writer functionality, and has most of the common SQL functionality out of the box.  We can learn about most python<>sql interactions with SQLite as the interaction patterns carries over to all flavors of sql.\n",
    "\n",
    "The two key objects for interacting with any SQL database are the `connection` and the `cursor`.  The connection represents a connection to a SQL database, while the cursor represents an execution object for that connection.  For example:"
   ]
  },
  {
   "cell_type": "code",
   "execution_count": 2,
   "metadata": {},
   "outputs": [],
   "source": [
    "import sqlite3\n",
    "import pandas as pd"
   ]
  },
  {
   "cell_type": "code",
   "execution_count": 3,
   "metadata": {},
   "outputs": [],
   "source": [
    "conn = sqlite3.connect('data/data.db')"
   ]
  },
  {
   "cell_type": "markdown",
   "metadata": {},
   "source": [
    "in the above, we create a connection to the SQL database at `data/data.db`.  The connection object can save changes with `.commit` or close the connection with `.close`.  We can also create a cursor object from the connection to use for querying:"
   ]
  },
  {
   "cell_type": "code",
   "execution_count": 4,
   "metadata": {},
   "outputs": [],
   "source": [
    "cur = conn.cursor()"
   ]
  },
  {
   "cell_type": "markdown",
   "metadata": {},
   "source": [
    "Now that we have the cursor object, we can start executing SQL queries.  For example, let's take a look at what tables we have in this database:"
   ]
  },
  {
   "cell_type": "code",
   "execution_count": 5,
   "metadata": {},
   "outputs": [
    {
     "name": "stdout",
     "output_type": "stream",
     "text": [
      "('ohlc',)\n",
      "('market_caps',)\n"
     ]
    }
   ],
   "source": [
    "for row in cur.execute('SELECT name FROM sqlite_master'):\n",
    "    print(row)"
   ]
  },
  {
   "cell_type": "markdown",
   "metadata": {},
   "source": [
    "or even the schema itself:"
   ]
  },
  {
   "cell_type": "code",
   "execution_count": 6,
   "metadata": {},
   "outputs": [
    {
     "name": "stdout",
     "output_type": "stream",
     "text": [
      "('ohlc', 'CREATE TABLE \"ohlc\" (\\n\"ts\" TIMESTAMP,\\n  \"open\" REAL,\\n  \"high\" REAL,\\n  \"low\" REAL,\\n  \"close\" REAL,\\n  \"volume\" REAL,\\n  \"volumeUSD\" REAL,\\n  \"token\" TEXT,\\n  \"chain\" TEXT\\n)')\n",
      "('market_caps', 'CREATE TABLE market_caps (\\n\\t\"Rank\" BIGINT, \\n\\t\"Name\" TEXT, \\n\\t\"Symbol\" TEXT, \\n\\t\"MarketCap\" FLOAT, \\n\\t\"Price\" FLOAT, \\n\\t\"VolumeUSD\" FLOAT\\n)')\n"
     ]
    }
   ],
   "source": [
    "for row in cur.execute('SELECT name, sql FROM sqlite_master'):\n",
    "    print(row)"
   ]
  },
  {
   "cell_type": "markdown",
   "metadata": {},
   "source": [
    "Most of the time though, we want to pull information from the database.  For example, let's pull some data from the `ohlc` table:"
   ]
  },
  {
   "cell_type": "code",
   "execution_count": 7,
   "metadata": {},
   "outputs": [
    {
     "name": "stdout",
     "output_type": "stream",
     "text": [
      "('2021-11-01 00:00:00', 61421.37, 61669.14, 61239.6, 61343.68, 256.43386884, 15757506.49252652, 'BTC', 'BTC')\n",
      "('2021-11-01 01:00:00', 61346.17, 61709.82, 61171.22, 61610.93, 332.48118498, 20445578.51330501, 'BTC', 'BTC')\n",
      "('2021-11-01 02:00:00', 61610.94, 61779.87, 61299.89, 61333.17, 314.25071995, 19353904.091577783, 'BTC', 'BTC')\n",
      "('2021-11-01 03:00:00', 61333.17, 61457.28, 60050.0, 60589.06, 1059.93135838, 64146246.7043883, 'BTC', 'BTC')\n",
      "('2021-11-01 04:00:00', 60590.23, 60655.0, 59752.92, 59971.89, 621.41987775, 37447441.40394106, 'BTC', 'BTC')\n"
     ]
    }
   ],
   "source": [
    "for row in cur.execute(\"SELECT * FROM ohlc WHERE token = 'BTC' LIMIT 5\"):\n",
    "    print(row)"
   ]
  },
  {
   "cell_type": "markdown",
   "metadata": {},
   "source": [
    "we can also also get all the data at once instead of getting data row by row:"
   ]
  },
  {
   "cell_type": "code",
   "execution_count": 8,
   "metadata": {},
   "outputs": [
    {
     "data": {
      "text/plain": [
       "[('2021-11-01 00:00:00',\n",
       "  61421.37,\n",
       "  61669.14,\n",
       "  61239.6,\n",
       "  61343.68,\n",
       "  256.43386884,\n",
       "  15757506.49252652,\n",
       "  'BTC',\n",
       "  'BTC'),\n",
       " ('2021-11-01 01:00:00',\n",
       "  61346.17,\n",
       "  61709.82,\n",
       "  61171.22,\n",
       "  61610.93,\n",
       "  332.48118498,\n",
       "  20445578.51330501,\n",
       "  'BTC',\n",
       "  'BTC'),\n",
       " ('2021-11-01 02:00:00',\n",
       "  61610.94,\n",
       "  61779.87,\n",
       "  61299.89,\n",
       "  61333.17,\n",
       "  314.25071995,\n",
       "  19353904.091577783,\n",
       "  'BTC',\n",
       "  'BTC'),\n",
       " ('2021-11-01 03:00:00',\n",
       "  61333.17,\n",
       "  61457.28,\n",
       "  60050.0,\n",
       "  60589.06,\n",
       "  1059.93135838,\n",
       "  64146246.7043883,\n",
       "  'BTC',\n",
       "  'BTC'),\n",
       " ('2021-11-01 04:00:00',\n",
       "  60590.23,\n",
       "  60655.0,\n",
       "  59752.92,\n",
       "  59971.89,\n",
       "  621.41987775,\n",
       "  37447441.40394106,\n",
       "  'BTC',\n",
       "  'BTC')]"
      ]
     },
     "execution_count": 8,
     "metadata": {},
     "output_type": "execute_result"
    }
   ],
   "source": [
    "cur.execute(\"SELECT * FROM ohlc WHERE token = 'BTC' LIMIT 5\")\n",
    "data = cur.fetchall()\n",
    "data"
   ]
  },
  {
   "cell_type": "markdown",
   "metadata": {},
   "source": [
    "And because it's a list of tuples, we can simply create a pandas DataFrame and add in columns to get our data"
   ]
  },
  {
   "cell_type": "code",
   "execution_count": 9,
   "metadata": {},
   "outputs": [
    {
     "data": {
      "text/html": [
       "<div>\n",
       "<style scoped>\n",
       "    .dataframe tbody tr th:only-of-type {\n",
       "        vertical-align: middle;\n",
       "    }\n",
       "\n",
       "    .dataframe tbody tr th {\n",
       "        vertical-align: top;\n",
       "    }\n",
       "\n",
       "    .dataframe thead th {\n",
       "        text-align: right;\n",
       "    }\n",
       "</style>\n",
       "<table border=\"1\" class=\"dataframe\">\n",
       "  <thead>\n",
       "    <tr style=\"text-align: right;\">\n",
       "      <th></th>\n",
       "      <th>ts</th>\n",
       "      <th>open</th>\n",
       "      <th>high</th>\n",
       "      <th>low</th>\n",
       "      <th>close</th>\n",
       "      <th>volume</th>\n",
       "      <th>volumeUSD</th>\n",
       "      <th>token</th>\n",
       "      <th>chain</th>\n",
       "    </tr>\n",
       "  </thead>\n",
       "  <tbody>\n",
       "    <tr>\n",
       "      <th>0</th>\n",
       "      <td>2021-11-01 00:00:00</td>\n",
       "      <td>61421.37</td>\n",
       "      <td>61669.14</td>\n",
       "      <td>61239.60</td>\n",
       "      <td>61343.68</td>\n",
       "      <td>256.433869</td>\n",
       "      <td>1.575751e+07</td>\n",
       "      <td>BTC</td>\n",
       "      <td>BTC</td>\n",
       "    </tr>\n",
       "    <tr>\n",
       "      <th>1</th>\n",
       "      <td>2021-11-01 01:00:00</td>\n",
       "      <td>61346.17</td>\n",
       "      <td>61709.82</td>\n",
       "      <td>61171.22</td>\n",
       "      <td>61610.93</td>\n",
       "      <td>332.481185</td>\n",
       "      <td>2.044558e+07</td>\n",
       "      <td>BTC</td>\n",
       "      <td>BTC</td>\n",
       "    </tr>\n",
       "    <tr>\n",
       "      <th>2</th>\n",
       "      <td>2021-11-01 02:00:00</td>\n",
       "      <td>61610.94</td>\n",
       "      <td>61779.87</td>\n",
       "      <td>61299.89</td>\n",
       "      <td>61333.17</td>\n",
       "      <td>314.250720</td>\n",
       "      <td>1.935390e+07</td>\n",
       "      <td>BTC</td>\n",
       "      <td>BTC</td>\n",
       "    </tr>\n",
       "    <tr>\n",
       "      <th>3</th>\n",
       "      <td>2021-11-01 03:00:00</td>\n",
       "      <td>61333.17</td>\n",
       "      <td>61457.28</td>\n",
       "      <td>60050.00</td>\n",
       "      <td>60589.06</td>\n",
       "      <td>1059.931358</td>\n",
       "      <td>6.414625e+07</td>\n",
       "      <td>BTC</td>\n",
       "      <td>BTC</td>\n",
       "    </tr>\n",
       "    <tr>\n",
       "      <th>4</th>\n",
       "      <td>2021-11-01 04:00:00</td>\n",
       "      <td>60590.23</td>\n",
       "      <td>60655.00</td>\n",
       "      <td>59752.92</td>\n",
       "      <td>59971.89</td>\n",
       "      <td>621.419878</td>\n",
       "      <td>3.744744e+07</td>\n",
       "      <td>BTC</td>\n",
       "      <td>BTC</td>\n",
       "    </tr>\n",
       "  </tbody>\n",
       "</table>\n",
       "</div>"
      ],
      "text/plain": [
       "                    ts      open      high       low     close       volume  \\\n",
       "0  2021-11-01 00:00:00  61421.37  61669.14  61239.60  61343.68   256.433869   \n",
       "1  2021-11-01 01:00:00  61346.17  61709.82  61171.22  61610.93   332.481185   \n",
       "2  2021-11-01 02:00:00  61610.94  61779.87  61299.89  61333.17   314.250720   \n",
       "3  2021-11-01 03:00:00  61333.17  61457.28  60050.00  60589.06  1059.931358   \n",
       "4  2021-11-01 04:00:00  60590.23  60655.00  59752.92  59971.89   621.419878   \n",
       "\n",
       "      volumeUSD token chain  \n",
       "0  1.575751e+07   BTC   BTC  \n",
       "1  2.044558e+07   BTC   BTC  \n",
       "2  1.935390e+07   BTC   BTC  \n",
       "3  6.414625e+07   BTC   BTC  \n",
       "4  3.744744e+07   BTC   BTC  "
      ]
     },
     "execution_count": 9,
     "metadata": {},
     "output_type": "execute_result"
    }
   ],
   "source": [
    "pd.DataFrame(\n",
    "    data,\n",
    "    columns=['ts', 'open', 'high', 'low', 'close', 'volume', 'volumeUSD', 'token', 'chain']\n",
    ")"
   ]
  },
  {
   "cell_type": "markdown",
   "metadata": {},
   "source": [
    "finally, we can close the connection"
   ]
  },
  {
   "cell_type": "code",
   "execution_count": null,
   "metadata": {},
   "outputs": [],
   "source": [
    "conn.close()"
   ]
  },
  {
   "cell_type": "markdown",
   "metadata": {},
   "source": [
    "after closing the connection, as expected the cursor will stop working, and no queries can be executed"
   ]
  },
  {
   "cell_type": "code",
   "execution_count": null,
   "metadata": {},
   "outputs": [],
   "source": [
    "cur.execute(\"SELECT * FROM ohlc WHERE token = 'BTC' LIMIT 5\")\n",
    "cur.fetchall()"
   ]
  },
  {
   "cell_type": "markdown",
   "metadata": {},
   "source": [
    "## SQL Basics"
   ]
  },
  {
   "cell_type": "markdown",
   "metadata": {},
   "source": [
    "SQL is a very flexible language, and most data analysis tools (including pandas) borrows a lot of core concepts that SQL has when working with data.  In this section we'll look at a few basic SQL functions that will help us create the datasets that we need before we pull them to python side to work on them.\n",
    "\n",
    "Firstly, let's look at basic querying.  We can query for all columns using `*`, or select the specific columns.  The general syntax is `SELECT [columns | *] FROM [table_name] WHERE [conditions...]`"
   ]
  },
  {
   "cell_type": "code",
   "execution_count": null,
   "metadata": {},
   "outputs": [],
   "source": [
    "%%sql sqlite:///data/data.db\n",
    "\n",
    "SELECT * FROM ohlc WHERE token = 'BTC' LIMIT 10"
   ]
  },
  {
   "cell_type": "code",
   "execution_count": null,
   "metadata": {},
   "outputs": [],
   "source": [
    "%%sql\n",
    "\n",
    "SELECT ts, token, close FROM ohlc WHERE token = 'BTC' LIMIT 10"
   ]
  },
  {
   "cell_type": "markdown",
   "metadata": {},
   "source": [
    "In addition, we can also aggregate very easily using the `GROUP BY` clause"
   ]
  },
  {
   "cell_type": "code",
   "execution_count": null,
   "metadata": {},
   "outputs": [],
   "source": [
    "%%sql\n",
    "\n",
    "SELECT \n",
    "    token, \n",
    "    SUM(volumeUSD) / 1e9 AS volumeUSD, \n",
    "    SUM(volume) AS volume, \n",
    "    AVG(close) AS avg_close \n",
    "FROM ohlc \n",
    "GROUP BY 1 \n",
    "ORDER BY 2 DESC"
   ]
  },
  {
   "cell_type": "markdown",
   "metadata": {},
   "source": [
    "In addition, like with pandas we can do joins.  The notation is shown below:"
   ]
  },
  {
   "cell_type": "code",
   "execution_count": null,
   "metadata": {},
   "outputs": [],
   "source": [
    "%%sql \n",
    "\n",
    "SELECT\n",
    "    ts,\n",
    "    token,\n",
    "    close,\n",
    "    MarketCap\n",
    "FROM\n",
    "    ohlc\n",
    "    JOIN market_caps ON ohlc.token = market_caps.Symbol\n",
    "LIMIT 20"
   ]
  },
  {
   "cell_type": "markdown",
   "metadata": {},
   "source": [
    "we can also get much fancier with our querying, using CTEs (common table expressions) and joins"
   ]
  },
  {
   "cell_type": "code",
   "execution_count": null,
   "metadata": {},
   "outputs": [],
   "source": [
    "%%sql\n",
    "\n",
    "WITH\n",
    "\n",
    "volume_summaries AS (\n",
    "SELECT \n",
    "    token, \n",
    "    SUM(volumeUSD) / 1e9 AS volumeUSD\n",
    "FROM ohlc \n",
    "GROUP BY 1 \n",
    "ORDER BY 2 DESC\n",
    "),\n",
    "\n",
    "token_caps AS (\n",
    "SELECT\n",
    "    Symbol AS token,\n",
    "    MarketCap / 1e9 AS market_cap\n",
    "FROM\n",
    "    market_caps\n",
    ")\n",
    "\n",
    "SELECT\n",
    "    *,\n",
    "    ROUND(100 * volumeUSD / market_cap) AS float_traded_total\n",
    "FROM\n",
    "    token_caps\n",
    "    JOIN volume_summaries USING(token)"
   ]
  },
  {
   "cell_type": "markdown",
   "metadata": {},
   "source": [
    "**note** for the magic function that we used `%%sql`, we can actually convert the data to a DataFrame instead of just displaying it on output"
   ]
  },
  {
   "cell_type": "code",
   "execution_count": null,
   "metadata": {},
   "outputs": [],
   "source": [
    "%%sql result <<\n",
    "\n",
    "SELECT\n",
    "    ts,\n",
    "    token,\n",
    "    close,\n",
    "    MarketCap\n",
    "FROM\n",
    "    ohlc\n",
    "    JOIN market_caps ON ohlc.token = market_caps.Symbol\n",
    "LIMIT 20"
   ]
  },
  {
   "cell_type": "code",
   "execution_count": null,
   "metadata": {},
   "outputs": [],
   "source": [
    "result.DataFrame().head()"
   ]
  },
  {
   "cell_type": "markdown",
   "metadata": {
    "tags": []
   },
   "source": [
    "## SQL and Pandas"
   ]
  },
  {
   "cell_type": "markdown",
   "metadata": {},
   "source": [
    "We saw above how to use cursors to access the database, fetch data with SQL queries and convert the result to a dataframe.  However, we can do this just as easily with pandas directly using the `.read_sql` method."
   ]
  },
  {
   "cell_type": "code",
   "execution_count": null,
   "metadata": {},
   "outputs": [],
   "source": [
    "pd.read_sql(\"SELECT * FROM ohlc WHERE token = 'BTC' LIMIT 10\", 'sqlite:///data/data.db')"
   ]
  },
  {
   "cell_type": "markdown",
   "metadata": {},
   "source": [
    "or if we don't want ot open/close the connection everytime, we can also create a connection first, then pass in the connection"
   ]
  },
  {
   "cell_type": "code",
   "execution_count": null,
   "metadata": {},
   "outputs": [],
   "source": [
    "conn = sqlite3.connect('data/data.db')"
   ]
  },
  {
   "cell_type": "code",
   "execution_count": null,
   "metadata": {},
   "outputs": [],
   "source": [
    "pd.read_sql(\"SELECT * FROM ohlc WHERE token = 'BTC' LIMIT 10\", conn)"
   ]
  },
  {
   "cell_type": "markdown",
   "metadata": {},
   "source": [
    "Since the data coming back from sql will always be in a tabular form and will have type information for each column, this means that the data set will (almost) always convert nicely into a pandas dataframe.  In fact, we can also turn the schema lookup into a table:"
   ]
  },
  {
   "cell_type": "code",
   "execution_count": null,
   "metadata": {},
   "outputs": [],
   "source": [
    "schema = pd.read_sql('SELECT name, sql FROM sqlite_master', conn)\n",
    "schema"
   ]
  },
  {
   "cell_type": "code",
   "execution_count": null,
   "metadata": {},
   "outputs": [],
   "source": [
    "schema.sql[0]"
   ]
  },
  {
   "cell_type": "markdown",
   "metadata": {},
   "source": [
    "We can actually use the queries above as is, and load it directly into a pandas DataFrame:"
   ]
  },
  {
   "cell_type": "code",
   "execution_count": null,
   "metadata": {},
   "outputs": [],
   "source": [
    "summaries = pd.read_sql('''\n",
    "WITH\n",
    "\n",
    "volume_summaries AS (\n",
    "SELECT \n",
    "    token, \n",
    "    SUM(volumeUSD) / 1e9 AS volumeUSD\n",
    "FROM ohlc \n",
    "GROUP BY 1 \n",
    "ORDER BY 2 DESC\n",
    "),\n",
    "\n",
    "token_caps AS (\n",
    "SELECT\n",
    "    Symbol AS token,\n",
    "    MarketCap / 1e9 AS market_cap\n",
    "FROM\n",
    "    market_caps\n",
    ")\n",
    "\n",
    "SELECT\n",
    "    *,\n",
    "    ROUND(100 * volumeUSD / market_cap) AS float_traded_total\n",
    "FROM\n",
    "    token_caps\n",
    "    JOIN volume_summaries USING(token)\n",
    "''', conn)\n",
    "summaries"
   ]
  },
  {
   "cell_type": "markdown",
   "metadata": {},
   "source": [
    "We can also write back to our SQL database very easily, using `.to_sql`.  This allows us to process data in python, and once we're ready we can now save the results back down into a SQL database (which can be used for other people for example, or used by us later if we want to join against other datasets)"
   ]
  },
  {
   "cell_type": "code",
   "execution_count": null,
   "metadata": {},
   "outputs": [],
   "source": [
    "summaries.to_sql('summaries', conn, if_exists='fail')"
   ]
  },
  {
   "cell_type": "markdown",
   "metadata": {},
   "source": [
    "notice that we set `if_exists` equal to `fail` (this is also the default option).  This prevents accidental overwrites, as if we try to run the command again it will detect the table already existing and fail.  If this is not the desired behavior we can also use `replace` or `append` options, which will either rewrite the table everytime, or append the data to the bottom."
   ]
  },
  {
   "cell_type": "code",
   "execution_count": null,
   "metadata": {},
   "outputs": [],
   "source": [
    "summaries.to_sql('summaries', conn, if_exists='replace')"
   ]
  },
  {
   "cell_type": "markdown",
   "metadata": {},
   "source": [
    "lastly, if we want to drop any tables, we can just use a cursor and issue a drop command"
   ]
  },
  {
   "cell_type": "code",
   "execution_count": null,
   "metadata": {},
   "outputs": [],
   "source": [
    "conn.cursor().execute('DROP TABLE summaries')\n",
    "conn.commit()"
   ]
  }
 ],
 "metadata": {
  "kernelspec": {
   "display_name": "Python 3",
   "language": "python",
   "name": "python3"
  },
  "language_info": {
   "codemirror_mode": {
    "name": "ipython",
    "version": 3
   },
   "file_extension": ".py",
   "mimetype": "text/x-python",
   "name": "python",
   "nbconvert_exporter": "python",
   "pygments_lexer": "ipython3",
   "version": "3.7.4"
  }
 },
 "nbformat": 4,
 "nbformat_minor": 5
}
