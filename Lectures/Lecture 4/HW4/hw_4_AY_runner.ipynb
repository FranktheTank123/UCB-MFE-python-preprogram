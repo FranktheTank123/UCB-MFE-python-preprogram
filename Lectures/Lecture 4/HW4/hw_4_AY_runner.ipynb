{
 "cells": [
  {
   "cell_type": "code",
   "execution_count": 7,
   "id": "8aad401b-d8fd-414b-9a2b-88d0aad5bf02",
   "metadata": {},
   "outputs": [],
   "source": [
    "import papermill as pm\n",
    "import scrapbook as sb\n",
    "import numpy as np\n",
    "import pandas as pd\n",
    "from datetime import datetime, timedelta\n",
    "import sqlite3\n",
    "import os"
   ]
  },
  {
   "cell_type": "code",
   "execution_count": 8,
   "id": "423ec2a8-2777-4f0d-9be0-b3c05dcacec8",
   "metadata": {},
   "outputs": [],
   "source": [
    "connection_string = 'sqlite:///../../../Lectures/Lecture 4/data/data.db'\n",
    "data = pd.read_sql(\"SELECT * FROM ohlc\", connection_string)\n",
    "x=data.token.unique()\n",
    "tokens = x.tolist()\n",
    "tokens\n",
    "final_time = data.ts.unique()[len(data.ts.unique())-1]\n",
    "final_time\n",
    "#convert to datetime format(googled)\n",
    "final_date_time_obj = datetime.strptime(\"2021-12-15 00:00:00\",\"%Y-%m-%d %H:%M:%S\")"
   ]
  },
  {
   "cell_type": "code",
   "execution_count": 9,
   "id": "90f9c2c1-8c3a-4d65-b280-08f5ed4bc861",
   "metadata": {},
   "outputs": [
    {
     "data": {
      "text/plain": [
       "[datetime.datetime(2021, 11, 29, 0, 0), datetime.datetime(2021, 12, 6, 0, 0)]"
      ]
     },
     "execution_count": 9,
     "metadata": {},
     "output_type": "execute_result"
    }
   ],
   "source": [
    "#borrowed from lecture\n",
    "#rturns\n",
    "def last_dow(d: datetime, dow: int) -> datetime:\n",
    "    '''\n",
    "    Gets the date of the last day of week, using datetime convention of Monday is 0 and Sunday is 6\n",
    "    we set the second parameter to be 0 as we want the date for monday\n",
    "    '''\n",
    "    dow_d = d.weekday()\n",
    "    days_delta = (7 - dow) + dow_d if dow_d < dow else dow_d - dow\n",
    "    return d - timedelta(days=days_delta)\n",
    "#allow int to be 0 as we want to return the date for mondays of the last two weeks\n",
    "run_dates = [last_dow(final_date_time_obj, 0) - timedelta(days=14),last_dow(final_date_time_obj, 0) - timedelta(days=7)]\n",
    "run_dates"
   ]
  },
  {
   "cell_type": "code",
   "execution_count": 10,
   "id": "80934e95-cd45-40e5-ade0-6ee1aca40e0b",
   "metadata": {},
   "outputs": [],
   "source": [
    "base_output_folder = os.path.expanduser('outputs')\n",
    "\n",
    "if not os.path.exists(base_output_folder):\n",
    "        os.makedirs(base_output_folder)"
   ]
  },
  {
   "cell_type": "code",
   "execution_count": 11,
   "id": "35c0a15f-507a-4a2a-90a8-e26833a1a1cc",
   "metadata": {},
   "outputs": [
    {
     "name": "stdout",
     "output_type": "stream",
     "text": [
      "running for BTC for date 2021-11-29 00:00:00 to 2021-12-06 00:00:00\r"
     ]
    },
    {
     "data": {
      "application/vnd.jupyter.widget-view+json": {
       "model_id": "eefdfb2bbf464d889f5071265d1f6195",
       "version_major": 2,
       "version_minor": 0
      },
      "text/plain": [
       "Executing:   0%|          | 0/16 [00:00<?, ?cell/s]"
      ]
     },
     "metadata": {},
     "output_type": "display_data"
    },
    {
     "name": "stdout",
     "output_type": "stream",
     "text": [
      "running for ETH for date 2021-11-29 00:00:00 to 2021-12-06 00:00:00\r"
     ]
    },
    {
     "data": {
      "application/vnd.jupyter.widget-view+json": {
       "model_id": "6b50446f9fd34e7db916f14ebba6c7f5",
       "version_major": 2,
       "version_minor": 0
      },
      "text/plain": [
       "Executing:   0%|          | 0/16 [00:00<?, ?cell/s]"
      ]
     },
     "metadata": {},
     "output_type": "display_data"
    },
    {
     "name": "stdout",
     "output_type": "stream",
     "text": [
      "running for USDT for date 2021-11-29 00:00:00 to 2021-12-06 00:00:00\r"
     ]
    },
    {
     "data": {
      "application/vnd.jupyter.widget-view+json": {
       "model_id": "1ad79048c4534e9d9378b5013ac6417d",
       "version_major": 2,
       "version_minor": 0
      },
      "text/plain": [
       "Executing:   0%|          | 0/16 [00:00<?, ?cell/s]"
      ]
     },
     "metadata": {},
     "output_type": "display_data"
    },
    {
     "name": "stdout",
     "output_type": "stream",
     "text": [
      "running for SOL for date 2021-11-29 00:00:00 to 2021-12-06 00:00:00\r"
     ]
    },
    {
     "data": {
      "application/vnd.jupyter.widget-view+json": {
       "model_id": "5b2859f74a4842489de49b628e5a482c",
       "version_major": 2,
       "version_minor": 0
      },
      "text/plain": [
       "Executing:   0%|          | 0/16 [00:00<?, ?cell/s]"
      ]
     },
     "metadata": {},
     "output_type": "display_data"
    },
    {
     "name": "stdout",
     "output_type": "stream",
     "text": [
      "running for ADA for date 2021-11-29 00:00:00 to 2021-12-06 00:00:00\r"
     ]
    },
    {
     "data": {
      "application/vnd.jupyter.widget-view+json": {
       "model_id": "c1623140f96049aaa01e219a4000b40c",
       "version_major": 2,
       "version_minor": 0
      },
      "text/plain": [
       "Executing:   0%|          | 0/16 [00:00<?, ?cell/s]"
      ]
     },
     "metadata": {},
     "output_type": "display_data"
    },
    {
     "name": "stdout",
     "output_type": "stream",
     "text": [
      "running for DOT for date 2021-11-29 00:00:00 to 2021-12-06 00:00:00\r"
     ]
    },
    {
     "data": {
      "application/vnd.jupyter.widget-view+json": {
       "model_id": "efdff10cea634e19bcd2114bbe25eee4",
       "version_major": 2,
       "version_minor": 0
      },
      "text/plain": [
       "Executing:   0%|          | 0/16 [00:00<?, ?cell/s]"
      ]
     },
     "metadata": {},
     "output_type": "display_data"
    },
    {
     "name": "stdout",
     "output_type": "stream",
     "text": [
      "running for AVAX for date 2021-11-29 00:00:00 to 2021-12-06 00:00:00\r"
     ]
    },
    {
     "data": {
      "application/vnd.jupyter.widget-view+json": {
       "model_id": "91507d5ae3d948c8b4e2dbef67bdab68",
       "version_major": 2,
       "version_minor": 0
      },
      "text/plain": [
       "Executing:   0%|          | 0/16 [00:00<?, ?cell/s]"
      ]
     },
     "metadata": {},
     "output_type": "display_data"
    },
    {
     "name": "stdout",
     "output_type": "stream",
     "text": [
      "running for ATOM for date 2021-11-29 00:00:00 to 2021-12-06 00:00:00\r"
     ]
    },
    {
     "data": {
      "application/vnd.jupyter.widget-view+json": {
       "model_id": "ed4f2910343140b4a0cc8e5534203902",
       "version_major": 2,
       "version_minor": 0
      },
      "text/plain": [
       "Executing:   0%|          | 0/16 [00:00<?, ?cell/s]"
      ]
     },
     "metadata": {},
     "output_type": "display_data"
    },
    {
     "name": "stdout",
     "output_type": "stream",
     "text": [
      "running for CRV for date 2021-11-29 00:00:00 to 2021-12-06 00:00:00\r"
     ]
    },
    {
     "data": {
      "application/vnd.jupyter.widget-view+json": {
       "model_id": "275c1e0af6824be483c29230dace86d9",
       "version_major": 2,
       "version_minor": 0
      },
      "text/plain": [
       "Executing:   0%|          | 0/16 [00:00<?, ?cell/s]"
      ]
     },
     "metadata": {},
     "output_type": "display_data"
    },
    {
     "name": "stdout",
     "output_type": "stream",
     "text": [
      "running for AAVE for date 2021-11-29 00:00:00 to 2021-12-06 00:00:00\r"
     ]
    },
    {
     "data": {
      "application/vnd.jupyter.widget-view+json": {
       "model_id": "05ba334b5e214ebaa4d81550b1108d95",
       "version_major": 2,
       "version_minor": 0
      },
      "text/plain": [
       "Executing:   0%|          | 0/16 [00:00<?, ?cell/s]"
      ]
     },
     "metadata": {},
     "output_type": "display_data"
    },
    {
     "name": "stdout",
     "output_type": "stream",
     "text": [
      "running for COMP for date 2021-11-29 00:00:00 to 2021-12-06 00:00:00\r"
     ]
    },
    {
     "data": {
      "application/vnd.jupyter.widget-view+json": {
       "model_id": "d77b4329d3a84516b6e701528ce854ba",
       "version_major": 2,
       "version_minor": 0
      },
      "text/plain": [
       "Executing:   0%|          | 0/16 [00:00<?, ?cell/s]"
      ]
     },
     "metadata": {},
     "output_type": "display_data"
    },
    {
     "name": "stdout",
     "output_type": "stream",
     "text": [
      "running for BTC for date 2021-12-06 00:00:00 to 2021-12-13 00:00:00\r"
     ]
    },
    {
     "data": {
      "application/vnd.jupyter.widget-view+json": {
       "model_id": "4b907c227154445982fc36609139a363",
       "version_major": 2,
       "version_minor": 0
      },
      "text/plain": [
       "Executing:   0%|          | 0/16 [00:00<?, ?cell/s]"
      ]
     },
     "metadata": {},
     "output_type": "display_data"
    },
    {
     "name": "stdout",
     "output_type": "stream",
     "text": [
      "running for ETH for date 2021-12-06 00:00:00 to 2021-12-13 00:00:00\r"
     ]
    },
    {
     "data": {
      "application/vnd.jupyter.widget-view+json": {
       "model_id": "b12e32718c2b4b9aa9adaff3a56b3e0d",
       "version_major": 2,
       "version_minor": 0
      },
      "text/plain": [
       "Executing:   0%|          | 0/16 [00:00<?, ?cell/s]"
      ]
     },
     "metadata": {},
     "output_type": "display_data"
    },
    {
     "name": "stdout",
     "output_type": "stream",
     "text": [
      "running for USDT for date 2021-12-06 00:00:00 to 2021-12-13 00:00:00\r"
     ]
    },
    {
     "data": {
      "application/vnd.jupyter.widget-view+json": {
       "model_id": "915bae7de7da4ad3a5b15c7e8283bf9d",
       "version_major": 2,
       "version_minor": 0
      },
      "text/plain": [
       "Executing:   0%|          | 0/16 [00:00<?, ?cell/s]"
      ]
     },
     "metadata": {},
     "output_type": "display_data"
    },
    {
     "name": "stdout",
     "output_type": "stream",
     "text": [
      "running for SOL for date 2021-12-06 00:00:00 to 2021-12-13 00:00:00\r"
     ]
    },
    {
     "data": {
      "application/vnd.jupyter.widget-view+json": {
       "model_id": "a0a702336011442bae84d91458ed5d6e",
       "version_major": 2,
       "version_minor": 0
      },
      "text/plain": [
       "Executing:   0%|          | 0/16 [00:00<?, ?cell/s]"
      ]
     },
     "metadata": {},
     "output_type": "display_data"
    },
    {
     "name": "stdout",
     "output_type": "stream",
     "text": [
      "running for ADA for date 2021-12-06 00:00:00 to 2021-12-13 00:00:00\r"
     ]
    },
    {
     "data": {
      "application/vnd.jupyter.widget-view+json": {
       "model_id": "206e99461f0c46959572eb07d33d7df8",
       "version_major": 2,
       "version_minor": 0
      },
      "text/plain": [
       "Executing:   0%|          | 0/16 [00:00<?, ?cell/s]"
      ]
     },
     "metadata": {},
     "output_type": "display_data"
    },
    {
     "name": "stdout",
     "output_type": "stream",
     "text": [
      "running for DOT for date 2021-12-06 00:00:00 to 2021-12-13 00:00:00\r"
     ]
    },
    {
     "data": {
      "application/vnd.jupyter.widget-view+json": {
       "model_id": "302cbdc11a4646e88be5e840c6a53e76",
       "version_major": 2,
       "version_minor": 0
      },
      "text/plain": [
       "Executing:   0%|          | 0/16 [00:00<?, ?cell/s]"
      ]
     },
     "metadata": {},
     "output_type": "display_data"
    },
    {
     "name": "stdout",
     "output_type": "stream",
     "text": [
      "running for AVAX for date 2021-12-06 00:00:00 to 2021-12-13 00:00:00\r"
     ]
    },
    {
     "data": {
      "application/vnd.jupyter.widget-view+json": {
       "model_id": "faa12adebfac4cb2829bae862d5c6829",
       "version_major": 2,
       "version_minor": 0
      },
      "text/plain": [
       "Executing:   0%|          | 0/16 [00:00<?, ?cell/s]"
      ]
     },
     "metadata": {},
     "output_type": "display_data"
    },
    {
     "name": "stdout",
     "output_type": "stream",
     "text": [
      "running for ATOM for date 2021-12-06 00:00:00 to 2021-12-13 00:00:00\r"
     ]
    },
    {
     "data": {
      "application/vnd.jupyter.widget-view+json": {
       "model_id": "fd8594e2a66c434db701886ab4b326f2",
       "version_major": 2,
       "version_minor": 0
      },
      "text/plain": [
       "Executing:   0%|          | 0/16 [00:00<?, ?cell/s]"
      ]
     },
     "metadata": {},
     "output_type": "display_data"
    },
    {
     "name": "stdout",
     "output_type": "stream",
     "text": [
      "running for CRV for date 2021-12-06 00:00:00 to 2021-12-13 00:00:00\r"
     ]
    },
    {
     "data": {
      "application/vnd.jupyter.widget-view+json": {
       "model_id": "2de05477c3e64a26ac9516f3eb7a571a",
       "version_major": 2,
       "version_minor": 0
      },
      "text/plain": [
       "Executing:   0%|          | 0/16 [00:00<?, ?cell/s]"
      ]
     },
     "metadata": {},
     "output_type": "display_data"
    },
    {
     "name": "stdout",
     "output_type": "stream",
     "text": [
      "running for AAVE for date 2021-12-06 00:00:00 to 2021-12-13 00:00:00\r"
     ]
    },
    {
     "data": {
      "application/vnd.jupyter.widget-view+json": {
       "model_id": "c6e25e53383c45c886bb91d29a2f6598",
       "version_major": 2,
       "version_minor": 0
      },
      "text/plain": [
       "Executing:   0%|          | 0/16 [00:00<?, ?cell/s]"
      ]
     },
     "metadata": {},
     "output_type": "display_data"
    },
    {
     "name": "stdout",
     "output_type": "stream",
     "text": [
      "running for COMP for date 2021-12-06 00:00:00 to 2021-12-13 00:00:00\r"
     ]
    },
    {
     "data": {
      "application/vnd.jupyter.widget-view+json": {
       "model_id": "8c8a9fd7ae5245faaad549e2750a5c71",
       "version_major": 2,
       "version_minor": 0
      },
      "text/plain": [
       "Executing:   0%|          | 0/16 [00:00<?, ?cell/s]"
      ]
     },
     "metadata": {},
     "output_type": "display_data"
    }
   ],
   "source": [
    "for run_date in run_dates:\n",
    "    for token in tokens:\n",
    "        print(f'running for {token} for date {run_date} to {run_date + timedelta(days=7)}', end='\\r')\n",
    "        res = pm.execute_notebook(\n",
    "            'hw_4_AY_template.ipynb',\n",
    "            f'{base_output_folder}/market_analysis_{token}_{run_date}.ipynb',\n",
    "            parameters = {\n",
    "                'from_date': f'{run_date}',\n",
    "                'to_date': f'{run_date + timedelta(days=7)}',\n",
    "                'token': token,\n",
    "                'connection_string': connection_string,\n",
    "            }\n",
    "        )"
   ]
  },
  {
   "cell_type": "code",
   "execution_count": 34,
   "id": "f962c983-7dde-4d37-b779-df797bd6e5e7",
   "metadata": {},
   "outputs": [
    {
     "data": {
      "text/html": [
       "<div>\n",
       "<style scoped>\n",
       "    .dataframe tbody tr th:only-of-type {\n",
       "        vertical-align: middle;\n",
       "    }\n",
       "\n",
       "    .dataframe tbody tr th {\n",
       "        vertical-align: top;\n",
       "    }\n",
       "\n",
       "    .dataframe thead th {\n",
       "        text-align: right;\n",
       "    }\n",
       "</style>\n",
       "<table border=\"1\" class=\"dataframe\">\n",
       "  <thead>\n",
       "    <tr style=\"text-align: right;\">\n",
       "      <th></th>\n",
       "      <th>token</th>\n",
       "      <th>from_date</th>\n",
       "      <th>to_date</th>\n",
       "      <th>avg_hourly_return</th>\n",
       "      <th>volatility</th>\n",
       "      <th>max_draw_down</th>\n",
       "      <th>range_of_close</th>\n",
       "    </tr>\n",
       "  </thead>\n",
       "  <tbody>\n",
       "    <tr>\n",
       "      <th>0</th>\n",
       "      <td>AAVE</td>\n",
       "      <td>2021-11-29 00:00:00</td>\n",
       "      <td>2021-12-06 00:00:00</td>\n",
       "      <td>-1.305232e-03</td>\n",
       "      <td>0.221054</td>\n",
       "      <td>-0.433883</td>\n",
       "      <td>-46.8080</td>\n",
       "    </tr>\n",
       "    <tr>\n",
       "      <th>1</th>\n",
       "      <td>AAVE</td>\n",
       "      <td>2021-12-06 00:00:00</td>\n",
       "      <td>2021-12-13 00:00:00</td>\n",
       "      <td>-3.755434e-04</td>\n",
       "      <td>0.200400</td>\n",
       "      <td>-0.219344</td>\n",
       "      <td>-11.6730</td>\n",
       "    </tr>\n",
       "    <tr>\n",
       "      <th>2</th>\n",
       "      <td>ADA</td>\n",
       "      <td>2021-11-29 00:00:00</td>\n",
       "      <td>2021-12-06 00:00:00</td>\n",
       "      <td>-9.344545e-04</td>\n",
       "      <td>0.226749</td>\n",
       "      <td>-0.333333</td>\n",
       "      <td>-0.2305</td>\n",
       "    </tr>\n",
       "    <tr>\n",
       "      <th>3</th>\n",
       "      <td>ADA</td>\n",
       "      <td>2021-12-06 00:00:00</td>\n",
       "      <td>2021-12-13 00:00:00</td>\n",
       "      <td>-1.302320e-04</td>\n",
       "      <td>0.203766</td>\n",
       "      <td>-0.216532</td>\n",
       "      <td>-0.0297</td>\n",
       "    </tr>\n",
       "    <tr>\n",
       "      <th>4</th>\n",
       "      <td>ATOM</td>\n",
       "      <td>2021-11-29 00:00:00</td>\n",
       "      <td>2021-12-06 00:00:00</td>\n",
       "      <td>-6.543502e-04</td>\n",
       "      <td>0.340796</td>\n",
       "      <td>-0.360772</td>\n",
       "      <td>-2.8370</td>\n",
       "    </tr>\n",
       "    <tr>\n",
       "      <th>5</th>\n",
       "      <td>ATOM</td>\n",
       "      <td>2021-12-06 00:00:00</td>\n",
       "      <td>2021-12-13 00:00:00</td>\n",
       "      <td>-9.716086e-07</td>\n",
       "      <td>0.254383</td>\n",
       "      <td>-0.151733</td>\n",
       "      <td>-0.0040</td>\n",
       "    </tr>\n",
       "    <tr>\n",
       "      <th>6</th>\n",
       "      <td>AVAX</td>\n",
       "      <td>2021-11-29 00:00:00</td>\n",
       "      <td>2021-12-06 00:00:00</td>\n",
       "      <td>-1.575971e-03</td>\n",
       "      <td>0.320661</td>\n",
       "      <td>-0.502779</td>\n",
       "      <td>-25.6000</td>\n",
       "    </tr>\n",
       "    <tr>\n",
       "      <th>7</th>\n",
       "      <td>AVAX</td>\n",
       "      <td>2021-12-06 00:00:00</td>\n",
       "      <td>2021-12-13 00:00:00</td>\n",
       "      <td>8.111556e-05</td>\n",
       "      <td>0.249173</td>\n",
       "      <td>-0.198504</td>\n",
       "      <td>1.1800</td>\n",
       "    </tr>\n",
       "    <tr>\n",
       "      <th>8</th>\n",
       "      <td>BTC</td>\n",
       "      <td>2021-11-29 00:00:00</td>\n",
       "      <td>2021-12-06 00:00:00</td>\n",
       "      <td>-8.976678e-04</td>\n",
       "      <td>0.175543</td>\n",
       "      <td>-0.260180</td>\n",
       "      <td>-7979.4100</td>\n",
       "    </tr>\n",
       "    <tr>\n",
       "      <th>9</th>\n",
       "      <td>BTC</td>\n",
       "      <td>2021-12-06 00:00:00</td>\n",
       "      <td>2021-12-13 00:00:00</td>\n",
       "      <td>9.997437e-05</td>\n",
       "      <td>0.134449</td>\n",
       "      <td>-0.098142</td>\n",
       "      <td>833.1100</td>\n",
       "    </tr>\n",
       "    <tr>\n",
       "      <th>10</th>\n",
       "      <td>COMP</td>\n",
       "      <td>2021-11-29 00:00:00</td>\n",
       "      <td>2021-12-06 00:00:00</td>\n",
       "      <td>-1.860340e-03</td>\n",
       "      <td>0.210428</td>\n",
       "      <td>-0.407971</td>\n",
       "      <td>-76.7900</td>\n",
       "    </tr>\n",
       "    <tr>\n",
       "      <th>11</th>\n",
       "      <td>COMP</td>\n",
       "      <td>2021-12-06 00:00:00</td>\n",
       "      <td>2021-12-13 00:00:00</td>\n",
       "      <td>-3.662909e-04</td>\n",
       "      <td>0.234462</td>\n",
       "      <td>-0.257155</td>\n",
       "      <td>-12.5700</td>\n",
       "    </tr>\n",
       "    <tr>\n",
       "      <th>12</th>\n",
       "      <td>CRV</td>\n",
       "      <td>2021-11-29 00:00:00</td>\n",
       "      <td>2021-12-06 00:00:00</td>\n",
       "      <td>-1.956485e-03</td>\n",
       "      <td>0.358515</td>\n",
       "      <td>-0.594302</td>\n",
       "      <td>-1.3619</td>\n",
       "    </tr>\n",
       "    <tr>\n",
       "      <th>13</th>\n",
       "      <td>CRV</td>\n",
       "      <td>2021-12-06 00:00:00</td>\n",
       "      <td>2021-12-13 00:00:00</td>\n",
       "      <td>3.604268e-04</td>\n",
       "      <td>0.289645</td>\n",
       "      <td>-0.258623</td>\n",
       "      <td>0.2249</td>\n",
       "    </tr>\n",
       "    <tr>\n",
       "      <th>14</th>\n",
       "      <td>DOT</td>\n",
       "      <td>2021-11-29 00:00:00</td>\n",
       "      <td>2021-12-06 00:00:00</td>\n",
       "      <td>-1.422355e-03</td>\n",
       "      <td>0.251500</td>\n",
       "      <td>-0.452987</td>\n",
       "      <td>-7.5660</td>\n",
       "    </tr>\n",
       "    <tr>\n",
       "      <th>15</th>\n",
       "      <td>DOT</td>\n",
       "      <td>2021-12-06 00:00:00</td>\n",
       "      <td>2021-12-13 00:00:00</td>\n",
       "      <td>2.898146e-04</td>\n",
       "      <td>0.235252</td>\n",
       "      <td>-0.187318</td>\n",
       "      <td>1.4070</td>\n",
       "    </tr>\n",
       "    <tr>\n",
       "      <th>16</th>\n",
       "      <td>ETH</td>\n",
       "      <td>2021-11-29 00:00:00</td>\n",
       "      <td>2021-12-06 00:00:00</td>\n",
       "      <td>-1.845000e-04</td>\n",
       "      <td>0.187724</td>\n",
       "      <td>-0.231680</td>\n",
       "      <td>-130.4200</td>\n",
       "    </tr>\n",
       "    <tr>\n",
       "      <th>17</th>\n",
       "      <td>ETH</td>\n",
       "      <td>2021-12-06 00:00:00</td>\n",
       "      <td>2021-12-13 00:00:00</td>\n",
       "      <td>-6.668638e-05</td>\n",
       "      <td>0.160916</td>\n",
       "      <td>-0.138327</td>\n",
       "      <td>-46.5500</td>\n",
       "    </tr>\n",
       "    <tr>\n",
       "      <th>18</th>\n",
       "      <td>SOL</td>\n",
       "      <td>2021-11-29 00:00:00</td>\n",
       "      <td>2021-12-06 00:00:00</td>\n",
       "      <td>-3.106808e-04</td>\n",
       "      <td>0.280443</td>\n",
       "      <td>-0.304746</td>\n",
       "      <td>-10.1580</td>\n",
       "    </tr>\n",
       "    <tr>\n",
       "      <th>19</th>\n",
       "      <td>SOL</td>\n",
       "      <td>2021-12-06 00:00:00</td>\n",
       "      <td>2021-12-13 00:00:00</td>\n",
       "      <td>-7.263160e-04</td>\n",
       "      <td>0.199686</td>\n",
       "      <td>-0.232446</td>\n",
       "      <td>-22.4670</td>\n",
       "    </tr>\n",
       "    <tr>\n",
       "      <th>20</th>\n",
       "      <td>USDT</td>\n",
       "      <td>2021-11-29 00:00:00</td>\n",
       "      <td>2021-12-06 00:00:00</td>\n",
       "      <td>3.589225e-06</td>\n",
       "      <td>0.019367</td>\n",
       "      <td>-0.004295</td>\n",
       "      <td>0.0006</td>\n",
       "    </tr>\n",
       "    <tr>\n",
       "      <th>21</th>\n",
       "      <td>USDT</td>\n",
       "      <td>2021-12-06 00:00:00</td>\n",
       "      <td>2021-12-13 00:00:00</td>\n",
       "      <td>-3.589584e-06</td>\n",
       "      <td>0.003089</td>\n",
       "      <td>-0.001100</td>\n",
       "      <td>-0.0006</td>\n",
       "    </tr>\n",
       "  </tbody>\n",
       "</table>\n",
       "</div>"
      ],
      "text/plain": [
       "   token            from_date              to_date  avg_hourly_return  \\\n",
       "0   AAVE  2021-11-29 00:00:00  2021-12-06 00:00:00      -1.305232e-03   \n",
       "1   AAVE  2021-12-06 00:00:00  2021-12-13 00:00:00      -3.755434e-04   \n",
       "2    ADA  2021-11-29 00:00:00  2021-12-06 00:00:00      -9.344545e-04   \n",
       "3    ADA  2021-12-06 00:00:00  2021-12-13 00:00:00      -1.302320e-04   \n",
       "4   ATOM  2021-11-29 00:00:00  2021-12-06 00:00:00      -6.543502e-04   \n",
       "5   ATOM  2021-12-06 00:00:00  2021-12-13 00:00:00      -9.716086e-07   \n",
       "6   AVAX  2021-11-29 00:00:00  2021-12-06 00:00:00      -1.575971e-03   \n",
       "7   AVAX  2021-12-06 00:00:00  2021-12-13 00:00:00       8.111556e-05   \n",
       "8    BTC  2021-11-29 00:00:00  2021-12-06 00:00:00      -8.976678e-04   \n",
       "9    BTC  2021-12-06 00:00:00  2021-12-13 00:00:00       9.997437e-05   \n",
       "10  COMP  2021-11-29 00:00:00  2021-12-06 00:00:00      -1.860340e-03   \n",
       "11  COMP  2021-12-06 00:00:00  2021-12-13 00:00:00      -3.662909e-04   \n",
       "12   CRV  2021-11-29 00:00:00  2021-12-06 00:00:00      -1.956485e-03   \n",
       "13   CRV  2021-12-06 00:00:00  2021-12-13 00:00:00       3.604268e-04   \n",
       "14   DOT  2021-11-29 00:00:00  2021-12-06 00:00:00      -1.422355e-03   \n",
       "15   DOT  2021-12-06 00:00:00  2021-12-13 00:00:00       2.898146e-04   \n",
       "16   ETH  2021-11-29 00:00:00  2021-12-06 00:00:00      -1.845000e-04   \n",
       "17   ETH  2021-12-06 00:00:00  2021-12-13 00:00:00      -6.668638e-05   \n",
       "18   SOL  2021-11-29 00:00:00  2021-12-06 00:00:00      -3.106808e-04   \n",
       "19   SOL  2021-12-06 00:00:00  2021-12-13 00:00:00      -7.263160e-04   \n",
       "20  USDT  2021-11-29 00:00:00  2021-12-06 00:00:00       3.589225e-06   \n",
       "21  USDT  2021-12-06 00:00:00  2021-12-13 00:00:00      -3.589584e-06   \n",
       "\n",
       "    volatility  max_draw_down  range_of_close  \n",
       "0     0.221054      -0.433883        -46.8080  \n",
       "1     0.200400      -0.219344        -11.6730  \n",
       "2     0.226749      -0.333333         -0.2305  \n",
       "3     0.203766      -0.216532         -0.0297  \n",
       "4     0.340796      -0.360772         -2.8370  \n",
       "5     0.254383      -0.151733         -0.0040  \n",
       "6     0.320661      -0.502779        -25.6000  \n",
       "7     0.249173      -0.198504          1.1800  \n",
       "8     0.175543      -0.260180      -7979.4100  \n",
       "9     0.134449      -0.098142        833.1100  \n",
       "10    0.210428      -0.407971        -76.7900  \n",
       "11    0.234462      -0.257155        -12.5700  \n",
       "12    0.358515      -0.594302         -1.3619  \n",
       "13    0.289645      -0.258623          0.2249  \n",
       "14    0.251500      -0.452987         -7.5660  \n",
       "15    0.235252      -0.187318          1.4070  \n",
       "16    0.187724      -0.231680       -130.4200  \n",
       "17    0.160916      -0.138327        -46.5500  \n",
       "18    0.280443      -0.304746        -10.1580  \n",
       "19    0.199686      -0.232446        -22.4670  \n",
       "20    0.019367      -0.004295          0.0006  \n",
       "21    0.003089      -0.001100         -0.0006  "
      ]
     },
     "execution_count": 34,
     "metadata": {},
     "output_type": "execute_result"
    }
   ],
   "source": [
    "#copied from lecture notes\n",
    "nbs = sb.read_notebooks('outputs')\n",
    "\n",
    "\n",
    "pd.DataFrame([\n",
    "    pd.Series({\n",
    "        'token': scrap['token'].data,\n",
    "        'from_date': scrap['from_date'].data,\n",
    "        'to_date': scrap['to_date'].data,\n",
    "        'avg_hourly_return':scrap['prices'].data.hourly_return.mean(),\n",
    "        'volatility': scrap['prices'].data.volatility.mean(), \n",
    "        'max_draw_down':scrap['prices'].data.max_draw_down.min(),\n",
    "        'range_of_close':scrap['prices'].data.close.iloc[len(scrap['prices'].data)-1]-scrap['prices'].data.close.iloc[0]\n",
    "    })\n",
    "    for book, scrap in nbs.notebook_scraps.items()\n",
    "])\n",
    "\n"
   ]
  },
  {
   "cell_type": "code",
   "execution_count": null,
   "id": "ce9702e4-4ba0-4761-89b6-58b53c960437",
   "metadata": {},
   "outputs": [],
   "source": []
  }
 ],
 "metadata": {
  "kernelspec": {
   "display_name": "Python 3 (ipykernel)",
   "language": "python",
   "name": "python3"
  },
  "language_info": {
   "codemirror_mode": {
    "name": "ipython",
    "version": 3
   },
   "file_extension": ".py",
   "mimetype": "text/x-python",
   "name": "python",
   "nbconvert_exporter": "python",
   "pygments_lexer": "ipython3",
   "version": "3.8.12"
  }
 },
 "nbformat": 4,
 "nbformat_minor": 5
}
