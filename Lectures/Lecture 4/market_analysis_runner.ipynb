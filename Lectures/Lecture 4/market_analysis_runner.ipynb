{
 "cells": [
  {
   "cell_type": "code",
   "execution_count": 1,
   "id": "5b5e4e99-3fcf-409d-a3d2-e183c04246f1",
   "metadata": {},
   "outputs": [
    {
     "name": "stderr",
     "output_type": "stream",
     "text": [
      "/Users/anhpham/opt/anaconda3/envs/mfe-preprogram/lib/python3.8/site-packages/papermill/iorw.py:50: FutureWarning: pyarrow.HadoopFileSystem is deprecated as of 2.0.0, please use pyarrow.fs.HadoopFileSystem instead.\n",
      "  from pyarrow import HadoopFileSystem\n"
     ]
    }
   ],
   "source": [
    "import papermill as pm\n",
    "import scrapbook as sb\n",
    "import pandas as pd\n",
    "from datetime import datetime, timedelta\n",
    "import os"
   ]
  },
  {
   "cell_type": "code",
   "execution_count": 2,
   "id": "6384fddb-63f5-45a4-b466-0c6c8ca9dc8d",
   "metadata": {},
   "outputs": [],
   "source": [
    "def last_dow(d: datetime, dow: int) -> datetime:\n",
    "    '''\n",
    "    Gets the date of the last day of week, using datetime convention of Monday is 0 and Sunday is 6\n",
    "    '''\n",
    "    dow_d = d.weekday()\n",
    "    days_delta = (7 - dow) + dow_d if dow_d < dow else dow_d - dow\n",
    "    return d - timedelta(days=days_delta)"
   ]
  },
  {
   "cell_type": "code",
   "execution_count": 3,
   "id": "95273a9c-8a2b-474c-a953-4f0857827da3",
   "metadata": {},
   "outputs": [],
   "source": [
    "run_dates = [(last_dow(datetime(2021, 11, 5), 4) + timedelta(days=7 * x)) for x in range(1)]\n",
    "tokens = ['BTC', 'ETH', 'AVAX']\n",
    "connection_string = 'sqlite:///data/data.db'\n",
    "events_db = 'crypto_events_database'"
   ]
  },
  {
   "cell_type": "code",
   "execution_count": 4,
   "id": "0c47828e",
   "metadata": {},
   "outputs": [
    {
     "data": {
      "text/plain": [
       "[datetime.datetime(2021, 11, 5, 0, 0)]"
      ]
     },
     "execution_count": 4,
     "metadata": {},
     "output_type": "execute_result"
    }
   ],
   "source": [
    "run_dates"
   ]
  },
  {
   "cell_type": "code",
   "execution_count": null,
   "id": "2f94728e-7d8f-4939-a844-eae46e9d5c40",
   "metadata": {},
   "outputs": [],
   "source": [
    "base_output_folder = os.path.expanduser('outputs')\n",
    "\n",
    "if not os.path.exists(base_output_folder):\n",
    "        os.makedirs(base_output_folder)"
   ]
  },
  {
   "cell_type": "code",
   "execution_count": null,
   "id": "38bd44fe-28bc-4f05-87bc-14cafebff393",
   "metadata": {},
   "outputs": [],
   "source": [
    "for run_date in run_dates:\n",
    "    for token in tokens:\n",
    "        print(f'running for {token} for date {run_date} to {run_date + timedelta(days=7)}', end='\\r')\n",
    "        res = pm.execute_notebook(\n",
    "            'market_analysis_template.ipynb',\n",
    "            f'{base_output_folder}/market_analysis_{token}_{run_date}.ipynb',\n",
    "            parameters = {\n",
    "                'from_date': f'{run_date}',\n",
    "                'to_date': f'{run_date + timedelta(days=7)}',\n",
    "                'token': token,\n",
    "                'connection_string': connection_string,\n",
    "                'events_db': events_db\n",
    "            }\n",
    "        )"
   ]
  },
  {
   "cell_type": "code",
   "execution_count": null,
   "id": "2c193f6b-7a36-4ca4-ba9c-e13ac71e4493",
   "metadata": {},
   "outputs": [],
   "source": [
    "nb = sb.read_notebook('outputs/market_analysis_BTC_2021-11-05 00:00:00.ipynb')"
   ]
  },
  {
   "cell_type": "code",
   "execution_count": null,
   "id": "abd4a17c-1956-407b-95fe-1cfb05fdcc21",
   "metadata": {},
   "outputs": [],
   "source": [
    "nb.scraps['prices'].data"
   ]
  },
  {
   "cell_type": "code",
   "execution_count": null,
   "id": "7662e681-21b6-4096-a4aa-2e6f02451d67",
   "metadata": {},
   "outputs": [],
   "source": [
    "nbs = sb.read_notebooks('outputs')"
   ]
  },
  {
   "cell_type": "code",
   "execution_count": null,
   "id": "d42b5f1c-94b8-44bb-a1ad-abae95a96856",
   "metadata": {},
   "outputs": [],
   "source": [
    "pd.DataFrame([\n",
    "    pd.Series({\n",
    "        'token': scrap['token'].data,\n",
    "        'from_date': scrap['from_date'].data,\n",
    "        'to_date': scrap['to_date'].data,\n",
    "        'volatility': scrap['prices'].data.volatility.mean()}) \n",
    "    for book, scrap in nbs.notebook_scraps.items()\n",
    "])"
   ]
  },
  {
   "cell_type": "code",
   "execution_count": null,
   "id": "e4a06cb9-8bea-4317-8262-90ba06607723",
   "metadata": {},
   "outputs": [],
   "source": [
    "[nbs[nb_name].reglue('summary_plot') for nb_name in nbs]"
   ]
  },
  {
   "cell_type": "code",
   "execution_count": null,
   "id": "45939cf1-2e7b-4f52-b675-8cbb294a1537",
   "metadata": {},
   "outputs": [],
   "source": []
  }
 ],
 "metadata": {
  "kernelspec": {
   "display_name": "Python 3 (ipykernel)",
   "language": "python",
   "name": "python3"
  },
  "language_info": {
   "codemirror_mode": {
    "name": "ipython",
    "version": 3
   },
   "file_extension": ".py",
   "mimetype": "text/x-python",
   "name": "python",
   "nbconvert_exporter": "python",
   "pygments_lexer": "ipython3",
   "version": "3.8.12"
  }
 },
 "nbformat": 4,
 "nbformat_minor": 5
}
