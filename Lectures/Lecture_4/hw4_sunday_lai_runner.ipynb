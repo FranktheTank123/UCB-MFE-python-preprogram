{
 "cells": [
  {
   "cell_type": "markdown",
   "id": "08dbe4d2-7484-4a7a-b113-43f24c684868",
   "metadata": {},
   "source": [
    "\n",
    "Create a runner notebook using papermill to run the template notebook across all tokens in the database and the last 2 complete weeks in the database.  Summarize the following in a single DataFrame in the runner notebook\n",
    "    - avg hourly return by run\n",
    "    - avg volatility by run\n",
    "    - maximum drawdown over the entire period of each run\n",
    "    - range of last close price - first close price\n"
   ]
  },
  {
   "cell_type": "code",
   "execution_count": 1,
   "id": "30e5c3db-39ef-4e42-a3ef-c6cabc308978",
   "metadata": {},
   "outputs": [
    {
     "name": "stderr",
     "output_type": "stream",
     "text": [
      "/Users/sundaylai/opt/anaconda3/envs/lecture_4/lib/python3.9/site-packages/papermill/iorw.py:50: FutureWarning: pyarrow.HadoopFileSystem is deprecated as of 2.0.0, please use pyarrow.fs.HadoopFileSystem instead.\n",
      "  from pyarrow import HadoopFileSystem\n"
     ]
    }
   ],
   "source": [
    "import papermill as pm\n",
    "import scrapbook as sb\n",
    "import pandas as pd\n",
    "import time\n",
    "from datetime import datetime, timedelta\n",
    "import os"
   ]
  },
  {
   "cell_type": "code",
   "execution_count": 2,
   "id": "e250c009-cfd3-4a9c-a4ac-18c0daeac2d3",
   "metadata": {},
   "outputs": [],
   "source": [
    "def last_dow(d: datetime, dow: int) -> datetime:\n",
    "    '''\n",
    "    Gets the date of the last day of week, using datetime convention of Monday is 0 and Sunday is 6\n",
    "    '''\n",
    "    dow_d = d.weekday()\n",
    "    days_delta = (7 - dow) + dow_d if dow_d < dow else dow_d - dow\n",
    "    \n",
    "    return d - timedelta(days=days_delta)"
   ]
  },
  {
   "cell_type": "code",
   "execution_count": 3,
   "id": "f49783a8-d50f-4a37-b9d6-8b1c5102d15d",
   "metadata": {},
   "outputs": [],
   "source": [
    "prices = pd.read_sql(f'''\n",
    "SELECT \n",
    "    * \n",
    "FROM ohlc\n",
    "''', 'sqlite:///data/data.db')\n",
    "prices['ts'] = pd.to_datetime(prices['ts'])\n",
    "\n",
    "prices.set_index('ts', inplace=True)"
   ]
  },
  {
   "cell_type": "code",
   "execution_count": 4,
   "id": "3034d8ff-0fc8-43fe-ba2c-e9eadca1167d",
   "metadata": {},
   "outputs": [
    {
     "data": {
      "text/plain": [
       "array(['BTC', 'ETH', 'USDT', 'SOL', 'ADA', 'DOT', 'AVAX', 'ATOM', 'CRV',\n",
       "       'AAVE', 'COMP'], dtype=object)"
      ]
     },
     "execution_count": 4,
     "metadata": {},
     "output_type": "execute_result"
    }
   ],
   "source": [
    "prices.token.unique()"
   ]
  },
  {
   "cell_type": "code",
   "execution_count": 5,
   "id": "1b13fdf2-b831-471e-9da4-b2942a3b2c1f",
   "metadata": {},
   "outputs": [],
   "source": [
    "run_dates = [(last_dow(datetime(2021, 11, 5), 4) + timedelta(days=7 * x)) for x in range(1)]\n",
    "tokens = ['BTC', 'ETH', 'USDT', 'SOL', 'ADA', 'DOT', 'AVAX', 'ATOM', 'CRV',\n",
    "       'AAVE', 'COMP']\n",
    "connection_string = 'sqlite:///data/data.db'\n",
    "events_db = 'crypto_events_database'"
   ]
  },
  {
   "cell_type": "code",
   "execution_count": 6,
   "id": "3ab81b39-716b-413f-a5f8-50008f7e7bcd",
   "metadata": {},
   "outputs": [],
   "source": [
    "base_output_folder = os.path.expanduser('outputs')\n",
    "\n",
    "if not os.path.exists(base_output_folder):\n",
    "        os.makedirs(base_output_folder)"
   ]
  },
  {
   "cell_type": "code",
   "execution_count": 7,
   "id": "9ba2bc3a-d416-4649-82f3-a76657ae7c54",
   "metadata": {},
   "outputs": [
    {
     "data": {
      "text/plain": [
       "[datetime.datetime(2021, 11, 5, 0, 0)]"
      ]
     },
     "execution_count": 7,
     "metadata": {},
     "output_type": "execute_result"
    }
   ],
   "source": [
    "run_dates"
   ]
  },
  {
   "cell_type": "code",
   "execution_count": 8,
   "id": "a6e094be-6be3-4aad-97f4-6144e0e2174a",
   "metadata": {},
   "outputs": [
    {
     "name": "stdout",
     "output_type": "stream",
     "text": [
      "running for BTC for date 2021-11-05 00:00:00 to 2021-11-12 00:00:00\r"
     ]
    },
    {
     "data": {
      "application/vnd.jupyter.widget-view+json": {
       "model_id": "fe9a6fb42700478b8680cae9f51a3b29",
       "version_major": 2,
       "version_minor": 0
      },
      "text/plain": [
       "Executing:   0%|          | 0/18 [00:00<?, ?cell/s]"
      ]
     },
     "metadata": {},
     "output_type": "display_data"
    },
    {
     "name": "stdout",
     "output_type": "stream",
     "text": [
      "running for ETH for date 2021-11-05 00:00:00 to 2021-11-12 00:00:00\r"
     ]
    },
    {
     "data": {
      "application/vnd.jupyter.widget-view+json": {
       "model_id": "fed319802e1542ad8f9167ba65ad12e6",
       "version_major": 2,
       "version_minor": 0
      },
      "text/plain": [
       "Executing:   0%|          | 0/18 [00:00<?, ?cell/s]"
      ]
     },
     "metadata": {},
     "output_type": "display_data"
    },
    {
     "name": "stdout",
     "output_type": "stream",
     "text": [
      "running for USDT for date 2021-11-05 00:00:00 to 2021-11-12 00:00:00\r"
     ]
    },
    {
     "data": {
      "application/vnd.jupyter.widget-view+json": {
       "model_id": "f31d915e20ac483e8797401cf6bb6e43",
       "version_major": 2,
       "version_minor": 0
      },
      "text/plain": [
       "Executing:   0%|          | 0/18 [00:00<?, ?cell/s]"
      ]
     },
     "metadata": {},
     "output_type": "display_data"
    },
    {
     "name": "stdout",
     "output_type": "stream",
     "text": [
      "running for SOL for date 2021-11-05 00:00:00 to 2021-11-12 00:00:00\r"
     ]
    },
    {
     "data": {
      "application/vnd.jupyter.widget-view+json": {
       "model_id": "6518136bc36f4784ab727f785f722f7f",
       "version_major": 2,
       "version_minor": 0
      },
      "text/plain": [
       "Executing:   0%|          | 0/18 [00:00<?, ?cell/s]"
      ]
     },
     "metadata": {},
     "output_type": "display_data"
    },
    {
     "name": "stdout",
     "output_type": "stream",
     "text": [
      "running for ADA for date 2021-11-05 00:00:00 to 2021-11-12 00:00:00\r"
     ]
    },
    {
     "data": {
      "application/vnd.jupyter.widget-view+json": {
       "model_id": "0d9cdfb66e1849ca9e39df9a0ce08e8e",
       "version_major": 2,
       "version_minor": 0
      },
      "text/plain": [
       "Executing:   0%|          | 0/18 [00:00<?, ?cell/s]"
      ]
     },
     "metadata": {},
     "output_type": "display_data"
    },
    {
     "name": "stdout",
     "output_type": "stream",
     "text": [
      "running for DOT for date 2021-11-05 00:00:00 to 2021-11-12 00:00:00\r"
     ]
    },
    {
     "data": {
      "application/vnd.jupyter.widget-view+json": {
       "model_id": "f9cc24a8a6b84d91a280c649478091e2",
       "version_major": 2,
       "version_minor": 0
      },
      "text/plain": [
       "Executing:   0%|          | 0/18 [00:00<?, ?cell/s]"
      ]
     },
     "metadata": {},
     "output_type": "display_data"
    },
    {
     "name": "stdout",
     "output_type": "stream",
     "text": [
      "running for AVAX for date 2021-11-05 00:00:00 to 2021-11-12 00:00:00\r"
     ]
    },
    {
     "data": {
      "application/vnd.jupyter.widget-view+json": {
       "model_id": "c5cda8735bf64497b3ef2ceb746d41f2",
       "version_major": 2,
       "version_minor": 0
      },
      "text/plain": [
       "Executing:   0%|          | 0/18 [00:00<?, ?cell/s]"
      ]
     },
     "metadata": {},
     "output_type": "display_data"
    },
    {
     "name": "stdout",
     "output_type": "stream",
     "text": [
      "running for ATOM for date 2021-11-05 00:00:00 to 2021-11-12 00:00:00\r"
     ]
    },
    {
     "data": {
      "application/vnd.jupyter.widget-view+json": {
       "model_id": "892306fd8c5444079fd1a60c3e2b8521",
       "version_major": 2,
       "version_minor": 0
      },
      "text/plain": [
       "Executing:   0%|          | 0/18 [00:00<?, ?cell/s]"
      ]
     },
     "metadata": {},
     "output_type": "display_data"
    },
    {
     "name": "stdout",
     "output_type": "stream",
     "text": [
      "running for CRV for date 2021-11-05 00:00:00 to 2021-11-12 00:00:00\r"
     ]
    },
    {
     "data": {
      "application/vnd.jupyter.widget-view+json": {
       "model_id": "f24cd22b08b14fb8a2d0454378a1cefa",
       "version_major": 2,
       "version_minor": 0
      },
      "text/plain": [
       "Executing:   0%|          | 0/18 [00:00<?, ?cell/s]"
      ]
     },
     "metadata": {},
     "output_type": "display_data"
    },
    {
     "name": "stdout",
     "output_type": "stream",
     "text": [
      "running for AAVE for date 2021-11-05 00:00:00 to 2021-11-12 00:00:00\r"
     ]
    },
    {
     "data": {
      "application/vnd.jupyter.widget-view+json": {
       "model_id": "885dce84861e48e8801d8aaff6db144b",
       "version_major": 2,
       "version_minor": 0
      },
      "text/plain": [
       "Executing:   0%|          | 0/18 [00:00<?, ?cell/s]"
      ]
     },
     "metadata": {},
     "output_type": "display_data"
    },
    {
     "name": "stdout",
     "output_type": "stream",
     "text": [
      "running for COMP for date 2021-11-05 00:00:00 to 2021-11-12 00:00:00\r"
     ]
    },
    {
     "data": {
      "application/vnd.jupyter.widget-view+json": {
       "model_id": "9a0ca17c8860488ca0d09d186b3ef2d5",
       "version_major": 2,
       "version_minor": 0
      },
      "text/plain": [
       "Executing:   0%|          | 0/18 [00:00<?, ?cell/s]"
      ]
     },
     "metadata": {},
     "output_type": "display_data"
    }
   ],
   "source": [
    "for run_date in run_dates:\n",
    "    for token in tokens:\n",
    "        print(f'running for {token} for date {run_date} to {run_date + timedelta(days=7)}', end='\\r')\n",
    "        res = pm.execute_notebook(\n",
    "            'hw4_sunday_lai_template.ipynb',\n",
    "            f'{base_output_folder}/market_analysis_{token}_{run_date}.ipynb',\n",
    "            parameters = {\n",
    "                'from_date': f'{run_date}',\n",
    "                'to_date': f'{run_date + timedelta(days=7)}',\n",
    "                'token': token,\n",
    "                'connection_string': connection_string,\n",
    "                'events_db': events_db\n",
    "            }\n",
    "        )"
   ]
  },
  {
   "cell_type": "code",
   "execution_count": 9,
   "id": "ae903623-913f-4731-bb9f-fbd881888edb",
   "metadata": {},
   "outputs": [],
   "source": [
    "nbs = sb.read_notebooks('outputs')"
   ]
  },
  {
   "cell_type": "code",
   "execution_count": 10,
   "id": "56bd4827-85fe-4578-843d-21e60ee79a1e",
   "metadata": {},
   "outputs": [
    {
     "data": {
      "text/html": [
       "<div>\n",
       "<style scoped>\n",
       "    .dataframe tbody tr th:only-of-type {\n",
       "        vertical-align: middle;\n",
       "    }\n",
       "\n",
       "    .dataframe tbody tr th {\n",
       "        vertical-align: top;\n",
       "    }\n",
       "\n",
       "    .dataframe thead th {\n",
       "        text-align: right;\n",
       "    }\n",
       "</style>\n",
       "<table border=\"1\" class=\"dataframe\">\n",
       "  <thead>\n",
       "    <tr style=\"text-align: right;\">\n",
       "      <th></th>\n",
       "      <th>token</th>\n",
       "      <th>from_date</th>\n",
       "      <th>to_date</th>\n",
       "      <th>average hourly return</th>\n",
       "      <th>average volatility</th>\n",
       "      <th>maximum drawdown</th>\n",
       "      <th>range</th>\n",
       "    </tr>\n",
       "  </thead>\n",
       "  <tbody>\n",
       "    <tr>\n",
       "      <th>0</th>\n",
       "      <td>AAVE</td>\n",
       "      <td>2021-11-05 00:00:00</td>\n",
       "      <td>2021-11-12 00:00:00</td>\n",
       "      <td>-4.600160e-04</td>\n",
       "      <td>0.151366</td>\n",
       "      <td>13.7630</td>\n",
       "      <td>-19.5870</td>\n",
       "    </tr>\n",
       "    <tr>\n",
       "      <th>1</th>\n",
       "      <td>ADA</td>\n",
       "      <td>2021-11-05 00:00:00</td>\n",
       "      <td>2021-11-12 00:00:00</td>\n",
       "      <td>3.472630e-04</td>\n",
       "      <td>0.160093</td>\n",
       "      <td>0.0869</td>\n",
       "      <td>0.1210</td>\n",
       "    </tr>\n",
       "    <tr>\n",
       "      <th>2</th>\n",
       "      <td>ATOM</td>\n",
       "      <td>2021-11-05 00:00:00</td>\n",
       "      <td>2021-11-12 00:00:00</td>\n",
       "      <td>-6.109935e-04</td>\n",
       "      <td>0.187634</td>\n",
       "      <td>2.8010</td>\n",
       "      <td>-4.1560</td>\n",
       "    </tr>\n",
       "    <tr>\n",
       "      <th>3</th>\n",
       "      <td>AVAX</td>\n",
       "      <td>2021-11-05 00:00:00</td>\n",
       "      <td>2021-11-12 00:00:00</td>\n",
       "      <td>7.604500e-04</td>\n",
       "      <td>0.262145</td>\n",
       "      <td>5.0000</td>\n",
       "      <td>10.1100</td>\n",
       "    </tr>\n",
       "    <tr>\n",
       "      <th>4</th>\n",
       "      <td>BTC</td>\n",
       "      <td>2021-11-05 00:00:00</td>\n",
       "      <td>2021-11-12 00:00:00</td>\n",
       "      <td>3.784540e-04</td>\n",
       "      <td>0.095865</td>\n",
       "      <td>1866.0700</td>\n",
       "      <td>3759.0200</td>\n",
       "    </tr>\n",
       "    <tr>\n",
       "      <th>5</th>\n",
       "      <td>COMP</td>\n",
       "      <td>2021-11-05 00:00:00</td>\n",
       "      <td>2021-11-12 00:00:00</td>\n",
       "      <td>-5.639838e-04</td>\n",
       "      <td>0.157245</td>\n",
       "      <td>18.7700</td>\n",
       "      <td>-29.0500</td>\n",
       "    </tr>\n",
       "    <tr>\n",
       "      <th>6</th>\n",
       "      <td>CRV</td>\n",
       "      <td>2021-11-05 00:00:00</td>\n",
       "      <td>2021-11-12 00:00:00</td>\n",
       "      <td>9.030432e-06</td>\n",
       "      <td>0.237496</td>\n",
       "      <td>0.3344</td>\n",
       "      <td>0.0835</td>\n",
       "    </tr>\n",
       "    <tr>\n",
       "      <th>7</th>\n",
       "      <td>DOT</td>\n",
       "      <td>2021-11-05 00:00:00</td>\n",
       "      <td>2021-11-12 00:00:00</td>\n",
       "      <td>-6.460512e-04</td>\n",
       "      <td>0.171455</td>\n",
       "      <td>2.2860</td>\n",
       "      <td>-5.8260</td>\n",
       "    </tr>\n",
       "    <tr>\n",
       "      <th>8</th>\n",
       "      <td>ETH</td>\n",
       "      <td>2021-11-05 00:00:00</td>\n",
       "      <td>2021-11-12 00:00:00</td>\n",
       "      <td>2.924078e-04</td>\n",
       "      <td>0.099854</td>\n",
       "      <td>105.7700</td>\n",
       "      <td>215.6500</td>\n",
       "    </tr>\n",
       "    <tr>\n",
       "      <th>9</th>\n",
       "      <td>SOL</td>\n",
       "      <td>2021-11-05 00:00:00</td>\n",
       "      <td>2021-11-12 00:00:00</td>\n",
       "      <td>-2.991968e-04</td>\n",
       "      <td>0.172281</td>\n",
       "      <td>8.8490</td>\n",
       "      <td>-10.9980</td>\n",
       "    </tr>\n",
       "    <tr>\n",
       "      <th>10</th>\n",
       "      <td>USDT</td>\n",
       "      <td>2021-11-05 00:00:00</td>\n",
       "      <td>2021-11-12 00:00:00</td>\n",
       "      <td>5.975866e-07</td>\n",
       "      <td>0.003694</td>\n",
       "      <td>0.0026</td>\n",
       "      <td>-0.0001</td>\n",
       "    </tr>\n",
       "  </tbody>\n",
       "</table>\n",
       "</div>"
      ],
      "text/plain": [
       "   token            from_date              to_date  average hourly return  \\\n",
       "0   AAVE  2021-11-05 00:00:00  2021-11-12 00:00:00          -4.600160e-04   \n",
       "1    ADA  2021-11-05 00:00:00  2021-11-12 00:00:00           3.472630e-04   \n",
       "2   ATOM  2021-11-05 00:00:00  2021-11-12 00:00:00          -6.109935e-04   \n",
       "3   AVAX  2021-11-05 00:00:00  2021-11-12 00:00:00           7.604500e-04   \n",
       "4    BTC  2021-11-05 00:00:00  2021-11-12 00:00:00           3.784540e-04   \n",
       "5   COMP  2021-11-05 00:00:00  2021-11-12 00:00:00          -5.639838e-04   \n",
       "6    CRV  2021-11-05 00:00:00  2021-11-12 00:00:00           9.030432e-06   \n",
       "7    DOT  2021-11-05 00:00:00  2021-11-12 00:00:00          -6.460512e-04   \n",
       "8    ETH  2021-11-05 00:00:00  2021-11-12 00:00:00           2.924078e-04   \n",
       "9    SOL  2021-11-05 00:00:00  2021-11-12 00:00:00          -2.991968e-04   \n",
       "10  USDT  2021-11-05 00:00:00  2021-11-12 00:00:00           5.975866e-07   \n",
       "\n",
       "    average volatility  maximum drawdown      range  \n",
       "0             0.151366           13.7630   -19.5870  \n",
       "1             0.160093            0.0869     0.1210  \n",
       "2             0.187634            2.8010    -4.1560  \n",
       "3             0.262145            5.0000    10.1100  \n",
       "4             0.095865         1866.0700  3759.0200  \n",
       "5             0.157245           18.7700   -29.0500  \n",
       "6             0.237496            0.3344     0.0835  \n",
       "7             0.171455            2.2860    -5.8260  \n",
       "8             0.099854          105.7700   215.6500  \n",
       "9             0.172281            8.8490   -10.9980  \n",
       "10            0.003694            0.0026    -0.0001  "
      ]
     },
     "execution_count": 10,
     "metadata": {},
     "output_type": "execute_result"
    }
   ],
   "source": [
    "pd.DataFrame([\n",
    "    pd.Series({\n",
    "        'token': scrap['token'].data,\n",
    "        'from_date': scrap['from_date'].data,\n",
    "        'to_date': scrap['to_date'].data,\n",
    "        'average hourly return': scrap['prices'].data['hourly return'].mean(),\n",
    "        'average volatility': scrap['prices'].data.volatility.mean(),\n",
    "        'maximum drawdown':scrap['prices'].data['maximum drawdown'][-1],\n",
    "        'range': scrap['prices'].data.close[-1] - scrap['prices'].data.close[0]}) \n",
    "    for book, scrap in nbs.notebook_scraps.items()\n",
    "])"
   ]
  },
  {
   "cell_type": "code",
   "execution_count": null,
   "id": "c75de2c8-1ecb-4134-9b05-7d5a88222e38",
   "metadata": {},
   "outputs": [],
   "source": []
  }
 ],
 "metadata": {
  "kernelspec": {
   "display_name": "Python 3 (ipykernel)",
   "language": "python",
   "name": "python3"
  },
  "language_info": {
   "codemirror_mode": {
    "name": "ipython",
    "version": 3
   },
   "file_extension": ".py",
   "mimetype": "text/x-python",
   "name": "python",
   "nbconvert_exporter": "python",
   "pygments_lexer": "ipython3",
   "version": "3.9.7"
  }
 },
 "nbformat": 4,
 "nbformat_minor": 5
}
