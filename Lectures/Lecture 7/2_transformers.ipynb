{
 "cells": [
  {
   "cell_type": "markdown",
   "id": "2e655232-d480-4fd0-9ee6-8d4af943353f",
   "metadata": {},
   "source": [
    "# Transformations"
   ]
  },
  {
   "cell_type": "markdown",
   "id": "be68ef28-bc3b-46e1-b15e-4cb545f59894",
   "metadata": {},
   "source": [
    "In this model we'll see a few common transformations that we use when we pre-process data before training our model"
   ]
  },
  {
   "cell_type": "markdown",
   "id": "e0c03207-a0a9-4e27-a32e-073c884246be",
   "metadata": {},
   "source": [
    "## Preprocessing"
   ]
  },
  {
   "cell_type": "markdown",
   "id": "5c25d6c6-6e1b-425e-9264-5c273180d517",
   "metadata": {},
   "source": [
    "One of the most common steps that we will need to do before running a model is pre-processing our features.  This may be as simple as standardizing your features so that they are the same scale, all the way to mapping your empirical data to a guassian distribution.  `sklearn` has a suite of built-in preprocessors to help us do this easily."
   ]
  },
  {
   "cell_type": "markdown",
   "id": "7aefc1d1-9d00-4043-aa4d-f27bbc39c1dd",
   "metadata": {},
   "source": [
    "### Standardization"
   ]
  },
  {
   "cell_type": "markdown",
   "id": "23dd31cf-118f-47cb-8846-f014cff445aa",
   "metadata": {},
   "source": [
    "Standardization is simply taking a set of data points, subtracting out the mean and dividing by its standard deviation.\n",
    "\n",
    "It is often needed for most machine learning models, as features with different scale and means can dramatically affect the estimated results.  It's often good practice to standardize features by default, and only not standardize if there's a very good reason to do so.\n",
    "\n",
    "To standardize, we can use sklearn's transformers to help us.  For example, if we want to standardize a variable:"
   ]
  },
  {
   "cell_type": "code",
   "execution_count": null,
   "id": "b7d55836-8ed7-4a64-bf7c-34e238ec87f5",
   "metadata": {},
   "outputs": [],
   "source": [
    "from sklearn.preprocessing import StandardScaler\n",
    "import numpy as np"
   ]
  },
  {
   "cell_type": "code",
   "execution_count": null,
   "id": "f7d5a140-cc46-4691-8a63-3e010df7bbf5",
   "metadata": {},
   "outputs": [],
   "source": [
    "X_train = np.array([\n",
    "    [ 1., -1.,  2.],\n",
    "    [ 2.,  0.,  0.],\n",
    "    [ 0.,  1., -1.]]\n",
    ")\n"
   ]
  },
  {
   "cell_type": "code",
   "execution_count": null,
   "id": "2619e315-b0fa-4c56-81c9-89c3685f491b",
   "metadata": {},
   "outputs": [],
   "source": [
    "scaler = StandardScaler()\n",
    "scaler.fit(X_train)"
   ]
  },
  {
   "cell_type": "code",
   "execution_count": null,
   "id": "3721e376-788a-4c08-a2fd-da575ca1193d",
   "metadata": {},
   "outputs": [],
   "source": [
    "scaler.mean_"
   ]
  },
  {
   "cell_type": "code",
   "execution_count": null,
   "id": "b8c59199-a2a1-406a-bd55-e6aed8bc0830",
   "metadata": {},
   "outputs": [],
   "source": [
    "scaler.scale_"
   ]
  },
  {
   "cell_type": "code",
   "execution_count": null,
   "id": "1bbfcd14-8a10-4d8d-bbb2-14c01a03282e",
   "metadata": {},
   "outputs": [],
   "source": [
    "X_scaled = scaler.transform(X_train)\n",
    "X_scaled"
   ]
  },
  {
   "cell_type": "markdown",
   "id": "61535ffc-a75f-463b-9f62-3b1b4392b272",
   "metadata": {},
   "source": [
    "**note**: we can do both steps by calling `fit_transform`:"
   ]
  },
  {
   "cell_type": "code",
   "execution_count": null,
   "id": "014addb2-ff46-4998-a467-28d3183e6fce",
   "metadata": {},
   "outputs": [],
   "source": [
    "X_scaled = StandardScaler().fit_transform(X_train)\n",
    "X_scaled"
   ]
  },
  {
   "cell_type": "markdown",
   "id": "60d00f74-0db7-44c8-bddd-3d84758dc75f",
   "metadata": {},
   "source": [
    "we can now verify that we have standardized the variable:"
   ]
  },
  {
   "cell_type": "code",
   "execution_count": null,
   "id": "df1a6945-db6c-4eab-b615-7c1008125972",
   "metadata": {},
   "outputs": [],
   "source": [
    "X_scaled.mean(axis=0)"
   ]
  },
  {
   "cell_type": "code",
   "execution_count": null,
   "id": "29ac088e-246a-4d00-8940-009ba6fa97d6",
   "metadata": {
    "tags": []
   },
   "outputs": [],
   "source": [
    "X_scaled.std(axis=0)"
   ]
  },
  {
   "cell_type": "markdown",
   "id": "d762e6fd-6704-4c8e-8d9f-c0384673baa4",
   "metadata": {},
   "source": [
    "### Normalization"
   ]
  },
  {
   "cell_type": "markdown",
   "id": "d028d182-edab-4894-b449-335d83e28eff",
   "metadata": {},
   "source": [
    "A more generalized version of standardization is normalization, where we scale the data to have unit norm."
   ]
  },
  {
   "cell_type": "code",
   "execution_count": null,
   "id": "2405b0b2-b41d-4dfb-a890-872364d8f58d",
   "metadata": {},
   "outputs": [],
   "source": [
    "from sklearn.preprocessing import Normalizer"
   ]
  },
  {
   "cell_type": "code",
   "execution_count": null,
   "id": "22d9c905-479e-4c1c-9722-cb9ecf4b7df1",
   "metadata": {},
   "outputs": [],
   "source": [
    "normalizer = Normalizer(norm='l2')"
   ]
  },
  {
   "cell_type": "code",
   "execution_count": null,
   "id": "761162e9-d91f-4820-99bd-603c7fefbeb7",
   "metadata": {},
   "outputs": [],
   "source": [
    "normalizer.fit_transform(X_train)"
   ]
  },
  {
   "cell_type": "markdown",
   "id": "0da60b72-022d-4859-b01a-0ffd8e898329",
   "metadata": {},
   "source": [
    "you can also use other norms, e.g.:"
   ]
  },
  {
   "cell_type": "code",
   "execution_count": null,
   "id": "9bdb3a21-5eea-4008-b5f1-7354f7ab6293",
   "metadata": {},
   "outputs": [],
   "source": [
    "normalizer_l1 = Normalizer(norm='l1')\n",
    "normalizer_l1.fit_transform(X_train)"
   ]
  },
  {
   "cell_type": "markdown",
   "id": "12c3d8c7-06df-44d7-914a-b378fe308ba1",
   "metadata": {},
   "source": [
    "### Scaling"
   ]
  },
  {
   "cell_type": "markdown",
   "id": "60153fe0-c5b9-4406-803d-61e091083c94",
   "metadata": {},
   "source": [
    "There will be certain situations where we prefer to scale our features rather than standardize them.  We may want to do this for data sets with a lot of zeros, where zeros are meaningful.\n",
    "\n",
    "We can scale our input matrix above to `[-1, 1]`:"
   ]
  },
  {
   "cell_type": "code",
   "execution_count": null,
   "id": "de35e6b3-8aca-4ebe-ae4a-aab78b31262b",
   "metadata": {},
   "outputs": [],
   "source": [
    "from sklearn.preprocessing import MaxAbsScaler"
   ]
  },
  {
   "cell_type": "code",
   "execution_count": null,
   "id": "8c6db93c-d0ad-4ef8-adc5-38892fbc5ffc",
   "metadata": {},
   "outputs": [],
   "source": [
    "min_max_scaler = MaxAbsScaler()"
   ]
  },
  {
   "cell_type": "code",
   "execution_count": null,
   "id": "8f3f29ee-fcd3-4ae1-a48f-f9eb0eac6bd6",
   "metadata": {},
   "outputs": [],
   "source": [
    "X_train_minmax = min_max_scaler.fit_transform(X_train)\n",
    "X_train_minmax"
   ]
  },
  {
   "cell_type": "code",
   "execution_count": null,
   "id": "a415efbf-df5f-47cd-9965-c1a9aee8302d",
   "metadata": {},
   "outputs": [],
   "source": [
    "min_max_scaler.scale_"
   ]
  },
  {
   "cell_type": "markdown",
   "id": "ee77d029-3e06-4ac1-aa09-546fd7d3f130",
   "metadata": {},
   "source": [
    "We can see in the above example that we have scaled our dataset to `[-1, 1]`, however we have also protected zero entries.\n",
    "\n",
    "If we want to scale our data to some arbitrary `[a, b]`, then we can use `MinMaxScaler` instead, which works the same way as `MaxAbsScaler`, but it can be initialized with a `feature_range=(min, max)` to specific the range"
   ]
  },
  {
   "cell_type": "markdown",
   "id": "a054ec40-a75d-4a6c-8e19-523a3822b2dd",
   "metadata": {},
   "source": [
    "### Quantiles"
   ]
  },
  {
   "cell_type": "markdown",
   "id": "bb3e75d5-4f3d-431e-b9bf-786ece88c722",
   "metadata": {},
   "source": [
    "Sometimes we can generate higher signals from our features by grouping our data in a logical way.  Quantile grouping is one very common way to transform features - in this method we take our data points and map them to a uniform (or normal) distribution.  This has two major effects:\n",
    "- it spreads out the data when data is tightly clustered, and groups data that is sparse\n",
    "- it reduces the impact of outliers, since they will just be grouped into the top or bottom quantile"
   ]
  },
  {
   "cell_type": "code",
   "execution_count": null,
   "id": "eedb6212-0b47-4179-9914-f2b015364f48",
   "metadata": {},
   "outputs": [],
   "source": [
    "from sklearn.datasets import load_iris\n",
    "from sklearn.preprocessing import QuantileTransformer"
   ]
  },
  {
   "cell_type": "code",
   "execution_count": null,
   "id": "3b29bd4d-586d-455e-a6e5-a381851bc461",
   "metadata": {},
   "outputs": [],
   "source": [
    "X, y = load_iris(return_X_y=True)"
   ]
  },
  {
   "cell_type": "code",
   "execution_count": null,
   "id": "2ef2fb3a-f93c-4a81-a4c8-6455350f31ea",
   "metadata": {},
   "outputs": [],
   "source": [
    "quantile = QuantileTransformer(random_state=0, n_quantiles=10)\n",
    "x_quantiles = quantile.fit_transform(X)\n",
    "x_quantiles[:10]"
   ]
  },
  {
   "cell_type": "markdown",
   "id": "4c2977d3-e7ba-40af-9cb0-f4396150917c",
   "metadata": {},
   "source": [
    "after processing the data into quantiles, we can now see that the data is between `[0, 1]`, and with a uniform distribution"
   ]
  },
  {
   "cell_type": "code",
   "execution_count": null,
   "id": "02cbb69d-fae5-4747-acca-6d91a77177b7",
   "metadata": {},
   "outputs": [],
   "source": [
    "np.percentile(X[:, 0], [0, 25, 50, 75, 100]) \n"
   ]
  },
  {
   "cell_type": "code",
   "execution_count": null,
   "id": "b907f592-63f2-4680-8008-163e03923c1a",
   "metadata": {},
   "outputs": [],
   "source": [
    "np.percentile(x_quantiles[:, 0], [0, 25, 50, 75, 100]) \n"
   ]
  },
  {
   "cell_type": "markdown",
   "id": "da4f73b7-2d42-4670-9903-6767878a75f5",
   "metadata": {},
   "source": [
    "### Categorical Feature Encoding"
   ]
  },
  {
   "cell_type": "markdown",
   "id": "67fa1d8c-1d8f-47c6-a926-dcf6e8d2cd91",
   "metadata": {},
   "source": [
    "Sometimes, our data isn't numeric but categorical, however for most machine learning models, non-numeric inputs tend to be fairly difficult to deal with.  As a result we will need to encode our categorical variables into numeric equivalents."
   ]
  },
  {
   "cell_type": "code",
   "execution_count": null,
   "id": "35c05061-4c10-48a8-a942-14c977b636cd",
   "metadata": {},
   "outputs": [],
   "source": [
    "from sklearn.preprocessing import OrdinalEncoder"
   ]
  },
  {
   "cell_type": "code",
   "execution_count": null,
   "id": "1f493223-f2ef-46ab-8fb6-5ae3cc6c0551",
   "metadata": {},
   "outputs": [],
   "source": [
    "X = [\n",
    "    ['Berkeley', 'Male', 'Masters'],\n",
    "    ['Oakland', 'Male', 'Bachelors'],\n",
    "    ['Berkeley', 'Female', 'PhD']\n",
    "]"
   ]
  },
  {
   "cell_type": "code",
   "execution_count": null,
   "id": "32a6699b-23fa-4dc1-b833-0d13f5a33f9a",
   "metadata": {},
   "outputs": [],
   "source": [
    "encoder = OrdinalEncoder()"
   ]
  },
  {
   "cell_type": "code",
   "execution_count": null,
   "id": "0f47b3ec-f779-43ca-99d3-c320ff85e17f",
   "metadata": {},
   "outputs": [],
   "source": [
    "encoder.fit_transform(X)"
   ]
  },
  {
   "cell_type": "markdown",
   "id": "a94c5317-4290-4601-afa7-f7144068b0a0",
   "metadata": {},
   "source": [
    "we can see from the above that we have converted our categorical features to ordinal features.  However, this is not always useful for modeling since models will take these variables as numeric.  As an example, we cannot take this transformed data and use it for a regression.  \n",
    "\n",
    "Instead, we can use `one hot encoding` (aka dummy variables) to turn our categorical features to a set of dummy features that we can now use in most downstream models"
   ]
  },
  {
   "cell_type": "code",
   "execution_count": null,
   "id": "9f17b1c8-fed2-40b4-948b-8691534efd66",
   "metadata": {},
   "outputs": [],
   "source": [
    "from sklearn.preprocessing import OneHotEncoder"
   ]
  },
  {
   "cell_type": "code",
   "execution_count": null,
   "id": "8e6335b8-2e39-4116-a9cc-d3593b8772d4",
   "metadata": {},
   "outputs": [],
   "source": [
    "hot = OneHotEncoder()"
   ]
  },
  {
   "cell_type": "code",
   "execution_count": null,
   "id": "9a9f97cc-bd22-481f-ae34-1d06d3544d7f",
   "metadata": {},
   "outputs": [],
   "source": [
    "hot.fit_transform(X).toarray()"
   ]
  },
  {
   "cell_type": "code",
   "execution_count": null,
   "id": "bc7f58dc-5c28-45c4-a01b-1de63c49db15",
   "metadata": {},
   "outputs": [],
   "source": [
    "hot.categories_"
   ]
  },
  {
   "cell_type": "markdown",
   "id": "50a5dbaf-7dfd-4ace-b856-9c04764a3f6a",
   "metadata": {},
   "source": [
    "**note** this showcases another really powerful usecase of `Transfomers` - the resulting output does not need to be the same number of columns as the input.  In our case we have 7 distinct categorical variables in 3 rows, and we get a 3x7 matrix as a result.\n",
    "\n",
    "We can also pre-specify the categories - this especially useful if the data set doesn't include all possible categories, but it is important for the model to incorporate them:"
   ]
  },
  {
   "cell_type": "code",
   "execution_count": null,
   "id": "d5fd009d-7155-49b3-9d6e-a1f3a0860f68",
   "metadata": {},
   "outputs": [],
   "source": [
    "hot = OneHotEncoder(categories=[\n",
    "    ['Berkeley', 'Oakland', 'San Francisco'],\n",
    "    ['Female', 'Male'],\n",
    "    ['Bachelors', 'Masters', 'PhD', 'High School']\n",
    "])\n",
    "hot.fit_transform(X).toarray()"
   ]
  },
  {
   "cell_type": "markdown",
   "id": "eee6c74c-a775-4187-93e4-84e8425f7590",
   "metadata": {},
   "source": [
    "we can now see that we have 9 categories represented in the data, even though we don't have 2 of them in our sample data set."
   ]
  },
  {
   "cell_type": "markdown",
   "id": "fb6945be-3920-4711-a7b6-fd59e971d6d1",
   "metadata": {},
   "source": [
    "However, if we were to run a regression, this output still would not work as the matrix is perfectly collinear.  Instead, we can simply add the `drop` argument to get us a noncollinear matrix:"
   ]
  },
  {
   "cell_type": "code",
   "execution_count": null,
   "id": "b9c39363-72e0-4d71-a726-b9138bbdad43",
   "metadata": {},
   "outputs": [],
   "source": [
    "hot = OneHotEncoder(drop='first') # can also use 'if_binary'\n",
    "hot.fit_transform(X).toarray()"
   ]
  },
  {
   "cell_type": "markdown",
   "id": "b32dfb07-2475-43db-9b30-69180ea9fc4a",
   "metadata": {},
   "source": [
    "### Discretization"
   ]
  },
  {
   "cell_type": "markdown",
   "id": "6e72b92a-283c-494c-b119-d6e43347afdd",
   "metadata": {},
   "source": [
    "Discretization is useful when we don't need the granularity of continuous variables, or when we get higher signal:noise from the discrete/binned representation than the continous one.  \n",
    "\n",
    "One example of this can be for threshold signals (e.g. a binary option, where payout is 0 if stock price is under $100, and 100 otherwise) - if we wanted to regress payout vs stock price, having the discretized representation of the feature will yield a much better model than unsing the continous variable.\n",
    "\n",
    "To do this, we can use the `KBinsDiscretizer`"
   ]
  },
  {
   "cell_type": "code",
   "execution_count": null,
   "id": "c105ee62-44c1-444f-ac35-79da04ed93f2",
   "metadata": {},
   "outputs": [],
   "source": [
    "from sklearn.preprocessing import KBinsDiscretizer"
   ]
  },
  {
   "cell_type": "code",
   "execution_count": null,
   "id": "7aac8808-c424-4e5b-955a-c8299b1da73a",
   "metadata": {},
   "outputs": [],
   "source": [
    "encoder = KBinsDiscretizer(n_bins=[3, 2, 2], encode='ordinal')"
   ]
  },
  {
   "cell_type": "code",
   "execution_count": null,
   "id": "347e3b0e-81c4-4528-ad0e-2863476c35e0",
   "metadata": {},
   "outputs": [],
   "source": [
    "encoder.fit_transform(X_train)"
   ]
  },
  {
   "cell_type": "markdown",
   "id": "0c5c6803-540d-4f6c-a2aa-3e367ccb9016",
   "metadata": {},
   "source": [
    "we can transform the output of the discretization either as ordinal (above), or one-hot (below):"
   ]
  },
  {
   "cell_type": "code",
   "execution_count": null,
   "id": "e48824da-aba4-4c18-b501-61483fdb4171",
   "metadata": {},
   "outputs": [],
   "source": [
    "encoder = KBinsDiscretizer(n_bins=[3, 2, 2])\n",
    "encoder.fit_transform(X_train).toarray()"
   ]
  },
  {
   "cell_type": "markdown",
   "id": "fae20237-43f4-4ee1-ad1d-5eb8f6bab11d",
   "metadata": {},
   "source": [
    "we can also change the way that `KBinsDiscretizer` cuts.  By default the transformer cuts using quantiles, however we can also do uniform cuts by setting `strategy='uniform'`, which will take the range and cut into even chunks:"
   ]
  },
  {
   "cell_type": "code",
   "execution_count": null,
   "id": "f00e4342-5790-48e6-8803-59a499697878",
   "metadata": {},
   "outputs": [],
   "source": [
    "encoder = KBinsDiscretizer(strategy='uniform', n_bins=[3, 2, 2])\n",
    "encoder.fit_transform(X_train).toarray()"
   ]
  },
  {
   "cell_type": "markdown",
   "id": "31817d7d-0629-475d-9623-afa130f3f371",
   "metadata": {},
   "source": [
    "Lastly, we can discretize to binary using the Binarizer"
   ]
  },
  {
   "cell_type": "code",
   "execution_count": null,
   "id": "51b37bca-8b66-4547-99bb-87657871b9bf",
   "metadata": {},
   "outputs": [],
   "source": [
    "from sklearn.preprocessing import Binarizer"
   ]
  },
  {
   "cell_type": "code",
   "execution_count": null,
   "id": "ea3ab726-502c-4887-ae55-47c316206561",
   "metadata": {},
   "outputs": [],
   "source": [
    "encoder = Binarizer(threshold=0)"
   ]
  },
  {
   "cell_type": "code",
   "execution_count": null,
   "id": "6f5cf9c8-3a26-4c1d-9919-a915e7dc423b",
   "metadata": {},
   "outputs": [],
   "source": [
    "encoder.fit_transform(X_train)"
   ]
  },
  {
   "cell_type": "markdown",
   "id": "1509a169-5204-4eb7-b87e-61d8a1494576",
   "metadata": {},
   "source": [
    "## Imputation"
   ]
  },
  {
   "cell_type": "markdown",
   "id": "107b76fe-3c77-48d0-9089-692f52be92fc",
   "metadata": {},
   "source": [
    "We previously looked at how to deal with missing data as a part of data cleaning, and one method we mentioned was imputation.  Once we move from data analysis to modeling, we will need to build our imputation strategy into our modeling pipeline to make sure our training/testing process is consistent.  To do this, we can leverage `Transformers` again to help us tranform the data (in this case the tranformation is an imputation).\n",
    "\n",
    "The simplest way to impute is using the `SimpleImputer`:"
   ]
  },
  {
   "cell_type": "code",
   "execution_count": null,
   "id": "304ef7f2-7da5-4efb-b9b0-df623b7cfc65",
   "metadata": {},
   "outputs": [],
   "source": [
    "X_train = [\n",
    "    [1, 2, 3],\n",
    "    [4, np.nan, 6],\n",
    "    [np.nan, np.nan, 9],\n",
    "    [1, 3, 7],\n",
    "    [6, 8, 1]\n",
    "]\n",
    "\n",
    "X_train_cat = [\n",
    "    ['a', '1'],\n",
    "    ['a', '2'],\n",
    "    [np.nan, '2'],\n",
    "    ['b', np.nan]\n",
    "]"
   ]
  },
  {
   "cell_type": "code",
   "execution_count": null,
   "id": "fb899601-facb-4c16-af19-cbc1fb8b8b7d",
   "metadata": {},
   "outputs": [],
   "source": [
    "from sklearn.impute import SimpleImputer"
   ]
  },
  {
   "cell_type": "code",
   "execution_count": null,
   "id": "eaeefd32-c5e7-47e4-9933-4d1f198a2cc6",
   "metadata": {},
   "outputs": [],
   "source": [
    "imputer = SimpleImputer(missing_values=np.nan, strategy='mean')"
   ]
  },
  {
   "cell_type": "code",
   "execution_count": null,
   "id": "aedcc557-7742-459c-a18e-34b69a5d8bca",
   "metadata": {},
   "outputs": [],
   "source": [
    "imputer.fit_transform(X_train)"
   ]
  },
  {
   "cell_type": "markdown",
   "id": "1902503e-a005-4b5b-a2fd-9f5b8b9b9631",
   "metadata": {},
   "source": [
    "We can do the same type of imputation with categorial variables also:"
   ]
  },
  {
   "cell_type": "code",
   "execution_count": null,
   "id": "663ff593-533d-4dc5-829e-5daf286a32da",
   "metadata": {},
   "outputs": [],
   "source": [
    "imputer = SimpleImputer(strategy='most_frequent')\n",
    "imputer.fit_transform(X_train_cat)"
   ]
  },
  {
   "cell_type": "markdown",
   "id": "eaad1eea-86ab-463d-b4b7-cf1e06b04a29",
   "metadata": {},
   "source": [
    "In situations where there are strong relations between features, we can leverage multivariate imputers instead of having to rely on single-feature properties.  One common way to do this is via KNN-based imputation, i.e.:"
   ]
  },
  {
   "cell_type": "code",
   "execution_count": null,
   "id": "0107e71f-4647-4bce-a218-26e9fcbe0cc3",
   "metadata": {},
   "outputs": [],
   "source": [
    "from sklearn.impute import KNNImputer"
   ]
  },
  {
   "cell_type": "code",
   "execution_count": null,
   "id": "2e5c7b77-8cd5-4f9a-a103-20aa20c6ff36",
   "metadata": {},
   "outputs": [],
   "source": [
    "imputer = KNNImputer(n_neighbors=2, weights=\"uniform\")"
   ]
  },
  {
   "cell_type": "code",
   "execution_count": null,
   "id": "1f87e6d8-daeb-4406-9652-630874c21b97",
   "metadata": {},
   "outputs": [],
   "source": [
    "imputer.fit_transform(X_train)"
   ]
  },
  {
   "cell_type": "markdown",
   "id": "fe4ce8e2-d2fc-432c-97c0-2f9f5f384cc6",
   "metadata": {},
   "source": [
    "## Dimensionality Reduction"
   ]
  },
  {
   "cell_type": "markdown",
   "id": "45dbd05a-fb3c-4808-9637-6cc4c52159da",
   "metadata": {},
   "source": [
    "Lastly, when we have a lot of features, we may want to reduce the dimensionality of the data before training the model on it.  One very popular way to do this is via PCA, which is at a very abstract level just another transformation on the data.\n",
    "\n",
    "We can use the PCA transformer to bring our higher dimensionality data to lower dimensionality:"
   ]
  },
  {
   "cell_type": "code",
   "execution_count": null,
   "id": "53105441-c71c-4d76-8eb6-43c8593eb91c",
   "metadata": {},
   "outputs": [],
   "source": [
    "from sklearn.decomposition import PCA"
   ]
  },
  {
   "cell_type": "code",
   "execution_count": null,
   "id": "12ff6d21-916d-4954-b844-98e7add53424",
   "metadata": {},
   "outputs": [],
   "source": [
    "X_train = np.array([\n",
    "    [-1, -1, 3], \n",
    "    [-2, -1, 10], \n",
    "    [-3, -2, 13], \n",
    "    [1, 1, 15], \n",
    "    [2, 1, 22], \n",
    "    [3, 2, 1]\n",
    "])"
   ]
  },
  {
   "cell_type": "code",
   "execution_count": null,
   "id": "97c95152-fefb-4a0a-9fc9-32f4d073645a",
   "metadata": {},
   "outputs": [],
   "source": [
    "pca = PCA(n_components=1)"
   ]
  },
  {
   "cell_type": "code",
   "execution_count": null,
   "id": "b3b64969-b955-46fa-bdca-3d98cbafbe00",
   "metadata": {},
   "outputs": [],
   "source": [
    "pca.fit_transform(X_train)\n"
   ]
  },
  {
   "cell_type": "markdown",
   "id": "d2e36550-7a89-4c98-8170-937bfe3564c0",
   "metadata": {},
   "source": [
    "after transforming the data, we can now take the lower dimensionality inputs and use them to train our model"
   ]
  },
  {
   "cell_type": "markdown",
   "id": "e5c84f6b-d609-40df-ab23-2539c8180633",
   "metadata": {},
   "source": [
    "## Custom Transformers"
   ]
  },
  {
   "cell_type": "markdown",
   "id": "aa1954df-d58a-4f4b-87ae-8c31f65a1437",
   "metadata": {},
   "source": [
    "We've gone through many different feature transformation use cases, however there is a likelihood that none of the above will suit your specific use case.  In that situation, you can simply create your own Transformer.  Most transformers just need to inherit `BaseEstimator` (since all transformers are estimators), and the `TransformerMixin` which gives the transformer the `fit_transform` method.\n",
    "\n",
    "For example, we can create a Transformer that transforms a feature into a boolean column that is `true` if the value is not null and `false` otherwise:"
   ]
  },
  {
   "cell_type": "code",
   "execution_count": null,
   "id": "461f826a-bd52-49b9-b833-7cc64aaaf14f",
   "metadata": {},
   "outputs": [],
   "source": [
    "from sklearn.base import BaseEstimator, TransformerMixin"
   ]
  },
  {
   "cell_type": "code",
   "execution_count": null,
   "id": "5beb9e12-5b2a-4c30-a05a-c2d6f0c03c6e",
   "metadata": {},
   "outputs": [],
   "source": [
    "class BinaryNullTransformer(BaseEstimator, TransformerMixin):\n",
    "    def __init__(self):\n",
    "        pass\n",
    "    \n",
    "    def fit(self, X, y=None):\n",
    "        #fit needs to be implemented as this is an estimator, however we don't need to fit anything\n",
    "        return self\n",
    "    \n",
    "    def transform(self, X):\n",
    "        return ~np.isnan(X)\n",
    "    "
   ]
  },
  {
   "cell_type": "code",
   "execution_count": null,
   "id": "77c8c3ed-fdae-4172-bb8e-c1ccba1311bc",
   "metadata": {},
   "outputs": [],
   "source": [
    "X = np.array([\n",
    "    [-1, np.nan, 3], \n",
    "    [-2, -1, 10], \n",
    "    [-3, -2, 13], \n",
    "    [1, 1, np.nan], \n",
    "    [2, 1, 22], \n",
    "    [np.nan, 2, 1]\n",
    "])"
   ]
  },
  {
   "cell_type": "code",
   "execution_count": null,
   "id": "88d6523f-fa7f-4c60-bdcf-90bb11ac1566",
   "metadata": {},
   "outputs": [],
   "source": [
    "transformer = BinaryNullTransformer()"
   ]
  },
  {
   "cell_type": "code",
   "execution_count": null,
   "id": "f7749f22-091e-49eb-9cdc-7544a8720030",
   "metadata": {},
   "outputs": [],
   "source": [
    "transformer.fit_transform(X)"
   ]
  }
 ],
 "metadata": {
  "kernelspec": {
   "display_name": "Python 3 (ipykernel)",
   "language": "python",
   "name": "python3"
  },
  "language_info": {
   "codemirror_mode": {
    "name": "ipython",
    "version": 3
   },
   "file_extension": ".py",
   "mimetype": "text/x-python",
   "name": "python",
   "nbconvert_exporter": "python",
   "pygments_lexer": "ipython3",
   "version": "3.10.0"
  }
 },
 "nbformat": 4,
 "nbformat_minor": 5
}
