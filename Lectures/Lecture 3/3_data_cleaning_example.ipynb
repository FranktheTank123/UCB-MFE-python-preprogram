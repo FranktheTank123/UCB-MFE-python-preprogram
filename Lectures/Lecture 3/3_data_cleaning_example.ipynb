{
 "cells": [
  {
   "cell_type": "markdown",
   "id": "wrapped-assistant",
   "metadata": {},
   "source": [
    "# Data cleaning example"
   ]
  },
  {
   "cell_type": "markdown",
   "id": "architectural-bedroom",
   "metadata": {},
   "source": [
    "Now we've gone over how to visualize and clean data, let's take a look at how we would use this in real life.\n",
    "\n",
    "Our goal is to take a data set from an API, and use it for some analysis.  However, our API is a little flakey and the data sometimes isn't great, so we'll need to figure out what we need to correct"
   ]
  },
  {
   "cell_type": "code",
   "execution_count": 1,
   "id": "competent-favor",
   "metadata": {},
   "outputs": [],
   "source": [
    "import requests\n",
    "import pandas as pd\n",
    "import numpy as np\n",
    "import matplotlib.pyplot as plt\n",
    "from functools import reduce\n",
    "\n",
    "%matplotlib inline"
   ]
  },
  {
   "cell_type": "code",
   "execution_count": 2,
   "id": "distinct-digest",
   "metadata": {},
   "outputs": [],
   "source": [
    "def get_data(token):\n",
    "    res = requests.get(\n",
    "        f'https://api.cryptowat.ch/markets/coinbase-pro/{token}usd/ohlc',\n",
    "        params={\n",
    "            'periods': '3600',\n",
    "            'after': str(int(pd.Timestamp('2021-12-01').timestamp()))\n",
    "        }\n",
    "    )\n",
    "    df = pd.DataFrame(\n",
    "        res.json()['result']['3600'],\n",
    "        columns=['ts', 'open', 'high', 'low', 'close', 'volume', 'volumeUSD']\n",
    "    )\n",
    "    df['ts'] = pd.to_datetime(df.ts, unit='s')\n",
    "    df['token'] = token\n",
    "    \n",
    "    return df"
   ]
  },
  {
   "cell_type": "code",
   "execution_count": 3,
   "id": "verbal-ticket",
   "metadata": {},
   "outputs": [],
   "source": [
    "tokens = ['BTC', 'ETH', 'USDT', 'SOL', 'ADA', 'XRP', 'DOT', 'AVAX']"
   ]
  },
  {
   "cell_type": "code",
   "execution_count": 4,
   "id": "intelligent-fifth",
   "metadata": {},
   "outputs": [],
   "source": [
    "dfs = [\n",
    "    (lambda x: x.assign(chain=np.where(x.token.isin(['ETH', 'AAVE', 'COMP']), np.full(x.shape[0], 'ETH'), x.token)))(get_data(token)) \n",
    "    for token in tokens\n",
    "]\n",
    "\n",
    "df = pd.concat(get_data(token) for token in tokens)\n",
    "df['chain'] = np.where(df.token.isin(['ETH', 'AAVE', 'COMP']), np.full(df.shape[0], 'ETH'), df.token)\n",
    "df.set_index('ts', inplace=True)"
   ]
  },
  {
   "cell_type": "code",
   "execution_count": 5,
   "id": "mysterious-delay",
   "metadata": {},
   "outputs": [],
   "source": [
    "# do some chaos monkeying\n",
    "df['close'] = df['close'].mask(np.random.random(df.shape[0]) < .05, other=np.nan)\n",
    "df['close'] = df['close'].mask(np.random.random(df.shape[0]) < .01, other=df['close'] * 100)\n",
    "df['token'] = df['token'].mask(np.random.random(df.shape[0]) < .05, other='<a>' + df['token'] + '</a>')\n",
    "df = df.append(df.sample(frac=0.1)).sample(frac=1)"
   ]
  },
  {
   "cell_type": "markdown",
   "id": "crude-joint",
   "metadata": {},
   "source": [
    "First, let's check our time series"
   ]
  },
  {
   "cell_type": "code",
   "execution_count": 6,
   "id": "turned-flood",
   "metadata": {},
   "outputs": [
    {
     "name": "stdout",
     "output_type": "stream",
     "text": [
      "<class 'pandas.core.frame.DataFrame'>\n",
      "DatetimeIndex: 3111 entries, 2021-12-11 12:00:00 to 2021-12-14 19:00:00\n",
      "Data columns (total 8 columns):\n",
      " #   Column     Non-Null Count  Dtype  \n",
      "---  ------     --------------  -----  \n",
      " 0   open       3111 non-null   float64\n",
      " 1   high       3111 non-null   float64\n",
      " 2   low        3111 non-null   float64\n",
      " 3   close      2956 non-null   float64\n",
      " 4   volume     3111 non-null   float64\n",
      " 5   volumeUSD  3111 non-null   float64\n",
      " 6   token      3111 non-null   object \n",
      " 7   chain      3111 non-null   object \n",
      "dtypes: float64(6), object(2)\n",
      "memory usage: 218.7+ KB\n"
     ]
    }
   ],
   "source": [
    "df.info()"
   ]
  },
  {
   "cell_type": "markdown",
   "id": "spanish-paradise",
   "metadata": {},
   "source": [
    "we can see that we have 2264, total entries, but close has a bunch of nulls"
   ]
  },
  {
   "cell_type": "code",
   "execution_count": 7,
   "id": "pressing-cornell",
   "metadata": {},
   "outputs": [
    {
     "data": {
      "text/plain": [
       "BTC            431\n",
       "USDT           430\n",
       "AVAX           427\n",
       "SOL            420\n",
       "DOT            420\n",
       "ADA            414\n",
       "ETH            414\n",
       "<a>DOT</a>      27\n",
       "<a>SOL</a>      25\n",
       "<a>ETH</a>      24\n",
       "<a>ADA</a>      24\n",
       "<a>AVAX</a>     20\n",
       "<a>USDT</a>     18\n",
       "<a>BTC</a>      17\n",
       "Name: token, dtype: int64"
      ]
     },
     "execution_count": 7,
     "metadata": {},
     "output_type": "execute_result"
    }
   ],
   "source": [
    "df['token'].value_counts()"
   ]
  },
  {
   "cell_type": "markdown",
   "id": "answering-knowing",
   "metadata": {},
   "source": [
    "we also have some badly formatted token names (maybe we pulled from html)"
   ]
  },
  {
   "cell_type": "code",
   "execution_count": 8,
   "id": "automated-forum",
   "metadata": {},
   "outputs": [
    {
     "data": {
      "text/plain": [
       "283"
      ]
     },
     "execution_count": 8,
     "metadata": {},
     "output_type": "execute_result"
    }
   ],
   "source": [
    "df.duplicated().sum()"
   ]
  },
  {
   "cell_type": "markdown",
   "id": "foster-cheese",
   "metadata": {},
   "source": [
    "we also have some duplicated rows it looks like"
   ]
  },
  {
   "cell_type": "code",
   "execution_count": 9,
   "id": "occasional-pledge",
   "metadata": {},
   "outputs": [
    {
     "data": {
      "text/plain": [
       "<AxesSubplot:xlabel='ts'>"
      ]
     },
     "execution_count": 9,
     "metadata": {},
     "output_type": "execute_result"
    },
    {
     "data": {
      "image/png": "[encoded data removed]",
      "text/plain": [
       "<Figure size 432x288 with 1 Axes>"
      ]
     },
     "metadata": {
      "needs_background": "light"
     },
     "output_type": "display_data"
    }
   ],
   "source": [
    "df[['token', 'close']].plot()"
   ]
  },
  {
   "cell_type": "markdown",
   "id": "proud-johnston",
   "metadata": {},
   "source": [
    "this plot doens't make sense because we have a long table.  Let's plot by token"
   ]
  },
  {
   "cell_type": "code",
   "execution_count": 10,
   "id": "alike-teddy",
   "metadata": {},
   "outputs": [
    {
     "ename": "NameError",
     "evalue": "name 'math' is not defined",
     "output_type": "error",
     "traceback": [
      "\u001b[0;31m---------------------------------------------------------------------------\u001b[0m",
      "\u001b[0;31mNameError\u001b[0m                                 Traceback (most recent call last)",
      "\u001b[0;32m<ipython-input-10-d643b4732a1c>\u001b[0m in \u001b[0;36m<module>\u001b[0;34m\u001b[0m\n\u001b[1;32m      1\u001b[0m \u001b[0mtokens_in_df\u001b[0m \u001b[0;34m=\u001b[0m \u001b[0mdf\u001b[0m\u001b[0;34m.\u001b[0m\u001b[0mtoken\u001b[0m\u001b[0;34m.\u001b[0m\u001b[0munique\u001b[0m\u001b[0;34m(\u001b[0m\u001b[0;34m)\u001b[0m\u001b[0;34m\u001b[0m\u001b[0;34m\u001b[0m\u001b[0m\n\u001b[1;32m      2\u001b[0m \u001b[0;34m\u001b[0m\u001b[0m\n\u001b[0;32m----> 3\u001b[0;31m \u001b[0mfig\u001b[0m\u001b[0;34m,\u001b[0m \u001b[0maxes\u001b[0m \u001b[0;34m=\u001b[0m \u001b[0mplt\u001b[0m\u001b[0;34m.\u001b[0m\u001b[0msubplots\u001b[0m\u001b[0;34m(\u001b[0m\u001b[0mnrows\u001b[0m\u001b[0;34m=\u001b[0m\u001b[0mmath\u001b[0m\u001b[0;34m.\u001b[0m\u001b[0mceil\u001b[0m\u001b[0;34m(\u001b[0m\u001b[0mtokens_in_df\u001b[0m\u001b[0;34m.\u001b[0m\u001b[0msize\u001b[0m \u001b[0;34m/\u001b[0m \u001b[0;36m2\u001b[0m\u001b[0;34m)\u001b[0m\u001b[0;34m,\u001b[0m \u001b[0mncols\u001b[0m\u001b[0;34m=\u001b[0m\u001b[0;36m2\u001b[0m\u001b[0;34m,\u001b[0m \u001b[0mfigsize\u001b[0m\u001b[0;34m=\u001b[0m\u001b[0;34m(\u001b[0m\u001b[0;36m15\u001b[0m\u001b[0;34m,\u001b[0m \u001b[0;36m5\u001b[0m \u001b[0;34m*\u001b[0m \u001b[0mmath\u001b[0m\u001b[0;34m.\u001b[0m\u001b[0mceil\u001b[0m\u001b[0;34m(\u001b[0m\u001b[0mtokens_in_df\u001b[0m\u001b[0;34m.\u001b[0m\u001b[0msize\u001b[0m \u001b[0;34m/\u001b[0m \u001b[0;36m2\u001b[0m\u001b[0;34m)\u001b[0m\u001b[0;34m)\u001b[0m\u001b[0;34m)\u001b[0m\u001b[0;34m\u001b[0m\u001b[0;34m\u001b[0m\u001b[0m\n\u001b[0m\u001b[1;32m      4\u001b[0m \u001b[0;34m\u001b[0m\u001b[0m\n\u001b[1;32m      5\u001b[0m \u001b[0midx\u001b[0m \u001b[0;34m=\u001b[0m \u001b[0;36m0\u001b[0m\u001b[0;34m\u001b[0m\u001b[0;34m\u001b[0m\u001b[0m\n",
      "\u001b[0;31mNameError\u001b[0m: name 'math' is not defined"
     ]
    }
   ],
   "source": [
    "tokens_in_df = df.token.unique()\n",
    "\n",
    "fig, axes = plt.subplots(nrows=math.ceil(tokens_in_df.size / 2), ncols=2, figsize=(15, 5 * math.ceil(tokens_in_df.size / 2)))\n",
    "\n",
    "idx = 0\n",
    "for label, df_token in df[['token', 'close']].groupby('token'):\n",
    "    df_token['close'].plot(ax=axes[idx // 2, idx % 2], label=label)\n",
    "    axes[idx // 2, idx % 2].legend()\n",
    "    \n",
    "    idx += 1\n"
   ]
  },
  {
   "cell_type": "markdown",
   "id": "atomic-miniature",
   "metadata": {},
   "source": [
    "we definitely see some missing data from this plot, but also we definitely have some outliers in our data"
   ]
  },
  {
   "cell_type": "markdown",
   "id": "happy-partner",
   "metadata": {},
   "source": [
    "okay so what do we do?  let's get a plan of attack:\n",
    "1. Let's remove the duplicated rows\n",
    "2. Let's format the names for the tokens so we don't have the ones with tags\n",
    "3. Let's use a heuristic for missing close price as average of high + low of they day\n",
    "\n",
    "After this, we can take a look at our chart and see how we want to deal with the outliers\n"
   ]
  },
  {
   "cell_type": "markdown",
   "id": "bottom-poverty",
   "metadata": {},
   "source": [
    "1. drop duplicates"
   ]
  },
  {
   "cell_type": "code",
   "execution_count": null,
   "id": "permanent-pioneer",
   "metadata": {},
   "outputs": [],
   "source": [
    "df = df.drop_duplicates()"
   ]
  },
  {
   "cell_type": "markdown",
   "id": "classified-behalf",
   "metadata": {},
   "source": [
    "2. let's format the token names"
   ]
  },
  {
   "cell_type": "code",
   "execution_count": null,
   "id": "variable-geometry",
   "metadata": {},
   "outputs": [],
   "source": [
    "df.loc[df['token'].str.contains('<a>'), 'token'] = df.loc[df['token'].str.contains('<a>'), 'token'].str.extract('<a>(.|\\n)*?<\\/a>')\n"
   ]
  },
  {
   "cell_type": "markdown",
   "id": "bizarre-raising",
   "metadata": {},
   "source": [
    "3. use the heuristic for missing close prices as verage of high + low of the day"
   ]
  },
  {
   "cell_type": "code",
   "execution_count": null,
   "id": "adverse-sphere",
   "metadata": {},
   "outputs": [],
   "source": [
    "df.loc[df['close'].isnull(), 'close'] = 0.5 * (df.loc[df['close'].isnull(), 'high'] + df.loc[df['close'].isnull(), 'low'])"
   ]
  },
  {
   "cell_type": "markdown",
   "id": "threaded-italy",
   "metadata": {},
   "source": [
    "Let's plot the same chart again"
   ]
  },
  {
   "cell_type": "code",
   "execution_count": null,
   "id": "clear-apache",
   "metadata": {},
   "outputs": [],
   "source": [
    "tokens_in_df = df.token.unique()\n",
    "\n",
    "fig, axes = plt.subplots(nrows=math.ceil(tokens_in_df.size / 2), ncols=2, figsize=(15, 5 * math.ceil(tokens_in_df.size / 2)))\n",
    "\n",
    "idx = 0\n",
    "for label, df_token in df[['token', 'close']].groupby('token'):\n",
    "    df_token['close'].plot(ax=axes[idx // 2, idx % 2], label=label)\n",
    "    axes[idx // 2, idx % 2].legend()\n",
    "    \n",
    "    idx += 1\n"
   ]
  },
  {
   "cell_type": "markdown",
   "id": "postal-shannon",
   "metadata": {},
   "source": [
    "So we now have good names, no duplicates and no missing values as we can see from the chart, however we still have these massive outliers.  Let's see how to deal with these.\n",
    "\n",
    "Let's come up with a heuristic to define an outlier, as something where the close price is greater than 2x higher or lower than the open price (given this is hourly data, we shouldn't expect it to change that much)"
   ]
  },
  {
   "cell_type": "code",
   "execution_count": null,
   "id": "thorough-passing",
   "metadata": {},
   "outputs": [],
   "source": [
    "df.loc[df.close / df.open >= 2]"
   ]
  },
  {
   "cell_type": "markdown",
   "id": "beneficial-funeral",
   "metadata": {},
   "source": [
    "this heuristic looks okay - let's use the missing value heuristic to fill these in:"
   ]
  },
  {
   "cell_type": "code",
   "execution_count": null,
   "id": "alike-arthritis",
   "metadata": {},
   "outputs": [],
   "source": [
    "df.loc[df.close / df.open >= 2, 'close'] = 0.5 * (df.loc[df.close / df.open >= 2, 'high'] + df.loc[df.close / df.open >= 2, 'low'])\n"
   ]
  },
  {
   "cell_type": "code",
   "execution_count": null,
   "id": "engaged-dimension",
   "metadata": {},
   "outputs": [],
   "source": [
    "tokens_in_df = df.token.unique()\n",
    "\n",
    "fig, axes = plt.subplots(nrows=math.ceil(tokens_in_df.size / 2), ncols=2, figsize=(15, 5 * math.ceil(tokens_in_df.size / 2)))\n",
    "\n",
    "idx = 0\n",
    "for label, df_token in df[['token', 'close']].groupby('token'):\n",
    "    df_token['close'].plot(ax=axes[idx // 2, idx % 2], label=label)\n",
    "    axes[idx // 2, idx % 2].legend()\n",
    "    \n",
    "    idx += 1\n"
   ]
  },
  {
   "cell_type": "code",
   "execution_count": null,
   "id": "coupled-senator",
   "metadata": {},
   "outputs": [],
   "source": []
  }
 ],
 "metadata": {
  "kernelspec": {
   "display_name": "Python 3",
   "language": "python",
   "name": "python3"
  },
  "language_info": {
   "codemirror_mode": {
    "name": "ipython",
    "version": 3
   },
   "file_extension": ".py",
   "mimetype": "text/x-python",
   "name": "python",
   "nbconvert_exporter": "python",
   "pygments_lexer": "ipython3",
   "version": "3.7.9"
  }
 },
 "nbformat": 4,
 "nbformat_minor": 5
}
