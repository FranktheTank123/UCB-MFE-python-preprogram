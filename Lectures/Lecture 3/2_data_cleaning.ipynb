{
 "cells": [
  {
   "cell_type": "markdown",
   "id": "plastic-reasoning",
   "metadata": {},
   "source": [
    "# Data Cleaning"
   ]
  },
  {
   "cell_type": "markdown",
   "id": "piano-congress",
   "metadata": {},
   "source": [
    "In this segment, we will be looking at some fundamental types of data cleaning, and how we can leverage what we've learned so far to help us get data we can work with"
   ]
  },
  {
   "cell_type": "code",
   "execution_count": 1,
   "id": "exact-congo",
   "metadata": {},
   "outputs": [],
   "source": [
    "import numpy as np\n",
    "import pandas as pd\n",
    "import matplotlib.pyplot as plt\n",
    "\n",
    "%matplotlib inline"
   ]
  },
  {
   "cell_type": "markdown",
   "id": "south-reynolds",
   "metadata": {},
   "source": [
    "## Missing Values"
   ]
  },
  {
   "cell_type": "markdown",
   "id": "following-miniature",
   "metadata": {},
   "source": [
    "One of the most common issues we find in working with real world data is dealing with missing values in our data set.  A missing value is any value that denotes that the data point is not recorded.  In Python, these values are often empty values for different data types, e.g.:"
   ]
  },
  {
   "cell_type": "markdown",
   "id": "western-slovakia",
   "metadata": {},
   "source": [
    "### Missing Value Types"
   ]
  },
  {
   "cell_type": "code",
   "execution_count": 2,
   "id": "lightweight-mileage",
   "metadata": {},
   "outputs": [
    {
     "data": {
      "text/plain": [
       "inf"
      ]
     },
     "execution_count": 2,
     "metadata": {},
     "output_type": "execute_result"
    }
   ],
   "source": [
    "None # python's null value\n",
    "np.nan # not a number value from numpy\n",
    "np.inf # infinite from numpy"
   ]
  },
  {
   "cell_type": "markdown",
   "id": "useful-haiti",
   "metadata": {},
   "source": [
    "In Pandas, the majority of missing values will come in the form of `np.nan`.  Because `np.nan` is literally not a number, any operation involving `np.nan` will also result in `np.nan`, i.e.:"
   ]
  },
  {
   "cell_type": "code",
   "execution_count": 3,
   "id": "specified-portugal",
   "metadata": {},
   "outputs": [
    {
     "data": {
      "text/plain": [
       "nan"
      ]
     },
     "execution_count": 3,
     "metadata": {},
     "output_type": "execute_result"
    }
   ],
   "source": [
    "1 + np.nan"
   ]
  },
  {
   "cell_type": "code",
   "execution_count": 4,
   "id": "permanent-plenty",
   "metadata": {},
   "outputs": [
    {
     "data": {
      "text/plain": [
       "nan"
      ]
     },
     "execution_count": 4,
     "metadata": {},
     "output_type": "execute_result"
    }
   ],
   "source": [
    "np.array([1, np.nan, 3, 4]).sum()"
   ]
  },
  {
   "cell_type": "code",
   "execution_count": 5,
   "id": "instructional-baptist",
   "metadata": {},
   "outputs": [
    {
     "data": {
      "text/plain": [
       "nan"
      ]
     },
     "execution_count": 5,
     "metadata": {},
     "output_type": "execute_result"
    }
   ],
   "source": [
    "np.array([1, np.nan, 3, 4]).mean()"
   ]
  },
  {
   "cell_type": "markdown",
   "id": "homeless-means",
   "metadata": {},
   "source": [
    "`None` will behave differently - most operations involving None will result in an error:"
   ]
  },
  {
   "cell_type": "code",
   "execution_count": 6,
   "id": "special-improvement",
   "metadata": {},
   "outputs": [
    {
     "ename": "TypeError",
     "evalue": "unsupported operand type(s) for +: 'int' and 'NoneType'",
     "output_type": "error",
     "traceback": [
      "\u001b[0;31m---------------------------------------------------------------------------\u001b[0m",
      "\u001b[0;31mTypeError\u001b[0m                                 Traceback (most recent call last)",
      "\u001b[0;32m<ipython-input-6-4e48835ebc87>\u001b[0m in \u001b[0;36m<module>\u001b[0;34m\u001b[0m\n\u001b[0;32m----> 1\u001b[0;31m \u001b[0;36m1\u001b[0m \u001b[0;34m+\u001b[0m \u001b[0;32mNone\u001b[0m\u001b[0;34m\u001b[0m\u001b[0;34m\u001b[0m\u001b[0m\n\u001b[0m",
      "\u001b[0;31mTypeError\u001b[0m: unsupported operand type(s) for +: 'int' and 'NoneType'"
     ]
    }
   ],
   "source": [
    "1 + None"
   ]
  },
  {
   "cell_type": "code",
   "execution_count": 7,
   "id": "regular-treasure",
   "metadata": {},
   "outputs": [
    {
     "ename": "TypeError",
     "evalue": "unsupported operand type(s) for +: 'int' and 'NoneType'",
     "output_type": "error",
     "traceback": [
      "\u001b[0;31m---------------------------------------------------------------------------\u001b[0m",
      "\u001b[0;31mTypeError\u001b[0m                                 Traceback (most recent call last)",
      "\u001b[0;32m<ipython-input-7-1c2e3cc5dd22>\u001b[0m in \u001b[0;36m<module>\u001b[0;34m\u001b[0m\n\u001b[0;32m----> 1\u001b[0;31m \u001b[0mnp\u001b[0m\u001b[0;34m.\u001b[0m\u001b[0marray\u001b[0m\u001b[0;34m(\u001b[0m\u001b[0;34m[\u001b[0m\u001b[0;36m1\u001b[0m\u001b[0;34m,\u001b[0m \u001b[0;32mNone\u001b[0m\u001b[0;34m,\u001b[0m \u001b[0;36m3\u001b[0m\u001b[0;34m,\u001b[0m \u001b[0;36m4\u001b[0m\u001b[0;34m]\u001b[0m\u001b[0;34m)\u001b[0m\u001b[0;34m.\u001b[0m\u001b[0msum\u001b[0m\u001b[0;34m(\u001b[0m\u001b[0;34m)\u001b[0m\u001b[0;34m\u001b[0m\u001b[0;34m\u001b[0m\u001b[0m\n\u001b[0m",
      "\u001b[0;32m~/opt/anaconda3/lib/python3.7/site-packages/numpy/core/_methods.py\u001b[0m in \u001b[0;36m_sum\u001b[0;34m(a, axis, dtype, out, keepdims, initial, where)\u001b[0m\n\u001b[1;32m     45\u001b[0m def _sum(a, axis=None, dtype=None, out=None, keepdims=False,\n\u001b[1;32m     46\u001b[0m          initial=_NoValue, where=True):\n\u001b[0;32m---> 47\u001b[0;31m     \u001b[0;32mreturn\u001b[0m \u001b[0mumr_sum\u001b[0m\u001b[0;34m(\u001b[0m\u001b[0ma\u001b[0m\u001b[0;34m,\u001b[0m \u001b[0maxis\u001b[0m\u001b[0;34m,\u001b[0m \u001b[0mdtype\u001b[0m\u001b[0;34m,\u001b[0m \u001b[0mout\u001b[0m\u001b[0;34m,\u001b[0m \u001b[0mkeepdims\u001b[0m\u001b[0;34m,\u001b[0m \u001b[0minitial\u001b[0m\u001b[0;34m,\u001b[0m \u001b[0mwhere\u001b[0m\u001b[0;34m)\u001b[0m\u001b[0;34m\u001b[0m\u001b[0;34m\u001b[0m\u001b[0m\n\u001b[0m\u001b[1;32m     48\u001b[0m \u001b[0;34m\u001b[0m\u001b[0m\n\u001b[1;32m     49\u001b[0m def _prod(a, axis=None, dtype=None, out=None, keepdims=False,\n",
      "\u001b[0;31mTypeError\u001b[0m: unsupported operand type(s) for +: 'int' and 'NoneType'"
     ]
    }
   ],
   "source": [
    "np.array([1, None, 3, 4]).sum()"
   ]
  },
  {
   "cell_type": "markdown",
   "id": "listed-companion",
   "metadata": {},
   "source": [
    "However, we deal with Nones far less in Pandas because as long as we're dealing with numeric data, `None`s are generally cast into `np.nan`s "
   ]
  },
  {
   "cell_type": "code",
   "execution_count": 8,
   "id": "alpha-paintball",
   "metadata": {},
   "outputs": [
    {
     "data": {
      "text/plain": [
       "array([nan])"
      ]
     },
     "execution_count": 8,
     "metadata": {},
     "output_type": "execute_result"
    }
   ],
   "source": [
    "np.array([None], dtype='float')"
   ]
  },
  {
   "cell_type": "markdown",
   "id": "ordered-dylan",
   "metadata": {},
   "source": [
    "Lastly, `np.inf` behaves very similarly to `np.nan` since most operations with infinity will result in infinity"
   ]
  },
  {
   "cell_type": "code",
   "execution_count": 9,
   "id": "automated-picture",
   "metadata": {},
   "outputs": [
    {
     "data": {
      "text/plain": [
       "inf"
      ]
     },
     "execution_count": 9,
     "metadata": {},
     "output_type": "execute_result"
    }
   ],
   "source": [
    "1 + np.inf"
   ]
  },
  {
   "cell_type": "code",
   "execution_count": 10,
   "id": "divided-empty",
   "metadata": {},
   "outputs": [
    {
     "data": {
      "text/plain": [
       "inf"
      ]
     },
     "execution_count": 10,
     "metadata": {},
     "output_type": "execute_result"
    }
   ],
   "source": [
    "np.array([1, np.inf, 3, 4]).sum()"
   ]
  },
  {
   "cell_type": "code",
   "execution_count": 11,
   "id": "according-hometown",
   "metadata": {},
   "outputs": [
    {
     "data": {
      "text/plain": [
       "nan"
      ]
     },
     "execution_count": 11,
     "metadata": {},
     "output_type": "execute_result"
    }
   ],
   "source": [
    "np.inf / np.inf"
   ]
  },
  {
   "cell_type": "markdown",
   "id": "viral-oakland",
   "metadata": {},
   "source": [
    "### Finding missing values"
   ]
  },
  {
   "cell_type": "markdown",
   "id": "animal-smooth",
   "metadata": {},
   "source": [
    "When we load a data set, we'll need to check for `np.nan`, `np.inf` and in some cases `None` before we do any analysis.  Luckily `numpy` has a few functions to help us with `np.isnan`, `np.isinf` and `np.isfinite` which checks for both, and pandas gives us a helpful function `pd.isnull` which covers `None` cases as well:"
   ]
  },
  {
   "cell_type": "code",
   "execution_count": 12,
   "id": "right-bracket",
   "metadata": {},
   "outputs": [
    {
     "data": {
      "text/plain": [
       "array([False,  True, False, False])"
      ]
     },
     "execution_count": 12,
     "metadata": {},
     "output_type": "execute_result"
    }
   ],
   "source": [
    "np.isnan([1, np.nan, 3, 4])"
   ]
  },
  {
   "cell_type": "code",
   "execution_count": 13,
   "id": "extensive-nicaragua",
   "metadata": {},
   "outputs": [
    {
     "data": {
      "text/plain": [
       "array([False,  True, False, False])"
      ]
     },
     "execution_count": 13,
     "metadata": {},
     "output_type": "execute_result"
    }
   ],
   "source": [
    "np.isinf([1, np.inf, 3, 4])"
   ]
  },
  {
   "cell_type": "code",
   "execution_count": 14,
   "id": "respective-interim",
   "metadata": {},
   "outputs": [
    {
     "data": {
      "text/plain": [
       "array([ True, False, False,  True,  True])"
      ]
     },
     "execution_count": 14,
     "metadata": {},
     "output_type": "execute_result"
    }
   ],
   "source": [
    "np.isfinite([1, np.inf, np.nan, 3, 4])"
   ]
  },
  {
   "cell_type": "code",
   "execution_count": 15,
   "id": "regular-uncle",
   "metadata": {},
   "outputs": [
    {
     "data": {
      "text/plain": [
       "array([ True, False,  True])"
      ]
     },
     "execution_count": 15,
     "metadata": {},
     "output_type": "execute_result"
    }
   ],
   "source": [
    "pd.isnull([np.nan, np.inf, None])"
   ]
  },
  {
   "cell_type": "markdown",
   "id": "equal-halifax",
   "metadata": {},
   "source": [
    "We can see if there are any missing values by using the `any` method:"
   ]
  },
  {
   "cell_type": "code",
   "execution_count": 16,
   "id": "increasing-beaver",
   "metadata": {},
   "outputs": [
    {
     "data": {
      "text/plain": [
       "True"
      ]
     },
     "execution_count": 16,
     "metadata": {},
     "output_type": "execute_result"
    }
   ],
   "source": [
    "pd.isnull([np.nan, np.inf, None]).any()"
   ]
  },
  {
   "cell_type": "code",
   "execution_count": 17,
   "id": "minus-worship",
   "metadata": {},
   "outputs": [
    {
     "data": {
      "text/plain": [
       "True"
      ]
     },
     "execution_count": 17,
     "metadata": {},
     "output_type": "execute_result"
    }
   ],
   "source": [
    "pd.isnull([1, 2, None]).any()"
   ]
  },
  {
   "cell_type": "code",
   "execution_count": 18,
   "id": "assured-enough",
   "metadata": {},
   "outputs": [
    {
     "data": {
      "text/plain": [
       "False"
      ]
     },
     "execution_count": 18,
     "metadata": {},
     "output_type": "execute_result"
    }
   ],
   "source": [
    "pd.isnull([1, 2, 3]).any()"
   ]
  },
  {
   "cell_type": "markdown",
   "id": "gross-malawi",
   "metadata": {},
   "source": [
    "### Filtering & Dropping missing values"
   ]
  },
  {
   "cell_type": "markdown",
   "id": "active-spider",
   "metadata": {},
   "source": [
    "We can use these functions to help us filter our Series or DataFrames.  For example, if we are looking to filter out all the values that are nan, we can do so easily:"
   ]
  },
  {
   "cell_type": "code",
   "execution_count": 19,
   "id": "unable-bicycle",
   "metadata": {},
   "outputs": [],
   "source": [
    "market_caps = pd.Series([954.7, 514.4, np.nan, None, 57.9, 45.7, np.inf, 38.7, 28.8, 25.8])"
   ]
  },
  {
   "cell_type": "markdown",
   "id": "theoretical-swedish",
   "metadata": {},
   "source": [
    "**note**: `pd.Series.sum()` will ignore `np.nan`, but _not_ `np.inf` as we see below:"
   ]
  },
  {
   "cell_type": "code",
   "execution_count": 20,
   "id": "moved-laundry",
   "metadata": {},
   "outputs": [
    {
     "data": {
      "text/plain": [
       "inf"
      ]
     },
     "execution_count": 20,
     "metadata": {},
     "output_type": "execute_result"
    }
   ],
   "source": [
    "market_caps.sum()"
   ]
  },
  {
   "cell_type": "code",
   "execution_count": 21,
   "id": "generous-madrid",
   "metadata": {},
   "outputs": [
    {
     "data": {
      "text/plain": [
       "0    954.7\n",
       "1    514.4\n",
       "4     57.9\n",
       "5     45.7\n",
       "6      inf\n",
       "7     38.7\n",
       "8     28.8\n",
       "9     25.8\n",
       "dtype: float64"
      ]
     },
     "execution_count": 21,
     "metadata": {},
     "output_type": "execute_result"
    }
   ],
   "source": [
    "market_caps[~np.isnan(market_caps)]"
   ]
  },
  {
   "cell_type": "code",
   "execution_count": 22,
   "id": "proud-great",
   "metadata": {},
   "outputs": [
    {
     "data": {
      "text/plain": [
       "0    954.7\n",
       "1    514.4\n",
       "4     57.9\n",
       "5     45.7\n",
       "7     38.7\n",
       "8     28.8\n",
       "9     25.8\n",
       "dtype: float64"
      ]
     },
     "execution_count": 22,
     "metadata": {},
     "output_type": "execute_result"
    }
   ],
   "source": [
    "market_caps[np.isfinite(market_caps)]"
   ]
  },
  {
   "cell_type": "code",
   "execution_count": 23,
   "id": "detailed-flight",
   "metadata": {},
   "outputs": [
    {
     "data": {
      "text/plain": [
       "1666.0"
      ]
     },
     "execution_count": 23,
     "metadata": {},
     "output_type": "execute_result"
    }
   ],
   "source": [
    "market_caps[np.isfinite(market_caps)].sum()"
   ]
  },
  {
   "cell_type": "markdown",
   "id": "parallel-visitor",
   "metadata": {},
   "source": [
    "all the above functions will apply to DataFrames as well:"
   ]
  },
  {
   "cell_type": "code",
   "execution_count": 24,
   "id": "alive-increase",
   "metadata": {},
   "outputs": [],
   "source": [
    "sample_df = pd.DataFrame({\n",
    "    'A': [1, 2, 3, np.nan],\n",
    "    'B': [4, 5, None, np.nan],\n",
    "    'C': [7, np.nan, np.nan, None]\n",
    "})"
   ]
  },
  {
   "cell_type": "code",
   "execution_count": 25,
   "id": "appropriate-arbor",
   "metadata": {},
   "outputs": [
    {
     "data": {
      "text/html": [
       "<div>\n",
       "<style scoped>\n",
       "    .dataframe tbody tr th:only-of-type {\n",
       "        vertical-align: middle;\n",
       "    }\n",
       "\n",
       "    .dataframe tbody tr th {\n",
       "        vertical-align: top;\n",
       "    }\n",
       "\n",
       "    .dataframe thead th {\n",
       "        text-align: right;\n",
       "    }\n",
       "</style>\n",
       "<table border=\"1\" class=\"dataframe\">\n",
       "  <thead>\n",
       "    <tr style=\"text-align: right;\">\n",
       "      <th></th>\n",
       "      <th>A</th>\n",
       "      <th>B</th>\n",
       "      <th>C</th>\n",
       "    </tr>\n",
       "  </thead>\n",
       "  <tbody>\n",
       "    <tr>\n",
       "      <th>0</th>\n",
       "      <td>True</td>\n",
       "      <td>True</td>\n",
       "      <td>True</td>\n",
       "    </tr>\n",
       "    <tr>\n",
       "      <th>1</th>\n",
       "      <td>True</td>\n",
       "      <td>True</td>\n",
       "      <td>False</td>\n",
       "    </tr>\n",
       "    <tr>\n",
       "      <th>2</th>\n",
       "      <td>True</td>\n",
       "      <td>False</td>\n",
       "      <td>False</td>\n",
       "    </tr>\n",
       "    <tr>\n",
       "      <th>3</th>\n",
       "      <td>False</td>\n",
       "      <td>False</td>\n",
       "      <td>False</td>\n",
       "    </tr>\n",
       "  </tbody>\n",
       "</table>\n",
       "</div>"
      ],
      "text/plain": [
       "       A      B      C\n",
       "0   True   True   True\n",
       "1   True   True  False\n",
       "2   True  False  False\n",
       "3  False  False  False"
      ]
     },
     "execution_count": 25,
     "metadata": {},
     "output_type": "execute_result"
    }
   ],
   "source": [
    "np.isfinite(sample_df)"
   ]
  },
  {
   "cell_type": "code",
   "execution_count": 26,
   "id": "adaptive-elephant",
   "metadata": {
    "tags": []
   },
   "outputs": [
    {
     "data": {
      "text/html": [
       "<div>\n",
       "<style scoped>\n",
       "    .dataframe tbody tr th:only-of-type {\n",
       "        vertical-align: middle;\n",
       "    }\n",
       "\n",
       "    .dataframe tbody tr th {\n",
       "        vertical-align: top;\n",
       "    }\n",
       "\n",
       "    .dataframe thead th {\n",
       "        text-align: right;\n",
       "    }\n",
       "</style>\n",
       "<table border=\"1\" class=\"dataframe\">\n",
       "  <thead>\n",
       "    <tr style=\"text-align: right;\">\n",
       "      <th></th>\n",
       "      <th>A</th>\n",
       "      <th>B</th>\n",
       "      <th>C</th>\n",
       "    </tr>\n",
       "  </thead>\n",
       "  <tbody>\n",
       "    <tr>\n",
       "      <th>0</th>\n",
       "      <td>False</td>\n",
       "      <td>False</td>\n",
       "      <td>False</td>\n",
       "    </tr>\n",
       "    <tr>\n",
       "      <th>1</th>\n",
       "      <td>False</td>\n",
       "      <td>False</td>\n",
       "      <td>True</td>\n",
       "    </tr>\n",
       "    <tr>\n",
       "      <th>2</th>\n",
       "      <td>False</td>\n",
       "      <td>True</td>\n",
       "      <td>True</td>\n",
       "    </tr>\n",
       "    <tr>\n",
       "      <th>3</th>\n",
       "      <td>True</td>\n",
       "      <td>True</td>\n",
       "      <td>True</td>\n",
       "    </tr>\n",
       "  </tbody>\n",
       "</table>\n",
       "</div>"
      ],
      "text/plain": [
       "       A      B      C\n",
       "0  False  False  False\n",
       "1  False  False   True\n",
       "2  False   True   True\n",
       "3   True   True   True"
      ]
     },
     "execution_count": 26,
     "metadata": {},
     "output_type": "execute_result"
    }
   ],
   "source": [
    "pd.isnull(sample_df)"
   ]
  },
  {
   "cell_type": "markdown",
   "id": "refined-benefit",
   "metadata": {},
   "source": [
    "this also means that we can get a count of nulls by column and by row"
   ]
  },
  {
   "cell_type": "code",
   "execution_count": 27,
   "id": "surface-reduction",
   "metadata": {},
   "outputs": [
    {
     "data": {
      "text/plain": [
       "A    1\n",
       "B    2\n",
       "C    3\n",
       "dtype: int64"
      ]
     },
     "execution_count": 27,
     "metadata": {},
     "output_type": "execute_result"
    }
   ],
   "source": [
    "pd.isnull(sample_df).sum()"
   ]
  },
  {
   "cell_type": "code",
   "execution_count": 28,
   "id": "academic-species",
   "metadata": {},
   "outputs": [
    {
     "data": {
      "text/plain": [
       "0    0\n",
       "1    1\n",
       "2    2\n",
       "3    3\n",
       "dtype: int64"
      ]
     },
     "execution_count": 28,
     "metadata": {},
     "output_type": "execute_result"
    }
   ],
   "source": [
    "pd.isnull(sample_df).sum(axis=1)"
   ]
  },
  {
   "cell_type": "markdown",
   "id": "vocal-level",
   "metadata": {},
   "source": [
    "with this, we can filter on any column.  For example, if we want to filter out anything with null from column A, we can do this:"
   ]
  },
  {
   "cell_type": "code",
   "execution_count": 29,
   "id": "cooked-programmer",
   "metadata": {},
   "outputs": [
    {
     "data": {
      "text/html": [
       "<div>\n",
       "<style scoped>\n",
       "    .dataframe tbody tr th:only-of-type {\n",
       "        vertical-align: middle;\n",
       "    }\n",
       "\n",
       "    .dataframe tbody tr th {\n",
       "        vertical-align: top;\n",
       "    }\n",
       "\n",
       "    .dataframe thead th {\n",
       "        text-align: right;\n",
       "    }\n",
       "</style>\n",
       "<table border=\"1\" class=\"dataframe\">\n",
       "  <thead>\n",
       "    <tr style=\"text-align: right;\">\n",
       "      <th></th>\n",
       "      <th>A</th>\n",
       "      <th>B</th>\n",
       "      <th>C</th>\n",
       "    </tr>\n",
       "  </thead>\n",
       "  <tbody>\n",
       "    <tr>\n",
       "      <th>0</th>\n",
       "      <td>1.0</td>\n",
       "      <td>4.0</td>\n",
       "      <td>7.0</td>\n",
       "    </tr>\n",
       "    <tr>\n",
       "      <th>1</th>\n",
       "      <td>2.0</td>\n",
       "      <td>5.0</td>\n",
       "      <td>NaN</td>\n",
       "    </tr>\n",
       "    <tr>\n",
       "      <th>2</th>\n",
       "      <td>3.0</td>\n",
       "      <td>NaN</td>\n",
       "      <td>NaN</td>\n",
       "    </tr>\n",
       "  </tbody>\n",
       "</table>\n",
       "</div>"
      ],
      "text/plain": [
       "     A    B    C\n",
       "0  1.0  4.0  7.0\n",
       "1  2.0  5.0  NaN\n",
       "2  3.0  NaN  NaN"
      ]
     },
     "execution_count": 29,
     "metadata": {},
     "output_type": "execute_result"
    }
   ],
   "source": [
    "sample_df[sample_df.A.notnull()]"
   ]
  },
  {
   "cell_type": "markdown",
   "id": "confused-measurement",
   "metadata": {},
   "source": [
    "this removed the 2nd row (we can see this since index `1` is now gone).  \n",
    "\n",
    "Because of how common this operation is, pandas has a method to do this in one operation using `.dropna`"
   ]
  },
  {
   "cell_type": "code",
   "execution_count": 30,
   "id": "elegant-functionality",
   "metadata": {},
   "outputs": [
    {
     "data": {
      "text/html": [
       "<div>\n",
       "<style scoped>\n",
       "    .dataframe tbody tr th:only-of-type {\n",
       "        vertical-align: middle;\n",
       "    }\n",
       "\n",
       "    .dataframe tbody tr th {\n",
       "        vertical-align: top;\n",
       "    }\n",
       "\n",
       "    .dataframe thead th {\n",
       "        text-align: right;\n",
       "    }\n",
       "</style>\n",
       "<table border=\"1\" class=\"dataframe\">\n",
       "  <thead>\n",
       "    <tr style=\"text-align: right;\">\n",
       "      <th></th>\n",
       "      <th>A</th>\n",
       "      <th>B</th>\n",
       "      <th>C</th>\n",
       "    </tr>\n",
       "  </thead>\n",
       "  <tbody>\n",
       "    <tr>\n",
       "      <th>0</th>\n",
       "      <td>1.0</td>\n",
       "      <td>4.0</td>\n",
       "      <td>7.0</td>\n",
       "    </tr>\n",
       "    <tr>\n",
       "      <th>1</th>\n",
       "      <td>2.0</td>\n",
       "      <td>5.0</td>\n",
       "      <td>NaN</td>\n",
       "    </tr>\n",
       "    <tr>\n",
       "      <th>2</th>\n",
       "      <td>3.0</td>\n",
       "      <td>NaN</td>\n",
       "      <td>NaN</td>\n",
       "    </tr>\n",
       "  </tbody>\n",
       "</table>\n",
       "</div>"
      ],
      "text/plain": [
       "     A    B    C\n",
       "0  1.0  4.0  7.0\n",
       "1  2.0  5.0  NaN\n",
       "2  3.0  NaN  NaN"
      ]
     },
     "execution_count": 30,
     "metadata": {},
     "output_type": "execute_result"
    }
   ],
   "source": [
    "sample_df.dropna(subset=['A'])"
   ]
  },
  {
   "cell_type": "markdown",
   "id": "united-mixer",
   "metadata": {},
   "source": [
    "by default `.dropna` will drop a row if _any_ element in that row has a null value.  we can use `subset` to select which columns we care about for dropping.  E.g. if we just called `.dropna` without any arguments on our DataFrame, we would get back just the first row since it's the only row that's non-null:"
   ]
  },
  {
   "cell_type": "code",
   "execution_count": 31,
   "id": "american-affect",
   "metadata": {},
   "outputs": [
    {
     "data": {
      "text/html": [
       "<div>\n",
       "<style scoped>\n",
       "    .dataframe tbody tr th:only-of-type {\n",
       "        vertical-align: middle;\n",
       "    }\n",
       "\n",
       "    .dataframe tbody tr th {\n",
       "        vertical-align: top;\n",
       "    }\n",
       "\n",
       "    .dataframe thead th {\n",
       "        text-align: right;\n",
       "    }\n",
       "</style>\n",
       "<table border=\"1\" class=\"dataframe\">\n",
       "  <thead>\n",
       "    <tr style=\"text-align: right;\">\n",
       "      <th></th>\n",
       "      <th>A</th>\n",
       "      <th>B</th>\n",
       "      <th>C</th>\n",
       "    </tr>\n",
       "  </thead>\n",
       "  <tbody>\n",
       "    <tr>\n",
       "      <th>0</th>\n",
       "      <td>1.0</td>\n",
       "      <td>4.0</td>\n",
       "      <td>7.0</td>\n",
       "    </tr>\n",
       "  </tbody>\n",
       "</table>\n",
       "</div>"
      ],
      "text/plain": [
       "     A    B    C\n",
       "0  1.0  4.0  7.0"
      ]
     },
     "execution_count": 31,
     "metadata": {},
     "output_type": "execute_result"
    }
   ],
   "source": [
    "sample_df.dropna()"
   ]
  },
  {
   "cell_type": "markdown",
   "id": "mental-houston",
   "metadata": {},
   "source": [
    "lastly, we can drop by columns also (i.e. if any column has a null, we drop it).  In our case this would only leave no columns"
   ]
  },
  {
   "cell_type": "code",
   "execution_count": 32,
   "id": "freelance-gentleman",
   "metadata": {
    "tags": []
   },
   "outputs": [
    {
     "data": {
      "text/html": [
       "<div>\n",
       "<style scoped>\n",
       "    .dataframe tbody tr th:only-of-type {\n",
       "        vertical-align: middle;\n",
       "    }\n",
       "\n",
       "    .dataframe tbody tr th {\n",
       "        vertical-align: top;\n",
       "    }\n",
       "\n",
       "    .dataframe thead th {\n",
       "        text-align: right;\n",
       "    }\n",
       "</style>\n",
       "<table border=\"1\" class=\"dataframe\">\n",
       "  <thead>\n",
       "    <tr style=\"text-align: right;\">\n",
       "      <th></th>\n",
       "    </tr>\n",
       "  </thead>\n",
       "  <tbody>\n",
       "    <tr>\n",
       "      <th>0</th>\n",
       "    </tr>\n",
       "    <tr>\n",
       "      <th>1</th>\n",
       "    </tr>\n",
       "    <tr>\n",
       "      <th>2</th>\n",
       "    </tr>\n",
       "    <tr>\n",
       "      <th>3</th>\n",
       "    </tr>\n",
       "  </tbody>\n",
       "</table>\n",
       "</div>"
      ],
      "text/plain": [
       "Empty DataFrame\n",
       "Columns: []\n",
       "Index: [0, 1, 2, 3]"
      ]
     },
     "execution_count": 32,
     "metadata": {},
     "output_type": "execute_result"
    }
   ],
   "source": [
    "sample_df.dropna(axis=1)"
   ]
  },
  {
   "cell_type": "markdown",
   "id": "communist-performance",
   "metadata": {},
   "source": [
    "we can also tune how aggressively dropna drops.  The `how` argument allows us to specify drop on `any` nulls or `all` nulls, and the `thresh` argument allows us to specify how many nulls need to occur before dropping the row/column:"
   ]
  },
  {
   "cell_type": "code",
   "execution_count": 33,
   "id": "bacterial-window",
   "metadata": {},
   "outputs": [
    {
     "data": {
      "text/html": [
       "<div>\n",
       "<style scoped>\n",
       "    .dataframe tbody tr th:only-of-type {\n",
       "        vertical-align: middle;\n",
       "    }\n",
       "\n",
       "    .dataframe tbody tr th {\n",
       "        vertical-align: top;\n",
       "    }\n",
       "\n",
       "    .dataframe thead th {\n",
       "        text-align: right;\n",
       "    }\n",
       "</style>\n",
       "<table border=\"1\" class=\"dataframe\">\n",
       "  <thead>\n",
       "    <tr style=\"text-align: right;\">\n",
       "      <th></th>\n",
       "      <th>A</th>\n",
       "      <th>B</th>\n",
       "      <th>C</th>\n",
       "    </tr>\n",
       "  </thead>\n",
       "  <tbody>\n",
       "    <tr>\n",
       "      <th>0</th>\n",
       "      <td>1.0</td>\n",
       "      <td>4.0</td>\n",
       "      <td>7.0</td>\n",
       "    </tr>\n",
       "    <tr>\n",
       "      <th>1</th>\n",
       "      <td>2.0</td>\n",
       "      <td>5.0</td>\n",
       "      <td>NaN</td>\n",
       "    </tr>\n",
       "    <tr>\n",
       "      <th>2</th>\n",
       "      <td>3.0</td>\n",
       "      <td>NaN</td>\n",
       "      <td>NaN</td>\n",
       "    </tr>\n",
       "    <tr>\n",
       "      <th>3</th>\n",
       "      <td>NaN</td>\n",
       "      <td>NaN</td>\n",
       "      <td>NaN</td>\n",
       "    </tr>\n",
       "  </tbody>\n",
       "</table>\n",
       "</div>"
      ],
      "text/plain": [
       "     A    B    C\n",
       "0  1.0  4.0  7.0\n",
       "1  2.0  5.0  NaN\n",
       "2  3.0  NaN  NaN\n",
       "3  NaN  NaN  NaN"
      ]
     },
     "execution_count": 33,
     "metadata": {},
     "output_type": "execute_result"
    }
   ],
   "source": [
    "sample_df.dropna(axis=1, how='all')"
   ]
  },
  {
   "cell_type": "code",
   "execution_count": 34,
   "id": "rocky-invention",
   "metadata": {},
   "outputs": [
    {
     "data": {
      "text/html": [
       "<div>\n",
       "<style scoped>\n",
       "    .dataframe tbody tr th:only-of-type {\n",
       "        vertical-align: middle;\n",
       "    }\n",
       "\n",
       "    .dataframe tbody tr th {\n",
       "        vertical-align: top;\n",
       "    }\n",
       "\n",
       "    .dataframe thead th {\n",
       "        text-align: right;\n",
       "    }\n",
       "</style>\n",
       "<table border=\"1\" class=\"dataframe\">\n",
       "  <thead>\n",
       "    <tr style=\"text-align: right;\">\n",
       "      <th></th>\n",
       "      <th>A</th>\n",
       "      <th>B</th>\n",
       "    </tr>\n",
       "  </thead>\n",
       "  <tbody>\n",
       "    <tr>\n",
       "      <th>0</th>\n",
       "      <td>1.0</td>\n",
       "      <td>4.0</td>\n",
       "    </tr>\n",
       "    <tr>\n",
       "      <th>1</th>\n",
       "      <td>2.0</td>\n",
       "      <td>5.0</td>\n",
       "    </tr>\n",
       "    <tr>\n",
       "      <th>2</th>\n",
       "      <td>3.0</td>\n",
       "      <td>NaN</td>\n",
       "    </tr>\n",
       "    <tr>\n",
       "      <th>3</th>\n",
       "      <td>NaN</td>\n",
       "      <td>NaN</td>\n",
       "    </tr>\n",
       "  </tbody>\n",
       "</table>\n",
       "</div>"
      ],
      "text/plain": [
       "     A    B\n",
       "0  1.0  4.0\n",
       "1  2.0  5.0\n",
       "2  3.0  NaN\n",
       "3  NaN  NaN"
      ]
     },
     "execution_count": 34,
     "metadata": {},
     "output_type": "execute_result"
    }
   ],
   "source": [
    "sample_df.dropna(axis=1, thresh=2)"
   ]
  },
  {
   "cell_type": "markdown",
   "id": "subject-essay",
   "metadata": {},
   "source": [
    "### Filling missing values"
   ]
  },
  {
   "cell_type": "markdown",
   "id": "finnish-attendance",
   "metadata": {},
   "source": [
    "Sometimes we don't want to lose data, and replacing missing values with something else could be more advantageous than dropping entire rows or columns (which are the only two choices when working with tabular data).  For example, this may be because the columns with missing data are low importance (and thus dropping high valued rows due to low importance features could be bad), or because we have columns that are designed to detect outliers, and so it is safe to fill in missing data with the median value versus dropping data points.\n",
    "\n",
    "To do this we can use the `.fillna` method that's on both Series and DataFrames, which allows us to fill missing data points with a variety of different strategies"
   ]
  },
  {
   "cell_type": "markdown",
   "id": "single-reducing",
   "metadata": {},
   "source": [
    "The easiest way to fill in missing values is to use a single value to fill in, e.g. we can fill in with a 0, or with the sample mean:"
   ]
  },
  {
   "cell_type": "code",
   "execution_count": 35,
   "id": "occasional-airline",
   "metadata": {},
   "outputs": [],
   "source": [
    "market_caps = pd.Series([954.7, 514.4, np.nan, None, 57.9, 45.7, np.nan, 38.7, 28.8, 25.8])"
   ]
  },
  {
   "cell_type": "code",
   "execution_count": 36,
   "id": "bored-allergy",
   "metadata": {},
   "outputs": [
    {
     "data": {
      "text/plain": [
       "0    954.7\n",
       "1    514.4\n",
       "2      0.0\n",
       "3      0.0\n",
       "4     57.9\n",
       "5     45.7\n",
       "6      0.0\n",
       "7     38.7\n",
       "8     28.8\n",
       "9     25.8\n",
       "dtype: float64"
      ]
     },
     "execution_count": 36,
     "metadata": {},
     "output_type": "execute_result"
    }
   ],
   "source": [
    "market_caps.fillna(0)"
   ]
  },
  {
   "cell_type": "code",
   "execution_count": 37,
   "id": "japanese-catalog",
   "metadata": {},
   "outputs": [
    {
     "data": {
      "text/plain": [
       "0    954.7\n",
       "1    514.4\n",
       "2    238.0\n",
       "3    238.0\n",
       "4     57.9\n",
       "5     45.7\n",
       "6    238.0\n",
       "7     38.7\n",
       "8     28.8\n",
       "9     25.8\n",
       "dtype: float64"
      ]
     },
     "execution_count": 37,
     "metadata": {},
     "output_type": "execute_result"
    }
   ],
   "source": [
    "market_caps.fillna(market_caps.mean())"
   ]
  },
  {
   "cell_type": "markdown",
   "id": "opened-mathematics",
   "metadata": {},
   "source": [
    "if you want to fill specific items but not others, this can also done by passing in a Series, which will fill by its index:"
   ]
  },
  {
   "cell_type": "code",
   "execution_count": 38,
   "id": "activated-projection",
   "metadata": {},
   "outputs": [
    {
     "data": {
      "text/plain": [
       "0    954.7\n",
       "1    514.4\n",
       "2      NaN\n",
       "3    100.0\n",
       "4     57.9\n",
       "5     45.7\n",
       "6      NaN\n",
       "7     38.7\n",
       "8     28.8\n",
       "9     25.8\n",
       "dtype: float64"
      ]
     },
     "execution_count": 38,
     "metadata": {},
     "output_type": "execute_result"
    }
   ],
   "source": [
    "market_caps.fillna(pd.Series({3:100}))"
   ]
  },
  {
   "cell_type": "markdown",
   "id": "alleged-cherry",
   "metadata": {},
   "source": [
    "one really handy feature is the ability to forwardfill or backfill.  Forwardfill will fill the previously non-null value to the current null position recursively, and backfill will do the opposite.\n",
    "\n",
    "This is particularly useful for time series, especially time series that are not in regular intervals, since it allows you to create a complete data set by filling down every timestamp from your joins"
   ]
  },
  {
   "cell_type": "code",
   "execution_count": 39,
   "id": "alternative-count",
   "metadata": {},
   "outputs": [
    {
     "data": {
      "text/plain": [
       "0    954.7\n",
       "1    514.4\n",
       "2    514.4\n",
       "3    514.4\n",
       "4     57.9\n",
       "5     45.7\n",
       "6     45.7\n",
       "7     38.7\n",
       "8     28.8\n",
       "9     25.8\n",
       "dtype: float64"
      ]
     },
     "execution_count": 39,
     "metadata": {},
     "output_type": "execute_result"
    }
   ],
   "source": [
    "market_caps.fillna(method='ffill')"
   ]
  },
  {
   "cell_type": "code",
   "execution_count": 40,
   "id": "prospective-idaho",
   "metadata": {},
   "outputs": [
    {
     "data": {
      "text/plain": [
       "0    954.7\n",
       "1    514.4\n",
       "2     57.9\n",
       "3     57.9\n",
       "4     57.9\n",
       "5     45.7\n",
       "6     38.7\n",
       "7     38.7\n",
       "8     28.8\n",
       "9     25.8\n",
       "dtype: float64"
      ]
     },
     "execution_count": 40,
     "metadata": {},
     "output_type": "execute_result"
    }
   ],
   "source": [
    "market_caps.fillna(method='bfill')"
   ]
  },
  {
   "cell_type": "markdown",
   "id": "nearby-joyce",
   "metadata": {},
   "source": [
    "dataframes have the same method, but can work on both dimensions (like most DataFrame functions), e.g.:"
   ]
  },
  {
   "cell_type": "code",
   "execution_count": 41,
   "id": "available-example",
   "metadata": {},
   "outputs": [
    {
     "data": {
      "text/html": [
       "<div>\n",
       "<style scoped>\n",
       "    .dataframe tbody tr th:only-of-type {\n",
       "        vertical-align: middle;\n",
       "    }\n",
       "\n",
       "    .dataframe tbody tr th {\n",
       "        vertical-align: top;\n",
       "    }\n",
       "\n",
       "    .dataframe thead th {\n",
       "        text-align: right;\n",
       "    }\n",
       "</style>\n",
       "<table border=\"1\" class=\"dataframe\">\n",
       "  <thead>\n",
       "    <tr style=\"text-align: right;\">\n",
       "      <th></th>\n",
       "      <th>A</th>\n",
       "      <th>B</th>\n",
       "      <th>C</th>\n",
       "    </tr>\n",
       "  </thead>\n",
       "  <tbody>\n",
       "    <tr>\n",
       "      <th>0</th>\n",
       "      <td>1.0</td>\n",
       "      <td>4.0</td>\n",
       "      <td>7.0</td>\n",
       "    </tr>\n",
       "    <tr>\n",
       "      <th>1</th>\n",
       "      <td>2.0</td>\n",
       "      <td>5.0</td>\n",
       "      <td>NaN</td>\n",
       "    </tr>\n",
       "    <tr>\n",
       "      <th>2</th>\n",
       "      <td>3.0</td>\n",
       "      <td>4.5</td>\n",
       "      <td>NaN</td>\n",
       "    </tr>\n",
       "    <tr>\n",
       "      <th>3</th>\n",
       "      <td>4.0</td>\n",
       "      <td>4.5</td>\n",
       "      <td>NaN</td>\n",
       "    </tr>\n",
       "  </tbody>\n",
       "</table>\n",
       "</div>"
      ],
      "text/plain": [
       "     A    B    C\n",
       "0  1.0  4.0  7.0\n",
       "1  2.0  5.0  NaN\n",
       "2  3.0  4.5  NaN\n",
       "3  4.0  4.5  NaN"
      ]
     },
     "execution_count": 41,
     "metadata": {},
     "output_type": "execute_result"
    }
   ],
   "source": [
    "sample_df.fillna({'A': 4, 'B': sample_df.B.mean()})"
   ]
  },
  {
   "cell_type": "code",
   "execution_count": 42,
   "id": "right-edmonton",
   "metadata": {},
   "outputs": [
    {
     "data": {
      "text/html": [
       "<div>\n",
       "<style scoped>\n",
       "    .dataframe tbody tr th:only-of-type {\n",
       "        vertical-align: middle;\n",
       "    }\n",
       "\n",
       "    .dataframe tbody tr th {\n",
       "        vertical-align: top;\n",
       "    }\n",
       "\n",
       "    .dataframe thead th {\n",
       "        text-align: right;\n",
       "    }\n",
       "</style>\n",
       "<table border=\"1\" class=\"dataframe\">\n",
       "  <thead>\n",
       "    <tr style=\"text-align: right;\">\n",
       "      <th></th>\n",
       "      <th>A</th>\n",
       "      <th>B</th>\n",
       "      <th>C</th>\n",
       "    </tr>\n",
       "  </thead>\n",
       "  <tbody>\n",
       "    <tr>\n",
       "      <th>0</th>\n",
       "      <td>1.0</td>\n",
       "      <td>4.0</td>\n",
       "      <td>7.0</td>\n",
       "    </tr>\n",
       "    <tr>\n",
       "      <th>1</th>\n",
       "      <td>2.0</td>\n",
       "      <td>5.0</td>\n",
       "      <td>7.0</td>\n",
       "    </tr>\n",
       "    <tr>\n",
       "      <th>2</th>\n",
       "      <td>3.0</td>\n",
       "      <td>5.0</td>\n",
       "      <td>7.0</td>\n",
       "    </tr>\n",
       "    <tr>\n",
       "      <th>3</th>\n",
       "      <td>3.0</td>\n",
       "      <td>5.0</td>\n",
       "      <td>7.0</td>\n",
       "    </tr>\n",
       "  </tbody>\n",
       "</table>\n",
       "</div>"
      ],
      "text/plain": [
       "     A    B    C\n",
       "0  1.0  4.0  7.0\n",
       "1  2.0  5.0  7.0\n",
       "2  3.0  5.0  7.0\n",
       "3  3.0  5.0  7.0"
      ]
     },
     "execution_count": 42,
     "metadata": {},
     "output_type": "execute_result"
    }
   ],
   "source": [
    "sample_df.fillna(method='ffill')"
   ]
  },
  {
   "cell_type": "code",
   "execution_count": 43,
   "id": "everyday-sauce",
   "metadata": {},
   "outputs": [
    {
     "data": {
      "text/html": [
       "<div>\n",
       "<style scoped>\n",
       "    .dataframe tbody tr th:only-of-type {\n",
       "        vertical-align: middle;\n",
       "    }\n",
       "\n",
       "    .dataframe tbody tr th {\n",
       "        vertical-align: top;\n",
       "    }\n",
       "\n",
       "    .dataframe thead th {\n",
       "        text-align: right;\n",
       "    }\n",
       "</style>\n",
       "<table border=\"1\" class=\"dataframe\">\n",
       "  <thead>\n",
       "    <tr style=\"text-align: right;\">\n",
       "      <th></th>\n",
       "      <th>A</th>\n",
       "      <th>B</th>\n",
       "      <th>C</th>\n",
       "    </tr>\n",
       "  </thead>\n",
       "  <tbody>\n",
       "    <tr>\n",
       "      <th>0</th>\n",
       "      <td>1.0</td>\n",
       "      <td>4.0</td>\n",
       "      <td>7.0</td>\n",
       "    </tr>\n",
       "    <tr>\n",
       "      <th>1</th>\n",
       "      <td>2.0</td>\n",
       "      <td>5.0</td>\n",
       "      <td>5.0</td>\n",
       "    </tr>\n",
       "    <tr>\n",
       "      <th>2</th>\n",
       "      <td>3.0</td>\n",
       "      <td>3.0</td>\n",
       "      <td>3.0</td>\n",
       "    </tr>\n",
       "    <tr>\n",
       "      <th>3</th>\n",
       "      <td>NaN</td>\n",
       "      <td>NaN</td>\n",
       "      <td>NaN</td>\n",
       "    </tr>\n",
       "  </tbody>\n",
       "</table>\n",
       "</div>"
      ],
      "text/plain": [
       "     A    B    C\n",
       "0  1.0  4.0  7.0\n",
       "1  2.0  5.0  5.0\n",
       "2  3.0  3.0  3.0\n",
       "3  NaN  NaN  NaN"
      ]
     },
     "execution_count": 43,
     "metadata": {},
     "output_type": "execute_result"
    }
   ],
   "source": [
    "sample_df.fillna(method='ffill', axis=1)"
   ]
  },
  {
   "cell_type": "code",
   "execution_count": 44,
   "id": "unexpected-found",
   "metadata": {},
   "outputs": [
    {
     "data": {
      "text/html": [
       "<div>\n",
       "<style scoped>\n",
       "    .dataframe tbody tr th:only-of-type {\n",
       "        vertical-align: middle;\n",
       "    }\n",
       "\n",
       "    .dataframe tbody tr th {\n",
       "        vertical-align: top;\n",
       "    }\n",
       "\n",
       "    .dataframe thead th {\n",
       "        text-align: right;\n",
       "    }\n",
       "</style>\n",
       "<table border=\"1\" class=\"dataframe\">\n",
       "  <thead>\n",
       "    <tr style=\"text-align: right;\">\n",
       "      <th></th>\n",
       "      <th>A</th>\n",
       "      <th>B</th>\n",
       "      <th>C</th>\n",
       "    </tr>\n",
       "  </thead>\n",
       "  <tbody>\n",
       "    <tr>\n",
       "      <th>0</th>\n",
       "      <td>1.0</td>\n",
       "      <td>4.0</td>\n",
       "      <td>7.0</td>\n",
       "    </tr>\n",
       "    <tr>\n",
       "      <th>1</th>\n",
       "      <td>2.0</td>\n",
       "      <td>5.0</td>\n",
       "      <td>7.0</td>\n",
       "    </tr>\n",
       "    <tr>\n",
       "      <th>2</th>\n",
       "      <td>3.0</td>\n",
       "      <td>NaN</td>\n",
       "      <td>7.0</td>\n",
       "    </tr>\n",
       "    <tr>\n",
       "      <th>3</th>\n",
       "      <td>NaN</td>\n",
       "      <td>NaN</td>\n",
       "      <td>7.0</td>\n",
       "    </tr>\n",
       "  </tbody>\n",
       "</table>\n",
       "</div>"
      ],
      "text/plain": [
       "     A    B    C\n",
       "0  1.0  4.0  7.0\n",
       "1  2.0  5.0  7.0\n",
       "2  3.0  NaN  7.0\n",
       "3  NaN  NaN  7.0"
      ]
     },
     "execution_count": 44,
     "metadata": {},
     "output_type": "execute_result"
    }
   ],
   "source": [
    "sample_df.assign(C=sample_df['C'].fillna(method='ffill'))"
   ]
  },
  {
   "cell_type": "markdown",
   "id": "departmental-reader",
   "metadata": {},
   "source": [
    "## Replace Values"
   ]
  },
  {
   "cell_type": "markdown",
   "id": "bound-lightweight",
   "metadata": {},
   "source": [
    "The second most common problem you will likely encounter is the need to replace values.  This could be due to outliers (e.g. your data set reports 120% for an feature than can only be 100% maximum), mangled ingestion (e.g. all values that should say \"BTC\" say \"BTT\"), or you need the values to be formatted in a certain way before using the data (e.g. all values that say \"Ethereum\" needs to say \"ETH\").  \n",
    "\n",
    "In this situation we will still need to take action similar to what we did for missing data, but `.isnull`, `.dropna` and `.fillna` will no longer help us since these values will not be considered nulls.\n",
    "\n",
    "This problem becomes even more difficult when we have large data sets, and the outliers can be small"
   ]
  },
  {
   "cell_type": "code",
   "execution_count": 45,
   "id": "union-ethnic",
   "metadata": {},
   "outputs": [],
   "source": [
    "df = pd.DataFrame({\n",
    "    'pct_scored': np.random.permutation(\n",
    "        np.append(\n",
    "            100 * np.random.rand(980),\n",
    "            100 + np.random.rand(20)\n",
    "        )\n",
    "    ),\n",
    "    'district': np.random.permutation(\n",
    "        np.append(\n",
    "            np.random.choice(['West', 'South', 'East', 'North'], 990), \n",
    "            (np.random.choice(['Nt', 'Sth'], 10))\n",
    "        )\n",
    "    ),\n",
    "    'city': np.random.permutation(\n",
    "        np.append(\n",
    "            np.random.choice(['Westbrook', 'Southbridge', 'Eastriver', 'Northgate'], 990), \n",
    "            (np.random.choice(['Westnook', 'Northgrate'], 10))\n",
    "        )\n",
    "    )\n",
    "})"
   ]
  },
  {
   "cell_type": "markdown",
   "id": "focal-heritage",
   "metadata": {
    "tags": []
   },
   "source": [
    "### Identifying categorical values that need replacement"
   ]
  },
  {
   "cell_type": "markdown",
   "id": "electrical-headquarters",
   "metadata": {},
   "source": [
    "For categorical values, one of the easiest ways to find whether we have values that need replacing is to identify the distinct set of values and see if there's anything strange.  For example, imagine we had a data set like:"
   ]
  },
  {
   "cell_type": "code",
   "execution_count": 46,
   "id": "located-forty",
   "metadata": {},
   "outputs": [
    {
     "data": {
      "text/html": [
       "<div>\n",
       "<style scoped>\n",
       "    .dataframe tbody tr th:only-of-type {\n",
       "        vertical-align: middle;\n",
       "    }\n",
       "\n",
       "    .dataframe tbody tr th {\n",
       "        vertical-align: top;\n",
       "    }\n",
       "\n",
       "    .dataframe thead th {\n",
       "        text-align: right;\n",
       "    }\n",
       "</style>\n",
       "<table border=\"1\" class=\"dataframe\">\n",
       "  <thead>\n",
       "    <tr style=\"text-align: right;\">\n",
       "      <th></th>\n",
       "      <th>pct_scored</th>\n",
       "      <th>district</th>\n",
       "      <th>city</th>\n",
       "    </tr>\n",
       "  </thead>\n",
       "  <tbody>\n",
       "    <tr>\n",
       "      <th>0</th>\n",
       "      <td>53.139716</td>\n",
       "      <td>East</td>\n",
       "      <td>Northgate</td>\n",
       "    </tr>\n",
       "    <tr>\n",
       "      <th>1</th>\n",
       "      <td>100.169748</td>\n",
       "      <td>West</td>\n",
       "      <td>Westbrook</td>\n",
       "    </tr>\n",
       "    <tr>\n",
       "      <th>2</th>\n",
       "      <td>37.522737</td>\n",
       "      <td>East</td>\n",
       "      <td>Westbrook</td>\n",
       "    </tr>\n",
       "    <tr>\n",
       "      <th>3</th>\n",
       "      <td>79.174522</td>\n",
       "      <td>South</td>\n",
       "      <td>Northgate</td>\n",
       "    </tr>\n",
       "    <tr>\n",
       "      <th>4</th>\n",
       "      <td>89.128212</td>\n",
       "      <td>East</td>\n",
       "      <td>Westbrook</td>\n",
       "    </tr>\n",
       "    <tr>\n",
       "      <th>...</th>\n",
       "      <td>...</td>\n",
       "      <td>...</td>\n",
       "      <td>...</td>\n",
       "    </tr>\n",
       "    <tr>\n",
       "      <th>995</th>\n",
       "      <td>66.217314</td>\n",
       "      <td>South</td>\n",
       "      <td>Westbrook</td>\n",
       "    </tr>\n",
       "    <tr>\n",
       "      <th>996</th>\n",
       "      <td>69.153682</td>\n",
       "      <td>South</td>\n",
       "      <td>Westbrook</td>\n",
       "    </tr>\n",
       "    <tr>\n",
       "      <th>997</th>\n",
       "      <td>2.128605</td>\n",
       "      <td>West</td>\n",
       "      <td>Northgate</td>\n",
       "    </tr>\n",
       "    <tr>\n",
       "      <th>998</th>\n",
       "      <td>0.626225</td>\n",
       "      <td>North</td>\n",
       "      <td>Northgate</td>\n",
       "    </tr>\n",
       "    <tr>\n",
       "      <th>999</th>\n",
       "      <td>82.172803</td>\n",
       "      <td>West</td>\n",
       "      <td>Northgate</td>\n",
       "    </tr>\n",
       "  </tbody>\n",
       "</table>\n",
       "<p>1000 rows × 3 columns</p>\n",
       "</div>"
      ],
      "text/plain": [
       "     pct_scored district       city\n",
       "0     53.139716     East  Northgate\n",
       "1    100.169748     West  Westbrook\n",
       "2     37.522737     East  Westbrook\n",
       "3     79.174522    South  Northgate\n",
       "4     89.128212     East  Westbrook\n",
       "..          ...      ...        ...\n",
       "995   66.217314    South  Westbrook\n",
       "996   69.153682    South  Westbrook\n",
       "997    2.128605     West  Northgate\n",
       "998    0.626225    North  Northgate\n",
       "999   82.172803     West  Northgate\n",
       "\n",
       "[1000 rows x 3 columns]"
      ]
     },
     "execution_count": 46,
     "metadata": {},
     "output_type": "execute_result"
    }
   ],
   "source": [
    "df"
   ]
  },
  {
   "cell_type": "markdown",
   "id": "constant-spank",
   "metadata": {},
   "source": [
    "we can identify the unique set of names for district using `.unique`.  From this we found that there's two values we didn't expect `Sth` and `Nt`."
   ]
  },
  {
   "cell_type": "code",
   "execution_count": 47,
   "id": "scenic-reconstruction",
   "metadata": {},
   "outputs": [
    {
     "data": {
      "text/plain": [
       "array(['East', 'West', 'South', 'North', 'Sth', 'Nt'], dtype=object)"
      ]
     },
     "execution_count": 47,
     "metadata": {},
     "output_type": "execute_result"
    }
   ],
   "source": [
    "df['district'].unique()"
   ]
  },
  {
   "cell_type": "markdown",
   "id": "standing-salmon",
   "metadata": {},
   "source": [
    "This may not be clear what values are actually errors.  We can use `.value_counts` to spot outliers"
   ]
  },
  {
   "cell_type": "code",
   "execution_count": 48,
   "id": "altered-starter",
   "metadata": {},
   "outputs": [
    {
     "data": {
      "text/plain": [
       "South    264\n",
       "East     246\n",
       "West     242\n",
       "North    238\n",
       "Sth        6\n",
       "Nt         4\n",
       "Name: district, dtype: int64"
      ]
     },
     "execution_count": 48,
     "metadata": {},
     "output_type": "execute_result"
    }
   ],
   "source": [
    "df['district'].value_counts()"
   ]
  },
  {
   "cell_type": "markdown",
   "id": "sacred-pointer",
   "metadata": {},
   "source": [
    "this shows us that Nt and Sth are likely errors"
   ]
  },
  {
   "cell_type": "markdown",
   "id": "colonial-fishing",
   "metadata": {},
   "source": [
    "Let's say we know that Sth is shorthand for South, and Nt is shorthand for North (this error could be due to the source data being manual entry).  We can use `.replace` to "
   ]
  },
  {
   "cell_type": "code",
   "execution_count": 49,
   "id": "received-background",
   "metadata": {},
   "outputs": [
    {
     "data": {
      "text/plain": [
       "South    264\n",
       "East     246\n",
       "West     242\n",
       "North    242\n",
       "Sth        6\n",
       "Name: district, dtype: int64"
      ]
     },
     "execution_count": 49,
     "metadata": {},
     "output_type": "execute_result"
    }
   ],
   "source": [
    "df['district'].replace('Nt', 'North').value_counts()"
   ]
  },
  {
   "cell_type": "markdown",
   "id": "swiss-compilation",
   "metadata": {},
   "source": [
    "However if we have multiple values to replace, this is pretty inefficient.  Instead, we can pass in a dict and replace everything at once"
   ]
  },
  {
   "cell_type": "code",
   "execution_count": 50,
   "id": "assigned-milan",
   "metadata": {},
   "outputs": [
    {
     "data": {
      "text/plain": [
       "South    270\n",
       "East     246\n",
       "West     242\n",
       "North    242\n",
       "Name: district, dtype: int64"
      ]
     },
     "execution_count": 50,
     "metadata": {},
     "output_type": "execute_result"
    }
   ],
   "source": [
    "df['district'].replace({'Nt': 'North', 'Sth': 'South'}).value_counts()"
   ]
  },
  {
   "cell_type": "markdown",
   "id": "social-commander",
   "metadata": {},
   "source": [
    "With a DataFrame, we can do this across multiple columns as well with a nested Dict:"
   ]
  },
  {
   "cell_type": "code",
   "execution_count": 51,
   "id": "virgin-rating",
   "metadata": {},
   "outputs": [
    {
     "data": {
      "text/html": [
       "<div>\n",
       "<style scoped>\n",
       "    .dataframe tbody tr th:only-of-type {\n",
       "        vertical-align: middle;\n",
       "    }\n",
       "\n",
       "    .dataframe tbody tr th {\n",
       "        vertical-align: top;\n",
       "    }\n",
       "\n",
       "    .dataframe thead th {\n",
       "        text-align: right;\n",
       "    }\n",
       "</style>\n",
       "<table border=\"1\" class=\"dataframe\">\n",
       "  <thead>\n",
       "    <tr style=\"text-align: right;\">\n",
       "      <th></th>\n",
       "      <th>pct_scored</th>\n",
       "      <th>district</th>\n",
       "      <th>city</th>\n",
       "    </tr>\n",
       "  </thead>\n",
       "  <tbody>\n",
       "    <tr>\n",
       "      <th>0</th>\n",
       "      <td>53.139716</td>\n",
       "      <td>East</td>\n",
       "      <td>Northgate</td>\n",
       "    </tr>\n",
       "    <tr>\n",
       "      <th>1</th>\n",
       "      <td>100.169748</td>\n",
       "      <td>West</td>\n",
       "      <td>Westbrook</td>\n",
       "    </tr>\n",
       "    <tr>\n",
       "      <th>2</th>\n",
       "      <td>37.522737</td>\n",
       "      <td>East</td>\n",
       "      <td>Westbrook</td>\n",
       "    </tr>\n",
       "    <tr>\n",
       "      <th>3</th>\n",
       "      <td>79.174522</td>\n",
       "      <td>South</td>\n",
       "      <td>Northgate</td>\n",
       "    </tr>\n",
       "    <tr>\n",
       "      <th>4</th>\n",
       "      <td>89.128212</td>\n",
       "      <td>East</td>\n",
       "      <td>Westbrook</td>\n",
       "    </tr>\n",
       "    <tr>\n",
       "      <th>...</th>\n",
       "      <td>...</td>\n",
       "      <td>...</td>\n",
       "      <td>...</td>\n",
       "    </tr>\n",
       "    <tr>\n",
       "      <th>995</th>\n",
       "      <td>66.217314</td>\n",
       "      <td>South</td>\n",
       "      <td>Westbrook</td>\n",
       "    </tr>\n",
       "    <tr>\n",
       "      <th>996</th>\n",
       "      <td>69.153682</td>\n",
       "      <td>South</td>\n",
       "      <td>Westbrook</td>\n",
       "    </tr>\n",
       "    <tr>\n",
       "      <th>997</th>\n",
       "      <td>2.128605</td>\n",
       "      <td>West</td>\n",
       "      <td>Northgate</td>\n",
       "    </tr>\n",
       "    <tr>\n",
       "      <th>998</th>\n",
       "      <td>0.626225</td>\n",
       "      <td>North</td>\n",
       "      <td>Northgate</td>\n",
       "    </tr>\n",
       "    <tr>\n",
       "      <th>999</th>\n",
       "      <td>82.172803</td>\n",
       "      <td>West</td>\n",
       "      <td>Northgate</td>\n",
       "    </tr>\n",
       "  </tbody>\n",
       "</table>\n",
       "<p>1000 rows × 3 columns</p>\n",
       "</div>"
      ],
      "text/plain": [
       "     pct_scored district       city\n",
       "0     53.139716     East  Northgate\n",
       "1    100.169748     West  Westbrook\n",
       "2     37.522737     East  Westbrook\n",
       "3     79.174522    South  Northgate\n",
       "4     89.128212     East  Westbrook\n",
       "..          ...      ...        ...\n",
       "995   66.217314    South  Westbrook\n",
       "996   69.153682    South  Westbrook\n",
       "997    2.128605     West  Northgate\n",
       "998    0.626225    North  Northgate\n",
       "999   82.172803     West  Northgate\n",
       "\n",
       "[1000 rows x 3 columns]"
      ]
     },
     "execution_count": 51,
     "metadata": {},
     "output_type": "execute_result"
    }
   ],
   "source": [
    "df.replace({\n",
    "    'district': {'Nt': 'North', 'Sth': 'South'},\n",
    "    'city': {'Westnook': 'Westbrook', 'Northgrate': 'Northgate'}\n",
    "})"
   ]
  },
  {
   "cell_type": "code",
   "execution_count": 52,
   "id": "sharp-professor",
   "metadata": {},
   "outputs": [
    {
     "data": {
      "text/plain": [
       "Northgate      266\n",
       "Eastriver      262\n",
       "Westbrook      260\n",
       "Southbridge    212\n",
       "Name: city, dtype: int64"
      ]
     },
     "execution_count": 52,
     "metadata": {},
     "output_type": "execute_result"
    }
   ],
   "source": [
    "df.replace({\n",
    "    'district': {'Nt': 'North', 'Sth': 'South'},\n",
    "    'city': {'Westnook': 'Westbrook', 'Northgrate': 'Northgate'}\n",
    "})['city'].value_counts()"
   ]
  },
  {
   "cell_type": "markdown",
   "id": "permanent-inspector",
   "metadata": {},
   "source": [
    "### Identifying numerical values that need replacement"
   ]
  },
  {
   "cell_type": "markdown",
   "id": "compound-laundry",
   "metadata": {},
   "source": [
    "We found out how we can easily replace categorical values, but what about numerical outliers?  This is even easier.  We can first identify how many row we will need to replace, then replace it using DataFrame mutation"
   ]
  },
  {
   "cell_type": "code",
   "execution_count": 53,
   "id": "authentic-compromise",
   "metadata": {},
   "outputs": [
    {
     "data": {
      "text/plain": [
       "(20, 3)"
      ]
     },
     "execution_count": 53,
     "metadata": {},
     "output_type": "execute_result"
    }
   ],
   "source": [
    "df.loc[df.pct_scored > 100].shape"
   ]
  },
  {
   "cell_type": "code",
   "execution_count": 54,
   "id": "athletic-courage",
   "metadata": {},
   "outputs": [
    {
     "data": {
      "text/plain": [
       "(0, 3)"
      ]
     },
     "execution_count": 54,
     "metadata": {},
     "output_type": "execute_result"
    }
   ],
   "source": [
    "df.loc[df.pct_scored > 100, 'pct_scored'] = 100\n",
    "df.loc[df.pct_scored > 100].shape"
   ]
  },
  {
   "cell_type": "markdown",
   "id": "imperial-physiology",
   "metadata": {
    "tags": []
   },
   "source": [
    "## Duplicate Values"
   ]
  },
  {
   "cell_type": "markdown",
   "id": "worst-extra",
   "metadata": {},
   "source": [
    "Duplicate values are super simple to detect and resolve - the standard methodology is to remove all but one of the duplicated values, or remove all duplicates (as it may indicate something wrong with the upstream data).  We can use `.duplicated` to detect duplicates, and `.drop_duplicates` to remove them.\n",
    "\n",
    "Let's see an example:"
   ]
  },
  {
   "cell_type": "code",
   "execution_count": 55,
   "id": "thermal-absence",
   "metadata": {},
   "outputs": [],
   "source": [
    "df = pd.DataFrame({\n",
    "    'A': ['A', 'B', 'C', 'B', 'D', 'D', 'D'],\n",
    "    'B': [1, 2, 3, 4, 5, 5, 7]\n",
    "})"
   ]
  },
  {
   "cell_type": "code",
   "execution_count": 56,
   "id": "latin-slovak",
   "metadata": {},
   "outputs": [
    {
     "data": {
      "text/plain": [
       "0    False\n",
       "1    False\n",
       "2    False\n",
       "3    False\n",
       "4    False\n",
       "5     True\n",
       "6    False\n",
       "dtype: bool"
      ]
     },
     "execution_count": 56,
     "metadata": {},
     "output_type": "execute_result"
    }
   ],
   "source": [
    "df.duplicated()"
   ]
  },
  {
   "cell_type": "markdown",
   "id": "physical-generator",
   "metadata": {},
   "source": [
    "currently, duplicated shows that only one row is duplicated.  This is the case because by default duplicated will check for fully duplicated rows - i.e. _every_ element in the row is duplicated.  If we want to only check for duplicates in column A, we can do this:"
   ]
  },
  {
   "cell_type": "code",
   "execution_count": 57,
   "id": "palestinian-scholar",
   "metadata": {},
   "outputs": [
    {
     "data": {
      "text/plain": [
       "0    False\n",
       "1    False\n",
       "2    False\n",
       "3     True\n",
       "4    False\n",
       "5     True\n",
       "6     True\n",
       "dtype: bool"
      ]
     },
     "execution_count": 57,
     "metadata": {},
     "output_type": "execute_result"
    }
   ],
   "source": [
    "df.duplicated(subset=['A'])"
   ]
  },
  {
   "cell_type": "markdown",
   "id": "boxed-fishing",
   "metadata": {},
   "source": [
    "Also notice that by default only the occurrence beyond the first is considered a duplicate (i.e. the first occurrence sequentially is not a duplicate).  We can change the behavior by either choosing the last occurrence as non-duplicated, or no occurrences as non-duplicated by:"
   ]
  },
  {
   "cell_type": "code",
   "execution_count": 58,
   "id": "biblical-express",
   "metadata": {},
   "outputs": [
    {
     "data": {
      "text/plain": [
       "0    False\n",
       "1     True\n",
       "2    False\n",
       "3    False\n",
       "4     True\n",
       "5     True\n",
       "6    False\n",
       "dtype: bool"
      ]
     },
     "execution_count": 58,
     "metadata": {},
     "output_type": "execute_result"
    }
   ],
   "source": [
    "df.duplicated(subset=['A'], keep='last')"
   ]
  },
  {
   "cell_type": "code",
   "execution_count": 59,
   "id": "negative-google",
   "metadata": {},
   "outputs": [
    {
     "data": {
      "text/plain": [
       "0    False\n",
       "1     True\n",
       "2    False\n",
       "3     True\n",
       "4     True\n",
       "5     True\n",
       "6     True\n",
       "dtype: bool"
      ]
     },
     "execution_count": 59,
     "metadata": {},
     "output_type": "execute_result"
    }
   ],
   "source": [
    "df.duplicated(subset=['A'], keep=False)"
   ]
  },
  {
   "cell_type": "markdown",
   "id": "essential-peter",
   "metadata": {},
   "source": [
    "Once we know what items are duplicated and our strategy for keeping records, we can simply call `.drop_duplicates` with the exact same parameters to return a DataFrame with only our unique rows"
   ]
  },
  {
   "cell_type": "code",
   "execution_count": 60,
   "id": "younger-challenge",
   "metadata": {},
   "outputs": [
    {
     "data": {
      "text/html": [
       "<div>\n",
       "<style scoped>\n",
       "    .dataframe tbody tr th:only-of-type {\n",
       "        vertical-align: middle;\n",
       "    }\n",
       "\n",
       "    .dataframe tbody tr th {\n",
       "        vertical-align: top;\n",
       "    }\n",
       "\n",
       "    .dataframe thead th {\n",
       "        text-align: right;\n",
       "    }\n",
       "</style>\n",
       "<table border=\"1\" class=\"dataframe\">\n",
       "  <thead>\n",
       "    <tr style=\"text-align: right;\">\n",
       "      <th></th>\n",
       "      <th>A</th>\n",
       "      <th>B</th>\n",
       "    </tr>\n",
       "  </thead>\n",
       "  <tbody>\n",
       "    <tr>\n",
       "      <th>0</th>\n",
       "      <td>A</td>\n",
       "      <td>1</td>\n",
       "    </tr>\n",
       "    <tr>\n",
       "      <th>1</th>\n",
       "      <td>B</td>\n",
       "      <td>2</td>\n",
       "    </tr>\n",
       "    <tr>\n",
       "      <th>2</th>\n",
       "      <td>C</td>\n",
       "      <td>3</td>\n",
       "    </tr>\n",
       "    <tr>\n",
       "      <th>4</th>\n",
       "      <td>D</td>\n",
       "      <td>5</td>\n",
       "    </tr>\n",
       "  </tbody>\n",
       "</table>\n",
       "</div>"
      ],
      "text/plain": [
       "   A  B\n",
       "0  A  1\n",
       "1  B  2\n",
       "2  C  3\n",
       "4  D  5"
      ]
     },
     "execution_count": 60,
     "metadata": {},
     "output_type": "execute_result"
    }
   ],
   "source": [
    "df.drop_duplicates(subset=['A'], keep='first')"
   ]
  },
  {
   "cell_type": "markdown",
   "id": "nutritional-cursor",
   "metadata": {},
   "source": [
    "## Badly formatted values"
   ]
  },
  {
   "cell_type": "markdown",
   "id": "positive-migration",
   "metadata": {},
   "source": [
    "The Last case we will go over is handling malformed text.  This can happen for example if you're ingesting data from an HTML source where markup is attached to the data, or if the data is formatted in a weird or unintuitive way.  \n",
    "\n",
    "Luckily, pandas gives us some pretty easy methods to be able to split, truncate and parse data"
   ]
  },
  {
   "cell_type": "markdown",
   "id": "common-comfort",
   "metadata": {},
   "source": [
    "### Splitting data"
   ]
  },
  {
   "cell_type": "markdown",
   "id": "identified-development",
   "metadata": {},
   "source": [
    "If we have a data set like below, we can do the \"text to column\" operation using `.str.split`, as below:"
   ]
  },
  {
   "cell_type": "code",
   "execution_count": 61,
   "id": "reported-rebel",
   "metadata": {},
   "outputs": [
    {
     "data": {
      "text/html": [
       "<div>\n",
       "<style scoped>\n",
       "    .dataframe tbody tr th:only-of-type {\n",
       "        vertical-align: middle;\n",
       "    }\n",
       "\n",
       "    .dataframe tbody tr th {\n",
       "        vertical-align: top;\n",
       "    }\n",
       "\n",
       "    .dataframe thead th {\n",
       "        text-align: right;\n",
       "    }\n",
       "</style>\n",
       "<table border=\"1\" class=\"dataframe\">\n",
       "  <thead>\n",
       "    <tr style=\"text-align: right;\">\n",
       "      <th></th>\n",
       "      <th>records</th>\n",
       "    </tr>\n",
       "  </thead>\n",
       "  <tbody>\n",
       "    <tr>\n",
       "      <th>0</th>\n",
       "      <td>&lt;b&gt;A&lt;/b&gt;_59_D    @</td>\n",
       "    </tr>\n",
       "    <tr>\n",
       "      <th>1</th>\n",
       "      <td>&lt;b&gt;B&lt;/b&gt;_92_L    L</td>\n",
       "    </tr>\n",
       "    <tr>\n",
       "      <th>2</th>\n",
       "      <td>&lt;b&gt;C&lt;/b&gt;_7_O  Q</td>\n",
       "    </tr>\n",
       "    <tr>\n",
       "      <th>3</th>\n",
       "      <td>&lt;b&gt;D&lt;/b&gt;_43_V  O</td>\n",
       "    </tr>\n",
       "    <tr>\n",
       "      <th>4</th>\n",
       "      <td>&lt;b&gt;E&lt;/b&gt;_50_J    C</td>\n",
       "    </tr>\n",
       "    <tr>\n",
       "      <th>5</th>\n",
       "      <td>&lt;b&gt;F&lt;/b&gt;_53_@   U</td>\n",
       "    </tr>\n",
       "    <tr>\n",
       "      <th>6</th>\n",
       "      <td>&lt;b&gt;G&lt;/b&gt;_17_K  C</td>\n",
       "    </tr>\n",
       "    <tr>\n",
       "      <th>7</th>\n",
       "      <td>&lt;b&gt;H&lt;/b&gt;_24_K  T</td>\n",
       "    </tr>\n",
       "    <tr>\n",
       "      <th>8</th>\n",
       "      <td>&lt;b&gt;I&lt;/b&gt;_58_K    T</td>\n",
       "    </tr>\n",
       "    <tr>\n",
       "      <th>9</th>\n",
       "      <td>&lt;b&gt;J&lt;/b&gt;_94_L M</td>\n",
       "    </tr>\n",
       "  </tbody>\n",
       "</table>\n",
       "</div>"
      ],
      "text/plain": [
       "              records\n",
       "0  <b>A</b>_59_D    @\n",
       "1  <b>B</b>_92_L    L\n",
       "2     <b>C</b>_7_O  Q\n",
       "3    <b>D</b>_43_V  O\n",
       "4  <b>E</b>_50_J    C\n",
       "5   <b>F</b>_53_@   U\n",
       "6    <b>G</b>_17_K  C\n",
       "7    <b>H</b>_24_K  T\n",
       "8  <b>I</b>_58_K    T\n",
       "9     <b>J</b>_94_L M"
      ]
     },
     "execution_count": 61,
     "metadata": {},
     "output_type": "execute_result"
    }
   ],
   "source": [
    "df = pd.DataFrame({\n",
    "    'records': [\n",
    "        '<b>A</b>_59_D    @',\n",
    "        '<b>B</b>_92_L    L',\n",
    "        '<b>C</b>_7_O  Q',\n",
    "        '<b>D</b>_43_V  O',\n",
    "        '<b>E</b>_50_J    C',\n",
    "        '<b>F</b>_53_@   U',\n",
    "        '<b>G</b>_17_K  C',\n",
    "        '<b>H</b>_24_K  T',\n",
    "        '<b>I</b>_58_K    T',\n",
    "        '<b>J</b>_94_L M',\n",
    "        '<b>K</b>_60_H M',\n",
    "        '<b>L</b>_65_Q E',\n",
    "        '<b>M</b>_23_A C',\n",
    "        '<b>N</b>_62_PS',\n",
    "        '<b>O</b>_90_P    X',\n",
    "        '<b>P</b>_34_O    D',\n",
    "        '<b>Q</b>_26_T  D',\n",
    "        '<b>R</b>_78_P   T',\n",
    "        '<b>S</b>_94_@   C',\n",
    "        '<b>T</b>_69_?  E',\n",
    "        '<b>U</b>_50_P T',\n",
    "        '<b>V</b>_99_T  C',\n",
    "        '<b>W</b>_20_V Q',\n",
    "        '<b>X</b>_88_E    O',\n",
    "        '<b>Y</b>_7_RF',\n",
    "        '<b>Z</b>_47_EN',\n",
    "    ]\n",
    "})\n",
    "\n",
    "df.head(10)"
   ]
  },
  {
   "cell_type": "code",
   "execution_count": 62,
   "id": "practical-brunswick",
   "metadata": {},
   "outputs": [
    {
     "data": {
      "text/html": [
       "<div>\n",
       "<style scoped>\n",
       "    .dataframe tbody tr th:only-of-type {\n",
       "        vertical-align: middle;\n",
       "    }\n",
       "\n",
       "    .dataframe tbody tr th {\n",
       "        vertical-align: top;\n",
       "    }\n",
       "\n",
       "    .dataframe thead th {\n",
       "        text-align: right;\n",
       "    }\n",
       "</style>\n",
       "<table border=\"1\" class=\"dataframe\">\n",
       "  <thead>\n",
       "    <tr style=\"text-align: right;\">\n",
       "      <th></th>\n",
       "      <th>column_A</th>\n",
       "      <th>column_B</th>\n",
       "      <th>column_C</th>\n",
       "    </tr>\n",
       "  </thead>\n",
       "  <tbody>\n",
       "    <tr>\n",
       "      <th>0</th>\n",
       "      <td>&lt;b&gt;A&lt;/b&gt;</td>\n",
       "      <td>59</td>\n",
       "      <td>D    @</td>\n",
       "    </tr>\n",
       "    <tr>\n",
       "      <th>1</th>\n",
       "      <td>&lt;b&gt;B&lt;/b&gt;</td>\n",
       "      <td>92</td>\n",
       "      <td>L    L</td>\n",
       "    </tr>\n",
       "    <tr>\n",
       "      <th>2</th>\n",
       "      <td>&lt;b&gt;C&lt;/b&gt;</td>\n",
       "      <td>7</td>\n",
       "      <td>O  Q</td>\n",
       "    </tr>\n",
       "    <tr>\n",
       "      <th>3</th>\n",
       "      <td>&lt;b&gt;D&lt;/b&gt;</td>\n",
       "      <td>43</td>\n",
       "      <td>V  O</td>\n",
       "    </tr>\n",
       "    <tr>\n",
       "      <th>4</th>\n",
       "      <td>&lt;b&gt;E&lt;/b&gt;</td>\n",
       "      <td>50</td>\n",
       "      <td>J    C</td>\n",
       "    </tr>\n",
       "    <tr>\n",
       "      <th>5</th>\n",
       "      <td>&lt;b&gt;F&lt;/b&gt;</td>\n",
       "      <td>53</td>\n",
       "      <td>@   U</td>\n",
       "    </tr>\n",
       "    <tr>\n",
       "      <th>6</th>\n",
       "      <td>&lt;b&gt;G&lt;/b&gt;</td>\n",
       "      <td>17</td>\n",
       "      <td>K  C</td>\n",
       "    </tr>\n",
       "    <tr>\n",
       "      <th>7</th>\n",
       "      <td>&lt;b&gt;H&lt;/b&gt;</td>\n",
       "      <td>24</td>\n",
       "      <td>K  T</td>\n",
       "    </tr>\n",
       "    <tr>\n",
       "      <th>8</th>\n",
       "      <td>&lt;b&gt;I&lt;/b&gt;</td>\n",
       "      <td>58</td>\n",
       "      <td>K    T</td>\n",
       "    </tr>\n",
       "    <tr>\n",
       "      <th>9</th>\n",
       "      <td>&lt;b&gt;J&lt;/b&gt;</td>\n",
       "      <td>94</td>\n",
       "      <td>L M</td>\n",
       "    </tr>\n",
       "    <tr>\n",
       "      <th>10</th>\n",
       "      <td>&lt;b&gt;K&lt;/b&gt;</td>\n",
       "      <td>60</td>\n",
       "      <td>H M</td>\n",
       "    </tr>\n",
       "    <tr>\n",
       "      <th>11</th>\n",
       "      <td>&lt;b&gt;L&lt;/b&gt;</td>\n",
       "      <td>65</td>\n",
       "      <td>Q E</td>\n",
       "    </tr>\n",
       "    <tr>\n",
       "      <th>12</th>\n",
       "      <td>&lt;b&gt;M&lt;/b&gt;</td>\n",
       "      <td>23</td>\n",
       "      <td>A C</td>\n",
       "    </tr>\n",
       "    <tr>\n",
       "      <th>13</th>\n",
       "      <td>&lt;b&gt;N&lt;/b&gt;</td>\n",
       "      <td>62</td>\n",
       "      <td>PS</td>\n",
       "    </tr>\n",
       "    <tr>\n",
       "      <th>14</th>\n",
       "      <td>&lt;b&gt;O&lt;/b&gt;</td>\n",
       "      <td>90</td>\n",
       "      <td>P    X</td>\n",
       "    </tr>\n",
       "    <tr>\n",
       "      <th>15</th>\n",
       "      <td>&lt;b&gt;P&lt;/b&gt;</td>\n",
       "      <td>34</td>\n",
       "      <td>O    D</td>\n",
       "    </tr>\n",
       "    <tr>\n",
       "      <th>16</th>\n",
       "      <td>&lt;b&gt;Q&lt;/b&gt;</td>\n",
       "      <td>26</td>\n",
       "      <td>T  D</td>\n",
       "    </tr>\n",
       "    <tr>\n",
       "      <th>17</th>\n",
       "      <td>&lt;b&gt;R&lt;/b&gt;</td>\n",
       "      <td>78</td>\n",
       "      <td>P   T</td>\n",
       "    </tr>\n",
       "    <tr>\n",
       "      <th>18</th>\n",
       "      <td>&lt;b&gt;S&lt;/b&gt;</td>\n",
       "      <td>94</td>\n",
       "      <td>@   C</td>\n",
       "    </tr>\n",
       "    <tr>\n",
       "      <th>19</th>\n",
       "      <td>&lt;b&gt;T&lt;/b&gt;</td>\n",
       "      <td>69</td>\n",
       "      <td>?  E</td>\n",
       "    </tr>\n",
       "    <tr>\n",
       "      <th>20</th>\n",
       "      <td>&lt;b&gt;U&lt;/b&gt;</td>\n",
       "      <td>50</td>\n",
       "      <td>P T</td>\n",
       "    </tr>\n",
       "    <tr>\n",
       "      <th>21</th>\n",
       "      <td>&lt;b&gt;V&lt;/b&gt;</td>\n",
       "      <td>99</td>\n",
       "      <td>T  C</td>\n",
       "    </tr>\n",
       "    <tr>\n",
       "      <th>22</th>\n",
       "      <td>&lt;b&gt;W&lt;/b&gt;</td>\n",
       "      <td>20</td>\n",
       "      <td>V Q</td>\n",
       "    </tr>\n",
       "    <tr>\n",
       "      <th>23</th>\n",
       "      <td>&lt;b&gt;X&lt;/b&gt;</td>\n",
       "      <td>88</td>\n",
       "      <td>E    O</td>\n",
       "    </tr>\n",
       "    <tr>\n",
       "      <th>24</th>\n",
       "      <td>&lt;b&gt;Y&lt;/b&gt;</td>\n",
       "      <td>7</td>\n",
       "      <td>RF</td>\n",
       "    </tr>\n",
       "    <tr>\n",
       "      <th>25</th>\n",
       "      <td>&lt;b&gt;Z&lt;/b&gt;</td>\n",
       "      <td>47</td>\n",
       "      <td>EN</td>\n",
       "    </tr>\n",
       "  </tbody>\n",
       "</table>\n",
       "</div>"
      ],
      "text/plain": [
       "    column_A column_B column_C\n",
       "0   <b>A</b>       59   D    @\n",
       "1   <b>B</b>       92   L    L\n",
       "2   <b>C</b>        7     O  Q\n",
       "3   <b>D</b>       43     V  O\n",
       "4   <b>E</b>       50   J    C\n",
       "5   <b>F</b>       53    @   U\n",
       "6   <b>G</b>       17     K  C\n",
       "7   <b>H</b>       24     K  T\n",
       "8   <b>I</b>       58   K    T\n",
       "9   <b>J</b>       94      L M\n",
       "10  <b>K</b>       60      H M\n",
       "11  <b>L</b>       65      Q E\n",
       "12  <b>M</b>       23      A C\n",
       "13  <b>N</b>       62       PS\n",
       "14  <b>O</b>       90   P    X\n",
       "15  <b>P</b>       34   O    D\n",
       "16  <b>Q</b>       26     T  D\n",
       "17  <b>R</b>       78    P   T\n",
       "18  <b>S</b>       94    @   C\n",
       "19  <b>T</b>       69     ?  E\n",
       "20  <b>U</b>       50      P T\n",
       "21  <b>V</b>       99     T  C\n",
       "22  <b>W</b>       20      V Q\n",
       "23  <b>X</b>       88   E    O\n",
       "24  <b>Y</b>        7       RF\n",
       "25  <b>Z</b>       47       EN"
      ]
     },
     "execution_count": 62,
     "metadata": {},
     "output_type": "execute_result"
    }
   ],
   "source": [
    "df_res = df.records.str.split('_', expand=True)\n",
    "df_res.columns = ['column_A', 'column_B', 'column_C']\n",
    "df_res"
   ]
  },
  {
   "cell_type": "markdown",
   "id": "unlikely-pulse",
   "metadata": {},
   "source": [
    "Next we can strip out end whitespaces from Column C, and strip out middle whitespaces using replace:"
   ]
  },
  {
   "cell_type": "code",
   "execution_count": 63,
   "id": "bored-compensation",
   "metadata": {},
   "outputs": [],
   "source": [
    "df_res['column_C'] = df_res.column_C.str.strip()"
   ]
  },
  {
   "cell_type": "code",
   "execution_count": 64,
   "id": "grave-nomination",
   "metadata": {},
   "outputs": [],
   "source": [
    "df_res['column_C'] = df_res.column_C.str.replace(' ', '')"
   ]
  },
  {
   "cell_type": "code",
   "execution_count": 65,
   "id": "cooperative-strip",
   "metadata": {},
   "outputs": [
    {
     "data": {
      "text/html": [
       "<div>\n",
       "<style scoped>\n",
       "    .dataframe tbody tr th:only-of-type {\n",
       "        vertical-align: middle;\n",
       "    }\n",
       "\n",
       "    .dataframe tbody tr th {\n",
       "        vertical-align: top;\n",
       "    }\n",
       "\n",
       "    .dataframe thead th {\n",
       "        text-align: right;\n",
       "    }\n",
       "</style>\n",
       "<table border=\"1\" class=\"dataframe\">\n",
       "  <thead>\n",
       "    <tr style=\"text-align: right;\">\n",
       "      <th></th>\n",
       "      <th>column_A</th>\n",
       "      <th>column_B</th>\n",
       "      <th>column_C</th>\n",
       "    </tr>\n",
       "  </thead>\n",
       "  <tbody>\n",
       "    <tr>\n",
       "      <th>0</th>\n",
       "      <td>&lt;b&gt;A&lt;/b&gt;</td>\n",
       "      <td>59</td>\n",
       "      <td>D@</td>\n",
       "    </tr>\n",
       "    <tr>\n",
       "      <th>1</th>\n",
       "      <td>&lt;b&gt;B&lt;/b&gt;</td>\n",
       "      <td>92</td>\n",
       "      <td>LL</td>\n",
       "    </tr>\n",
       "    <tr>\n",
       "      <th>2</th>\n",
       "      <td>&lt;b&gt;C&lt;/b&gt;</td>\n",
       "      <td>7</td>\n",
       "      <td>OQ</td>\n",
       "    </tr>\n",
       "    <tr>\n",
       "      <th>3</th>\n",
       "      <td>&lt;b&gt;D&lt;/b&gt;</td>\n",
       "      <td>43</td>\n",
       "      <td>VO</td>\n",
       "    </tr>\n",
       "    <tr>\n",
       "      <th>4</th>\n",
       "      <td>&lt;b&gt;E&lt;/b&gt;</td>\n",
       "      <td>50</td>\n",
       "      <td>JC</td>\n",
       "    </tr>\n",
       "    <tr>\n",
       "      <th>5</th>\n",
       "      <td>&lt;b&gt;F&lt;/b&gt;</td>\n",
       "      <td>53</td>\n",
       "      <td>@U</td>\n",
       "    </tr>\n",
       "    <tr>\n",
       "      <th>6</th>\n",
       "      <td>&lt;b&gt;G&lt;/b&gt;</td>\n",
       "      <td>17</td>\n",
       "      <td>KC</td>\n",
       "    </tr>\n",
       "    <tr>\n",
       "      <th>7</th>\n",
       "      <td>&lt;b&gt;H&lt;/b&gt;</td>\n",
       "      <td>24</td>\n",
       "      <td>KT</td>\n",
       "    </tr>\n",
       "    <tr>\n",
       "      <th>8</th>\n",
       "      <td>&lt;b&gt;I&lt;/b&gt;</td>\n",
       "      <td>58</td>\n",
       "      <td>KT</td>\n",
       "    </tr>\n",
       "    <tr>\n",
       "      <th>9</th>\n",
       "      <td>&lt;b&gt;J&lt;/b&gt;</td>\n",
       "      <td>94</td>\n",
       "      <td>LM</td>\n",
       "    </tr>\n",
       "    <tr>\n",
       "      <th>10</th>\n",
       "      <td>&lt;b&gt;K&lt;/b&gt;</td>\n",
       "      <td>60</td>\n",
       "      <td>HM</td>\n",
       "    </tr>\n",
       "    <tr>\n",
       "      <th>11</th>\n",
       "      <td>&lt;b&gt;L&lt;/b&gt;</td>\n",
       "      <td>65</td>\n",
       "      <td>QE</td>\n",
       "    </tr>\n",
       "    <tr>\n",
       "      <th>12</th>\n",
       "      <td>&lt;b&gt;M&lt;/b&gt;</td>\n",
       "      <td>23</td>\n",
       "      <td>AC</td>\n",
       "    </tr>\n",
       "    <tr>\n",
       "      <th>13</th>\n",
       "      <td>&lt;b&gt;N&lt;/b&gt;</td>\n",
       "      <td>62</td>\n",
       "      <td>PS</td>\n",
       "    </tr>\n",
       "    <tr>\n",
       "      <th>14</th>\n",
       "      <td>&lt;b&gt;O&lt;/b&gt;</td>\n",
       "      <td>90</td>\n",
       "      <td>PX</td>\n",
       "    </tr>\n",
       "    <tr>\n",
       "      <th>15</th>\n",
       "      <td>&lt;b&gt;P&lt;/b&gt;</td>\n",
       "      <td>34</td>\n",
       "      <td>OD</td>\n",
       "    </tr>\n",
       "    <tr>\n",
       "      <th>16</th>\n",
       "      <td>&lt;b&gt;Q&lt;/b&gt;</td>\n",
       "      <td>26</td>\n",
       "      <td>TD</td>\n",
       "    </tr>\n",
       "    <tr>\n",
       "      <th>17</th>\n",
       "      <td>&lt;b&gt;R&lt;/b&gt;</td>\n",
       "      <td>78</td>\n",
       "      <td>PT</td>\n",
       "    </tr>\n",
       "    <tr>\n",
       "      <th>18</th>\n",
       "      <td>&lt;b&gt;S&lt;/b&gt;</td>\n",
       "      <td>94</td>\n",
       "      <td>@C</td>\n",
       "    </tr>\n",
       "    <tr>\n",
       "      <th>19</th>\n",
       "      <td>&lt;b&gt;T&lt;/b&gt;</td>\n",
       "      <td>69</td>\n",
       "      <td>?E</td>\n",
       "    </tr>\n",
       "    <tr>\n",
       "      <th>20</th>\n",
       "      <td>&lt;b&gt;U&lt;/b&gt;</td>\n",
       "      <td>50</td>\n",
       "      <td>PT</td>\n",
       "    </tr>\n",
       "    <tr>\n",
       "      <th>21</th>\n",
       "      <td>&lt;b&gt;V&lt;/b&gt;</td>\n",
       "      <td>99</td>\n",
       "      <td>TC</td>\n",
       "    </tr>\n",
       "    <tr>\n",
       "      <th>22</th>\n",
       "      <td>&lt;b&gt;W&lt;/b&gt;</td>\n",
       "      <td>20</td>\n",
       "      <td>VQ</td>\n",
       "    </tr>\n",
       "    <tr>\n",
       "      <th>23</th>\n",
       "      <td>&lt;b&gt;X&lt;/b&gt;</td>\n",
       "      <td>88</td>\n",
       "      <td>EO</td>\n",
       "    </tr>\n",
       "    <tr>\n",
       "      <th>24</th>\n",
       "      <td>&lt;b&gt;Y&lt;/b&gt;</td>\n",
       "      <td>7</td>\n",
       "      <td>RF</td>\n",
       "    </tr>\n",
       "    <tr>\n",
       "      <th>25</th>\n",
       "      <td>&lt;b&gt;Z&lt;/b&gt;</td>\n",
       "      <td>47</td>\n",
       "      <td>EN</td>\n",
       "    </tr>\n",
       "  </tbody>\n",
       "</table>\n",
       "</div>"
      ],
      "text/plain": [
       "    column_A column_B column_C\n",
       "0   <b>A</b>       59       D@\n",
       "1   <b>B</b>       92       LL\n",
       "2   <b>C</b>        7       OQ\n",
       "3   <b>D</b>       43       VO\n",
       "4   <b>E</b>       50       JC\n",
       "5   <b>F</b>       53       @U\n",
       "6   <b>G</b>       17       KC\n",
       "7   <b>H</b>       24       KT\n",
       "8   <b>I</b>       58       KT\n",
       "9   <b>J</b>       94       LM\n",
       "10  <b>K</b>       60       HM\n",
       "11  <b>L</b>       65       QE\n",
       "12  <b>M</b>       23       AC\n",
       "13  <b>N</b>       62       PS\n",
       "14  <b>O</b>       90       PX\n",
       "15  <b>P</b>       34       OD\n",
       "16  <b>Q</b>       26       TD\n",
       "17  <b>R</b>       78       PT\n",
       "18  <b>S</b>       94       @C\n",
       "19  <b>T</b>       69       ?E\n",
       "20  <b>U</b>       50       PT\n",
       "21  <b>V</b>       99       TC\n",
       "22  <b>W</b>       20       VQ\n",
       "23  <b>X</b>       88       EO\n",
       "24  <b>Y</b>        7       RF\n",
       "25  <b>Z</b>       47       EN"
      ]
     },
     "execution_count": 65,
     "metadata": {},
     "output_type": "execute_result"
    }
   ],
   "source": [
    "df_res"
   ]
  },
  {
   "cell_type": "markdown",
   "id": "european-scanning",
   "metadata": {},
   "source": [
    "lastly, the extract (and replace function above) function is very, very powerful in that it can use any regex:"
   ]
  },
  {
   "cell_type": "code",
   "execution_count": 66,
   "id": "supreme-front",
   "metadata": {},
   "outputs": [],
   "source": [
    "df_res['column_A'] = df_res['column_A'].str.extract('<b>(.|\\n)*?<\\/b>')"
   ]
  },
  {
   "cell_type": "code",
   "execution_count": 67,
   "id": "restricted-custody",
   "metadata": {},
   "outputs": [
    {
     "data": {
      "text/html": [
       "<div>\n",
       "<style scoped>\n",
       "    .dataframe tbody tr th:only-of-type {\n",
       "        vertical-align: middle;\n",
       "    }\n",
       "\n",
       "    .dataframe tbody tr th {\n",
       "        vertical-align: top;\n",
       "    }\n",
       "\n",
       "    .dataframe thead th {\n",
       "        text-align: right;\n",
       "    }\n",
       "</style>\n",
       "<table border=\"1\" class=\"dataframe\">\n",
       "  <thead>\n",
       "    <tr style=\"text-align: right;\">\n",
       "      <th></th>\n",
       "      <th>column_A</th>\n",
       "      <th>column_B</th>\n",
       "      <th>column_C</th>\n",
       "    </tr>\n",
       "  </thead>\n",
       "  <tbody>\n",
       "    <tr>\n",
       "      <th>0</th>\n",
       "      <td>A</td>\n",
       "      <td>59</td>\n",
       "      <td>D@</td>\n",
       "    </tr>\n",
       "    <tr>\n",
       "      <th>1</th>\n",
       "      <td>B</td>\n",
       "      <td>92</td>\n",
       "      <td>LL</td>\n",
       "    </tr>\n",
       "    <tr>\n",
       "      <th>2</th>\n",
       "      <td>C</td>\n",
       "      <td>7</td>\n",
       "      <td>OQ</td>\n",
       "    </tr>\n",
       "    <tr>\n",
       "      <th>3</th>\n",
       "      <td>D</td>\n",
       "      <td>43</td>\n",
       "      <td>VO</td>\n",
       "    </tr>\n",
       "    <tr>\n",
       "      <th>4</th>\n",
       "      <td>E</td>\n",
       "      <td>50</td>\n",
       "      <td>JC</td>\n",
       "    </tr>\n",
       "    <tr>\n",
       "      <th>5</th>\n",
       "      <td>F</td>\n",
       "      <td>53</td>\n",
       "      <td>@U</td>\n",
       "    </tr>\n",
       "    <tr>\n",
       "      <th>6</th>\n",
       "      <td>G</td>\n",
       "      <td>17</td>\n",
       "      <td>KC</td>\n",
       "    </tr>\n",
       "    <tr>\n",
       "      <th>7</th>\n",
       "      <td>H</td>\n",
       "      <td>24</td>\n",
       "      <td>KT</td>\n",
       "    </tr>\n",
       "    <tr>\n",
       "      <th>8</th>\n",
       "      <td>I</td>\n",
       "      <td>58</td>\n",
       "      <td>KT</td>\n",
       "    </tr>\n",
       "    <tr>\n",
       "      <th>9</th>\n",
       "      <td>J</td>\n",
       "      <td>94</td>\n",
       "      <td>LM</td>\n",
       "    </tr>\n",
       "    <tr>\n",
       "      <th>10</th>\n",
       "      <td>K</td>\n",
       "      <td>60</td>\n",
       "      <td>HM</td>\n",
       "    </tr>\n",
       "    <tr>\n",
       "      <th>11</th>\n",
       "      <td>L</td>\n",
       "      <td>65</td>\n",
       "      <td>QE</td>\n",
       "    </tr>\n",
       "    <tr>\n",
       "      <th>12</th>\n",
       "      <td>M</td>\n",
       "      <td>23</td>\n",
       "      <td>AC</td>\n",
       "    </tr>\n",
       "    <tr>\n",
       "      <th>13</th>\n",
       "      <td>N</td>\n",
       "      <td>62</td>\n",
       "      <td>PS</td>\n",
       "    </tr>\n",
       "    <tr>\n",
       "      <th>14</th>\n",
       "      <td>O</td>\n",
       "      <td>90</td>\n",
       "      <td>PX</td>\n",
       "    </tr>\n",
       "    <tr>\n",
       "      <th>15</th>\n",
       "      <td>P</td>\n",
       "      <td>34</td>\n",
       "      <td>OD</td>\n",
       "    </tr>\n",
       "    <tr>\n",
       "      <th>16</th>\n",
       "      <td>Q</td>\n",
       "      <td>26</td>\n",
       "      <td>TD</td>\n",
       "    </tr>\n",
       "    <tr>\n",
       "      <th>17</th>\n",
       "      <td>R</td>\n",
       "      <td>78</td>\n",
       "      <td>PT</td>\n",
       "    </tr>\n",
       "    <tr>\n",
       "      <th>18</th>\n",
       "      <td>S</td>\n",
       "      <td>94</td>\n",
       "      <td>@C</td>\n",
       "    </tr>\n",
       "    <tr>\n",
       "      <th>19</th>\n",
       "      <td>T</td>\n",
       "      <td>69</td>\n",
       "      <td>?E</td>\n",
       "    </tr>\n",
       "    <tr>\n",
       "      <th>20</th>\n",
       "      <td>U</td>\n",
       "      <td>50</td>\n",
       "      <td>PT</td>\n",
       "    </tr>\n",
       "    <tr>\n",
       "      <th>21</th>\n",
       "      <td>V</td>\n",
       "      <td>99</td>\n",
       "      <td>TC</td>\n",
       "    </tr>\n",
       "    <tr>\n",
       "      <th>22</th>\n",
       "      <td>W</td>\n",
       "      <td>20</td>\n",
       "      <td>VQ</td>\n",
       "    </tr>\n",
       "    <tr>\n",
       "      <th>23</th>\n",
       "      <td>X</td>\n",
       "      <td>88</td>\n",
       "      <td>EO</td>\n",
       "    </tr>\n",
       "    <tr>\n",
       "      <th>24</th>\n",
       "      <td>Y</td>\n",
       "      <td>7</td>\n",
       "      <td>RF</td>\n",
       "    </tr>\n",
       "    <tr>\n",
       "      <th>25</th>\n",
       "      <td>Z</td>\n",
       "      <td>47</td>\n",
       "      <td>EN</td>\n",
       "    </tr>\n",
       "  </tbody>\n",
       "</table>\n",
       "</div>"
      ],
      "text/plain": [
       "   column_A column_B column_C\n",
       "0         A       59       D@\n",
       "1         B       92       LL\n",
       "2         C        7       OQ\n",
       "3         D       43       VO\n",
       "4         E       50       JC\n",
       "5         F       53       @U\n",
       "6         G       17       KC\n",
       "7         H       24       KT\n",
       "8         I       58       KT\n",
       "9         J       94       LM\n",
       "10        K       60       HM\n",
       "11        L       65       QE\n",
       "12        M       23       AC\n",
       "13        N       62       PS\n",
       "14        O       90       PX\n",
       "15        P       34       OD\n",
       "16        Q       26       TD\n",
       "17        R       78       PT\n",
       "18        S       94       @C\n",
       "19        T       69       ?E\n",
       "20        U       50       PT\n",
       "21        V       99       TC\n",
       "22        W       20       VQ\n",
       "23        X       88       EO\n",
       "24        Y        7       RF\n",
       "25        Z       47       EN"
      ]
     },
     "execution_count": 67,
     "metadata": {},
     "output_type": "execute_result"
    }
   ],
   "source": [
    "df_res"
   ]
  },
  {
   "cell_type": "code",
   "execution_count": null,
   "id": "german-meditation",
   "metadata": {},
   "outputs": [],
   "source": []
  }
 ],
 "metadata": {
  "kernelspec": {
   "display_name": "Python 3",
   "language": "python",
   "name": "python3"
  },
  "language_info": {
   "codemirror_mode": {
    "name": "ipython",
    "version": 3
   },
   "file_extension": ".py",
   "mimetype": "text/x-python",
   "name": "python",
   "nbconvert_exporter": "python",
   "pygments_lexer": "ipython3",
   "version": "3.7.9"
  }
 },
 "nbformat": 4,
 "nbformat_minor": 5
}
