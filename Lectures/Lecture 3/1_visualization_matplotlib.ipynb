{
 "cells": [
  {
   "cell_type": "markdown",
   "metadata": {},
   "source": [
    "# Visualization with Matplotlib"
   ]
  },
  {
   "cell_type": "markdown",
   "metadata": {
    "tags": []
   },
   "source": [
    "One of the most important things we can do once we have loaded our data is to discover insights from it via plotting.  In this module we'll look at different ways we can plot, as well as how matplotlib works with pandas to give us very powerful ways to gain insight into our data"
   ]
  },
  {
   "cell_type": "code",
   "execution_count": 1,
   "metadata": {},
   "outputs": [],
   "source": [
    "import requests\n",
    "import pandas as pd\n",
    "import numpy as np\n",
    "import matplotlib.pyplot as plt\n",
    "from functools import reduce\n",
    "\n",
    "%matplotlib inline"
   ]
  },
  {
   "cell_type": "code",
   "execution_count": 2,
   "metadata": {},
   "outputs": [],
   "source": [
    "def get_data(token):\n",
    "    res = requests.get(\n",
    "        f'https://api.cryptowat.ch/markets/coinbase-pro/{token}usd/ohlc',\n",
    "        params={\n",
    "            'periods': '3600',\n",
    "            'after': str(int(pd.Timestamp('2021-12-01').timestamp()))\n",
    "        }\n",
    "    )\n",
    "\n",
    "    df = pd.DataFrame(\n",
    "        res.json()['result']['3600'],\n",
    "        columns=['ts', 'open', 'high', 'low', 'close', 'volume', 'volumeUSD']\n",
    "    )\n",
    "    df['ts'] = pd.to_datetime(df.ts, unit='s')\n",
    "    df['token'] = token\n",
    "    \n",
    "    return df"
   ]
  },
  {
   "cell_type": "code",
   "execution_count": 12,
   "metadata": {},
   "outputs": [
    {
     "data": {
      "text/html": [
       "<div>\n",
       "<style scoped>\n",
       "    .dataframe tbody tr th:only-of-type {\n",
       "        vertical-align: middle;\n",
       "    }\n",
       "\n",
       "    .dataframe tbody tr th {\n",
       "        vertical-align: top;\n",
       "    }\n",
       "\n",
       "    .dataframe thead th {\n",
       "        text-align: right;\n",
       "    }\n",
       "</style>\n",
       "<table border=\"1\" class=\"dataframe\">\n",
       "  <thead>\n",
       "    <tr style=\"text-align: right;\">\n",
       "      <th></th>\n",
       "      <th>ts</th>\n",
       "      <th>open</th>\n",
       "      <th>high</th>\n",
       "      <th>low</th>\n",
       "      <th>close</th>\n",
       "      <th>volume</th>\n",
       "      <th>volumeUSD</th>\n",
       "      <th>token</th>\n",
       "    </tr>\n",
       "  </thead>\n",
       "  <tbody>\n",
       "    <tr>\n",
       "      <th>0</th>\n",
       "      <td>2021-12-01 00:00:00</td>\n",
       "      <td>57321.41</td>\n",
       "      <td>57451.05</td>\n",
       "      <td>56814.34</td>\n",
       "      <td>56987.97</td>\n",
       "      <td>388.482022</td>\n",
       "      <td>2.218430e+07</td>\n",
       "      <td>BTC</td>\n",
       "    </tr>\n",
       "    <tr>\n",
       "      <th>1</th>\n",
       "      <td>2021-12-01 01:00:00</td>\n",
       "      <td>56998.35</td>\n",
       "      <td>57726.45</td>\n",
       "      <td>56705.06</td>\n",
       "      <td>57616.41</td>\n",
       "      <td>599.791578</td>\n",
       "      <td>3.437153e+07</td>\n",
       "      <td>BTC</td>\n",
       "    </tr>\n",
       "    <tr>\n",
       "      <th>2</th>\n",
       "      <td>2021-12-01 02:00:00</td>\n",
       "      <td>57618.55</td>\n",
       "      <td>57620.00</td>\n",
       "      <td>56972.97</td>\n",
       "      <td>57030.83</td>\n",
       "      <td>591.687200</td>\n",
       "      <td>3.387067e+07</td>\n",
       "      <td>BTC</td>\n",
       "    </tr>\n",
       "    <tr>\n",
       "      <th>3</th>\n",
       "      <td>2021-12-01 03:00:00</td>\n",
       "      <td>57029.79</td>\n",
       "      <td>57396.87</td>\n",
       "      <td>56841.01</td>\n",
       "      <td>57307.59</td>\n",
       "      <td>702.560364</td>\n",
       "      <td>4.007816e+07</td>\n",
       "      <td>BTC</td>\n",
       "    </tr>\n",
       "    <tr>\n",
       "      <th>4</th>\n",
       "      <td>2021-12-01 04:00:00</td>\n",
       "      <td>57306.55</td>\n",
       "      <td>57456.82</td>\n",
       "      <td>57026.11</td>\n",
       "      <td>57404.01</td>\n",
       "      <td>859.591535</td>\n",
       "      <td>4.920503e+07</td>\n",
       "      <td>BTC</td>\n",
       "    </tr>\n",
       "    <tr>\n",
       "      <th>...</th>\n",
       "      <td>...</td>\n",
       "      <td>...</td>\n",
       "      <td>...</td>\n",
       "      <td>...</td>\n",
       "      <td>...</td>\n",
       "      <td>...</td>\n",
       "      <td>...</td>\n",
       "      <td>...</td>\n",
       "    </tr>\n",
       "    <tr>\n",
       "      <th>404</th>\n",
       "      <td>2021-12-17 20:00:00</td>\n",
       "      <td>187.28</td>\n",
       "      <td>187.47</td>\n",
       "      <td>185.49</td>\n",
       "      <td>185.81</td>\n",
       "      <td>408.679000</td>\n",
       "      <td>7.619600e+04</td>\n",
       "      <td>COMP</td>\n",
       "    </tr>\n",
       "    <tr>\n",
       "      <th>405</th>\n",
       "      <td>2021-12-17 21:00:00</td>\n",
       "      <td>185.72</td>\n",
       "      <td>189.72</td>\n",
       "      <td>183.13</td>\n",
       "      <td>186.54</td>\n",
       "      <td>1509.705000</td>\n",
       "      <td>2.804219e+05</td>\n",
       "      <td>COMP</td>\n",
       "    </tr>\n",
       "    <tr>\n",
       "      <th>406</th>\n",
       "      <td>2021-12-17 22:00:00</td>\n",
       "      <td>186.43</td>\n",
       "      <td>198.23</td>\n",
       "      <td>185.81</td>\n",
       "      <td>196.00</td>\n",
       "      <td>3585.593000</td>\n",
       "      <td>6.939535e+05</td>\n",
       "      <td>COMP</td>\n",
       "    </tr>\n",
       "    <tr>\n",
       "      <th>407</th>\n",
       "      <td>2021-12-17 23:00:00</td>\n",
       "      <td>196.10</td>\n",
       "      <td>210.75</td>\n",
       "      <td>195.40</td>\n",
       "      <td>206.32</td>\n",
       "      <td>12737.411000</td>\n",
       "      <td>2.581295e+06</td>\n",
       "      <td>COMP</td>\n",
       "    </tr>\n",
       "    <tr>\n",
       "      <th>408</th>\n",
       "      <td>2021-12-18 00:00:00</td>\n",
       "      <td>206.40</td>\n",
       "      <td>214.00</td>\n",
       "      <td>205.80</td>\n",
       "      <td>209.84</td>\n",
       "      <td>10031.874000</td>\n",
       "      <td>2.109662e+06</td>\n",
       "      <td>COMP</td>\n",
       "    </tr>\n",
       "  </tbody>\n",
       "</table>\n",
       "<p>2045 rows × 8 columns</p>\n",
       "</div>"
      ],
      "text/plain": [
       "                     ts      open      high       low     close        volume  \\\n",
       "0   2021-12-01 00:00:00  57321.41  57451.05  56814.34  56987.97    388.482022   \n",
       "1   2021-12-01 01:00:00  56998.35  57726.45  56705.06  57616.41    599.791578   \n",
       "2   2021-12-01 02:00:00  57618.55  57620.00  56972.97  57030.83    591.687200   \n",
       "3   2021-12-01 03:00:00  57029.79  57396.87  56841.01  57307.59    702.560364   \n",
       "4   2021-12-01 04:00:00  57306.55  57456.82  57026.11  57404.01    859.591535   \n",
       "..                  ...       ...       ...       ...       ...           ...   \n",
       "404 2021-12-17 20:00:00    187.28    187.47    185.49    185.81    408.679000   \n",
       "405 2021-12-17 21:00:00    185.72    189.72    183.13    186.54   1509.705000   \n",
       "406 2021-12-17 22:00:00    186.43    198.23    185.81    196.00   3585.593000   \n",
       "407 2021-12-17 23:00:00    196.10    210.75    195.40    206.32  12737.411000   \n",
       "408 2021-12-18 00:00:00    206.40    214.00    205.80    209.84  10031.874000   \n",
       "\n",
       "        volumeUSD token  \n",
       "0    2.218430e+07   BTC  \n",
       "1    3.437153e+07   BTC  \n",
       "2    3.387067e+07   BTC  \n",
       "3    4.007816e+07   BTC  \n",
       "4    4.920503e+07   BTC  \n",
       "..            ...   ...  \n",
       "404  7.619600e+04  COMP  \n",
       "405  2.804219e+05  COMP  \n",
       "406  6.939535e+05  COMP  \n",
       "407  2.581295e+06  COMP  \n",
       "408  2.109662e+06  COMP  \n",
       "\n",
       "[2045 rows x 8 columns]"
      ]
     },
     "execution_count": 12,
     "metadata": {},
     "output_type": "execute_result"
    }
   ],
   "source": [
    "df = pd.concat(get_data(token) for token in tokens)\n",
    "\n",
    "[df[['ts', 'close']].rename(columns={'close': f'close_{token}'}) for df, token in zip(dfs, tokens)]\n"
   ]
  },
  {
   "cell_type": "code",
   "execution_count": 14,
   "metadata": {},
   "outputs": [
    {
     "data": {
      "text/plain": [
       "[                     ts  close_BTC\n",
       " 0   2021-12-01 00:00:00   56987.97\n",
       " 1   2021-12-01 01:00:00   57616.41\n",
       " 2   2021-12-01 02:00:00   57030.83\n",
       " 3   2021-12-01 03:00:00   57307.59\n",
       " 4   2021-12-01 04:00:00   57404.01\n",
       " ..                  ...        ...\n",
       " 404 2021-12-17 20:00:00   46765.25\n",
       " 405 2021-12-17 21:00:00   46177.86\n",
       " 406 2021-12-17 22:00:00   46871.09\n",
       " 407 2021-12-17 23:00:00   46560.56\n",
       " 408 2021-12-18 00:00:00   46256.57\n",
       " \n",
       " [409 rows x 2 columns],\n",
       "                      ts  close_ETH\n",
       " 0   2021-12-01 00:00:00    4634.95\n",
       " 1   2021-12-01 01:00:00    4729.10\n",
       " 2   2021-12-01 02:00:00    4695.78\n",
       " 3   2021-12-01 03:00:00    4754.09\n",
       " 4   2021-12-01 04:00:00    4764.59\n",
       " ..                  ...        ...\n",
       " 404 2021-12-17 20:00:00    3882.93\n",
       " 405 2021-12-17 21:00:00    3845.32\n",
       " 406 2021-12-17 22:00:00    3907.04\n",
       " 407 2021-12-17 23:00:00    3902.59\n",
       " 408 2021-12-18 00:00:00    3883.63\n",
       " \n",
       " [409 rows x 2 columns],\n",
       "                      ts  close_SOL\n",
       " 0   2021-12-01 00:00:00    208.676\n",
       " 1   2021-12-01 01:00:00    211.507\n",
       " 2   2021-12-01 02:00:00    210.868\n",
       " 3   2021-12-01 03:00:00    214.150\n",
       " 4   2021-12-01 04:00:00    215.176\n",
       " ..                  ...        ...\n",
       " 404 2021-12-17 20:00:00    177.670\n",
       " 405 2021-12-17 21:00:00    174.660\n",
       " 406 2021-12-17 22:00:00    177.400\n",
       " 407 2021-12-17 23:00:00    177.690\n",
       " 408 2021-12-18 00:00:00    175.570\n",
       " \n",
       " [409 rows x 2 columns],\n",
       "                      ts  close_AAVE\n",
       " 0   2021-12-01 00:00:00     257.078\n",
       " 1   2021-12-01 01:00:00     264.816\n",
       " 2   2021-12-01 02:00:00     263.125\n",
       " 3   2021-12-01 03:00:00     266.257\n",
       " 4   2021-12-01 04:00:00     265.502\n",
       " ..                  ...         ...\n",
       " 404 2021-12-17 20:00:00     168.580\n",
       " 405 2021-12-17 21:00:00     168.150\n",
       " 406 2021-12-17 22:00:00     172.100\n",
       " 407 2021-12-17 23:00:00     175.920\n",
       " 408 2021-12-18 00:00:00     184.270\n",
       " \n",
       " [409 rows x 2 columns],\n",
       "                      ts  close_COMP\n",
       " 0   2021-12-01 00:00:00      278.70\n",
       " 1   2021-12-01 01:00:00      283.44\n",
       " 2   2021-12-01 02:00:00      281.29\n",
       " 3   2021-12-01 03:00:00      283.09\n",
       " 4   2021-12-01 04:00:00      283.73\n",
       " ..                  ...         ...\n",
       " 404 2021-12-17 20:00:00      185.81\n",
       " 405 2021-12-17 21:00:00      186.54\n",
       " 406 2021-12-17 22:00:00      196.00\n",
       " 407 2021-12-17 23:00:00      206.32\n",
       " 408 2021-12-18 00:00:00      209.64\n",
       " \n",
       " [409 rows x 2 columns]]"
      ]
     },
     "execution_count": 14,
     "metadata": {},
     "output_type": "execute_result"
    }
   ],
   "source": [
    "[df[['ts', 'close']].rename(columns={'close': f'close_{token}'}) for df, token in zip(dfs, tokens)]\n",
    "\n"
   ]
  },
  {
   "cell_type": "code",
   "execution_count": 16,
   "metadata": {},
   "outputs": [
    {
     "data": {
      "text/html": [
       "<div>\n",
       "<style scoped>\n",
       "    .dataframe tbody tr th:only-of-type {\n",
       "        vertical-align: middle;\n",
       "    }\n",
       "\n",
       "    .dataframe tbody tr th {\n",
       "        vertical-align: top;\n",
       "    }\n",
       "\n",
       "    .dataframe thead th {\n",
       "        text-align: right;\n",
       "    }\n",
       "</style>\n",
       "<table border=\"1\" class=\"dataframe\">\n",
       "  <thead>\n",
       "    <tr style=\"text-align: right;\">\n",
       "      <th></th>\n",
       "      <th>ts</th>\n",
       "      <th>close_BTC</th>\n",
       "      <th>close_ETH</th>\n",
       "      <th>close_SOL</th>\n",
       "      <th>close_AAVE</th>\n",
       "      <th>close_COMP</th>\n",
       "    </tr>\n",
       "  </thead>\n",
       "  <tbody>\n",
       "    <tr>\n",
       "      <th>0</th>\n",
       "      <td>2021-12-01 00:00:00</td>\n",
       "      <td>56987.97</td>\n",
       "      <td>4634.95</td>\n",
       "      <td>208.676</td>\n",
       "      <td>257.078</td>\n",
       "      <td>278.70</td>\n",
       "    </tr>\n",
       "    <tr>\n",
       "      <th>1</th>\n",
       "      <td>2021-12-01 01:00:00</td>\n",
       "      <td>57616.41</td>\n",
       "      <td>4729.10</td>\n",
       "      <td>211.507</td>\n",
       "      <td>264.816</td>\n",
       "      <td>283.44</td>\n",
       "    </tr>\n",
       "    <tr>\n",
       "      <th>2</th>\n",
       "      <td>2021-12-01 02:00:00</td>\n",
       "      <td>57030.83</td>\n",
       "      <td>4695.78</td>\n",
       "      <td>210.868</td>\n",
       "      <td>263.125</td>\n",
       "      <td>281.29</td>\n",
       "    </tr>\n",
       "    <tr>\n",
       "      <th>3</th>\n",
       "      <td>2021-12-01 03:00:00</td>\n",
       "      <td>57307.59</td>\n",
       "      <td>4754.09</td>\n",
       "      <td>214.150</td>\n",
       "      <td>266.257</td>\n",
       "      <td>283.09</td>\n",
       "    </tr>\n",
       "    <tr>\n",
       "      <th>4</th>\n",
       "      <td>2021-12-01 04:00:00</td>\n",
       "      <td>57404.01</td>\n",
       "      <td>4764.59</td>\n",
       "      <td>215.176</td>\n",
       "      <td>265.502</td>\n",
       "      <td>283.73</td>\n",
       "    </tr>\n",
       "    <tr>\n",
       "      <th>...</th>\n",
       "      <td>...</td>\n",
       "      <td>...</td>\n",
       "      <td>...</td>\n",
       "      <td>...</td>\n",
       "      <td>...</td>\n",
       "      <td>...</td>\n",
       "    </tr>\n",
       "    <tr>\n",
       "      <th>404</th>\n",
       "      <td>2021-12-17 20:00:00</td>\n",
       "      <td>46765.25</td>\n",
       "      <td>3882.93</td>\n",
       "      <td>177.670</td>\n",
       "      <td>168.580</td>\n",
       "      <td>185.81</td>\n",
       "    </tr>\n",
       "    <tr>\n",
       "      <th>405</th>\n",
       "      <td>2021-12-17 21:00:00</td>\n",
       "      <td>46177.86</td>\n",
       "      <td>3845.32</td>\n",
       "      <td>174.660</td>\n",
       "      <td>168.150</td>\n",
       "      <td>186.54</td>\n",
       "    </tr>\n",
       "    <tr>\n",
       "      <th>406</th>\n",
       "      <td>2021-12-17 22:00:00</td>\n",
       "      <td>46871.09</td>\n",
       "      <td>3907.04</td>\n",
       "      <td>177.400</td>\n",
       "      <td>172.100</td>\n",
       "      <td>196.00</td>\n",
       "    </tr>\n",
       "    <tr>\n",
       "      <th>407</th>\n",
       "      <td>2021-12-17 23:00:00</td>\n",
       "      <td>46560.56</td>\n",
       "      <td>3902.59</td>\n",
       "      <td>177.690</td>\n",
       "      <td>175.920</td>\n",
       "      <td>206.32</td>\n",
       "    </tr>\n",
       "    <tr>\n",
       "      <th>408</th>\n",
       "      <td>2021-12-18 00:00:00</td>\n",
       "      <td>46256.57</td>\n",
       "      <td>3883.63</td>\n",
       "      <td>175.570</td>\n",
       "      <td>184.270</td>\n",
       "      <td>209.64</td>\n",
       "    </tr>\n",
       "  </tbody>\n",
       "</table>\n",
       "<p>409 rows × 6 columns</p>\n",
       "</div>"
      ],
      "text/plain": [
       "                     ts  close_BTC  close_ETH  close_SOL  close_AAVE  \\\n",
       "0   2021-12-01 00:00:00   56987.97    4634.95    208.676     257.078   \n",
       "1   2021-12-01 01:00:00   57616.41    4729.10    211.507     264.816   \n",
       "2   2021-12-01 02:00:00   57030.83    4695.78    210.868     263.125   \n",
       "3   2021-12-01 03:00:00   57307.59    4754.09    214.150     266.257   \n",
       "4   2021-12-01 04:00:00   57404.01    4764.59    215.176     265.502   \n",
       "..                  ...        ...        ...        ...         ...   \n",
       "404 2021-12-17 20:00:00   46765.25    3882.93    177.670     168.580   \n",
       "405 2021-12-17 21:00:00   46177.86    3845.32    174.660     168.150   \n",
       "406 2021-12-17 22:00:00   46871.09    3907.04    177.400     172.100   \n",
       "407 2021-12-17 23:00:00   46560.56    3902.59    177.690     175.920   \n",
       "408 2021-12-18 00:00:00   46256.57    3883.63    175.570     184.270   \n",
       "\n",
       "     close_COMP  \n",
       "0        278.70  \n",
       "1        283.44  \n",
       "2        281.29  \n",
       "3        283.09  \n",
       "4        283.73  \n",
       "..          ...  \n",
       "404      185.81  \n",
       "405      186.54  \n",
       "406      196.00  \n",
       "407      206.32  \n",
       "408      209.64  \n",
       "\n",
       "[409 rows x 6 columns]"
      ]
     },
     "execution_count": 16,
     "metadata": {},
     "output_type": "execute_result"
    }
   ],
   "source": [
    "df_comparison"
   ]
  },
  {
   "cell_type": "code",
   "execution_count": null,
   "metadata": {},
   "outputs": [],
   "source": []
  },
  {
   "cell_type": "code",
   "execution_count": 3,
   "metadata": {},
   "outputs": [],
   "source": [
    "tokens = ['BTC', 'ETH', 'SOL', 'AAVE', 'COMP']"
   ]
  },
  {
   "cell_type": "code",
   "execution_count": 13,
   "metadata": {},
   "outputs": [],
   "source": [
    "dfs = [\n",
    "    (lambda x: x.assign(chain=np.where(x.token.isin(['ETH', 'AAVE', 'COMP']), np.full(x.shape[0], 'ETH'), x.token)))(get_data(token)) \n",
    "    for token in tokens\n",
    "]\n",
    "\n",
    "df = pd.concat(get_data(token) for token in tokens)\n",
    "df['chain'] = np.where(df.token.isin(['ETH', 'AAVE', 'COMP']), np.full(df.shape[0], 'ETH'), df.token)\n",
    "df.set_index('ts', inplace=True)\n"
   ]
  },
  {
   "cell_type": "code",
   "execution_count": null,
   "metadata": {},
   "outputs": [],
   "source": [
    "df_btc_close = dfs[0].set_index('ts')"
   ]
  },
  {
   "cell_type": "code",
   "execution_count": 15,
   "metadata": {},
   "outputs": [],
   "source": [
    "def df_merge(left, right):\n",
    "    return pd.merge(left, right, on='ts', how='inner')\n",
    "\n",
    "df_comparison = reduce(\n",
    "    df_merge, \n",
    "    [df[['ts', 'close']].rename(columns={'close': f'close_{token}'}) for df, token in zip(dfs, tokens)]\n",
    ")"
   ]
  },
  {
   "cell_type": "code",
   "execution_count": null,
   "metadata": {},
   "outputs": [],
   "source": [
    "market_caps = pd.read_csv('data/market_caps.csv')"
   ]
  },
  {
   "cell_type": "markdown",
   "metadata": {
    "tags": []
   },
   "source": [
    "## Pandas plotting basics"
   ]
  },
  {
   "cell_type": "markdown",
   "metadata": {},
   "source": [
    "By default, pandas already has many ways to be able to plot, for example we can load our data, then immediately call `.plot` to take a look at what we're dealing with"
   ]
  },
  {
   "cell_type": "code",
   "execution_count": null,
   "metadata": {},
   "outputs": [],
   "source": [
    "df_btc_close[['close']].plot()"
   ]
  },
  {
   "cell_type": "markdown",
   "metadata": {},
   "source": [
    "pandas (and most of python) uses the matplotlib.pylot module to do plotting.  We can see this by replicating the chart above using matplotlib.  However you will see that by default since this is a single dimension time series, we don't have legend enabled and our dat formating is in YYYY-MM format"
   ]
  },
  {
   "cell_type": "code",
   "execution_count": null,
   "metadata": {},
   "outputs": [],
   "source": [
    "plt.plot(df_btc_close.index, df_btc_close.close)"
   ]
  },
  {
   "cell_type": "markdown",
   "metadata": {},
   "source": [
    "we can also plot multiple columns together, such as:"
   ]
  },
  {
   "cell_type": "code",
   "execution_count": null,
   "metadata": {
    "tags": []
   },
   "outputs": [],
   "source": [
    "df_btc_close[['open', 'high', 'low', 'close']].plot()"
   ]
  },
  {
   "cell_type": "markdown",
   "metadata": {},
   "source": [
    "or change the line type:"
   ]
  },
  {
   "cell_type": "code",
   "execution_count": null,
   "metadata": {},
   "outputs": [],
   "source": [
    "df_btc_close[['close']].plot(style='--')"
   ]
  },
  {
   "cell_type": "markdown",
   "metadata": {},
   "source": [
    "You don't need to necessarily use the index, but instead can use any columns to plot against each other, e.g.:"
   ]
  },
  {
   "cell_type": "code",
   "execution_count": null,
   "metadata": {},
   "outputs": [],
   "source": [
    "df_comparison.plot(x='close_BTC', y='close_ETH')"
   ]
  },
  {
   "cell_type": "markdown",
   "metadata": {},
   "source": [
    "The above looks pretty terrible!  This is because we're now trying to plot the relationship between BTC and ETH, and using a line chart doesn't really make any sense.  Ideally, we want a scatter plot instead.\n",
    "\n",
    "To do this in pandas, we can pass in the `kind=` argument to `.plot`, and specify the type of chart we'd like to generate, e.g.:"
   ]
  },
  {
   "cell_type": "code",
   "execution_count": null,
   "metadata": {},
   "outputs": [],
   "source": [
    "df_comparison.plot(x='close_BTC', y='close_ETH', kind='scatter')"
   ]
  },
  {
   "cell_type": "markdown",
   "metadata": {},
   "source": [
    "Now we have something that looks like it makes a lot more sense.  This is very useful for 2-dimensional analysis, as we can now easily see the relationship between any two variables."
   ]
  },
  {
   "cell_type": "markdown",
   "metadata": {},
   "source": [
    "We can plot distributions just as easily, e.g. we can look at the distribution of prices by specifying a density chart below:"
   ]
  },
  {
   "cell_type": "code",
   "execution_count": null,
   "metadata": {},
   "outputs": [],
   "source": [
    "df_btc_close[['close']].plot(kind='density')"
   ]
  },
  {
   "cell_type": "markdown",
   "metadata": {},
   "source": [
    "There's a lot of different charts we can specify - for example, if we want to easily want to see the top 10 crypto currency market caps against each other, we can use a Bar Chart.  The x-axis of the chart is the index, and the y axes are the rows you'd like to use:"
   ]
  },
  {
   "cell_type": "code",
   "execution_count": null,
   "metadata": {},
   "outputs": [],
   "source": [
    "market_caps.head(n=10).set_index('Symbol')[['MarketCap']].plot(kind='bar')"
   ]
  },
  {
   "cell_type": "markdown",
   "metadata": {},
   "source": [
    "Like with line charts, plotting multiple columns is pretty easy:"
   ]
  },
  {
   "cell_type": "code",
   "execution_count": null,
   "metadata": {},
   "outputs": [],
   "source": [
    "market_caps.head(n=10).set_index('Symbol')[['MarketCap', 'Price']].plot(kind='bar')"
   ]
  },
  {
   "cell_type": "markdown",
   "metadata": {},
   "source": [
    "The above doesn't look great - because the size of Market Caps are so much larger than prices, we are not able to see the price charts at all.  However, we can easily add a secondary axis to the chart to help scale each series:"
   ]
  },
  {
   "cell_type": "code",
   "execution_count": null,
   "metadata": {},
   "outputs": [],
   "source": [
    "market_caps.head(n=10).set_index('Symbol')[['MarketCap', 'Price']].plot(kind='bar', secondary_y='Price')"
   ]
  },
  {
   "cell_type": "markdown",
   "metadata": {},
   "source": [
    "Now price is plotted against the right y axis, while market cap is plotted against the left y axis, allowing us to make a much more sensible relative comparison.\n",
    "\n",
    "There's a lot more types of plotting we can do with simple pandas plotting, e.g. boxplots, pie charts, bubble charts etc.  Please take a look at the documentation for more examples"
   ]
  },
  {
   "cell_type": "markdown",
   "metadata": {},
   "source": [
    "## More advanced Pandas plotting"
   ]
  },
  {
   "cell_type": "markdown",
   "metadata": {},
   "source": [
    "So now we can see how we can use pandas plotting to get some basic visualizations, we now want to see how we can very efficiently better understand the dependence relationships of our data.  Specifically we will look at how to find pair-wise relationships between our data easily, as well as time series properties.\n",
    "\n",
    "Pandas again helps us with the `pandas.plotting` library, which allows us to do this out of the box"
   ]
  },
  {
   "cell_type": "code",
   "execution_count": null,
   "metadata": {},
   "outputs": [],
   "source": [
    "from pandas.plotting import scatter_matrix, lag_plot, autocorrelation_plot"
   ]
  },
  {
   "cell_type": "markdown",
   "metadata": {},
   "source": [
    "In the above example, we saw that we could build a scatter plot for two of our features.  However what if our data set was more complex, and we had more features?  Pandas allows us to calculate _all_ pairwise scatters and feature densities using `scatter_matrix`.  \n",
    "\n",
    "**note** - this function is very expensive, and I don't recommend putting too many features into it as it can take a long time to run"
   ]
  },
  {
   "cell_type": "code",
   "execution_count": null,
   "metadata": {},
   "outputs": [],
   "source": [
    "r = scatter_matrix(df_comparison, figsize=(10, 10), diagonal='kde')"
   ]
  },
  {
   "cell_type": "markdown",
   "metadata": {},
   "source": [
    "we can now see how our features relate to each other!"
   ]
  },
  {
   "cell_type": "markdown",
   "metadata": {},
   "source": [
    "if we wanted to understand a time series, we generally want to understand its autocorrelation and relationship to its lagged values.  We can do this using `lag_plot` and `autocorrelation` respectively, which does the hard work of taking the time diffs and calculating correlations for us before we plot"
   ]
  },
  {
   "cell_type": "code",
   "execution_count": null,
   "metadata": {},
   "outputs": [],
   "source": [
    "lag_plot(df_comparison.close_SOL)"
   ]
  },
  {
   "cell_type": "code",
   "execution_count": null,
   "metadata": {},
   "outputs": [],
   "source": [
    "autocorrelation_plot(df_comparison.close_SOL)"
   ]
  },
  {
   "cell_type": "markdown",
   "metadata": {},
   "source": [
    "There's also a lot more fucntions inside `pandas.plotting`, and they will be situationally useful, so go check it out!"
   ]
  },
  {
   "cell_type": "markdown",
   "metadata": {},
   "source": [
    "## Matplotlib"
   ]
  },
  {
   "cell_type": "markdown",
   "metadata": {},
   "source": [
    "The majority of charting in python is built on top of matplotlib.  It is extremely flexible and powerful, however usually requires a lot of boilerplate to get going.  In today's world we often will not use matplotlib directly but use a library on top of it, however understanding how matplotlib works is still very important.\n",
    "\n",
    "There's two ways to use matlib - a procedural way and a OOP way.  The procedural way is fairly easy:\n",
    "- create a figure\n",
    "- start putting plots into the figure\n",
    "\n",
    "i.e.:"
   ]
  },
  {
   "cell_type": "code",
   "execution_count": null,
   "metadata": {},
   "outputs": [],
   "source": [
    "plt.figure(figsize=(10, 4))\n",
    "\n",
    "plt.plot(df_comparison.ts, df_comparison.close_SOL)\n",
    "plt.plot(df_comparison.ts, df_comparison.close_AAVE)\n",
    "plt.title('SOL vs AAVE prices')"
   ]
  },
  {
   "cell_type": "markdown",
   "metadata": {},
   "source": [
    "You can also get a little bit more complicated by using subplots.  In this way, you can select a subplot, push / update a plot, select another subplot to work on, and so forth, e.g.:\n"
   ]
  },
  {
   "cell_type": "code",
   "execution_count": null,
   "metadata": {},
   "outputs": [],
   "source": [
    "plt.figure(figsize=(15, 4))\n",
    "plt.title('My Plots')\n",
    "\n",
    "plt.subplot(1, 2, 1) #1 row, 2 columns, selecting first item\n",
    "plt.plot(df_comparison.ts, df_comparison.close_SOL)\n",
    "plt.legend(['SOL'])\n",
    "\n",
    "plt.subplot(1, 2, 2) # switch to the second chart\n",
    "plt.plot(df_comparison.ts, df_comparison.close_AAVE)\n",
    "plt.legend(['AAVE'])\n",
    "\n",
    "plt.subplot(1, 2, 1) # switch back to the first chart to add some labels\n",
    "plt.xlabel('ts')\n",
    "plt.ylabel('priceUSD')"
   ]
  },
  {
   "cell_type": "markdown",
   "metadata": {},
   "source": [
    "**note** once the plot renders, it is flushed, and so further actions won't work, e.g. in the next cell we can try to update ylabel again, but it will create a completely new chart"
   ]
  },
  {
   "cell_type": "code",
   "execution_count": null,
   "metadata": {},
   "outputs": [],
   "source": [
    "plt.ylabel('price in USD')"
   ]
  },
  {
   "cell_type": "markdown",
   "metadata": {},
   "source": [
    "while this works okay, it can get pretty unweildy quickly.  In addition, if you want to pass this chart to other functions or classes, this becomes impossible to do.  Instead, we can use the OOP way to generate charts that allows us to act on the chart object and pass it around"
   ]
  },
  {
   "cell_type": "markdown",
   "metadata": {},
   "source": [
    "we first call `plt.subplots` to create the objects we need for our plot.  In the example below, we will be creating 2 plots like above"
   ]
  },
  {
   "cell_type": "code",
   "execution_count": null,
   "metadata": {},
   "outputs": [],
   "source": [
    "fig, axes = plt.subplots(1, 2, figsize=(15, 4))"
   ]
  },
  {
   "cell_type": "markdown",
   "metadata": {},
   "source": [
    "The axes object holds an array of subplots, which represent each plot.  Interestingly it's actually an `np.ndarray`, like our Series and DataFrames.\n",
    "\n",
    "the fig object holds the full chart object, which means that you can add in chart-level things (e.g. titles)"
   ]
  },
  {
   "cell_type": "code",
   "execution_count": null,
   "metadata": {},
   "outputs": [],
   "source": [
    "axes"
   ]
  },
  {
   "cell_type": "code",
   "execution_count": null,
   "metadata": {},
   "outputs": [],
   "source": [
    "fig.suptitle('this is my OOP chart')\n",
    "fig"
   ]
  },
  {
   "cell_type": "markdown",
   "metadata": {},
   "source": [
    "Now we can add some data"
   ]
  },
  {
   "cell_type": "code",
   "execution_count": null,
   "metadata": {},
   "outputs": [],
   "source": [
    "axes[0].plot(df_comparison.ts, df_comparison.close_AAVE)\n",
    "fig"
   ]
  },
  {
   "cell_type": "code",
   "execution_count": null,
   "metadata": {},
   "outputs": [],
   "source": [
    "axes[1].plot(df_comparison.ts, df_comparison.close_SOL)\n",
    "axes[1].set_xlabel('ts')\n",
    "axes[1].set_ylabel('priceUSD')\n",
    "fig"
   ]
  },
  {
   "cell_type": "code",
   "execution_count": null,
   "metadata": {},
   "outputs": [],
   "source": [
    "axes[0].set_title('my left chart')\n",
    "fig"
   ]
  },
  {
   "cell_type": "markdown",
   "metadata": {},
   "source": [
    "From this we can see that the fig can be rendered anywhere, and that we will not \"flush\" the object upon rendering.  We can also pass any individual axes object to a function to easily add data and change styling"
   ]
  },
  {
   "cell_type": "markdown",
   "metadata": {},
   "source": [
    "Lastly, let's take a look at how pandas plotting works with matplotlib subplots.  Right now the way we've been using pandas plotting is similar to the procedural way, where we expect rendering to happen in place.  However, we can pass the axes that we want to render the plot to into the plot function, e.g.:"
   ]
  },
  {
   "cell_type": "code",
   "execution_count": null,
   "metadata": {},
   "outputs": [],
   "source": [
    "fig, axes = plt.subplots(nrows=2, ncols=2, figsize=(15, 10))"
   ]
  },
  {
   "cell_type": "markdown",
   "metadata": {},
   "source": [
    "**note** this time, we've specified a 2d array, so we will need to access the axes via [row, col]"
   ]
  },
  {
   "cell_type": "code",
   "execution_count": null,
   "metadata": {},
   "outputs": [],
   "source": [
    "axes"
   ]
  },
  {
   "cell_type": "code",
   "execution_count": null,
   "metadata": {},
   "outputs": [],
   "source": [
    "df_btc_close[['close']].plot(ax=axes[0, 0])\n",
    "fig"
   ]
  },
  {
   "cell_type": "code",
   "execution_count": null,
   "metadata": {},
   "outputs": [],
   "source": [
    "market_caps.head(n=10).set_index('Symbol')[['MarketCap', 'Price']].plot(kind='bar', secondary_y='Price', ax=axes[0, 1])\n",
    "fig"
   ]
  },
  {
   "cell_type": "code",
   "execution_count": null,
   "metadata": {},
   "outputs": [],
   "source": [
    "lag_plot(df_comparison.close_SOL, ax=axes[1, 0])\n",
    "fig"
   ]
  },
  {
   "cell_type": "code",
   "execution_count": null,
   "metadata": {},
   "outputs": [],
   "source": [
    "autocorrelation_plot(df_comparison.close_SOL, ax=axes[1, 1])\n",
    "fig"
   ]
  },
  {
   "cell_type": "markdown",
   "metadata": {},
   "source": [
    "With the above, you can encapsulate your chart logic into a library, return a chart and do whatever you'd like with it, e.g.:"
   ]
  },
  {
   "cell_type": "code",
   "execution_count": null,
   "metadata": {},
   "outputs": [],
   "source": [
    "def charter(crypto_data):\n",
    "    fig, axes = plt.subplots(nrows=2, ncols=2, figsize=(15, 10))\n",
    "    \n",
    "    crypto_data.close_BTC.plot(ax=axes[0, 0])\n",
    "    crypto_data.plot(ax=axes[0, 1])\n",
    "    lag_plot(crypto_data.close_SOL, ax=axes[1, 0])\n",
    "    autocorrelation_plot(crypto_data.close_SOL, ax=axes[1, 1])\n",
    "    \n",
    "    return fig, axes\n"
   ]
  },
  {
   "cell_type": "code",
   "execution_count": null,
   "metadata": {},
   "outputs": [],
   "source": [
    "crypto_chart, _ = charter(df_comparison)\n",
    "crypto_chart.savefig('crypto_chart.png')"
   ]
  },
  {
   "cell_type": "markdown",
   "metadata": {},
   "source": []
  }
 ],
 "metadata": {
  "kernelspec": {
   "display_name": "Python 3",
   "language": "python",
   "name": "python3"
  },
  "language_info": {
   "codemirror_mode": {
    "name": "ipython",
    "version": 3
   },
   "file_extension": ".py",
   "mimetype": "text/x-python",
   "name": "python",
   "nbconvert_exporter": "python",
   "pygments_lexer": "ipython3",
   "version": "3.8.5"
  }
 },
 "nbformat": 4,
 "nbformat_minor": 5
}
