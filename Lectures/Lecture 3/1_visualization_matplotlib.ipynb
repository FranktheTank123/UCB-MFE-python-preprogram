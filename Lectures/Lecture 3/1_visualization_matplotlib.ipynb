{
 "cells": [
  {
   "cell_type": "markdown",
   "metadata": {},
   "source": [
    "# Visualization with Matplotlib"
   ]
  },
  {
   "cell_type": "markdown",
   "metadata": {
    "tags": []
   },
   "source": [
    "One of the most important things we can do once we have loaded our data is to discover insights from it via plotting.  In this module we'll look at different ways we can plot, as well as how matplotlib works with pandas to give us very powerful ways to gain insight into our data"
   ]
  },
  {
   "cell_type": "code",
   "execution_count": null,
   "metadata": {},
   "outputs": [],
   "source": [
    "import requests\n",
    "import pandas as pd\n",
    "import numpy as np\n",
    "import matplotlib.pyplot as plt\n",
    "from functools import reduce\n",
    "\n",
    "%matplotlib inline"
   ]
  },
  {
   "cell_type": "code",
   "execution_count": null,
   "metadata": {},
   "outputs": [],
   "source": [
    "def get_data(token):\n",
    "    res = requests.get(\n",
    "        f'https://api.cryptowat.ch/markets/coinbase-pro/{token}usd/ohlc',\n",
    "        params={\n",
    "            'periods': '3600',\n",
    "            'after': str(int(pd.Timestamp('2021-12-01').timestamp()))\n",
    "        }\n",
    "    )\n",
    "\n",
    "    df = pd.DataFrame(\n",
    "        res.json()['result']['3600'],\n",
    "        columns=['ts', 'open', 'high', 'low', 'close', 'volume', 'volumeUSD']\n",
    "    )\n",
    "    df['ts'] = pd.to_datetime(df.ts, unit='s')\n",
    "    df['token'] = token\n",
    "    \n",
    "    return df"
   ]
  },
  {
   "cell_type": "code",
   "execution_count": null,
   "metadata": {},
   "outputs": [],
   "source": [
    "tokens = ['BTC', 'ETH', 'SOL', 'AAVE', 'COMP']"
   ]
  },
  {
   "cell_type": "code",
   "execution_count": null,
   "metadata": {},
   "outputs": [],
   "source": [
    "dfs = [\n",
    "    (lambda x: x.assign(chain=np.where(x.token.isin(['ETH', 'AAVE', 'COMP']), np.full(x.shape[0], 'ETH'), x.token)))(get_data(token)) \n",
    "    for token in tokens\n",
    "]\n",
    "\n",
    "df = pd.concat(get_data(token) for token in tokens)\n",
    "df['chain'] = np.where(df.token.isin(['ETH', 'AAVE', 'COMP']), np.full(df.shape[0], 'ETH'), df.token)\n",
    "df.set_index('ts', inplace=True)\n"
   ]
  },
  {
   "cell_type": "code",
   "execution_count": null,
   "metadata": {},
   "outputs": [],
   "source": [
    "df_btc_close = dfs[0].set_index('ts')"
   ]
  },
  {
   "cell_type": "code",
   "execution_count": null,
   "metadata": {},
   "outputs": [],
   "source": [
    "def df_merge(left, right):\n",
    "    return pd.merge(left, right, on='ts', how='inner')\n",
    "\n",
    "df_comparison = reduce(\n",
    "    df_merge, \n",
    "    [df[['ts', 'close']].rename(columns={'close': f'close_{token}'}) for df, token in zip(dfs, tokens)]\n",
    ")"
   ]
  },
  {
   "cell_type": "code",
   "execution_count": null,
   "metadata": {},
   "outputs": [],
   "source": [
    "market_caps = pd.read_csv('data/market_caps.csv')"
   ]
  },
  {
   "cell_type": "markdown",
   "metadata": {
    "tags": []
   },
   "source": [
    "## Pandas plotting basics"
   ]
  },
  {
   "cell_type": "markdown",
   "metadata": {},
   "source": [
    "By default, pandas already has many ways to be able to plot, for example we can load our data, then immediately call `.plot` to take a look at what we're dealing with"
   ]
  },
  {
   "cell_type": "code",
   "execution_count": null,
   "metadata": {},
   "outputs": [],
   "source": [
    "df_btc_close[['close']].plot()"
   ]
  },
  {
   "cell_type": "markdown",
   "metadata": {},
   "source": [
    "pandas (and most of python) uses the matplotlib.pylot module to do plotting.  We can see this by replicating the chart above using matplotlib.  However you will see that by default since this is a single dimension time series, we don't have legend enabled and our dat formating is in YYYY-MM format"
   ]
  },
  {
   "cell_type": "code",
   "execution_count": null,
   "metadata": {},
   "outputs": [],
   "source": [
    "plt.plot(df_btc_close.index, df_btc_close.close)"
   ]
  },
  {
   "cell_type": "markdown",
   "metadata": {},
   "source": [
    "we can also plot multiple columns together, such as:"
   ]
  },
  {
   "cell_type": "code",
   "execution_count": null,
   "metadata": {
    "tags": []
   },
   "outputs": [],
   "source": [
    "df_btc_close[['open', 'high', 'low', 'close']].plot()"
   ]
  },
  {
   "cell_type": "markdown",
   "metadata": {},
   "source": [
    "or change the line type:"
   ]
  },
  {
   "cell_type": "code",
   "execution_count": null,
   "metadata": {},
   "outputs": [],
   "source": [
    "df_btc_close[['close']].plot(style='--')"
   ]
  },
  {
   "cell_type": "markdown",
   "metadata": {},
   "source": [
    "You don't need to necessarily use the index, but instead can use any columns to plot against each other, e.g.:"
   ]
  },
  {
   "cell_type": "code",
   "execution_count": null,
   "metadata": {},
   "outputs": [],
   "source": [
    "df_comparison.plot(x='close_BTC', y='close_ETH')"
   ]
  },
  {
   "cell_type": "markdown",
   "metadata": {},
   "source": [
    "The above looks pretty terrible!  This is because we're now trying to plot the relationship between BTC and ETH, and using a line chart doesn't really make any sense.  Ideally, we want a scatter plot instead.\n",
    "\n",
    "To do this in pandas, we can pass in the `kind=` argument to `.plot`, and specify the type of chart we'd like to generate, e.g.:"
   ]
  },
  {
   "cell_type": "code",
   "execution_count": null,
   "metadata": {},
   "outputs": [],
   "source": [
    "df_comparison.plot(x='close_BTC', y='close_ETH', kind='scatter')"
   ]
  },
  {
   "cell_type": "markdown",
   "metadata": {},
   "source": [
    "Now we have something that looks like it makes a lot more sense.  This is very useful for 2-dimensional analysis, as we can now easily see the relationship between any two variables."
   ]
  },
  {
   "cell_type": "markdown",
   "metadata": {},
   "source": [
    "We can plot distributions just as easily, e.g. we can look at the distribution of prices by specifying a density chart below:"
   ]
  },
  {
   "cell_type": "code",
   "execution_count": null,
   "metadata": {},
   "outputs": [],
   "source": [
    "df_btc_close[['close']].plot(kind='density')"
   ]
  },
  {
   "cell_type": "markdown",
   "metadata": {},
   "source": [
    "There's a lot of different charts we can specify - for example, if we want to easily want to see the top 10 crypto currency market caps against each other, we can use a Bar Chart.  The x-axis of the chart is the index, and the y axes are the rows you'd like to use:"
   ]
  },
  {
   "cell_type": "code",
   "execution_count": null,
   "metadata": {},
   "outputs": [],
   "source": [
    "market_caps.head(n=10).set_index('Symbol')[['MarketCap']].plot(kind='bar')"
   ]
  },
  {
   "cell_type": "markdown",
   "metadata": {},
   "source": [
    "Like with line charts, plotting multiple columns is pretty easy:"
   ]
  },
  {
   "cell_type": "code",
   "execution_count": null,
   "metadata": {},
   "outputs": [],
   "source": [
    "market_caps.head(n=10).set_index('Symbol')[['MarketCap', 'Price']].plot(kind='bar')"
   ]
  },
  {
   "cell_type": "markdown",
   "metadata": {},
   "source": [
    "The above doesn't look great - because the size of Market Caps are so much larger than prices, we are not able to see the price charts at all.  However, we can easily add a secondary axis to the chart to help scale each series:"
   ]
  },
  {
   "cell_type": "code",
   "execution_count": null,
   "metadata": {},
   "outputs": [],
   "source": [
    "market_caps.head(n=10).set_index('Symbol')[['MarketCap', 'Price']].plot(kind='bar', secondary_y='Price')"
   ]
  },
  {
   "cell_type": "markdown",
   "metadata": {},
   "source": [
    "Now price is plotted against the right y axis, while market cap is plotted against the left y axis, allowing us to make a much more sensible relative comparison.\n",
    "\n",
    "There's a lot more types of plotting we can do with simple pandas plotting, e.g. boxplots, pie charts, bubble charts etc.  Please take a look at the documentation for more examples"
   ]
  },
  {
   "cell_type": "markdown",
   "metadata": {},
   "source": [
    "## More advanced Pandas plotting"
   ]
  },
  {
   "cell_type": "markdown",
   "metadata": {},
   "source": [
    "So now we can see how we can use pandas plotting to get some basic visualizations, we now want to see how we can very efficiently better understand the dependence relationships of our data.  Specifically we will look at how to find pair-wise relationships between our data easily, as well as time series properties.\n",
    "\n",
    "Pandas again helps us with the `pandas.plotting` library, which allows us to do this out of the box"
   ]
  },
  {
   "cell_type": "code",
   "execution_count": null,
   "metadata": {},
   "outputs": [],
   "source": [
    "from pandas.plotting import scatter_matrix, lag_plot, autocorrelation_plot"
   ]
  },
  {
   "cell_type": "markdown",
   "metadata": {},
   "source": [
    "In the above example, we saw that we could build a scatter plot for two of our features.  However what if our data set was more complex, and we had more features?  Pandas allows us to calculate _all_ pairwise scatters and feature densities using `scatter_matrix`.  \n",
    "\n",
    "**note** - this function is very expensive, and I don't recommend putting too many features into it as it can take a long time to run"
   ]
  },
  {
   "cell_type": "code",
   "execution_count": null,
   "metadata": {},
   "outputs": [],
   "source": [
    "r = scatter_matrix(df_comparison, figsize=(10, 10), diagonal='kde')"
   ]
  },
  {
   "cell_type": "markdown",
   "metadata": {},
   "source": [
    "we can now see how our features relate to each other!"
   ]
  },
  {
   "cell_type": "markdown",
   "metadata": {},
   "source": [
    "if we wanted to understand a time series, we generally want to understand its autocorrelation and relationship to its lagged values.  We can do this using `lag_plot` and `autocorrelation` respectively, which does the hard work of taking the time diffs and calculating correlations for us before we plot"
   ]
  },
  {
   "cell_type": "code",
   "execution_count": null,
   "metadata": {},
   "outputs": [],
   "source": [
    "lag_plot(df_comparison.close_SOL)"
   ]
  },
  {
   "cell_type": "code",
   "execution_count": null,
   "metadata": {},
   "outputs": [],
   "source": [
    "autocorrelation_plot(df_comparison.close_SOL)"
   ]
  },
  {
   "cell_type": "markdown",
   "metadata": {},
   "source": [
    "There's also a lot more fucntions inside `pandas.plotting`, and they will be situationally useful, so go check it out!"
   ]
  },
  {
   "cell_type": "markdown",
   "metadata": {},
   "source": [
    "## Matplotlib"
   ]
  },
  {
   "cell_type": "markdown",
   "metadata": {},
   "source": [
    "The majority of charting in python is built on top of matplotlib.  It is extremely flexible and powerful, however usually requires a lot of boilerplate to get going.  In today's world we often will not use matplotlib directly but use a library on top of it, however understanding how matplotlib works is still very important.\n",
    "\n",
    "There's two ways to use matlib - a procedural way and a OOP way.  The procedural way is fairly easy:\n",
    "- create a figure\n",
    "- start putting plots into the figure\n",
    "\n",
    "i.e.:"
   ]
  },
  {
   "cell_type": "code",
   "execution_count": null,
   "metadata": {},
   "outputs": [],
   "source": [
    "plt.figure(figsize=(10, 4))\n",
    "\n",
    "plt.plot(df_comparison.ts, df_comparison.close_SOL)\n",
    "plt.plot(df_comparison.ts, df_comparison.close_AAVE)\n",
    "plt.title('SOL vs AAVE prices')"
   ]
  },
  {
   "cell_type": "markdown",
   "metadata": {},
   "source": [
    "You can also get a little bit more complicated by using subplots.  In this way, you can select a subplot, push / update a plot, select another subplot to work on, and so forth, e.g.:\n"
   ]
  },
  {
   "cell_type": "code",
   "execution_count": null,
   "metadata": {},
   "outputs": [],
   "source": [
    "plt.figure(figsize=(15, 4))\n",
    "plt.title('My Plots')\n",
    "\n",
    "plt.subplot(1, 2, 1) #1 row, 2 columns, selecting first item\n",
    "plt.plot(df_comparison.ts, df_comparison.close_SOL)\n",
    "plt.legend(['SOL'])\n",
    "\n",
    "plt.subplot(1, 2, 2) # switch to the second chart\n",
    "plt.plot(df_comparison.ts, df_comparison.close_AAVE)\n",
    "plt.legend(['AAVE'])\n",
    "\n",
    "plt.subplot(1, 2, 1) # switch back to the first chart to add some labels\n",
    "plt.xlabel('ts')\n",
    "plt.ylabel('priceUSD')"
   ]
  },
  {
   "cell_type": "markdown",
   "metadata": {},
   "source": [
    "**note** once the plot renders, it is flushed, and so further actions won't work, e.g. in the next cell we can try to update ylabel again, but it will create a completely new chart"
   ]
  },
  {
   "cell_type": "code",
   "execution_count": null,
   "metadata": {},
   "outputs": [],
   "source": [
    "plt.ylabel('price in USD')"
   ]
  },
  {
   "cell_type": "markdown",
   "metadata": {},
   "source": [
    "while this works okay, it can get pretty unweildy quickly.  In addition, if you want to pass this chart to other functions or classes, this becomes impossible to do.  Instead, we can use the OOP way to generate charts that allows us to act on the chart object and pass it around"
   ]
  },
  {
   "cell_type": "markdown",
   "metadata": {},
   "source": [
    "we first call `plt.subplots` to create the objects we need for our plot.  In the example below, we will be creating 2 plots like above"
   ]
  },
  {
   "cell_type": "code",
   "execution_count": null,
   "metadata": {},
   "outputs": [],
   "source": [
    "fig, axes = plt.subplots(1, 2, figsize=(15, 4))"
   ]
  },
  {
   "cell_type": "markdown",
   "metadata": {},
   "source": [
    "The axes object holds an array of subplots, which represent each plot.  Interestingly it's actually an `np.ndarray`, like our Series and DataFrames.\n",
    "\n",
    "the fig object holds the full chart object, which means that you can add in chart-level things (e.g. titles)"
   ]
  },
  {
   "cell_type": "code",
   "execution_count": null,
   "metadata": {},
   "outputs": [],
   "source": [
    "axes"
   ]
  },
  {
   "cell_type": "code",
   "execution_count": null,
   "metadata": {},
   "outputs": [],
   "source": [
    "fig.suptitle('this is my OOP chart')\n",
    "fig"
   ]
  },
  {
   "cell_type": "markdown",
   "metadata": {},
   "source": [
    "Now we can add some data"
   ]
  },
  {
   "cell_type": "code",
   "execution_count": null,
   "metadata": {},
   "outputs": [],
   "source": [
    "axes[0].plot(df_comparison.ts, df_comparison.close_AAVE)\n",
    "fig"
   ]
  },
  {
   "cell_type": "code",
   "execution_count": null,
   "metadata": {},
   "outputs": [],
   "source": [
    "axes[1].plot(df_comparison.ts, df_comparison.close_SOL)\n",
    "axes[1].set_xlabel('ts')\n",
    "axes[1].set_ylabel('priceUSD')\n",
    "fig"
   ]
  },
  {
   "cell_type": "code",
   "execution_count": null,
   "metadata": {},
   "outputs": [],
   "source": [
    "axes[0].set_title('my left chart')\n",
    "fig"
   ]
  },
  {
   "cell_type": "markdown",
   "metadata": {},
   "source": [
    "From this we can see that the fig can be rendered anywhere, and that we will not \"flush\" the object upon rendering.  We can also pass any individual axes object to a function to easily add data and change styling"
   ]
  },
  {
   "cell_type": "markdown",
   "metadata": {},
   "source": [
    "Lastly, let's take a look at how pandas plotting works with matplotlib subplots.  Right now the way we've been using pandas plotting is similar to the procedural way, where we expect rendering to happen in place.  However, we can pass the axes that we want to render the plot to into the plot function, e.g.:"
   ]
  },
  {
   "cell_type": "code",
   "execution_count": null,
   "metadata": {},
   "outputs": [],
   "source": [
    "fig, axes = plt.subplots(nrows=2, ncols=2, figsize=(15, 10))"
   ]
  },
  {
   "cell_type": "markdown",
   "metadata": {},
   "source": [
    "**note** this time, we've specified a 2d array, so we will need to access the axes via [row, col]"
   ]
  },
  {
   "cell_type": "code",
   "execution_count": null,
   "metadata": {},
   "outputs": [],
   "source": [
    "axes"
   ]
  },
  {
   "cell_type": "code",
   "execution_count": null,
   "metadata": {},
   "outputs": [],
   "source": [
    "df_btc_close[['close']].plot(ax=axes[0, 0])\n",
    "fig"
   ]
  },
  {
   "cell_type": "code",
   "execution_count": null,
   "metadata": {},
   "outputs": [],
   "source": [
    "market_caps.head(n=10).set_index('Symbol')[['MarketCap', 'Price']].plot(kind='bar', secondary_y='Price', ax=axes[0, 1])\n",
    "fig"
   ]
  },
  {
   "cell_type": "code",
   "execution_count": null,
   "metadata": {},
   "outputs": [],
   "source": [
    "lag_plot(df_comparison.close_SOL, ax=axes[1, 0])\n",
    "fig"
   ]
  },
  {
   "cell_type": "code",
   "execution_count": null,
   "metadata": {},
   "outputs": [],
   "source": [
    "autocorrelation_plot(df_comparison.close_SOL, ax=axes[1, 1])\n",
    "fig"
   ]
  },
  {
   "cell_type": "markdown",
   "metadata": {},
   "source": [
    "With the above, you can encapsulate your chart logic into a library, return a chart and do whatever you'd like with it, e.g.:"
   ]
  },
  {
   "cell_type": "code",
   "execution_count": null,
   "metadata": {},
   "outputs": [],
   "source": [
    "def charter(crypto_data):\n",
    "    fig, axes = plt.subplots(nrows=2, ncols=2, figsize=(15, 10))\n",
    "    \n",
    "    crypto_data.close_BTC.plot(ax=axes[0, 0])\n",
    "    crypto_data.plot(ax=axes[0, 1])\n",
    "    lag_plot(crypto_data.close_SOL, ax=axes[1, 0])\n",
    "    autocorrelation_plot(crypto_data.close_SOL, ax=axes[1, 1])\n",
    "    \n",
    "    return fig, axes\n"
   ]
  },
  {
   "cell_type": "code",
   "execution_count": null,
   "metadata": {},
   "outputs": [],
   "source": [
    "crypto_chart, _ = charter(df_comparison)\n",
    "crypto_chart.savefig('crypto_chart.png')"
   ]
  },
  {
   "cell_type": "markdown",
   "metadata": {},
   "source": []
  }
 ],
 "metadata": {
  "kernelspec": {
   "display_name": "Python 3",
   "language": "python",
   "name": "python3"
  },
  "language_info": {
   "codemirror_mode": {
    "name": "ipython",
    "version": 3
   },
   "file_extension": ".py",
   "mimetype": "text/x-python",
   "name": "python",
   "nbconvert_exporter": "python",
   "pygments_lexer": "ipython3",
   "version": "3.7.4"
  }
 },
 "nbformat": 4,
 "nbformat_minor": 5
}
